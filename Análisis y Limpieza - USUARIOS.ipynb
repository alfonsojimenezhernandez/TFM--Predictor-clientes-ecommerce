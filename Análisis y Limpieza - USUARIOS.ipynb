{
 "cells": [
  {
   "cell_type": "markdown",
   "id": "arranged-charity",
   "metadata": {},
   "source": [
    "# TFM - Predicción potenciales compradores de un ecommerce"
   ]
  },
  {
   "cell_type": "markdown",
   "id": "planned-solid",
   "metadata": {},
   "source": [
    "Este trabajo, está principalmente enfocado a la creación de un modelo de predicción de potenciales compradores en un ecommerce real relacionado con el mundo empresarial.\n",
    "\n",
    "Se trata de realizar una clasificación de visitantes a una web de venta online en función de los datos que se han almacenado de ellos y establecer su nivel potencial de compra.\n",
    "\n",
    "Para ello se dispone de diferentes repositorios con datos históricos relativos a:\n",
    "* características básicas del registro/lead: fecha registro, procedencia, marca de comprador, cuando compró.\n",
    "* características identificativas anonimizadas de los mismos: email, ubicación geográfica, tipo de persona.\n",
    "* log de sus movimientos/navegación en la web.\n",
    "* información sobre los productos que ha comprado.\n",
    "\n",
    "**Información relevante del negocio**\n",
    "\n",
    "Los datos proceden de un ecommerce con sede en Colombia que se dedica a la venta de productos relacionados con la información de empresas del país: Informes Comerciales y módulos de información detallada sobre Datos Financieros, Prensa, Administradores, Incidencias, etc, Informes Sectoriales, Base de datos a medida, Productos de Marketing (mercadeo), Información de accionistas, Información de proveedores y clientes, etc.\n",
    "\n",
    "Los usuarios potenciales compradores (personas en su nombre o representando a una empresa u otra entidad), llegan a la web del ecommerce por diferentes canales: directorios propios, webs de terceros, desde buscadores por labores de SEO y de SEM, etc.  \n",
    "\n",
    "Dichos usuarios tienen acceso a diferentes productos de menor contenido a cambio de registrarse en un formulario del site, en el que cumplimentan datos personales, email, teléfono, profesión, etc. El usuario pasa a ser Registrado, y es lo que en el mundo del ecommerce se denomina “lead”.  \n",
    "\n",
    "Tras el registro se permite el acceso a información muy básica sobre las empresas buscadas (Ficha de empresa), y se otorga la posibilidad de consumir gratis 5 productos de información a los que llamamos perfiles de empresa.  \n",
    "\n",
    "La oferta caduca a los 30 días.  \n",
    "\n",
    "El Perfil de empresa es un producto con contenido básico y su objetivo es mostrar a los potenciales compradores el nivel del contenido de los productos que suministra el ecommerce.  \n",
    "\n",
    "Resumiendo, la dinámica es la siguiente:\n",
    "* Un usuario busca una empresa en internet o en la web.\n",
    "* Al seleccionar una de las listadas en la búsqueda, se presenta una Ficha (Identificación) y se crea un registro en el log. Se muestra los productos disponibles para consumir.  \n",
    "    * Productos Promocionales (Perfil de Empresa). Para usuarios Registrados, si el Usuario se registra.\n",
    "    * Resto de Productos son de Pago. Es necesario estar registrado y pagar.\n",
    "* El usuario consume un producto (registro en el log) o vuelve a buscar otra empresa.  \n",
    "\n",
    "Si el usuario Registrado está interesado en conocer más a fondo una empresa o un determinado producto de pago, se le ofrece la posibilidad de contratación:  \n",
    "* PPV: Compra puntual del producto\n",
    "* Bonos: compra de un conjunto de unidades o una cantidad de productos a cambio de un pago anticipado.\n",
    "* Suscripción: pagando una cantidad periodica permite el acceso y consumo de productos, limitado por el volumen de compra y por la fecha de caducidad de la suscripción\n",
    "\n",
    "Cuando se produce una de estas contrataciones el usuario “Registrado”, pasa a ser “Cliente”.\n",
    "\n",
    "El propietario del ecommerce tiene información del usuario de su plataforma de Google Analytics que utiliza para la captación en internet, uso de cookies, estrategias de SEO y SEM, acuerdos con portales.  \n",
    "\n",
    "Ahora desea dar un paso más y quiere conocer más sobre los usuarios registrados para determinar la probabilidad de conversión a cliente. Saber cuáles son potenciales compradores a partir de los datos de ese registro en sus sistemas, del hábito de consumo de productos, y del tipo de empresa buscada/consultada.  \n",
    "\n",
    "El conjunto de datos está muy desbalanceado por ello es muy importante determinar a qué usuarios registrados debe dirigir el ecommerce sus campañas de captación.  \n",
    "\n",
    "Por otra parte, pero relacionado con el mismo tema, desean saber que perfil tienen sus clientes y que variables son las mas influyentes/relevantes en la predicción de compra para modificar la estrategia de marketing y su posicionamiento en Internet.  \n"
   ]
  },
  {
   "cell_type": "markdown",
   "id": "signed-brain",
   "metadata": {},
   "source": [
    "---------------------"
   ]
  },
  {
   "cell_type": "markdown",
   "id": "ready-packet",
   "metadata": {},
   "source": [
    "## Análisis y limpieza\n",
    "\n",
    "En el siguiente notebook se realizará un análisis exploratorio de la información, tanto el fichero de usuarios como el de consumos."
   ]
  },
  {
   "cell_type": "markdown",
   "id": "passing-burton",
   "metadata": {},
   "source": [
    "### Modelo de Datos - USUARIOS"
   ]
  },
  {
   "cell_type": "markdown",
   "id": "little-foundation",
   "metadata": {},
   "source": [
    "* **ID_USUARIO**: Id Único de Usuario (Ej: 8107310)\n",
    "* **TIPOUSUARIO**: Tipo de Usuario: \n",
    "    + PJ = Persona Jurídica\n",
    "    + PF = Persona Física/Persona Natural \n",
    "    + PX = Puede ser PJ pero no es seguro\n",
    "* **FECHA_REGISTRO**: Fecha de Registro del Usuario\n",
    "* **CANAL_REGISTRO**: Canal de Registro del Usuario (Ej: 3)\n",
    "* **IND_CLIENTE**: Indicador de Cliente. Variable Target dicotómica, 1 = Compra, es cliente.\n",
    "* **IND_ALTA**: Indicador de Alta. Antes de ir a la pasarela de pago para comprar se marca este valor. Dicotómica (1 o 0).\n",
    "* **FECHA_ALTA**: Fecha del Indicador de Alta.\n",
    "* **FECHA_CLIENTE**: Fecha en la que el Usuario se convierte a Cliente.\n",
    "* **TIPOEMAIL**: Tipo de email del Usuario.\n",
    "* **BONDAD_EMAIL**: Bondad/Ponderación del email, resultado de campañas de emailing: \n",
    "    + 20= Verde (OK) \n",
    "    + 9 = Naranja (Ha dado un error temporal pero seguimos enviando) \n",
    "    + 1 = SPAM \n",
    "    + 0 = Rojo (Invalido) \n",
    "    + -10 = Dominio invalido (invalido) \n",
    "    + -20 = No email\n",
    "* **USU_TELF**: Teléfono del Usuario, anonimizado. 5 últimas cifras ofuscadas. (Ej: 233XXXXX)\n",
    "* **IPCASOS**: Número de Usuarios que utilizan la misma IP.\n",
    "* **IP_Country**: País del Usuario a partir de su IP.\n",
    "* **IP_Region**: Región del Usuario a partir de su IP\n",
    "* **USU_TIPO**: Tipología de empresa si TIPOUSUARIO = PJ\n",
    "* **USU_TAMANIO**: Tamaño de la Compañía del Usuario si TIPOUSUARIO = PJ \n",
    "    + GR - Grande \n",
    "    + MD - Mediana \n",
    "    + PQ - Pequeña \n",
    "    + MC - Micro \n",
    "    + SD - Sin Definir\n",
    "* **USU_CIIU**: Código de Actividad CIIU si TIPOUSUARIO = PJ. Detalle en https://www.dane.gov.co/files/sen/nomenclatura/ciiu/CIIURev3AC.pdf\n",
    "* **USU_ESTADO**: Estado/Situación de la Compañía, si TIPOUSUARIO = PJ.\n",
    "* **USU_DEPARTAMENTO**: Departamento/Provincia de la Sede del Usuario si TIPOUSUARIO = PJ. Ver https://es.wikipedia.org/wiki/Departamentos_de_Colombia"
   ]
  },
  {
   "cell_type": "markdown",
   "id": "opening-brand",
   "metadata": {},
   "source": [
    "### Librerías"
   ]
  },
  {
   "cell_type": "code",
   "execution_count": 1,
   "id": "threatened-korea",
   "metadata": {},
   "outputs": [],
   "source": [
    "import pandas as pd\n",
    "from pandas_profiling import ProfileReport\n",
    "\n",
    "import warnings\n",
    "warnings.filterwarnings(\"ignore\")\n",
    "\n",
    "pd.set_option('display.max_columns', 200)\n",
    "# pd.options.display.max_columns"
   ]
  },
  {
   "cell_type": "markdown",
   "id": "outdoor-picture",
   "metadata": {},
   "source": [
    "------------------"
   ]
  },
  {
   "cell_type": "markdown",
   "id": "lesser-communist",
   "metadata": {},
   "source": [
    "------------------"
   ]
  },
  {
   "cell_type": "markdown",
   "id": "accomplished-marble",
   "metadata": {},
   "source": [
    "### Dataset - Usuarios\n",
    "\n",
    "Leemos la información"
   ]
  },
  {
   "cell_type": "code",
   "execution_count": 2,
   "id": "collected-marina",
   "metadata": {},
   "outputs": [],
   "source": [
    "df_user = pd.read_csv('Data/Usuarios.txt', sep = ';', encoding = 'ISO-8859-1')"
   ]
  },
  {
   "cell_type": "code",
   "execution_count": 3,
   "id": "rough-infrared",
   "metadata": {},
   "outputs": [
    {
     "data": {
      "text/html": [
       "<div>\n",
       "<style scoped>\n",
       "    .dataframe tbody tr th:only-of-type {\n",
       "        vertical-align: middle;\n",
       "    }\n",
       "\n",
       "    .dataframe tbody tr th {\n",
       "        vertical-align: top;\n",
       "    }\n",
       "\n",
       "    .dataframe thead th {\n",
       "        text-align: right;\n",
       "    }\n",
       "</style>\n",
       "<table border=\"1\" class=\"dataframe\">\n",
       "  <thead>\n",
       "    <tr style=\"text-align: right;\">\n",
       "      <th></th>\n",
       "      <th>ID_USUARIO</th>\n",
       "      <th>TIPOUSUARIO</th>\n",
       "      <th>FECHA_REGISTRO</th>\n",
       "      <th>CANAL_REGISTRO</th>\n",
       "      <th>IND_CLIENTE</th>\n",
       "      <th>IND_ALTA</th>\n",
       "      <th>FECHA_ALTA</th>\n",
       "      <th>FECHA_CLIENTE</th>\n",
       "      <th>TIPOEMAIL</th>\n",
       "      <th>BONDAD_EMAIL</th>\n",
       "      <th>USU_TELF</th>\n",
       "      <th>IPCASOS</th>\n",
       "      <th>IP_Country</th>\n",
       "      <th>IP_Region</th>\n",
       "      <th>USU_TIPO</th>\n",
       "      <th>USU_TAMANIO</th>\n",
       "      <th>USU_CIIU</th>\n",
       "      <th>USU_ESTADO</th>\n",
       "      <th>USU_DEPARTAMENTO</th>\n",
       "    </tr>\n",
       "  </thead>\n",
       "  <tbody>\n",
       "    <tr>\n",
       "      <th>0</th>\n",
       "      <td>8107310</td>\n",
       "      <td>PF</td>\n",
       "      <td>22/10/2019 0:00:00</td>\n",
       "      <td>3.0</td>\n",
       "      <td>0</td>\n",
       "      <td>0</td>\n",
       "      <td>NaN</td>\n",
       "      <td>NaN</td>\n",
       "      <td>GOOHOTYAHMAIL</td>\n",
       "      <td>0</td>\n",
       "      <td>233XXXXX</td>\n",
       "      <td>1</td>\n",
       "      <td>Colombia</td>\n",
       "      <td>Valle del Cauca</td>\n",
       "      <td>NaN</td>\n",
       "      <td>NaN</td>\n",
       "      <td>NaN</td>\n",
       "      <td>NaN</td>\n",
       "      <td>NaN</td>\n",
       "    </tr>\n",
       "    <tr>\n",
       "      <th>1</th>\n",
       "      <td>7784565</td>\n",
       "      <td>PJ</td>\n",
       "      <td>14/5/2019 0:00:00</td>\n",
       "      <td>3.0</td>\n",
       "      <td>0</td>\n",
       "      <td>0</td>\n",
       "      <td>NaN</td>\n",
       "      <td>NaN</td>\n",
       "      <td>GOOHOTYAHMAIL</td>\n",
       "      <td>20</td>\n",
       "      <td>633XXXXX</td>\n",
       "      <td>1</td>\n",
       "      <td>Colombia</td>\n",
       "      <td>Antioquia</td>\n",
       "      <td>SOCIEDAD COMERCIAL/INDUSTRIAL</td>\n",
       "      <td>PQ</td>\n",
       "      <td>N7820</td>\n",
       "      <td>ACTIVA</td>\n",
       "      <td>QUINDIO</td>\n",
       "    </tr>\n",
       "    <tr>\n",
       "      <th>2</th>\n",
       "      <td>7718778</td>\n",
       "      <td>PJ</td>\n",
       "      <td>9/4/2019 0:00:00</td>\n",
       "      <td>7.0</td>\n",
       "      <td>0</td>\n",
       "      <td>0</td>\n",
       "      <td>NaN</td>\n",
       "      <td>NaN</td>\n",
       "      <td>GOOHOTYAHMAIL</td>\n",
       "      <td>20</td>\n",
       "      <td>533XXXXX</td>\n",
       "      <td>1</td>\n",
       "      <td>Colombia</td>\n",
       "      <td>Bolivar</td>\n",
       "      <td>SOCIEDAD COMERCIAL/INDUSTRIAL</td>\n",
       "      <td>MC</td>\n",
       "      <td>G4774</td>\n",
       "      <td>ACTIVA</td>\n",
       "      <td>ATLANTICO</td>\n",
       "    </tr>\n",
       "    <tr>\n",
       "      <th>3</th>\n",
       "      <td>7952765</td>\n",
       "      <td>PX</td>\n",
       "      <td>12/8/2019 0:00:00</td>\n",
       "      <td>3.0</td>\n",
       "      <td>0</td>\n",
       "      <td>0</td>\n",
       "      <td>NaN</td>\n",
       "      <td>NaN</td>\n",
       "      <td>DOCENTE</td>\n",
       "      <td>20</td>\n",
       "      <td>633XXXXX</td>\n",
       "      <td>1</td>\n",
       "      <td>Colombia</td>\n",
       "      <td>Risaralda</td>\n",
       "      <td>NaN</td>\n",
       "      <td>NaN</td>\n",
       "      <td>NaN</td>\n",
       "      <td>NaN</td>\n",
       "      <td>NaN</td>\n",
       "    </tr>\n",
       "    <tr>\n",
       "      <th>4</th>\n",
       "      <td>7855424</td>\n",
       "      <td>PJ</td>\n",
       "      <td>21/6/2019 0:00:00</td>\n",
       "      <td>7.0</td>\n",
       "      <td>0</td>\n",
       "      <td>0</td>\n",
       "      <td>NaN</td>\n",
       "      <td>NaN</td>\n",
       "      <td>GOOHOTYAHMAIL</td>\n",
       "      <td>20</td>\n",
       "      <td>533XXXXX</td>\n",
       "      <td>1</td>\n",
       "      <td>Colombia</td>\n",
       "      <td>Atlántico</td>\n",
       "      <td>EMPRESARIO INDIVIDUAL</td>\n",
       "      <td>MC</td>\n",
       "      <td>N8299</td>\n",
       "      <td>CANCELACIÓN</td>\n",
       "      <td>ATLANTICO</td>\n",
       "    </tr>\n",
       "  </tbody>\n",
       "</table>\n",
       "</div>"
      ],
      "text/plain": [
       "   ID_USUARIO TIPOUSUARIO      FECHA_REGISTRO  CANAL_REGISTRO  IND_CLIENTE  \\\n",
       "0     8107310          PF  22/10/2019 0:00:00             3.0            0   \n",
       "1     7784565          PJ   14/5/2019 0:00:00             3.0            0   \n",
       "2     7718778          PJ    9/4/2019 0:00:00             7.0            0   \n",
       "3     7952765          PX   12/8/2019 0:00:00             3.0            0   \n",
       "4     7855424          PJ   21/6/2019 0:00:00             7.0            0   \n",
       "\n",
       "   IND_ALTA FECHA_ALTA FECHA_CLIENTE      TIPOEMAIL  BONDAD_EMAIL  USU_TELF  \\\n",
       "0         0        NaN           NaN  GOOHOTYAHMAIL             0  233XXXXX   \n",
       "1         0        NaN           NaN  GOOHOTYAHMAIL            20  633XXXXX   \n",
       "2         0        NaN           NaN  GOOHOTYAHMAIL            20  533XXXXX   \n",
       "3         0        NaN           NaN        DOCENTE            20  633XXXXX   \n",
       "4         0        NaN           NaN  GOOHOTYAHMAIL            20  533XXXXX   \n",
       "\n",
       "   IPCASOS IP_Country        IP_Region                       USU_TIPO  \\\n",
       "0        1   Colombia  Valle del Cauca                            NaN   \n",
       "1        1   Colombia        Antioquia  SOCIEDAD COMERCIAL/INDUSTRIAL   \n",
       "2        1   Colombia          Bolivar  SOCIEDAD COMERCIAL/INDUSTRIAL   \n",
       "3        1   Colombia        Risaralda                            NaN   \n",
       "4        1   Colombia        Atlántico          EMPRESARIO INDIVIDUAL   \n",
       "\n",
       "  USU_TAMANIO USU_CIIU   USU_ESTADO USU_DEPARTAMENTO  \n",
       "0         NaN      NaN          NaN              NaN  \n",
       "1          PQ    N7820       ACTIVA          QUINDIO  \n",
       "2          MC    G4774       ACTIVA        ATLANTICO  \n",
       "3         NaN      NaN          NaN              NaN  \n",
       "4          MC    N8299  CANCELACIÓN        ATLANTICO  "
      ]
     },
     "execution_count": 3,
     "metadata": {},
     "output_type": "execute_result"
    }
   ],
   "source": [
    "df_user.head()"
   ]
  },
  {
   "cell_type": "markdown",
   "id": "spectacular-magazine",
   "metadata": {},
   "source": [
    "Realizamos un informe conpandas profiling para obtener un análisis previo aproximado."
   ]
  },
  {
   "cell_type": "code",
   "execution_count": 4,
   "id": "hungry-spain",
   "metadata": {},
   "outputs": [
    {
     "data": {
      "application/vnd.jupyter.widget-view+json": {
       "model_id": "43b35ff067d34715bfe1c4006d5fac76",
       "version_major": 2,
       "version_minor": 0
      },
      "text/plain": [
       "Summarize dataset:   0%|          | 0/33 [00:00<?, ?it/s]"
      ]
     },
     "metadata": {},
     "output_type": "display_data"
    },
    {
     "data": {
      "application/vnd.jupyter.widget-view+json": {
       "model_id": "83c6d5e6e6694c5c9dd3c553f894f3e0",
       "version_major": 2,
       "version_minor": 0
      },
      "text/plain": [
       "Generate report structure:   0%|          | 0/1 [00:00<?, ?it/s]"
      ]
     },
     "metadata": {},
     "output_type": "display_data"
    },
    {
     "data": {
      "application/vnd.jupyter.widget-view+json": {
       "model_id": "89c099cf5e1a46d2905966d0978e04ce",
       "version_major": 2,
       "version_minor": 0
      },
      "text/plain": [
       "Render HTML:   0%|          | 0/1 [00:00<?, ?it/s]"
      ]
     },
     "metadata": {},
     "output_type": "display_data"
    },
    {
     "data": {
      "application/vnd.jupyter.widget-view+json": {
       "model_id": "dd3077b0e8e1488d99dd7cea632fc058",
       "version_major": 2,
       "version_minor": 0
      },
      "text/plain": [
       "Export report to file:   0%|          | 0/1 [00:00<?, ?it/s]"
      ]
     },
     "metadata": {},
     "output_type": "display_data"
    }
   ],
   "source": [
    "profile = ProfileReport(df_user)\n",
    "profile.to_file('report_user.html')"
   ]
  },
  {
   "cell_type": "markdown",
   "id": "animal-rough",
   "metadata": {},
   "source": [
    "------------------"
   ]
  },
  {
   "cell_type": "markdown",
   "id": "nuclear-testimony",
   "metadata": {},
   "source": [
    "------------------"
   ]
  },
  {
   "cell_type": "markdown",
   "id": "incident-validation",
   "metadata": {},
   "source": [
    "### Tipo de variables"
   ]
  },
  {
   "cell_type": "markdown",
   "id": "exempt-hudson",
   "metadata": {},
   "source": [
    "Las primeras transformaciones que se realizarán, serán sobre los formatos de las variables. Se asignará el formato correcto a cada variable en función de la descripción que se tiene de cada variabable."
   ]
  },
  {
   "cell_type": "code",
   "execution_count": 5,
   "id": "radical-threat",
   "metadata": {},
   "outputs": [
    {
     "data": {
      "text/plain": [
       "ID_USUARIO            int64\n",
       "TIPOUSUARIO          object\n",
       "FECHA_REGISTRO       object\n",
       "CANAL_REGISTRO      float64\n",
       "IND_CLIENTE           int64\n",
       "IND_ALTA              int64\n",
       "FECHA_ALTA           object\n",
       "FECHA_CLIENTE        object\n",
       "TIPOEMAIL            object\n",
       "BONDAD_EMAIL          int64\n",
       "USU_TELF             object\n",
       "IPCASOS               int64\n",
       "IP_Country           object\n",
       "IP_Region            object\n",
       "USU_TIPO             object\n",
       "USU_TAMANIO          object\n",
       "USU_CIIU             object\n",
       "USU_ESTADO           object\n",
       "USU_DEPARTAMENTO     object\n",
       "dtype: object"
      ]
     },
     "execution_count": 5,
     "metadata": {},
     "output_type": "execute_result"
    }
   ],
   "source": [
    "df_user.dtypes"
   ]
  },
  {
   "cell_type": "markdown",
   "id": "purple-librarian",
   "metadata": {},
   "source": [
    "Tras observar los diferentes tipos de variables se concluye que hay que transformar las siguientes variables:\n",
    "* **FECHA_REGISTRO**: string ---> date\n",
    "* **CANAL_REGISTRO**: float ----> int\n",
    "* **FECHA_ALTA**: string -------> date\n",
    "* **FECHA_CLIENTE**: string ----> date"
   ]
  },
  {
   "cell_type": "markdown",
   "id": "lyric-language",
   "metadata": {},
   "source": [
    "**1. Fechas**"
   ]
  },
  {
   "cell_type": "code",
   "execution_count": 6,
   "id": "processed-cambridge",
   "metadata": {},
   "outputs": [],
   "source": [
    "# Fecha\n",
    "df_user['FECHA_REGISTRO'] = pd.to_datetime(df_user['FECHA_REGISTRO'])\n",
    "df_user['FECHA_ALTA'] = pd.to_datetime(df_user['FECHA_ALTA'])\n",
    "df_user['FECHA_CLIENTE'] = pd.to_datetime(df_user['FECHA_CLIENTE'])"
   ]
  },
  {
   "cell_type": "markdown",
   "id": "weird-shield",
   "metadata": {},
   "source": [
    "**2. Canal de registro**"
   ]
  },
  {
   "cell_type": "markdown",
   "id": "backed-topic",
   "metadata": {},
   "source": [
    "Antes de convertir a int, es necesario convertir los registros nulos a un valor válido. Usaremos el 5."
   ]
  },
  {
   "cell_type": "code",
   "execution_count": 7,
   "id": "significant-american",
   "metadata": {},
   "outputs": [
    {
     "data": {
      "text/plain": [
       "7536"
      ]
     },
     "execution_count": 7,
     "metadata": {},
     "output_type": "execute_result"
    }
   ],
   "source": [
    "df_user['CANAL_REGISTRO'].isna().sum()"
   ]
  },
  {
   "cell_type": "code",
   "execution_count": 8,
   "id": "continuing-tactics",
   "metadata": {},
   "outputs": [
    {
     "data": {
      "text/plain": [
       "array([ 3.,  7.,  2.,  9.,  8.,  1.,  4., nan,  6.])"
      ]
     },
     "execution_count": 8,
     "metadata": {},
     "output_type": "execute_result"
    }
   ],
   "source": [
    "df_user['CANAL_REGISTRO'].unique()"
   ]
  },
  {
   "cell_type": "code",
   "execution_count": 9,
   "id": "periodic-equilibrium",
   "metadata": {},
   "outputs": [
    {
     "data": {
      "text/plain": [
       "3.0    119030\n",
       "2.0     84651\n",
       "8.0     47731\n",
       "7.0     37189\n",
       "1.0     36625\n",
       "4.0     16523\n",
       "6.0     12190\n",
       "NaN      7536\n",
       "9.0      6745\n",
       "Name: CANAL_REGISTRO, dtype: int64"
      ]
     },
     "execution_count": 9,
     "metadata": {},
     "output_type": "execute_result"
    }
   ],
   "source": [
    "df_user['CANAL_REGISTRO'].value_counts(dropna = False)"
   ]
  },
  {
   "cell_type": "code",
   "execution_count": 10,
   "id": "grave-tractor",
   "metadata": {},
   "outputs": [],
   "source": [
    "df_user['CANAL_REGISTRO'][df_user['CANAL_REGISTRO'].isna() == True] = 5"
   ]
  },
  {
   "cell_type": "markdown",
   "id": "chinese-cancer",
   "metadata": {},
   "source": [
    "Comprobamos"
   ]
  },
  {
   "cell_type": "code",
   "execution_count": 11,
   "id": "coordinated-trial",
   "metadata": {},
   "outputs": [
    {
     "data": {
      "text/plain": [
       "0"
      ]
     },
     "execution_count": 11,
     "metadata": {},
     "output_type": "execute_result"
    }
   ],
   "source": [
    "df_user['CANAL_REGISTRO'].isna().sum()"
   ]
  },
  {
   "cell_type": "code",
   "execution_count": 12,
   "id": "compressed-receiver",
   "metadata": {},
   "outputs": [
    {
     "data": {
      "text/plain": [
       "array([3., 7., 2., 9., 8., 1., 4., 5., 6.])"
      ]
     },
     "execution_count": 12,
     "metadata": {},
     "output_type": "execute_result"
    }
   ],
   "source": [
    "df_user['CANAL_REGISTRO'].unique()"
   ]
  },
  {
   "cell_type": "code",
   "execution_count": 13,
   "id": "nervous-acting",
   "metadata": {},
   "outputs": [
    {
     "data": {
      "text/plain": [
       "3.0    119030\n",
       "2.0     84651\n",
       "8.0     47731\n",
       "7.0     37189\n",
       "1.0     36625\n",
       "4.0     16523\n",
       "6.0     12190\n",
       "5.0      7536\n",
       "9.0      6745\n",
       "Name: CANAL_REGISTRO, dtype: int64"
      ]
     },
     "execution_count": 13,
     "metadata": {},
     "output_type": "execute_result"
    }
   ],
   "source": [
    "df_user['CANAL_REGISTRO'].value_counts()"
   ]
  },
  {
   "cell_type": "markdown",
   "id": "pending-certification",
   "metadata": {},
   "source": [
    "Realizamos la conversión de tipo de variable"
   ]
  },
  {
   "cell_type": "code",
   "execution_count": 14,
   "id": "popular-attendance",
   "metadata": {},
   "outputs": [],
   "source": [
    "df_user['CANAL_REGISTRO'] = df_user['CANAL_REGISTRO'].astype('int')"
   ]
  },
  {
   "cell_type": "markdown",
   "id": "dense-proof",
   "metadata": {},
   "source": [
    "Comprobamos la conversión de los tipos de variables"
   ]
  },
  {
   "cell_type": "code",
   "execution_count": 15,
   "id": "liked-burns",
   "metadata": {},
   "outputs": [
    {
     "data": {
      "text/plain": [
       "ID_USUARIO                   int64\n",
       "TIPOUSUARIO                 object\n",
       "FECHA_REGISTRO      datetime64[ns]\n",
       "CANAL_REGISTRO               int32\n",
       "IND_CLIENTE                  int64\n",
       "IND_ALTA                     int64\n",
       "FECHA_ALTA          datetime64[ns]\n",
       "FECHA_CLIENTE       datetime64[ns]\n",
       "TIPOEMAIL                   object\n",
       "BONDAD_EMAIL                 int64\n",
       "USU_TELF                    object\n",
       "IPCASOS                      int64\n",
       "IP_Country                  object\n",
       "IP_Region                   object\n",
       "USU_TIPO                    object\n",
       "USU_TAMANIO                 object\n",
       "USU_CIIU                    object\n",
       "USU_ESTADO                  object\n",
       "USU_DEPARTAMENTO            object\n",
       "dtype: object"
      ]
     },
     "execution_count": 15,
     "metadata": {},
     "output_type": "execute_result"
    }
   ],
   "source": [
    "df_user.dtypes"
   ]
  },
  {
   "cell_type": "code",
   "execution_count": 16,
   "id": "alternative-location",
   "metadata": {},
   "outputs": [
    {
     "data": {
      "text/html": [
       "<div>\n",
       "<style scoped>\n",
       "    .dataframe tbody tr th:only-of-type {\n",
       "        vertical-align: middle;\n",
       "    }\n",
       "\n",
       "    .dataframe tbody tr th {\n",
       "        vertical-align: top;\n",
       "    }\n",
       "\n",
       "    .dataframe thead th {\n",
       "        text-align: right;\n",
       "    }\n",
       "</style>\n",
       "<table border=\"1\" class=\"dataframe\">\n",
       "  <thead>\n",
       "    <tr style=\"text-align: right;\">\n",
       "      <th></th>\n",
       "      <th>ID_USUARIO</th>\n",
       "      <th>TIPOUSUARIO</th>\n",
       "      <th>FECHA_REGISTRO</th>\n",
       "      <th>CANAL_REGISTRO</th>\n",
       "      <th>IND_CLIENTE</th>\n",
       "      <th>IND_ALTA</th>\n",
       "      <th>FECHA_ALTA</th>\n",
       "      <th>FECHA_CLIENTE</th>\n",
       "      <th>TIPOEMAIL</th>\n",
       "      <th>BONDAD_EMAIL</th>\n",
       "      <th>USU_TELF</th>\n",
       "      <th>IPCASOS</th>\n",
       "      <th>IP_Country</th>\n",
       "      <th>IP_Region</th>\n",
       "      <th>USU_TIPO</th>\n",
       "      <th>USU_TAMANIO</th>\n",
       "      <th>USU_CIIU</th>\n",
       "      <th>USU_ESTADO</th>\n",
       "      <th>USU_DEPARTAMENTO</th>\n",
       "    </tr>\n",
       "  </thead>\n",
       "  <tbody>\n",
       "    <tr>\n",
       "      <th>0</th>\n",
       "      <td>8107310</td>\n",
       "      <td>PF</td>\n",
       "      <td>2019-10-22</td>\n",
       "      <td>3</td>\n",
       "      <td>0</td>\n",
       "      <td>0</td>\n",
       "      <td>NaT</td>\n",
       "      <td>NaT</td>\n",
       "      <td>GOOHOTYAHMAIL</td>\n",
       "      <td>0</td>\n",
       "      <td>233XXXXX</td>\n",
       "      <td>1</td>\n",
       "      <td>Colombia</td>\n",
       "      <td>Valle del Cauca</td>\n",
       "      <td>NaN</td>\n",
       "      <td>NaN</td>\n",
       "      <td>NaN</td>\n",
       "      <td>NaN</td>\n",
       "      <td>NaN</td>\n",
       "    </tr>\n",
       "    <tr>\n",
       "      <th>1</th>\n",
       "      <td>7784565</td>\n",
       "      <td>PJ</td>\n",
       "      <td>2019-05-14</td>\n",
       "      <td>3</td>\n",
       "      <td>0</td>\n",
       "      <td>0</td>\n",
       "      <td>NaT</td>\n",
       "      <td>NaT</td>\n",
       "      <td>GOOHOTYAHMAIL</td>\n",
       "      <td>20</td>\n",
       "      <td>633XXXXX</td>\n",
       "      <td>1</td>\n",
       "      <td>Colombia</td>\n",
       "      <td>Antioquia</td>\n",
       "      <td>SOCIEDAD COMERCIAL/INDUSTRIAL</td>\n",
       "      <td>PQ</td>\n",
       "      <td>N7820</td>\n",
       "      <td>ACTIVA</td>\n",
       "      <td>QUINDIO</td>\n",
       "    </tr>\n",
       "    <tr>\n",
       "      <th>2</th>\n",
       "      <td>7718778</td>\n",
       "      <td>PJ</td>\n",
       "      <td>2019-09-04</td>\n",
       "      <td>7</td>\n",
       "      <td>0</td>\n",
       "      <td>0</td>\n",
       "      <td>NaT</td>\n",
       "      <td>NaT</td>\n",
       "      <td>GOOHOTYAHMAIL</td>\n",
       "      <td>20</td>\n",
       "      <td>533XXXXX</td>\n",
       "      <td>1</td>\n",
       "      <td>Colombia</td>\n",
       "      <td>Bolivar</td>\n",
       "      <td>SOCIEDAD COMERCIAL/INDUSTRIAL</td>\n",
       "      <td>MC</td>\n",
       "      <td>G4774</td>\n",
       "      <td>ACTIVA</td>\n",
       "      <td>ATLANTICO</td>\n",
       "    </tr>\n",
       "    <tr>\n",
       "      <th>3</th>\n",
       "      <td>7952765</td>\n",
       "      <td>PX</td>\n",
       "      <td>2019-12-08</td>\n",
       "      <td>3</td>\n",
       "      <td>0</td>\n",
       "      <td>0</td>\n",
       "      <td>NaT</td>\n",
       "      <td>NaT</td>\n",
       "      <td>DOCENTE</td>\n",
       "      <td>20</td>\n",
       "      <td>633XXXXX</td>\n",
       "      <td>1</td>\n",
       "      <td>Colombia</td>\n",
       "      <td>Risaralda</td>\n",
       "      <td>NaN</td>\n",
       "      <td>NaN</td>\n",
       "      <td>NaN</td>\n",
       "      <td>NaN</td>\n",
       "      <td>NaN</td>\n",
       "    </tr>\n",
       "    <tr>\n",
       "      <th>4</th>\n",
       "      <td>7855424</td>\n",
       "      <td>PJ</td>\n",
       "      <td>2019-06-21</td>\n",
       "      <td>7</td>\n",
       "      <td>0</td>\n",
       "      <td>0</td>\n",
       "      <td>NaT</td>\n",
       "      <td>NaT</td>\n",
       "      <td>GOOHOTYAHMAIL</td>\n",
       "      <td>20</td>\n",
       "      <td>533XXXXX</td>\n",
       "      <td>1</td>\n",
       "      <td>Colombia</td>\n",
       "      <td>Atlántico</td>\n",
       "      <td>EMPRESARIO INDIVIDUAL</td>\n",
       "      <td>MC</td>\n",
       "      <td>N8299</td>\n",
       "      <td>CANCELACIÓN</td>\n",
       "      <td>ATLANTICO</td>\n",
       "    </tr>\n",
       "  </tbody>\n",
       "</table>\n",
       "</div>"
      ],
      "text/plain": [
       "   ID_USUARIO TIPOUSUARIO FECHA_REGISTRO  CANAL_REGISTRO  IND_CLIENTE  \\\n",
       "0     8107310          PF     2019-10-22               3            0   \n",
       "1     7784565          PJ     2019-05-14               3            0   \n",
       "2     7718778          PJ     2019-09-04               7            0   \n",
       "3     7952765          PX     2019-12-08               3            0   \n",
       "4     7855424          PJ     2019-06-21               7            0   \n",
       "\n",
       "   IND_ALTA FECHA_ALTA FECHA_CLIENTE      TIPOEMAIL  BONDAD_EMAIL  USU_TELF  \\\n",
       "0         0        NaT           NaT  GOOHOTYAHMAIL             0  233XXXXX   \n",
       "1         0        NaT           NaT  GOOHOTYAHMAIL            20  633XXXXX   \n",
       "2         0        NaT           NaT  GOOHOTYAHMAIL            20  533XXXXX   \n",
       "3         0        NaT           NaT        DOCENTE            20  633XXXXX   \n",
       "4         0        NaT           NaT  GOOHOTYAHMAIL            20  533XXXXX   \n",
       "\n",
       "   IPCASOS IP_Country        IP_Region                       USU_TIPO  \\\n",
       "0        1   Colombia  Valle del Cauca                            NaN   \n",
       "1        1   Colombia        Antioquia  SOCIEDAD COMERCIAL/INDUSTRIAL   \n",
       "2        1   Colombia          Bolivar  SOCIEDAD COMERCIAL/INDUSTRIAL   \n",
       "3        1   Colombia        Risaralda                            NaN   \n",
       "4        1   Colombia        Atlántico          EMPRESARIO INDIVIDUAL   \n",
       "\n",
       "  USU_TAMANIO USU_CIIU   USU_ESTADO USU_DEPARTAMENTO  \n",
       "0         NaN      NaN          NaN              NaN  \n",
       "1          PQ    N7820       ACTIVA          QUINDIO  \n",
       "2          MC    G4774       ACTIVA        ATLANTICO  \n",
       "3         NaN      NaN          NaN              NaN  \n",
       "4          MC    N8299  CANCELACIÓN        ATLANTICO  "
      ]
     },
     "execution_count": 16,
     "metadata": {},
     "output_type": "execute_result"
    }
   ],
   "source": [
    "df_user.head()"
   ]
  },
  {
   "cell_type": "markdown",
   "id": "recovered-possible",
   "metadata": {},
   "source": [
    "------------------"
   ]
  },
  {
   "cell_type": "markdown",
   "id": "organized-qatar",
   "metadata": {},
   "source": [
    "------------------"
   ]
  },
  {
   "cell_type": "markdown",
   "id": "vulnerable-trader",
   "metadata": {},
   "source": [
    "### Duplicidad de la información\n",
    "\n",
    "Este dataset tiene la información a nivel cliente. Cada usuario debe ser un registro único. "
   ]
  },
  {
   "cell_type": "code",
   "execution_count": 17,
   "id": "considerable-typing",
   "metadata": {},
   "outputs": [
    {
     "data": {
      "text/plain": [
       "513"
      ]
     },
     "execution_count": 17,
     "metadata": {},
     "output_type": "execute_result"
    }
   ],
   "source": [
    "df_user.duplicated().sum()"
   ]
  },
  {
   "cell_type": "code",
   "execution_count": 18,
   "id": "built-abuse",
   "metadata": {},
   "outputs": [
    {
     "data": {
      "text/plain": [
       "(368220, 19)"
      ]
     },
     "execution_count": 18,
     "metadata": {},
     "output_type": "execute_result"
    }
   ],
   "source": [
    "df_user.shape"
   ]
  },
  {
   "cell_type": "code",
   "execution_count": 19,
   "id": "blocked-riverside",
   "metadata": {},
   "outputs": [
    {
     "data": {
      "text/html": [
       "<div>\n",
       "<style scoped>\n",
       "    .dataframe tbody tr th:only-of-type {\n",
       "        vertical-align: middle;\n",
       "    }\n",
       "\n",
       "    .dataframe tbody tr th {\n",
       "        vertical-align: top;\n",
       "    }\n",
       "\n",
       "    .dataframe thead th {\n",
       "        text-align: right;\n",
       "    }\n",
       "</style>\n",
       "<table border=\"1\" class=\"dataframe\">\n",
       "  <thead>\n",
       "    <tr style=\"text-align: right;\">\n",
       "      <th></th>\n",
       "      <th>ID_USUARIO</th>\n",
       "      <th>TIPOUSUARIO</th>\n",
       "      <th>FECHA_REGISTRO</th>\n",
       "      <th>CANAL_REGISTRO</th>\n",
       "      <th>IND_CLIENTE</th>\n",
       "      <th>IND_ALTA</th>\n",
       "      <th>FECHA_ALTA</th>\n",
       "      <th>FECHA_CLIENTE</th>\n",
       "      <th>TIPOEMAIL</th>\n",
       "      <th>BONDAD_EMAIL</th>\n",
       "      <th>USU_TELF</th>\n",
       "      <th>IPCASOS</th>\n",
       "      <th>IP_Country</th>\n",
       "      <th>IP_Region</th>\n",
       "      <th>USU_TIPO</th>\n",
       "      <th>USU_TAMANIO</th>\n",
       "      <th>USU_CIIU</th>\n",
       "      <th>USU_ESTADO</th>\n",
       "      <th>USU_DEPARTAMENTO</th>\n",
       "    </tr>\n",
       "  </thead>\n",
       "  <tbody>\n",
       "    <tr>\n",
       "      <th>573</th>\n",
       "      <td>7027076</td>\n",
       "      <td>PJ</td>\n",
       "      <td>2018-03-31</td>\n",
       "      <td>8</td>\n",
       "      <td>0</td>\n",
       "      <td>0</td>\n",
       "      <td>NaT</td>\n",
       "      <td>NaT</td>\n",
       "      <td>GOOHOTYAHMAIL</td>\n",
       "      <td>20</td>\n",
       "      <td>30021XXXXX</td>\n",
       "      <td>1</td>\n",
       "      <td>NaN</td>\n",
       "      <td>NaN</td>\n",
       "      <td>EMPRESARIO INDIVIDUAL</td>\n",
       "      <td>MC</td>\n",
       "      <td>G4711</td>\n",
       "      <td>CANCELACIÓN</td>\n",
       "      <td>BOLIVAR</td>\n",
       "    </tr>\n",
       "    <tr>\n",
       "      <th>574</th>\n",
       "      <td>7027076</td>\n",
       "      <td>PJ</td>\n",
       "      <td>2018-03-31</td>\n",
       "      <td>8</td>\n",
       "      <td>0</td>\n",
       "      <td>0</td>\n",
       "      <td>NaT</td>\n",
       "      <td>NaT</td>\n",
       "      <td>GOOHOTYAHMAIL</td>\n",
       "      <td>20</td>\n",
       "      <td>30021XXXXX</td>\n",
       "      <td>1</td>\n",
       "      <td>NaN</td>\n",
       "      <td>NaN</td>\n",
       "      <td>EMPRESARIO INDIVIDUAL</td>\n",
       "      <td>MC</td>\n",
       "      <td>G4711</td>\n",
       "      <td>CANCELACIÓN</td>\n",
       "      <td>BOLIVAR</td>\n",
       "    </tr>\n",
       "    <tr>\n",
       "      <th>4170</th>\n",
       "      <td>7807890</td>\n",
       "      <td>PF</td>\n",
       "      <td>2019-05-24</td>\n",
       "      <td>1</td>\n",
       "      <td>0</td>\n",
       "      <td>1</td>\n",
       "      <td>2019-03-06</td>\n",
       "      <td>NaT</td>\n",
       "      <td>GOOHOTYAHMAIL</td>\n",
       "      <td>20</td>\n",
       "      <td>30041XXXXX</td>\n",
       "      <td>0</td>\n",
       "      <td>NaN</td>\n",
       "      <td>NaN</td>\n",
       "      <td>NaN</td>\n",
       "      <td>NaN</td>\n",
       "      <td>NaN</td>\n",
       "      <td>NaN</td>\n",
       "      <td>NaN</td>\n",
       "    </tr>\n",
       "    <tr>\n",
       "      <th>4171</th>\n",
       "      <td>7807890</td>\n",
       "      <td>PF</td>\n",
       "      <td>2019-05-24</td>\n",
       "      <td>1</td>\n",
       "      <td>0</td>\n",
       "      <td>1</td>\n",
       "      <td>2019-03-06</td>\n",
       "      <td>NaT</td>\n",
       "      <td>GOOHOTYAHMAIL</td>\n",
       "      <td>20</td>\n",
       "      <td>30041XXXXX</td>\n",
       "      <td>0</td>\n",
       "      <td>NaN</td>\n",
       "      <td>NaN</td>\n",
       "      <td>NaN</td>\n",
       "      <td>NaN</td>\n",
       "      <td>NaN</td>\n",
       "      <td>NaN</td>\n",
       "      <td>NaN</td>\n",
       "    </tr>\n",
       "    <tr>\n",
       "      <th>11416</th>\n",
       "      <td>7820591</td>\n",
       "      <td>PF</td>\n",
       "      <td>2019-05-31</td>\n",
       "      <td>2</td>\n",
       "      <td>0</td>\n",
       "      <td>0</td>\n",
       "      <td>NaT</td>\n",
       "      <td>NaT</td>\n",
       "      <td>GOOHOTYAHMAIL</td>\n",
       "      <td>20</td>\n",
       "      <td>30082XXXXX</td>\n",
       "      <td>2</td>\n",
       "      <td>Colombia</td>\n",
       "      <td>Quindío</td>\n",
       "      <td>NaN</td>\n",
       "      <td>NaN</td>\n",
       "      <td>NaN</td>\n",
       "      <td>NaN</td>\n",
       "      <td>NaN</td>\n",
       "    </tr>\n",
       "    <tr>\n",
       "      <th>11417</th>\n",
       "      <td>7820591</td>\n",
       "      <td>PF</td>\n",
       "      <td>2019-05-31</td>\n",
       "      <td>2</td>\n",
       "      <td>0</td>\n",
       "      <td>0</td>\n",
       "      <td>NaT</td>\n",
       "      <td>NaT</td>\n",
       "      <td>GOOHOTYAHMAIL</td>\n",
       "      <td>20</td>\n",
       "      <td>30082XXXXX</td>\n",
       "      <td>2</td>\n",
       "      <td>Colombia</td>\n",
       "      <td>Quindío</td>\n",
       "      <td>NaN</td>\n",
       "      <td>NaN</td>\n",
       "      <td>NaN</td>\n",
       "      <td>NaN</td>\n",
       "      <td>NaN</td>\n",
       "    </tr>\n",
       "    <tr>\n",
       "      <th>20114</th>\n",
       "      <td>7071151</td>\n",
       "      <td>PF</td>\n",
       "      <td>2018-04-18</td>\n",
       "      <td>6</td>\n",
       "      <td>0</td>\n",
       "      <td>0</td>\n",
       "      <td>NaT</td>\n",
       "      <td>NaT</td>\n",
       "      <td>GOOHOTYAHMAIL</td>\n",
       "      <td>20</td>\n",
       "      <td>30163XXXXX</td>\n",
       "      <td>0</td>\n",
       "      <td>NaN</td>\n",
       "      <td>NaN</td>\n",
       "      <td>NaN</td>\n",
       "      <td>NaN</td>\n",
       "      <td>NaN</td>\n",
       "      <td>NaN</td>\n",
       "      <td>NaN</td>\n",
       "    </tr>\n",
       "    <tr>\n",
       "      <th>20115</th>\n",
       "      <td>7071151</td>\n",
       "      <td>PF</td>\n",
       "      <td>2018-04-18</td>\n",
       "      <td>6</td>\n",
       "      <td>0</td>\n",
       "      <td>0</td>\n",
       "      <td>NaT</td>\n",
       "      <td>NaT</td>\n",
       "      <td>GOOHOTYAHMAIL</td>\n",
       "      <td>20</td>\n",
       "      <td>30163XXXXX</td>\n",
       "      <td>0</td>\n",
       "      <td>NaN</td>\n",
       "      <td>NaN</td>\n",
       "      <td>NaN</td>\n",
       "      <td>NaN</td>\n",
       "      <td>NaN</td>\n",
       "      <td>NaN</td>\n",
       "      <td>NaN</td>\n",
       "    </tr>\n",
       "    <tr>\n",
       "      <th>20116</th>\n",
       "      <td>7365786</td>\n",
       "      <td>PF</td>\n",
       "      <td>2018-09-16</td>\n",
       "      <td>2</td>\n",
       "      <td>0</td>\n",
       "      <td>0</td>\n",
       "      <td>NaT</td>\n",
       "      <td>NaT</td>\n",
       "      <td>GOOHOTYAHMAIL</td>\n",
       "      <td>20</td>\n",
       "      <td>30163XXXXX</td>\n",
       "      <td>3</td>\n",
       "      <td>Colombia</td>\n",
       "      <td>NaN</td>\n",
       "      <td>NaN</td>\n",
       "      <td>NaN</td>\n",
       "      <td>NaN</td>\n",
       "      <td>NaN</td>\n",
       "      <td>NaN</td>\n",
       "    </tr>\n",
       "    <tr>\n",
       "      <th>20117</th>\n",
       "      <td>7365786</td>\n",
       "      <td>PF</td>\n",
       "      <td>2018-09-16</td>\n",
       "      <td>2</td>\n",
       "      <td>0</td>\n",
       "      <td>0</td>\n",
       "      <td>NaT</td>\n",
       "      <td>NaT</td>\n",
       "      <td>GOOHOTYAHMAIL</td>\n",
       "      <td>20</td>\n",
       "      <td>30163XXXXX</td>\n",
       "      <td>3</td>\n",
       "      <td>Colombia</td>\n",
       "      <td>NaN</td>\n",
       "      <td>NaN</td>\n",
       "      <td>NaN</td>\n",
       "      <td>NaN</td>\n",
       "      <td>NaN</td>\n",
       "      <td>NaN</td>\n",
       "    </tr>\n",
       "  </tbody>\n",
       "</table>\n",
       "</div>"
      ],
      "text/plain": [
       "       ID_USUARIO TIPOUSUARIO FECHA_REGISTRO  CANAL_REGISTRO  IND_CLIENTE  \\\n",
       "573       7027076          PJ     2018-03-31               8            0   \n",
       "574       7027076          PJ     2018-03-31               8            0   \n",
       "4170      7807890          PF     2019-05-24               1            0   \n",
       "4171      7807890          PF     2019-05-24               1            0   \n",
       "11416     7820591          PF     2019-05-31               2            0   \n",
       "11417     7820591          PF     2019-05-31               2            0   \n",
       "20114     7071151          PF     2018-04-18               6            0   \n",
       "20115     7071151          PF     2018-04-18               6            0   \n",
       "20116     7365786          PF     2018-09-16               2            0   \n",
       "20117     7365786          PF     2018-09-16               2            0   \n",
       "\n",
       "       IND_ALTA FECHA_ALTA FECHA_CLIENTE      TIPOEMAIL  BONDAD_EMAIL  \\\n",
       "573           0        NaT           NaT  GOOHOTYAHMAIL            20   \n",
       "574           0        NaT           NaT  GOOHOTYAHMAIL            20   \n",
       "4170          1 2019-03-06           NaT  GOOHOTYAHMAIL            20   \n",
       "4171          1 2019-03-06           NaT  GOOHOTYAHMAIL            20   \n",
       "11416         0        NaT           NaT  GOOHOTYAHMAIL            20   \n",
       "11417         0        NaT           NaT  GOOHOTYAHMAIL            20   \n",
       "20114         0        NaT           NaT  GOOHOTYAHMAIL            20   \n",
       "20115         0        NaT           NaT  GOOHOTYAHMAIL            20   \n",
       "20116         0        NaT           NaT  GOOHOTYAHMAIL            20   \n",
       "20117         0        NaT           NaT  GOOHOTYAHMAIL            20   \n",
       "\n",
       "         USU_TELF  IPCASOS IP_Country IP_Region               USU_TIPO  \\\n",
       "573    30021XXXXX        1        NaN       NaN  EMPRESARIO INDIVIDUAL   \n",
       "574    30021XXXXX        1        NaN       NaN  EMPRESARIO INDIVIDUAL   \n",
       "4170   30041XXXXX        0        NaN       NaN                    NaN   \n",
       "4171   30041XXXXX        0        NaN       NaN                    NaN   \n",
       "11416  30082XXXXX        2   Colombia   Quindío                    NaN   \n",
       "11417  30082XXXXX        2   Colombia   Quindío                    NaN   \n",
       "20114  30163XXXXX        0        NaN       NaN                    NaN   \n",
       "20115  30163XXXXX        0        NaN       NaN                    NaN   \n",
       "20116  30163XXXXX        3   Colombia       NaN                    NaN   \n",
       "20117  30163XXXXX        3   Colombia       NaN                    NaN   \n",
       "\n",
       "      USU_TAMANIO USU_CIIU   USU_ESTADO USU_DEPARTAMENTO  \n",
       "573            MC    G4711  CANCELACIÓN          BOLIVAR  \n",
       "574            MC    G4711  CANCELACIÓN          BOLIVAR  \n",
       "4170          NaN      NaN          NaN              NaN  \n",
       "4171          NaN      NaN          NaN              NaN  \n",
       "11416         NaN      NaN          NaN              NaN  \n",
       "11417         NaN      NaN          NaN              NaN  \n",
       "20114         NaN      NaN          NaN              NaN  \n",
       "20115         NaN      NaN          NaN              NaN  \n",
       "20116         NaN      NaN          NaN              NaN  \n",
       "20117         NaN      NaN          NaN              NaN  "
      ]
     },
     "execution_count": 19,
     "metadata": {},
     "output_type": "execute_result"
    }
   ],
   "source": [
    "df_user[df_user.duplicated(keep = False) == True].head(10)"
   ]
  },
  {
   "cell_type": "markdown",
   "id": "constant-valuable",
   "metadata": {},
   "source": [
    "Eliminamos los duplicados"
   ]
  },
  {
   "cell_type": "code",
   "execution_count": 20,
   "id": "artificial-budget",
   "metadata": {},
   "outputs": [],
   "source": [
    "df_user.drop_duplicates(inplace = True, ignore_index = True)"
   ]
  },
  {
   "cell_type": "code",
   "execution_count": 21,
   "id": "cloudy-earthquake",
   "metadata": {},
   "outputs": [
    {
     "data": {
      "text/plain": [
       "(367707, 19)"
      ]
     },
     "execution_count": 21,
     "metadata": {},
     "output_type": "execute_result"
    }
   ],
   "source": [
    "df_user.shape"
   ]
  },
  {
   "cell_type": "code",
   "execution_count": 22,
   "id": "difficult-night",
   "metadata": {},
   "outputs": [
    {
     "data": {
      "text/plain": [
       "0"
      ]
     },
     "execution_count": 22,
     "metadata": {},
     "output_type": "execute_result"
    }
   ],
   "source": [
    "df_user.duplicated().sum()"
   ]
  },
  {
   "cell_type": "markdown",
   "id": "limiting-cream",
   "metadata": {},
   "source": [
    "**Realizamos una última comprobación de duplicidad. Que el número total de registros sea el mismo que el total de ID_USUARIO unicos.**"
   ]
  },
  {
   "cell_type": "code",
   "execution_count": 23,
   "id": "alien-cover",
   "metadata": {},
   "outputs": [
    {
     "data": {
      "text/plain": [
       "367705"
      ]
     },
     "execution_count": 23,
     "metadata": {},
     "output_type": "execute_result"
    }
   ],
   "source": [
    "len(df_user['ID_USUARIO'].unique())"
   ]
  },
  {
   "cell_type": "code",
   "execution_count": 24,
   "id": "owned-dealer",
   "metadata": {},
   "outputs": [
    {
     "data": {
      "text/plain": [
       "367707"
      ]
     },
     "execution_count": 24,
     "metadata": {},
     "output_type": "execute_result"
    }
   ],
   "source": [
    "df_user.shape[0]"
   ]
  },
  {
   "cell_type": "markdown",
   "id": "preceding-report",
   "metadata": {},
   "source": [
    "Observamos que existen duplicados por ID_USUARIO."
   ]
  },
  {
   "cell_type": "code",
   "execution_count": 25,
   "id": "documentary-baker",
   "metadata": {},
   "outputs": [
    {
     "data": {
      "text/html": [
       "<div>\n",
       "<style scoped>\n",
       "    .dataframe tbody tr th:only-of-type {\n",
       "        vertical-align: middle;\n",
       "    }\n",
       "\n",
       "    .dataframe tbody tr th {\n",
       "        vertical-align: top;\n",
       "    }\n",
       "\n",
       "    .dataframe thead th {\n",
       "        text-align: right;\n",
       "    }\n",
       "</style>\n",
       "<table border=\"1\" class=\"dataframe\">\n",
       "  <thead>\n",
       "    <tr style=\"text-align: right;\">\n",
       "      <th></th>\n",
       "      <th>ID_USUARIO</th>\n",
       "      <th>TIPOUSUARIO</th>\n",
       "      <th>FECHA_REGISTRO</th>\n",
       "      <th>CANAL_REGISTRO</th>\n",
       "      <th>IND_CLIENTE</th>\n",
       "      <th>IND_ALTA</th>\n",
       "      <th>FECHA_ALTA</th>\n",
       "      <th>FECHA_CLIENTE</th>\n",
       "      <th>TIPOEMAIL</th>\n",
       "      <th>BONDAD_EMAIL</th>\n",
       "      <th>USU_TELF</th>\n",
       "      <th>IPCASOS</th>\n",
       "      <th>IP_Country</th>\n",
       "      <th>IP_Region</th>\n",
       "      <th>USU_TIPO</th>\n",
       "      <th>USU_TAMANIO</th>\n",
       "      <th>USU_CIIU</th>\n",
       "      <th>USU_ESTADO</th>\n",
       "      <th>USU_DEPARTAMENTO</th>\n",
       "    </tr>\n",
       "  </thead>\n",
       "  <tbody>\n",
       "    <tr>\n",
       "      <th>55744</th>\n",
       "      <td>7170269</td>\n",
       "      <td>PJ</td>\n",
       "      <td>2018-05-31</td>\n",
       "      <td>8</td>\n",
       "      <td>0</td>\n",
       "      <td>0</td>\n",
       "      <td>NaT</td>\n",
       "      <td>NaT</td>\n",
       "      <td>GOOHOTYAHMAIL</td>\n",
       "      <td>20</td>\n",
       "      <td>31132XXXXX</td>\n",
       "      <td>1</td>\n",
       "      <td>Colombia</td>\n",
       "      <td>NaN</td>\n",
       "      <td>SOCIEDAD COMERCIAL/INDUSTRIAL</td>\n",
       "      <td>MC</td>\n",
       "      <td>E3830</td>\n",
       "      <td>CANCELACIÓN</td>\n",
       "      <td>BOYACA</td>\n",
       "    </tr>\n",
       "    <tr>\n",
       "      <th>55745</th>\n",
       "      <td>7170269</td>\n",
       "      <td>PJ</td>\n",
       "      <td>2018-05-31</td>\n",
       "      <td>8</td>\n",
       "      <td>0</td>\n",
       "      <td>0</td>\n",
       "      <td>NaT</td>\n",
       "      <td>NaT</td>\n",
       "      <td>GOOHOTYAHMAIL</td>\n",
       "      <td>20</td>\n",
       "      <td>31132XXXXX</td>\n",
       "      <td>1</td>\n",
       "      <td>Colombia</td>\n",
       "      <td>NaN</td>\n",
       "      <td>ENTIDAD SIN ANIMO DE LUCRO</td>\n",
       "      <td>MC</td>\n",
       "      <td>S9499</td>\n",
       "      <td>CANCELACIÓN</td>\n",
       "      <td>SANTANDER</td>\n",
       "    </tr>\n",
       "    <tr>\n",
       "      <th>171266</th>\n",
       "      <td>7025021</td>\n",
       "      <td>PJ</td>\n",
       "      <td>2018-03-28</td>\n",
       "      <td>7</td>\n",
       "      <td>0</td>\n",
       "      <td>0</td>\n",
       "      <td>NaT</td>\n",
       "      <td>NaT</td>\n",
       "      <td>GOOHOTYAHMAIL</td>\n",
       "      <td>20</td>\n",
       "      <td>32048XXXXX</td>\n",
       "      <td>4</td>\n",
       "      <td>Colombia</td>\n",
       "      <td>NaN</td>\n",
       "      <td>SOCIEDAD COMERCIAL/INDUSTRIAL</td>\n",
       "      <td>MC</td>\n",
       "      <td>E3830</td>\n",
       "      <td>CANCELACIÓN</td>\n",
       "      <td>BOYACA</td>\n",
       "    </tr>\n",
       "    <tr>\n",
       "      <th>171267</th>\n",
       "      <td>7025021</td>\n",
       "      <td>PJ</td>\n",
       "      <td>2018-03-28</td>\n",
       "      <td>7</td>\n",
       "      <td>0</td>\n",
       "      <td>0</td>\n",
       "      <td>NaT</td>\n",
       "      <td>NaT</td>\n",
       "      <td>GOOHOTYAHMAIL</td>\n",
       "      <td>20</td>\n",
       "      <td>32048XXXXX</td>\n",
       "      <td>4</td>\n",
       "      <td>Colombia</td>\n",
       "      <td>NaN</td>\n",
       "      <td>ENTIDAD SIN ANIMO DE LUCRO</td>\n",
       "      <td>MC</td>\n",
       "      <td>S9499</td>\n",
       "      <td>CANCELACIÓN</td>\n",
       "      <td>SANTANDER</td>\n",
       "    </tr>\n",
       "  </tbody>\n",
       "</table>\n",
       "</div>"
      ],
      "text/plain": [
       "        ID_USUARIO TIPOUSUARIO FECHA_REGISTRO  CANAL_REGISTRO  IND_CLIENTE  \\\n",
       "55744      7170269          PJ     2018-05-31               8            0   \n",
       "55745      7170269          PJ     2018-05-31               8            0   \n",
       "171266     7025021          PJ     2018-03-28               7            0   \n",
       "171267     7025021          PJ     2018-03-28               7            0   \n",
       "\n",
       "        IND_ALTA FECHA_ALTA FECHA_CLIENTE      TIPOEMAIL  BONDAD_EMAIL  \\\n",
       "55744          0        NaT           NaT  GOOHOTYAHMAIL            20   \n",
       "55745          0        NaT           NaT  GOOHOTYAHMAIL            20   \n",
       "171266         0        NaT           NaT  GOOHOTYAHMAIL            20   \n",
       "171267         0        NaT           NaT  GOOHOTYAHMAIL            20   \n",
       "\n",
       "          USU_TELF  IPCASOS IP_Country IP_Region  \\\n",
       "55744   31132XXXXX        1   Colombia       NaN   \n",
       "55745   31132XXXXX        1   Colombia       NaN   \n",
       "171266  32048XXXXX        4   Colombia       NaN   \n",
       "171267  32048XXXXX        4   Colombia       NaN   \n",
       "\n",
       "                             USU_TIPO USU_TAMANIO USU_CIIU   USU_ESTADO  \\\n",
       "55744   SOCIEDAD COMERCIAL/INDUSTRIAL          MC    E3830  CANCELACIÓN   \n",
       "55745      ENTIDAD SIN ANIMO DE LUCRO          MC    S9499  CANCELACIÓN   \n",
       "171266  SOCIEDAD COMERCIAL/INDUSTRIAL          MC    E3830  CANCELACIÓN   \n",
       "171267     ENTIDAD SIN ANIMO DE LUCRO          MC    S9499  CANCELACIÓN   \n",
       "\n",
       "       USU_DEPARTAMENTO  \n",
       "55744            BOYACA  \n",
       "55745         SANTANDER  \n",
       "171266           BOYACA  \n",
       "171267        SANTANDER  "
      ]
     },
     "execution_count": 25,
     "metadata": {},
     "output_type": "execute_result"
    }
   ],
   "source": [
    "df_user[df_user.duplicated(['ID_USUARIO'], keep = False) == True]"
   ]
  },
  {
   "cell_type": "markdown",
   "id": "elder-popularity",
   "metadata": {},
   "source": [
    "Tras analizar los duplicados, se observa que el único campo por el que se duplican es USU_TIPO, USU_CIIU y USU_DEPARTAMENTO.  \n",
    "\n",
    "Se decide que el se eliminen los registros tras considerar que ha sido un error en la captación de la información, manteniendose los que se encuentren primero, entendiendo que estos son los que se han registrado en primera instancia."
   ]
  },
  {
   "cell_type": "code",
   "execution_count": 26,
   "id": "pretty-treatment",
   "metadata": {},
   "outputs": [],
   "source": [
    "df_user = df_user[df_user.duplicated(['ID_USUARIO'], keep = False) == False]"
   ]
  },
  {
   "cell_type": "code",
   "execution_count": 27,
   "id": "comparative-tyler",
   "metadata": {},
   "outputs": [],
   "source": [
    "df_user.reset_index(inplace = True, drop = True)"
   ]
  },
  {
   "cell_type": "markdown",
   "id": "norman-payroll",
   "metadata": {},
   "source": [
    "------------------"
   ]
  },
  {
   "cell_type": "markdown",
   "id": "pressed-stack",
   "metadata": {},
   "source": [
    "------------------"
   ]
  },
  {
   "cell_type": "markdown",
   "id": "optimum-halifax",
   "metadata": {},
   "source": [
    "### Valores *Missings*"
   ]
  },
  {
   "cell_type": "markdown",
   "id": "backed-berry",
   "metadata": {},
   "source": [
    "**A continuación se realiza un análisis de los valores missing en de cada variable y su respectivo tratamiento**"
   ]
  },
  {
   "cell_type": "code",
   "execution_count": 28,
   "id": "female-villa",
   "metadata": {},
   "outputs": [
    {
     "data": {
      "text/plain": [
       "ID_USUARIO               0\n",
       "TIPOUSUARIO              0\n",
       "FECHA_REGISTRO           0\n",
       "CANAL_REGISTRO           0\n",
       "IND_CLIENTE              0\n",
       "IND_ALTA                 0\n",
       "FECHA_ALTA          363992\n",
       "FECHA_CLIENTE       365090\n",
       "TIPOEMAIL                0\n",
       "BONDAD_EMAIL             0\n",
       "USU_TELF                66\n",
       "IPCASOS                  0\n",
       "IP_Country           21764\n",
       "IP_Region           150903\n",
       "USU_TIPO            283591\n",
       "USU_TAMANIO         283589\n",
       "USU_CIIU            283589\n",
       "USU_ESTADO          283589\n",
       "USU_DEPARTAMENTO    277197\n",
       "dtype: int64"
      ]
     },
     "execution_count": 28,
     "metadata": {},
     "output_type": "execute_result"
    }
   ],
   "source": [
    "df_user.isna().sum()"
   ]
  },
  {
   "cell_type": "code",
   "execution_count": 29,
   "id": "brazilian-leonard",
   "metadata": {},
   "outputs": [
    {
     "data": {
      "text/html": [
       "<div>\n",
       "<style scoped>\n",
       "    .dataframe tbody tr th:only-of-type {\n",
       "        vertical-align: middle;\n",
       "    }\n",
       "\n",
       "    .dataframe tbody tr th {\n",
       "        vertical-align: top;\n",
       "    }\n",
       "\n",
       "    .dataframe thead th {\n",
       "        text-align: right;\n",
       "    }\n",
       "</style>\n",
       "<table border=\"1\" class=\"dataframe\">\n",
       "  <thead>\n",
       "    <tr style=\"text-align: right;\">\n",
       "      <th></th>\n",
       "      <th>ID_USUARIO</th>\n",
       "      <th>TIPOUSUARIO</th>\n",
       "      <th>FECHA_REGISTRO</th>\n",
       "      <th>CANAL_REGISTRO</th>\n",
       "      <th>IND_CLIENTE</th>\n",
       "      <th>IND_ALTA</th>\n",
       "      <th>FECHA_ALTA</th>\n",
       "      <th>FECHA_CLIENTE</th>\n",
       "      <th>TIPOEMAIL</th>\n",
       "      <th>BONDAD_EMAIL</th>\n",
       "      <th>USU_TELF</th>\n",
       "      <th>IPCASOS</th>\n",
       "      <th>IP_Country</th>\n",
       "      <th>IP_Region</th>\n",
       "      <th>USU_TIPO</th>\n",
       "      <th>USU_TAMANIO</th>\n",
       "      <th>USU_CIIU</th>\n",
       "      <th>USU_ESTADO</th>\n",
       "      <th>USU_DEPARTAMENTO</th>\n",
       "    </tr>\n",
       "  </thead>\n",
       "  <tbody>\n",
       "    <tr>\n",
       "      <th>0</th>\n",
       "      <td>8107310</td>\n",
       "      <td>PF</td>\n",
       "      <td>2019-10-22</td>\n",
       "      <td>3</td>\n",
       "      <td>0</td>\n",
       "      <td>0</td>\n",
       "      <td>NaT</td>\n",
       "      <td>NaT</td>\n",
       "      <td>GOOHOTYAHMAIL</td>\n",
       "      <td>0</td>\n",
       "      <td>233XXXXX</td>\n",
       "      <td>1</td>\n",
       "      <td>Colombia</td>\n",
       "      <td>Valle del Cauca</td>\n",
       "      <td>NaN</td>\n",
       "      <td>NaN</td>\n",
       "      <td>NaN</td>\n",
       "      <td>NaN</td>\n",
       "      <td>NaN</td>\n",
       "    </tr>\n",
       "    <tr>\n",
       "      <th>1</th>\n",
       "      <td>7784565</td>\n",
       "      <td>PJ</td>\n",
       "      <td>2019-05-14</td>\n",
       "      <td>3</td>\n",
       "      <td>0</td>\n",
       "      <td>0</td>\n",
       "      <td>NaT</td>\n",
       "      <td>NaT</td>\n",
       "      <td>GOOHOTYAHMAIL</td>\n",
       "      <td>20</td>\n",
       "      <td>633XXXXX</td>\n",
       "      <td>1</td>\n",
       "      <td>Colombia</td>\n",
       "      <td>Antioquia</td>\n",
       "      <td>SOCIEDAD COMERCIAL/INDUSTRIAL</td>\n",
       "      <td>PQ</td>\n",
       "      <td>N7820</td>\n",
       "      <td>ACTIVA</td>\n",
       "      <td>QUINDIO</td>\n",
       "    </tr>\n",
       "    <tr>\n",
       "      <th>2</th>\n",
       "      <td>7718778</td>\n",
       "      <td>PJ</td>\n",
       "      <td>2019-09-04</td>\n",
       "      <td>7</td>\n",
       "      <td>0</td>\n",
       "      <td>0</td>\n",
       "      <td>NaT</td>\n",
       "      <td>NaT</td>\n",
       "      <td>GOOHOTYAHMAIL</td>\n",
       "      <td>20</td>\n",
       "      <td>533XXXXX</td>\n",
       "      <td>1</td>\n",
       "      <td>Colombia</td>\n",
       "      <td>Bolivar</td>\n",
       "      <td>SOCIEDAD COMERCIAL/INDUSTRIAL</td>\n",
       "      <td>MC</td>\n",
       "      <td>G4774</td>\n",
       "      <td>ACTIVA</td>\n",
       "      <td>ATLANTICO</td>\n",
       "    </tr>\n",
       "    <tr>\n",
       "      <th>3</th>\n",
       "      <td>7952765</td>\n",
       "      <td>PX</td>\n",
       "      <td>2019-12-08</td>\n",
       "      <td>3</td>\n",
       "      <td>0</td>\n",
       "      <td>0</td>\n",
       "      <td>NaT</td>\n",
       "      <td>NaT</td>\n",
       "      <td>DOCENTE</td>\n",
       "      <td>20</td>\n",
       "      <td>633XXXXX</td>\n",
       "      <td>1</td>\n",
       "      <td>Colombia</td>\n",
       "      <td>Risaralda</td>\n",
       "      <td>NaN</td>\n",
       "      <td>NaN</td>\n",
       "      <td>NaN</td>\n",
       "      <td>NaN</td>\n",
       "      <td>NaN</td>\n",
       "    </tr>\n",
       "    <tr>\n",
       "      <th>4</th>\n",
       "      <td>7855424</td>\n",
       "      <td>PJ</td>\n",
       "      <td>2019-06-21</td>\n",
       "      <td>7</td>\n",
       "      <td>0</td>\n",
       "      <td>0</td>\n",
       "      <td>NaT</td>\n",
       "      <td>NaT</td>\n",
       "      <td>GOOHOTYAHMAIL</td>\n",
       "      <td>20</td>\n",
       "      <td>533XXXXX</td>\n",
       "      <td>1</td>\n",
       "      <td>Colombia</td>\n",
       "      <td>Atlántico</td>\n",
       "      <td>EMPRESARIO INDIVIDUAL</td>\n",
       "      <td>MC</td>\n",
       "      <td>N8299</td>\n",
       "      <td>CANCELACIÓN</td>\n",
       "      <td>ATLANTICO</td>\n",
       "    </tr>\n",
       "  </tbody>\n",
       "</table>\n",
       "</div>"
      ],
      "text/plain": [
       "   ID_USUARIO TIPOUSUARIO FECHA_REGISTRO  CANAL_REGISTRO  IND_CLIENTE  \\\n",
       "0     8107310          PF     2019-10-22               3            0   \n",
       "1     7784565          PJ     2019-05-14               3            0   \n",
       "2     7718778          PJ     2019-09-04               7            0   \n",
       "3     7952765          PX     2019-12-08               3            0   \n",
       "4     7855424          PJ     2019-06-21               7            0   \n",
       "\n",
       "   IND_ALTA FECHA_ALTA FECHA_CLIENTE      TIPOEMAIL  BONDAD_EMAIL  USU_TELF  \\\n",
       "0         0        NaT           NaT  GOOHOTYAHMAIL             0  233XXXXX   \n",
       "1         0        NaT           NaT  GOOHOTYAHMAIL            20  633XXXXX   \n",
       "2         0        NaT           NaT  GOOHOTYAHMAIL            20  533XXXXX   \n",
       "3         0        NaT           NaT        DOCENTE            20  633XXXXX   \n",
       "4         0        NaT           NaT  GOOHOTYAHMAIL            20  533XXXXX   \n",
       "\n",
       "   IPCASOS IP_Country        IP_Region                       USU_TIPO  \\\n",
       "0        1   Colombia  Valle del Cauca                            NaN   \n",
       "1        1   Colombia        Antioquia  SOCIEDAD COMERCIAL/INDUSTRIAL   \n",
       "2        1   Colombia          Bolivar  SOCIEDAD COMERCIAL/INDUSTRIAL   \n",
       "3        1   Colombia        Risaralda                            NaN   \n",
       "4        1   Colombia        Atlántico          EMPRESARIO INDIVIDUAL   \n",
       "\n",
       "  USU_TAMANIO USU_CIIU   USU_ESTADO USU_DEPARTAMENTO  \n",
       "0         NaN      NaN          NaN              NaN  \n",
       "1          PQ    N7820       ACTIVA          QUINDIO  \n",
       "2          MC    G4774       ACTIVA        ATLANTICO  \n",
       "3         NaN      NaN          NaN              NaN  \n",
       "4          MC    N8299  CANCELACIÓN        ATLANTICO  "
      ]
     },
     "execution_count": 29,
     "metadata": {},
     "output_type": "execute_result"
    }
   ],
   "source": [
    "df_user.head(5)"
   ]
  },
  {
   "cell_type": "markdown",
   "id": "latest-partition",
   "metadata": {},
   "source": [
    "------------------"
   ]
  },
  {
   "cell_type": "markdown",
   "id": "mexican-edmonton",
   "metadata": {},
   "source": [
    "**1. FECHA_ALTA**"
   ]
  },
  {
   "cell_type": "markdown",
   "id": "single-telephone",
   "metadata": {},
   "source": [
    "**Recordamos**: Fecha del Indicador de Alta\n",
    "\n",
    "**En este caso, por definición se puede saber que este indicador va relacionado con el campo IND_ALTA, por lo que definimos lo siguiente:**\n",
    "* Si IND_ALTA = 1, FECHA_ALTA no puede ser nulo.\n",
    "* Si IND_ALTA = 0, FEHCA_ALTA debe ser nulo (NoApl - No Aplica)"
   ]
  },
  {
   "cell_type": "markdown",
   "id": "stone-board",
   "metadata": {},
   "source": [
    "**Realizaremos el tratamiento de la información.**\n",
    "\n",
    "* Los usuarios con fecha de alta sin informar, deberán tener IND_ALTA = 0, y se les pondrá el valor NoApl en FECHA_ALTA."
   ]
  },
  {
   "cell_type": "markdown",
   "id": "friendly-impact",
   "metadata": {},
   "source": [
    "**NOTA**: En este caso, al tener además el indicador cliente, quiere decir que el cliente se tuvo que dar de alta en algún momento. Por lo que consideramos la fecha de alta como la misma fecha que la de CLIENTE."
   ]
  },
  {
   "cell_type": "code",
   "execution_count": 30,
   "id": "banner-joining",
   "metadata": {},
   "outputs": [
    {
     "data": {
      "text/plain": [
       "IND_ALTA\n",
       "0    363989\n",
       "1         3\n",
       "Name: IND_ALTA, dtype: int64"
      ]
     },
     "execution_count": 30,
     "metadata": {},
     "output_type": "execute_result"
    }
   ],
   "source": [
    "df_user[df_user['FECHA_ALTA'].isna()].groupby(['IND_ALTA'])['IND_ALTA'].count()"
   ]
  },
  {
   "cell_type": "code",
   "execution_count": 31,
   "id": "useful-hartford",
   "metadata": {},
   "outputs": [
    {
     "data": {
      "text/html": [
       "<div>\n",
       "<style scoped>\n",
       "    .dataframe tbody tr th:only-of-type {\n",
       "        vertical-align: middle;\n",
       "    }\n",
       "\n",
       "    .dataframe tbody tr th {\n",
       "        vertical-align: top;\n",
       "    }\n",
       "\n",
       "    .dataframe thead th {\n",
       "        text-align: right;\n",
       "    }\n",
       "</style>\n",
       "<table border=\"1\" class=\"dataframe\">\n",
       "  <thead>\n",
       "    <tr style=\"text-align: right;\">\n",
       "      <th></th>\n",
       "      <th>ID_USUARIO</th>\n",
       "      <th>TIPOUSUARIO</th>\n",
       "      <th>FECHA_REGISTRO</th>\n",
       "      <th>CANAL_REGISTRO</th>\n",
       "      <th>IND_CLIENTE</th>\n",
       "      <th>IND_ALTA</th>\n",
       "      <th>FECHA_ALTA</th>\n",
       "      <th>FECHA_CLIENTE</th>\n",
       "      <th>TIPOEMAIL</th>\n",
       "      <th>BONDAD_EMAIL</th>\n",
       "      <th>USU_TELF</th>\n",
       "      <th>IPCASOS</th>\n",
       "      <th>IP_Country</th>\n",
       "      <th>IP_Region</th>\n",
       "      <th>USU_TIPO</th>\n",
       "      <th>USU_TAMANIO</th>\n",
       "      <th>USU_CIIU</th>\n",
       "      <th>USU_ESTADO</th>\n",
       "      <th>USU_DEPARTAMENTO</th>\n",
       "    </tr>\n",
       "  </thead>\n",
       "  <tbody>\n",
       "    <tr>\n",
       "      <th>84043</th>\n",
       "      <td>7405179</td>\n",
       "      <td>PF</td>\n",
       "      <td>2018-08-10</td>\n",
       "      <td>1</td>\n",
       "      <td>1</td>\n",
       "      <td>1</td>\n",
       "      <td>NaT</td>\n",
       "      <td>2018-10-16</td>\n",
       "      <td>GOOHOTYAHMAIL</td>\n",
       "      <td>20</td>\n",
       "      <td>1130128XXXXX</td>\n",
       "      <td>4</td>\n",
       "      <td>Colombia</td>\n",
       "      <td>NaN</td>\n",
       "      <td>NaN</td>\n",
       "      <td>NaN</td>\n",
       "      <td>NaN</td>\n",
       "      <td>NaN</td>\n",
       "      <td>NaN</td>\n",
       "    </tr>\n",
       "    <tr>\n",
       "      <th>89353</th>\n",
       "      <td>7255779</td>\n",
       "      <td>PF</td>\n",
       "      <td>2018-07-15</td>\n",
       "      <td>2</td>\n",
       "      <td>1</td>\n",
       "      <td>1</td>\n",
       "      <td>NaT</td>\n",
       "      <td>2018-10-16</td>\n",
       "      <td>GOOHOTYAHMAIL</td>\n",
       "      <td>20</td>\n",
       "      <td>1131525XXXXX</td>\n",
       "      <td>1</td>\n",
       "      <td>Colombia</td>\n",
       "      <td>NaN</td>\n",
       "      <td>NaN</td>\n",
       "      <td>NaN</td>\n",
       "      <td>NaN</td>\n",
       "      <td>NaN</td>\n",
       "      <td>NaN</td>\n",
       "    </tr>\n",
       "    <tr>\n",
       "      <th>90216</th>\n",
       "      <td>6921450</td>\n",
       "      <td>PF</td>\n",
       "      <td>2018-08-02</td>\n",
       "      <td>6</td>\n",
       "      <td>1</td>\n",
       "      <td>1</td>\n",
       "      <td>NaT</td>\n",
       "      <td>2018-09-02</td>\n",
       "      <td>SINCLASIFICAR</td>\n",
       "      <td>-10</td>\n",
       "      <td>1131674XXXXX</td>\n",
       "      <td>2</td>\n",
       "      <td>Colombia</td>\n",
       "      <td>NaN</td>\n",
       "      <td>NaN</td>\n",
       "      <td>NaN</td>\n",
       "      <td>NaN</td>\n",
       "      <td>NaN</td>\n",
       "      <td>NaN</td>\n",
       "    </tr>\n",
       "  </tbody>\n",
       "</table>\n",
       "</div>"
      ],
      "text/plain": [
       "       ID_USUARIO TIPOUSUARIO FECHA_REGISTRO  CANAL_REGISTRO  IND_CLIENTE  \\\n",
       "84043     7405179          PF     2018-08-10               1            1   \n",
       "89353     7255779          PF     2018-07-15               2            1   \n",
       "90216     6921450          PF     2018-08-02               6            1   \n",
       "\n",
       "       IND_ALTA FECHA_ALTA FECHA_CLIENTE      TIPOEMAIL  BONDAD_EMAIL  \\\n",
       "84043         1        NaT    2018-10-16  GOOHOTYAHMAIL            20   \n",
       "89353         1        NaT    2018-10-16  GOOHOTYAHMAIL            20   \n",
       "90216         1        NaT    2018-09-02  SINCLASIFICAR           -10   \n",
       "\n",
       "           USU_TELF  IPCASOS IP_Country IP_Region USU_TIPO USU_TAMANIO  \\\n",
       "84043  1130128XXXXX        4   Colombia       NaN      NaN         NaN   \n",
       "89353  1131525XXXXX        1   Colombia       NaN      NaN         NaN   \n",
       "90216  1131674XXXXX        2   Colombia       NaN      NaN         NaN   \n",
       "\n",
       "      USU_CIIU USU_ESTADO USU_DEPARTAMENTO  \n",
       "84043      NaN        NaN              NaN  \n",
       "89353      NaN        NaN              NaN  \n",
       "90216      NaN        NaN              NaN  "
      ]
     },
     "execution_count": 31,
     "metadata": {},
     "output_type": "execute_result"
    }
   ],
   "source": [
    "df_user[(df_user['IND_ALTA'] == 1) & (df_user['FECHA_ALTA'].isna())]"
   ]
  },
  {
   "cell_type": "markdown",
   "id": "completed-convenience",
   "metadata": {},
   "source": [
    "**Relizamos la tranformación**"
   ]
  },
  {
   "cell_type": "code",
   "execution_count": 32,
   "id": "worst-feedback",
   "metadata": {},
   "outputs": [],
   "source": [
    "df_user.loc[(df_user['IND_ALTA'] == 1) & (df_user['FECHA_ALTA'].isna()), 'FECHA_ALTA'] = df_user['FECHA_CLIENTE']"
   ]
  },
  {
   "cell_type": "code",
   "execution_count": 33,
   "id": "offshore-louis",
   "metadata": {},
   "outputs": [
    {
     "data": {
      "text/html": [
       "<div>\n",
       "<style scoped>\n",
       "    .dataframe tbody tr th:only-of-type {\n",
       "        vertical-align: middle;\n",
       "    }\n",
       "\n",
       "    .dataframe tbody tr th {\n",
       "        vertical-align: top;\n",
       "    }\n",
       "\n",
       "    .dataframe thead th {\n",
       "        text-align: right;\n",
       "    }\n",
       "</style>\n",
       "<table border=\"1\" class=\"dataframe\">\n",
       "  <thead>\n",
       "    <tr style=\"text-align: right;\">\n",
       "      <th></th>\n",
       "      <th>ID_USUARIO</th>\n",
       "      <th>TIPOUSUARIO</th>\n",
       "      <th>FECHA_REGISTRO</th>\n",
       "      <th>CANAL_REGISTRO</th>\n",
       "      <th>IND_CLIENTE</th>\n",
       "      <th>IND_ALTA</th>\n",
       "      <th>FECHA_ALTA</th>\n",
       "      <th>FECHA_CLIENTE</th>\n",
       "      <th>TIPOEMAIL</th>\n",
       "      <th>BONDAD_EMAIL</th>\n",
       "      <th>USU_TELF</th>\n",
       "      <th>IPCASOS</th>\n",
       "      <th>IP_Country</th>\n",
       "      <th>IP_Region</th>\n",
       "      <th>USU_TIPO</th>\n",
       "      <th>USU_TAMANIO</th>\n",
       "      <th>USU_CIIU</th>\n",
       "      <th>USU_ESTADO</th>\n",
       "      <th>USU_DEPARTAMENTO</th>\n",
       "    </tr>\n",
       "  </thead>\n",
       "  <tbody>\n",
       "    <tr>\n",
       "      <th>84043</th>\n",
       "      <td>7405179</td>\n",
       "      <td>PF</td>\n",
       "      <td>2018-08-10</td>\n",
       "      <td>1</td>\n",
       "      <td>1</td>\n",
       "      <td>1</td>\n",
       "      <td>2018-10-16</td>\n",
       "      <td>2018-10-16</td>\n",
       "      <td>GOOHOTYAHMAIL</td>\n",
       "      <td>20</td>\n",
       "      <td>1130128XXXXX</td>\n",
       "      <td>4</td>\n",
       "      <td>Colombia</td>\n",
       "      <td>NaN</td>\n",
       "      <td>NaN</td>\n",
       "      <td>NaN</td>\n",
       "      <td>NaN</td>\n",
       "      <td>NaN</td>\n",
       "      <td>NaN</td>\n",
       "    </tr>\n",
       "    <tr>\n",
       "      <th>89353</th>\n",
       "      <td>7255779</td>\n",
       "      <td>PF</td>\n",
       "      <td>2018-07-15</td>\n",
       "      <td>2</td>\n",
       "      <td>1</td>\n",
       "      <td>1</td>\n",
       "      <td>2018-10-16</td>\n",
       "      <td>2018-10-16</td>\n",
       "      <td>GOOHOTYAHMAIL</td>\n",
       "      <td>20</td>\n",
       "      <td>1131525XXXXX</td>\n",
       "      <td>1</td>\n",
       "      <td>Colombia</td>\n",
       "      <td>NaN</td>\n",
       "      <td>NaN</td>\n",
       "      <td>NaN</td>\n",
       "      <td>NaN</td>\n",
       "      <td>NaN</td>\n",
       "      <td>NaN</td>\n",
       "    </tr>\n",
       "    <tr>\n",
       "      <th>90216</th>\n",
       "      <td>6921450</td>\n",
       "      <td>PF</td>\n",
       "      <td>2018-08-02</td>\n",
       "      <td>6</td>\n",
       "      <td>1</td>\n",
       "      <td>1</td>\n",
       "      <td>2018-09-02</td>\n",
       "      <td>2018-09-02</td>\n",
       "      <td>SINCLASIFICAR</td>\n",
       "      <td>-10</td>\n",
       "      <td>1131674XXXXX</td>\n",
       "      <td>2</td>\n",
       "      <td>Colombia</td>\n",
       "      <td>NaN</td>\n",
       "      <td>NaN</td>\n",
       "      <td>NaN</td>\n",
       "      <td>NaN</td>\n",
       "      <td>NaN</td>\n",
       "      <td>NaN</td>\n",
       "    </tr>\n",
       "  </tbody>\n",
       "</table>\n",
       "</div>"
      ],
      "text/plain": [
       "       ID_USUARIO TIPOUSUARIO FECHA_REGISTRO  CANAL_REGISTRO  IND_CLIENTE  \\\n",
       "84043     7405179          PF     2018-08-10               1            1   \n",
       "89353     7255779          PF     2018-07-15               2            1   \n",
       "90216     6921450          PF     2018-08-02               6            1   \n",
       "\n",
       "       IND_ALTA FECHA_ALTA FECHA_CLIENTE      TIPOEMAIL  BONDAD_EMAIL  \\\n",
       "84043         1 2018-10-16    2018-10-16  GOOHOTYAHMAIL            20   \n",
       "89353         1 2018-10-16    2018-10-16  GOOHOTYAHMAIL            20   \n",
       "90216         1 2018-09-02    2018-09-02  SINCLASIFICAR           -10   \n",
       "\n",
       "           USU_TELF  IPCASOS IP_Country IP_Region USU_TIPO USU_TAMANIO  \\\n",
       "84043  1130128XXXXX        4   Colombia       NaN      NaN         NaN   \n",
       "89353  1131525XXXXX        1   Colombia       NaN      NaN         NaN   \n",
       "90216  1131674XXXXX        2   Colombia       NaN      NaN         NaN   \n",
       "\n",
       "      USU_CIIU USU_ESTADO USU_DEPARTAMENTO  \n",
       "84043      NaN        NaN              NaN  \n",
       "89353      NaN        NaN              NaN  \n",
       "90216      NaN        NaN              NaN  "
      ]
     },
     "execution_count": 33,
     "metadata": {},
     "output_type": "execute_result"
    }
   ],
   "source": [
    "df_user[df_user['ID_USUARIO'].isin([7405179,7255779,6921450])]"
   ]
  },
  {
   "cell_type": "markdown",
   "id": "suburban-congo",
   "metadata": {},
   "source": [
    "* Los usuarios con fecha de alta informada, deberán tener IND_ALTA = 1.  "
   ]
  },
  {
   "cell_type": "code",
   "execution_count": 34,
   "id": "automated-vancouver",
   "metadata": {},
   "outputs": [
    {
     "data": {
      "text/plain": [
       "IND_ALTA\n",
       "0       4\n",
       "1    3710\n",
       "Name: IND_ALTA, dtype: int64"
      ]
     },
     "execution_count": 34,
     "metadata": {},
     "output_type": "execute_result"
    }
   ],
   "source": [
    "df_user[~df_user['FECHA_ALTA'].isna()].groupby(['IND_ALTA'])['IND_ALTA'].count()"
   ]
  },
  {
   "cell_type": "code",
   "execution_count": 35,
   "id": "sublime-shore",
   "metadata": {},
   "outputs": [
    {
     "data": {
      "text/html": [
       "<div>\n",
       "<style scoped>\n",
       "    .dataframe tbody tr th:only-of-type {\n",
       "        vertical-align: middle;\n",
       "    }\n",
       "\n",
       "    .dataframe tbody tr th {\n",
       "        vertical-align: top;\n",
       "    }\n",
       "\n",
       "    .dataframe thead th {\n",
       "        text-align: right;\n",
       "    }\n",
       "</style>\n",
       "<table border=\"1\" class=\"dataframe\">\n",
       "  <thead>\n",
       "    <tr style=\"text-align: right;\">\n",
       "      <th></th>\n",
       "      <th>ID_USUARIO</th>\n",
       "      <th>TIPOUSUARIO</th>\n",
       "      <th>FECHA_REGISTRO</th>\n",
       "      <th>CANAL_REGISTRO</th>\n",
       "      <th>IND_CLIENTE</th>\n",
       "      <th>IND_ALTA</th>\n",
       "      <th>FECHA_ALTA</th>\n",
       "      <th>FECHA_CLIENTE</th>\n",
       "      <th>TIPOEMAIL</th>\n",
       "      <th>BONDAD_EMAIL</th>\n",
       "      <th>USU_TELF</th>\n",
       "      <th>IPCASOS</th>\n",
       "      <th>IP_Country</th>\n",
       "      <th>IP_Region</th>\n",
       "      <th>USU_TIPO</th>\n",
       "      <th>USU_TAMANIO</th>\n",
       "      <th>USU_CIIU</th>\n",
       "      <th>USU_ESTADO</th>\n",
       "      <th>USU_DEPARTAMENTO</th>\n",
       "    </tr>\n",
       "  </thead>\n",
       "  <tbody>\n",
       "    <tr>\n",
       "      <th>162053</th>\n",
       "      <td>7483369</td>\n",
       "      <td>PJ</td>\n",
       "      <td>2018-11-25</td>\n",
       "      <td>2</td>\n",
       "      <td>0</td>\n",
       "      <td>0</td>\n",
       "      <td>2021-01-23</td>\n",
       "      <td>NaT</td>\n",
       "      <td>GOOHOTYAHMAIL</td>\n",
       "      <td>20</td>\n",
       "      <td>71XXXXX</td>\n",
       "      <td>3</td>\n",
       "      <td>Colombia</td>\n",
       "      <td>Bogotá D.C.</td>\n",
       "      <td>ENTIDAD SIN ANIMO DE LUCRO</td>\n",
       "      <td>MC</td>\n",
       "      <td>Q8890</td>\n",
       "      <td>ACTIVA</td>\n",
       "      <td>BOGOTA</td>\n",
       "    </tr>\n",
       "    <tr>\n",
       "      <th>171884</th>\n",
       "      <td>7251094</td>\n",
       "      <td>PJ</td>\n",
       "      <td>2018-12-07</td>\n",
       "      <td>3</td>\n",
       "      <td>0</td>\n",
       "      <td>0</td>\n",
       "      <td>2021-01-25</td>\n",
       "      <td>NaT</td>\n",
       "      <td>GOOHOTYAHMAIL</td>\n",
       "      <td>20</td>\n",
       "      <td>32051XXXXX</td>\n",
       "      <td>2</td>\n",
       "      <td>Colombia</td>\n",
       "      <td>Bogotá D.C.</td>\n",
       "      <td>EMPRESARIO INDIVIDUAL</td>\n",
       "      <td>MC</td>\n",
       "      <td>G4711</td>\n",
       "      <td>ACTIVA</td>\n",
       "      <td>TOLIMA</td>\n",
       "    </tr>\n",
       "    <tr>\n",
       "      <th>230193</th>\n",
       "      <td>7606382</td>\n",
       "      <td>PF</td>\n",
       "      <td>2019-02-21</td>\n",
       "      <td>8</td>\n",
       "      <td>0</td>\n",
       "      <td>0</td>\n",
       "      <td>2021-01-24</td>\n",
       "      <td>NaT</td>\n",
       "      <td>GOOHOTYAHMAIL</td>\n",
       "      <td>20</td>\n",
       "      <td>131241XXXXX</td>\n",
       "      <td>1</td>\n",
       "      <td>Colombia</td>\n",
       "      <td>Bogotá D.C.</td>\n",
       "      <td>NaN</td>\n",
       "      <td>NaN</td>\n",
       "      <td>NaN</td>\n",
       "      <td>NaN</td>\n",
       "      <td>NaN</td>\n",
       "    </tr>\n",
       "    <tr>\n",
       "      <th>323122</th>\n",
       "      <td>7586391</td>\n",
       "      <td>PF</td>\n",
       "      <td>2019-11-02</td>\n",
       "      <td>3</td>\n",
       "      <td>0</td>\n",
       "      <td>0</td>\n",
       "      <td>2021-01-26</td>\n",
       "      <td>NaT</td>\n",
       "      <td>CORPORATIVO</td>\n",
       "      <td>20</td>\n",
       "      <td>162XXXXX</td>\n",
       "      <td>0</td>\n",
       "      <td>NaN</td>\n",
       "      <td>NaN</td>\n",
       "      <td>NaN</td>\n",
       "      <td>NaN</td>\n",
       "      <td>NaN</td>\n",
       "      <td>NaN</td>\n",
       "      <td>NaN</td>\n",
       "    </tr>\n",
       "  </tbody>\n",
       "</table>\n",
       "</div>"
      ],
      "text/plain": [
       "        ID_USUARIO TIPOUSUARIO FECHA_REGISTRO  CANAL_REGISTRO  IND_CLIENTE  \\\n",
       "162053     7483369          PJ     2018-11-25               2            0   \n",
       "171884     7251094          PJ     2018-12-07               3            0   \n",
       "230193     7606382          PF     2019-02-21               8            0   \n",
       "323122     7586391          PF     2019-11-02               3            0   \n",
       "\n",
       "        IND_ALTA FECHA_ALTA FECHA_CLIENTE      TIPOEMAIL  BONDAD_EMAIL  \\\n",
       "162053         0 2021-01-23           NaT  GOOHOTYAHMAIL            20   \n",
       "171884         0 2021-01-25           NaT  GOOHOTYAHMAIL            20   \n",
       "230193         0 2021-01-24           NaT  GOOHOTYAHMAIL            20   \n",
       "323122         0 2021-01-26           NaT    CORPORATIVO            20   \n",
       "\n",
       "           USU_TELF  IPCASOS IP_Country    IP_Region  \\\n",
       "162053      71XXXXX        3   Colombia  Bogotá D.C.   \n",
       "171884   32051XXXXX        2   Colombia  Bogotá D.C.   \n",
       "230193  131241XXXXX        1   Colombia  Bogotá D.C.   \n",
       "323122     162XXXXX        0        NaN          NaN   \n",
       "\n",
       "                          USU_TIPO USU_TAMANIO USU_CIIU USU_ESTADO  \\\n",
       "162053  ENTIDAD SIN ANIMO DE LUCRO          MC    Q8890     ACTIVA   \n",
       "171884       EMPRESARIO INDIVIDUAL          MC    G4711     ACTIVA   \n",
       "230193                         NaN         NaN      NaN        NaN   \n",
       "323122                         NaN         NaN      NaN        NaN   \n",
       "\n",
       "       USU_DEPARTAMENTO  \n",
       "162053           BOGOTA  \n",
       "171884           TOLIMA  \n",
       "230193              NaN  \n",
       "323122              NaN  "
      ]
     },
     "execution_count": 35,
     "metadata": {},
     "output_type": "execute_result"
    }
   ],
   "source": [
    "df_user[(df_user['IND_ALTA'] == 0) & (~df_user['FECHA_ALTA'].isna())]"
   ]
  },
  {
   "cell_type": "markdown",
   "id": "conceptual-shadow",
   "metadata": {},
   "source": [
    "**Relizamos la tranformación**"
   ]
  },
  {
   "cell_type": "code",
   "execution_count": 36,
   "id": "multiple-wound",
   "metadata": {},
   "outputs": [],
   "source": [
    "df_user.loc[(df_user['IND_ALTA'] == 0) & (~df_user['FECHA_ALTA'].isna()), 'IND_ALTA'] = 1"
   ]
  },
  {
   "cell_type": "code",
   "execution_count": 37,
   "id": "understood-plasma",
   "metadata": {},
   "outputs": [
    {
     "data": {
      "text/html": [
       "<div>\n",
       "<style scoped>\n",
       "    .dataframe tbody tr th:only-of-type {\n",
       "        vertical-align: middle;\n",
       "    }\n",
       "\n",
       "    .dataframe tbody tr th {\n",
       "        vertical-align: top;\n",
       "    }\n",
       "\n",
       "    .dataframe thead th {\n",
       "        text-align: right;\n",
       "    }\n",
       "</style>\n",
       "<table border=\"1\" class=\"dataframe\">\n",
       "  <thead>\n",
       "    <tr style=\"text-align: right;\">\n",
       "      <th></th>\n",
       "      <th>ID_USUARIO</th>\n",
       "      <th>TIPOUSUARIO</th>\n",
       "      <th>FECHA_REGISTRO</th>\n",
       "      <th>CANAL_REGISTRO</th>\n",
       "      <th>IND_CLIENTE</th>\n",
       "      <th>IND_ALTA</th>\n",
       "      <th>FECHA_ALTA</th>\n",
       "      <th>FECHA_CLIENTE</th>\n",
       "      <th>TIPOEMAIL</th>\n",
       "      <th>BONDAD_EMAIL</th>\n",
       "      <th>USU_TELF</th>\n",
       "      <th>IPCASOS</th>\n",
       "      <th>IP_Country</th>\n",
       "      <th>IP_Region</th>\n",
       "      <th>USU_TIPO</th>\n",
       "      <th>USU_TAMANIO</th>\n",
       "      <th>USU_CIIU</th>\n",
       "      <th>USU_ESTADO</th>\n",
       "      <th>USU_DEPARTAMENTO</th>\n",
       "    </tr>\n",
       "  </thead>\n",
       "  <tbody>\n",
       "    <tr>\n",
       "      <th>162053</th>\n",
       "      <td>7483369</td>\n",
       "      <td>PJ</td>\n",
       "      <td>2018-11-25</td>\n",
       "      <td>2</td>\n",
       "      <td>0</td>\n",
       "      <td>1</td>\n",
       "      <td>2021-01-23</td>\n",
       "      <td>NaT</td>\n",
       "      <td>GOOHOTYAHMAIL</td>\n",
       "      <td>20</td>\n",
       "      <td>71XXXXX</td>\n",
       "      <td>3</td>\n",
       "      <td>Colombia</td>\n",
       "      <td>Bogotá D.C.</td>\n",
       "      <td>ENTIDAD SIN ANIMO DE LUCRO</td>\n",
       "      <td>MC</td>\n",
       "      <td>Q8890</td>\n",
       "      <td>ACTIVA</td>\n",
       "      <td>BOGOTA</td>\n",
       "    </tr>\n",
       "    <tr>\n",
       "      <th>171884</th>\n",
       "      <td>7251094</td>\n",
       "      <td>PJ</td>\n",
       "      <td>2018-12-07</td>\n",
       "      <td>3</td>\n",
       "      <td>0</td>\n",
       "      <td>1</td>\n",
       "      <td>2021-01-25</td>\n",
       "      <td>NaT</td>\n",
       "      <td>GOOHOTYAHMAIL</td>\n",
       "      <td>20</td>\n",
       "      <td>32051XXXXX</td>\n",
       "      <td>2</td>\n",
       "      <td>Colombia</td>\n",
       "      <td>Bogotá D.C.</td>\n",
       "      <td>EMPRESARIO INDIVIDUAL</td>\n",
       "      <td>MC</td>\n",
       "      <td>G4711</td>\n",
       "      <td>ACTIVA</td>\n",
       "      <td>TOLIMA</td>\n",
       "    </tr>\n",
       "    <tr>\n",
       "      <th>230193</th>\n",
       "      <td>7606382</td>\n",
       "      <td>PF</td>\n",
       "      <td>2019-02-21</td>\n",
       "      <td>8</td>\n",
       "      <td>0</td>\n",
       "      <td>1</td>\n",
       "      <td>2021-01-24</td>\n",
       "      <td>NaT</td>\n",
       "      <td>GOOHOTYAHMAIL</td>\n",
       "      <td>20</td>\n",
       "      <td>131241XXXXX</td>\n",
       "      <td>1</td>\n",
       "      <td>Colombia</td>\n",
       "      <td>Bogotá D.C.</td>\n",
       "      <td>NaN</td>\n",
       "      <td>NaN</td>\n",
       "      <td>NaN</td>\n",
       "      <td>NaN</td>\n",
       "      <td>NaN</td>\n",
       "    </tr>\n",
       "    <tr>\n",
       "      <th>323122</th>\n",
       "      <td>7586391</td>\n",
       "      <td>PF</td>\n",
       "      <td>2019-11-02</td>\n",
       "      <td>3</td>\n",
       "      <td>0</td>\n",
       "      <td>1</td>\n",
       "      <td>2021-01-26</td>\n",
       "      <td>NaT</td>\n",
       "      <td>CORPORATIVO</td>\n",
       "      <td>20</td>\n",
       "      <td>162XXXXX</td>\n",
       "      <td>0</td>\n",
       "      <td>NaN</td>\n",
       "      <td>NaN</td>\n",
       "      <td>NaN</td>\n",
       "      <td>NaN</td>\n",
       "      <td>NaN</td>\n",
       "      <td>NaN</td>\n",
       "      <td>NaN</td>\n",
       "    </tr>\n",
       "  </tbody>\n",
       "</table>\n",
       "</div>"
      ],
      "text/plain": [
       "        ID_USUARIO TIPOUSUARIO FECHA_REGISTRO  CANAL_REGISTRO  IND_CLIENTE  \\\n",
       "162053     7483369          PJ     2018-11-25               2            0   \n",
       "171884     7251094          PJ     2018-12-07               3            0   \n",
       "230193     7606382          PF     2019-02-21               8            0   \n",
       "323122     7586391          PF     2019-11-02               3            0   \n",
       "\n",
       "        IND_ALTA FECHA_ALTA FECHA_CLIENTE      TIPOEMAIL  BONDAD_EMAIL  \\\n",
       "162053         1 2021-01-23           NaT  GOOHOTYAHMAIL            20   \n",
       "171884         1 2021-01-25           NaT  GOOHOTYAHMAIL            20   \n",
       "230193         1 2021-01-24           NaT  GOOHOTYAHMAIL            20   \n",
       "323122         1 2021-01-26           NaT    CORPORATIVO            20   \n",
       "\n",
       "           USU_TELF  IPCASOS IP_Country    IP_Region  \\\n",
       "162053      71XXXXX        3   Colombia  Bogotá D.C.   \n",
       "171884   32051XXXXX        2   Colombia  Bogotá D.C.   \n",
       "230193  131241XXXXX        1   Colombia  Bogotá D.C.   \n",
       "323122     162XXXXX        0        NaN          NaN   \n",
       "\n",
       "                          USU_TIPO USU_TAMANIO USU_CIIU USU_ESTADO  \\\n",
       "162053  ENTIDAD SIN ANIMO DE LUCRO          MC    Q8890     ACTIVA   \n",
       "171884       EMPRESARIO INDIVIDUAL          MC    G4711     ACTIVA   \n",
       "230193                         NaN         NaN      NaN        NaN   \n",
       "323122                         NaN         NaN      NaN        NaN   \n",
       "\n",
       "       USU_DEPARTAMENTO  \n",
       "162053           BOGOTA  \n",
       "171884           TOLIMA  \n",
       "230193              NaN  \n",
       "323122              NaN  "
      ]
     },
     "execution_count": 37,
     "metadata": {},
     "output_type": "execute_result"
    }
   ],
   "source": [
    "df_user[df_user['ID_USUARIO'].isin([7483369,7251094,7606382,7586391])]"
   ]
  },
  {
   "cell_type": "markdown",
   "id": "unnecessary-melissa",
   "metadata": {},
   "source": [
    "* Los usuarios con fecha de alta sin informar, deberán tener IND_ALTA = 0. Cambiamos los valores nulos por NA "
   ]
  },
  {
   "cell_type": "code",
   "execution_count": 38,
   "id": "wired-luther",
   "metadata": {},
   "outputs": [
    {
     "data": {
      "text/plain": [
       "NaT    363989\n",
       "Name: FECHA_ALTA, dtype: int64"
      ]
     },
     "execution_count": 38,
     "metadata": {},
     "output_type": "execute_result"
    }
   ],
   "source": [
    "df_user[df_user['IND_ALTA'] == 0]['FECHA_ALTA'].value_counts(dropna = False)"
   ]
  },
  {
   "cell_type": "code",
   "execution_count": 39,
   "id": "documented-nebraska",
   "metadata": {},
   "outputs": [],
   "source": [
    "df_user.loc[df_user['IND_ALTA'] == 0, 'FECHA_ALTA'] = 'NoApl'"
   ]
  },
  {
   "cell_type": "code",
   "execution_count": 40,
   "id": "automatic-governor",
   "metadata": {},
   "outputs": [
    {
     "data": {
      "text/plain": [
       "NoApl    363989\n",
       "Name: FECHA_ALTA, dtype: int64"
      ]
     },
     "execution_count": 40,
     "metadata": {},
     "output_type": "execute_result"
    }
   ],
   "source": [
    "df_user[df_user['IND_ALTA'] == 0]['FECHA_ALTA'].value_counts()"
   ]
  },
  {
   "cell_type": "markdown",
   "id": "under-headline",
   "metadata": {},
   "source": [
    "------------------"
   ]
  },
  {
   "cell_type": "markdown",
   "id": "abroad-springfield",
   "metadata": {},
   "source": [
    "**2. FECHA_CLIENTE**"
   ]
  },
  {
   "cell_type": "markdown",
   "id": "ambient-horizontal",
   "metadata": {},
   "source": [
    "**Recordamos**: Fecha en la que el Usuario se convierte a Cliente\n",
    "\n",
    "**En este caso, por definición se puede saber que este indicador va relacionado con el campo IND_CLIENTE, por lo que definimos lo siguiente:**\n",
    "* Si IND_CLIENTE = 1, FECHA_CLIENTE no puede ser nulo.\n",
    "* Si IND_CLIENTE = 0, FECHA_CLIENTE debe ser nulo (NoApl - No Aplica)"
   ]
  },
  {
   "cell_type": "markdown",
   "id": "smooth-cooperation",
   "metadata": {},
   "source": [
    "**Realizaremos el tratamiento de la información.**\n",
    "\n",
    "* Los usuarios con fecha de alta sin informar, deberán tener IND_CLIENTE = 0, y se les pondrá el valor NI en FECHA_CLIENTE."
   ]
  },
  {
   "cell_type": "markdown",
   "id": "changing-visitor",
   "metadata": {},
   "source": [
    "**NOTA**: En este caso, al tener además el indicador alta, quiere decir que el cliente se tuvo que dar de alta antes de ser cliente. Por lo que consideramos la fecha de alta como la misma fecha que la de CLIENTE."
   ]
  },
  {
   "cell_type": "code",
   "execution_count": 41,
   "id": "asian-bryan",
   "metadata": {},
   "outputs": [
    {
     "data": {
      "text/plain": [
       "IND_CLIENTE\n",
       "0    365084\n",
       "1         6\n",
       "Name: IND_CLIENTE, dtype: int64"
      ]
     },
     "execution_count": 41,
     "metadata": {},
     "output_type": "execute_result"
    }
   ],
   "source": [
    "df_user[df_user['FECHA_CLIENTE'].isna()].groupby(['IND_CLIENTE'])['IND_CLIENTE'].count()"
   ]
  },
  {
   "cell_type": "code",
   "execution_count": 42,
   "id": "nearby-investigation",
   "metadata": {},
   "outputs": [
    {
     "data": {
      "text/html": [
       "<div>\n",
       "<style scoped>\n",
       "    .dataframe tbody tr th:only-of-type {\n",
       "        vertical-align: middle;\n",
       "    }\n",
       "\n",
       "    .dataframe tbody tr th {\n",
       "        vertical-align: top;\n",
       "    }\n",
       "\n",
       "    .dataframe thead th {\n",
       "        text-align: right;\n",
       "    }\n",
       "</style>\n",
       "<table border=\"1\" class=\"dataframe\">\n",
       "  <thead>\n",
       "    <tr style=\"text-align: right;\">\n",
       "      <th></th>\n",
       "      <th>ID_USUARIO</th>\n",
       "      <th>TIPOUSUARIO</th>\n",
       "      <th>FECHA_REGISTRO</th>\n",
       "      <th>CANAL_REGISTRO</th>\n",
       "      <th>IND_CLIENTE</th>\n",
       "      <th>IND_ALTA</th>\n",
       "      <th>FECHA_ALTA</th>\n",
       "      <th>FECHA_CLIENTE</th>\n",
       "      <th>TIPOEMAIL</th>\n",
       "      <th>BONDAD_EMAIL</th>\n",
       "      <th>USU_TELF</th>\n",
       "      <th>IPCASOS</th>\n",
       "      <th>IP_Country</th>\n",
       "      <th>IP_Region</th>\n",
       "      <th>USU_TIPO</th>\n",
       "      <th>USU_TAMANIO</th>\n",
       "      <th>USU_CIIU</th>\n",
       "      <th>USU_ESTADO</th>\n",
       "      <th>USU_DEPARTAMENTO</th>\n",
       "    </tr>\n",
       "  </thead>\n",
       "  <tbody>\n",
       "    <tr>\n",
       "      <th>51660</th>\n",
       "      <td>7880345</td>\n",
       "      <td>PF</td>\n",
       "      <td>2019-08-07</td>\n",
       "      <td>1</td>\n",
       "      <td>1</td>\n",
       "      <td>1</td>\n",
       "      <td>2019-08-07 00:00:00</td>\n",
       "      <td>NaT</td>\n",
       "      <td>GOOHOTYAHMAIL</td>\n",
       "      <td>20</td>\n",
       "      <td>31087XXXXX</td>\n",
       "      <td>183</td>\n",
       "      <td>Colombia</td>\n",
       "      <td>Bogotá D.C.</td>\n",
       "      <td>NaN</td>\n",
       "      <td>NaN</td>\n",
       "      <td>NaN</td>\n",
       "      <td>NaN</td>\n",
       "      <td>NaN</td>\n",
       "    </tr>\n",
       "    <tr>\n",
       "      <th>51661</th>\n",
       "      <td>8240404</td>\n",
       "      <td>PF</td>\n",
       "      <td>2019-12-23</td>\n",
       "      <td>3</td>\n",
       "      <td>1</td>\n",
       "      <td>1</td>\n",
       "      <td>2020-05-05 00:00:00</td>\n",
       "      <td>NaT</td>\n",
       "      <td>GOOHOTYAHMAIL</td>\n",
       "      <td>20</td>\n",
       "      <td>31087XXXXX</td>\n",
       "      <td>19</td>\n",
       "      <td>NaN</td>\n",
       "      <td>NaN</td>\n",
       "      <td>NaN</td>\n",
       "      <td>NaN</td>\n",
       "      <td>NaN</td>\n",
       "      <td>NaN</td>\n",
       "      <td>NaN</td>\n",
       "    </tr>\n",
       "    <tr>\n",
       "      <th>87644</th>\n",
       "      <td>7533849</td>\n",
       "      <td>PJ</td>\n",
       "      <td>2019-09-01</td>\n",
       "      <td>1</td>\n",
       "      <td>1</td>\n",
       "      <td>1</td>\n",
       "      <td>2019-01-16 00:00:00</td>\n",
       "      <td>NaT</td>\n",
       "      <td>CORPORATIVO</td>\n",
       "      <td>20</td>\n",
       "      <td>1131249XXXXX</td>\n",
       "      <td>183</td>\n",
       "      <td>Colombia</td>\n",
       "      <td>Bogotá D.C.</td>\n",
       "      <td>NaN</td>\n",
       "      <td>NaN</td>\n",
       "      <td>NaN</td>\n",
       "      <td>NaN</td>\n",
       "      <td>BOGOTA</td>\n",
       "    </tr>\n",
       "    <tr>\n",
       "      <th>176927</th>\n",
       "      <td>7867996</td>\n",
       "      <td>PF</td>\n",
       "      <td>2019-02-07</td>\n",
       "      <td>1</td>\n",
       "      <td>1</td>\n",
       "      <td>1</td>\n",
       "      <td>2019-02-07 00:00:00</td>\n",
       "      <td>NaT</td>\n",
       "      <td>GOOHOTYAHMAIL</td>\n",
       "      <td>9</td>\n",
       "      <td>32087XXXXX</td>\n",
       "      <td>0</td>\n",
       "      <td>NaN</td>\n",
       "      <td>NaN</td>\n",
       "      <td>NaN</td>\n",
       "      <td>NaN</td>\n",
       "      <td>NaN</td>\n",
       "      <td>NaN</td>\n",
       "      <td>NaN</td>\n",
       "    </tr>\n",
       "    <tr>\n",
       "      <th>184422</th>\n",
       "      <td>8231610</td>\n",
       "      <td>PF</td>\n",
       "      <td>2019-12-18</td>\n",
       "      <td>1</td>\n",
       "      <td>1</td>\n",
       "      <td>1</td>\n",
       "      <td>2020-01-29 00:00:00</td>\n",
       "      <td>NaT</td>\n",
       "      <td>GOOHOTYAHMAIL</td>\n",
       "      <td>20</td>\n",
       "      <td>32147XXXXX</td>\n",
       "      <td>0</td>\n",
       "      <td>NaN</td>\n",
       "      <td>NaN</td>\n",
       "      <td>NaN</td>\n",
       "      <td>NaN</td>\n",
       "      <td>NaN</td>\n",
       "      <td>NaN</td>\n",
       "      <td>NaN</td>\n",
       "    </tr>\n",
       "    <tr>\n",
       "      <th>186127</th>\n",
       "      <td>7872518</td>\n",
       "      <td>PJ</td>\n",
       "      <td>2019-04-07</td>\n",
       "      <td>1</td>\n",
       "      <td>1</td>\n",
       "      <td>1</td>\n",
       "      <td>2020-12-21 00:00:00</td>\n",
       "      <td>NaT</td>\n",
       "      <td>CORPORATIVO</td>\n",
       "      <td>20</td>\n",
       "      <td>32158XXXXX</td>\n",
       "      <td>0</td>\n",
       "      <td>NaN</td>\n",
       "      <td>NaN</td>\n",
       "      <td>EMPRESARIO INDIVIDUAL</td>\n",
       "      <td>MC</td>\n",
       "      <td>G4719</td>\n",
       "      <td>ACTIVA</td>\n",
       "      <td>ANTIOQUIA</td>\n",
       "    </tr>\n",
       "  </tbody>\n",
       "</table>\n",
       "</div>"
      ],
      "text/plain": [
       "        ID_USUARIO TIPOUSUARIO FECHA_REGISTRO  CANAL_REGISTRO  IND_CLIENTE  \\\n",
       "51660      7880345          PF     2019-08-07               1            1   \n",
       "51661      8240404          PF     2019-12-23               3            1   \n",
       "87644      7533849          PJ     2019-09-01               1            1   \n",
       "176927     7867996          PF     2019-02-07               1            1   \n",
       "184422     8231610          PF     2019-12-18               1            1   \n",
       "186127     7872518          PJ     2019-04-07               1            1   \n",
       "\n",
       "        IND_ALTA           FECHA_ALTA FECHA_CLIENTE      TIPOEMAIL  \\\n",
       "51660          1  2019-08-07 00:00:00           NaT  GOOHOTYAHMAIL   \n",
       "51661          1  2020-05-05 00:00:00           NaT  GOOHOTYAHMAIL   \n",
       "87644          1  2019-01-16 00:00:00           NaT    CORPORATIVO   \n",
       "176927         1  2019-02-07 00:00:00           NaT  GOOHOTYAHMAIL   \n",
       "184422         1  2020-01-29 00:00:00           NaT  GOOHOTYAHMAIL   \n",
       "186127         1  2020-12-21 00:00:00           NaT    CORPORATIVO   \n",
       "\n",
       "        BONDAD_EMAIL      USU_TELF  IPCASOS IP_Country    IP_Region  \\\n",
       "51660             20    31087XXXXX      183   Colombia  Bogotá D.C.   \n",
       "51661             20    31087XXXXX       19        NaN          NaN   \n",
       "87644             20  1131249XXXXX      183   Colombia  Bogotá D.C.   \n",
       "176927             9    32087XXXXX        0        NaN          NaN   \n",
       "184422            20    32147XXXXX        0        NaN          NaN   \n",
       "186127            20    32158XXXXX        0        NaN          NaN   \n",
       "\n",
       "                     USU_TIPO USU_TAMANIO USU_CIIU USU_ESTADO USU_DEPARTAMENTO  \n",
       "51660                     NaN         NaN      NaN        NaN              NaN  \n",
       "51661                     NaN         NaN      NaN        NaN              NaN  \n",
       "87644                     NaN         NaN      NaN        NaN           BOGOTA  \n",
       "176927                    NaN         NaN      NaN        NaN              NaN  \n",
       "184422                    NaN         NaN      NaN        NaN              NaN  \n",
       "186127  EMPRESARIO INDIVIDUAL          MC    G4719     ACTIVA        ANTIOQUIA  "
      ]
     },
     "execution_count": 42,
     "metadata": {},
     "output_type": "execute_result"
    }
   ],
   "source": [
    "df_user[(df_user['IND_CLIENTE'] == 1) & (df_user['FECHA_CLIENTE'].isna())]"
   ]
  },
  {
   "cell_type": "markdown",
   "id": "coupled-finish",
   "metadata": {},
   "source": [
    "**Relizamos la tranformación**"
   ]
  },
  {
   "cell_type": "code",
   "execution_count": 43,
   "id": "metric-jacob",
   "metadata": {},
   "outputs": [],
   "source": [
    "df_user.loc[(df_user['IND_CLIENTE'] == 1) & (df_user['FECHA_CLIENTE'].isna()), 'FECHA_CLIENTE'] = df_user['FECHA_ALTA']"
   ]
  },
  {
   "cell_type": "code",
   "execution_count": 44,
   "id": "amended-accountability",
   "metadata": {},
   "outputs": [
    {
     "data": {
      "text/html": [
       "<div>\n",
       "<style scoped>\n",
       "    .dataframe tbody tr th:only-of-type {\n",
       "        vertical-align: middle;\n",
       "    }\n",
       "\n",
       "    .dataframe tbody tr th {\n",
       "        vertical-align: top;\n",
       "    }\n",
       "\n",
       "    .dataframe thead th {\n",
       "        text-align: right;\n",
       "    }\n",
       "</style>\n",
       "<table border=\"1\" class=\"dataframe\">\n",
       "  <thead>\n",
       "    <tr style=\"text-align: right;\">\n",
       "      <th></th>\n",
       "      <th>ID_USUARIO</th>\n",
       "      <th>TIPOUSUARIO</th>\n",
       "      <th>FECHA_REGISTRO</th>\n",
       "      <th>CANAL_REGISTRO</th>\n",
       "      <th>IND_CLIENTE</th>\n",
       "      <th>IND_ALTA</th>\n",
       "      <th>FECHA_ALTA</th>\n",
       "      <th>FECHA_CLIENTE</th>\n",
       "      <th>TIPOEMAIL</th>\n",
       "      <th>BONDAD_EMAIL</th>\n",
       "      <th>USU_TELF</th>\n",
       "      <th>IPCASOS</th>\n",
       "      <th>IP_Country</th>\n",
       "      <th>IP_Region</th>\n",
       "      <th>USU_TIPO</th>\n",
       "      <th>USU_TAMANIO</th>\n",
       "      <th>USU_CIIU</th>\n",
       "      <th>USU_ESTADO</th>\n",
       "      <th>USU_DEPARTAMENTO</th>\n",
       "    </tr>\n",
       "  </thead>\n",
       "  <tbody>\n",
       "    <tr>\n",
       "      <th>51660</th>\n",
       "      <td>7880345</td>\n",
       "      <td>PF</td>\n",
       "      <td>2019-08-07</td>\n",
       "      <td>1</td>\n",
       "      <td>1</td>\n",
       "      <td>1</td>\n",
       "      <td>2019-08-07 00:00:00</td>\n",
       "      <td>2019-08-07 00:00:00</td>\n",
       "      <td>GOOHOTYAHMAIL</td>\n",
       "      <td>20</td>\n",
       "      <td>31087XXXXX</td>\n",
       "      <td>183</td>\n",
       "      <td>Colombia</td>\n",
       "      <td>Bogotá D.C.</td>\n",
       "      <td>NaN</td>\n",
       "      <td>NaN</td>\n",
       "      <td>NaN</td>\n",
       "      <td>NaN</td>\n",
       "      <td>NaN</td>\n",
       "    </tr>\n",
       "    <tr>\n",
       "      <th>51661</th>\n",
       "      <td>8240404</td>\n",
       "      <td>PF</td>\n",
       "      <td>2019-12-23</td>\n",
       "      <td>3</td>\n",
       "      <td>1</td>\n",
       "      <td>1</td>\n",
       "      <td>2020-05-05 00:00:00</td>\n",
       "      <td>2020-05-05 00:00:00</td>\n",
       "      <td>GOOHOTYAHMAIL</td>\n",
       "      <td>20</td>\n",
       "      <td>31087XXXXX</td>\n",
       "      <td>19</td>\n",
       "      <td>NaN</td>\n",
       "      <td>NaN</td>\n",
       "      <td>NaN</td>\n",
       "      <td>NaN</td>\n",
       "      <td>NaN</td>\n",
       "      <td>NaN</td>\n",
       "      <td>NaN</td>\n",
       "    </tr>\n",
       "    <tr>\n",
       "      <th>87644</th>\n",
       "      <td>7533849</td>\n",
       "      <td>PJ</td>\n",
       "      <td>2019-09-01</td>\n",
       "      <td>1</td>\n",
       "      <td>1</td>\n",
       "      <td>1</td>\n",
       "      <td>2019-01-16 00:00:00</td>\n",
       "      <td>2019-01-16 00:00:00</td>\n",
       "      <td>CORPORATIVO</td>\n",
       "      <td>20</td>\n",
       "      <td>1131249XXXXX</td>\n",
       "      <td>183</td>\n",
       "      <td>Colombia</td>\n",
       "      <td>Bogotá D.C.</td>\n",
       "      <td>NaN</td>\n",
       "      <td>NaN</td>\n",
       "      <td>NaN</td>\n",
       "      <td>NaN</td>\n",
       "      <td>BOGOTA</td>\n",
       "    </tr>\n",
       "    <tr>\n",
       "      <th>176927</th>\n",
       "      <td>7867996</td>\n",
       "      <td>PF</td>\n",
       "      <td>2019-02-07</td>\n",
       "      <td>1</td>\n",
       "      <td>1</td>\n",
       "      <td>1</td>\n",
       "      <td>2019-02-07 00:00:00</td>\n",
       "      <td>2019-02-07 00:00:00</td>\n",
       "      <td>GOOHOTYAHMAIL</td>\n",
       "      <td>9</td>\n",
       "      <td>32087XXXXX</td>\n",
       "      <td>0</td>\n",
       "      <td>NaN</td>\n",
       "      <td>NaN</td>\n",
       "      <td>NaN</td>\n",
       "      <td>NaN</td>\n",
       "      <td>NaN</td>\n",
       "      <td>NaN</td>\n",
       "      <td>NaN</td>\n",
       "    </tr>\n",
       "    <tr>\n",
       "      <th>184422</th>\n",
       "      <td>8231610</td>\n",
       "      <td>PF</td>\n",
       "      <td>2019-12-18</td>\n",
       "      <td>1</td>\n",
       "      <td>1</td>\n",
       "      <td>1</td>\n",
       "      <td>2020-01-29 00:00:00</td>\n",
       "      <td>2020-01-29 00:00:00</td>\n",
       "      <td>GOOHOTYAHMAIL</td>\n",
       "      <td>20</td>\n",
       "      <td>32147XXXXX</td>\n",
       "      <td>0</td>\n",
       "      <td>NaN</td>\n",
       "      <td>NaN</td>\n",
       "      <td>NaN</td>\n",
       "      <td>NaN</td>\n",
       "      <td>NaN</td>\n",
       "      <td>NaN</td>\n",
       "      <td>NaN</td>\n",
       "    </tr>\n",
       "    <tr>\n",
       "      <th>186127</th>\n",
       "      <td>7872518</td>\n",
       "      <td>PJ</td>\n",
       "      <td>2019-04-07</td>\n",
       "      <td>1</td>\n",
       "      <td>1</td>\n",
       "      <td>1</td>\n",
       "      <td>2020-12-21 00:00:00</td>\n",
       "      <td>2020-12-21 00:00:00</td>\n",
       "      <td>CORPORATIVO</td>\n",
       "      <td>20</td>\n",
       "      <td>32158XXXXX</td>\n",
       "      <td>0</td>\n",
       "      <td>NaN</td>\n",
       "      <td>NaN</td>\n",
       "      <td>EMPRESARIO INDIVIDUAL</td>\n",
       "      <td>MC</td>\n",
       "      <td>G4719</td>\n",
       "      <td>ACTIVA</td>\n",
       "      <td>ANTIOQUIA</td>\n",
       "    </tr>\n",
       "  </tbody>\n",
       "</table>\n",
       "</div>"
      ],
      "text/plain": [
       "        ID_USUARIO TIPOUSUARIO FECHA_REGISTRO  CANAL_REGISTRO  IND_CLIENTE  \\\n",
       "51660      7880345          PF     2019-08-07               1            1   \n",
       "51661      8240404          PF     2019-12-23               3            1   \n",
       "87644      7533849          PJ     2019-09-01               1            1   \n",
       "176927     7867996          PF     2019-02-07               1            1   \n",
       "184422     8231610          PF     2019-12-18               1            1   \n",
       "186127     7872518          PJ     2019-04-07               1            1   \n",
       "\n",
       "        IND_ALTA           FECHA_ALTA        FECHA_CLIENTE      TIPOEMAIL  \\\n",
       "51660          1  2019-08-07 00:00:00  2019-08-07 00:00:00  GOOHOTYAHMAIL   \n",
       "51661          1  2020-05-05 00:00:00  2020-05-05 00:00:00  GOOHOTYAHMAIL   \n",
       "87644          1  2019-01-16 00:00:00  2019-01-16 00:00:00    CORPORATIVO   \n",
       "176927         1  2019-02-07 00:00:00  2019-02-07 00:00:00  GOOHOTYAHMAIL   \n",
       "184422         1  2020-01-29 00:00:00  2020-01-29 00:00:00  GOOHOTYAHMAIL   \n",
       "186127         1  2020-12-21 00:00:00  2020-12-21 00:00:00    CORPORATIVO   \n",
       "\n",
       "        BONDAD_EMAIL      USU_TELF  IPCASOS IP_Country    IP_Region  \\\n",
       "51660             20    31087XXXXX      183   Colombia  Bogotá D.C.   \n",
       "51661             20    31087XXXXX       19        NaN          NaN   \n",
       "87644             20  1131249XXXXX      183   Colombia  Bogotá D.C.   \n",
       "176927             9    32087XXXXX        0        NaN          NaN   \n",
       "184422            20    32147XXXXX        0        NaN          NaN   \n",
       "186127            20    32158XXXXX        0        NaN          NaN   \n",
       "\n",
       "                     USU_TIPO USU_TAMANIO USU_CIIU USU_ESTADO USU_DEPARTAMENTO  \n",
       "51660                     NaN         NaN      NaN        NaN              NaN  \n",
       "51661                     NaN         NaN      NaN        NaN              NaN  \n",
       "87644                     NaN         NaN      NaN        NaN           BOGOTA  \n",
       "176927                    NaN         NaN      NaN        NaN              NaN  \n",
       "184422                    NaN         NaN      NaN        NaN              NaN  \n",
       "186127  EMPRESARIO INDIVIDUAL          MC    G4719     ACTIVA        ANTIOQUIA  "
      ]
     },
     "execution_count": 44,
     "metadata": {},
     "output_type": "execute_result"
    }
   ],
   "source": [
    "df_user[df_user['ID_USUARIO'].isin([7880345,8240404,7533849,7867996,8231610,7872518])]"
   ]
  },
  {
   "cell_type": "markdown",
   "id": "frank-economics",
   "metadata": {},
   "source": [
    "* Los usuarios con fecha de cliente informada, deberán tener IND_CLIENTE = 1.  "
   ]
  },
  {
   "cell_type": "code",
   "execution_count": 45,
   "id": "intense-syndrome",
   "metadata": {},
   "outputs": [
    {
     "data": {
      "text/plain": [
       "IND_CLIENTE\n",
       "1    2619\n",
       "Name: IND_CLIENTE, dtype: int64"
      ]
     },
     "execution_count": 45,
     "metadata": {},
     "output_type": "execute_result"
    }
   ],
   "source": [
    "df_user[~df_user['FECHA_CLIENTE'].isna()].groupby(['IND_CLIENTE'])['IND_CLIENTE'].count()"
   ]
  },
  {
   "cell_type": "markdown",
   "id": "judicial-breed",
   "metadata": {},
   "source": [
    "En este caso no es necesario realizar ninguna transformación"
   ]
  },
  {
   "cell_type": "markdown",
   "id": "southern-bubble",
   "metadata": {},
   "source": [
    "* Los usuarios con fecha de cliente sin informar, deberán tener IND_CLIENTE = 0. Cambiamos los valores nulos por NoApl "
   ]
  },
  {
   "cell_type": "code",
   "execution_count": 46,
   "id": "stone-secret",
   "metadata": {},
   "outputs": [
    {
     "data": {
      "text/plain": [
       "NaN    365084\n",
       "Name: FECHA_CLIENTE, dtype: int64"
      ]
     },
     "execution_count": 46,
     "metadata": {},
     "output_type": "execute_result"
    }
   ],
   "source": [
    "df_user[df_user['IND_CLIENTE'] == 0]['FECHA_CLIENTE'].value_counts(dropna = False)"
   ]
  },
  {
   "cell_type": "code",
   "execution_count": 47,
   "id": "meaning-cookbook",
   "metadata": {},
   "outputs": [],
   "source": [
    "df_user.loc[df_user['IND_CLIENTE'] == 0, 'FECHA_CLIENTE'] = 'NoApl'"
   ]
  },
  {
   "cell_type": "code",
   "execution_count": 48,
   "id": "first-journal",
   "metadata": {},
   "outputs": [
    {
     "data": {
      "text/plain": [
       "NoApl    365084\n",
       "Name: FECHA_CLIENTE, dtype: int64"
      ]
     },
     "execution_count": 48,
     "metadata": {},
     "output_type": "execute_result"
    }
   ],
   "source": [
    "df_user[df_user['IND_CLIENTE'] == 0]['FECHA_CLIENTE'].value_counts()"
   ]
  },
  {
   "cell_type": "markdown",
   "id": "acoustic-gregory",
   "metadata": {},
   "source": [
    "------------------"
   ]
  },
  {
   "cell_type": "markdown",
   "id": "worse-layer",
   "metadata": {},
   "source": [
    "**3. USU_TELF**"
   ]
  },
  {
   "cell_type": "markdown",
   "id": "fitted-plastic",
   "metadata": {},
   "source": [
    "**Recordamos**: Teléfono del Usuario, anonimizado. 5 últimas cifras ofuscadas. (Ej: 233XXXXX)"
   ]
  },
  {
   "cell_type": "code",
   "execution_count": 49,
   "id": "random-variable",
   "metadata": {},
   "outputs": [
    {
     "data": {
      "text/plain": [
       "IND_CLIENTE  IND_ALTA\n",
       "0            0           66\n",
       "Name: IND_CLIENTE, dtype: int64"
      ]
     },
     "execution_count": 49,
     "metadata": {},
     "output_type": "execute_result"
    }
   ],
   "source": [
    "df_user[df_user['USU_TELF'].isna()].groupby(['IND_CLIENTE','IND_ALTA'])['IND_CLIENTE'].count()"
   ]
  },
  {
   "cell_type": "markdown",
   "id": "brief-assets",
   "metadata": {},
   "source": [
    "**Como podemos comprobar, aquellos usuarios con el teléfono no registrado, no se han dado de alta y menos son clientes. Esto es debido a que como requisito mínimo para darse de alta uno de los datos que se deben ingresar es el teléfono.**\n",
    "\n",
    "**Por lo que se decide eliminar los registros.**"
   ]
  },
  {
   "cell_type": "code",
   "execution_count": 50,
   "id": "anonymous-refund",
   "metadata": {},
   "outputs": [
    {
     "data": {
      "text/plain": [
       "66"
      ]
     },
     "execution_count": 50,
     "metadata": {},
     "output_type": "execute_result"
    }
   ],
   "source": [
    "df_user['USU_TELF'].isna().sum()"
   ]
  },
  {
   "cell_type": "code",
   "execution_count": 51,
   "id": "human-overall",
   "metadata": {},
   "outputs": [
    {
     "data": {
      "text/plain": [
       "(367703, 19)"
      ]
     },
     "execution_count": 51,
     "metadata": {},
     "output_type": "execute_result"
    }
   ],
   "source": [
    "df_user.shape"
   ]
  },
  {
   "cell_type": "code",
   "execution_count": 52,
   "id": "light-pursuit",
   "metadata": {},
   "outputs": [],
   "source": [
    "df_user = df_user[~df_user['USU_TELF'].isna()]"
   ]
  },
  {
   "cell_type": "markdown",
   "id": "educated-andorra",
   "metadata": {},
   "source": [
    "**Comprobación**"
   ]
  },
  {
   "cell_type": "code",
   "execution_count": 53,
   "id": "united-bridges",
   "metadata": {},
   "outputs": [
    {
     "data": {
      "text/plain": [
       "(367637, 19)"
      ]
     },
     "execution_count": 53,
     "metadata": {},
     "output_type": "execute_result"
    }
   ],
   "source": [
    "df_user.shape"
   ]
  },
  {
   "cell_type": "code",
   "execution_count": 54,
   "id": "intensive-necklace",
   "metadata": {},
   "outputs": [],
   "source": [
    "df_user.reset_index(inplace = True, drop = True)"
   ]
  },
  {
   "cell_type": "markdown",
   "id": "embedded-coast",
   "metadata": {},
   "source": [
    "------------------"
   ]
  },
  {
   "cell_type": "markdown",
   "id": "unavailable-batman",
   "metadata": {},
   "source": [
    "**4. IP_Country - IP_Region**"
   ]
  },
  {
   "cell_type": "markdown",
   "id": "fewer-violation",
   "metadata": {},
   "source": [
    "**Recordamos**:  \n",
    "* IP_Country: País del Usuario a partir de su IP.\n",
    "* IP_Region: Región del Usuario a partir de su IP"
   ]
  },
  {
   "cell_type": "markdown",
   "id": "working-treasure",
   "metadata": {},
   "source": [
    "**Exploración sobre los posibles valores que podemos encontrar**"
   ]
  },
  {
   "cell_type": "code",
   "execution_count": 55,
   "id": "qualified-underwear",
   "metadata": {},
   "outputs": [
    {
     "data": {
      "text/plain": [
       "83"
      ]
     },
     "execution_count": 55,
     "metadata": {},
     "output_type": "execute_result"
    }
   ],
   "source": [
    "len(df_user['IP_Country'].unique())"
   ]
  },
  {
   "cell_type": "code",
   "execution_count": 56,
   "id": "average-franklin",
   "metadata": {},
   "outputs": [
    {
     "data": {
      "text/plain": [
       "317"
      ]
     },
     "execution_count": 56,
     "metadata": {},
     "output_type": "execute_result"
    }
   ],
   "source": [
    "len(df_user['IP_Region'].unique())"
   ]
  },
  {
   "cell_type": "markdown",
   "id": "surgical-agent",
   "metadata": {},
   "source": [
    "**Vemos la cantidad de registros sin informar**"
   ]
  },
  {
   "cell_type": "code",
   "execution_count": 57,
   "id": "alive-forestry",
   "metadata": {},
   "outputs": [
    {
     "data": {
      "text/plain": [
       "21764"
      ]
     },
     "execution_count": 57,
     "metadata": {},
     "output_type": "execute_result"
    }
   ],
   "source": [
    "df_user['IP_Country'].isna().sum()"
   ]
  },
  {
   "cell_type": "code",
   "execution_count": 58,
   "id": "featured-makeup",
   "metadata": {},
   "outputs": [
    {
     "data": {
      "text/plain": [
       "150903"
      ]
     },
     "execution_count": 58,
     "metadata": {},
     "output_type": "execute_result"
    }
   ],
   "source": [
    "df_user['IP_Region'].isna().sum()"
   ]
  },
  {
   "cell_type": "code",
   "execution_count": 59,
   "id": "signed-trail",
   "metadata": {},
   "outputs": [
    {
     "data": {
      "text/html": [
       "<div>\n",
       "<style scoped>\n",
       "    .dataframe tbody tr th:only-of-type {\n",
       "        vertical-align: middle;\n",
       "    }\n",
       "\n",
       "    .dataframe tbody tr th {\n",
       "        vertical-align: top;\n",
       "    }\n",
       "\n",
       "    .dataframe thead th {\n",
       "        text-align: right;\n",
       "    }\n",
       "</style>\n",
       "<table border=\"1\" class=\"dataframe\">\n",
       "  <thead>\n",
       "    <tr style=\"text-align: right;\">\n",
       "      <th></th>\n",
       "      <th>ID_USUARIO</th>\n",
       "      <th>TIPOUSUARIO</th>\n",
       "      <th>FECHA_REGISTRO</th>\n",
       "      <th>CANAL_REGISTRO</th>\n",
       "      <th>IND_CLIENTE</th>\n",
       "      <th>IND_ALTA</th>\n",
       "      <th>FECHA_ALTA</th>\n",
       "      <th>FECHA_CLIENTE</th>\n",
       "      <th>TIPOEMAIL</th>\n",
       "      <th>BONDAD_EMAIL</th>\n",
       "      <th>USU_TELF</th>\n",
       "      <th>IPCASOS</th>\n",
       "      <th>IP_Country</th>\n",
       "      <th>IP_Region</th>\n",
       "      <th>USU_TIPO</th>\n",
       "      <th>USU_TAMANIO</th>\n",
       "      <th>USU_CIIU</th>\n",
       "      <th>USU_ESTADO</th>\n",
       "      <th>USU_DEPARTAMENTO</th>\n",
       "    </tr>\n",
       "  </thead>\n",
       "  <tbody>\n",
       "    <tr>\n",
       "      <th>11</th>\n",
       "      <td>8193511</td>\n",
       "      <td>PJ</td>\n",
       "      <td>2019-11-29</td>\n",
       "      <td>9</td>\n",
       "      <td>0</td>\n",
       "      <td>0</td>\n",
       "      <td>NoApl</td>\n",
       "      <td>NoApl</td>\n",
       "      <td>CORPORATIVO</td>\n",
       "      <td>20</td>\n",
       "      <td>233XXXXX</td>\n",
       "      <td>0</td>\n",
       "      <td>NaN</td>\n",
       "      <td>NaN</td>\n",
       "      <td>NaN</td>\n",
       "      <td>NaN</td>\n",
       "      <td>NaN</td>\n",
       "      <td>NaN</td>\n",
       "      <td>VALLE</td>\n",
       "    </tr>\n",
       "    <tr>\n",
       "      <th>15</th>\n",
       "      <td>7454114</td>\n",
       "      <td>PF</td>\n",
       "      <td>2018-07-11</td>\n",
       "      <td>1</td>\n",
       "      <td>0</td>\n",
       "      <td>0</td>\n",
       "      <td>NoApl</td>\n",
       "      <td>NoApl</td>\n",
       "      <td>TEMPORAL</td>\n",
       "      <td>-10</td>\n",
       "      <td>1334XXXXX</td>\n",
       "      <td>0</td>\n",
       "      <td>NaN</td>\n",
       "      <td>NaN</td>\n",
       "      <td>NaN</td>\n",
       "      <td>NaN</td>\n",
       "      <td>NaN</td>\n",
       "      <td>NaN</td>\n",
       "      <td>NaN</td>\n",
       "    </tr>\n",
       "    <tr>\n",
       "      <th>16</th>\n",
       "      <td>7459281</td>\n",
       "      <td>PF</td>\n",
       "      <td>2018-09-11</td>\n",
       "      <td>4</td>\n",
       "      <td>0</td>\n",
       "      <td>0</td>\n",
       "      <td>NoApl</td>\n",
       "      <td>NoApl</td>\n",
       "      <td>TEMPORAL</td>\n",
       "      <td>-10</td>\n",
       "      <td>2334XXXXX</td>\n",
       "      <td>0</td>\n",
       "      <td>NaN</td>\n",
       "      <td>NaN</td>\n",
       "      <td>NaN</td>\n",
       "      <td>NaN</td>\n",
       "      <td>NaN</td>\n",
       "      <td>NaN</td>\n",
       "      <td>NaN</td>\n",
       "    </tr>\n",
       "    <tr>\n",
       "      <th>48</th>\n",
       "      <td>7741807</td>\n",
       "      <td>PJ</td>\n",
       "      <td>2019-04-23</td>\n",
       "      <td>4</td>\n",
       "      <td>0</td>\n",
       "      <td>0</td>\n",
       "      <td>NoApl</td>\n",
       "      <td>NoApl</td>\n",
       "      <td>SINCLASIFICAR</td>\n",
       "      <td>0</td>\n",
       "      <td>30000XXXXX</td>\n",
       "      <td>0</td>\n",
       "      <td>NaN</td>\n",
       "      <td>NaN</td>\n",
       "      <td>SOCIEDAD COMERCIAL/INDUSTRIAL</td>\n",
       "      <td>PQ</td>\n",
       "      <td>H5224</td>\n",
       "      <td>ACTIVA</td>\n",
       "      <td>VALLE</td>\n",
       "    </tr>\n",
       "    <tr>\n",
       "      <th>49</th>\n",
       "      <td>8153333</td>\n",
       "      <td>PX</td>\n",
       "      <td>2019-12-11</td>\n",
       "      <td>3</td>\n",
       "      <td>0</td>\n",
       "      <td>0</td>\n",
       "      <td>NoApl</td>\n",
       "      <td>NoApl</td>\n",
       "      <td>GOOHOTYAHMAIL</td>\n",
       "      <td>20</td>\n",
       "      <td>30000XXXXX</td>\n",
       "      <td>0</td>\n",
       "      <td>NaN</td>\n",
       "      <td>NaN</td>\n",
       "      <td>NaN</td>\n",
       "      <td>NaN</td>\n",
       "      <td>NaN</td>\n",
       "      <td>NaN</td>\n",
       "      <td>NaN</td>\n",
       "    </tr>\n",
       "  </tbody>\n",
       "</table>\n",
       "</div>"
      ],
      "text/plain": [
       "    ID_USUARIO TIPOUSUARIO FECHA_REGISTRO  CANAL_REGISTRO  IND_CLIENTE  \\\n",
       "11     8193511          PJ     2019-11-29               9            0   \n",
       "15     7454114          PF     2018-07-11               1            0   \n",
       "16     7459281          PF     2018-09-11               4            0   \n",
       "48     7741807          PJ     2019-04-23               4            0   \n",
       "49     8153333          PX     2019-12-11               3            0   \n",
       "\n",
       "    IND_ALTA FECHA_ALTA FECHA_CLIENTE      TIPOEMAIL  BONDAD_EMAIL  \\\n",
       "11         0      NoApl         NoApl    CORPORATIVO            20   \n",
       "15         0      NoApl         NoApl       TEMPORAL           -10   \n",
       "16         0      NoApl         NoApl       TEMPORAL           -10   \n",
       "48         0      NoApl         NoApl  SINCLASIFICAR             0   \n",
       "49         0      NoApl         NoApl  GOOHOTYAHMAIL            20   \n",
       "\n",
       "      USU_TELF  IPCASOS IP_Country IP_Region                       USU_TIPO  \\\n",
       "11    233XXXXX        0        NaN       NaN                            NaN   \n",
       "15   1334XXXXX        0        NaN       NaN                            NaN   \n",
       "16   2334XXXXX        0        NaN       NaN                            NaN   \n",
       "48  30000XXXXX        0        NaN       NaN  SOCIEDAD COMERCIAL/INDUSTRIAL   \n",
       "49  30000XXXXX        0        NaN       NaN                            NaN   \n",
       "\n",
       "   USU_TAMANIO USU_CIIU USU_ESTADO USU_DEPARTAMENTO  \n",
       "11         NaN      NaN        NaN            VALLE  \n",
       "15         NaN      NaN        NaN              NaN  \n",
       "16         NaN      NaN        NaN              NaN  \n",
       "48          PQ    H5224     ACTIVA            VALLE  \n",
       "49         NaN      NaN        NaN              NaN  "
      ]
     },
     "execution_count": 59,
     "metadata": {},
     "output_type": "execute_result"
    }
   ],
   "source": [
    "df_user[df_user['IP_Country'].isna()].head(5)"
   ]
  },
  {
   "cell_type": "markdown",
   "id": "engaging-virgin",
   "metadata": {},
   "source": [
    "**Podemos comprobar que todos los que tienen el IP_Country sin informar, tienen además el IP_Region sin informar, por lo que se les pondrá una categoría nueva No Informado (NI)**"
   ]
  },
  {
   "cell_type": "code",
   "execution_count": 60,
   "id": "respective-saint",
   "metadata": {},
   "outputs": [
    {
     "data": {
      "text/plain": [
       "21764"
      ]
     },
     "execution_count": 60,
     "metadata": {},
     "output_type": "execute_result"
    }
   ],
   "source": [
    "len(df_user[df_user['IP_Country'].isna() & df_user['IP_Region'].isna()])"
   ]
  },
  {
   "cell_type": "markdown",
   "id": "plastic-administrator",
   "metadata": {},
   "source": [
    "**Realizamos la transformación**"
   ]
  },
  {
   "cell_type": "code",
   "execution_count": 61,
   "id": "initial-amber",
   "metadata": {},
   "outputs": [],
   "source": [
    "df_user.loc[(df_user['IP_Country'].isna()) & (df_user['IP_Region'].isna()), ['IP_Country','IP_Region']] = 'NI'"
   ]
  },
  {
   "cell_type": "markdown",
   "id": "second-longer",
   "metadata": {},
   "source": [
    "**Comprobación**"
   ]
  },
  {
   "cell_type": "code",
   "execution_count": 62,
   "id": "accredited-matter",
   "metadata": {},
   "outputs": [
    {
     "data": {
      "text/html": [
       "<div>\n",
       "<style scoped>\n",
       "    .dataframe tbody tr th:only-of-type {\n",
       "        vertical-align: middle;\n",
       "    }\n",
       "\n",
       "    .dataframe tbody tr th {\n",
       "        vertical-align: top;\n",
       "    }\n",
       "\n",
       "    .dataframe thead th {\n",
       "        text-align: right;\n",
       "    }\n",
       "</style>\n",
       "<table border=\"1\" class=\"dataframe\">\n",
       "  <thead>\n",
       "    <tr style=\"text-align: right;\">\n",
       "      <th></th>\n",
       "      <th>ID_USUARIO</th>\n",
       "      <th>TIPOUSUARIO</th>\n",
       "      <th>FECHA_REGISTRO</th>\n",
       "      <th>CANAL_REGISTRO</th>\n",
       "      <th>IND_CLIENTE</th>\n",
       "      <th>IND_ALTA</th>\n",
       "      <th>FECHA_ALTA</th>\n",
       "      <th>FECHA_CLIENTE</th>\n",
       "      <th>TIPOEMAIL</th>\n",
       "      <th>BONDAD_EMAIL</th>\n",
       "      <th>USU_TELF</th>\n",
       "      <th>IPCASOS</th>\n",
       "      <th>IP_Country</th>\n",
       "      <th>IP_Region</th>\n",
       "      <th>USU_TIPO</th>\n",
       "      <th>USU_TAMANIO</th>\n",
       "      <th>USU_CIIU</th>\n",
       "      <th>USU_ESTADO</th>\n",
       "      <th>USU_DEPARTAMENTO</th>\n",
       "    </tr>\n",
       "  </thead>\n",
       "  <tbody>\n",
       "    <tr>\n",
       "      <th>11</th>\n",
       "      <td>8193511</td>\n",
       "      <td>PJ</td>\n",
       "      <td>2019-11-29</td>\n",
       "      <td>9</td>\n",
       "      <td>0</td>\n",
       "      <td>0</td>\n",
       "      <td>NoApl</td>\n",
       "      <td>NoApl</td>\n",
       "      <td>CORPORATIVO</td>\n",
       "      <td>20</td>\n",
       "      <td>233XXXXX</td>\n",
       "      <td>0</td>\n",
       "      <td>NI</td>\n",
       "      <td>NI</td>\n",
       "      <td>NaN</td>\n",
       "      <td>NaN</td>\n",
       "      <td>NaN</td>\n",
       "      <td>NaN</td>\n",
       "      <td>VALLE</td>\n",
       "    </tr>\n",
       "    <tr>\n",
       "      <th>15</th>\n",
       "      <td>7454114</td>\n",
       "      <td>PF</td>\n",
       "      <td>2018-07-11</td>\n",
       "      <td>1</td>\n",
       "      <td>0</td>\n",
       "      <td>0</td>\n",
       "      <td>NoApl</td>\n",
       "      <td>NoApl</td>\n",
       "      <td>TEMPORAL</td>\n",
       "      <td>-10</td>\n",
       "      <td>1334XXXXX</td>\n",
       "      <td>0</td>\n",
       "      <td>NI</td>\n",
       "      <td>NI</td>\n",
       "      <td>NaN</td>\n",
       "      <td>NaN</td>\n",
       "      <td>NaN</td>\n",
       "      <td>NaN</td>\n",
       "      <td>NaN</td>\n",
       "    </tr>\n",
       "    <tr>\n",
       "      <th>16</th>\n",
       "      <td>7459281</td>\n",
       "      <td>PF</td>\n",
       "      <td>2018-09-11</td>\n",
       "      <td>4</td>\n",
       "      <td>0</td>\n",
       "      <td>0</td>\n",
       "      <td>NoApl</td>\n",
       "      <td>NoApl</td>\n",
       "      <td>TEMPORAL</td>\n",
       "      <td>-10</td>\n",
       "      <td>2334XXXXX</td>\n",
       "      <td>0</td>\n",
       "      <td>NI</td>\n",
       "      <td>NI</td>\n",
       "      <td>NaN</td>\n",
       "      <td>NaN</td>\n",
       "      <td>NaN</td>\n",
       "      <td>NaN</td>\n",
       "      <td>NaN</td>\n",
       "    </tr>\n",
       "    <tr>\n",
       "      <th>48</th>\n",
       "      <td>7741807</td>\n",
       "      <td>PJ</td>\n",
       "      <td>2019-04-23</td>\n",
       "      <td>4</td>\n",
       "      <td>0</td>\n",
       "      <td>0</td>\n",
       "      <td>NoApl</td>\n",
       "      <td>NoApl</td>\n",
       "      <td>SINCLASIFICAR</td>\n",
       "      <td>0</td>\n",
       "      <td>30000XXXXX</td>\n",
       "      <td>0</td>\n",
       "      <td>NI</td>\n",
       "      <td>NI</td>\n",
       "      <td>SOCIEDAD COMERCIAL/INDUSTRIAL</td>\n",
       "      <td>PQ</td>\n",
       "      <td>H5224</td>\n",
       "      <td>ACTIVA</td>\n",
       "      <td>VALLE</td>\n",
       "    </tr>\n",
       "    <tr>\n",
       "      <th>49</th>\n",
       "      <td>8153333</td>\n",
       "      <td>PX</td>\n",
       "      <td>2019-12-11</td>\n",
       "      <td>3</td>\n",
       "      <td>0</td>\n",
       "      <td>0</td>\n",
       "      <td>NoApl</td>\n",
       "      <td>NoApl</td>\n",
       "      <td>GOOHOTYAHMAIL</td>\n",
       "      <td>20</td>\n",
       "      <td>30000XXXXX</td>\n",
       "      <td>0</td>\n",
       "      <td>NI</td>\n",
       "      <td>NI</td>\n",
       "      <td>NaN</td>\n",
       "      <td>NaN</td>\n",
       "      <td>NaN</td>\n",
       "      <td>NaN</td>\n",
       "      <td>NaN</td>\n",
       "    </tr>\n",
       "  </tbody>\n",
       "</table>\n",
       "</div>"
      ],
      "text/plain": [
       "    ID_USUARIO TIPOUSUARIO FECHA_REGISTRO  CANAL_REGISTRO  IND_CLIENTE  \\\n",
       "11     8193511          PJ     2019-11-29               9            0   \n",
       "15     7454114          PF     2018-07-11               1            0   \n",
       "16     7459281          PF     2018-09-11               4            0   \n",
       "48     7741807          PJ     2019-04-23               4            0   \n",
       "49     8153333          PX     2019-12-11               3            0   \n",
       "\n",
       "    IND_ALTA FECHA_ALTA FECHA_CLIENTE      TIPOEMAIL  BONDAD_EMAIL  \\\n",
       "11         0      NoApl         NoApl    CORPORATIVO            20   \n",
       "15         0      NoApl         NoApl       TEMPORAL           -10   \n",
       "16         0      NoApl         NoApl       TEMPORAL           -10   \n",
       "48         0      NoApl         NoApl  SINCLASIFICAR             0   \n",
       "49         0      NoApl         NoApl  GOOHOTYAHMAIL            20   \n",
       "\n",
       "      USU_TELF  IPCASOS IP_Country IP_Region                       USU_TIPO  \\\n",
       "11    233XXXXX        0         NI        NI                            NaN   \n",
       "15   1334XXXXX        0         NI        NI                            NaN   \n",
       "16   2334XXXXX        0         NI        NI                            NaN   \n",
       "48  30000XXXXX        0         NI        NI  SOCIEDAD COMERCIAL/INDUSTRIAL   \n",
       "49  30000XXXXX        0         NI        NI                            NaN   \n",
       "\n",
       "   USU_TAMANIO USU_CIIU USU_ESTADO USU_DEPARTAMENTO  \n",
       "11         NaN      NaN        NaN            VALLE  \n",
       "15         NaN      NaN        NaN              NaN  \n",
       "16         NaN      NaN        NaN              NaN  \n",
       "48          PQ    H5224     ACTIVA            VALLE  \n",
       "49         NaN      NaN        NaN              NaN  "
      ]
     },
     "execution_count": 62,
     "metadata": {},
     "output_type": "execute_result"
    }
   ],
   "source": [
    "df_user[df_user['ID_USUARIO'].isin([8193511,7454114,7459281,7741807,8153333])]"
   ]
  },
  {
   "cell_type": "markdown",
   "id": "severe-strain",
   "metadata": {},
   "source": [
    "**Continuamos con el resto de nulos por IP_Region**"
   ]
  },
  {
   "cell_type": "code",
   "execution_count": 63,
   "id": "stock-posting",
   "metadata": {},
   "outputs": [
    {
     "data": {
      "text/plain": [
       "129139"
      ]
     },
     "execution_count": 63,
     "metadata": {},
     "output_type": "execute_result"
    }
   ],
   "source": [
    "df_user['IP_Region'].isna().sum()"
   ]
  },
  {
   "cell_type": "markdown",
   "id": "mediterranean-horror",
   "metadata": {},
   "source": [
    "**Son demasiados registros para eliminarlos, y se perdería información importante, por lo que se les asigna la categoría: No Informado (NI)**"
   ]
  },
  {
   "cell_type": "code",
   "execution_count": 64,
   "id": "marine-object",
   "metadata": {},
   "outputs": [],
   "source": [
    "df_user.loc[df_user['IP_Region'].isna(), 'IP_Region'] = 'NI'"
   ]
  },
  {
   "cell_type": "markdown",
   "id": "precise-corpus",
   "metadata": {},
   "source": [
    "------------------"
   ]
  },
  {
   "cell_type": "markdown",
   "id": "digital-reserve",
   "metadata": {},
   "source": [
    "**5. USU_TIPO**"
   ]
  },
  {
   "cell_type": "markdown",
   "id": "drawn-pharmacology",
   "metadata": {},
   "source": [
    "**Recordamos**: Tipología de empresa si TIPOUSUARIO = PJ"
   ]
  },
  {
   "cell_type": "markdown",
   "id": "useful-portrait",
   "metadata": {},
   "source": [
    "**Comprobemos que aquellas que vienen sin informar son únicamente PF**"
   ]
  },
  {
   "cell_type": "code",
   "execution_count": 65,
   "id": "signal-camcorder",
   "metadata": {},
   "outputs": [
    {
     "data": {
      "text/plain": [
       "TIPOUSUARIO\n",
       "PF    264684\n",
       "PJ      6907\n",
       "PX     11936\n",
       "Name: TIPOUSUARIO, dtype: int64"
      ]
     },
     "execution_count": 65,
     "metadata": {},
     "output_type": "execute_result"
    }
   ],
   "source": [
    "df_user[df_user['USU_TIPO'].isna()].groupby(['TIPOUSUARIO'])['TIPOUSUARIO'].count()"
   ]
  },
  {
   "cell_type": "markdown",
   "id": "amino-emperor",
   "metadata": {},
   "source": [
    "**Realizamos la siguiente transformación.**\n",
    "* PF: se indicará la categoría No Aplica (NoApl), ya que no aplica este campo.\n",
    "* PJ y PX: se indicará la categoría No Informado (NI), ya que podría venir informado."
   ]
  },
  {
   "cell_type": "code",
   "execution_count": 66,
   "id": "increased-fraud",
   "metadata": {},
   "outputs": [],
   "source": [
    "df_user.loc[(df_user['USU_TIPO'].isna()) & (df_user['TIPOUSUARIO'] == 'PF'), 'USU_TIPO'] = 'NoApl'"
   ]
  },
  {
   "cell_type": "code",
   "execution_count": 67,
   "id": "virgin-revision",
   "metadata": {},
   "outputs": [],
   "source": [
    "df_user.loc[(df_user['USU_TIPO'].isna()) & (df_user['TIPOUSUARIO'].isin(['PJ','PX'])), 'USU_TIPO'] = 'NI'"
   ]
  },
  {
   "cell_type": "markdown",
   "id": "based-winter",
   "metadata": {},
   "source": [
    "**Por último analizamos a continuación aquellos que son PF y viene informado el campo USU_TIPO**"
   ]
  },
  {
   "cell_type": "code",
   "execution_count": 68,
   "id": "confirmed-script",
   "metadata": {},
   "outputs": [
    {
     "data": {
      "text/plain": [
       "USU_TIPO\n",
       "EMPRESARIO INDIVIDUAL                 986\n",
       "ENTIDAD FINANCIERA O DE SEGUROS        15\n",
       "ENTIDAD SIN ANIMO DE LUCRO              3\n",
       "HOLDING                                 4\n",
       "NoApl                              264684\n",
       "SOCIEDAD COMERCIAL/INDUSTRIAL           5\n",
       "Name: USU_TIPO, dtype: int64"
      ]
     },
     "execution_count": 68,
     "metadata": {},
     "output_type": "execute_result"
    }
   ],
   "source": [
    "df_user[df_user['TIPOUSUARIO'] == 'PF'].groupby('USU_TIPO')['USU_TIPO'].count()"
   ]
  },
  {
   "cell_type": "markdown",
   "id": "interstate-overview",
   "metadata": {},
   "source": [
    "**Se cambiará a TIPOUSUARIO como PJ aquellos que no son de tipo NA**"
   ]
  },
  {
   "cell_type": "code",
   "execution_count": 69,
   "id": "visible-semiconductor",
   "metadata": {},
   "outputs": [],
   "source": [
    "df_user.loc[(df_user['TIPOUSUARIO'] == 'PF') & (~df_user['USU_TIPO'].isin(['NoApl'])), 'TIPOUSUARIO'] = 'PJ'"
   ]
  },
  {
   "cell_type": "markdown",
   "id": "occupied-receiver",
   "metadata": {},
   "source": [
    "**Comprobamos**"
   ]
  },
  {
   "cell_type": "code",
   "execution_count": 70,
   "id": "sixth-scope",
   "metadata": {},
   "outputs": [
    {
     "data": {
      "text/plain": [
       "USU_TIPO\n",
       "NoApl    264684\n",
       "Name: USU_TIPO, dtype: int64"
      ]
     },
     "execution_count": 70,
     "metadata": {},
     "output_type": "execute_result"
    }
   ],
   "source": [
    "df_user[df_user['TIPOUSUARIO'] == 'PF'].groupby('USU_TIPO')['USU_TIPO'].count()"
   ]
  },
  {
   "cell_type": "markdown",
   "id": "preliminary-mention",
   "metadata": {},
   "source": [
    "------------------"
   ]
  },
  {
   "cell_type": "markdown",
   "id": "mathematical-relay",
   "metadata": {},
   "source": [
    "**6. USU_TAMANIO, USU_CIIU y USU_ESTADO**"
   ]
  },
  {
   "cell_type": "markdown",
   "id": "finite-german",
   "metadata": {},
   "source": [
    "**Recordamos**:\n",
    "* USU_TAMANIO: Tamaño de la Compañía del Usuario si TIPOUSUARIO = PJ\n",
    "* USU_CIIU: Código de Actividad CIIU si TIPOUSUARIO = PJ\n",
    "* USU_ESTADO: Estado/Situación de la Compañía, si TIPOUSUARIO = PJ"
   ]
  },
  {
   "cell_type": "markdown",
   "id": "employed-participation",
   "metadata": {},
   "source": [
    "Comprobamos los nulos de las 3 variables indicadas"
   ]
  },
  {
   "cell_type": "code",
   "execution_count": 71,
   "id": "pretty-celtic",
   "metadata": {},
   "outputs": [
    {
     "data": {
      "text/plain": [
       "USU_TAMANIO    283525\n",
       "USU_CIIU       283525\n",
       "USU_ESTADO     283525\n",
       "dtype: int64"
      ]
     },
     "execution_count": 71,
     "metadata": {},
     "output_type": "execute_result"
    }
   ],
   "source": [
    "df_user[['USU_TAMANIO', 'USU_CIIU', 'USU_ESTADO']].isna().sum()"
   ]
  },
  {
   "cell_type": "markdown",
   "id": "supposed-engagement",
   "metadata": {},
   "source": [
    "Vemos que los registros con valores nulos en las 3 variables son comunes a las 3 variables."
   ]
  },
  {
   "cell_type": "code",
   "execution_count": 72,
   "id": "satellite-embassy",
   "metadata": {},
   "outputs": [
    {
     "data": {
      "text/plain": [
       "283525"
      ]
     },
     "execution_count": 72,
     "metadata": {},
     "output_type": "execute_result"
    }
   ],
   "source": [
    "len(df_user[(df_user['USU_TAMANIO'].isna()) | (df_user['USU_CIIU'].isna()) | (df_user['USU_ESTADO'].isna())][['USU_TAMANIO', 'USU_CIIU', 'USU_ESTADO']])"
   ]
  },
  {
   "cell_type": "markdown",
   "id": "innocent-grass",
   "metadata": {},
   "source": [
    "Las 3 variables tienen en común que aplican los datos unicamente para PJ, por lo que se analiza esta casuística para cada variable"
   ]
  },
  {
   "cell_type": "code",
   "execution_count": 73,
   "id": "square-albany",
   "metadata": {},
   "outputs": [
    {
     "data": {
      "text/plain": [
       "TIPOUSUARIO\n",
       "PF    264684\n",
       "PJ      6905\n",
       "PX     11936\n",
       "Name: TIPOUSUARIO, dtype: int64"
      ]
     },
     "execution_count": 73,
     "metadata": {},
     "output_type": "execute_result"
    }
   ],
   "source": [
    "df_user[df_user['USU_TAMANIO'].isna()].groupby('TIPOUSUARIO')['TIPOUSUARIO'].count()"
   ]
  },
  {
   "cell_type": "code",
   "execution_count": 74,
   "id": "miniature-stuff",
   "metadata": {},
   "outputs": [
    {
     "data": {
      "text/plain": [
       "TIPOUSUARIO\n",
       "PF    264684\n",
       "PJ      6905\n",
       "PX     11936\n",
       "Name: TIPOUSUARIO, dtype: int64"
      ]
     },
     "execution_count": 74,
     "metadata": {},
     "output_type": "execute_result"
    }
   ],
   "source": [
    "df_user[df_user['USU_CIIU'].isna()].groupby('TIPOUSUARIO')['TIPOUSUARIO'].count()"
   ]
  },
  {
   "cell_type": "code",
   "execution_count": 75,
   "id": "optional-cylinder",
   "metadata": {},
   "outputs": [
    {
     "data": {
      "text/plain": [
       "TIPOUSUARIO\n",
       "PF    264684\n",
       "PJ      6905\n",
       "PX     11936\n",
       "Name: TIPOUSUARIO, dtype: int64"
      ]
     },
     "execution_count": 75,
     "metadata": {},
     "output_type": "execute_result"
    }
   ],
   "source": [
    "df_user[df_user['USU_ESTADO'].isna()].groupby('TIPOUSUARIO')['TIPOUSUARIO'].count()"
   ]
  },
  {
   "cell_type": "markdown",
   "id": "valued-military",
   "metadata": {},
   "source": [
    "**USU_TAMANIO**:   \n",
    "\n",
    "Realizamos la transformación:\n",
    "* Para Aquellos con la casuística con TIPOUSUARIO como PF, se computará el valor No aplica (NoApl)\n",
    "* Para los que tienen valor PJ y PX se computará el valor Sin Definir (SD)"
   ]
  },
  {
   "cell_type": "code",
   "execution_count": 76,
   "id": "metropolitan-scheduling",
   "metadata": {},
   "outputs": [
    {
     "data": {
      "text/plain": [
       "array([nan, 'PQ', 'MC', 'GR', 'SD', 'MD'], dtype=object)"
      ]
     },
     "execution_count": 76,
     "metadata": {},
     "output_type": "execute_result"
    }
   ],
   "source": [
    "df_user['USU_TAMANIO'].unique()"
   ]
  },
  {
   "cell_type": "code",
   "execution_count": 77,
   "id": "protective-resolution",
   "metadata": {},
   "outputs": [],
   "source": [
    "df_user.loc[(df_user['USU_TAMANIO'].isna()) & (df_user['TIPOUSUARIO'] == 'PF'), 'USU_TAMANIO'] = 'NoApl'"
   ]
  },
  {
   "cell_type": "code",
   "execution_count": 78,
   "id": "attractive-upgrade",
   "metadata": {},
   "outputs": [],
   "source": [
    "df_user.loc[(df_user['USU_TAMANIO'].isna()) & (df_user['TIPOUSUARIO'].isin(['PJ','PX'])), 'USU_TAMANIO'] = 'SD'"
   ]
  },
  {
   "cell_type": "markdown",
   "id": "impressed-victim",
   "metadata": {},
   "source": [
    "**Comprobación**"
   ]
  },
  {
   "cell_type": "code",
   "execution_count": 79,
   "id": "wooden-payday",
   "metadata": {},
   "outputs": [
    {
     "data": {
      "text/plain": [
       "array(['NoApl', 'PQ', 'MC', 'SD', 'GR', 'MD'], dtype=object)"
      ]
     },
     "execution_count": 79,
     "metadata": {},
     "output_type": "execute_result"
    }
   ],
   "source": [
    "df_user['USU_TAMANIO'].unique()"
   ]
  },
  {
   "cell_type": "code",
   "execution_count": 80,
   "id": "fifty-ideal",
   "metadata": {},
   "outputs": [
    {
     "data": {
      "text/plain": [
       "USU_TAMANIO\n",
       "NoApl    264684\n",
       "Name: USU_TAMANIO, dtype: int64"
      ]
     },
     "execution_count": 80,
     "metadata": {},
     "output_type": "execute_result"
    }
   ],
   "source": [
    "df_user[(df_user['TIPOUSUARIO'] == 'PF')].groupby(['USU_TAMANIO'])['USU_TAMANIO'].count()"
   ]
  },
  {
   "cell_type": "code",
   "execution_count": 81,
   "id": "adjacent-moore",
   "metadata": {},
   "outputs": [
    {
     "data": {
      "text/plain": [
       "USU_TAMANIO  TIPOUSUARIO\n",
       "GR           PJ               5821\n",
       "MC           PJ              60458\n",
       "             PX                165\n",
       "MD           PJ               5739\n",
       "NoApl        PF             264684\n",
       "PQ           PJ              10110\n",
       "             PX                  3\n",
       "SD           PJ               8704\n",
       "             PX              11953\n",
       "Name: USU_TAMANIO, dtype: int64"
      ]
     },
     "execution_count": 81,
     "metadata": {},
     "output_type": "execute_result"
    }
   ],
   "source": [
    "df_user.groupby(['USU_TAMANIO','TIPOUSUARIO'])['USU_TAMANIO'].count()"
   ]
  },
  {
   "cell_type": "markdown",
   "id": "traditional-combine",
   "metadata": {},
   "source": [
    "**USU_CIIU**:   \n",
    "\n",
    "Realizamos la transformación:\n",
    "* Para Aquellos con la casuística con TIPOUSUARIO como PF, se computará el valor No aplica (NoApl)\n",
    "* Para los que tienen valor PJ y PX se computará el valor Sin Definir (SD)"
   ]
  },
  {
   "cell_type": "code",
   "execution_count": 82,
   "id": "excess-thunder",
   "metadata": {},
   "outputs": [
    {
     "data": {
      "text/plain": [
       "array([nan, 'N7820', 'G4774', 'N8299', 'M7010', 'F4111', 'G4752', 'K6621',\n",
       "       'I5511', 'C2660', 'P8551', 'I5611', '7499', 'G4649', 'G4741',\n",
       "       'H5224', 'F4321', 'J6201', 'H4923', 'M7110', 'R9329', 'J6202',\n",
       "       'H4922', 'G4771', 'G4651', 'G4663', 'N7830', 'G4659', 'Z0010',\n",
       "       'F4330', 'C1811', 'G4631', 'F4322', 'L6810', 'G4645', 'G4711',\n",
       "       'J6110', 'G4530', 'I5619', 'M7310', 'G4791', 'G4761', 'H5229',\n",
       "       'C3312', 'S9602', 'F4290', 'N8121', 'M7020', 'Q8699', 'C2930',\n",
       "       'N8291', 'E3811', 'M6920', 'G4773', 'R9200', 'C2221', 'E3830',\n",
       "       'C3250', 'J6190', 'C2712', 'G4731', 'S9609', 'Q8692', 'C1040',\n",
       "       'N8130', 'F4390', 'M6910', 'F4220', 'M7410', 'C1080', 'N7710',\n",
       "       'I5613', 'G4759', 'K6613', 'E3900', 'G4799', 'M7220', 'K6512',\n",
       "       'Q8691', 'G4652', 'M7490', 'G4751', 'G4719', 'H4921', 'M7420',\n",
       "       'G4755', 'P8552', 'G4669', 'G4632', 'S9529', 'M7320', 'P8530',\n",
       "       'G4641', 'G4729', 'P8523', 'G4661', 'G4620', 'I5512', 'I5519',\n",
       "       'C1690', 'Z9999', 'G4724', 'P8560', 'G4754', 'F4112', 'I5590',\n",
       "       'C1313', 'J5911', 'C3311', 'F4329', 'N8020', 'G4662', 'G4664',\n",
       "       'N8219', 'S9511', 'G4782', 'S9499', 'N7912', 'O8400', 'J5813',\n",
       "       'C1522', 'G4772', 'I5630', 'C1610', 'K6619', 'J6120', 'H5310',\n",
       "       'C2395', 'C1081', 'I5621', 'C2023', 'K6412', 'R9007', 'C3314',\n",
       "       'C2310', 'C2013', 'H5223', 'L6820', 'A0161', 'C1410', 'C1030',\n",
       "       'N7730', 'K6612', 'J5811', 'G4721', 'C3120', 'J5820', 'K6493',\n",
       "       'G4769', 'G4542', 'A0125', 'C2910', 'N8129', 'G4520', 'C3313',\n",
       "       'J6209', 'A0143', 'Q8621', 'C2592', 'M7120', 'G4541', 'C2816',\n",
       "       'N8230', 'C2410', 'G4723', 'S9411', 'K6499', 'P8522', 'G4665',\n",
       "       'D3512', 'C2022', 'I5612', 'N8110', 'J6399', 'C2229', 'G4690',\n",
       "       'O8430', 'G4642', 'J5920', 'G4512', 'J6311', 'Q8610', 'J6312',\n",
       "       'N7911', 'C1011', 'J6130', 'I5629', 'N8220', 'C1084', 'C2819',\n",
       "       'C1709', 'N7990', 'J6020', 'A0145', 'C1020', 'H5210', 'C1082',\n",
       "       'M7500', 'G4762', 'C1812', 'C1051', 'R9004', 'C2393', 'P8511',\n",
       "       'C1523', 'G4753', 'N8211', 'M7210', 'C3320', 'S9603', 'C1820',\n",
       "       'D3520', 'C2100', 'A0141', 'G4653', 'R9311', 'G4644', 'C1392',\n",
       "       'C1089', 'I5530', 'C2512', 'C1630', 'Q8622', 'B0811', 'C2825',\n",
       "       'C3110', 'G4511', 'O8413', 'H5222', 'C2920', 'C2432', 'C2394',\n",
       "       'C1393', 'H5021', 'C1521', 'A0111', 'C2511', 'F4311', 'A0126',\n",
       "       'C3290', 'A0122', 'G4722', 'C2011', 'G4781', 'C1399', 'G4610',\n",
       "       'F4210', 'K6511', 'C2599', 'G4732', 'B0610', 'S9512', 'C2824',\n",
       "       'H5221', 'R9006', 'P8559', 'N8010', 'Q8600', 'G4789', 'C1101',\n",
       "       'C1391', 'C3315', 'C2021', 'N7721', 'A0149', 'C2029', 'K6492',\n",
       "       'S9601', 'K6615', 'S9400', 'D3514', 'G4742', 'H5320', 'A0130',\n",
       "       'P8544', 'A0113', 'P8512', 'C1012', 'C1512', 'A0121', 'A0112',\n",
       "       'A0128', 'C2740', 'S9521', 'D3511', 'C3240', 'G4792', 'C3220',\n",
       "       'Q8890', 'C3210', 'G4775', 'A0162', 'R9001', 'R9319', 'A0163',\n",
       "       'S9522', 'C1061', 'P8541', 'C2829', 'C3319', 'H5122', 'Q8790',\n",
       "       'A0144', 'C2421', 'C2821', 'A0322', 'C1104', 'H5111', 'B0910',\n",
       "       'C2219', 'B0990', 'K6630', 'R9003', 'A0150', 'K6494', 'K6521',\n",
       "       '6592', 'C3230', 'C3011', 'C1702', 'S9524', 'C2399', 'E3600',\n",
       "       'I5514', 'C2630', 'C1090', 'F4200', 'R9002', 'P8542', 'C2012',\n",
       "       'P8543', 'K6431', 'E3821', 'C1103', 'A0164', 'I5510', 'N7810',\n",
       "       'F4312', 'A0142', 'Z0090', 'C1921', 'C1311', 'C2520', 'D3530',\n",
       "       'C2610', 'R9103', 'C1430', 'C1063', 'K6611', 'C1312', 'C2750',\n",
       "       'S9491', 'C2513', 'C1511', 'K6620', 'H5011', '6021', 'O8415',\n",
       "       'P8500', 'P8540', 'S9412', 'C1620', 'R9008', 'C2392', 'C2815',\n",
       "       'A0123', 'C2790', 'E3812', 'C1513', 'C1102', 'C2030', 'H5022',\n",
       "       'O8424', 'K6629', 'A0210', 'J6010', 'K6531', 'Q8810', 'N7740',\n",
       "       'B0510', 'N7729', 'H4930', 'P8521', 'C2396', 'J5819', 'K6522',\n",
       "       'K6422', 'R9005', 'G4700', 'G4643', 'B0899', 'C1062', 'C2591',\n",
       "       'N8292', 'A0240', 'B0729', 'J5914', 'C2651', 'A0124', '9213',\n",
       "       'E3700', 'O8420', 'I5513', 'C3091', '5130', 'P8513', 'C1640',\n",
       "       'O8414', 'H5012', 'T9700', '6022', 'A0220', 'A0129', 'J5912',\n",
       "       'R9321', 'B0820', '0112', 'C2391', 'C2640', 'K6423', 'C1420',\n",
       "       'I5520', 'C2212', 'B0722', 'R9312', 'C2429', 'U9900', 'C2720',\n",
       "       'R9101', 'N8030', '4520', 'P8553', 'O8412', 'C1300', '7421',\n",
       "       'B0812', 'A0140', 'A0127', 'A0230', 'P8510', 'C1071', 'C2823',\n",
       "       'C2593', 'C2711', 'C1072', 'A0312', 'A0119', 'N7722', 'K6514',\n",
       "       'Q8730', 'H4912', 'S9523', 'C1910', 'C2652', '5219', '5121',\n",
       "       'I5610', 'C1394', '5100', '8512', '7010', 'E3822', 'C1200',\n",
       "       'G4600', 'C3092', '0130', 'C1052', '5122', '5030', 'R9102',\n",
       "       'C2700', 'B0891', 'Q8720', '5220', '6599', '7020', 'T9820',\n",
       "       'K6513', 'O8423', 'C2670', 'H4911', '2610', 'Z0081', '5152',\n",
       "       '5230', 'J5800', 'Q8710', 'C3030', '2424', 'O8410', '1920', '9241',\n",
       "       'H5112', 'S9492', 'S9420', 'C1083', 'K6421', 'M7112', 'C2822',\n",
       "       'C2826', 'C3012', 'C1701', 'K6614', 'O8411', 'H5121', 'D3513',\n",
       "       '6420', 'B0710', 'C2813', 'A0100', 'C2431', 'H5300', '3190',\n",
       "       'H5200', 'J6391', 'S9490', '0140', 'A0321', '6023', '2423', '5200',\n",
       "       'K6424', 'A0311', 'C2732', 'S9600', 'K6600', 'C2200', '7493',\n",
       "       'C2814', '5151', 'C2811', 'Z0082', 'B0892', 'K6495', 'C2620',\n",
       "       'O8422', '6603', '5520', 'C2817', '7411', 'C1400', 'C2731', '5234',\n",
       "       'J6200', '1800', '7400', 'H5010', '6720', '4530', '2220', '5231',\n",
       "       '7412', '2811', 'O8421', 'C2812', '3592', 'K6420', '5140', 'J5913',\n",
       "       'K6491', '2919', 'C2014', 'G4780', 'L6800', '2519', 'M6900',\n",
       "       '5232', 'B0520', 'C2211', 'K6411', '1110', 'D3500', '5190', '5010',\n",
       "       '7492', '5020', 'C3300', 'C1000', '5131', 'B0500', 'F4100',\n",
       "       'M7200', 'K6500', 'A0115', 'C3099', '5211', '5110', 'I5500',\n",
       "       '8090', 'C1922', '8519', '8021', 'F4300', '6303', 'C1520', 'R9320'],\n",
       "      dtype=object)"
      ]
     },
     "execution_count": 82,
     "metadata": {},
     "output_type": "execute_result"
    }
   ],
   "source": [
    "df_user['USU_CIIU'].unique()"
   ]
  },
  {
   "cell_type": "code",
   "execution_count": 83,
   "id": "worldwide-population",
   "metadata": {},
   "outputs": [],
   "source": [
    "df_user.loc[(df_user['USU_CIIU'].isna()) & (df_user['TIPOUSUARIO'] == 'PF'), 'USU_CIIU'] = 'NoApl'"
   ]
  },
  {
   "cell_type": "code",
   "execution_count": 84,
   "id": "abandoned-collection",
   "metadata": {},
   "outputs": [],
   "source": [
    "df_user.loc[(df_user['USU_CIIU'].isna()) & (df_user['TIPOUSUARIO'].isin(['PJ','PX'])), 'USU_CIIU'] = 'SD'"
   ]
  },
  {
   "cell_type": "markdown",
   "id": "confirmed-damages",
   "metadata": {},
   "source": [
    "**Comprobación**"
   ]
  },
  {
   "cell_type": "code",
   "execution_count": 85,
   "id": "casual-republican",
   "metadata": {},
   "outputs": [
    {
     "data": {
      "text/plain": [
       "array(['NoApl', 'N7820', 'G4774', 'SD', 'N8299', 'M7010', 'F4111',\n",
       "       'G4752', 'K6621', 'I5511', 'C2660', 'P8551', 'I5611', '7499',\n",
       "       'G4649', 'G4741', 'H5224', 'F4321', 'J6201', 'H4923', 'M7110',\n",
       "       'R9329', 'J6202', 'H4922', 'G4771', 'G4651', 'G4663', 'N7830',\n",
       "       'G4659', 'Z0010', 'F4330', 'C1811', 'G4631', 'F4322', 'L6810',\n",
       "       'G4645', 'G4711', 'J6110', 'G4530', 'I5619', 'M7310', 'G4791',\n",
       "       'G4761', 'H5229', 'C3312', 'S9602', 'F4290', 'N8121', 'M7020',\n",
       "       'Q8699', 'C2930', 'N8291', 'E3811', 'M6920', 'G4773', 'R9200',\n",
       "       'C2221', 'E3830', 'C3250', 'J6190', 'C2712', 'G4731', 'S9609',\n",
       "       'Q8692', 'C1040', 'N8130', 'F4390', 'M6910', 'F4220', 'M7410',\n",
       "       'C1080', 'N7710', 'I5613', 'G4759', 'K6613', 'E3900', 'G4799',\n",
       "       'M7220', 'K6512', 'Q8691', 'G4652', 'M7490', 'G4751', 'G4719',\n",
       "       'H4921', 'M7420', 'G4755', 'P8552', 'G4669', 'G4632', 'S9529',\n",
       "       'M7320', 'P8530', 'G4641', 'G4729', 'P8523', 'G4661', 'G4620',\n",
       "       'I5512', 'I5519', 'C1690', 'Z9999', 'G4724', 'P8560', 'G4754',\n",
       "       'F4112', 'I5590', 'C1313', 'J5911', 'C3311', 'F4329', 'N8020',\n",
       "       'G4662', 'G4664', 'N8219', 'S9511', 'G4782', 'S9499', 'N7912',\n",
       "       'O8400', 'J5813', 'C1522', 'G4772', 'I5630', 'C1610', 'K6619',\n",
       "       'J6120', 'H5310', 'C2395', 'C1081', 'I5621', 'C2023', 'K6412',\n",
       "       'R9007', 'C3314', 'C2310', 'C2013', 'H5223', 'L6820', 'A0161',\n",
       "       'C1410', 'C1030', 'N7730', 'K6612', 'J5811', 'G4721', 'C3120',\n",
       "       'J5820', 'K6493', 'G4769', 'G4542', 'A0125', 'C2910', 'N8129',\n",
       "       'G4520', 'C3313', 'J6209', 'A0143', 'Q8621', 'C2592', 'M7120',\n",
       "       'G4541', 'C2816', 'N8230', 'C2410', 'G4723', 'S9411', 'K6499',\n",
       "       'P8522', 'G4665', 'D3512', 'C2022', 'I5612', 'N8110', 'J6399',\n",
       "       'C2229', 'G4690', 'O8430', 'G4642', 'J5920', 'G4512', 'J6311',\n",
       "       'Q8610', 'J6312', 'N7911', 'C1011', 'J6130', 'I5629', 'N8220',\n",
       "       'C1084', 'C2819', 'C1709', 'N7990', 'J6020', 'A0145', 'C1020',\n",
       "       'H5210', 'C1082', 'M7500', 'G4762', 'C1812', 'C1051', 'R9004',\n",
       "       'C2393', 'P8511', 'C1523', 'G4753', 'N8211', 'M7210', 'C3320',\n",
       "       'S9603', 'C1820', 'D3520', 'C2100', 'A0141', 'G4653', 'R9311',\n",
       "       'G4644', 'C1392', 'C1089', 'I5530', 'C2512', 'C1630', 'Q8622',\n",
       "       'B0811', 'C2825', 'C3110', 'G4511', 'O8413', 'H5222', 'C2920',\n",
       "       'C2432', 'C2394', 'C1393', 'H5021', 'C1521', 'A0111', 'C2511',\n",
       "       'F4311', 'A0126', 'C3290', 'A0122', 'G4722', 'C2011', 'G4781',\n",
       "       'C1399', 'G4610', 'F4210', 'K6511', 'C2599', 'G4732', 'B0610',\n",
       "       'S9512', 'C2824', 'H5221', 'R9006', 'P8559', 'N8010', 'Q8600',\n",
       "       'G4789', 'C1101', 'C1391', 'C3315', 'C2021', 'N7721', 'A0149',\n",
       "       'C2029', 'K6492', 'S9601', 'K6615', 'S9400', 'D3514', 'G4742',\n",
       "       'H5320', 'A0130', 'P8544', 'A0113', 'P8512', 'C1012', 'C1512',\n",
       "       'A0121', 'A0112', 'A0128', 'C2740', 'S9521', 'D3511', 'C3240',\n",
       "       'G4792', 'C3220', 'Q8890', 'C3210', 'G4775', 'A0162', 'R9001',\n",
       "       'R9319', 'A0163', 'S9522', 'C1061', 'P8541', 'C2829', 'C3319',\n",
       "       'H5122', 'Q8790', 'A0144', 'C2421', 'C2821', 'A0322', 'C1104',\n",
       "       'H5111', 'B0910', 'C2219', 'B0990', 'K6630', 'R9003', 'A0150',\n",
       "       'K6494', 'K6521', '6592', 'C3230', 'C3011', 'C1702', 'S9524',\n",
       "       'C2399', 'E3600', 'I5514', 'C2630', 'C1090', 'F4200', 'R9002',\n",
       "       'P8542', 'C2012', 'P8543', 'K6431', 'E3821', 'C1103', 'A0164',\n",
       "       'I5510', 'N7810', 'F4312', 'A0142', 'Z0090', 'C1921', 'C1311',\n",
       "       'C2520', 'D3530', 'C2610', 'R9103', 'C1430', 'C1063', 'K6611',\n",
       "       'C1312', 'C2750', 'S9491', 'C2513', 'C1511', 'K6620', 'H5011',\n",
       "       '6021', 'O8415', 'P8500', 'P8540', 'S9412', 'C1620', 'R9008',\n",
       "       'C2392', 'C2815', 'A0123', 'C2790', 'E3812', 'C1513', 'C1102',\n",
       "       'C2030', 'H5022', 'O8424', 'K6629', 'A0210', 'J6010', 'K6531',\n",
       "       'Q8810', 'N7740', 'B0510', 'N7729', 'H4930', 'P8521', 'C2396',\n",
       "       'J5819', 'K6522', 'K6422', 'R9005', 'G4700', 'G4643', 'B0899',\n",
       "       'C1062', 'C2591', 'N8292', 'A0240', 'B0729', 'J5914', 'C2651',\n",
       "       'A0124', '9213', 'E3700', 'O8420', 'I5513', 'C3091', '5130',\n",
       "       'P8513', 'C1640', 'O8414', 'H5012', 'T9700', '6022', 'A0220',\n",
       "       'A0129', 'J5912', 'R9321', 'B0820', '0112', 'C2391', 'C2640',\n",
       "       'K6423', 'C1420', 'I5520', 'C2212', 'B0722', 'R9312', 'C2429',\n",
       "       'U9900', 'C2720', 'R9101', 'N8030', '4520', 'P8553', 'O8412',\n",
       "       'C1300', '7421', 'B0812', 'A0140', 'A0127', 'A0230', 'P8510',\n",
       "       'C1071', 'C2823', 'C2593', 'C2711', 'C1072', 'A0312', 'A0119',\n",
       "       'N7722', 'K6514', 'Q8730', 'H4912', 'S9523', 'C1910', 'C2652',\n",
       "       '5219', '5121', 'I5610', 'C1394', '5100', '8512', '7010', 'E3822',\n",
       "       'C1200', 'G4600', 'C3092', '0130', 'C1052', '5122', '5030',\n",
       "       'R9102', 'C2700', 'B0891', 'Q8720', '5220', '6599', '7020',\n",
       "       'T9820', 'K6513', 'O8423', 'C2670', 'H4911', '2610', 'Z0081',\n",
       "       '5152', '5230', 'J5800', 'Q8710', 'C3030', '2424', 'O8410', '1920',\n",
       "       '9241', 'H5112', 'S9492', 'S9420', 'C1083', 'K6421', 'M7112',\n",
       "       'C2822', 'C2826', 'C3012', 'C1701', 'K6614', 'O8411', 'H5121',\n",
       "       'D3513', '6420', 'B0710', 'C2813', 'A0100', 'C2431', 'H5300',\n",
       "       '3190', 'H5200', 'J6391', 'S9490', '0140', 'A0321', '6023', '2423',\n",
       "       '5200', 'K6424', 'A0311', 'C2732', 'S9600', 'K6600', 'C2200',\n",
       "       '7493', 'C2814', '5151', 'C2811', 'Z0082', 'B0892', 'K6495',\n",
       "       'C2620', 'O8422', '6603', '5520', 'C2817', '7411', 'C1400',\n",
       "       'C2731', '5234', 'J6200', '1800', '7400', 'H5010', '6720', '4530',\n",
       "       '2220', '5231', '7412', '2811', 'O8421', 'C2812', '3592', 'K6420',\n",
       "       '5140', 'J5913', 'K6491', '2919', 'C2014', 'G4780', 'L6800',\n",
       "       '2519', 'M6900', '5232', 'B0520', 'C2211', 'K6411', '1110',\n",
       "       'D3500', '5190', '5010', '7492', '5020', 'C3300', 'C1000', '5131',\n",
       "       'B0500', 'F4100', 'M7200', 'K6500', 'A0115', 'C3099', '5211',\n",
       "       '5110', 'I5500', '8090', 'C1922', '8519', '8021', 'F4300', '6303',\n",
       "       'C1520', 'R9320'], dtype=object)"
      ]
     },
     "execution_count": 85,
     "metadata": {},
     "output_type": "execute_result"
    }
   ],
   "source": [
    "df_user['USU_CIIU'].unique()"
   ]
  },
  {
   "cell_type": "code",
   "execution_count": 86,
   "id": "ready-audience",
   "metadata": {},
   "outputs": [
    {
     "data": {
      "text/plain": [
       "USU_CIIU\n",
       "NoApl    264684\n",
       "Name: USU_CIIU, dtype: int64"
      ]
     },
     "execution_count": 86,
     "metadata": {},
     "output_type": "execute_result"
    }
   ],
   "source": [
    "df_user[(df_user['TIPOUSUARIO'] == 'PF')].groupby(['USU_CIIU'])['USU_CIIU'].count()"
   ]
  },
  {
   "cell_type": "markdown",
   "id": "lyric-forum",
   "metadata": {},
   "source": [
    "**USU_ESTADO**:   \n",
    "\n",
    "Realizamos la transformación:\n",
    "* Para Aquellos con la casuística con TIPOUSUARIO como PF, se computará el valor No aplica (NoApl)\n",
    "* Para los que tienen valor PJ y PX se computará el valor Sin Definir (SD)"
   ]
  },
  {
   "cell_type": "code",
   "execution_count": 87,
   "id": "grateful-university",
   "metadata": {},
   "outputs": [
    {
     "data": {
      "text/plain": [
       "array([nan, 'ACTIVA', 'CANCELACIÓN', 'LIQUIDACION',\n",
       "       'COINCIDENCIA HOMOGRAFA LISTA CLINTON (SDNT OFAC)', 'EXTINGUIDA',\n",
       "       'LEY DE INSOLVENCIA (REORGANIZACION EMPRESARIAL)',\n",
       "       'INACTIVA TEMPORAL', 'REESTRUCTURACION O CONCORDATO',\n",
       "       'SALIDA CLINTON (SDNT OFAC)', 'INTERVENIDA',\n",
       "       'ANULACIÓN LIQUIDACIÓN'], dtype=object)"
      ]
     },
     "execution_count": 87,
     "metadata": {},
     "output_type": "execute_result"
    }
   ],
   "source": [
    "df_user['USU_ESTADO'].unique()"
   ]
  },
  {
   "cell_type": "code",
   "execution_count": 88,
   "id": "generic-dialogue",
   "metadata": {},
   "outputs": [],
   "source": [
    "df_user.loc[(df_user['USU_ESTADO'].isna()) & (df_user['TIPOUSUARIO'] == 'PF'), 'USU_ESTADO'] = 'NoApl'"
   ]
  },
  {
   "cell_type": "code",
   "execution_count": 89,
   "id": "informative-sodium",
   "metadata": {},
   "outputs": [],
   "source": [
    "df_user.loc[(df_user['USU_ESTADO'].isna()) & (df_user['TIPOUSUARIO'].isin(['PJ','PX'])), 'USU_ESTADO'] = 'SD'"
   ]
  },
  {
   "cell_type": "markdown",
   "id": "loved-tourism",
   "metadata": {},
   "source": [
    "**Comprobación**"
   ]
  },
  {
   "cell_type": "code",
   "execution_count": 90,
   "id": "final-today",
   "metadata": {},
   "outputs": [
    {
     "data": {
      "text/plain": [
       "array(['NoApl', 'ACTIVA', 'SD', 'CANCELACIÓN', 'LIQUIDACION',\n",
       "       'COINCIDENCIA HOMOGRAFA LISTA CLINTON (SDNT OFAC)', 'EXTINGUIDA',\n",
       "       'LEY DE INSOLVENCIA (REORGANIZACION EMPRESARIAL)',\n",
       "       'INACTIVA TEMPORAL', 'REESTRUCTURACION O CONCORDATO',\n",
       "       'SALIDA CLINTON (SDNT OFAC)', 'INTERVENIDA',\n",
       "       'ANULACIÓN LIQUIDACIÓN'], dtype=object)"
      ]
     },
     "execution_count": 90,
     "metadata": {},
     "output_type": "execute_result"
    }
   ],
   "source": [
    "df_user['USU_ESTADO'].unique()"
   ]
  },
  {
   "cell_type": "code",
   "execution_count": 91,
   "id": "elegant-cleanup",
   "metadata": {},
   "outputs": [
    {
     "data": {
      "text/plain": [
       "USU_ESTADO\n",
       "NoApl    264684\n",
       "Name: USU_ESTADO, dtype: int64"
      ]
     },
     "execution_count": 91,
     "metadata": {},
     "output_type": "execute_result"
    }
   ],
   "source": [
    "df_user[(df_user['TIPOUSUARIO'] == 'PF')].groupby(['USU_ESTADO'])['USU_ESTADO'].count()"
   ]
  },
  {
   "cell_type": "markdown",
   "id": "conceptual-corrections",
   "metadata": {},
   "source": [
    "------------------"
   ]
  },
  {
   "cell_type": "markdown",
   "id": "horizontal-valentine",
   "metadata": {},
   "source": [
    "**7. USU_DEPARTAMENTO**"
   ]
  },
  {
   "cell_type": "markdown",
   "id": "enhanced-strategy",
   "metadata": {},
   "source": [
    "**Recordamos**: Departamento/Provincia de la Sede del Usuario si TIPOUSUARIO = PJ"
   ]
  },
  {
   "cell_type": "code",
   "execution_count": 92,
   "id": "nervous-fifteen",
   "metadata": {},
   "outputs": [
    {
     "data": {
      "text/plain": [
       "277134"
      ]
     },
     "execution_count": 92,
     "metadata": {},
     "output_type": "execute_result"
    }
   ],
   "source": [
    "df_user['USU_DEPARTAMENTO'].isna().sum()"
   ]
  },
  {
   "cell_type": "markdown",
   "id": "actual-retrieval",
   "metadata": {},
   "source": [
    "**Comprobamos el TIPOUSUARIO**"
   ]
  },
  {
   "cell_type": "code",
   "execution_count": 93,
   "id": "olympic-equilibrium",
   "metadata": {},
   "outputs": [
    {
     "data": {
      "text/plain": [
       "TIPOUSUARIO\n",
       "PF    264684\n",
       "PJ       514\n",
       "PX     11936\n",
       "Name: TIPOUSUARIO, dtype: int64"
      ]
     },
     "execution_count": 93,
     "metadata": {},
     "output_type": "execute_result"
    }
   ],
   "source": [
    "df_user[df_user['USU_DEPARTAMENTO'].isna()].groupby('TIPOUSUARIO')['TIPOUSUARIO'].count()"
   ]
  },
  {
   "cell_type": "code",
   "execution_count": 94,
   "id": "dying-cycling",
   "metadata": {},
   "outputs": [
    {
     "data": {
      "text/plain": [
       "TIPOUSUARIO\n",
       "PJ    90318\n",
       "PX      185\n",
       "Name: TIPOUSUARIO, dtype: int64"
      ]
     },
     "execution_count": 94,
     "metadata": {},
     "output_type": "execute_result"
    }
   ],
   "source": [
    "df_user[~df_user['USU_DEPARTAMENTO'].isna()].groupby('TIPOUSUARIO')['TIPOUSUARIO'].count()"
   ]
  },
  {
   "cell_type": "markdown",
   "id": "suited-article",
   "metadata": {},
   "source": [
    "**Realizamos la transformación**:\n",
    "* Para Aquellos con la casuística con TIPOUSUARIO como PF, se computará el valor No aplica (NoApl)\n",
    "* Para los que tienen valor PJ y PX se computará el valor Sin Definir (SD)"
   ]
  },
  {
   "cell_type": "code",
   "execution_count": 95,
   "id": "biological-colon",
   "metadata": {},
   "outputs": [],
   "source": [
    "df_user.loc[(df_user['USU_DEPARTAMENTO'].isna()) & (df_user['TIPOUSUARIO'] == 'PF'), 'USU_DEPARTAMENTO'] = 'NoApl'"
   ]
  },
  {
   "cell_type": "code",
   "execution_count": 96,
   "id": "civic-tunisia",
   "metadata": {},
   "outputs": [],
   "source": [
    "df_user.loc[(df_user['USU_DEPARTAMENTO'].isna()) & (df_user['TIPOUSUARIO'].isin(['PJ','PX'])), 'USU_DEPARTAMENTO'] = 'SD'"
   ]
  },
  {
   "cell_type": "markdown",
   "id": "fixed-payroll",
   "metadata": {},
   "source": [
    "**Comprobación**"
   ]
  },
  {
   "cell_type": "code",
   "execution_count": 97,
   "id": "increased-resident",
   "metadata": {},
   "outputs": [
    {
     "data": {
      "text/plain": [
       "USU_DEPARTAMENTO\n",
       "NoApl    264684\n",
       "Name: USU_DEPARTAMENTO, dtype: int64"
      ]
     },
     "execution_count": 97,
     "metadata": {},
     "output_type": "execute_result"
    }
   ],
   "source": [
    "df_user[(df_user['TIPOUSUARIO'] == 'PF')].groupby(['USU_DEPARTAMENTO'])['USU_DEPARTAMENTO'].count()"
   ]
  },
  {
   "cell_type": "code",
   "execution_count": 98,
   "id": "modified-japan",
   "metadata": {},
   "outputs": [
    {
     "data": {
      "text/plain": [
       "TIPOUSUARIO\n",
       "PF    264684\n",
       "PJ     90832\n",
       "PX     12121\n",
       "Name: TIPOUSUARIO, dtype: int64"
      ]
     },
     "execution_count": 98,
     "metadata": {},
     "output_type": "execute_result"
    }
   ],
   "source": [
    "df_user[~df_user['USU_DEPARTAMENTO'].isna()].groupby('TIPOUSUARIO')['TIPOUSUARIO'].count()"
   ]
  },
  {
   "cell_type": "code",
   "execution_count": 99,
   "id": "ecological-updating",
   "metadata": {},
   "outputs": [
    {
     "data": {
      "text/plain": [
       "array(['NoApl', 'QUINDIO', 'ATLANTICO', 'SD', 'VALLE', 'SANTANDER',\n",
       "       'RISARALDA', 'ANTIOQUIA', 'BOGOTA', 'LA GUAJIRA', 'CESAR',\n",
       "       'CUNDINAMARCA', 'NORTE SANTANDER', 'CAUCA', 'BOYACA', 'CORDOBA',\n",
       "       'TOLIMA', 'CALDAS', 'BOLIVAR', 'MAGDALENA', 'META', 'HUILA',\n",
       "       'SUCRE', 'CASANARE', 'NARINO', 'ARAUCA', 'CHOCO', 'CAQUETA',\n",
       "       'AMAZONAS', 'PUTUMAYO', 'SAN ANDRES', 'VICHADA', 'GUAVIARE',\n",
       "       'GUAINIA', 'VAUPES'], dtype=object)"
      ]
     },
     "execution_count": 99,
     "metadata": {},
     "output_type": "execute_result"
    }
   ],
   "source": [
    "df_user['USU_DEPARTAMENTO'].unique()"
   ]
  },
  {
   "cell_type": "markdown",
   "id": "amended-establishment",
   "metadata": {},
   "source": [
    "------------------"
   ]
  },
  {
   "cell_type": "markdown",
   "id": "altered-pricing",
   "metadata": {},
   "source": [
    "**A continuación se realiza un análisis de la comprobación de los valores missing en de cada variable**"
   ]
  },
  {
   "cell_type": "code",
   "execution_count": 100,
   "id": "wrapped-pasta",
   "metadata": {},
   "outputs": [
    {
     "data": {
      "text/plain": [
       "ID_USUARIO          0\n",
       "TIPOUSUARIO         0\n",
       "FECHA_REGISTRO      0\n",
       "CANAL_REGISTRO      0\n",
       "IND_CLIENTE         0\n",
       "IND_ALTA            0\n",
       "FECHA_ALTA          0\n",
       "FECHA_CLIENTE       0\n",
       "TIPOEMAIL           0\n",
       "BONDAD_EMAIL        0\n",
       "USU_TELF            0\n",
       "IPCASOS             0\n",
       "IP_Country          0\n",
       "IP_Region           0\n",
       "USU_TIPO            0\n",
       "USU_TAMANIO         0\n",
       "USU_CIIU            0\n",
       "USU_ESTADO          0\n",
       "USU_DEPARTAMENTO    0\n",
       "dtype: int64"
      ]
     },
     "execution_count": 100,
     "metadata": {},
     "output_type": "execute_result"
    }
   ],
   "source": [
    "df_user.isna().sum()"
   ]
  },
  {
   "cell_type": "markdown",
   "id": "phantom-travel",
   "metadata": {},
   "source": [
    "------------------"
   ]
  },
  {
   "cell_type": "markdown",
   "id": "selective-ottawa",
   "metadata": {},
   "source": [
    "------------------"
   ]
  },
  {
   "cell_type": "markdown",
   "id": "configured-prize",
   "metadata": {},
   "source": [
    "### Distribuciones y valores"
   ]
  },
  {
   "cell_type": "code",
   "execution_count": 101,
   "id": "printable-jacket",
   "metadata": {},
   "outputs": [],
   "source": [
    "import seaborn as sns\n",
    "import matplotlib.pyplot as plt\n",
    "%matplotlib inline\n",
    "import numpy as np"
   ]
  },
  {
   "cell_type": "markdown",
   "id": "surrounded-heath",
   "metadata": {},
   "source": [
    "**En este apartado se realizará una visualización sencilla de las distribuciones de cada variable e histogramas, y lo más importante se revisará la lógica y los posibles valores a aplicar en cada variable según los registros**"
   ]
  },
  {
   "cell_type": "markdown",
   "id": "stopped-tuner",
   "metadata": {},
   "source": [
    "**1. TIPOUSUARIO**"
   ]
  },
  {
   "cell_type": "markdown",
   "id": "complimentary-jamaica",
   "metadata": {},
   "source": [
    "**Recordemos**: TIPOUSUARIO: Tipo de Usuario:\n",
    "* PJ = Persona Jurídica\n",
    "* PF = Persona Física/Persona Natural\n",
    "* PX = Puede ser PJ pero no es seguro"
   ]
  },
  {
   "cell_type": "code",
   "execution_count": 102,
   "id": "unusual-night",
   "metadata": {},
   "outputs": [
    {
     "data": {
      "text/plain": [
       "TIPOUSUARIO\n",
       "PF    264684\n",
       "PJ     90832\n",
       "PX     12121\n",
       "Name: TIPOUSUARIO, dtype: int64"
      ]
     },
     "execution_count": 102,
     "metadata": {},
     "output_type": "execute_result"
    }
   ],
   "source": [
    "df_user.groupby(['TIPOUSUARIO'])['TIPOUSUARIO'].count()"
   ]
  },
  {
   "cell_type": "code",
   "execution_count": 103,
   "id": "environmental-appliance",
   "metadata": {},
   "outputs": [
    {
     "data": {
      "image/png": "[encoded data removed]",
      "text/plain": [
       "<Figure size 432x288 with 1 Axes>"
      ]
     },
     "metadata": {
      "needs_background": "light"
     },
     "output_type": "display_data"
    }
   ],
   "source": [
    "df_user['TIPOUSUARIO'].value_counts().plot(kind = 'bar')\n",
    "plt.title('Distribución Registros por Tipo de Usuario')    \n",
    "plt.grid()\n",
    "plt.show()"
   ]
  },
  {
   "cell_type": "markdown",
   "id": "purple-print",
   "metadata": {},
   "source": [
    "**Aprovechando las transformaciones realizadas en el apartado anterior, se ha podido ver como para ciertos valores de la variable TIPOUSUARIO (PF), no deben aplicar ciertos campos, y sin embargo, para PJ si deben aplicar los campos. En el caso PX, no sabemos, solo se conoce que puede ser PJ pero sin certeza, por lo que realizaremos la siguiente acción sobre el campo TIPOUSUARIO**:\n",
    "* Para aquellos registros con TIPOUSUARIO = PX, que tengan informados alguno de las variables que solo apliquen a PJ, se les cambiará a PJ.\n",
    "* En caso contrario se indicará PF"
   ]
  },
  {
   "cell_type": "code",
   "execution_count": 104,
   "id": "lesbian-estate",
   "metadata": {},
   "outputs": [
    {
     "data": {
      "text/plain": [
       "array(['NI', 'EMPRESARIO INDIVIDUAL', 'ENTIDAD FINANCIERA O DE SEGUROS',\n",
       "       'SOCIEDAD COMERCIAL/INDUSTRIAL', 'HOLDING'], dtype=object)"
      ]
     },
     "execution_count": 104,
     "metadata": {},
     "output_type": "execute_result"
    }
   ],
   "source": [
    "df_user[(df_user['TIPOUSUARIO'] == 'PX')]['USU_TIPO'].unique()"
   ]
  },
  {
   "cell_type": "code",
   "execution_count": 105,
   "id": "czech-peninsula",
   "metadata": {},
   "outputs": [
    {
     "data": {
      "text/plain": [
       "array(['SD', 'MC', 'PQ'], dtype=object)"
      ]
     },
     "execution_count": 105,
     "metadata": {},
     "output_type": "execute_result"
    }
   ],
   "source": [
    "df_user[(df_user['TIPOUSUARIO'] == 'PX')]['USU_TAMANIO'].unique()"
   ]
  },
  {
   "cell_type": "code",
   "execution_count": 106,
   "id": "martial-frame",
   "metadata": {},
   "outputs": [
    {
     "data": {
      "text/plain": [
       "array(['SD', 'G4799', 'G4711', 'S9511', 'Z9999', 'G4719', 'K6621',\n",
       "       'R9006', 'M6920', 'G4741', 'H4923', 'I5630', 'F4290', 'R9329',\n",
       "       'S9609', 'Z0010', 'C1410', 'G4723', 'G4520', 'G4721', 'C1089',\n",
       "       'M7490', 'J6020', 'M7020', 'C3312', 'M7010', 'S9602', 'I5613',\n",
       "       'C2599', 'I5611', 'N7911', 'N8130', 'H4921', 'G4773', 'C3110',\n",
       "       'L6810', 'H5320', 'M7310', 'C2511', 'G4791', 'C1690', 'C2819',\n",
       "       'G4759', 'N8299', 'J6201', 'G4774', 'G4530', 'I5612', 'K6612',\n",
       "       'G4761', 'C1040', 'G4755', 'F4321', 'C1072', 'C1081', 'I5619',\n",
       "       'R9311', 'G4663', 'C2021', 'S9522', 'N7912', 'G4771', '7499',\n",
       "       'B0510', 'I5514', 'I5511', 'G4752', 'A0130', 'K6511', 'M7110',\n",
       "       'E3830', 'R9007', 'R9200', 'G4542', 'C2023', 'G4649', 'P8559',\n",
       "       'R9008', 'C1610', 'C1101'], dtype=object)"
      ]
     },
     "execution_count": 106,
     "metadata": {},
     "output_type": "execute_result"
    }
   ],
   "source": [
    "df_user[(df_user['TIPOUSUARIO'] == 'PX')]['USU_CIIU'].unique()"
   ]
  },
  {
   "cell_type": "code",
   "execution_count": 107,
   "id": "quantitative-circular",
   "metadata": {},
   "outputs": [
    {
     "data": {
      "text/plain": [
       "array(['SD', 'ACTIVA', 'CANCELACIÓN', 'LIQUIDACION',\n",
       "       'SALIDA CLINTON (SDNT OFAC)'], dtype=object)"
      ]
     },
     "execution_count": 107,
     "metadata": {},
     "output_type": "execute_result"
    }
   ],
   "source": [
    "df_user[(df_user['TIPOUSUARIO'] == 'PX')]['USU_ESTADO'].unique()"
   ]
  },
  {
   "cell_type": "code",
   "execution_count": 108,
   "id": "joint-witch",
   "metadata": {},
   "outputs": [
    {
     "data": {
      "text/plain": [
       "array(['SD', 'ATLANTICO', 'BOGOTA', 'CESAR', 'TOLIMA', 'MAGDALENA',\n",
       "       'NORTE SANTANDER', 'ARAUCA', 'CUNDINAMARCA', 'SANTANDER',\n",
       "       'PUTUMAYO', 'BOYACA', 'HUILA', 'CASANARE', 'VALLE', 'ANTIOQUIA',\n",
       "       'RISARALDA', 'NARINO', 'CORDOBA', 'CALDAS', 'BOLIVAR', 'CAQUETA',\n",
       "       'CAUCA', 'META', 'QUINDIO', 'CHOCO'], dtype=object)"
      ]
     },
     "execution_count": 108,
     "metadata": {},
     "output_type": "execute_result"
    }
   ],
   "source": [
    "df_user[(df_user['TIPOUSUARIO'] == 'PX')]['USU_DEPARTAMENTO'].unique()"
   ]
  },
  {
   "cell_type": "markdown",
   "id": "animated-peter",
   "metadata": {},
   "source": [
    "**Realizamos la transformación**"
   ]
  },
  {
   "cell_type": "code",
   "execution_count": 109,
   "id": "signal-petersburg",
   "metadata": {},
   "outputs": [],
   "source": [
    "df_user.loc[(df_user['TIPOUSUARIO'] == 'PX') &\n",
    "            ((df_user['USU_TIPO'] != 'NI') | \n",
    "             (df_user['USU_TAMANIO'] != 'SD') | \n",
    "             (df_user['USU_CIIU'] != 'SD') | \n",
    "             (df_user['USU_ESTADO'] != 'SD') | \n",
    "             (df_user['USU_DEPARTAMENTO'] != 'SD')), 'TIPOUSUARIO'] = 'PJ'"
   ]
  },
  {
   "cell_type": "code",
   "execution_count": 110,
   "id": "incomplete-religion",
   "metadata": {},
   "outputs": [],
   "source": [
    "df_user.loc[(df_user['TIPOUSUARIO'] == 'PX') &\n",
    "            ((df_user['USU_TIPO'] == 'NI') &\n",
    "             (df_user['USU_TAMANIO'] == 'SD') & \n",
    "             (df_user['USU_CIIU'] == 'SD') & \n",
    "             (df_user['USU_ESTADO'] == 'SD') & \n",
    "             (df_user['USU_DEPARTAMENTO'] == 'SD')), 'TIPOUSUARIO'] = 'PF'"
   ]
  },
  {
   "cell_type": "markdown",
   "id": "listed-valuable",
   "metadata": {},
   "source": [
    "Comprobación"
   ]
  },
  {
   "cell_type": "code",
   "execution_count": 111,
   "id": "proof-fruit",
   "metadata": {},
   "outputs": [
    {
     "data": {
      "text/html": [
       "<div>\n",
       "<style scoped>\n",
       "    .dataframe tbody tr th:only-of-type {\n",
       "        vertical-align: middle;\n",
       "    }\n",
       "\n",
       "    .dataframe tbody tr th {\n",
       "        vertical-align: top;\n",
       "    }\n",
       "\n",
       "    .dataframe thead th {\n",
       "        text-align: right;\n",
       "    }\n",
       "</style>\n",
       "<table border=\"1\" class=\"dataframe\">\n",
       "  <thead>\n",
       "    <tr style=\"text-align: right;\">\n",
       "      <th></th>\n",
       "      <th>ID_USUARIO</th>\n",
       "      <th>TIPOUSUARIO</th>\n",
       "      <th>FECHA_REGISTRO</th>\n",
       "      <th>CANAL_REGISTRO</th>\n",
       "      <th>IND_CLIENTE</th>\n",
       "      <th>IND_ALTA</th>\n",
       "      <th>FECHA_ALTA</th>\n",
       "      <th>FECHA_CLIENTE</th>\n",
       "      <th>TIPOEMAIL</th>\n",
       "      <th>BONDAD_EMAIL</th>\n",
       "      <th>USU_TELF</th>\n",
       "      <th>IPCASOS</th>\n",
       "      <th>IP_Country</th>\n",
       "      <th>IP_Region</th>\n",
       "      <th>USU_TIPO</th>\n",
       "      <th>USU_TAMANIO</th>\n",
       "      <th>USU_CIIU</th>\n",
       "      <th>USU_ESTADO</th>\n",
       "      <th>USU_DEPARTAMENTO</th>\n",
       "    </tr>\n",
       "  </thead>\n",
       "  <tbody>\n",
       "  </tbody>\n",
       "</table>\n",
       "</div>"
      ],
      "text/plain": [
       "Empty DataFrame\n",
       "Columns: [ID_USUARIO, TIPOUSUARIO, FECHA_REGISTRO, CANAL_REGISTRO, IND_CLIENTE, IND_ALTA, FECHA_ALTA, FECHA_CLIENTE, TIPOEMAIL, BONDAD_EMAIL, USU_TELF, IPCASOS, IP_Country, IP_Region, USU_TIPO, USU_TAMANIO, USU_CIIU, USU_ESTADO, USU_DEPARTAMENTO]\n",
       "Index: []"
      ]
     },
     "execution_count": 111,
     "metadata": {},
     "output_type": "execute_result"
    }
   ],
   "source": [
    "df_user[(df_user['TIPOUSUARIO'] == 'PX') &\n",
    "            ((df_user['USU_TIPO'] != 'NI') | \n",
    "             (df_user['USU_TAMANIO'] != 'SD') | \n",
    "             (df_user['USU_CIIU'] != 'SD') | \n",
    "             (df_user['USU_ESTADO'] != 'SD') | \n",
    "             (df_user['USU_DEPARTAMENTO'] != 'SD'))]"
   ]
  },
  {
   "cell_type": "code",
   "execution_count": 112,
   "id": "lovely-pontiac",
   "metadata": {},
   "outputs": [
    {
     "data": {
      "text/html": [
       "<div>\n",
       "<style scoped>\n",
       "    .dataframe tbody tr th:only-of-type {\n",
       "        vertical-align: middle;\n",
       "    }\n",
       "\n",
       "    .dataframe tbody tr th {\n",
       "        vertical-align: top;\n",
       "    }\n",
       "\n",
       "    .dataframe thead th {\n",
       "        text-align: right;\n",
       "    }\n",
       "</style>\n",
       "<table border=\"1\" class=\"dataframe\">\n",
       "  <thead>\n",
       "    <tr style=\"text-align: right;\">\n",
       "      <th></th>\n",
       "      <th>ID_USUARIO</th>\n",
       "      <th>TIPOUSUARIO</th>\n",
       "      <th>FECHA_REGISTRO</th>\n",
       "      <th>CANAL_REGISTRO</th>\n",
       "      <th>IND_CLIENTE</th>\n",
       "      <th>IND_ALTA</th>\n",
       "      <th>FECHA_ALTA</th>\n",
       "      <th>FECHA_CLIENTE</th>\n",
       "      <th>TIPOEMAIL</th>\n",
       "      <th>BONDAD_EMAIL</th>\n",
       "      <th>USU_TELF</th>\n",
       "      <th>IPCASOS</th>\n",
       "      <th>IP_Country</th>\n",
       "      <th>IP_Region</th>\n",
       "      <th>USU_TIPO</th>\n",
       "      <th>USU_TAMANIO</th>\n",
       "      <th>USU_CIIU</th>\n",
       "      <th>USU_ESTADO</th>\n",
       "      <th>USU_DEPARTAMENTO</th>\n",
       "    </tr>\n",
       "  </thead>\n",
       "  <tbody>\n",
       "  </tbody>\n",
       "</table>\n",
       "</div>"
      ],
      "text/plain": [
       "Empty DataFrame\n",
       "Columns: [ID_USUARIO, TIPOUSUARIO, FECHA_REGISTRO, CANAL_REGISTRO, IND_CLIENTE, IND_ALTA, FECHA_ALTA, FECHA_CLIENTE, TIPOEMAIL, BONDAD_EMAIL, USU_TELF, IPCASOS, IP_Country, IP_Region, USU_TIPO, USU_TAMANIO, USU_CIIU, USU_ESTADO, USU_DEPARTAMENTO]\n",
       "Index: []"
      ]
     },
     "execution_count": 112,
     "metadata": {},
     "output_type": "execute_result"
    }
   ],
   "source": [
    "df_user[(df_user['TIPOUSUARIO'] == 'PX') &\n",
    "            ((df_user['USU_TIPO'] != 'NI') &\n",
    "             (df_user['USU_TAMANIO'] == 'SD') & \n",
    "             (df_user['USU_CIIU'] == 'SD') & \n",
    "             (df_user['USU_ESTADO'] == 'SD') & \n",
    "             (df_user['USU_DEPARTAMENTO'] == 'SD'))]"
   ]
  },
  {
   "cell_type": "code",
   "execution_count": 113,
   "id": "floral-disclosure",
   "metadata": {},
   "outputs": [
    {
     "data": {
      "text/plain": [
       "TIPOUSUARIO\n",
       "PF    276620\n",
       "PJ     91017\n",
       "Name: TIPOUSUARIO, dtype: int64"
      ]
     },
     "execution_count": 113,
     "metadata": {},
     "output_type": "execute_result"
    }
   ],
   "source": [
    "df_user.groupby(['TIPOUSUARIO'])['TIPOUSUARIO'].count()"
   ]
  },
  {
   "cell_type": "code",
   "execution_count": 114,
   "id": "urban-laser",
   "metadata": {},
   "outputs": [
    {
     "data": {
      "image/png": "[encoded data removed]",
      "text/plain": [
       "<Figure size 432x288 with 1 Axes>"
      ]
     },
     "metadata": {
      "needs_background": "light"
     },
     "output_type": "display_data"
    }
   ],
   "source": [
    "df_user['TIPOUSUARIO'].value_counts().plot(kind = 'bar')\n",
    "plt.title('Distribución Registros por Tipo de Usuario')    \n",
    "plt.grid()\n",
    "plt.show()"
   ]
  },
  {
   "cell_type": "markdown",
   "id": "useful-processing",
   "metadata": {},
   "source": [
    "**Realizamos una comrpobación similar para los usuarios PF, de forma que estos no tengan informados los valores**"
   ]
  },
  {
   "cell_type": "code",
   "execution_count": 115,
   "id": "prospective-implementation",
   "metadata": {},
   "outputs": [
    {
     "data": {
      "text/plain": [
       "array(['NoApl', 'NI'], dtype=object)"
      ]
     },
     "execution_count": 115,
     "metadata": {},
     "output_type": "execute_result"
    }
   ],
   "source": [
    "df_user[(df_user['TIPOUSUARIO'] == 'PF')]['USU_TIPO'].unique()"
   ]
  },
  {
   "cell_type": "code",
   "execution_count": 116,
   "id": "brutal-transparency",
   "metadata": {},
   "outputs": [
    {
     "data": {
      "text/plain": [
       "array(['NoApl', 'SD'], dtype=object)"
      ]
     },
     "execution_count": 116,
     "metadata": {},
     "output_type": "execute_result"
    }
   ],
   "source": [
    "df_user[(df_user['TIPOUSUARIO'] == 'PF')]['USU_TAMANIO'].unique()"
   ]
  },
  {
   "cell_type": "code",
   "execution_count": 117,
   "id": "universal-hamburg",
   "metadata": {},
   "outputs": [
    {
     "data": {
      "text/plain": [
       "array(['NoApl', 'SD'], dtype=object)"
      ]
     },
     "execution_count": 117,
     "metadata": {},
     "output_type": "execute_result"
    }
   ],
   "source": [
    "df_user[(df_user['TIPOUSUARIO'] == 'PF')]['USU_CIIU'].unique()"
   ]
  },
  {
   "cell_type": "code",
   "execution_count": 118,
   "id": "mobile-clarity",
   "metadata": {},
   "outputs": [
    {
     "data": {
      "text/plain": [
       "array(['NoApl', 'SD'], dtype=object)"
      ]
     },
     "execution_count": 118,
     "metadata": {},
     "output_type": "execute_result"
    }
   ],
   "source": [
    "df_user[(df_user['TIPOUSUARIO'] == 'PF')]['USU_ESTADO'].unique()"
   ]
  },
  {
   "cell_type": "code",
   "execution_count": 119,
   "id": "entire-telling",
   "metadata": {},
   "outputs": [
    {
     "data": {
      "text/plain": [
       "array(['NoApl', 'SD'], dtype=object)"
      ]
     },
     "execution_count": 119,
     "metadata": {},
     "output_type": "execute_result"
    }
   ],
   "source": [
    "df_user[(df_user['TIPOUSUARIO'] == 'PF')]['USU_DEPARTAMENTO'].unique()"
   ]
  },
  {
   "cell_type": "markdown",
   "id": "pressing-liberty",
   "metadata": {},
   "source": [
    "**Realizamos la transformación**:\n",
    "* Todos los valores de los campos indicados, para los usuarios PF, deben ser NoApl."
   ]
  },
  {
   "cell_type": "code",
   "execution_count": 120,
   "id": "nutritional-legend",
   "metadata": {},
   "outputs": [],
   "source": [
    "df_user.loc[(df_user['TIPOUSUARIO'] == 'PF'), ['USU_TIPO','USU_TAMANIO','USU_CIIU','USU_ESTADO','USU_DEPARTAMENTO']] = 'NoApl'"
   ]
  },
  {
   "cell_type": "markdown",
   "id": "framed-wisconsin",
   "metadata": {},
   "source": [
    "**Comprobación**"
   ]
  },
  {
   "cell_type": "code",
   "execution_count": 121,
   "id": "recorded-ministry",
   "metadata": {},
   "outputs": [
    {
     "data": {
      "text/plain": [
       "array(['NoApl'], dtype=object)"
      ]
     },
     "execution_count": 121,
     "metadata": {},
     "output_type": "execute_result"
    }
   ],
   "source": [
    "df_user[(df_user['TIPOUSUARIO'] == 'PF')]['USU_TIPO'].unique()"
   ]
  },
  {
   "cell_type": "code",
   "execution_count": 122,
   "id": "hazardous-adapter",
   "metadata": {},
   "outputs": [
    {
     "data": {
      "text/plain": [
       "array(['NoApl'], dtype=object)"
      ]
     },
     "execution_count": 122,
     "metadata": {},
     "output_type": "execute_result"
    }
   ],
   "source": [
    "df_user[(df_user['TIPOUSUARIO'] == 'PF')]['USU_TAMANIO'].unique()"
   ]
  },
  {
   "cell_type": "code",
   "execution_count": 123,
   "id": "objective-sunday",
   "metadata": {},
   "outputs": [
    {
     "data": {
      "text/plain": [
       "array(['NoApl'], dtype=object)"
      ]
     },
     "execution_count": 123,
     "metadata": {},
     "output_type": "execute_result"
    }
   ],
   "source": [
    "df_user[(df_user['TIPOUSUARIO'] == 'PF')]['USU_CIIU'].unique()"
   ]
  },
  {
   "cell_type": "code",
   "execution_count": 124,
   "id": "integrated-painting",
   "metadata": {},
   "outputs": [
    {
     "data": {
      "text/plain": [
       "array(['NoApl'], dtype=object)"
      ]
     },
     "execution_count": 124,
     "metadata": {},
     "output_type": "execute_result"
    }
   ],
   "source": [
    "df_user[(df_user['TIPOUSUARIO'] == 'PF')]['USU_ESTADO'].unique()"
   ]
  },
  {
   "cell_type": "code",
   "execution_count": 125,
   "id": "accepting-opera",
   "metadata": {},
   "outputs": [
    {
     "data": {
      "text/plain": [
       "array(['NoApl'], dtype=object)"
      ]
     },
     "execution_count": 125,
     "metadata": {},
     "output_type": "execute_result"
    }
   ],
   "source": [
    "df_user[(df_user['TIPOUSUARIO'] == 'PF')]['USU_DEPARTAMENTO'].unique()"
   ]
  },
  {
   "cell_type": "markdown",
   "id": "handy-charter",
   "metadata": {},
   "source": [
    "**Realizamos el mismo análisis para PJ**"
   ]
  },
  {
   "cell_type": "code",
   "execution_count": 126,
   "id": "intelligent-peeing",
   "metadata": {},
   "outputs": [
    {
     "data": {
      "text/plain": [
       "array(['SOCIEDAD COMERCIAL/INDUSTRIAL', 'EMPRESARIO INDIVIDUAL',\n",
       "       'HOLDING', 'ENTIDAD FINANCIERA O DE SEGUROS', 'NI',\n",
       "       'ENTIDAD SIN ANIMO DE LUCRO', 'ORGANISMO ESTATAL',\n",
       "       'ENTIDAD EXTRANJERA', 'SOCIEDAD NO COMERCIAL',\n",
       "       'INDUSTRIA / COMERCIO'], dtype=object)"
      ]
     },
     "execution_count": 126,
     "metadata": {},
     "output_type": "execute_result"
    }
   ],
   "source": [
    "df_user[(df_user['TIPOUSUARIO'] == 'PJ')]['USU_TIPO'].unique()"
   ]
  },
  {
   "cell_type": "code",
   "execution_count": 127,
   "id": "altered-executive",
   "metadata": {},
   "outputs": [
    {
     "data": {
      "text/plain": [
       "array(['PQ', 'MC', 'GR', 'SD', 'MD'], dtype=object)"
      ]
     },
     "execution_count": 127,
     "metadata": {},
     "output_type": "execute_result"
    }
   ],
   "source": [
    "df_user[(df_user['TIPOUSUARIO'] == 'PJ')]['USU_TAMANIO'].unique()"
   ]
  },
  {
   "cell_type": "code",
   "execution_count": 128,
   "id": "beneficial-cycling",
   "metadata": {},
   "outputs": [
    {
     "data": {
      "text/plain": [
       "array(['N7820', 'G4774', 'N8299', 'M7010', 'F4111', 'G4752', 'K6621',\n",
       "       'I5511', 'SD', 'C2660', 'P8551', 'I5611', '7499', 'G4649', 'G4741',\n",
       "       'H5224', 'F4321', 'J6201', 'H4923', 'M7110', 'R9329', 'J6202',\n",
       "       'H4922', 'G4771', 'G4651', 'G4663', 'N7830', 'G4659', 'Z0010',\n",
       "       'F4330', 'C1811', 'G4631', 'F4322', 'L6810', 'G4645', 'G4711',\n",
       "       'J6110', 'G4530', 'I5619', 'M7310', 'G4791', 'G4761', 'H5229',\n",
       "       'C3312', 'S9602', 'F4290', 'N8121', 'M7020', 'Q8699', 'C2930',\n",
       "       'N8291', 'E3811', 'M6920', 'G4773', 'R9200', 'C2221', 'E3830',\n",
       "       'C3250', 'J6190', 'C2712', 'G4731', 'S9609', 'Q8692', 'C1040',\n",
       "       'N8130', 'F4390', 'M6910', 'F4220', 'M7410', 'C1080', 'N7710',\n",
       "       'I5613', 'G4759', 'K6613', 'E3900', 'G4799', 'M7220', 'K6512',\n",
       "       'Q8691', 'G4652', 'M7490', 'G4751', 'G4719', 'H4921', 'M7420',\n",
       "       'G4755', 'P8552', 'G4669', 'G4632', 'S9529', 'M7320', 'P8530',\n",
       "       'G4641', 'G4729', 'P8523', 'G4661', 'G4620', 'I5512', 'I5519',\n",
       "       'C1690', 'Z9999', 'G4724', 'P8560', 'G4754', 'F4112', 'I5590',\n",
       "       'C1313', 'J5911', 'C3311', 'F4329', 'N8020', 'G4662', 'G4664',\n",
       "       'N8219', 'S9511', 'G4782', 'S9499', 'N7912', 'O8400', 'J5813',\n",
       "       'C1522', 'G4772', 'I5630', 'C1610', 'K6619', 'J6120', 'H5310',\n",
       "       'C2395', 'C1081', 'I5621', 'C2023', 'K6412', 'R9007', 'C3314',\n",
       "       'C2310', 'C2013', 'H5223', 'L6820', 'A0161', 'C1410', 'C1030',\n",
       "       'N7730', 'K6612', 'J5811', 'G4721', 'C3120', 'J5820', 'K6493',\n",
       "       'G4769', 'G4542', 'A0125', 'C2910', 'N8129', 'G4520', 'C3313',\n",
       "       'J6209', 'A0143', 'Q8621', 'C2592', 'M7120', 'G4541', 'C2816',\n",
       "       'N8230', 'C2410', 'G4723', 'S9411', 'K6499', 'P8522', 'G4665',\n",
       "       'D3512', 'C2022', 'I5612', 'N8110', 'J6399', 'C2229', 'G4690',\n",
       "       'O8430', 'G4642', 'J5920', 'G4512', 'J6311', 'Q8610', 'J6312',\n",
       "       'N7911', 'C1011', 'J6130', 'I5629', 'N8220', 'C1084', 'C2819',\n",
       "       'C1709', 'N7990', 'J6020', 'A0145', 'C1020', 'H5210', 'C1082',\n",
       "       'M7500', 'G4762', 'C1812', 'C1051', 'R9004', 'C2393', 'P8511',\n",
       "       'C1523', 'G4753', 'N8211', 'M7210', 'C3320', 'S9603', 'C1820',\n",
       "       'D3520', 'C2100', 'A0141', 'G4653', 'R9311', 'G4644', 'C1392',\n",
       "       'C1089', 'I5530', 'C2512', 'C1630', 'Q8622', 'B0811', 'C2825',\n",
       "       'C3110', 'G4511', 'O8413', 'H5222', 'C2920', 'C2432', 'C2394',\n",
       "       'C1393', 'H5021', 'C1521', 'A0111', 'C2511', 'F4311', 'A0126',\n",
       "       'C3290', 'A0122', 'G4722', 'C2011', 'G4781', 'C1399', 'G4610',\n",
       "       'F4210', 'K6511', 'C2599', 'G4732', 'B0610', 'S9512', 'C2824',\n",
       "       'H5221', 'R9006', 'P8559', 'N8010', 'Q8600', 'G4789', 'C1101',\n",
       "       'C1391', 'C3315', 'C2021', 'N7721', 'A0149', 'C2029', 'K6492',\n",
       "       'S9601', 'K6615', 'S9400', 'D3514', 'G4742', 'H5320', 'A0130',\n",
       "       'P8544', 'A0113', 'P8512', 'C1012', 'C1512', 'A0121', 'A0112',\n",
       "       'A0128', 'C2740', 'S9521', 'D3511', 'C3240', 'G4792', 'C3220',\n",
       "       'Q8890', 'C3210', 'G4775', 'A0162', 'R9001', 'R9319', 'A0163',\n",
       "       'S9522', 'C1061', 'P8541', 'C2829', 'C3319', 'H5122', 'Q8790',\n",
       "       'A0144', 'C2421', 'C2821', 'A0322', 'C1104', 'H5111', 'B0910',\n",
       "       'C2219', 'B0990', 'K6630', 'R9003', 'A0150', 'K6494', 'K6521',\n",
       "       '6592', 'C3230', 'C3011', 'C1702', 'S9524', 'C2399', 'E3600',\n",
       "       'I5514', 'C2630', 'C1090', 'F4200', 'R9002', 'P8542', 'C2012',\n",
       "       'P8543', 'K6431', 'E3821', 'C1103', 'A0164', 'I5510', 'N7810',\n",
       "       'F4312', 'A0142', 'Z0090', 'C1921', 'C1311', 'C2520', 'D3530',\n",
       "       'C2610', 'R9103', 'C1430', 'C1063', 'K6611', 'C1312', 'C2750',\n",
       "       'S9491', 'C2513', 'C1511', 'K6620', 'H5011', '6021', 'O8415',\n",
       "       'P8500', 'P8540', 'S9412', 'C1620', 'R9008', 'C2392', 'C2815',\n",
       "       'A0123', 'C2790', 'E3812', 'C1513', 'C1102', 'C2030', 'H5022',\n",
       "       'O8424', 'K6629', 'A0210', 'J6010', 'K6531', 'Q8810', 'N7740',\n",
       "       'B0510', 'N7729', 'H4930', 'P8521', 'C2396', 'J5819', 'K6522',\n",
       "       'K6422', 'R9005', 'G4700', 'G4643', 'B0899', 'C1062', 'C2591',\n",
       "       'N8292', 'A0240', 'B0729', 'J5914', 'C2651', 'A0124', '9213',\n",
       "       'E3700', 'O8420', 'I5513', 'C3091', '5130', 'P8513', 'C1640',\n",
       "       'O8414', 'H5012', 'T9700', '6022', 'A0220', 'A0129', 'J5912',\n",
       "       'R9321', 'B0820', '0112', 'C2391', 'C2640', 'K6423', 'C1420',\n",
       "       'I5520', 'C2212', 'B0722', 'R9312', 'C2429', 'U9900', 'C2720',\n",
       "       'R9101', 'N8030', '4520', 'P8553', 'O8412', 'C1300', '7421',\n",
       "       'B0812', 'A0140', 'A0127', 'A0230', 'P8510', 'C1071', 'C2823',\n",
       "       'C2593', 'C2711', 'C1072', 'A0312', 'A0119', 'N7722', 'K6514',\n",
       "       'Q8730', 'H4912', 'S9523', 'C1910', 'C2652', '5219', '5121',\n",
       "       'I5610', 'C1394', '5100', '8512', '7010', 'E3822', 'C1200',\n",
       "       'G4600', 'C3092', '0130', 'C1052', '5122', '5030', 'R9102',\n",
       "       'C2700', 'B0891', 'Q8720', '5220', '6599', '7020', 'T9820',\n",
       "       'K6513', 'O8423', 'C2670', 'H4911', '2610', 'Z0081', '5152',\n",
       "       '5230', 'J5800', 'Q8710', 'C3030', '2424', 'O8410', '1920', '9241',\n",
       "       'H5112', 'S9492', 'S9420', 'C1083', 'K6421', 'M7112', 'C2822',\n",
       "       'C2826', 'C3012', 'C1701', 'K6614', 'O8411', 'H5121', 'D3513',\n",
       "       '6420', 'B0710', 'C2813', 'A0100', 'C2431', 'H5300', '3190',\n",
       "       'H5200', 'J6391', 'S9490', '0140', 'A0321', '6023', '2423', '5200',\n",
       "       'K6424', 'A0311', 'C2732', 'S9600', 'K6600', 'C2200', '7493',\n",
       "       'C2814', '5151', 'C2811', 'Z0082', 'B0892', 'K6495', 'C2620',\n",
       "       'O8422', '6603', '5520', 'C2817', '7411', 'C1400', 'C2731', '5234',\n",
       "       'J6200', '1800', '7400', 'H5010', '6720', '4530', '2220', '5231',\n",
       "       '7412', '2811', 'O8421', 'C2812', '3592', 'K6420', '5140', 'J5913',\n",
       "       'K6491', '2919', 'C2014', 'G4780', 'L6800', '2519', 'M6900',\n",
       "       '5232', 'B0520', 'C2211', 'K6411', '1110', 'D3500', '5190', '5010',\n",
       "       '7492', '5020', 'C3300', 'C1000', '5131', 'B0500', 'F4100',\n",
       "       'M7200', 'K6500', 'A0115', 'C3099', '5211', '5110', 'I5500',\n",
       "       '8090', 'C1922', '8519', '8021', 'F4300', '6303', 'C1520', 'R9320'],\n",
       "      dtype=object)"
      ]
     },
     "execution_count": 128,
     "metadata": {},
     "output_type": "execute_result"
    }
   ],
   "source": [
    "df_user[(df_user['TIPOUSUARIO'] == 'PJ')]['USU_CIIU'].unique()"
   ]
  },
  {
   "cell_type": "code",
   "execution_count": 129,
   "id": "private-happiness",
   "metadata": {},
   "outputs": [
    {
     "data": {
      "text/plain": [
       "array(['ACTIVA', 'CANCELACIÓN', 'SD', 'LIQUIDACION',\n",
       "       'COINCIDENCIA HOMOGRAFA LISTA CLINTON (SDNT OFAC)', 'EXTINGUIDA',\n",
       "       'LEY DE INSOLVENCIA (REORGANIZACION EMPRESARIAL)',\n",
       "       'INACTIVA TEMPORAL', 'REESTRUCTURACION O CONCORDATO',\n",
       "       'SALIDA CLINTON (SDNT OFAC)', 'INTERVENIDA',\n",
       "       'ANULACIÓN LIQUIDACIÓN'], dtype=object)"
      ]
     },
     "execution_count": 129,
     "metadata": {},
     "output_type": "execute_result"
    }
   ],
   "source": [
    "df_user[(df_user['TIPOUSUARIO'] == 'PJ')]['USU_ESTADO'].unique()"
   ]
  },
  {
   "cell_type": "code",
   "execution_count": 130,
   "id": "incorporate-salem",
   "metadata": {},
   "outputs": [
    {
     "data": {
      "text/plain": [
       "array(['QUINDIO', 'ATLANTICO', 'VALLE', 'SANTANDER', 'RISARALDA',\n",
       "       'ANTIOQUIA', 'BOGOTA', 'LA GUAJIRA', 'CESAR', 'CUNDINAMARCA',\n",
       "       'NORTE SANTANDER', 'CAUCA', 'BOYACA', 'CORDOBA', 'TOLIMA',\n",
       "       'CALDAS', 'BOLIVAR', 'MAGDALENA', 'META', 'HUILA', 'SUCRE',\n",
       "       'CASANARE', 'SD', 'NARINO', 'ARAUCA', 'CHOCO', 'CAQUETA',\n",
       "       'AMAZONAS', 'PUTUMAYO', 'SAN ANDRES', 'VICHADA', 'GUAVIARE',\n",
       "       'GUAINIA', 'VAUPES'], dtype=object)"
      ]
     },
     "execution_count": 130,
     "metadata": {},
     "output_type": "execute_result"
    }
   ],
   "source": [
    "df_user[(df_user['TIPOUSUARIO'] == 'PJ')]['USU_DEPARTAMENTO'].unique()"
   ]
  },
  {
   "cell_type": "markdown",
   "id": "adjusted-taylor",
   "metadata": {},
   "source": [
    "-----------------------------"
   ]
  },
  {
   "cell_type": "markdown",
   "id": "cardiac-internet",
   "metadata": {},
   "source": [
    "**3. FECHA_REGISTRO**"
   ]
  },
  {
   "cell_type": "markdown",
   "id": "lovely-venture",
   "metadata": {},
   "source": [
    "Se comprobará que la Fecha de Registro, sea anterior a la fecha de alta del usuario."
   ]
  },
  {
   "cell_type": "code",
   "execution_count": 131,
   "id": "manual-glenn",
   "metadata": {},
   "outputs": [
    {
     "data": {
      "text/plain": [
       "3714"
      ]
     },
     "execution_count": 131,
     "metadata": {},
     "output_type": "execute_result"
    }
   ],
   "source": [
    "df_comprobacion = df_user[(df_user['IND_ALTA'] == 1)]\n",
    "df_comprobacion.shape[0]"
   ]
  },
  {
   "cell_type": "code",
   "execution_count": 132,
   "id": "prospective-humor",
   "metadata": {},
   "outputs": [
    {
     "data": {
      "text/plain": [
       "3505"
      ]
     },
     "execution_count": 132,
     "metadata": {},
     "output_type": "execute_result"
    }
   ],
   "source": [
    "df_comprobacion[(pd.to_datetime(df_comprobacion['FECHA_REGISTRO']) <= pd.to_datetime(df_comprobacion['FECHA_ALTA']))].shape[0]"
   ]
  },
  {
   "cell_type": "code",
   "execution_count": 133,
   "id": "apparent-manchester",
   "metadata": {},
   "outputs": [
    {
     "data": {
      "text/plain": [
       "209"
      ]
     },
     "execution_count": 133,
     "metadata": {},
     "output_type": "execute_result"
    }
   ],
   "source": [
    "df_comprobacion[(pd.to_datetime(df_comprobacion['FECHA_REGISTRO']) > pd.to_datetime(df_comprobacion['FECHA_ALTA']))].shape[0]"
   ]
  },
  {
   "cell_type": "code",
   "execution_count": 134,
   "id": "chicken-heaven",
   "metadata": {},
   "outputs": [
    {
     "data": {
      "text/html": [
       "<div>\n",
       "<style scoped>\n",
       "    .dataframe tbody tr th:only-of-type {\n",
       "        vertical-align: middle;\n",
       "    }\n",
       "\n",
       "    .dataframe tbody tr th {\n",
       "        vertical-align: top;\n",
       "    }\n",
       "\n",
       "    .dataframe thead th {\n",
       "        text-align: right;\n",
       "    }\n",
       "</style>\n",
       "<table border=\"1\" class=\"dataframe\">\n",
       "  <thead>\n",
       "    <tr style=\"text-align: right;\">\n",
       "      <th></th>\n",
       "      <th>ID_USUARIO</th>\n",
       "      <th>TIPOUSUARIO</th>\n",
       "      <th>FECHA_REGISTRO</th>\n",
       "      <th>CANAL_REGISTRO</th>\n",
       "      <th>IND_CLIENTE</th>\n",
       "      <th>IND_ALTA</th>\n",
       "      <th>FECHA_ALTA</th>\n",
       "      <th>FECHA_CLIENTE</th>\n",
       "      <th>TIPOEMAIL</th>\n",
       "      <th>BONDAD_EMAIL</th>\n",
       "      <th>USU_TELF</th>\n",
       "      <th>IPCASOS</th>\n",
       "      <th>IP_Country</th>\n",
       "      <th>IP_Region</th>\n",
       "      <th>USU_TIPO</th>\n",
       "      <th>USU_TAMANIO</th>\n",
       "      <th>USU_CIIU</th>\n",
       "      <th>USU_ESTADO</th>\n",
       "      <th>USU_DEPARTAMENTO</th>\n",
       "    </tr>\n",
       "  </thead>\n",
       "  <tbody>\n",
       "    <tr>\n",
       "      <th>4169</th>\n",
       "      <td>7807890</td>\n",
       "      <td>PF</td>\n",
       "      <td>2019-05-24</td>\n",
       "      <td>1</td>\n",
       "      <td>0</td>\n",
       "      <td>1</td>\n",
       "      <td>2019-03-06 00:00:00</td>\n",
       "      <td>NoApl</td>\n",
       "      <td>GOOHOTYAHMAIL</td>\n",
       "      <td>20</td>\n",
       "      <td>30041XXXXX</td>\n",
       "      <td>0</td>\n",
       "      <td>NI</td>\n",
       "      <td>NI</td>\n",
       "      <td>NoApl</td>\n",
       "      <td>NoApl</td>\n",
       "      <td>NoApl</td>\n",
       "      <td>NoApl</td>\n",
       "      <td>NoApl</td>\n",
       "    </tr>\n",
       "    <tr>\n",
       "      <th>10665</th>\n",
       "      <td>7799423</td>\n",
       "      <td>PJ</td>\n",
       "      <td>2019-05-21</td>\n",
       "      <td>7</td>\n",
       "      <td>1</td>\n",
       "      <td>1</td>\n",
       "      <td>2019-04-06 00:00:00</td>\n",
       "      <td>2019-04-06 00:00:00</td>\n",
       "      <td>CORPORATIVO</td>\n",
       "      <td>20</td>\n",
       "      <td>30078XXXXX</td>\n",
       "      <td>0</td>\n",
       "      <td>NI</td>\n",
       "      <td>NI</td>\n",
       "      <td>SOCIEDAD COMERCIAL/INDUSTRIAL</td>\n",
       "      <td>MC</td>\n",
       "      <td>M7310</td>\n",
       "      <td>ACTIVA</td>\n",
       "      <td>VALLE</td>\n",
       "    </tr>\n",
       "    <tr>\n",
       "      <th>10827</th>\n",
       "      <td>7956181</td>\n",
       "      <td>PJ</td>\n",
       "      <td>2019-08-13</td>\n",
       "      <td>7</td>\n",
       "      <td>1</td>\n",
       "      <td>1</td>\n",
       "      <td>2019-02-09 00:00:00</td>\n",
       "      <td>2019-02-09 00:00:00</td>\n",
       "      <td>GOOHOTYAHMAIL</td>\n",
       "      <td>20</td>\n",
       "      <td>30079XXXXX</td>\n",
       "      <td>0</td>\n",
       "      <td>NI</td>\n",
       "      <td>NI</td>\n",
       "      <td>SOCIEDAD COMERCIAL/INDUSTRIAL</td>\n",
       "      <td>MC</td>\n",
       "      <td>C1089</td>\n",
       "      <td>ACTIVA</td>\n",
       "      <td>ATLANTICO</td>\n",
       "    </tr>\n",
       "    <tr>\n",
       "      <th>12171</th>\n",
       "      <td>7636847</td>\n",
       "      <td>PJ</td>\n",
       "      <td>2019-09-03</td>\n",
       "      <td>4</td>\n",
       "      <td>1</td>\n",
       "      <td>1</td>\n",
       "      <td>2019-04-24 00:00:00</td>\n",
       "      <td>2019-04-24 00:00:00</td>\n",
       "      <td>CORPORATIVO</td>\n",
       "      <td>20</td>\n",
       "      <td>30086XXXXX</td>\n",
       "      <td>2</td>\n",
       "      <td>Colombia</td>\n",
       "      <td>Bogotá D.C.</td>\n",
       "      <td>NI</td>\n",
       "      <td>SD</td>\n",
       "      <td>SD</td>\n",
       "      <td>SD</td>\n",
       "      <td>BOGOTA</td>\n",
       "    </tr>\n",
       "    <tr>\n",
       "      <th>15767</th>\n",
       "      <td>8084082</td>\n",
       "      <td>PF</td>\n",
       "      <td>2019-11-10</td>\n",
       "      <td>3</td>\n",
       "      <td>0</td>\n",
       "      <td>1</td>\n",
       "      <td>2019-10-21 00:00:00</td>\n",
       "      <td>NoApl</td>\n",
       "      <td>GOOHOTYAHMAIL</td>\n",
       "      <td>20</td>\n",
       "      <td>30136XXXXX</td>\n",
       "      <td>1</td>\n",
       "      <td>Colombia</td>\n",
       "      <td>Valle del Cauca</td>\n",
       "      <td>NoApl</td>\n",
       "      <td>NoApl</td>\n",
       "      <td>NoApl</td>\n",
       "      <td>NoApl</td>\n",
       "      <td>NoApl</td>\n",
       "    </tr>\n",
       "  </tbody>\n",
       "</table>\n",
       "</div>"
      ],
      "text/plain": [
       "       ID_USUARIO TIPOUSUARIO FECHA_REGISTRO  CANAL_REGISTRO  IND_CLIENTE  \\\n",
       "4169      7807890          PF     2019-05-24               1            0   \n",
       "10665     7799423          PJ     2019-05-21               7            1   \n",
       "10827     7956181          PJ     2019-08-13               7            1   \n",
       "12171     7636847          PJ     2019-09-03               4            1   \n",
       "15767     8084082          PF     2019-11-10               3            0   \n",
       "\n",
       "       IND_ALTA           FECHA_ALTA        FECHA_CLIENTE      TIPOEMAIL  \\\n",
       "4169          1  2019-03-06 00:00:00                NoApl  GOOHOTYAHMAIL   \n",
       "10665         1  2019-04-06 00:00:00  2019-04-06 00:00:00    CORPORATIVO   \n",
       "10827         1  2019-02-09 00:00:00  2019-02-09 00:00:00  GOOHOTYAHMAIL   \n",
       "12171         1  2019-04-24 00:00:00  2019-04-24 00:00:00    CORPORATIVO   \n",
       "15767         1  2019-10-21 00:00:00                NoApl  GOOHOTYAHMAIL   \n",
       "\n",
       "       BONDAD_EMAIL    USU_TELF  IPCASOS IP_Country        IP_Region  \\\n",
       "4169             20  30041XXXXX        0         NI               NI   \n",
       "10665            20  30078XXXXX        0         NI               NI   \n",
       "10827            20  30079XXXXX        0         NI               NI   \n",
       "12171            20  30086XXXXX        2   Colombia      Bogotá D.C.   \n",
       "15767            20  30136XXXXX        1   Colombia  Valle del Cauca   \n",
       "\n",
       "                            USU_TIPO USU_TAMANIO USU_CIIU USU_ESTADO  \\\n",
       "4169                           NoApl       NoApl    NoApl      NoApl   \n",
       "10665  SOCIEDAD COMERCIAL/INDUSTRIAL          MC    M7310     ACTIVA   \n",
       "10827  SOCIEDAD COMERCIAL/INDUSTRIAL          MC    C1089     ACTIVA   \n",
       "12171                             NI          SD       SD         SD   \n",
       "15767                          NoApl       NoApl    NoApl      NoApl   \n",
       "\n",
       "      USU_DEPARTAMENTO  \n",
       "4169             NoApl  \n",
       "10665            VALLE  \n",
       "10827        ATLANTICO  \n",
       "12171           BOGOTA  \n",
       "15767            NoApl  "
      ]
     },
     "execution_count": 134,
     "metadata": {},
     "output_type": "execute_result"
    }
   ],
   "source": [
    "df_comprobacion[(pd.to_datetime(df_comprobacion['FECHA_REGISTRO']) > pd.to_datetime(df_comprobacion['FECHA_ALTA']))].head(5)"
   ]
  },
  {
   "cell_type": "markdown",
   "id": "legitimate-pathology",
   "metadata": {},
   "source": [
    "**Observación**: Hay un total de 209 usuarios con fecha de alta anterior a fecha de registro, por lo que les computaremos la fecha de alta a la misma fecha de Registro."
   ]
  },
  {
   "cell_type": "markdown",
   "id": "polish-wrong",
   "metadata": {},
   "source": [
    "Seleccionamos aquellos a los que debemos cambiar"
   ]
  },
  {
   "cell_type": "code",
   "execution_count": 135,
   "id": "recovered-means",
   "metadata": {},
   "outputs": [],
   "source": [
    "lista_index = (df_comprobacion[(pd.to_datetime(df_comprobacion['FECHA_REGISTRO']) > pd.to_datetime(df_comprobacion['FECHA_ALTA']))].index).tolist()"
   ]
  },
  {
   "cell_type": "code",
   "execution_count": 136,
   "id": "latter-drama",
   "metadata": {},
   "outputs": [],
   "source": [
    "df_user.loc[df_user.index.isin(lista_index), 'FECHA_ALTA'] = df_user['FECHA_REGISTRO']"
   ]
  },
  {
   "cell_type": "markdown",
   "id": "infrared-james",
   "metadata": {},
   "source": [
    "**Comprobación**"
   ]
  },
  {
   "cell_type": "code",
   "execution_count": 137,
   "id": "hired-style",
   "metadata": {},
   "outputs": [
    {
     "data": {
      "text/html": [
       "<div>\n",
       "<style scoped>\n",
       "    .dataframe tbody tr th:only-of-type {\n",
       "        vertical-align: middle;\n",
       "    }\n",
       "\n",
       "    .dataframe tbody tr th {\n",
       "        vertical-align: top;\n",
       "    }\n",
       "\n",
       "    .dataframe thead th {\n",
       "        text-align: right;\n",
       "    }\n",
       "</style>\n",
       "<table border=\"1\" class=\"dataframe\">\n",
       "  <thead>\n",
       "    <tr style=\"text-align: right;\">\n",
       "      <th></th>\n",
       "      <th>ID_USUARIO</th>\n",
       "      <th>TIPOUSUARIO</th>\n",
       "      <th>FECHA_REGISTRO</th>\n",
       "      <th>CANAL_REGISTRO</th>\n",
       "      <th>IND_CLIENTE</th>\n",
       "      <th>IND_ALTA</th>\n",
       "      <th>FECHA_ALTA</th>\n",
       "      <th>FECHA_CLIENTE</th>\n",
       "      <th>TIPOEMAIL</th>\n",
       "      <th>BONDAD_EMAIL</th>\n",
       "      <th>USU_TELF</th>\n",
       "      <th>IPCASOS</th>\n",
       "      <th>IP_Country</th>\n",
       "      <th>IP_Region</th>\n",
       "      <th>USU_TIPO</th>\n",
       "      <th>USU_TAMANIO</th>\n",
       "      <th>USU_CIIU</th>\n",
       "      <th>USU_ESTADO</th>\n",
       "      <th>USU_DEPARTAMENTO</th>\n",
       "    </tr>\n",
       "  </thead>\n",
       "  <tbody>\n",
       "    <tr>\n",
       "      <th>4169</th>\n",
       "      <td>7807890</td>\n",
       "      <td>PF</td>\n",
       "      <td>2019-05-24</td>\n",
       "      <td>1</td>\n",
       "      <td>0</td>\n",
       "      <td>1</td>\n",
       "      <td>2019-05-24 00:00:00</td>\n",
       "      <td>NoApl</td>\n",
       "      <td>GOOHOTYAHMAIL</td>\n",
       "      <td>20</td>\n",
       "      <td>30041XXXXX</td>\n",
       "      <td>0</td>\n",
       "      <td>NI</td>\n",
       "      <td>NI</td>\n",
       "      <td>NoApl</td>\n",
       "      <td>NoApl</td>\n",
       "      <td>NoApl</td>\n",
       "      <td>NoApl</td>\n",
       "      <td>NoApl</td>\n",
       "    </tr>\n",
       "    <tr>\n",
       "      <th>10665</th>\n",
       "      <td>7799423</td>\n",
       "      <td>PJ</td>\n",
       "      <td>2019-05-21</td>\n",
       "      <td>7</td>\n",
       "      <td>1</td>\n",
       "      <td>1</td>\n",
       "      <td>2019-05-21 00:00:00</td>\n",
       "      <td>2019-04-06 00:00:00</td>\n",
       "      <td>CORPORATIVO</td>\n",
       "      <td>20</td>\n",
       "      <td>30078XXXXX</td>\n",
       "      <td>0</td>\n",
       "      <td>NI</td>\n",
       "      <td>NI</td>\n",
       "      <td>SOCIEDAD COMERCIAL/INDUSTRIAL</td>\n",
       "      <td>MC</td>\n",
       "      <td>M7310</td>\n",
       "      <td>ACTIVA</td>\n",
       "      <td>VALLE</td>\n",
       "    </tr>\n",
       "    <tr>\n",
       "      <th>10827</th>\n",
       "      <td>7956181</td>\n",
       "      <td>PJ</td>\n",
       "      <td>2019-08-13</td>\n",
       "      <td>7</td>\n",
       "      <td>1</td>\n",
       "      <td>1</td>\n",
       "      <td>2019-08-13 00:00:00</td>\n",
       "      <td>2019-02-09 00:00:00</td>\n",
       "      <td>GOOHOTYAHMAIL</td>\n",
       "      <td>20</td>\n",
       "      <td>30079XXXXX</td>\n",
       "      <td>0</td>\n",
       "      <td>NI</td>\n",
       "      <td>NI</td>\n",
       "      <td>SOCIEDAD COMERCIAL/INDUSTRIAL</td>\n",
       "      <td>MC</td>\n",
       "      <td>C1089</td>\n",
       "      <td>ACTIVA</td>\n",
       "      <td>ATLANTICO</td>\n",
       "    </tr>\n",
       "    <tr>\n",
       "      <th>12171</th>\n",
       "      <td>7636847</td>\n",
       "      <td>PJ</td>\n",
       "      <td>2019-09-03</td>\n",
       "      <td>4</td>\n",
       "      <td>1</td>\n",
       "      <td>1</td>\n",
       "      <td>2019-09-03 00:00:00</td>\n",
       "      <td>2019-04-24 00:00:00</td>\n",
       "      <td>CORPORATIVO</td>\n",
       "      <td>20</td>\n",
       "      <td>30086XXXXX</td>\n",
       "      <td>2</td>\n",
       "      <td>Colombia</td>\n",
       "      <td>Bogotá D.C.</td>\n",
       "      <td>NI</td>\n",
       "      <td>SD</td>\n",
       "      <td>SD</td>\n",
       "      <td>SD</td>\n",
       "      <td>BOGOTA</td>\n",
       "    </tr>\n",
       "    <tr>\n",
       "      <th>15767</th>\n",
       "      <td>8084082</td>\n",
       "      <td>PF</td>\n",
       "      <td>2019-11-10</td>\n",
       "      <td>3</td>\n",
       "      <td>0</td>\n",
       "      <td>1</td>\n",
       "      <td>2019-11-10 00:00:00</td>\n",
       "      <td>NoApl</td>\n",
       "      <td>GOOHOTYAHMAIL</td>\n",
       "      <td>20</td>\n",
       "      <td>30136XXXXX</td>\n",
       "      <td>1</td>\n",
       "      <td>Colombia</td>\n",
       "      <td>Valle del Cauca</td>\n",
       "      <td>NoApl</td>\n",
       "      <td>NoApl</td>\n",
       "      <td>NoApl</td>\n",
       "      <td>NoApl</td>\n",
       "      <td>NoApl</td>\n",
       "    </tr>\n",
       "  </tbody>\n",
       "</table>\n",
       "</div>"
      ],
      "text/plain": [
       "       ID_USUARIO TIPOUSUARIO FECHA_REGISTRO  CANAL_REGISTRO  IND_CLIENTE  \\\n",
       "4169      7807890          PF     2019-05-24               1            0   \n",
       "10665     7799423          PJ     2019-05-21               7            1   \n",
       "10827     7956181          PJ     2019-08-13               7            1   \n",
       "12171     7636847          PJ     2019-09-03               4            1   \n",
       "15767     8084082          PF     2019-11-10               3            0   \n",
       "\n",
       "       IND_ALTA           FECHA_ALTA        FECHA_CLIENTE      TIPOEMAIL  \\\n",
       "4169          1  2019-05-24 00:00:00                NoApl  GOOHOTYAHMAIL   \n",
       "10665         1  2019-05-21 00:00:00  2019-04-06 00:00:00    CORPORATIVO   \n",
       "10827         1  2019-08-13 00:00:00  2019-02-09 00:00:00  GOOHOTYAHMAIL   \n",
       "12171         1  2019-09-03 00:00:00  2019-04-24 00:00:00    CORPORATIVO   \n",
       "15767         1  2019-11-10 00:00:00                NoApl  GOOHOTYAHMAIL   \n",
       "\n",
       "       BONDAD_EMAIL    USU_TELF  IPCASOS IP_Country        IP_Region  \\\n",
       "4169             20  30041XXXXX        0         NI               NI   \n",
       "10665            20  30078XXXXX        0         NI               NI   \n",
       "10827            20  30079XXXXX        0         NI               NI   \n",
       "12171            20  30086XXXXX        2   Colombia      Bogotá D.C.   \n",
       "15767            20  30136XXXXX        1   Colombia  Valle del Cauca   \n",
       "\n",
       "                            USU_TIPO USU_TAMANIO USU_CIIU USU_ESTADO  \\\n",
       "4169                           NoApl       NoApl    NoApl      NoApl   \n",
       "10665  SOCIEDAD COMERCIAL/INDUSTRIAL          MC    M7310     ACTIVA   \n",
       "10827  SOCIEDAD COMERCIAL/INDUSTRIAL          MC    C1089     ACTIVA   \n",
       "12171                             NI          SD       SD         SD   \n",
       "15767                          NoApl       NoApl    NoApl      NoApl   \n",
       "\n",
       "      USU_DEPARTAMENTO  \n",
       "4169             NoApl  \n",
       "10665            VALLE  \n",
       "10827        ATLANTICO  \n",
       "12171           BOGOTA  \n",
       "15767            NoApl  "
      ]
     },
     "execution_count": 137,
     "metadata": {},
     "output_type": "execute_result"
    }
   ],
   "source": [
    "df_user[df_user.index.isin(lista_index)].head(5)"
   ]
  },
  {
   "cell_type": "code",
   "execution_count": 138,
   "id": "legal-civilization",
   "metadata": {},
   "outputs": [
    {
     "data": {
      "text/plain": [
       "3714"
      ]
     },
     "execution_count": 138,
     "metadata": {},
     "output_type": "execute_result"
    }
   ],
   "source": [
    "df_comprobacion = df_user[(df_user['IND_ALTA'] == 1)]\n",
    "df_comprobacion.shape[0]"
   ]
  },
  {
   "cell_type": "code",
   "execution_count": 139,
   "id": "dental-opera",
   "metadata": {},
   "outputs": [
    {
     "data": {
      "text/plain": [
       "3714"
      ]
     },
     "execution_count": 139,
     "metadata": {},
     "output_type": "execute_result"
    }
   ],
   "source": [
    "df_comprobacion[(pd.to_datetime(df_comprobacion['FECHA_REGISTRO']) <= pd.to_datetime(df_comprobacion['FECHA_ALTA']))].shape[0]"
   ]
  },
  {
   "cell_type": "markdown",
   "id": "future-matter",
   "metadata": {},
   "source": [
    "-----------------------------"
   ]
  },
  {
   "cell_type": "markdown",
   "id": "weird-amendment",
   "metadata": {},
   "source": [
    "**3. FECHA_ALTA & FECHA_CLIENTE**"
   ]
  },
  {
   "cell_type": "markdown",
   "id": "undefined-composition",
   "metadata": {},
   "source": [
    "Se realizará la comprobación entre la relación de Fecha de Alta y Fecha Cliente, es decir al menos todos los que son clientes, deben tener informada la fecha de alta. Además se análizará cuantos de los que se dan de alta se hacen cliente a la vez."
   ]
  },
  {
   "cell_type": "markdown",
   "id": "applicable-container",
   "metadata": {},
   "source": [
    "**3.1 No Cliente & No Alta**"
   ]
  },
  {
   "cell_type": "code",
   "execution_count": 140,
   "id": "motivated-stuart",
   "metadata": {},
   "outputs": [
    {
     "data": {
      "text/html": [
       "<div>\n",
       "<style scoped>\n",
       "    .dataframe tbody tr th:only-of-type {\n",
       "        vertical-align: middle;\n",
       "    }\n",
       "\n",
       "    .dataframe tbody tr th {\n",
       "        vertical-align: top;\n",
       "    }\n",
       "\n",
       "    .dataframe thead th {\n",
       "        text-align: right;\n",
       "    }\n",
       "</style>\n",
       "<table border=\"1\" class=\"dataframe\">\n",
       "  <thead>\n",
       "    <tr style=\"text-align: right;\">\n",
       "      <th></th>\n",
       "      <th></th>\n",
       "      <th>FECHA_ALTA</th>\n",
       "      <th>FECHA_CLIENTE</th>\n",
       "    </tr>\n",
       "    <tr>\n",
       "      <th>FECHA_ALTA</th>\n",
       "      <th>FECHA_CLIENTE</th>\n",
       "      <th></th>\n",
       "      <th></th>\n",
       "    </tr>\n",
       "  </thead>\n",
       "  <tbody>\n",
       "    <tr>\n",
       "      <th>NoApl</th>\n",
       "      <th>NoApl</th>\n",
       "      <td>363923</td>\n",
       "      <td>363923</td>\n",
       "    </tr>\n",
       "  </tbody>\n",
       "</table>\n",
       "</div>"
      ],
      "text/plain": [
       "                          FECHA_ALTA  FECHA_CLIENTE\n",
       "FECHA_ALTA FECHA_CLIENTE                           \n",
       "NoApl      NoApl              363923         363923"
      ]
     },
     "execution_count": 140,
     "metadata": {},
     "output_type": "execute_result"
    }
   ],
   "source": [
    "df_user[(df_user['IND_CLIENTE'] == 0) & (df_user['IND_ALTA'] == 0)].groupby(['FECHA_ALTA','FECHA_CLIENTE'])[['FECHA_ALTA','FECHA_CLIENTE']].count()"
   ]
  },
  {
   "cell_type": "markdown",
   "id": "agricultural-shareware",
   "metadata": {},
   "source": [
    "**3.2 No Cliente & Si Alta**"
   ]
  },
  {
   "cell_type": "code",
   "execution_count": 141,
   "id": "incorporate-adapter",
   "metadata": {},
   "outputs": [
    {
     "data": {
      "text/html": [
       "<div>\n",
       "<style scoped>\n",
       "    .dataframe tbody tr th:only-of-type {\n",
       "        vertical-align: middle;\n",
       "    }\n",
       "\n",
       "    .dataframe tbody tr th {\n",
       "        vertical-align: top;\n",
       "    }\n",
       "\n",
       "    .dataframe thead th {\n",
       "        text-align: right;\n",
       "    }\n",
       "</style>\n",
       "<table border=\"1\" class=\"dataframe\">\n",
       "  <thead>\n",
       "    <tr style=\"text-align: right;\">\n",
       "      <th></th>\n",
       "      <th>FECHA_CLIENTE</th>\n",
       "    </tr>\n",
       "    <tr>\n",
       "      <th>FECHA_CLIENTE</th>\n",
       "      <th></th>\n",
       "    </tr>\n",
       "  </thead>\n",
       "  <tbody>\n",
       "    <tr>\n",
       "      <th>NoApl</th>\n",
       "      <td>1095</td>\n",
       "    </tr>\n",
       "  </tbody>\n",
       "</table>\n",
       "</div>"
      ],
      "text/plain": [
       "               FECHA_CLIENTE\n",
       "FECHA_CLIENTE               \n",
       "NoApl                   1095"
      ]
     },
     "execution_count": 141,
     "metadata": {},
     "output_type": "execute_result"
    }
   ],
   "source": [
    "df_user[(df_user['IND_CLIENTE'] == 0) & (df_user['IND_ALTA'] == 1)].groupby(['FECHA_CLIENTE'])[['FECHA_CLIENTE']].count()"
   ]
  },
  {
   "cell_type": "markdown",
   "id": "important-samba",
   "metadata": {},
   "source": [
    "**3.3 Si Cliente & No Alta**"
   ]
  },
  {
   "cell_type": "code",
   "execution_count": 142,
   "id": "weighted-balance",
   "metadata": {},
   "outputs": [
    {
     "data": {
      "text/html": [
       "<div>\n",
       "<style scoped>\n",
       "    .dataframe tbody tr th:only-of-type {\n",
       "        vertical-align: middle;\n",
       "    }\n",
       "\n",
       "    .dataframe tbody tr th {\n",
       "        vertical-align: top;\n",
       "    }\n",
       "\n",
       "    .dataframe thead th {\n",
       "        text-align: right;\n",
       "    }\n",
       "</style>\n",
       "<table border=\"1\" class=\"dataframe\">\n",
       "  <thead>\n",
       "    <tr style=\"text-align: right;\">\n",
       "      <th></th>\n",
       "      <th>FECHA_ALTA</th>\n",
       "    </tr>\n",
       "    <tr>\n",
       "      <th>FECHA_ALTA</th>\n",
       "      <th></th>\n",
       "    </tr>\n",
       "  </thead>\n",
       "  <tbody>\n",
       "  </tbody>\n",
       "</table>\n",
       "</div>"
      ],
      "text/plain": [
       "Empty DataFrame\n",
       "Columns: [FECHA_ALTA]\n",
       "Index: []"
      ]
     },
     "execution_count": 142,
     "metadata": {},
     "output_type": "execute_result"
    }
   ],
   "source": [
    "df_user[(df_user['IND_CLIENTE'] == 1) & (df_user['IND_ALTA'] == 0)].groupby(['FECHA_ALTA'])[['FECHA_ALTA']].count()"
   ]
  },
  {
   "cell_type": "markdown",
   "id": "elementary-vintage",
   "metadata": {},
   "source": [
    "**3.4 Si Cliente & Si Alta**"
   ]
  },
  {
   "cell_type": "code",
   "execution_count": 143,
   "id": "cognitive-phoenix",
   "metadata": {},
   "outputs": [
    {
     "data": {
      "text/html": [
       "<div>\n",
       "<style scoped>\n",
       "    .dataframe tbody tr th:only-of-type {\n",
       "        vertical-align: middle;\n",
       "    }\n",
       "\n",
       "    .dataframe tbody tr th {\n",
       "        vertical-align: top;\n",
       "    }\n",
       "\n",
       "    .dataframe thead th {\n",
       "        text-align: right;\n",
       "    }\n",
       "</style>\n",
       "<table border=\"1\" class=\"dataframe\">\n",
       "  <thead>\n",
       "    <tr style=\"text-align: right;\">\n",
       "      <th></th>\n",
       "      <th></th>\n",
       "      <th>FECHA_ALTA</th>\n",
       "    </tr>\n",
       "    <tr>\n",
       "      <th>FECHA_ALTA</th>\n",
       "      <th>FECHA_CLIENTE</th>\n",
       "      <th></th>\n",
       "    </tr>\n",
       "  </thead>\n",
       "  <tbody>\n",
       "    <tr>\n",
       "      <th>2018-01-02</th>\n",
       "      <th>2018-01-02</th>\n",
       "      <td>3</td>\n",
       "    </tr>\n",
       "    <tr>\n",
       "      <th rowspan=\"3\" valign=\"top\">2018-01-03</th>\n",
       "      <th>2018-01-03</th>\n",
       "      <td>1</td>\n",
       "    </tr>\n",
       "    <tr>\n",
       "      <th>2018-02-03</th>\n",
       "      <td>1</td>\n",
       "    </tr>\n",
       "    <tr>\n",
       "      <th>2018-04-20</th>\n",
       "      <td>1</td>\n",
       "    </tr>\n",
       "    <tr>\n",
       "      <th>2018-01-04</th>\n",
       "      <th>2018-01-04</th>\n",
       "      <td>1</td>\n",
       "    </tr>\n",
       "    <tr>\n",
       "      <th>...</th>\n",
       "      <th>...</th>\n",
       "      <td>...</td>\n",
       "    </tr>\n",
       "    <tr>\n",
       "      <th>2020-12-29</th>\n",
       "      <th>2020-12-30</th>\n",
       "      <td>1</td>\n",
       "    </tr>\n",
       "    <tr>\n",
       "      <th>2021-01-15</th>\n",
       "      <th>2021-01-15</th>\n",
       "      <td>3</td>\n",
       "    </tr>\n",
       "    <tr>\n",
       "      <th>2021-01-19</th>\n",
       "      <th>2021-01-19</th>\n",
       "      <td>1</td>\n",
       "    </tr>\n",
       "    <tr>\n",
       "      <th>2021-01-22</th>\n",
       "      <th>2021-01-22</th>\n",
       "      <td>3</td>\n",
       "    </tr>\n",
       "    <tr>\n",
       "      <th>2021-04-01</th>\n",
       "      <th>2021-04-01</th>\n",
       "      <td>1</td>\n",
       "    </tr>\n",
       "  </tbody>\n",
       "</table>\n",
       "<p>1121 rows × 1 columns</p>\n",
       "</div>"
      ],
      "text/plain": [
       "                          FECHA_ALTA\n",
       "FECHA_ALTA FECHA_CLIENTE            \n",
       "2018-01-02 2018-01-02              3\n",
       "2018-01-03 2018-01-03              1\n",
       "           2018-02-03              1\n",
       "           2018-04-20              1\n",
       "2018-01-04 2018-01-04              1\n",
       "...                              ...\n",
       "2020-12-29 2020-12-30              1\n",
       "2021-01-15 2021-01-15              3\n",
       "2021-01-19 2021-01-19              1\n",
       "2021-01-22 2021-01-22              3\n",
       "2021-04-01 2021-04-01              1\n",
       "\n",
       "[1121 rows x 1 columns]"
      ]
     },
     "execution_count": 143,
     "metadata": {},
     "output_type": "execute_result"
    }
   ],
   "source": [
    "df_user[(df_user['IND_CLIENTE'] == 1) & (df_user['IND_ALTA'] == 1)].groupby(['FECHA_ALTA','FECHA_CLIENTE'])[['FECHA_ALTA']].count()"
   ]
  },
  {
   "cell_type": "markdown",
   "id": "brown-prize",
   "metadata": {},
   "source": [
    "**Una última comprobación es que todas las fechas de altas deben ser menores o igual que la fecha de cliente. Únicamente aquellos casos que se hayan dado de alta y sean clientes**"
   ]
  },
  {
   "cell_type": "code",
   "execution_count": 144,
   "id": "graduate-diving",
   "metadata": {},
   "outputs": [
    {
     "data": {
      "text/plain": [
       "2619"
      ]
     },
     "execution_count": 144,
     "metadata": {},
     "output_type": "execute_result"
    }
   ],
   "source": [
    "df_comprobacion = df_user[(df_user['IND_CLIENTE'] == 1) & (df_user['IND_ALTA'] == 1)]\n",
    "df_comprobacion.shape[0]"
   ]
  },
  {
   "cell_type": "code",
   "execution_count": 145,
   "id": "neural-thing",
   "metadata": {},
   "outputs": [
    {
     "data": {
      "text/plain": [
       "2450"
      ]
     },
     "execution_count": 145,
     "metadata": {},
     "output_type": "execute_result"
    }
   ],
   "source": [
    "df_comprobacion[(pd.to_datetime(df_comprobacion['FECHA_ALTA']) <= pd.to_datetime(df_comprobacion['FECHA_CLIENTE']))].shape[0]"
   ]
  },
  {
   "cell_type": "code",
   "execution_count": 146,
   "id": "widespread-colon",
   "metadata": {},
   "outputs": [
    {
     "data": {
      "text/html": [
       "<div>\n",
       "<style scoped>\n",
       "    .dataframe tbody tr th:only-of-type {\n",
       "        vertical-align: middle;\n",
       "    }\n",
       "\n",
       "    .dataframe tbody tr th {\n",
       "        vertical-align: top;\n",
       "    }\n",
       "\n",
       "    .dataframe thead th {\n",
       "        text-align: right;\n",
       "    }\n",
       "</style>\n",
       "<table border=\"1\" class=\"dataframe\">\n",
       "  <thead>\n",
       "    <tr style=\"text-align: right;\">\n",
       "      <th></th>\n",
       "      <th>ID_USUARIO</th>\n",
       "      <th>TIPOUSUARIO</th>\n",
       "      <th>FECHA_REGISTRO</th>\n",
       "      <th>CANAL_REGISTRO</th>\n",
       "      <th>IND_CLIENTE</th>\n",
       "      <th>IND_ALTA</th>\n",
       "      <th>FECHA_ALTA</th>\n",
       "      <th>FECHA_CLIENTE</th>\n",
       "      <th>TIPOEMAIL</th>\n",
       "      <th>BONDAD_EMAIL</th>\n",
       "      <th>USU_TELF</th>\n",
       "      <th>IPCASOS</th>\n",
       "      <th>IP_Country</th>\n",
       "      <th>IP_Region</th>\n",
       "      <th>USU_TIPO</th>\n",
       "      <th>USU_TAMANIO</th>\n",
       "      <th>USU_CIIU</th>\n",
       "      <th>USU_ESTADO</th>\n",
       "      <th>USU_DEPARTAMENTO</th>\n",
       "    </tr>\n",
       "  </thead>\n",
       "  <tbody>\n",
       "    <tr>\n",
       "      <th>10665</th>\n",
       "      <td>7799423</td>\n",
       "      <td>PJ</td>\n",
       "      <td>2019-05-21</td>\n",
       "      <td>7</td>\n",
       "      <td>1</td>\n",
       "      <td>1</td>\n",
       "      <td>2019-05-21 00:00:00</td>\n",
       "      <td>2019-04-06 00:00:00</td>\n",
       "      <td>CORPORATIVO</td>\n",
       "      <td>20</td>\n",
       "      <td>30078XXXXX</td>\n",
       "      <td>0</td>\n",
       "      <td>NI</td>\n",
       "      <td>NI</td>\n",
       "      <td>SOCIEDAD COMERCIAL/INDUSTRIAL</td>\n",
       "      <td>MC</td>\n",
       "      <td>M7310</td>\n",
       "      <td>ACTIVA</td>\n",
       "      <td>VALLE</td>\n",
       "    </tr>\n",
       "    <tr>\n",
       "      <th>10827</th>\n",
       "      <td>7956181</td>\n",
       "      <td>PJ</td>\n",
       "      <td>2019-08-13</td>\n",
       "      <td>7</td>\n",
       "      <td>1</td>\n",
       "      <td>1</td>\n",
       "      <td>2019-08-13 00:00:00</td>\n",
       "      <td>2019-02-09 00:00:00</td>\n",
       "      <td>GOOHOTYAHMAIL</td>\n",
       "      <td>20</td>\n",
       "      <td>30079XXXXX</td>\n",
       "      <td>0</td>\n",
       "      <td>NI</td>\n",
       "      <td>NI</td>\n",
       "      <td>SOCIEDAD COMERCIAL/INDUSTRIAL</td>\n",
       "      <td>MC</td>\n",
       "      <td>C1089</td>\n",
       "      <td>ACTIVA</td>\n",
       "      <td>ATLANTICO</td>\n",
       "    </tr>\n",
       "    <tr>\n",
       "      <th>12171</th>\n",
       "      <td>7636847</td>\n",
       "      <td>PJ</td>\n",
       "      <td>2019-09-03</td>\n",
       "      <td>4</td>\n",
       "      <td>1</td>\n",
       "      <td>1</td>\n",
       "      <td>2019-09-03 00:00:00</td>\n",
       "      <td>2019-04-24 00:00:00</td>\n",
       "      <td>CORPORATIVO</td>\n",
       "      <td>20</td>\n",
       "      <td>30086XXXXX</td>\n",
       "      <td>2</td>\n",
       "      <td>Colombia</td>\n",
       "      <td>Bogotá D.C.</td>\n",
       "      <td>NI</td>\n",
       "      <td>SD</td>\n",
       "      <td>SD</td>\n",
       "      <td>SD</td>\n",
       "      <td>BOGOTA</td>\n",
       "    </tr>\n",
       "    <tr>\n",
       "      <th>16340</th>\n",
       "      <td>7611483</td>\n",
       "      <td>PJ</td>\n",
       "      <td>2019-02-24</td>\n",
       "      <td>8</td>\n",
       "      <td>1</td>\n",
       "      <td>1</td>\n",
       "      <td>2019-02-24 00:00:00</td>\n",
       "      <td>2019-02-04 00:00:00</td>\n",
       "      <td>GOOHOTYAHMAIL</td>\n",
       "      <td>20</td>\n",
       "      <td>30140XXXXX</td>\n",
       "      <td>1</td>\n",
       "      <td>Colombia</td>\n",
       "      <td>Antioquia</td>\n",
       "      <td>EMPRESARIO INDIVIDUAL</td>\n",
       "      <td>MC</td>\n",
       "      <td>G4711</td>\n",
       "      <td>ACTIVA</td>\n",
       "      <td>ANTIOQUIA</td>\n",
       "    </tr>\n",
       "    <tr>\n",
       "      <th>18194</th>\n",
       "      <td>7664961</td>\n",
       "      <td>PF</td>\n",
       "      <td>2019-03-13</td>\n",
       "      <td>4</td>\n",
       "      <td>1</td>\n",
       "      <td>1</td>\n",
       "      <td>2019-03-27 00:00:00</td>\n",
       "      <td>2019-01-04 00:00:00</td>\n",
       "      <td>CORPORATIVO</td>\n",
       "      <td>20</td>\n",
       "      <td>30151XXXXX</td>\n",
       "      <td>121</td>\n",
       "      <td>Colombia</td>\n",
       "      <td>Antioquia</td>\n",
       "      <td>NoApl</td>\n",
       "      <td>NoApl</td>\n",
       "      <td>NoApl</td>\n",
       "      <td>NoApl</td>\n",
       "      <td>NoApl</td>\n",
       "    </tr>\n",
       "  </tbody>\n",
       "</table>\n",
       "</div>"
      ],
      "text/plain": [
       "       ID_USUARIO TIPOUSUARIO FECHA_REGISTRO  CANAL_REGISTRO  IND_CLIENTE  \\\n",
       "10665     7799423          PJ     2019-05-21               7            1   \n",
       "10827     7956181          PJ     2019-08-13               7            1   \n",
       "12171     7636847          PJ     2019-09-03               4            1   \n",
       "16340     7611483          PJ     2019-02-24               8            1   \n",
       "18194     7664961          PF     2019-03-13               4            1   \n",
       "\n",
       "       IND_ALTA           FECHA_ALTA        FECHA_CLIENTE      TIPOEMAIL  \\\n",
       "10665         1  2019-05-21 00:00:00  2019-04-06 00:00:00    CORPORATIVO   \n",
       "10827         1  2019-08-13 00:00:00  2019-02-09 00:00:00  GOOHOTYAHMAIL   \n",
       "12171         1  2019-09-03 00:00:00  2019-04-24 00:00:00    CORPORATIVO   \n",
       "16340         1  2019-02-24 00:00:00  2019-02-04 00:00:00  GOOHOTYAHMAIL   \n",
       "18194         1  2019-03-27 00:00:00  2019-01-04 00:00:00    CORPORATIVO   \n",
       "\n",
       "       BONDAD_EMAIL    USU_TELF  IPCASOS IP_Country    IP_Region  \\\n",
       "10665            20  30078XXXXX        0         NI           NI   \n",
       "10827            20  30079XXXXX        0         NI           NI   \n",
       "12171            20  30086XXXXX        2   Colombia  Bogotá D.C.   \n",
       "16340            20  30140XXXXX        1   Colombia    Antioquia   \n",
       "18194            20  30151XXXXX      121   Colombia    Antioquia   \n",
       "\n",
       "                            USU_TIPO USU_TAMANIO USU_CIIU USU_ESTADO  \\\n",
       "10665  SOCIEDAD COMERCIAL/INDUSTRIAL          MC    M7310     ACTIVA   \n",
       "10827  SOCIEDAD COMERCIAL/INDUSTRIAL          MC    C1089     ACTIVA   \n",
       "12171                             NI          SD       SD         SD   \n",
       "16340          EMPRESARIO INDIVIDUAL          MC    G4711     ACTIVA   \n",
       "18194                          NoApl       NoApl    NoApl      NoApl   \n",
       "\n",
       "      USU_DEPARTAMENTO  \n",
       "10665            VALLE  \n",
       "10827        ATLANTICO  \n",
       "12171           BOGOTA  \n",
       "16340        ANTIOQUIA  \n",
       "18194            NoApl  "
      ]
     },
     "execution_count": 146,
     "metadata": {},
     "output_type": "execute_result"
    }
   ],
   "source": [
    "df_comprobacion[(pd.to_datetime(df_comprobacion['FECHA_ALTA']) > pd.to_datetime(df_comprobacion['FECHA_CLIENTE']))].head(5)"
   ]
  },
  {
   "cell_type": "markdown",
   "id": "developing-multimedia",
   "metadata": {},
   "source": [
    "**Observación**: Hay un total de 25 usuarios con fecha de cliente anterior a fecha de alta, por lo que les computaremos la fecha de cliente a la misma fech ade alta."
   ]
  },
  {
   "cell_type": "markdown",
   "id": "dependent-oklahoma",
   "metadata": {},
   "source": [
    "Seleccionamos aquellos a los que debemos cambiar"
   ]
  },
  {
   "cell_type": "code",
   "execution_count": 147,
   "id": "massive-front",
   "metadata": {},
   "outputs": [],
   "source": [
    "lista_index = (df_comprobacion[(pd.to_datetime(df_comprobacion['FECHA_ALTA']) > pd.to_datetime(df_comprobacion['FECHA_CLIENTE']))].index).tolist()"
   ]
  },
  {
   "cell_type": "code",
   "execution_count": 148,
   "id": "shaped-sodium",
   "metadata": {},
   "outputs": [],
   "source": [
    "df_user.loc[df_user.index.isin(lista_index), 'FECHA_CLIENTE'] = df_user['FECHA_ALTA']"
   ]
  },
  {
   "cell_type": "markdown",
   "id": "decreased-utility",
   "metadata": {},
   "source": [
    "**Comprobación**"
   ]
  },
  {
   "cell_type": "code",
   "execution_count": 149,
   "id": "buried-husband",
   "metadata": {},
   "outputs": [
    {
     "data": {
      "text/html": [
       "<div>\n",
       "<style scoped>\n",
       "    .dataframe tbody tr th:only-of-type {\n",
       "        vertical-align: middle;\n",
       "    }\n",
       "\n",
       "    .dataframe tbody tr th {\n",
       "        vertical-align: top;\n",
       "    }\n",
       "\n",
       "    .dataframe thead th {\n",
       "        text-align: right;\n",
       "    }\n",
       "</style>\n",
       "<table border=\"1\" class=\"dataframe\">\n",
       "  <thead>\n",
       "    <tr style=\"text-align: right;\">\n",
       "      <th></th>\n",
       "      <th>ID_USUARIO</th>\n",
       "      <th>TIPOUSUARIO</th>\n",
       "      <th>FECHA_REGISTRO</th>\n",
       "      <th>CANAL_REGISTRO</th>\n",
       "      <th>IND_CLIENTE</th>\n",
       "      <th>IND_ALTA</th>\n",
       "      <th>FECHA_ALTA</th>\n",
       "      <th>FECHA_CLIENTE</th>\n",
       "      <th>TIPOEMAIL</th>\n",
       "      <th>BONDAD_EMAIL</th>\n",
       "      <th>USU_TELF</th>\n",
       "      <th>IPCASOS</th>\n",
       "      <th>IP_Country</th>\n",
       "      <th>IP_Region</th>\n",
       "      <th>USU_TIPO</th>\n",
       "      <th>USU_TAMANIO</th>\n",
       "      <th>USU_CIIU</th>\n",
       "      <th>USU_ESTADO</th>\n",
       "      <th>USU_DEPARTAMENTO</th>\n",
       "    </tr>\n",
       "  </thead>\n",
       "  <tbody>\n",
       "    <tr>\n",
       "      <th>10665</th>\n",
       "      <td>7799423</td>\n",
       "      <td>PJ</td>\n",
       "      <td>2019-05-21</td>\n",
       "      <td>7</td>\n",
       "      <td>1</td>\n",
       "      <td>1</td>\n",
       "      <td>2019-05-21 00:00:00</td>\n",
       "      <td>2019-05-21 00:00:00</td>\n",
       "      <td>CORPORATIVO</td>\n",
       "      <td>20</td>\n",
       "      <td>30078XXXXX</td>\n",
       "      <td>0</td>\n",
       "      <td>NI</td>\n",
       "      <td>NI</td>\n",
       "      <td>SOCIEDAD COMERCIAL/INDUSTRIAL</td>\n",
       "      <td>MC</td>\n",
       "      <td>M7310</td>\n",
       "      <td>ACTIVA</td>\n",
       "      <td>VALLE</td>\n",
       "    </tr>\n",
       "    <tr>\n",
       "      <th>10827</th>\n",
       "      <td>7956181</td>\n",
       "      <td>PJ</td>\n",
       "      <td>2019-08-13</td>\n",
       "      <td>7</td>\n",
       "      <td>1</td>\n",
       "      <td>1</td>\n",
       "      <td>2019-08-13 00:00:00</td>\n",
       "      <td>2019-08-13 00:00:00</td>\n",
       "      <td>GOOHOTYAHMAIL</td>\n",
       "      <td>20</td>\n",
       "      <td>30079XXXXX</td>\n",
       "      <td>0</td>\n",
       "      <td>NI</td>\n",
       "      <td>NI</td>\n",
       "      <td>SOCIEDAD COMERCIAL/INDUSTRIAL</td>\n",
       "      <td>MC</td>\n",
       "      <td>C1089</td>\n",
       "      <td>ACTIVA</td>\n",
       "      <td>ATLANTICO</td>\n",
       "    </tr>\n",
       "    <tr>\n",
       "      <th>12171</th>\n",
       "      <td>7636847</td>\n",
       "      <td>PJ</td>\n",
       "      <td>2019-09-03</td>\n",
       "      <td>4</td>\n",
       "      <td>1</td>\n",
       "      <td>1</td>\n",
       "      <td>2019-09-03 00:00:00</td>\n",
       "      <td>2019-09-03 00:00:00</td>\n",
       "      <td>CORPORATIVO</td>\n",
       "      <td>20</td>\n",
       "      <td>30086XXXXX</td>\n",
       "      <td>2</td>\n",
       "      <td>Colombia</td>\n",
       "      <td>Bogotá D.C.</td>\n",
       "      <td>NI</td>\n",
       "      <td>SD</td>\n",
       "      <td>SD</td>\n",
       "      <td>SD</td>\n",
       "      <td>BOGOTA</td>\n",
       "    </tr>\n",
       "    <tr>\n",
       "      <th>16340</th>\n",
       "      <td>7611483</td>\n",
       "      <td>PJ</td>\n",
       "      <td>2019-02-24</td>\n",
       "      <td>8</td>\n",
       "      <td>1</td>\n",
       "      <td>1</td>\n",
       "      <td>2019-02-24 00:00:00</td>\n",
       "      <td>2019-02-24 00:00:00</td>\n",
       "      <td>GOOHOTYAHMAIL</td>\n",
       "      <td>20</td>\n",
       "      <td>30140XXXXX</td>\n",
       "      <td>1</td>\n",
       "      <td>Colombia</td>\n",
       "      <td>Antioquia</td>\n",
       "      <td>EMPRESARIO INDIVIDUAL</td>\n",
       "      <td>MC</td>\n",
       "      <td>G4711</td>\n",
       "      <td>ACTIVA</td>\n",
       "      <td>ANTIOQUIA</td>\n",
       "    </tr>\n",
       "    <tr>\n",
       "      <th>18194</th>\n",
       "      <td>7664961</td>\n",
       "      <td>PF</td>\n",
       "      <td>2019-03-13</td>\n",
       "      <td>4</td>\n",
       "      <td>1</td>\n",
       "      <td>1</td>\n",
       "      <td>2019-03-27 00:00:00</td>\n",
       "      <td>2019-03-27 00:00:00</td>\n",
       "      <td>CORPORATIVO</td>\n",
       "      <td>20</td>\n",
       "      <td>30151XXXXX</td>\n",
       "      <td>121</td>\n",
       "      <td>Colombia</td>\n",
       "      <td>Antioquia</td>\n",
       "      <td>NoApl</td>\n",
       "      <td>NoApl</td>\n",
       "      <td>NoApl</td>\n",
       "      <td>NoApl</td>\n",
       "      <td>NoApl</td>\n",
       "    </tr>\n",
       "  </tbody>\n",
       "</table>\n",
       "</div>"
      ],
      "text/plain": [
       "       ID_USUARIO TIPOUSUARIO FECHA_REGISTRO  CANAL_REGISTRO  IND_CLIENTE  \\\n",
       "10665     7799423          PJ     2019-05-21               7            1   \n",
       "10827     7956181          PJ     2019-08-13               7            1   \n",
       "12171     7636847          PJ     2019-09-03               4            1   \n",
       "16340     7611483          PJ     2019-02-24               8            1   \n",
       "18194     7664961          PF     2019-03-13               4            1   \n",
       "\n",
       "       IND_ALTA           FECHA_ALTA        FECHA_CLIENTE      TIPOEMAIL  \\\n",
       "10665         1  2019-05-21 00:00:00  2019-05-21 00:00:00    CORPORATIVO   \n",
       "10827         1  2019-08-13 00:00:00  2019-08-13 00:00:00  GOOHOTYAHMAIL   \n",
       "12171         1  2019-09-03 00:00:00  2019-09-03 00:00:00    CORPORATIVO   \n",
       "16340         1  2019-02-24 00:00:00  2019-02-24 00:00:00  GOOHOTYAHMAIL   \n",
       "18194         1  2019-03-27 00:00:00  2019-03-27 00:00:00    CORPORATIVO   \n",
       "\n",
       "       BONDAD_EMAIL    USU_TELF  IPCASOS IP_Country    IP_Region  \\\n",
       "10665            20  30078XXXXX        0         NI           NI   \n",
       "10827            20  30079XXXXX        0         NI           NI   \n",
       "12171            20  30086XXXXX        2   Colombia  Bogotá D.C.   \n",
       "16340            20  30140XXXXX        1   Colombia    Antioquia   \n",
       "18194            20  30151XXXXX      121   Colombia    Antioquia   \n",
       "\n",
       "                            USU_TIPO USU_TAMANIO USU_CIIU USU_ESTADO  \\\n",
       "10665  SOCIEDAD COMERCIAL/INDUSTRIAL          MC    M7310     ACTIVA   \n",
       "10827  SOCIEDAD COMERCIAL/INDUSTRIAL          MC    C1089     ACTIVA   \n",
       "12171                             NI          SD       SD         SD   \n",
       "16340          EMPRESARIO INDIVIDUAL          MC    G4711     ACTIVA   \n",
       "18194                          NoApl       NoApl    NoApl      NoApl   \n",
       "\n",
       "      USU_DEPARTAMENTO  \n",
       "10665            VALLE  \n",
       "10827        ATLANTICO  \n",
       "12171           BOGOTA  \n",
       "16340        ANTIOQUIA  \n",
       "18194            NoApl  "
      ]
     },
     "execution_count": 149,
     "metadata": {},
     "output_type": "execute_result"
    }
   ],
   "source": [
    "df_user[df_user.index.isin(lista_index)].head(5)"
   ]
  },
  {
   "cell_type": "code",
   "execution_count": 150,
   "id": "sufficient-folks",
   "metadata": {},
   "outputs": [
    {
     "data": {
      "text/plain": [
       "2619"
      ]
     },
     "execution_count": 150,
     "metadata": {},
     "output_type": "execute_result"
    }
   ],
   "source": [
    "df_comprobacion = df_user[(df_user['IND_CLIENTE'] == 1) & (df_user['IND_ALTA'] == 1)]\n",
    "df_comprobacion.shape[0]"
   ]
  },
  {
   "cell_type": "code",
   "execution_count": 151,
   "id": "handy-notice",
   "metadata": {},
   "outputs": [
    {
     "data": {
      "text/plain": [
       "2619"
      ]
     },
     "execution_count": 151,
     "metadata": {},
     "output_type": "execute_result"
    }
   ],
   "source": [
    "df_comprobacion[(pd.to_datetime(df_comprobacion['FECHA_ALTA']) <= pd.to_datetime(df_comprobacion['FECHA_CLIENTE']))].shape[0]"
   ]
  },
  {
   "cell_type": "markdown",
   "id": "guilty-effectiveness",
   "metadata": {},
   "source": [
    "----------------------------------------"
   ]
  },
  {
   "cell_type": "markdown",
   "id": "weird-bunch",
   "metadata": {},
   "source": [
    "**4. TIPOEMAIL**"
   ]
  },
  {
   "cell_type": "markdown",
   "id": "hairy-income",
   "metadata": {},
   "source": [
    "El objetivo del análisis de esta variable es comprobar los posibles valores que nos podemos encontrar y si se pueden reducir."
   ]
  },
  {
   "cell_type": "code",
   "execution_count": 152,
   "id": "careful-profession",
   "metadata": {},
   "outputs": [
    {
     "data": {
      "text/plain": [
       "array(['GOOHOTYAHMAIL', 'DOCENTE', 'CORPORATIVO', 'TEMPORAL',\n",
       "       'SINCLASIFICAR', 'ADMINISTRACION'], dtype=object)"
      ]
     },
     "execution_count": 152,
     "metadata": {},
     "output_type": "execute_result"
    }
   ],
   "source": [
    "df_user['TIPOEMAIL'].unique()"
   ]
  },
  {
   "cell_type": "code",
   "execution_count": 153,
   "id": "split-interference",
   "metadata": {},
   "outputs": [
    {
     "data": {
      "text/plain": [
       "GOOHOTYAHMAIL     289528\n",
       "CORPORATIVO        33861\n",
       "SINCLASIFICAR      20503\n",
       "DOCENTE            16362\n",
       "TEMPORAL            6943\n",
       "ADMINISTRACION       440\n",
       "Name: TIPOEMAIL, dtype: int64"
      ]
     },
     "execution_count": 153,
     "metadata": {},
     "output_type": "execute_result"
    }
   ],
   "source": [
    "df_user['TIPOEMAIL'].value_counts()"
   ]
  },
  {
   "cell_type": "code",
   "execution_count": 154,
   "id": "reserved-burlington",
   "metadata": {},
   "outputs": [
    {
     "data": {
      "image/png": "[encoded data removed]",
      "text/plain": [
       "<Figure size 432x288 with 1 Axes>"
      ]
     },
     "metadata": {
      "needs_background": "light"
     },
     "output_type": "display_data"
    }
   ],
   "source": [
    "df_user['TIPOEMAIL'].value_counts().plot(kind = 'bar')\n",
    "plt.title('Distribución Registros por Tipo de Email')    \n",
    "plt.grid()\n",
    "plt.show()"
   ]
  },
  {
   "cell_type": "markdown",
   "id": "controversial-walter",
   "metadata": {},
   "source": [
    "**A priori no se modificará nada sobre esta variable, pero se propondrá lo siguiente para la ingeniería de caracteristicas**:\n",
    "\n",
    "Nueva Variable: **EMAIL_PERSONAL**\n",
    "* 1: En caso de GOOHOTYAHMAIL\n",
    "* 0: En caso contrario"
   ]
  },
  {
   "cell_type": "markdown",
   "id": "alive-ministry",
   "metadata": {},
   "source": [
    "-------------------------------------------"
   ]
  },
  {
   "cell_type": "markdown",
   "id": "aging-proof",
   "metadata": {},
   "source": [
    "**5. BONDAD_EMAIL**  \n",
    "\n",
    "**Recordamos**: Bondad/Ponderación del email, resultado de campañas de emailing:\n",
    "* 20 = Verde (OK)\n",
    "* 9 = Naranja (Ha dado un error temporal pero seguimos enviando)\n",
    "* 1 = SPAM\n",
    "* 0 = Rojo (Invalido)\n",
    "* -10 = Dominio invalido (invalido)\n",
    "* -20 = No email"
   ]
  },
  {
   "cell_type": "code",
   "execution_count": 155,
   "id": "funky-agreement",
   "metadata": {},
   "outputs": [
    {
     "data": {
      "text/plain": [
       "array([  0,  20, -10,   1, -20,   9], dtype=int64)"
      ]
     },
     "execution_count": 155,
     "metadata": {},
     "output_type": "execute_result"
    }
   ],
   "source": [
    "df_user['BONDAD_EMAIL'].unique()"
   ]
  },
  {
   "cell_type": "code",
   "execution_count": 156,
   "id": "facial-juice",
   "metadata": {},
   "outputs": [
    {
     "data": {
      "text/plain": [
       " 20    274939\n",
       " 0      54028\n",
       "-10     16818\n",
       "-20     12051\n",
       " 1       4944\n",
       " 9       4857\n",
       "Name: BONDAD_EMAIL, dtype: int64"
      ]
     },
     "execution_count": 156,
     "metadata": {},
     "output_type": "execute_result"
    }
   ],
   "source": [
    "df_user['BONDAD_EMAIL'].value_counts()"
   ]
  },
  {
   "cell_type": "code",
   "execution_count": 157,
   "id": "celtic-ozone",
   "metadata": {},
   "outputs": [
    {
     "data": {
      "image/png": "[encoded data removed]",
      "text/plain": [
       "<Figure size 432x288 with 1 Axes>"
      ]
     },
     "metadata": {
      "needs_background": "light"
     },
     "output_type": "display_data"
    }
   ],
   "source": [
    "df_user['BONDAD_EMAIL'].value_counts().plot(kind = 'bar')\n",
    "plt.title('Distribución Registros por Bondad de Email')    \n",
    "plt.grid()\n",
    "plt.show()"
   ]
  },
  {
   "cell_type": "markdown",
   "id": "hidden-speed",
   "metadata": {},
   "source": [
    "**Observando los posibles valores podemos reducir estos a 2 valores:**\n",
    "* 0: No Válido (0, -10, 1, -20)\n",
    "* 1: Válido (20 y 9)"
   ]
  },
  {
   "cell_type": "markdown",
   "id": "drawn-anthony",
   "metadata": {},
   "source": [
    "**Realizamos la transformación**"
   ]
  },
  {
   "cell_type": "code",
   "execution_count": 158,
   "id": "round-occasion",
   "metadata": {},
   "outputs": [],
   "source": [
    "df_user.loc[(df_user['BONDAD_EMAIL'].isin([0,-10,1,-20])), 'BONDAD_EMAIL'] = 0\n",
    "df_user.loc[(df_user['BONDAD_EMAIL'].isin([20,9])), 'BONDAD_EMAIL'] = 1"
   ]
  },
  {
   "cell_type": "markdown",
   "id": "active-energy",
   "metadata": {},
   "source": [
    "**Comprobación**"
   ]
  },
  {
   "cell_type": "code",
   "execution_count": 159,
   "id": "stock-belle",
   "metadata": {},
   "outputs": [
    {
     "data": {
      "text/plain": [
       "array([0, 1], dtype=int64)"
      ]
     },
     "execution_count": 159,
     "metadata": {},
     "output_type": "execute_result"
    }
   ],
   "source": [
    "df_user['BONDAD_EMAIL'].unique()"
   ]
  },
  {
   "cell_type": "code",
   "execution_count": 160,
   "id": "arranged-reverse",
   "metadata": {},
   "outputs": [
    {
     "data": {
      "text/plain": [
       "1    279796\n",
       "0     87841\n",
       "Name: BONDAD_EMAIL, dtype: int64"
      ]
     },
     "execution_count": 160,
     "metadata": {},
     "output_type": "execute_result"
    }
   ],
   "source": [
    "df_user['BONDAD_EMAIL'].value_counts()"
   ]
  },
  {
   "cell_type": "code",
   "execution_count": 161,
   "id": "precise-buffalo",
   "metadata": {},
   "outputs": [
    {
     "data": {
      "image/png": "[encoded data removed]",
      "text/plain": [
       "<Figure size 432x288 with 1 Axes>"
      ]
     },
     "metadata": {
      "needs_background": "light"
     },
     "output_type": "display_data"
    }
   ],
   "source": [
    "df_user['BONDAD_EMAIL'].value_counts().plot(kind = 'bar')\n",
    "plt.title('Distribución Registros por Bondad de Email')    \n",
    "plt.grid()\n",
    "plt.show()"
   ]
  },
  {
   "cell_type": "markdown",
   "id": "after-point",
   "metadata": {},
   "source": [
    "Realicemos una comprobación con la relacion entre BONDAD_EMAIL y el indicador de cliente y alta."
   ]
  },
  {
   "cell_type": "code",
   "execution_count": 162,
   "id": "three-people",
   "metadata": {},
   "outputs": [
    {
     "data": {
      "text/plain": [
       "BONDAD_EMAIL  IND_CLIENTE\n",
       "0             0               87695\n",
       "              1                 146\n",
       "1             0              277323\n",
       "              1                2473\n",
       "Name: BONDAD_EMAIL, dtype: int64"
      ]
     },
     "execution_count": 162,
     "metadata": {},
     "output_type": "execute_result"
    }
   ],
   "source": [
    "df_user.groupby(['BONDAD_EMAIL','IND_CLIENTE'])['BONDAD_EMAIL'].count()"
   ]
  },
  {
   "cell_type": "markdown",
   "id": "quick-florist",
   "metadata": {},
   "source": [
    "----------------------------------------------------------------------"
   ]
  },
  {
   "cell_type": "markdown",
   "id": "dependent-mailing",
   "metadata": {},
   "source": [
    "**6. USU_TIPO**"
   ]
  },
  {
   "cell_type": "markdown",
   "id": "stone-mathematics",
   "metadata": {},
   "source": [
    "Analizaremos los posibles valores de la variable USU_TIPO, con el objetivo de realizar agrupaciones"
   ]
  },
  {
   "cell_type": "code",
   "execution_count": 163,
   "id": "strange-world",
   "metadata": {},
   "outputs": [
    {
     "data": {
      "text/plain": [
       "array(['NoApl', 'SOCIEDAD COMERCIAL/INDUSTRIAL', 'EMPRESARIO INDIVIDUAL',\n",
       "       'HOLDING', 'ENTIDAD FINANCIERA O DE SEGUROS', 'NI',\n",
       "       'ENTIDAD SIN ANIMO DE LUCRO', 'ORGANISMO ESTATAL',\n",
       "       'ENTIDAD EXTRANJERA', 'SOCIEDAD NO COMERCIAL',\n",
       "       'INDUSTRIA / COMERCIO'], dtype=object)"
      ]
     },
     "execution_count": 163,
     "metadata": {},
     "output_type": "execute_result"
    }
   ],
   "source": [
    "df_user['USU_TIPO'].unique()"
   ]
  },
  {
   "cell_type": "code",
   "execution_count": 164,
   "id": "reliable-oklahoma",
   "metadata": {},
   "outputs": [
    {
     "data": {
      "text/plain": [
       "NoApl                              276620\n",
       "EMPRESARIO INDIVIDUAL               39912\n",
       "SOCIEDAD COMERCIAL/INDUSTRIAL       37836\n",
       "NI                                   6907\n",
       "ENTIDAD FINANCIERA O DE SEGUROS      2509\n",
       "ENTIDAD SIN ANIMO DE LUCRO           2479\n",
       "ORGANISMO ESTATAL                     691\n",
       "HOLDING                               393\n",
       "ENTIDAD EXTRANJERA                    275\n",
       "SOCIEDAD NO COMERCIAL                  13\n",
       "INDUSTRIA / COMERCIO                    2\n",
       "Name: USU_TIPO, dtype: int64"
      ]
     },
     "execution_count": 164,
     "metadata": {},
     "output_type": "execute_result"
    }
   ],
   "source": [
    "df_user['USU_TIPO'].value_counts()"
   ]
  },
  {
   "cell_type": "code",
   "execution_count": 165,
   "id": "surprised-violation",
   "metadata": {},
   "outputs": [
    {
     "data": {
      "image/png": "[encoded data removed]",
      "text/plain": [
       "<Figure size 432x288 with 1 Axes>"
      ]
     },
     "metadata": {
      "needs_background": "light"
     },
     "output_type": "display_data"
    }
   ],
   "source": [
    "df_user['USU_TIPO'].value_counts()[1:].plot(kind = 'bar')\n",
    "plt.title('Distribución Registros por Tipo de Usuarios (PJ)')    \n",
    "plt.grid()\n",
    "plt.show()"
   ]
  },
  {
   "cell_type": "markdown",
   "id": "irish-destiny",
   "metadata": {},
   "source": [
    "**Realizamos las transformaciones**\n",
    "\n",
    "Agruparemos por conceptos similares."
   ]
  },
  {
   "cell_type": "code",
   "execution_count": 166,
   "id": "ordered-norway",
   "metadata": {},
   "outputs": [],
   "source": [
    "# Agrupamos: INDUSTRIA / COMERCIO y SOCIEDAD COMERCIAL/INDUSTRIAL\n",
    "df_user.loc[(df_user['USU_TIPO'].isin(['INDUSTRIA / COMERCIO', 'SOCIEDAD COMERCIAL/INDUSTRIAL'])), 'USU_TIPO'] = 'SOC_COMERCIAL_INDUSTRIAL'"
   ]
  },
  {
   "cell_type": "code",
   "execution_count": 167,
   "id": "accompanied-seeking",
   "metadata": {},
   "outputs": [],
   "source": [
    "# Agrupamos: ENTIDAD SIN ANIMO DE LUCRO, ORGANISMO ESTATAL y SOCIEDAD NO COMERCIAL\n",
    "df_user.loc[(df_user['USU_TIPO'].isin(['ENTIDAD SIN ANIMO DE LUCRO', 'ORGANISMO ESTATAL', 'SOCIEDAD NO COMERCIAL'])), 'USU_TIPO'] = 'SOC_NO_COMERCIAL'"
   ]
  },
  {
   "cell_type": "code",
   "execution_count": 168,
   "id": "worse-implementation",
   "metadata": {},
   "outputs": [],
   "source": [
    "# Agrupamos: ENTIDAD EXTRANJERA, HOLDING y SOCIEDAD NO COMERCIAL y ENTIDAD FINANCIERA O DE SEGUROS\n",
    "df_user.loc[(df_user['USU_TIPO'].isin(['HOLDING', 'ENTIDAD EXTRANJERA', 'ENTIDAD FINANCIERA O DE SEGUROS'])), 'USU_TIPO'] = 'ENTIDAD_HOLDING'"
   ]
  },
  {
   "cell_type": "markdown",
   "id": "ambient-saskatchewan",
   "metadata": {},
   "source": [
    "**Comprobación**"
   ]
  },
  {
   "cell_type": "code",
   "execution_count": 169,
   "id": "simplified-creek",
   "metadata": {},
   "outputs": [
    {
     "data": {
      "text/plain": [
       "array(['NoApl', 'SOC_COMERCIAL_INDUSTRIAL', 'EMPRESARIO INDIVIDUAL',\n",
       "       'ENTIDAD_HOLDING', 'NI', 'SOC_NO_COMERCIAL'], dtype=object)"
      ]
     },
     "execution_count": 169,
     "metadata": {},
     "output_type": "execute_result"
    }
   ],
   "source": [
    "df_user['USU_TIPO'].unique()"
   ]
  },
  {
   "cell_type": "code",
   "execution_count": 170,
   "id": "fourth-quest",
   "metadata": {},
   "outputs": [
    {
     "data": {
      "text/plain": [
       "NoApl                       276620\n",
       "EMPRESARIO INDIVIDUAL        39912\n",
       "SOC_COMERCIAL_INDUSTRIAL     37838\n",
       "NI                            6907\n",
       "SOC_NO_COMERCIAL              3183\n",
       "ENTIDAD_HOLDING               3177\n",
       "Name: USU_TIPO, dtype: int64"
      ]
     },
     "execution_count": 170,
     "metadata": {},
     "output_type": "execute_result"
    }
   ],
   "source": [
    "df_user['USU_TIPO'].value_counts()"
   ]
  },
  {
   "cell_type": "code",
   "execution_count": 171,
   "id": "forward-guyana",
   "metadata": {},
   "outputs": [
    {
     "data": {
      "image/png": "[encoded data removed]",
      "text/plain": [
       "<Figure size 432x288 with 1 Axes>"
      ]
     },
     "metadata": {
      "needs_background": "light"
     },
     "output_type": "display_data"
    }
   ],
   "source": [
    "df_user['USU_TIPO'].value_counts()[1:].plot(kind = 'bar')\n",
    "plt.title('Distribución Registros por Tipo de Usuarios (PJ)')    \n",
    "plt.grid()\n",
    "plt.show()"
   ]
  },
  {
   "cell_type": "markdown",
   "id": "still-stream",
   "metadata": {},
   "source": [
    "-------------------------------------------------"
   ]
  },
  {
   "cell_type": "markdown",
   "id": "radical-advocate",
   "metadata": {},
   "source": [
    "**7. USU_ESTADO**"
   ]
  },
  {
   "cell_type": "markdown",
   "id": "relevant-exclusion",
   "metadata": {},
   "source": [
    "Analizaremos los posibles valores de la variable USU_ESTADO, con el objetivo de realizar agrupaciones"
   ]
  },
  {
   "cell_type": "code",
   "execution_count": 172,
   "id": "specialized-banks",
   "metadata": {},
   "outputs": [
    {
     "data": {
      "text/plain": [
       "array(['NoApl', 'ACTIVA', 'CANCELACIÓN', 'SD', 'LIQUIDACION',\n",
       "       'COINCIDENCIA HOMOGRAFA LISTA CLINTON (SDNT OFAC)', 'EXTINGUIDA',\n",
       "       'LEY DE INSOLVENCIA (REORGANIZACION EMPRESARIAL)',\n",
       "       'INACTIVA TEMPORAL', 'REESTRUCTURACION O CONCORDATO',\n",
       "       'SALIDA CLINTON (SDNT OFAC)', 'INTERVENIDA',\n",
       "       'ANULACIÓN LIQUIDACIÓN'], dtype=object)"
      ]
     },
     "execution_count": 172,
     "metadata": {},
     "output_type": "execute_result"
    }
   ],
   "source": [
    "df_user['USU_ESTADO'].unique()"
   ]
  },
  {
   "cell_type": "code",
   "execution_count": 173,
   "id": "genuine-content",
   "metadata": {},
   "outputs": [
    {
     "data": {
      "text/plain": [
       "NoApl                                               276620\n",
       "ACTIVA                                               67578\n",
       "CANCELACIÓN                                          13074\n",
       "SD                                                    6905\n",
       "LIQUIDACION                                           2362\n",
       "LEY DE INSOLVENCIA (REORGANIZACION EMPRESARIAL)        500\n",
       "EXTINGUIDA                                             275\n",
       "INACTIVA TEMPORAL                                      261\n",
       "REESTRUCTURACION O CONCORDATO                           32\n",
       "COINCIDENCIA HOMOGRAFA LISTA CLINTON (SDNT OFAC)         9\n",
       "INTERVENIDA                                              9\n",
       "SALIDA CLINTON (SDNT OFAC)                               7\n",
       "ANULACIÓN LIQUIDACIÓN                                    5\n",
       "Name: USU_ESTADO, dtype: int64"
      ]
     },
     "execution_count": 173,
     "metadata": {},
     "output_type": "execute_result"
    }
   ],
   "source": [
    "df_user['USU_ESTADO'].value_counts()"
   ]
  },
  {
   "cell_type": "code",
   "execution_count": 174,
   "id": "descending-virtue",
   "metadata": {},
   "outputs": [
    {
     "data": {
      "image/png": "[encoded data removed]",
      "text/plain": [
       "<Figure size 432x288 with 1 Axes>"
      ]
     },
     "metadata": {
      "needs_background": "light"
     },
     "output_type": "display_data"
    }
   ],
   "source": [
    "df_user['USU_ESTADO'].value_counts()[1:].plot(kind = 'bar')\n",
    "plt.title('Distribución Registros por Tipo Estado (PJ)')    \n",
    "plt.grid()\n",
    "plt.show()"
   ]
  },
  {
   "cell_type": "markdown",
   "id": "received-telescope",
   "metadata": {},
   "source": [
    "**Realizamos las transformaciones**\n",
    "\n",
    "Agruparemos por conceptos similares."
   ]
  },
  {
   "cell_type": "code",
   "execution_count": 175,
   "id": "objective-brand",
   "metadata": {},
   "outputs": [],
   "source": [
    "# Agrupamos: CANCELACIÓN, LIQUIDACION, EXTINGUIDA y INACTIVA TEMPORAL\n",
    "df_user.loc[(df_user['USU_ESTADO'].isin(['CANCELACIÓN', 'LIQUIDACION', 'EXTINGUIDA', 'INACTIVA TEMPORAL'])), 'USU_ESTADO'] = 'INACTIVA'"
   ]
  },
  {
   "cell_type": "code",
   "execution_count": 176,
   "id": "english-netherlands",
   "metadata": {},
   "outputs": [],
   "source": [
    "# Agrupamos: ANULACIÓN LIQUIDACIÓN y ACTIVA\n",
    "df_user.loc[(df_user['USU_ESTADO'].isin(['ANULACIÓN LIQUIDACIÓN'])), 'USU_ESTADO'] = 'ACTIVA'"
   ]
  },
  {
   "cell_type": "code",
   "execution_count": 177,
   "id": "significant-invention",
   "metadata": {},
   "outputs": [],
   "source": [
    "# Agrupamos: REESTRUCTURACION O CONCORDATO, INTERVENIDA y LEY DE INSOLVENCIA (REORGANIZACION EMPRESARIAL)\n",
    "df_user.loc[(df_user['USU_ESTADO'].isin(['REESTRUCTURACION O CONCORDATO','LEY DE INSOLVENCIA (REORGANIZACION EMPRESARIAL)','INTERVENIDA'])), 'USU_ESTADO'] = 'REESTRUCTURACION'"
   ]
  },
  {
   "cell_type": "code",
   "execution_count": 178,
   "id": "fitted-estimate",
   "metadata": {},
   "outputs": [],
   "source": [
    "# Agrupamos: COINCIDENCIA HOMOGRAFA LISTA CLINTON (SDNT OFAC) y SALIDA CLINTON (SDNT OFAC)\n",
    "df_user.loc[(df_user['USU_ESTADO'].isin(['COINCIDENCIA HOMOGRAFA LISTA CLINTON (SDNT OFAC)','SALIDA CLINTON (SDNT OFAC)'])), 'USU_ESTADO'] = 'RELACION_CLINTON'"
   ]
  },
  {
   "cell_type": "markdown",
   "id": "clear-appointment",
   "metadata": {},
   "source": [
    "**Comprobación**"
   ]
  },
  {
   "cell_type": "code",
   "execution_count": 179,
   "id": "durable-disability",
   "metadata": {},
   "outputs": [
    {
     "data": {
      "text/plain": [
       "array(['NoApl', 'ACTIVA', 'INACTIVA', 'SD', 'RELACION_CLINTON',\n",
       "       'REESTRUCTURACION'], dtype=object)"
      ]
     },
     "execution_count": 179,
     "metadata": {},
     "output_type": "execute_result"
    }
   ],
   "source": [
    "df_user['USU_ESTADO'].unique()"
   ]
  },
  {
   "cell_type": "code",
   "execution_count": 180,
   "id": "reliable-authentication",
   "metadata": {},
   "outputs": [
    {
     "data": {
      "text/plain": [
       "NoApl               276620\n",
       "ACTIVA               67583\n",
       "INACTIVA             15972\n",
       "SD                    6905\n",
       "REESTRUCTURACION       541\n",
       "RELACION_CLINTON        16\n",
       "Name: USU_ESTADO, dtype: int64"
      ]
     },
     "execution_count": 180,
     "metadata": {},
     "output_type": "execute_result"
    }
   ],
   "source": [
    "df_user['USU_ESTADO'].value_counts()"
   ]
  },
  {
   "cell_type": "code",
   "execution_count": 181,
   "id": "rural-handy",
   "metadata": {},
   "outputs": [
    {
     "data": {
      "image/png": "[encoded data removed]",
      "text/plain": [
       "<Figure size 432x288 with 1 Axes>"
      ]
     },
     "metadata": {
      "needs_background": "light"
     },
     "output_type": "display_data"
    }
   ],
   "source": [
    "df_user['USU_ESTADO'].value_counts()[1:].plot(kind = 'bar')\n",
    "plt.title('Distribución Registros por Tipo de Estados (PJ)')    \n",
    "plt.grid()\n",
    "plt.show()"
   ]
  },
  {
   "cell_type": "markdown",
   "id": "endless-american",
   "metadata": {},
   "source": [
    "-------------------------------------------------"
   ]
  },
  {
   "cell_type": "markdown",
   "id": "decent-greeting",
   "metadata": {},
   "source": [
    "**8. IP_Region**"
   ]
  },
  {
   "cell_type": "markdown",
   "id": "genetic-break",
   "metadata": {},
   "source": [
    "A continuación se revisarán los valores de la variable IP_Región"
   ]
  },
  {
   "cell_type": "code",
   "execution_count": 182,
   "id": "polished-undergraduate",
   "metadata": {},
   "outputs": [
    {
     "data": {
      "text/plain": [
       "array(['Valle del Cauca', 'Antioquia', 'Bolivar', 'Risaralda',\n",
       "       'Atlántico', 'Bogotá D.C.', 'NI', 'Santander', 'New York',\n",
       "       'Narino', 'Cesar', 'Cundinamarca', 'Casanare', 'Magdalena',\n",
       "       'Lima region', 'England', 'Florida', 'Norte de Santander', 'Meta',\n",
       "       'Cordoba', 'Tolima', 'Caldas', 'Provincia de Pichincha',\n",
       "       'New Jersey', 'Tokyo', 'Huila', 'Sucre', 'Boyaca',\n",
       "       'Buenos Aires F.D.', 'Provincia de Panama', 'La Guajira',\n",
       "       'Ã\\x8ele-de-France', 'Quindío', 'Jujuy', 'Cauca', 'Arauca',\n",
       "       'Tennessee', 'Provincia de Manabi', 'Quebec', 'Colorado',\n",
       "       'Virginia', 'Sao Paulo', 'Michigan', 'Andalusia',\n",
       "       'Balearic Islands', 'Madrid', 'Koper', 'Putumayo', 'Texas',\n",
       "       'Guainia', 'Hesse', 'Provincia del Guayas', 'QuerÃ©taro',\n",
       "       'District of Columbia', 'North Holland', 'Queensland',\n",
       "       'San Luis PotosÃ\\xad', 'Provincie Gelderland', 'Mexico City',\n",
       "       'Provincia de San Jose', 'Lombardy', 'Uusimaa', 'Georgia',\n",
       "       'Louisiana', 'Ontario', 'Nevada', 'Guangdong', 'Catalonia',\n",
       "       'Valencia', 'California', 'Moscow', 'Carabobo', 'Federal District',\n",
       "       'BolÃ\\xadvar', 'Victoria', 'Caqueta', 'Lima', 'Distrito Federal',\n",
       "       'Amazonas', 'Maryland', 'Santiago Metropolitan', 'Nueva Esparta',\n",
       "       'North Carolina', 'British Columbia', 'Santa Fe',\n",
       "       'Departamento de Guatemala', 'Aguascalientes', 'Alberta',\n",
       "       'Provincia del Tungurahua', 'Departamento Central',\n",
       "       'St.-Petersburg', 'Birkirkara', 'Delaware', 'Zulia', 'Wisconsin',\n",
       "       'TÃ¡chira', 'Choco', 'Buenos Aires', 'Arizona', 'Parana',\n",
       "       'Stockholm', 'Lesser Poland',\n",
       "       'National Capital Territory of Delhi', 'Massachusetts',\n",
       "       'Brussels Capital', \"Provence-Alpes-CÃ´te d'Azur\",\n",
       "       'Provincie Flevoland', 'Vichada', 'North Rhine-Westphalia',\n",
       "       'Puebla', 'Nuevo LeÃ³n', 'Ohio', 'Illinois', 'Vienna',\n",
       "       'South Carolina', 'Asuncion', 'New South Wales',\n",
       "       'Provincia del Carchi', 'Campania', 'Geneva', 'Yuen Long District',\n",
       "       'Barinas', 'Andorra la Vella', 'Abu Dhabi', 'Oaxaca',\n",
       "       'Provincia de Limon', 'Indiana', 'Departamento de Montevideo',\n",
       "       'Tuscany', 'Provincia de Santo Domingo', 'Coquimbo Region',\n",
       "       'Provincia de Heredia', 'Apure', 'Flanders', 'Hordaland',\n",
       "       'MÃ©rida', 'Baden-WÃ¼rttemberg', 'Atacama', 'Baja California',\n",
       "       'Guaviare', 'Provincia de Imbabura', 'Haifa', 'Latium', 'Shizuoka',\n",
       "       'Sinaloa', 'Piura', 'Connecticut', 'Monagas', 'Galicia',\n",
       "       'San Andres y Providencia', 'Castille-La Mancha', 'Jalisco',\n",
       "       'Washington', 'Aragon', 'Emilia-Romagna', 'Pennsylvania', 'Vaupes',\n",
       "       'Hessen', \"O'Higgins Region\", 'Portuguesa', 'Rio de Janeiro',\n",
       "       'Rhode Island', 'Los Lagos Region', 'La Libertad',\n",
       "       'Provincia del Azuay', 'Hlavni mesto Praha', 'Minnesota', 'Lara',\n",
       "       'Departamento de Managua', 'Central and Western District',\n",
       "       'Trentino-Alto Adige', 'Tabasco', 'Ceuta', 'Inglaterra', 'Acre',\n",
       "       'Kaohsiung', 'Missouri', 'Carolina del Norte', 'Minas Gerais',\n",
       "       'Provincia de Sucumbios', 'Provincia de Santa Elena', 'Bavaria',\n",
       "       'Dalarna', 'Santa Catarina', 'Istanbul', 'Quintana Roo',\n",
       "       'Nouvelle-Aquitaine', 'Haryana', 'Karnataka', 'Ankara',\n",
       "       'New Mexico', 'Gyeonggi-do',\n",
       "       'Provincia de Santo Domingo de los Tsachilas', 'Brittany', 'Hanoi',\n",
       "       'Oregon', 'Provincia de Loja', 'Provincia del Canar',\n",
       "       'Ar RiyÄ\\x81á¸\\x91', 'SamanÃ¡', 'Castille and LeÃ³n',\n",
       "       'Region del Biobio', 'Departamento del Alto Parana', 'Al Asimah',\n",
       "       'Aragua', 'MÃ©xico', 'Baladiyat ad Dawhah', 'South Holland',\n",
       "       'Arequipa', 'Los RÃ\\xados Region', 'Panama Oeste', 'Grisons',\n",
       "       'Alabama', 'Provincia de Cotopaxi', 'Dubai',\n",
       "       'Auvergne-Rhone-Alpes', 'Rio Grande do Norte',\n",
       "       'Novosibirsk Oblast', 'Callao', 'Hebei', 'Land Berlin',\n",
       "       'Hauts-de-France', 'Zug', 'Havana', 'Departamento de La Paz',\n",
       "       'Provincia de Puntarenas', 'Western Australia', 'Estado Trujillo',\n",
       "       'Yaracuy', 'Provincia de Chiriqui', 'Miranda', 'Antofagasta',\n",
       "       'Rio Grande do Sul', 'Lucerne', 'Occitanie', 'Veracruz',\n",
       "       'Provincia de El Oro', 'Departamento de Cochabamba', 'Ã\\x91uble',\n",
       "       'Guanajuato', 'Corrientes', 'Utah', 'Auckland', 'Central Jutland',\n",
       "       'Basque Country', 'AnzoÃ¡tegui', 'Departamento de Santa Cruz',\n",
       "       'Gujarat', 'Maldonado', 'Fujian',\n",
       "       'Departamento de Francisco Morazan', 'Lisbon', 'Manitoba',\n",
       "       'Cojedes', 'Mississippi', 'Solothurn', 'Kyiv City', 'Chiapas',\n",
       "       'Wallonia', 'Lagos', 'Il-Hamrun', 'Alaska',\n",
       "       'Provincia de Los Rios', 'Eastern Province', 'City of Zagreb',\n",
       "       'Dependencias Federales', 'Tel Aviv', 'Lopburi', 'SantarÃ©m',\n",
       "       'Provincia de Guanacaste', 'Zurich', 'Mersch', 'Tlaxcala',\n",
       "       'FalcÃ³n', 'Ticino', 'Leinster', 'Maule Region', 'Bahia',\n",
       "       'Region de Valparaiso', 'Vermont', 'Piedmont', 'Chihuahua',\n",
       "       'Provincia de Herrera', 'Provincia de Alajuela', 'TarapacÃ¡',\n",
       "       'Friuli Venezia Giulia', 'Umbria', 'Aargau', 'Sicily',\n",
       "       'Provincia de Santiago Rodriguez', 'Canary Islands', 'Mendoza',\n",
       "       'Central District', 'Guerrero', 'Bourgogne-Franche-Comte',\n",
       "       'Lambayeque', 'Navarre', 'Bern', 'Rheinland-Pfalz', 'Beijing',\n",
       "       'Scotland', 'Departamento de San Salvador', 'Navarra', 'Porto',\n",
       "       'Durango', 'Braga', 'ChiÈ\\x99inÄ\\x83u Municipality',\n",
       "       'Saint Andrew', 'Provincia de Bolivar', 'Bucuresti',\n",
       "       'South Australia', 'Nebraska', 'Salzburg', 'Manama', 'Pomerania',\n",
       "       'Espirito Santo', 'Nueva York'], dtype=object)"
      ]
     },
     "execution_count": 182,
     "metadata": {},
     "output_type": "execute_result"
    }
   ],
   "source": [
    "df_user['IP_Region'].unique()"
   ]
  },
  {
   "cell_type": "markdown",
   "id": "intense-blame",
   "metadata": {},
   "source": [
    "**Realizamos las transformaciones**"
   ]
  },
  {
   "cell_type": "markdown",
   "id": "prepared-wichita",
   "metadata": {},
   "source": [
    "Identificamos valores con caracteres extraños"
   ]
  },
  {
   "cell_type": "code",
   "execution_count": 183,
   "id": "boring-meter",
   "metadata": {},
   "outputs": [
    {
     "data": {
      "text/plain": [
       "array(['Ã\\x8ele-de-France', 'QuerÃ©taro', 'San Luis PotosÃ\\xad',\n",
       "       'BolÃ\\xadvar', 'TÃ¡chira', \"Provence-Alpes-CÃ´te d'Azur\",\n",
       "       'Nuevo LeÃ³n', 'MÃ©rida', 'Baden-WÃ¼rttemberg',\n",
       "       'Ar RiyÄ\\x81á¸\\x91', 'SamanÃ¡', 'Castille and LeÃ³n', 'MÃ©xico',\n",
       "       'Los RÃ\\xados Region', 'Ã\\x91uble', 'AnzoÃ¡tegui', 'SantarÃ©m',\n",
       "       'FalcÃ³n', 'TarapacÃ¡', 'ChiÈ\\x99inÄ\\x83u Municipality'],\n",
       "      dtype=object)"
      ]
     },
     "execution_count": 183,
     "metadata": {},
     "output_type": "execute_result"
    }
   ],
   "source": [
    "df_user[df_user['IP_Region'].str.contains('Ä|Ã|©|¡|,|È')]['IP_Region'].unique()"
   ]
  },
  {
   "cell_type": "markdown",
   "id": "convinced-paradise",
   "metadata": {},
   "source": [
    "Modificamos manualmente cada valor encontrado"
   ]
  },
  {
   "cell_type": "code",
   "execution_count": 184,
   "id": "fitting-conservative",
   "metadata": {},
   "outputs": [],
   "source": [
    "df_user.loc[(df_user['IP_Region'] == 'Ã\\x8ele-de-France'), 'IP_Region'] = 'Hauts-de-France'\n",
    "df_user.loc[(df_user['IP_Region'] == 'QuerÃ©taro'), 'IP_Region'] = 'Queretaro'\n",
    "df_user.loc[(df_user['IP_Region'] == 'San Luis PotosÃ\\xad'), 'IP_Region'] = 'San Luis'\n",
    "df_user.loc[(df_user['IP_Region'] == 'TÃ¡chira'), 'IP_Region'] = 'Tachira'\n",
    "df_user.loc[(df_user['IP_Region'] == 'BolÃ\\xadvar'), 'IP_Region'] = 'Bolivar'\n",
    "df_user.loc[(df_user['IP_Region'] == \"Provence-Alpes-CÃ´te d'Azur\"), 'IP_Region'] = 'Provenza-Alpes-Costa Azul'\n",
    "df_user.loc[(df_user['IP_Region'] == 'Nuevo LeÃ³n'), 'IP_Region'] = 'Nuevo León'\n",
    "df_user.loc[(df_user['IP_Region'] == 'MÃ©rida'), 'IP_Region'] = 'Merida'\n",
    "df_user.loc[(df_user['IP_Region'] == 'Baden-WÃ¼rttemberg'), 'IP_Region'] = 'Baden-Wurtemberg'\n",
    "df_user.loc[(df_user['IP_Region'] == 'Ar RiyÄ\\x81á¸\\x91'), 'IP_Region'] = 'Ar Riyadh'\n",
    "df_user.loc[(df_user['IP_Region'] == 'SamanÃ¡'), 'IP_Region'] = 'Samana'\n",
    "df_user.loc[(df_user['IP_Region'] == 'Castille and LeÃ³n'), 'IP_Region'] = 'Castilla y Leon'\n",
    "df_user.loc[(df_user['IP_Region'] == 'MÃ©xico'), 'IP_Region'] = 'Mexico City'\n",
    "df_user.loc[(df_user['IP_Region'] == 'Los RÃ\\xados Region'), 'IP_Region'] = 'Los Rios'\n",
    "df_user.loc[(df_user['IP_Region'] == 'Ã\\x91uble'), 'IP_Region'] = 'Ñuble'\n",
    "df_user.loc[(df_user['IP_Region'] == 'AnzoÃ¡tegui'), 'IP_Region'] = 'Anzoategui'\n",
    "df_user.loc[(df_user['IP_Region'] == 'SantarÃ©m'), 'IP_Region'] = 'Santarem'\n",
    "df_user.loc[(df_user['IP_Region'] == 'FalcÃ³n'), 'IP_Region'] = 'Falcon'\n",
    "df_user.loc[(df_user['IP_Region'] == 'TarapacÃ¡'), 'IP_Region'] = 'Tarapaca'\n",
    "df_user.loc[(df_user['IP_Region'] == 'ChiÈ\\x99inÄ\\x83u Municipality'), 'IP_Region'] = 'Chisinau'"
   ]
  },
  {
   "cell_type": "markdown",
   "id": "cardiovascular-variation",
   "metadata": {},
   "source": [
    "**Comprobación**"
   ]
  },
  {
   "cell_type": "code",
   "execution_count": 185,
   "id": "upset-section",
   "metadata": {},
   "outputs": [
    {
     "data": {
      "text/plain": [
       "array([], dtype=object)"
      ]
     },
     "execution_count": 185,
     "metadata": {},
     "output_type": "execute_result"
    }
   ],
   "source": [
    "df_user[df_user['IP_Region'].str.contains('Ä|Ã|©|¡|,|È')]['IP_Region'].unique()"
   ]
  },
  {
   "cell_type": "code",
   "execution_count": 186,
   "id": "incorporated-legend",
   "metadata": {},
   "outputs": [
    {
     "data": {
      "text/plain": [
       "array(['Valle del Cauca', 'Antioquia', 'Bolivar', 'Risaralda',\n",
       "       'Atlántico', 'Bogotá D.C.', 'NI', 'Santander', 'New York',\n",
       "       'Narino', 'Cesar', 'Cundinamarca', 'Casanare', 'Magdalena',\n",
       "       'Lima region', 'England', 'Florida', 'Norte de Santander', 'Meta',\n",
       "       'Cordoba', 'Tolima', 'Caldas', 'Provincia de Pichincha',\n",
       "       'New Jersey', 'Tokyo', 'Huila', 'Sucre', 'Boyaca',\n",
       "       'Buenos Aires F.D.', 'Provincia de Panama', 'La Guajira',\n",
       "       'Hauts-de-France', 'Quindío', 'Jujuy', 'Cauca', 'Arauca',\n",
       "       'Tennessee', 'Provincia de Manabi', 'Quebec', 'Colorado',\n",
       "       'Virginia', 'Sao Paulo', 'Michigan', 'Andalusia',\n",
       "       'Balearic Islands', 'Madrid', 'Koper', 'Putumayo', 'Texas',\n",
       "       'Guainia', 'Hesse', 'Provincia del Guayas', 'Queretaro',\n",
       "       'District of Columbia', 'North Holland', 'Queensland', 'San Luis',\n",
       "       'Provincie Gelderland', 'Mexico City', 'Provincia de San Jose',\n",
       "       'Lombardy', 'Uusimaa', 'Georgia', 'Louisiana', 'Ontario', 'Nevada',\n",
       "       'Guangdong', 'Catalonia', 'Valencia', 'California', 'Moscow',\n",
       "       'Carabobo', 'Federal District', 'Victoria', 'Caqueta', 'Lima',\n",
       "       'Distrito Federal', 'Amazonas', 'Maryland',\n",
       "       'Santiago Metropolitan', 'Nueva Esparta', 'North Carolina',\n",
       "       'British Columbia', 'Santa Fe', 'Departamento de Guatemala',\n",
       "       'Aguascalientes', 'Alberta', 'Provincia del Tungurahua',\n",
       "       'Departamento Central', 'St.-Petersburg', 'Birkirkara', 'Delaware',\n",
       "       'Zulia', 'Wisconsin', 'Tachira', 'Choco', 'Buenos Aires',\n",
       "       'Arizona', 'Parana', 'Stockholm', 'Lesser Poland',\n",
       "       'National Capital Territory of Delhi', 'Massachusetts',\n",
       "       'Brussels Capital', 'Provenza-Alpes-Costa Azul',\n",
       "       'Provincie Flevoland', 'Vichada', 'North Rhine-Westphalia',\n",
       "       'Puebla', 'Nuevo León', 'Ohio', 'Illinois', 'Vienna',\n",
       "       'South Carolina', 'Asuncion', 'New South Wales',\n",
       "       'Provincia del Carchi', 'Campania', 'Geneva', 'Yuen Long District',\n",
       "       'Barinas', 'Andorra la Vella', 'Abu Dhabi', 'Oaxaca',\n",
       "       'Provincia de Limon', 'Indiana', 'Departamento de Montevideo',\n",
       "       'Tuscany', 'Provincia de Santo Domingo', 'Coquimbo Region',\n",
       "       'Provincia de Heredia', 'Apure', 'Flanders', 'Hordaland', 'Merida',\n",
       "       'Baden-Wurtemberg', 'Atacama', 'Baja California', 'Guaviare',\n",
       "       'Provincia de Imbabura', 'Haifa', 'Latium', 'Shizuoka', 'Sinaloa',\n",
       "       'Piura', 'Connecticut', 'Monagas', 'Galicia',\n",
       "       'San Andres y Providencia', 'Castille-La Mancha', 'Jalisco',\n",
       "       'Washington', 'Aragon', 'Emilia-Romagna', 'Pennsylvania', 'Vaupes',\n",
       "       'Hessen', \"O'Higgins Region\", 'Portuguesa', 'Rio de Janeiro',\n",
       "       'Rhode Island', 'Los Lagos Region', 'La Libertad',\n",
       "       'Provincia del Azuay', 'Hlavni mesto Praha', 'Minnesota', 'Lara',\n",
       "       'Departamento de Managua', 'Central and Western District',\n",
       "       'Trentino-Alto Adige', 'Tabasco', 'Ceuta', 'Inglaterra', 'Acre',\n",
       "       'Kaohsiung', 'Missouri', 'Carolina del Norte', 'Minas Gerais',\n",
       "       'Provincia de Sucumbios', 'Provincia de Santa Elena', 'Bavaria',\n",
       "       'Dalarna', 'Santa Catarina', 'Istanbul', 'Quintana Roo',\n",
       "       'Nouvelle-Aquitaine', 'Haryana', 'Karnataka', 'Ankara',\n",
       "       'New Mexico', 'Gyeonggi-do',\n",
       "       'Provincia de Santo Domingo de los Tsachilas', 'Brittany', 'Hanoi',\n",
       "       'Oregon', 'Provincia de Loja', 'Provincia del Canar', 'Ar Riyadh',\n",
       "       'Samana', 'Castilla y Leon', 'Region del Biobio',\n",
       "       'Departamento del Alto Parana', 'Al Asimah', 'Aragua',\n",
       "       'Baladiyat ad Dawhah', 'South Holland', 'Arequipa', 'Los Rios',\n",
       "       'Panama Oeste', 'Grisons', 'Alabama', 'Provincia de Cotopaxi',\n",
       "       'Dubai', 'Auvergne-Rhone-Alpes', 'Rio Grande do Norte',\n",
       "       'Novosibirsk Oblast', 'Callao', 'Hebei', 'Land Berlin', 'Zug',\n",
       "       'Havana', 'Departamento de La Paz', 'Provincia de Puntarenas',\n",
       "       'Western Australia', 'Estado Trujillo', 'Yaracuy',\n",
       "       'Provincia de Chiriqui', 'Miranda', 'Antofagasta',\n",
       "       'Rio Grande do Sul', 'Lucerne', 'Occitanie', 'Veracruz',\n",
       "       'Provincia de El Oro', 'Departamento de Cochabamba', 'Ñuble',\n",
       "       'Guanajuato', 'Corrientes', 'Utah', 'Auckland', 'Central Jutland',\n",
       "       'Basque Country', 'Anzoategui', 'Departamento de Santa Cruz',\n",
       "       'Gujarat', 'Maldonado', 'Fujian',\n",
       "       'Departamento de Francisco Morazan', 'Lisbon', 'Manitoba',\n",
       "       'Cojedes', 'Mississippi', 'Solothurn', 'Kyiv City', 'Chiapas',\n",
       "       'Wallonia', 'Lagos', 'Il-Hamrun', 'Alaska',\n",
       "       'Provincia de Los Rios', 'Eastern Province', 'City of Zagreb',\n",
       "       'Dependencias Federales', 'Tel Aviv', 'Lopburi', 'Santarem',\n",
       "       'Provincia de Guanacaste', 'Zurich', 'Mersch', 'Tlaxcala',\n",
       "       'Falcon', 'Ticino', 'Leinster', 'Maule Region', 'Bahia',\n",
       "       'Region de Valparaiso', 'Vermont', 'Piedmont', 'Chihuahua',\n",
       "       'Provincia de Herrera', 'Provincia de Alajuela', 'Tarapaca',\n",
       "       'Friuli Venezia Giulia', 'Umbria', 'Aargau', 'Sicily',\n",
       "       'Provincia de Santiago Rodriguez', 'Canary Islands', 'Mendoza',\n",
       "       'Central District', 'Guerrero', 'Bourgogne-Franche-Comte',\n",
       "       'Lambayeque', 'Navarre', 'Bern', 'Rheinland-Pfalz', 'Beijing',\n",
       "       'Scotland', 'Departamento de San Salvador', 'Navarra', 'Porto',\n",
       "       'Durango', 'Braga', 'Chisinau', 'Saint Andrew',\n",
       "       'Provincia de Bolivar', 'Bucuresti', 'South Australia', 'Nebraska',\n",
       "       'Salzburg', 'Manama', 'Pomerania', 'Espirito Santo', 'Nueva York'],\n",
       "      dtype=object)"
      ]
     },
     "execution_count": 186,
     "metadata": {},
     "output_type": "execute_result"
    }
   ],
   "source": [
    "df_user['IP_Region'].unique()"
   ]
  },
  {
   "cell_type": "markdown",
   "id": "elementary-france",
   "metadata": {},
   "source": [
    "-------------------------------------------------"
   ]
  },
  {
   "cell_type": "markdown",
   "id": "round-approach",
   "metadata": {},
   "source": [
    "**9. IP_Country**"
   ]
  },
  {
   "cell_type": "markdown",
   "id": "contained-forty",
   "metadata": {},
   "source": [
    "A continuación se revisarán los valores de la variable IP_Country"
   ]
  },
  {
   "cell_type": "code",
   "execution_count": 187,
   "id": "retired-supplement",
   "metadata": {},
   "outputs": [
    {
     "data": {
      "text/plain": [
       "array(['Colombia', 'NI', 'United States', 'Switzerland', 'Peru',\n",
       "       'United Kingdom', 'Venezuela', 'Chile', 'Ecuador', 'Japan',\n",
       "       'Argentina', 'Panama', 'France', 'Cameroon', 'Spain', 'Canada',\n",
       "       'Brazil', 'Slovenia', 'Germany', 'Mexico', 'Austria',\n",
       "       'Netherlands', 'Uruguay', 'Australia', 'Costa Rica', 'Sweden',\n",
       "       'Italy', 'Finland', 'China', 'Russia', 'Bolivia', 'Guatemala',\n",
       "       'Paraguay', 'Poland', 'Malta', 'United Arab Emirates', 'Singapore',\n",
       "       'Puerto Rico', 'India', 'Belgium', 'Aruba', 'Hong Kong', 'Andorra',\n",
       "       'Dominican Republic', 'Norway', 'Israel', 'Belize', 'Jersey',\n",
       "       'Alemania', 'Czechia', 'Nicaragua', 'CuraÃ§ao', 'Reino Unido',\n",
       "       'Bonaire, Sint Eustatius, and Saba', 'Taiwan', 'Turkey',\n",
       "       'South Korea', 'Vietnam', 'Cuba', 'Saudi Arabia', 'Kuwait',\n",
       "       'Qatar', 'French Guiana', 'Equatorial Guinea', 'New Zealand',\n",
       "       'Denmark', 'Romania', 'Honduras', 'Portugal', 'Angola', 'Ukraine',\n",
       "       'Nigeria', 'Croatia', 'Thailand', 'Luxembourg', 'Ireland',\n",
       "       'Guadeloupe', 'El Salvador', 'México', 'Republic of Moldova',\n",
       "       'Barbados', 'Bahrain', 'Polonia'], dtype=object)"
      ]
     },
     "execution_count": 187,
     "metadata": {},
     "output_type": "execute_result"
    }
   ],
   "source": [
    "df_user['IP_Country'].unique()"
   ]
  },
  {
   "cell_type": "markdown",
   "id": "jewish-parts",
   "metadata": {},
   "source": [
    "**Únicamente modificaremos el valor de aquel que tiene un valor extraño**"
   ]
  },
  {
   "cell_type": "code",
   "execution_count": 188,
   "id": "relative-quest",
   "metadata": {},
   "outputs": [],
   "source": [
    "df_user.loc[(df_user['IP_Country'] == 'CuraÃ§ao'), 'IP_Country'] = 'Curacao'"
   ]
  },
  {
   "cell_type": "markdown",
   "id": "compound-football",
   "metadata": {},
   "source": [
    "**Existen valores que son iguales pero en diferente idioma. Se unifican**"
   ]
  },
  {
   "cell_type": "code",
   "execution_count": 189,
   "id": "furnished-ballet",
   "metadata": {},
   "outputs": [],
   "source": [
    "df_user.loc[(df_user['IP_Country'] == 'United Kingdom'), 'IP_Country'] = 'Reino Unido'\n",
    "df_user.loc[(df_user['IP_Country'] == 'México'), 'IP_Country'] = 'Mexico'\n",
    "df_user.loc[(df_user['IP_Country'] == 'Poland'), 'IP_Country'] = 'Polonia'\n",
    "df_user.loc[(df_user['IP_Country'] == 'Germany'), 'IP_Country'] = 'Alemania'\n",
    "df_user.loc[(df_user['IP_Country'] == 'Republic of Moldova'), 'IP_Country'] = 'Moldavia'\n",
    "df_user.loc[(df_user['IP_Country'] == 'Croatia'), 'IP_Country'] = 'Croacia'\n",
    "df_user.loc[(df_user['IP_Country'] == 'Spain'), 'IP_Country'] = 'España'\n",
    "df_user.loc[(df_user['IP_Country'] == 'Norway'), 'IP_Country'] = 'Noruega'\n",
    "df_user.loc[(df_user['IP_Country'] == 'Dominican Republic'), 'IP_Country'] = 'Republica Dominicana'\n",
    "df_user.loc[(df_user['IP_Country'] == 'Thailand'), 'IP_Country'] = 'Tailandia'\n",
    "df_user.loc[(df_user['IP_Country'] == 'Belgium'), 'IP_Country'] = 'Belgica'\n",
    "df_user.loc[(df_user['IP_Country'] == 'Bahrain'), 'IP_Country'] = 'Bahrein'\n",
    "df_user.loc[(df_user['IP_Country'] == 'Turkey'), 'IP_Country'] = 'Turquia'\n",
    "df_user.loc[(df_user['IP_Country'] == 'Belize'), 'IP_Country'] = 'Belice'\n",
    "df_user.loc[(df_user['IP_Country'] == 'New Zealand'), 'IP_Country'] = 'Nueva Zelanda'\n",
    "df_user.loc[(df_user['IP_Country'] == 'Russia'), 'IP_Country'] = 'Rusia'\n",
    "df_user.loc[(df_user['IP_Country'] == 'Japan'), 'IP_Country'] = 'Japon'\n",
    "df_user.loc[(df_user['IP_Country'] == 'Italy'), 'IP_Country'] = 'Italia'\n",
    "df_user.loc[(df_user['IP_Country'] == 'Brazil'), 'IP_Country'] = 'Brasil'\n",
    "df_user.loc[(df_user['IP_Country'] == 'Denmark'), 'IP_Country'] = 'Dinamarca'\n",
    "df_user.loc[(df_user['IP_Country'] == 'Singapore'), 'IP_Country'] = 'Singapur'\n",
    "df_user.loc[(df_user['IP_Country'] == 'Romania'), 'IP_Country'] = 'Rumania'\n",
    "df_user.loc[(df_user['IP_Country'] == 'Czechia'), 'IP_Country'] = 'Republica Checa'\n",
    "df_user.loc[(df_user['IP_Country'] == 'Ukraine'), 'IP_Country'] = 'Ucrania'\n",
    "df_user.loc[(df_user['IP_Country'] == 'Luxembourg'), 'IP_Country'] = 'Luxemburgo'\n",
    "df_user.loc[(df_user['IP_Country'] == 'Finland'), 'IP_Country'] = 'Finlandia'\n",
    "df_user.loc[(df_user['IP_Country'] == 'Netherlands'), 'IP_Country'] = 'Paises Bajos'\n",
    "df_user.loc[(df_user['IP_Country'] == 'Cameroon'), 'IP_Country'] = 'Camerun'\n",
    "df_user.loc[(df_user['IP_Country'] == 'Sweden'), 'IP_Country'] = 'Suecia'\n",
    "df_user.loc[(df_user['IP_Country'] == 'Saudi Arabia'), 'IP_Country'] = 'Arabia Saudita'\n",
    "df_user.loc[(df_user['IP_Country'] == 'United Arab Emirates'), 'IP_Country'] = 'Emiratos Arabes Unidos'\n",
    "df_user.loc[(df_user['IP_Country'] == 'France'), 'IP_Country'] = 'Francia'\n",
    "df_user.loc[(df_user['IP_Country'] == 'Guadeloupe'), 'IP_Country'] = 'Guadalupe'\n",
    "df_user.loc[(df_user['IP_Country'] == 'Equatorial Guinea'), 'IP_Country'] = 'Guinea Ecuatorial'\n",
    "df_user.loc[(df_user['IP_Country'] == 'Ireland'), 'IP_Country'] = 'Irlanda'\n",
    "df_user.loc[(df_user['IP_Country'] == 'South Korea'), 'IP_Country'] = 'Corea'\n",
    "df_user.loc[(df_user['IP_Country'] == 'United States'), 'IP_Country'] = 'Estados Unidos'\n",
    "df_user.loc[(df_user['IP_Country'] == 'Switzerland'), 'IP_Country'] = 'Suiza'\n",
    "df_user.loc[(df_user['IP_Country'] == 'Slovenia'), 'IP_Country'] = 'Eslovenia'\n",
    "df_user.loc[(df_user['IP_Country'] == 'French Guiana'), 'IP_Country'] = 'Eslovenia'\n",
    "df_user.loc[(df_user['IP_Country'] == 'Bonaire, Sint Eustatius, and Saba'), 'IP_Country'] = 'Bonaire'"
   ]
  },
  {
   "cell_type": "markdown",
   "id": "still-technique",
   "metadata": {},
   "source": [
    "Comprobacion"
   ]
  },
  {
   "cell_type": "code",
   "execution_count": 190,
   "id": "junior-tucson",
   "metadata": {},
   "outputs": [
    {
     "data": {
      "text/plain": [
       "array(['Colombia', 'NI', 'Estados Unidos', 'Suiza', 'Peru', 'Reino Unido',\n",
       "       'Venezuela', 'Chile', 'Ecuador', 'Japon', 'Argentina', 'Panama',\n",
       "       'Francia', 'Camerun', 'España', 'Canada', 'Brasil', 'Eslovenia',\n",
       "       'Alemania', 'Mexico', 'Austria', 'Paises Bajos', 'Uruguay',\n",
       "       'Australia', 'Costa Rica', 'Suecia', 'Italia', 'Finlandia',\n",
       "       'China', 'Rusia', 'Bolivia', 'Guatemala', 'Paraguay', 'Polonia',\n",
       "       'Malta', 'Emiratos Arabes Unidos', 'Singapur', 'Puerto Rico',\n",
       "       'India', 'Belgica', 'Aruba', 'Hong Kong', 'Andorra',\n",
       "       'Republica Dominicana', 'Noruega', 'Israel', 'Belice', 'Jersey',\n",
       "       'Republica Checa', 'Nicaragua', 'Curacao', 'Bonaire', 'Taiwan',\n",
       "       'Turquia', 'Corea', 'Vietnam', 'Cuba', 'Arabia Saudita', 'Kuwait',\n",
       "       'Qatar', 'Guinea Ecuatorial', 'Nueva Zelanda', 'Dinamarca',\n",
       "       'Rumania', 'Honduras', 'Portugal', 'Angola', 'Ucrania', 'Nigeria',\n",
       "       'Croacia', 'Tailandia', 'Luxemburgo', 'Irlanda', 'Guadalupe',\n",
       "       'El Salvador', 'Moldavia', 'Barbados', 'Bahrein'], dtype=object)"
      ]
     },
     "execution_count": 190,
     "metadata": {},
     "output_type": "execute_result"
    }
   ],
   "source": [
    "df_user['IP_Country'].unique()"
   ]
  },
  {
   "cell_type": "markdown",
   "id": "weird-turtle",
   "metadata": {},
   "source": [
    "**Por último en este apartado se añadirá información relacionada con esta variable, que puede ser útil par anuestro modelo**"
   ]
  },
  {
   "cell_type": "markdown",
   "id": "precise-sword",
   "metadata": {},
   "source": [
    "**PIB**"
   ]
  },
  {
   "cell_type": "code",
   "execution_count": 191,
   "id": "written-crash",
   "metadata": {},
   "outputs": [],
   "source": [
    "df_catalog = pd.read_excel('Data/PIB_Paises.xlsx')"
   ]
  },
  {
   "cell_type": "code",
   "execution_count": 192,
   "id": "balanced-rebound",
   "metadata": {},
   "outputs": [
    {
     "data": {
      "text/html": [
       "<div>\n",
       "<style scoped>\n",
       "    .dataframe tbody tr th:only-of-type {\n",
       "        vertical-align: middle;\n",
       "    }\n",
       "\n",
       "    .dataframe tbody tr th {\n",
       "        vertical-align: top;\n",
       "    }\n",
       "\n",
       "    .dataframe thead th {\n",
       "        text-align: right;\n",
       "    }\n",
       "</style>\n",
       "<table border=\"1\" class=\"dataframe\">\n",
       "  <thead>\n",
       "    <tr style=\"text-align: right;\">\n",
       "      <th></th>\n",
       "      <th>PAIS</th>\n",
       "      <th>PIB</th>\n",
       "      <th>PIB_GRUPO</th>\n",
       "    </tr>\n",
       "  </thead>\n",
       "  <tbody>\n",
       "    <tr>\n",
       "      <th>0</th>\n",
       "      <td>Alemania</td>\n",
       "      <td>3861123558039.209473</td>\n",
       "      <td>Ingreso alto</td>\n",
       "    </tr>\n",
       "    <tr>\n",
       "      <th>1</th>\n",
       "      <td>Andorra</td>\n",
       "      <td>3154057987.23833</td>\n",
       "      <td>Ingreso alto</td>\n",
       "    </tr>\n",
       "    <tr>\n",
       "      <th>2</th>\n",
       "      <td>Angola</td>\n",
       "      <td>88815697793.302994</td>\n",
       "      <td>Países de ingreso mediano bajo</td>\n",
       "    </tr>\n",
       "    <tr>\n",
       "      <th>3</th>\n",
       "      <td>Arabia Saudita</td>\n",
       "      <td>792966838161.658569</td>\n",
       "      <td>Ingreso alto</td>\n",
       "    </tr>\n",
       "    <tr>\n",
       "      <th>4</th>\n",
       "      <td>Argentina</td>\n",
       "      <td>445445177459.426025</td>\n",
       "      <td>Ingreso mediano alto</td>\n",
       "    </tr>\n",
       "  </tbody>\n",
       "</table>\n",
       "</div>"
      ],
      "text/plain": [
       "             PAIS                   PIB                       PIB_GRUPO\n",
       "0        Alemania  3861123558039.209473                    Ingreso alto\n",
       "1         Andorra      3154057987.23833                    Ingreso alto\n",
       "2          Angola    88815697793.302994  Países de ingreso mediano bajo\n",
       "3  Arabia Saudita   792966838161.658569                    Ingreso alto\n",
       "4       Argentina   445445177459.426025            Ingreso mediano alto"
      ]
     },
     "execution_count": 192,
     "metadata": {},
     "output_type": "execute_result"
    }
   ],
   "source": [
    "df_catalog.head(5)"
   ]
  },
  {
   "cell_type": "markdown",
   "id": "affecting-restriction",
   "metadata": {},
   "source": [
    "**Cambiaremos los valores de forma que eliminemos las tildes y ponemos en mayusculas**"
   ]
  },
  {
   "cell_type": "code",
   "execution_count": 193,
   "id": "expired-cargo",
   "metadata": {},
   "outputs": [],
   "source": [
    "def quitar_signo(s):\n",
    "    replacements = (\n",
    "        (\"á\", \"a\"),\n",
    "        (\"é\", \"e\"),\n",
    "        (\"í\", \"i\"),\n",
    "        (\"ó\", \"o\"),\n",
    "        (\"ú\", \"u\"),\n",
    "    )\n",
    "    for a, b in replacements:\n",
    "        s = s.replace(a, b).replace(a.upper(), b.upper())\n",
    "        \n",
    "    return s"
   ]
  },
  {
   "cell_type": "code",
   "execution_count": 194,
   "id": "expanded-cathedral",
   "metadata": {},
   "outputs": [],
   "source": [
    "df_catalog['PAIS'] = df_catalog['PAIS'].apply(lambda x: quitar_signo(x)).str.upper()\n",
    "df_user['IP_Country'] = df_user['IP_Country'].apply(lambda x: quitar_signo(x)).str.upper()"
   ]
  },
  {
   "cell_type": "markdown",
   "id": "green-launch",
   "metadata": {},
   "source": [
    "**Agregamos la información**"
   ]
  },
  {
   "cell_type": "code",
   "execution_count": 195,
   "id": "expanded-tennessee",
   "metadata": {},
   "outputs": [],
   "source": [
    "df_catalog = df_catalog[['PAIS','PIB_GRUPO']]"
   ]
  },
  {
   "cell_type": "code",
   "execution_count": 196,
   "id": "urban-filling",
   "metadata": {},
   "outputs": [],
   "source": [
    "df_user = pd.merge(left = df_user, right = df_catalog, how = 'left', left_on = 'IP_Country', right_on = 'PAIS')"
   ]
  },
  {
   "cell_type": "code",
   "execution_count": 197,
   "id": "accessible-drive",
   "metadata": {},
   "outputs": [
    {
     "data": {
      "text/html": [
       "<div>\n",
       "<style scoped>\n",
       "    .dataframe tbody tr th:only-of-type {\n",
       "        vertical-align: middle;\n",
       "    }\n",
       "\n",
       "    .dataframe tbody tr th {\n",
       "        vertical-align: top;\n",
       "    }\n",
       "\n",
       "    .dataframe thead th {\n",
       "        text-align: right;\n",
       "    }\n",
       "</style>\n",
       "<table border=\"1\" class=\"dataframe\">\n",
       "  <thead>\n",
       "    <tr style=\"text-align: right;\">\n",
       "      <th></th>\n",
       "      <th>ID_USUARIO</th>\n",
       "      <th>TIPOUSUARIO</th>\n",
       "      <th>FECHA_REGISTRO</th>\n",
       "      <th>CANAL_REGISTRO</th>\n",
       "      <th>IND_CLIENTE</th>\n",
       "      <th>IND_ALTA</th>\n",
       "      <th>FECHA_ALTA</th>\n",
       "      <th>FECHA_CLIENTE</th>\n",
       "      <th>TIPOEMAIL</th>\n",
       "      <th>BONDAD_EMAIL</th>\n",
       "      <th>USU_TELF</th>\n",
       "      <th>IPCASOS</th>\n",
       "      <th>IP_Country</th>\n",
       "      <th>IP_Region</th>\n",
       "      <th>USU_TIPO</th>\n",
       "      <th>USU_TAMANIO</th>\n",
       "      <th>USU_CIIU</th>\n",
       "      <th>USU_ESTADO</th>\n",
       "      <th>USU_DEPARTAMENTO</th>\n",
       "      <th>PAIS</th>\n",
       "      <th>PIB_GRUPO</th>\n",
       "    </tr>\n",
       "  </thead>\n",
       "  <tbody>\n",
       "    <tr>\n",
       "      <th>0</th>\n",
       "      <td>8107310</td>\n",
       "      <td>PF</td>\n",
       "      <td>2019-10-22</td>\n",
       "      <td>3</td>\n",
       "      <td>0</td>\n",
       "      <td>0</td>\n",
       "      <td>NoApl</td>\n",
       "      <td>NoApl</td>\n",
       "      <td>GOOHOTYAHMAIL</td>\n",
       "      <td>0</td>\n",
       "      <td>233XXXXX</td>\n",
       "      <td>1</td>\n",
       "      <td>COLOMBIA</td>\n",
       "      <td>Valle del Cauca</td>\n",
       "      <td>NoApl</td>\n",
       "      <td>NoApl</td>\n",
       "      <td>NoApl</td>\n",
       "      <td>NoApl</td>\n",
       "      <td>NoApl</td>\n",
       "      <td>COLOMBIA</td>\n",
       "      <td>Ingreso mediano alto</td>\n",
       "    </tr>\n",
       "    <tr>\n",
       "      <th>1</th>\n",
       "      <td>7784565</td>\n",
       "      <td>PJ</td>\n",
       "      <td>2019-05-14</td>\n",
       "      <td>3</td>\n",
       "      <td>0</td>\n",
       "      <td>0</td>\n",
       "      <td>NoApl</td>\n",
       "      <td>NoApl</td>\n",
       "      <td>GOOHOTYAHMAIL</td>\n",
       "      <td>1</td>\n",
       "      <td>633XXXXX</td>\n",
       "      <td>1</td>\n",
       "      <td>COLOMBIA</td>\n",
       "      <td>Antioquia</td>\n",
       "      <td>SOC_COMERCIAL_INDUSTRIAL</td>\n",
       "      <td>PQ</td>\n",
       "      <td>N7820</td>\n",
       "      <td>ACTIVA</td>\n",
       "      <td>QUINDIO</td>\n",
       "      <td>COLOMBIA</td>\n",
       "      <td>Ingreso mediano alto</td>\n",
       "    </tr>\n",
       "    <tr>\n",
       "      <th>2</th>\n",
       "      <td>7718778</td>\n",
       "      <td>PJ</td>\n",
       "      <td>2019-09-04</td>\n",
       "      <td>7</td>\n",
       "      <td>0</td>\n",
       "      <td>0</td>\n",
       "      <td>NoApl</td>\n",
       "      <td>NoApl</td>\n",
       "      <td>GOOHOTYAHMAIL</td>\n",
       "      <td>1</td>\n",
       "      <td>533XXXXX</td>\n",
       "      <td>1</td>\n",
       "      <td>COLOMBIA</td>\n",
       "      <td>Bolivar</td>\n",
       "      <td>SOC_COMERCIAL_INDUSTRIAL</td>\n",
       "      <td>MC</td>\n",
       "      <td>G4774</td>\n",
       "      <td>ACTIVA</td>\n",
       "      <td>ATLANTICO</td>\n",
       "      <td>COLOMBIA</td>\n",
       "      <td>Ingreso mediano alto</td>\n",
       "    </tr>\n",
       "  </tbody>\n",
       "</table>\n",
       "</div>"
      ],
      "text/plain": [
       "   ID_USUARIO TIPOUSUARIO FECHA_REGISTRO  CANAL_REGISTRO  IND_CLIENTE  \\\n",
       "0     8107310          PF     2019-10-22               3            0   \n",
       "1     7784565          PJ     2019-05-14               3            0   \n",
       "2     7718778          PJ     2019-09-04               7            0   \n",
       "\n",
       "   IND_ALTA FECHA_ALTA FECHA_CLIENTE      TIPOEMAIL  BONDAD_EMAIL  USU_TELF  \\\n",
       "0         0      NoApl         NoApl  GOOHOTYAHMAIL             0  233XXXXX   \n",
       "1         0      NoApl         NoApl  GOOHOTYAHMAIL             1  633XXXXX   \n",
       "2         0      NoApl         NoApl  GOOHOTYAHMAIL             1  533XXXXX   \n",
       "\n",
       "   IPCASOS IP_Country        IP_Region                  USU_TIPO USU_TAMANIO  \\\n",
       "0        1   COLOMBIA  Valle del Cauca                     NoApl       NoApl   \n",
       "1        1   COLOMBIA        Antioquia  SOC_COMERCIAL_INDUSTRIAL          PQ   \n",
       "2        1   COLOMBIA          Bolivar  SOC_COMERCIAL_INDUSTRIAL          MC   \n",
       "\n",
       "  USU_CIIU USU_ESTADO USU_DEPARTAMENTO      PAIS             PIB_GRUPO  \n",
       "0    NoApl      NoApl            NoApl  COLOMBIA  Ingreso mediano alto  \n",
       "1    N7820     ACTIVA          QUINDIO  COLOMBIA  Ingreso mediano alto  \n",
       "2    G4774     ACTIVA        ATLANTICO  COLOMBIA  Ingreso mediano alto  "
      ]
     },
     "execution_count": 197,
     "metadata": {},
     "output_type": "execute_result"
    }
   ],
   "source": [
    "df_user.head(3)"
   ]
  },
  {
   "cell_type": "code",
   "execution_count": 198,
   "id": "through-apache",
   "metadata": {},
   "outputs": [],
   "source": [
    "df_user.drop(['PAIS'], axis = 1, inplace = True)"
   ]
  },
  {
   "cell_type": "markdown",
   "id": "found-vault",
   "metadata": {},
   "source": [
    "Comprobacion"
   ]
  },
  {
   "cell_type": "code",
   "execution_count": 199,
   "id": "analyzed-andrews",
   "metadata": {},
   "outputs": [
    {
     "data": {
      "text/plain": [
       "ID_USUARIO          0\n",
       "TIPOUSUARIO         0\n",
       "FECHA_REGISTRO      0\n",
       "CANAL_REGISTRO      0\n",
       "IND_CLIENTE         0\n",
       "IND_ALTA            0\n",
       "FECHA_ALTA          0\n",
       "FECHA_CLIENTE       0\n",
       "TIPOEMAIL           0\n",
       "BONDAD_EMAIL        0\n",
       "USU_TELF            0\n",
       "IPCASOS             0\n",
       "IP_Country          0\n",
       "IP_Region           0\n",
       "USU_TIPO            0\n",
       "USU_TAMANIO         0\n",
       "USU_CIIU            0\n",
       "USU_ESTADO          0\n",
       "USU_DEPARTAMENTO    0\n",
       "PIB_GRUPO           0\n",
       "dtype: int64"
      ]
     },
     "execution_count": 199,
     "metadata": {},
     "output_type": "execute_result"
    }
   ],
   "source": [
    "df_user.isna().sum()"
   ]
  },
  {
   "cell_type": "markdown",
   "id": "greek-theorem",
   "metadata": {},
   "source": [
    "**IDH**"
   ]
  },
  {
   "cell_type": "code",
   "execution_count": 200,
   "id": "occupied-falls",
   "metadata": {},
   "outputs": [],
   "source": [
    "df_catalog = pd.read_excel('Data/IDH_Paises.xlsx')"
   ]
  },
  {
   "cell_type": "code",
   "execution_count": 201,
   "id": "laden-lawyer",
   "metadata": {},
   "outputs": [
    {
     "data": {
      "text/html": [
       "<div>\n",
       "<style scoped>\n",
       "    .dataframe tbody tr th:only-of-type {\n",
       "        vertical-align: middle;\n",
       "    }\n",
       "\n",
       "    .dataframe tbody tr th {\n",
       "        vertical-align: top;\n",
       "    }\n",
       "\n",
       "    .dataframe thead th {\n",
       "        text-align: right;\n",
       "    }\n",
       "</style>\n",
       "<table border=\"1\" class=\"dataframe\">\n",
       "  <thead>\n",
       "    <tr style=\"text-align: right;\">\n",
       "      <th></th>\n",
       "      <th>PAIS</th>\n",
       "      <th>IDH_NUMBER</th>\n",
       "      <th>IDH_GROUP</th>\n",
       "    </tr>\n",
       "  </thead>\n",
       "  <tbody>\n",
       "    <tr>\n",
       "      <th>0</th>\n",
       "      <td>Colombia</td>\n",
       "      <td>0.767</td>\n",
       "      <td>Alto</td>\n",
       "    </tr>\n",
       "    <tr>\n",
       "      <th>1</th>\n",
       "      <td>NI</td>\n",
       "      <td>NI</td>\n",
       "      <td>NI</td>\n",
       "    </tr>\n",
       "    <tr>\n",
       "      <th>2</th>\n",
       "      <td>Estados Unidos</td>\n",
       "      <td>0.926</td>\n",
       "      <td>Muy Alto</td>\n",
       "    </tr>\n",
       "    <tr>\n",
       "      <th>3</th>\n",
       "      <td>Suiza</td>\n",
       "      <td>0.955</td>\n",
       "      <td>Muy Alto</td>\n",
       "    </tr>\n",
       "    <tr>\n",
       "      <th>4</th>\n",
       "      <td>Peru</td>\n",
       "      <td>0.778</td>\n",
       "      <td>Alto</td>\n",
       "    </tr>\n",
       "  </tbody>\n",
       "</table>\n",
       "</div>"
      ],
      "text/plain": [
       "             PAIS IDH_NUMBER IDH_GROUP\n",
       "0        Colombia      0.767      Alto\n",
       "1              NI         NI        NI\n",
       "2  Estados Unidos      0.926  Muy Alto\n",
       "3           Suiza      0.955  Muy Alto\n",
       "4            Peru      0.778      Alto"
      ]
     },
     "execution_count": 201,
     "metadata": {},
     "output_type": "execute_result"
    }
   ],
   "source": [
    "df_catalog.head(5)"
   ]
  },
  {
   "cell_type": "markdown",
   "id": "excess-chocolate",
   "metadata": {},
   "source": [
    "**Cambiaremos los valores de forma que eliminemos las tildes y ponemos en mayusculas**"
   ]
  },
  {
   "cell_type": "code",
   "execution_count": 202,
   "id": "organizational-plane",
   "metadata": {},
   "outputs": [],
   "source": [
    "def quitar_signo(s):\n",
    "    replacements = (\n",
    "        (\"á\", \"a\"),\n",
    "        (\"é\", \"e\"),\n",
    "        (\"í\", \"i\"),\n",
    "        (\"ó\", \"o\"),\n",
    "        (\"ú\", \"u\"),\n",
    "    )\n",
    "    for a, b in replacements:\n",
    "        s = s.replace(a, b).replace(a.upper(), b.upper())\n",
    "        \n",
    "    return s"
   ]
  },
  {
   "cell_type": "code",
   "execution_count": 203,
   "id": "royal-coordinator",
   "metadata": {},
   "outputs": [],
   "source": [
    "df_catalog['PAIS'] = df_catalog['PAIS'].apply(lambda x: quitar_signo(x)).str.upper()\n",
    "df_user['IP_Country'] = df_user['IP_Country'].apply(lambda x: quitar_signo(x)).str.upper()"
   ]
  },
  {
   "cell_type": "markdown",
   "id": "beginning-parker",
   "metadata": {},
   "source": [
    "**Agregamos la información**"
   ]
  },
  {
   "cell_type": "code",
   "execution_count": 204,
   "id": "insured-bible",
   "metadata": {},
   "outputs": [],
   "source": [
    "df_user = pd.merge(left = df_user, right = df_catalog, how = 'left', left_on = 'IP_Country', right_on = 'PAIS')"
   ]
  },
  {
   "cell_type": "code",
   "execution_count": 205,
   "id": "featured-marketing",
   "metadata": {},
   "outputs": [
    {
     "data": {
      "text/html": [
       "<div>\n",
       "<style scoped>\n",
       "    .dataframe tbody tr th:only-of-type {\n",
       "        vertical-align: middle;\n",
       "    }\n",
       "\n",
       "    .dataframe tbody tr th {\n",
       "        vertical-align: top;\n",
       "    }\n",
       "\n",
       "    .dataframe thead th {\n",
       "        text-align: right;\n",
       "    }\n",
       "</style>\n",
       "<table border=\"1\" class=\"dataframe\">\n",
       "  <thead>\n",
       "    <tr style=\"text-align: right;\">\n",
       "      <th></th>\n",
       "      <th>ID_USUARIO</th>\n",
       "      <th>TIPOUSUARIO</th>\n",
       "      <th>FECHA_REGISTRO</th>\n",
       "      <th>CANAL_REGISTRO</th>\n",
       "      <th>IND_CLIENTE</th>\n",
       "      <th>IND_ALTA</th>\n",
       "      <th>FECHA_ALTA</th>\n",
       "      <th>FECHA_CLIENTE</th>\n",
       "      <th>TIPOEMAIL</th>\n",
       "      <th>BONDAD_EMAIL</th>\n",
       "      <th>USU_TELF</th>\n",
       "      <th>IPCASOS</th>\n",
       "      <th>IP_Country</th>\n",
       "      <th>IP_Region</th>\n",
       "      <th>USU_TIPO</th>\n",
       "      <th>USU_TAMANIO</th>\n",
       "      <th>USU_CIIU</th>\n",
       "      <th>USU_ESTADO</th>\n",
       "      <th>USU_DEPARTAMENTO</th>\n",
       "      <th>PIB_GRUPO</th>\n",
       "      <th>PAIS</th>\n",
       "      <th>IDH_NUMBER</th>\n",
       "      <th>IDH_GROUP</th>\n",
       "    </tr>\n",
       "  </thead>\n",
       "  <tbody>\n",
       "    <tr>\n",
       "      <th>0</th>\n",
       "      <td>8107310</td>\n",
       "      <td>PF</td>\n",
       "      <td>2019-10-22</td>\n",
       "      <td>3</td>\n",
       "      <td>0</td>\n",
       "      <td>0</td>\n",
       "      <td>NoApl</td>\n",
       "      <td>NoApl</td>\n",
       "      <td>GOOHOTYAHMAIL</td>\n",
       "      <td>0</td>\n",
       "      <td>233XXXXX</td>\n",
       "      <td>1</td>\n",
       "      <td>COLOMBIA</td>\n",
       "      <td>Valle del Cauca</td>\n",
       "      <td>NoApl</td>\n",
       "      <td>NoApl</td>\n",
       "      <td>NoApl</td>\n",
       "      <td>NoApl</td>\n",
       "      <td>NoApl</td>\n",
       "      <td>Ingreso mediano alto</td>\n",
       "      <td>COLOMBIA</td>\n",
       "      <td>0.767</td>\n",
       "      <td>Alto</td>\n",
       "    </tr>\n",
       "    <tr>\n",
       "      <th>1</th>\n",
       "      <td>7784565</td>\n",
       "      <td>PJ</td>\n",
       "      <td>2019-05-14</td>\n",
       "      <td>3</td>\n",
       "      <td>0</td>\n",
       "      <td>0</td>\n",
       "      <td>NoApl</td>\n",
       "      <td>NoApl</td>\n",
       "      <td>GOOHOTYAHMAIL</td>\n",
       "      <td>1</td>\n",
       "      <td>633XXXXX</td>\n",
       "      <td>1</td>\n",
       "      <td>COLOMBIA</td>\n",
       "      <td>Antioquia</td>\n",
       "      <td>SOC_COMERCIAL_INDUSTRIAL</td>\n",
       "      <td>PQ</td>\n",
       "      <td>N7820</td>\n",
       "      <td>ACTIVA</td>\n",
       "      <td>QUINDIO</td>\n",
       "      <td>Ingreso mediano alto</td>\n",
       "      <td>COLOMBIA</td>\n",
       "      <td>0.767</td>\n",
       "      <td>Alto</td>\n",
       "    </tr>\n",
       "    <tr>\n",
       "      <th>2</th>\n",
       "      <td>7718778</td>\n",
       "      <td>PJ</td>\n",
       "      <td>2019-09-04</td>\n",
       "      <td>7</td>\n",
       "      <td>0</td>\n",
       "      <td>0</td>\n",
       "      <td>NoApl</td>\n",
       "      <td>NoApl</td>\n",
       "      <td>GOOHOTYAHMAIL</td>\n",
       "      <td>1</td>\n",
       "      <td>533XXXXX</td>\n",
       "      <td>1</td>\n",
       "      <td>COLOMBIA</td>\n",
       "      <td>Bolivar</td>\n",
       "      <td>SOC_COMERCIAL_INDUSTRIAL</td>\n",
       "      <td>MC</td>\n",
       "      <td>G4774</td>\n",
       "      <td>ACTIVA</td>\n",
       "      <td>ATLANTICO</td>\n",
       "      <td>Ingreso mediano alto</td>\n",
       "      <td>COLOMBIA</td>\n",
       "      <td>0.767</td>\n",
       "      <td>Alto</td>\n",
       "    </tr>\n",
       "  </tbody>\n",
       "</table>\n",
       "</div>"
      ],
      "text/plain": [
       "   ID_USUARIO TIPOUSUARIO FECHA_REGISTRO  CANAL_REGISTRO  IND_CLIENTE  \\\n",
       "0     8107310          PF     2019-10-22               3            0   \n",
       "1     7784565          PJ     2019-05-14               3            0   \n",
       "2     7718778          PJ     2019-09-04               7            0   \n",
       "\n",
       "   IND_ALTA FECHA_ALTA FECHA_CLIENTE      TIPOEMAIL  BONDAD_EMAIL  USU_TELF  \\\n",
       "0         0      NoApl         NoApl  GOOHOTYAHMAIL             0  233XXXXX   \n",
       "1         0      NoApl         NoApl  GOOHOTYAHMAIL             1  633XXXXX   \n",
       "2         0      NoApl         NoApl  GOOHOTYAHMAIL             1  533XXXXX   \n",
       "\n",
       "   IPCASOS IP_Country        IP_Region                  USU_TIPO USU_TAMANIO  \\\n",
       "0        1   COLOMBIA  Valle del Cauca                     NoApl       NoApl   \n",
       "1        1   COLOMBIA        Antioquia  SOC_COMERCIAL_INDUSTRIAL          PQ   \n",
       "2        1   COLOMBIA          Bolivar  SOC_COMERCIAL_INDUSTRIAL          MC   \n",
       "\n",
       "  USU_CIIU USU_ESTADO USU_DEPARTAMENTO             PIB_GRUPO      PAIS  \\\n",
       "0    NoApl      NoApl            NoApl  Ingreso mediano alto  COLOMBIA   \n",
       "1    N7820     ACTIVA          QUINDIO  Ingreso mediano alto  COLOMBIA   \n",
       "2    G4774     ACTIVA        ATLANTICO  Ingreso mediano alto  COLOMBIA   \n",
       "\n",
       "  IDH_NUMBER IDH_GROUP  \n",
       "0      0.767      Alto  \n",
       "1      0.767      Alto  \n",
       "2      0.767      Alto  "
      ]
     },
     "execution_count": 205,
     "metadata": {},
     "output_type": "execute_result"
    }
   ],
   "source": [
    "df_user.head(3)"
   ]
  },
  {
   "cell_type": "code",
   "execution_count": 206,
   "id": "contained-browser",
   "metadata": {},
   "outputs": [],
   "source": [
    "df_user.drop(['PAIS'], axis = 1, inplace = True)"
   ]
  },
  {
   "cell_type": "markdown",
   "id": "usual-louis",
   "metadata": {},
   "source": [
    "Comprobacion"
   ]
  },
  {
   "cell_type": "code",
   "execution_count": 207,
   "id": "complete-battle",
   "metadata": {},
   "outputs": [
    {
     "data": {
      "text/plain": [
       "ID_USUARIO          0\n",
       "TIPOUSUARIO         0\n",
       "FECHA_REGISTRO      0\n",
       "CANAL_REGISTRO      0\n",
       "IND_CLIENTE         0\n",
       "IND_ALTA            0\n",
       "FECHA_ALTA          0\n",
       "FECHA_CLIENTE       0\n",
       "TIPOEMAIL           0\n",
       "BONDAD_EMAIL        0\n",
       "USU_TELF            0\n",
       "IPCASOS             0\n",
       "IP_Country          0\n",
       "IP_Region           0\n",
       "USU_TIPO            0\n",
       "USU_TAMANIO         0\n",
       "USU_CIIU            0\n",
       "USU_ESTADO          0\n",
       "USU_DEPARTAMENTO    0\n",
       "PIB_GRUPO           0\n",
       "IDH_NUMBER          0\n",
       "IDH_GROUP           0\n",
       "dtype: int64"
      ]
     },
     "execution_count": 207,
     "metadata": {},
     "output_type": "execute_result"
    }
   ],
   "source": [
    "df_user.isna().sum()"
   ]
  },
  {
   "cell_type": "markdown",
   "id": "complete-sending",
   "metadata": {},
   "source": [
    "-------------------------------------------------"
   ]
  },
  {
   "cell_type": "markdown",
   "id": "verbal-clause",
   "metadata": {},
   "source": [
    "**10. USU_TELF**"
   ]
  },
  {
   "cell_type": "markdown",
   "id": "fatal-collect",
   "metadata": {},
   "source": [
    "A continuación realizaremos la transformación sobre el número de telefono del usuario y extraeremos la información que nos puede aportar.\n",
    "\n",
    "Los telefonos colombianos siguen el siguiente patrón:\n",
    "* MMM -XXX-XXXX -> Teléfono móvil (MMM es el operador)\n",
    "* BNXX-XXXX -> Teléfono local\n",
    "    * Si N == 9, el teléfono es público\n",
    "    * En caso contrario no es público.\n",
    "    \n",
    "Además B representa la zona del número (Departamento).\n",
    "* 1: Bogotá y Cundinamarca\n",
    "* 2 Valle del Cauca , Cauca y Nariño\n",
    "* 4 Antioquia , Chocó y Córdoba\n",
    "* 5 Atlántico , Bolívar , Cesar , La Guajira , Magdalena y Sucre\n",
    "* 6 Caldas , Risaralda y Quindío\n",
    "* 7 Norte de Santander , Santander y Arauca\n",
    "* 8 departamentos de Boyacá , Tolima , Huila , San Andrés , Meta , Caquetá y el Amazonas y el Orinoco (Casanare , Vichada , Guainía, Vaupés , Guaviare , Amazonas y Putumayo)\n",
    "\n",
    "Se considerará un Teléfono extranjero en caso que el número no tenga las longitudes 8 o 10. O no esté en ninguna de las posibilidades anteriores."
   ]
  },
  {
   "cell_type": "markdown",
   "id": "black-assumption",
   "metadata": {},
   "source": [
    "**Generamos una columna con la longitud del número de teléfono**"
   ]
  },
  {
   "cell_type": "code",
   "execution_count": 208,
   "id": "curious-animal",
   "metadata": {},
   "outputs": [],
   "source": [
    "df_user['LEN_TLF'] = df_user['USU_TELF'].apply(lambda x: len(x))"
   ]
  },
  {
   "cell_type": "code",
   "execution_count": 209,
   "id": "trying-investor",
   "metadata": {},
   "outputs": [
    {
     "data": {
      "text/plain": [
       "10    163806\n",
       "8      53758\n",
       "9      53203\n",
       "11     45883\n",
       "12     26946\n",
       "7      24035\n",
       "15         2\n",
       "6          1\n",
       "13         1\n",
       "14         1\n",
       "20         1\n",
       "Name: LEN_TLF, dtype: int64"
      ]
     },
     "execution_count": 209,
     "metadata": {},
     "output_type": "execute_result"
    }
   ],
   "source": [
    "df_user['LEN_TLF'].value_counts()"
   ]
  },
  {
   "cell_type": "markdown",
   "id": "fresh-roads",
   "metadata": {},
   "source": [
    "**En la variable USU_TELF eliminamos las X**"
   ]
  },
  {
   "cell_type": "code",
   "execution_count": 210,
   "id": "honey-listing",
   "metadata": {},
   "outputs": [],
   "source": [
    "df_user['USU_TELF'] = df_user['USU_TELF'].apply(lambda x: x.replace('X',''))"
   ]
  },
  {
   "cell_type": "markdown",
   "id": "qualified-currency",
   "metadata": {},
   "source": [
    "**Generamos nuestra nueva variable, que vamos a utilizar para sustituir nuestra variable USU_TELF**"
   ]
  },
  {
   "cell_type": "code",
   "execution_count": 211,
   "id": "olive-rocket",
   "metadata": {},
   "outputs": [],
   "source": [
    "df_user['TIPO_TELF'] = 'EXTRANJERO'"
   ]
  },
  {
   "cell_type": "code",
   "execution_count": 212,
   "id": "crude-wichita",
   "metadata": {},
   "outputs": [],
   "source": [
    "df_user.loc[df_user['LEN_TLF'] == 10 ,'TIPO_TELF'] = 'MOVIL'"
   ]
  },
  {
   "cell_type": "code",
   "execution_count": 213,
   "id": "stupid-storm",
   "metadata": {},
   "outputs": [],
   "source": [
    "df_user.loc[(df_user['LEN_TLF'] == 8) & (df_user['USU_TELF'].str[1] == '9'),'TIPO_TELF'] = 'PUBLICO'"
   ]
  },
  {
   "cell_type": "code",
   "execution_count": 214,
   "id": "persistent-focus",
   "metadata": {},
   "outputs": [],
   "source": [
    "df_user.loc[(df_user['LEN_TLF'] == 8) & (df_user['USU_TELF'].str[1] != '9'),'TIPO_TELF'] = 'NO_PUBLICO'"
   ]
  },
  {
   "cell_type": "markdown",
   "id": "turned-isolation",
   "metadata": {},
   "source": [
    "**Comprobación**"
   ]
  },
  {
   "cell_type": "code",
   "execution_count": 215,
   "id": "funky-pollution",
   "metadata": {},
   "outputs": [
    {
     "data": {
      "text/plain": [
       "MOVIL         163806\n",
       "EXTRANJERO    150073\n",
       "NO_PUBLICO     53758\n",
       "Name: TIPO_TELF, dtype: int64"
      ]
     },
     "execution_count": 215,
     "metadata": {},
     "output_type": "execute_result"
    }
   ],
   "source": [
    "df_user['TIPO_TELF'].value_counts()"
   ]
  },
  {
   "cell_type": "markdown",
   "id": "fundamental-breeding",
   "metadata": {},
   "source": [
    "**Eliminamos las variables LEN_TLF y USU_TELF**"
   ]
  },
  {
   "cell_type": "code",
   "execution_count": 216,
   "id": "hearing-steam",
   "metadata": {},
   "outputs": [],
   "source": [
    "df_user.drop(['LEN_TLF','USU_TELF'], axis = 1, inplace = True)"
   ]
  },
  {
   "cell_type": "code",
   "execution_count": 217,
   "id": "applied-heather",
   "metadata": {},
   "outputs": [
    {
     "data": {
      "text/html": [
       "<div>\n",
       "<style scoped>\n",
       "    .dataframe tbody tr th:only-of-type {\n",
       "        vertical-align: middle;\n",
       "    }\n",
       "\n",
       "    .dataframe tbody tr th {\n",
       "        vertical-align: top;\n",
       "    }\n",
       "\n",
       "    .dataframe thead th {\n",
       "        text-align: right;\n",
       "    }\n",
       "</style>\n",
       "<table border=\"1\" class=\"dataframe\">\n",
       "  <thead>\n",
       "    <tr style=\"text-align: right;\">\n",
       "      <th></th>\n",
       "      <th>ID_USUARIO</th>\n",
       "      <th>TIPOUSUARIO</th>\n",
       "      <th>FECHA_REGISTRO</th>\n",
       "      <th>CANAL_REGISTRO</th>\n",
       "      <th>IND_CLIENTE</th>\n",
       "      <th>IND_ALTA</th>\n",
       "      <th>FECHA_ALTA</th>\n",
       "      <th>FECHA_CLIENTE</th>\n",
       "      <th>TIPOEMAIL</th>\n",
       "      <th>BONDAD_EMAIL</th>\n",
       "      <th>IPCASOS</th>\n",
       "      <th>IP_Country</th>\n",
       "      <th>IP_Region</th>\n",
       "      <th>USU_TIPO</th>\n",
       "      <th>USU_TAMANIO</th>\n",
       "      <th>USU_CIIU</th>\n",
       "      <th>USU_ESTADO</th>\n",
       "      <th>USU_DEPARTAMENTO</th>\n",
       "      <th>PIB_GRUPO</th>\n",
       "      <th>IDH_NUMBER</th>\n",
       "      <th>IDH_GROUP</th>\n",
       "      <th>TIPO_TELF</th>\n",
       "    </tr>\n",
       "  </thead>\n",
       "  <tbody>\n",
       "    <tr>\n",
       "      <th>0</th>\n",
       "      <td>8107310</td>\n",
       "      <td>PF</td>\n",
       "      <td>2019-10-22</td>\n",
       "      <td>3</td>\n",
       "      <td>0</td>\n",
       "      <td>0</td>\n",
       "      <td>NoApl</td>\n",
       "      <td>NoApl</td>\n",
       "      <td>GOOHOTYAHMAIL</td>\n",
       "      <td>0</td>\n",
       "      <td>1</td>\n",
       "      <td>COLOMBIA</td>\n",
       "      <td>Valle del Cauca</td>\n",
       "      <td>NoApl</td>\n",
       "      <td>NoApl</td>\n",
       "      <td>NoApl</td>\n",
       "      <td>NoApl</td>\n",
       "      <td>NoApl</td>\n",
       "      <td>Ingreso mediano alto</td>\n",
       "      <td>0.767</td>\n",
       "      <td>Alto</td>\n",
       "      <td>NO_PUBLICO</td>\n",
       "    </tr>\n",
       "    <tr>\n",
       "      <th>1</th>\n",
       "      <td>7784565</td>\n",
       "      <td>PJ</td>\n",
       "      <td>2019-05-14</td>\n",
       "      <td>3</td>\n",
       "      <td>0</td>\n",
       "      <td>0</td>\n",
       "      <td>NoApl</td>\n",
       "      <td>NoApl</td>\n",
       "      <td>GOOHOTYAHMAIL</td>\n",
       "      <td>1</td>\n",
       "      <td>1</td>\n",
       "      <td>COLOMBIA</td>\n",
       "      <td>Antioquia</td>\n",
       "      <td>SOC_COMERCIAL_INDUSTRIAL</td>\n",
       "      <td>PQ</td>\n",
       "      <td>N7820</td>\n",
       "      <td>ACTIVA</td>\n",
       "      <td>QUINDIO</td>\n",
       "      <td>Ingreso mediano alto</td>\n",
       "      <td>0.767</td>\n",
       "      <td>Alto</td>\n",
       "      <td>NO_PUBLICO</td>\n",
       "    </tr>\n",
       "    <tr>\n",
       "      <th>2</th>\n",
       "      <td>7718778</td>\n",
       "      <td>PJ</td>\n",
       "      <td>2019-09-04</td>\n",
       "      <td>7</td>\n",
       "      <td>0</td>\n",
       "      <td>0</td>\n",
       "      <td>NoApl</td>\n",
       "      <td>NoApl</td>\n",
       "      <td>GOOHOTYAHMAIL</td>\n",
       "      <td>1</td>\n",
       "      <td>1</td>\n",
       "      <td>COLOMBIA</td>\n",
       "      <td>Bolivar</td>\n",
       "      <td>SOC_COMERCIAL_INDUSTRIAL</td>\n",
       "      <td>MC</td>\n",
       "      <td>G4774</td>\n",
       "      <td>ACTIVA</td>\n",
       "      <td>ATLANTICO</td>\n",
       "      <td>Ingreso mediano alto</td>\n",
       "      <td>0.767</td>\n",
       "      <td>Alto</td>\n",
       "      <td>NO_PUBLICO</td>\n",
       "    </tr>\n",
       "    <tr>\n",
       "      <th>3</th>\n",
       "      <td>7952765</td>\n",
       "      <td>PF</td>\n",
       "      <td>2019-12-08</td>\n",
       "      <td>3</td>\n",
       "      <td>0</td>\n",
       "      <td>0</td>\n",
       "      <td>NoApl</td>\n",
       "      <td>NoApl</td>\n",
       "      <td>DOCENTE</td>\n",
       "      <td>1</td>\n",
       "      <td>1</td>\n",
       "      <td>COLOMBIA</td>\n",
       "      <td>Risaralda</td>\n",
       "      <td>NoApl</td>\n",
       "      <td>NoApl</td>\n",
       "      <td>NoApl</td>\n",
       "      <td>NoApl</td>\n",
       "      <td>NoApl</td>\n",
       "      <td>Ingreso mediano alto</td>\n",
       "      <td>0.767</td>\n",
       "      <td>Alto</td>\n",
       "      <td>NO_PUBLICO</td>\n",
       "    </tr>\n",
       "    <tr>\n",
       "      <th>4</th>\n",
       "      <td>7855424</td>\n",
       "      <td>PJ</td>\n",
       "      <td>2019-06-21</td>\n",
       "      <td>7</td>\n",
       "      <td>0</td>\n",
       "      <td>0</td>\n",
       "      <td>NoApl</td>\n",
       "      <td>NoApl</td>\n",
       "      <td>GOOHOTYAHMAIL</td>\n",
       "      <td>1</td>\n",
       "      <td>1</td>\n",
       "      <td>COLOMBIA</td>\n",
       "      <td>Atlántico</td>\n",
       "      <td>EMPRESARIO INDIVIDUAL</td>\n",
       "      <td>MC</td>\n",
       "      <td>N8299</td>\n",
       "      <td>INACTIVA</td>\n",
       "      <td>ATLANTICO</td>\n",
       "      <td>Ingreso mediano alto</td>\n",
       "      <td>0.767</td>\n",
       "      <td>Alto</td>\n",
       "      <td>NO_PUBLICO</td>\n",
       "    </tr>\n",
       "  </tbody>\n",
       "</table>\n",
       "</div>"
      ],
      "text/plain": [
       "   ID_USUARIO TIPOUSUARIO FECHA_REGISTRO  CANAL_REGISTRO  IND_CLIENTE  \\\n",
       "0     8107310          PF     2019-10-22               3            0   \n",
       "1     7784565          PJ     2019-05-14               3            0   \n",
       "2     7718778          PJ     2019-09-04               7            0   \n",
       "3     7952765          PF     2019-12-08               3            0   \n",
       "4     7855424          PJ     2019-06-21               7            0   \n",
       "\n",
       "   IND_ALTA FECHA_ALTA FECHA_CLIENTE      TIPOEMAIL  BONDAD_EMAIL  IPCASOS  \\\n",
       "0         0      NoApl         NoApl  GOOHOTYAHMAIL             0        1   \n",
       "1         0      NoApl         NoApl  GOOHOTYAHMAIL             1        1   \n",
       "2         0      NoApl         NoApl  GOOHOTYAHMAIL             1        1   \n",
       "3         0      NoApl         NoApl        DOCENTE             1        1   \n",
       "4         0      NoApl         NoApl  GOOHOTYAHMAIL             1        1   \n",
       "\n",
       "  IP_Country        IP_Region                  USU_TIPO USU_TAMANIO USU_CIIU  \\\n",
       "0   COLOMBIA  Valle del Cauca                     NoApl       NoApl    NoApl   \n",
       "1   COLOMBIA        Antioquia  SOC_COMERCIAL_INDUSTRIAL          PQ    N7820   \n",
       "2   COLOMBIA          Bolivar  SOC_COMERCIAL_INDUSTRIAL          MC    G4774   \n",
       "3   COLOMBIA        Risaralda                     NoApl       NoApl    NoApl   \n",
       "4   COLOMBIA        Atlántico     EMPRESARIO INDIVIDUAL          MC    N8299   \n",
       "\n",
       "  USU_ESTADO USU_DEPARTAMENTO             PIB_GRUPO IDH_NUMBER IDH_GROUP  \\\n",
       "0      NoApl            NoApl  Ingreso mediano alto      0.767      Alto   \n",
       "1     ACTIVA          QUINDIO  Ingreso mediano alto      0.767      Alto   \n",
       "2     ACTIVA        ATLANTICO  Ingreso mediano alto      0.767      Alto   \n",
       "3      NoApl            NoApl  Ingreso mediano alto      0.767      Alto   \n",
       "4   INACTIVA        ATLANTICO  Ingreso mediano alto      0.767      Alto   \n",
       "\n",
       "    TIPO_TELF  \n",
       "0  NO_PUBLICO  \n",
       "1  NO_PUBLICO  \n",
       "2  NO_PUBLICO  \n",
       "3  NO_PUBLICO  \n",
       "4  NO_PUBLICO  "
      ]
     },
     "execution_count": 217,
     "metadata": {},
     "output_type": "execute_result"
    }
   ],
   "source": [
    "df_user.head(5)"
   ]
  },
  {
   "cell_type": "markdown",
   "id": "configured-database",
   "metadata": {},
   "source": [
    "-------------------------------------------------"
   ]
  },
  {
   "cell_type": "markdown",
   "id": "mineral-sheriff",
   "metadata": {},
   "source": [
    "**11. USU_CIIU**"
   ]
  },
  {
   "cell_type": "markdown",
   "id": "black-bench",
   "metadata": {},
   "source": [
    "A continuación analizaremos si se puede o no obtener información de esta variable, que nos aporte variabilidad a nuestro modelo.\n",
    "\n",
    "Para ello se utilizará un catálogo extraído de la página del DANE."
   ]
  },
  {
   "cell_type": "code",
   "execution_count": 218,
   "id": "editorial-algorithm",
   "metadata": {},
   "outputs": [],
   "source": [
    "df_catalog = pd.read_excel('Data/Estructura_detallada_organizacion_economica.xlsx')"
   ]
  },
  {
   "cell_type": "code",
   "execution_count": 219,
   "id": "designed-forestry",
   "metadata": {},
   "outputs": [
    {
     "data": {
      "text/html": [
       "<div>\n",
       "<style scoped>\n",
       "    .dataframe tbody tr th:only-of-type {\n",
       "        vertical-align: middle;\n",
       "    }\n",
       "\n",
       "    .dataframe tbody tr th {\n",
       "        vertical-align: top;\n",
       "    }\n",
       "\n",
       "    .dataframe thead th {\n",
       "        text-align: right;\n",
       "    }\n",
       "</style>\n",
       "<table border=\"1\" class=\"dataframe\">\n",
       "  <thead>\n",
       "    <tr style=\"text-align: right;\">\n",
       "      <th></th>\n",
       "      <th>SECCION</th>\n",
       "      <th>SECCION_DESC</th>\n",
       "      <th>DIVISION</th>\n",
       "      <th>DIVISION_DESC</th>\n",
       "      <th>GRUPO</th>\n",
       "      <th>GRUPO_DESC</th>\n",
       "      <th>CLASE</th>\n",
       "      <th>CLASE_DESC</th>\n",
       "    </tr>\n",
       "  </thead>\n",
       "  <tbody>\n",
       "    <tr>\n",
       "      <th>0</th>\n",
       "      <td>A</td>\n",
       "      <td>AGRICULTURA, GANADERÍA, CAZA, SILVICULTURA Y P...</td>\n",
       "      <td>1</td>\n",
       "      <td>Agricultura, ganadería, caza y actividades de ...</td>\n",
       "      <td>11</td>\n",
       "      <td>Cultivos agrícolas transitorios</td>\n",
       "      <td>111</td>\n",
       "      <td>Cultivo de cereales (excepto arroz), legumbres...</td>\n",
       "    </tr>\n",
       "    <tr>\n",
       "      <th>1</th>\n",
       "      <td>A</td>\n",
       "      <td>AGRICULTURA, GANADERÍA, CAZA, SILVICULTURA Y P...</td>\n",
       "      <td>1</td>\n",
       "      <td>Agricultura, ganadería, caza y actividades de ...</td>\n",
       "      <td>11</td>\n",
       "      <td>Cultivos agrícolas transitorios</td>\n",
       "      <td>112</td>\n",
       "      <td>Cultivo de arroz</td>\n",
       "    </tr>\n",
       "    <tr>\n",
       "      <th>2</th>\n",
       "      <td>A</td>\n",
       "      <td>AGRICULTURA, GANADERÍA, CAZA, SILVICULTURA Y P...</td>\n",
       "      <td>1</td>\n",
       "      <td>Agricultura, ganadería, caza y actividades de ...</td>\n",
       "      <td>11</td>\n",
       "      <td>Cultivos agrícolas transitorios</td>\n",
       "      <td>113</td>\n",
       "      <td>Cultivo de hortalizas, raíces y tubérculos</td>\n",
       "    </tr>\n",
       "  </tbody>\n",
       "</table>\n",
       "</div>"
      ],
      "text/plain": [
       "  SECCION                                       SECCION_DESC  DIVISION  \\\n",
       "0       A  AGRICULTURA, GANADERÍA, CAZA, SILVICULTURA Y P...         1   \n",
       "1       A  AGRICULTURA, GANADERÍA, CAZA, SILVICULTURA Y P...         1   \n",
       "2       A  AGRICULTURA, GANADERÍA, CAZA, SILVICULTURA Y P...         1   \n",
       "\n",
       "                                       DIVISION_DESC  GRUPO  \\\n",
       "0  Agricultura, ganadería, caza y actividades de ...     11   \n",
       "1  Agricultura, ganadería, caza y actividades de ...     11   \n",
       "2  Agricultura, ganadería, caza y actividades de ...     11   \n",
       "\n",
       "                        GRUPO_DESC  CLASE  \\\n",
       "0  Cultivos agrícolas transitorios    111   \n",
       "1  Cultivos agrícolas transitorios    112   \n",
       "2  Cultivos agrícolas transitorios    113   \n",
       "\n",
       "                                          CLASE_DESC  \n",
       "0  Cultivo de cereales (excepto arroz), legumbres...  \n",
       "1                                   Cultivo de arroz  \n",
       "2         Cultivo de hortalizas, raíces y tubérculos  "
      ]
     },
     "execution_count": 219,
     "metadata": {},
     "output_type": "execute_result"
    }
   ],
   "source": [
    "df_catalog.head(3)"
   ]
  },
  {
   "cell_type": "code",
   "execution_count": 220,
   "id": "otherwise-boulder",
   "metadata": {},
   "outputs": [],
   "source": [
    "df_catalog['CLASE'] = df_catalog['CLASE'].astype('str').apply(lambda x: x.zfill(4))"
   ]
  },
  {
   "cell_type": "markdown",
   "id": "fatty-cheese",
   "metadata": {},
   "source": [
    "**Únicamente nos interesa conocer la sección, division y grupo de actividad económica. Ya que la clase aporta demasiada información, que podría llegara generar ruido**"
   ]
  },
  {
   "cell_type": "code",
   "execution_count": 221,
   "id": "geological-flexibility",
   "metadata": {},
   "outputs": [],
   "source": [
    "df_catalog = df_catalog[['CLASE','SECCION_DESC']]"
   ]
  },
  {
   "cell_type": "code",
   "execution_count": 222,
   "id": "electronic-cursor",
   "metadata": {},
   "outputs": [
    {
     "data": {
      "text/html": [
       "<div>\n",
       "<style scoped>\n",
       "    .dataframe tbody tr th:only-of-type {\n",
       "        vertical-align: middle;\n",
       "    }\n",
       "\n",
       "    .dataframe tbody tr th {\n",
       "        vertical-align: top;\n",
       "    }\n",
       "\n",
       "    .dataframe thead th {\n",
       "        text-align: right;\n",
       "    }\n",
       "</style>\n",
       "<table border=\"1\" class=\"dataframe\">\n",
       "  <thead>\n",
       "    <tr style=\"text-align: right;\">\n",
       "      <th></th>\n",
       "      <th>CLASE</th>\n",
       "      <th>SECCION_DESC</th>\n",
       "    </tr>\n",
       "  </thead>\n",
       "  <tbody>\n",
       "    <tr>\n",
       "      <th>0</th>\n",
       "      <td>0111</td>\n",
       "      <td>AGRICULTURA, GANADERÍA, CAZA, SILVICULTURA Y P...</td>\n",
       "    </tr>\n",
       "    <tr>\n",
       "      <th>1</th>\n",
       "      <td>0112</td>\n",
       "      <td>AGRICULTURA, GANADERÍA, CAZA, SILVICULTURA Y P...</td>\n",
       "    </tr>\n",
       "    <tr>\n",
       "      <th>2</th>\n",
       "      <td>0113</td>\n",
       "      <td>AGRICULTURA, GANADERÍA, CAZA, SILVICULTURA Y P...</td>\n",
       "    </tr>\n",
       "  </tbody>\n",
       "</table>\n",
       "</div>"
      ],
      "text/plain": [
       "  CLASE                                       SECCION_DESC\n",
       "0  0111  AGRICULTURA, GANADERÍA, CAZA, SILVICULTURA Y P...\n",
       "1  0112  AGRICULTURA, GANADERÍA, CAZA, SILVICULTURA Y P...\n",
       "2  0113  AGRICULTURA, GANADERÍA, CAZA, SILVICULTURA Y P..."
      ]
     },
     "execution_count": 222,
     "metadata": {},
     "output_type": "execute_result"
    }
   ],
   "source": [
    "df_catalog.head(3)"
   ]
  },
  {
   "cell_type": "markdown",
   "id": "welsh-transparency",
   "metadata": {},
   "source": [
    "**Generamos la variable por la que cruzar, a partir de USU_CIIU**"
   ]
  },
  {
   "cell_type": "code",
   "execution_count": 223,
   "id": "pediatric-arrangement",
   "metadata": {},
   "outputs": [],
   "source": [
    "df_user['USU_CIIU_CLASE'] = df_user['USU_CIIU'].str[-4:]"
   ]
  },
  {
   "cell_type": "markdown",
   "id": "selective-knowing",
   "metadata": {},
   "source": [
    "**Agregamos la información del catálogo**"
   ]
  },
  {
   "cell_type": "code",
   "execution_count": 224,
   "id": "adaptive-yacht",
   "metadata": {},
   "outputs": [],
   "source": [
    "df_user = pd.merge(left = df_user, right = df_catalog, how = \"left\", left_on = \"USU_CIIU_CLASE\", right_on = \"CLASE\")"
   ]
  },
  {
   "cell_type": "markdown",
   "id": "similar-looking",
   "metadata": {},
   "source": [
    "**Comprobamos que todos los que han cruzado correctamente, y que los que no han cruzado, sea porque no aplican**"
   ]
  },
  {
   "cell_type": "code",
   "execution_count": 225,
   "id": "boxed-comparison",
   "metadata": {},
   "outputs": [
    {
     "data": {
      "text/plain": [
       "ID_USUARIO               0\n",
       "TIPOUSUARIO              0\n",
       "FECHA_REGISTRO           0\n",
       "CANAL_REGISTRO           0\n",
       "IND_CLIENTE              0\n",
       "IND_ALTA                 0\n",
       "FECHA_ALTA               0\n",
       "FECHA_CLIENTE            0\n",
       "TIPOEMAIL                0\n",
       "BONDAD_EMAIL             0\n",
       "IPCASOS                  0\n",
       "IP_Country               0\n",
       "IP_Region                0\n",
       "USU_TIPO                 0\n",
       "USU_TAMANIO              0\n",
       "USU_CIIU                 0\n",
       "USU_ESTADO               0\n",
       "USU_DEPARTAMENTO         0\n",
       "PIB_GRUPO                0\n",
       "IDH_NUMBER               0\n",
       "IDH_GROUP                0\n",
       "TIPO_TELF                0\n",
       "USU_CIIU_CLASE           0\n",
       "CLASE               287268\n",
       "SECCION_DESC        287268\n",
       "dtype: int64"
      ]
     },
     "execution_count": 225,
     "metadata": {},
     "output_type": "execute_result"
    }
   ],
   "source": [
    "df_user.isna().sum()"
   ]
  },
  {
   "cell_type": "code",
   "execution_count": 226,
   "id": "fewer-situation",
   "metadata": {},
   "outputs": [],
   "source": [
    "df_user.loc[df_user['USU_CIIU'].isin(['NoApl']), ['CLASE','SECCION_DESC']] = 'NoApl'\n",
    "df_user.loc[df_user['USU_CIIU'].isin(['SD']), ['CLASE','SECCION_DESC']] = 'SD'"
   ]
  },
  {
   "cell_type": "code",
   "execution_count": 227,
   "id": "express-investigator",
   "metadata": {},
   "outputs": [],
   "source": [
    "df_user.drop(['CLASE','USU_CIIU_CLASE','USU_CIIU'], axis = 1, inplace = True)"
   ]
  },
  {
   "cell_type": "code",
   "execution_count": 228,
   "id": "unexpected-tourist",
   "metadata": {},
   "outputs": [
    {
     "data": {
      "text/plain": [
       "ID_USUARIO             0\n",
       "TIPOUSUARIO            0\n",
       "FECHA_REGISTRO         0\n",
       "CANAL_REGISTRO         0\n",
       "IND_CLIENTE            0\n",
       "IND_ALTA               0\n",
       "FECHA_ALTA             0\n",
       "FECHA_CLIENTE          0\n",
       "TIPOEMAIL              0\n",
       "BONDAD_EMAIL           0\n",
       "IPCASOS                0\n",
       "IP_Country             0\n",
       "IP_Region              0\n",
       "USU_TIPO               0\n",
       "USU_TAMANIO            0\n",
       "USU_ESTADO             0\n",
       "USU_DEPARTAMENTO       0\n",
       "PIB_GRUPO              0\n",
       "IDH_NUMBER             0\n",
       "IDH_GROUP              0\n",
       "TIPO_TELF              0\n",
       "SECCION_DESC        3743\n",
       "dtype: int64"
      ]
     },
     "execution_count": 228,
     "metadata": {},
     "output_type": "execute_result"
    }
   ],
   "source": [
    "df_user.isna().sum()"
   ]
  },
  {
   "cell_type": "markdown",
   "id": "preliminary-vector",
   "metadata": {},
   "source": [
    "**Los restantes se considerarán como sin identificar (SD)**"
   ]
  },
  {
   "cell_type": "code",
   "execution_count": 229,
   "id": "powered-parking",
   "metadata": {},
   "outputs": [],
   "source": [
    "df_user.loc[(df_user['SECCION_DESC'].isna()), 'SECCION_DESC'] = 'SD'"
   ]
  },
  {
   "cell_type": "markdown",
   "id": "proved-first",
   "metadata": {},
   "source": [
    "**Comprobación**"
   ]
  },
  {
   "cell_type": "code",
   "execution_count": 230,
   "id": "outstanding-commonwealth",
   "metadata": {},
   "outputs": [
    {
     "data": {
      "text/plain": [
       "ID_USUARIO          0\n",
       "TIPOUSUARIO         0\n",
       "FECHA_REGISTRO      0\n",
       "CANAL_REGISTRO      0\n",
       "IND_CLIENTE         0\n",
       "IND_ALTA            0\n",
       "FECHA_ALTA          0\n",
       "FECHA_CLIENTE       0\n",
       "TIPOEMAIL           0\n",
       "BONDAD_EMAIL        0\n",
       "IPCASOS             0\n",
       "IP_Country          0\n",
       "IP_Region           0\n",
       "USU_TIPO            0\n",
       "USU_TAMANIO         0\n",
       "USU_ESTADO          0\n",
       "USU_DEPARTAMENTO    0\n",
       "PIB_GRUPO           0\n",
       "IDH_NUMBER          0\n",
       "IDH_GROUP           0\n",
       "TIPO_TELF           0\n",
       "SECCION_DESC        0\n",
       "dtype: int64"
      ]
     },
     "execution_count": 230,
     "metadata": {},
     "output_type": "execute_result"
    }
   ],
   "source": [
    "df_user.isna().sum()"
   ]
  },
  {
   "cell_type": "markdown",
   "id": "synthetic-cookie",
   "metadata": {},
   "source": [
    "**Simplificaremos los valores del campo añadido reduciendo las descripciones, segun los sectores económicos a los que pertenecen**:\n",
    "* **Sector primario**: el que obtiene productos directamente de la naturaleza, materias primas, creaciones, etc.\n",
    "* **Sector secundario**: el que transforma materias primas en productos terminados o semielaborados.\n",
    "* **Sector terciario**: es considerado como sector de servicios ya que no produce bienes, sino servicios.\n",
    "* **Sector cuaternario**: produce servicios relacionados con la información y el conocimiento tales como investigación, desarrollo, e innovación.\n",
    "* **Sector quinario**: actividades que no suelen medirse en términos monetarios, pero son una contribución fundamental a la economía.  Incluye los servicios sanitarios, la seguridad, los servicios de emergencia (bomberos, paramédicos), la educación, la cultura, la investigación y otros servicios sociales; si bien muchas de estas actividades se incluyen usualmente en el sector terciario y cuaternario. El sector quinario también incluye actividades domésticas "
   ]
  },
  {
   "cell_type": "code",
   "execution_count": 231,
   "id": "spiritual-quarter",
   "metadata": {},
   "outputs": [],
   "source": [
    "df_user['USU_SECTOR_ECONOMICO'] = None"
   ]
  },
  {
   "cell_type": "code",
   "execution_count": 232,
   "id": "administrative-nowhere",
   "metadata": {},
   "outputs": [],
   "source": [
    "# PRIMARIO\n",
    "df_user.loc[(df_user['SECCION_DESC'].isin(['AGRICULTURA, GANADERÍA, CAZA, SILVICULTURA Y PESCA',\n",
    "                                           'EXPLOTACIÓN DE MINAS Y CANTERAS'])), 'USU_SECTOR_ECONOMICO'] = 'PRIMARIO'\n",
    "# SECUNDARIO\n",
    "df_user.loc[(df_user['SECCION_DESC'].isin(['INDUSTRIAS MANUFACTURERAS',\n",
    "                                           'CONSTRUCCIÓN',\n",
    "                                           'SUMINISTRO DE ELECTRICIDAD, GAS, VAPOR Y AIRE ACONDICIONADO',\n",
    "                                           'DISTRIBUCIÓN DE AGUA; EVACUACIÓN Y TRATAMIENTO DE AGUAS RESIDUALES, GESTIÓN DE DESECHOS Y ACTIVIDADES DE SANEAMIENTO AMBIENTAL'\n",
    "                                           ''])), 'USU_SECTOR_ECONOMICO'] = 'SECUNDARIO'\n",
    "# TERCIARIO\n",
    "df_user.loc[(df_user['SECCION_DESC'].isin(['TRANSPORTE Y ALMACENAMIENTO',\n",
    "                                           'ACTIVIDADES DE SERVICIOS ADMINISTRATIVOS Y DE APOYO',\n",
    "                                           'ACTIVIDADES FINANCIERAS Y DE SEGUROS',\n",
    "                                           'OTRAS ACTIVIDADES DE SERVICIOS',\n",
    "                                           'COMERCIO AL POR MAYOR Y AL POR MENOR; REPARACIÓN DE VEHÍCULOS AUTOMOTORES Y MOTOCICLETAS',\n",
    "                                           'INFORMACIÓN Y COMUNICACIONES',\n",
    "                                           'ALOJAMIENTO Y SERVICIOS DE COMIDA',\n",
    "                                           'ACTIVIDADES INMOBILIARIAS',\n",
    "                                           'ACTIVIDADES DE ORGANIZACIONES Y ENTIDADES EXTRATERRITORIALES',\n",
    "                                           'ACTIVIDADES ARTÍSTICAS, DE ENTRETENIMIENTO Y RECREACIÓN'])), 'USU_SECTOR_ECONOMICO'] = 'TERCIARIO'\n",
    "# CUATERNARIO\n",
    "df_user.loc[(df_user['SECCION_DESC'].isin(['ACTIVIDADES PROFESIONALES, CIENTÍFICAS Y TÉCNICAS'])), 'USU_SECTOR_ECONOMICO'] = 'CUATERNARIO'\n",
    "\n",
    "# QUINARIO\n",
    "df_user.loc[(df_user['SECCION_DESC'].isin(['EDUCACIÓN',\n",
    "                                           'ACTIVIDADES DE ATENCIÓN DE LA SALUD HUMANA Y DE ASISTENCIA SOCIAL',\n",
    "                                           'ADMINISTRACIÓN PÚBLICA Y DEFENSA; PLANES DE SEGURIDAD SOCIAL DE AFILIACIÓN OBLIGATORIA',\n",
    "                                           'ACTIVIDADES DE LOS HOGARES INDIVIDUALES EN CALIDAD DE EMPLEADORES; ACTIVIDADES NO DIFERENCIADAS DE LOS HOGARES INDIVIDUALES COMO PRODUCTORES DE BIENES Y SERVICIOS PARA USO PROPIO'])), 'USU_SECTOR_ECONOMICO'] = 'QUINARIO'\n",
    "# SIN DEFINIR\n",
    "df_user.loc[(df_user['SECCION_DESC'].isin(['SD'])), 'USU_SECTOR_ECONOMICO'] = 'SD'\n",
    "\n",
    "# NO APLICA\n",
    "df_user.loc[(df_user['SECCION_DESC'].isin(['NoApl'])), 'USU_SECTOR_ECONOMICO'] = 'NoApl'"
   ]
  },
  {
   "cell_type": "markdown",
   "id": "distinguished-george",
   "metadata": {},
   "source": [
    "Comprobacion"
   ]
  },
  {
   "cell_type": "code",
   "execution_count": 233,
   "id": "rocky-crown",
   "metadata": {},
   "outputs": [
    {
     "data": {
      "image/png": "[encoded data removed]",
      "text/plain": [
       "<Figure size 432x288 with 1 Axes>"
      ]
     },
     "metadata": {
      "needs_background": "light"
     },
     "output_type": "display_data"
    }
   ],
   "source": [
    "df_user['USU_SECTOR_ECONOMICO'].value_counts().plot(kind = 'bar')\n",
    "plt.title('Distribución Registros por Sector económico')    \n",
    "plt.grid()\n",
    "plt.show()"
   ]
  },
  {
   "cell_type": "markdown",
   "id": "embedded-geneva",
   "metadata": {},
   "source": [
    "-------------------------------------------------"
   ]
  },
  {
   "cell_type": "markdown",
   "id": "occasional-feeling",
   "metadata": {},
   "source": [
    "**11. USU_DEPARTAMENTO**"
   ]
  },
  {
   "cell_type": "markdown",
   "id": "black-corruption",
   "metadata": {},
   "source": [
    "A continuación realizaremos la transformación sobre el departamento extraeremos la información que nos puede aportar utilizando un catálogo."
   ]
  },
  {
   "cell_type": "markdown",
   "id": "abandoned-kazakhstan",
   "metadata": {},
   "source": [
    "**En primer lugar cargamos el catálogo de los departamentos**"
   ]
  },
  {
   "cell_type": "code",
   "execution_count": 234,
   "id": "fifteen-blake",
   "metadata": {},
   "outputs": [],
   "source": [
    "df_catalog = pd.read_excel('Data/Departamentos_Colombia.xlsx')"
   ]
  },
  {
   "cell_type": "code",
   "execution_count": 235,
   "id": "yellow-structure",
   "metadata": {},
   "outputs": [
    {
     "data": {
      "text/html": [
       "<div>\n",
       "<style scoped>\n",
       "    .dataframe tbody tr th:only-of-type {\n",
       "        vertical-align: middle;\n",
       "    }\n",
       "\n",
       "    .dataframe tbody tr th {\n",
       "        vertical-align: top;\n",
       "    }\n",
       "\n",
       "    .dataframe thead th {\n",
       "        text-align: right;\n",
       "    }\n",
       "</style>\n",
       "<table border=\"1\" class=\"dataframe\">\n",
       "  <thead>\n",
       "    <tr style=\"text-align: right;\">\n",
       "      <th></th>\n",
       "      <th>Departamento</th>\n",
       "      <th>Municipios</th>\n",
       "      <th>Capital</th>\n",
       "      <th>Superficie_Km2</th>\n",
       "      <th>Poblacion</th>\n",
       "      <th>Densidad_Poblacion</th>\n",
       "      <th>IDH</th>\n",
       "    </tr>\n",
       "  </thead>\n",
       "  <tbody>\n",
       "    <tr>\n",
       "      <th>0</th>\n",
       "      <td>Amazonas</td>\n",
       "      <td>2</td>\n",
       "      <td>Leticia</td>\n",
       "      <td>109665</td>\n",
       "      <td>74541</td>\n",
       "      <td>0.68</td>\n",
       "      <td>0.768</td>\n",
       "    </tr>\n",
       "    <tr>\n",
       "      <th>1</th>\n",
       "      <td>Antioquia</td>\n",
       "      <td>125</td>\n",
       "      <td>Medellín</td>\n",
       "      <td>63612</td>\n",
       "      <td>6456207</td>\n",
       "      <td>101.49</td>\n",
       "      <td>0.849</td>\n",
       "    </tr>\n",
       "    <tr>\n",
       "      <th>2</th>\n",
       "      <td>Arauca</td>\n",
       "      <td>7</td>\n",
       "      <td>Arauca</td>\n",
       "      <td>23818</td>\n",
       "      <td>262315</td>\n",
       "      <td>11.01</td>\n",
       "      <td>0.804</td>\n",
       "    </tr>\n",
       "    <tr>\n",
       "      <th>3</th>\n",
       "      <td>Atlántico</td>\n",
       "      <td>23</td>\n",
       "      <td>Barranquilla</td>\n",
       "      <td>3019</td>\n",
       "      <td>2461001</td>\n",
       "      <td>815.17</td>\n",
       "      <td>0.835</td>\n",
       "    </tr>\n",
       "    <tr>\n",
       "      <th>4</th>\n",
       "      <td>Bogotá</td>\n",
       "      <td>1</td>\n",
       "      <td>Bogotá</td>\n",
       "      <td>1775</td>\n",
       "      <td>7878783</td>\n",
       "      <td>4438.75</td>\n",
       "      <td>0.904</td>\n",
       "    </tr>\n",
       "  </tbody>\n",
       "</table>\n",
       "</div>"
      ],
      "text/plain": [
       "  Departamento  Municipios       Capital  Superficie_Km2  Poblacion  \\\n",
       "0     Amazonas           2       Leticia          109665      74541   \n",
       "1    Antioquia         125      Medellín           63612    6456207   \n",
       "2       Arauca           7        Arauca           23818     262315   \n",
       "3    Atlántico          23  Barranquilla            3019    2461001   \n",
       "4       Bogotá           1        Bogotá            1775    7878783   \n",
       "\n",
       "   Densidad_Poblacion    IDH  \n",
       "0                0.68  0.768  \n",
       "1              101.49  0.849  \n",
       "2               11.01  0.804  \n",
       "3              815.17  0.835  \n",
       "4             4438.75  0.904  "
      ]
     },
     "execution_count": 235,
     "metadata": {},
     "output_type": "execute_result"
    }
   ],
   "source": [
    "df_catalog.head(5)"
   ]
  },
  {
   "cell_type": "markdown",
   "id": "compact-grenada",
   "metadata": {},
   "source": [
    "**Cambiaremos los valores de forma que eliminemos las tildes y ponemos en mayusculas**"
   ]
  },
  {
   "cell_type": "code",
   "execution_count": 236,
   "id": "charitable-graph",
   "metadata": {},
   "outputs": [],
   "source": [
    "def quitar_signo(s):\n",
    "    replacements = (\n",
    "        (\"á\", \"a\"),\n",
    "        (\"é\", \"e\"),\n",
    "        (\"í\", \"i\"),\n",
    "        (\"ó\", \"o\"),\n",
    "        (\"ú\", \"u\"),\n",
    "    )\n",
    "    for a, b in replacements:\n",
    "        s = s.replace(a, b).replace(a.upper(), b.upper())\n",
    "        \n",
    "    return s"
   ]
  },
  {
   "cell_type": "code",
   "execution_count": 237,
   "id": "preliminary-quick",
   "metadata": {},
   "outputs": [],
   "source": [
    "df_catalog['Departamento'] = df_catalog['Departamento'].apply(lambda x: quitar_signo(x)).str.upper()\n",
    "df_user['USU_DEPARTAMENTO'] = df_user['USU_DEPARTAMENTO'].apply(lambda x: quitar_signo(x)).str.upper()"
   ]
  },
  {
   "cell_type": "code",
   "execution_count": 238,
   "id": "optical-excerpt",
   "metadata": {},
   "outputs": [
    {
     "data": {
      "text/html": [
       "<div>\n",
       "<style scoped>\n",
       "    .dataframe tbody tr th:only-of-type {\n",
       "        vertical-align: middle;\n",
       "    }\n",
       "\n",
       "    .dataframe tbody tr th {\n",
       "        vertical-align: top;\n",
       "    }\n",
       "\n",
       "    .dataframe thead th {\n",
       "        text-align: right;\n",
       "    }\n",
       "</style>\n",
       "<table border=\"1\" class=\"dataframe\">\n",
       "  <thead>\n",
       "    <tr style=\"text-align: right;\">\n",
       "      <th></th>\n",
       "      <th>Departamento</th>\n",
       "      <th>Municipios</th>\n",
       "      <th>Capital</th>\n",
       "      <th>Superficie_Km2</th>\n",
       "      <th>Poblacion</th>\n",
       "      <th>Densidad_Poblacion</th>\n",
       "      <th>IDH</th>\n",
       "    </tr>\n",
       "  </thead>\n",
       "  <tbody>\n",
       "    <tr>\n",
       "      <th>0</th>\n",
       "      <td>AMAZONAS</td>\n",
       "      <td>2</td>\n",
       "      <td>Leticia</td>\n",
       "      <td>109665</td>\n",
       "      <td>74541</td>\n",
       "      <td>0.68</td>\n",
       "      <td>0.768</td>\n",
       "    </tr>\n",
       "    <tr>\n",
       "      <th>1</th>\n",
       "      <td>ANTIOQUIA</td>\n",
       "      <td>125</td>\n",
       "      <td>Medellín</td>\n",
       "      <td>63612</td>\n",
       "      <td>6456207</td>\n",
       "      <td>101.49</td>\n",
       "      <td>0.849</td>\n",
       "    </tr>\n",
       "    <tr>\n",
       "      <th>2</th>\n",
       "      <td>ARAUCA</td>\n",
       "      <td>7</td>\n",
       "      <td>Arauca</td>\n",
       "      <td>23818</td>\n",
       "      <td>262315</td>\n",
       "      <td>11.01</td>\n",
       "      <td>0.804</td>\n",
       "    </tr>\n",
       "    <tr>\n",
       "      <th>3</th>\n",
       "      <td>ATLANTICO</td>\n",
       "      <td>23</td>\n",
       "      <td>Barranquilla</td>\n",
       "      <td>3019</td>\n",
       "      <td>2461001</td>\n",
       "      <td>815.17</td>\n",
       "      <td>0.835</td>\n",
       "    </tr>\n",
       "    <tr>\n",
       "      <th>4</th>\n",
       "      <td>BOGOTA</td>\n",
       "      <td>1</td>\n",
       "      <td>Bogotá</td>\n",
       "      <td>1775</td>\n",
       "      <td>7878783</td>\n",
       "      <td>4438.75</td>\n",
       "      <td>0.904</td>\n",
       "    </tr>\n",
       "  </tbody>\n",
       "</table>\n",
       "</div>"
      ],
      "text/plain": [
       "  Departamento  Municipios       Capital  Superficie_Km2  Poblacion  \\\n",
       "0     AMAZONAS           2       Leticia          109665      74541   \n",
       "1    ANTIOQUIA         125      Medellín           63612    6456207   \n",
       "2       ARAUCA           7        Arauca           23818     262315   \n",
       "3    ATLANTICO          23  Barranquilla            3019    2461001   \n",
       "4       BOGOTA           1        Bogotá            1775    7878783   \n",
       "\n",
       "   Densidad_Poblacion    IDH  \n",
       "0                0.68  0.768  \n",
       "1              101.49  0.849  \n",
       "2               11.01  0.804  \n",
       "3              815.17  0.835  \n",
       "4             4438.75  0.904  "
      ]
     },
     "execution_count": 238,
     "metadata": {},
     "output_type": "execute_result"
    }
   ],
   "source": [
    "df_catalog.head(5)"
   ]
  },
  {
   "cell_type": "markdown",
   "id": "sticky-forge",
   "metadata": {},
   "source": [
    "**Agregamos la información**"
   ]
  },
  {
   "cell_type": "code",
   "execution_count": 239,
   "id": "premier-change",
   "metadata": {},
   "outputs": [],
   "source": [
    "df_catalog = df_catalog[['Departamento','Densidad_Poblacion','IDH']]"
   ]
  },
  {
   "cell_type": "code",
   "execution_count": 240,
   "id": "united-fiction",
   "metadata": {},
   "outputs": [],
   "source": [
    "df_user = pd.merge(left = df_user, right = df_catalog, how = 'left', left_on = 'USU_DEPARTAMENTO', right_on = 'Departamento')"
   ]
  },
  {
   "cell_type": "code",
   "execution_count": 241,
   "id": "victorian-claim",
   "metadata": {},
   "outputs": [
    {
     "data": {
      "text/html": [
       "<div>\n",
       "<style scoped>\n",
       "    .dataframe tbody tr th:only-of-type {\n",
       "        vertical-align: middle;\n",
       "    }\n",
       "\n",
       "    .dataframe tbody tr th {\n",
       "        vertical-align: top;\n",
       "    }\n",
       "\n",
       "    .dataframe thead th {\n",
       "        text-align: right;\n",
       "    }\n",
       "</style>\n",
       "<table border=\"1\" class=\"dataframe\">\n",
       "  <thead>\n",
       "    <tr style=\"text-align: right;\">\n",
       "      <th></th>\n",
       "      <th>ID_USUARIO</th>\n",
       "      <th>TIPOUSUARIO</th>\n",
       "      <th>FECHA_REGISTRO</th>\n",
       "      <th>CANAL_REGISTRO</th>\n",
       "      <th>IND_CLIENTE</th>\n",
       "      <th>IND_ALTA</th>\n",
       "      <th>FECHA_ALTA</th>\n",
       "      <th>FECHA_CLIENTE</th>\n",
       "      <th>TIPOEMAIL</th>\n",
       "      <th>BONDAD_EMAIL</th>\n",
       "      <th>IPCASOS</th>\n",
       "      <th>IP_Country</th>\n",
       "      <th>IP_Region</th>\n",
       "      <th>USU_TIPO</th>\n",
       "      <th>USU_TAMANIO</th>\n",
       "      <th>USU_ESTADO</th>\n",
       "      <th>USU_DEPARTAMENTO</th>\n",
       "      <th>PIB_GRUPO</th>\n",
       "      <th>IDH_NUMBER</th>\n",
       "      <th>IDH_GROUP</th>\n",
       "      <th>TIPO_TELF</th>\n",
       "      <th>SECCION_DESC</th>\n",
       "      <th>USU_SECTOR_ECONOMICO</th>\n",
       "      <th>Departamento</th>\n",
       "      <th>Densidad_Poblacion</th>\n",
       "      <th>IDH</th>\n",
       "    </tr>\n",
       "  </thead>\n",
       "  <tbody>\n",
       "    <tr>\n",
       "      <th>0</th>\n",
       "      <td>8107310</td>\n",
       "      <td>PF</td>\n",
       "      <td>2019-10-22</td>\n",
       "      <td>3</td>\n",
       "      <td>0</td>\n",
       "      <td>0</td>\n",
       "      <td>NoApl</td>\n",
       "      <td>NoApl</td>\n",
       "      <td>GOOHOTYAHMAIL</td>\n",
       "      <td>0</td>\n",
       "      <td>1</td>\n",
       "      <td>COLOMBIA</td>\n",
       "      <td>Valle del Cauca</td>\n",
       "      <td>NoApl</td>\n",
       "      <td>NoApl</td>\n",
       "      <td>NoApl</td>\n",
       "      <td>NOAPL</td>\n",
       "      <td>Ingreso mediano alto</td>\n",
       "      <td>0.767</td>\n",
       "      <td>Alto</td>\n",
       "      <td>NO_PUBLICO</td>\n",
       "      <td>NoApl</td>\n",
       "      <td>NoApl</td>\n",
       "      <td>NaN</td>\n",
       "      <td>NaN</td>\n",
       "      <td>NaN</td>\n",
       "    </tr>\n",
       "    <tr>\n",
       "      <th>1</th>\n",
       "      <td>7784565</td>\n",
       "      <td>PJ</td>\n",
       "      <td>2019-05-14</td>\n",
       "      <td>3</td>\n",
       "      <td>0</td>\n",
       "      <td>0</td>\n",
       "      <td>NoApl</td>\n",
       "      <td>NoApl</td>\n",
       "      <td>GOOHOTYAHMAIL</td>\n",
       "      <td>1</td>\n",
       "      <td>1</td>\n",
       "      <td>COLOMBIA</td>\n",
       "      <td>Antioquia</td>\n",
       "      <td>SOC_COMERCIAL_INDUSTRIAL</td>\n",
       "      <td>PQ</td>\n",
       "      <td>ACTIVA</td>\n",
       "      <td>QUINDIO</td>\n",
       "      <td>Ingreso mediano alto</td>\n",
       "      <td>0.767</td>\n",
       "      <td>Alto</td>\n",
       "      <td>NO_PUBLICO</td>\n",
       "      <td>ACTIVIDADES DE SERVICIOS ADMINISTRATIVOS Y DE ...</td>\n",
       "      <td>TERCIARIO</td>\n",
       "      <td>QUINDIO</td>\n",
       "      <td>306.38</td>\n",
       "      <td>0.832</td>\n",
       "    </tr>\n",
       "    <tr>\n",
       "      <th>2</th>\n",
       "      <td>7718778</td>\n",
       "      <td>PJ</td>\n",
       "      <td>2019-09-04</td>\n",
       "      <td>7</td>\n",
       "      <td>0</td>\n",
       "      <td>0</td>\n",
       "      <td>NoApl</td>\n",
       "      <td>NoApl</td>\n",
       "      <td>GOOHOTYAHMAIL</td>\n",
       "      <td>1</td>\n",
       "      <td>1</td>\n",
       "      <td>COLOMBIA</td>\n",
       "      <td>Bolivar</td>\n",
       "      <td>SOC_COMERCIAL_INDUSTRIAL</td>\n",
       "      <td>MC</td>\n",
       "      <td>ACTIVA</td>\n",
       "      <td>ATLANTICO</td>\n",
       "      <td>Ingreso mediano alto</td>\n",
       "      <td>0.767</td>\n",
       "      <td>Alto</td>\n",
       "      <td>NO_PUBLICO</td>\n",
       "      <td>COMERCIO AL POR MAYOR Y AL POR MENOR; REPARACI...</td>\n",
       "      <td>TERCIARIO</td>\n",
       "      <td>ATLANTICO</td>\n",
       "      <td>815.17</td>\n",
       "      <td>0.835</td>\n",
       "    </tr>\n",
       "  </tbody>\n",
       "</table>\n",
       "</div>"
      ],
      "text/plain": [
       "   ID_USUARIO TIPOUSUARIO FECHA_REGISTRO  CANAL_REGISTRO  IND_CLIENTE  \\\n",
       "0     8107310          PF     2019-10-22               3            0   \n",
       "1     7784565          PJ     2019-05-14               3            0   \n",
       "2     7718778          PJ     2019-09-04               7            0   \n",
       "\n",
       "   IND_ALTA FECHA_ALTA FECHA_CLIENTE      TIPOEMAIL  BONDAD_EMAIL  IPCASOS  \\\n",
       "0         0      NoApl         NoApl  GOOHOTYAHMAIL             0        1   \n",
       "1         0      NoApl         NoApl  GOOHOTYAHMAIL             1        1   \n",
       "2         0      NoApl         NoApl  GOOHOTYAHMAIL             1        1   \n",
       "\n",
       "  IP_Country        IP_Region                  USU_TIPO USU_TAMANIO  \\\n",
       "0   COLOMBIA  Valle del Cauca                     NoApl       NoApl   \n",
       "1   COLOMBIA        Antioquia  SOC_COMERCIAL_INDUSTRIAL          PQ   \n",
       "2   COLOMBIA          Bolivar  SOC_COMERCIAL_INDUSTRIAL          MC   \n",
       "\n",
       "  USU_ESTADO USU_DEPARTAMENTO             PIB_GRUPO IDH_NUMBER IDH_GROUP  \\\n",
       "0      NoApl            NOAPL  Ingreso mediano alto      0.767      Alto   \n",
       "1     ACTIVA          QUINDIO  Ingreso mediano alto      0.767      Alto   \n",
       "2     ACTIVA        ATLANTICO  Ingreso mediano alto      0.767      Alto   \n",
       "\n",
       "    TIPO_TELF                                       SECCION_DESC  \\\n",
       "0  NO_PUBLICO                                              NoApl   \n",
       "1  NO_PUBLICO  ACTIVIDADES DE SERVICIOS ADMINISTRATIVOS Y DE ...   \n",
       "2  NO_PUBLICO  COMERCIO AL POR MAYOR Y AL POR MENOR; REPARACI...   \n",
       "\n",
       "  USU_SECTOR_ECONOMICO Departamento  Densidad_Poblacion    IDH  \n",
       "0                NoApl          NaN                 NaN    NaN  \n",
       "1            TERCIARIO      QUINDIO              306.38  0.832  \n",
       "2            TERCIARIO    ATLANTICO              815.17  0.835  "
      ]
     },
     "execution_count": 241,
     "metadata": {},
     "output_type": "execute_result"
    }
   ],
   "source": [
    "df_user.head(3)"
   ]
  },
  {
   "cell_type": "code",
   "execution_count": 242,
   "id": "automatic-transformation",
   "metadata": {},
   "outputs": [],
   "source": [
    "df_user.loc[df_user['USU_DEPARTAMENTO'].isin(['NOAPL']), ['Densidad_Poblacion','IDH']] = 'NOAPL'\n",
    "df_user.loc[df_user['USU_DEPARTAMENTO'].isin(['SD']), ['Densidad_Poblacion','IDH']] = 'SD'"
   ]
  },
  {
   "cell_type": "code",
   "execution_count": 243,
   "id": "sonic-science",
   "metadata": {},
   "outputs": [],
   "source": [
    "df_user.drop(['Departamento'], axis = 1, inplace = True)"
   ]
  },
  {
   "cell_type": "markdown",
   "id": "enormous-casting",
   "metadata": {},
   "source": [
    "Comprobacion"
   ]
  },
  {
   "cell_type": "code",
   "execution_count": 244,
   "id": "cross-diversity",
   "metadata": {},
   "outputs": [
    {
     "data": {
      "text/plain": [
       "ID_USUARIO              0\n",
       "TIPOUSUARIO             0\n",
       "FECHA_REGISTRO          0\n",
       "CANAL_REGISTRO          0\n",
       "IND_CLIENTE             0\n",
       "IND_ALTA                0\n",
       "FECHA_ALTA              0\n",
       "FECHA_CLIENTE           0\n",
       "TIPOEMAIL               0\n",
       "BONDAD_EMAIL            0\n",
       "IPCASOS                 0\n",
       "IP_Country              0\n",
       "IP_Region               0\n",
       "USU_TIPO                0\n",
       "USU_TAMANIO             0\n",
       "USU_ESTADO              0\n",
       "USU_DEPARTAMENTO        0\n",
       "PIB_GRUPO               0\n",
       "IDH_NUMBER              0\n",
       "IDH_GROUP               0\n",
       "TIPO_TELF               0\n",
       "SECCION_DESC            0\n",
       "USU_SECTOR_ECONOMICO    0\n",
       "Densidad_Poblacion      0\n",
       "IDH                     0\n",
       "dtype: int64"
      ]
     },
     "execution_count": 244,
     "metadata": {},
     "output_type": "execute_result"
    }
   ],
   "source": [
    "df_user.isna().sum()"
   ]
  },
  {
   "cell_type": "markdown",
   "id": "generic-sector",
   "metadata": {},
   "source": [
    "-------------------------------------------------"
   ]
  },
  {
   "cell_type": "markdown",
   "id": "lined-programmer",
   "metadata": {},
   "source": [
    "-------------------------------------------------"
   ]
  },
  {
   "cell_type": "markdown",
   "id": "christian-radius",
   "metadata": {},
   "source": [
    "### Renombramos y ordenamos columnas"
   ]
  },
  {
   "cell_type": "code",
   "execution_count": 245,
   "id": "cosmetic-niger",
   "metadata": {},
   "outputs": [],
   "source": [
    "df_user.rename(columns = {'IP_Country': 'IP_COUNTRY', \n",
    "                          'IP_Region': 'IP_REGION',\n",
    "                          'Densidad_Poblacion': 'USU_DEPART_DEN_POB',\n",
    "                          'IDH': 'USU_DEPART_IDH',\n",
    "                          'PIB_GRUPO': 'IP_COUNTRY_PIB',\n",
    "                          'IDH_NUMBER': 'IP_COUNTRY_IDH_NUM',\n",
    "                          'IDH_GROUP': 'IP_COUNTRY_IDH_GROUP',\n",
    "                          'SECCION_DESC': 'USU_SECCION_DESC'}, inplace = True)"
   ]
  },
  {
   "cell_type": "code",
   "execution_count": 246,
   "id": "cross-lafayette",
   "metadata": {},
   "outputs": [
    {
     "data": {
      "text/html": [
       "<div>\n",
       "<style scoped>\n",
       "    .dataframe tbody tr th:only-of-type {\n",
       "        vertical-align: middle;\n",
       "    }\n",
       "\n",
       "    .dataframe tbody tr th {\n",
       "        vertical-align: top;\n",
       "    }\n",
       "\n",
       "    .dataframe thead th {\n",
       "        text-align: right;\n",
       "    }\n",
       "</style>\n",
       "<table border=\"1\" class=\"dataframe\">\n",
       "  <thead>\n",
       "    <tr style=\"text-align: right;\">\n",
       "      <th></th>\n",
       "      <th>ID_USUARIO</th>\n",
       "      <th>TIPOUSUARIO</th>\n",
       "      <th>FECHA_REGISTRO</th>\n",
       "      <th>CANAL_REGISTRO</th>\n",
       "      <th>IND_CLIENTE</th>\n",
       "      <th>IND_ALTA</th>\n",
       "      <th>FECHA_ALTA</th>\n",
       "      <th>FECHA_CLIENTE</th>\n",
       "      <th>TIPOEMAIL</th>\n",
       "      <th>BONDAD_EMAIL</th>\n",
       "      <th>IPCASOS</th>\n",
       "      <th>IP_COUNTRY</th>\n",
       "      <th>IP_REGION</th>\n",
       "      <th>USU_TIPO</th>\n",
       "      <th>USU_TAMANIO</th>\n",
       "      <th>USU_ESTADO</th>\n",
       "      <th>USU_DEPARTAMENTO</th>\n",
       "      <th>IP_COUNTRY_PIB</th>\n",
       "      <th>IP_COUNTRY_IDH_NUM</th>\n",
       "      <th>IP_COUNTRY_IDH_GROUP</th>\n",
       "      <th>TIPO_TELF</th>\n",
       "      <th>USU_SECCION_DESC</th>\n",
       "      <th>USU_SECTOR_ECONOMICO</th>\n",
       "      <th>USU_DEPART_DEN_POB</th>\n",
       "      <th>USU_DEPART_IDH</th>\n",
       "    </tr>\n",
       "  </thead>\n",
       "  <tbody>\n",
       "    <tr>\n",
       "      <th>0</th>\n",
       "      <td>8107310</td>\n",
       "      <td>PF</td>\n",
       "      <td>2019-10-22</td>\n",
       "      <td>3</td>\n",
       "      <td>0</td>\n",
       "      <td>0</td>\n",
       "      <td>NoApl</td>\n",
       "      <td>NoApl</td>\n",
       "      <td>GOOHOTYAHMAIL</td>\n",
       "      <td>0</td>\n",
       "      <td>1</td>\n",
       "      <td>COLOMBIA</td>\n",
       "      <td>Valle del Cauca</td>\n",
       "      <td>NoApl</td>\n",
       "      <td>NoApl</td>\n",
       "      <td>NoApl</td>\n",
       "      <td>NOAPL</td>\n",
       "      <td>Ingreso mediano alto</td>\n",
       "      <td>0.767</td>\n",
       "      <td>Alto</td>\n",
       "      <td>NO_PUBLICO</td>\n",
       "      <td>NoApl</td>\n",
       "      <td>NoApl</td>\n",
       "      <td>NOAPL</td>\n",
       "      <td>NOAPL</td>\n",
       "    </tr>\n",
       "    <tr>\n",
       "      <th>1</th>\n",
       "      <td>7784565</td>\n",
       "      <td>PJ</td>\n",
       "      <td>2019-05-14</td>\n",
       "      <td>3</td>\n",
       "      <td>0</td>\n",
       "      <td>0</td>\n",
       "      <td>NoApl</td>\n",
       "      <td>NoApl</td>\n",
       "      <td>GOOHOTYAHMAIL</td>\n",
       "      <td>1</td>\n",
       "      <td>1</td>\n",
       "      <td>COLOMBIA</td>\n",
       "      <td>Antioquia</td>\n",
       "      <td>SOC_COMERCIAL_INDUSTRIAL</td>\n",
       "      <td>PQ</td>\n",
       "      <td>ACTIVA</td>\n",
       "      <td>QUINDIO</td>\n",
       "      <td>Ingreso mediano alto</td>\n",
       "      <td>0.767</td>\n",
       "      <td>Alto</td>\n",
       "      <td>NO_PUBLICO</td>\n",
       "      <td>ACTIVIDADES DE SERVICIOS ADMINISTRATIVOS Y DE ...</td>\n",
       "      <td>TERCIARIO</td>\n",
       "      <td>306.38</td>\n",
       "      <td>0.832</td>\n",
       "    </tr>\n",
       "    <tr>\n",
       "      <th>2</th>\n",
       "      <td>7718778</td>\n",
       "      <td>PJ</td>\n",
       "      <td>2019-09-04</td>\n",
       "      <td>7</td>\n",
       "      <td>0</td>\n",
       "      <td>0</td>\n",
       "      <td>NoApl</td>\n",
       "      <td>NoApl</td>\n",
       "      <td>GOOHOTYAHMAIL</td>\n",
       "      <td>1</td>\n",
       "      <td>1</td>\n",
       "      <td>COLOMBIA</td>\n",
       "      <td>Bolivar</td>\n",
       "      <td>SOC_COMERCIAL_INDUSTRIAL</td>\n",
       "      <td>MC</td>\n",
       "      <td>ACTIVA</td>\n",
       "      <td>ATLANTICO</td>\n",
       "      <td>Ingreso mediano alto</td>\n",
       "      <td>0.767</td>\n",
       "      <td>Alto</td>\n",
       "      <td>NO_PUBLICO</td>\n",
       "      <td>COMERCIO AL POR MAYOR Y AL POR MENOR; REPARACI...</td>\n",
       "      <td>TERCIARIO</td>\n",
       "      <td>815.17</td>\n",
       "      <td>0.835</td>\n",
       "    </tr>\n",
       "  </tbody>\n",
       "</table>\n",
       "</div>"
      ],
      "text/plain": [
       "   ID_USUARIO TIPOUSUARIO FECHA_REGISTRO  CANAL_REGISTRO  IND_CLIENTE  \\\n",
       "0     8107310          PF     2019-10-22               3            0   \n",
       "1     7784565          PJ     2019-05-14               3            0   \n",
       "2     7718778          PJ     2019-09-04               7            0   \n",
       "\n",
       "   IND_ALTA FECHA_ALTA FECHA_CLIENTE      TIPOEMAIL  BONDAD_EMAIL  IPCASOS  \\\n",
       "0         0      NoApl         NoApl  GOOHOTYAHMAIL             0        1   \n",
       "1         0      NoApl         NoApl  GOOHOTYAHMAIL             1        1   \n",
       "2         0      NoApl         NoApl  GOOHOTYAHMAIL             1        1   \n",
       "\n",
       "  IP_COUNTRY        IP_REGION                  USU_TIPO USU_TAMANIO  \\\n",
       "0   COLOMBIA  Valle del Cauca                     NoApl       NoApl   \n",
       "1   COLOMBIA        Antioquia  SOC_COMERCIAL_INDUSTRIAL          PQ   \n",
       "2   COLOMBIA          Bolivar  SOC_COMERCIAL_INDUSTRIAL          MC   \n",
       "\n",
       "  USU_ESTADO USU_DEPARTAMENTO        IP_COUNTRY_PIB IP_COUNTRY_IDH_NUM  \\\n",
       "0      NoApl            NOAPL  Ingreso mediano alto              0.767   \n",
       "1     ACTIVA          QUINDIO  Ingreso mediano alto              0.767   \n",
       "2     ACTIVA        ATLANTICO  Ingreso mediano alto              0.767   \n",
       "\n",
       "  IP_COUNTRY_IDH_GROUP   TIPO_TELF  \\\n",
       "0                 Alto  NO_PUBLICO   \n",
       "1                 Alto  NO_PUBLICO   \n",
       "2                 Alto  NO_PUBLICO   \n",
       "\n",
       "                                    USU_SECCION_DESC USU_SECTOR_ECONOMICO  \\\n",
       "0                                              NoApl                NoApl   \n",
       "1  ACTIVIDADES DE SERVICIOS ADMINISTRATIVOS Y DE ...            TERCIARIO   \n",
       "2  COMERCIO AL POR MAYOR Y AL POR MENOR; REPARACI...            TERCIARIO   \n",
       "\n",
       "  USU_DEPART_DEN_POB USU_DEPART_IDH  \n",
       "0              NOAPL          NOAPL  \n",
       "1             306.38          0.832  \n",
       "2             815.17          0.835  "
      ]
     },
     "execution_count": 246,
     "metadata": {},
     "output_type": "execute_result"
    }
   ],
   "source": [
    "df_user.head(3)"
   ]
  },
  {
   "cell_type": "code",
   "execution_count": 247,
   "id": "extraordinary-going",
   "metadata": {},
   "outputs": [
    {
     "data": {
      "text/html": [
       "<div>\n",
       "<style scoped>\n",
       "    .dataframe tbody tr th:only-of-type {\n",
       "        vertical-align: middle;\n",
       "    }\n",
       "\n",
       "    .dataframe tbody tr th {\n",
       "        vertical-align: top;\n",
       "    }\n",
       "\n",
       "    .dataframe thead th {\n",
       "        text-align: right;\n",
       "    }\n",
       "</style>\n",
       "<table border=\"1\" class=\"dataframe\">\n",
       "  <thead>\n",
       "    <tr style=\"text-align: right;\">\n",
       "      <th></th>\n",
       "      <th>ID_USUARIO</th>\n",
       "      <th>TIPOUSUARIO</th>\n",
       "      <th>FECHA_REGISTRO</th>\n",
       "      <th>CANAL_REGISTRO</th>\n",
       "      <th>IND_CLIENTE</th>\n",
       "      <th>IND_ALTA</th>\n",
       "      <th>FECHA_ALTA</th>\n",
       "      <th>FECHA_CLIENTE</th>\n",
       "      <th>TIPOEMAIL</th>\n",
       "      <th>BONDAD_EMAIL</th>\n",
       "      <th>IPCASOS</th>\n",
       "      <th>IP_COUNTRY</th>\n",
       "      <th>IP_REGION</th>\n",
       "      <th>USU_TIPO</th>\n",
       "      <th>USU_TAMANIO</th>\n",
       "      <th>USU_ESTADO</th>\n",
       "      <th>USU_DEPARTAMENTO</th>\n",
       "      <th>IP_COUNTRY_PIB</th>\n",
       "      <th>IP_COUNTRY_IDH_NUM</th>\n",
       "      <th>IP_COUNTRY_IDH_GROUP</th>\n",
       "      <th>TIPO_TELF</th>\n",
       "      <th>USU_SECCION_DESC</th>\n",
       "      <th>USU_SECTOR_ECONOMICO</th>\n",
       "      <th>USU_DEPART_DEN_POB</th>\n",
       "      <th>USU_DEPART_IDH</th>\n",
       "    </tr>\n",
       "  </thead>\n",
       "  <tbody>\n",
       "    <tr>\n",
       "      <th>301925</th>\n",
       "      <td>6868841</td>\n",
       "      <td>PJ</td>\n",
       "      <td>2018-01-01</td>\n",
       "      <td>3</td>\n",
       "      <td>0</td>\n",
       "      <td>0</td>\n",
       "      <td>NoApl</td>\n",
       "      <td>NoApl</td>\n",
       "      <td>CORPORATIVO</td>\n",
       "      <td>0</td>\n",
       "      <td>0</td>\n",
       "      <td>NI</td>\n",
       "      <td>NI</td>\n",
       "      <td>EMPRESARIO INDIVIDUAL</td>\n",
       "      <td>MC</td>\n",
       "      <td>INACTIVA</td>\n",
       "      <td>ATLANTICO</td>\n",
       "      <td>NI</td>\n",
       "      <td>NI</td>\n",
       "      <td>NI</td>\n",
       "      <td>EXTRANJERO</td>\n",
       "      <td>ACTIVIDADES DE ATENCIÓN DE LA SALUD HUMANA Y D...</td>\n",
       "      <td>QUINARIO</td>\n",
       "      <td>815.17</td>\n",
       "      <td>0.835</td>\n",
       "    </tr>\n",
       "  </tbody>\n",
       "</table>\n",
       "</div>"
      ],
      "text/plain": [
       "        ID_USUARIO TIPOUSUARIO FECHA_REGISTRO  CANAL_REGISTRO  IND_CLIENTE  \\\n",
       "301925     6868841          PJ     2018-01-01               3            0   \n",
       "\n",
       "        IND_ALTA FECHA_ALTA FECHA_CLIENTE    TIPOEMAIL  BONDAD_EMAIL  IPCASOS  \\\n",
       "301925         0      NoApl         NoApl  CORPORATIVO             0        0   \n",
       "\n",
       "       IP_COUNTRY IP_REGION               USU_TIPO USU_TAMANIO USU_ESTADO  \\\n",
       "301925         NI        NI  EMPRESARIO INDIVIDUAL          MC   INACTIVA   \n",
       "\n",
       "       USU_DEPARTAMENTO IP_COUNTRY_PIB IP_COUNTRY_IDH_NUM  \\\n",
       "301925        ATLANTICO             NI                 NI   \n",
       "\n",
       "       IP_COUNTRY_IDH_GROUP   TIPO_TELF  \\\n",
       "301925                   NI  EXTRANJERO   \n",
       "\n",
       "                                         USU_SECCION_DESC  \\\n",
       "301925  ACTIVIDADES DE ATENCIÓN DE LA SALUD HUMANA Y D...   \n",
       "\n",
       "       USU_SECTOR_ECONOMICO USU_DEPART_DEN_POB USU_DEPART_IDH  \n",
       "301925             QUINARIO             815.17          0.835  "
      ]
     },
     "execution_count": 247,
     "metadata": {},
     "output_type": "execute_result"
    }
   ],
   "source": [
    "df_user[df_user['ID_USUARIO'] == 6868841]"
   ]
  },
  {
   "cell_type": "markdown",
   "id": "static-harassment",
   "metadata": {},
   "source": [
    "**Ordenamos columnas**"
   ]
  },
  {
   "cell_type": "code",
   "execution_count": 248,
   "id": "defensive-resource",
   "metadata": {},
   "outputs": [
    {
     "data": {
      "text/plain": [
       "Index(['ID_USUARIO', 'TIPOUSUARIO', 'FECHA_REGISTRO', 'CANAL_REGISTRO',\n",
       "       'IND_CLIENTE', 'IND_ALTA', 'FECHA_ALTA', 'FECHA_CLIENTE', 'TIPOEMAIL',\n",
       "       'BONDAD_EMAIL', 'IPCASOS', 'IP_COUNTRY', 'IP_REGION', 'USU_TIPO',\n",
       "       'USU_TAMANIO', 'USU_ESTADO', 'USU_DEPARTAMENTO', 'IP_COUNTRY_PIB',\n",
       "       'IP_COUNTRY_IDH_NUM', 'IP_COUNTRY_IDH_GROUP', 'TIPO_TELF',\n",
       "       'USU_SECCION_DESC', 'USU_SECTOR_ECONOMICO', 'USU_DEPART_DEN_POB',\n",
       "       'USU_DEPART_IDH'],\n",
       "      dtype='object')"
      ]
     },
     "execution_count": 248,
     "metadata": {},
     "output_type": "execute_result"
    }
   ],
   "source": [
    "df_user.columns"
   ]
  },
  {
   "cell_type": "code",
   "execution_count": 249,
   "id": "confused-pioneer",
   "metadata": {},
   "outputs": [],
   "source": [
    "df_user = df_user[['ID_USUARIO','TIPOUSUARIO','FECHA_REGISTRO','CANAL_REGISTRO','FECHA_ALTA','IND_ALTA','FECHA_CLIENTE','IND_CLIENTE','TIPOEMAIL','BONDAD_EMAIL','TIPO_TELF','IPCASOS',\n",
    "                   'IP_COUNTRY','IP_REGION','IP_COUNTRY_PIB','IP_COUNTRY_IDH_NUM','IP_COUNTRY_IDH_GROUP','USU_TIPO','USU_TAMANIO','USU_ESTADO','USU_SECCION_DESC','USU_SECTOR_ECONOMICO',\n",
    "                   'USU_DEPARTAMENTO','USU_DEPART_DEN_POB','USU_DEPART_IDH']]"
   ]
  },
  {
   "cell_type": "markdown",
   "id": "corrected-cuisine",
   "metadata": {},
   "source": [
    "Comprobacion"
   ]
  },
  {
   "cell_type": "code",
   "execution_count": 250,
   "id": "labeled-break",
   "metadata": {},
   "outputs": [
    {
     "data": {
      "text/html": [
       "<div>\n",
       "<style scoped>\n",
       "    .dataframe tbody tr th:only-of-type {\n",
       "        vertical-align: middle;\n",
       "    }\n",
       "\n",
       "    .dataframe tbody tr th {\n",
       "        vertical-align: top;\n",
       "    }\n",
       "\n",
       "    .dataframe thead th {\n",
       "        text-align: right;\n",
       "    }\n",
       "</style>\n",
       "<table border=\"1\" class=\"dataframe\">\n",
       "  <thead>\n",
       "    <tr style=\"text-align: right;\">\n",
       "      <th></th>\n",
       "      <th>ID_USUARIO</th>\n",
       "      <th>TIPOUSUARIO</th>\n",
       "      <th>FECHA_REGISTRO</th>\n",
       "      <th>CANAL_REGISTRO</th>\n",
       "      <th>FECHA_ALTA</th>\n",
       "      <th>IND_ALTA</th>\n",
       "      <th>FECHA_CLIENTE</th>\n",
       "      <th>IND_CLIENTE</th>\n",
       "      <th>TIPOEMAIL</th>\n",
       "      <th>BONDAD_EMAIL</th>\n",
       "      <th>TIPO_TELF</th>\n",
       "      <th>IPCASOS</th>\n",
       "      <th>IP_COUNTRY</th>\n",
       "      <th>IP_REGION</th>\n",
       "      <th>IP_COUNTRY_PIB</th>\n",
       "      <th>IP_COUNTRY_IDH_NUM</th>\n",
       "      <th>IP_COUNTRY_IDH_GROUP</th>\n",
       "      <th>USU_TIPO</th>\n",
       "      <th>USU_TAMANIO</th>\n",
       "      <th>USU_ESTADO</th>\n",
       "      <th>USU_SECCION_DESC</th>\n",
       "      <th>USU_SECTOR_ECONOMICO</th>\n",
       "      <th>USU_DEPARTAMENTO</th>\n",
       "      <th>USU_DEPART_DEN_POB</th>\n",
       "      <th>USU_DEPART_IDH</th>\n",
       "    </tr>\n",
       "  </thead>\n",
       "  <tbody>\n",
       "    <tr>\n",
       "      <th>0</th>\n",
       "      <td>8107310</td>\n",
       "      <td>PF</td>\n",
       "      <td>2019-10-22</td>\n",
       "      <td>3</td>\n",
       "      <td>NoApl</td>\n",
       "      <td>0</td>\n",
       "      <td>NoApl</td>\n",
       "      <td>0</td>\n",
       "      <td>GOOHOTYAHMAIL</td>\n",
       "      <td>0</td>\n",
       "      <td>NO_PUBLICO</td>\n",
       "      <td>1</td>\n",
       "      <td>COLOMBIA</td>\n",
       "      <td>Valle del Cauca</td>\n",
       "      <td>Ingreso mediano alto</td>\n",
       "      <td>0.767</td>\n",
       "      <td>Alto</td>\n",
       "      <td>NoApl</td>\n",
       "      <td>NoApl</td>\n",
       "      <td>NoApl</td>\n",
       "      <td>NoApl</td>\n",
       "      <td>NoApl</td>\n",
       "      <td>NOAPL</td>\n",
       "      <td>NOAPL</td>\n",
       "      <td>NOAPL</td>\n",
       "    </tr>\n",
       "    <tr>\n",
       "      <th>1</th>\n",
       "      <td>7784565</td>\n",
       "      <td>PJ</td>\n",
       "      <td>2019-05-14</td>\n",
       "      <td>3</td>\n",
       "      <td>NoApl</td>\n",
       "      <td>0</td>\n",
       "      <td>NoApl</td>\n",
       "      <td>0</td>\n",
       "      <td>GOOHOTYAHMAIL</td>\n",
       "      <td>1</td>\n",
       "      <td>NO_PUBLICO</td>\n",
       "      <td>1</td>\n",
       "      <td>COLOMBIA</td>\n",
       "      <td>Antioquia</td>\n",
       "      <td>Ingreso mediano alto</td>\n",
       "      <td>0.767</td>\n",
       "      <td>Alto</td>\n",
       "      <td>SOC_COMERCIAL_INDUSTRIAL</td>\n",
       "      <td>PQ</td>\n",
       "      <td>ACTIVA</td>\n",
       "      <td>ACTIVIDADES DE SERVICIOS ADMINISTRATIVOS Y DE ...</td>\n",
       "      <td>TERCIARIO</td>\n",
       "      <td>QUINDIO</td>\n",
       "      <td>306.38</td>\n",
       "      <td>0.832</td>\n",
       "    </tr>\n",
       "    <tr>\n",
       "      <th>2</th>\n",
       "      <td>7718778</td>\n",
       "      <td>PJ</td>\n",
       "      <td>2019-09-04</td>\n",
       "      <td>7</td>\n",
       "      <td>NoApl</td>\n",
       "      <td>0</td>\n",
       "      <td>NoApl</td>\n",
       "      <td>0</td>\n",
       "      <td>GOOHOTYAHMAIL</td>\n",
       "      <td>1</td>\n",
       "      <td>NO_PUBLICO</td>\n",
       "      <td>1</td>\n",
       "      <td>COLOMBIA</td>\n",
       "      <td>Bolivar</td>\n",
       "      <td>Ingreso mediano alto</td>\n",
       "      <td>0.767</td>\n",
       "      <td>Alto</td>\n",
       "      <td>SOC_COMERCIAL_INDUSTRIAL</td>\n",
       "      <td>MC</td>\n",
       "      <td>ACTIVA</td>\n",
       "      <td>COMERCIO AL POR MAYOR Y AL POR MENOR; REPARACI...</td>\n",
       "      <td>TERCIARIO</td>\n",
       "      <td>ATLANTICO</td>\n",
       "      <td>815.17</td>\n",
       "      <td>0.835</td>\n",
       "    </tr>\n",
       "  </tbody>\n",
       "</table>\n",
       "</div>"
      ],
      "text/plain": [
       "   ID_USUARIO TIPOUSUARIO FECHA_REGISTRO  CANAL_REGISTRO FECHA_ALTA  IND_ALTA  \\\n",
       "0     8107310          PF     2019-10-22               3      NoApl         0   \n",
       "1     7784565          PJ     2019-05-14               3      NoApl         0   \n",
       "2     7718778          PJ     2019-09-04               7      NoApl         0   \n",
       "\n",
       "  FECHA_CLIENTE  IND_CLIENTE      TIPOEMAIL  BONDAD_EMAIL   TIPO_TELF  \\\n",
       "0         NoApl            0  GOOHOTYAHMAIL             0  NO_PUBLICO   \n",
       "1         NoApl            0  GOOHOTYAHMAIL             1  NO_PUBLICO   \n",
       "2         NoApl            0  GOOHOTYAHMAIL             1  NO_PUBLICO   \n",
       "\n",
       "   IPCASOS IP_COUNTRY        IP_REGION        IP_COUNTRY_PIB  \\\n",
       "0        1   COLOMBIA  Valle del Cauca  Ingreso mediano alto   \n",
       "1        1   COLOMBIA        Antioquia  Ingreso mediano alto   \n",
       "2        1   COLOMBIA          Bolivar  Ingreso mediano alto   \n",
       "\n",
       "  IP_COUNTRY_IDH_NUM IP_COUNTRY_IDH_GROUP                  USU_TIPO  \\\n",
       "0              0.767                 Alto                     NoApl   \n",
       "1              0.767                 Alto  SOC_COMERCIAL_INDUSTRIAL   \n",
       "2              0.767                 Alto  SOC_COMERCIAL_INDUSTRIAL   \n",
       "\n",
       "  USU_TAMANIO USU_ESTADO                                   USU_SECCION_DESC  \\\n",
       "0       NoApl      NoApl                                              NoApl   \n",
       "1          PQ     ACTIVA  ACTIVIDADES DE SERVICIOS ADMINISTRATIVOS Y DE ...   \n",
       "2          MC     ACTIVA  COMERCIO AL POR MAYOR Y AL POR MENOR; REPARACI...   \n",
       "\n",
       "  USU_SECTOR_ECONOMICO USU_DEPARTAMENTO USU_DEPART_DEN_POB USU_DEPART_IDH  \n",
       "0                NoApl            NOAPL              NOAPL          NOAPL  \n",
       "1            TERCIARIO          QUINDIO             306.38          0.832  \n",
       "2            TERCIARIO        ATLANTICO             815.17          0.835  "
      ]
     },
     "execution_count": 250,
     "metadata": {},
     "output_type": "execute_result"
    }
   ],
   "source": [
    "df_user.head(3)"
   ]
  },
  {
   "cell_type": "markdown",
   "id": "humanitarian-plane",
   "metadata": {},
   "source": [
    "-------------------------------------------------"
   ]
  },
  {
   "cell_type": "markdown",
   "id": "advisory-blind",
   "metadata": {},
   "source": [
    "-------------------------------------------------"
   ]
  },
  {
   "cell_type": "markdown",
   "id": "raising-radius",
   "metadata": {},
   "source": [
    "### Análisis Final"
   ]
  },
  {
   "cell_type": "code",
   "execution_count": 251,
   "id": "listed-animal",
   "metadata": {},
   "outputs": [
    {
     "data": {
      "application/vnd.jupyter.widget-view+json": {
       "model_id": "87aaaa40611346e394585dc0daf7c8b5",
       "version_major": 2,
       "version_minor": 0
      },
      "text/plain": [
       "Summarize dataset:   0%|          | 0/39 [00:00<?, ?it/s]"
      ]
     },
     "metadata": {},
     "output_type": "display_data"
    },
    {
     "data": {
      "application/vnd.jupyter.widget-view+json": {
       "model_id": "35bbcc32eecb441e8386b57dfabd7831",
       "version_major": 2,
       "version_minor": 0
      },
      "text/plain": [
       "Generate report structure:   0%|          | 0/1 [00:00<?, ?it/s]"
      ]
     },
     "metadata": {},
     "output_type": "display_data"
    },
    {
     "data": {
      "application/vnd.jupyter.widget-view+json": {
       "model_id": "93537b4bb0724600ac2834b218398c41",
       "version_major": 2,
       "version_minor": 0
      },
      "text/plain": [
       "Render HTML:   0%|          | 0/1 [00:00<?, ?it/s]"
      ]
     },
     "metadata": {},
     "output_type": "display_data"
    },
    {
     "data": {
      "application/vnd.jupyter.widget-view+json": {
       "model_id": "0f102a075d964c2ba30b0ce5603d2064",
       "version_major": 2,
       "version_minor": 0
      },
      "text/plain": [
       "Export report to file:   0%|          | 0/1 [00:00<?, ?it/s]"
      ]
     },
     "metadata": {},
     "output_type": "display_data"
    }
   ],
   "source": [
    "profile = ProfileReport(df_user)\n",
    "profile.to_file('report_user_clean.html')"
   ]
  },
  {
   "cell_type": "markdown",
   "id": "lesbian-perfume",
   "metadata": {},
   "source": [
    "-------------------------------------------------"
   ]
  },
  {
   "cell_type": "markdown",
   "id": "crude-dubai",
   "metadata": {},
   "source": [
    "-------------------------------------------------"
   ]
  },
  {
   "cell_type": "markdown",
   "id": "attractive-tuition",
   "metadata": {},
   "source": [
    "### Escritura de Datos"
   ]
  },
  {
   "cell_type": "code",
   "execution_count": 252,
   "id": "silent-forest",
   "metadata": {},
   "outputs": [],
   "source": [
    "df_user.to_csv('Data/Usuarios_Clean.txt', sep = ';', encoding = 'ISO-8859-1', index = False)"
   ]
  }
 ],
 "metadata": {
  "kernelspec": {
   "display_name": "Python 3",
   "language": "python",
   "name": "python3"
  },
  "language_info": {
   "codemirror_mode": {
    "name": "ipython",
    "version": 3
   },
   "file_extension": ".py",
   "mimetype": "text/x-python",
   "name": "python",
   "nbconvert_exporter": "python",
   "pygments_lexer": "ipython3",
   "version": "3.8.8"
  }
 },
 "nbformat": 4,
 "nbformat_minor": 5
}
