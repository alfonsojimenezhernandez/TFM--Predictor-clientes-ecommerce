{
 "cells": [
  {
   "cell_type": "markdown",
   "id": "ethical-champagne",
   "metadata": {},
   "source": [
    "# TFM - Predicción potenciales compradores de un ecommerce"
   ]
  },
  {
   "cell_type": "markdown",
   "id": "740f813f-56fc-481c-9491-bade4bc06351",
   "metadata": {},
   "source": [
    "Evolución del notebook *Modelo_1.ipynb* unicamente se tendrá un dataset **acotado a las altas** y sepredicirá los clientes de las altas."
   ]
  },
  {
   "cell_type": "markdown",
   "id": "guided-lender",
   "metadata": {},
   "source": [
    "------------------------------------"
   ]
  },
  {
   "cell_type": "markdown",
   "id": "f1d3da8f-3328-46b4-a429-d9db420305c6",
   "metadata": {},
   "source": [
    "------------------"
   ]
  },
  {
   "cell_type": "markdown",
   "id": "related-bruce",
   "metadata": {},
   "source": [
    "### 1.1 Librerias"
   ]
  },
  {
   "cell_type": "code",
   "execution_count": 1,
   "id": "educational-access",
   "metadata": {},
   "outputs": [],
   "source": [
    "import pandas as pd\n",
    "import matplotlib.pyplot as plt\n",
    "import seaborn as sns\n",
    "\n",
    "from sklearn.model_selection import train_test_split\n",
    "from sklearn.ensemble import RandomForestClassifier \n",
    "from sklearn.metrics import confusion_matrix\n",
    "from sklearn.metrics import classification_report\n",
    "from sklearn.metrics import roc_auc_score\n",
    "from sklearn.model_selection import ParameterGrid\n",
    "\n",
    "from imblearn.pipeline import Pipeline\n",
    "from imblearn.under_sampling import NearMiss, RandomUnderSampler\n",
    "from imblearn.over_sampling import RandomOverSampler, SMOTE\n",
    "from imblearn.combine import SMOTETomek\n",
    "from imblearn.ensemble import BalancedBaggingClassifier, BalancedRandomForestClassifier, RUSBoostClassifier, EasyEnsembleClassifier\n",
    "\n",
    "from collections import Counter\n",
    "\n",
    "pd.set_option('display.max_columns', 200)\n",
    "\n",
    "import warnings\n",
    "warnings.filterwarnings(\"ignore\")"
   ]
  },
  {
   "cell_type": "markdown",
   "id": "ee290e54-4d6f-4ef7-8aed-4d442185f44d",
   "metadata": {},
   "source": [
    "------------------"
   ]
  },
  {
   "cell_type": "markdown",
   "id": "interior-tucson",
   "metadata": {},
   "source": [
    "### 1.2 Variables globales"
   ]
  },
  {
   "cell_type": "code",
   "execution_count": 2,
   "id": "described-mainland",
   "metadata": {},
   "outputs": [],
   "source": [
    "LABELS = [\"No_Cliente\",\"Cliente\"]"
   ]
  },
  {
   "cell_type": "markdown",
   "id": "10003f48-7fb3-442b-929a-e132559df249",
   "metadata": {},
   "source": [
    "------------------"
   ]
  },
  {
   "cell_type": "markdown",
   "id": "operating-captain",
   "metadata": {},
   "source": [
    "### 1.3 Funciones"
   ]
  },
  {
   "cell_type": "code",
   "execution_count": 3,
   "id": "equal-confidentiality",
   "metadata": {},
   "outputs": [],
   "source": [
    "def mostrar_resultados(y_test, pred_y):\n",
    "    conf_matrix = confusion_matrix(y_test, pred_y)\n",
    "    plt.figure(figsize = (8, 8))\n",
    "    sns.heatmap(conf_matrix, xticklabels = LABELS, yticklabels = LABELS, annot = True, fmt = \"d\");\n",
    "    plt.title(\"Confusion matrix\")\n",
    "    plt.ylabel('True class')\n",
    "    plt.xlabel('Predicted class')\n",
    "    plt.show()\n",
    "    print (classification_report(y_test, pred_y))"
   ]
  },
  {
   "cell_type": "markdown",
   "id": "latter-plastic",
   "metadata": {},
   "source": [
    "------------------------------------"
   ]
  },
  {
   "cell_type": "markdown",
   "id": "e96cf1c9-e1ed-4157-936c-2101ae9b9fe5",
   "metadata": {},
   "source": [
    "------------------"
   ]
  },
  {
   "cell_type": "markdown",
   "id": "aquatic-cartoon",
   "metadata": {},
   "source": [
    "A continuación comenzamos leyendo los ficheros que hemos tratado, limpiado y analizado en los procesos anteriores.\n",
    "\n",
    "Se realizará un análisis sencillo de la estructura y una visualización de varias muestras. \n",
    "\n",
    "Además someteremos las variables categóricas a variables *dummies*, de forma que que podamos introducirlas ennuestro modelo."
   ]
  },
  {
   "cell_type": "markdown",
   "id": "popular-offering",
   "metadata": {},
   "source": [
    "### 2.1 Lectura de Fichero"
   ]
  },
  {
   "cell_type": "code",
   "execution_count": 4,
   "id": "missing-induction",
   "metadata": {},
   "outputs": [],
   "source": [
    "df = pd.read_csv('Data/dataset_model.txt', sep = ';', encoding = 'ISO-8859-1')"
   ]
  },
  {
   "cell_type": "code",
   "execution_count": 5,
   "id": "convertible-brass",
   "metadata": {},
   "outputs": [
    {
     "data": {
      "text/plain": [
       "(367632, 55)"
      ]
     },
     "execution_count": 5,
     "metadata": {},
     "output_type": "execute_result"
    }
   ],
   "source": [
    "df.shape"
   ]
  },
  {
   "cell_type": "code",
   "execution_count": 6,
   "id": "metropolitan-melissa",
   "metadata": {},
   "outputs": [
    {
     "data": {
      "text/html": [
       "<div>\n",
       "<style scoped>\n",
       "    .dataframe tbody tr th:only-of-type {\n",
       "        vertical-align: middle;\n",
       "    }\n",
       "\n",
       "    .dataframe tbody tr th {\n",
       "        vertical-align: top;\n",
       "    }\n",
       "\n",
       "    .dataframe thead th {\n",
       "        text-align: right;\n",
       "    }\n",
       "</style>\n",
       "<table border=\"1\" class=\"dataframe\">\n",
       "  <thead>\n",
       "    <tr style=\"text-align: right;\">\n",
       "      <th></th>\n",
       "      <th>TIPOUSUARIO</th>\n",
       "      <th>FECHA_REGISTRO_BUSINESS_DAY</th>\n",
       "      <th>FECHA_REGISTRO_WEEKDAY</th>\n",
       "      <th>FECHA_REGISTRO_MONTH</th>\n",
       "      <th>CANAL_REGISTRO</th>\n",
       "      <th>FECHA_ALTA_BUSINESS_DAY</th>\n",
       "      <th>FECHA_ALTA_WEEKDAY</th>\n",
       "      <th>FECHA_ALTA_MONTH</th>\n",
       "      <th>REGISTRO_ALTA</th>\n",
       "      <th>IND_ALTA</th>\n",
       "      <th>FECHA_CLIENTE_BUSINESS_DAY</th>\n",
       "      <th>FECHA_CLIENTE_WEEKDAY</th>\n",
       "      <th>FECHA_CLIENTE_MONTH</th>\n",
       "      <th>IND_CLIENTE</th>\n",
       "      <th>TIPOEMAIL</th>\n",
       "      <th>EMAIL_PERSONAL</th>\n",
       "      <th>BONDAD_EMAIL</th>\n",
       "      <th>TIPO_TELF</th>\n",
       "      <th>IPCASOS</th>\n",
       "      <th>IP_CONTINENTE</th>\n",
       "      <th>IP_COLOMBIA</th>\n",
       "      <th>IP_COUNTRY_PIB</th>\n",
       "      <th>IP_COUNTRY_IDH_NUM</th>\n",
       "      <th>IP_COUNTRY_IDH_GROUP</th>\n",
       "      <th>USU_TIPO</th>\n",
       "      <th>USU_TAMANIO</th>\n",
       "      <th>USU_ESTADO</th>\n",
       "      <th>USU_SECTOR_ECONOMICO</th>\n",
       "      <th>USU_DEPART_DEN_POB</th>\n",
       "      <th>USU_DEPART_IDH</th>\n",
       "      <th>FECHACONSUMO_BUSINESS_DAY</th>\n",
       "      <th>FECHACONSUMO_WEEKDAY</th>\n",
       "      <th>FECHACONSUMO_MONTH</th>\n",
       "      <th>ALTA_CONSUMO</th>\n",
       "      <th>CLIENTE_CONSUMO</th>\n",
       "      <th>1A_DESCGRUPOPROD</th>\n",
       "      <th>1A_EMPCONSUL_EST</th>\n",
       "      <th>1A_EMPCONSUL_SECTOR</th>\n",
       "      <th>1A_EMPCONSUL_PROV_DENS</th>\n",
       "      <th>1A_EMPCONSUL_PROV_IDH</th>\n",
       "      <th>CONSUM_TOT</th>\n",
       "      <th>FICH_PROMO_TOT</th>\n",
       "      <th>PERF_PROMO_TOT</th>\n",
       "      <th>RES_PAGO_TOT</th>\n",
       "      <th>EST_ACTIVA_TOT</th>\n",
       "      <th>EST_INACTIVA_TOT</th>\n",
       "      <th>EST_REESTRUCT_TOT</th>\n",
       "      <th>EST_CLINTON_TOT</th>\n",
       "      <th>EST_NI_TOT</th>\n",
       "      <th>SECT_PRIM_TOT</th>\n",
       "      <th>SECT_SECU_TOT</th>\n",
       "      <th>SECT_TERC_TOT</th>\n",
       "      <th>SECT_CUAT_TOT</th>\n",
       "      <th>SECT_QUIN_TOT</th>\n",
       "      <th>SECT_SD_TOT</th>\n",
       "    </tr>\n",
       "  </thead>\n",
       "  <tbody>\n",
       "    <tr>\n",
       "      <th>0</th>\n",
       "      <td>PF</td>\n",
       "      <td>1</td>\n",
       "      <td>1</td>\n",
       "      <td>10</td>\n",
       "      <td>3</td>\n",
       "      <td>-1</td>\n",
       "      <td>-1</td>\n",
       "      <td>-1</td>\n",
       "      <td>-1</td>\n",
       "      <td>0</td>\n",
       "      <td>-1</td>\n",
       "      <td>-1</td>\n",
       "      <td>-1</td>\n",
       "      <td>0</td>\n",
       "      <td>GOOHOTYAHMAIL</td>\n",
       "      <td>1</td>\n",
       "      <td>0</td>\n",
       "      <td>NO_PUBLICO</td>\n",
       "      <td>1</td>\n",
       "      <td>AMERICA_SUR</td>\n",
       "      <td>1</td>\n",
       "      <td>Ingreso mediano alto</td>\n",
       "      <td>0.767</td>\n",
       "      <td>Alto</td>\n",
       "      <td>NoApl</td>\n",
       "      <td>NoApl</td>\n",
       "      <td>NoApl</td>\n",
       "      <td>NoApl</td>\n",
       "      <td>-1.00</td>\n",
       "      <td>-1.000</td>\n",
       "      <td>1</td>\n",
       "      <td>1</td>\n",
       "      <td>10</td>\n",
       "      <td>-1</td>\n",
       "      <td>-1</td>\n",
       "      <td>PERF_PROMO</td>\n",
       "      <td>ACTIVA</td>\n",
       "      <td>TERCIARIO</td>\n",
       "      <td>47.92</td>\n",
       "      <td>0.782</td>\n",
       "      <td>1</td>\n",
       "      <td>0</td>\n",
       "      <td>1</td>\n",
       "      <td>0</td>\n",
       "      <td>1</td>\n",
       "      <td>0</td>\n",
       "      <td>0</td>\n",
       "      <td>0</td>\n",
       "      <td>0</td>\n",
       "      <td>0</td>\n",
       "      <td>0</td>\n",
       "      <td>1</td>\n",
       "      <td>0</td>\n",
       "      <td>0</td>\n",
       "      <td>0</td>\n",
       "    </tr>\n",
       "    <tr>\n",
       "      <th>1</th>\n",
       "      <td>PJ</td>\n",
       "      <td>1</td>\n",
       "      <td>1</td>\n",
       "      <td>5</td>\n",
       "      <td>3</td>\n",
       "      <td>-1</td>\n",
       "      <td>-1</td>\n",
       "      <td>-1</td>\n",
       "      <td>-1</td>\n",
       "      <td>0</td>\n",
       "      <td>-1</td>\n",
       "      <td>-1</td>\n",
       "      <td>-1</td>\n",
       "      <td>0</td>\n",
       "      <td>GOOHOTYAHMAIL</td>\n",
       "      <td>1</td>\n",
       "      <td>1</td>\n",
       "      <td>NO_PUBLICO</td>\n",
       "      <td>1</td>\n",
       "      <td>AMERICA_SUR</td>\n",
       "      <td>1</td>\n",
       "      <td>Ingreso mediano alto</td>\n",
       "      <td>0.767</td>\n",
       "      <td>Alto</td>\n",
       "      <td>SOC_COMERCIAL_INDUSTRIAL</td>\n",
       "      <td>PQ</td>\n",
       "      <td>ACTIVA</td>\n",
       "      <td>TERCIARIO</td>\n",
       "      <td>306.38</td>\n",
       "      <td>0.832</td>\n",
       "      <td>1</td>\n",
       "      <td>1</td>\n",
       "      <td>5</td>\n",
       "      <td>-1</td>\n",
       "      <td>-1</td>\n",
       "      <td>PERF_PROMO</td>\n",
       "      <td>ACTIVA</td>\n",
       "      <td>SD</td>\n",
       "      <td>47.92</td>\n",
       "      <td>0.782</td>\n",
       "      <td>1</td>\n",
       "      <td>0</td>\n",
       "      <td>1</td>\n",
       "      <td>0</td>\n",
       "      <td>1</td>\n",
       "      <td>0</td>\n",
       "      <td>0</td>\n",
       "      <td>0</td>\n",
       "      <td>0</td>\n",
       "      <td>0</td>\n",
       "      <td>0</td>\n",
       "      <td>0</td>\n",
       "      <td>0</td>\n",
       "      <td>0</td>\n",
       "      <td>1</td>\n",
       "    </tr>\n",
       "    <tr>\n",
       "      <th>2</th>\n",
       "      <td>PJ</td>\n",
       "      <td>1</td>\n",
       "      <td>2</td>\n",
       "      <td>9</td>\n",
       "      <td>7</td>\n",
       "      <td>-1</td>\n",
       "      <td>-1</td>\n",
       "      <td>-1</td>\n",
       "      <td>-1</td>\n",
       "      <td>0</td>\n",
       "      <td>-1</td>\n",
       "      <td>-1</td>\n",
       "      <td>-1</td>\n",
       "      <td>0</td>\n",
       "      <td>GOOHOTYAHMAIL</td>\n",
       "      <td>1</td>\n",
       "      <td>1</td>\n",
       "      <td>NO_PUBLICO</td>\n",
       "      <td>1</td>\n",
       "      <td>AMERICA_SUR</td>\n",
       "      <td>1</td>\n",
       "      <td>Ingreso mediano alto</td>\n",
       "      <td>0.767</td>\n",
       "      <td>Alto</td>\n",
       "      <td>SOC_COMERCIAL_INDUSTRIAL</td>\n",
       "      <td>MC</td>\n",
       "      <td>ACTIVA</td>\n",
       "      <td>TERCIARIO</td>\n",
       "      <td>815.17</td>\n",
       "      <td>0.835</td>\n",
       "      <td>1</td>\n",
       "      <td>2</td>\n",
       "      <td>9</td>\n",
       "      <td>-1</td>\n",
       "      <td>-1</td>\n",
       "      <td>PERF_PROMO</td>\n",
       "      <td>ACTIVA</td>\n",
       "      <td>TERCIARIO</td>\n",
       "      <td>4438.75</td>\n",
       "      <td>0.904</td>\n",
       "      <td>1</td>\n",
       "      <td>0</td>\n",
       "      <td>1</td>\n",
       "      <td>0</td>\n",
       "      <td>1</td>\n",
       "      <td>0</td>\n",
       "      <td>0</td>\n",
       "      <td>0</td>\n",
       "      <td>0</td>\n",
       "      <td>0</td>\n",
       "      <td>0</td>\n",
       "      <td>1</td>\n",
       "      <td>0</td>\n",
       "      <td>0</td>\n",
       "      <td>0</td>\n",
       "    </tr>\n",
       "  </tbody>\n",
       "</table>\n",
       "</div>"
      ],
      "text/plain": [
       "  TIPOUSUARIO  FECHA_REGISTRO_BUSINESS_DAY  FECHA_REGISTRO_WEEKDAY  \\\n",
       "0          PF                            1                       1   \n",
       "1          PJ                            1                       1   \n",
       "2          PJ                            1                       2   \n",
       "\n",
       "   FECHA_REGISTRO_MONTH  CANAL_REGISTRO  FECHA_ALTA_BUSINESS_DAY  \\\n",
       "0                    10               3                       -1   \n",
       "1                     5               3                       -1   \n",
       "2                     9               7                       -1   \n",
       "\n",
       "   FECHA_ALTA_WEEKDAY  FECHA_ALTA_MONTH  REGISTRO_ALTA  IND_ALTA  \\\n",
       "0                  -1                -1             -1         0   \n",
       "1                  -1                -1             -1         0   \n",
       "2                  -1                -1             -1         0   \n",
       "\n",
       "   FECHA_CLIENTE_BUSINESS_DAY  FECHA_CLIENTE_WEEKDAY  FECHA_CLIENTE_MONTH  \\\n",
       "0                          -1                     -1                   -1   \n",
       "1                          -1                     -1                   -1   \n",
       "2                          -1                     -1                   -1   \n",
       "\n",
       "   IND_CLIENTE      TIPOEMAIL  EMAIL_PERSONAL  BONDAD_EMAIL   TIPO_TELF  \\\n",
       "0            0  GOOHOTYAHMAIL               1             0  NO_PUBLICO   \n",
       "1            0  GOOHOTYAHMAIL               1             1  NO_PUBLICO   \n",
       "2            0  GOOHOTYAHMAIL               1             1  NO_PUBLICO   \n",
       "\n",
       "   IPCASOS IP_CONTINENTE  IP_COLOMBIA        IP_COUNTRY_PIB  \\\n",
       "0        1   AMERICA_SUR            1  Ingreso mediano alto   \n",
       "1        1   AMERICA_SUR            1  Ingreso mediano alto   \n",
       "2        1   AMERICA_SUR            1  Ingreso mediano alto   \n",
       "\n",
       "   IP_COUNTRY_IDH_NUM IP_COUNTRY_IDH_GROUP                  USU_TIPO  \\\n",
       "0               0.767                 Alto                     NoApl   \n",
       "1               0.767                 Alto  SOC_COMERCIAL_INDUSTRIAL   \n",
       "2               0.767                 Alto  SOC_COMERCIAL_INDUSTRIAL   \n",
       "\n",
       "  USU_TAMANIO USU_ESTADO USU_SECTOR_ECONOMICO  USU_DEPART_DEN_POB  \\\n",
       "0       NoApl      NoApl                NoApl               -1.00   \n",
       "1          PQ     ACTIVA            TERCIARIO              306.38   \n",
       "2          MC     ACTIVA            TERCIARIO              815.17   \n",
       "\n",
       "   USU_DEPART_IDH  FECHACONSUMO_BUSINESS_DAY  FECHACONSUMO_WEEKDAY  \\\n",
       "0          -1.000                          1                     1   \n",
       "1           0.832                          1                     1   \n",
       "2           0.835                          1                     2   \n",
       "\n",
       "   FECHACONSUMO_MONTH  ALTA_CONSUMO  CLIENTE_CONSUMO 1A_DESCGRUPOPROD  \\\n",
       "0                  10            -1               -1       PERF_PROMO   \n",
       "1                   5            -1               -1       PERF_PROMO   \n",
       "2                   9            -1               -1       PERF_PROMO   \n",
       "\n",
       "  1A_EMPCONSUL_EST 1A_EMPCONSUL_SECTOR  1A_EMPCONSUL_PROV_DENS  \\\n",
       "0           ACTIVA           TERCIARIO                   47.92   \n",
       "1           ACTIVA                  SD                   47.92   \n",
       "2           ACTIVA           TERCIARIO                 4438.75   \n",
       "\n",
       "   1A_EMPCONSUL_PROV_IDH  CONSUM_TOT  FICH_PROMO_TOT  PERF_PROMO_TOT  \\\n",
       "0                  0.782           1               0               1   \n",
       "1                  0.782           1               0               1   \n",
       "2                  0.904           1               0               1   \n",
       "\n",
       "   RES_PAGO_TOT  EST_ACTIVA_TOT  EST_INACTIVA_TOT  EST_REESTRUCT_TOT  \\\n",
       "0             0               1                 0                  0   \n",
       "1             0               1                 0                  0   \n",
       "2             0               1                 0                  0   \n",
       "\n",
       "   EST_CLINTON_TOT  EST_NI_TOT  SECT_PRIM_TOT  SECT_SECU_TOT  SECT_TERC_TOT  \\\n",
       "0                0           0              0              0              1   \n",
       "1                0           0              0              0              0   \n",
       "2                0           0              0              0              1   \n",
       "\n",
       "   SECT_CUAT_TOT  SECT_QUIN_TOT  SECT_SD_TOT  \n",
       "0              0              0            0  \n",
       "1              0              0            1  \n",
       "2              0              0            0  "
      ]
     },
     "execution_count": 6,
     "metadata": {},
     "output_type": "execute_result"
    }
   ],
   "source": [
    "df.head(3)"
   ]
  },
  {
   "cell_type": "markdown",
   "id": "8980cbe8-fdd7-4370-bba8-f7902787b1e5",
   "metadata": {},
   "source": [
    "------------------"
   ]
  },
  {
   "cell_type": "markdown",
   "id": "automotive-supervisor",
   "metadata": {},
   "source": [
    "### 2.2 Variables dummies"
   ]
  },
  {
   "cell_type": "code",
   "execution_count": 7,
   "id": "terminal-rotation",
   "metadata": {},
   "outputs": [],
   "source": [
    "ohe_columns = ['TIPOUSUARIO','TIPOEMAIL','TIPO_TELF','IP_CONTINENTE','IP_COUNTRY_PIB','IP_COUNTRY_IDH_GROUP','USU_TIPO','USU_TAMANIO','USU_ESTADO','USU_SECTOR_ECONOMICO',\n",
    "               '1A_DESCGRUPOPROD','1A_EMPCONSUL_EST','1A_EMPCONSUL_SECTOR']"
   ]
  },
  {
   "cell_type": "code",
   "execution_count": 8,
   "id": "comparable-english",
   "metadata": {},
   "outputs": [],
   "source": [
    "final_df = pd.get_dummies(df, columns = ohe_columns)"
   ]
  },
  {
   "cell_type": "markdown",
   "id": "approved-short",
   "metadata": {},
   "source": [
    "**Columnas para la predicción**"
   ]
  },
  {
   "cell_type": "code",
   "execution_count": 9,
   "id": "47875dca-b65a-488a-87ec-d25f64c7e272",
   "metadata": {},
   "outputs": [],
   "source": [
    "columnas = ['TIPOUSUARIO_PF','TIPOUSUARIO_PJ','FECHA_REGISTRO_BUSINESS_DAY','FECHA_REGISTRO_WEEKDAY','FECHA_REGISTRO_MONTH','CANAL_REGISTRO','FECHA_ALTA_BUSINESS_DAY',\n",
    "            'FECHA_ALTA_WEEKDAY','FECHA_ALTA_MONTH','REGISTRO_ALTA','TIPOEMAIL_ADMINISTRACION','TIPOEMAIL_CORPORATIVO','TIPOEMAIL_DOCENTE','TIPOEMAIL_GOOHOTYAHMAIL',\n",
    "            'TIPOEMAIL_SINCLASIFICAR','TIPOEMAIL_TEMPORAL','BONDAD_EMAIL','TIPO_TELF_EXTRANJERO','TIPO_TELF_MOVIL','TIPO_TELF_NO_PUBLICO','IPCASOS','IP_CONTINENTE_AFRICA',\n",
    "            'IP_CONTINENTE_AMERICA_NORTE','IP_CONTINENTE_AMERICA_SUR','IP_CONTINENTE_ASIA','IP_CONTINENTE_EUROPA','IP_CONTINENTE_NI','IP_CONTINENTE_OCEANNIA','IP_COLOMBIA',\n",
    "            'IP_COUNTRY_PIB_Ingreso alto','IP_COUNTRY_PIB_Ingreso mediano alto','IP_COUNTRY_PIB_NI','IP_COUNTRY_PIB_Países de ingreso mediano bajo','IP_COUNTRY_IDH_NUM',\n",
    "            'USU_TIPO_EMPRESARIO INDIVIDUAL','USU_TIPO_ENTIDAD_HOLDING','USU_TIPO_NI','USU_TIPO_NoApl','USU_TIPO_SOC_COMERCIAL_INDUSTRIAL','USU_TIPO_SOC_NO_COMERCIAL',\n",
    "            'USU_TAMANIO_GR','USU_TAMANIO_MC','USU_TAMANIO_MD','USU_TAMANIO_NoApl','USU_TAMANIO_PQ','USU_TAMANIO_SD','USU_ESTADO_ACTIVA','USU_ESTADO_INACTIVA','USU_ESTADO_NoApl',\n",
    "            'USU_ESTADO_REESTRUCTURACION','USU_ESTADO_RELACION_CLINTON','USU_ESTADO_SD','USU_SECTOR_ECONOMICO_CUATERNARIO','USU_SECTOR_ECONOMICO_NoApl','USU_SECTOR_ECONOMICO_PRIMARIO',\n",
    "            'USU_SECTOR_ECONOMICO_QUINARIO','USU_SECTOR_ECONOMICO_SD','USU_SECTOR_ECONOMICO_SECUNDARIO','USU_SECTOR_ECONOMICO_TERCIARIO','USU_DEPART_DEN_POB','USU_DEPART_IDH',\n",
    "            'FECHACONSUMO_BUSINESS_DAY','FECHACONSUMO_WEEKDAY','FECHACONSUMO_MONTH','ALTA_CONSUMO','1A_DESCGRUPOPROD_FICH_PROMO','1A_DESCGRUPOPROD_PERF_PROMO',\n",
    "            '1A_DESCGRUPOPROD_RES_PAGO','1A_EMPCONSUL_EST_ACTIVA','1A_EMPCONSUL_EST_INACTIVA','1A_EMPCONSUL_EST_NI','1A_EMPCONSUL_EST_REESTRUCTURACION',\n",
    "            '1A_EMPCONSUL_EST_RELACION_CLINTON','1A_EMPCONSUL_SECTOR_CUATERNARIO','1A_EMPCONSUL_SECTOR_PRIMARIO','1A_EMPCONSUL_SECTOR_QUINARIO','1A_EMPCONSUL_SECTOR_SD',\n",
    "            '1A_EMPCONSUL_SECTOR_SECUNDARIO','1A_EMPCONSUL_SECTOR_TERCIARIO','1A_EMPCONSUL_PROV_DENS','1A_EMPCONSUL_PROV_IDH','FICH_PROMO_TOT','PERF_PROMO_TOT']"
   ]
  },
  {
   "cell_type": "markdown",
   "id": "noted-genetics",
   "metadata": {},
   "source": [
    "-----------------"
   ]
  },
  {
   "cell_type": "markdown",
   "id": "b53a6771-0046-48a6-871c-05a8a6cf2dc2",
   "metadata": {},
   "source": [
    "------------------"
   ]
  },
  {
   "cell_type": "markdown",
   "id": "correct-music",
   "metadata": {},
   "source": [
    "### 3.1 Analisis desbalanceo"
   ]
  },
  {
   "cell_type": "code",
   "execution_count": 10,
   "id": "impaired-liabilities",
   "metadata": {},
   "outputs": [
    {
     "data": {
      "text/plain": [
       "(3709, 108)"
      ]
     },
     "execution_count": 10,
     "metadata": {},
     "output_type": "execute_result"
    }
   ],
   "source": [
    "final_df.loc[final_df['IND_ALTA'] == 1].shape"
   ]
  },
  {
   "cell_type": "code",
   "execution_count": 11,
   "id": "modern-respect",
   "metadata": {},
   "outputs": [
    {
     "data": {
      "text/plain": [
       "1    2614\n",
       "0    1095\n",
       "Name: IND_CLIENTE, dtype: int64"
      ]
     },
     "execution_count": 11,
     "metadata": {},
     "output_type": "execute_result"
    }
   ],
   "source": [
    "pd.value_counts(final_df.loc[final_df['IND_ALTA'] == 1, 'IND_CLIENTE'], sort = True)"
   ]
  },
  {
   "cell_type": "code",
   "execution_count": 12,
   "id": "traditional-arthritis",
   "metadata": {},
   "outputs": [
    {
     "data": {
      "image/png": "[encoded data removed]",
      "text/plain": [
       "<Figure size 432x288 with 1 Axes>"
      ]
     },
     "metadata": {
      "needs_background": "light"
     },
     "output_type": "display_data"
    }
   ],
   "source": [
    "count_classes = pd.value_counts(final_df.loc[final_df['IND_ALTA'] == 1, 'IND_CLIENTE'], sort = True)\n",
    "count_classes.plot(kind = 'bar', rot = 0)\n",
    "plt.title(\"Frequency by observation number - Clientes sobre las altas\")\n",
    "plt.xlabel(\"Target\")\n",
    "plt.ylabel(\"Observations\");"
   ]
  },
  {
   "cell_type": "code",
   "execution_count": 13,
   "id": "ancient-bernard",
   "metadata": {},
   "outputs": [
    {
     "name": "stdout",
     "output_type": "stream",
     "text": [
      "Los clientes suponen un % del total:  70.47721757886222\n"
     ]
    }
   ],
   "source": [
    "print('Los clientes suponen un % del total: ', (2614/final_df.loc[final_df['IND_ALTA'] == 1].shape[0])*100)"
   ]
  },
  {
   "cell_type": "markdown",
   "id": "outdoor-block",
   "metadata": {},
   "source": [
    "------------------"
   ]
  },
  {
   "cell_type": "markdown",
   "id": "fdd02bf4-e138-4042-a589-d306dc6779e0",
   "metadata": {},
   "source": [
    "------------------"
   ]
  },
  {
   "cell_type": "markdown",
   "id": "central-personality",
   "metadata": {},
   "source": [
    "### 4. Creación del Modelo"
   ]
  },
  {
   "cell_type": "markdown",
   "id": "otherwise-capability",
   "metadata": {},
   "source": [
    "#### 4.1 Dividimos el set entre features y label"
   ]
  },
  {
   "cell_type": "code",
   "execution_count": 14,
   "id": "integrated-substitute",
   "metadata": {},
   "outputs": [],
   "source": [
    "features = final_df.loc[final_df['IND_ALTA'] == 1, columnas]\n",
    "labels = final_df.loc[final_df['IND_ALTA'] == 1, 'IND_CLIENTE']"
   ]
  },
  {
   "cell_type": "code",
   "execution_count": 15,
   "id": "advance-germany",
   "metadata": {},
   "outputs": [
    {
     "data": {
      "text/plain": [
       "(3709, 83)"
      ]
     },
     "execution_count": 15,
     "metadata": {},
     "output_type": "execute_result"
    }
   ],
   "source": [
    "features.shape"
   ]
  },
  {
   "cell_type": "code",
   "execution_count": 16,
   "id": "lesser-spread",
   "metadata": {},
   "outputs": [
    {
     "data": {
      "text/plain": [
       "(3709,)"
      ]
     },
     "execution_count": 16,
     "metadata": {},
     "output_type": "execute_result"
    }
   ],
   "source": [
    "labels.shape"
   ]
  },
  {
   "cell_type": "markdown",
   "id": "3a931989-9ac6-423c-9670-35bb88a7ca36",
   "metadata": {},
   "source": [
    "------------------"
   ]
  },
  {
   "cell_type": "markdown",
   "id": "furnished-america",
   "metadata": {},
   "source": [
    "#### 4.2 Creamos set de entrenamiento y test"
   ]
  },
  {
   "cell_type": "code",
   "execution_count": 17,
   "id": "caring-thanks",
   "metadata": {},
   "outputs": [],
   "source": [
    "train_x, test_x, train_y, test_y = train_test_split(features, labels, test_size = 0.3, random_state = 123)"
   ]
  },
  {
   "cell_type": "code",
   "execution_count": 18,
   "id": "instructional-hamilton",
   "metadata": {},
   "outputs": [
    {
     "data": {
      "text/plain": [
       "(2596, 83)"
      ]
     },
     "execution_count": 18,
     "metadata": {},
     "output_type": "execute_result"
    }
   ],
   "source": [
    "train_x.shape"
   ]
  },
  {
   "cell_type": "code",
   "execution_count": 19,
   "id": "responsible-hometown",
   "metadata": {},
   "outputs": [
    {
     "data": {
      "text/plain": [
       "(1113, 83)"
      ]
     },
     "execution_count": 19,
     "metadata": {},
     "output_type": "execute_result"
    }
   ],
   "source": [
    "test_x.shape"
   ]
  },
  {
   "cell_type": "code",
   "execution_count": 20,
   "id": "funky-scientist",
   "metadata": {},
   "outputs": [
    {
     "data": {
      "text/plain": [
       "(2596,)"
      ]
     },
     "execution_count": 20,
     "metadata": {},
     "output_type": "execute_result"
    }
   ],
   "source": [
    "train_y.shape"
   ]
  },
  {
   "cell_type": "code",
   "execution_count": 21,
   "id": "regional-discretion",
   "metadata": {},
   "outputs": [
    {
     "data": {
      "text/plain": [
       "(1113,)"
      ]
     },
     "execution_count": 21,
     "metadata": {},
     "output_type": "execute_result"
    }
   ],
   "source": [
    "test_y.shape"
   ]
  },
  {
   "cell_type": "markdown",
   "id": "abbe61b9-fafe-4878-a370-acedd25dba68",
   "metadata": {},
   "source": [
    "------------------"
   ]
  },
  {
   "cell_type": "markdown",
   "id": "canadian-joining",
   "metadata": {},
   "source": [
    "#### 4.3 Selección Hiperparámetros"
   ]
  },
  {
   "cell_type": "markdown",
   "id": "vocational-adrian",
   "metadata": {},
   "source": [
    "Definimos una serie de hiperparámetros diferentes para comparar resultados"
   ]
  },
  {
   "cell_type": "code",
   "execution_count": 22,
   "id": "rising-lender",
   "metadata": {},
   "outputs": [],
   "source": [
    "param_grid = ParameterGrid({'n_estimators': [5, 20, 50, 100, 150],\n",
    "                            'max_features': [5, 'log2', 'auto', 'sqrt'],\n",
    "                            'max_depth'   : [None, 3, 5, 7, 10],\n",
    "                            'criterion'   : ['gini', 'entropy'],\n",
    "                            'class_weight': ['balanced']\n",
    "                           })"
   ]
  },
  {
   "cell_type": "markdown",
   "id": "celtic-plaintiff",
   "metadata": {},
   "source": [
    "Loop para ajustar un modelo con cada combinación de hiperparámetros"
   ]
  },
  {
   "cell_type": "code",
   "execution_count": 23,
   "id": "alert-consideration",
   "metadata": {},
   "outputs": [],
   "source": [
    "resultados = {'params': [], 'oob_accuracy': []}"
   ]
  },
  {
   "cell_type": "code",
   "execution_count": 24,
   "id": "large-attitude",
   "metadata": {
    "tags": []
   },
   "outputs": [
    {
     "name": "stdout",
     "output_type": "stream",
     "text": [
      "Modelo: {'class_weight': 'balanced', 'criterion': 'gini', 'max_depth': None, 'max_features': 5, 'n_estimators': 5} ✓\n",
      "Modelo: {'class_weight': 'balanced', 'criterion': 'gini', 'max_depth': None, 'max_features': 5, 'n_estimators': 20} ✓\n",
      "Modelo: {'class_weight': 'balanced', 'criterion': 'gini', 'max_depth': None, 'max_features': 5, 'n_estimators': 50} ✓\n",
      "Modelo: {'class_weight': 'balanced', 'criterion': 'gini', 'max_depth': None, 'max_features': 5, 'n_estimators': 100} ✓\n",
      "Modelo: {'class_weight': 'balanced', 'criterion': 'gini', 'max_depth': None, 'max_features': 5, 'n_estimators': 150} ✓\n",
      "Modelo: {'class_weight': 'balanced', 'criterion': 'gini', 'max_depth': None, 'max_features': 'log2', 'n_estimators': 5} ✓\n",
      "Modelo: {'class_weight': 'balanced', 'criterion': 'gini', 'max_depth': None, 'max_features': 'log2', 'n_estimators': 20} ✓\n",
      "Modelo: {'class_weight': 'balanced', 'criterion': 'gini', 'max_depth': None, 'max_features': 'log2', 'n_estimators': 50} ✓\n",
      "Modelo: {'class_weight': 'balanced', 'criterion': 'gini', 'max_depth': None, 'max_features': 'log2', 'n_estimators': 100} ✓\n",
      "Modelo: {'class_weight': 'balanced', 'criterion': 'gini', 'max_depth': None, 'max_features': 'log2', 'n_estimators': 150} ✓\n",
      "Modelo: {'class_weight': 'balanced', 'criterion': 'gini', 'max_depth': None, 'max_features': 'auto', 'n_estimators': 5} ✓\n",
      "Modelo: {'class_weight': 'balanced', 'criterion': 'gini', 'max_depth': None, 'max_features': 'auto', 'n_estimators': 20} ✓\n",
      "Modelo: {'class_weight': 'balanced', 'criterion': 'gini', 'max_depth': None, 'max_features': 'auto', 'n_estimators': 50} ✓\n",
      "Modelo: {'class_weight': 'balanced', 'criterion': 'gini', 'max_depth': None, 'max_features': 'auto', 'n_estimators': 100} ✓\n",
      "Modelo: {'class_weight': 'balanced', 'criterion': 'gini', 'max_depth': None, 'max_features': 'auto', 'n_estimators': 150} ✓\n",
      "Modelo: {'class_weight': 'balanced', 'criterion': 'gini', 'max_depth': None, 'max_features': 'sqrt', 'n_estimators': 5} ✓\n",
      "Modelo: {'class_weight': 'balanced', 'criterion': 'gini', 'max_depth': None, 'max_features': 'sqrt', 'n_estimators': 20} ✓\n",
      "Modelo: {'class_weight': 'balanced', 'criterion': 'gini', 'max_depth': None, 'max_features': 'sqrt', 'n_estimators': 50} ✓\n",
      "Modelo: {'class_weight': 'balanced', 'criterion': 'gini', 'max_depth': None, 'max_features': 'sqrt', 'n_estimators': 100} ✓\n",
      "Modelo: {'class_weight': 'balanced', 'criterion': 'gini', 'max_depth': None, 'max_features': 'sqrt', 'n_estimators': 150} ✓\n",
      "Modelo: {'class_weight': 'balanced', 'criterion': 'gini', 'max_depth': 3, 'max_features': 5, 'n_estimators': 5} ✓\n",
      "Modelo: {'class_weight': 'balanced', 'criterion': 'gini', 'max_depth': 3, 'max_features': 5, 'n_estimators': 20} ✓\n",
      "Modelo: {'class_weight': 'balanced', 'criterion': 'gini', 'max_depth': 3, 'max_features': 5, 'n_estimators': 50} ✓\n",
      "Modelo: {'class_weight': 'balanced', 'criterion': 'gini', 'max_depth': 3, 'max_features': 5, 'n_estimators': 100} ✓\n",
      "Modelo: {'class_weight': 'balanced', 'criterion': 'gini', 'max_depth': 3, 'max_features': 5, 'n_estimators': 150} ✓\n",
      "Modelo: {'class_weight': 'balanced', 'criterion': 'gini', 'max_depth': 3, 'max_features': 'log2', 'n_estimators': 5} ✓\n",
      "Modelo: {'class_weight': 'balanced', 'criterion': 'gini', 'max_depth': 3, 'max_features': 'log2', 'n_estimators': 20} ✓\n",
      "Modelo: {'class_weight': 'balanced', 'criterion': 'gini', 'max_depth': 3, 'max_features': 'log2', 'n_estimators': 50} ✓\n",
      "Modelo: {'class_weight': 'balanced', 'criterion': 'gini', 'max_depth': 3, 'max_features': 'log2', 'n_estimators': 100} ✓\n",
      "Modelo: {'class_weight': 'balanced', 'criterion': 'gini', 'max_depth': 3, 'max_features': 'log2', 'n_estimators': 150} ✓\n",
      "Modelo: {'class_weight': 'balanced', 'criterion': 'gini', 'max_depth': 3, 'max_features': 'auto', 'n_estimators': 5} ✓\n",
      "Modelo: {'class_weight': 'balanced', 'criterion': 'gini', 'max_depth': 3, 'max_features': 'auto', 'n_estimators': 20} ✓\n",
      "Modelo: {'class_weight': 'balanced', 'criterion': 'gini', 'max_depth': 3, 'max_features': 'auto', 'n_estimators': 50} ✓\n",
      "Modelo: {'class_weight': 'balanced', 'criterion': 'gini', 'max_depth': 3, 'max_features': 'auto', 'n_estimators': 100} ✓\n",
      "Modelo: {'class_weight': 'balanced', 'criterion': 'gini', 'max_depth': 3, 'max_features': 'auto', 'n_estimators': 150} ✓\n",
      "Modelo: {'class_weight': 'balanced', 'criterion': 'gini', 'max_depth': 3, 'max_features': 'sqrt', 'n_estimators': 5} ✓\n",
      "Modelo: {'class_weight': 'balanced', 'criterion': 'gini', 'max_depth': 3, 'max_features': 'sqrt', 'n_estimators': 20} ✓\n",
      "Modelo: {'class_weight': 'balanced', 'criterion': 'gini', 'max_depth': 3, 'max_features': 'sqrt', 'n_estimators': 50} ✓\n",
      "Modelo: {'class_weight': 'balanced', 'criterion': 'gini', 'max_depth': 3, 'max_features': 'sqrt', 'n_estimators': 100} ✓\n",
      "Modelo: {'class_weight': 'balanced', 'criterion': 'gini', 'max_depth': 3, 'max_features': 'sqrt', 'n_estimators': 150} ✓\n",
      "Modelo: {'class_weight': 'balanced', 'criterion': 'gini', 'max_depth': 5, 'max_features': 5, 'n_estimators': 5} ✓\n",
      "Modelo: {'class_weight': 'balanced', 'criterion': 'gini', 'max_depth': 5, 'max_features': 5, 'n_estimators': 20} ✓\n",
      "Modelo: {'class_weight': 'balanced', 'criterion': 'gini', 'max_depth': 5, 'max_features': 5, 'n_estimators': 50} ✓\n",
      "Modelo: {'class_weight': 'balanced', 'criterion': 'gini', 'max_depth': 5, 'max_features': 5, 'n_estimators': 100} ✓\n",
      "Modelo: {'class_weight': 'balanced', 'criterion': 'gini', 'max_depth': 5, 'max_features': 5, 'n_estimators': 150} ✓\n",
      "Modelo: {'class_weight': 'balanced', 'criterion': 'gini', 'max_depth': 5, 'max_features': 'log2', 'n_estimators': 5} ✓\n",
      "Modelo: {'class_weight': 'balanced', 'criterion': 'gini', 'max_depth': 5, 'max_features': 'log2', 'n_estimators': 20} ✓\n",
      "Modelo: {'class_weight': 'balanced', 'criterion': 'gini', 'max_depth': 5, 'max_features': 'log2', 'n_estimators': 50} ✓\n",
      "Modelo: {'class_weight': 'balanced', 'criterion': 'gini', 'max_depth': 5, 'max_features': 'log2', 'n_estimators': 100} ✓\n",
      "Modelo: {'class_weight': 'balanced', 'criterion': 'gini', 'max_depth': 5, 'max_features': 'log2', 'n_estimators': 150} ✓\n",
      "Modelo: {'class_weight': 'balanced', 'criterion': 'gini', 'max_depth': 5, 'max_features': 'auto', 'n_estimators': 5} ✓\n",
      "Modelo: {'class_weight': 'balanced', 'criterion': 'gini', 'max_depth': 5, 'max_features': 'auto', 'n_estimators': 20} ✓\n",
      "Modelo: {'class_weight': 'balanced', 'criterion': 'gini', 'max_depth': 5, 'max_features': 'auto', 'n_estimators': 50} ✓\n",
      "Modelo: {'class_weight': 'balanced', 'criterion': 'gini', 'max_depth': 5, 'max_features': 'auto', 'n_estimators': 100} ✓\n",
      "Modelo: {'class_weight': 'balanced', 'criterion': 'gini', 'max_depth': 5, 'max_features': 'auto', 'n_estimators': 150} ✓\n",
      "Modelo: {'class_weight': 'balanced', 'criterion': 'gini', 'max_depth': 5, 'max_features': 'sqrt', 'n_estimators': 5} ✓\n",
      "Modelo: {'class_weight': 'balanced', 'criterion': 'gini', 'max_depth': 5, 'max_features': 'sqrt', 'n_estimators': 20} ✓\n",
      "Modelo: {'class_weight': 'balanced', 'criterion': 'gini', 'max_depth': 5, 'max_features': 'sqrt', 'n_estimators': 50} ✓\n",
      "Modelo: {'class_weight': 'balanced', 'criterion': 'gini', 'max_depth': 5, 'max_features': 'sqrt', 'n_estimators': 100} ✓\n",
      "Modelo: {'class_weight': 'balanced', 'criterion': 'gini', 'max_depth': 5, 'max_features': 'sqrt', 'n_estimators': 150} ✓\n",
      "Modelo: {'class_weight': 'balanced', 'criterion': 'gini', 'max_depth': 7, 'max_features': 5, 'n_estimators': 5} ✓\n",
      "Modelo: {'class_weight': 'balanced', 'criterion': 'gini', 'max_depth': 7, 'max_features': 5, 'n_estimators': 20} ✓\n",
      "Modelo: {'class_weight': 'balanced', 'criterion': 'gini', 'max_depth': 7, 'max_features': 5, 'n_estimators': 50} ✓\n",
      "Modelo: {'class_weight': 'balanced', 'criterion': 'gini', 'max_depth': 7, 'max_features': 5, 'n_estimators': 100} ✓\n",
      "Modelo: {'class_weight': 'balanced', 'criterion': 'gini', 'max_depth': 7, 'max_features': 5, 'n_estimators': 150} ✓\n",
      "Modelo: {'class_weight': 'balanced', 'criterion': 'gini', 'max_depth': 7, 'max_features': 'log2', 'n_estimators': 5} ✓\n",
      "Modelo: {'class_weight': 'balanced', 'criterion': 'gini', 'max_depth': 7, 'max_features': 'log2', 'n_estimators': 20} ✓\n",
      "Modelo: {'class_weight': 'balanced', 'criterion': 'gini', 'max_depth': 7, 'max_features': 'log2', 'n_estimators': 50} ✓\n",
      "Modelo: {'class_weight': 'balanced', 'criterion': 'gini', 'max_depth': 7, 'max_features': 'log2', 'n_estimators': 100} ✓\n",
      "Modelo: {'class_weight': 'balanced', 'criterion': 'gini', 'max_depth': 7, 'max_features': 'log2', 'n_estimators': 150} ✓\n",
      "Modelo: {'class_weight': 'balanced', 'criterion': 'gini', 'max_depth': 7, 'max_features': 'auto', 'n_estimators': 5} ✓\n",
      "Modelo: {'class_weight': 'balanced', 'criterion': 'gini', 'max_depth': 7, 'max_features': 'auto', 'n_estimators': 20} ✓\n",
      "Modelo: {'class_weight': 'balanced', 'criterion': 'gini', 'max_depth': 7, 'max_features': 'auto', 'n_estimators': 50} ✓\n",
      "Modelo: {'class_weight': 'balanced', 'criterion': 'gini', 'max_depth': 7, 'max_features': 'auto', 'n_estimators': 100} ✓\n",
      "Modelo: {'class_weight': 'balanced', 'criterion': 'gini', 'max_depth': 7, 'max_features': 'auto', 'n_estimators': 150} ✓\n",
      "Modelo: {'class_weight': 'balanced', 'criterion': 'gini', 'max_depth': 7, 'max_features': 'sqrt', 'n_estimators': 5} ✓\n",
      "Modelo: {'class_weight': 'balanced', 'criterion': 'gini', 'max_depth': 7, 'max_features': 'sqrt', 'n_estimators': 20} ✓\n",
      "Modelo: {'class_weight': 'balanced', 'criterion': 'gini', 'max_depth': 7, 'max_features': 'sqrt', 'n_estimators': 50} ✓\n",
      "Modelo: {'class_weight': 'balanced', 'criterion': 'gini', 'max_depth': 7, 'max_features': 'sqrt', 'n_estimators': 100} ✓\n",
      "Modelo: {'class_weight': 'balanced', 'criterion': 'gini', 'max_depth': 7, 'max_features': 'sqrt', 'n_estimators': 150} ✓\n",
      "Modelo: {'class_weight': 'balanced', 'criterion': 'gini', 'max_depth': 10, 'max_features': 5, 'n_estimators': 5} ✓\n",
      "Modelo: {'class_weight': 'balanced', 'criterion': 'gini', 'max_depth': 10, 'max_features': 5, 'n_estimators': 20} ✓\n",
      "Modelo: {'class_weight': 'balanced', 'criterion': 'gini', 'max_depth': 10, 'max_features': 5, 'n_estimators': 50} ✓\n",
      "Modelo: {'class_weight': 'balanced', 'criterion': 'gini', 'max_depth': 10, 'max_features': 5, 'n_estimators': 100} ✓\n",
      "Modelo: {'class_weight': 'balanced', 'criterion': 'gini', 'max_depth': 10, 'max_features': 5, 'n_estimators': 150} ✓\n",
      "Modelo: {'class_weight': 'balanced', 'criterion': 'gini', 'max_depth': 10, 'max_features': 'log2', 'n_estimators': 5} ✓\n",
      "Modelo: {'class_weight': 'balanced', 'criterion': 'gini', 'max_depth': 10, 'max_features': 'log2', 'n_estimators': 20} ✓\n",
      "Modelo: {'class_weight': 'balanced', 'criterion': 'gini', 'max_depth': 10, 'max_features': 'log2', 'n_estimators': 50} ✓\n",
      "Modelo: {'class_weight': 'balanced', 'criterion': 'gini', 'max_depth': 10, 'max_features': 'log2', 'n_estimators': 100} ✓\n",
      "Modelo: {'class_weight': 'balanced', 'criterion': 'gini', 'max_depth': 10, 'max_features': 'log2', 'n_estimators': 150} ✓\n",
      "Modelo: {'class_weight': 'balanced', 'criterion': 'gini', 'max_depth': 10, 'max_features': 'auto', 'n_estimators': 5} ✓\n",
      "Modelo: {'class_weight': 'balanced', 'criterion': 'gini', 'max_depth': 10, 'max_features': 'auto', 'n_estimators': 20} ✓\n",
      "Modelo: {'class_weight': 'balanced', 'criterion': 'gini', 'max_depth': 10, 'max_features': 'auto', 'n_estimators': 50} ✓\n",
      "Modelo: {'class_weight': 'balanced', 'criterion': 'gini', 'max_depth': 10, 'max_features': 'auto', 'n_estimators': 100} ✓\n",
      "Modelo: {'class_weight': 'balanced', 'criterion': 'gini', 'max_depth': 10, 'max_features': 'auto', 'n_estimators': 150} ✓\n",
      "Modelo: {'class_weight': 'balanced', 'criterion': 'gini', 'max_depth': 10, 'max_features': 'sqrt', 'n_estimators': 5} ✓\n",
      "Modelo: {'class_weight': 'balanced', 'criterion': 'gini', 'max_depth': 10, 'max_features': 'sqrt', 'n_estimators': 20} ✓\n",
      "Modelo: {'class_weight': 'balanced', 'criterion': 'gini', 'max_depth': 10, 'max_features': 'sqrt', 'n_estimators': 50} ✓\n",
      "Modelo: {'class_weight': 'balanced', 'criterion': 'gini', 'max_depth': 10, 'max_features': 'sqrt', 'n_estimators': 100} ✓\n",
      "Modelo: {'class_weight': 'balanced', 'criterion': 'gini', 'max_depth': 10, 'max_features': 'sqrt', 'n_estimators': 150} ✓\n",
      "Modelo: {'class_weight': 'balanced', 'criterion': 'entropy', 'max_depth': None, 'max_features': 5, 'n_estimators': 5} ✓\n",
      "Modelo: {'class_weight': 'balanced', 'criterion': 'entropy', 'max_depth': None, 'max_features': 5, 'n_estimators': 20} ✓\n",
      "Modelo: {'class_weight': 'balanced', 'criterion': 'entropy', 'max_depth': None, 'max_features': 5, 'n_estimators': 50} ✓\n",
      "Modelo: {'class_weight': 'balanced', 'criterion': 'entropy', 'max_depth': None, 'max_features': 5, 'n_estimators': 100} ✓\n",
      "Modelo: {'class_weight': 'balanced', 'criterion': 'entropy', 'max_depth': None, 'max_features': 5, 'n_estimators': 150} ✓\n",
      "Modelo: {'class_weight': 'balanced', 'criterion': 'entropy', 'max_depth': None, 'max_features': 'log2', 'n_estimators': 5} ✓\n",
      "Modelo: {'class_weight': 'balanced', 'criterion': 'entropy', 'max_depth': None, 'max_features': 'log2', 'n_estimators': 20} ✓\n",
      "Modelo: {'class_weight': 'balanced', 'criterion': 'entropy', 'max_depth': None, 'max_features': 'log2', 'n_estimators': 50} ✓\n",
      "Modelo: {'class_weight': 'balanced', 'criterion': 'entropy', 'max_depth': None, 'max_features': 'log2', 'n_estimators': 100} ✓\n",
      "Modelo: {'class_weight': 'balanced', 'criterion': 'entropy', 'max_depth': None, 'max_features': 'log2', 'n_estimators': 150} ✓\n",
      "Modelo: {'class_weight': 'balanced', 'criterion': 'entropy', 'max_depth': None, 'max_features': 'auto', 'n_estimators': 5} ✓\n",
      "Modelo: {'class_weight': 'balanced', 'criterion': 'entropy', 'max_depth': None, 'max_features': 'auto', 'n_estimators': 20} ✓\n",
      "Modelo: {'class_weight': 'balanced', 'criterion': 'entropy', 'max_depth': None, 'max_features': 'auto', 'n_estimators': 50} ✓\n",
      "Modelo: {'class_weight': 'balanced', 'criterion': 'entropy', 'max_depth': None, 'max_features': 'auto', 'n_estimators': 100} ✓\n",
      "Modelo: {'class_weight': 'balanced', 'criterion': 'entropy', 'max_depth': None, 'max_features': 'auto', 'n_estimators': 150} ✓\n",
      "Modelo: {'class_weight': 'balanced', 'criterion': 'entropy', 'max_depth': None, 'max_features': 'sqrt', 'n_estimators': 5} ✓\n",
      "Modelo: {'class_weight': 'balanced', 'criterion': 'entropy', 'max_depth': None, 'max_features': 'sqrt', 'n_estimators': 20} ✓\n",
      "Modelo: {'class_weight': 'balanced', 'criterion': 'entropy', 'max_depth': None, 'max_features': 'sqrt', 'n_estimators': 50} ✓\n",
      "Modelo: {'class_weight': 'balanced', 'criterion': 'entropy', 'max_depth': None, 'max_features': 'sqrt', 'n_estimators': 100} ✓\n",
      "Modelo: {'class_weight': 'balanced', 'criterion': 'entropy', 'max_depth': None, 'max_features': 'sqrt', 'n_estimators': 150} ✓\n",
      "Modelo: {'class_weight': 'balanced', 'criterion': 'entropy', 'max_depth': 3, 'max_features': 5, 'n_estimators': 5} ✓\n",
      "Modelo: {'class_weight': 'balanced', 'criterion': 'entropy', 'max_depth': 3, 'max_features': 5, 'n_estimators': 20} ✓\n",
      "Modelo: {'class_weight': 'balanced', 'criterion': 'entropy', 'max_depth': 3, 'max_features': 5, 'n_estimators': 50} ✓\n",
      "Modelo: {'class_weight': 'balanced', 'criterion': 'entropy', 'max_depth': 3, 'max_features': 5, 'n_estimators': 100} ✓\n",
      "Modelo: {'class_weight': 'balanced', 'criterion': 'entropy', 'max_depth': 3, 'max_features': 5, 'n_estimators': 150} ✓\n",
      "Modelo: {'class_weight': 'balanced', 'criterion': 'entropy', 'max_depth': 3, 'max_features': 'log2', 'n_estimators': 5} ✓\n",
      "Modelo: {'class_weight': 'balanced', 'criterion': 'entropy', 'max_depth': 3, 'max_features': 'log2', 'n_estimators': 20} ✓\n",
      "Modelo: {'class_weight': 'balanced', 'criterion': 'entropy', 'max_depth': 3, 'max_features': 'log2', 'n_estimators': 50} ✓\n",
      "Modelo: {'class_weight': 'balanced', 'criterion': 'entropy', 'max_depth': 3, 'max_features': 'log2', 'n_estimators': 100} ✓\n",
      "Modelo: {'class_weight': 'balanced', 'criterion': 'entropy', 'max_depth': 3, 'max_features': 'log2', 'n_estimators': 150} ✓\n",
      "Modelo: {'class_weight': 'balanced', 'criterion': 'entropy', 'max_depth': 3, 'max_features': 'auto', 'n_estimators': 5} ✓\n",
      "Modelo: {'class_weight': 'balanced', 'criterion': 'entropy', 'max_depth': 3, 'max_features': 'auto', 'n_estimators': 20} ✓\n",
      "Modelo: {'class_weight': 'balanced', 'criterion': 'entropy', 'max_depth': 3, 'max_features': 'auto', 'n_estimators': 50} ✓\n",
      "Modelo: {'class_weight': 'balanced', 'criterion': 'entropy', 'max_depth': 3, 'max_features': 'auto', 'n_estimators': 100} ✓\n",
      "Modelo: {'class_weight': 'balanced', 'criterion': 'entropy', 'max_depth': 3, 'max_features': 'auto', 'n_estimators': 150} ✓\n",
      "Modelo: {'class_weight': 'balanced', 'criterion': 'entropy', 'max_depth': 3, 'max_features': 'sqrt', 'n_estimators': 5} ✓\n",
      "Modelo: {'class_weight': 'balanced', 'criterion': 'entropy', 'max_depth': 3, 'max_features': 'sqrt', 'n_estimators': 20} ✓\n",
      "Modelo: {'class_weight': 'balanced', 'criterion': 'entropy', 'max_depth': 3, 'max_features': 'sqrt', 'n_estimators': 50} ✓\n",
      "Modelo: {'class_weight': 'balanced', 'criterion': 'entropy', 'max_depth': 3, 'max_features': 'sqrt', 'n_estimators': 100} ✓\n",
      "Modelo: {'class_weight': 'balanced', 'criterion': 'entropy', 'max_depth': 3, 'max_features': 'sqrt', 'n_estimators': 150} ✓\n",
      "Modelo: {'class_weight': 'balanced', 'criterion': 'entropy', 'max_depth': 5, 'max_features': 5, 'n_estimators': 5} ✓\n",
      "Modelo: {'class_weight': 'balanced', 'criterion': 'entropy', 'max_depth': 5, 'max_features': 5, 'n_estimators': 20} ✓\n",
      "Modelo: {'class_weight': 'balanced', 'criterion': 'entropy', 'max_depth': 5, 'max_features': 5, 'n_estimators': 50} ✓\n",
      "Modelo: {'class_weight': 'balanced', 'criterion': 'entropy', 'max_depth': 5, 'max_features': 5, 'n_estimators': 100} ✓\n",
      "Modelo: {'class_weight': 'balanced', 'criterion': 'entropy', 'max_depth': 5, 'max_features': 5, 'n_estimators': 150} ✓\n",
      "Modelo: {'class_weight': 'balanced', 'criterion': 'entropy', 'max_depth': 5, 'max_features': 'log2', 'n_estimators': 5} ✓\n",
      "Modelo: {'class_weight': 'balanced', 'criterion': 'entropy', 'max_depth': 5, 'max_features': 'log2', 'n_estimators': 20} ✓\n",
      "Modelo: {'class_weight': 'balanced', 'criterion': 'entropy', 'max_depth': 5, 'max_features': 'log2', 'n_estimators': 50} ✓\n",
      "Modelo: {'class_weight': 'balanced', 'criterion': 'entropy', 'max_depth': 5, 'max_features': 'log2', 'n_estimators': 100} ✓\n",
      "Modelo: {'class_weight': 'balanced', 'criterion': 'entropy', 'max_depth': 5, 'max_features': 'log2', 'n_estimators': 150} ✓\n",
      "Modelo: {'class_weight': 'balanced', 'criterion': 'entropy', 'max_depth': 5, 'max_features': 'auto', 'n_estimators': 5} ✓\n",
      "Modelo: {'class_weight': 'balanced', 'criterion': 'entropy', 'max_depth': 5, 'max_features': 'auto', 'n_estimators': 20} ✓\n",
      "Modelo: {'class_weight': 'balanced', 'criterion': 'entropy', 'max_depth': 5, 'max_features': 'auto', 'n_estimators': 50} ✓\n",
      "Modelo: {'class_weight': 'balanced', 'criterion': 'entropy', 'max_depth': 5, 'max_features': 'auto', 'n_estimators': 100} ✓\n",
      "Modelo: {'class_weight': 'balanced', 'criterion': 'entropy', 'max_depth': 5, 'max_features': 'auto', 'n_estimators': 150} ✓\n",
      "Modelo: {'class_weight': 'balanced', 'criterion': 'entropy', 'max_depth': 5, 'max_features': 'sqrt', 'n_estimators': 5} ✓\n",
      "Modelo: {'class_weight': 'balanced', 'criterion': 'entropy', 'max_depth': 5, 'max_features': 'sqrt', 'n_estimators': 20} ✓\n",
      "Modelo: {'class_weight': 'balanced', 'criterion': 'entropy', 'max_depth': 5, 'max_features': 'sqrt', 'n_estimators': 50} ✓\n",
      "Modelo: {'class_weight': 'balanced', 'criterion': 'entropy', 'max_depth': 5, 'max_features': 'sqrt', 'n_estimators': 100} ✓\n",
      "Modelo: {'class_weight': 'balanced', 'criterion': 'entropy', 'max_depth': 5, 'max_features': 'sqrt', 'n_estimators': 150} ✓\n",
      "Modelo: {'class_weight': 'balanced', 'criterion': 'entropy', 'max_depth': 7, 'max_features': 5, 'n_estimators': 5} ✓\n",
      "Modelo: {'class_weight': 'balanced', 'criterion': 'entropy', 'max_depth': 7, 'max_features': 5, 'n_estimators': 20} ✓\n",
      "Modelo: {'class_weight': 'balanced', 'criterion': 'entropy', 'max_depth': 7, 'max_features': 5, 'n_estimators': 50} ✓\n",
      "Modelo: {'class_weight': 'balanced', 'criterion': 'entropy', 'max_depth': 7, 'max_features': 5, 'n_estimators': 100} ✓\n",
      "Modelo: {'class_weight': 'balanced', 'criterion': 'entropy', 'max_depth': 7, 'max_features': 5, 'n_estimators': 150} ✓\n",
      "Modelo: {'class_weight': 'balanced', 'criterion': 'entropy', 'max_depth': 7, 'max_features': 'log2', 'n_estimators': 5} ✓\n",
      "Modelo: {'class_weight': 'balanced', 'criterion': 'entropy', 'max_depth': 7, 'max_features': 'log2', 'n_estimators': 20} ✓\n",
      "Modelo: {'class_weight': 'balanced', 'criterion': 'entropy', 'max_depth': 7, 'max_features': 'log2', 'n_estimators': 50} ✓\n",
      "Modelo: {'class_weight': 'balanced', 'criterion': 'entropy', 'max_depth': 7, 'max_features': 'log2', 'n_estimators': 100} ✓\n",
      "Modelo: {'class_weight': 'balanced', 'criterion': 'entropy', 'max_depth': 7, 'max_features': 'log2', 'n_estimators': 150} ✓\n",
      "Modelo: {'class_weight': 'balanced', 'criterion': 'entropy', 'max_depth': 7, 'max_features': 'auto', 'n_estimators': 5} ✓\n",
      "Modelo: {'class_weight': 'balanced', 'criterion': 'entropy', 'max_depth': 7, 'max_features': 'auto', 'n_estimators': 20} ✓\n",
      "Modelo: {'class_weight': 'balanced', 'criterion': 'entropy', 'max_depth': 7, 'max_features': 'auto', 'n_estimators': 50} ✓\n",
      "Modelo: {'class_weight': 'balanced', 'criterion': 'entropy', 'max_depth': 7, 'max_features': 'auto', 'n_estimators': 100} ✓\n",
      "Modelo: {'class_weight': 'balanced', 'criterion': 'entropy', 'max_depth': 7, 'max_features': 'auto', 'n_estimators': 150} ✓\n",
      "Modelo: {'class_weight': 'balanced', 'criterion': 'entropy', 'max_depth': 7, 'max_features': 'sqrt', 'n_estimators': 5} ✓\n",
      "Modelo: {'class_weight': 'balanced', 'criterion': 'entropy', 'max_depth': 7, 'max_features': 'sqrt', 'n_estimators': 20} ✓\n",
      "Modelo: {'class_weight': 'balanced', 'criterion': 'entropy', 'max_depth': 7, 'max_features': 'sqrt', 'n_estimators': 50} ✓\n",
      "Modelo: {'class_weight': 'balanced', 'criterion': 'entropy', 'max_depth': 7, 'max_features': 'sqrt', 'n_estimators': 100} ✓\n",
      "Modelo: {'class_weight': 'balanced', 'criterion': 'entropy', 'max_depth': 7, 'max_features': 'sqrt', 'n_estimators': 150} ✓\n",
      "Modelo: {'class_weight': 'balanced', 'criterion': 'entropy', 'max_depth': 10, 'max_features': 5, 'n_estimators': 5} ✓\n",
      "Modelo: {'class_weight': 'balanced', 'criterion': 'entropy', 'max_depth': 10, 'max_features': 5, 'n_estimators': 20} ✓\n",
      "Modelo: {'class_weight': 'balanced', 'criterion': 'entropy', 'max_depth': 10, 'max_features': 5, 'n_estimators': 50} ✓\n",
      "Modelo: {'class_weight': 'balanced', 'criterion': 'entropy', 'max_depth': 10, 'max_features': 5, 'n_estimators': 100} ✓\n",
      "Modelo: {'class_weight': 'balanced', 'criterion': 'entropy', 'max_depth': 10, 'max_features': 5, 'n_estimators': 150} ✓\n",
      "Modelo: {'class_weight': 'balanced', 'criterion': 'entropy', 'max_depth': 10, 'max_features': 'log2', 'n_estimators': 5} ✓\n",
      "Modelo: {'class_weight': 'balanced', 'criterion': 'entropy', 'max_depth': 10, 'max_features': 'log2', 'n_estimators': 20} ✓\n",
      "Modelo: {'class_weight': 'balanced', 'criterion': 'entropy', 'max_depth': 10, 'max_features': 'log2', 'n_estimators': 50} ✓\n",
      "Modelo: {'class_weight': 'balanced', 'criterion': 'entropy', 'max_depth': 10, 'max_features': 'log2', 'n_estimators': 100} ✓\n",
      "Modelo: {'class_weight': 'balanced', 'criterion': 'entropy', 'max_depth': 10, 'max_features': 'log2', 'n_estimators': 150} ✓\n",
      "Modelo: {'class_weight': 'balanced', 'criterion': 'entropy', 'max_depth': 10, 'max_features': 'auto', 'n_estimators': 5} ✓\n",
      "Modelo: {'class_weight': 'balanced', 'criterion': 'entropy', 'max_depth': 10, 'max_features': 'auto', 'n_estimators': 20} ✓\n",
      "Modelo: {'class_weight': 'balanced', 'criterion': 'entropy', 'max_depth': 10, 'max_features': 'auto', 'n_estimators': 50} ✓\n",
      "Modelo: {'class_weight': 'balanced', 'criterion': 'entropy', 'max_depth': 10, 'max_features': 'auto', 'n_estimators': 100} ✓\n",
      "Modelo: {'class_weight': 'balanced', 'criterion': 'entropy', 'max_depth': 10, 'max_features': 'auto', 'n_estimators': 150} ✓\n",
      "Modelo: {'class_weight': 'balanced', 'criterion': 'entropy', 'max_depth': 10, 'max_features': 'sqrt', 'n_estimators': 5} ✓\n",
      "Modelo: {'class_weight': 'balanced', 'criterion': 'entropy', 'max_depth': 10, 'max_features': 'sqrt', 'n_estimators': 20} ✓\n",
      "Modelo: {'class_weight': 'balanced', 'criterion': 'entropy', 'max_depth': 10, 'max_features': 'sqrt', 'n_estimators': 50} ✓\n",
      "Modelo: {'class_weight': 'balanced', 'criterion': 'entropy', 'max_depth': 10, 'max_features': 'sqrt', 'n_estimators': 100} ✓\n",
      "Modelo: {'class_weight': 'balanced', 'criterion': 'entropy', 'max_depth': 10, 'max_features': 'sqrt', 'n_estimators': 150} ✓\n"
     ]
    }
   ],
   "source": [
    "for params in param_grid:\n",
    "    \n",
    "    modelo = RandomForestClassifier(\n",
    "                oob_score    = True,\n",
    "                n_jobs       = -1,\n",
    "                random_state = 123,\n",
    "                ** params\n",
    "             )\n",
    "    \n",
    "    modelo.fit(train_x, train_y)\n",
    "    \n",
    "    resultados['params'].append(params)\n",
    "    resultados['oob_accuracy'].append(modelo.oob_score_)\n",
    "    print(f\"Modelo: {params} \\u2713\")"
   ]
  },
  {
   "cell_type": "code",
   "execution_count": 25,
   "id": "lonely-perception",
   "metadata": {},
   "outputs": [
    {
     "data": {
      "text/html": [
       "<div>\n",
       "<style scoped>\n",
       "    .dataframe tbody tr th:only-of-type {\n",
       "        vertical-align: middle;\n",
       "    }\n",
       "\n",
       "    .dataframe tbody tr th {\n",
       "        vertical-align: top;\n",
       "    }\n",
       "\n",
       "    .dataframe thead th {\n",
       "        text-align: right;\n",
       "    }\n",
       "</style>\n",
       "<table border=\"1\" class=\"dataframe\">\n",
       "  <thead>\n",
       "    <tr style=\"text-align: right;\">\n",
       "      <th></th>\n",
       "      <th>oob_accuracy</th>\n",
       "      <th>class_weight</th>\n",
       "      <th>criterion</th>\n",
       "      <th>max_depth</th>\n",
       "      <th>max_features</th>\n",
       "      <th>n_estimators</th>\n",
       "    </tr>\n",
       "  </thead>\n",
       "  <tbody>\n",
       "    <tr>\n",
       "      <th>19</th>\n",
       "      <td>0.705316</td>\n",
       "      <td>balanced</td>\n",
       "      <td>gini</td>\n",
       "      <td>NaN</td>\n",
       "      <td>sqrt</td>\n",
       "      <td>150</td>\n",
       "    </tr>\n",
       "    <tr>\n",
       "      <th>14</th>\n",
       "      <td>0.705316</td>\n",
       "      <td>balanced</td>\n",
       "      <td>gini</td>\n",
       "      <td>NaN</td>\n",
       "      <td>auto</td>\n",
       "      <td>150</td>\n",
       "    </tr>\n",
       "    <tr>\n",
       "      <th>114</th>\n",
       "      <td>0.702234</td>\n",
       "      <td>balanced</td>\n",
       "      <td>entropy</td>\n",
       "      <td>NaN</td>\n",
       "      <td>auto</td>\n",
       "      <td>150</td>\n",
       "    </tr>\n",
       "    <tr>\n",
       "      <th>119</th>\n",
       "      <td>0.702234</td>\n",
       "      <td>balanced</td>\n",
       "      <td>entropy</td>\n",
       "      <td>NaN</td>\n",
       "      <td>sqrt</td>\n",
       "      <td>150</td>\n",
       "    </tr>\n",
       "    <tr>\n",
       "      <th>104</th>\n",
       "      <td>0.701849</td>\n",
       "      <td>balanced</td>\n",
       "      <td>entropy</td>\n",
       "      <td>NaN</td>\n",
       "      <td>5</td>\n",
       "      <td>150</td>\n",
       "    </tr>\n",
       "    <tr>\n",
       "      <th>3</th>\n",
       "      <td>0.699538</td>\n",
       "      <td>balanced</td>\n",
       "      <td>gini</td>\n",
       "      <td>NaN</td>\n",
       "      <td>5</td>\n",
       "      <td>100</td>\n",
       "    </tr>\n",
       "    <tr>\n",
       "      <th>9</th>\n",
       "      <td>0.699153</td>\n",
       "      <td>balanced</td>\n",
       "      <td>gini</td>\n",
       "      <td>NaN</td>\n",
       "      <td>log2</td>\n",
       "      <td>150</td>\n",
       "    </tr>\n",
       "    <tr>\n",
       "      <th>103</th>\n",
       "      <td>0.699153</td>\n",
       "      <td>balanced</td>\n",
       "      <td>entropy</td>\n",
       "      <td>NaN</td>\n",
       "      <td>5</td>\n",
       "      <td>100</td>\n",
       "    </tr>\n",
       "    <tr>\n",
       "      <th>108</th>\n",
       "      <td>0.698767</td>\n",
       "      <td>balanced</td>\n",
       "      <td>entropy</td>\n",
       "      <td>NaN</td>\n",
       "      <td>log2</td>\n",
       "      <td>100</td>\n",
       "    </tr>\n",
       "    <tr>\n",
       "      <th>4</th>\n",
       "      <td>0.697997</td>\n",
       "      <td>balanced</td>\n",
       "      <td>gini</td>\n",
       "      <td>NaN</td>\n",
       "      <td>5</td>\n",
       "      <td>150</td>\n",
       "    </tr>\n",
       "  </tbody>\n",
       "</table>\n",
       "</div>"
      ],
      "text/plain": [
       "     oob_accuracy class_weight criterion  max_depth max_features  n_estimators\n",
       "19       0.705316     balanced      gini        NaN         sqrt           150\n",
       "14       0.705316     balanced      gini        NaN         auto           150\n",
       "114      0.702234     balanced   entropy        NaN         auto           150\n",
       "119      0.702234     balanced   entropy        NaN         sqrt           150\n",
       "104      0.701849     balanced   entropy        NaN            5           150\n",
       "3        0.699538     balanced      gini        NaN            5           100\n",
       "9        0.699153     balanced      gini        NaN         log2           150\n",
       "103      0.699153     balanced   entropy        NaN            5           100\n",
       "108      0.698767     balanced   entropy        NaN         log2           100\n",
       "4        0.697997     balanced      gini        NaN            5           150"
      ]
     },
     "execution_count": 25,
     "metadata": {},
     "output_type": "execute_result"
    }
   ],
   "source": [
    "resultados = pd.DataFrame(resultados)\n",
    "resultados = pd.concat([resultados, resultados['params'].apply(pd.Series)], axis=1)\n",
    "resultados = resultados.drop(columns = 'params')\n",
    "resultados = resultados.sort_values('oob_accuracy', ascending=False)\n",
    "resultados.head(10)"
   ]
  },
  {
   "cell_type": "markdown",
   "id": "31669bd2-f71a-46f1-9e78-c0b596620939",
   "metadata": {},
   "source": [
    "**Seleccionamos los mejores hiperparámetros**"
   ]
  },
  {
   "cell_type": "code",
   "execution_count": 26,
   "id": "995db6cf-2e2d-4ad4-b2f9-ddf2583c2f67",
   "metadata": {},
   "outputs": [
    {
     "name": "stdout",
     "output_type": "stream",
     "text": [
      "Mejores hiperparámetros encontrados (oob-accuracy)\n",
      "--------------------------------------------------\n",
      "Estimators: \n",
      " oob_accuracy    0.705316\n",
      "class_weight    balanced\n",
      "criterion           gini\n",
      "max_depth            NaN\n",
      "max_features        sqrt\n",
      "n_estimators         150\n",
      "Name: 19, dtype: object accuracy\n"
     ]
    }
   ],
   "source": [
    "print(\"Mejores hiperparámetros encontrados (oob-accuracy)\")\n",
    "print('--------------------------------------------------')\n",
    "print(\"Estimators: \\n\", resultados.iloc[0,:], \"accuracy\")"
   ]
  },
  {
   "cell_type": "markdown",
   "id": "b464f98b-0919-4273-be3b-294a6af461a4",
   "metadata": {},
   "source": [
    "--------------"
   ]
  },
  {
   "cell_type": "markdown",
   "id": "c3d00647-8597-41e9-87ba-392768dafae8",
   "metadata": {},
   "source": [
    "--------------"
   ]
  },
  {
   "cell_type": "markdown",
   "id": "52564134-88e7-45ce-8cce-2bd313130de9",
   "metadata": {},
   "source": [
    "#### 4.4 Modelo 1 - Baseline"
   ]
  },
  {
   "cell_type": "markdown",
   "id": "cc1c45b7-f093-4da3-ae96-17a9e5aed5e7",
   "metadata": {},
   "source": [
    "Nuestro modelo Base, tendrá los parámetros obtenidos como mejores anteriormente."
   ]
  },
  {
   "cell_type": "markdown",
   "id": "658340b2-5b18-4c3c-9bf6-aa9110185835",
   "metadata": {},
   "source": [
    "**Aplicamos los mejores hiperparámetros obtenidos**"
   ]
  },
  {
   "cell_type": "code",
   "execution_count": 27,
   "id": "insured-combine",
   "metadata": {},
   "outputs": [
    {
     "data": {
      "text/plain": [
       "RandomForestClassifier(max_features='sqrt', n_estimators=150, n_jobs=-1,\n",
       "                       random_state=123)"
      ]
     },
     "execution_count": 27,
     "metadata": {},
     "output_type": "execute_result"
    }
   ],
   "source": [
    "rf = RandomForestClassifier(criterion = 'gini', \n",
    "                            n_estimators = 150, \n",
    "                            max_features = 'sqrt', \n",
    "                            max_depth = None, \n",
    "                            n_jobs = -1,\n",
    "                            random_state = 123)\n",
    "\n",
    "rf.fit(train_x, train_y)"
   ]
  },
  {
   "cell_type": "markdown",
   "id": "2dbc7f8f-39ee-43df-9406-a0cc0f1e7dca",
   "metadata": {},
   "source": [
    "Observamos los resultados del modelo"
   ]
  },
  {
   "cell_type": "code",
   "execution_count": 28,
   "id": "99b3e8cf-d083-4675-bffd-fd9ef66a201d",
   "metadata": {},
   "outputs": [
    {
     "data": {
      "image/png": "[encoded data removed]",
      "text/plain": [
       "<Figure size 576x576 with 2 Axes>"
      ]
     },
     "metadata": {
      "needs_background": "light"
     },
     "output_type": "display_data"
    },
    {
     "name": "stdout",
     "output_type": "stream",
     "text": [
      "              precision    recall  f1-score   support\n",
      "\n",
      "           0       0.47      0.20      0.28       321\n",
      "           1       0.74      0.91      0.81       792\n",
      "\n",
      "    accuracy                           0.71      1113\n",
      "   macro avg       0.61      0.56      0.55      1113\n",
      "weighted avg       0.66      0.71      0.66      1113\n",
      "\n"
     ]
    }
   ],
   "source": [
    "pred_y = rf.predict(test_x)\n",
    "mostrar_resultados(test_y, pred_y)"
   ]
  },
  {
   "cell_type": "code",
   "execution_count": 29,
   "id": "demographic-means",
   "metadata": {},
   "outputs": [],
   "source": [
    "feature_importances = pd.DataFrame(rf.feature_importances_, index = train_x.columns, columns = ['important']).sort_values(['important'], ascending = 0)"
   ]
  },
  {
   "cell_type": "code",
   "execution_count": 30,
   "id": "unlikely-holder",
   "metadata": {
    "collapsed": true,
    "jupyter": {
     "outputs_hidden": true
    },
    "tags": []
   },
   "outputs": [
    {
     "data": {
      "text/html": [
       "<div>\n",
       "<style scoped>\n",
       "    .dataframe tbody tr th:only-of-type {\n",
       "        vertical-align: middle;\n",
       "    }\n",
       "\n",
       "    .dataframe tbody tr th {\n",
       "        vertical-align: top;\n",
       "    }\n",
       "\n",
       "    .dataframe thead th {\n",
       "        text-align: right;\n",
       "    }\n",
       "</style>\n",
       "<table border=\"1\" class=\"dataframe\">\n",
       "  <thead>\n",
       "    <tr style=\"text-align: right;\">\n",
       "      <th></th>\n",
       "      <th>important</th>\n",
       "    </tr>\n",
       "  </thead>\n",
       "  <tbody>\n",
       "    <tr>\n",
       "      <th>IPCASOS</th>\n",
       "      <td>6.036244</td>\n",
       "    </tr>\n",
       "    <tr>\n",
       "      <th>FECHA_ALTA_MONTH</th>\n",
       "      <td>6.033754</td>\n",
       "    </tr>\n",
       "    <tr>\n",
       "      <th>FECHACONSUMO_MONTH</th>\n",
       "      <td>5.743338</td>\n",
       "    </tr>\n",
       "    <tr>\n",
       "      <th>CANAL_REGISTRO</th>\n",
       "      <td>5.516310</td>\n",
       "    </tr>\n",
       "    <tr>\n",
       "      <th>FECHA_REGISTRO_MONTH</th>\n",
       "      <td>5.462719</td>\n",
       "    </tr>\n",
       "    <tr>\n",
       "      <th>1A_EMPCONSUL_PROV_DENS</th>\n",
       "      <td>5.317960</td>\n",
       "    </tr>\n",
       "    <tr>\n",
       "      <th>1A_EMPCONSUL_PROV_IDH</th>\n",
       "      <td>4.963623</td>\n",
       "    </tr>\n",
       "    <tr>\n",
       "      <th>FECHA_ALTA_WEEKDAY</th>\n",
       "      <td>4.608260</td>\n",
       "    </tr>\n",
       "    <tr>\n",
       "      <th>FECHACONSUMO_WEEKDAY</th>\n",
       "      <td>4.383941</td>\n",
       "    </tr>\n",
       "    <tr>\n",
       "      <th>FECHA_REGISTRO_WEEKDAY</th>\n",
       "      <td>3.959762</td>\n",
       "    </tr>\n",
       "    <tr>\n",
       "      <th>FICH_PROMO_TOT</th>\n",
       "      <td>3.603874</td>\n",
       "    </tr>\n",
       "    <tr>\n",
       "      <th>PERF_PROMO_TOT</th>\n",
       "      <td>2.256357</td>\n",
       "    </tr>\n",
       "    <tr>\n",
       "      <th>USU_DEPART_IDH</th>\n",
       "      <td>1.973451</td>\n",
       "    </tr>\n",
       "    <tr>\n",
       "      <th>USU_DEPART_DEN_POB</th>\n",
       "      <td>1.899774</td>\n",
       "    </tr>\n",
       "    <tr>\n",
       "      <th>TIPO_TELF_MOVIL</th>\n",
       "      <td>1.784401</td>\n",
       "    </tr>\n",
       "    <tr>\n",
       "      <th>1A_EMPCONSUL_SECTOR_TERCIARIO</th>\n",
       "      <td>1.773980</td>\n",
       "    </tr>\n",
       "    <tr>\n",
       "      <th>1A_EMPCONSUL_SECTOR_SECUNDARIO</th>\n",
       "      <td>1.700360</td>\n",
       "    </tr>\n",
       "    <tr>\n",
       "      <th>TIPO_TELF_EXTRANJERO</th>\n",
       "      <td>1.685977</td>\n",
       "    </tr>\n",
       "    <tr>\n",
       "      <th>ALTA_CONSUMO</th>\n",
       "      <td>1.511725</td>\n",
       "    </tr>\n",
       "    <tr>\n",
       "      <th>REGISTRO_ALTA</th>\n",
       "      <td>1.400133</td>\n",
       "    </tr>\n",
       "    <tr>\n",
       "      <th>TIPOEMAIL_GOOHOTYAHMAIL</th>\n",
       "      <td>1.296824</td>\n",
       "    </tr>\n",
       "    <tr>\n",
       "      <th>BONDAD_EMAIL</th>\n",
       "      <td>1.165553</td>\n",
       "    </tr>\n",
       "    <tr>\n",
       "      <th>1A_DESCGRUPOPROD_FICH_PROMO</th>\n",
       "      <td>1.132013</td>\n",
       "    </tr>\n",
       "    <tr>\n",
       "      <th>TIPO_TELF_NO_PUBLICO</th>\n",
       "      <td>1.123394</td>\n",
       "    </tr>\n",
       "    <tr>\n",
       "      <th>1A_DESCGRUPOPROD_PERF_PROMO</th>\n",
       "      <td>1.047231</td>\n",
       "    </tr>\n",
       "  </tbody>\n",
       "</table>\n",
       "</div>"
      ],
      "text/plain": [
       "                                important\n",
       "IPCASOS                          6.036244\n",
       "FECHA_ALTA_MONTH                 6.033754\n",
       "FECHACONSUMO_MONTH               5.743338\n",
       "CANAL_REGISTRO                   5.516310\n",
       "FECHA_REGISTRO_MONTH             5.462719\n",
       "1A_EMPCONSUL_PROV_DENS           5.317960\n",
       "1A_EMPCONSUL_PROV_IDH            4.963623\n",
       "FECHA_ALTA_WEEKDAY               4.608260\n",
       "FECHACONSUMO_WEEKDAY             4.383941\n",
       "FECHA_REGISTRO_WEEKDAY           3.959762\n",
       "FICH_PROMO_TOT                   3.603874\n",
       "PERF_PROMO_TOT                   2.256357\n",
       "USU_DEPART_IDH                   1.973451\n",
       "USU_DEPART_DEN_POB               1.899774\n",
       "TIPO_TELF_MOVIL                  1.784401\n",
       "1A_EMPCONSUL_SECTOR_TERCIARIO    1.773980\n",
       "1A_EMPCONSUL_SECTOR_SECUNDARIO   1.700360\n",
       "TIPO_TELF_EXTRANJERO             1.685977\n",
       "ALTA_CONSUMO                     1.511725\n",
       "REGISTRO_ALTA                    1.400133\n",
       "TIPOEMAIL_GOOHOTYAHMAIL          1.296824\n",
       "BONDAD_EMAIL                     1.165553\n",
       "1A_DESCGRUPOPROD_FICH_PROMO      1.132013\n",
       "TIPO_TELF_NO_PUBLICO             1.123394\n",
       "1A_DESCGRUPOPROD_PERF_PROMO      1.047231"
      ]
     },
     "execution_count": 30,
     "metadata": {},
     "output_type": "execute_result"
    }
   ],
   "source": [
    "feature_importances[feature_importances['important'] > 0.01]*100"
   ]
  },
  {
   "cell_type": "code",
   "execution_count": 31,
   "id": "3daff4e8-5a98-4a0a-84e7-f63f59d3da77",
   "metadata": {},
   "outputs": [
    {
     "data": {
      "text/plain": [
       "(25, 1)"
      ]
     },
     "execution_count": 31,
     "metadata": {},
     "output_type": "execute_result"
    }
   ],
   "source": [
    "feature_importances[feature_importances['important'] > 0.01].shape"
   ]
  },
  {
   "cell_type": "markdown",
   "id": "cc4e389e-3f00-4e28-b6c9-fa04010869c8",
   "metadata": {},
   "source": [
    "------"
   ]
  },
  {
   "cell_type": "markdown",
   "id": "fa879172-3154-4fad-83fa-09146606af6c",
   "metadata": {},
   "source": [
    "------"
   ]
  },
  {
   "cell_type": "markdown",
   "id": "f6e60ac6-fa15-478e-8be0-3c9bff9c2ae9",
   "metadata": {},
   "source": [
    "------"
   ]
  },
  {
   "cell_type": "markdown",
   "id": "47f29614-b625-4eb1-83dc-528963d4c00d",
   "metadata": {},
   "source": [
    "#### 4.5 Modelo - Aplicando técnicas sobre el desbalanceo"
   ]
  },
  {
   "cell_type": "markdown",
   "id": "5fb1a513-7e01-444f-812b-6efd1d893277",
   "metadata": {},
   "source": [
    "**Estrategias para el manejo de Datos Desbalanceados**"
   ]
  },
  {
   "cell_type": "markdown",
   "id": "94c1c9aa-592c-49a1-a987-f34de8a6ca26",
   "metadata": {},
   "source": [
    "##### **4.5.1 Penalización para compensar**"
   ]
  },
  {
   "cell_type": "code",
   "execution_count": 32,
   "id": "68d9cb0f-71a0-4c56-8d1f-4b4e58225bb3",
   "metadata": {},
   "outputs": [
    {
     "data": {
      "text/plain": [
       "RandomForestClassifier(class_weight='balanced', max_features='sqrt',\n",
       "                       n_estimators=150, n_jobs=-1, random_state=123)"
      ]
     },
     "execution_count": 32,
     "metadata": {},
     "output_type": "execute_result"
    }
   ],
   "source": [
    "rf = RandomForestClassifier(criterion = 'gini', \n",
    "                            n_estimators = 150, \n",
    "                            max_features = 'sqrt', \n",
    "                            max_depth = None, \n",
    "                            n_jobs = -1,\n",
    "                            random_state = 123,\n",
    "                            class_weight = 'balanced')\n",
    "\n",
    "rf.fit(train_x, train_y)"
   ]
  },
  {
   "cell_type": "markdown",
   "id": "772de399-3c9a-45e2-bb46-7b8879171905",
   "metadata": {},
   "source": [
    "Observamos los resultados del modelo"
   ]
  },
  {
   "cell_type": "code",
   "execution_count": 33,
   "id": "929e3a5f-4060-49bc-ad6e-773ee3eb2006",
   "metadata": {},
   "outputs": [
    {
     "data": {
      "image/png": "[encoded data removed]",
      "text/plain": [
       "<Figure size 576x576 with 2 Axes>"
      ]
     },
     "metadata": {
      "needs_background": "light"
     },
     "output_type": "display_data"
    },
    {
     "name": "stdout",
     "output_type": "stream",
     "text": [
      "              precision    recall  f1-score   support\n",
      "\n",
      "           0       0.48      0.18      0.26       321\n",
      "           1       0.73      0.92      0.82       792\n",
      "\n",
      "    accuracy                           0.71      1113\n",
      "   macro avg       0.61      0.55      0.54      1113\n",
      "weighted avg       0.66      0.71      0.66      1113\n",
      "\n"
     ]
    }
   ],
   "source": [
    "pred_y = rf.predict(test_x)\n",
    "mostrar_resultados(test_y, pred_y)"
   ]
  },
  {
   "cell_type": "code",
   "execution_count": 34,
   "id": "f033c9e1-80e2-4add-8a87-b55d71949991",
   "metadata": {},
   "outputs": [],
   "source": [
    "feature_importances = pd.DataFrame(rf.feature_importances_, index = train_x.columns, columns = ['important']).sort_values(['important'], ascending = 0)"
   ]
  },
  {
   "cell_type": "code",
   "execution_count": 35,
   "id": "dfaae28a-1da4-45b8-b89c-3f235d98a5bd",
   "metadata": {
    "collapsed": true,
    "jupyter": {
     "outputs_hidden": true
    },
    "tags": []
   },
   "outputs": [
    {
     "data": {
      "text/html": [
       "<div>\n",
       "<style scoped>\n",
       "    .dataframe tbody tr th:only-of-type {\n",
       "        vertical-align: middle;\n",
       "    }\n",
       "\n",
       "    .dataframe tbody tr th {\n",
       "        vertical-align: top;\n",
       "    }\n",
       "\n",
       "    .dataframe thead th {\n",
       "        text-align: right;\n",
       "    }\n",
       "</style>\n",
       "<table border=\"1\" class=\"dataframe\">\n",
       "  <thead>\n",
       "    <tr style=\"text-align: right;\">\n",
       "      <th></th>\n",
       "      <th>important</th>\n",
       "    </tr>\n",
       "  </thead>\n",
       "  <tbody>\n",
       "    <tr>\n",
       "      <th>FECHA_ALTA_MONTH</th>\n",
       "      <td>6.151675</td>\n",
       "    </tr>\n",
       "    <tr>\n",
       "      <th>FECHACONSUMO_MONTH</th>\n",
       "      <td>5.855970</td>\n",
       "    </tr>\n",
       "    <tr>\n",
       "      <th>IPCASOS</th>\n",
       "      <td>5.794187</td>\n",
       "    </tr>\n",
       "    <tr>\n",
       "      <th>CANAL_REGISTRO</th>\n",
       "      <td>5.530541</td>\n",
       "    </tr>\n",
       "    <tr>\n",
       "      <th>FECHA_REGISTRO_MONTH</th>\n",
       "      <td>5.276593</td>\n",
       "    </tr>\n",
       "    <tr>\n",
       "      <th>1A_EMPCONSUL_PROV_DENS</th>\n",
       "      <td>4.841599</td>\n",
       "    </tr>\n",
       "    <tr>\n",
       "      <th>1A_EMPCONSUL_PROV_IDH</th>\n",
       "      <td>4.686503</td>\n",
       "    </tr>\n",
       "    <tr>\n",
       "      <th>FECHA_ALTA_WEEKDAY</th>\n",
       "      <td>4.434792</td>\n",
       "    </tr>\n",
       "    <tr>\n",
       "      <th>FECHACONSUMO_WEEKDAY</th>\n",
       "      <td>4.020899</td>\n",
       "    </tr>\n",
       "    <tr>\n",
       "      <th>FECHA_REGISTRO_WEEKDAY</th>\n",
       "      <td>4.008217</td>\n",
       "    </tr>\n",
       "    <tr>\n",
       "      <th>FICH_PROMO_TOT</th>\n",
       "      <td>3.502501</td>\n",
       "    </tr>\n",
       "    <tr>\n",
       "      <th>PERF_PROMO_TOT</th>\n",
       "      <td>2.420749</td>\n",
       "    </tr>\n",
       "    <tr>\n",
       "      <th>USU_DEPART_IDH</th>\n",
       "      <td>2.131464</td>\n",
       "    </tr>\n",
       "    <tr>\n",
       "      <th>USU_DEPART_DEN_POB</th>\n",
       "      <td>2.079154</td>\n",
       "    </tr>\n",
       "    <tr>\n",
       "      <th>1A_EMPCONSUL_SECTOR_TERCIARIO</th>\n",
       "      <td>1.782047</td>\n",
       "    </tr>\n",
       "    <tr>\n",
       "      <th>TIPO_TELF_EXTRANJERO</th>\n",
       "      <td>1.661505</td>\n",
       "    </tr>\n",
       "    <tr>\n",
       "      <th>1A_EMPCONSUL_SECTOR_SECUNDARIO</th>\n",
       "      <td>1.654472</td>\n",
       "    </tr>\n",
       "    <tr>\n",
       "      <th>TIPO_TELF_MOVIL</th>\n",
       "      <td>1.589388</td>\n",
       "    </tr>\n",
       "    <tr>\n",
       "      <th>ALTA_CONSUMO</th>\n",
       "      <td>1.548095</td>\n",
       "    </tr>\n",
       "    <tr>\n",
       "      <th>TIPOEMAIL_GOOHOTYAHMAIL</th>\n",
       "      <td>1.395960</td>\n",
       "    </tr>\n",
       "    <tr>\n",
       "      <th>REGISTRO_ALTA</th>\n",
       "      <td>1.384158</td>\n",
       "    </tr>\n",
       "    <tr>\n",
       "      <th>USU_TIPO_SOC_COMERCIAL_INDUSTRIAL</th>\n",
       "      <td>1.269868</td>\n",
       "    </tr>\n",
       "    <tr>\n",
       "      <th>TIPO_TELF_NO_PUBLICO</th>\n",
       "      <td>1.137815</td>\n",
       "    </tr>\n",
       "    <tr>\n",
       "      <th>1A_DESCGRUPOPROD_PERF_PROMO</th>\n",
       "      <td>1.133132</td>\n",
       "    </tr>\n",
       "    <tr>\n",
       "      <th>USU_ESTADO_ACTIVA</th>\n",
       "      <td>1.121638</td>\n",
       "    </tr>\n",
       "    <tr>\n",
       "      <th>1A_DESCGRUPOPROD_FICH_PROMO</th>\n",
       "      <td>1.109698</td>\n",
       "    </tr>\n",
       "    <tr>\n",
       "      <th>IP_COUNTRY_IDH_NUM</th>\n",
       "      <td>1.009081</td>\n",
       "    </tr>\n",
       "  </tbody>\n",
       "</table>\n",
       "</div>"
      ],
      "text/plain": [
       "                                   important\n",
       "FECHA_ALTA_MONTH                    6.151675\n",
       "FECHACONSUMO_MONTH                  5.855970\n",
       "IPCASOS                             5.794187\n",
       "CANAL_REGISTRO                      5.530541\n",
       "FECHA_REGISTRO_MONTH                5.276593\n",
       "1A_EMPCONSUL_PROV_DENS              4.841599\n",
       "1A_EMPCONSUL_PROV_IDH               4.686503\n",
       "FECHA_ALTA_WEEKDAY                  4.434792\n",
       "FECHACONSUMO_WEEKDAY                4.020899\n",
       "FECHA_REGISTRO_WEEKDAY              4.008217\n",
       "FICH_PROMO_TOT                      3.502501\n",
       "PERF_PROMO_TOT                      2.420749\n",
       "USU_DEPART_IDH                      2.131464\n",
       "USU_DEPART_DEN_POB                  2.079154\n",
       "1A_EMPCONSUL_SECTOR_TERCIARIO       1.782047\n",
       "TIPO_TELF_EXTRANJERO                1.661505\n",
       "1A_EMPCONSUL_SECTOR_SECUNDARIO      1.654472\n",
       "TIPO_TELF_MOVIL                     1.589388\n",
       "ALTA_CONSUMO                        1.548095\n",
       "TIPOEMAIL_GOOHOTYAHMAIL             1.395960\n",
       "REGISTRO_ALTA                       1.384158\n",
       "USU_TIPO_SOC_COMERCIAL_INDUSTRIAL   1.269868\n",
       "TIPO_TELF_NO_PUBLICO                1.137815\n",
       "1A_DESCGRUPOPROD_PERF_PROMO         1.133132\n",
       "USU_ESTADO_ACTIVA                   1.121638\n",
       "1A_DESCGRUPOPROD_FICH_PROMO         1.109698\n",
       "IP_COUNTRY_IDH_NUM                  1.009081"
      ]
     },
     "execution_count": 35,
     "metadata": {},
     "output_type": "execute_result"
    }
   ],
   "source": [
    "feature_importances[feature_importances['important'] > 0.01]*100"
   ]
  },
  {
   "cell_type": "code",
   "execution_count": 36,
   "id": "77ccc5e5-7a49-4c17-8dc9-6756007ddbf9",
   "metadata": {},
   "outputs": [
    {
     "data": {
      "text/plain": [
       "(27, 1)"
      ]
     },
     "execution_count": 36,
     "metadata": {},
     "output_type": "execute_result"
    }
   ],
   "source": [
    "feature_importances[feature_importances['important'] > 0.01].shape"
   ]
  },
  {
   "cell_type": "markdown",
   "id": "78d65c14-bd9d-4554-bd3b-dd62095ad076",
   "metadata": {},
   "source": [
    "------"
   ]
  },
  {
   "cell_type": "markdown",
   "id": "635d50be-5a6f-4f3c-8178-1dfc9aa92628",
   "metadata": {},
   "source": [
    "##### **4.5.2 Subsampling en la clase mayoritaria**"
   ]
  },
  {
   "cell_type": "markdown",
   "id": "7947496a-2b29-4372-8e64-970988b98a30",
   "metadata": {},
   "source": [
    "**RandomUnderSampler**"
   ]
  },
  {
   "cell_type": "code",
   "execution_count": 37,
   "id": "d9ba49bd-9a5c-41d8-8b74-162b3f75d535",
   "metadata": {},
   "outputs": [
    {
     "name": "stdout",
     "output_type": "stream",
     "text": [
      "Distribution before resampling Counter({1: 1822, 0: 774})\n",
      "Distribution after resampling Counter({0: 774, 1: 774})\n"
     ]
    }
   ],
   "source": [
    "us = RandomUnderSampler(sampling_strategy = 'majority', random_state = 123)\n",
    "X_train_res, y_train_res = us.fit_resample(train_x, train_y)\n",
    " \n",
    "print (\"Distribution before resampling {}\".format(Counter(train_y)))\n",
    "print (\"Distribution after resampling {}\".format(Counter(y_train_res)))"
   ]
  },
  {
   "cell_type": "code",
   "execution_count": 38,
   "id": "fe7011d0-a17f-4e5e-91ad-2f51edd38106",
   "metadata": {},
   "outputs": [
    {
     "data": {
      "text/plain": [
       "RandomForestClassifier(max_features='sqrt', n_estimators=150, n_jobs=-1,\n",
       "                       random_state=123)"
      ]
     },
     "execution_count": 38,
     "metadata": {},
     "output_type": "execute_result"
    }
   ],
   "source": [
    "rf = RandomForestClassifier(criterion = 'gini', \n",
    "                            n_estimators = 150, \n",
    "                            max_features = 'sqrt', \n",
    "                            max_depth = None, \n",
    "                            n_jobs = -1,\n",
    "                            random_state = 123)\n",
    "\n",
    "rf.fit(X_train_res, y_train_res)"
   ]
  },
  {
   "cell_type": "code",
   "execution_count": 39,
   "id": "91fa0d29-fee4-403e-8b50-cc11637e9c9e",
   "metadata": {},
   "outputs": [
    {
     "data": {
      "image/png": "[encoded data removed]",
      "text/plain": [
       "<Figure size 576x576 with 2 Axes>"
      ]
     },
     "metadata": {
      "needs_background": "light"
     },
     "output_type": "display_data"
    },
    {
     "name": "stdout",
     "output_type": "stream",
     "text": [
      "              precision    recall  f1-score   support\n",
      "\n",
      "           0       0.39      0.64      0.49       321\n",
      "           1       0.80      0.60      0.69       792\n",
      "\n",
      "    accuracy                           0.61      1113\n",
      "   macro avg       0.60      0.62      0.59      1113\n",
      "weighted avg       0.69      0.61      0.63      1113\n",
      "\n"
     ]
    }
   ],
   "source": [
    "pred_y = rf.predict(test_x)\n",
    "mostrar_resultados(test_y, pred_y)"
   ]
  },
  {
   "cell_type": "code",
   "execution_count": 40,
   "id": "9df16aa7-75a0-4f91-a108-ff88cab0ef01",
   "metadata": {},
   "outputs": [],
   "source": [
    "feature_importances = pd.DataFrame(rf.feature_importances_, index = train_x.columns, columns = ['important']).sort_values(['important'], ascending = 0)"
   ]
  },
  {
   "cell_type": "code",
   "execution_count": 41,
   "id": "10c74f9a-f717-4440-9a03-2ded45c8c780",
   "metadata": {
    "collapsed": true,
    "jupyter": {
     "outputs_hidden": true
    },
    "tags": []
   },
   "outputs": [
    {
     "data": {
      "text/html": [
       "<div>\n",
       "<style scoped>\n",
       "    .dataframe tbody tr th:only-of-type {\n",
       "        vertical-align: middle;\n",
       "    }\n",
       "\n",
       "    .dataframe tbody tr th {\n",
       "        vertical-align: top;\n",
       "    }\n",
       "\n",
       "    .dataframe thead th {\n",
       "        text-align: right;\n",
       "    }\n",
       "</style>\n",
       "<table border=\"1\" class=\"dataframe\">\n",
       "  <thead>\n",
       "    <tr style=\"text-align: right;\">\n",
       "      <th></th>\n",
       "      <th>important</th>\n",
       "    </tr>\n",
       "  </thead>\n",
       "  <tbody>\n",
       "    <tr>\n",
       "      <th>FECHA_ALTA_MONTH</th>\n",
       "      <td>5.856505</td>\n",
       "    </tr>\n",
       "    <tr>\n",
       "      <th>IPCASOS</th>\n",
       "      <td>5.754373</td>\n",
       "    </tr>\n",
       "    <tr>\n",
       "      <th>FECHA_REGISTRO_MONTH</th>\n",
       "      <td>5.557751</td>\n",
       "    </tr>\n",
       "    <tr>\n",
       "      <th>FECHACONSUMO_MONTH</th>\n",
       "      <td>5.492152</td>\n",
       "    </tr>\n",
       "    <tr>\n",
       "      <th>CANAL_REGISTRO</th>\n",
       "      <td>5.345712</td>\n",
       "    </tr>\n",
       "    <tr>\n",
       "      <th>1A_EMPCONSUL_PROV_DENS</th>\n",
       "      <td>4.913978</td>\n",
       "    </tr>\n",
       "    <tr>\n",
       "      <th>1A_EMPCONSUL_PROV_IDH</th>\n",
       "      <td>4.516892</td>\n",
       "    </tr>\n",
       "    <tr>\n",
       "      <th>FECHA_ALTA_WEEKDAY</th>\n",
       "      <td>4.482353</td>\n",
       "    </tr>\n",
       "    <tr>\n",
       "      <th>FECHACONSUMO_WEEKDAY</th>\n",
       "      <td>4.147820</td>\n",
       "    </tr>\n",
       "    <tr>\n",
       "      <th>FECHA_REGISTRO_WEEKDAY</th>\n",
       "      <td>3.967977</td>\n",
       "    </tr>\n",
       "    <tr>\n",
       "      <th>FICH_PROMO_TOT</th>\n",
       "      <td>3.587316</td>\n",
       "    </tr>\n",
       "    <tr>\n",
       "      <th>PERF_PROMO_TOT</th>\n",
       "      <td>2.654318</td>\n",
       "    </tr>\n",
       "    <tr>\n",
       "      <th>USU_DEPART_DEN_POB</th>\n",
       "      <td>2.215171</td>\n",
       "    </tr>\n",
       "    <tr>\n",
       "      <th>USU_DEPART_IDH</th>\n",
       "      <td>2.018727</td>\n",
       "    </tr>\n",
       "    <tr>\n",
       "      <th>1A_EMPCONSUL_SECTOR_TERCIARIO</th>\n",
       "      <td>1.854578</td>\n",
       "    </tr>\n",
       "    <tr>\n",
       "      <th>TIPO_TELF_EXTRANJERO</th>\n",
       "      <td>1.725548</td>\n",
       "    </tr>\n",
       "    <tr>\n",
       "      <th>1A_EMPCONSUL_SECTOR_SECUNDARIO</th>\n",
       "      <td>1.605672</td>\n",
       "    </tr>\n",
       "    <tr>\n",
       "      <th>TIPO_TELF_MOVIL</th>\n",
       "      <td>1.588286</td>\n",
       "    </tr>\n",
       "    <tr>\n",
       "      <th>ALTA_CONSUMO</th>\n",
       "      <td>1.561282</td>\n",
       "    </tr>\n",
       "    <tr>\n",
       "      <th>TIPOEMAIL_GOOHOTYAHMAIL</th>\n",
       "      <td>1.537400</td>\n",
       "    </tr>\n",
       "    <tr>\n",
       "      <th>REGISTRO_ALTA</th>\n",
       "      <td>1.332565</td>\n",
       "    </tr>\n",
       "    <tr>\n",
       "      <th>1A_DESCGRUPOPROD_PERF_PROMO</th>\n",
       "      <td>1.247762</td>\n",
       "    </tr>\n",
       "    <tr>\n",
       "      <th>USU_TIPO_SOC_COMERCIAL_INDUSTRIAL</th>\n",
       "      <td>1.207112</td>\n",
       "    </tr>\n",
       "    <tr>\n",
       "      <th>1A_DESCGRUPOPROD_FICH_PROMO</th>\n",
       "      <td>1.144977</td>\n",
       "    </tr>\n",
       "    <tr>\n",
       "      <th>IP_COUNTRY_IDH_NUM</th>\n",
       "      <td>1.029009</td>\n",
       "    </tr>\n",
       "    <tr>\n",
       "      <th>TIPO_TELF_NO_PUBLICO</th>\n",
       "      <td>1.027612</td>\n",
       "    </tr>\n",
       "  </tbody>\n",
       "</table>\n",
       "</div>"
      ],
      "text/plain": [
       "                                   important\n",
       "FECHA_ALTA_MONTH                    5.856505\n",
       "IPCASOS                             5.754373\n",
       "FECHA_REGISTRO_MONTH                5.557751\n",
       "FECHACONSUMO_MONTH                  5.492152\n",
       "CANAL_REGISTRO                      5.345712\n",
       "1A_EMPCONSUL_PROV_DENS              4.913978\n",
       "1A_EMPCONSUL_PROV_IDH               4.516892\n",
       "FECHA_ALTA_WEEKDAY                  4.482353\n",
       "FECHACONSUMO_WEEKDAY                4.147820\n",
       "FECHA_REGISTRO_WEEKDAY              3.967977\n",
       "FICH_PROMO_TOT                      3.587316\n",
       "PERF_PROMO_TOT                      2.654318\n",
       "USU_DEPART_DEN_POB                  2.215171\n",
       "USU_DEPART_IDH                      2.018727\n",
       "1A_EMPCONSUL_SECTOR_TERCIARIO       1.854578\n",
       "TIPO_TELF_EXTRANJERO                1.725548\n",
       "1A_EMPCONSUL_SECTOR_SECUNDARIO      1.605672\n",
       "TIPO_TELF_MOVIL                     1.588286\n",
       "ALTA_CONSUMO                        1.561282\n",
       "TIPOEMAIL_GOOHOTYAHMAIL             1.537400\n",
       "REGISTRO_ALTA                       1.332565\n",
       "1A_DESCGRUPOPROD_PERF_PROMO         1.247762\n",
       "USU_TIPO_SOC_COMERCIAL_INDUSTRIAL   1.207112\n",
       "1A_DESCGRUPOPROD_FICH_PROMO         1.144977\n",
       "IP_COUNTRY_IDH_NUM                  1.029009\n",
       "TIPO_TELF_NO_PUBLICO                1.027612"
      ]
     },
     "execution_count": 41,
     "metadata": {},
     "output_type": "execute_result"
    }
   ],
   "source": [
    "feature_importances[feature_importances['important'] > 0.01]*100"
   ]
  },
  {
   "cell_type": "code",
   "execution_count": 42,
   "id": "f2e9c99d-89f5-44f8-b9d1-3a61befbbb6f",
   "metadata": {
    "tags": []
   },
   "outputs": [
    {
     "data": {
      "text/plain": [
       "(26, 1)"
      ]
     },
     "execution_count": 42,
     "metadata": {},
     "output_type": "execute_result"
    }
   ],
   "source": [
    "feature_importances[feature_importances['important'] > 0.01].shape"
   ]
  },
  {
   "cell_type": "markdown",
   "id": "44fd9bfc-c974-43b3-b66a-407a8a7bf10f",
   "metadata": {},
   "source": [
    "------"
   ]
  },
  {
   "cell_type": "markdown",
   "id": "9ec9fca8-00dc-450f-a5e1-ed4415fcde88",
   "metadata": {},
   "source": [
    "**NearMiss**"
   ]
  },
  {
   "cell_type": "code",
   "execution_count": 43,
   "id": "f0f661de-801c-4803-97d8-b7600294fcea",
   "metadata": {
    "tags": []
   },
   "outputs": [
    {
     "name": "stdout",
     "output_type": "stream",
     "text": [
      "Distribution before resampling Counter({1: 1822, 0: 774})\n",
      "Distribution after resampling Counter({0: 774, 1: 774})\n"
     ]
    }
   ],
   "source": [
    "us = NearMiss(sampling_strategy = 'majority', n_neighbors = 2, n_jobs = -1)\n",
    "X_train_res, y_train_res = us.fit_resample(train_x, train_y)\n",
    " \n",
    "print (\"Distribution before resampling {}\".format(Counter(train_y)))\n",
    "print (\"Distribution after resampling {}\".format(Counter(y_train_res)))"
   ]
  },
  {
   "cell_type": "code",
   "execution_count": 44,
   "id": "d6a23601-5a7b-4fce-8a22-e1929e765884",
   "metadata": {},
   "outputs": [
    {
     "data": {
      "text/plain": [
       "RandomForestClassifier(max_features='sqrt', n_estimators=150, n_jobs=-1,\n",
       "                       random_state=123)"
      ]
     },
     "execution_count": 44,
     "metadata": {},
     "output_type": "execute_result"
    }
   ],
   "source": [
    "rf = RandomForestClassifier(criterion = 'gini', \n",
    "                            n_estimators = 150, \n",
    "                            max_features = 'sqrt', \n",
    "                            max_depth = None, \n",
    "                            n_jobs = -1,\n",
    "                            random_state = 123)\n",
    "\n",
    "rf.fit(X_train_res, y_train_res)"
   ]
  },
  {
   "cell_type": "code",
   "execution_count": 45,
   "id": "9b54c358-7c6e-4837-aadf-4cd106ee76c6",
   "metadata": {
    "tags": []
   },
   "outputs": [
    {
     "data": {
      "image/png": "[encoded data removed]",
      "text/plain": [
       "<Figure size 576x576 with 2 Axes>"
      ]
     },
     "metadata": {
      "needs_background": "light"
     },
     "output_type": "display_data"
    },
    {
     "name": "stdout",
     "output_type": "stream",
     "text": [
      "              precision    recall  f1-score   support\n",
      "\n",
      "           0       0.31      0.64      0.42       321\n",
      "           1       0.74      0.42      0.54       792\n",
      "\n",
      "    accuracy                           0.48      1113\n",
      "   macro avg       0.53      0.53      0.48      1113\n",
      "weighted avg       0.62      0.48      0.50      1113\n",
      "\n"
     ]
    }
   ],
   "source": [
    "pred_y = rf.predict(test_x)\n",
    "mostrar_resultados(test_y, pred_y)"
   ]
  },
  {
   "cell_type": "code",
   "execution_count": 46,
   "id": "94c15fed-62f9-4735-9323-155e0d9bd0ce",
   "metadata": {},
   "outputs": [],
   "source": [
    "feature_importances = pd.DataFrame(rf.feature_importances_, index = train_x.columns, columns = ['important']).sort_values(['important'], ascending = 0)"
   ]
  },
  {
   "cell_type": "code",
   "execution_count": 47,
   "id": "5762f835-b6f6-4690-b753-a34eb87edded",
   "metadata": {
    "collapsed": true,
    "jupyter": {
     "outputs_hidden": true
    },
    "tags": []
   },
   "outputs": [
    {
     "data": {
      "text/html": [
       "<div>\n",
       "<style scoped>\n",
       "    .dataframe tbody tr th:only-of-type {\n",
       "        vertical-align: middle;\n",
       "    }\n",
       "\n",
       "    .dataframe tbody tr th {\n",
       "        vertical-align: top;\n",
       "    }\n",
       "\n",
       "    .dataframe thead th {\n",
       "        text-align: right;\n",
       "    }\n",
       "</style>\n",
       "<table border=\"1\" class=\"dataframe\">\n",
       "  <thead>\n",
       "    <tr style=\"text-align: right;\">\n",
       "      <th></th>\n",
       "      <th>important</th>\n",
       "    </tr>\n",
       "  </thead>\n",
       "  <tbody>\n",
       "    <tr>\n",
       "      <th>IPCASOS</th>\n",
       "      <td>8.764995</td>\n",
       "    </tr>\n",
       "    <tr>\n",
       "      <th>1A_EMPCONSUL_PROV_IDH</th>\n",
       "      <td>6.645734</td>\n",
       "    </tr>\n",
       "    <tr>\n",
       "      <th>1A_EMPCONSUL_PROV_DENS</th>\n",
       "      <td>6.251443</td>\n",
       "    </tr>\n",
       "    <tr>\n",
       "      <th>FECHA_ALTA_MONTH</th>\n",
       "      <td>5.890032</td>\n",
       "    </tr>\n",
       "    <tr>\n",
       "      <th>CANAL_REGISTRO</th>\n",
       "      <td>5.543545</td>\n",
       "    </tr>\n",
       "    <tr>\n",
       "      <th>FECHACONSUMO_MONTH</th>\n",
       "      <td>5.405022</td>\n",
       "    </tr>\n",
       "    <tr>\n",
       "      <th>FECHA_REGISTRO_MONTH</th>\n",
       "      <td>5.260494</td>\n",
       "    </tr>\n",
       "    <tr>\n",
       "      <th>FECHA_ALTA_WEEKDAY</th>\n",
       "      <td>4.392219</td>\n",
       "    </tr>\n",
       "    <tr>\n",
       "      <th>FECHACONSUMO_WEEKDAY</th>\n",
       "      <td>3.939037</td>\n",
       "    </tr>\n",
       "    <tr>\n",
       "      <th>FECHA_REGISTRO_WEEKDAY</th>\n",
       "      <td>3.878951</td>\n",
       "    </tr>\n",
       "    <tr>\n",
       "      <th>FICH_PROMO_TOT</th>\n",
       "      <td>3.566316</td>\n",
       "    </tr>\n",
       "    <tr>\n",
       "      <th>PERF_PROMO_TOT</th>\n",
       "      <td>2.108999</td>\n",
       "    </tr>\n",
       "    <tr>\n",
       "      <th>1A_EMPCONSUL_SECTOR_TERCIARIO</th>\n",
       "      <td>1.791672</td>\n",
       "    </tr>\n",
       "    <tr>\n",
       "      <th>TIPO_TELF_EXTRANJERO</th>\n",
       "      <td>1.746525</td>\n",
       "    </tr>\n",
       "    <tr>\n",
       "      <th>1A_EMPCONSUL_SECTOR_SECUNDARIO</th>\n",
       "      <td>1.729816</td>\n",
       "    </tr>\n",
       "    <tr>\n",
       "      <th>TIPO_TELF_MOVIL</th>\n",
       "      <td>1.692635</td>\n",
       "    </tr>\n",
       "    <tr>\n",
       "      <th>USU_DEPART_DEN_POB</th>\n",
       "      <td>1.685880</td>\n",
       "    </tr>\n",
       "    <tr>\n",
       "      <th>USU_DEPART_IDH</th>\n",
       "      <td>1.501845</td>\n",
       "    </tr>\n",
       "    <tr>\n",
       "      <th>ALTA_CONSUMO</th>\n",
       "      <td>1.389909</td>\n",
       "    </tr>\n",
       "    <tr>\n",
       "      <th>REGISTRO_ALTA</th>\n",
       "      <td>1.359204</td>\n",
       "    </tr>\n",
       "    <tr>\n",
       "      <th>TIPOEMAIL_GOOHOTYAHMAIL</th>\n",
       "      <td>1.191330</td>\n",
       "    </tr>\n",
       "    <tr>\n",
       "      <th>BONDAD_EMAIL</th>\n",
       "      <td>1.162354</td>\n",
       "    </tr>\n",
       "    <tr>\n",
       "      <th>1A_DESCGRUPOPROD_PERF_PROMO</th>\n",
       "      <td>1.155245</td>\n",
       "    </tr>\n",
       "    <tr>\n",
       "      <th>TIPO_TELF_NO_PUBLICO</th>\n",
       "      <td>1.100306</td>\n",
       "    </tr>\n",
       "    <tr>\n",
       "      <th>1A_DESCGRUPOPROD_FICH_PROMO</th>\n",
       "      <td>1.082759</td>\n",
       "    </tr>\n",
       "  </tbody>\n",
       "</table>\n",
       "</div>"
      ],
      "text/plain": [
       "                                important\n",
       "IPCASOS                          8.764995\n",
       "1A_EMPCONSUL_PROV_IDH            6.645734\n",
       "1A_EMPCONSUL_PROV_DENS           6.251443\n",
       "FECHA_ALTA_MONTH                 5.890032\n",
       "CANAL_REGISTRO                   5.543545\n",
       "FECHACONSUMO_MONTH               5.405022\n",
       "FECHA_REGISTRO_MONTH             5.260494\n",
       "FECHA_ALTA_WEEKDAY               4.392219\n",
       "FECHACONSUMO_WEEKDAY             3.939037\n",
       "FECHA_REGISTRO_WEEKDAY           3.878951\n",
       "FICH_PROMO_TOT                   3.566316\n",
       "PERF_PROMO_TOT                   2.108999\n",
       "1A_EMPCONSUL_SECTOR_TERCIARIO    1.791672\n",
       "TIPO_TELF_EXTRANJERO             1.746525\n",
       "1A_EMPCONSUL_SECTOR_SECUNDARIO   1.729816\n",
       "TIPO_TELF_MOVIL                  1.692635\n",
       "USU_DEPART_DEN_POB               1.685880\n",
       "USU_DEPART_IDH                   1.501845\n",
       "ALTA_CONSUMO                     1.389909\n",
       "REGISTRO_ALTA                    1.359204\n",
       "TIPOEMAIL_GOOHOTYAHMAIL          1.191330\n",
       "BONDAD_EMAIL                     1.162354\n",
       "1A_DESCGRUPOPROD_PERF_PROMO      1.155245\n",
       "TIPO_TELF_NO_PUBLICO             1.100306\n",
       "1A_DESCGRUPOPROD_FICH_PROMO      1.082759"
      ]
     },
     "execution_count": 47,
     "metadata": {},
     "output_type": "execute_result"
    }
   ],
   "source": [
    "feature_importances[feature_importances['important'] > 0.01]*100"
   ]
  },
  {
   "cell_type": "code",
   "execution_count": 48,
   "id": "809bd7b2-cb4f-4f1c-85f6-8a3d98537960",
   "metadata": {
    "tags": []
   },
   "outputs": [
    {
     "data": {
      "text/plain": [
       "(25, 1)"
      ]
     },
     "execution_count": 48,
     "metadata": {},
     "output_type": "execute_result"
    }
   ],
   "source": [
    "feature_importances[feature_importances['important'] > 0.01].shape"
   ]
  },
  {
   "cell_type": "markdown",
   "id": "7c4523a0-f752-43cb-9788-a4fc2d2b8226",
   "metadata": {},
   "source": [
    "------"
   ]
  },
  {
   "cell_type": "markdown",
   "id": "d8954011-0648-493e-987f-c51c38c368e2",
   "metadata": {},
   "source": [
    "------"
   ]
  },
  {
   "cell_type": "markdown",
   "id": "da7b6976-5b6e-48ea-a2dc-9060a1c9ad68",
   "metadata": {},
   "source": [
    "##### **4.5.3 Oversampling en la clase minoritaria**"
   ]
  },
  {
   "cell_type": "markdown",
   "id": "3d2c69e5-8cd7-404c-bb5f-781614e1c9ad",
   "metadata": {},
   "source": [
    "**SMOTE**"
   ]
  },
  {
   "cell_type": "code",
   "execution_count": 49,
   "id": "8607deb4-69e1-4eb3-8dd3-da005dffa7e0",
   "metadata": {},
   "outputs": [],
   "source": [
    "os =  SMOTE(sampling_strategy = 'minority')\n",
    "X_train_res, y_train_res = os.fit_resample(train_x, train_y)"
   ]
  },
  {
   "cell_type": "code",
   "execution_count": 50,
   "id": "dba0c0b4-4190-4541-b3dd-ca714958e8c0",
   "metadata": {},
   "outputs": [
    {
     "name": "stdout",
     "output_type": "stream",
     "text": [
      "Distribution before resampling Counter({1: 1822, 0: 774})\n",
      "Distribution labels after resampling Counter({1: 1822, 0: 1822})\n"
     ]
    }
   ],
   "source": [
    "print (\"Distribution before resampling {}\".format(Counter(train_y)))\n",
    "print (\"Distribution labels after resampling {}\".format(Counter(y_train_res)))"
   ]
  },
  {
   "cell_type": "code",
   "execution_count": 51,
   "id": "5b7aeb43-4212-4304-ace4-41b9c19cd010",
   "metadata": {},
   "outputs": [
    {
     "data": {
      "text/plain": [
       "RandomForestClassifier(max_features='sqrt', n_estimators=150, n_jobs=-1,\n",
       "                       random_state=123)"
      ]
     },
     "execution_count": 51,
     "metadata": {},
     "output_type": "execute_result"
    }
   ],
   "source": [
    "rf = RandomForestClassifier(criterion = 'gini', \n",
    "                            n_estimators = 150, \n",
    "                            max_features = 'sqrt', \n",
    "                            max_depth = None, \n",
    "                            n_jobs = -1,\n",
    "                            random_state = 123)\n",
    "\n",
    "rf.fit(X_train_res, y_train_res)"
   ]
  },
  {
   "cell_type": "code",
   "execution_count": 52,
   "id": "e36995de-7e0c-4a36-b7c8-67244f216137",
   "metadata": {},
   "outputs": [
    {
     "data": {
      "image/png": "[encoded data removed]",
      "text/plain": [
       "<Figure size 576x576 with 2 Axes>"
      ]
     },
     "metadata": {
      "needs_background": "light"
     },
     "output_type": "display_data"
    },
    {
     "name": "stdout",
     "output_type": "stream",
     "text": [
      "              precision    recall  f1-score   support\n",
      "\n",
      "           0       0.42      0.32      0.37       321\n",
      "           1       0.75      0.82      0.78       792\n",
      "\n",
      "    accuracy                           0.68      1113\n",
      "   macro avg       0.58      0.57      0.57      1113\n",
      "weighted avg       0.65      0.68      0.66      1113\n",
      "\n"
     ]
    }
   ],
   "source": [
    "pred_y = rf.predict(test_x)\n",
    "mostrar_resultados(test_y, pred_y)"
   ]
  },
  {
   "cell_type": "code",
   "execution_count": 53,
   "id": "55db0db9-9ac2-4782-8c77-db9fe9e25d34",
   "metadata": {},
   "outputs": [],
   "source": [
    "feature_importances = pd.DataFrame(rf.feature_importances_, index = train_x.columns, columns = ['important']).sort_values(['important'], ascending = 0)"
   ]
  },
  {
   "cell_type": "code",
   "execution_count": 54,
   "id": "86256e53-9331-462f-a2ea-7336f59ce701",
   "metadata": {
    "collapsed": true,
    "jupyter": {
     "outputs_hidden": true
    },
    "tags": []
   },
   "outputs": [
    {
     "data": {
      "text/html": [
       "<div>\n",
       "<style scoped>\n",
       "    .dataframe tbody tr th:only-of-type {\n",
       "        vertical-align: middle;\n",
       "    }\n",
       "\n",
       "    .dataframe tbody tr th {\n",
       "        vertical-align: top;\n",
       "    }\n",
       "\n",
       "    .dataframe thead th {\n",
       "        text-align: right;\n",
       "    }\n",
       "</style>\n",
       "<table border=\"1\" class=\"dataframe\">\n",
       "  <thead>\n",
       "    <tr style=\"text-align: right;\">\n",
       "      <th></th>\n",
       "      <th>important</th>\n",
       "    </tr>\n",
       "  </thead>\n",
       "  <tbody>\n",
       "    <tr>\n",
       "      <th>FECHA_ALTA_MONTH</th>\n",
       "      <td>4.998126</td>\n",
       "    </tr>\n",
       "    <tr>\n",
       "      <th>CANAL_REGISTRO</th>\n",
       "      <td>4.842406</td>\n",
       "    </tr>\n",
       "    <tr>\n",
       "      <th>FECHACONSUMO_MONTH</th>\n",
       "      <td>4.794575</td>\n",
       "    </tr>\n",
       "    <tr>\n",
       "      <th>FECHA_REGISTRO_MONTH</th>\n",
       "      <td>4.605372</td>\n",
       "    </tr>\n",
       "    <tr>\n",
       "      <th>IPCASOS</th>\n",
       "      <td>4.426529</td>\n",
       "    </tr>\n",
       "    <tr>\n",
       "      <th>1A_EMPCONSUL_PROV_DENS</th>\n",
       "      <td>4.198080</td>\n",
       "    </tr>\n",
       "    <tr>\n",
       "      <th>1A_EMPCONSUL_PROV_IDH</th>\n",
       "      <td>3.928884</td>\n",
       "    </tr>\n",
       "    <tr>\n",
       "      <th>FECHA_ALTA_WEEKDAY</th>\n",
       "      <td>3.726870</td>\n",
       "    </tr>\n",
       "    <tr>\n",
       "      <th>FECHACONSUMO_WEEKDAY</th>\n",
       "      <td>3.554944</td>\n",
       "    </tr>\n",
       "    <tr>\n",
       "      <th>FECHA_REGISTRO_WEEKDAY</th>\n",
       "      <td>3.499049</td>\n",
       "    </tr>\n",
       "    <tr>\n",
       "      <th>FICH_PROMO_TOT</th>\n",
       "      <td>3.297883</td>\n",
       "    </tr>\n",
       "    <tr>\n",
       "      <th>TIPO_TELF_EXTRANJERO</th>\n",
       "      <td>2.578918</td>\n",
       "    </tr>\n",
       "    <tr>\n",
       "      <th>USU_TIPO_SOC_COMERCIAL_INDUSTRIAL</th>\n",
       "      <td>2.482892</td>\n",
       "    </tr>\n",
       "    <tr>\n",
       "      <th>TIPO_TELF_MOVIL</th>\n",
       "      <td>2.363437</td>\n",
       "    </tr>\n",
       "    <tr>\n",
       "      <th>1A_EMPCONSUL_SECTOR_SECUNDARIO</th>\n",
       "      <td>2.226911</td>\n",
       "    </tr>\n",
       "    <tr>\n",
       "      <th>1A_EMPCONSUL_SECTOR_TERCIARIO</th>\n",
       "      <td>2.171254</td>\n",
       "    </tr>\n",
       "    <tr>\n",
       "      <th>USU_DEPART_IDH</th>\n",
       "      <td>1.801152</td>\n",
       "    </tr>\n",
       "    <tr>\n",
       "      <th>PERF_PROMO_TOT</th>\n",
       "      <td>1.798734</td>\n",
       "    </tr>\n",
       "    <tr>\n",
       "      <th>USU_DEPART_DEN_POB</th>\n",
       "      <td>1.791052</td>\n",
       "    </tr>\n",
       "    <tr>\n",
       "      <th>USU_ESTADO_ACTIVA</th>\n",
       "      <td>1.747503</td>\n",
       "    </tr>\n",
       "    <tr>\n",
       "      <th>IP_COUNTRY_IDH_NUM</th>\n",
       "      <td>1.690822</td>\n",
       "    </tr>\n",
       "    <tr>\n",
       "      <th>1A_DESCGRUPOPROD_FICH_PROMO</th>\n",
       "      <td>1.611862</td>\n",
       "    </tr>\n",
       "    <tr>\n",
       "      <th>BONDAD_EMAIL</th>\n",
       "      <td>1.605194</td>\n",
       "    </tr>\n",
       "    <tr>\n",
       "      <th>TIPOEMAIL_CORPORATIVO</th>\n",
       "      <td>1.486733</td>\n",
       "    </tr>\n",
       "    <tr>\n",
       "      <th>1A_DESCGRUPOPROD_PERF_PROMO</th>\n",
       "      <td>1.443383</td>\n",
       "    </tr>\n",
       "    <tr>\n",
       "      <th>REGISTRO_ALTA</th>\n",
       "      <td>1.440399</td>\n",
       "    </tr>\n",
       "    <tr>\n",
       "      <th>TIPOEMAIL_GOOHOTYAHMAIL</th>\n",
       "      <td>1.412816</td>\n",
       "    </tr>\n",
       "    <tr>\n",
       "      <th>1A_EMPCONSUL_EST_ACTIVA</th>\n",
       "      <td>1.345365</td>\n",
       "    </tr>\n",
       "    <tr>\n",
       "      <th>TIPO_TELF_NO_PUBLICO</th>\n",
       "      <td>1.322296</td>\n",
       "    </tr>\n",
       "    <tr>\n",
       "      <th>TIPOEMAIL_SINCLASIFICAR</th>\n",
       "      <td>1.281220</td>\n",
       "    </tr>\n",
       "    <tr>\n",
       "      <th>ALTA_CONSUMO</th>\n",
       "      <td>1.167775</td>\n",
       "    </tr>\n",
       "    <tr>\n",
       "      <th>1A_EMPCONSUL_SECTOR_CUATERNARIO</th>\n",
       "      <td>1.150932</td>\n",
       "    </tr>\n",
       "  </tbody>\n",
       "</table>\n",
       "</div>"
      ],
      "text/plain": [
       "                                   important\n",
       "FECHA_ALTA_MONTH                    4.998126\n",
       "CANAL_REGISTRO                      4.842406\n",
       "FECHACONSUMO_MONTH                  4.794575\n",
       "FECHA_REGISTRO_MONTH                4.605372\n",
       "IPCASOS                             4.426529\n",
       "1A_EMPCONSUL_PROV_DENS              4.198080\n",
       "1A_EMPCONSUL_PROV_IDH               3.928884\n",
       "FECHA_ALTA_WEEKDAY                  3.726870\n",
       "FECHACONSUMO_WEEKDAY                3.554944\n",
       "FECHA_REGISTRO_WEEKDAY              3.499049\n",
       "FICH_PROMO_TOT                      3.297883\n",
       "TIPO_TELF_EXTRANJERO                2.578918\n",
       "USU_TIPO_SOC_COMERCIAL_INDUSTRIAL   2.482892\n",
       "TIPO_TELF_MOVIL                     2.363437\n",
       "1A_EMPCONSUL_SECTOR_SECUNDARIO      2.226911\n",
       "1A_EMPCONSUL_SECTOR_TERCIARIO       2.171254\n",
       "USU_DEPART_IDH                      1.801152\n",
       "PERF_PROMO_TOT                      1.798734\n",
       "USU_DEPART_DEN_POB                  1.791052\n",
       "USU_ESTADO_ACTIVA                   1.747503\n",
       "IP_COUNTRY_IDH_NUM                  1.690822\n",
       "1A_DESCGRUPOPROD_FICH_PROMO         1.611862\n",
       "BONDAD_EMAIL                        1.605194\n",
       "TIPOEMAIL_CORPORATIVO               1.486733\n",
       "1A_DESCGRUPOPROD_PERF_PROMO         1.443383\n",
       "REGISTRO_ALTA                       1.440399\n",
       "TIPOEMAIL_GOOHOTYAHMAIL             1.412816\n",
       "1A_EMPCONSUL_EST_ACTIVA             1.345365\n",
       "TIPO_TELF_NO_PUBLICO                1.322296\n",
       "TIPOEMAIL_SINCLASIFICAR             1.281220\n",
       "ALTA_CONSUMO                        1.167775\n",
       "1A_EMPCONSUL_SECTOR_CUATERNARIO     1.150932"
      ]
     },
     "execution_count": 54,
     "metadata": {},
     "output_type": "execute_result"
    }
   ],
   "source": [
    "feature_importances[feature_importances['important'] > 0.01]*100"
   ]
  },
  {
   "cell_type": "code",
   "execution_count": 55,
   "id": "21dcdc08-4074-45c6-b05a-9bb3fe7833bc",
   "metadata": {
    "tags": []
   },
   "outputs": [
    {
     "data": {
      "text/plain": [
       "(32, 1)"
      ]
     },
     "execution_count": 55,
     "metadata": {},
     "output_type": "execute_result"
    }
   ],
   "source": [
    "feature_importances[feature_importances['important'] > 0.01].shape"
   ]
  },
  {
   "cell_type": "markdown",
   "id": "8ff98e96-eed7-4233-af3b-3b5472d83216",
   "metadata": {},
   "source": [
    "------"
   ]
  },
  {
   "cell_type": "markdown",
   "id": "96149eaf-c4b9-4ea0-bd74-07736d5db7cc",
   "metadata": {},
   "source": [
    "**RandomOverSampler**"
   ]
  },
  {
   "cell_type": "code",
   "execution_count": 56,
   "id": "4df09c1f-8bbf-4362-8651-2e0948a25267",
   "metadata": {},
   "outputs": [],
   "source": [
    "os =  RandomOverSampler(sampling_strategy = 'minority')\n",
    "X_train_res, y_train_res = os.fit_resample(train_x, train_y)"
   ]
  },
  {
   "cell_type": "code",
   "execution_count": 57,
   "id": "ed3f9694-3f74-445e-834f-4f83bed2e7ec",
   "metadata": {},
   "outputs": [
    {
     "name": "stdout",
     "output_type": "stream",
     "text": [
      "Distribution before resampling Counter({1: 1822, 0: 774})\n",
      "Distribution labels after resampling Counter({1: 1822, 0: 1822})\n"
     ]
    }
   ],
   "source": [
    "print (\"Distribution before resampling {}\".format(Counter(train_y)))\n",
    "print (\"Distribution labels after resampling {}\".format(Counter(y_train_res)))"
   ]
  },
  {
   "cell_type": "code",
   "execution_count": 58,
   "id": "dd20a8f1-1930-43fb-a60a-3da11464736e",
   "metadata": {},
   "outputs": [
    {
     "data": {
      "text/plain": [
       "RandomForestClassifier(max_features='sqrt', n_estimators=150, n_jobs=-1,\n",
       "                       random_state=123)"
      ]
     },
     "execution_count": 58,
     "metadata": {},
     "output_type": "execute_result"
    }
   ],
   "source": [
    "rf = RandomForestClassifier(criterion = 'gini', \n",
    "                            n_estimators = 150, \n",
    "                            max_features = 'sqrt', \n",
    "                            max_depth = None, \n",
    "                            n_jobs = -1,\n",
    "                            random_state = 123)\n",
    "\n",
    "rf.fit(X_train_res, y_train_res)"
   ]
  },
  {
   "cell_type": "code",
   "execution_count": 59,
   "id": "acc209ab-0cee-4f6e-9751-66ab63f273e0",
   "metadata": {},
   "outputs": [
    {
     "data": {
      "image/png": "[encoded data removed]",
      "text/plain": [
       "<Figure size 576x576 with 2 Axes>"
      ]
     },
     "metadata": {
      "needs_background": "light"
     },
     "output_type": "display_data"
    },
    {
     "name": "stdout",
     "output_type": "stream",
     "text": [
      "              precision    recall  f1-score   support\n",
      "\n",
      "           0       0.45      0.36      0.40       321\n",
      "           1       0.76      0.82      0.79       792\n",
      "\n",
      "    accuracy                           0.69      1113\n",
      "   macro avg       0.61      0.59      0.60      1113\n",
      "weighted avg       0.67      0.69      0.68      1113\n",
      "\n"
     ]
    }
   ],
   "source": [
    "pred_y = rf.predict(test_x)\n",
    "mostrar_resultados(test_y, pred_y)"
   ]
  },
  {
   "cell_type": "code",
   "execution_count": 60,
   "id": "4c0d9e17-12ac-448a-813c-f6a70aa1e706",
   "metadata": {},
   "outputs": [],
   "source": [
    "feature_importances = pd.DataFrame(rf.feature_importances_, index = train_x.columns, columns = ['important']).sort_values(['important'], ascending = 0)"
   ]
  },
  {
   "cell_type": "code",
   "execution_count": 61,
   "id": "fe3c04b4-c973-4aaf-8a47-125153589cfa",
   "metadata": {
    "collapsed": true,
    "jupyter": {
     "outputs_hidden": true
    },
    "tags": []
   },
   "outputs": [
    {
     "data": {
      "text/html": [
       "<div>\n",
       "<style scoped>\n",
       "    .dataframe tbody tr th:only-of-type {\n",
       "        vertical-align: middle;\n",
       "    }\n",
       "\n",
       "    .dataframe tbody tr th {\n",
       "        vertical-align: top;\n",
       "    }\n",
       "\n",
       "    .dataframe thead th {\n",
       "        text-align: right;\n",
       "    }\n",
       "</style>\n",
       "<table border=\"1\" class=\"dataframe\">\n",
       "  <thead>\n",
       "    <tr style=\"text-align: right;\">\n",
       "      <th></th>\n",
       "      <th>important</th>\n",
       "    </tr>\n",
       "  </thead>\n",
       "  <tbody>\n",
       "    <tr>\n",
       "      <th>FECHA_ALTA_MONTH</th>\n",
       "      <td>5.862412</td>\n",
       "    </tr>\n",
       "    <tr>\n",
       "      <th>IPCASOS</th>\n",
       "      <td>5.674300</td>\n",
       "    </tr>\n",
       "    <tr>\n",
       "      <th>FECHACONSUMO_MONTH</th>\n",
       "      <td>5.580872</td>\n",
       "    </tr>\n",
       "    <tr>\n",
       "      <th>CANAL_REGISTRO</th>\n",
       "      <td>5.527874</td>\n",
       "    </tr>\n",
       "    <tr>\n",
       "      <th>FECHA_REGISTRO_MONTH</th>\n",
       "      <td>5.477332</td>\n",
       "    </tr>\n",
       "    <tr>\n",
       "      <th>1A_EMPCONSUL_PROV_DENS</th>\n",
       "      <td>4.662125</td>\n",
       "    </tr>\n",
       "    <tr>\n",
       "      <th>1A_EMPCONSUL_PROV_IDH</th>\n",
       "      <td>4.502085</td>\n",
       "    </tr>\n",
       "    <tr>\n",
       "      <th>FECHA_ALTA_WEEKDAY</th>\n",
       "      <td>4.379934</td>\n",
       "    </tr>\n",
       "    <tr>\n",
       "      <th>FECHACONSUMO_WEEKDAY</th>\n",
       "      <td>4.137992</td>\n",
       "    </tr>\n",
       "    <tr>\n",
       "      <th>FECHA_REGISTRO_WEEKDAY</th>\n",
       "      <td>4.095096</td>\n",
       "    </tr>\n",
       "    <tr>\n",
       "      <th>FICH_PROMO_TOT</th>\n",
       "      <td>3.583541</td>\n",
       "    </tr>\n",
       "    <tr>\n",
       "      <th>PERF_PROMO_TOT</th>\n",
       "      <td>2.504086</td>\n",
       "    </tr>\n",
       "    <tr>\n",
       "      <th>USU_DEPART_DEN_POB</th>\n",
       "      <td>2.114206</td>\n",
       "    </tr>\n",
       "    <tr>\n",
       "      <th>USU_DEPART_IDH</th>\n",
       "      <td>2.040267</td>\n",
       "    </tr>\n",
       "    <tr>\n",
       "      <th>TIPO_TELF_EXTRANJERO</th>\n",
       "      <td>1.827381</td>\n",
       "    </tr>\n",
       "    <tr>\n",
       "      <th>1A_EMPCONSUL_SECTOR_TERCIARIO</th>\n",
       "      <td>1.788726</td>\n",
       "    </tr>\n",
       "    <tr>\n",
       "      <th>TIPO_TELF_MOVIL</th>\n",
       "      <td>1.664589</td>\n",
       "    </tr>\n",
       "    <tr>\n",
       "      <th>1A_EMPCONSUL_SECTOR_SECUNDARIO</th>\n",
       "      <td>1.603570</td>\n",
       "    </tr>\n",
       "    <tr>\n",
       "      <th>ALTA_CONSUMO</th>\n",
       "      <td>1.492757</td>\n",
       "    </tr>\n",
       "    <tr>\n",
       "      <th>REGISTRO_ALTA</th>\n",
       "      <td>1.369780</td>\n",
       "    </tr>\n",
       "    <tr>\n",
       "      <th>TIPOEMAIL_GOOHOTYAHMAIL</th>\n",
       "      <td>1.273554</td>\n",
       "    </tr>\n",
       "    <tr>\n",
       "      <th>USU_TIPO_SOC_COMERCIAL_INDUSTRIAL</th>\n",
       "      <td>1.216947</td>\n",
       "    </tr>\n",
       "    <tr>\n",
       "      <th>BONDAD_EMAIL</th>\n",
       "      <td>1.158310</td>\n",
       "    </tr>\n",
       "    <tr>\n",
       "      <th>1A_DESCGRUPOPROD_PERF_PROMO</th>\n",
       "      <td>1.141108</td>\n",
       "    </tr>\n",
       "    <tr>\n",
       "      <th>USU_ESTADO_ACTIVA</th>\n",
       "      <td>1.099393</td>\n",
       "    </tr>\n",
       "    <tr>\n",
       "      <th>1A_DESCGRUPOPROD_FICH_PROMO</th>\n",
       "      <td>1.095452</td>\n",
       "    </tr>\n",
       "    <tr>\n",
       "      <th>TIPO_TELF_NO_PUBLICO</th>\n",
       "      <td>1.093043</td>\n",
       "    </tr>\n",
       "    <tr>\n",
       "      <th>IP_COUNTRY_IDH_NUM</th>\n",
       "      <td>1.046240</td>\n",
       "    </tr>\n",
       "  </tbody>\n",
       "</table>\n",
       "</div>"
      ],
      "text/plain": [
       "                                   important\n",
       "FECHA_ALTA_MONTH                    5.862412\n",
       "IPCASOS                             5.674300\n",
       "FECHACONSUMO_MONTH                  5.580872\n",
       "CANAL_REGISTRO                      5.527874\n",
       "FECHA_REGISTRO_MONTH                5.477332\n",
       "1A_EMPCONSUL_PROV_DENS              4.662125\n",
       "1A_EMPCONSUL_PROV_IDH               4.502085\n",
       "FECHA_ALTA_WEEKDAY                  4.379934\n",
       "FECHACONSUMO_WEEKDAY                4.137992\n",
       "FECHA_REGISTRO_WEEKDAY              4.095096\n",
       "FICH_PROMO_TOT                      3.583541\n",
       "PERF_PROMO_TOT                      2.504086\n",
       "USU_DEPART_DEN_POB                  2.114206\n",
       "USU_DEPART_IDH                      2.040267\n",
       "TIPO_TELF_EXTRANJERO                1.827381\n",
       "1A_EMPCONSUL_SECTOR_TERCIARIO       1.788726\n",
       "TIPO_TELF_MOVIL                     1.664589\n",
       "1A_EMPCONSUL_SECTOR_SECUNDARIO      1.603570\n",
       "ALTA_CONSUMO                        1.492757\n",
       "REGISTRO_ALTA                       1.369780\n",
       "TIPOEMAIL_GOOHOTYAHMAIL             1.273554\n",
       "USU_TIPO_SOC_COMERCIAL_INDUSTRIAL   1.216947\n",
       "BONDAD_EMAIL                        1.158310\n",
       "1A_DESCGRUPOPROD_PERF_PROMO         1.141108\n",
       "USU_ESTADO_ACTIVA                   1.099393\n",
       "1A_DESCGRUPOPROD_FICH_PROMO         1.095452\n",
       "TIPO_TELF_NO_PUBLICO                1.093043\n",
       "IP_COUNTRY_IDH_NUM                  1.046240"
      ]
     },
     "execution_count": 61,
     "metadata": {},
     "output_type": "execute_result"
    }
   ],
   "source": [
    "feature_importances[feature_importances['important'] > 0.01]*100"
   ]
  },
  {
   "cell_type": "code",
   "execution_count": 62,
   "id": "eb889856-91f4-4145-b928-75c248b27858",
   "metadata": {
    "tags": []
   },
   "outputs": [
    {
     "data": {
      "text/plain": [
       "(28, 1)"
      ]
     },
     "execution_count": 62,
     "metadata": {},
     "output_type": "execute_result"
    }
   ],
   "source": [
    "feature_importances[feature_importances['important'] > 0.01].shape"
   ]
  },
  {
   "cell_type": "markdown",
   "id": "44090071-243b-4b14-baf7-2943229fc90e",
   "metadata": {},
   "source": [
    "------"
   ]
  },
  {
   "cell_type": "markdown",
   "id": "fc00bf4f-7ccc-438c-8d1a-0bfaee763331",
   "metadata": {},
   "source": [
    "------"
   ]
  },
  {
   "cell_type": "markdown",
   "id": "c328f137-4f93-4754-8f4f-cbed67f02edb",
   "metadata": {},
   "source": [
    "##### **4.5.4 Combinamos OverSampling con Subsampling**"
   ]
  },
  {
   "cell_type": "markdown",
   "id": "3faef6bf-46b6-4d5a-9fbf-7f2176916431",
   "metadata": {},
   "source": [
    "**Combinando SMOTE & RandomUnderSampler**"
   ]
  },
  {
   "cell_type": "code",
   "execution_count": 63,
   "id": "8d0fcdfa-8edd-44b9-8455-f76f0a8b7701",
   "metadata": {},
   "outputs": [],
   "source": [
    "over = SMOTE()\n",
    "under = RandomUnderSampler()\n",
    "steps = [('over', over), ('under', under)]\n",
    "pipeline = Pipeline(steps = steps)"
   ]
  },
  {
   "cell_type": "code",
   "execution_count": 64,
   "id": "f850aa3e-0ecd-4707-8999-78aab444853b",
   "metadata": {},
   "outputs": [],
   "source": [
    "X_train_res, y_train_res = pipeline.fit_resample(train_x, train_y)"
   ]
  },
  {
   "cell_type": "code",
   "execution_count": 65,
   "id": "099f5646-ff5e-438f-a1cd-6a6d7ab82e2d",
   "metadata": {},
   "outputs": [
    {
     "name": "stdout",
     "output_type": "stream",
     "text": [
      "Distribution before resampling Counter({1: 1822, 0: 774})\n",
      "Distribution after resampling Counter({0: 1822, 1: 1822})\n"
     ]
    }
   ],
   "source": [
    "print (\"Distribution before resampling {}\".format(Counter(train_y)))\n",
    "print (\"Distribution after resampling {}\".format(Counter(y_train_res)))"
   ]
  },
  {
   "cell_type": "code",
   "execution_count": 66,
   "id": "bb2b4046-67c9-4290-aaaa-1828c2d62204",
   "metadata": {},
   "outputs": [
    {
     "data": {
      "text/plain": [
       "RandomForestClassifier(max_features='sqrt', n_estimators=150, n_jobs=-1,\n",
       "                       random_state=123)"
      ]
     },
     "execution_count": 66,
     "metadata": {},
     "output_type": "execute_result"
    }
   ],
   "source": [
    "rf = RandomForestClassifier(criterion = 'gini', \n",
    "                            n_estimators = 150, \n",
    "                            max_features = 'sqrt', \n",
    "                            max_depth = None, \n",
    "                            n_jobs = -1,\n",
    "                            random_state = 123)\n",
    "\n",
    "rf.fit(X_train_res, y_train_res)"
   ]
  },
  {
   "cell_type": "code",
   "execution_count": 67,
   "id": "cb3df9f8-bad1-40fc-8445-fce02c46ebb9",
   "metadata": {},
   "outputs": [
    {
     "data": {
      "image/png": "[encoded data removed]",
      "text/plain": [
       "<Figure size 576x576 with 2 Axes>"
      ]
     },
     "metadata": {
      "needs_background": "light"
     },
     "output_type": "display_data"
    },
    {
     "name": "stdout",
     "output_type": "stream",
     "text": [
      "              precision    recall  f1-score   support\n",
      "\n",
      "           0       0.46      0.33      0.38       321\n",
      "           1       0.76      0.84      0.80       792\n",
      "\n",
      "    accuracy                           0.69      1113\n",
      "   macro avg       0.61      0.58      0.59      1113\n",
      "weighted avg       0.67      0.69      0.68      1113\n",
      "\n"
     ]
    }
   ],
   "source": [
    "pred_y = rf.predict(test_x)\n",
    "mostrar_resultados(test_y, pred_y)"
   ]
  },
  {
   "cell_type": "code",
   "execution_count": 68,
   "id": "a0e17ab1-05ac-40bf-a381-d34bf175e05e",
   "metadata": {},
   "outputs": [],
   "source": [
    "feature_importances = pd.DataFrame(rf.feature_importances_, index = train_x.columns, columns = ['important']).sort_values(['important'], ascending = 0)"
   ]
  },
  {
   "cell_type": "code",
   "execution_count": 69,
   "id": "cb62ff02-98fc-4366-922b-24da398d3f20",
   "metadata": {
    "collapsed": true,
    "jupyter": {
     "outputs_hidden": true
    },
    "tags": []
   },
   "outputs": [
    {
     "data": {
      "text/html": [
       "<div>\n",
       "<style scoped>\n",
       "    .dataframe tbody tr th:only-of-type {\n",
       "        vertical-align: middle;\n",
       "    }\n",
       "\n",
       "    .dataframe tbody tr th {\n",
       "        vertical-align: top;\n",
       "    }\n",
       "\n",
       "    .dataframe thead th {\n",
       "        text-align: right;\n",
       "    }\n",
       "</style>\n",
       "<table border=\"1\" class=\"dataframe\">\n",
       "  <thead>\n",
       "    <tr style=\"text-align: right;\">\n",
       "      <th></th>\n",
       "      <th>important</th>\n",
       "    </tr>\n",
       "  </thead>\n",
       "  <tbody>\n",
       "    <tr>\n",
       "      <th>FECHA_ALTA_MONTH</th>\n",
       "      <td>5.062731</td>\n",
       "    </tr>\n",
       "    <tr>\n",
       "      <th>FECHA_REGISTRO_MONTH</th>\n",
       "      <td>4.713162</td>\n",
       "    </tr>\n",
       "    <tr>\n",
       "      <th>CANAL_REGISTRO</th>\n",
       "      <td>4.687176</td>\n",
       "    </tr>\n",
       "    <tr>\n",
       "      <th>FECHACONSUMO_MONTH</th>\n",
       "      <td>4.550523</td>\n",
       "    </tr>\n",
       "    <tr>\n",
       "      <th>IPCASOS</th>\n",
       "      <td>4.512704</td>\n",
       "    </tr>\n",
       "    <tr>\n",
       "      <th>1A_EMPCONSUL_PROV_DENS</th>\n",
       "      <td>4.272984</td>\n",
       "    </tr>\n",
       "    <tr>\n",
       "      <th>1A_EMPCONSUL_PROV_IDH</th>\n",
       "      <td>4.065849</td>\n",
       "    </tr>\n",
       "    <tr>\n",
       "      <th>FECHA_ALTA_WEEKDAY</th>\n",
       "      <td>3.777289</td>\n",
       "    </tr>\n",
       "    <tr>\n",
       "      <th>FECHACONSUMO_WEEKDAY</th>\n",
       "      <td>3.581790</td>\n",
       "    </tr>\n",
       "    <tr>\n",
       "      <th>FECHA_REGISTRO_WEEKDAY</th>\n",
       "      <td>3.579848</td>\n",
       "    </tr>\n",
       "    <tr>\n",
       "      <th>FICH_PROMO_TOT</th>\n",
       "      <td>3.197363</td>\n",
       "    </tr>\n",
       "    <tr>\n",
       "      <th>TIPO_TELF_EXTRANJERO</th>\n",
       "      <td>2.957263</td>\n",
       "    </tr>\n",
       "    <tr>\n",
       "      <th>USU_TIPO_SOC_COMERCIAL_INDUSTRIAL</th>\n",
       "      <td>2.476709</td>\n",
       "    </tr>\n",
       "    <tr>\n",
       "      <th>TIPO_TELF_MOVIL</th>\n",
       "      <td>2.472014</td>\n",
       "    </tr>\n",
       "    <tr>\n",
       "      <th>1A_EMPCONSUL_SECTOR_SECUNDARIO</th>\n",
       "      <td>2.195528</td>\n",
       "    </tr>\n",
       "    <tr>\n",
       "      <th>1A_EMPCONSUL_SECTOR_TERCIARIO</th>\n",
       "      <td>2.121705</td>\n",
       "    </tr>\n",
       "    <tr>\n",
       "      <th>USU_ESTADO_ACTIVA</th>\n",
       "      <td>1.970391</td>\n",
       "    </tr>\n",
       "    <tr>\n",
       "      <th>USU_DEPART_IDH</th>\n",
       "      <td>1.886168</td>\n",
       "    </tr>\n",
       "    <tr>\n",
       "      <th>PERF_PROMO_TOT</th>\n",
       "      <td>1.748805</td>\n",
       "    </tr>\n",
       "    <tr>\n",
       "      <th>USU_DEPART_DEN_POB</th>\n",
       "      <td>1.713670</td>\n",
       "    </tr>\n",
       "    <tr>\n",
       "      <th>IP_COUNTRY_IDH_NUM</th>\n",
       "      <td>1.672563</td>\n",
       "    </tr>\n",
       "    <tr>\n",
       "      <th>1A_DESCGRUPOPROD_FICH_PROMO</th>\n",
       "      <td>1.596920</td>\n",
       "    </tr>\n",
       "    <tr>\n",
       "      <th>BONDAD_EMAIL</th>\n",
       "      <td>1.589964</td>\n",
       "    </tr>\n",
       "    <tr>\n",
       "      <th>TIPOEMAIL_CORPORATIVO</th>\n",
       "      <td>1.459155</td>\n",
       "    </tr>\n",
       "    <tr>\n",
       "      <th>1A_DESCGRUPOPROD_PERF_PROMO</th>\n",
       "      <td>1.450817</td>\n",
       "    </tr>\n",
       "    <tr>\n",
       "      <th>REGISTRO_ALTA</th>\n",
       "      <td>1.436409</td>\n",
       "    </tr>\n",
       "    <tr>\n",
       "      <th>TIPO_TELF_NO_PUBLICO</th>\n",
       "      <td>1.418441</td>\n",
       "    </tr>\n",
       "    <tr>\n",
       "      <th>TIPOEMAIL_GOOHOTYAHMAIL</th>\n",
       "      <td>1.410500</td>\n",
       "    </tr>\n",
       "    <tr>\n",
       "      <th>TIPOEMAIL_SINCLASIFICAR</th>\n",
       "      <td>1.243550</td>\n",
       "    </tr>\n",
       "    <tr>\n",
       "      <th>ALTA_CONSUMO</th>\n",
       "      <td>1.224724</td>\n",
       "    </tr>\n",
       "    <tr>\n",
       "      <th>1A_EMPCONSUL_EST_ACTIVA</th>\n",
       "      <td>1.208257</td>\n",
       "    </tr>\n",
       "    <tr>\n",
       "      <th>1A_EMPCONSUL_SECTOR_CUATERNARIO</th>\n",
       "      <td>1.055103</td>\n",
       "    </tr>\n",
       "  </tbody>\n",
       "</table>\n",
       "</div>"
      ],
      "text/plain": [
       "                                   important\n",
       "FECHA_ALTA_MONTH                    5.062731\n",
       "FECHA_REGISTRO_MONTH                4.713162\n",
       "CANAL_REGISTRO                      4.687176\n",
       "FECHACONSUMO_MONTH                  4.550523\n",
       "IPCASOS                             4.512704\n",
       "1A_EMPCONSUL_PROV_DENS              4.272984\n",
       "1A_EMPCONSUL_PROV_IDH               4.065849\n",
       "FECHA_ALTA_WEEKDAY                  3.777289\n",
       "FECHACONSUMO_WEEKDAY                3.581790\n",
       "FECHA_REGISTRO_WEEKDAY              3.579848\n",
       "FICH_PROMO_TOT                      3.197363\n",
       "TIPO_TELF_EXTRANJERO                2.957263\n",
       "USU_TIPO_SOC_COMERCIAL_INDUSTRIAL   2.476709\n",
       "TIPO_TELF_MOVIL                     2.472014\n",
       "1A_EMPCONSUL_SECTOR_SECUNDARIO      2.195528\n",
       "1A_EMPCONSUL_SECTOR_TERCIARIO       2.121705\n",
       "USU_ESTADO_ACTIVA                   1.970391\n",
       "USU_DEPART_IDH                      1.886168\n",
       "PERF_PROMO_TOT                      1.748805\n",
       "USU_DEPART_DEN_POB                  1.713670\n",
       "IP_COUNTRY_IDH_NUM                  1.672563\n",
       "1A_DESCGRUPOPROD_FICH_PROMO         1.596920\n",
       "BONDAD_EMAIL                        1.589964\n",
       "TIPOEMAIL_CORPORATIVO               1.459155\n",
       "1A_DESCGRUPOPROD_PERF_PROMO         1.450817\n",
       "REGISTRO_ALTA                       1.436409\n",
       "TIPO_TELF_NO_PUBLICO                1.418441\n",
       "TIPOEMAIL_GOOHOTYAHMAIL             1.410500\n",
       "TIPOEMAIL_SINCLASIFICAR             1.243550\n",
       "ALTA_CONSUMO                        1.224724\n",
       "1A_EMPCONSUL_EST_ACTIVA             1.208257\n",
       "1A_EMPCONSUL_SECTOR_CUATERNARIO     1.055103"
      ]
     },
     "execution_count": 69,
     "metadata": {},
     "output_type": "execute_result"
    }
   ],
   "source": [
    "feature_importances[feature_importances['important'] > 0.01] * 100"
   ]
  },
  {
   "cell_type": "code",
   "execution_count": 70,
   "id": "0732f4ec-674b-47c3-a810-2cce29f55bb9",
   "metadata": {
    "tags": []
   },
   "outputs": [
    {
     "data": {
      "text/plain": [
       "(32, 1)"
      ]
     },
     "execution_count": 70,
     "metadata": {},
     "output_type": "execute_result"
    }
   ],
   "source": [
    "feature_importances[feature_importances['important'] > 0.01].shape"
   ]
  },
  {
   "cell_type": "markdown",
   "id": "6382e07b-ad5a-42aa-9f55-a8fd3c40ca5d",
   "metadata": {},
   "source": [
    "------"
   ]
  },
  {
   "cell_type": "markdown",
   "id": "bcb6433b-9f02-4656-8389-9b76f3aea225",
   "metadata": {
    "tags": []
   },
   "source": [
    "**Combinando SMOTE & NearMiss**"
   ]
  },
  {
   "cell_type": "code",
   "execution_count": 71,
   "id": "1d59282b-7187-445e-90e3-e175e58b5e77",
   "metadata": {},
   "outputs": [],
   "source": [
    "over = SMOTE(sampling_strategy = 'all')\n",
    "under = NearMiss(sampling_strategy = 'majority', n_neighbors = 2, n_jobs = -1)\n",
    "steps = [('over', over), ('under', under)]\n",
    "pipeline = Pipeline(steps = steps)"
   ]
  },
  {
   "cell_type": "code",
   "execution_count": 72,
   "id": "1305267e-4414-42d0-bf08-1457a0d3c866",
   "metadata": {},
   "outputs": [],
   "source": [
    "X_train_res, y_train_res = pipeline.fit_resample(train_x, train_y)"
   ]
  },
  {
   "cell_type": "code",
   "execution_count": 73,
   "id": "498f4809-3597-4437-8199-682dfc632082",
   "metadata": {},
   "outputs": [
    {
     "name": "stdout",
     "output_type": "stream",
     "text": [
      "Distribution before resampling Counter({1: 1822, 0: 774})\n",
      "Distribution after resampling Counter({0: 1822, 1: 1822})\n"
     ]
    }
   ],
   "source": [
    "print (\"Distribution before resampling {}\".format(Counter(train_y)))\n",
    "print (\"Distribution after resampling {}\".format(Counter(y_train_res)))"
   ]
  },
  {
   "cell_type": "code",
   "execution_count": 74,
   "id": "5750a561-2b25-4f23-8b49-ba13d0b650d2",
   "metadata": {},
   "outputs": [
    {
     "data": {
      "text/plain": [
       "RandomForestClassifier(max_features='sqrt', n_estimators=150, n_jobs=-1,\n",
       "                       random_state=123)"
      ]
     },
     "execution_count": 74,
     "metadata": {},
     "output_type": "execute_result"
    }
   ],
   "source": [
    "rf = RandomForestClassifier(criterion = 'gini', \n",
    "                            n_estimators = 150, \n",
    "                            max_features = 'sqrt', \n",
    "                            max_depth = None, \n",
    "                            n_jobs = -1,\n",
    "                            random_state = 123)\n",
    "\n",
    "rf.fit(X_train_res, y_train_res)"
   ]
  },
  {
   "cell_type": "code",
   "execution_count": 75,
   "id": "7854e9ba-8132-49b0-a0a4-780f2638d1ee",
   "metadata": {},
   "outputs": [
    {
     "data": {
      "image/png": "[encoded data removed]",
      "text/plain": [
       "<Figure size 576x576 with 2 Axes>"
      ]
     },
     "metadata": {
      "needs_background": "light"
     },
     "output_type": "display_data"
    },
    {
     "name": "stdout",
     "output_type": "stream",
     "text": [
      "              precision    recall  f1-score   support\n",
      "\n",
      "           0       0.44      0.33      0.38       321\n",
      "           1       0.75      0.83      0.79       792\n",
      "\n",
      "    accuracy                           0.69      1113\n",
      "   macro avg       0.60      0.58      0.58      1113\n",
      "weighted avg       0.66      0.69      0.67      1113\n",
      "\n"
     ]
    }
   ],
   "source": [
    "pred_y = rf.predict(test_x)\n",
    "mostrar_resultados(test_y, pred_y)"
   ]
  },
  {
   "cell_type": "code",
   "execution_count": 76,
   "id": "9e17dd77-281f-4aca-8db7-c3f09380d6ff",
   "metadata": {},
   "outputs": [],
   "source": [
    "feature_importances = pd.DataFrame(rf.feature_importances_, index = train_x.columns, columns = ['important']).sort_values(['important'], ascending = 0)"
   ]
  },
  {
   "cell_type": "code",
   "execution_count": 77,
   "id": "e18f61d6-834d-4a94-b4de-fd94a403d9e5",
   "metadata": {
    "collapsed": true,
    "jupyter": {
     "outputs_hidden": true
    },
    "tags": []
   },
   "outputs": [
    {
     "data": {
      "text/html": [
       "<div>\n",
       "<style scoped>\n",
       "    .dataframe tbody tr th:only-of-type {\n",
       "        vertical-align: middle;\n",
       "    }\n",
       "\n",
       "    .dataframe tbody tr th {\n",
       "        vertical-align: top;\n",
       "    }\n",
       "\n",
       "    .dataframe thead th {\n",
       "        text-align: right;\n",
       "    }\n",
       "</style>\n",
       "<table border=\"1\" class=\"dataframe\">\n",
       "  <thead>\n",
       "    <tr style=\"text-align: right;\">\n",
       "      <th></th>\n",
       "      <th>important</th>\n",
       "    </tr>\n",
       "  </thead>\n",
       "  <tbody>\n",
       "    <tr>\n",
       "      <th>FECHA_ALTA_MONTH</th>\n",
       "      <td>5.000787</td>\n",
       "    </tr>\n",
       "    <tr>\n",
       "      <th>CANAL_REGISTRO</th>\n",
       "      <td>4.879415</td>\n",
       "    </tr>\n",
       "    <tr>\n",
       "      <th>FECHACONSUMO_MONTH</th>\n",
       "      <td>4.819739</td>\n",
       "    </tr>\n",
       "    <tr>\n",
       "      <th>FECHA_REGISTRO_MONTH</th>\n",
       "      <td>4.763458</td>\n",
       "    </tr>\n",
       "    <tr>\n",
       "      <th>IPCASOS</th>\n",
       "      <td>4.550223</td>\n",
       "    </tr>\n",
       "    <tr>\n",
       "      <th>1A_EMPCONSUL_PROV_DENS</th>\n",
       "      <td>4.312330</td>\n",
       "    </tr>\n",
       "    <tr>\n",
       "      <th>1A_EMPCONSUL_PROV_IDH</th>\n",
       "      <td>4.108910</td>\n",
       "    </tr>\n",
       "    <tr>\n",
       "      <th>FECHA_ALTA_WEEKDAY</th>\n",
       "      <td>3.741920</td>\n",
       "    </tr>\n",
       "    <tr>\n",
       "      <th>FECHACONSUMO_WEEKDAY</th>\n",
       "      <td>3.632764</td>\n",
       "    </tr>\n",
       "    <tr>\n",
       "      <th>FECHA_REGISTRO_WEEKDAY</th>\n",
       "      <td>3.546121</td>\n",
       "    </tr>\n",
       "    <tr>\n",
       "      <th>FICH_PROMO_TOT</th>\n",
       "      <td>3.209291</td>\n",
       "    </tr>\n",
       "    <tr>\n",
       "      <th>TIPO_TELF_EXTRANJERO</th>\n",
       "      <td>2.796107</td>\n",
       "    </tr>\n",
       "    <tr>\n",
       "      <th>TIPO_TELF_MOVIL</th>\n",
       "      <td>2.432926</td>\n",
       "    </tr>\n",
       "    <tr>\n",
       "      <th>USU_TIPO_SOC_COMERCIAL_INDUSTRIAL</th>\n",
       "      <td>2.302967</td>\n",
       "    </tr>\n",
       "    <tr>\n",
       "      <th>1A_EMPCONSUL_SECTOR_TERCIARIO</th>\n",
       "      <td>2.121949</td>\n",
       "    </tr>\n",
       "    <tr>\n",
       "      <th>1A_EMPCONSUL_SECTOR_SECUNDARIO</th>\n",
       "      <td>2.078744</td>\n",
       "    </tr>\n",
       "    <tr>\n",
       "      <th>PERF_PROMO_TOT</th>\n",
       "      <td>1.853048</td>\n",
       "    </tr>\n",
       "    <tr>\n",
       "      <th>USU_DEPART_DEN_POB</th>\n",
       "      <td>1.769497</td>\n",
       "    </tr>\n",
       "    <tr>\n",
       "      <th>USU_DEPART_IDH</th>\n",
       "      <td>1.710887</td>\n",
       "    </tr>\n",
       "    <tr>\n",
       "      <th>IP_COUNTRY_IDH_NUM</th>\n",
       "      <td>1.702207</td>\n",
       "    </tr>\n",
       "    <tr>\n",
       "      <th>1A_DESCGRUPOPROD_FICH_PROMO</th>\n",
       "      <td>1.692701</td>\n",
       "    </tr>\n",
       "    <tr>\n",
       "      <th>USU_ESTADO_ACTIVA</th>\n",
       "      <td>1.629186</td>\n",
       "    </tr>\n",
       "    <tr>\n",
       "      <th>BONDAD_EMAIL</th>\n",
       "      <td>1.526180</td>\n",
       "    </tr>\n",
       "    <tr>\n",
       "      <th>1A_DESCGRUPOPROD_PERF_PROMO</th>\n",
       "      <td>1.501889</td>\n",
       "    </tr>\n",
       "    <tr>\n",
       "      <th>TIPOEMAIL_GOOHOTYAHMAIL</th>\n",
       "      <td>1.475863</td>\n",
       "    </tr>\n",
       "    <tr>\n",
       "      <th>TIPO_TELF_NO_PUBLICO</th>\n",
       "      <td>1.429177</td>\n",
       "    </tr>\n",
       "    <tr>\n",
       "      <th>TIPOEMAIL_CORPORATIVO</th>\n",
       "      <td>1.420889</td>\n",
       "    </tr>\n",
       "    <tr>\n",
       "      <th>1A_EMPCONSUL_EST_ACTIVA</th>\n",
       "      <td>1.370612</td>\n",
       "    </tr>\n",
       "    <tr>\n",
       "      <th>TIPOEMAIL_SINCLASIFICAR</th>\n",
       "      <td>1.280900</td>\n",
       "    </tr>\n",
       "    <tr>\n",
       "      <th>REGISTRO_ALTA</th>\n",
       "      <td>1.275700</td>\n",
       "    </tr>\n",
       "    <tr>\n",
       "      <th>ALTA_CONSUMO</th>\n",
       "      <td>1.214908</td>\n",
       "    </tr>\n",
       "    <tr>\n",
       "      <th>1A_EMPCONSUL_SECTOR_CUATERNARIO</th>\n",
       "      <td>1.033229</td>\n",
       "    </tr>\n",
       "  </tbody>\n",
       "</table>\n",
       "</div>"
      ],
      "text/plain": [
       "                                   important\n",
       "FECHA_ALTA_MONTH                    5.000787\n",
       "CANAL_REGISTRO                      4.879415\n",
       "FECHACONSUMO_MONTH                  4.819739\n",
       "FECHA_REGISTRO_MONTH                4.763458\n",
       "IPCASOS                             4.550223\n",
       "1A_EMPCONSUL_PROV_DENS              4.312330\n",
       "1A_EMPCONSUL_PROV_IDH               4.108910\n",
       "FECHA_ALTA_WEEKDAY                  3.741920\n",
       "FECHACONSUMO_WEEKDAY                3.632764\n",
       "FECHA_REGISTRO_WEEKDAY              3.546121\n",
       "FICH_PROMO_TOT                      3.209291\n",
       "TIPO_TELF_EXTRANJERO                2.796107\n",
       "TIPO_TELF_MOVIL                     2.432926\n",
       "USU_TIPO_SOC_COMERCIAL_INDUSTRIAL   2.302967\n",
       "1A_EMPCONSUL_SECTOR_TERCIARIO       2.121949\n",
       "1A_EMPCONSUL_SECTOR_SECUNDARIO      2.078744\n",
       "PERF_PROMO_TOT                      1.853048\n",
       "USU_DEPART_DEN_POB                  1.769497\n",
       "USU_DEPART_IDH                      1.710887\n",
       "IP_COUNTRY_IDH_NUM                  1.702207\n",
       "1A_DESCGRUPOPROD_FICH_PROMO         1.692701\n",
       "USU_ESTADO_ACTIVA                   1.629186\n",
       "BONDAD_EMAIL                        1.526180\n",
       "1A_DESCGRUPOPROD_PERF_PROMO         1.501889\n",
       "TIPOEMAIL_GOOHOTYAHMAIL             1.475863\n",
       "TIPO_TELF_NO_PUBLICO                1.429177\n",
       "TIPOEMAIL_CORPORATIVO               1.420889\n",
       "1A_EMPCONSUL_EST_ACTIVA             1.370612\n",
       "TIPOEMAIL_SINCLASIFICAR             1.280900\n",
       "REGISTRO_ALTA                       1.275700\n",
       "ALTA_CONSUMO                        1.214908\n",
       "1A_EMPCONSUL_SECTOR_CUATERNARIO     1.033229"
      ]
     },
     "execution_count": 77,
     "metadata": {},
     "output_type": "execute_result"
    }
   ],
   "source": [
    "feature_importances[feature_importances['important'] > 0.01] * 100"
   ]
  },
  {
   "cell_type": "code",
   "execution_count": 78,
   "id": "76bd33cd-a1e7-4845-85fe-41484829b79f",
   "metadata": {
    "tags": []
   },
   "outputs": [
    {
     "data": {
      "text/plain": [
       "(32, 1)"
      ]
     },
     "execution_count": 78,
     "metadata": {},
     "output_type": "execute_result"
    }
   ],
   "source": [
    "feature_importances[feature_importances['important'] > 0.01].shape"
   ]
  },
  {
   "cell_type": "markdown",
   "id": "e0dce38a-2377-48a4-b8b1-b4730bc6841d",
   "metadata": {},
   "source": [
    "------"
   ]
  },
  {
   "cell_type": "markdown",
   "id": "c31bb7b7-3c3e-4473-a9f2-19d671c3f092",
   "metadata": {},
   "source": [
    "**SMOTETomek**"
   ]
  },
  {
   "cell_type": "code",
   "execution_count": 79,
   "id": "f56cffe9-7ca7-4fe9-90b0-c6c80d61d03d",
   "metadata": {},
   "outputs": [],
   "source": [
    "os_us = SMOTETomek(sampling_strategy = 'all')\n",
    "X_train_res, y_train_res = os_us.fit_resample(train_x, train_y)"
   ]
  },
  {
   "cell_type": "code",
   "execution_count": 80,
   "id": "a5b767a9-1101-4843-9c81-fdd47d8c89ac",
   "metadata": {},
   "outputs": [
    {
     "name": "stdout",
     "output_type": "stream",
     "text": [
      "Distribution before resampling Counter({1: 1822, 0: 774})\n",
      "Distribution after resampling Counter({1: 1752, 0: 1752})\n"
     ]
    }
   ],
   "source": [
    "print (\"Distribution before resampling {}\".format(Counter(train_y)))\n",
    "print (\"Distribution after resampling {}\".format(Counter(y_train_res)))"
   ]
  },
  {
   "cell_type": "code",
   "execution_count": 81,
   "id": "60403618-2dcb-473f-9fc8-3632106b48b5",
   "metadata": {},
   "outputs": [
    {
     "data": {
      "text/plain": [
       "RandomForestClassifier(criterion='entropy', max_features=5, n_estimators=20,\n",
       "                       n_jobs=-1, random_state=123)"
      ]
     },
     "execution_count": 81,
     "metadata": {},
     "output_type": "execute_result"
    }
   ],
   "source": [
    "rf = RandomForestClassifier(criterion = 'entropy', \n",
    "                            n_estimators = 20, \n",
    "                            max_features = 5, \n",
    "                            max_depth = None, \n",
    "                            n_jobs = -1,\n",
    "                            random_state = 123)\n",
    "\n",
    "rf.fit(X_train_res, y_train_res)"
   ]
  },
  {
   "cell_type": "code",
   "execution_count": 82,
   "id": "db38623e-8aa7-463a-a54e-890ca62419a0",
   "metadata": {
    "tags": []
   },
   "outputs": [
    {
     "data": {
      "image/png": "[encoded data removed]",
      "text/plain": [
       "<Figure size 576x576 with 2 Axes>"
      ]
     },
     "metadata": {
      "needs_background": "light"
     },
     "output_type": "display_data"
    },
    {
     "name": "stdout",
     "output_type": "stream",
     "text": [
      "              precision    recall  f1-score   support\n",
      "\n",
      "           0       0.40      0.35      0.37       321\n",
      "           1       0.75      0.78      0.76       792\n",
      "\n",
      "    accuracy                           0.66      1113\n",
      "   macro avg       0.57      0.57      0.57      1113\n",
      "weighted avg       0.65      0.66      0.65      1113\n",
      "\n"
     ]
    }
   ],
   "source": [
    "pred_y = rf.predict(test_x)\n",
    "mostrar_resultados(test_y, pred_y)"
   ]
  },
  {
   "cell_type": "code",
   "execution_count": 83,
   "id": "46c2fb04-763e-4965-add3-72506d1f6368",
   "metadata": {},
   "outputs": [],
   "source": [
    "feature_importances = pd.DataFrame(rf.feature_importances_, index = train_x.columns, columns = ['important']).sort_values(['important'], ascending = 0)"
   ]
  },
  {
   "cell_type": "code",
   "execution_count": 84,
   "id": "79325091-d68e-41ae-9c75-79d7a112fce0",
   "metadata": {
    "collapsed": true,
    "jupyter": {
     "outputs_hidden": true
    },
    "tags": []
   },
   "outputs": [
    {
     "data": {
      "text/html": [
       "<div>\n",
       "<style scoped>\n",
       "    .dataframe tbody tr th:only-of-type {\n",
       "        vertical-align: middle;\n",
       "    }\n",
       "\n",
       "    .dataframe tbody tr th {\n",
       "        vertical-align: top;\n",
       "    }\n",
       "\n",
       "    .dataframe thead th {\n",
       "        text-align: right;\n",
       "    }\n",
       "</style>\n",
       "<table border=\"1\" class=\"dataframe\">\n",
       "  <thead>\n",
       "    <tr style=\"text-align: right;\">\n",
       "      <th></th>\n",
       "      <th>important</th>\n",
       "    </tr>\n",
       "  </thead>\n",
       "  <tbody>\n",
       "    <tr>\n",
       "      <th>FECHA_ALTA_MONTH</th>\n",
       "      <td>5.273157</td>\n",
       "    </tr>\n",
       "    <tr>\n",
       "      <th>FECHA_REGISTRO_MONTH</th>\n",
       "      <td>5.055041</td>\n",
       "    </tr>\n",
       "    <tr>\n",
       "      <th>FECHACONSUMO_MONTH</th>\n",
       "      <td>4.855935</td>\n",
       "    </tr>\n",
       "    <tr>\n",
       "      <th>CANAL_REGISTRO</th>\n",
       "      <td>4.753014</td>\n",
       "    </tr>\n",
       "    <tr>\n",
       "      <th>1A_EMPCONSUL_PROV_DENS</th>\n",
       "      <td>4.609642</td>\n",
       "    </tr>\n",
       "    <tr>\n",
       "      <th>IPCASOS</th>\n",
       "      <td>4.563297</td>\n",
       "    </tr>\n",
       "    <tr>\n",
       "      <th>FECHA_ALTA_WEEKDAY</th>\n",
       "      <td>4.199821</td>\n",
       "    </tr>\n",
       "    <tr>\n",
       "      <th>1A_EMPCONSUL_PROV_IDH</th>\n",
       "      <td>4.022213</td>\n",
       "    </tr>\n",
       "    <tr>\n",
       "      <th>FECHA_REGISTRO_WEEKDAY</th>\n",
       "      <td>3.631551</td>\n",
       "    </tr>\n",
       "    <tr>\n",
       "      <th>FECHACONSUMO_WEEKDAY</th>\n",
       "      <td>3.564105</td>\n",
       "    </tr>\n",
       "    <tr>\n",
       "      <th>FICH_PROMO_TOT</th>\n",
       "      <td>3.077091</td>\n",
       "    </tr>\n",
       "    <tr>\n",
       "      <th>TIPO_TELF_EXTRANJERO</th>\n",
       "      <td>2.688839</td>\n",
       "    </tr>\n",
       "    <tr>\n",
       "      <th>TIPO_TELF_MOVIL</th>\n",
       "      <td>2.265636</td>\n",
       "    </tr>\n",
       "    <tr>\n",
       "      <th>IP_COUNTRY_IDH_NUM</th>\n",
       "      <td>2.103796</td>\n",
       "    </tr>\n",
       "    <tr>\n",
       "      <th>1A_EMPCONSUL_SECTOR_SECUNDARIO</th>\n",
       "      <td>2.041189</td>\n",
       "    </tr>\n",
       "    <tr>\n",
       "      <th>PERF_PROMO_TOT</th>\n",
       "      <td>2.029579</td>\n",
       "    </tr>\n",
       "    <tr>\n",
       "      <th>USU_TIPO_SOC_COMERCIAL_INDUSTRIAL</th>\n",
       "      <td>1.934527</td>\n",
       "    </tr>\n",
       "    <tr>\n",
       "      <th>1A_EMPCONSUL_SECTOR_TERCIARIO</th>\n",
       "      <td>1.925712</td>\n",
       "    </tr>\n",
       "    <tr>\n",
       "      <th>1A_DESCGRUPOPROD_PERF_PROMO</th>\n",
       "      <td>1.839759</td>\n",
       "    </tr>\n",
       "    <tr>\n",
       "      <th>USU_DEPART_IDH</th>\n",
       "      <td>1.775389</td>\n",
       "    </tr>\n",
       "    <tr>\n",
       "      <th>USU_DEPART_DEN_POB</th>\n",
       "      <td>1.684626</td>\n",
       "    </tr>\n",
       "    <tr>\n",
       "      <th>1A_DESCGRUPOPROD_FICH_PROMO</th>\n",
       "      <td>1.647774</td>\n",
       "    </tr>\n",
       "    <tr>\n",
       "      <th>USU_ESTADO_ACTIVA</th>\n",
       "      <td>1.622153</td>\n",
       "    </tr>\n",
       "    <tr>\n",
       "      <th>REGISTRO_ALTA</th>\n",
       "      <td>1.540215</td>\n",
       "    </tr>\n",
       "    <tr>\n",
       "      <th>TIPO_TELF_NO_PUBLICO</th>\n",
       "      <td>1.512405</td>\n",
       "    </tr>\n",
       "    <tr>\n",
       "      <th>BONDAD_EMAIL</th>\n",
       "      <td>1.430650</td>\n",
       "    </tr>\n",
       "    <tr>\n",
       "      <th>TIPOEMAIL_GOOHOTYAHMAIL</th>\n",
       "      <td>1.290011</td>\n",
       "    </tr>\n",
       "    <tr>\n",
       "      <th>ALTA_CONSUMO</th>\n",
       "      <td>1.286555</td>\n",
       "    </tr>\n",
       "    <tr>\n",
       "      <th>1A_EMPCONSUL_EST_ACTIVA</th>\n",
       "      <td>1.225003</td>\n",
       "    </tr>\n",
       "    <tr>\n",
       "      <th>FECHA_ALTA_BUSINESS_DAY</th>\n",
       "      <td>1.163137</td>\n",
       "    </tr>\n",
       "    <tr>\n",
       "      <th>TIPOEMAIL_SINCLASIFICAR</th>\n",
       "      <td>1.114082</td>\n",
       "    </tr>\n",
       "    <tr>\n",
       "      <th>TIPOEMAIL_CORPORATIVO</th>\n",
       "      <td>1.109787</td>\n",
       "    </tr>\n",
       "  </tbody>\n",
       "</table>\n",
       "</div>"
      ],
      "text/plain": [
       "                                   important\n",
       "FECHA_ALTA_MONTH                    5.273157\n",
       "FECHA_REGISTRO_MONTH                5.055041\n",
       "FECHACONSUMO_MONTH                  4.855935\n",
       "CANAL_REGISTRO                      4.753014\n",
       "1A_EMPCONSUL_PROV_DENS              4.609642\n",
       "IPCASOS                             4.563297\n",
       "FECHA_ALTA_WEEKDAY                  4.199821\n",
       "1A_EMPCONSUL_PROV_IDH               4.022213\n",
       "FECHA_REGISTRO_WEEKDAY              3.631551\n",
       "FECHACONSUMO_WEEKDAY                3.564105\n",
       "FICH_PROMO_TOT                      3.077091\n",
       "TIPO_TELF_EXTRANJERO                2.688839\n",
       "TIPO_TELF_MOVIL                     2.265636\n",
       "IP_COUNTRY_IDH_NUM                  2.103796\n",
       "1A_EMPCONSUL_SECTOR_SECUNDARIO      2.041189\n",
       "PERF_PROMO_TOT                      2.029579\n",
       "USU_TIPO_SOC_COMERCIAL_INDUSTRIAL   1.934527\n",
       "1A_EMPCONSUL_SECTOR_TERCIARIO       1.925712\n",
       "1A_DESCGRUPOPROD_PERF_PROMO         1.839759\n",
       "USU_DEPART_IDH                      1.775389\n",
       "USU_DEPART_DEN_POB                  1.684626\n",
       "1A_DESCGRUPOPROD_FICH_PROMO         1.647774\n",
       "USU_ESTADO_ACTIVA                   1.622153\n",
       "REGISTRO_ALTA                       1.540215\n",
       "TIPO_TELF_NO_PUBLICO                1.512405\n",
       "BONDAD_EMAIL                        1.430650\n",
       "TIPOEMAIL_GOOHOTYAHMAIL             1.290011\n",
       "ALTA_CONSUMO                        1.286555\n",
       "1A_EMPCONSUL_EST_ACTIVA             1.225003\n",
       "FECHA_ALTA_BUSINESS_DAY             1.163137\n",
       "TIPOEMAIL_SINCLASIFICAR             1.114082\n",
       "TIPOEMAIL_CORPORATIVO               1.109787"
      ]
     },
     "execution_count": 84,
     "metadata": {},
     "output_type": "execute_result"
    }
   ],
   "source": [
    "feature_importances[feature_importances['important'] > 0.01] * 100"
   ]
  },
  {
   "cell_type": "code",
   "execution_count": 85,
   "id": "ddbecffe-81a0-4479-871f-ad6f1560c176",
   "metadata": {
    "tags": []
   },
   "outputs": [
    {
     "data": {
      "text/plain": [
       "(32, 1)"
      ]
     },
     "execution_count": 85,
     "metadata": {},
     "output_type": "execute_result"
    }
   ],
   "source": [
    "feature_importances[feature_importances['important'] > 0.01].shape"
   ]
  },
  {
   "cell_type": "markdown",
   "id": "ba2b65e1-0d45-4613-9e6b-6867b5bdcffc",
   "metadata": {},
   "source": [
    "------"
   ]
  },
  {
   "cell_type": "markdown",
   "id": "b7c5f681-9632-4910-a3f6-0e735a66e13c",
   "metadata": {},
   "source": [
    "------"
   ]
  },
  {
   "cell_type": "markdown",
   "id": "6815d615-428c-4bb5-b247-a3bb50a9c691",
   "metadata": {},
   "source": [
    "##### **4.5.5 Ensamble de Modelos con Balanceo**"
   ]
  },
  {
   "cell_type": "markdown",
   "id": "cf2c9b55-8cd5-433f-b596-68b9e8c1e18d",
   "metadata": {},
   "source": [
    "Para esta estrategia usaremos un Clasificador de Ensamble que utiliza Bagging y el modelo será un RandomForest."
   ]
  },
  {
   "cell_type": "markdown",
   "id": "bef55740-5b59-4f81-9e47-a11978b08e64",
   "metadata": {},
   "source": [
    "**Bagging**"
   ]
  },
  {
   "cell_type": "code",
   "execution_count": 86,
   "id": "8b454650-ca06-4f2c-b11e-628ac751c07b",
   "metadata": {
    "tags": []
   },
   "outputs": [
    {
     "data": {
      "text/plain": [
       "BalancedBaggingClassifier(base_estimator=RandomForestClassifier(max_features='sqrt',\n",
       "                                                                n_estimators=150,\n",
       "                                                                n_jobs=-1,\n",
       "                                                                random_state=123),\n",
       "                          n_estimators=20, random_state=123,\n",
       "                          sampling_strategy='all')"
      ]
     },
     "execution_count": 86,
     "metadata": {},
     "output_type": "execute_result"
    }
   ],
   "source": [
    "bbc = BalancedBaggingClassifier(base_estimator = RandomForestClassifier(criterion = 'gini', \n",
    "                                                                        n_estimators = 150, \n",
    "                                                                        max_features = 'sqrt', \n",
    "                                                                        max_depth = None, \n",
    "                                                                        n_jobs = -1,\n",
    "                                                                        random_state = 123),\n",
    "                                sampling_strategy = 'all',\n",
    "                                n_estimators = 20,\n",
    "                                replacement = False,\n",
    "                                random_state = 123)\n",
    "\n",
    "bbc.fit(train_x, train_y)"
   ]
  },
  {
   "cell_type": "code",
   "execution_count": 87,
   "id": "33ff2cad-2535-465f-a531-28dfceef6f71",
   "metadata": {
    "tags": []
   },
   "outputs": [
    {
     "data": {
      "image/png": "[encoded data removed]",
      "text/plain": [
       "<Figure size 576x576 with 2 Axes>"
      ]
     },
     "metadata": {
      "needs_background": "light"
     },
     "output_type": "display_data"
    },
    {
     "name": "stdout",
     "output_type": "stream",
     "text": [
      "              precision    recall  f1-score   support\n",
      "\n",
      "           0       0.42      0.56      0.48       321\n",
      "           1       0.79      0.69      0.74       792\n",
      "\n",
      "    accuracy                           0.65      1113\n",
      "   macro avg       0.61      0.62      0.61      1113\n",
      "weighted avg       0.69      0.65      0.66      1113\n",
      "\n"
     ]
    }
   ],
   "source": [
    "pred_y = bbc.predict(test_x)\n",
    "mostrar_resultados(test_y, pred_y)"
   ]
  },
  {
   "cell_type": "code",
   "execution_count": 88,
   "id": "f45596bd-e389-46cd-b9f1-e32ed0346171",
   "metadata": {},
   "outputs": [],
   "source": [
    "feature_importances = pd.DataFrame(rf.feature_importances_, index = train_x.columns, columns = ['important']).sort_values(['important'], ascending = 0)"
   ]
  },
  {
   "cell_type": "code",
   "execution_count": 89,
   "id": "bece0c5a-8640-4ee6-83d0-76394d451717",
   "metadata": {
    "collapsed": true,
    "jupyter": {
     "outputs_hidden": true
    },
    "tags": []
   },
   "outputs": [
    {
     "data": {
      "text/html": [
       "<div>\n",
       "<style scoped>\n",
       "    .dataframe tbody tr th:only-of-type {\n",
       "        vertical-align: middle;\n",
       "    }\n",
       "\n",
       "    .dataframe tbody tr th {\n",
       "        vertical-align: top;\n",
       "    }\n",
       "\n",
       "    .dataframe thead th {\n",
       "        text-align: right;\n",
       "    }\n",
       "</style>\n",
       "<table border=\"1\" class=\"dataframe\">\n",
       "  <thead>\n",
       "    <tr style=\"text-align: right;\">\n",
       "      <th></th>\n",
       "      <th>important</th>\n",
       "    </tr>\n",
       "  </thead>\n",
       "  <tbody>\n",
       "    <tr>\n",
       "      <th>FECHA_ALTA_MONTH</th>\n",
       "      <td>5.273157</td>\n",
       "    </tr>\n",
       "    <tr>\n",
       "      <th>FECHA_REGISTRO_MONTH</th>\n",
       "      <td>5.055041</td>\n",
       "    </tr>\n",
       "    <tr>\n",
       "      <th>FECHACONSUMO_MONTH</th>\n",
       "      <td>4.855935</td>\n",
       "    </tr>\n",
       "    <tr>\n",
       "      <th>CANAL_REGISTRO</th>\n",
       "      <td>4.753014</td>\n",
       "    </tr>\n",
       "    <tr>\n",
       "      <th>1A_EMPCONSUL_PROV_DENS</th>\n",
       "      <td>4.609642</td>\n",
       "    </tr>\n",
       "    <tr>\n",
       "      <th>IPCASOS</th>\n",
       "      <td>4.563297</td>\n",
       "    </tr>\n",
       "    <tr>\n",
       "      <th>FECHA_ALTA_WEEKDAY</th>\n",
       "      <td>4.199821</td>\n",
       "    </tr>\n",
       "    <tr>\n",
       "      <th>1A_EMPCONSUL_PROV_IDH</th>\n",
       "      <td>4.022213</td>\n",
       "    </tr>\n",
       "    <tr>\n",
       "      <th>FECHA_REGISTRO_WEEKDAY</th>\n",
       "      <td>3.631551</td>\n",
       "    </tr>\n",
       "    <tr>\n",
       "      <th>FECHACONSUMO_WEEKDAY</th>\n",
       "      <td>3.564105</td>\n",
       "    </tr>\n",
       "    <tr>\n",
       "      <th>FICH_PROMO_TOT</th>\n",
       "      <td>3.077091</td>\n",
       "    </tr>\n",
       "    <tr>\n",
       "      <th>TIPO_TELF_EXTRANJERO</th>\n",
       "      <td>2.688839</td>\n",
       "    </tr>\n",
       "    <tr>\n",
       "      <th>TIPO_TELF_MOVIL</th>\n",
       "      <td>2.265636</td>\n",
       "    </tr>\n",
       "    <tr>\n",
       "      <th>IP_COUNTRY_IDH_NUM</th>\n",
       "      <td>2.103796</td>\n",
       "    </tr>\n",
       "    <tr>\n",
       "      <th>1A_EMPCONSUL_SECTOR_SECUNDARIO</th>\n",
       "      <td>2.041189</td>\n",
       "    </tr>\n",
       "    <tr>\n",
       "      <th>PERF_PROMO_TOT</th>\n",
       "      <td>2.029579</td>\n",
       "    </tr>\n",
       "    <tr>\n",
       "      <th>USU_TIPO_SOC_COMERCIAL_INDUSTRIAL</th>\n",
       "      <td>1.934527</td>\n",
       "    </tr>\n",
       "    <tr>\n",
       "      <th>1A_EMPCONSUL_SECTOR_TERCIARIO</th>\n",
       "      <td>1.925712</td>\n",
       "    </tr>\n",
       "    <tr>\n",
       "      <th>1A_DESCGRUPOPROD_PERF_PROMO</th>\n",
       "      <td>1.839759</td>\n",
       "    </tr>\n",
       "    <tr>\n",
       "      <th>USU_DEPART_IDH</th>\n",
       "      <td>1.775389</td>\n",
       "    </tr>\n",
       "    <tr>\n",
       "      <th>USU_DEPART_DEN_POB</th>\n",
       "      <td>1.684626</td>\n",
       "    </tr>\n",
       "    <tr>\n",
       "      <th>1A_DESCGRUPOPROD_FICH_PROMO</th>\n",
       "      <td>1.647774</td>\n",
       "    </tr>\n",
       "    <tr>\n",
       "      <th>USU_ESTADO_ACTIVA</th>\n",
       "      <td>1.622153</td>\n",
       "    </tr>\n",
       "    <tr>\n",
       "      <th>REGISTRO_ALTA</th>\n",
       "      <td>1.540215</td>\n",
       "    </tr>\n",
       "    <tr>\n",
       "      <th>TIPO_TELF_NO_PUBLICO</th>\n",
       "      <td>1.512405</td>\n",
       "    </tr>\n",
       "    <tr>\n",
       "      <th>BONDAD_EMAIL</th>\n",
       "      <td>1.430650</td>\n",
       "    </tr>\n",
       "    <tr>\n",
       "      <th>TIPOEMAIL_GOOHOTYAHMAIL</th>\n",
       "      <td>1.290011</td>\n",
       "    </tr>\n",
       "    <tr>\n",
       "      <th>ALTA_CONSUMO</th>\n",
       "      <td>1.286555</td>\n",
       "    </tr>\n",
       "    <tr>\n",
       "      <th>1A_EMPCONSUL_EST_ACTIVA</th>\n",
       "      <td>1.225003</td>\n",
       "    </tr>\n",
       "    <tr>\n",
       "      <th>FECHA_ALTA_BUSINESS_DAY</th>\n",
       "      <td>1.163137</td>\n",
       "    </tr>\n",
       "    <tr>\n",
       "      <th>TIPOEMAIL_SINCLASIFICAR</th>\n",
       "      <td>1.114082</td>\n",
       "    </tr>\n",
       "    <tr>\n",
       "      <th>TIPOEMAIL_CORPORATIVO</th>\n",
       "      <td>1.109787</td>\n",
       "    </tr>\n",
       "  </tbody>\n",
       "</table>\n",
       "</div>"
      ],
      "text/plain": [
       "                                   important\n",
       "FECHA_ALTA_MONTH                    5.273157\n",
       "FECHA_REGISTRO_MONTH                5.055041\n",
       "FECHACONSUMO_MONTH                  4.855935\n",
       "CANAL_REGISTRO                      4.753014\n",
       "1A_EMPCONSUL_PROV_DENS              4.609642\n",
       "IPCASOS                             4.563297\n",
       "FECHA_ALTA_WEEKDAY                  4.199821\n",
       "1A_EMPCONSUL_PROV_IDH               4.022213\n",
       "FECHA_REGISTRO_WEEKDAY              3.631551\n",
       "FECHACONSUMO_WEEKDAY                3.564105\n",
       "FICH_PROMO_TOT                      3.077091\n",
       "TIPO_TELF_EXTRANJERO                2.688839\n",
       "TIPO_TELF_MOVIL                     2.265636\n",
       "IP_COUNTRY_IDH_NUM                  2.103796\n",
       "1A_EMPCONSUL_SECTOR_SECUNDARIO      2.041189\n",
       "PERF_PROMO_TOT                      2.029579\n",
       "USU_TIPO_SOC_COMERCIAL_INDUSTRIAL   1.934527\n",
       "1A_EMPCONSUL_SECTOR_TERCIARIO       1.925712\n",
       "1A_DESCGRUPOPROD_PERF_PROMO         1.839759\n",
       "USU_DEPART_IDH                      1.775389\n",
       "USU_DEPART_DEN_POB                  1.684626\n",
       "1A_DESCGRUPOPROD_FICH_PROMO         1.647774\n",
       "USU_ESTADO_ACTIVA                   1.622153\n",
       "REGISTRO_ALTA                       1.540215\n",
       "TIPO_TELF_NO_PUBLICO                1.512405\n",
       "BONDAD_EMAIL                        1.430650\n",
       "TIPOEMAIL_GOOHOTYAHMAIL             1.290011\n",
       "ALTA_CONSUMO                        1.286555\n",
       "1A_EMPCONSUL_EST_ACTIVA             1.225003\n",
       "FECHA_ALTA_BUSINESS_DAY             1.163137\n",
       "TIPOEMAIL_SINCLASIFICAR             1.114082\n",
       "TIPOEMAIL_CORPORATIVO               1.109787"
      ]
     },
     "execution_count": 89,
     "metadata": {},
     "output_type": "execute_result"
    }
   ],
   "source": [
    "feature_importances[feature_importances['important'] > 0.01]*100"
   ]
  },
  {
   "cell_type": "code",
   "execution_count": 90,
   "id": "5de19193-9591-429b-b5ac-7a0c5bfe8f92",
   "metadata": {
    "tags": []
   },
   "outputs": [
    {
     "data": {
      "text/plain": [
       "(32, 1)"
      ]
     },
     "execution_count": 90,
     "metadata": {},
     "output_type": "execute_result"
    }
   ],
   "source": [
    "feature_importances[feature_importances['important'] > 0.01].shape"
   ]
  },
  {
   "cell_type": "markdown",
   "id": "9f7cdbbf-e1f8-4f04-9bc8-6bde0f287ab3",
   "metadata": {},
   "source": [
    "------"
   ]
  },
  {
   "cell_type": "markdown",
   "id": "d41d1480-f9ec-44f7-8212-d704e7779d83",
   "metadata": {},
   "source": [
    "**BalancedRandomForestClassifier**"
   ]
  },
  {
   "cell_type": "code",
   "execution_count": 91,
   "id": "c70a798a-f84c-45b3-a97b-366220111b3f",
   "metadata": {
    "tags": []
   },
   "outputs": [
    {
     "data": {
      "text/plain": [
       "BalancedRandomForestClassifier(max_features='sqrt', n_estimators=150, n_jobs=-1,\n",
       "                               random_state=123)"
      ]
     },
     "execution_count": 91,
     "metadata": {},
     "output_type": "execute_result"
    }
   ],
   "source": [
    "brfc = BalancedRandomForestClassifier(criterion = 'gini', \n",
    "                                    n_estimators = 150, \n",
    "                                    max_features = 'sqrt', \n",
    "                                    max_depth = None, \n",
    "                                    sampling_strategy = 'auto',\n",
    "                                    n_jobs = -1,\n",
    "                                    random_state = 123)\n",
    "\n",
    "brfc.fit(train_x, train_y)"
   ]
  },
  {
   "cell_type": "code",
   "execution_count": 92,
   "id": "8892b64f-7529-4c3b-93b2-3b45d7e3bbac",
   "metadata": {
    "tags": []
   },
   "outputs": [
    {
     "data": {
      "image/png": "[encoded data removed]",
      "text/plain": [
       "<Figure size 576x576 with 2 Axes>"
      ]
     },
     "metadata": {
      "needs_background": "light"
     },
     "output_type": "display_data"
    },
    {
     "name": "stdout",
     "output_type": "stream",
     "text": [
      "              precision    recall  f1-score   support\n",
      "\n",
      "           0       0.40      0.66      0.50       321\n",
      "           1       0.81      0.60      0.69       792\n",
      "\n",
      "    accuracy                           0.62      1113\n",
      "   macro avg       0.61      0.63      0.60      1113\n",
      "weighted avg       0.70      0.62      0.64      1113\n",
      "\n"
     ]
    }
   ],
   "source": [
    "pred_y = brfc.predict(test_x)\n",
    "mostrar_resultados(test_y, pred_y)"
   ]
  },
  {
   "cell_type": "code",
   "execution_count": 93,
   "id": "355ff91c-fb4c-46c4-aae8-26aa1240a823",
   "metadata": {},
   "outputs": [],
   "source": [
    "feature_importances = pd.DataFrame(rf.feature_importances_, index = train_x.columns, columns = ['important']).sort_values(['important'], ascending = 0)"
   ]
  },
  {
   "cell_type": "code",
   "execution_count": 94,
   "id": "e2f45be4-6823-446e-86d1-7597ede6226d",
   "metadata": {
    "collapsed": true,
    "jupyter": {
     "outputs_hidden": true
    },
    "tags": []
   },
   "outputs": [
    {
     "data": {
      "text/html": [
       "<div>\n",
       "<style scoped>\n",
       "    .dataframe tbody tr th:only-of-type {\n",
       "        vertical-align: middle;\n",
       "    }\n",
       "\n",
       "    .dataframe tbody tr th {\n",
       "        vertical-align: top;\n",
       "    }\n",
       "\n",
       "    .dataframe thead th {\n",
       "        text-align: right;\n",
       "    }\n",
       "</style>\n",
       "<table border=\"1\" class=\"dataframe\">\n",
       "  <thead>\n",
       "    <tr style=\"text-align: right;\">\n",
       "      <th></th>\n",
       "      <th>important</th>\n",
       "    </tr>\n",
       "  </thead>\n",
       "  <tbody>\n",
       "    <tr>\n",
       "      <th>FECHA_ALTA_MONTH</th>\n",
       "      <td>5.273157</td>\n",
       "    </tr>\n",
       "    <tr>\n",
       "      <th>FECHA_REGISTRO_MONTH</th>\n",
       "      <td>5.055041</td>\n",
       "    </tr>\n",
       "    <tr>\n",
       "      <th>FECHACONSUMO_MONTH</th>\n",
       "      <td>4.855935</td>\n",
       "    </tr>\n",
       "    <tr>\n",
       "      <th>CANAL_REGISTRO</th>\n",
       "      <td>4.753014</td>\n",
       "    </tr>\n",
       "    <tr>\n",
       "      <th>1A_EMPCONSUL_PROV_DENS</th>\n",
       "      <td>4.609642</td>\n",
       "    </tr>\n",
       "    <tr>\n",
       "      <th>IPCASOS</th>\n",
       "      <td>4.563297</td>\n",
       "    </tr>\n",
       "    <tr>\n",
       "      <th>FECHA_ALTA_WEEKDAY</th>\n",
       "      <td>4.199821</td>\n",
       "    </tr>\n",
       "    <tr>\n",
       "      <th>1A_EMPCONSUL_PROV_IDH</th>\n",
       "      <td>4.022213</td>\n",
       "    </tr>\n",
       "    <tr>\n",
       "      <th>FECHA_REGISTRO_WEEKDAY</th>\n",
       "      <td>3.631551</td>\n",
       "    </tr>\n",
       "    <tr>\n",
       "      <th>FECHACONSUMO_WEEKDAY</th>\n",
       "      <td>3.564105</td>\n",
       "    </tr>\n",
       "    <tr>\n",
       "      <th>FICH_PROMO_TOT</th>\n",
       "      <td>3.077091</td>\n",
       "    </tr>\n",
       "    <tr>\n",
       "      <th>TIPO_TELF_EXTRANJERO</th>\n",
       "      <td>2.688839</td>\n",
       "    </tr>\n",
       "    <tr>\n",
       "      <th>TIPO_TELF_MOVIL</th>\n",
       "      <td>2.265636</td>\n",
       "    </tr>\n",
       "    <tr>\n",
       "      <th>IP_COUNTRY_IDH_NUM</th>\n",
       "      <td>2.103796</td>\n",
       "    </tr>\n",
       "    <tr>\n",
       "      <th>1A_EMPCONSUL_SECTOR_SECUNDARIO</th>\n",
       "      <td>2.041189</td>\n",
       "    </tr>\n",
       "    <tr>\n",
       "      <th>PERF_PROMO_TOT</th>\n",
       "      <td>2.029579</td>\n",
       "    </tr>\n",
       "    <tr>\n",
       "      <th>USU_TIPO_SOC_COMERCIAL_INDUSTRIAL</th>\n",
       "      <td>1.934527</td>\n",
       "    </tr>\n",
       "    <tr>\n",
       "      <th>1A_EMPCONSUL_SECTOR_TERCIARIO</th>\n",
       "      <td>1.925712</td>\n",
       "    </tr>\n",
       "    <tr>\n",
       "      <th>1A_DESCGRUPOPROD_PERF_PROMO</th>\n",
       "      <td>1.839759</td>\n",
       "    </tr>\n",
       "    <tr>\n",
       "      <th>USU_DEPART_IDH</th>\n",
       "      <td>1.775389</td>\n",
       "    </tr>\n",
       "    <tr>\n",
       "      <th>USU_DEPART_DEN_POB</th>\n",
       "      <td>1.684626</td>\n",
       "    </tr>\n",
       "    <tr>\n",
       "      <th>1A_DESCGRUPOPROD_FICH_PROMO</th>\n",
       "      <td>1.647774</td>\n",
       "    </tr>\n",
       "    <tr>\n",
       "      <th>USU_ESTADO_ACTIVA</th>\n",
       "      <td>1.622153</td>\n",
       "    </tr>\n",
       "    <tr>\n",
       "      <th>REGISTRO_ALTA</th>\n",
       "      <td>1.540215</td>\n",
       "    </tr>\n",
       "    <tr>\n",
       "      <th>TIPO_TELF_NO_PUBLICO</th>\n",
       "      <td>1.512405</td>\n",
       "    </tr>\n",
       "    <tr>\n",
       "      <th>BONDAD_EMAIL</th>\n",
       "      <td>1.430650</td>\n",
       "    </tr>\n",
       "    <tr>\n",
       "      <th>TIPOEMAIL_GOOHOTYAHMAIL</th>\n",
       "      <td>1.290011</td>\n",
       "    </tr>\n",
       "    <tr>\n",
       "      <th>ALTA_CONSUMO</th>\n",
       "      <td>1.286555</td>\n",
       "    </tr>\n",
       "    <tr>\n",
       "      <th>1A_EMPCONSUL_EST_ACTIVA</th>\n",
       "      <td>1.225003</td>\n",
       "    </tr>\n",
       "    <tr>\n",
       "      <th>FECHA_ALTA_BUSINESS_DAY</th>\n",
       "      <td>1.163137</td>\n",
       "    </tr>\n",
       "    <tr>\n",
       "      <th>TIPOEMAIL_SINCLASIFICAR</th>\n",
       "      <td>1.114082</td>\n",
       "    </tr>\n",
       "    <tr>\n",
       "      <th>TIPOEMAIL_CORPORATIVO</th>\n",
       "      <td>1.109787</td>\n",
       "    </tr>\n",
       "  </tbody>\n",
       "</table>\n",
       "</div>"
      ],
      "text/plain": [
       "                                   important\n",
       "FECHA_ALTA_MONTH                    5.273157\n",
       "FECHA_REGISTRO_MONTH                5.055041\n",
       "FECHACONSUMO_MONTH                  4.855935\n",
       "CANAL_REGISTRO                      4.753014\n",
       "1A_EMPCONSUL_PROV_DENS              4.609642\n",
       "IPCASOS                             4.563297\n",
       "FECHA_ALTA_WEEKDAY                  4.199821\n",
       "1A_EMPCONSUL_PROV_IDH               4.022213\n",
       "FECHA_REGISTRO_WEEKDAY              3.631551\n",
       "FECHACONSUMO_WEEKDAY                3.564105\n",
       "FICH_PROMO_TOT                      3.077091\n",
       "TIPO_TELF_EXTRANJERO                2.688839\n",
       "TIPO_TELF_MOVIL                     2.265636\n",
       "IP_COUNTRY_IDH_NUM                  2.103796\n",
       "1A_EMPCONSUL_SECTOR_SECUNDARIO      2.041189\n",
       "PERF_PROMO_TOT                      2.029579\n",
       "USU_TIPO_SOC_COMERCIAL_INDUSTRIAL   1.934527\n",
       "1A_EMPCONSUL_SECTOR_TERCIARIO       1.925712\n",
       "1A_DESCGRUPOPROD_PERF_PROMO         1.839759\n",
       "USU_DEPART_IDH                      1.775389\n",
       "USU_DEPART_DEN_POB                  1.684626\n",
       "1A_DESCGRUPOPROD_FICH_PROMO         1.647774\n",
       "USU_ESTADO_ACTIVA                   1.622153\n",
       "REGISTRO_ALTA                       1.540215\n",
       "TIPO_TELF_NO_PUBLICO                1.512405\n",
       "BONDAD_EMAIL                        1.430650\n",
       "TIPOEMAIL_GOOHOTYAHMAIL             1.290011\n",
       "ALTA_CONSUMO                        1.286555\n",
       "1A_EMPCONSUL_EST_ACTIVA             1.225003\n",
       "FECHA_ALTA_BUSINESS_DAY             1.163137\n",
       "TIPOEMAIL_SINCLASIFICAR             1.114082\n",
       "TIPOEMAIL_CORPORATIVO               1.109787"
      ]
     },
     "execution_count": 94,
     "metadata": {},
     "output_type": "execute_result"
    }
   ],
   "source": [
    "feature_importances[feature_importances['important'] > 0.01]*100"
   ]
  },
  {
   "cell_type": "code",
   "execution_count": 95,
   "id": "5b3ea2b3-7aab-4c6c-b6d6-2be1b0683013",
   "metadata": {
    "tags": []
   },
   "outputs": [
    {
     "data": {
      "text/plain": [
       "(32, 1)"
      ]
     },
     "execution_count": 95,
     "metadata": {},
     "output_type": "execute_result"
    }
   ],
   "source": [
    "feature_importances[feature_importances['important'] > 0.01].shape"
   ]
  },
  {
   "cell_type": "markdown",
   "id": "79ddccd4-f9a2-4978-8984-5adff88712ab",
   "metadata": {},
   "source": [
    "------"
   ]
  },
  {
   "cell_type": "markdown",
   "id": "3d02b43b-36a2-47f2-8efc-e63946ba52a8",
   "metadata": {},
   "source": [
    "**RUSBoostClassifier**"
   ]
  },
  {
   "cell_type": "code",
   "execution_count": 96,
   "id": "f6b257cd-edb3-487f-abb8-26ab10f5935f",
   "metadata": {
    "tags": []
   },
   "outputs": [
    {
     "data": {
      "text/plain": [
       "RUSBoostClassifier(base_estimator=RandomForestClassifier(max_features='sqrt',\n",
       "                                                         n_estimators=150,\n",
       "                                                         n_jobs=-1,\n",
       "                                                         random_state=123),\n",
       "                   n_estimators=20, random_state=123,\n",
       "                   sampling_strategy='majority')"
      ]
     },
     "execution_count": 96,
     "metadata": {},
     "output_type": "execute_result"
    }
   ],
   "source": [
    "RUS = RUSBoostClassifier(base_estimator = RandomForestClassifier(criterion = 'gini', \n",
    "                                                                n_estimators = 150, \n",
    "                                                                max_features = 'sqrt', \n",
    "                                                                max_depth = None, \n",
    "                                                                n_jobs = -1,\n",
    "                                                                random_state = 123),\n",
    "                                sampling_strategy = 'majority',\n",
    "                                n_estimators = 20,\n",
    "                                replacement = False,\n",
    "                                random_state = 123)\n",
    "\n",
    "RUS.fit(train_x, train_y)"
   ]
  },
  {
   "cell_type": "code",
   "execution_count": 97,
   "id": "71f309a2-5218-4fa3-92a7-8f76e6dae6f6",
   "metadata": {
    "tags": []
   },
   "outputs": [
    {
     "data": {
      "image/png": "[encoded data removed]",
      "text/plain": [
       "<Figure size 576x576 with 2 Axes>"
      ]
     },
     "metadata": {
      "needs_background": "light"
     },
     "output_type": "display_data"
    },
    {
     "name": "stdout",
     "output_type": "stream",
     "text": [
      "              precision    recall  f1-score   support\n",
      "\n",
      "           0       0.37      0.69      0.48       321\n",
      "           1       0.80      0.52      0.63       792\n",
      "\n",
      "    accuracy                           0.57      1113\n",
      "   macro avg       0.59      0.60      0.56      1113\n",
      "weighted avg       0.68      0.57      0.59      1113\n",
      "\n"
     ]
    }
   ],
   "source": [
    "pred_y = RUS.predict(test_x)\n",
    "mostrar_resultados(test_y, pred_y)"
   ]
  },
  {
   "cell_type": "code",
   "execution_count": 98,
   "id": "690f65c3-25e8-45bc-b6d2-89fd212c7063",
   "metadata": {},
   "outputs": [],
   "source": [
    "feature_importances = pd.DataFrame(rf.feature_importances_, index = train_x.columns, columns = ['important']).sort_values(['important'], ascending = 0)"
   ]
  },
  {
   "cell_type": "code",
   "execution_count": 99,
   "id": "ee08b442-0eb4-439a-8ad3-f1247bb22e79",
   "metadata": {
    "collapsed": true,
    "jupyter": {
     "outputs_hidden": true
    },
    "tags": []
   },
   "outputs": [
    {
     "data": {
      "text/html": [
       "<div>\n",
       "<style scoped>\n",
       "    .dataframe tbody tr th:only-of-type {\n",
       "        vertical-align: middle;\n",
       "    }\n",
       "\n",
       "    .dataframe tbody tr th {\n",
       "        vertical-align: top;\n",
       "    }\n",
       "\n",
       "    .dataframe thead th {\n",
       "        text-align: right;\n",
       "    }\n",
       "</style>\n",
       "<table border=\"1\" class=\"dataframe\">\n",
       "  <thead>\n",
       "    <tr style=\"text-align: right;\">\n",
       "      <th></th>\n",
       "      <th>important</th>\n",
       "    </tr>\n",
       "  </thead>\n",
       "  <tbody>\n",
       "    <tr>\n",
       "      <th>FECHA_ALTA_MONTH</th>\n",
       "      <td>5.273157</td>\n",
       "    </tr>\n",
       "    <tr>\n",
       "      <th>FECHA_REGISTRO_MONTH</th>\n",
       "      <td>5.055041</td>\n",
       "    </tr>\n",
       "    <tr>\n",
       "      <th>FECHACONSUMO_MONTH</th>\n",
       "      <td>4.855935</td>\n",
       "    </tr>\n",
       "    <tr>\n",
       "      <th>CANAL_REGISTRO</th>\n",
       "      <td>4.753014</td>\n",
       "    </tr>\n",
       "    <tr>\n",
       "      <th>1A_EMPCONSUL_PROV_DENS</th>\n",
       "      <td>4.609642</td>\n",
       "    </tr>\n",
       "    <tr>\n",
       "      <th>IPCASOS</th>\n",
       "      <td>4.563297</td>\n",
       "    </tr>\n",
       "    <tr>\n",
       "      <th>FECHA_ALTA_WEEKDAY</th>\n",
       "      <td>4.199821</td>\n",
       "    </tr>\n",
       "    <tr>\n",
       "      <th>1A_EMPCONSUL_PROV_IDH</th>\n",
       "      <td>4.022213</td>\n",
       "    </tr>\n",
       "    <tr>\n",
       "      <th>FECHA_REGISTRO_WEEKDAY</th>\n",
       "      <td>3.631551</td>\n",
       "    </tr>\n",
       "    <tr>\n",
       "      <th>FECHACONSUMO_WEEKDAY</th>\n",
       "      <td>3.564105</td>\n",
       "    </tr>\n",
       "    <tr>\n",
       "      <th>FICH_PROMO_TOT</th>\n",
       "      <td>3.077091</td>\n",
       "    </tr>\n",
       "    <tr>\n",
       "      <th>TIPO_TELF_EXTRANJERO</th>\n",
       "      <td>2.688839</td>\n",
       "    </tr>\n",
       "    <tr>\n",
       "      <th>TIPO_TELF_MOVIL</th>\n",
       "      <td>2.265636</td>\n",
       "    </tr>\n",
       "    <tr>\n",
       "      <th>IP_COUNTRY_IDH_NUM</th>\n",
       "      <td>2.103796</td>\n",
       "    </tr>\n",
       "    <tr>\n",
       "      <th>1A_EMPCONSUL_SECTOR_SECUNDARIO</th>\n",
       "      <td>2.041189</td>\n",
       "    </tr>\n",
       "    <tr>\n",
       "      <th>PERF_PROMO_TOT</th>\n",
       "      <td>2.029579</td>\n",
       "    </tr>\n",
       "    <tr>\n",
       "      <th>USU_TIPO_SOC_COMERCIAL_INDUSTRIAL</th>\n",
       "      <td>1.934527</td>\n",
       "    </tr>\n",
       "    <tr>\n",
       "      <th>1A_EMPCONSUL_SECTOR_TERCIARIO</th>\n",
       "      <td>1.925712</td>\n",
       "    </tr>\n",
       "    <tr>\n",
       "      <th>1A_DESCGRUPOPROD_PERF_PROMO</th>\n",
       "      <td>1.839759</td>\n",
       "    </tr>\n",
       "    <tr>\n",
       "      <th>USU_DEPART_IDH</th>\n",
       "      <td>1.775389</td>\n",
       "    </tr>\n",
       "    <tr>\n",
       "      <th>USU_DEPART_DEN_POB</th>\n",
       "      <td>1.684626</td>\n",
       "    </tr>\n",
       "    <tr>\n",
       "      <th>1A_DESCGRUPOPROD_FICH_PROMO</th>\n",
       "      <td>1.647774</td>\n",
       "    </tr>\n",
       "    <tr>\n",
       "      <th>USU_ESTADO_ACTIVA</th>\n",
       "      <td>1.622153</td>\n",
       "    </tr>\n",
       "    <tr>\n",
       "      <th>REGISTRO_ALTA</th>\n",
       "      <td>1.540215</td>\n",
       "    </tr>\n",
       "    <tr>\n",
       "      <th>TIPO_TELF_NO_PUBLICO</th>\n",
       "      <td>1.512405</td>\n",
       "    </tr>\n",
       "    <tr>\n",
       "      <th>BONDAD_EMAIL</th>\n",
       "      <td>1.430650</td>\n",
       "    </tr>\n",
       "    <tr>\n",
       "      <th>TIPOEMAIL_GOOHOTYAHMAIL</th>\n",
       "      <td>1.290011</td>\n",
       "    </tr>\n",
       "    <tr>\n",
       "      <th>ALTA_CONSUMO</th>\n",
       "      <td>1.286555</td>\n",
       "    </tr>\n",
       "    <tr>\n",
       "      <th>1A_EMPCONSUL_EST_ACTIVA</th>\n",
       "      <td>1.225003</td>\n",
       "    </tr>\n",
       "    <tr>\n",
       "      <th>FECHA_ALTA_BUSINESS_DAY</th>\n",
       "      <td>1.163137</td>\n",
       "    </tr>\n",
       "    <tr>\n",
       "      <th>TIPOEMAIL_SINCLASIFICAR</th>\n",
       "      <td>1.114082</td>\n",
       "    </tr>\n",
       "    <tr>\n",
       "      <th>TIPOEMAIL_CORPORATIVO</th>\n",
       "      <td>1.109787</td>\n",
       "    </tr>\n",
       "  </tbody>\n",
       "</table>\n",
       "</div>"
      ],
      "text/plain": [
       "                                   important\n",
       "FECHA_ALTA_MONTH                    5.273157\n",
       "FECHA_REGISTRO_MONTH                5.055041\n",
       "FECHACONSUMO_MONTH                  4.855935\n",
       "CANAL_REGISTRO                      4.753014\n",
       "1A_EMPCONSUL_PROV_DENS              4.609642\n",
       "IPCASOS                             4.563297\n",
       "FECHA_ALTA_WEEKDAY                  4.199821\n",
       "1A_EMPCONSUL_PROV_IDH               4.022213\n",
       "FECHA_REGISTRO_WEEKDAY              3.631551\n",
       "FECHACONSUMO_WEEKDAY                3.564105\n",
       "FICH_PROMO_TOT                      3.077091\n",
       "TIPO_TELF_EXTRANJERO                2.688839\n",
       "TIPO_TELF_MOVIL                     2.265636\n",
       "IP_COUNTRY_IDH_NUM                  2.103796\n",
       "1A_EMPCONSUL_SECTOR_SECUNDARIO      2.041189\n",
       "PERF_PROMO_TOT                      2.029579\n",
       "USU_TIPO_SOC_COMERCIAL_INDUSTRIAL   1.934527\n",
       "1A_EMPCONSUL_SECTOR_TERCIARIO       1.925712\n",
       "1A_DESCGRUPOPROD_PERF_PROMO         1.839759\n",
       "USU_DEPART_IDH                      1.775389\n",
       "USU_DEPART_DEN_POB                  1.684626\n",
       "1A_DESCGRUPOPROD_FICH_PROMO         1.647774\n",
       "USU_ESTADO_ACTIVA                   1.622153\n",
       "REGISTRO_ALTA                       1.540215\n",
       "TIPO_TELF_NO_PUBLICO                1.512405\n",
       "BONDAD_EMAIL                        1.430650\n",
       "TIPOEMAIL_GOOHOTYAHMAIL             1.290011\n",
       "ALTA_CONSUMO                        1.286555\n",
       "1A_EMPCONSUL_EST_ACTIVA             1.225003\n",
       "FECHA_ALTA_BUSINESS_DAY             1.163137\n",
       "TIPOEMAIL_SINCLASIFICAR             1.114082\n",
       "TIPOEMAIL_CORPORATIVO               1.109787"
      ]
     },
     "execution_count": 99,
     "metadata": {},
     "output_type": "execute_result"
    }
   ],
   "source": [
    "feature_importances[feature_importances['important'] > 0.01]*100"
   ]
  },
  {
   "cell_type": "code",
   "execution_count": 100,
   "id": "e35d8902-5d15-4a53-9572-c3cb331a9b5f",
   "metadata": {
    "tags": []
   },
   "outputs": [
    {
     "data": {
      "text/plain": [
       "(32, 1)"
      ]
     },
     "execution_count": 100,
     "metadata": {},
     "output_type": "execute_result"
    }
   ],
   "source": [
    "feature_importances[feature_importances['important'] > 0.01].shape"
   ]
  },
  {
   "cell_type": "markdown",
   "id": "d40a801f-467c-4de4-9a61-a26e8b63f359",
   "metadata": {},
   "source": [
    "---------------"
   ]
  },
  {
   "cell_type": "markdown",
   "id": "6940c09b-d3af-4613-bf83-a5fc0b4dd142",
   "metadata": {},
   "source": [
    "**EasyEnsembleClassifier**"
   ]
  },
  {
   "cell_type": "code",
   "execution_count": 101,
   "id": "95708da6-9200-464b-8a15-b3c903dbc5af",
   "metadata": {
    "tags": []
   },
   "outputs": [
    {
     "data": {
      "text/plain": [
       "EasyEnsembleClassifier(n_estimators=150, random_state=123,\n",
       "                       sampling_strategy='majority')"
      ]
     },
     "execution_count": 101,
     "metadata": {},
     "output_type": "execute_result"
    }
   ],
   "source": [
    "Easy = EasyEnsembleClassifier(sampling_strategy = 'majority',\n",
    "                              n_estimators = 150,\n",
    "                              replacement = False,\n",
    "                              random_state = 123)\n",
    "\n",
    "Easy.fit(train_x, train_y)"
   ]
  },
  {
   "cell_type": "code",
   "execution_count": 102,
   "id": "dff639f8-7407-42dc-a4db-5a2dafd8a59e",
   "metadata": {
    "tags": []
   },
   "outputs": [
    {
     "data": {
      "image/png": "[encoded data removed]",
      "text/plain": [
       "<Figure size 576x576 with 2 Axes>"
      ]
     },
     "metadata": {
      "needs_background": "light"
     },
     "output_type": "display_data"
    },
    {
     "name": "stdout",
     "output_type": "stream",
     "text": [
      "              precision    recall  f1-score   support\n",
      "\n",
      "           0       0.40      0.70      0.51       321\n",
      "           1       0.83      0.58      0.68       792\n",
      "\n",
      "    accuracy                           0.61      1113\n",
      "   macro avg       0.61      0.64      0.60      1113\n",
      "weighted avg       0.70      0.61      0.63      1113\n",
      "\n"
     ]
    }
   ],
   "source": [
    "pred_y = Easy.predict(test_x)\n",
    "mostrar_resultados(test_y, pred_y)"
   ]
  },
  {
   "cell_type": "code",
   "execution_count": 103,
   "id": "3b7079f5-b181-4562-bea0-342cc2958243",
   "metadata": {},
   "outputs": [],
   "source": [
    "feature_importances = pd.DataFrame(rf.feature_importances_, index = train_x.columns, columns = ['important']).sort_values(['important'], ascending = 0)"
   ]
  },
  {
   "cell_type": "code",
   "execution_count": 104,
   "id": "84958839-0d91-4ccf-9674-1f3a72c4d5da",
   "metadata": {
    "collapsed": true,
    "jupyter": {
     "outputs_hidden": true
    },
    "tags": []
   },
   "outputs": [
    {
     "data": {
      "text/html": [
       "<div>\n",
       "<style scoped>\n",
       "    .dataframe tbody tr th:only-of-type {\n",
       "        vertical-align: middle;\n",
       "    }\n",
       "\n",
       "    .dataframe tbody tr th {\n",
       "        vertical-align: top;\n",
       "    }\n",
       "\n",
       "    .dataframe thead th {\n",
       "        text-align: right;\n",
       "    }\n",
       "</style>\n",
       "<table border=\"1\" class=\"dataframe\">\n",
       "  <thead>\n",
       "    <tr style=\"text-align: right;\">\n",
       "      <th></th>\n",
       "      <th>important</th>\n",
       "    </tr>\n",
       "  </thead>\n",
       "  <tbody>\n",
       "    <tr>\n",
       "      <th>FECHA_ALTA_MONTH</th>\n",
       "      <td>5.273157</td>\n",
       "    </tr>\n",
       "    <tr>\n",
       "      <th>FECHA_REGISTRO_MONTH</th>\n",
       "      <td>5.055041</td>\n",
       "    </tr>\n",
       "    <tr>\n",
       "      <th>FECHACONSUMO_MONTH</th>\n",
       "      <td>4.855935</td>\n",
       "    </tr>\n",
       "    <tr>\n",
       "      <th>CANAL_REGISTRO</th>\n",
       "      <td>4.753014</td>\n",
       "    </tr>\n",
       "    <tr>\n",
       "      <th>1A_EMPCONSUL_PROV_DENS</th>\n",
       "      <td>4.609642</td>\n",
       "    </tr>\n",
       "    <tr>\n",
       "      <th>IPCASOS</th>\n",
       "      <td>4.563297</td>\n",
       "    </tr>\n",
       "    <tr>\n",
       "      <th>FECHA_ALTA_WEEKDAY</th>\n",
       "      <td>4.199821</td>\n",
       "    </tr>\n",
       "    <tr>\n",
       "      <th>1A_EMPCONSUL_PROV_IDH</th>\n",
       "      <td>4.022213</td>\n",
       "    </tr>\n",
       "    <tr>\n",
       "      <th>FECHA_REGISTRO_WEEKDAY</th>\n",
       "      <td>3.631551</td>\n",
       "    </tr>\n",
       "    <tr>\n",
       "      <th>FECHACONSUMO_WEEKDAY</th>\n",
       "      <td>3.564105</td>\n",
       "    </tr>\n",
       "    <tr>\n",
       "      <th>FICH_PROMO_TOT</th>\n",
       "      <td>3.077091</td>\n",
       "    </tr>\n",
       "    <tr>\n",
       "      <th>TIPO_TELF_EXTRANJERO</th>\n",
       "      <td>2.688839</td>\n",
       "    </tr>\n",
       "    <tr>\n",
       "      <th>TIPO_TELF_MOVIL</th>\n",
       "      <td>2.265636</td>\n",
       "    </tr>\n",
       "    <tr>\n",
       "      <th>IP_COUNTRY_IDH_NUM</th>\n",
       "      <td>2.103796</td>\n",
       "    </tr>\n",
       "    <tr>\n",
       "      <th>1A_EMPCONSUL_SECTOR_SECUNDARIO</th>\n",
       "      <td>2.041189</td>\n",
       "    </tr>\n",
       "    <tr>\n",
       "      <th>PERF_PROMO_TOT</th>\n",
       "      <td>2.029579</td>\n",
       "    </tr>\n",
       "    <tr>\n",
       "      <th>USU_TIPO_SOC_COMERCIAL_INDUSTRIAL</th>\n",
       "      <td>1.934527</td>\n",
       "    </tr>\n",
       "    <tr>\n",
       "      <th>1A_EMPCONSUL_SECTOR_TERCIARIO</th>\n",
       "      <td>1.925712</td>\n",
       "    </tr>\n",
       "    <tr>\n",
       "      <th>1A_DESCGRUPOPROD_PERF_PROMO</th>\n",
       "      <td>1.839759</td>\n",
       "    </tr>\n",
       "    <tr>\n",
       "      <th>USU_DEPART_IDH</th>\n",
       "      <td>1.775389</td>\n",
       "    </tr>\n",
       "    <tr>\n",
       "      <th>USU_DEPART_DEN_POB</th>\n",
       "      <td>1.684626</td>\n",
       "    </tr>\n",
       "    <tr>\n",
       "      <th>1A_DESCGRUPOPROD_FICH_PROMO</th>\n",
       "      <td>1.647774</td>\n",
       "    </tr>\n",
       "    <tr>\n",
       "      <th>USU_ESTADO_ACTIVA</th>\n",
       "      <td>1.622153</td>\n",
       "    </tr>\n",
       "    <tr>\n",
       "      <th>REGISTRO_ALTA</th>\n",
       "      <td>1.540215</td>\n",
       "    </tr>\n",
       "    <tr>\n",
       "      <th>TIPO_TELF_NO_PUBLICO</th>\n",
       "      <td>1.512405</td>\n",
       "    </tr>\n",
       "    <tr>\n",
       "      <th>BONDAD_EMAIL</th>\n",
       "      <td>1.430650</td>\n",
       "    </tr>\n",
       "    <tr>\n",
       "      <th>TIPOEMAIL_GOOHOTYAHMAIL</th>\n",
       "      <td>1.290011</td>\n",
       "    </tr>\n",
       "    <tr>\n",
       "      <th>ALTA_CONSUMO</th>\n",
       "      <td>1.286555</td>\n",
       "    </tr>\n",
       "    <tr>\n",
       "      <th>1A_EMPCONSUL_EST_ACTIVA</th>\n",
       "      <td>1.225003</td>\n",
       "    </tr>\n",
       "    <tr>\n",
       "      <th>FECHA_ALTA_BUSINESS_DAY</th>\n",
       "      <td>1.163137</td>\n",
       "    </tr>\n",
       "    <tr>\n",
       "      <th>TIPOEMAIL_SINCLASIFICAR</th>\n",
       "      <td>1.114082</td>\n",
       "    </tr>\n",
       "    <tr>\n",
       "      <th>TIPOEMAIL_CORPORATIVO</th>\n",
       "      <td>1.109787</td>\n",
       "    </tr>\n",
       "  </tbody>\n",
       "</table>\n",
       "</div>"
      ],
      "text/plain": [
       "                                   important\n",
       "FECHA_ALTA_MONTH                    5.273157\n",
       "FECHA_REGISTRO_MONTH                5.055041\n",
       "FECHACONSUMO_MONTH                  4.855935\n",
       "CANAL_REGISTRO                      4.753014\n",
       "1A_EMPCONSUL_PROV_DENS              4.609642\n",
       "IPCASOS                             4.563297\n",
       "FECHA_ALTA_WEEKDAY                  4.199821\n",
       "1A_EMPCONSUL_PROV_IDH               4.022213\n",
       "FECHA_REGISTRO_WEEKDAY              3.631551\n",
       "FECHACONSUMO_WEEKDAY                3.564105\n",
       "FICH_PROMO_TOT                      3.077091\n",
       "TIPO_TELF_EXTRANJERO                2.688839\n",
       "TIPO_TELF_MOVIL                     2.265636\n",
       "IP_COUNTRY_IDH_NUM                  2.103796\n",
       "1A_EMPCONSUL_SECTOR_SECUNDARIO      2.041189\n",
       "PERF_PROMO_TOT                      2.029579\n",
       "USU_TIPO_SOC_COMERCIAL_INDUSTRIAL   1.934527\n",
       "1A_EMPCONSUL_SECTOR_TERCIARIO       1.925712\n",
       "1A_DESCGRUPOPROD_PERF_PROMO         1.839759\n",
       "USU_DEPART_IDH                      1.775389\n",
       "USU_DEPART_DEN_POB                  1.684626\n",
       "1A_DESCGRUPOPROD_FICH_PROMO         1.647774\n",
       "USU_ESTADO_ACTIVA                   1.622153\n",
       "REGISTRO_ALTA                       1.540215\n",
       "TIPO_TELF_NO_PUBLICO                1.512405\n",
       "BONDAD_EMAIL                        1.430650\n",
       "TIPOEMAIL_GOOHOTYAHMAIL             1.290011\n",
       "ALTA_CONSUMO                        1.286555\n",
       "1A_EMPCONSUL_EST_ACTIVA             1.225003\n",
       "FECHA_ALTA_BUSINESS_DAY             1.163137\n",
       "TIPOEMAIL_SINCLASIFICAR             1.114082\n",
       "TIPOEMAIL_CORPORATIVO               1.109787"
      ]
     },
     "execution_count": 104,
     "metadata": {},
     "output_type": "execute_result"
    }
   ],
   "source": [
    "feature_importances[feature_importances['important'] > 0.01]*100"
   ]
  },
  {
   "cell_type": "code",
   "execution_count": 105,
   "id": "2ec52d92-863e-4b75-b05a-e4e418c53250",
   "metadata": {
    "tags": []
   },
   "outputs": [
    {
     "data": {
      "text/plain": [
       "(32, 1)"
      ]
     },
     "execution_count": 105,
     "metadata": {},
     "output_type": "execute_result"
    }
   ],
   "source": [
    "feature_importances[feature_importances['important'] > 0.01].shape"
   ]
  },
  {
   "cell_type": "markdown",
   "id": "1d4859fc-647f-4d93-b295-ea3e006bf961",
   "metadata": {},
   "source": [
    "---------------"
   ]
  },
  {
   "cell_type": "markdown",
   "id": "9dcdca36-38fd-4d39-98c9-9ce471ee5913",
   "metadata": {},
   "source": [
    "---------------"
   ]
  },
  {
   "cell_type": "markdown",
   "id": "81f2790f-6ea0-446b-88da-ec39d7758718",
   "metadata": {},
   "source": [
    "---------------"
   ]
  },
  {
   "cell_type": "markdown",
   "id": "034a2eec-d84c-4305-8de9-992c5b2da26b",
   "metadata": {},
   "source": [
    "# CONCLUSIONES"
   ]
  },
  {
   "cell_type": "markdown",
   "id": "4e807351-6709-4e07-bf68-e926cafeec79",
   "metadata": {},
   "source": [
    "Lo primero de todo comentar que el dataset en este notebook sufre un cambio, el numero de registros se reduce significativamente y el desbalanceo se torna al contrario, es decir, tenemos mas cliente que no clientes, por lo que al modelo le cosatará más identificar cuales son los no clientes."
   ]
  },
  {
   "cell_type": "markdown",
   "id": "18819e68-4cac-4ffc-9658-9addf0fa8795",
   "metadata": {},
   "source": [
    "Realizaremos un modleo base sobre el que comparar los resultados. "
   ]
  },
  {
   "cell_type": "markdown",
   "id": "77d3bb7d-92e4-4136-86da-093701e69a08",
   "metadata": {
    "tags": []
   },
   "source": [
    "| Modelo | Accuracy  | NoClientes - Precision  | NoClientes - Recall  | Clientes - Precision | Clientes - Recall | # Variables utilizadas\n",
    "|---|:---:|:---:|:---:|:---:|:---:|:---:|\n",
    "| Baseline | 0.71 | 0.47 | 0.20 |  0.74 | 0.91 | 25 |"
   ]
  },
  {
   "cell_type": "markdown",
   "id": "718d01d0-aeae-48b7-9fb3-cfc5c4c6dd0c",
   "metadata": {},
   "source": [
    "### **Resultados** "
   ]
  },
  {
   "cell_type": "markdown",
   "id": "78d2c9ec-39a0-40b2-8521-30c89a8a4763",
   "metadata": {},
   "source": [
    "| Modelo |Tecnica |Algoritmo   | Accuracy  | NoClientes - Precision  | NoClientes - Recall  | Clientes - Precision | Clientes - Recall | # Variables utilizadas\n",
    "|---|:---:|:---:|:---:|:---:|:---:|:---:|:---:|:---:|\n",
    "| Modelo 1 | **Penalización para compensar** | | 0.71 | 0.48 | 0.18 | 0.73 | 0.92| 27 |\n",
    "| Modelo 2 | **Subsampling en la clase mayoritaria** | RandomUnderSampler | 0.61 | 0.39 | 0.64 | 0.80 | 0.60 | 26 |\n",
    "| Modelo 3 | **Subsampling en la clase mayoritaria** | NearMiss| 0.48 | 0.31 | 0.64 | 0.74 | 0.42 | 25 |\n",
    "| Modelo 4 | **Oversampling en la clase minoritaria** | SMOTE| 0.68 | 0.42 | 0.32 | 0.75 | 0.82 | 32 |\n",
    "| Modelo 5 | **Oversampling en la clase minoritaria** | RandomOverSampler| 0.69 | 0.45 | 0.36 | 0.76 | 0.82 | 28 |\n",
    "| Modelo 6 | **Combinamos OverSampling con Subsampling** | SMOTE & RandomUnderSampler | 0.69 | 0.46 | 0.33 | 0.76 | 0.84 | 32 |\n",
    "| Modelo 7 | **Combinamos OverSampling con Subsampling** | SMOTE & NearMiss | 0.69 | 0.44 | 0.33 | 0.75 | 0.83 | 32 |\n",
    "| Modelo 8 | **Combinamos OverSampling con Subsampling** | SMOTE-Tomek| 0.66 | 0.40 | 0.35 | 0.75 | 0.78 | 32 |\n",
    "| Modelo 9 | **Ensamble de Modelos con Balanceo** | BalancedBaggingClassifier| 0.65 | 0.42 | 0.56 | 0.79 | 0.69 | 32 |\n",
    "| Modelo 10 | **Ensamble de Modelos con Balanceo** | BalancedRandomForestClassifier| 0.62 | 0.40 | 0.66 | 0.81 | 0.60 | 32 |\n",
    "| Modelo 11 | **Ensamble de Modelos con Balanceo** | RUSBoostClassifier| 0.57 | 0.37 | 0.69 | 0.80 | 0.52 | 32 |\n",
    "| Modelo 12 | **Ensamble de Modelos con Balanceo** | EasyEnsembleClassifier| 0.61 | 0.40 | 0.70 | 0.83 | 0.58 | 32 |"
   ]
  },
  {
   "cell_type": "markdown",
   "id": "78fe343c-c048-43eb-9876-a6ab7c6d3bea",
   "metadata": {},
   "source": [
    "Tras los resultados obtenidos y expuestos, podemos concluir que la técnica que mejores resultados nos ha proporcionado es **En el que se aplica la penalización para compensar**. Podemos observar que su resultado es idéntico al modelo baseline. sobre el que no se alica ninguna técnica, esto es debido a que en este caso el dataset podemos considerarlo como equilibrado.\n",
    "\n",
    "En el caso seleccionado como mejor modelo nos centramos en la métrica de recall, sobre todo en la clase mayoritaria, que en este caso son los objetivo, es decir los cliente. \n",
    "\n",
    "La técnica que más equilibrio presenta en la métrica de recall es la técnica **Penalización para compensar**. "
   ]
  }
 ],
 "metadata": {
  "kernelspec": {
   "display_name": "Python 3",
   "language": "python",
   "name": "python3"
  },
  "language_info": {
   "codemirror_mode": {
    "name": "ipython",
    "version": 3
   },
   "file_extension": ".py",
   "mimetype": "text/x-python",
   "name": "python",
   "nbconvert_exporter": "python",
   "pygments_lexer": "ipython3",
   "version": "3.8.8"
  }
 },
 "nbformat": 4,
 "nbformat_minor": 5
}
