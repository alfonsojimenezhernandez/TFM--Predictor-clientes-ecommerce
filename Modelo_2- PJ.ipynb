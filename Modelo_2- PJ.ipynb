{
 "cells": [
  {
   "cell_type": "markdown",
   "id": "ethical-champagne",
   "metadata": {},
   "source": [
    "# TFM - Predicción potenciales compradores de un ecommerce"
   ]
  },
  {
   "cell_type": "markdown",
   "id": "a703f93b-40b2-4e92-ac15-a47777771d67",
   "metadata": {},
   "source": [
    "Evolución del notebook *Modelo_1.ipynb* unicamente aplicando a **personas jurídicas**"
   ]
  },
  {
   "cell_type": "markdown",
   "id": "guided-lender",
   "metadata": {},
   "source": [
    "------------------------------------"
   ]
  },
  {
   "cell_type": "markdown",
   "id": "f1d3da8f-3328-46b4-a429-d9db420305c6",
   "metadata": {},
   "source": [
    "------------------"
   ]
  },
  {
   "cell_type": "markdown",
   "id": "related-bruce",
   "metadata": {},
   "source": [
    "### 1.1 Librerias"
   ]
  },
  {
   "cell_type": "code",
   "execution_count": 1,
   "id": "educational-access",
   "metadata": {},
   "outputs": [],
   "source": [
    "import pandas as pd\n",
    "import matplotlib.pyplot as plt\n",
    "import seaborn as sns\n",
    "\n",
    "from sklearn.model_selection import train_test_split\n",
    "from sklearn.ensemble import RandomForestClassifier \n",
    "from sklearn.metrics import confusion_matrix\n",
    "from sklearn.metrics import classification_report\n",
    "from sklearn.metrics import roc_auc_score\n",
    "from sklearn.model_selection import ParameterGrid\n",
    "\n",
    "from imblearn.pipeline import Pipeline\n",
    "from imblearn.under_sampling import NearMiss, RandomUnderSampler\n",
    "from imblearn.over_sampling import RandomOverSampler, SMOTE\n",
    "from imblearn.combine import SMOTETomek\n",
    "from imblearn.ensemble import BalancedBaggingClassifier, BalancedRandomForestClassifier, RUSBoostClassifier, EasyEnsembleClassifier\n",
    "\n",
    "from collections import Counter\n",
    "\n",
    "pd.set_option('display.max_columns', 200)\n",
    "\n",
    "import warnings\n",
    "warnings.filterwarnings(\"ignore\")"
   ]
  },
  {
   "cell_type": "markdown",
   "id": "ee290e54-4d6f-4ef7-8aed-4d442185f44d",
   "metadata": {},
   "source": [
    "------------------"
   ]
  },
  {
   "cell_type": "markdown",
   "id": "interior-tucson",
   "metadata": {},
   "source": [
    "### 1.2 Variables globales"
   ]
  },
  {
   "cell_type": "code",
   "execution_count": 2,
   "id": "described-mainland",
   "metadata": {},
   "outputs": [],
   "source": [
    "LABELS = [\"No_Cliente\",\"Cliente\"]"
   ]
  },
  {
   "cell_type": "markdown",
   "id": "10003f48-7fb3-442b-929a-e132559df249",
   "metadata": {},
   "source": [
    "------------------"
   ]
  },
  {
   "cell_type": "markdown",
   "id": "operating-captain",
   "metadata": {},
   "source": [
    "### 1.3 Funciones"
   ]
  },
  {
   "cell_type": "code",
   "execution_count": 3,
   "id": "equal-confidentiality",
   "metadata": {},
   "outputs": [],
   "source": [
    "def mostrar_resultados(y_test, pred_y):\n",
    "    conf_matrix = confusion_matrix(y_test, pred_y)\n",
    "    plt.figure(figsize = (8, 8))\n",
    "    sns.heatmap(conf_matrix, xticklabels = LABELS, yticklabels = LABELS, annot = True, fmt = \"d\");\n",
    "    plt.title(\"Confusion matrix\")\n",
    "    plt.ylabel('True class')\n",
    "    plt.xlabel('Predicted class')\n",
    "    plt.show()\n",
    "    print (classification_report(y_test, pred_y))"
   ]
  },
  {
   "cell_type": "markdown",
   "id": "latter-plastic",
   "metadata": {},
   "source": [
    "------------------------------------"
   ]
  },
  {
   "cell_type": "markdown",
   "id": "e96cf1c9-e1ed-4157-936c-2101ae9b9fe5",
   "metadata": {},
   "source": [
    "------------------"
   ]
  },
  {
   "cell_type": "markdown",
   "id": "aquatic-cartoon",
   "metadata": {},
   "source": [
    "A continuación comenzamos leyendo los ficheros que hemos tratado, limpiado y analizado en los procesos anteriores.\n",
    "\n",
    "Se realizará un análisis sencillo de la estructura y una visualización de varias muestras. \n",
    "\n",
    "Además someteremos las variables categóricas a variables *dummies*, de forma que que podamos introducirlas ennuestro modelo."
   ]
  },
  {
   "cell_type": "markdown",
   "id": "popular-offering",
   "metadata": {},
   "source": [
    "### 2.1 Lectura de Fichero"
   ]
  },
  {
   "cell_type": "code",
   "execution_count": 4,
   "id": "missing-induction",
   "metadata": {},
   "outputs": [],
   "source": [
    "df = pd.read_csv('Data/dataset_model_corr.txt', sep = ';', encoding = 'ISO-8859-1')"
   ]
  },
  {
   "cell_type": "code",
   "execution_count": 5,
   "id": "convertible-brass",
   "metadata": {},
   "outputs": [
    {
     "data": {
      "text/plain": [
       "(406267, 26)"
      ]
     },
     "execution_count": 5,
     "metadata": {},
     "output_type": "execute_result"
    }
   ],
   "source": [
    "df.shape"
   ]
  },
  {
   "cell_type": "code",
   "execution_count": 6,
   "id": "metropolitan-melissa",
   "metadata": {},
   "outputs": [
    {
     "data": {
      "text/html": [
       "<div>\n",
       "<style scoped>\n",
       "    .dataframe tbody tr th:only-of-type {\n",
       "        vertical-align: middle;\n",
       "    }\n",
       "\n",
       "    .dataframe tbody tr th {\n",
       "        vertical-align: top;\n",
       "    }\n",
       "\n",
       "    .dataframe thead th {\n",
       "        text-align: right;\n",
       "    }\n",
       "</style>\n",
       "<table border=\"1\" class=\"dataframe\">\n",
       "  <thead>\n",
       "    <tr style=\"text-align: right;\">\n",
       "      <th></th>\n",
       "      <th>TIPOUSUARIO</th>\n",
       "      <th>FECHA_REGISTRO_WEEKDAY</th>\n",
       "      <th>FECHA_REGISTRO_MONTH</th>\n",
       "      <th>CANAL_REGISTRO</th>\n",
       "      <th>TIPOEMAIL</th>\n",
       "      <th>BONDAD_EMAIL</th>\n",
       "      <th>TIPO_TELF</th>\n",
       "      <th>IP_CONTINENTE</th>\n",
       "      <th>IP_COUNTRY_PIB</th>\n",
       "      <th>USU_TIPO</th>\n",
       "      <th>USU_TAMANIO</th>\n",
       "      <th>USU_ESTADO</th>\n",
       "      <th>USU_SECTOR_ECONOMICO</th>\n",
       "      <th>1A_DESCGRUPOPROD</th>\n",
       "      <th>1A_EMPCONSUL_EST</th>\n",
       "      <th>1A_EMPCONSUL_SECTOR</th>\n",
       "      <th>IPCASOS</th>\n",
       "      <th>IP_COUNTRY_IDH_NUM</th>\n",
       "      <th>USU_DEPART_DEN_POB</th>\n",
       "      <th>USU_DEPART_IDH</th>\n",
       "      <th>1A_EMPCONSUL_PROV_DENS</th>\n",
       "      <th>1A_EMPCONSUL_PROV_IDH</th>\n",
       "      <th>FICH_PROMO_TOT</th>\n",
       "      <th>PERF_PROMO_TOT</th>\n",
       "      <th>IND_ALTA</th>\n",
       "      <th>IND_CLIENTE</th>\n",
       "    </tr>\n",
       "  </thead>\n",
       "  <tbody>\n",
       "    <tr>\n",
       "      <th>0</th>\n",
       "      <td>PF</td>\n",
       "      <td>1</td>\n",
       "      <td>10</td>\n",
       "      <td>3</td>\n",
       "      <td>GOOHOTYAHMAIL</td>\n",
       "      <td>0</td>\n",
       "      <td>NO_PUBLICO</td>\n",
       "      <td>AMERICA_SUR</td>\n",
       "      <td>Ingreso mediano alto</td>\n",
       "      <td>NoApl</td>\n",
       "      <td>NoApl</td>\n",
       "      <td>NoApl</td>\n",
       "      <td>NoApl</td>\n",
       "      <td>PERF_PROMO</td>\n",
       "      <td>ACTIVA</td>\n",
       "      <td>TERCIARIO</td>\n",
       "      <td>1</td>\n",
       "      <td>0.767</td>\n",
       "      <td>-1.00</td>\n",
       "      <td>-1.000</td>\n",
       "      <td>47.92</td>\n",
       "      <td>0.782</td>\n",
       "      <td>0</td>\n",
       "      <td>1</td>\n",
       "      <td>0</td>\n",
       "      <td>0</td>\n",
       "    </tr>\n",
       "    <tr>\n",
       "      <th>1</th>\n",
       "      <td>PJ</td>\n",
       "      <td>1</td>\n",
       "      <td>5</td>\n",
       "      <td>3</td>\n",
       "      <td>GOOHOTYAHMAIL</td>\n",
       "      <td>1</td>\n",
       "      <td>NO_PUBLICO</td>\n",
       "      <td>AMERICA_SUR</td>\n",
       "      <td>Ingreso mediano alto</td>\n",
       "      <td>SOC_COMERCIAL_INDUSTRIAL</td>\n",
       "      <td>PQ</td>\n",
       "      <td>ACTIVA</td>\n",
       "      <td>TERCIARIO</td>\n",
       "      <td>PERF_PROMO</td>\n",
       "      <td>ACTIVA</td>\n",
       "      <td>SD</td>\n",
       "      <td>1</td>\n",
       "      <td>0.767</td>\n",
       "      <td>306.38</td>\n",
       "      <td>0.832</td>\n",
       "      <td>47.92</td>\n",
       "      <td>0.782</td>\n",
       "      <td>0</td>\n",
       "      <td>1</td>\n",
       "      <td>0</td>\n",
       "      <td>0</td>\n",
       "    </tr>\n",
       "    <tr>\n",
       "      <th>2</th>\n",
       "      <td>PJ</td>\n",
       "      <td>2</td>\n",
       "      <td>9</td>\n",
       "      <td>7</td>\n",
       "      <td>GOOHOTYAHMAIL</td>\n",
       "      <td>1</td>\n",
       "      <td>NO_PUBLICO</td>\n",
       "      <td>AMERICA_SUR</td>\n",
       "      <td>Ingreso mediano alto</td>\n",
       "      <td>SOC_COMERCIAL_INDUSTRIAL</td>\n",
       "      <td>MC</td>\n",
       "      <td>ACTIVA</td>\n",
       "      <td>TERCIARIO</td>\n",
       "      <td>PERF_PROMO</td>\n",
       "      <td>ACTIVA</td>\n",
       "      <td>TERCIARIO</td>\n",
       "      <td>1</td>\n",
       "      <td>0.767</td>\n",
       "      <td>815.17</td>\n",
       "      <td>0.835</td>\n",
       "      <td>4438.75</td>\n",
       "      <td>0.904</td>\n",
       "      <td>0</td>\n",
       "      <td>1</td>\n",
       "      <td>0</td>\n",
       "      <td>0</td>\n",
       "    </tr>\n",
       "  </tbody>\n",
       "</table>\n",
       "</div>"
      ],
      "text/plain": [
       "  TIPOUSUARIO  FECHA_REGISTRO_WEEKDAY  FECHA_REGISTRO_MONTH  CANAL_REGISTRO  \\\n",
       "0          PF                       1                    10               3   \n",
       "1          PJ                       1                     5               3   \n",
       "2          PJ                       2                     9               7   \n",
       "\n",
       "       TIPOEMAIL  BONDAD_EMAIL   TIPO_TELF IP_CONTINENTE  \\\n",
       "0  GOOHOTYAHMAIL             0  NO_PUBLICO   AMERICA_SUR   \n",
       "1  GOOHOTYAHMAIL             1  NO_PUBLICO   AMERICA_SUR   \n",
       "2  GOOHOTYAHMAIL             1  NO_PUBLICO   AMERICA_SUR   \n",
       "\n",
       "         IP_COUNTRY_PIB                  USU_TIPO USU_TAMANIO USU_ESTADO  \\\n",
       "0  Ingreso mediano alto                     NoApl       NoApl      NoApl   \n",
       "1  Ingreso mediano alto  SOC_COMERCIAL_INDUSTRIAL          PQ     ACTIVA   \n",
       "2  Ingreso mediano alto  SOC_COMERCIAL_INDUSTRIAL          MC     ACTIVA   \n",
       "\n",
       "  USU_SECTOR_ECONOMICO 1A_DESCGRUPOPROD 1A_EMPCONSUL_EST 1A_EMPCONSUL_SECTOR  \\\n",
       "0                NoApl       PERF_PROMO           ACTIVA           TERCIARIO   \n",
       "1            TERCIARIO       PERF_PROMO           ACTIVA                  SD   \n",
       "2            TERCIARIO       PERF_PROMO           ACTIVA           TERCIARIO   \n",
       "\n",
       "   IPCASOS  IP_COUNTRY_IDH_NUM  USU_DEPART_DEN_POB  USU_DEPART_IDH  \\\n",
       "0        1               0.767               -1.00          -1.000   \n",
       "1        1               0.767              306.38           0.832   \n",
       "2        1               0.767              815.17           0.835   \n",
       "\n",
       "   1A_EMPCONSUL_PROV_DENS  1A_EMPCONSUL_PROV_IDH  FICH_PROMO_TOT  \\\n",
       "0                   47.92                  0.782               0   \n",
       "1                   47.92                  0.782               0   \n",
       "2                 4438.75                  0.904               0   \n",
       "\n",
       "   PERF_PROMO_TOT  IND_ALTA  IND_CLIENTE  \n",
       "0               1         0            0  \n",
       "1               1         0            0  \n",
       "2               1         0            0  "
      ]
     },
     "execution_count": 6,
     "metadata": {},
     "output_type": "execute_result"
    }
   ],
   "source": [
    "df.head(3)"
   ]
  },
  {
   "cell_type": "markdown",
   "id": "8980cbe8-fdd7-4370-bba8-f7902787b1e5",
   "metadata": {},
   "source": [
    "------------------"
   ]
  },
  {
   "cell_type": "markdown",
   "id": "automotive-supervisor",
   "metadata": {},
   "source": [
    "### 2.2 Variables dummies"
   ]
  },
  {
   "cell_type": "code",
   "execution_count": 7,
   "id": "8f4e797e-2a7f-49bf-99e0-eac35670cabd",
   "metadata": {},
   "outputs": [],
   "source": [
    "ohe_columns = ['TIPOUSUARIO','FECHA_REGISTRO_WEEKDAY','FECHA_REGISTRO_MONTH','CANAL_REGISTRO','TIPOEMAIL','TIPO_TELF','IP_CONTINENTE','IP_COUNTRY_PIB','USU_TIPO',\n",
    "               'USU_TAMANIO','USU_ESTADO','USU_SECTOR_ECONOMICO','1A_DESCGRUPOPROD','1A_EMPCONSUL_EST','1A_EMPCONSUL_SECTOR']"
   ]
  },
  {
   "cell_type": "code",
   "execution_count": 8,
   "id": "comparable-english",
   "metadata": {},
   "outputs": [],
   "source": [
    "final_df = pd.get_dummies(df, columns = ohe_columns)"
   ]
  },
  {
   "cell_type": "markdown",
   "id": "approved-short",
   "metadata": {},
   "source": [
    "**Columnas para la predicción**"
   ]
  },
  {
   "cell_type": "code",
   "execution_count": 9,
   "id": "4fc6dfe3-fac6-490b-abb2-26d87f943813",
   "metadata": {},
   "outputs": [],
   "source": [
    "columnas = ['TIPOUSUARIO_PJ', 'FECHA_REGISTRO_WEEKDAY_0','FECHA_REGISTRO_WEEKDAY_1', 'FECHA_REGISTRO_WEEKDAY_2','FECHA_REGISTRO_WEEKDAY_3', \n",
    "            'FECHA_REGISTRO_WEEKDAY_4','FECHA_REGISTRO_WEEKDAY_5', 'FECHA_REGISTRO_WEEKDAY_6','FECHA_REGISTRO_MONTH_1', 'FECHA_REGISTRO_MONTH_2',\n",
    "            'FECHA_REGISTRO_MONTH_3', 'FECHA_REGISTRO_MONTH_4','FECHA_REGISTRO_MONTH_5', 'FECHA_REGISTRO_MONTH_6','FECHA_REGISTRO_MONTH_7', 'FECHA_REGISTRO_MONTH_8',\n",
    "            'FECHA_REGISTRO_MONTH_9', 'FECHA_REGISTRO_MONTH_10','FECHA_REGISTRO_MONTH_11', 'FECHA_REGISTRO_MONTH_12','CANAL_REGISTRO_1', 'CANAL_REGISTRO_2', 'CANAL_REGISTRO_3',\n",
    "            'CANAL_REGISTRO_4', 'CANAL_REGISTRO_5', 'CANAL_REGISTRO_6', 'CANAL_REGISTRO_7', 'CANAL_REGISTRO_8', 'CANAL_REGISTRO_9','TIPOEMAIL_ADMINISTRACION','TIPOEMAIL_CORPORATIVO',\n",
    "            'TIPOEMAIL_DOCENTE','TIPOEMAIL_GOOHOTYAHMAIL','TIPOEMAIL_SINCLASIFICAR','TIPOEMAIL_TEMPORAL','BONDAD_EMAIL','IPCASOS','TIPO_TELF_EXTRANJERO',\n",
    "            'TIPO_TELF_MOVIL', 'TIPO_TELF_NO_PUBLICO','IP_CONTINENTE_AFRICA','IP_CONTINENTE_AMERICA_NORTE','IP_CONTINENTE_AMERICA_SUR','IP_CONTINENTE_ASIA','IP_CONTINENTE_EUROPA',\n",
    "            'IP_CONTINENTE_NI','IP_CONTINENTE_OCEANNIA', 'IP_COUNTRY_PIB_Ingreso alto','IP_COUNTRY_PIB_Ingreso mediano alto','IP_COUNTRY_PIB_NI',\n",
    "            'IP_COUNTRY_PIB_Países de ingreso mediano bajo','IP_COUNTRY_IDH_NUM', 'USU_TIPO_EMPRESARIO INDIVIDUAL','USU_TIPO_ENTIDAD_HOLDING','USU_TIPO_NI','USU_TIPO_NoApl',\n",
    "            'USU_TIPO_SOC_COMERCIAL_INDUSTRIAL','USU_TIPO_SOC_NO_COMERCIAL','USU_TAMANIO_GR', 'USU_TAMANIO_MC','USU_TAMANIO_MD','USU_TAMANIO_NoApl','USU_TAMANIO_PQ',\n",
    "            'USU_TAMANIO_SD','USU_ESTADO_ACTIVA','USU_ESTADO_INACTIVA','USU_ESTADO_NoApl', 'USU_ESTADO_REESTRUCTURACION','USU_ESTADO_RELACION_CLINTON','USU_ESTADO_SD',\n",
    "            'USU_SECTOR_ECONOMICO_CUATERNARIO','USU_SECTOR_ECONOMICO_NoApl', 'USU_SECTOR_ECONOMICO_PRIMARIO','USU_SECTOR_ECONOMICO_QUINARIO','USU_SECTOR_ECONOMICO_SD',\n",
    "            'USU_SECTOR_ECONOMICO_SECUNDARIO','USU_SECTOR_ECONOMICO_TERCIARIO', 'USU_DEPART_DEN_POB','USU_DEPART_IDH','FICH_PROMO_TOT','PERF_PROMO_TOT','1A_EMPCONSUL_EST_ACTIVA', \n",
    "            '1A_EMPCONSUL_EST_INACTIVA', '1A_DESCGRUPOPROD_FICH_PROMO', '1A_DESCGRUPOPROD_PERF_PROMO', '1A_DESCGRUPOPROD_RES_PAGO', '1A_EMPCONSUL_EST_NI', \n",
    "            '1A_EMPCONSUL_EST_REESTRUCTURACION', '1A_EMPCONSUL_EST_RELACION_CLINTON', '1A_EMPCONSUL_SECTOR_CUATERNARIO', '1A_EMPCONSUL_SECTOR_PRIMARIO', '1A_EMPCONSUL_SECTOR_QUINARIO',\n",
    "            '1A_EMPCONSUL_SECTOR_SD', '1A_EMPCONSUL_SECTOR_SECUNDARIO', '1A_EMPCONSUL_SECTOR_TERCIARIO']"
   ]
  },
  {
   "cell_type": "markdown",
   "id": "noted-genetics",
   "metadata": {},
   "source": [
    "-----------------"
   ]
  },
  {
   "cell_type": "markdown",
   "id": "b53a6771-0046-48a6-871c-05a8a6cf2dc2",
   "metadata": {},
   "source": [
    "------------------"
   ]
  },
  {
   "cell_type": "markdown",
   "id": "correct-music",
   "metadata": {},
   "source": [
    "### 3.1 Analisis desbalanceo"
   ]
  },
  {
   "cell_type": "code",
   "execution_count": 10,
   "id": "impaired-liabilities",
   "metadata": {},
   "outputs": [
    {
     "data": {
      "text/plain": [
       "(406267, 100)"
      ]
     },
     "execution_count": 10,
     "metadata": {},
     "output_type": "execute_result"
    }
   ],
   "source": [
    "final_df.shape"
   ]
  },
  {
   "cell_type": "code",
   "execution_count": 11,
   "id": "4570faa5-552a-481b-bed9-67708c68fef9",
   "metadata": {},
   "outputs": [
    {
     "data": {
      "text/plain": [
       "0    98489\n",
       "1     7009\n",
       "Name: IND_CLIENTE, dtype: int64"
      ]
     },
     "execution_count": 11,
     "metadata": {},
     "output_type": "execute_result"
    }
   ],
   "source": [
    "pd.value_counts(final_df.loc[final_df['TIPOUSUARIO_PJ'] == 1, 'IND_CLIENTE'], sort = True)"
   ]
  },
  {
   "cell_type": "code",
   "execution_count": 12,
   "id": "traditional-arthritis",
   "metadata": {},
   "outputs": [
    {
     "data": {
      "image/png": "[encoded data removed]",
      "text/plain": [
       "<Figure size 432x288 with 1 Axes>"
      ]
     },
     "metadata": {
      "needs_background": "light"
     },
     "output_type": "display_data"
    }
   ],
   "source": [
    "count_classes = pd.value_counts(final_df.loc[final_df['TIPOUSUARIO_PJ'] == 1, 'IND_CLIENTE'], sort = True)\n",
    "count_classes.plot(kind = 'bar', rot = 0)\n",
    "plt.xticks(range(2), LABELS)\n",
    "plt.title(\"Frequency by observation number\")\n",
    "plt.xlabel(\"Target\")\n",
    "plt.ylabel(\"Observations\");"
   ]
  },
  {
   "cell_type": "code",
   "execution_count": 13,
   "id": "ancient-bernard",
   "metadata": {},
   "outputs": [
    {
     "name": "stdout",
     "output_type": "stream",
     "text": [
      "Los clientes suponen un % del total:  6.643727843181861\n"
     ]
    }
   ],
   "source": [
    "print('Los clientes suponen un % del total: ', ((7009/(len(final_df.loc[final_df['TIPOUSUARIO_PJ'] == 1])))*100))"
   ]
  },
  {
   "cell_type": "markdown",
   "id": "injured-charleston",
   "metadata": {},
   "source": [
    "**Podemos ver un claro desbalanceo donde los clientes no suponen más del 7% de las observaciones**"
   ]
  },
  {
   "cell_type": "markdown",
   "id": "outdoor-block",
   "metadata": {},
   "source": [
    "------------------"
   ]
  },
  {
   "cell_type": "markdown",
   "id": "fdd02bf4-e138-4042-a589-d306dc6779e0",
   "metadata": {},
   "source": [
    "------------------"
   ]
  },
  {
   "cell_type": "markdown",
   "id": "central-personality",
   "metadata": {},
   "source": [
    "### 4. Creación del Modelo"
   ]
  },
  {
   "cell_type": "markdown",
   "id": "otherwise-capability",
   "metadata": {},
   "source": [
    "#### 4.1 Dividimos el set entre features y label"
   ]
  },
  {
   "cell_type": "code",
   "execution_count": 19,
   "id": "52e63bce-e7d7-4d25-9143-46ed96027176",
   "metadata": {},
   "outputs": [],
   "source": [
    "final_df_PJ = final_df.loc[final_df['TIPOUSUARIO_PJ'] == 1]"
   ]
  },
  {
   "cell_type": "code",
   "execution_count": 20,
   "id": "b5ed417f-ffd3-440c-9ba9-98f70f764f33",
   "metadata": {},
   "outputs": [],
   "source": [
    "features = final_df_PJ[columnas]\n",
    "labels = final_df_PJ['IND_CLIENTE']"
   ]
  },
  {
   "cell_type": "code",
   "execution_count": 21,
   "id": "advance-germany",
   "metadata": {},
   "outputs": [
    {
     "data": {
      "text/plain": [
       "(105498, 95)"
      ]
     },
     "execution_count": 21,
     "metadata": {},
     "output_type": "execute_result"
    }
   ],
   "source": [
    "features.shape"
   ]
  },
  {
   "cell_type": "code",
   "execution_count": 22,
   "id": "lesser-spread",
   "metadata": {},
   "outputs": [
    {
     "data": {
      "text/plain": [
       "(105498,)"
      ]
     },
     "execution_count": 22,
     "metadata": {},
     "output_type": "execute_result"
    }
   ],
   "source": [
    "labels.shape"
   ]
  },
  {
   "cell_type": "markdown",
   "id": "3a931989-9ac6-423c-9670-35bb88a7ca36",
   "metadata": {},
   "source": [
    "------------------"
   ]
  },
  {
   "cell_type": "markdown",
   "id": "furnished-america",
   "metadata": {},
   "source": [
    "#### 4.2 Creamos set de entrenamiento y test"
   ]
  },
  {
   "cell_type": "code",
   "execution_count": 23,
   "id": "caring-thanks",
   "metadata": {},
   "outputs": [],
   "source": [
    "train_x, test_x, train_y, test_y = train_test_split(features, labels, test_size = 0.3, random_state = 123)"
   ]
  },
  {
   "cell_type": "code",
   "execution_count": 24,
   "id": "instructional-hamilton",
   "metadata": {},
   "outputs": [
    {
     "data": {
      "text/plain": [
       "(73848, 95)"
      ]
     },
     "execution_count": 24,
     "metadata": {},
     "output_type": "execute_result"
    }
   ],
   "source": [
    "train_x.shape"
   ]
  },
  {
   "cell_type": "code",
   "execution_count": 25,
   "id": "responsible-hometown",
   "metadata": {},
   "outputs": [
    {
     "data": {
      "text/plain": [
       "(31650, 95)"
      ]
     },
     "execution_count": 25,
     "metadata": {},
     "output_type": "execute_result"
    }
   ],
   "source": [
    "test_x.shape"
   ]
  },
  {
   "cell_type": "code",
   "execution_count": 26,
   "id": "funky-scientist",
   "metadata": {},
   "outputs": [
    {
     "data": {
      "text/plain": [
       "(73848,)"
      ]
     },
     "execution_count": 26,
     "metadata": {},
     "output_type": "execute_result"
    }
   ],
   "source": [
    "train_y.shape"
   ]
  },
  {
   "cell_type": "code",
   "execution_count": 27,
   "id": "regional-discretion",
   "metadata": {},
   "outputs": [
    {
     "data": {
      "text/plain": [
       "(31650,)"
      ]
     },
     "execution_count": 27,
     "metadata": {},
     "output_type": "execute_result"
    }
   ],
   "source": [
    "test_y.shape"
   ]
  },
  {
   "cell_type": "markdown",
   "id": "abbe61b9-fafe-4878-a370-acedd25dba68",
   "metadata": {},
   "source": [
    "------------------"
   ]
  },
  {
   "cell_type": "markdown",
   "id": "canadian-joining",
   "metadata": {},
   "source": [
    "#### 4.3 Selección Hiperparámetros"
   ]
  },
  {
   "cell_type": "markdown",
   "id": "vocational-adrian",
   "metadata": {},
   "source": [
    "Definimos una serie de hiperparámetros diferentes para comparar resultados"
   ]
  },
  {
   "cell_type": "code",
   "execution_count": 28,
   "id": "rising-lender",
   "metadata": {},
   "outputs": [],
   "source": [
    "param_grid = ParameterGrid({'n_estimators': [5, 20, 50, 100, 150],\n",
    "                            'max_features': [5, 'log2', 'auto', 'sqrt'],\n",
    "                            'max_depth'   : [None, 3, 5, 7, 10],\n",
    "                            'criterion'   : ['gini', 'entropy']\n",
    "                           })"
   ]
  },
  {
   "cell_type": "markdown",
   "id": "celtic-plaintiff",
   "metadata": {},
   "source": [
    "Loop para ajustar un modelo con cada combinación de hiperparámetros"
   ]
  },
  {
   "cell_type": "code",
   "execution_count": 29,
   "id": "alert-consideration",
   "metadata": {},
   "outputs": [],
   "source": [
    "resultados = {'params': [], 'oob_accuracy': []}"
   ]
  },
  {
   "cell_type": "code",
   "execution_count": 30,
   "id": "large-attitude",
   "metadata": {
    "tags": []
   },
   "outputs": [
    {
     "name": "stdout",
     "output_type": "stream",
     "text": [
      "Modelo: {'criterion': 'gini', 'max_depth': None, 'max_features': 5, 'n_estimators': 5} ✓\n",
      "Modelo: {'criterion': 'gini', 'max_depth': None, 'max_features': 5, 'n_estimators': 20} ✓\n",
      "Modelo: {'criterion': 'gini', 'max_depth': None, 'max_features': 5, 'n_estimators': 50} ✓\n",
      "Modelo: {'criterion': 'gini', 'max_depth': None, 'max_features': 5, 'n_estimators': 100} ✓\n",
      "Modelo: {'criterion': 'gini', 'max_depth': None, 'max_features': 5, 'n_estimators': 150} ✓\n",
      "Modelo: {'criterion': 'gini', 'max_depth': None, 'max_features': 'log2', 'n_estimators': 5} ✓\n",
      "Modelo: {'criterion': 'gini', 'max_depth': None, 'max_features': 'log2', 'n_estimators': 20} ✓\n",
      "Modelo: {'criterion': 'gini', 'max_depth': None, 'max_features': 'log2', 'n_estimators': 50} ✓\n",
      "Modelo: {'criterion': 'gini', 'max_depth': None, 'max_features': 'log2', 'n_estimators': 100} ✓\n",
      "Modelo: {'criterion': 'gini', 'max_depth': None, 'max_features': 'log2', 'n_estimators': 150} ✓\n",
      "Modelo: {'criterion': 'gini', 'max_depth': None, 'max_features': 'auto', 'n_estimators': 5} ✓\n",
      "Modelo: {'criterion': 'gini', 'max_depth': None, 'max_features': 'auto', 'n_estimators': 20} ✓\n",
      "Modelo: {'criterion': 'gini', 'max_depth': None, 'max_features': 'auto', 'n_estimators': 50} ✓\n",
      "Modelo: {'criterion': 'gini', 'max_depth': None, 'max_features': 'auto', 'n_estimators': 100} ✓\n",
      "Modelo: {'criterion': 'gini', 'max_depth': None, 'max_features': 'auto', 'n_estimators': 150} ✓\n",
      "Modelo: {'criterion': 'gini', 'max_depth': None, 'max_features': 'sqrt', 'n_estimators': 5} ✓\n",
      "Modelo: {'criterion': 'gini', 'max_depth': None, 'max_features': 'sqrt', 'n_estimators': 20} ✓\n",
      "Modelo: {'criterion': 'gini', 'max_depth': None, 'max_features': 'sqrt', 'n_estimators': 50} ✓\n",
      "Modelo: {'criterion': 'gini', 'max_depth': None, 'max_features': 'sqrt', 'n_estimators': 100} ✓\n",
      "Modelo: {'criterion': 'gini', 'max_depth': None, 'max_features': 'sqrt', 'n_estimators': 150} ✓\n",
      "Modelo: {'criterion': 'gini', 'max_depth': 3, 'max_features': 5, 'n_estimators': 5} ✓\n",
      "Modelo: {'criterion': 'gini', 'max_depth': 3, 'max_features': 5, 'n_estimators': 20} ✓\n",
      "Modelo: {'criterion': 'gini', 'max_depth': 3, 'max_features': 5, 'n_estimators': 50} ✓\n",
      "Modelo: {'criterion': 'gini', 'max_depth': 3, 'max_features': 5, 'n_estimators': 100} ✓\n",
      "Modelo: {'criterion': 'gini', 'max_depth': 3, 'max_features': 5, 'n_estimators': 150} ✓\n",
      "Modelo: {'criterion': 'gini', 'max_depth': 3, 'max_features': 'log2', 'n_estimators': 5} ✓\n",
      "Modelo: {'criterion': 'gini', 'max_depth': 3, 'max_features': 'log2', 'n_estimators': 20} ✓\n",
      "Modelo: {'criterion': 'gini', 'max_depth': 3, 'max_features': 'log2', 'n_estimators': 50} ✓\n",
      "Modelo: {'criterion': 'gini', 'max_depth': 3, 'max_features': 'log2', 'n_estimators': 100} ✓\n",
      "Modelo: {'criterion': 'gini', 'max_depth': 3, 'max_features': 'log2', 'n_estimators': 150} ✓\n",
      "Modelo: {'criterion': 'gini', 'max_depth': 3, 'max_features': 'auto', 'n_estimators': 5} ✓\n",
      "Modelo: {'criterion': 'gini', 'max_depth': 3, 'max_features': 'auto', 'n_estimators': 20} ✓\n",
      "Modelo: {'criterion': 'gini', 'max_depth': 3, 'max_features': 'auto', 'n_estimators': 50} ✓\n",
      "Modelo: {'criterion': 'gini', 'max_depth': 3, 'max_features': 'auto', 'n_estimators': 100} ✓\n",
      "Modelo: {'criterion': 'gini', 'max_depth': 3, 'max_features': 'auto', 'n_estimators': 150} ✓\n",
      "Modelo: {'criterion': 'gini', 'max_depth': 3, 'max_features': 'sqrt', 'n_estimators': 5} ✓\n",
      "Modelo: {'criterion': 'gini', 'max_depth': 3, 'max_features': 'sqrt', 'n_estimators': 20} ✓\n",
      "Modelo: {'criterion': 'gini', 'max_depth': 3, 'max_features': 'sqrt', 'n_estimators': 50} ✓\n",
      "Modelo: {'criterion': 'gini', 'max_depth': 3, 'max_features': 'sqrt', 'n_estimators': 100} ✓\n",
      "Modelo: {'criterion': 'gini', 'max_depth': 3, 'max_features': 'sqrt', 'n_estimators': 150} ✓\n",
      "Modelo: {'criterion': 'gini', 'max_depth': 5, 'max_features': 5, 'n_estimators': 5} ✓\n",
      "Modelo: {'criterion': 'gini', 'max_depth': 5, 'max_features': 5, 'n_estimators': 20} ✓\n",
      "Modelo: {'criterion': 'gini', 'max_depth': 5, 'max_features': 5, 'n_estimators': 50} ✓\n",
      "Modelo: {'criterion': 'gini', 'max_depth': 5, 'max_features': 5, 'n_estimators': 100} ✓\n",
      "Modelo: {'criterion': 'gini', 'max_depth': 5, 'max_features': 5, 'n_estimators': 150} ✓\n",
      "Modelo: {'criterion': 'gini', 'max_depth': 5, 'max_features': 'log2', 'n_estimators': 5} ✓\n",
      "Modelo: {'criterion': 'gini', 'max_depth': 5, 'max_features': 'log2', 'n_estimators': 20} ✓\n",
      "Modelo: {'criterion': 'gini', 'max_depth': 5, 'max_features': 'log2', 'n_estimators': 50} ✓\n",
      "Modelo: {'criterion': 'gini', 'max_depth': 5, 'max_features': 'log2', 'n_estimators': 100} ✓\n",
      "Modelo: {'criterion': 'gini', 'max_depth': 5, 'max_features': 'log2', 'n_estimators': 150} ✓\n",
      "Modelo: {'criterion': 'gini', 'max_depth': 5, 'max_features': 'auto', 'n_estimators': 5} ✓\n",
      "Modelo: {'criterion': 'gini', 'max_depth': 5, 'max_features': 'auto', 'n_estimators': 20} ✓\n",
      "Modelo: {'criterion': 'gini', 'max_depth': 5, 'max_features': 'auto', 'n_estimators': 50} ✓\n",
      "Modelo: {'criterion': 'gini', 'max_depth': 5, 'max_features': 'auto', 'n_estimators': 100} ✓\n",
      "Modelo: {'criterion': 'gini', 'max_depth': 5, 'max_features': 'auto', 'n_estimators': 150} ✓\n",
      "Modelo: {'criterion': 'gini', 'max_depth': 5, 'max_features': 'sqrt', 'n_estimators': 5} ✓\n",
      "Modelo: {'criterion': 'gini', 'max_depth': 5, 'max_features': 'sqrt', 'n_estimators': 20} ✓\n",
      "Modelo: {'criterion': 'gini', 'max_depth': 5, 'max_features': 'sqrt', 'n_estimators': 50} ✓\n",
      "Modelo: {'criterion': 'gini', 'max_depth': 5, 'max_features': 'sqrt', 'n_estimators': 100} ✓\n",
      "Modelo: {'criterion': 'gini', 'max_depth': 5, 'max_features': 'sqrt', 'n_estimators': 150} ✓\n",
      "Modelo: {'criterion': 'gini', 'max_depth': 7, 'max_features': 5, 'n_estimators': 5} ✓\n",
      "Modelo: {'criterion': 'gini', 'max_depth': 7, 'max_features': 5, 'n_estimators': 20} ✓\n",
      "Modelo: {'criterion': 'gini', 'max_depth': 7, 'max_features': 5, 'n_estimators': 50} ✓\n",
      "Modelo: {'criterion': 'gini', 'max_depth': 7, 'max_features': 5, 'n_estimators': 100} ✓\n",
      "Modelo: {'criterion': 'gini', 'max_depth': 7, 'max_features': 5, 'n_estimators': 150} ✓\n",
      "Modelo: {'criterion': 'gini', 'max_depth': 7, 'max_features': 'log2', 'n_estimators': 5} ✓\n",
      "Modelo: {'criterion': 'gini', 'max_depth': 7, 'max_features': 'log2', 'n_estimators': 20} ✓\n",
      "Modelo: {'criterion': 'gini', 'max_depth': 7, 'max_features': 'log2', 'n_estimators': 50} ✓\n",
      "Modelo: {'criterion': 'gini', 'max_depth': 7, 'max_features': 'log2', 'n_estimators': 100} ✓\n",
      "Modelo: {'criterion': 'gini', 'max_depth': 7, 'max_features': 'log2', 'n_estimators': 150} ✓\n",
      "Modelo: {'criterion': 'gini', 'max_depth': 7, 'max_features': 'auto', 'n_estimators': 5} ✓\n",
      "Modelo: {'criterion': 'gini', 'max_depth': 7, 'max_features': 'auto', 'n_estimators': 20} ✓\n",
      "Modelo: {'criterion': 'gini', 'max_depth': 7, 'max_features': 'auto', 'n_estimators': 50} ✓\n",
      "Modelo: {'criterion': 'gini', 'max_depth': 7, 'max_features': 'auto', 'n_estimators': 100} ✓\n",
      "Modelo: {'criterion': 'gini', 'max_depth': 7, 'max_features': 'auto', 'n_estimators': 150} ✓\n",
      "Modelo: {'criterion': 'gini', 'max_depth': 7, 'max_features': 'sqrt', 'n_estimators': 5} ✓\n",
      "Modelo: {'criterion': 'gini', 'max_depth': 7, 'max_features': 'sqrt', 'n_estimators': 20} ✓\n",
      "Modelo: {'criterion': 'gini', 'max_depth': 7, 'max_features': 'sqrt', 'n_estimators': 50} ✓\n",
      "Modelo: {'criterion': 'gini', 'max_depth': 7, 'max_features': 'sqrt', 'n_estimators': 100} ✓\n",
      "Modelo: {'criterion': 'gini', 'max_depth': 7, 'max_features': 'sqrt', 'n_estimators': 150} ✓\n",
      "Modelo: {'criterion': 'gini', 'max_depth': 10, 'max_features': 5, 'n_estimators': 5} ✓\n",
      "Modelo: {'criterion': 'gini', 'max_depth': 10, 'max_features': 5, 'n_estimators': 20} ✓\n",
      "Modelo: {'criterion': 'gini', 'max_depth': 10, 'max_features': 5, 'n_estimators': 50} ✓\n",
      "Modelo: {'criterion': 'gini', 'max_depth': 10, 'max_features': 5, 'n_estimators': 100} ✓\n",
      "Modelo: {'criterion': 'gini', 'max_depth': 10, 'max_features': 5, 'n_estimators': 150} ✓\n",
      "Modelo: {'criterion': 'gini', 'max_depth': 10, 'max_features': 'log2', 'n_estimators': 5} ✓\n",
      "Modelo: {'criterion': 'gini', 'max_depth': 10, 'max_features': 'log2', 'n_estimators': 20} ✓\n",
      "Modelo: {'criterion': 'gini', 'max_depth': 10, 'max_features': 'log2', 'n_estimators': 50} ✓\n",
      "Modelo: {'criterion': 'gini', 'max_depth': 10, 'max_features': 'log2', 'n_estimators': 100} ✓\n",
      "Modelo: {'criterion': 'gini', 'max_depth': 10, 'max_features': 'log2', 'n_estimators': 150} ✓\n",
      "Modelo: {'criterion': 'gini', 'max_depth': 10, 'max_features': 'auto', 'n_estimators': 5} ✓\n",
      "Modelo: {'criterion': 'gini', 'max_depth': 10, 'max_features': 'auto', 'n_estimators': 20} ✓\n",
      "Modelo: {'criterion': 'gini', 'max_depth': 10, 'max_features': 'auto', 'n_estimators': 50} ✓\n",
      "Modelo: {'criterion': 'gini', 'max_depth': 10, 'max_features': 'auto', 'n_estimators': 100} ✓\n",
      "Modelo: {'criterion': 'gini', 'max_depth': 10, 'max_features': 'auto', 'n_estimators': 150} ✓\n",
      "Modelo: {'criterion': 'gini', 'max_depth': 10, 'max_features': 'sqrt', 'n_estimators': 5} ✓\n",
      "Modelo: {'criterion': 'gini', 'max_depth': 10, 'max_features': 'sqrt', 'n_estimators': 20} ✓\n",
      "Modelo: {'criterion': 'gini', 'max_depth': 10, 'max_features': 'sqrt', 'n_estimators': 50} ✓\n",
      "Modelo: {'criterion': 'gini', 'max_depth': 10, 'max_features': 'sqrt', 'n_estimators': 100} ✓\n",
      "Modelo: {'criterion': 'gini', 'max_depth': 10, 'max_features': 'sqrt', 'n_estimators': 150} ✓\n",
      "Modelo: {'criterion': 'entropy', 'max_depth': None, 'max_features': 5, 'n_estimators': 5} ✓\n",
      "Modelo: {'criterion': 'entropy', 'max_depth': None, 'max_features': 5, 'n_estimators': 20} ✓\n",
      "Modelo: {'criterion': 'entropy', 'max_depth': None, 'max_features': 5, 'n_estimators': 50} ✓\n",
      "Modelo: {'criterion': 'entropy', 'max_depth': None, 'max_features': 5, 'n_estimators': 100} ✓\n",
      "Modelo: {'criterion': 'entropy', 'max_depth': None, 'max_features': 5, 'n_estimators': 150} ✓\n",
      "Modelo: {'criterion': 'entropy', 'max_depth': None, 'max_features': 'log2', 'n_estimators': 5} ✓\n",
      "Modelo: {'criterion': 'entropy', 'max_depth': None, 'max_features': 'log2', 'n_estimators': 20} ✓\n",
      "Modelo: {'criterion': 'entropy', 'max_depth': None, 'max_features': 'log2', 'n_estimators': 50} ✓\n",
      "Modelo: {'criterion': 'entropy', 'max_depth': None, 'max_features': 'log2', 'n_estimators': 100} ✓\n",
      "Modelo: {'criterion': 'entropy', 'max_depth': None, 'max_features': 'log2', 'n_estimators': 150} ✓\n",
      "Modelo: {'criterion': 'entropy', 'max_depth': None, 'max_features': 'auto', 'n_estimators': 5} ✓\n",
      "Modelo: {'criterion': 'entropy', 'max_depth': None, 'max_features': 'auto', 'n_estimators': 20} ✓\n",
      "Modelo: {'criterion': 'entropy', 'max_depth': None, 'max_features': 'auto', 'n_estimators': 50} ✓\n",
      "Modelo: {'criterion': 'entropy', 'max_depth': None, 'max_features': 'auto', 'n_estimators': 100} ✓\n",
      "Modelo: {'criterion': 'entropy', 'max_depth': None, 'max_features': 'auto', 'n_estimators': 150} ✓\n",
      "Modelo: {'criterion': 'entropy', 'max_depth': None, 'max_features': 'sqrt', 'n_estimators': 5} ✓\n",
      "Modelo: {'criterion': 'entropy', 'max_depth': None, 'max_features': 'sqrt', 'n_estimators': 20} ✓\n",
      "Modelo: {'criterion': 'entropy', 'max_depth': None, 'max_features': 'sqrt', 'n_estimators': 50} ✓\n",
      "Modelo: {'criterion': 'entropy', 'max_depth': None, 'max_features': 'sqrt', 'n_estimators': 100} ✓\n",
      "Modelo: {'criterion': 'entropy', 'max_depth': None, 'max_features': 'sqrt', 'n_estimators': 150} ✓\n",
      "Modelo: {'criterion': 'entropy', 'max_depth': 3, 'max_features': 5, 'n_estimators': 5} ✓\n",
      "Modelo: {'criterion': 'entropy', 'max_depth': 3, 'max_features': 5, 'n_estimators': 20} ✓\n",
      "Modelo: {'criterion': 'entropy', 'max_depth': 3, 'max_features': 5, 'n_estimators': 50} ✓\n",
      "Modelo: {'criterion': 'entropy', 'max_depth': 3, 'max_features': 5, 'n_estimators': 100} ✓\n",
      "Modelo: {'criterion': 'entropy', 'max_depth': 3, 'max_features': 5, 'n_estimators': 150} ✓\n",
      "Modelo: {'criterion': 'entropy', 'max_depth': 3, 'max_features': 'log2', 'n_estimators': 5} ✓\n",
      "Modelo: {'criterion': 'entropy', 'max_depth': 3, 'max_features': 'log2', 'n_estimators': 20} ✓\n",
      "Modelo: {'criterion': 'entropy', 'max_depth': 3, 'max_features': 'log2', 'n_estimators': 50} ✓\n",
      "Modelo: {'criterion': 'entropy', 'max_depth': 3, 'max_features': 'log2', 'n_estimators': 100} ✓\n",
      "Modelo: {'criterion': 'entropy', 'max_depth': 3, 'max_features': 'log2', 'n_estimators': 150} ✓\n",
      "Modelo: {'criterion': 'entropy', 'max_depth': 3, 'max_features': 'auto', 'n_estimators': 5} ✓\n",
      "Modelo: {'criterion': 'entropy', 'max_depth': 3, 'max_features': 'auto', 'n_estimators': 20} ✓\n",
      "Modelo: {'criterion': 'entropy', 'max_depth': 3, 'max_features': 'auto', 'n_estimators': 50} ✓\n",
      "Modelo: {'criterion': 'entropy', 'max_depth': 3, 'max_features': 'auto', 'n_estimators': 100} ✓\n",
      "Modelo: {'criterion': 'entropy', 'max_depth': 3, 'max_features': 'auto', 'n_estimators': 150} ✓\n",
      "Modelo: {'criterion': 'entropy', 'max_depth': 3, 'max_features': 'sqrt', 'n_estimators': 5} ✓\n",
      "Modelo: {'criterion': 'entropy', 'max_depth': 3, 'max_features': 'sqrt', 'n_estimators': 20} ✓\n",
      "Modelo: {'criterion': 'entropy', 'max_depth': 3, 'max_features': 'sqrt', 'n_estimators': 50} ✓\n",
      "Modelo: {'criterion': 'entropy', 'max_depth': 3, 'max_features': 'sqrt', 'n_estimators': 100} ✓\n",
      "Modelo: {'criterion': 'entropy', 'max_depth': 3, 'max_features': 'sqrt', 'n_estimators': 150} ✓\n",
      "Modelo: {'criterion': 'entropy', 'max_depth': 5, 'max_features': 5, 'n_estimators': 5} ✓\n",
      "Modelo: {'criterion': 'entropy', 'max_depth': 5, 'max_features': 5, 'n_estimators': 20} ✓\n",
      "Modelo: {'criterion': 'entropy', 'max_depth': 5, 'max_features': 5, 'n_estimators': 50} ✓\n",
      "Modelo: {'criterion': 'entropy', 'max_depth': 5, 'max_features': 5, 'n_estimators': 100} ✓\n",
      "Modelo: {'criterion': 'entropy', 'max_depth': 5, 'max_features': 5, 'n_estimators': 150} ✓\n",
      "Modelo: {'criterion': 'entropy', 'max_depth': 5, 'max_features': 'log2', 'n_estimators': 5} ✓\n",
      "Modelo: {'criterion': 'entropy', 'max_depth': 5, 'max_features': 'log2', 'n_estimators': 20} ✓\n",
      "Modelo: {'criterion': 'entropy', 'max_depth': 5, 'max_features': 'log2', 'n_estimators': 50} ✓\n",
      "Modelo: {'criterion': 'entropy', 'max_depth': 5, 'max_features': 'log2', 'n_estimators': 100} ✓\n",
      "Modelo: {'criterion': 'entropy', 'max_depth': 5, 'max_features': 'log2', 'n_estimators': 150} ✓\n",
      "Modelo: {'criterion': 'entropy', 'max_depth': 5, 'max_features': 'auto', 'n_estimators': 5} ✓\n",
      "Modelo: {'criterion': 'entropy', 'max_depth': 5, 'max_features': 'auto', 'n_estimators': 20} ✓\n",
      "Modelo: {'criterion': 'entropy', 'max_depth': 5, 'max_features': 'auto', 'n_estimators': 50} ✓\n",
      "Modelo: {'criterion': 'entropy', 'max_depth': 5, 'max_features': 'auto', 'n_estimators': 100} ✓\n",
      "Modelo: {'criterion': 'entropy', 'max_depth': 5, 'max_features': 'auto', 'n_estimators': 150} ✓\n",
      "Modelo: {'criterion': 'entropy', 'max_depth': 5, 'max_features': 'sqrt', 'n_estimators': 5} ✓\n",
      "Modelo: {'criterion': 'entropy', 'max_depth': 5, 'max_features': 'sqrt', 'n_estimators': 20} ✓\n",
      "Modelo: {'criterion': 'entropy', 'max_depth': 5, 'max_features': 'sqrt', 'n_estimators': 50} ✓\n",
      "Modelo: {'criterion': 'entropy', 'max_depth': 5, 'max_features': 'sqrt', 'n_estimators': 100} ✓\n",
      "Modelo: {'criterion': 'entropy', 'max_depth': 5, 'max_features': 'sqrt', 'n_estimators': 150} ✓\n",
      "Modelo: {'criterion': 'entropy', 'max_depth': 7, 'max_features': 5, 'n_estimators': 5} ✓\n",
      "Modelo: {'criterion': 'entropy', 'max_depth': 7, 'max_features': 5, 'n_estimators': 20} ✓\n",
      "Modelo: {'criterion': 'entropy', 'max_depth': 7, 'max_features': 5, 'n_estimators': 50} ✓\n",
      "Modelo: {'criterion': 'entropy', 'max_depth': 7, 'max_features': 5, 'n_estimators': 100} ✓\n",
      "Modelo: {'criterion': 'entropy', 'max_depth': 7, 'max_features': 5, 'n_estimators': 150} ✓\n",
      "Modelo: {'criterion': 'entropy', 'max_depth': 7, 'max_features': 'log2', 'n_estimators': 5} ✓\n",
      "Modelo: {'criterion': 'entropy', 'max_depth': 7, 'max_features': 'log2', 'n_estimators': 20} ✓\n",
      "Modelo: {'criterion': 'entropy', 'max_depth': 7, 'max_features': 'log2', 'n_estimators': 50} ✓\n",
      "Modelo: {'criterion': 'entropy', 'max_depth': 7, 'max_features': 'log2', 'n_estimators': 100} ✓\n",
      "Modelo: {'criterion': 'entropy', 'max_depth': 7, 'max_features': 'log2', 'n_estimators': 150} ✓\n",
      "Modelo: {'criterion': 'entropy', 'max_depth': 7, 'max_features': 'auto', 'n_estimators': 5} ✓\n",
      "Modelo: {'criterion': 'entropy', 'max_depth': 7, 'max_features': 'auto', 'n_estimators': 20} ✓\n",
      "Modelo: {'criterion': 'entropy', 'max_depth': 7, 'max_features': 'auto', 'n_estimators': 50} ✓\n",
      "Modelo: {'criterion': 'entropy', 'max_depth': 7, 'max_features': 'auto', 'n_estimators': 100} ✓\n",
      "Modelo: {'criterion': 'entropy', 'max_depth': 7, 'max_features': 'auto', 'n_estimators': 150} ✓\n",
      "Modelo: {'criterion': 'entropy', 'max_depth': 7, 'max_features': 'sqrt', 'n_estimators': 5} ✓\n",
      "Modelo: {'criterion': 'entropy', 'max_depth': 7, 'max_features': 'sqrt', 'n_estimators': 20} ✓\n",
      "Modelo: {'criterion': 'entropy', 'max_depth': 7, 'max_features': 'sqrt', 'n_estimators': 50} ✓\n",
      "Modelo: {'criterion': 'entropy', 'max_depth': 7, 'max_features': 'sqrt', 'n_estimators': 100} ✓\n",
      "Modelo: {'criterion': 'entropy', 'max_depth': 7, 'max_features': 'sqrt', 'n_estimators': 150} ✓\n",
      "Modelo: {'criterion': 'entropy', 'max_depth': 10, 'max_features': 5, 'n_estimators': 5} ✓\n",
      "Modelo: {'criterion': 'entropy', 'max_depth': 10, 'max_features': 5, 'n_estimators': 20} ✓\n",
      "Modelo: {'criterion': 'entropy', 'max_depth': 10, 'max_features': 5, 'n_estimators': 50} ✓\n",
      "Modelo: {'criterion': 'entropy', 'max_depth': 10, 'max_features': 5, 'n_estimators': 100} ✓\n",
      "Modelo: {'criterion': 'entropy', 'max_depth': 10, 'max_features': 5, 'n_estimators': 150} ✓\n",
      "Modelo: {'criterion': 'entropy', 'max_depth': 10, 'max_features': 'log2', 'n_estimators': 5} ✓\n",
      "Modelo: {'criterion': 'entropy', 'max_depth': 10, 'max_features': 'log2', 'n_estimators': 20} ✓\n",
      "Modelo: {'criterion': 'entropy', 'max_depth': 10, 'max_features': 'log2', 'n_estimators': 50} ✓\n",
      "Modelo: {'criterion': 'entropy', 'max_depth': 10, 'max_features': 'log2', 'n_estimators': 100} ✓\n",
      "Modelo: {'criterion': 'entropy', 'max_depth': 10, 'max_features': 'log2', 'n_estimators': 150} ✓\n",
      "Modelo: {'criterion': 'entropy', 'max_depth': 10, 'max_features': 'auto', 'n_estimators': 5} ✓\n",
      "Modelo: {'criterion': 'entropy', 'max_depth': 10, 'max_features': 'auto', 'n_estimators': 20} ✓\n",
      "Modelo: {'criterion': 'entropy', 'max_depth': 10, 'max_features': 'auto', 'n_estimators': 50} ✓\n",
      "Modelo: {'criterion': 'entropy', 'max_depth': 10, 'max_features': 'auto', 'n_estimators': 100} ✓\n",
      "Modelo: {'criterion': 'entropy', 'max_depth': 10, 'max_features': 'auto', 'n_estimators': 150} ✓\n",
      "Modelo: {'criterion': 'entropy', 'max_depth': 10, 'max_features': 'sqrt', 'n_estimators': 5} ✓\n",
      "Modelo: {'criterion': 'entropy', 'max_depth': 10, 'max_features': 'sqrt', 'n_estimators': 20} ✓\n",
      "Modelo: {'criterion': 'entropy', 'max_depth': 10, 'max_features': 'sqrt', 'n_estimators': 50} ✓\n",
      "Modelo: {'criterion': 'entropy', 'max_depth': 10, 'max_features': 'sqrt', 'n_estimators': 100} ✓\n",
      "Modelo: {'criterion': 'entropy', 'max_depth': 10, 'max_features': 'sqrt', 'n_estimators': 150} ✓\n"
     ]
    }
   ],
   "source": [
    "for params in param_grid:\n",
    "    \n",
    "    modelo = RandomForestClassifier(\n",
    "                oob_score    = True,\n",
    "                n_jobs       = -1,\n",
    "                random_state = 123,\n",
    "                ** params\n",
    "             )\n",
    "    \n",
    "    modelo.fit(train_x, train_y)\n",
    "    \n",
    "    resultados['params'].append(params)\n",
    "    resultados['oob_accuracy'].append(modelo.oob_score_)\n",
    "    print(f\"Modelo: {params} \\u2713\")"
   ]
  },
  {
   "cell_type": "code",
   "execution_count": 31,
   "id": "lonely-perception",
   "metadata": {},
   "outputs": [
    {
     "data": {
      "text/html": [
       "<div>\n",
       "<style scoped>\n",
       "    .dataframe tbody tr th:only-of-type {\n",
       "        vertical-align: middle;\n",
       "    }\n",
       "\n",
       "    .dataframe tbody tr th {\n",
       "        vertical-align: top;\n",
       "    }\n",
       "\n",
       "    .dataframe thead th {\n",
       "        text-align: right;\n",
       "    }\n",
       "</style>\n",
       "<table border=\"1\" class=\"dataframe\">\n",
       "  <thead>\n",
       "    <tr style=\"text-align: right;\">\n",
       "      <th></th>\n",
       "      <th>oob_accuracy</th>\n",
       "      <th>criterion</th>\n",
       "      <th>max_depth</th>\n",
       "      <th>max_features</th>\n",
       "      <th>n_estimators</th>\n",
       "    </tr>\n",
       "  </thead>\n",
       "  <tbody>\n",
       "    <tr>\n",
       "      <th>104</th>\n",
       "      <td>0.993866</td>\n",
       "      <td>entropy</td>\n",
       "      <td>NaN</td>\n",
       "      <td>5</td>\n",
       "      <td>150</td>\n",
       "    </tr>\n",
       "    <tr>\n",
       "      <th>114</th>\n",
       "      <td>0.993839</td>\n",
       "      <td>entropy</td>\n",
       "      <td>NaN</td>\n",
       "      <td>auto</td>\n",
       "      <td>150</td>\n",
       "    </tr>\n",
       "    <tr>\n",
       "      <th>119</th>\n",
       "      <td>0.993839</td>\n",
       "      <td>entropy</td>\n",
       "      <td>NaN</td>\n",
       "      <td>sqrt</td>\n",
       "      <td>150</td>\n",
       "    </tr>\n",
       "    <tr>\n",
       "      <th>9</th>\n",
       "      <td>0.993812</td>\n",
       "      <td>gini</td>\n",
       "      <td>NaN</td>\n",
       "      <td>log2</td>\n",
       "      <td>150</td>\n",
       "    </tr>\n",
       "    <tr>\n",
       "      <th>14</th>\n",
       "      <td>0.993785</td>\n",
       "      <td>gini</td>\n",
       "      <td>NaN</td>\n",
       "      <td>auto</td>\n",
       "      <td>150</td>\n",
       "    </tr>\n",
       "    <tr>\n",
       "      <th>19</th>\n",
       "      <td>0.993785</td>\n",
       "      <td>gini</td>\n",
       "      <td>NaN</td>\n",
       "      <td>sqrt</td>\n",
       "      <td>150</td>\n",
       "    </tr>\n",
       "    <tr>\n",
       "      <th>109</th>\n",
       "      <td>0.993744</td>\n",
       "      <td>entropy</td>\n",
       "      <td>NaN</td>\n",
       "      <td>log2</td>\n",
       "      <td>150</td>\n",
       "    </tr>\n",
       "    <tr>\n",
       "      <th>4</th>\n",
       "      <td>0.993730</td>\n",
       "      <td>gini</td>\n",
       "      <td>NaN</td>\n",
       "      <td>5</td>\n",
       "      <td>150</td>\n",
       "    </tr>\n",
       "    <tr>\n",
       "      <th>103</th>\n",
       "      <td>0.993690</td>\n",
       "      <td>entropy</td>\n",
       "      <td>NaN</td>\n",
       "      <td>5</td>\n",
       "      <td>100</td>\n",
       "    </tr>\n",
       "    <tr>\n",
       "      <th>118</th>\n",
       "      <td>0.993690</td>\n",
       "      <td>entropy</td>\n",
       "      <td>NaN</td>\n",
       "      <td>sqrt</td>\n",
       "      <td>100</td>\n",
       "    </tr>\n",
       "  </tbody>\n",
       "</table>\n",
       "</div>"
      ],
      "text/plain": [
       "     oob_accuracy criterion  max_depth max_features  n_estimators\n",
       "104      0.993866   entropy        NaN            5           150\n",
       "114      0.993839   entropy        NaN         auto           150\n",
       "119      0.993839   entropy        NaN         sqrt           150\n",
       "9        0.993812      gini        NaN         log2           150\n",
       "14       0.993785      gini        NaN         auto           150\n",
       "19       0.993785      gini        NaN         sqrt           150\n",
       "109      0.993744   entropy        NaN         log2           150\n",
       "4        0.993730      gini        NaN            5           150\n",
       "103      0.993690   entropy        NaN            5           100\n",
       "118      0.993690   entropy        NaN         sqrt           100"
      ]
     },
     "execution_count": 31,
     "metadata": {},
     "output_type": "execute_result"
    }
   ],
   "source": [
    "resultados = pd.DataFrame(resultados)\n",
    "resultados = pd.concat([resultados, resultados['params'].apply(pd.Series)], axis=1)\n",
    "resultados = resultados.drop(columns = 'params')\n",
    "resultados = resultados.sort_values('oob_accuracy', ascending=False)\n",
    "resultados.head(10)"
   ]
  },
  {
   "cell_type": "markdown",
   "id": "31669bd2-f71a-46f1-9e78-c0b596620939",
   "metadata": {},
   "source": [
    "**Seleccionamos los mejores hiperparámetros**"
   ]
  },
  {
   "cell_type": "code",
   "execution_count": 32,
   "id": "995db6cf-2e2d-4ad4-b2f9-ddf2583c2f67",
   "metadata": {},
   "outputs": [
    {
     "name": "stdout",
     "output_type": "stream",
     "text": [
      "Mejores hiperparámetros encontrados (oob-accuracy)\n",
      "--------------------------------------------------\n",
      "Estimators: \n",
      " oob_accuracy    0.993866\n",
      "criterion        entropy\n",
      "max_depth            NaN\n",
      "max_features           5\n",
      "n_estimators         150\n",
      "Name: 104, dtype: object accuracy\n"
     ]
    }
   ],
   "source": [
    "print(\"Mejores hiperparámetros encontrados (oob-accuracy)\")\n",
    "print('--------------------------------------------------')\n",
    "print(\"Estimators: \\n\", resultados.iloc[0,:], \"accuracy\")"
   ]
  },
  {
   "cell_type": "markdown",
   "id": "b464f98b-0919-4273-be3b-294a6af461a4",
   "metadata": {},
   "source": [
    "--------------"
   ]
  },
  {
   "cell_type": "markdown",
   "id": "c3d00647-8597-41e9-87ba-392768dafae8",
   "metadata": {},
   "source": [
    "--------------"
   ]
  },
  {
   "cell_type": "markdown",
   "id": "52564134-88e7-45ce-8cce-2bd313130de9",
   "metadata": {},
   "source": [
    "#### 4.4 Modelo 1 - Baseline"
   ]
  },
  {
   "cell_type": "markdown",
   "id": "cc1c45b7-f093-4da3-ae96-17a9e5aed5e7",
   "metadata": {},
   "source": [
    "Nuestro modelo Base, tendrá los parámetros obtenidos como mejores anteriormente."
   ]
  },
  {
   "cell_type": "markdown",
   "id": "658340b2-5b18-4c3c-9bf6-aa9110185835",
   "metadata": {},
   "source": [
    "**Aplicamos los mejores hiperparámetros obtenidos**"
   ]
  },
  {
   "cell_type": "code",
   "execution_count": 33,
   "id": "insured-combine",
   "metadata": {},
   "outputs": [
    {
     "data": {
      "text/plain": [
       "RandomForestClassifier(criterion='entropy', max_features=5, n_estimators=150,\n",
       "                       n_jobs=-1, random_state=123)"
      ]
     },
     "execution_count": 33,
     "metadata": {},
     "output_type": "execute_result"
    }
   ],
   "source": [
    "rf = RandomForestClassifier(criterion = 'entropy', \n",
    "                            n_estimators = 150, \n",
    "                            max_features = 5, \n",
    "                            max_depth = None, \n",
    "                            n_jobs = -1,\n",
    "                            random_state = 123)\n",
    "\n",
    "rf.fit(train_x, train_y)"
   ]
  },
  {
   "cell_type": "markdown",
   "id": "2dbc7f8f-39ee-43df-9406-a0cc0f1e7dca",
   "metadata": {},
   "source": [
    "Observamos los resultados del modelo"
   ]
  },
  {
   "cell_type": "code",
   "execution_count": 34,
   "id": "99b3e8cf-d083-4675-bffd-fd9ef66a201d",
   "metadata": {},
   "outputs": [
    {
     "data": {
      "image/png": "[encoded data removed]",
      "text/plain": [
       "<Figure size 576x576 with 2 Axes>"
      ]
     },
     "metadata": {
      "needs_background": "light"
     },
     "output_type": "display_data"
    },
    {
     "name": "stdout",
     "output_type": "stream",
     "text": [
      "              precision    recall  f1-score   support\n",
      "\n",
      "           0       0.99      1.00      1.00     29536\n",
      "           1       1.00      0.91      0.95      2114\n",
      "\n",
      "    accuracy                           0.99     31650\n",
      "   macro avg       1.00      0.96      0.98     31650\n",
      "weighted avg       0.99      0.99      0.99     31650\n",
      "\n"
     ]
    }
   ],
   "source": [
    "pred_y = rf.predict(test_x)\n",
    "mostrar_resultados(test_y, pred_y)"
   ]
  },
  {
   "cell_type": "code",
   "execution_count": 35,
   "id": "demographic-means",
   "metadata": {},
   "outputs": [],
   "source": [
    "feature_importances = pd.DataFrame(rf.feature_importances_, index = train_x.columns, columns = ['important']).sort_values(['important'], ascending = 0)"
   ]
  },
  {
   "cell_type": "code",
   "execution_count": 36,
   "id": "unlikely-holder",
   "metadata": {
    "tags": []
   },
   "outputs": [
    {
     "data": {
      "text/html": [
       "<div>\n",
       "<style scoped>\n",
       "    .dataframe tbody tr th:only-of-type {\n",
       "        vertical-align: middle;\n",
       "    }\n",
       "\n",
       "    .dataframe tbody tr th {\n",
       "        vertical-align: top;\n",
       "    }\n",
       "\n",
       "    .dataframe thead th {\n",
       "        text-align: right;\n",
       "    }\n",
       "</style>\n",
       "<table border=\"1\" class=\"dataframe\">\n",
       "  <thead>\n",
       "    <tr style=\"text-align: right;\">\n",
       "      <th></th>\n",
       "      <th>important</th>\n",
       "    </tr>\n",
       "  </thead>\n",
       "  <tbody>\n",
       "    <tr>\n",
       "      <th>FICH_PROMO_TOT</th>\n",
       "      <td>20.921023</td>\n",
       "    </tr>\n",
       "    <tr>\n",
       "      <th>IPCASOS</th>\n",
       "      <td>5.658599</td>\n",
       "    </tr>\n",
       "    <tr>\n",
       "      <th>PERF_PROMO_TOT</th>\n",
       "      <td>4.356885</td>\n",
       "    </tr>\n",
       "    <tr>\n",
       "      <th>CANAL_REGISTRO_1</th>\n",
       "      <td>3.271670</td>\n",
       "    </tr>\n",
       "    <tr>\n",
       "      <th>USU_DEPART_IDH</th>\n",
       "      <td>2.959912</td>\n",
       "    </tr>\n",
       "    <tr>\n",
       "      <th>USU_DEPART_DEN_POB</th>\n",
       "      <td>2.942024</td>\n",
       "    </tr>\n",
       "    <tr>\n",
       "      <th>1A_DESCGRUPOPROD_PERF_PROMO</th>\n",
       "      <td>2.781481</td>\n",
       "    </tr>\n",
       "    <tr>\n",
       "      <th>1A_DESCGRUPOPROD_FICH_PROMO</th>\n",
       "      <td>2.284263</td>\n",
       "    </tr>\n",
       "    <tr>\n",
       "      <th>USU_TIPO_EMPRESARIO INDIVIDUAL</th>\n",
       "      <td>2.202551</td>\n",
       "    </tr>\n",
       "    <tr>\n",
       "      <th>TIPOEMAIL_GOOHOTYAHMAIL</th>\n",
       "      <td>2.067120</td>\n",
       "    </tr>\n",
       "    <tr>\n",
       "      <th>TIPOEMAIL_SINCLASIFICAR</th>\n",
       "      <td>1.752324</td>\n",
       "    </tr>\n",
       "    <tr>\n",
       "      <th>CANAL_REGISTRO_3</th>\n",
       "      <td>1.739631</td>\n",
       "    </tr>\n",
       "    <tr>\n",
       "      <th>CANAL_REGISTRO_4</th>\n",
       "      <td>1.669274</td>\n",
       "    </tr>\n",
       "    <tr>\n",
       "      <th>USU_TIPO_SOC_COMERCIAL_INDUSTRIAL</th>\n",
       "      <td>1.627865</td>\n",
       "    </tr>\n",
       "    <tr>\n",
       "      <th>USU_TAMANIO_MC</th>\n",
       "      <td>1.488118</td>\n",
       "    </tr>\n",
       "    <tr>\n",
       "      <th>IP_COUNTRY_IDH_NUM</th>\n",
       "      <td>1.378052</td>\n",
       "    </tr>\n",
       "    <tr>\n",
       "      <th>IP_COUNTRY_PIB_NI</th>\n",
       "      <td>1.255592</td>\n",
       "    </tr>\n",
       "    <tr>\n",
       "      <th>IP_CONTINENTE_AMERICA_SUR</th>\n",
       "      <td>1.251564</td>\n",
       "    </tr>\n",
       "    <tr>\n",
       "      <th>TIPO_TELF_MOVIL</th>\n",
       "      <td>1.206125</td>\n",
       "    </tr>\n",
       "    <tr>\n",
       "      <th>USU_TIPO_ENTIDAD_HOLDING</th>\n",
       "      <td>1.171838</td>\n",
       "    </tr>\n",
       "    <tr>\n",
       "      <th>BONDAD_EMAIL</th>\n",
       "      <td>1.138583</td>\n",
       "    </tr>\n",
       "    <tr>\n",
       "      <th>1A_EMPCONSUL_SECTOR_TERCIARIO</th>\n",
       "      <td>1.136852</td>\n",
       "    </tr>\n",
       "    <tr>\n",
       "      <th>IP_COUNTRY_PIB_Ingreso mediano alto</th>\n",
       "      <td>1.131457</td>\n",
       "    </tr>\n",
       "    <tr>\n",
       "      <th>TIPO_TELF_EXTRANJERO</th>\n",
       "      <td>1.125847</td>\n",
       "    </tr>\n",
       "    <tr>\n",
       "      <th>TIPOEMAIL_CORPORATIVO</th>\n",
       "      <td>1.101656</td>\n",
       "    </tr>\n",
       "    <tr>\n",
       "      <th>USU_SECTOR_ECONOMICO_TERCIARIO</th>\n",
       "      <td>1.059633</td>\n",
       "    </tr>\n",
       "    <tr>\n",
       "      <th>USU_TAMANIO_PQ</th>\n",
       "      <td>1.033066</td>\n",
       "    </tr>\n",
       "    <tr>\n",
       "      <th>1A_EMPCONSUL_SECTOR_SECUNDARIO</th>\n",
       "      <td>1.017872</td>\n",
       "    </tr>\n",
       "  </tbody>\n",
       "</table>\n",
       "</div>"
      ],
      "text/plain": [
       "                                     important\n",
       "FICH_PROMO_TOT                       20.921023\n",
       "IPCASOS                               5.658599\n",
       "PERF_PROMO_TOT                        4.356885\n",
       "CANAL_REGISTRO_1                      3.271670\n",
       "USU_DEPART_IDH                        2.959912\n",
       "USU_DEPART_DEN_POB                    2.942024\n",
       "1A_DESCGRUPOPROD_PERF_PROMO           2.781481\n",
       "1A_DESCGRUPOPROD_FICH_PROMO           2.284263\n",
       "USU_TIPO_EMPRESARIO INDIVIDUAL        2.202551\n",
       "TIPOEMAIL_GOOHOTYAHMAIL               2.067120\n",
       "TIPOEMAIL_SINCLASIFICAR               1.752324\n",
       "CANAL_REGISTRO_3                      1.739631\n",
       "CANAL_REGISTRO_4                      1.669274\n",
       "USU_TIPO_SOC_COMERCIAL_INDUSTRIAL     1.627865\n",
       "USU_TAMANIO_MC                        1.488118\n",
       "IP_COUNTRY_IDH_NUM                    1.378052\n",
       "IP_COUNTRY_PIB_NI                     1.255592\n",
       "IP_CONTINENTE_AMERICA_SUR             1.251564\n",
       "TIPO_TELF_MOVIL                       1.206125\n",
       "USU_TIPO_ENTIDAD_HOLDING              1.171838\n",
       "BONDAD_EMAIL                          1.138583\n",
       "1A_EMPCONSUL_SECTOR_TERCIARIO         1.136852\n",
       "IP_COUNTRY_PIB_Ingreso mediano alto   1.131457\n",
       "TIPO_TELF_EXTRANJERO                  1.125847\n",
       "TIPOEMAIL_CORPORATIVO                 1.101656\n",
       "USU_SECTOR_ECONOMICO_TERCIARIO        1.059633\n",
       "USU_TAMANIO_PQ                        1.033066\n",
       "1A_EMPCONSUL_SECTOR_SECUNDARIO        1.017872"
      ]
     },
     "execution_count": 36,
     "metadata": {},
     "output_type": "execute_result"
    }
   ],
   "source": [
    "feature_importances[feature_importances['important'] > 0.01]*100"
   ]
  },
  {
   "cell_type": "code",
   "execution_count": 37,
   "id": "3daff4e8-5a98-4a0a-84e7-f63f59d3da77",
   "metadata": {},
   "outputs": [
    {
     "data": {
      "text/plain": [
       "(28, 1)"
      ]
     },
     "execution_count": 37,
     "metadata": {},
     "output_type": "execute_result"
    }
   ],
   "source": [
    "feature_importances[feature_importances['important'] > 0.01].shape"
   ]
  },
  {
   "cell_type": "markdown",
   "id": "cc4e389e-3f00-4e28-b6c9-fa04010869c8",
   "metadata": {},
   "source": [
    "------"
   ]
  },
  {
   "cell_type": "markdown",
   "id": "fa879172-3154-4fad-83fa-09146606af6c",
   "metadata": {},
   "source": [
    "------"
   ]
  },
  {
   "cell_type": "markdown",
   "id": "f6e60ac6-fa15-478e-8be0-3c9bff9c2ae9",
   "metadata": {},
   "source": [
    "------"
   ]
  },
  {
   "cell_type": "markdown",
   "id": "47f29614-b625-4eb1-83dc-528963d4c00d",
   "metadata": {},
   "source": [
    "#### 4.5 Modelo - Aplicando técnicas sobre el desbalanceo"
   ]
  },
  {
   "cell_type": "markdown",
   "id": "5fb1a513-7e01-444f-812b-6efd1d893277",
   "metadata": {},
   "source": [
    "**Estrategias para el manejo de Datos Desbalanceados**"
   ]
  },
  {
   "cell_type": "markdown",
   "id": "94c1c9aa-592c-49a1-a987-f34de8a6ca26",
   "metadata": {},
   "source": [
    "##### **4.5.1 Penalización para compensar**"
   ]
  },
  {
   "cell_type": "code",
   "execution_count": 38,
   "id": "68d9cb0f-71a0-4c56-8d1f-4b4e58225bb3",
   "metadata": {},
   "outputs": [
    {
     "data": {
      "text/plain": [
       "RandomForestClassifier(class_weight='balanced', criterion='entropy',\n",
       "                       max_features=5, n_estimators=150, n_jobs=-1,\n",
       "                       random_state=123)"
      ]
     },
     "execution_count": 38,
     "metadata": {},
     "output_type": "execute_result"
    }
   ],
   "source": [
    "rf = RandomForestClassifier(criterion = 'entropy', \n",
    "                            n_estimators = 150, \n",
    "                            max_features = 5, \n",
    "                            max_depth = None,\n",
    "                            n_jobs = -1,\n",
    "                            random_state = 123,\n",
    "                            class_weight = 'balanced')\n",
    "\n",
    "rf.fit(train_x, train_y)"
   ]
  },
  {
   "cell_type": "markdown",
   "id": "772de399-3c9a-45e2-bb46-7b8879171905",
   "metadata": {},
   "source": [
    "Observamos los resultados del modelo"
   ]
  },
  {
   "cell_type": "code",
   "execution_count": 39,
   "id": "929e3a5f-4060-49bc-ad6e-773ee3eb2006",
   "metadata": {},
   "outputs": [
    {
     "data": {
      "image/png": "[encoded data removed]",
      "text/plain": [
       "<Figure size 576x576 with 2 Axes>"
      ]
     },
     "metadata": {
      "needs_background": "light"
     },
     "output_type": "display_data"
    },
    {
     "name": "stdout",
     "output_type": "stream",
     "text": [
      "              precision    recall  f1-score   support\n",
      "\n",
      "           0       0.99      1.00      1.00     29536\n",
      "           1       1.00      0.91      0.95      2114\n",
      "\n",
      "    accuracy                           0.99     31650\n",
      "   macro avg       1.00      0.96      0.98     31650\n",
      "weighted avg       0.99      0.99      0.99     31650\n",
      "\n"
     ]
    }
   ],
   "source": [
    "pred_y = rf.predict(test_x)\n",
    "mostrar_resultados(test_y, pred_y)"
   ]
  },
  {
   "cell_type": "code",
   "execution_count": 40,
   "id": "f033c9e1-80e2-4add-8a87-b55d71949991",
   "metadata": {},
   "outputs": [],
   "source": [
    "feature_importances = pd.DataFrame(rf.feature_importances_, index = train_x.columns, columns = ['important']).sort_values(['important'], ascending = 0)"
   ]
  },
  {
   "cell_type": "code",
   "execution_count": 41,
   "id": "dfaae28a-1da4-45b8-b89c-3f235d98a5bd",
   "metadata": {
    "tags": []
   },
   "outputs": [
    {
     "data": {
      "text/html": [
       "<div>\n",
       "<style scoped>\n",
       "    .dataframe tbody tr th:only-of-type {\n",
       "        vertical-align: middle;\n",
       "    }\n",
       "\n",
       "    .dataframe tbody tr th {\n",
       "        vertical-align: top;\n",
       "    }\n",
       "\n",
       "    .dataframe thead th {\n",
       "        text-align: right;\n",
       "    }\n",
       "</style>\n",
       "<table border=\"1\" class=\"dataframe\">\n",
       "  <thead>\n",
       "    <tr style=\"text-align: right;\">\n",
       "      <th></th>\n",
       "      <th>important</th>\n",
       "    </tr>\n",
       "  </thead>\n",
       "  <tbody>\n",
       "    <tr>\n",
       "      <th>FICH_PROMO_TOT</th>\n",
       "      <td>20.486402</td>\n",
       "    </tr>\n",
       "    <tr>\n",
       "      <th>IPCASOS</th>\n",
       "      <td>5.142025</td>\n",
       "    </tr>\n",
       "    <tr>\n",
       "      <th>PERF_PROMO_TOT</th>\n",
       "      <td>3.941950</td>\n",
       "    </tr>\n",
       "    <tr>\n",
       "      <th>USU_DEPART_IDH</th>\n",
       "      <td>3.199462</td>\n",
       "    </tr>\n",
       "    <tr>\n",
       "      <th>USU_DEPART_DEN_POB</th>\n",
       "      <td>3.129798</td>\n",
       "    </tr>\n",
       "    <tr>\n",
       "      <th>USU_TIPO_EMPRESARIO INDIVIDUAL</th>\n",
       "      <td>2.974648</td>\n",
       "    </tr>\n",
       "    <tr>\n",
       "      <th>1A_DESCGRUPOPROD_PERF_PROMO</th>\n",
       "      <td>2.941022</td>\n",
       "    </tr>\n",
       "    <tr>\n",
       "      <th>CANAL_REGISTRO_1</th>\n",
       "      <td>2.748647</td>\n",
       "    </tr>\n",
       "    <tr>\n",
       "      <th>1A_DESCGRUPOPROD_FICH_PROMO</th>\n",
       "      <td>2.589308</td>\n",
       "    </tr>\n",
       "    <tr>\n",
       "      <th>TIPOEMAIL_GOOHOTYAHMAIL</th>\n",
       "      <td>2.396887</td>\n",
       "    </tr>\n",
       "    <tr>\n",
       "      <th>USU_TIPO_SOC_COMERCIAL_INDUSTRIAL</th>\n",
       "      <td>1.899610</td>\n",
       "    </tr>\n",
       "    <tr>\n",
       "      <th>CANAL_REGISTRO_3</th>\n",
       "      <td>1.886095</td>\n",
       "    </tr>\n",
       "    <tr>\n",
       "      <th>USU_TAMANIO_MC</th>\n",
       "      <td>1.650298</td>\n",
       "    </tr>\n",
       "    <tr>\n",
       "      <th>IP_COUNTRY_IDH_NUM</th>\n",
       "      <td>1.502435</td>\n",
       "    </tr>\n",
       "    <tr>\n",
       "      <th>IP_COUNTRY_PIB_NI</th>\n",
       "      <td>1.400230</td>\n",
       "    </tr>\n",
       "    <tr>\n",
       "      <th>IP_COUNTRY_PIB_Ingreso mediano alto</th>\n",
       "      <td>1.377201</td>\n",
       "    </tr>\n",
       "    <tr>\n",
       "      <th>BONDAD_EMAIL</th>\n",
       "      <td>1.362356</td>\n",
       "    </tr>\n",
       "    <tr>\n",
       "      <th>CANAL_REGISTRO_4</th>\n",
       "      <td>1.299444</td>\n",
       "    </tr>\n",
       "    <tr>\n",
       "      <th>TIPOEMAIL_SINCLASIFICAR</th>\n",
       "      <td>1.270477</td>\n",
       "    </tr>\n",
       "    <tr>\n",
       "      <th>IP_CONTINENTE_AMERICA_SUR</th>\n",
       "      <td>1.236942</td>\n",
       "    </tr>\n",
       "    <tr>\n",
       "      <th>TIPO_TELF_MOVIL</th>\n",
       "      <td>1.191852</td>\n",
       "    </tr>\n",
       "    <tr>\n",
       "      <th>TIPO_TELF_EXTRANJERO</th>\n",
       "      <td>1.138536</td>\n",
       "    </tr>\n",
       "    <tr>\n",
       "      <th>1A_EMPCONSUL_SECTOR_TERCIARIO</th>\n",
       "      <td>1.091839</td>\n",
       "    </tr>\n",
       "    <tr>\n",
       "      <th>IP_CONTINENTE_NI</th>\n",
       "      <td>1.088474</td>\n",
       "    </tr>\n",
       "    <tr>\n",
       "      <th>CANAL_REGISTRO_2</th>\n",
       "      <td>1.061527</td>\n",
       "    </tr>\n",
       "    <tr>\n",
       "      <th>1A_EMPCONSUL_SECTOR_SECUNDARIO</th>\n",
       "      <td>1.042053</td>\n",
       "    </tr>\n",
       "    <tr>\n",
       "      <th>TIPOEMAIL_CORPORATIVO</th>\n",
       "      <td>1.019494</td>\n",
       "    </tr>\n",
       "    <tr>\n",
       "      <th>USU_SECTOR_ECONOMICO_TERCIARIO</th>\n",
       "      <td>1.011549</td>\n",
       "    </tr>\n",
       "    <tr>\n",
       "      <th>USU_ESTADO_ACTIVA</th>\n",
       "      <td>1.010024</td>\n",
       "    </tr>\n",
       "  </tbody>\n",
       "</table>\n",
       "</div>"
      ],
      "text/plain": [
       "                                     important\n",
       "FICH_PROMO_TOT                       20.486402\n",
       "IPCASOS                               5.142025\n",
       "PERF_PROMO_TOT                        3.941950\n",
       "USU_DEPART_IDH                        3.199462\n",
       "USU_DEPART_DEN_POB                    3.129798\n",
       "USU_TIPO_EMPRESARIO INDIVIDUAL        2.974648\n",
       "1A_DESCGRUPOPROD_PERF_PROMO           2.941022\n",
       "CANAL_REGISTRO_1                      2.748647\n",
       "1A_DESCGRUPOPROD_FICH_PROMO           2.589308\n",
       "TIPOEMAIL_GOOHOTYAHMAIL               2.396887\n",
       "USU_TIPO_SOC_COMERCIAL_INDUSTRIAL     1.899610\n",
       "CANAL_REGISTRO_3                      1.886095\n",
       "USU_TAMANIO_MC                        1.650298\n",
       "IP_COUNTRY_IDH_NUM                    1.502435\n",
       "IP_COUNTRY_PIB_NI                     1.400230\n",
       "IP_COUNTRY_PIB_Ingreso mediano alto   1.377201\n",
       "BONDAD_EMAIL                          1.362356\n",
       "CANAL_REGISTRO_4                      1.299444\n",
       "TIPOEMAIL_SINCLASIFICAR               1.270477\n",
       "IP_CONTINENTE_AMERICA_SUR             1.236942\n",
       "TIPO_TELF_MOVIL                       1.191852\n",
       "TIPO_TELF_EXTRANJERO                  1.138536\n",
       "1A_EMPCONSUL_SECTOR_TERCIARIO         1.091839\n",
       "IP_CONTINENTE_NI                      1.088474\n",
       "CANAL_REGISTRO_2                      1.061527\n",
       "1A_EMPCONSUL_SECTOR_SECUNDARIO        1.042053\n",
       "TIPOEMAIL_CORPORATIVO                 1.019494\n",
       "USU_SECTOR_ECONOMICO_TERCIARIO        1.011549\n",
       "USU_ESTADO_ACTIVA                     1.010024"
      ]
     },
     "execution_count": 41,
     "metadata": {},
     "output_type": "execute_result"
    }
   ],
   "source": [
    "feature_importances[feature_importances['important'] > 0.01]*100"
   ]
  },
  {
   "cell_type": "code",
   "execution_count": 42,
   "id": "77ccc5e5-7a49-4c17-8dc9-6756007ddbf9",
   "metadata": {},
   "outputs": [
    {
     "data": {
      "text/plain": [
       "(29, 1)"
      ]
     },
     "execution_count": 42,
     "metadata": {},
     "output_type": "execute_result"
    }
   ],
   "source": [
    "feature_importances[feature_importances['important'] > 0.01].shape"
   ]
  },
  {
   "cell_type": "markdown",
   "id": "78d65c14-bd9d-4554-bd3b-dd62095ad076",
   "metadata": {},
   "source": [
    "------"
   ]
  },
  {
   "cell_type": "markdown",
   "id": "635d50be-5a6f-4f3c-8178-1dfc9aa92628",
   "metadata": {},
   "source": [
    "##### **4.5.2 Subsampling en la clase mayoritaria**"
   ]
  },
  {
   "cell_type": "markdown",
   "id": "7947496a-2b29-4372-8e64-970988b98a30",
   "metadata": {},
   "source": [
    "**RandomUnderSampler**"
   ]
  },
  {
   "cell_type": "code",
   "execution_count": 43,
   "id": "d9ba49bd-9a5c-41d8-8b74-162b3f75d535",
   "metadata": {},
   "outputs": [
    {
     "name": "stdout",
     "output_type": "stream",
     "text": [
      "Distribution before resampling Counter({0: 68953, 1: 4895})\n",
      "Distribution after resampling Counter({0: 4895, 1: 4895})\n"
     ]
    }
   ],
   "source": [
    "us = RandomUnderSampler(sampling_strategy = 'majority', random_state = 123)\n",
    "X_train_res, y_train_res = us.fit_resample(train_x, train_y)\n",
    " \n",
    "print (\"Distribution before resampling {}\".format(Counter(train_y)))\n",
    "print (\"Distribution after resampling {}\".format(Counter(y_train_res)))"
   ]
  },
  {
   "cell_type": "code",
   "execution_count": 44,
   "id": "fe7011d0-a17f-4e5e-91ad-2f51edd38106",
   "metadata": {},
   "outputs": [
    {
     "data": {
      "text/plain": [
       "RandomForestClassifier(criterion='entropy', max_features=5, n_estimators=150,\n",
       "                       n_jobs=-1, random_state=123)"
      ]
     },
     "execution_count": 44,
     "metadata": {},
     "output_type": "execute_result"
    }
   ],
   "source": [
    "rf = RandomForestClassifier(criterion = 'entropy', \n",
    "                            n_estimators = 150, \n",
    "                            max_features = 5, \n",
    "                            max_depth = None, \n",
    "                            n_jobs = -1,\n",
    "                            random_state = 123)\n",
    "\n",
    "rf.fit(X_train_res, y_train_res)"
   ]
  },
  {
   "cell_type": "code",
   "execution_count": 45,
   "id": "91fa0d29-fee4-403e-8b50-cc11637e9c9e",
   "metadata": {},
   "outputs": [
    {
     "data": {
      "image/png": "[encoded data removed]",
      "text/plain": [
       "<Figure size 576x576 with 2 Axes>"
      ]
     },
     "metadata": {
      "needs_background": "light"
     },
     "output_type": "display_data"
    },
    {
     "name": "stdout",
     "output_type": "stream",
     "text": [
      "              precision    recall  f1-score   support\n",
      "\n",
      "           0       1.00      0.97      0.98     29536\n",
      "           1       0.67      0.95      0.78      2114\n",
      "\n",
      "    accuracy                           0.96     31650\n",
      "   macro avg       0.83      0.96      0.88     31650\n",
      "weighted avg       0.97      0.96      0.97     31650\n",
      "\n"
     ]
    }
   ],
   "source": [
    "pred_y = rf.predict(test_x)\n",
    "mostrar_resultados(test_y, pred_y)"
   ]
  },
  {
   "cell_type": "code",
   "execution_count": 46,
   "id": "9df16aa7-75a0-4f91-a108-ff88cab0ef01",
   "metadata": {},
   "outputs": [],
   "source": [
    "feature_importances = pd.DataFrame(rf.feature_importances_, index = train_x.columns, columns = ['important']).sort_values(['important'], ascending = 0)"
   ]
  },
  {
   "cell_type": "code",
   "execution_count": 47,
   "id": "10c74f9a-f717-4440-9a03-2ded45c8c780",
   "metadata": {
    "tags": []
   },
   "outputs": [
    {
     "data": {
      "text/html": [
       "<div>\n",
       "<style scoped>\n",
       "    .dataframe tbody tr th:only-of-type {\n",
       "        vertical-align: middle;\n",
       "    }\n",
       "\n",
       "    .dataframe tbody tr th {\n",
       "        vertical-align: top;\n",
       "    }\n",
       "\n",
       "    .dataframe thead th {\n",
       "        text-align: right;\n",
       "    }\n",
       "</style>\n",
       "<table border=\"1\" class=\"dataframe\">\n",
       "  <thead>\n",
       "    <tr style=\"text-align: right;\">\n",
       "      <th></th>\n",
       "      <th>important</th>\n",
       "    </tr>\n",
       "  </thead>\n",
       "  <tbody>\n",
       "    <tr>\n",
       "      <th>FICH_PROMO_TOT</th>\n",
       "      <td>19.116329</td>\n",
       "    </tr>\n",
       "    <tr>\n",
       "      <th>IPCASOS</th>\n",
       "      <td>4.725485</td>\n",
       "    </tr>\n",
       "    <tr>\n",
       "      <th>PERF_PROMO_TOT</th>\n",
       "      <td>4.187792</td>\n",
       "    </tr>\n",
       "    <tr>\n",
       "      <th>USU_TIPO_EMPRESARIO INDIVIDUAL</th>\n",
       "      <td>3.527353</td>\n",
       "    </tr>\n",
       "    <tr>\n",
       "      <th>USU_DEPART_IDH</th>\n",
       "      <td>3.192473</td>\n",
       "    </tr>\n",
       "    <tr>\n",
       "      <th>1A_DESCGRUPOPROD_PERF_PROMO</th>\n",
       "      <td>3.059661</td>\n",
       "    </tr>\n",
       "    <tr>\n",
       "      <th>USU_DEPART_DEN_POB</th>\n",
       "      <td>2.965874</td>\n",
       "    </tr>\n",
       "    <tr>\n",
       "      <th>CANAL_REGISTRO_1</th>\n",
       "      <td>2.890636</td>\n",
       "    </tr>\n",
       "    <tr>\n",
       "      <th>1A_DESCGRUPOPROD_FICH_PROMO</th>\n",
       "      <td>2.648326</td>\n",
       "    </tr>\n",
       "    <tr>\n",
       "      <th>TIPOEMAIL_GOOHOTYAHMAIL</th>\n",
       "      <td>2.303886</td>\n",
       "    </tr>\n",
       "    <tr>\n",
       "      <th>IP_COUNTRY_IDH_NUM</th>\n",
       "      <td>1.804177</td>\n",
       "    </tr>\n",
       "    <tr>\n",
       "      <th>USU_TIPO_SOC_COMERCIAL_INDUSTRIAL</th>\n",
       "      <td>1.786805</td>\n",
       "    </tr>\n",
       "    <tr>\n",
       "      <th>CANAL_REGISTRO_3</th>\n",
       "      <td>1.748208</td>\n",
       "    </tr>\n",
       "    <tr>\n",
       "      <th>USU_TAMANIO_MC</th>\n",
       "      <td>1.601197</td>\n",
       "    </tr>\n",
       "    <tr>\n",
       "      <th>IP_COUNTRY_PIB_NI</th>\n",
       "      <td>1.369107</td>\n",
       "    </tr>\n",
       "    <tr>\n",
       "      <th>TIPOEMAIL_SINCLASIFICAR</th>\n",
       "      <td>1.317903</td>\n",
       "    </tr>\n",
       "    <tr>\n",
       "      <th>BONDAD_EMAIL</th>\n",
       "      <td>1.308982</td>\n",
       "    </tr>\n",
       "    <tr>\n",
       "      <th>IP_CONTINENTE_AMERICA_SUR</th>\n",
       "      <td>1.221570</td>\n",
       "    </tr>\n",
       "    <tr>\n",
       "      <th>IP_CONTINENTE_NI</th>\n",
       "      <td>1.218763</td>\n",
       "    </tr>\n",
       "    <tr>\n",
       "      <th>IP_COUNTRY_PIB_Ingreso mediano alto</th>\n",
       "      <td>1.215015</td>\n",
       "    </tr>\n",
       "    <tr>\n",
       "      <th>TIPO_TELF_MOVIL</th>\n",
       "      <td>1.202761</td>\n",
       "    </tr>\n",
       "    <tr>\n",
       "      <th>TIPO_TELF_EXTRANJERO</th>\n",
       "      <td>1.199650</td>\n",
       "    </tr>\n",
       "    <tr>\n",
       "      <th>USU_ESTADO_ACTIVA</th>\n",
       "      <td>1.161552</td>\n",
       "    </tr>\n",
       "    <tr>\n",
       "      <th>CANAL_REGISTRO_4</th>\n",
       "      <td>1.129346</td>\n",
       "    </tr>\n",
       "    <tr>\n",
       "      <th>1A_EMPCONSUL_SECTOR_TERCIARIO</th>\n",
       "      <td>1.114068</td>\n",
       "    </tr>\n",
       "    <tr>\n",
       "      <th>TIPOEMAIL_CORPORATIVO</th>\n",
       "      <td>1.070132</td>\n",
       "    </tr>\n",
       "    <tr>\n",
       "      <th>USU_SECTOR_ECONOMICO_TERCIARIO</th>\n",
       "      <td>1.039386</td>\n",
       "    </tr>\n",
       "    <tr>\n",
       "      <th>1A_EMPCONSUL_SECTOR_SECUNDARIO</th>\n",
       "      <td>1.014124</td>\n",
       "    </tr>\n",
       "  </tbody>\n",
       "</table>\n",
       "</div>"
      ],
      "text/plain": [
       "                                     important\n",
       "FICH_PROMO_TOT                       19.116329\n",
       "IPCASOS                               4.725485\n",
       "PERF_PROMO_TOT                        4.187792\n",
       "USU_TIPO_EMPRESARIO INDIVIDUAL        3.527353\n",
       "USU_DEPART_IDH                        3.192473\n",
       "1A_DESCGRUPOPROD_PERF_PROMO           3.059661\n",
       "USU_DEPART_DEN_POB                    2.965874\n",
       "CANAL_REGISTRO_1                      2.890636\n",
       "1A_DESCGRUPOPROD_FICH_PROMO           2.648326\n",
       "TIPOEMAIL_GOOHOTYAHMAIL               2.303886\n",
       "IP_COUNTRY_IDH_NUM                    1.804177\n",
       "USU_TIPO_SOC_COMERCIAL_INDUSTRIAL     1.786805\n",
       "CANAL_REGISTRO_3                      1.748208\n",
       "USU_TAMANIO_MC                        1.601197\n",
       "IP_COUNTRY_PIB_NI                     1.369107\n",
       "TIPOEMAIL_SINCLASIFICAR               1.317903\n",
       "BONDAD_EMAIL                          1.308982\n",
       "IP_CONTINENTE_AMERICA_SUR             1.221570\n",
       "IP_CONTINENTE_NI                      1.218763\n",
       "IP_COUNTRY_PIB_Ingreso mediano alto   1.215015\n",
       "TIPO_TELF_MOVIL                       1.202761\n",
       "TIPO_TELF_EXTRANJERO                  1.199650\n",
       "USU_ESTADO_ACTIVA                     1.161552\n",
       "CANAL_REGISTRO_4                      1.129346\n",
       "1A_EMPCONSUL_SECTOR_TERCIARIO         1.114068\n",
       "TIPOEMAIL_CORPORATIVO                 1.070132\n",
       "USU_SECTOR_ECONOMICO_TERCIARIO        1.039386\n",
       "1A_EMPCONSUL_SECTOR_SECUNDARIO        1.014124"
      ]
     },
     "execution_count": 47,
     "metadata": {},
     "output_type": "execute_result"
    }
   ],
   "source": [
    "feature_importances[feature_importances['important'] > 0.01]*100"
   ]
  },
  {
   "cell_type": "code",
   "execution_count": 48,
   "id": "f2e9c99d-89f5-44f8-b9d1-3a61befbbb6f",
   "metadata": {
    "tags": []
   },
   "outputs": [
    {
     "data": {
      "text/plain": [
       "(28, 1)"
      ]
     },
     "execution_count": 48,
     "metadata": {},
     "output_type": "execute_result"
    }
   ],
   "source": [
    "feature_importances[feature_importances['important'] > 0.01].shape"
   ]
  },
  {
   "cell_type": "markdown",
   "id": "d8954011-0648-493e-987f-c51c38c368e2",
   "metadata": {},
   "source": [
    "------"
   ]
  },
  {
   "cell_type": "markdown",
   "id": "da7b6976-5b6e-48ea-a2dc-9060a1c9ad68",
   "metadata": {},
   "source": [
    "##### **4.5.3 Oversampling en la clase minoritaria**"
   ]
  },
  {
   "cell_type": "markdown",
   "id": "3d2c69e5-8cd7-404c-bb5f-781614e1c9ad",
   "metadata": {},
   "source": [
    "**SMOTE**"
   ]
  },
  {
   "cell_type": "code",
   "execution_count": 49,
   "id": "8607deb4-69e1-4eb3-8dd3-da005dffa7e0",
   "metadata": {},
   "outputs": [],
   "source": [
    "os =  SMOTE(sampling_strategy = 'minority')\n",
    "X_train_res, y_train_res = os.fit_resample(train_x, train_y)"
   ]
  },
  {
   "cell_type": "code",
   "execution_count": 50,
   "id": "dba0c0b4-4190-4541-b3dd-ca714958e8c0",
   "metadata": {},
   "outputs": [
    {
     "name": "stdout",
     "output_type": "stream",
     "text": [
      "Distribution before resampling Counter({0: 68953, 1: 4895})\n",
      "Distribution labels after resampling Counter({0: 68953, 1: 68953})\n"
     ]
    }
   ],
   "source": [
    "print (\"Distribution before resampling {}\".format(Counter(train_y)))\n",
    "print (\"Distribution labels after resampling {}\".format(Counter(y_train_res)))"
   ]
  },
  {
   "cell_type": "code",
   "execution_count": 51,
   "id": "5b7aeb43-4212-4304-ace4-41b9c19cd010",
   "metadata": {},
   "outputs": [
    {
     "data": {
      "text/plain": [
       "RandomForestClassifier(criterion='entropy', max_features=5, n_estimators=150,\n",
       "                       n_jobs=-1, random_state=123)"
      ]
     },
     "execution_count": 51,
     "metadata": {},
     "output_type": "execute_result"
    }
   ],
   "source": [
    "rf = RandomForestClassifier(criterion = 'entropy', \n",
    "                            n_estimators = 150, \n",
    "                            max_features = 5, \n",
    "                            max_depth = None, \n",
    "                            n_jobs = -1,\n",
    "                            random_state = 123)\n",
    "\n",
    "rf.fit(X_train_res, y_train_res)"
   ]
  },
  {
   "cell_type": "code",
   "execution_count": 52,
   "id": "e36995de-7e0c-4a36-b7c8-67244f216137",
   "metadata": {},
   "outputs": [
    {
     "data": {
      "image/png": "[encoded data removed]",
      "text/plain": [
       "<Figure size 576x576 with 2 Axes>"
      ]
     },
     "metadata": {
      "needs_background": "light"
     },
     "output_type": "display_data"
    },
    {
     "name": "stdout",
     "output_type": "stream",
     "text": [
      "              precision    recall  f1-score   support\n",
      "\n",
      "           0       0.99      1.00      1.00     29536\n",
      "           1       0.99      0.92      0.95      2114\n",
      "\n",
      "    accuracy                           0.99     31650\n",
      "   macro avg       0.99      0.96      0.98     31650\n",
      "weighted avg       0.99      0.99      0.99     31650\n",
      "\n"
     ]
    }
   ],
   "source": [
    "pred_y = rf.predict(test_x)\n",
    "mostrar_resultados(test_y, pred_y)"
   ]
  },
  {
   "cell_type": "code",
   "execution_count": 53,
   "id": "55db0db9-9ac2-4782-8c77-db9fe9e25d34",
   "metadata": {},
   "outputs": [],
   "source": [
    "feature_importances = pd.DataFrame(rf.feature_importances_, index = train_x.columns, columns = ['important']).sort_values(['important'], ascending = 0)"
   ]
  },
  {
   "cell_type": "code",
   "execution_count": 54,
   "id": "86256e53-9331-462f-a2ea-7336f59ce701",
   "metadata": {
    "tags": []
   },
   "outputs": [
    {
     "data": {
      "text/html": [
       "<div>\n",
       "<style scoped>\n",
       "    .dataframe tbody tr th:only-of-type {\n",
       "        vertical-align: middle;\n",
       "    }\n",
       "\n",
       "    .dataframe tbody tr th {\n",
       "        vertical-align: top;\n",
       "    }\n",
       "\n",
       "    .dataframe thead th {\n",
       "        text-align: right;\n",
       "    }\n",
       "</style>\n",
       "<table border=\"1\" class=\"dataframe\">\n",
       "  <thead>\n",
       "    <tr style=\"text-align: right;\">\n",
       "      <th></th>\n",
       "      <th>important</th>\n",
       "    </tr>\n",
       "  </thead>\n",
       "  <tbody>\n",
       "    <tr>\n",
       "      <th>FICH_PROMO_TOT</th>\n",
       "      <td>19.728424</td>\n",
       "    </tr>\n",
       "    <tr>\n",
       "      <th>IPCASOS</th>\n",
       "      <td>4.928360</td>\n",
       "    </tr>\n",
       "    <tr>\n",
       "      <th>USU_TIPO_EMPRESARIO INDIVIDUAL</th>\n",
       "      <td>4.263002</td>\n",
       "    </tr>\n",
       "    <tr>\n",
       "      <th>1A_DESCGRUPOPROD_PERF_PROMO</th>\n",
       "      <td>3.615818</td>\n",
       "    </tr>\n",
       "    <tr>\n",
       "      <th>TIPOEMAIL_GOOHOTYAHMAIL</th>\n",
       "      <td>3.216870</td>\n",
       "    </tr>\n",
       "    <tr>\n",
       "      <th>PERF_PROMO_TOT</th>\n",
       "      <td>3.165131</td>\n",
       "    </tr>\n",
       "    <tr>\n",
       "      <th>USU_DEPART_IDH</th>\n",
       "      <td>2.782596</td>\n",
       "    </tr>\n",
       "    <tr>\n",
       "      <th>CANAL_REGISTRO_3</th>\n",
       "      <td>2.756071</td>\n",
       "    </tr>\n",
       "    <tr>\n",
       "      <th>USU_DEPART_DEN_POB</th>\n",
       "      <td>2.684649</td>\n",
       "    </tr>\n",
       "    <tr>\n",
       "      <th>USU_TAMANIO_MC</th>\n",
       "      <td>2.336620</td>\n",
       "    </tr>\n",
       "    <tr>\n",
       "      <th>1A_DESCGRUPOPROD_FICH_PROMO</th>\n",
       "      <td>1.962978</td>\n",
       "    </tr>\n",
       "    <tr>\n",
       "      <th>CANAL_REGISTRO_1</th>\n",
       "      <td>1.924873</td>\n",
       "    </tr>\n",
       "    <tr>\n",
       "      <th>IP_COUNTRY_IDH_NUM</th>\n",
       "      <td>1.721280</td>\n",
       "    </tr>\n",
       "    <tr>\n",
       "      <th>IP_COUNTRY_PIB_Ingreso mediano alto</th>\n",
       "      <td>1.548865</td>\n",
       "    </tr>\n",
       "    <tr>\n",
       "      <th>USU_TIPO_SOC_COMERCIAL_INDUSTRIAL</th>\n",
       "      <td>1.517152</td>\n",
       "    </tr>\n",
       "    <tr>\n",
       "      <th>CANAL_REGISTRO_2</th>\n",
       "      <td>1.502937</td>\n",
       "    </tr>\n",
       "    <tr>\n",
       "      <th>TIPO_TELF_EXTRANJERO</th>\n",
       "      <td>1.305706</td>\n",
       "    </tr>\n",
       "    <tr>\n",
       "      <th>TIPO_TELF_MOVIL</th>\n",
       "      <td>1.278097</td>\n",
       "    </tr>\n",
       "    <tr>\n",
       "      <th>CANAL_REGISTRO_8</th>\n",
       "      <td>1.217123</td>\n",
       "    </tr>\n",
       "    <tr>\n",
       "      <th>IP_CONTINENTE_AMERICA_SUR</th>\n",
       "      <td>1.209325</td>\n",
       "    </tr>\n",
       "    <tr>\n",
       "      <th>TIPOEMAIL_SINCLASIFICAR</th>\n",
       "      <td>1.121001</td>\n",
       "    </tr>\n",
       "    <tr>\n",
       "      <th>USU_ESTADO_INACTIVA</th>\n",
       "      <td>1.105742</td>\n",
       "    </tr>\n",
       "    <tr>\n",
       "      <th>1A_EMPCONSUL_SECTOR_TERCIARIO</th>\n",
       "      <td>1.101456</td>\n",
       "    </tr>\n",
       "    <tr>\n",
       "      <th>USU_SECTOR_ECONOMICO_TERCIARIO</th>\n",
       "      <td>1.086497</td>\n",
       "    </tr>\n",
       "    <tr>\n",
       "      <th>BONDAD_EMAIL</th>\n",
       "      <td>1.063298</td>\n",
       "    </tr>\n",
       "    <tr>\n",
       "      <th>TIPOEMAIL_CORPORATIVO</th>\n",
       "      <td>1.053471</td>\n",
       "    </tr>\n",
       "    <tr>\n",
       "      <th>USU_ESTADO_ACTIVA</th>\n",
       "      <td>1.014053</td>\n",
       "    </tr>\n",
       "    <tr>\n",
       "      <th>TIPO_TELF_NO_PUBLICO</th>\n",
       "      <td>1.010188</td>\n",
       "    </tr>\n",
       "    <tr>\n",
       "      <th>IP_COUNTRY_PIB_NI</th>\n",
       "      <td>1.008790</td>\n",
       "    </tr>\n",
       "  </tbody>\n",
       "</table>\n",
       "</div>"
      ],
      "text/plain": [
       "                                     important\n",
       "FICH_PROMO_TOT                       19.728424\n",
       "IPCASOS                               4.928360\n",
       "USU_TIPO_EMPRESARIO INDIVIDUAL        4.263002\n",
       "1A_DESCGRUPOPROD_PERF_PROMO           3.615818\n",
       "TIPOEMAIL_GOOHOTYAHMAIL               3.216870\n",
       "PERF_PROMO_TOT                        3.165131\n",
       "USU_DEPART_IDH                        2.782596\n",
       "CANAL_REGISTRO_3                      2.756071\n",
       "USU_DEPART_DEN_POB                    2.684649\n",
       "USU_TAMANIO_MC                        2.336620\n",
       "1A_DESCGRUPOPROD_FICH_PROMO           1.962978\n",
       "CANAL_REGISTRO_1                      1.924873\n",
       "IP_COUNTRY_IDH_NUM                    1.721280\n",
       "IP_COUNTRY_PIB_Ingreso mediano alto   1.548865\n",
       "USU_TIPO_SOC_COMERCIAL_INDUSTRIAL     1.517152\n",
       "CANAL_REGISTRO_2                      1.502937\n",
       "TIPO_TELF_EXTRANJERO                  1.305706\n",
       "TIPO_TELF_MOVIL                       1.278097\n",
       "CANAL_REGISTRO_8                      1.217123\n",
       "IP_CONTINENTE_AMERICA_SUR             1.209325\n",
       "TIPOEMAIL_SINCLASIFICAR               1.121001\n",
       "USU_ESTADO_INACTIVA                   1.105742\n",
       "1A_EMPCONSUL_SECTOR_TERCIARIO         1.101456\n",
       "USU_SECTOR_ECONOMICO_TERCIARIO        1.086497\n",
       "BONDAD_EMAIL                          1.063298\n",
       "TIPOEMAIL_CORPORATIVO                 1.053471\n",
       "USU_ESTADO_ACTIVA                     1.014053\n",
       "TIPO_TELF_NO_PUBLICO                  1.010188\n",
       "IP_COUNTRY_PIB_NI                     1.008790"
      ]
     },
     "execution_count": 54,
     "metadata": {},
     "output_type": "execute_result"
    }
   ],
   "source": [
    "feature_importances[feature_importances['important'] > 0.01]*100"
   ]
  },
  {
   "cell_type": "code",
   "execution_count": 55,
   "id": "21dcdc08-4074-45c6-b05a-9bb3fe7833bc",
   "metadata": {
    "tags": []
   },
   "outputs": [
    {
     "data": {
      "text/plain": [
       "(29, 1)"
      ]
     },
     "execution_count": 55,
     "metadata": {},
     "output_type": "execute_result"
    }
   ],
   "source": [
    "feature_importances[feature_importances['important'] > 0.01].shape"
   ]
  },
  {
   "cell_type": "markdown",
   "id": "fc00bf4f-7ccc-438c-8d1a-0bfaee763331",
   "metadata": {},
   "source": [
    "------"
   ]
  },
  {
   "cell_type": "markdown",
   "id": "c328f137-4f93-4754-8f4f-cbed67f02edb",
   "metadata": {},
   "source": [
    "##### **4.5.4 Combinamos OverSampling con Subsampling**"
   ]
  },
  {
   "cell_type": "markdown",
   "id": "3faef6bf-46b6-4d5a-9fbf-7f2176916431",
   "metadata": {},
   "source": [
    "**Combinando SMOTE & RandomUnderSampler**"
   ]
  },
  {
   "cell_type": "code",
   "execution_count": 56,
   "id": "8d0fcdfa-8edd-44b9-8455-f76f0a8b7701",
   "metadata": {},
   "outputs": [],
   "source": [
    "over = SMOTE(sampling_strategy = 0.3)\n",
    "under = RandomUnderSampler(sampling_strategy = 0.5)\n",
    "steps = [('over', over), ('under', under)]\n",
    "pipeline = Pipeline(steps = steps)"
   ]
  },
  {
   "cell_type": "code",
   "execution_count": 57,
   "id": "f850aa3e-0ecd-4707-8999-78aab444853b",
   "metadata": {},
   "outputs": [],
   "source": [
    "X_train_res, y_train_res = pipeline.fit_resample(train_x, train_y)"
   ]
  },
  {
   "cell_type": "code",
   "execution_count": 58,
   "id": "099f5646-ff5e-438f-a1cd-6a6d7ab82e2d",
   "metadata": {},
   "outputs": [
    {
     "name": "stdout",
     "output_type": "stream",
     "text": [
      "Distribution before resampling Counter({0: 68953, 1: 4895})\n",
      "Distribution after resampling Counter({0: 41370, 1: 20685})\n"
     ]
    }
   ],
   "source": [
    "print (\"Distribution before resampling {}\".format(Counter(train_y)))\n",
    "print (\"Distribution after resampling {}\".format(Counter(y_train_res)))"
   ]
  },
  {
   "cell_type": "code",
   "execution_count": 59,
   "id": "bb2b4046-67c9-4290-aaaa-1828c2d62204",
   "metadata": {},
   "outputs": [
    {
     "data": {
      "text/plain": [
       "RandomForestClassifier(criterion='entropy', max_features=5, n_estimators=150,\n",
       "                       n_jobs=-1, random_state=123)"
      ]
     },
     "execution_count": 59,
     "metadata": {},
     "output_type": "execute_result"
    }
   ],
   "source": [
    "rf = RandomForestClassifier(criterion = 'entropy', \n",
    "                            n_estimators = 150, \n",
    "                            max_features = 5, \n",
    "                            max_depth = None,  \n",
    "                            n_jobs = -1,\n",
    "                            random_state = 123)\n",
    "\n",
    "rf.fit(X_train_res, y_train_res)"
   ]
  },
  {
   "cell_type": "code",
   "execution_count": 60,
   "id": "cb3df9f8-bad1-40fc-8445-fce02c46ebb9",
   "metadata": {},
   "outputs": [
    {
     "data": {
      "image/png": "[encoded data removed]",
      "text/plain": [
       "<Figure size 576x576 with 2 Axes>"
      ]
     },
     "metadata": {
      "needs_background": "light"
     },
     "output_type": "display_data"
    },
    {
     "name": "stdout",
     "output_type": "stream",
     "text": [
      "              precision    recall  f1-score   support\n",
      "\n",
      "           0       0.99      1.00      1.00     29536\n",
      "           1       0.98      0.92      0.95      2114\n",
      "\n",
      "    accuracy                           0.99     31650\n",
      "   macro avg       0.99      0.96      0.97     31650\n",
      "weighted avg       0.99      0.99      0.99     31650\n",
      "\n"
     ]
    }
   ],
   "source": [
    "pred_y = rf.predict(test_x)\n",
    "mostrar_resultados(test_y, pred_y)"
   ]
  },
  {
   "cell_type": "code",
   "execution_count": 61,
   "id": "a0e17ab1-05ac-40bf-a381-d34bf175e05e",
   "metadata": {},
   "outputs": [],
   "source": [
    "feature_importances = pd.DataFrame(rf.feature_importances_, index = train_x.columns, columns = ['important']).sort_values(['important'], ascending = 0)"
   ]
  },
  {
   "cell_type": "code",
   "execution_count": 62,
   "id": "cb62ff02-98fc-4366-922b-24da398d3f20",
   "metadata": {
    "tags": []
   },
   "outputs": [
    {
     "data": {
      "text/html": [
       "<div>\n",
       "<style scoped>\n",
       "    .dataframe tbody tr th:only-of-type {\n",
       "        vertical-align: middle;\n",
       "    }\n",
       "\n",
       "    .dataframe tbody tr th {\n",
       "        vertical-align: top;\n",
       "    }\n",
       "\n",
       "    .dataframe thead th {\n",
       "        text-align: right;\n",
       "    }\n",
       "</style>\n",
       "<table border=\"1\" class=\"dataframe\">\n",
       "  <thead>\n",
       "    <tr style=\"text-align: right;\">\n",
       "      <th></th>\n",
       "      <th>important</th>\n",
       "    </tr>\n",
       "  </thead>\n",
       "  <tbody>\n",
       "    <tr>\n",
       "      <th>FICH_PROMO_TOT</th>\n",
       "      <td>18.617612</td>\n",
       "    </tr>\n",
       "    <tr>\n",
       "      <th>IPCASOS</th>\n",
       "      <td>4.851848</td>\n",
       "    </tr>\n",
       "    <tr>\n",
       "      <th>1A_DESCGRUPOPROD_PERF_PROMO</th>\n",
       "      <td>4.065748</td>\n",
       "    </tr>\n",
       "    <tr>\n",
       "      <th>USU_TIPO_EMPRESARIO INDIVIDUAL</th>\n",
       "      <td>3.877736</td>\n",
       "    </tr>\n",
       "    <tr>\n",
       "      <th>PERF_PROMO_TOT</th>\n",
       "      <td>3.570316</td>\n",
       "    </tr>\n",
       "    <tr>\n",
       "      <th>TIPOEMAIL_GOOHOTYAHMAIL</th>\n",
       "      <td>2.978602</td>\n",
       "    </tr>\n",
       "    <tr>\n",
       "      <th>USU_DEPART_IDH</th>\n",
       "      <td>2.796484</td>\n",
       "    </tr>\n",
       "    <tr>\n",
       "      <th>USU_DEPART_DEN_POB</th>\n",
       "      <td>2.793565</td>\n",
       "    </tr>\n",
       "    <tr>\n",
       "      <th>CANAL_REGISTRO_3</th>\n",
       "      <td>2.549287</td>\n",
       "    </tr>\n",
       "    <tr>\n",
       "      <th>CANAL_REGISTRO_1</th>\n",
       "      <td>2.300012</td>\n",
       "    </tr>\n",
       "    <tr>\n",
       "      <th>1A_DESCGRUPOPROD_FICH_PROMO</th>\n",
       "      <td>2.238112</td>\n",
       "    </tr>\n",
       "    <tr>\n",
       "      <th>USU_TAMANIO_MC</th>\n",
       "      <td>2.010113</td>\n",
       "    </tr>\n",
       "    <tr>\n",
       "      <th>IP_COUNTRY_IDH_NUM</th>\n",
       "      <td>1.757786</td>\n",
       "    </tr>\n",
       "    <tr>\n",
       "      <th>USU_TIPO_SOC_COMERCIAL_INDUSTRIAL</th>\n",
       "      <td>1.609241</td>\n",
       "    </tr>\n",
       "    <tr>\n",
       "      <th>IP_COUNTRY_PIB_NI</th>\n",
       "      <td>1.580664</td>\n",
       "    </tr>\n",
       "    <tr>\n",
       "      <th>IP_CONTINENTE_AMERICA_SUR</th>\n",
       "      <td>1.520552</td>\n",
       "    </tr>\n",
       "    <tr>\n",
       "      <th>IP_COUNTRY_PIB_Ingreso mediano alto</th>\n",
       "      <td>1.374082</td>\n",
       "    </tr>\n",
       "    <tr>\n",
       "      <th>CANAL_REGISTRO_2</th>\n",
       "      <td>1.344159</td>\n",
       "    </tr>\n",
       "    <tr>\n",
       "      <th>TIPO_TELF_EXTRANJERO</th>\n",
       "      <td>1.260646</td>\n",
       "    </tr>\n",
       "    <tr>\n",
       "      <th>TIPOEMAIL_SINCLASIFICAR</th>\n",
       "      <td>1.231153</td>\n",
       "    </tr>\n",
       "    <tr>\n",
       "      <th>CANAL_REGISTRO_4</th>\n",
       "      <td>1.218669</td>\n",
       "    </tr>\n",
       "    <tr>\n",
       "      <th>TIPO_TELF_MOVIL</th>\n",
       "      <td>1.172614</td>\n",
       "    </tr>\n",
       "    <tr>\n",
       "      <th>1A_EMPCONSUL_SECTOR_TERCIARIO</th>\n",
       "      <td>1.113574</td>\n",
       "    </tr>\n",
       "    <tr>\n",
       "      <th>CANAL_REGISTRO_8</th>\n",
       "      <td>1.106503</td>\n",
       "    </tr>\n",
       "    <tr>\n",
       "      <th>BONDAD_EMAIL</th>\n",
       "      <td>1.073201</td>\n",
       "    </tr>\n",
       "    <tr>\n",
       "      <th>USU_SECTOR_ECONOMICO_TERCIARIO</th>\n",
       "      <td>1.069806</td>\n",
       "    </tr>\n",
       "    <tr>\n",
       "      <th>USU_ESTADO_ACTIVA</th>\n",
       "      <td>1.027655</td>\n",
       "    </tr>\n",
       "  </tbody>\n",
       "</table>\n",
       "</div>"
      ],
      "text/plain": [
       "                                     important\n",
       "FICH_PROMO_TOT                       18.617612\n",
       "IPCASOS                               4.851848\n",
       "1A_DESCGRUPOPROD_PERF_PROMO           4.065748\n",
       "USU_TIPO_EMPRESARIO INDIVIDUAL        3.877736\n",
       "PERF_PROMO_TOT                        3.570316\n",
       "TIPOEMAIL_GOOHOTYAHMAIL               2.978602\n",
       "USU_DEPART_IDH                        2.796484\n",
       "USU_DEPART_DEN_POB                    2.793565\n",
       "CANAL_REGISTRO_3                      2.549287\n",
       "CANAL_REGISTRO_1                      2.300012\n",
       "1A_DESCGRUPOPROD_FICH_PROMO           2.238112\n",
       "USU_TAMANIO_MC                        2.010113\n",
       "IP_COUNTRY_IDH_NUM                    1.757786\n",
       "USU_TIPO_SOC_COMERCIAL_INDUSTRIAL     1.609241\n",
       "IP_COUNTRY_PIB_NI                     1.580664\n",
       "IP_CONTINENTE_AMERICA_SUR             1.520552\n",
       "IP_COUNTRY_PIB_Ingreso mediano alto   1.374082\n",
       "CANAL_REGISTRO_2                      1.344159\n",
       "TIPO_TELF_EXTRANJERO                  1.260646\n",
       "TIPOEMAIL_SINCLASIFICAR               1.231153\n",
       "CANAL_REGISTRO_4                      1.218669\n",
       "TIPO_TELF_MOVIL                       1.172614\n",
       "1A_EMPCONSUL_SECTOR_TERCIARIO         1.113574\n",
       "CANAL_REGISTRO_8                      1.106503\n",
       "BONDAD_EMAIL                          1.073201\n",
       "USU_SECTOR_ECONOMICO_TERCIARIO        1.069806\n",
       "USU_ESTADO_ACTIVA                     1.027655"
      ]
     },
     "execution_count": 62,
     "metadata": {},
     "output_type": "execute_result"
    }
   ],
   "source": [
    "feature_importances[feature_importances['important'] > 0.01] * 100"
   ]
  },
  {
   "cell_type": "code",
   "execution_count": 63,
   "id": "0732f4ec-674b-47c3-a810-2cce29f55bb9",
   "metadata": {
    "tags": []
   },
   "outputs": [
    {
     "data": {
      "text/plain": [
       "(27, 1)"
      ]
     },
     "execution_count": 63,
     "metadata": {},
     "output_type": "execute_result"
    }
   ],
   "source": [
    "feature_importances[feature_importances['important'] > 0.01].shape"
   ]
  },
  {
   "cell_type": "markdown",
   "id": "e0dce38a-2377-48a4-b8b1-b4730bc6841d",
   "metadata": {},
   "source": [
    "------"
   ]
  },
  {
   "cell_type": "markdown",
   "id": "c31bb7b7-3c3e-4473-a9f2-19d671c3f092",
   "metadata": {},
   "source": [
    "**SMOTETomek**"
   ]
  },
  {
   "cell_type": "code",
   "execution_count": 64,
   "id": "f56cffe9-7ca7-4fe9-90b0-c6c80d61d03d",
   "metadata": {},
   "outputs": [],
   "source": [
    "os_us = SMOTETomek(sampling_strategy = 'all')\n",
    "X_train_res, y_train_res = os_us.fit_resample(train_x, train_y)"
   ]
  },
  {
   "cell_type": "code",
   "execution_count": 65,
   "id": "a5b767a9-1101-4843-9c81-fdd47d8c89ac",
   "metadata": {},
   "outputs": [
    {
     "name": "stdout",
     "output_type": "stream",
     "text": [
      "Distribution before resampling Counter({0: 68953, 1: 4895})\n",
      "Distribution after resampling Counter({0: 68947, 1: 68947})\n"
     ]
    }
   ],
   "source": [
    "print (\"Distribution before resampling {}\".format(Counter(train_y)))\n",
    "print (\"Distribution after resampling {}\".format(Counter(y_train_res)))"
   ]
  },
  {
   "cell_type": "code",
   "execution_count": 66,
   "id": "60403618-2dcb-473f-9fc8-3632106b48b5",
   "metadata": {},
   "outputs": [
    {
     "data": {
      "text/plain": [
       "RandomForestClassifier(criterion='entropy', max_features=5, n_estimators=150,\n",
       "                       n_jobs=-1, random_state=123)"
      ]
     },
     "execution_count": 66,
     "metadata": {},
     "output_type": "execute_result"
    }
   ],
   "source": [
    "rf = RandomForestClassifier(criterion = 'entropy', \n",
    "                            n_estimators = 150, \n",
    "                            max_features = 5, \n",
    "                            max_depth = None, \n",
    "                            n_jobs = -1,\n",
    "                            random_state = 123)\n",
    "\n",
    "rf.fit(X_train_res, y_train_res)"
   ]
  },
  {
   "cell_type": "code",
   "execution_count": 67,
   "id": "db38623e-8aa7-463a-a54e-890ca62419a0",
   "metadata": {},
   "outputs": [
    {
     "data": {
      "image/png": "[encoded data removed]",
      "text/plain": [
       "<Figure size 576x576 with 2 Axes>"
      ]
     },
     "metadata": {
      "needs_background": "light"
     },
     "output_type": "display_data"
    },
    {
     "name": "stdout",
     "output_type": "stream",
     "text": [
      "              precision    recall  f1-score   support\n",
      "\n",
      "           0       0.99      1.00      1.00     29536\n",
      "           1       0.99      0.92      0.95      2114\n",
      "\n",
      "    accuracy                           0.99     31650\n",
      "   macro avg       0.99      0.96      0.98     31650\n",
      "weighted avg       0.99      0.99      0.99     31650\n",
      "\n"
     ]
    }
   ],
   "source": [
    "pred_y = rf.predict(test_x)\n",
    "mostrar_resultados(test_y, pred_y)"
   ]
  },
  {
   "cell_type": "code",
   "execution_count": 68,
   "id": "46c2fb04-763e-4965-add3-72506d1f6368",
   "metadata": {},
   "outputs": [],
   "source": [
    "feature_importances = pd.DataFrame(rf.feature_importances_, index = train_x.columns, columns = ['important']).sort_values(['important'], ascending = 0)"
   ]
  },
  {
   "cell_type": "code",
   "execution_count": 69,
   "id": "79325091-d68e-41ae-9c75-79d7a112fce0",
   "metadata": {
    "tags": []
   },
   "outputs": [
    {
     "data": {
      "text/html": [
       "<div>\n",
       "<style scoped>\n",
       "    .dataframe tbody tr th:only-of-type {\n",
       "        vertical-align: middle;\n",
       "    }\n",
       "\n",
       "    .dataframe tbody tr th {\n",
       "        vertical-align: top;\n",
       "    }\n",
       "\n",
       "    .dataframe thead th {\n",
       "        text-align: right;\n",
       "    }\n",
       "</style>\n",
       "<table border=\"1\" class=\"dataframe\">\n",
       "  <thead>\n",
       "    <tr style=\"text-align: right;\">\n",
       "      <th></th>\n",
       "      <th>important</th>\n",
       "    </tr>\n",
       "  </thead>\n",
       "  <tbody>\n",
       "    <tr>\n",
       "      <th>FICH_PROMO_TOT</th>\n",
       "      <td>18.582908</td>\n",
       "    </tr>\n",
       "    <tr>\n",
       "      <th>IPCASOS</th>\n",
       "      <td>4.689516</td>\n",
       "    </tr>\n",
       "    <tr>\n",
       "      <th>USU_TIPO_EMPRESARIO INDIVIDUAL</th>\n",
       "      <td>3.992941</td>\n",
       "    </tr>\n",
       "    <tr>\n",
       "      <th>1A_DESCGRUPOPROD_PERF_PROMO</th>\n",
       "      <td>3.579248</td>\n",
       "    </tr>\n",
       "    <tr>\n",
       "      <th>PERF_PROMO_TOT</th>\n",
       "      <td>3.393684</td>\n",
       "    </tr>\n",
       "    <tr>\n",
       "      <th>TIPOEMAIL_GOOHOTYAHMAIL</th>\n",
       "      <td>3.200245</td>\n",
       "    </tr>\n",
       "    <tr>\n",
       "      <th>USU_DEPART_DEN_POB</th>\n",
       "      <td>2.752784</td>\n",
       "    </tr>\n",
       "    <tr>\n",
       "      <th>USU_DEPART_IDH</th>\n",
       "      <td>2.746621</td>\n",
       "    </tr>\n",
       "    <tr>\n",
       "      <th>CANAL_REGISTRO_3</th>\n",
       "      <td>2.714232</td>\n",
       "    </tr>\n",
       "    <tr>\n",
       "      <th>1A_DESCGRUPOPROD_FICH_PROMO</th>\n",
       "      <td>2.346844</td>\n",
       "    </tr>\n",
       "    <tr>\n",
       "      <th>CANAL_REGISTRO_1</th>\n",
       "      <td>2.165763</td>\n",
       "    </tr>\n",
       "    <tr>\n",
       "      <th>USU_TAMANIO_MC</th>\n",
       "      <td>2.161733</td>\n",
       "    </tr>\n",
       "    <tr>\n",
       "      <th>IP_COUNTRY_IDH_NUM</th>\n",
       "      <td>1.740339</td>\n",
       "    </tr>\n",
       "    <tr>\n",
       "      <th>USU_TIPO_SOC_COMERCIAL_INDUSTRIAL</th>\n",
       "      <td>1.639644</td>\n",
       "    </tr>\n",
       "    <tr>\n",
       "      <th>IP_COUNTRY_PIB_Ingreso mediano alto</th>\n",
       "      <td>1.536398</td>\n",
       "    </tr>\n",
       "    <tr>\n",
       "      <th>CANAL_REGISTRO_2</th>\n",
       "      <td>1.492639</td>\n",
       "    </tr>\n",
       "    <tr>\n",
       "      <th>IP_CONTINENTE_AMERICA_SUR</th>\n",
       "      <td>1.455235</td>\n",
       "    </tr>\n",
       "    <tr>\n",
       "      <th>TIPO_TELF_EXTRANJERO</th>\n",
       "      <td>1.270422</td>\n",
       "    </tr>\n",
       "    <tr>\n",
       "      <th>CANAL_REGISTRO_8</th>\n",
       "      <td>1.225257</td>\n",
       "    </tr>\n",
       "    <tr>\n",
       "      <th>TIPO_TELF_MOVIL</th>\n",
       "      <td>1.220696</td>\n",
       "    </tr>\n",
       "    <tr>\n",
       "      <th>1A_EMPCONSUL_SECTOR_TERCIARIO</th>\n",
       "      <td>1.159185</td>\n",
       "    </tr>\n",
       "    <tr>\n",
       "      <th>IP_COUNTRY_PIB_NI</th>\n",
       "      <td>1.144495</td>\n",
       "    </tr>\n",
       "    <tr>\n",
       "      <th>USU_ESTADO_INACTIVA</th>\n",
       "      <td>1.139575</td>\n",
       "    </tr>\n",
       "    <tr>\n",
       "      <th>BONDAD_EMAIL</th>\n",
       "      <td>1.089505</td>\n",
       "    </tr>\n",
       "    <tr>\n",
       "      <th>TIPOEMAIL_SINCLASIFICAR</th>\n",
       "      <td>1.078528</td>\n",
       "    </tr>\n",
       "    <tr>\n",
       "      <th>USU_SECTOR_ECONOMICO_TERCIARIO</th>\n",
       "      <td>1.077661</td>\n",
       "    </tr>\n",
       "    <tr>\n",
       "      <th>TIPO_TELF_NO_PUBLICO</th>\n",
       "      <td>1.061181</td>\n",
       "    </tr>\n",
       "    <tr>\n",
       "      <th>CANAL_REGISTRO_4</th>\n",
       "      <td>1.048640</td>\n",
       "    </tr>\n",
       "    <tr>\n",
       "      <th>TIPOEMAIL_CORPORATIVO</th>\n",
       "      <td>1.045135</td>\n",
       "    </tr>\n",
       "    <tr>\n",
       "      <th>USU_ESTADO_ACTIVA</th>\n",
       "      <td>1.009644</td>\n",
       "    </tr>\n",
       "  </tbody>\n",
       "</table>\n",
       "</div>"
      ],
      "text/plain": [
       "                                     important\n",
       "FICH_PROMO_TOT                       18.582908\n",
       "IPCASOS                               4.689516\n",
       "USU_TIPO_EMPRESARIO INDIVIDUAL        3.992941\n",
       "1A_DESCGRUPOPROD_PERF_PROMO           3.579248\n",
       "PERF_PROMO_TOT                        3.393684\n",
       "TIPOEMAIL_GOOHOTYAHMAIL               3.200245\n",
       "USU_DEPART_DEN_POB                    2.752784\n",
       "USU_DEPART_IDH                        2.746621\n",
       "CANAL_REGISTRO_3                      2.714232\n",
       "1A_DESCGRUPOPROD_FICH_PROMO           2.346844\n",
       "CANAL_REGISTRO_1                      2.165763\n",
       "USU_TAMANIO_MC                        2.161733\n",
       "IP_COUNTRY_IDH_NUM                    1.740339\n",
       "USU_TIPO_SOC_COMERCIAL_INDUSTRIAL     1.639644\n",
       "IP_COUNTRY_PIB_Ingreso mediano alto   1.536398\n",
       "CANAL_REGISTRO_2                      1.492639\n",
       "IP_CONTINENTE_AMERICA_SUR             1.455235\n",
       "TIPO_TELF_EXTRANJERO                  1.270422\n",
       "CANAL_REGISTRO_8                      1.225257\n",
       "TIPO_TELF_MOVIL                       1.220696\n",
       "1A_EMPCONSUL_SECTOR_TERCIARIO         1.159185\n",
       "IP_COUNTRY_PIB_NI                     1.144495\n",
       "USU_ESTADO_INACTIVA                   1.139575\n",
       "BONDAD_EMAIL                          1.089505\n",
       "TIPOEMAIL_SINCLASIFICAR               1.078528\n",
       "USU_SECTOR_ECONOMICO_TERCIARIO        1.077661\n",
       "TIPO_TELF_NO_PUBLICO                  1.061181\n",
       "CANAL_REGISTRO_4                      1.048640\n",
       "TIPOEMAIL_CORPORATIVO                 1.045135\n",
       "USU_ESTADO_ACTIVA                     1.009644"
      ]
     },
     "execution_count": 69,
     "metadata": {},
     "output_type": "execute_result"
    }
   ],
   "source": [
    "feature_importances[feature_importances['important'] > 0.01] * 100"
   ]
  },
  {
   "cell_type": "code",
   "execution_count": 70,
   "id": "ddbecffe-81a0-4479-871f-ad6f1560c176",
   "metadata": {
    "tags": []
   },
   "outputs": [
    {
     "data": {
      "text/plain": [
       "(30, 1)"
      ]
     },
     "execution_count": 70,
     "metadata": {},
     "output_type": "execute_result"
    }
   ],
   "source": [
    "feature_importances[feature_importances['important'] > 0.01].shape"
   ]
  },
  {
   "cell_type": "markdown",
   "id": "ba2b65e1-0d45-4613-9e6b-6867b5bdcffc",
   "metadata": {},
   "source": [
    "------"
   ]
  },
  {
   "cell_type": "markdown",
   "id": "b7c5f681-9632-4910-a3f6-0e735a66e13c",
   "metadata": {},
   "source": [
    "------"
   ]
  },
  {
   "cell_type": "markdown",
   "id": "6815d615-428c-4bb5-b247-a3bb50a9c691",
   "metadata": {},
   "source": [
    "##### **4.5.5 Ensamble de Modelos con Balanceo**"
   ]
  },
  {
   "cell_type": "markdown",
   "id": "cf2c9b55-8cd5-433f-b596-68b9e8c1e18d",
   "metadata": {},
   "source": [
    "Para esta estrategia usaremos un Clasificador de Ensamble que utiliza Bagging y el modelo será un RandomForest."
   ]
  },
  {
   "cell_type": "markdown",
   "id": "bef55740-5b59-4f81-9e47-a11978b08e64",
   "metadata": {},
   "source": [
    "**Bagging**"
   ]
  },
  {
   "cell_type": "code",
   "execution_count": 71,
   "id": "8b454650-ca06-4f2c-b11e-628ac751c07b",
   "metadata": {
    "tags": []
   },
   "outputs": [
    {
     "data": {
      "text/plain": [
       "BalancedBaggingClassifier(base_estimator=RandomForestClassifier(criterion='entropy',\n",
       "                                                                max_features=5,\n",
       "                                                                n_estimators=150,\n",
       "                                                                n_jobs=-1,\n",
       "                                                                random_state=123),\n",
       "                          n_estimators=40, random_state=123,\n",
       "                          sampling_strategy='all')"
      ]
     },
     "execution_count": 71,
     "metadata": {},
     "output_type": "execute_result"
    }
   ],
   "source": [
    "bbc = BalancedBaggingClassifier(base_estimator = RandomForestClassifier(criterion = 'entropy', \n",
    "                                                                        n_estimators = 150, \n",
    "                                                                        max_features = 5, \n",
    "                                                                        max_depth = None, \n",
    "                                                                        n_jobs = -1,\n",
    "                                                                        random_state = 123),\n",
    "                                sampling_strategy = 'all',\n",
    "                                n_estimators = 40,\n",
    "                                replacement = False,\n",
    "                                random_state = 123)\n",
    "\n",
    "bbc.fit(train_x, train_y)"
   ]
  },
  {
   "cell_type": "code",
   "execution_count": 72,
   "id": "33ff2cad-2535-465f-a531-28dfceef6f71",
   "metadata": {
    "tags": []
   },
   "outputs": [
    {
     "data": {
      "image/png": "[encoded data removed]",
      "text/plain": [
       "<Figure size 576x576 with 2 Axes>"
      ]
     },
     "metadata": {
      "needs_background": "light"
     },
     "output_type": "display_data"
    },
    {
     "name": "stdout",
     "output_type": "stream",
     "text": [
      "              precision    recall  f1-score   support\n",
      "\n",
      "           0       1.00      0.98      0.99     29536\n",
      "           1       0.75      0.94      0.84      2114\n",
      "\n",
      "    accuracy                           0.98     31650\n",
      "   macro avg       0.87      0.96      0.91     31650\n",
      "weighted avg       0.98      0.98      0.98     31650\n",
      "\n"
     ]
    }
   ],
   "source": [
    "pred_y = bbc.predict(test_x)\n",
    "mostrar_resultados(test_y, pred_y)"
   ]
  },
  {
   "cell_type": "markdown",
   "id": "79ddccd4-f9a2-4978-8984-5adff88712ab",
   "metadata": {},
   "source": [
    "------"
   ]
  },
  {
   "cell_type": "markdown",
   "id": "3d02b43b-36a2-47f2-8efc-e63946ba52a8",
   "metadata": {},
   "source": [
    "**RUSBoostClassifier**"
   ]
  },
  {
   "cell_type": "code",
   "execution_count": 73,
   "id": "f6b257cd-edb3-487f-abb8-26ab10f5935f",
   "metadata": {
    "tags": []
   },
   "outputs": [
    {
     "data": {
      "text/plain": [
       "RUSBoostClassifier(base_estimator=RandomForestClassifier(criterion='entropy',\n",
       "                                                         max_features=5,\n",
       "                                                         n_estimators=150,\n",
       "                                                         n_jobs=-1,\n",
       "                                                         random_state=123),\n",
       "                   n_estimators=20, random_state=123,\n",
       "                   sampling_strategy='majority')"
      ]
     },
     "execution_count": 73,
     "metadata": {},
     "output_type": "execute_result"
    }
   ],
   "source": [
    "RUS = RUSBoostClassifier(base_estimator = RandomForestClassifier(criterion = 'entropy', \n",
    "                                                                n_estimators = 150, \n",
    "                                                                max_features = 5, \n",
    "                                                                max_depth = None,\n",
    "                                                                 n_jobs = -1,\n",
    "                                                                 random_state = 123),\n",
    "                                sampling_strategy = 'majority',\n",
    "                                n_estimators = 20,\n",
    "                                replacement = False,\n",
    "                                random_state = 123)\n",
    "\n",
    "RUS.fit(train_x, train_y)"
   ]
  },
  {
   "cell_type": "code",
   "execution_count": 74,
   "id": "71f309a2-5218-4fa3-92a7-8f76e6dae6f6",
   "metadata": {
    "tags": []
   },
   "outputs": [
    {
     "data": {
      "image/png": "[encoded data removed]",
      "text/plain": [
       "<Figure size 576x576 with 2 Axes>"
      ]
     },
     "metadata": {
      "needs_background": "light"
     },
     "output_type": "display_data"
    },
    {
     "name": "stdout",
     "output_type": "stream",
     "text": [
      "              precision    recall  f1-score   support\n",
      "\n",
      "           0       1.00      0.98      0.99     29536\n",
      "           1       0.81      0.94      0.87      2114\n",
      "\n",
      "    accuracy                           0.98     31650\n",
      "   macro avg       0.90      0.96      0.93     31650\n",
      "weighted avg       0.98      0.98      0.98     31650\n",
      "\n"
     ]
    }
   ],
   "source": [
    "pred_y = RUS.predict(test_x)\n",
    "mostrar_resultados(test_y, pred_y)"
   ]
  },
  {
   "cell_type": "markdown",
   "id": "1d4859fc-647f-4d93-b295-ea3e006bf961",
   "metadata": {},
   "source": [
    "---------------"
   ]
  },
  {
   "cell_type": "markdown",
   "id": "9dcdca36-38fd-4d39-98c9-9ce471ee5913",
   "metadata": {},
   "source": [
    "---------------"
   ]
  },
  {
   "cell_type": "markdown",
   "id": "81f2790f-6ea0-446b-88da-ec39d7758718",
   "metadata": {},
   "source": [
    "---------------"
   ]
  },
  {
   "cell_type": "markdown",
   "id": "034a2eec-d84c-4305-8de9-992c5b2da26b",
   "metadata": {},
   "source": [
    "# CONCLUSIONES"
   ]
  },
  {
   "cell_type": "markdown",
   "id": "77d3bb7d-92e4-4136-86da-093701e69a08",
   "metadata": {},
   "source": [
    "| Modelo | Accuracy  | NoClientes - Precision  | NoClientes - Recall  | NoClientes F1-score | Clientes - Precision | Clientes - Recall | Clientes F1-score | # Variables utilizadas\n",
    "|---|:---:|:---:|:---:|:---:|:---:|:---:|:---:|:---:|\n",
    "| Baseline | 0.99 | 0.99 | 1.00 | **1.00** | 1.00 | 0.91 | **0.95** | 28 |  "
   ]
  },
  {
   "cell_type": "markdown",
   "id": "718d01d0-aeae-48b7-9fb3-cfc5c4c6dd0c",
   "metadata": {},
   "source": [
    "### **Resultados** "
   ]
  },
  {
   "cell_type": "markdown",
   "id": "78d2c9ec-39a0-40b2-8521-30c89a8a4763",
   "metadata": {},
   "source": [
    "| Modelo |Tecnica |Algoritmo   | Accuracy  | NoClientes - Precision  | NoClientes - Recall  | NoClientes F1-score | Clientes - Precision | Clientes - Recall | Clientes F1-score | # Variables utilizadas\n",
    "|---|:---:|:---:|:---:|:---:|:---:|:---:|:---:|:---:|:---:|:---:|\n",
    "| Modelo 1 | **Penalización para compensar** | -- | 0.99 | 0.99 | 1.00 | **1.00** | 1.00 | 0.91 | **0.95** | 29 |\n",
    "| Modelo 2 | **Subsampling en la clase mayoritaria** | RandomUnderSampler | 0.96 | 1.00 | 0.97 | **0.98** | 0.67 | 0.95 | **0.78** | 28 |\n",
    "| Modelo 3 | **Oversampling en la clase minoritaria** | SMOTE| 0.99 | 0.99 | 1.00 | **1.00** | 0.99 | 0.92 | **0.95** | 29 |\n",
    "| Modelo 4 | **Combinamos OverSampling con Subsampling** | SMOTE & RandomUnderSampler | 0.99 | 0.99 | 1.00 | **1.00** | 0.98 | 0.92 | **0.95** | 27 |\n",
    "| Modelo 5 | **Combinamos OverSampling con Subsampling** | SMOTE-Tomek| 0.99 | 0.99 | 1.00 | **1.00** | 0.99 | 0.92 | **0.95** | 30 |\n",
    "| Modelo 6 | **Ensamble de Modelos con Balanceo** | BalancedBaggingClassifier| 0.98 | 1.00 | 0.98 | **0.99** | 0.75 | 0.94 | **0.84**  | -- |\n",
    "| Modelo 7 | **Ensamble de Modelos con Balanceo** | RUSBoostClassifier| 0.98 | 1.00 | 0.98 | **0.99** | 0.81 | 0.94 | **0.87** | -- |"
   ]
  },
  {
   "cell_type": "markdown",
   "id": "8bf717f5-f900-40d7-bfc8-32fb1a22be93",
   "metadata": {},
   "source": [
    "Tras los resultados obtenidos y expuestos, podemos concluir que las técnicas que mejores resultados nos han proporcionado estan entre **Penalización para compensar**, **Oversampling en la clase minoritaria** y **Combinamos OverSampling con Subsampling**. Los resultados de las técnicas son muy parecidos al del modelo Base.\n",
    "\n",
    "Análizando las diferentes métricas obtenidas, en primer lugar nos fijamos que todos las diferentes técnicas tienen un F1-score de la clase No Clientes muy similar entre ellas, por lo que marcará la diferencias será la clase Clientes.\n",
    "\n",
    "Observando que el modelo base y las técnicas SMOTE y SMOTE-Tomek son los que mejor F1 en la clase clientes tienen, analizaremos en detalle la precisión y recall de cada uno. Unicamente la técnica de **ensamblado de modelos con balanceo** son los que peor resultado han proporcionado, en los que a F1 de la clase Clientes se refiere. \n",
    "\n",
    "Sin embargo, entendiendo que el objetivo del negocio es poder desarrollar una estrategia en base a un determinado grupo, lo que premiaremos es el modelo que mejor recall tenga, ya que lo que interesa es detectar bien la clase clientes. \n",
    "\n",
    "El modelo que mejor responde a esto es el que utiliza la técnica **Ensamble de Modelos con Balanceo**, en concreto un boosting."
   ]
  }
 ],
 "metadata": {
  "kernelspec": {
   "display_name": "Python 3",
   "language": "python",
   "name": "python3"
  },
  "language_info": {
   "codemirror_mode": {
    "name": "ipython",
    "version": 3
   },
   "file_extension": ".py",
   "mimetype": "text/x-python",
   "name": "python",
   "nbconvert_exporter": "python",
   "pygments_lexer": "ipython3",
   "version": "3.8.8"
  }
 },
 "nbformat": 4,
 "nbformat_minor": 5
}
