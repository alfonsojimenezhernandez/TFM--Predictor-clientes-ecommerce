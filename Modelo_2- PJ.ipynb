{
 "cells": [
  {
   "cell_type": "markdown",
   "id": "ethical-champagne",
   "metadata": {},
   "source": [
    "# TFM - Predicción potenciales compradores de un ecommerce"
   ]
  },
  {
   "cell_type": "markdown",
   "id": "unnecessary-video",
   "metadata": {},
   "source": [
    "Evolución del notebook *Modelo_1.ipynb* unicamente aplicando a **personas Jurídicas**"
   ]
  },
  {
   "cell_type": "markdown",
   "id": "guided-lender",
   "metadata": {},
   "source": [
    "------------------------------------"
   ]
  },
  {
   "cell_type": "markdown",
   "id": "f1d3da8f-3328-46b4-a429-d9db420305c6",
   "metadata": {},
   "source": [
    "------------------"
   ]
  },
  {
   "cell_type": "markdown",
   "id": "related-bruce",
   "metadata": {},
   "source": [
    "### 1.1 Librerias"
   ]
  },
  {
   "cell_type": "code",
   "execution_count": 1,
   "id": "b64eb139-9702-4445-a37f-bd741f6982b4",
   "metadata": {},
   "outputs": [],
   "source": [
    "import pandas as pd\n",
    "import matplotlib.pyplot as plt\n",
    "import seaborn as sns\n",
    "\n",
    "from sklearn.model_selection import train_test_split\n",
    "from sklearn.ensemble import RandomForestClassifier \n",
    "from sklearn.metrics import confusion_matrix\n",
    "from sklearn.metrics import classification_report\n",
    "from sklearn.metrics import roc_auc_score\n",
    "from sklearn.model_selection import ParameterGrid\n",
    "\n",
    "from imblearn.pipeline import Pipeline\n",
    "from imblearn.under_sampling import NearMiss, RandomUnderSampler\n",
    "from imblearn.over_sampling import RandomOverSampler, SMOTE\n",
    "from imblearn.combine import SMOTETomek\n",
    "from imblearn.ensemble import BalancedBaggingClassifier, BalancedRandomForestClassifier, RUSBoostClassifier, EasyEnsembleClassifier\n",
    "\n",
    "from collections import Counter\n",
    "\n",
    "pd.set_option('display.max_columns', 200)\n",
    "\n",
    "import warnings\n",
    "warnings.filterwarnings(\"ignore\")"
   ]
  },
  {
   "cell_type": "markdown",
   "id": "ee290e54-4d6f-4ef7-8aed-4d442185f44d",
   "metadata": {},
   "source": [
    "------------------"
   ]
  },
  {
   "cell_type": "markdown",
   "id": "interior-tucson",
   "metadata": {},
   "source": [
    "### 1.2 Variables globales"
   ]
  },
  {
   "cell_type": "code",
   "execution_count": 2,
   "id": "described-mainland",
   "metadata": {},
   "outputs": [],
   "source": [
    "LABELS = [\"No_Cliente\",\"Cliente\"]"
   ]
  },
  {
   "cell_type": "markdown",
   "id": "10003f48-7fb3-442b-929a-e132559df249",
   "metadata": {},
   "source": [
    "------------------"
   ]
  },
  {
   "cell_type": "markdown",
   "id": "operating-captain",
   "metadata": {},
   "source": [
    "### 1.3 Funciones"
   ]
  },
  {
   "cell_type": "code",
   "execution_count": 3,
   "id": "equal-confidentiality",
   "metadata": {},
   "outputs": [],
   "source": [
    "def mostrar_resultados(y_test, pred_y):\n",
    "    conf_matrix = confusion_matrix(y_test, pred_y)\n",
    "    plt.figure(figsize = (8, 8))\n",
    "    sns.heatmap(conf_matrix, xticklabels = LABELS, yticklabels = LABELS, annot = True, fmt = \"d\");\n",
    "    plt.title(\"Confusion matrix\")\n",
    "    plt.ylabel('True class')\n",
    "    plt.xlabel('Predicted class')\n",
    "    plt.show()\n",
    "    print (classification_report(y_test, pred_y))"
   ]
  },
  {
   "cell_type": "markdown",
   "id": "latter-plastic",
   "metadata": {},
   "source": [
    "------------------------------------"
   ]
  },
  {
   "cell_type": "markdown",
   "id": "e96cf1c9-e1ed-4157-936c-2101ae9b9fe5",
   "metadata": {},
   "source": [
    "------------------"
   ]
  },
  {
   "cell_type": "markdown",
   "id": "aquatic-cartoon",
   "metadata": {},
   "source": [
    "A continuación comenzamos leyendo los ficheros que hemos tratado, limpiado y analizado en los procesos anteriores.\n",
    "\n",
    "Se realizará un análisis sencillo de la estructura y una visualización de varias muestras. \n",
    "\n",
    "Además someteremos las variables categóricas a variables *dummies*, de forma que que podamos introducirlas ennuestro modelo."
   ]
  },
  {
   "cell_type": "markdown",
   "id": "popular-offering",
   "metadata": {},
   "source": [
    "### 2.1 Lectura de Fichero"
   ]
  },
  {
   "cell_type": "code",
   "execution_count": 4,
   "id": "missing-induction",
   "metadata": {},
   "outputs": [],
   "source": [
    "df = pd.read_csv('Data/dataset_model.txt', sep = ';', encoding = 'ISO-8859-1')"
   ]
  },
  {
   "cell_type": "code",
   "execution_count": 5,
   "id": "convertible-brass",
   "metadata": {},
   "outputs": [
    {
     "data": {
      "text/plain": [
       "(367632, 55)"
      ]
     },
     "execution_count": 5,
     "metadata": {},
     "output_type": "execute_result"
    }
   ],
   "source": [
    "df.shape"
   ]
  },
  {
   "cell_type": "code",
   "execution_count": 6,
   "id": "metropolitan-melissa",
   "metadata": {},
   "outputs": [
    {
     "data": {
      "text/html": [
       "<div>\n",
       "<style scoped>\n",
       "    .dataframe tbody tr th:only-of-type {\n",
       "        vertical-align: middle;\n",
       "    }\n",
       "\n",
       "    .dataframe tbody tr th {\n",
       "        vertical-align: top;\n",
       "    }\n",
       "\n",
       "    .dataframe thead th {\n",
       "        text-align: right;\n",
       "    }\n",
       "</style>\n",
       "<table border=\"1\" class=\"dataframe\">\n",
       "  <thead>\n",
       "    <tr style=\"text-align: right;\">\n",
       "      <th></th>\n",
       "      <th>TIPOUSUARIO</th>\n",
       "      <th>FECHA_REGISTRO_BUSINESS_DAY</th>\n",
       "      <th>FECHA_REGISTRO_WEEKDAY</th>\n",
       "      <th>FECHA_REGISTRO_MONTH</th>\n",
       "      <th>CANAL_REGISTRO</th>\n",
       "      <th>FECHA_ALTA_BUSINESS_DAY</th>\n",
       "      <th>FECHA_ALTA_WEEKDAY</th>\n",
       "      <th>FECHA_ALTA_MONTH</th>\n",
       "      <th>REGISTRO_ALTA</th>\n",
       "      <th>IND_ALTA</th>\n",
       "      <th>FECHA_CLIENTE_BUSINESS_DAY</th>\n",
       "      <th>FECHA_CLIENTE_WEEKDAY</th>\n",
       "      <th>FECHA_CLIENTE_MONTH</th>\n",
       "      <th>IND_CLIENTE</th>\n",
       "      <th>TIPOEMAIL</th>\n",
       "      <th>EMAIL_PERSONAL</th>\n",
       "      <th>BONDAD_EMAIL</th>\n",
       "      <th>TIPO_TELF</th>\n",
       "      <th>IPCASOS</th>\n",
       "      <th>IP_CONTINENTE</th>\n",
       "      <th>IP_COLOMBIA</th>\n",
       "      <th>IP_COUNTRY_PIB</th>\n",
       "      <th>IP_COUNTRY_IDH_NUM</th>\n",
       "      <th>IP_COUNTRY_IDH_GROUP</th>\n",
       "      <th>USU_TIPO</th>\n",
       "      <th>USU_TAMANIO</th>\n",
       "      <th>USU_ESTADO</th>\n",
       "      <th>USU_SECTOR_ECONOMICO</th>\n",
       "      <th>USU_DEPART_DEN_POB</th>\n",
       "      <th>USU_DEPART_IDH</th>\n",
       "      <th>FECHACONSUMO_BUSINESS_DAY</th>\n",
       "      <th>FECHACONSUMO_WEEKDAY</th>\n",
       "      <th>FECHACONSUMO_MONTH</th>\n",
       "      <th>ALTA_CONSUMO</th>\n",
       "      <th>CLIENTE_CONSUMO</th>\n",
       "      <th>1A_DESCGRUPOPROD</th>\n",
       "      <th>1A_EMPCONSUL_EST</th>\n",
       "      <th>1A_EMPCONSUL_SECTOR</th>\n",
       "      <th>1A_EMPCONSUL_PROV_DENS</th>\n",
       "      <th>1A_EMPCONSUL_PROV_IDH</th>\n",
       "      <th>CONSUM_TOT</th>\n",
       "      <th>FICH_PROMO_TOT</th>\n",
       "      <th>PERF_PROMO_TOT</th>\n",
       "      <th>RES_PAGO_TOT</th>\n",
       "      <th>EST_ACTIVA_TOT</th>\n",
       "      <th>EST_INACTIVA_TOT</th>\n",
       "      <th>EST_REESTRUCT_TOT</th>\n",
       "      <th>EST_CLINTON_TOT</th>\n",
       "      <th>EST_NI_TOT</th>\n",
       "      <th>SECT_PRIM_TOT</th>\n",
       "      <th>SECT_SECU_TOT</th>\n",
       "      <th>SECT_TERC_TOT</th>\n",
       "      <th>SECT_CUAT_TOT</th>\n",
       "      <th>SECT_QUIN_TOT</th>\n",
       "      <th>SECT_SD_TOT</th>\n",
       "    </tr>\n",
       "  </thead>\n",
       "  <tbody>\n",
       "    <tr>\n",
       "      <th>0</th>\n",
       "      <td>PF</td>\n",
       "      <td>1</td>\n",
       "      <td>1</td>\n",
       "      <td>10</td>\n",
       "      <td>3</td>\n",
       "      <td>-1</td>\n",
       "      <td>-1</td>\n",
       "      <td>-1</td>\n",
       "      <td>-1</td>\n",
       "      <td>0</td>\n",
       "      <td>-1</td>\n",
       "      <td>-1</td>\n",
       "      <td>-1</td>\n",
       "      <td>0</td>\n",
       "      <td>GOOHOTYAHMAIL</td>\n",
       "      <td>1</td>\n",
       "      <td>0</td>\n",
       "      <td>NO_PUBLICO</td>\n",
       "      <td>1</td>\n",
       "      <td>AMERICA_SUR</td>\n",
       "      <td>1</td>\n",
       "      <td>Ingreso mediano alto</td>\n",
       "      <td>0.767</td>\n",
       "      <td>Alto</td>\n",
       "      <td>NoApl</td>\n",
       "      <td>NoApl</td>\n",
       "      <td>NoApl</td>\n",
       "      <td>NoApl</td>\n",
       "      <td>-1.00</td>\n",
       "      <td>-1.000</td>\n",
       "      <td>1</td>\n",
       "      <td>1</td>\n",
       "      <td>10</td>\n",
       "      <td>-1</td>\n",
       "      <td>-1</td>\n",
       "      <td>PERF_PROMO</td>\n",
       "      <td>ACTIVA</td>\n",
       "      <td>TERCIARIO</td>\n",
       "      <td>47.92</td>\n",
       "      <td>0.782</td>\n",
       "      <td>1</td>\n",
       "      <td>0</td>\n",
       "      <td>1</td>\n",
       "      <td>0</td>\n",
       "      <td>1</td>\n",
       "      <td>0</td>\n",
       "      <td>0</td>\n",
       "      <td>0</td>\n",
       "      <td>0</td>\n",
       "      <td>0</td>\n",
       "      <td>0</td>\n",
       "      <td>1</td>\n",
       "      <td>0</td>\n",
       "      <td>0</td>\n",
       "      <td>0</td>\n",
       "    </tr>\n",
       "    <tr>\n",
       "      <th>1</th>\n",
       "      <td>PJ</td>\n",
       "      <td>1</td>\n",
       "      <td>1</td>\n",
       "      <td>5</td>\n",
       "      <td>3</td>\n",
       "      <td>-1</td>\n",
       "      <td>-1</td>\n",
       "      <td>-1</td>\n",
       "      <td>-1</td>\n",
       "      <td>0</td>\n",
       "      <td>-1</td>\n",
       "      <td>-1</td>\n",
       "      <td>-1</td>\n",
       "      <td>0</td>\n",
       "      <td>GOOHOTYAHMAIL</td>\n",
       "      <td>1</td>\n",
       "      <td>1</td>\n",
       "      <td>NO_PUBLICO</td>\n",
       "      <td>1</td>\n",
       "      <td>AMERICA_SUR</td>\n",
       "      <td>1</td>\n",
       "      <td>Ingreso mediano alto</td>\n",
       "      <td>0.767</td>\n",
       "      <td>Alto</td>\n",
       "      <td>SOC_COMERCIAL_INDUSTRIAL</td>\n",
       "      <td>PQ</td>\n",
       "      <td>ACTIVA</td>\n",
       "      <td>TERCIARIO</td>\n",
       "      <td>306.38</td>\n",
       "      <td>0.832</td>\n",
       "      <td>1</td>\n",
       "      <td>1</td>\n",
       "      <td>5</td>\n",
       "      <td>-1</td>\n",
       "      <td>-1</td>\n",
       "      <td>PERF_PROMO</td>\n",
       "      <td>ACTIVA</td>\n",
       "      <td>SD</td>\n",
       "      <td>47.92</td>\n",
       "      <td>0.782</td>\n",
       "      <td>1</td>\n",
       "      <td>0</td>\n",
       "      <td>1</td>\n",
       "      <td>0</td>\n",
       "      <td>1</td>\n",
       "      <td>0</td>\n",
       "      <td>0</td>\n",
       "      <td>0</td>\n",
       "      <td>0</td>\n",
       "      <td>0</td>\n",
       "      <td>0</td>\n",
       "      <td>0</td>\n",
       "      <td>0</td>\n",
       "      <td>0</td>\n",
       "      <td>1</td>\n",
       "    </tr>\n",
       "    <tr>\n",
       "      <th>2</th>\n",
       "      <td>PJ</td>\n",
       "      <td>1</td>\n",
       "      <td>2</td>\n",
       "      <td>9</td>\n",
       "      <td>7</td>\n",
       "      <td>-1</td>\n",
       "      <td>-1</td>\n",
       "      <td>-1</td>\n",
       "      <td>-1</td>\n",
       "      <td>0</td>\n",
       "      <td>-1</td>\n",
       "      <td>-1</td>\n",
       "      <td>-1</td>\n",
       "      <td>0</td>\n",
       "      <td>GOOHOTYAHMAIL</td>\n",
       "      <td>1</td>\n",
       "      <td>1</td>\n",
       "      <td>NO_PUBLICO</td>\n",
       "      <td>1</td>\n",
       "      <td>AMERICA_SUR</td>\n",
       "      <td>1</td>\n",
       "      <td>Ingreso mediano alto</td>\n",
       "      <td>0.767</td>\n",
       "      <td>Alto</td>\n",
       "      <td>SOC_COMERCIAL_INDUSTRIAL</td>\n",
       "      <td>MC</td>\n",
       "      <td>ACTIVA</td>\n",
       "      <td>TERCIARIO</td>\n",
       "      <td>815.17</td>\n",
       "      <td>0.835</td>\n",
       "      <td>1</td>\n",
       "      <td>2</td>\n",
       "      <td>9</td>\n",
       "      <td>-1</td>\n",
       "      <td>-1</td>\n",
       "      <td>PERF_PROMO</td>\n",
       "      <td>ACTIVA</td>\n",
       "      <td>TERCIARIO</td>\n",
       "      <td>4438.75</td>\n",
       "      <td>0.904</td>\n",
       "      <td>1</td>\n",
       "      <td>0</td>\n",
       "      <td>1</td>\n",
       "      <td>0</td>\n",
       "      <td>1</td>\n",
       "      <td>0</td>\n",
       "      <td>0</td>\n",
       "      <td>0</td>\n",
       "      <td>0</td>\n",
       "      <td>0</td>\n",
       "      <td>0</td>\n",
       "      <td>1</td>\n",
       "      <td>0</td>\n",
       "      <td>0</td>\n",
       "      <td>0</td>\n",
       "    </tr>\n",
       "  </tbody>\n",
       "</table>\n",
       "</div>"
      ],
      "text/plain": [
       "  TIPOUSUARIO  FECHA_REGISTRO_BUSINESS_DAY  FECHA_REGISTRO_WEEKDAY  \\\n",
       "0          PF                            1                       1   \n",
       "1          PJ                            1                       1   \n",
       "2          PJ                            1                       2   \n",
       "\n",
       "   FECHA_REGISTRO_MONTH  CANAL_REGISTRO  FECHA_ALTA_BUSINESS_DAY  \\\n",
       "0                    10               3                       -1   \n",
       "1                     5               3                       -1   \n",
       "2                     9               7                       -1   \n",
       "\n",
       "   FECHA_ALTA_WEEKDAY  FECHA_ALTA_MONTH  REGISTRO_ALTA  IND_ALTA  \\\n",
       "0                  -1                -1             -1         0   \n",
       "1                  -1                -1             -1         0   \n",
       "2                  -1                -1             -1         0   \n",
       "\n",
       "   FECHA_CLIENTE_BUSINESS_DAY  FECHA_CLIENTE_WEEKDAY  FECHA_CLIENTE_MONTH  \\\n",
       "0                          -1                     -1                   -1   \n",
       "1                          -1                     -1                   -1   \n",
       "2                          -1                     -1                   -1   \n",
       "\n",
       "   IND_CLIENTE      TIPOEMAIL  EMAIL_PERSONAL  BONDAD_EMAIL   TIPO_TELF  \\\n",
       "0            0  GOOHOTYAHMAIL               1             0  NO_PUBLICO   \n",
       "1            0  GOOHOTYAHMAIL               1             1  NO_PUBLICO   \n",
       "2            0  GOOHOTYAHMAIL               1             1  NO_PUBLICO   \n",
       "\n",
       "   IPCASOS IP_CONTINENTE  IP_COLOMBIA        IP_COUNTRY_PIB  \\\n",
       "0        1   AMERICA_SUR            1  Ingreso mediano alto   \n",
       "1        1   AMERICA_SUR            1  Ingreso mediano alto   \n",
       "2        1   AMERICA_SUR            1  Ingreso mediano alto   \n",
       "\n",
       "   IP_COUNTRY_IDH_NUM IP_COUNTRY_IDH_GROUP                  USU_TIPO  \\\n",
       "0               0.767                 Alto                     NoApl   \n",
       "1               0.767                 Alto  SOC_COMERCIAL_INDUSTRIAL   \n",
       "2               0.767                 Alto  SOC_COMERCIAL_INDUSTRIAL   \n",
       "\n",
       "  USU_TAMANIO USU_ESTADO USU_SECTOR_ECONOMICO  USU_DEPART_DEN_POB  \\\n",
       "0       NoApl      NoApl                NoApl               -1.00   \n",
       "1          PQ     ACTIVA            TERCIARIO              306.38   \n",
       "2          MC     ACTIVA            TERCIARIO              815.17   \n",
       "\n",
       "   USU_DEPART_IDH  FECHACONSUMO_BUSINESS_DAY  FECHACONSUMO_WEEKDAY  \\\n",
       "0          -1.000                          1                     1   \n",
       "1           0.832                          1                     1   \n",
       "2           0.835                          1                     2   \n",
       "\n",
       "   FECHACONSUMO_MONTH  ALTA_CONSUMO  CLIENTE_CONSUMO 1A_DESCGRUPOPROD  \\\n",
       "0                  10            -1               -1       PERF_PROMO   \n",
       "1                   5            -1               -1       PERF_PROMO   \n",
       "2                   9            -1               -1       PERF_PROMO   \n",
       "\n",
       "  1A_EMPCONSUL_EST 1A_EMPCONSUL_SECTOR  1A_EMPCONSUL_PROV_DENS  \\\n",
       "0           ACTIVA           TERCIARIO                   47.92   \n",
       "1           ACTIVA                  SD                   47.92   \n",
       "2           ACTIVA           TERCIARIO                 4438.75   \n",
       "\n",
       "   1A_EMPCONSUL_PROV_IDH  CONSUM_TOT  FICH_PROMO_TOT  PERF_PROMO_TOT  \\\n",
       "0                  0.782           1               0               1   \n",
       "1                  0.782           1               0               1   \n",
       "2                  0.904           1               0               1   \n",
       "\n",
       "   RES_PAGO_TOT  EST_ACTIVA_TOT  EST_INACTIVA_TOT  EST_REESTRUCT_TOT  \\\n",
       "0             0               1                 0                  0   \n",
       "1             0               1                 0                  0   \n",
       "2             0               1                 0                  0   \n",
       "\n",
       "   EST_CLINTON_TOT  EST_NI_TOT  SECT_PRIM_TOT  SECT_SECU_TOT  SECT_TERC_TOT  \\\n",
       "0                0           0              0              0              1   \n",
       "1                0           0              0              0              0   \n",
       "2                0           0              0              0              1   \n",
       "\n",
       "   SECT_CUAT_TOT  SECT_QUIN_TOT  SECT_SD_TOT  \n",
       "0              0              0            0  \n",
       "1              0              0            1  \n",
       "2              0              0            0  "
      ]
     },
     "execution_count": 6,
     "metadata": {},
     "output_type": "execute_result"
    }
   ],
   "source": [
    "df.head(3)"
   ]
  },
  {
   "cell_type": "markdown",
   "id": "8980cbe8-fdd7-4370-bba8-f7902787b1e5",
   "metadata": {},
   "source": [
    "------------------"
   ]
  },
  {
   "cell_type": "markdown",
   "id": "automotive-supervisor",
   "metadata": {},
   "source": [
    "### 2.2 Variables dummies"
   ]
  },
  {
   "cell_type": "code",
   "execution_count": 7,
   "id": "terminal-rotation",
   "metadata": {},
   "outputs": [],
   "source": [
    "ohe_columns = ['TIPOUSUARIO','TIPOEMAIL','TIPO_TELF','IP_CONTINENTE','IP_COUNTRY_PIB','IP_COUNTRY_IDH_GROUP','USU_TIPO','USU_TAMANIO','USU_ESTADO','USU_SECTOR_ECONOMICO',\n",
    "               '1A_DESCGRUPOPROD','1A_EMPCONSUL_EST','1A_EMPCONSUL_SECTOR']"
   ]
  },
  {
   "cell_type": "code",
   "execution_count": 8,
   "id": "comparable-english",
   "metadata": {},
   "outputs": [],
   "source": [
    "final_df = pd.get_dummies(df, columns = ohe_columns)"
   ]
  },
  {
   "cell_type": "markdown",
   "id": "approved-short",
   "metadata": {},
   "source": [
    "**Columnas para la predicción**"
   ]
  },
  {
   "cell_type": "code",
   "execution_count": 9,
   "id": "visible-sweet",
   "metadata": {},
   "outputs": [],
   "source": [
    "columnas = ['TIPOUSUARIO_PF','TIPOUSUARIO_PJ','FECHA_REGISTRO_BUSINESS_DAY','FECHA_REGISTRO_WEEKDAY','FECHA_REGISTRO_MONTH','CANAL_REGISTRO','TIPOEMAIL_ADMINISTRACION','TIPOEMAIL_CORPORATIVO','TIPOEMAIL_DOCENTE',\n",
    "            'TIPOEMAIL_GOOHOTYAHMAIL','TIPOEMAIL_SINCLASIFICAR','TIPOEMAIL_TEMPORAL','EMAIL_PERSONAL','BONDAD_EMAIL','TIPO_TELF_EXTRANJERO','TIPO_TELF_MOVIL','TIPO_TELF_NO_PUBLICO','IPCASOS','IP_CONTINENTE_AFRICA',\n",
    "            'IP_CONTINENTE_AMERICA_NORTE','IP_CONTINENTE_AMERICA_SUR','IP_CONTINENTE_ASIA','IP_CONTINENTE_EUROPA','IP_CONTINENTE_NI','IP_CONTINENTE_OCEANNIA','IP_COLOMBIA','IP_COUNTRY_PIB_Ingreso alto',\n",
    "            'IP_COUNTRY_PIB_Ingreso mediano alto','IP_COUNTRY_PIB_NI','IP_COUNTRY_PIB_Países de ingreso mediano bajo','IP_COUNTRY_IDH_NUM','USU_TIPO_EMPRESARIO INDIVIDUAL','USU_TIPO_ENTIDAD_HOLDING',\n",
    "            'USU_TIPO_NI','USU_TIPO_NoApl','USU_TIPO_SOC_COMERCIAL_INDUSTRIAL','USU_TIPO_SOC_NO_COMERCIAL','USU_TAMANIO_GR','USU_TAMANIO_MC','USU_TAMANIO_MD','USU_TAMANIO_NoApl','USU_TAMANIO_PQ','USU_TAMANIO_SD',\n",
    "            'USU_ESTADO_ACTIVA','USU_ESTADO_INACTIVA','USU_ESTADO_NoApl','USU_ESTADO_REESTRUCTURACION','USU_ESTADO_RELACION_CLINTON','USU_ESTADO_SD','USU_SECTOR_ECONOMICO_CUATERNARIO','USU_SECTOR_ECONOMICO_NoApl',\n",
    "            'USU_SECTOR_ECONOMICO_PRIMARIO','USU_SECTOR_ECONOMICO_QUINARIO','USU_SECTOR_ECONOMICO_SD','USU_SECTOR_ECONOMICO_SECUNDARIO','USU_SECTOR_ECONOMICO_TERCIARIO','USU_DEPART_DEN_POB','USU_DEPART_IDH',\n",
    "            'FECHACONSUMO_BUSINESS_DAY','FECHACONSUMO_WEEKDAY','FECHACONSUMO_MONTH','1A_DESCGRUPOPROD_FICH_PROMO','1A_DESCGRUPOPROD_PERF_PROMO','1A_DESCGRUPOPROD_RES_PAGO','1A_EMPCONSUL_EST_ACTIVA',\n",
    "            '1A_EMPCONSUL_EST_INACTIVA','1A_EMPCONSUL_EST_NI','1A_EMPCONSUL_EST_REESTRUCTURACION','1A_EMPCONSUL_EST_RELACION_CLINTON','1A_EMPCONSUL_SECTOR_CUATERNARIO','1A_EMPCONSUL_SECTOR_PRIMARIO',\n",
    "            '1A_EMPCONSUL_SECTOR_QUINARIO','1A_EMPCONSUL_SECTOR_SD','1A_EMPCONSUL_SECTOR_SECUNDARIO','1A_EMPCONSUL_SECTOR_TERCIARIO','1A_EMPCONSUL_PROV_DENS','1A_EMPCONSUL_PROV_IDH']"
   ]
  },
  {
   "cell_type": "markdown",
   "id": "noted-genetics",
   "metadata": {},
   "source": [
    "-----------------"
   ]
  },
  {
   "cell_type": "markdown",
   "id": "b53a6771-0046-48a6-871c-05a8a6cf2dc2",
   "metadata": {},
   "source": [
    "------------------"
   ]
  },
  {
   "cell_type": "markdown",
   "id": "correct-music",
   "metadata": {},
   "source": [
    "### 3.1 Analisis desbalanceo"
   ]
  },
  {
   "cell_type": "code",
   "execution_count": 10,
   "id": "impaired-liabilities",
   "metadata": {
    "tags": []
   },
   "outputs": [
    {
     "data": {
      "text/plain": [
       "(367632, 108)"
      ]
     },
     "execution_count": 10,
     "metadata": {},
     "output_type": "execute_result"
    }
   ],
   "source": [
    "final_df.shape"
   ]
  },
  {
   "cell_type": "markdown",
   "id": "a47fb811-5b65-4473-aed9-5c46ab287501",
   "metadata": {},
   "source": [
    "**Personas Jurídicas**"
   ]
  },
  {
   "cell_type": "code",
   "execution_count": 11,
   "id": "modern-respect",
   "metadata": {},
   "outputs": [
    {
     "data": {
      "text/plain": [
       "0    89705\n",
       "1     1308\n",
       "Name: IND_CLIENTE, dtype: int64"
      ]
     },
     "execution_count": 11,
     "metadata": {},
     "output_type": "execute_result"
    }
   ],
   "source": [
    "pd.value_counts(final_df.loc[final_df['TIPOUSUARIO_PJ'] == 1, 'IND_CLIENTE'], sort = True)"
   ]
  },
  {
   "cell_type": "code",
   "execution_count": 14,
   "id": "traditional-arthritis",
   "metadata": {},
   "outputs": [
    {
     "data": {
      "image/png": "[encoded data removed]",
      "text/plain": [
       "<Figure size 432x288 with 1 Axes>"
      ]
     },
     "metadata": {
      "needs_background": "light"
     },
     "output_type": "display_data"
    }
   ],
   "source": [
    "count_classes = pd.value_counts(final_df.loc[final_df['TIPOUSUARIO_PJ'] == 1, 'IND_CLIENTE'], sort = True)\n",
    "count_classes.plot(kind = 'bar', rot = 0)\n",
    "plt.xticks(range(2), LABELS)\n",
    "plt.title(\"Frequency by observation number - PJ\")\n",
    "plt.xlabel(\"Target\")\n",
    "plt.ylabel(\"Observations\");"
   ]
  },
  {
   "cell_type": "code",
   "execution_count": 15,
   "id": "ancient-bernard",
   "metadata": {},
   "outputs": [
    {
     "name": "stdout",
     "output_type": "stream",
     "text": [
      "Los clientes suponen un % del total de PJ:  1.4371573291727555\n"
     ]
    }
   ],
   "source": [
    "print('Los clientes suponen un % del total de PJ: ', (1308/final_df.loc[final_df['TIPOUSUARIO_PJ'] == 1].shape[0])*100)"
   ]
  },
  {
   "cell_type": "markdown",
   "id": "outdoor-block",
   "metadata": {},
   "source": [
    "------------------"
   ]
  },
  {
   "cell_type": "markdown",
   "id": "fdd02bf4-e138-4042-a589-d306dc6779e0",
   "metadata": {},
   "source": [
    "------------------"
   ]
  },
  {
   "cell_type": "markdown",
   "id": "central-personality",
   "metadata": {},
   "source": [
    "### 4. Creación del Modelo - Personas Físicas"
   ]
  },
  {
   "cell_type": "markdown",
   "id": "otherwise-capability",
   "metadata": {},
   "source": [
    "#### 4.1 Dividimos el set entre features y label"
   ]
  },
  {
   "cell_type": "code",
   "execution_count": 16,
   "id": "648d6212-4836-49e7-92f6-acfe6726c149",
   "metadata": {},
   "outputs": [],
   "source": [
    "final_df_PF = final_df.loc[final_df['TIPOUSUARIO_PJ'] == 1]"
   ]
  },
  {
   "cell_type": "code",
   "execution_count": 17,
   "id": "integrated-substitute",
   "metadata": {},
   "outputs": [],
   "source": [
    "features = final_df_PF[columnas]\n",
    "labels = final_df_PF['IND_CLIENTE']"
   ]
  },
  {
   "cell_type": "code",
   "execution_count": 18,
   "id": "advance-germany",
   "metadata": {},
   "outputs": [
    {
     "data": {
      "text/plain": [
       "(91013, 77)"
      ]
     },
     "execution_count": 18,
     "metadata": {},
     "output_type": "execute_result"
    }
   ],
   "source": [
    "features.shape"
   ]
  },
  {
   "cell_type": "code",
   "execution_count": 19,
   "id": "lesser-spread",
   "metadata": {},
   "outputs": [
    {
     "data": {
      "text/plain": [
       "(91013,)"
      ]
     },
     "execution_count": 19,
     "metadata": {},
     "output_type": "execute_result"
    }
   ],
   "source": [
    "labels.shape"
   ]
  },
  {
   "cell_type": "markdown",
   "id": "3a931989-9ac6-423c-9670-35bb88a7ca36",
   "metadata": {},
   "source": [
    "------------------"
   ]
  },
  {
   "cell_type": "markdown",
   "id": "furnished-america",
   "metadata": {},
   "source": [
    "#### 4.2 Creamos set de entrenamiento y test"
   ]
  },
  {
   "cell_type": "code",
   "execution_count": 20,
   "id": "caring-thanks",
   "metadata": {},
   "outputs": [],
   "source": [
    "train_x, test_x, train_y, test_y = train_test_split(features, labels, test_size = 0.3, random_state = 123)"
   ]
  },
  {
   "cell_type": "code",
   "execution_count": 21,
   "id": "instructional-hamilton",
   "metadata": {},
   "outputs": [
    {
     "data": {
      "text/plain": [
       "(63709, 77)"
      ]
     },
     "execution_count": 21,
     "metadata": {},
     "output_type": "execute_result"
    }
   ],
   "source": [
    "train_x.shape"
   ]
  },
  {
   "cell_type": "code",
   "execution_count": 22,
   "id": "responsible-hometown",
   "metadata": {},
   "outputs": [
    {
     "data": {
      "text/plain": [
       "(27304, 77)"
      ]
     },
     "execution_count": 22,
     "metadata": {},
     "output_type": "execute_result"
    }
   ],
   "source": [
    "test_x.shape"
   ]
  },
  {
   "cell_type": "code",
   "execution_count": 23,
   "id": "funky-scientist",
   "metadata": {},
   "outputs": [
    {
     "data": {
      "text/plain": [
       "(63709,)"
      ]
     },
     "execution_count": 23,
     "metadata": {},
     "output_type": "execute_result"
    }
   ],
   "source": [
    "train_y.shape"
   ]
  },
  {
   "cell_type": "code",
   "execution_count": 24,
   "id": "regional-discretion",
   "metadata": {},
   "outputs": [
    {
     "data": {
      "text/plain": [
       "(27304,)"
      ]
     },
     "execution_count": 24,
     "metadata": {},
     "output_type": "execute_result"
    }
   ],
   "source": [
    "test_y.shape"
   ]
  },
  {
   "cell_type": "markdown",
   "id": "abbe61b9-fafe-4878-a370-acedd25dba68",
   "metadata": {},
   "source": [
    "------------------"
   ]
  },
  {
   "cell_type": "markdown",
   "id": "canadian-joining",
   "metadata": {},
   "source": [
    "#### 4.3 Selección Hiperparámetros"
   ]
  },
  {
   "cell_type": "markdown",
   "id": "vocational-adrian",
   "metadata": {},
   "source": [
    "Definimos una serie de hiperparámetros diferentes para comparar resultados"
   ]
  },
  {
   "cell_type": "code",
   "execution_count": 25,
   "id": "ebecf80d-9b49-4778-bcf5-2181e2421959",
   "metadata": {},
   "outputs": [],
   "source": [
    "param_grid = ParameterGrid({'n_estimators': [5, 20, 50, 100, 150],\n",
    "                            'max_features': [5, 'log2', 'auto', 'sqrt'],\n",
    "                            'max_depth'   : [None, 3, 5, 7, 10],\n",
    "                            'criterion'   : ['gini', 'entropy'],\n",
    "                            'class_weight': ['balanced']\n",
    "                           })"
   ]
  },
  {
   "cell_type": "markdown",
   "id": "celtic-plaintiff",
   "metadata": {},
   "source": [
    "Loop para ajustar un modelo con cada combinación de hiperparámetros"
   ]
  },
  {
   "cell_type": "code",
   "execution_count": 26,
   "id": "alert-consideration",
   "metadata": {},
   "outputs": [],
   "source": [
    "resultados = {'params': [], 'oob_accuracy': []}"
   ]
  },
  {
   "cell_type": "code",
   "execution_count": 27,
   "id": "large-attitude",
   "metadata": {
    "tags": []
   },
   "outputs": [
    {
     "name": "stdout",
     "output_type": "stream",
     "text": [
      "Modelo: {'class_weight': 'balanced', 'criterion': 'gini', 'max_depth': None, 'max_features': 5, 'n_estimators': 5} ✓\n",
      "Modelo: {'class_weight': 'balanced', 'criterion': 'gini', 'max_depth': None, 'max_features': 5, 'n_estimators': 20} ✓\n",
      "Modelo: {'class_weight': 'balanced', 'criterion': 'gini', 'max_depth': None, 'max_features': 5, 'n_estimators': 50} ✓\n",
      "Modelo: {'class_weight': 'balanced', 'criterion': 'gini', 'max_depth': None, 'max_features': 5, 'n_estimators': 100} ✓\n",
      "Modelo: {'class_weight': 'balanced', 'criterion': 'gini', 'max_depth': None, 'max_features': 5, 'n_estimators': 150} ✓\n",
      "Modelo: {'class_weight': 'balanced', 'criterion': 'gini', 'max_depth': None, 'max_features': 'log2', 'n_estimators': 5} ✓\n",
      "Modelo: {'class_weight': 'balanced', 'criterion': 'gini', 'max_depth': None, 'max_features': 'log2', 'n_estimators': 20} ✓\n",
      "Modelo: {'class_weight': 'balanced', 'criterion': 'gini', 'max_depth': None, 'max_features': 'log2', 'n_estimators': 50} ✓\n",
      "Modelo: {'class_weight': 'balanced', 'criterion': 'gini', 'max_depth': None, 'max_features': 'log2', 'n_estimators': 100} ✓\n",
      "Modelo: {'class_weight': 'balanced', 'criterion': 'gini', 'max_depth': None, 'max_features': 'log2', 'n_estimators': 150} ✓\n",
      "Modelo: {'class_weight': 'balanced', 'criterion': 'gini', 'max_depth': None, 'max_features': 'auto', 'n_estimators': 5} ✓\n",
      "Modelo: {'class_weight': 'balanced', 'criterion': 'gini', 'max_depth': None, 'max_features': 'auto', 'n_estimators': 20} ✓\n",
      "Modelo: {'class_weight': 'balanced', 'criterion': 'gini', 'max_depth': None, 'max_features': 'auto', 'n_estimators': 50} ✓\n",
      "Modelo: {'class_weight': 'balanced', 'criterion': 'gini', 'max_depth': None, 'max_features': 'auto', 'n_estimators': 100} ✓\n",
      "Modelo: {'class_weight': 'balanced', 'criterion': 'gini', 'max_depth': None, 'max_features': 'auto', 'n_estimators': 150} ✓\n",
      "Modelo: {'class_weight': 'balanced', 'criterion': 'gini', 'max_depth': None, 'max_features': 'sqrt', 'n_estimators': 5} ✓\n",
      "Modelo: {'class_weight': 'balanced', 'criterion': 'gini', 'max_depth': None, 'max_features': 'sqrt', 'n_estimators': 20} ✓\n",
      "Modelo: {'class_weight': 'balanced', 'criterion': 'gini', 'max_depth': None, 'max_features': 'sqrt', 'n_estimators': 50} ✓\n",
      "Modelo: {'class_weight': 'balanced', 'criterion': 'gini', 'max_depth': None, 'max_features': 'sqrt', 'n_estimators': 100} ✓\n",
      "Modelo: {'class_weight': 'balanced', 'criterion': 'gini', 'max_depth': None, 'max_features': 'sqrt', 'n_estimators': 150} ✓\n",
      "Modelo: {'class_weight': 'balanced', 'criterion': 'gini', 'max_depth': 3, 'max_features': 5, 'n_estimators': 5} ✓\n",
      "Modelo: {'class_weight': 'balanced', 'criterion': 'gini', 'max_depth': 3, 'max_features': 5, 'n_estimators': 20} ✓\n",
      "Modelo: {'class_weight': 'balanced', 'criterion': 'gini', 'max_depth': 3, 'max_features': 5, 'n_estimators': 50} ✓\n",
      "Modelo: {'class_weight': 'balanced', 'criterion': 'gini', 'max_depth': 3, 'max_features': 5, 'n_estimators': 100} ✓\n",
      "Modelo: {'class_weight': 'balanced', 'criterion': 'gini', 'max_depth': 3, 'max_features': 5, 'n_estimators': 150} ✓\n",
      "Modelo: {'class_weight': 'balanced', 'criterion': 'gini', 'max_depth': 3, 'max_features': 'log2', 'n_estimators': 5} ✓\n",
      "Modelo: {'class_weight': 'balanced', 'criterion': 'gini', 'max_depth': 3, 'max_features': 'log2', 'n_estimators': 20} ✓\n",
      "Modelo: {'class_weight': 'balanced', 'criterion': 'gini', 'max_depth': 3, 'max_features': 'log2', 'n_estimators': 50} ✓\n",
      "Modelo: {'class_weight': 'balanced', 'criterion': 'gini', 'max_depth': 3, 'max_features': 'log2', 'n_estimators': 100} ✓\n",
      "Modelo: {'class_weight': 'balanced', 'criterion': 'gini', 'max_depth': 3, 'max_features': 'log2', 'n_estimators': 150} ✓\n",
      "Modelo: {'class_weight': 'balanced', 'criterion': 'gini', 'max_depth': 3, 'max_features': 'auto', 'n_estimators': 5} ✓\n",
      "Modelo: {'class_weight': 'balanced', 'criterion': 'gini', 'max_depth': 3, 'max_features': 'auto', 'n_estimators': 20} ✓\n",
      "Modelo: {'class_weight': 'balanced', 'criterion': 'gini', 'max_depth': 3, 'max_features': 'auto', 'n_estimators': 50} ✓\n",
      "Modelo: {'class_weight': 'balanced', 'criterion': 'gini', 'max_depth': 3, 'max_features': 'auto', 'n_estimators': 100} ✓\n",
      "Modelo: {'class_weight': 'balanced', 'criterion': 'gini', 'max_depth': 3, 'max_features': 'auto', 'n_estimators': 150} ✓\n",
      "Modelo: {'class_weight': 'balanced', 'criterion': 'gini', 'max_depth': 3, 'max_features': 'sqrt', 'n_estimators': 5} ✓\n",
      "Modelo: {'class_weight': 'balanced', 'criterion': 'gini', 'max_depth': 3, 'max_features': 'sqrt', 'n_estimators': 20} ✓\n",
      "Modelo: {'class_weight': 'balanced', 'criterion': 'gini', 'max_depth': 3, 'max_features': 'sqrt', 'n_estimators': 50} ✓\n",
      "Modelo: {'class_weight': 'balanced', 'criterion': 'gini', 'max_depth': 3, 'max_features': 'sqrt', 'n_estimators': 100} ✓\n",
      "Modelo: {'class_weight': 'balanced', 'criterion': 'gini', 'max_depth': 3, 'max_features': 'sqrt', 'n_estimators': 150} ✓\n",
      "Modelo: {'class_weight': 'balanced', 'criterion': 'gini', 'max_depth': 5, 'max_features': 5, 'n_estimators': 5} ✓\n",
      "Modelo: {'class_weight': 'balanced', 'criterion': 'gini', 'max_depth': 5, 'max_features': 5, 'n_estimators': 20} ✓\n",
      "Modelo: {'class_weight': 'balanced', 'criterion': 'gini', 'max_depth': 5, 'max_features': 5, 'n_estimators': 50} ✓\n",
      "Modelo: {'class_weight': 'balanced', 'criterion': 'gini', 'max_depth': 5, 'max_features': 5, 'n_estimators': 100} ✓\n",
      "Modelo: {'class_weight': 'balanced', 'criterion': 'gini', 'max_depth': 5, 'max_features': 5, 'n_estimators': 150} ✓\n",
      "Modelo: {'class_weight': 'balanced', 'criterion': 'gini', 'max_depth': 5, 'max_features': 'log2', 'n_estimators': 5} ✓\n",
      "Modelo: {'class_weight': 'balanced', 'criterion': 'gini', 'max_depth': 5, 'max_features': 'log2', 'n_estimators': 20} ✓\n",
      "Modelo: {'class_weight': 'balanced', 'criterion': 'gini', 'max_depth': 5, 'max_features': 'log2', 'n_estimators': 50} ✓\n",
      "Modelo: {'class_weight': 'balanced', 'criterion': 'gini', 'max_depth': 5, 'max_features': 'log2', 'n_estimators': 100} ✓\n",
      "Modelo: {'class_weight': 'balanced', 'criterion': 'gini', 'max_depth': 5, 'max_features': 'log2', 'n_estimators': 150} ✓\n",
      "Modelo: {'class_weight': 'balanced', 'criterion': 'gini', 'max_depth': 5, 'max_features': 'auto', 'n_estimators': 5} ✓\n",
      "Modelo: {'class_weight': 'balanced', 'criterion': 'gini', 'max_depth': 5, 'max_features': 'auto', 'n_estimators': 20} ✓\n",
      "Modelo: {'class_weight': 'balanced', 'criterion': 'gini', 'max_depth': 5, 'max_features': 'auto', 'n_estimators': 50} ✓\n",
      "Modelo: {'class_weight': 'balanced', 'criterion': 'gini', 'max_depth': 5, 'max_features': 'auto', 'n_estimators': 100} ✓\n",
      "Modelo: {'class_weight': 'balanced', 'criterion': 'gini', 'max_depth': 5, 'max_features': 'auto', 'n_estimators': 150} ✓\n",
      "Modelo: {'class_weight': 'balanced', 'criterion': 'gini', 'max_depth': 5, 'max_features': 'sqrt', 'n_estimators': 5} ✓\n",
      "Modelo: {'class_weight': 'balanced', 'criterion': 'gini', 'max_depth': 5, 'max_features': 'sqrt', 'n_estimators': 20} ✓\n",
      "Modelo: {'class_weight': 'balanced', 'criterion': 'gini', 'max_depth': 5, 'max_features': 'sqrt', 'n_estimators': 50} ✓\n",
      "Modelo: {'class_weight': 'balanced', 'criterion': 'gini', 'max_depth': 5, 'max_features': 'sqrt', 'n_estimators': 100} ✓\n",
      "Modelo: {'class_weight': 'balanced', 'criterion': 'gini', 'max_depth': 5, 'max_features': 'sqrt', 'n_estimators': 150} ✓\n",
      "Modelo: {'class_weight': 'balanced', 'criterion': 'gini', 'max_depth': 7, 'max_features': 5, 'n_estimators': 5} ✓\n",
      "Modelo: {'class_weight': 'balanced', 'criterion': 'gini', 'max_depth': 7, 'max_features': 5, 'n_estimators': 20} ✓\n",
      "Modelo: {'class_weight': 'balanced', 'criterion': 'gini', 'max_depth': 7, 'max_features': 5, 'n_estimators': 50} ✓\n",
      "Modelo: {'class_weight': 'balanced', 'criterion': 'gini', 'max_depth': 7, 'max_features': 5, 'n_estimators': 100} ✓\n",
      "Modelo: {'class_weight': 'balanced', 'criterion': 'gini', 'max_depth': 7, 'max_features': 5, 'n_estimators': 150} ✓\n",
      "Modelo: {'class_weight': 'balanced', 'criterion': 'gini', 'max_depth': 7, 'max_features': 'log2', 'n_estimators': 5} ✓\n",
      "Modelo: {'class_weight': 'balanced', 'criterion': 'gini', 'max_depth': 7, 'max_features': 'log2', 'n_estimators': 20} ✓\n",
      "Modelo: {'class_weight': 'balanced', 'criterion': 'gini', 'max_depth': 7, 'max_features': 'log2', 'n_estimators': 50} ✓\n",
      "Modelo: {'class_weight': 'balanced', 'criterion': 'gini', 'max_depth': 7, 'max_features': 'log2', 'n_estimators': 100} ✓\n",
      "Modelo: {'class_weight': 'balanced', 'criterion': 'gini', 'max_depth': 7, 'max_features': 'log2', 'n_estimators': 150} ✓\n",
      "Modelo: {'class_weight': 'balanced', 'criterion': 'gini', 'max_depth': 7, 'max_features': 'auto', 'n_estimators': 5} ✓\n",
      "Modelo: {'class_weight': 'balanced', 'criterion': 'gini', 'max_depth': 7, 'max_features': 'auto', 'n_estimators': 20} ✓\n",
      "Modelo: {'class_weight': 'balanced', 'criterion': 'gini', 'max_depth': 7, 'max_features': 'auto', 'n_estimators': 50} ✓\n",
      "Modelo: {'class_weight': 'balanced', 'criterion': 'gini', 'max_depth': 7, 'max_features': 'auto', 'n_estimators': 100} ✓\n",
      "Modelo: {'class_weight': 'balanced', 'criterion': 'gini', 'max_depth': 7, 'max_features': 'auto', 'n_estimators': 150} ✓\n",
      "Modelo: {'class_weight': 'balanced', 'criterion': 'gini', 'max_depth': 7, 'max_features': 'sqrt', 'n_estimators': 5} ✓\n",
      "Modelo: {'class_weight': 'balanced', 'criterion': 'gini', 'max_depth': 7, 'max_features': 'sqrt', 'n_estimators': 20} ✓\n",
      "Modelo: {'class_weight': 'balanced', 'criterion': 'gini', 'max_depth': 7, 'max_features': 'sqrt', 'n_estimators': 50} ✓\n",
      "Modelo: {'class_weight': 'balanced', 'criterion': 'gini', 'max_depth': 7, 'max_features': 'sqrt', 'n_estimators': 100} ✓\n",
      "Modelo: {'class_weight': 'balanced', 'criterion': 'gini', 'max_depth': 7, 'max_features': 'sqrt', 'n_estimators': 150} ✓\n",
      "Modelo: {'class_weight': 'balanced', 'criterion': 'gini', 'max_depth': 10, 'max_features': 5, 'n_estimators': 5} ✓\n",
      "Modelo: {'class_weight': 'balanced', 'criterion': 'gini', 'max_depth': 10, 'max_features': 5, 'n_estimators': 20} ✓\n",
      "Modelo: {'class_weight': 'balanced', 'criterion': 'gini', 'max_depth': 10, 'max_features': 5, 'n_estimators': 50} ✓\n",
      "Modelo: {'class_weight': 'balanced', 'criterion': 'gini', 'max_depth': 10, 'max_features': 5, 'n_estimators': 100} ✓\n",
      "Modelo: {'class_weight': 'balanced', 'criterion': 'gini', 'max_depth': 10, 'max_features': 5, 'n_estimators': 150} ✓\n",
      "Modelo: {'class_weight': 'balanced', 'criterion': 'gini', 'max_depth': 10, 'max_features': 'log2', 'n_estimators': 5} ✓\n",
      "Modelo: {'class_weight': 'balanced', 'criterion': 'gini', 'max_depth': 10, 'max_features': 'log2', 'n_estimators': 20} ✓\n",
      "Modelo: {'class_weight': 'balanced', 'criterion': 'gini', 'max_depth': 10, 'max_features': 'log2', 'n_estimators': 50} ✓\n",
      "Modelo: {'class_weight': 'balanced', 'criterion': 'gini', 'max_depth': 10, 'max_features': 'log2', 'n_estimators': 100} ✓\n",
      "Modelo: {'class_weight': 'balanced', 'criterion': 'gini', 'max_depth': 10, 'max_features': 'log2', 'n_estimators': 150} ✓\n",
      "Modelo: {'class_weight': 'balanced', 'criterion': 'gini', 'max_depth': 10, 'max_features': 'auto', 'n_estimators': 5} ✓\n",
      "Modelo: {'class_weight': 'balanced', 'criterion': 'gini', 'max_depth': 10, 'max_features': 'auto', 'n_estimators': 20} ✓\n",
      "Modelo: {'class_weight': 'balanced', 'criterion': 'gini', 'max_depth': 10, 'max_features': 'auto', 'n_estimators': 50} ✓\n",
      "Modelo: {'class_weight': 'balanced', 'criterion': 'gini', 'max_depth': 10, 'max_features': 'auto', 'n_estimators': 100} ✓\n",
      "Modelo: {'class_weight': 'balanced', 'criterion': 'gini', 'max_depth': 10, 'max_features': 'auto', 'n_estimators': 150} ✓\n",
      "Modelo: {'class_weight': 'balanced', 'criterion': 'gini', 'max_depth': 10, 'max_features': 'sqrt', 'n_estimators': 5} ✓\n",
      "Modelo: {'class_weight': 'balanced', 'criterion': 'gini', 'max_depth': 10, 'max_features': 'sqrt', 'n_estimators': 20} ✓\n",
      "Modelo: {'class_weight': 'balanced', 'criterion': 'gini', 'max_depth': 10, 'max_features': 'sqrt', 'n_estimators': 50} ✓\n",
      "Modelo: {'class_weight': 'balanced', 'criterion': 'gini', 'max_depth': 10, 'max_features': 'sqrt', 'n_estimators': 100} ✓\n",
      "Modelo: {'class_weight': 'balanced', 'criterion': 'gini', 'max_depth': 10, 'max_features': 'sqrt', 'n_estimators': 150} ✓\n",
      "Modelo: {'class_weight': 'balanced', 'criterion': 'entropy', 'max_depth': None, 'max_features': 5, 'n_estimators': 5} ✓\n",
      "Modelo: {'class_weight': 'balanced', 'criterion': 'entropy', 'max_depth': None, 'max_features': 5, 'n_estimators': 20} ✓\n",
      "Modelo: {'class_weight': 'balanced', 'criterion': 'entropy', 'max_depth': None, 'max_features': 5, 'n_estimators': 50} ✓\n",
      "Modelo: {'class_weight': 'balanced', 'criterion': 'entropy', 'max_depth': None, 'max_features': 5, 'n_estimators': 100} ✓\n",
      "Modelo: {'class_weight': 'balanced', 'criterion': 'entropy', 'max_depth': None, 'max_features': 5, 'n_estimators': 150} ✓\n",
      "Modelo: {'class_weight': 'balanced', 'criterion': 'entropy', 'max_depth': None, 'max_features': 'log2', 'n_estimators': 5} ✓\n",
      "Modelo: {'class_weight': 'balanced', 'criterion': 'entropy', 'max_depth': None, 'max_features': 'log2', 'n_estimators': 20} ✓\n",
      "Modelo: {'class_weight': 'balanced', 'criterion': 'entropy', 'max_depth': None, 'max_features': 'log2', 'n_estimators': 50} ✓\n",
      "Modelo: {'class_weight': 'balanced', 'criterion': 'entropy', 'max_depth': None, 'max_features': 'log2', 'n_estimators': 100} ✓\n",
      "Modelo: {'class_weight': 'balanced', 'criterion': 'entropy', 'max_depth': None, 'max_features': 'log2', 'n_estimators': 150} ✓\n",
      "Modelo: {'class_weight': 'balanced', 'criterion': 'entropy', 'max_depth': None, 'max_features': 'auto', 'n_estimators': 5} ✓\n",
      "Modelo: {'class_weight': 'balanced', 'criterion': 'entropy', 'max_depth': None, 'max_features': 'auto', 'n_estimators': 20} ✓\n",
      "Modelo: {'class_weight': 'balanced', 'criterion': 'entropy', 'max_depth': None, 'max_features': 'auto', 'n_estimators': 50} ✓\n",
      "Modelo: {'class_weight': 'balanced', 'criterion': 'entropy', 'max_depth': None, 'max_features': 'auto', 'n_estimators': 100} ✓\n",
      "Modelo: {'class_weight': 'balanced', 'criterion': 'entropy', 'max_depth': None, 'max_features': 'auto', 'n_estimators': 150} ✓\n",
      "Modelo: {'class_weight': 'balanced', 'criterion': 'entropy', 'max_depth': None, 'max_features': 'sqrt', 'n_estimators': 5} ✓\n",
      "Modelo: {'class_weight': 'balanced', 'criterion': 'entropy', 'max_depth': None, 'max_features': 'sqrt', 'n_estimators': 20} ✓\n",
      "Modelo: {'class_weight': 'balanced', 'criterion': 'entropy', 'max_depth': None, 'max_features': 'sqrt', 'n_estimators': 50} ✓\n",
      "Modelo: {'class_weight': 'balanced', 'criterion': 'entropy', 'max_depth': None, 'max_features': 'sqrt', 'n_estimators': 100} ✓\n",
      "Modelo: {'class_weight': 'balanced', 'criterion': 'entropy', 'max_depth': None, 'max_features': 'sqrt', 'n_estimators': 150} ✓\n",
      "Modelo: {'class_weight': 'balanced', 'criterion': 'entropy', 'max_depth': 3, 'max_features': 5, 'n_estimators': 5} ✓\n",
      "Modelo: {'class_weight': 'balanced', 'criterion': 'entropy', 'max_depth': 3, 'max_features': 5, 'n_estimators': 20} ✓\n",
      "Modelo: {'class_weight': 'balanced', 'criterion': 'entropy', 'max_depth': 3, 'max_features': 5, 'n_estimators': 50} ✓\n",
      "Modelo: {'class_weight': 'balanced', 'criterion': 'entropy', 'max_depth': 3, 'max_features': 5, 'n_estimators': 100} ✓\n",
      "Modelo: {'class_weight': 'balanced', 'criterion': 'entropy', 'max_depth': 3, 'max_features': 5, 'n_estimators': 150} ✓\n",
      "Modelo: {'class_weight': 'balanced', 'criterion': 'entropy', 'max_depth': 3, 'max_features': 'log2', 'n_estimators': 5} ✓\n",
      "Modelo: {'class_weight': 'balanced', 'criterion': 'entropy', 'max_depth': 3, 'max_features': 'log2', 'n_estimators': 20} ✓\n",
      "Modelo: {'class_weight': 'balanced', 'criterion': 'entropy', 'max_depth': 3, 'max_features': 'log2', 'n_estimators': 50} ✓\n",
      "Modelo: {'class_weight': 'balanced', 'criterion': 'entropy', 'max_depth': 3, 'max_features': 'log2', 'n_estimators': 100} ✓\n",
      "Modelo: {'class_weight': 'balanced', 'criterion': 'entropy', 'max_depth': 3, 'max_features': 'log2', 'n_estimators': 150} ✓\n",
      "Modelo: {'class_weight': 'balanced', 'criterion': 'entropy', 'max_depth': 3, 'max_features': 'auto', 'n_estimators': 5} ✓\n",
      "Modelo: {'class_weight': 'balanced', 'criterion': 'entropy', 'max_depth': 3, 'max_features': 'auto', 'n_estimators': 20} ✓\n",
      "Modelo: {'class_weight': 'balanced', 'criterion': 'entropy', 'max_depth': 3, 'max_features': 'auto', 'n_estimators': 50} ✓\n",
      "Modelo: {'class_weight': 'balanced', 'criterion': 'entropy', 'max_depth': 3, 'max_features': 'auto', 'n_estimators': 100} ✓\n",
      "Modelo: {'class_weight': 'balanced', 'criterion': 'entropy', 'max_depth': 3, 'max_features': 'auto', 'n_estimators': 150} ✓\n",
      "Modelo: {'class_weight': 'balanced', 'criterion': 'entropy', 'max_depth': 3, 'max_features': 'sqrt', 'n_estimators': 5} ✓\n",
      "Modelo: {'class_weight': 'balanced', 'criterion': 'entropy', 'max_depth': 3, 'max_features': 'sqrt', 'n_estimators': 20} ✓\n",
      "Modelo: {'class_weight': 'balanced', 'criterion': 'entropy', 'max_depth': 3, 'max_features': 'sqrt', 'n_estimators': 50} ✓\n",
      "Modelo: {'class_weight': 'balanced', 'criterion': 'entropy', 'max_depth': 3, 'max_features': 'sqrt', 'n_estimators': 100} ✓\n",
      "Modelo: {'class_weight': 'balanced', 'criterion': 'entropy', 'max_depth': 3, 'max_features': 'sqrt', 'n_estimators': 150} ✓\n",
      "Modelo: {'class_weight': 'balanced', 'criterion': 'entropy', 'max_depth': 5, 'max_features': 5, 'n_estimators': 5} ✓\n",
      "Modelo: {'class_weight': 'balanced', 'criterion': 'entropy', 'max_depth': 5, 'max_features': 5, 'n_estimators': 20} ✓\n",
      "Modelo: {'class_weight': 'balanced', 'criterion': 'entropy', 'max_depth': 5, 'max_features': 5, 'n_estimators': 50} ✓\n",
      "Modelo: {'class_weight': 'balanced', 'criterion': 'entropy', 'max_depth': 5, 'max_features': 5, 'n_estimators': 100} ✓\n",
      "Modelo: {'class_weight': 'balanced', 'criterion': 'entropy', 'max_depth': 5, 'max_features': 5, 'n_estimators': 150} ✓\n",
      "Modelo: {'class_weight': 'balanced', 'criterion': 'entropy', 'max_depth': 5, 'max_features': 'log2', 'n_estimators': 5} ✓\n",
      "Modelo: {'class_weight': 'balanced', 'criterion': 'entropy', 'max_depth': 5, 'max_features': 'log2', 'n_estimators': 20} ✓\n",
      "Modelo: {'class_weight': 'balanced', 'criterion': 'entropy', 'max_depth': 5, 'max_features': 'log2', 'n_estimators': 50} ✓\n",
      "Modelo: {'class_weight': 'balanced', 'criterion': 'entropy', 'max_depth': 5, 'max_features': 'log2', 'n_estimators': 100} ✓\n",
      "Modelo: {'class_weight': 'balanced', 'criterion': 'entropy', 'max_depth': 5, 'max_features': 'log2', 'n_estimators': 150} ✓\n",
      "Modelo: {'class_weight': 'balanced', 'criterion': 'entropy', 'max_depth': 5, 'max_features': 'auto', 'n_estimators': 5} ✓\n",
      "Modelo: {'class_weight': 'balanced', 'criterion': 'entropy', 'max_depth': 5, 'max_features': 'auto', 'n_estimators': 20} ✓\n",
      "Modelo: {'class_weight': 'balanced', 'criterion': 'entropy', 'max_depth': 5, 'max_features': 'auto', 'n_estimators': 50} ✓\n",
      "Modelo: {'class_weight': 'balanced', 'criterion': 'entropy', 'max_depth': 5, 'max_features': 'auto', 'n_estimators': 100} ✓\n",
      "Modelo: {'class_weight': 'balanced', 'criterion': 'entropy', 'max_depth': 5, 'max_features': 'auto', 'n_estimators': 150} ✓\n",
      "Modelo: {'class_weight': 'balanced', 'criterion': 'entropy', 'max_depth': 5, 'max_features': 'sqrt', 'n_estimators': 5} ✓\n",
      "Modelo: {'class_weight': 'balanced', 'criterion': 'entropy', 'max_depth': 5, 'max_features': 'sqrt', 'n_estimators': 20} ✓\n",
      "Modelo: {'class_weight': 'balanced', 'criterion': 'entropy', 'max_depth': 5, 'max_features': 'sqrt', 'n_estimators': 50} ✓\n",
      "Modelo: {'class_weight': 'balanced', 'criterion': 'entropy', 'max_depth': 5, 'max_features': 'sqrt', 'n_estimators': 100} ✓\n",
      "Modelo: {'class_weight': 'balanced', 'criterion': 'entropy', 'max_depth': 5, 'max_features': 'sqrt', 'n_estimators': 150} ✓\n",
      "Modelo: {'class_weight': 'balanced', 'criterion': 'entropy', 'max_depth': 7, 'max_features': 5, 'n_estimators': 5} ✓\n",
      "Modelo: {'class_weight': 'balanced', 'criterion': 'entropy', 'max_depth': 7, 'max_features': 5, 'n_estimators': 20} ✓\n",
      "Modelo: {'class_weight': 'balanced', 'criterion': 'entropy', 'max_depth': 7, 'max_features': 5, 'n_estimators': 50} ✓\n",
      "Modelo: {'class_weight': 'balanced', 'criterion': 'entropy', 'max_depth': 7, 'max_features': 5, 'n_estimators': 100} ✓\n",
      "Modelo: {'class_weight': 'balanced', 'criterion': 'entropy', 'max_depth': 7, 'max_features': 5, 'n_estimators': 150} ✓\n",
      "Modelo: {'class_weight': 'balanced', 'criterion': 'entropy', 'max_depth': 7, 'max_features': 'log2', 'n_estimators': 5} ✓\n",
      "Modelo: {'class_weight': 'balanced', 'criterion': 'entropy', 'max_depth': 7, 'max_features': 'log2', 'n_estimators': 20} ✓\n",
      "Modelo: {'class_weight': 'balanced', 'criterion': 'entropy', 'max_depth': 7, 'max_features': 'log2', 'n_estimators': 50} ✓\n",
      "Modelo: {'class_weight': 'balanced', 'criterion': 'entropy', 'max_depth': 7, 'max_features': 'log2', 'n_estimators': 100} ✓\n",
      "Modelo: {'class_weight': 'balanced', 'criterion': 'entropy', 'max_depth': 7, 'max_features': 'log2', 'n_estimators': 150} ✓\n",
      "Modelo: {'class_weight': 'balanced', 'criterion': 'entropy', 'max_depth': 7, 'max_features': 'auto', 'n_estimators': 5} ✓\n",
      "Modelo: {'class_weight': 'balanced', 'criterion': 'entropy', 'max_depth': 7, 'max_features': 'auto', 'n_estimators': 20} ✓\n",
      "Modelo: {'class_weight': 'balanced', 'criterion': 'entropy', 'max_depth': 7, 'max_features': 'auto', 'n_estimators': 50} ✓\n",
      "Modelo: {'class_weight': 'balanced', 'criterion': 'entropy', 'max_depth': 7, 'max_features': 'auto', 'n_estimators': 100} ✓\n",
      "Modelo: {'class_weight': 'balanced', 'criterion': 'entropy', 'max_depth': 7, 'max_features': 'auto', 'n_estimators': 150} ✓\n",
      "Modelo: {'class_weight': 'balanced', 'criterion': 'entropy', 'max_depth': 7, 'max_features': 'sqrt', 'n_estimators': 5} ✓\n",
      "Modelo: {'class_weight': 'balanced', 'criterion': 'entropy', 'max_depth': 7, 'max_features': 'sqrt', 'n_estimators': 20} ✓\n",
      "Modelo: {'class_weight': 'balanced', 'criterion': 'entropy', 'max_depth': 7, 'max_features': 'sqrt', 'n_estimators': 50} ✓\n",
      "Modelo: {'class_weight': 'balanced', 'criterion': 'entropy', 'max_depth': 7, 'max_features': 'sqrt', 'n_estimators': 100} ✓\n",
      "Modelo: {'class_weight': 'balanced', 'criterion': 'entropy', 'max_depth': 7, 'max_features': 'sqrt', 'n_estimators': 150} ✓\n",
      "Modelo: {'class_weight': 'balanced', 'criterion': 'entropy', 'max_depth': 10, 'max_features': 5, 'n_estimators': 5} ✓\n",
      "Modelo: {'class_weight': 'balanced', 'criterion': 'entropy', 'max_depth': 10, 'max_features': 5, 'n_estimators': 20} ✓\n",
      "Modelo: {'class_weight': 'balanced', 'criterion': 'entropy', 'max_depth': 10, 'max_features': 5, 'n_estimators': 50} ✓\n",
      "Modelo: {'class_weight': 'balanced', 'criterion': 'entropy', 'max_depth': 10, 'max_features': 5, 'n_estimators': 100} ✓\n",
      "Modelo: {'class_weight': 'balanced', 'criterion': 'entropy', 'max_depth': 10, 'max_features': 5, 'n_estimators': 150} ✓\n",
      "Modelo: {'class_weight': 'balanced', 'criterion': 'entropy', 'max_depth': 10, 'max_features': 'log2', 'n_estimators': 5} ✓\n",
      "Modelo: {'class_weight': 'balanced', 'criterion': 'entropy', 'max_depth': 10, 'max_features': 'log2', 'n_estimators': 20} ✓\n",
      "Modelo: {'class_weight': 'balanced', 'criterion': 'entropy', 'max_depth': 10, 'max_features': 'log2', 'n_estimators': 50} ✓\n",
      "Modelo: {'class_weight': 'balanced', 'criterion': 'entropy', 'max_depth': 10, 'max_features': 'log2', 'n_estimators': 100} ✓\n",
      "Modelo: {'class_weight': 'balanced', 'criterion': 'entropy', 'max_depth': 10, 'max_features': 'log2', 'n_estimators': 150} ✓\n",
      "Modelo: {'class_weight': 'balanced', 'criterion': 'entropy', 'max_depth': 10, 'max_features': 'auto', 'n_estimators': 5} ✓\n",
      "Modelo: {'class_weight': 'balanced', 'criterion': 'entropy', 'max_depth': 10, 'max_features': 'auto', 'n_estimators': 20} ✓\n",
      "Modelo: {'class_weight': 'balanced', 'criterion': 'entropy', 'max_depth': 10, 'max_features': 'auto', 'n_estimators': 50} ✓\n",
      "Modelo: {'class_weight': 'balanced', 'criterion': 'entropy', 'max_depth': 10, 'max_features': 'auto', 'n_estimators': 100} ✓\n",
      "Modelo: {'class_weight': 'balanced', 'criterion': 'entropy', 'max_depth': 10, 'max_features': 'auto', 'n_estimators': 150} ✓\n",
      "Modelo: {'class_weight': 'balanced', 'criterion': 'entropy', 'max_depth': 10, 'max_features': 'sqrt', 'n_estimators': 5} ✓\n",
      "Modelo: {'class_weight': 'balanced', 'criterion': 'entropy', 'max_depth': 10, 'max_features': 'sqrt', 'n_estimators': 20} ✓\n",
      "Modelo: {'class_weight': 'balanced', 'criterion': 'entropy', 'max_depth': 10, 'max_features': 'sqrt', 'n_estimators': 50} ✓\n",
      "Modelo: {'class_weight': 'balanced', 'criterion': 'entropy', 'max_depth': 10, 'max_features': 'sqrt', 'n_estimators': 100} ✓\n",
      "Modelo: {'class_weight': 'balanced', 'criterion': 'entropy', 'max_depth': 10, 'max_features': 'sqrt', 'n_estimators': 150} ✓\n"
     ]
    }
   ],
   "source": [
    "for params in param_grid:\n",
    "    \n",
    "    modelo = RandomForestClassifier(\n",
    "                oob_score    = True,\n",
    "                n_jobs       = -1,\n",
    "                random_state = 123,\n",
    "                ** params\n",
    "             )\n",
    "    \n",
    "    modelo.fit(train_x, train_y)\n",
    "    \n",
    "    resultados['params'].append(params)\n",
    "    resultados['oob_accuracy'].append(modelo.oob_score_)\n",
    "    print(f\"Modelo: {params} \\u2713\")"
   ]
  },
  {
   "cell_type": "code",
   "execution_count": 28,
   "id": "lonely-perception",
   "metadata": {},
   "outputs": [
    {
     "data": {
      "text/html": [
       "<div>\n",
       "<style scoped>\n",
       "    .dataframe tbody tr th:only-of-type {\n",
       "        vertical-align: middle;\n",
       "    }\n",
       "\n",
       "    .dataframe tbody tr th {\n",
       "        vertical-align: top;\n",
       "    }\n",
       "\n",
       "    .dataframe thead th {\n",
       "        text-align: right;\n",
       "    }\n",
       "</style>\n",
       "<table border=\"1\" class=\"dataframe\">\n",
       "  <thead>\n",
       "    <tr style=\"text-align: right;\">\n",
       "      <th></th>\n",
       "      <th>oob_accuracy</th>\n",
       "      <th>class_weight</th>\n",
       "      <th>criterion</th>\n",
       "      <th>max_depth</th>\n",
       "      <th>max_features</th>\n",
       "      <th>n_estimators</th>\n",
       "    </tr>\n",
       "  </thead>\n",
       "  <tbody>\n",
       "    <tr>\n",
       "      <th>114</th>\n",
       "      <td>0.985842</td>\n",
       "      <td>balanced</td>\n",
       "      <td>entropy</td>\n",
       "      <td>NaN</td>\n",
       "      <td>auto</td>\n",
       "      <td>150</td>\n",
       "    </tr>\n",
       "    <tr>\n",
       "      <th>119</th>\n",
       "      <td>0.985842</td>\n",
       "      <td>balanced</td>\n",
       "      <td>entropy</td>\n",
       "      <td>NaN</td>\n",
       "      <td>sqrt</td>\n",
       "      <td>150</td>\n",
       "    </tr>\n",
       "    <tr>\n",
       "      <th>2</th>\n",
       "      <td>0.985779</td>\n",
       "      <td>balanced</td>\n",
       "      <td>gini</td>\n",
       "      <td>NaN</td>\n",
       "      <td>5</td>\n",
       "      <td>50</td>\n",
       "    </tr>\n",
       "    <tr>\n",
       "      <th>109</th>\n",
       "      <td>0.985748</td>\n",
       "      <td>balanced</td>\n",
       "      <td>entropy</td>\n",
       "      <td>NaN</td>\n",
       "      <td>log2</td>\n",
       "      <td>150</td>\n",
       "    </tr>\n",
       "  </tbody>\n",
       "</table>\n",
       "</div>"
      ],
      "text/plain": [
       "     oob_accuracy class_weight criterion  max_depth max_features  n_estimators\n",
       "114      0.985842     balanced   entropy        NaN         auto           150\n",
       "119      0.985842     balanced   entropy        NaN         sqrt           150\n",
       "2        0.985779     balanced      gini        NaN            5            50\n",
       "109      0.985748     balanced   entropy        NaN         log2           150"
      ]
     },
     "execution_count": 28,
     "metadata": {},
     "output_type": "execute_result"
    }
   ],
   "source": [
    "resultados = pd.DataFrame(resultados)\n",
    "resultados = pd.concat([resultados, resultados['params'].apply(pd.Series)], axis=1)\n",
    "resultados = resultados.drop(columns = 'params')\n",
    "resultados = resultados.sort_values('oob_accuracy', ascending=False)\n",
    "resultados.head(4)"
   ]
  },
  {
   "cell_type": "markdown",
   "id": "31669bd2-f71a-46f1-9e78-c0b596620939",
   "metadata": {},
   "source": [
    "**Seleccionamos los mejores hiperparámetros**"
   ]
  },
  {
   "cell_type": "code",
   "execution_count": 29,
   "id": "995db6cf-2e2d-4ad4-b2f9-ddf2583c2f67",
   "metadata": {},
   "outputs": [
    {
     "name": "stdout",
     "output_type": "stream",
     "text": [
      "Mejores hiperparámetros encontrados (oob-accuracy)\n",
      "--------------------------------------------------\n",
      "Estimators: \n",
      " oob_accuracy    0.985842\n",
      "class_weight    balanced\n",
      "criterion        entropy\n",
      "max_depth            NaN\n",
      "max_features        auto\n",
      "n_estimators         150\n",
      "Name: 114, dtype: object accuracy\n"
     ]
    }
   ],
   "source": [
    "print(\"Mejores hiperparámetros encontrados (oob-accuracy)\")\n",
    "print('--------------------------------------------------')\n",
    "print(\"Estimators: \\n\", resultados.iloc[0,:], \"accuracy\")"
   ]
  },
  {
   "cell_type": "markdown",
   "id": "b464f98b-0919-4273-be3b-294a6af461a4",
   "metadata": {},
   "source": [
    "--------------"
   ]
  },
  {
   "cell_type": "markdown",
   "id": "c2e52de5-59f3-4aee-9eaa-45d437dde347",
   "metadata": {},
   "source": [
    "--------------"
   ]
  },
  {
   "cell_type": "markdown",
   "id": "52564134-88e7-45ce-8cce-2bd313130de9",
   "metadata": {},
   "source": [
    "#### 4.4 Modelo 1 - Baseline"
   ]
  },
  {
   "cell_type": "markdown",
   "id": "cc1c45b7-f093-4da3-ae96-17a9e5aed5e7",
   "metadata": {},
   "source": [
    "Nuestro modelo Base, tendrá los parámetros obtenidos como mejores anteriormente."
   ]
  },
  {
   "cell_type": "markdown",
   "id": "658340b2-5b18-4c3c-9bf6-aa9110185835",
   "metadata": {},
   "source": [
    "**Aplicamos los mejores hiperparámetros obtenidos**"
   ]
  },
  {
   "cell_type": "code",
   "execution_count": 30,
   "id": "insured-combine",
   "metadata": {},
   "outputs": [
    {
     "data": {
      "text/plain": [
       "RandomForestClassifier(criterion='entropy', n_estimators=150, n_jobs=-1,\n",
       "                       random_state=123)"
      ]
     },
     "execution_count": 30,
     "metadata": {},
     "output_type": "execute_result"
    }
   ],
   "source": [
    "rf = RandomForestClassifier(criterion = 'entropy', \n",
    "                            n_estimators = 150, \n",
    "                            max_features = 'auto', \n",
    "                            max_depth = None, \n",
    "                            n_jobs = -1,\n",
    "                            random_state = 123)\n",
    "\n",
    "rf.fit(train_x, train_y)"
   ]
  },
  {
   "cell_type": "markdown",
   "id": "2dbc7f8f-39ee-43df-9406-a0cc0f1e7dca",
   "metadata": {},
   "source": [
    "Observamos los resultados del modelo"
   ]
  },
  {
   "cell_type": "code",
   "execution_count": 31,
   "id": "harmful-liver",
   "metadata": {},
   "outputs": [
    {
     "data": {
      "image/png": "[encoded data removed]",
      "text/plain": [
       "<Figure size 576x576 with 2 Axes>"
      ]
     },
     "metadata": {
      "needs_background": "light"
     },
     "output_type": "display_data"
    },
    {
     "name": "stdout",
     "output_type": "stream",
     "text": [
      "              precision    recall  f1-score   support\n",
      "\n",
      "           0       0.99      1.00      0.99     26912\n",
      "           1       0.71      0.04      0.07       392\n",
      "\n",
      "    accuracy                           0.99     27304\n",
      "   macro avg       0.85      0.52      0.53     27304\n",
      "weighted avg       0.98      0.99      0.98     27304\n",
      "\n"
     ]
    }
   ],
   "source": [
    "pred_y = rf.predict(test_x)\n",
    "mostrar_resultados(test_y, pred_y)"
   ]
  },
  {
   "cell_type": "code",
   "execution_count": 32,
   "id": "demographic-means",
   "metadata": {},
   "outputs": [],
   "source": [
    "feature_importances = pd.DataFrame(rf.feature_importances_, index = train_x.columns, columns = ['important']).sort_values(['important'], ascending = 0)"
   ]
  },
  {
   "cell_type": "code",
   "execution_count": 33,
   "id": "unlikely-holder",
   "metadata": {
    "collapsed": true,
    "jupyter": {
     "outputs_hidden": true
    },
    "tags": []
   },
   "outputs": [
    {
     "data": {
      "text/html": [
       "<div>\n",
       "<style scoped>\n",
       "    .dataframe tbody tr th:only-of-type {\n",
       "        vertical-align: middle;\n",
       "    }\n",
       "\n",
       "    .dataframe tbody tr th {\n",
       "        vertical-align: top;\n",
       "    }\n",
       "\n",
       "    .dataframe thead th {\n",
       "        text-align: right;\n",
       "    }\n",
       "</style>\n",
       "<table border=\"1\" class=\"dataframe\">\n",
       "  <thead>\n",
       "    <tr style=\"text-align: right;\">\n",
       "      <th></th>\n",
       "      <th>important</th>\n",
       "    </tr>\n",
       "  </thead>\n",
       "  <tbody>\n",
       "    <tr>\n",
       "      <th>CANAL_REGISTRO</th>\n",
       "      <td>8.457007</td>\n",
       "    </tr>\n",
       "    <tr>\n",
       "      <th>IPCASOS</th>\n",
       "      <td>7.280383</td>\n",
       "    </tr>\n",
       "    <tr>\n",
       "      <th>FECHACONSUMO_MONTH</th>\n",
       "      <td>6.849277</td>\n",
       "    </tr>\n",
       "    <tr>\n",
       "      <th>FECHA_REGISTRO_MONTH</th>\n",
       "      <td>6.679758</td>\n",
       "    </tr>\n",
       "    <tr>\n",
       "      <th>FECHA_REGISTRO_WEEKDAY</th>\n",
       "      <td>5.044742</td>\n",
       "    </tr>\n",
       "    <tr>\n",
       "      <th>FECHACONSUMO_WEEKDAY</th>\n",
       "      <td>5.003389</td>\n",
       "    </tr>\n",
       "    <tr>\n",
       "      <th>1A_EMPCONSUL_PROV_IDH</th>\n",
       "      <td>4.074702</td>\n",
       "    </tr>\n",
       "    <tr>\n",
       "      <th>USU_DEPART_IDH</th>\n",
       "      <td>4.061166</td>\n",
       "    </tr>\n",
       "    <tr>\n",
       "      <th>1A_EMPCONSUL_PROV_DENS</th>\n",
       "      <td>4.039397</td>\n",
       "    </tr>\n",
       "    <tr>\n",
       "      <th>USU_DEPART_DEN_POB</th>\n",
       "      <td>4.018398</td>\n",
       "    </tr>\n",
       "    <tr>\n",
       "      <th>1A_DESCGRUPOPROD_PERF_PROMO</th>\n",
       "      <td>2.453482</td>\n",
       "    </tr>\n",
       "    <tr>\n",
       "      <th>1A_DESCGRUPOPROD_FICH_PROMO</th>\n",
       "      <td>2.124618</td>\n",
       "    </tr>\n",
       "    <tr>\n",
       "      <th>USU_TIPO_SOC_COMERCIAL_INDUSTRIAL</th>\n",
       "      <td>2.024662</td>\n",
       "    </tr>\n",
       "    <tr>\n",
       "      <th>TIPO_TELF_MOVIL</th>\n",
       "      <td>1.899667</td>\n",
       "    </tr>\n",
       "    <tr>\n",
       "      <th>TIPO_TELF_EXTRANJERO</th>\n",
       "      <td>1.862636</td>\n",
       "    </tr>\n",
       "    <tr>\n",
       "      <th>1A_EMPCONSUL_SECTOR_SECUNDARIO</th>\n",
       "      <td>1.689891</td>\n",
       "    </tr>\n",
       "    <tr>\n",
       "      <th>1A_EMPCONSUL_SECTOR_TERCIARIO</th>\n",
       "      <td>1.678080</td>\n",
       "    </tr>\n",
       "    <tr>\n",
       "      <th>USU_SECTOR_ECONOMICO_TERCIARIO</th>\n",
       "      <td>1.639313</td>\n",
       "    </tr>\n",
       "    <tr>\n",
       "      <th>USU_TIPO_EMPRESARIO INDIVIDUAL</th>\n",
       "      <td>1.515458</td>\n",
       "    </tr>\n",
       "    <tr>\n",
       "      <th>USU_TAMANIO_MC</th>\n",
       "      <td>1.438630</td>\n",
       "    </tr>\n",
       "    <tr>\n",
       "      <th>BONDAD_EMAIL</th>\n",
       "      <td>1.404097</td>\n",
       "    </tr>\n",
       "    <tr>\n",
       "      <th>TIPO_TELF_NO_PUBLICO</th>\n",
       "      <td>1.339764</td>\n",
       "    </tr>\n",
       "    <tr>\n",
       "      <th>USU_SECTOR_ECONOMICO_SECUNDARIO</th>\n",
       "      <td>1.285435</td>\n",
       "    </tr>\n",
       "    <tr>\n",
       "      <th>USU_TAMANIO_PQ</th>\n",
       "      <td>1.254425</td>\n",
       "    </tr>\n",
       "    <tr>\n",
       "      <th>USU_SECTOR_ECONOMICO_CUATERNARIO</th>\n",
       "      <td>1.215861</td>\n",
       "    </tr>\n",
       "    <tr>\n",
       "      <th>TIPOEMAIL_CORPORATIVO</th>\n",
       "      <td>1.076734</td>\n",
       "    </tr>\n",
       "    <tr>\n",
       "      <th>USU_TAMANIO_MD</th>\n",
       "      <td>1.060734</td>\n",
       "    </tr>\n",
       "    <tr>\n",
       "      <th>TIPOEMAIL_GOOHOTYAHMAIL</th>\n",
       "      <td>1.028814</td>\n",
       "    </tr>\n",
       "    <tr>\n",
       "      <th>EMAIL_PERSONAL</th>\n",
       "      <td>1.025981</td>\n",
       "    </tr>\n",
       "  </tbody>\n",
       "</table>\n",
       "</div>"
      ],
      "text/plain": [
       "                                   important\n",
       "CANAL_REGISTRO                      8.457007\n",
       "IPCASOS                             7.280383\n",
       "FECHACONSUMO_MONTH                  6.849277\n",
       "FECHA_REGISTRO_MONTH                6.679758\n",
       "FECHA_REGISTRO_WEEKDAY              5.044742\n",
       "FECHACONSUMO_WEEKDAY                5.003389\n",
       "1A_EMPCONSUL_PROV_IDH               4.074702\n",
       "USU_DEPART_IDH                      4.061166\n",
       "1A_EMPCONSUL_PROV_DENS              4.039397\n",
       "USU_DEPART_DEN_POB                  4.018398\n",
       "1A_DESCGRUPOPROD_PERF_PROMO         2.453482\n",
       "1A_DESCGRUPOPROD_FICH_PROMO         2.124618\n",
       "USU_TIPO_SOC_COMERCIAL_INDUSTRIAL   2.024662\n",
       "TIPO_TELF_MOVIL                     1.899667\n",
       "TIPO_TELF_EXTRANJERO                1.862636\n",
       "1A_EMPCONSUL_SECTOR_SECUNDARIO      1.689891\n",
       "1A_EMPCONSUL_SECTOR_TERCIARIO       1.678080\n",
       "USU_SECTOR_ECONOMICO_TERCIARIO      1.639313\n",
       "USU_TIPO_EMPRESARIO INDIVIDUAL      1.515458\n",
       "USU_TAMANIO_MC                      1.438630\n",
       "BONDAD_EMAIL                        1.404097\n",
       "TIPO_TELF_NO_PUBLICO                1.339764\n",
       "USU_SECTOR_ECONOMICO_SECUNDARIO     1.285435\n",
       "USU_TAMANIO_PQ                      1.254425\n",
       "USU_SECTOR_ECONOMICO_CUATERNARIO    1.215861\n",
       "TIPOEMAIL_CORPORATIVO               1.076734\n",
       "USU_TAMANIO_MD                      1.060734\n",
       "TIPOEMAIL_GOOHOTYAHMAIL             1.028814\n",
       "EMAIL_PERSONAL                      1.025981"
      ]
     },
     "execution_count": 33,
     "metadata": {},
     "output_type": "execute_result"
    }
   ],
   "source": [
    "feature_importances[feature_importances['important'] > 0.01]*100"
   ]
  },
  {
   "cell_type": "code",
   "execution_count": 34,
   "id": "3daff4e8-5a98-4a0a-84e7-f63f59d3da77",
   "metadata": {},
   "outputs": [
    {
     "data": {
      "text/plain": [
       "(29, 1)"
      ]
     },
     "execution_count": 34,
     "metadata": {},
     "output_type": "execute_result"
    }
   ],
   "source": [
    "feature_importances[feature_importances['important'] > 0.01].shape"
   ]
  },
  {
   "cell_type": "markdown",
   "id": "cc4e389e-3f00-4e28-b6c9-fa04010869c8",
   "metadata": {},
   "source": [
    "------"
   ]
  },
  {
   "cell_type": "markdown",
   "id": "fea0c9ea-d735-48d8-9ee5-1fc520963f2d",
   "metadata": {},
   "source": [
    "------"
   ]
  },
  {
   "cell_type": "markdown",
   "id": "94303935-77c5-41aa-a9c2-77b749b5bc6f",
   "metadata": {},
   "source": [
    "------"
   ]
  },
  {
   "cell_type": "markdown",
   "id": "47f29614-b625-4eb1-83dc-528963d4c00d",
   "metadata": {},
   "source": [
    "#### 4.5 Modelo - Aplicando técnicas sobre el desbalanceo"
   ]
  },
  {
   "cell_type": "markdown",
   "id": "5fb1a513-7e01-444f-812b-6efd1d893277",
   "metadata": {},
   "source": [
    "**Estrategias para el manejo de Datos Desbalanceados**"
   ]
  },
  {
   "cell_type": "markdown",
   "id": "b0499b98-8f47-40cc-a4f3-3aa7659f33cf",
   "metadata": {},
   "source": [
    "##### **4.5.1 Penalización para compensar**"
   ]
  },
  {
   "cell_type": "code",
   "execution_count": 35,
   "id": "de195ce5-dcff-43f3-9ce1-0603e8ecd69a",
   "metadata": {},
   "outputs": [
    {
     "data": {
      "text/plain": [
       "RandomForestClassifier(class_weight='balanced', criterion='entropy',\n",
       "                       n_estimators=150, n_jobs=-1, random_state=123)"
      ]
     },
     "execution_count": 35,
     "metadata": {},
     "output_type": "execute_result"
    }
   ],
   "source": [
    "rf = RandomForestClassifier(criterion = 'entropy', \n",
    "                            n_estimators = 150, \n",
    "                            max_features = 'auto', \n",
    "                            max_depth = None, \n",
    "                            n_jobs = -1,\n",
    "                            random_state = 123,\n",
    "                            class_weight = 'balanced')\n",
    "\n",
    "rf.fit(train_x, train_y)"
   ]
  },
  {
   "cell_type": "markdown",
   "id": "96ca8181-2155-4384-9372-fb2aaec69651",
   "metadata": {},
   "source": [
    "Observamos los resultados del modelo"
   ]
  },
  {
   "cell_type": "code",
   "execution_count": 36,
   "id": "66603d3f-ea40-4b10-a197-cec0ec738f1d",
   "metadata": {},
   "outputs": [
    {
     "data": {
      "image/png": "[encoded data removed]",
      "text/plain": [
       "<Figure size 576x576 with 2 Axes>"
      ]
     },
     "metadata": {
      "needs_background": "light"
     },
     "output_type": "display_data"
    },
    {
     "name": "stdout",
     "output_type": "stream",
     "text": [
      "              precision    recall  f1-score   support\n",
      "\n",
      "           0       0.99      1.00      0.99     26912\n",
      "           1       0.70      0.04      0.07       392\n",
      "\n",
      "    accuracy                           0.99     27304\n",
      "   macro avg       0.84      0.52      0.53     27304\n",
      "weighted avg       0.98      0.99      0.98     27304\n",
      "\n"
     ]
    }
   ],
   "source": [
    "pred_y = rf.predict(test_x)\n",
    "mostrar_resultados(test_y, pred_y)"
   ]
  },
  {
   "cell_type": "code",
   "execution_count": 37,
   "id": "698df7e5-01a6-4610-9b99-08044445bc31",
   "metadata": {},
   "outputs": [],
   "source": [
    "feature_importances = pd.DataFrame(rf.feature_importances_, index = train_x.columns, columns = ['important']).sort_values(['important'], ascending = 0)"
   ]
  },
  {
   "cell_type": "code",
   "execution_count": 38,
   "id": "e7e52b7a-0fff-4f70-8aa8-b0a73aca2904",
   "metadata": {
    "collapsed": true,
    "jupyter": {
     "outputs_hidden": true
    },
    "tags": []
   },
   "outputs": [
    {
     "data": {
      "text/html": [
       "<div>\n",
       "<style scoped>\n",
       "    .dataframe tbody tr th:only-of-type {\n",
       "        vertical-align: middle;\n",
       "    }\n",
       "\n",
       "    .dataframe tbody tr th {\n",
       "        vertical-align: top;\n",
       "    }\n",
       "\n",
       "    .dataframe thead th {\n",
       "        text-align: right;\n",
       "    }\n",
       "</style>\n",
       "<table border=\"1\" class=\"dataframe\">\n",
       "  <thead>\n",
       "    <tr style=\"text-align: right;\">\n",
       "      <th></th>\n",
       "      <th>important</th>\n",
       "    </tr>\n",
       "  </thead>\n",
       "  <tbody>\n",
       "    <tr>\n",
       "      <th>CANAL_REGISTRO</th>\n",
       "      <td>8.267353</td>\n",
       "    </tr>\n",
       "    <tr>\n",
       "      <th>IPCASOS</th>\n",
       "      <td>6.698110</td>\n",
       "    </tr>\n",
       "    <tr>\n",
       "      <th>FECHACONSUMO_MONTH</th>\n",
       "      <td>6.090512</td>\n",
       "    </tr>\n",
       "    <tr>\n",
       "      <th>FECHA_REGISTRO_MONTH</th>\n",
       "      <td>5.918983</td>\n",
       "    </tr>\n",
       "    <tr>\n",
       "      <th>USU_DEPART_DEN_POB</th>\n",
       "      <td>4.706933</td>\n",
       "    </tr>\n",
       "    <tr>\n",
       "      <th>FECHACONSUMO_WEEKDAY</th>\n",
       "      <td>4.475697</td>\n",
       "    </tr>\n",
       "    <tr>\n",
       "      <th>USU_DEPART_IDH</th>\n",
       "      <td>4.472480</td>\n",
       "    </tr>\n",
       "    <tr>\n",
       "      <th>FECHA_REGISTRO_WEEKDAY</th>\n",
       "      <td>4.458411</td>\n",
       "    </tr>\n",
       "    <tr>\n",
       "      <th>1A_EMPCONSUL_PROV_IDH</th>\n",
       "      <td>4.314082</td>\n",
       "    </tr>\n",
       "    <tr>\n",
       "      <th>1A_EMPCONSUL_PROV_DENS</th>\n",
       "      <td>4.277158</td>\n",
       "    </tr>\n",
       "    <tr>\n",
       "      <th>USU_TIPO_SOC_COMERCIAL_INDUSTRIAL</th>\n",
       "      <td>3.220077</td>\n",
       "    </tr>\n",
       "    <tr>\n",
       "      <th>1A_DESCGRUPOPROD_PERF_PROMO</th>\n",
       "      <td>2.949820</td>\n",
       "    </tr>\n",
       "    <tr>\n",
       "      <th>USU_TIPO_EMPRESARIO INDIVIDUAL</th>\n",
       "      <td>2.691395</td>\n",
       "    </tr>\n",
       "    <tr>\n",
       "      <th>1A_DESCGRUPOPROD_FICH_PROMO</th>\n",
       "      <td>2.343469</td>\n",
       "    </tr>\n",
       "    <tr>\n",
       "      <th>BONDAD_EMAIL</th>\n",
       "      <td>2.058580</td>\n",
       "    </tr>\n",
       "    <tr>\n",
       "      <th>TIPO_TELF_MOVIL</th>\n",
       "      <td>1.674959</td>\n",
       "    </tr>\n",
       "    <tr>\n",
       "      <th>USU_TAMANIO_MC</th>\n",
       "      <td>1.667902</td>\n",
       "    </tr>\n",
       "    <tr>\n",
       "      <th>TIPO_TELF_EXTRANJERO</th>\n",
       "      <td>1.619878</td>\n",
       "    </tr>\n",
       "    <tr>\n",
       "      <th>1A_EMPCONSUL_SECTOR_TERCIARIO</th>\n",
       "      <td>1.593477</td>\n",
       "    </tr>\n",
       "    <tr>\n",
       "      <th>1A_EMPCONSUL_SECTOR_SECUNDARIO</th>\n",
       "      <td>1.499962</td>\n",
       "    </tr>\n",
       "    <tr>\n",
       "      <th>USU_SECTOR_ECONOMICO_TERCIARIO</th>\n",
       "      <td>1.446934</td>\n",
       "    </tr>\n",
       "    <tr>\n",
       "      <th>TIPO_TELF_NO_PUBLICO</th>\n",
       "      <td>1.291573</td>\n",
       "    </tr>\n",
       "    <tr>\n",
       "      <th>USU_SECTOR_ECONOMICO_SECUNDARIO</th>\n",
       "      <td>1.187829</td>\n",
       "    </tr>\n",
       "    <tr>\n",
       "      <th>EMAIL_PERSONAL</th>\n",
       "      <td>1.183835</td>\n",
       "    </tr>\n",
       "    <tr>\n",
       "      <th>TIPOEMAIL_GOOHOTYAHMAIL</th>\n",
       "      <td>1.137266</td>\n",
       "    </tr>\n",
       "    <tr>\n",
       "      <th>USU_ESTADO_ACTIVA</th>\n",
       "      <td>1.069638</td>\n",
       "    </tr>\n",
       "    <tr>\n",
       "      <th>USU_TAMANIO_PQ</th>\n",
       "      <td>1.028990</td>\n",
       "    </tr>\n",
       "    <tr>\n",
       "      <th>USU_SECTOR_ECONOMICO_CUATERNARIO</th>\n",
       "      <td>1.014675</td>\n",
       "    </tr>\n",
       "  </tbody>\n",
       "</table>\n",
       "</div>"
      ],
      "text/plain": [
       "                                   important\n",
       "CANAL_REGISTRO                      8.267353\n",
       "IPCASOS                             6.698110\n",
       "FECHACONSUMO_MONTH                  6.090512\n",
       "FECHA_REGISTRO_MONTH                5.918983\n",
       "USU_DEPART_DEN_POB                  4.706933\n",
       "FECHACONSUMO_WEEKDAY                4.475697\n",
       "USU_DEPART_IDH                      4.472480\n",
       "FECHA_REGISTRO_WEEKDAY              4.458411\n",
       "1A_EMPCONSUL_PROV_IDH               4.314082\n",
       "1A_EMPCONSUL_PROV_DENS              4.277158\n",
       "USU_TIPO_SOC_COMERCIAL_INDUSTRIAL   3.220077\n",
       "1A_DESCGRUPOPROD_PERF_PROMO         2.949820\n",
       "USU_TIPO_EMPRESARIO INDIVIDUAL      2.691395\n",
       "1A_DESCGRUPOPROD_FICH_PROMO         2.343469\n",
       "BONDAD_EMAIL                        2.058580\n",
       "TIPO_TELF_MOVIL                     1.674959\n",
       "USU_TAMANIO_MC                      1.667902\n",
       "TIPO_TELF_EXTRANJERO                1.619878\n",
       "1A_EMPCONSUL_SECTOR_TERCIARIO       1.593477\n",
       "1A_EMPCONSUL_SECTOR_SECUNDARIO      1.499962\n",
       "USU_SECTOR_ECONOMICO_TERCIARIO      1.446934\n",
       "TIPO_TELF_NO_PUBLICO                1.291573\n",
       "USU_SECTOR_ECONOMICO_SECUNDARIO     1.187829\n",
       "EMAIL_PERSONAL                      1.183835\n",
       "TIPOEMAIL_GOOHOTYAHMAIL             1.137266\n",
       "USU_ESTADO_ACTIVA                   1.069638\n",
       "USU_TAMANIO_PQ                      1.028990\n",
       "USU_SECTOR_ECONOMICO_CUATERNARIO    1.014675"
      ]
     },
     "execution_count": 38,
     "metadata": {},
     "output_type": "execute_result"
    }
   ],
   "source": [
    "feature_importances[feature_importances['important'] > 0.01]*100"
   ]
  },
  {
   "cell_type": "code",
   "execution_count": 39,
   "id": "389ed0c0-0795-4063-8de3-9ecb452fd181",
   "metadata": {},
   "outputs": [
    {
     "data": {
      "text/plain": [
       "(28, 1)"
      ]
     },
     "execution_count": 39,
     "metadata": {},
     "output_type": "execute_result"
    }
   ],
   "source": [
    "feature_importances[feature_importances['important'] > 0.01].shape"
   ]
  },
  {
   "cell_type": "markdown",
   "id": "db8d7fe4-1abe-46d0-9fd4-3f26b27da983",
   "metadata": {},
   "source": [
    "------"
   ]
  },
  {
   "cell_type": "markdown",
   "id": "671c422e-313c-460a-a95d-922840ff4603",
   "metadata": {},
   "source": [
    "##### **4.5.2 Subsampling en la clase mayoritaria**"
   ]
  },
  {
   "cell_type": "markdown",
   "id": "76ffd6dd-2f62-43e4-be40-0f651d3cd720",
   "metadata": {},
   "source": [
    "**RandomUnderSampler**"
   ]
  },
  {
   "cell_type": "code",
   "execution_count": 40,
   "id": "92589441-2475-4611-afd9-269983ce28c4",
   "metadata": {},
   "outputs": [
    {
     "name": "stdout",
     "output_type": "stream",
     "text": [
      "Distribution before resampling Counter({0: 62793, 1: 916})\n",
      "Distribution after resampling Counter({0: 916, 1: 916})\n"
     ]
    }
   ],
   "source": [
    "us = RandomUnderSampler(sampling_strategy = 'majority', random_state = 123)\n",
    "X_train_res, y_train_res = us.fit_resample(train_x, train_y)\n",
    " \n",
    "print (\"Distribution before resampling {}\".format(Counter(train_y)))\n",
    "print (\"Distribution after resampling {}\".format(Counter(y_train_res)))"
   ]
  },
  {
   "cell_type": "code",
   "execution_count": 41,
   "id": "f23be3a1-da53-44a8-8062-219f8047381a",
   "metadata": {},
   "outputs": [
    {
     "data": {
      "text/plain": [
       "RandomForestClassifier(criterion='entropy', n_estimators=150, n_jobs=-1,\n",
       "                       random_state=123)"
      ]
     },
     "execution_count": 41,
     "metadata": {},
     "output_type": "execute_result"
    }
   ],
   "source": [
    "rf = RandomForestClassifier(criterion = 'entropy', \n",
    "                            n_estimators = 150, \n",
    "                            max_features = 'auto', \n",
    "                            max_depth = None, \n",
    "                            n_jobs = -1,\n",
    "                            random_state = 123)\n",
    "\n",
    "rf.fit(X_train_res, y_train_res)"
   ]
  },
  {
   "cell_type": "code",
   "execution_count": 42,
   "id": "92cca6f8-bf96-4b65-a4aa-d05d1d681af2",
   "metadata": {},
   "outputs": [
    {
     "data": {
      "image/png": "[encoded data removed]",
      "text/plain": [
       "<Figure size 576x576 with 2 Axes>"
      ]
     },
     "metadata": {
      "needs_background": "light"
     },
     "output_type": "display_data"
    },
    {
     "name": "stdout",
     "output_type": "stream",
     "text": [
      "              precision    recall  f1-score   support\n",
      "\n",
      "           0       0.99      0.77      0.87     26912\n",
      "           1       0.04      0.70      0.08       392\n",
      "\n",
      "    accuracy                           0.77     27304\n",
      "   macro avg       0.52      0.73      0.47     27304\n",
      "weighted avg       0.98      0.77      0.86     27304\n",
      "\n"
     ]
    }
   ],
   "source": [
    "pred_y = rf.predict(test_x)\n",
    "mostrar_resultados(test_y, pred_y)"
   ]
  },
  {
   "cell_type": "code",
   "execution_count": 43,
   "id": "8b86ffdb-bb4a-4f11-b67b-5cf561557d15",
   "metadata": {},
   "outputs": [],
   "source": [
    "feature_importances = pd.DataFrame(rf.feature_importances_, index = train_x.columns, columns = ['important']).sort_values(['important'], ascending = 0)"
   ]
  },
  {
   "cell_type": "code",
   "execution_count": 44,
   "id": "e8830509-3da5-464d-9eb9-1f4b637500de",
   "metadata": {
    "collapsed": true,
    "jupyter": {
     "outputs_hidden": true
    },
    "tags": []
   },
   "outputs": [
    {
     "data": {
      "text/html": [
       "<div>\n",
       "<style scoped>\n",
       "    .dataframe tbody tr th:only-of-type {\n",
       "        vertical-align: middle;\n",
       "    }\n",
       "\n",
       "    .dataframe tbody tr th {\n",
       "        vertical-align: top;\n",
       "    }\n",
       "\n",
       "    .dataframe thead th {\n",
       "        text-align: right;\n",
       "    }\n",
       "</style>\n",
       "<table border=\"1\" class=\"dataframe\">\n",
       "  <thead>\n",
       "    <tr style=\"text-align: right;\">\n",
       "      <th></th>\n",
       "      <th>important</th>\n",
       "    </tr>\n",
       "  </thead>\n",
       "  <tbody>\n",
       "    <tr>\n",
       "      <th>CANAL_REGISTRO</th>\n",
       "      <td>7.890727</td>\n",
       "    </tr>\n",
       "    <tr>\n",
       "      <th>IPCASOS</th>\n",
       "      <td>6.122164</td>\n",
       "    </tr>\n",
       "    <tr>\n",
       "      <th>FECHACONSUMO_MONTH</th>\n",
       "      <td>5.927945</td>\n",
       "    </tr>\n",
       "    <tr>\n",
       "      <th>FECHA_REGISTRO_MONTH</th>\n",
       "      <td>5.609257</td>\n",
       "    </tr>\n",
       "    <tr>\n",
       "      <th>USU_DEPART_IDH</th>\n",
       "      <td>4.846220</td>\n",
       "    </tr>\n",
       "    <tr>\n",
       "      <th>USU_DEPART_DEN_POB</th>\n",
       "      <td>4.591398</td>\n",
       "    </tr>\n",
       "    <tr>\n",
       "      <th>FECHA_REGISTRO_WEEKDAY</th>\n",
       "      <td>4.529437</td>\n",
       "    </tr>\n",
       "    <tr>\n",
       "      <th>1A_EMPCONSUL_PROV_DENS</th>\n",
       "      <td>4.449271</td>\n",
       "    </tr>\n",
       "    <tr>\n",
       "      <th>1A_EMPCONSUL_PROV_IDH</th>\n",
       "      <td>4.379074</td>\n",
       "    </tr>\n",
       "    <tr>\n",
       "      <th>FECHACONSUMO_WEEKDAY</th>\n",
       "      <td>4.148372</td>\n",
       "    </tr>\n",
       "    <tr>\n",
       "      <th>1A_DESCGRUPOPROD_PERF_PROMO</th>\n",
       "      <td>3.069033</td>\n",
       "    </tr>\n",
       "    <tr>\n",
       "      <th>USU_TIPO_SOC_COMERCIAL_INDUSTRIAL</th>\n",
       "      <td>2.919699</td>\n",
       "    </tr>\n",
       "    <tr>\n",
       "      <th>USU_TIPO_EMPRESARIO INDIVIDUAL</th>\n",
       "      <td>2.846853</td>\n",
       "    </tr>\n",
       "    <tr>\n",
       "      <th>1A_DESCGRUPOPROD_FICH_PROMO</th>\n",
       "      <td>2.074391</td>\n",
       "    </tr>\n",
       "    <tr>\n",
       "      <th>1A_EMPCONSUL_SECTOR_TERCIARIO</th>\n",
       "      <td>1.775229</td>\n",
       "    </tr>\n",
       "    <tr>\n",
       "      <th>USU_TAMANIO_MC</th>\n",
       "      <td>1.733076</td>\n",
       "    </tr>\n",
       "    <tr>\n",
       "      <th>TIPO_TELF_MOVIL</th>\n",
       "      <td>1.686699</td>\n",
       "    </tr>\n",
       "    <tr>\n",
       "      <th>TIPO_TELF_EXTRANJERO</th>\n",
       "      <td>1.682931</td>\n",
       "    </tr>\n",
       "    <tr>\n",
       "      <th>1A_EMPCONSUL_SECTOR_SECUNDARIO</th>\n",
       "      <td>1.551984</td>\n",
       "    </tr>\n",
       "    <tr>\n",
       "      <th>USU_SECTOR_ECONOMICO_TERCIARIO</th>\n",
       "      <td>1.527217</td>\n",
       "    </tr>\n",
       "    <tr>\n",
       "      <th>BONDAD_EMAIL</th>\n",
       "      <td>1.455837</td>\n",
       "    </tr>\n",
       "    <tr>\n",
       "      <th>TIPOEMAIL_GOOHOTYAHMAIL</th>\n",
       "      <td>1.409374</td>\n",
       "    </tr>\n",
       "    <tr>\n",
       "      <th>TIPO_TELF_NO_PUBLICO</th>\n",
       "      <td>1.265599</td>\n",
       "    </tr>\n",
       "    <tr>\n",
       "      <th>USU_TAMANIO_PQ</th>\n",
       "      <td>1.230203</td>\n",
       "    </tr>\n",
       "    <tr>\n",
       "      <th>USU_SECTOR_ECONOMICO_SECUNDARIO</th>\n",
       "      <td>1.218126</td>\n",
       "    </tr>\n",
       "    <tr>\n",
       "      <th>EMAIL_PERSONAL</th>\n",
       "      <td>1.196107</td>\n",
       "    </tr>\n",
       "    <tr>\n",
       "      <th>USU_ESTADO_ACTIVA</th>\n",
       "      <td>1.090453</td>\n",
       "    </tr>\n",
       "    <tr>\n",
       "      <th>USU_SECTOR_ECONOMICO_CUATERNARIO</th>\n",
       "      <td>1.076927</td>\n",
       "    </tr>\n",
       "    <tr>\n",
       "      <th>TIPOEMAIL_CORPORATIVO</th>\n",
       "      <td>1.074638</td>\n",
       "    </tr>\n",
       "  </tbody>\n",
       "</table>\n",
       "</div>"
      ],
      "text/plain": [
       "                                   important\n",
       "CANAL_REGISTRO                      7.890727\n",
       "IPCASOS                             6.122164\n",
       "FECHACONSUMO_MONTH                  5.927945\n",
       "FECHA_REGISTRO_MONTH                5.609257\n",
       "USU_DEPART_IDH                      4.846220\n",
       "USU_DEPART_DEN_POB                  4.591398\n",
       "FECHA_REGISTRO_WEEKDAY              4.529437\n",
       "1A_EMPCONSUL_PROV_DENS              4.449271\n",
       "1A_EMPCONSUL_PROV_IDH               4.379074\n",
       "FECHACONSUMO_WEEKDAY                4.148372\n",
       "1A_DESCGRUPOPROD_PERF_PROMO         3.069033\n",
       "USU_TIPO_SOC_COMERCIAL_INDUSTRIAL   2.919699\n",
       "USU_TIPO_EMPRESARIO INDIVIDUAL      2.846853\n",
       "1A_DESCGRUPOPROD_FICH_PROMO         2.074391\n",
       "1A_EMPCONSUL_SECTOR_TERCIARIO       1.775229\n",
       "USU_TAMANIO_MC                      1.733076\n",
       "TIPO_TELF_MOVIL                     1.686699\n",
       "TIPO_TELF_EXTRANJERO                1.682931\n",
       "1A_EMPCONSUL_SECTOR_SECUNDARIO      1.551984\n",
       "USU_SECTOR_ECONOMICO_TERCIARIO      1.527217\n",
       "BONDAD_EMAIL                        1.455837\n",
       "TIPOEMAIL_GOOHOTYAHMAIL             1.409374\n",
       "TIPO_TELF_NO_PUBLICO                1.265599\n",
       "USU_TAMANIO_PQ                      1.230203\n",
       "USU_SECTOR_ECONOMICO_SECUNDARIO     1.218126\n",
       "EMAIL_PERSONAL                      1.196107\n",
       "USU_ESTADO_ACTIVA                   1.090453\n",
       "USU_SECTOR_ECONOMICO_CUATERNARIO    1.076927\n",
       "TIPOEMAIL_CORPORATIVO               1.074638"
      ]
     },
     "execution_count": 44,
     "metadata": {},
     "output_type": "execute_result"
    }
   ],
   "source": [
    "feature_importances[feature_importances['important'] > 0.01]*100"
   ]
  },
  {
   "cell_type": "code",
   "execution_count": 45,
   "id": "391b2ad7-0868-4777-a5ce-4e53eb007e69",
   "metadata": {
    "tags": []
   },
   "outputs": [
    {
     "data": {
      "text/plain": [
       "(29, 1)"
      ]
     },
     "execution_count": 45,
     "metadata": {},
     "output_type": "execute_result"
    }
   ],
   "source": [
    "feature_importances[feature_importances['important'] > 0.01].shape"
   ]
  },
  {
   "cell_type": "markdown",
   "id": "54a3b462-c714-4a2c-ac6f-221c9d6cf76b",
   "metadata": {},
   "source": [
    "------"
   ]
  },
  {
   "cell_type": "markdown",
   "id": "c75d8fbc-39a7-45b8-9078-f6c10406ddbb",
   "metadata": {},
   "source": [
    "**NearMiss**"
   ]
  },
  {
   "cell_type": "code",
   "execution_count": 46,
   "id": "6bac2b82-22c9-4cae-bf5b-904e41046ffc",
   "metadata": {
    "tags": []
   },
   "outputs": [
    {
     "name": "stdout",
     "output_type": "stream",
     "text": [
      "Distribution before resampling Counter({0: 62793, 1: 916})\n",
      "Distribution after resampling Counter({0: 916, 1: 916})\n"
     ]
    }
   ],
   "source": [
    "us = NearMiss(sampling_strategy = 'majority', n_neighbors = 2, n_jobs = -1)\n",
    "X_train_res, y_train_res = us.fit_resample(train_x, train_y)\n",
    " \n",
    "print (\"Distribution before resampling {}\".format(Counter(train_y)))\n",
    "print (\"Distribution after resampling {}\".format(Counter(y_train_res)))"
   ]
  },
  {
   "cell_type": "code",
   "execution_count": 47,
   "id": "57a589c5-d8e3-4279-8494-27cbf2f93b4f",
   "metadata": {},
   "outputs": [
    {
     "data": {
      "text/plain": [
       "RandomForestClassifier(criterion='entropy', n_estimators=150, n_jobs=-1,\n",
       "                       random_state=123)"
      ]
     },
     "execution_count": 47,
     "metadata": {},
     "output_type": "execute_result"
    }
   ],
   "source": [
    "rf = RandomForestClassifier(criterion = 'entropy', \n",
    "                            n_estimators = 150, \n",
    "                            max_features = 'auto', \n",
    "                            max_depth = None, \n",
    "                            n_jobs = -1,\n",
    "                            random_state = 123)\n",
    "\n",
    "rf.fit(X_train_res, y_train_res)"
   ]
  },
  {
   "cell_type": "code",
   "execution_count": 48,
   "id": "fc0008d1-d3a2-4865-8f8d-044de327e042",
   "metadata": {},
   "outputs": [
    {
     "data": {
      "image/png": "[encoded data removed]",
      "text/plain": [
       "<Figure size 576x576 with 2 Axes>"
      ]
     },
     "metadata": {
      "needs_background": "light"
     },
     "output_type": "display_data"
    },
    {
     "name": "stdout",
     "output_type": "stream",
     "text": [
      "              precision    recall  f1-score   support\n",
      "\n",
      "           0       0.99      0.15      0.26     26912\n",
      "           1       0.01      0.86      0.03       392\n",
      "\n",
      "    accuracy                           0.16     27304\n",
      "   macro avg       0.50      0.51      0.15     27304\n",
      "weighted avg       0.97      0.16      0.26     27304\n",
      "\n"
     ]
    }
   ],
   "source": [
    "pred_y = rf.predict(test_x)\n",
    "mostrar_resultados(test_y, pred_y)"
   ]
  },
  {
   "cell_type": "code",
   "execution_count": 49,
   "id": "08bbb578-d2a1-483d-9fa4-f6e1836cc841",
   "metadata": {},
   "outputs": [],
   "source": [
    "feature_importances = pd.DataFrame(rf.feature_importances_, index = train_x.columns, columns = ['important']).sort_values(['important'], ascending = 0)"
   ]
  },
  {
   "cell_type": "code",
   "execution_count": 50,
   "id": "7ba59263-074a-48e4-8506-743319ebe83b",
   "metadata": {
    "collapsed": true,
    "jupyter": {
     "outputs_hidden": true
    },
    "tags": []
   },
   "outputs": [
    {
     "data": {
      "text/html": [
       "<div>\n",
       "<style scoped>\n",
       "    .dataframe tbody tr th:only-of-type {\n",
       "        vertical-align: middle;\n",
       "    }\n",
       "\n",
       "    .dataframe tbody tr th {\n",
       "        vertical-align: top;\n",
       "    }\n",
       "\n",
       "    .dataframe thead th {\n",
       "        text-align: right;\n",
       "    }\n",
       "</style>\n",
       "<table border=\"1\" class=\"dataframe\">\n",
       "  <thead>\n",
       "    <tr style=\"text-align: right;\">\n",
       "      <th></th>\n",
       "      <th>important</th>\n",
       "    </tr>\n",
       "  </thead>\n",
       "  <tbody>\n",
       "    <tr>\n",
       "      <th>IPCASOS</th>\n",
       "      <td>11.021211</td>\n",
       "    </tr>\n",
       "    <tr>\n",
       "      <th>CANAL_REGISTRO</th>\n",
       "      <td>7.091344</td>\n",
       "    </tr>\n",
       "    <tr>\n",
       "      <th>1A_EMPCONSUL_PROV_DENS</th>\n",
       "      <td>6.583632</td>\n",
       "    </tr>\n",
       "    <tr>\n",
       "      <th>USU_DEPART_DEN_POB</th>\n",
       "      <td>6.295640</td>\n",
       "    </tr>\n",
       "    <tr>\n",
       "      <th>USU_DEPART_IDH</th>\n",
       "      <td>5.858585</td>\n",
       "    </tr>\n",
       "    <tr>\n",
       "      <th>1A_EMPCONSUL_PROV_IDH</th>\n",
       "      <td>5.622000</td>\n",
       "    </tr>\n",
       "    <tr>\n",
       "      <th>1A_DESCGRUPOPROD_PERF_PROMO</th>\n",
       "      <td>4.570703</td>\n",
       "    </tr>\n",
       "    <tr>\n",
       "      <th>FECHA_REGISTRO_MONTH</th>\n",
       "      <td>4.231809</td>\n",
       "    </tr>\n",
       "    <tr>\n",
       "      <th>1A_DESCGRUPOPROD_FICH_PROMO</th>\n",
       "      <td>4.184572</td>\n",
       "    </tr>\n",
       "    <tr>\n",
       "      <th>FECHACONSUMO_MONTH</th>\n",
       "      <td>3.990355</td>\n",
       "    </tr>\n",
       "    <tr>\n",
       "      <th>FECHACONSUMO_WEEKDAY</th>\n",
       "      <td>2.949120</td>\n",
       "    </tr>\n",
       "    <tr>\n",
       "      <th>FECHA_REGISTRO_WEEKDAY</th>\n",
       "      <td>2.927809</td>\n",
       "    </tr>\n",
       "    <tr>\n",
       "      <th>EMAIL_PERSONAL</th>\n",
       "      <td>2.279307</td>\n",
       "    </tr>\n",
       "    <tr>\n",
       "      <th>USU_TAMANIO_MC</th>\n",
       "      <td>2.118458</td>\n",
       "    </tr>\n",
       "    <tr>\n",
       "      <th>TIPOEMAIL_GOOHOTYAHMAIL</th>\n",
       "      <td>1.783917</td>\n",
       "    </tr>\n",
       "    <tr>\n",
       "      <th>1A_EMPCONSUL_SECTOR_TERCIARIO</th>\n",
       "      <td>1.625114</td>\n",
       "    </tr>\n",
       "    <tr>\n",
       "      <th>USU_SECTOR_ECONOMICO_TERCIARIO</th>\n",
       "      <td>1.614363</td>\n",
       "    </tr>\n",
       "    <tr>\n",
       "      <th>IP_COUNTRY_PIB_Ingreso mediano alto</th>\n",
       "      <td>1.524441</td>\n",
       "    </tr>\n",
       "    <tr>\n",
       "      <th>IP_CONTINENTE_AMERICA_SUR</th>\n",
       "      <td>1.481261</td>\n",
       "    </tr>\n",
       "    <tr>\n",
       "      <th>IP_COLOMBIA</th>\n",
       "      <td>1.343929</td>\n",
       "    </tr>\n",
       "    <tr>\n",
       "      <th>TIPO_TELF_EXTRANJERO</th>\n",
       "      <td>1.194137</td>\n",
       "    </tr>\n",
       "    <tr>\n",
       "      <th>TIPO_TELF_MOVIL</th>\n",
       "      <td>1.100190</td>\n",
       "    </tr>\n",
       "    <tr>\n",
       "      <th>TIPOEMAIL_CORPORATIVO</th>\n",
       "      <td>1.060608</td>\n",
       "    </tr>\n",
       "    <tr>\n",
       "      <th>1A_EMPCONSUL_SECTOR_SECUNDARIO</th>\n",
       "      <td>1.060104</td>\n",
       "    </tr>\n",
       "    <tr>\n",
       "      <th>IP_COUNTRY_IDH_NUM</th>\n",
       "      <td>1.049179</td>\n",
       "    </tr>\n",
       "  </tbody>\n",
       "</table>\n",
       "</div>"
      ],
      "text/plain": [
       "                                     important\n",
       "IPCASOS                              11.021211\n",
       "CANAL_REGISTRO                        7.091344\n",
       "1A_EMPCONSUL_PROV_DENS                6.583632\n",
       "USU_DEPART_DEN_POB                    6.295640\n",
       "USU_DEPART_IDH                        5.858585\n",
       "1A_EMPCONSUL_PROV_IDH                 5.622000\n",
       "1A_DESCGRUPOPROD_PERF_PROMO           4.570703\n",
       "FECHA_REGISTRO_MONTH                  4.231809\n",
       "1A_DESCGRUPOPROD_FICH_PROMO           4.184572\n",
       "FECHACONSUMO_MONTH                    3.990355\n",
       "FECHACONSUMO_WEEKDAY                  2.949120\n",
       "FECHA_REGISTRO_WEEKDAY                2.927809\n",
       "EMAIL_PERSONAL                        2.279307\n",
       "USU_TAMANIO_MC                        2.118458\n",
       "TIPOEMAIL_GOOHOTYAHMAIL               1.783917\n",
       "1A_EMPCONSUL_SECTOR_TERCIARIO         1.625114\n",
       "USU_SECTOR_ECONOMICO_TERCIARIO        1.614363\n",
       "IP_COUNTRY_PIB_Ingreso mediano alto   1.524441\n",
       "IP_CONTINENTE_AMERICA_SUR             1.481261\n",
       "IP_COLOMBIA                           1.343929\n",
       "TIPO_TELF_EXTRANJERO                  1.194137\n",
       "TIPO_TELF_MOVIL                       1.100190\n",
       "TIPOEMAIL_CORPORATIVO                 1.060608\n",
       "1A_EMPCONSUL_SECTOR_SECUNDARIO        1.060104\n",
       "IP_COUNTRY_IDH_NUM                    1.049179"
      ]
     },
     "execution_count": 50,
     "metadata": {},
     "output_type": "execute_result"
    }
   ],
   "source": [
    "feature_importances[feature_importances['important'] > 0.01]*100"
   ]
  },
  {
   "cell_type": "code",
   "execution_count": 51,
   "id": "d38ce7be-694d-42e8-a896-5c68e3799206",
   "metadata": {
    "tags": []
   },
   "outputs": [
    {
     "data": {
      "text/plain": [
       "(25, 1)"
      ]
     },
     "execution_count": 51,
     "metadata": {},
     "output_type": "execute_result"
    }
   ],
   "source": [
    "feature_importances[feature_importances['important'] > 0.01].shape"
   ]
  },
  {
   "cell_type": "markdown",
   "id": "be06a9cb-6bfa-4da1-aed5-941f9f192aea",
   "metadata": {},
   "source": [
    "------"
   ]
  },
  {
   "cell_type": "markdown",
   "id": "a612541c-6d95-4215-a7c5-cddc2fa7c074",
   "metadata": {},
   "source": [
    "------"
   ]
  },
  {
   "cell_type": "markdown",
   "id": "6a9e6397-ddb5-4b6d-93bb-2d5af292b4f5",
   "metadata": {},
   "source": [
    "##### **4.5.3 Oversampling en la clase minoritaria**"
   ]
  },
  {
   "cell_type": "markdown",
   "id": "4ffdc1f1-704a-45a6-a31a-13d47e93d572",
   "metadata": {},
   "source": [
    "**SMOTE**"
   ]
  },
  {
   "cell_type": "code",
   "execution_count": 52,
   "id": "59395cc1-b828-47b7-b696-06766370ded0",
   "metadata": {},
   "outputs": [],
   "source": [
    "os =  SMOTE(sampling_strategy = 'minority')\n",
    "X_train_res, y_train_res = os.fit_resample(train_x, train_y)"
   ]
  },
  {
   "cell_type": "code",
   "execution_count": 53,
   "id": "65b40002-abed-4f19-b72b-3be29827c51c",
   "metadata": {},
   "outputs": [
    {
     "name": "stdout",
     "output_type": "stream",
     "text": [
      "Distribution before resampling Counter({0: 62793, 1: 916})\n",
      "Distribution labels after resampling Counter({0: 62793, 1: 62793})\n"
     ]
    }
   ],
   "source": [
    "print (\"Distribution before resampling {}\".format(Counter(train_y)))\n",
    "print (\"Distribution labels after resampling {}\".format(Counter(y_train_res)))"
   ]
  },
  {
   "cell_type": "code",
   "execution_count": 54,
   "id": "9b270e72-1985-430a-b6d1-7436882780ee",
   "metadata": {},
   "outputs": [
    {
     "data": {
      "text/plain": [
       "RandomForestClassifier(criterion='entropy', n_estimators=150, n_jobs=-1,\n",
       "                       random_state=123)"
      ]
     },
     "execution_count": 54,
     "metadata": {},
     "output_type": "execute_result"
    }
   ],
   "source": [
    "rf = RandomForestClassifier(criterion = 'entropy', \n",
    "                            n_estimators = 150, \n",
    "                            max_features = 'auto', \n",
    "                            max_depth = None, \n",
    "                            n_jobs = -1,\n",
    "                            random_state = 123)\n",
    "\n",
    "rf.fit(X_train_res, y_train_res)"
   ]
  },
  {
   "cell_type": "code",
   "execution_count": 55,
   "id": "4b597b55-0f98-46cf-9c49-0d373936fae0",
   "metadata": {},
   "outputs": [
    {
     "data": {
      "image/png": "[encoded data removed]",
      "text/plain": [
       "<Figure size 576x576 with 2 Axes>"
      ]
     },
     "metadata": {
      "needs_background": "light"
     },
     "output_type": "display_data"
    },
    {
     "name": "stdout",
     "output_type": "stream",
     "text": [
      "              precision    recall  f1-score   support\n",
      "\n",
      "           0       0.99      1.00      0.99     26912\n",
      "           1       0.46      0.03      0.06       392\n",
      "\n",
      "    accuracy                           0.99     27304\n",
      "   macro avg       0.73      0.52      0.53     27304\n",
      "weighted avg       0.98      0.99      0.98     27304\n",
      "\n"
     ]
    }
   ],
   "source": [
    "pred_y = rf.predict(test_x)\n",
    "mostrar_resultados(test_y, pred_y)"
   ]
  },
  {
   "cell_type": "code",
   "execution_count": 56,
   "id": "432c3386-c5b0-4b5e-9af8-80747a301049",
   "metadata": {},
   "outputs": [],
   "source": [
    "feature_importances = pd.DataFrame(rf.feature_importances_, index = train_x.columns, columns = ['important']).sort_values(['important'], ascending = 0)"
   ]
  },
  {
   "cell_type": "code",
   "execution_count": 57,
   "id": "5e93519e-f068-4c3e-b630-fa48fe78bcc8",
   "metadata": {
    "collapsed": true,
    "jupyter": {
     "outputs_hidden": true
    },
    "tags": []
   },
   "outputs": [
    {
     "data": {
      "text/html": [
       "<div>\n",
       "<style scoped>\n",
       "    .dataframe tbody tr th:only-of-type {\n",
       "        vertical-align: middle;\n",
       "    }\n",
       "\n",
       "    .dataframe tbody tr th {\n",
       "        vertical-align: top;\n",
       "    }\n",
       "\n",
       "    .dataframe thead th {\n",
       "        text-align: right;\n",
       "    }\n",
       "</style>\n",
       "<table border=\"1\" class=\"dataframe\">\n",
       "  <thead>\n",
       "    <tr style=\"text-align: right;\">\n",
       "      <th></th>\n",
       "      <th>important</th>\n",
       "    </tr>\n",
       "  </thead>\n",
       "  <tbody>\n",
       "    <tr>\n",
       "      <th>1A_DESCGRUPOPROD_PERF_PROMO</th>\n",
       "      <td>7.015014</td>\n",
       "    </tr>\n",
       "    <tr>\n",
       "      <th>USU_TIPO_EMPRESARIO INDIVIDUAL</th>\n",
       "      <td>6.693351</td>\n",
       "    </tr>\n",
       "    <tr>\n",
       "      <th>USU_TAMANIO_MC</th>\n",
       "      <td>5.981373</td>\n",
       "    </tr>\n",
       "    <tr>\n",
       "      <th>CANAL_REGISTRO</th>\n",
       "      <td>3.681763</td>\n",
       "    </tr>\n",
       "    <tr>\n",
       "      <th>TIPOEMAIL_GOOHOTYAHMAIL</th>\n",
       "      <td>3.200817</td>\n",
       "    </tr>\n",
       "    <tr>\n",
       "      <th>USU_SECTOR_ECONOMICO_TERCIARIO</th>\n",
       "      <td>3.008340</td>\n",
       "    </tr>\n",
       "    <tr>\n",
       "      <th>EMAIL_PERSONAL</th>\n",
       "      <td>2.969978</td>\n",
       "    </tr>\n",
       "    <tr>\n",
       "      <th>TIPO_TELF_NO_PUBLICO</th>\n",
       "      <td>2.961879</td>\n",
       "    </tr>\n",
       "    <tr>\n",
       "      <th>TIPO_TELF_EXTRANJERO</th>\n",
       "      <td>2.945589</td>\n",
       "    </tr>\n",
       "    <tr>\n",
       "      <th>TIPOEMAIL_CORPORATIVO</th>\n",
       "      <td>2.840066</td>\n",
       "    </tr>\n",
       "    <tr>\n",
       "      <th>TIPO_TELF_MOVIL</th>\n",
       "      <td>2.566665</td>\n",
       "    </tr>\n",
       "    <tr>\n",
       "      <th>IPCASOS</th>\n",
       "      <td>2.396540</td>\n",
       "    </tr>\n",
       "    <tr>\n",
       "      <th>USU_SECTOR_ECONOMICO_SECUNDARIO</th>\n",
       "      <td>2.284270</td>\n",
       "    </tr>\n",
       "    <tr>\n",
       "      <th>USU_TAMANIO_GR</th>\n",
       "      <td>2.252720</td>\n",
       "    </tr>\n",
       "    <tr>\n",
       "      <th>USU_SECTOR_ECONOMICO_SD</th>\n",
       "      <td>2.056593</td>\n",
       "    </tr>\n",
       "    <tr>\n",
       "      <th>USU_TAMANIO_PQ</th>\n",
       "      <td>2.045177</td>\n",
       "    </tr>\n",
       "    <tr>\n",
       "      <th>USU_ESTADO_INACTIVA</th>\n",
       "      <td>2.040138</td>\n",
       "    </tr>\n",
       "    <tr>\n",
       "      <th>FECHACONSUMO_MONTH</th>\n",
       "      <td>1.928527</td>\n",
       "    </tr>\n",
       "    <tr>\n",
       "      <th>1A_DESCGRUPOPROD_FICH_PROMO</th>\n",
       "      <td>1.910457</td>\n",
       "    </tr>\n",
       "    <tr>\n",
       "      <th>FECHA_REGISTRO_MONTH</th>\n",
       "      <td>1.871089</td>\n",
       "    </tr>\n",
       "    <tr>\n",
       "      <th>USU_TAMANIO_SD</th>\n",
       "      <td>1.854710</td>\n",
       "    </tr>\n",
       "    <tr>\n",
       "      <th>USU_DEPART_DEN_POB</th>\n",
       "      <td>1.843675</td>\n",
       "    </tr>\n",
       "    <tr>\n",
       "      <th>USU_DEPART_IDH</th>\n",
       "      <td>1.816552</td>\n",
       "    </tr>\n",
       "    <tr>\n",
       "      <th>TIPOEMAIL_SINCLASIFICAR</th>\n",
       "      <td>1.778448</td>\n",
       "    </tr>\n",
       "    <tr>\n",
       "      <th>FECHA_REGISTRO_WEEKDAY</th>\n",
       "      <td>1.686503</td>\n",
       "    </tr>\n",
       "    <tr>\n",
       "      <th>FECHACONSUMO_WEEKDAY</th>\n",
       "      <td>1.664963</td>\n",
       "    </tr>\n",
       "    <tr>\n",
       "      <th>1A_EMPCONSUL_PROV_DENS</th>\n",
       "      <td>1.656507</td>\n",
       "    </tr>\n",
       "    <tr>\n",
       "      <th>1A_EMPCONSUL_PROV_IDH</th>\n",
       "      <td>1.596509</td>\n",
       "    </tr>\n",
       "    <tr>\n",
       "      <th>1A_EMPCONSUL_SECTOR_TERCIARIO</th>\n",
       "      <td>1.537112</td>\n",
       "    </tr>\n",
       "    <tr>\n",
       "      <th>IP_COUNTRY_IDH_NUM</th>\n",
       "      <td>1.534503</td>\n",
       "    </tr>\n",
       "    <tr>\n",
       "      <th>USU_TAMANIO_MD</th>\n",
       "      <td>1.524089</td>\n",
       "    </tr>\n",
       "    <tr>\n",
       "      <th>USU_TIPO_SOC_COMERCIAL_INDUSTRIAL</th>\n",
       "      <td>1.346928</td>\n",
       "    </tr>\n",
       "    <tr>\n",
       "      <th>USU_ESTADO_ACTIVA</th>\n",
       "      <td>1.315083</td>\n",
       "    </tr>\n",
       "    <tr>\n",
       "      <th>1A_EMPCONSUL_SECTOR_SECUNDARIO</th>\n",
       "      <td>1.193388</td>\n",
       "    </tr>\n",
       "  </tbody>\n",
       "</table>\n",
       "</div>"
      ],
      "text/plain": [
       "                                   important\n",
       "1A_DESCGRUPOPROD_PERF_PROMO         7.015014\n",
       "USU_TIPO_EMPRESARIO INDIVIDUAL      6.693351\n",
       "USU_TAMANIO_MC                      5.981373\n",
       "CANAL_REGISTRO                      3.681763\n",
       "TIPOEMAIL_GOOHOTYAHMAIL             3.200817\n",
       "USU_SECTOR_ECONOMICO_TERCIARIO      3.008340\n",
       "EMAIL_PERSONAL                      2.969978\n",
       "TIPO_TELF_NO_PUBLICO                2.961879\n",
       "TIPO_TELF_EXTRANJERO                2.945589\n",
       "TIPOEMAIL_CORPORATIVO               2.840066\n",
       "TIPO_TELF_MOVIL                     2.566665\n",
       "IPCASOS                             2.396540\n",
       "USU_SECTOR_ECONOMICO_SECUNDARIO     2.284270\n",
       "USU_TAMANIO_GR                      2.252720\n",
       "USU_SECTOR_ECONOMICO_SD             2.056593\n",
       "USU_TAMANIO_PQ                      2.045177\n",
       "USU_ESTADO_INACTIVA                 2.040138\n",
       "FECHACONSUMO_MONTH                  1.928527\n",
       "1A_DESCGRUPOPROD_FICH_PROMO         1.910457\n",
       "FECHA_REGISTRO_MONTH                1.871089\n",
       "USU_TAMANIO_SD                      1.854710\n",
       "USU_DEPART_DEN_POB                  1.843675\n",
       "USU_DEPART_IDH                      1.816552\n",
       "TIPOEMAIL_SINCLASIFICAR             1.778448\n",
       "FECHA_REGISTRO_WEEKDAY              1.686503\n",
       "FECHACONSUMO_WEEKDAY                1.664963\n",
       "1A_EMPCONSUL_PROV_DENS              1.656507\n",
       "1A_EMPCONSUL_PROV_IDH               1.596509\n",
       "1A_EMPCONSUL_SECTOR_TERCIARIO       1.537112\n",
       "IP_COUNTRY_IDH_NUM                  1.534503\n",
       "USU_TAMANIO_MD                      1.524089\n",
       "USU_TIPO_SOC_COMERCIAL_INDUSTRIAL   1.346928\n",
       "USU_ESTADO_ACTIVA                   1.315083\n",
       "1A_EMPCONSUL_SECTOR_SECUNDARIO      1.193388"
      ]
     },
     "execution_count": 57,
     "metadata": {},
     "output_type": "execute_result"
    }
   ],
   "source": [
    "feature_importances[feature_importances['important'] > 0.01]*100"
   ]
  },
  {
   "cell_type": "code",
   "execution_count": 58,
   "id": "313560f9-5935-4189-8090-e228795c8f9a",
   "metadata": {
    "tags": []
   },
   "outputs": [
    {
     "data": {
      "text/plain": [
       "(34, 1)"
      ]
     },
     "execution_count": 58,
     "metadata": {},
     "output_type": "execute_result"
    }
   ],
   "source": [
    "feature_importances[feature_importances['important'] > 0.01].shape"
   ]
  },
  {
   "cell_type": "markdown",
   "id": "94aad543-1154-40fc-87c0-2d39de418cf2",
   "metadata": {},
   "source": [
    "------"
   ]
  },
  {
   "cell_type": "markdown",
   "id": "86a118e9-2903-4dd0-b382-8dad9d773b77",
   "metadata": {},
   "source": [
    "**RandomOverSampler**"
   ]
  },
  {
   "cell_type": "code",
   "execution_count": 59,
   "id": "0a66e16f-8a56-4ce9-80c1-ee30c81ad554",
   "metadata": {},
   "outputs": [],
   "source": [
    "os =  RandomOverSampler(sampling_strategy = 'minority')\n",
    "X_train_res, y_train_res = os.fit_resample(train_x, train_y)"
   ]
  },
  {
   "cell_type": "code",
   "execution_count": 60,
   "id": "b93b3971-a115-4a24-b557-4aef9300c2e7",
   "metadata": {},
   "outputs": [
    {
     "name": "stdout",
     "output_type": "stream",
     "text": [
      "Distribution before resampling Counter({0: 62793, 1: 916})\n",
      "Distribution labels after resampling Counter({0: 62793, 1: 62793})\n"
     ]
    }
   ],
   "source": [
    "print (\"Distribution before resampling {}\".format(Counter(train_y)))\n",
    "print (\"Distribution labels after resampling {}\".format(Counter(y_train_res)))"
   ]
  },
  {
   "cell_type": "code",
   "execution_count": 61,
   "id": "f4218650-112d-46e6-b71e-318f8463db12",
   "metadata": {},
   "outputs": [
    {
     "data": {
      "text/plain": [
       "RandomForestClassifier(criterion='entropy', n_estimators=150, n_jobs=-1,\n",
       "                       random_state=123)"
      ]
     },
     "execution_count": 61,
     "metadata": {},
     "output_type": "execute_result"
    }
   ],
   "source": [
    "rf = RandomForestClassifier(criterion = 'entropy', \n",
    "                            n_estimators = 150, \n",
    "                            max_features = 'auto', \n",
    "                            max_depth = None, \n",
    "                            n_jobs = -1,\n",
    "                            random_state = 123)\n",
    "\n",
    "rf.fit(X_train_res, y_train_res)"
   ]
  },
  {
   "cell_type": "code",
   "execution_count": 62,
   "id": "d9604945-ffe4-4293-9cd6-431460f74ee7",
   "metadata": {},
   "outputs": [
    {
     "data": {
      "image/png": "[encoded data removed]",
      "text/plain": [
       "<Figure size 576x576 with 2 Axes>"
      ]
     },
     "metadata": {
      "needs_background": "light"
     },
     "output_type": "display_data"
    },
    {
     "name": "stdout",
     "output_type": "stream",
     "text": [
      "              precision    recall  f1-score   support\n",
      "\n",
      "           0       0.99      1.00      0.99     26912\n",
      "           1       0.47      0.05      0.09       392\n",
      "\n",
      "    accuracy                           0.99     27304\n",
      "   macro avg       0.73      0.52      0.54     27304\n",
      "weighted avg       0.98      0.99      0.98     27304\n",
      "\n"
     ]
    }
   ],
   "source": [
    "pred_y = rf.predict(test_x)\n",
    "mostrar_resultados(test_y, pred_y)"
   ]
  },
  {
   "cell_type": "code",
   "execution_count": 63,
   "id": "5be335bc-8278-4c62-a283-9e26e9f551fa",
   "metadata": {},
   "outputs": [],
   "source": [
    "feature_importances = pd.DataFrame(rf.feature_importances_, index = train_x.columns, columns = ['important']).sort_values(['important'], ascending = 0)"
   ]
  },
  {
   "cell_type": "code",
   "execution_count": 64,
   "id": "69ba407a-a2d3-4723-8ba0-34aea0e9c3ab",
   "metadata": {
    "collapsed": true,
    "jupyter": {
     "outputs_hidden": true
    },
    "tags": []
   },
   "outputs": [
    {
     "data": {
      "text/html": [
       "<div>\n",
       "<style scoped>\n",
       "    .dataframe tbody tr th:only-of-type {\n",
       "        vertical-align: middle;\n",
       "    }\n",
       "\n",
       "    .dataframe tbody tr th {\n",
       "        vertical-align: top;\n",
       "    }\n",
       "\n",
       "    .dataframe thead th {\n",
       "        text-align: right;\n",
       "    }\n",
       "</style>\n",
       "<table border=\"1\" class=\"dataframe\">\n",
       "  <thead>\n",
       "    <tr style=\"text-align: right;\">\n",
       "      <th></th>\n",
       "      <th>important</th>\n",
       "    </tr>\n",
       "  </thead>\n",
       "  <tbody>\n",
       "    <tr>\n",
       "      <th>CANAL_REGISTRO</th>\n",
       "      <td>8.118135</td>\n",
       "    </tr>\n",
       "    <tr>\n",
       "      <th>IPCASOS</th>\n",
       "      <td>6.762000</td>\n",
       "    </tr>\n",
       "    <tr>\n",
       "      <th>FECHA_REGISTRO_MONTH</th>\n",
       "      <td>6.240010</td>\n",
       "    </tr>\n",
       "    <tr>\n",
       "      <th>FECHACONSUMO_MONTH</th>\n",
       "      <td>6.211004</td>\n",
       "    </tr>\n",
       "    <tr>\n",
       "      <th>FECHA_REGISTRO_WEEKDAY</th>\n",
       "      <td>4.578410</td>\n",
       "    </tr>\n",
       "    <tr>\n",
       "      <th>USU_DEPART_IDH</th>\n",
       "      <td>4.565319</td>\n",
       "    </tr>\n",
       "    <tr>\n",
       "      <th>FECHACONSUMO_WEEKDAY</th>\n",
       "      <td>4.504521</td>\n",
       "    </tr>\n",
       "    <tr>\n",
       "      <th>1A_EMPCONSUL_PROV_IDH</th>\n",
       "      <td>4.490803</td>\n",
       "    </tr>\n",
       "    <tr>\n",
       "      <th>USU_DEPART_DEN_POB</th>\n",
       "      <td>4.468302</td>\n",
       "    </tr>\n",
       "    <tr>\n",
       "      <th>1A_EMPCONSUL_PROV_DENS</th>\n",
       "      <td>4.275540</td>\n",
       "    </tr>\n",
       "    <tr>\n",
       "      <th>USU_TIPO_SOC_COMERCIAL_INDUSTRIAL</th>\n",
       "      <td>3.196707</td>\n",
       "    </tr>\n",
       "    <tr>\n",
       "      <th>USU_TIPO_EMPRESARIO INDIVIDUAL</th>\n",
       "      <td>2.999897</td>\n",
       "    </tr>\n",
       "    <tr>\n",
       "      <th>1A_DESCGRUPOPROD_PERF_PROMO</th>\n",
       "      <td>2.984073</td>\n",
       "    </tr>\n",
       "    <tr>\n",
       "      <th>1A_DESCGRUPOPROD_FICH_PROMO</th>\n",
       "      <td>2.278728</td>\n",
       "    </tr>\n",
       "    <tr>\n",
       "      <th>BONDAD_EMAIL</th>\n",
       "      <td>2.042350</td>\n",
       "    </tr>\n",
       "    <tr>\n",
       "      <th>USU_TAMANIO_MC</th>\n",
       "      <td>1.664687</td>\n",
       "    </tr>\n",
       "    <tr>\n",
       "      <th>TIPO_TELF_MOVIL</th>\n",
       "      <td>1.654711</td>\n",
       "    </tr>\n",
       "    <tr>\n",
       "      <th>1A_EMPCONSUL_SECTOR_TERCIARIO</th>\n",
       "      <td>1.578286</td>\n",
       "    </tr>\n",
       "    <tr>\n",
       "      <th>TIPO_TELF_EXTRANJERO</th>\n",
       "      <td>1.566769</td>\n",
       "    </tr>\n",
       "    <tr>\n",
       "      <th>1A_EMPCONSUL_SECTOR_SECUNDARIO</th>\n",
       "      <td>1.464048</td>\n",
       "    </tr>\n",
       "    <tr>\n",
       "      <th>USU_SECTOR_ECONOMICO_TERCIARIO</th>\n",
       "      <td>1.426939</td>\n",
       "    </tr>\n",
       "    <tr>\n",
       "      <th>TIPO_TELF_NO_PUBLICO</th>\n",
       "      <td>1.332841</td>\n",
       "    </tr>\n",
       "    <tr>\n",
       "      <th>USU_SECTOR_ECONOMICO_SECUNDARIO</th>\n",
       "      <td>1.180478</td>\n",
       "    </tr>\n",
       "    <tr>\n",
       "      <th>EMAIL_PERSONAL</th>\n",
       "      <td>1.125761</td>\n",
       "    </tr>\n",
       "    <tr>\n",
       "      <th>USU_ESTADO_ACTIVA</th>\n",
       "      <td>1.026520</td>\n",
       "    </tr>\n",
       "    <tr>\n",
       "      <th>TIPOEMAIL_GOOHOTYAHMAIL</th>\n",
       "      <td>1.026216</td>\n",
       "    </tr>\n",
       "  </tbody>\n",
       "</table>\n",
       "</div>"
      ],
      "text/plain": [
       "                                   important\n",
       "CANAL_REGISTRO                      8.118135\n",
       "IPCASOS                             6.762000\n",
       "FECHA_REGISTRO_MONTH                6.240010\n",
       "FECHACONSUMO_MONTH                  6.211004\n",
       "FECHA_REGISTRO_WEEKDAY              4.578410\n",
       "USU_DEPART_IDH                      4.565319\n",
       "FECHACONSUMO_WEEKDAY                4.504521\n",
       "1A_EMPCONSUL_PROV_IDH               4.490803\n",
       "USU_DEPART_DEN_POB                  4.468302\n",
       "1A_EMPCONSUL_PROV_DENS              4.275540\n",
       "USU_TIPO_SOC_COMERCIAL_INDUSTRIAL   3.196707\n",
       "USU_TIPO_EMPRESARIO INDIVIDUAL      2.999897\n",
       "1A_DESCGRUPOPROD_PERF_PROMO         2.984073\n",
       "1A_DESCGRUPOPROD_FICH_PROMO         2.278728\n",
       "BONDAD_EMAIL                        2.042350\n",
       "USU_TAMANIO_MC                      1.664687\n",
       "TIPO_TELF_MOVIL                     1.654711\n",
       "1A_EMPCONSUL_SECTOR_TERCIARIO       1.578286\n",
       "TIPO_TELF_EXTRANJERO                1.566769\n",
       "1A_EMPCONSUL_SECTOR_SECUNDARIO      1.464048\n",
       "USU_SECTOR_ECONOMICO_TERCIARIO      1.426939\n",
       "TIPO_TELF_NO_PUBLICO                1.332841\n",
       "USU_SECTOR_ECONOMICO_SECUNDARIO     1.180478\n",
       "EMAIL_PERSONAL                      1.125761\n",
       "USU_ESTADO_ACTIVA                   1.026520\n",
       "TIPOEMAIL_GOOHOTYAHMAIL             1.026216"
      ]
     },
     "execution_count": 64,
     "metadata": {},
     "output_type": "execute_result"
    }
   ],
   "source": [
    "feature_importances[feature_importances['important'] > 0.01]*100"
   ]
  },
  {
   "cell_type": "code",
   "execution_count": 65,
   "id": "11df4762-2c18-4a99-b2b3-30bda4761490",
   "metadata": {
    "tags": []
   },
   "outputs": [
    {
     "data": {
      "text/plain": [
       "(26, 1)"
      ]
     },
     "execution_count": 65,
     "metadata": {},
     "output_type": "execute_result"
    }
   ],
   "source": [
    "feature_importances[feature_importances['important'] > 0.01].shape"
   ]
  },
  {
   "cell_type": "markdown",
   "id": "9e41c265-a2c9-4e61-809d-faf537f9d7e8",
   "metadata": {},
   "source": [
    "------"
   ]
  },
  {
   "cell_type": "markdown",
   "id": "ec863a7a-fbe8-476e-9cb0-74d5dedbf036",
   "metadata": {},
   "source": [
    "------"
   ]
  },
  {
   "cell_type": "markdown",
   "id": "310047b4-efb9-4ca5-b09b-ca494c1e56be",
   "metadata": {},
   "source": [
    "##### **4.5.4 Combinamos OverSampling con Subsampling**"
   ]
  },
  {
   "cell_type": "markdown",
   "id": "e63375fd-77dc-442b-be41-74402fcdd2b9",
   "metadata": {},
   "source": [
    "**Combinando SMOTE & RandomUnderSampler**"
   ]
  },
  {
   "cell_type": "code",
   "execution_count": 66,
   "id": "1e521d6e-f79a-4b54-b65f-61979c2f19d8",
   "metadata": {},
   "outputs": [],
   "source": [
    "over = SMOTE(sampling_strategy = 0.3)\n",
    "under = RandomUnderSampler(sampling_strategy = 0.5)\n",
    "steps = [('over', over), ('under', under)]\n",
    "pipeline = Pipeline(steps = steps)"
   ]
  },
  {
   "cell_type": "code",
   "execution_count": 67,
   "id": "a8394b28-7ed0-42dd-afd1-17d9f3b0a4e8",
   "metadata": {},
   "outputs": [],
   "source": [
    "X_train_res, y_train_res = pipeline.fit_resample(train_x, train_y)"
   ]
  },
  {
   "cell_type": "code",
   "execution_count": 68,
   "id": "c98efe59-1a0a-40bd-b451-44b55058961f",
   "metadata": {},
   "outputs": [
    {
     "name": "stdout",
     "output_type": "stream",
     "text": [
      "Distribution before resampling Counter({0: 62793, 1: 916})\n",
      "Distribution after resampling Counter({0: 37674, 1: 18837})\n"
     ]
    }
   ],
   "source": [
    "print (\"Distribution before resampling {}\".format(Counter(train_y)))\n",
    "print (\"Distribution after resampling {}\".format(Counter(y_train_res)))"
   ]
  },
  {
   "cell_type": "code",
   "execution_count": 69,
   "id": "445027cd-de22-4765-a5fe-1459a8b9b321",
   "metadata": {},
   "outputs": [
    {
     "data": {
      "text/plain": [
       "RandomForestClassifier(criterion='entropy', n_estimators=150, n_jobs=-1,\n",
       "                       random_state=123)"
      ]
     },
     "execution_count": 69,
     "metadata": {},
     "output_type": "execute_result"
    }
   ],
   "source": [
    "rf = RandomForestClassifier(criterion = 'entropy', \n",
    "                            n_estimators = 150, \n",
    "                            max_features = 'auto', \n",
    "                            max_depth = None, \n",
    "                            n_jobs = -1,\n",
    "                            random_state = 123)\n",
    "\n",
    "rf.fit(X_train_res, y_train_res)"
   ]
  },
  {
   "cell_type": "code",
   "execution_count": 70,
   "id": "a4c8c52f-927b-4b4e-a15b-2f9e64cb0fed",
   "metadata": {},
   "outputs": [
    {
     "data": {
      "image/png": "[encoded data removed]",
      "text/plain": [
       "<Figure size 576x576 with 2 Axes>"
      ]
     },
     "metadata": {
      "needs_background": "light"
     },
     "output_type": "display_data"
    },
    {
     "name": "stdout",
     "output_type": "stream",
     "text": [
      "              precision    recall  f1-score   support\n",
      "\n",
      "           0       0.99      1.00      0.99     26912\n",
      "           1       0.40      0.06      0.10       392\n",
      "\n",
      "    accuracy                           0.99     27304\n",
      "   macro avg       0.69      0.53      0.55     27304\n",
      "weighted avg       0.98      0.99      0.98     27304\n",
      "\n"
     ]
    }
   ],
   "source": [
    "pred_y = rf.predict(test_x)\n",
    "mostrar_resultados(test_y, pred_y)"
   ]
  },
  {
   "cell_type": "code",
   "execution_count": 71,
   "id": "c46b193e-0a4f-4137-9e59-86532bf45ca4",
   "metadata": {},
   "outputs": [],
   "source": [
    "feature_importances = pd.DataFrame(rf.feature_importances_, index = train_x.columns, columns = ['important']).sort_values(['important'], ascending = 0)"
   ]
  },
  {
   "cell_type": "code",
   "execution_count": 72,
   "id": "eb26b2fd-08ab-4cb9-8bf7-041069c39b9f",
   "metadata": {
    "collapsed": true,
    "jupyter": {
     "outputs_hidden": true
    },
    "tags": []
   },
   "outputs": [
    {
     "data": {
      "text/html": [
       "<div>\n",
       "<style scoped>\n",
       "    .dataframe tbody tr th:only-of-type {\n",
       "        vertical-align: middle;\n",
       "    }\n",
       "\n",
       "    .dataframe tbody tr th {\n",
       "        vertical-align: top;\n",
       "    }\n",
       "\n",
       "    .dataframe thead th {\n",
       "        text-align: right;\n",
       "    }\n",
       "</style>\n",
       "<table border=\"1\" class=\"dataframe\">\n",
       "  <thead>\n",
       "    <tr style=\"text-align: right;\">\n",
       "      <th></th>\n",
       "      <th>important</th>\n",
       "    </tr>\n",
       "  </thead>\n",
       "  <tbody>\n",
       "    <tr>\n",
       "      <th>1A_DESCGRUPOPROD_PERF_PROMO</th>\n",
       "      <td>7.122014</td>\n",
       "    </tr>\n",
       "    <tr>\n",
       "      <th>USU_TIPO_EMPRESARIO INDIVIDUAL</th>\n",
       "      <td>5.717319</td>\n",
       "    </tr>\n",
       "    <tr>\n",
       "      <th>USU_TAMANIO_MC</th>\n",
       "      <td>5.591685</td>\n",
       "    </tr>\n",
       "    <tr>\n",
       "      <th>CANAL_REGISTRO</th>\n",
       "      <td>4.213548</td>\n",
       "    </tr>\n",
       "    <tr>\n",
       "      <th>EMAIL_PERSONAL</th>\n",
       "      <td>3.086240</td>\n",
       "    </tr>\n",
       "    <tr>\n",
       "      <th>TIPOEMAIL_GOOHOTYAHMAIL</th>\n",
       "      <td>2.939716</td>\n",
       "    </tr>\n",
       "    <tr>\n",
       "      <th>IPCASOS</th>\n",
       "      <td>2.869683</td>\n",
       "    </tr>\n",
       "    <tr>\n",
       "      <th>TIPOEMAIL_CORPORATIVO</th>\n",
       "      <td>2.859682</td>\n",
       "    </tr>\n",
       "    <tr>\n",
       "      <th>TIPO_TELF_EXTRANJERO</th>\n",
       "      <td>2.712603</td>\n",
       "    </tr>\n",
       "    <tr>\n",
       "      <th>USU_SECTOR_ECONOMICO_TERCIARIO</th>\n",
       "      <td>2.665144</td>\n",
       "    </tr>\n",
       "    <tr>\n",
       "      <th>TIPO_TELF_NO_PUBLICO</th>\n",
       "      <td>2.374840</td>\n",
       "    </tr>\n",
       "    <tr>\n",
       "      <th>FECHACONSUMO_MONTH</th>\n",
       "      <td>2.271012</td>\n",
       "    </tr>\n",
       "    <tr>\n",
       "      <th>1A_DESCGRUPOPROD_FICH_PROMO</th>\n",
       "      <td>2.242021</td>\n",
       "    </tr>\n",
       "    <tr>\n",
       "      <th>TIPO_TELF_MOVIL</th>\n",
       "      <td>2.239432</td>\n",
       "    </tr>\n",
       "    <tr>\n",
       "      <th>FECHA_REGISTRO_MONTH</th>\n",
       "      <td>2.223676</td>\n",
       "    </tr>\n",
       "    <tr>\n",
       "      <th>USU_TAMANIO_GR</th>\n",
       "      <td>2.164693</td>\n",
       "    </tr>\n",
       "    <tr>\n",
       "      <th>USU_TAMANIO_PQ</th>\n",
       "      <td>2.035023</td>\n",
       "    </tr>\n",
       "    <tr>\n",
       "      <th>USU_DEPART_IDH</th>\n",
       "      <td>1.963123</td>\n",
       "    </tr>\n",
       "    <tr>\n",
       "      <th>IP_COUNTRY_IDH_NUM</th>\n",
       "      <td>1.930683</td>\n",
       "    </tr>\n",
       "    <tr>\n",
       "      <th>FECHACONSUMO_WEEKDAY</th>\n",
       "      <td>1.919425</td>\n",
       "    </tr>\n",
       "    <tr>\n",
       "      <th>USU_SECTOR_ECONOMICO_SECUNDARIO</th>\n",
       "      <td>1.910350</td>\n",
       "    </tr>\n",
       "    <tr>\n",
       "      <th>USU_DEPART_DEN_POB</th>\n",
       "      <td>1.902235</td>\n",
       "    </tr>\n",
       "    <tr>\n",
       "      <th>1A_EMPCONSUL_PROV_DENS</th>\n",
       "      <td>1.888017</td>\n",
       "    </tr>\n",
       "    <tr>\n",
       "      <th>1A_EMPCONSUL_PROV_IDH</th>\n",
       "      <td>1.871515</td>\n",
       "    </tr>\n",
       "    <tr>\n",
       "      <th>FECHA_REGISTRO_WEEKDAY</th>\n",
       "      <td>1.855369</td>\n",
       "    </tr>\n",
       "    <tr>\n",
       "      <th>TIPOEMAIL_SINCLASIFICAR</th>\n",
       "      <td>1.827718</td>\n",
       "    </tr>\n",
       "    <tr>\n",
       "      <th>USU_TAMANIO_SD</th>\n",
       "      <td>1.756614</td>\n",
       "    </tr>\n",
       "    <tr>\n",
       "      <th>USU_SECTOR_ECONOMICO_SD</th>\n",
       "      <td>1.735996</td>\n",
       "    </tr>\n",
       "    <tr>\n",
       "      <th>USU_ESTADO_INACTIVA</th>\n",
       "      <td>1.692040</td>\n",
       "    </tr>\n",
       "    <tr>\n",
       "      <th>USU_TAMANIO_MD</th>\n",
       "      <td>1.542878</td>\n",
       "    </tr>\n",
       "    <tr>\n",
       "      <th>1A_EMPCONSUL_SECTOR_TERCIARIO</th>\n",
       "      <td>1.529594</td>\n",
       "    </tr>\n",
       "    <tr>\n",
       "      <th>USU_TIPO_SOC_COMERCIAL_INDUSTRIAL</th>\n",
       "      <td>1.401130</td>\n",
       "    </tr>\n",
       "    <tr>\n",
       "      <th>USU_ESTADO_ACTIVA</th>\n",
       "      <td>1.289018</td>\n",
       "    </tr>\n",
       "    <tr>\n",
       "      <th>1A_EMPCONSUL_SECTOR_SECUNDARIO</th>\n",
       "      <td>1.157855</td>\n",
       "    </tr>\n",
       "    <tr>\n",
       "      <th>IP_COUNTRY_PIB_Ingreso mediano alto</th>\n",
       "      <td>1.096575</td>\n",
       "    </tr>\n",
       "    <tr>\n",
       "      <th>IP_CONTINENTE_AMERICA_SUR</th>\n",
       "      <td>1.024731</td>\n",
       "    </tr>\n",
       "  </tbody>\n",
       "</table>\n",
       "</div>"
      ],
      "text/plain": [
       "                                     important\n",
       "1A_DESCGRUPOPROD_PERF_PROMO           7.122014\n",
       "USU_TIPO_EMPRESARIO INDIVIDUAL        5.717319\n",
       "USU_TAMANIO_MC                        5.591685\n",
       "CANAL_REGISTRO                        4.213548\n",
       "EMAIL_PERSONAL                        3.086240\n",
       "TIPOEMAIL_GOOHOTYAHMAIL               2.939716\n",
       "IPCASOS                               2.869683\n",
       "TIPOEMAIL_CORPORATIVO                 2.859682\n",
       "TIPO_TELF_EXTRANJERO                  2.712603\n",
       "USU_SECTOR_ECONOMICO_TERCIARIO        2.665144\n",
       "TIPO_TELF_NO_PUBLICO                  2.374840\n",
       "FECHACONSUMO_MONTH                    2.271012\n",
       "1A_DESCGRUPOPROD_FICH_PROMO           2.242021\n",
       "TIPO_TELF_MOVIL                       2.239432\n",
       "FECHA_REGISTRO_MONTH                  2.223676\n",
       "USU_TAMANIO_GR                        2.164693\n",
       "USU_TAMANIO_PQ                        2.035023\n",
       "USU_DEPART_IDH                        1.963123\n",
       "IP_COUNTRY_IDH_NUM                    1.930683\n",
       "FECHACONSUMO_WEEKDAY                  1.919425\n",
       "USU_SECTOR_ECONOMICO_SECUNDARIO       1.910350\n",
       "USU_DEPART_DEN_POB                    1.902235\n",
       "1A_EMPCONSUL_PROV_DENS                1.888017\n",
       "1A_EMPCONSUL_PROV_IDH                 1.871515\n",
       "FECHA_REGISTRO_WEEKDAY                1.855369\n",
       "TIPOEMAIL_SINCLASIFICAR               1.827718\n",
       "USU_TAMANIO_SD                        1.756614\n",
       "USU_SECTOR_ECONOMICO_SD               1.735996\n",
       "USU_ESTADO_INACTIVA                   1.692040\n",
       "USU_TAMANIO_MD                        1.542878\n",
       "1A_EMPCONSUL_SECTOR_TERCIARIO         1.529594\n",
       "USU_TIPO_SOC_COMERCIAL_INDUSTRIAL     1.401130\n",
       "USU_ESTADO_ACTIVA                     1.289018\n",
       "1A_EMPCONSUL_SECTOR_SECUNDARIO        1.157855\n",
       "IP_COUNTRY_PIB_Ingreso mediano alto   1.096575\n",
       "IP_CONTINENTE_AMERICA_SUR             1.024731"
      ]
     },
     "execution_count": 72,
     "metadata": {},
     "output_type": "execute_result"
    }
   ],
   "source": [
    "feature_importances[feature_importances['important'] > 0.01] * 100"
   ]
  },
  {
   "cell_type": "code",
   "execution_count": 73,
   "id": "59e30fb1-c630-4ce7-a216-bde4275638a8",
   "metadata": {
    "tags": []
   },
   "outputs": [
    {
     "data": {
      "text/plain": [
       "(36, 1)"
      ]
     },
     "execution_count": 73,
     "metadata": {},
     "output_type": "execute_result"
    }
   ],
   "source": [
    "feature_importances[feature_importances['important'] > 0.01].shape"
   ]
  },
  {
   "cell_type": "markdown",
   "id": "71e6ecdd-4592-4ed4-9212-a87525198f58",
   "metadata": {},
   "source": [
    "------"
   ]
  },
  {
   "cell_type": "markdown",
   "id": "5d849722-123f-4cb8-8bfc-6b92701a2585",
   "metadata": {
    "tags": []
   },
   "source": [
    "**Combinando SMOTE & NearMiss**"
   ]
  },
  {
   "cell_type": "code",
   "execution_count": 74,
   "id": "3555c96c-dad5-4ba5-9f18-142a305f4f18",
   "metadata": {},
   "outputs": [],
   "source": [
    "over = SMOTE(sampling_strategy = 'all')\n",
    "under = NearMiss(sampling_strategy = 'majority', n_neighbors = 2, n_jobs = -1)\n",
    "steps = [('over', over), ('under', under)]\n",
    "pipeline = Pipeline(steps = steps)"
   ]
  },
  {
   "cell_type": "code",
   "execution_count": 75,
   "id": "377b937e-3958-45b6-9db8-9f0952985e59",
   "metadata": {},
   "outputs": [],
   "source": [
    "X_train_res, y_train_res = pipeline.fit_resample(train_x, train_y)"
   ]
  },
  {
   "cell_type": "code",
   "execution_count": 76,
   "id": "7bf1e7c9-fb08-47fb-a5dd-1d8e011d8c0d",
   "metadata": {},
   "outputs": [
    {
     "name": "stdout",
     "output_type": "stream",
     "text": [
      "Distribution before resampling Counter({0: 62793, 1: 916})\n",
      "Distribution after resampling Counter({0: 62793, 1: 62793})\n"
     ]
    }
   ],
   "source": [
    "print (\"Distribution before resampling {}\".format(Counter(train_y)))\n",
    "print (\"Distribution after resampling {}\".format(Counter(y_train_res)))"
   ]
  },
  {
   "cell_type": "code",
   "execution_count": 77,
   "id": "98b21245-ac14-476a-906d-e798cb9c3e21",
   "metadata": {},
   "outputs": [
    {
     "data": {
      "text/plain": [
       "RandomForestClassifier(criterion='entropy', n_estimators=150, n_jobs=-1,\n",
       "                       random_state=123)"
      ]
     },
     "execution_count": 77,
     "metadata": {},
     "output_type": "execute_result"
    }
   ],
   "source": [
    "rf = RandomForestClassifier(criterion = 'entropy', \n",
    "                            n_estimators = 150, \n",
    "                            max_features = 'auto', \n",
    "                            max_depth = None, \n",
    "                            n_jobs = -1,\n",
    "                            random_state = 123)\n",
    "\n",
    "rf.fit(X_train_res, y_train_res)"
   ]
  },
  {
   "cell_type": "code",
   "execution_count": 78,
   "id": "8e953138-7fe4-4d22-95d6-349d64e4f2ff",
   "metadata": {},
   "outputs": [
    {
     "data": {
      "image/png": "[encoded data removed]",
      "text/plain": [
       "<Figure size 576x576 with 2 Axes>"
      ]
     },
     "metadata": {
      "needs_background": "light"
     },
     "output_type": "display_data"
    },
    {
     "name": "stdout",
     "output_type": "stream",
     "text": [
      "              precision    recall  f1-score   support\n",
      "\n",
      "           0       0.99      1.00      0.99     26912\n",
      "           1       0.50      0.03      0.06       392\n",
      "\n",
      "    accuracy                           0.99     27304\n",
      "   macro avg       0.74      0.52      0.53     27304\n",
      "weighted avg       0.98      0.99      0.98     27304\n",
      "\n"
     ]
    }
   ],
   "source": [
    "pred_y = rf.predict(test_x)\n",
    "mostrar_resultados(test_y, pred_y)"
   ]
  },
  {
   "cell_type": "code",
   "execution_count": 79,
   "id": "3ade7f0b-895c-4a97-8bc9-c3b18034b162",
   "metadata": {},
   "outputs": [],
   "source": [
    "feature_importances = pd.DataFrame(rf.feature_importances_, index = train_x.columns, columns = ['important']).sort_values(['important'], ascending = 0)"
   ]
  },
  {
   "cell_type": "code",
   "execution_count": 80,
   "id": "8c6acf50-d057-41a4-a1cc-4aa42059d733",
   "metadata": {
    "collapsed": true,
    "jupyter": {
     "outputs_hidden": true
    },
    "tags": []
   },
   "outputs": [
    {
     "data": {
      "text/html": [
       "<div>\n",
       "<style scoped>\n",
       "    .dataframe tbody tr th:only-of-type {\n",
       "        vertical-align: middle;\n",
       "    }\n",
       "\n",
       "    .dataframe tbody tr th {\n",
       "        vertical-align: top;\n",
       "    }\n",
       "\n",
       "    .dataframe thead th {\n",
       "        text-align: right;\n",
       "    }\n",
       "</style>\n",
       "<table border=\"1\" class=\"dataframe\">\n",
       "  <thead>\n",
       "    <tr style=\"text-align: right;\">\n",
       "      <th></th>\n",
       "      <th>important</th>\n",
       "    </tr>\n",
       "  </thead>\n",
       "  <tbody>\n",
       "    <tr>\n",
       "      <th>1A_DESCGRUPOPROD_PERF_PROMO</th>\n",
       "      <td>6.632129</td>\n",
       "    </tr>\n",
       "    <tr>\n",
       "      <th>USU_TIPO_EMPRESARIO INDIVIDUAL</th>\n",
       "      <td>6.315846</td>\n",
       "    </tr>\n",
       "    <tr>\n",
       "      <th>USU_TAMANIO_MC</th>\n",
       "      <td>6.155404</td>\n",
       "    </tr>\n",
       "    <tr>\n",
       "      <th>CANAL_REGISTRO</th>\n",
       "      <td>3.815653</td>\n",
       "    </tr>\n",
       "    <tr>\n",
       "      <th>EMAIL_PERSONAL</th>\n",
       "      <td>3.411406</td>\n",
       "    </tr>\n",
       "    <tr>\n",
       "      <th>USU_SECTOR_ECONOMICO_TERCIARIO</th>\n",
       "      <td>3.045635</td>\n",
       "    </tr>\n",
       "    <tr>\n",
       "      <th>TIPOEMAIL_CORPORATIVO</th>\n",
       "      <td>2.958135</td>\n",
       "    </tr>\n",
       "    <tr>\n",
       "      <th>TIPO_TELF_EXTRANJERO</th>\n",
       "      <td>2.906908</td>\n",
       "    </tr>\n",
       "    <tr>\n",
       "      <th>TIPOEMAIL_GOOHOTYAHMAIL</th>\n",
       "      <td>2.792930</td>\n",
       "    </tr>\n",
       "    <tr>\n",
       "      <th>TIPO_TELF_NO_PUBLICO</th>\n",
       "      <td>2.495606</td>\n",
       "    </tr>\n",
       "    <tr>\n",
       "      <th>IPCASOS</th>\n",
       "      <td>2.378815</td>\n",
       "    </tr>\n",
       "    <tr>\n",
       "      <th>USU_SECTOR_ECONOMICO_SECUNDARIO</th>\n",
       "      <td>2.268095</td>\n",
       "    </tr>\n",
       "    <tr>\n",
       "      <th>TIPO_TELF_MOVIL</th>\n",
       "      <td>2.254027</td>\n",
       "    </tr>\n",
       "    <tr>\n",
       "      <th>USU_TAMANIO_GR</th>\n",
       "      <td>2.249814</td>\n",
       "    </tr>\n",
       "    <tr>\n",
       "      <th>USU_SECTOR_ECONOMICO_SD</th>\n",
       "      <td>2.034292</td>\n",
       "    </tr>\n",
       "    <tr>\n",
       "      <th>USU_DEPART_IDH</th>\n",
       "      <td>2.006054</td>\n",
       "    </tr>\n",
       "    <tr>\n",
       "      <th>USU_ESTADO_INACTIVA</th>\n",
       "      <td>1.996637</td>\n",
       "    </tr>\n",
       "    <tr>\n",
       "      <th>FECHACONSUMO_MONTH</th>\n",
       "      <td>1.971108</td>\n",
       "    </tr>\n",
       "    <tr>\n",
       "      <th>USU_TAMANIO_PQ</th>\n",
       "      <td>1.935863</td>\n",
       "    </tr>\n",
       "    <tr>\n",
       "      <th>FECHA_REGISTRO_MONTH</th>\n",
       "      <td>1.904980</td>\n",
       "    </tr>\n",
       "    <tr>\n",
       "      <th>1A_DESCGRUPOPROD_FICH_PROMO</th>\n",
       "      <td>1.882013</td>\n",
       "    </tr>\n",
       "    <tr>\n",
       "      <th>USU_DEPART_DEN_POB</th>\n",
       "      <td>1.870971</td>\n",
       "    </tr>\n",
       "    <tr>\n",
       "      <th>TIPOEMAIL_SINCLASIFICAR</th>\n",
       "      <td>1.825530</td>\n",
       "    </tr>\n",
       "    <tr>\n",
       "      <th>1A_EMPCONSUL_PROV_DENS</th>\n",
       "      <td>1.769888</td>\n",
       "    </tr>\n",
       "    <tr>\n",
       "      <th>USU_TAMANIO_SD</th>\n",
       "      <td>1.716416</td>\n",
       "    </tr>\n",
       "    <tr>\n",
       "      <th>FECHA_REGISTRO_WEEKDAY</th>\n",
       "      <td>1.712958</td>\n",
       "    </tr>\n",
       "    <tr>\n",
       "      <th>FECHACONSUMO_WEEKDAY</th>\n",
       "      <td>1.680897</td>\n",
       "    </tr>\n",
       "    <tr>\n",
       "      <th>IP_COUNTRY_IDH_NUM</th>\n",
       "      <td>1.664130</td>\n",
       "    </tr>\n",
       "    <tr>\n",
       "      <th>1A_EMPCONSUL_PROV_IDH</th>\n",
       "      <td>1.615088</td>\n",
       "    </tr>\n",
       "    <tr>\n",
       "      <th>1A_EMPCONSUL_SECTOR_TERCIARIO</th>\n",
       "      <td>1.536070</td>\n",
       "    </tr>\n",
       "    <tr>\n",
       "      <th>USU_TAMANIO_MD</th>\n",
       "      <td>1.529451</td>\n",
       "    </tr>\n",
       "    <tr>\n",
       "      <th>USU_TIPO_SOC_COMERCIAL_INDUSTRIAL</th>\n",
       "      <td>1.376164</td>\n",
       "    </tr>\n",
       "    <tr>\n",
       "      <th>USU_ESTADO_ACTIVA</th>\n",
       "      <td>1.295370</td>\n",
       "    </tr>\n",
       "    <tr>\n",
       "      <th>USU_TIPO_NI</th>\n",
       "      <td>1.204174</td>\n",
       "    </tr>\n",
       "    <tr>\n",
       "      <th>1A_EMPCONSUL_SECTOR_SECUNDARIO</th>\n",
       "      <td>1.114252</td>\n",
       "    </tr>\n",
       "    <tr>\n",
       "      <th>IP_CONTINENTE_AMERICA_SUR</th>\n",
       "      <td>1.040280</td>\n",
       "    </tr>\n",
       "  </tbody>\n",
       "</table>\n",
       "</div>"
      ],
      "text/plain": [
       "                                   important\n",
       "1A_DESCGRUPOPROD_PERF_PROMO         6.632129\n",
       "USU_TIPO_EMPRESARIO INDIVIDUAL      6.315846\n",
       "USU_TAMANIO_MC                      6.155404\n",
       "CANAL_REGISTRO                      3.815653\n",
       "EMAIL_PERSONAL                      3.411406\n",
       "USU_SECTOR_ECONOMICO_TERCIARIO      3.045635\n",
       "TIPOEMAIL_CORPORATIVO               2.958135\n",
       "TIPO_TELF_EXTRANJERO                2.906908\n",
       "TIPOEMAIL_GOOHOTYAHMAIL             2.792930\n",
       "TIPO_TELF_NO_PUBLICO                2.495606\n",
       "IPCASOS                             2.378815\n",
       "USU_SECTOR_ECONOMICO_SECUNDARIO     2.268095\n",
       "TIPO_TELF_MOVIL                     2.254027\n",
       "USU_TAMANIO_GR                      2.249814\n",
       "USU_SECTOR_ECONOMICO_SD             2.034292\n",
       "USU_DEPART_IDH                      2.006054\n",
       "USU_ESTADO_INACTIVA                 1.996637\n",
       "FECHACONSUMO_MONTH                  1.971108\n",
       "USU_TAMANIO_PQ                      1.935863\n",
       "FECHA_REGISTRO_MONTH                1.904980\n",
       "1A_DESCGRUPOPROD_FICH_PROMO         1.882013\n",
       "USU_DEPART_DEN_POB                  1.870971\n",
       "TIPOEMAIL_SINCLASIFICAR             1.825530\n",
       "1A_EMPCONSUL_PROV_DENS              1.769888\n",
       "USU_TAMANIO_SD                      1.716416\n",
       "FECHA_REGISTRO_WEEKDAY              1.712958\n",
       "FECHACONSUMO_WEEKDAY                1.680897\n",
       "IP_COUNTRY_IDH_NUM                  1.664130\n",
       "1A_EMPCONSUL_PROV_IDH               1.615088\n",
       "1A_EMPCONSUL_SECTOR_TERCIARIO       1.536070\n",
       "USU_TAMANIO_MD                      1.529451\n",
       "USU_TIPO_SOC_COMERCIAL_INDUSTRIAL   1.376164\n",
       "USU_ESTADO_ACTIVA                   1.295370\n",
       "USU_TIPO_NI                         1.204174\n",
       "1A_EMPCONSUL_SECTOR_SECUNDARIO      1.114252\n",
       "IP_CONTINENTE_AMERICA_SUR           1.040280"
      ]
     },
     "execution_count": 80,
     "metadata": {},
     "output_type": "execute_result"
    }
   ],
   "source": [
    "feature_importances[feature_importances['important'] > 0.01] * 100"
   ]
  },
  {
   "cell_type": "code",
   "execution_count": 81,
   "id": "b4f4388b-3d5e-4ec7-80ec-aad7860224e9",
   "metadata": {
    "tags": []
   },
   "outputs": [
    {
     "data": {
      "text/plain": [
       "(36, 1)"
      ]
     },
     "execution_count": 81,
     "metadata": {},
     "output_type": "execute_result"
    }
   ],
   "source": [
    "feature_importances[feature_importances['important'] > 0.01].shape"
   ]
  },
  {
   "cell_type": "markdown",
   "id": "de4f1b6b-b9b7-4c40-a12f-b2d367c87311",
   "metadata": {},
   "source": [
    "------"
   ]
  },
  {
   "cell_type": "markdown",
   "id": "6cca0e43-3442-49ef-974f-e69361a00269",
   "metadata": {},
   "source": [
    "**SMOTETomek**"
   ]
  },
  {
   "cell_type": "code",
   "execution_count": 82,
   "id": "e96e3093-b08c-47bb-b30c-e0c88c06daeb",
   "metadata": {},
   "outputs": [],
   "source": [
    "os_us = SMOTETomek(sampling_strategy = 'all')\n",
    "X_train_res, y_train_res = os_us.fit_resample(train_x, train_y)"
   ]
  },
  {
   "cell_type": "code",
   "execution_count": 83,
   "id": "a9a1a72e-7022-448c-af33-441c6bc65ffd",
   "metadata": {},
   "outputs": [
    {
     "name": "stdout",
     "output_type": "stream",
     "text": [
      "Distribution before resampling Counter({0: 62793, 1: 916})\n",
      "Distribution after resampling Counter({0: 62763, 1: 62763})\n"
     ]
    }
   ],
   "source": [
    "print (\"Distribution before resampling {}\".format(Counter(train_y)))\n",
    "print (\"Distribution after resampling {}\".format(Counter(y_train_res)))"
   ]
  },
  {
   "cell_type": "code",
   "execution_count": 84,
   "id": "fa242f79-9371-464a-9afe-8849d603ac2c",
   "metadata": {},
   "outputs": [
    {
     "data": {
      "text/plain": [
       "RandomForestClassifier(criterion='entropy', n_estimators=150, n_jobs=-1,\n",
       "                       random_state=123)"
      ]
     },
     "execution_count": 84,
     "metadata": {},
     "output_type": "execute_result"
    }
   ],
   "source": [
    "rf = RandomForestClassifier(criterion = 'entropy', \n",
    "                            n_estimators = 150, \n",
    "                            max_features = 'auto', \n",
    "                            max_depth = None, \n",
    "                            n_jobs = -1,\n",
    "                            random_state = 123)\n",
    "\n",
    "rf.fit(X_train_res, y_train_res)"
   ]
  },
  {
   "cell_type": "code",
   "execution_count": 85,
   "id": "1755ea03-f489-4060-8bbd-39f1e59cae59",
   "metadata": {},
   "outputs": [
    {
     "data": {
      "image/png": "[encoded data removed]",
      "text/plain": [
       "<Figure size 576x576 with 2 Axes>"
      ]
     },
     "metadata": {
      "needs_background": "light"
     },
     "output_type": "display_data"
    },
    {
     "name": "stdout",
     "output_type": "stream",
     "text": [
      "              precision    recall  f1-score   support\n",
      "\n",
      "           0       0.99      1.00      0.99     26912\n",
      "           1       0.52      0.03      0.06       392\n",
      "\n",
      "    accuracy                           0.99     27304\n",
      "   macro avg       0.75      0.52      0.53     27304\n",
      "weighted avg       0.98      0.99      0.98     27304\n",
      "\n"
     ]
    }
   ],
   "source": [
    "pred_y = rf.predict(test_x)\n",
    "mostrar_resultados(test_y, pred_y)"
   ]
  },
  {
   "cell_type": "code",
   "execution_count": 86,
   "id": "4239bbf2-cd64-4ce5-84d4-009c89e769cb",
   "metadata": {},
   "outputs": [],
   "source": [
    "feature_importances = pd.DataFrame(rf.feature_importances_, index = train_x.columns, columns = ['important']).sort_values(['important'], ascending = 0)"
   ]
  },
  {
   "cell_type": "code",
   "execution_count": 87,
   "id": "1ad2831b-bd3c-4385-8971-8171c33f1ff0",
   "metadata": {
    "collapsed": true,
    "jupyter": {
     "outputs_hidden": true
    },
    "tags": []
   },
   "outputs": [
    {
     "data": {
      "text/html": [
       "<div>\n",
       "<style scoped>\n",
       "    .dataframe tbody tr th:only-of-type {\n",
       "        vertical-align: middle;\n",
       "    }\n",
       "\n",
       "    .dataframe tbody tr th {\n",
       "        vertical-align: top;\n",
       "    }\n",
       "\n",
       "    .dataframe thead th {\n",
       "        text-align: right;\n",
       "    }\n",
       "</style>\n",
       "<table border=\"1\" class=\"dataframe\">\n",
       "  <thead>\n",
       "    <tr style=\"text-align: right;\">\n",
       "      <th></th>\n",
       "      <th>important</th>\n",
       "    </tr>\n",
       "  </thead>\n",
       "  <tbody>\n",
       "    <tr>\n",
       "      <th>USU_TIPO_EMPRESARIO INDIVIDUAL</th>\n",
       "      <td>6.643957</td>\n",
       "    </tr>\n",
       "    <tr>\n",
       "      <th>1A_DESCGRUPOPROD_PERF_PROMO</th>\n",
       "      <td>6.407175</td>\n",
       "    </tr>\n",
       "    <tr>\n",
       "      <th>USU_TAMANIO_MC</th>\n",
       "      <td>5.950251</td>\n",
       "    </tr>\n",
       "    <tr>\n",
       "      <th>CANAL_REGISTRO</th>\n",
       "      <td>3.707598</td>\n",
       "    </tr>\n",
       "    <tr>\n",
       "      <th>TIPOEMAIL_GOOHOTYAHMAIL</th>\n",
       "      <td>3.234385</td>\n",
       "    </tr>\n",
       "    <tr>\n",
       "      <th>EMAIL_PERSONAL</th>\n",
       "      <td>3.206965</td>\n",
       "    </tr>\n",
       "    <tr>\n",
       "      <th>TIPO_TELF_NO_PUBLICO</th>\n",
       "      <td>2.849775</td>\n",
       "    </tr>\n",
       "    <tr>\n",
       "      <th>USU_SECTOR_ECONOMICO_TERCIARIO</th>\n",
       "      <td>2.837348</td>\n",
       "    </tr>\n",
       "    <tr>\n",
       "      <th>TIPO_TELF_EXTRANJERO</th>\n",
       "      <td>2.828057</td>\n",
       "    </tr>\n",
       "    <tr>\n",
       "      <th>TIPOEMAIL_CORPORATIVO</th>\n",
       "      <td>2.715113</td>\n",
       "    </tr>\n",
       "    <tr>\n",
       "      <th>TIPO_TELF_MOVIL</th>\n",
       "      <td>2.672087</td>\n",
       "    </tr>\n",
       "    <tr>\n",
       "      <th>USU_TAMANIO_GR</th>\n",
       "      <td>2.335796</td>\n",
       "    </tr>\n",
       "    <tr>\n",
       "      <th>IPCASOS</th>\n",
       "      <td>2.284606</td>\n",
       "    </tr>\n",
       "    <tr>\n",
       "      <th>USU_SECTOR_ECONOMICO_SECUNDARIO</th>\n",
       "      <td>2.131778</td>\n",
       "    </tr>\n",
       "    <tr>\n",
       "      <th>USU_SECTOR_ECONOMICO_SD</th>\n",
       "      <td>2.119199</td>\n",
       "    </tr>\n",
       "    <tr>\n",
       "      <th>USU_TAMANIO_PQ</th>\n",
       "      <td>1.991783</td>\n",
       "    </tr>\n",
       "    <tr>\n",
       "      <th>USU_ESTADO_INACTIVA</th>\n",
       "      <td>1.979736</td>\n",
       "    </tr>\n",
       "    <tr>\n",
       "      <th>FECHACONSUMO_MONTH</th>\n",
       "      <td>1.952265</td>\n",
       "    </tr>\n",
       "    <tr>\n",
       "      <th>USU_DEPART_IDH</th>\n",
       "      <td>1.926701</td>\n",
       "    </tr>\n",
       "    <tr>\n",
       "      <th>FECHA_REGISTRO_MONTH</th>\n",
       "      <td>1.901819</td>\n",
       "    </tr>\n",
       "    <tr>\n",
       "      <th>1A_DESCGRUPOPROD_FICH_PROMO</th>\n",
       "      <td>1.886769</td>\n",
       "    </tr>\n",
       "    <tr>\n",
       "      <th>USU_TAMANIO_SD</th>\n",
       "      <td>1.821068</td>\n",
       "    </tr>\n",
       "    <tr>\n",
       "      <th>TIPOEMAIL_SINCLASIFICAR</th>\n",
       "      <td>1.793884</td>\n",
       "    </tr>\n",
       "    <tr>\n",
       "      <th>USU_DEPART_DEN_POB</th>\n",
       "      <td>1.784729</td>\n",
       "    </tr>\n",
       "    <tr>\n",
       "      <th>1A_EMPCONSUL_PROV_DENS</th>\n",
       "      <td>1.751018</td>\n",
       "    </tr>\n",
       "    <tr>\n",
       "      <th>FECHA_REGISTRO_WEEKDAY</th>\n",
       "      <td>1.729919</td>\n",
       "    </tr>\n",
       "    <tr>\n",
       "      <th>FECHACONSUMO_WEEKDAY</th>\n",
       "      <td>1.693460</td>\n",
       "    </tr>\n",
       "    <tr>\n",
       "      <th>1A_EMPCONSUL_SECTOR_TERCIARIO</th>\n",
       "      <td>1.652454</td>\n",
       "    </tr>\n",
       "    <tr>\n",
       "      <th>1A_EMPCONSUL_PROV_IDH</th>\n",
       "      <td>1.633309</td>\n",
       "    </tr>\n",
       "    <tr>\n",
       "      <th>USU_TAMANIO_MD</th>\n",
       "      <td>1.563278</td>\n",
       "    </tr>\n",
       "    <tr>\n",
       "      <th>IP_COUNTRY_IDH_NUM</th>\n",
       "      <td>1.555787</td>\n",
       "    </tr>\n",
       "    <tr>\n",
       "      <th>USU_TIPO_SOC_COMERCIAL_INDUSTRIAL</th>\n",
       "      <td>1.392834</td>\n",
       "    </tr>\n",
       "    <tr>\n",
       "      <th>USU_ESTADO_ACTIVA</th>\n",
       "      <td>1.269982</td>\n",
       "    </tr>\n",
       "    <tr>\n",
       "      <th>1A_EMPCONSUL_SECTOR_SECUNDARIO</th>\n",
       "      <td>1.169747</td>\n",
       "    </tr>\n",
       "    <tr>\n",
       "      <th>USU_TIPO_NI</th>\n",
       "      <td>1.143033</td>\n",
       "    </tr>\n",
       "    <tr>\n",
       "      <th>IP_CONTINENTE_AMERICA_SUR</th>\n",
       "      <td>1.078385</td>\n",
       "    </tr>\n",
       "  </tbody>\n",
       "</table>\n",
       "</div>"
      ],
      "text/plain": [
       "                                   important\n",
       "USU_TIPO_EMPRESARIO INDIVIDUAL      6.643957\n",
       "1A_DESCGRUPOPROD_PERF_PROMO         6.407175\n",
       "USU_TAMANIO_MC                      5.950251\n",
       "CANAL_REGISTRO                      3.707598\n",
       "TIPOEMAIL_GOOHOTYAHMAIL             3.234385\n",
       "EMAIL_PERSONAL                      3.206965\n",
       "TIPO_TELF_NO_PUBLICO                2.849775\n",
       "USU_SECTOR_ECONOMICO_TERCIARIO      2.837348\n",
       "TIPO_TELF_EXTRANJERO                2.828057\n",
       "TIPOEMAIL_CORPORATIVO               2.715113\n",
       "TIPO_TELF_MOVIL                     2.672087\n",
       "USU_TAMANIO_GR                      2.335796\n",
       "IPCASOS                             2.284606\n",
       "USU_SECTOR_ECONOMICO_SECUNDARIO     2.131778\n",
       "USU_SECTOR_ECONOMICO_SD             2.119199\n",
       "USU_TAMANIO_PQ                      1.991783\n",
       "USU_ESTADO_INACTIVA                 1.979736\n",
       "FECHACONSUMO_MONTH                  1.952265\n",
       "USU_DEPART_IDH                      1.926701\n",
       "FECHA_REGISTRO_MONTH                1.901819\n",
       "1A_DESCGRUPOPROD_FICH_PROMO         1.886769\n",
       "USU_TAMANIO_SD                      1.821068\n",
       "TIPOEMAIL_SINCLASIFICAR             1.793884\n",
       "USU_DEPART_DEN_POB                  1.784729\n",
       "1A_EMPCONSUL_PROV_DENS              1.751018\n",
       "FECHA_REGISTRO_WEEKDAY              1.729919\n",
       "FECHACONSUMO_WEEKDAY                1.693460\n",
       "1A_EMPCONSUL_SECTOR_TERCIARIO       1.652454\n",
       "1A_EMPCONSUL_PROV_IDH               1.633309\n",
       "USU_TAMANIO_MD                      1.563278\n",
       "IP_COUNTRY_IDH_NUM                  1.555787\n",
       "USU_TIPO_SOC_COMERCIAL_INDUSTRIAL   1.392834\n",
       "USU_ESTADO_ACTIVA                   1.269982\n",
       "1A_EMPCONSUL_SECTOR_SECUNDARIO      1.169747\n",
       "USU_TIPO_NI                         1.143033\n",
       "IP_CONTINENTE_AMERICA_SUR           1.078385"
      ]
     },
     "execution_count": 87,
     "metadata": {},
     "output_type": "execute_result"
    }
   ],
   "source": [
    "feature_importances[feature_importances['important'] > 0.01] * 100"
   ]
  },
  {
   "cell_type": "code",
   "execution_count": 88,
   "id": "8c831c73-8801-4ac6-a94c-9a04d9be0905",
   "metadata": {
    "tags": []
   },
   "outputs": [
    {
     "data": {
      "text/plain": [
       "(36, 1)"
      ]
     },
     "execution_count": 88,
     "metadata": {},
     "output_type": "execute_result"
    }
   ],
   "source": [
    "feature_importances[feature_importances['important'] > 0.01].shape"
   ]
  },
  {
   "cell_type": "markdown",
   "id": "70e32700-c65c-4535-883b-a56eb0129504",
   "metadata": {},
   "source": [
    "------"
   ]
  },
  {
   "cell_type": "markdown",
   "id": "733f79dc-f138-40d6-b8e6-f214536e5604",
   "metadata": {},
   "source": [
    "------"
   ]
  },
  {
   "cell_type": "markdown",
   "id": "b88e47d8-9bb0-4118-a210-14d021811143",
   "metadata": {},
   "source": [
    "##### **4.5.5 Ensamble de Modelos con Balanceo**"
   ]
  },
  {
   "cell_type": "markdown",
   "id": "88140a78-2dca-49b3-9424-17f3362ca7a9",
   "metadata": {},
   "source": [
    "Para esta estrategia usaremos un Clasificador de Ensamble que utiliza Bagging y el modelo será un RandomForest."
   ]
  },
  {
   "cell_type": "markdown",
   "id": "50c6f20a-3508-4f5a-b5cc-c630b7047f2f",
   "metadata": {},
   "source": [
    "**Bagging**"
   ]
  },
  {
   "cell_type": "code",
   "execution_count": 89,
   "id": "2e6e497b-8d1e-4620-beed-02718c3b8c39",
   "metadata": {
    "tags": []
   },
   "outputs": [
    {
     "data": {
      "text/plain": [
       "BalancedBaggingClassifier(base_estimator=RandomForestClassifier(criterion='entropy',\n",
       "                                                                n_estimators=150,\n",
       "                                                                n_jobs=-1,\n",
       "                                                                random_state=123),\n",
       "                          n_estimators=20, random_state=123,\n",
       "                          sampling_strategy='majority')"
      ]
     },
     "execution_count": 89,
     "metadata": {},
     "output_type": "execute_result"
    }
   ],
   "source": [
    "bbc = BalancedBaggingClassifier(base_estimator = RandomForestClassifier(criterion = 'entropy', \n",
    "                                                                        n_estimators = 150, \n",
    "                                                                        max_features = 'auto', \n",
    "                                                                        max_depth = None, \n",
    "                                                                        n_jobs = -1,\n",
    "                                                                        random_state = 123),\n",
    "                                sampling_strategy = 'majority',\n",
    "                                n_estimators = 20,\n",
    "                                replacement = False,\n",
    "                                random_state = 123)\n",
    "\n",
    "bbc.fit(train_x, train_y)"
   ]
  },
  {
   "cell_type": "code",
   "execution_count": 90,
   "id": "d1553474-2a0a-4801-a6dc-71be284dc245",
   "metadata": {
    "tags": []
   },
   "outputs": [
    {
     "data": {
      "image/png": "[encoded data removed]",
      "text/plain": [
       "<Figure size 576x576 with 2 Axes>"
      ]
     },
     "metadata": {
      "needs_background": "light"
     },
     "output_type": "display_data"
    },
    {
     "name": "stdout",
     "output_type": "stream",
     "text": [
      "              precision    recall  f1-score   support\n",
      "\n",
      "           0       0.99      0.85      0.92     26912\n",
      "           1       0.06      0.61      0.10       392\n",
      "\n",
      "    accuracy                           0.85     27304\n",
      "   macro avg       0.52      0.73      0.51     27304\n",
      "weighted avg       0.98      0.85      0.90     27304\n",
      "\n"
     ]
    }
   ],
   "source": [
    "pred_y = bbc.predict(test_x)\n",
    "mostrar_resultados(test_y, pred_y)"
   ]
  },
  {
   "cell_type": "code",
   "execution_count": 91,
   "id": "a3059944-08eb-4409-9c65-6e387e6b7aa4",
   "metadata": {},
   "outputs": [],
   "source": [
    "feature_importances = pd.DataFrame(rf.feature_importances_, index = train_x.columns, columns = ['important']).sort_values(['important'], ascending = 0)"
   ]
  },
  {
   "cell_type": "code",
   "execution_count": 92,
   "id": "4226dc51-43fd-47e4-8516-5ee6a33f26ca",
   "metadata": {
    "collapsed": true,
    "jupyter": {
     "outputs_hidden": true
    },
    "tags": []
   },
   "outputs": [
    {
     "data": {
      "text/html": [
       "<div>\n",
       "<style scoped>\n",
       "    .dataframe tbody tr th:only-of-type {\n",
       "        vertical-align: middle;\n",
       "    }\n",
       "\n",
       "    .dataframe tbody tr th {\n",
       "        vertical-align: top;\n",
       "    }\n",
       "\n",
       "    .dataframe thead th {\n",
       "        text-align: right;\n",
       "    }\n",
       "</style>\n",
       "<table border=\"1\" class=\"dataframe\">\n",
       "  <thead>\n",
       "    <tr style=\"text-align: right;\">\n",
       "      <th></th>\n",
       "      <th>important</th>\n",
       "    </tr>\n",
       "  </thead>\n",
       "  <tbody>\n",
       "    <tr>\n",
       "      <th>USU_TIPO_EMPRESARIO INDIVIDUAL</th>\n",
       "      <td>6.643957</td>\n",
       "    </tr>\n",
       "    <tr>\n",
       "      <th>1A_DESCGRUPOPROD_PERF_PROMO</th>\n",
       "      <td>6.407175</td>\n",
       "    </tr>\n",
       "    <tr>\n",
       "      <th>USU_TAMANIO_MC</th>\n",
       "      <td>5.950251</td>\n",
       "    </tr>\n",
       "    <tr>\n",
       "      <th>CANAL_REGISTRO</th>\n",
       "      <td>3.707598</td>\n",
       "    </tr>\n",
       "    <tr>\n",
       "      <th>TIPOEMAIL_GOOHOTYAHMAIL</th>\n",
       "      <td>3.234385</td>\n",
       "    </tr>\n",
       "    <tr>\n",
       "      <th>EMAIL_PERSONAL</th>\n",
       "      <td>3.206965</td>\n",
       "    </tr>\n",
       "    <tr>\n",
       "      <th>TIPO_TELF_NO_PUBLICO</th>\n",
       "      <td>2.849775</td>\n",
       "    </tr>\n",
       "    <tr>\n",
       "      <th>USU_SECTOR_ECONOMICO_TERCIARIO</th>\n",
       "      <td>2.837348</td>\n",
       "    </tr>\n",
       "    <tr>\n",
       "      <th>TIPO_TELF_EXTRANJERO</th>\n",
       "      <td>2.828057</td>\n",
       "    </tr>\n",
       "    <tr>\n",
       "      <th>TIPOEMAIL_CORPORATIVO</th>\n",
       "      <td>2.715113</td>\n",
       "    </tr>\n",
       "    <tr>\n",
       "      <th>TIPO_TELF_MOVIL</th>\n",
       "      <td>2.672087</td>\n",
       "    </tr>\n",
       "    <tr>\n",
       "      <th>USU_TAMANIO_GR</th>\n",
       "      <td>2.335796</td>\n",
       "    </tr>\n",
       "    <tr>\n",
       "      <th>IPCASOS</th>\n",
       "      <td>2.284606</td>\n",
       "    </tr>\n",
       "    <tr>\n",
       "      <th>USU_SECTOR_ECONOMICO_SECUNDARIO</th>\n",
       "      <td>2.131778</td>\n",
       "    </tr>\n",
       "    <tr>\n",
       "      <th>USU_SECTOR_ECONOMICO_SD</th>\n",
       "      <td>2.119199</td>\n",
       "    </tr>\n",
       "    <tr>\n",
       "      <th>USU_TAMANIO_PQ</th>\n",
       "      <td>1.991783</td>\n",
       "    </tr>\n",
       "    <tr>\n",
       "      <th>USU_ESTADO_INACTIVA</th>\n",
       "      <td>1.979736</td>\n",
       "    </tr>\n",
       "    <tr>\n",
       "      <th>FECHACONSUMO_MONTH</th>\n",
       "      <td>1.952265</td>\n",
       "    </tr>\n",
       "    <tr>\n",
       "      <th>USU_DEPART_IDH</th>\n",
       "      <td>1.926701</td>\n",
       "    </tr>\n",
       "    <tr>\n",
       "      <th>FECHA_REGISTRO_MONTH</th>\n",
       "      <td>1.901819</td>\n",
       "    </tr>\n",
       "    <tr>\n",
       "      <th>1A_DESCGRUPOPROD_FICH_PROMO</th>\n",
       "      <td>1.886769</td>\n",
       "    </tr>\n",
       "    <tr>\n",
       "      <th>USU_TAMANIO_SD</th>\n",
       "      <td>1.821068</td>\n",
       "    </tr>\n",
       "    <tr>\n",
       "      <th>TIPOEMAIL_SINCLASIFICAR</th>\n",
       "      <td>1.793884</td>\n",
       "    </tr>\n",
       "    <tr>\n",
       "      <th>USU_DEPART_DEN_POB</th>\n",
       "      <td>1.784729</td>\n",
       "    </tr>\n",
       "    <tr>\n",
       "      <th>1A_EMPCONSUL_PROV_DENS</th>\n",
       "      <td>1.751018</td>\n",
       "    </tr>\n",
       "    <tr>\n",
       "      <th>FECHA_REGISTRO_WEEKDAY</th>\n",
       "      <td>1.729919</td>\n",
       "    </tr>\n",
       "    <tr>\n",
       "      <th>FECHACONSUMO_WEEKDAY</th>\n",
       "      <td>1.693460</td>\n",
       "    </tr>\n",
       "    <tr>\n",
       "      <th>1A_EMPCONSUL_SECTOR_TERCIARIO</th>\n",
       "      <td>1.652454</td>\n",
       "    </tr>\n",
       "    <tr>\n",
       "      <th>1A_EMPCONSUL_PROV_IDH</th>\n",
       "      <td>1.633309</td>\n",
       "    </tr>\n",
       "    <tr>\n",
       "      <th>USU_TAMANIO_MD</th>\n",
       "      <td>1.563278</td>\n",
       "    </tr>\n",
       "    <tr>\n",
       "      <th>IP_COUNTRY_IDH_NUM</th>\n",
       "      <td>1.555787</td>\n",
       "    </tr>\n",
       "    <tr>\n",
       "      <th>USU_TIPO_SOC_COMERCIAL_INDUSTRIAL</th>\n",
       "      <td>1.392834</td>\n",
       "    </tr>\n",
       "    <tr>\n",
       "      <th>USU_ESTADO_ACTIVA</th>\n",
       "      <td>1.269982</td>\n",
       "    </tr>\n",
       "    <tr>\n",
       "      <th>1A_EMPCONSUL_SECTOR_SECUNDARIO</th>\n",
       "      <td>1.169747</td>\n",
       "    </tr>\n",
       "    <tr>\n",
       "      <th>USU_TIPO_NI</th>\n",
       "      <td>1.143033</td>\n",
       "    </tr>\n",
       "    <tr>\n",
       "      <th>IP_CONTINENTE_AMERICA_SUR</th>\n",
       "      <td>1.078385</td>\n",
       "    </tr>\n",
       "  </tbody>\n",
       "</table>\n",
       "</div>"
      ],
      "text/plain": [
       "                                   important\n",
       "USU_TIPO_EMPRESARIO INDIVIDUAL      6.643957\n",
       "1A_DESCGRUPOPROD_PERF_PROMO         6.407175\n",
       "USU_TAMANIO_MC                      5.950251\n",
       "CANAL_REGISTRO                      3.707598\n",
       "TIPOEMAIL_GOOHOTYAHMAIL             3.234385\n",
       "EMAIL_PERSONAL                      3.206965\n",
       "TIPO_TELF_NO_PUBLICO                2.849775\n",
       "USU_SECTOR_ECONOMICO_TERCIARIO      2.837348\n",
       "TIPO_TELF_EXTRANJERO                2.828057\n",
       "TIPOEMAIL_CORPORATIVO               2.715113\n",
       "TIPO_TELF_MOVIL                     2.672087\n",
       "USU_TAMANIO_GR                      2.335796\n",
       "IPCASOS                             2.284606\n",
       "USU_SECTOR_ECONOMICO_SECUNDARIO     2.131778\n",
       "USU_SECTOR_ECONOMICO_SD             2.119199\n",
       "USU_TAMANIO_PQ                      1.991783\n",
       "USU_ESTADO_INACTIVA                 1.979736\n",
       "FECHACONSUMO_MONTH                  1.952265\n",
       "USU_DEPART_IDH                      1.926701\n",
       "FECHA_REGISTRO_MONTH                1.901819\n",
       "1A_DESCGRUPOPROD_FICH_PROMO         1.886769\n",
       "USU_TAMANIO_SD                      1.821068\n",
       "TIPOEMAIL_SINCLASIFICAR             1.793884\n",
       "USU_DEPART_DEN_POB                  1.784729\n",
       "1A_EMPCONSUL_PROV_DENS              1.751018\n",
       "FECHA_REGISTRO_WEEKDAY              1.729919\n",
       "FECHACONSUMO_WEEKDAY                1.693460\n",
       "1A_EMPCONSUL_SECTOR_TERCIARIO       1.652454\n",
       "1A_EMPCONSUL_PROV_IDH               1.633309\n",
       "USU_TAMANIO_MD                      1.563278\n",
       "IP_COUNTRY_IDH_NUM                  1.555787\n",
       "USU_TIPO_SOC_COMERCIAL_INDUSTRIAL   1.392834\n",
       "USU_ESTADO_ACTIVA                   1.269982\n",
       "1A_EMPCONSUL_SECTOR_SECUNDARIO      1.169747\n",
       "USU_TIPO_NI                         1.143033\n",
       "IP_CONTINENTE_AMERICA_SUR           1.078385"
      ]
     },
     "execution_count": 92,
     "metadata": {},
     "output_type": "execute_result"
    }
   ],
   "source": [
    "feature_importances[feature_importances['important'] > 0.01]*100"
   ]
  },
  {
   "cell_type": "code",
   "execution_count": 93,
   "id": "b67a8609-01cc-401f-a741-91fc4ce6fa06",
   "metadata": {
    "tags": []
   },
   "outputs": [
    {
     "data": {
      "text/plain": [
       "(36, 1)"
      ]
     },
     "execution_count": 93,
     "metadata": {},
     "output_type": "execute_result"
    }
   ],
   "source": [
    "feature_importances[feature_importances['important'] > 0.01].shape"
   ]
  },
  {
   "cell_type": "markdown",
   "id": "ca8e570f-8c2c-4e21-9e75-e64b1716be02",
   "metadata": {},
   "source": [
    "------"
   ]
  },
  {
   "cell_type": "markdown",
   "id": "6cbe2932-e7ea-415f-a20e-cdd273e04281",
   "metadata": {},
   "source": [
    "**BalancedRandomForestClassifier**"
   ]
  },
  {
   "cell_type": "code",
   "execution_count": 94,
   "id": "b40fa5c3-75b6-42bb-9b68-6033627e1e74",
   "metadata": {
    "tags": []
   },
   "outputs": [
    {
     "data": {
      "text/plain": [
       "BalancedRandomForestClassifier(criterion='entropy', n_estimators=150, n_jobs=-1,\n",
       "                               random_state=123)"
      ]
     },
     "execution_count": 94,
     "metadata": {},
     "output_type": "execute_result"
    }
   ],
   "source": [
    "brfc = BalancedRandomForestClassifier(criterion = 'entropy', \n",
    "                                    n_estimators = 150, \n",
    "                                    max_features = 'auto', \n",
    "                                    max_depth = None, \n",
    "                                    sampling_strategy = 'auto',\n",
    "                                    n_jobs = -1,\n",
    "                                    random_state = 123)\n",
    "\n",
    "brfc.fit(train_x, train_y)"
   ]
  },
  {
   "cell_type": "code",
   "execution_count": 95,
   "id": "893f3b50-4030-446c-8efb-408c33cc7846",
   "metadata": {
    "tags": []
   },
   "outputs": [
    {
     "data": {
      "image/png": "[encoded data removed]",
      "text/plain": [
       "<Figure size 576x576 with 2 Axes>"
      ]
     },
     "metadata": {
      "needs_background": "light"
     },
     "output_type": "display_data"
    },
    {
     "name": "stdout",
     "output_type": "stream",
     "text": [
      "              precision    recall  f1-score   support\n",
      "\n",
      "           0       0.99      0.77      0.87     26912\n",
      "           1       0.04      0.71      0.08       392\n",
      "\n",
      "    accuracy                           0.77     27304\n",
      "   macro avg       0.52      0.74      0.47     27304\n",
      "weighted avg       0.98      0.77      0.85     27304\n",
      "\n"
     ]
    }
   ],
   "source": [
    "pred_y = brfc.predict(test_x)\n",
    "mostrar_resultados(test_y, pred_y)"
   ]
  },
  {
   "cell_type": "code",
   "execution_count": 96,
   "id": "d637ce0b-6645-4e4e-ab68-cc9a38ae0084",
   "metadata": {},
   "outputs": [],
   "source": [
    "feature_importances = pd.DataFrame(rf.feature_importances_, index = train_x.columns, columns = ['important']).sort_values(['important'], ascending = 0)"
   ]
  },
  {
   "cell_type": "code",
   "execution_count": 97,
   "id": "3c5b3d33-738b-4914-bf8c-6519e668e2e8",
   "metadata": {
    "collapsed": true,
    "jupyter": {
     "outputs_hidden": true
    },
    "tags": []
   },
   "outputs": [
    {
     "data": {
      "text/html": [
       "<div>\n",
       "<style scoped>\n",
       "    .dataframe tbody tr th:only-of-type {\n",
       "        vertical-align: middle;\n",
       "    }\n",
       "\n",
       "    .dataframe tbody tr th {\n",
       "        vertical-align: top;\n",
       "    }\n",
       "\n",
       "    .dataframe thead th {\n",
       "        text-align: right;\n",
       "    }\n",
       "</style>\n",
       "<table border=\"1\" class=\"dataframe\">\n",
       "  <thead>\n",
       "    <tr style=\"text-align: right;\">\n",
       "      <th></th>\n",
       "      <th>important</th>\n",
       "    </tr>\n",
       "  </thead>\n",
       "  <tbody>\n",
       "    <tr>\n",
       "      <th>USU_TIPO_EMPRESARIO INDIVIDUAL</th>\n",
       "      <td>6.643957</td>\n",
       "    </tr>\n",
       "    <tr>\n",
       "      <th>1A_DESCGRUPOPROD_PERF_PROMO</th>\n",
       "      <td>6.407175</td>\n",
       "    </tr>\n",
       "    <tr>\n",
       "      <th>USU_TAMANIO_MC</th>\n",
       "      <td>5.950251</td>\n",
       "    </tr>\n",
       "    <tr>\n",
       "      <th>CANAL_REGISTRO</th>\n",
       "      <td>3.707598</td>\n",
       "    </tr>\n",
       "    <tr>\n",
       "      <th>TIPOEMAIL_GOOHOTYAHMAIL</th>\n",
       "      <td>3.234385</td>\n",
       "    </tr>\n",
       "    <tr>\n",
       "      <th>EMAIL_PERSONAL</th>\n",
       "      <td>3.206965</td>\n",
       "    </tr>\n",
       "    <tr>\n",
       "      <th>TIPO_TELF_NO_PUBLICO</th>\n",
       "      <td>2.849775</td>\n",
       "    </tr>\n",
       "    <tr>\n",
       "      <th>USU_SECTOR_ECONOMICO_TERCIARIO</th>\n",
       "      <td>2.837348</td>\n",
       "    </tr>\n",
       "    <tr>\n",
       "      <th>TIPO_TELF_EXTRANJERO</th>\n",
       "      <td>2.828057</td>\n",
       "    </tr>\n",
       "    <tr>\n",
       "      <th>TIPOEMAIL_CORPORATIVO</th>\n",
       "      <td>2.715113</td>\n",
       "    </tr>\n",
       "    <tr>\n",
       "      <th>TIPO_TELF_MOVIL</th>\n",
       "      <td>2.672087</td>\n",
       "    </tr>\n",
       "    <tr>\n",
       "      <th>USU_TAMANIO_GR</th>\n",
       "      <td>2.335796</td>\n",
       "    </tr>\n",
       "    <tr>\n",
       "      <th>IPCASOS</th>\n",
       "      <td>2.284606</td>\n",
       "    </tr>\n",
       "    <tr>\n",
       "      <th>USU_SECTOR_ECONOMICO_SECUNDARIO</th>\n",
       "      <td>2.131778</td>\n",
       "    </tr>\n",
       "    <tr>\n",
       "      <th>USU_SECTOR_ECONOMICO_SD</th>\n",
       "      <td>2.119199</td>\n",
       "    </tr>\n",
       "    <tr>\n",
       "      <th>USU_TAMANIO_PQ</th>\n",
       "      <td>1.991783</td>\n",
       "    </tr>\n",
       "    <tr>\n",
       "      <th>USU_ESTADO_INACTIVA</th>\n",
       "      <td>1.979736</td>\n",
       "    </tr>\n",
       "    <tr>\n",
       "      <th>FECHACONSUMO_MONTH</th>\n",
       "      <td>1.952265</td>\n",
       "    </tr>\n",
       "    <tr>\n",
       "      <th>USU_DEPART_IDH</th>\n",
       "      <td>1.926701</td>\n",
       "    </tr>\n",
       "    <tr>\n",
       "      <th>FECHA_REGISTRO_MONTH</th>\n",
       "      <td>1.901819</td>\n",
       "    </tr>\n",
       "    <tr>\n",
       "      <th>1A_DESCGRUPOPROD_FICH_PROMO</th>\n",
       "      <td>1.886769</td>\n",
       "    </tr>\n",
       "    <tr>\n",
       "      <th>USU_TAMANIO_SD</th>\n",
       "      <td>1.821068</td>\n",
       "    </tr>\n",
       "    <tr>\n",
       "      <th>TIPOEMAIL_SINCLASIFICAR</th>\n",
       "      <td>1.793884</td>\n",
       "    </tr>\n",
       "    <tr>\n",
       "      <th>USU_DEPART_DEN_POB</th>\n",
       "      <td>1.784729</td>\n",
       "    </tr>\n",
       "    <tr>\n",
       "      <th>1A_EMPCONSUL_PROV_DENS</th>\n",
       "      <td>1.751018</td>\n",
       "    </tr>\n",
       "    <tr>\n",
       "      <th>FECHA_REGISTRO_WEEKDAY</th>\n",
       "      <td>1.729919</td>\n",
       "    </tr>\n",
       "    <tr>\n",
       "      <th>FECHACONSUMO_WEEKDAY</th>\n",
       "      <td>1.693460</td>\n",
       "    </tr>\n",
       "    <tr>\n",
       "      <th>1A_EMPCONSUL_SECTOR_TERCIARIO</th>\n",
       "      <td>1.652454</td>\n",
       "    </tr>\n",
       "    <tr>\n",
       "      <th>1A_EMPCONSUL_PROV_IDH</th>\n",
       "      <td>1.633309</td>\n",
       "    </tr>\n",
       "    <tr>\n",
       "      <th>USU_TAMANIO_MD</th>\n",
       "      <td>1.563278</td>\n",
       "    </tr>\n",
       "    <tr>\n",
       "      <th>IP_COUNTRY_IDH_NUM</th>\n",
       "      <td>1.555787</td>\n",
       "    </tr>\n",
       "    <tr>\n",
       "      <th>USU_TIPO_SOC_COMERCIAL_INDUSTRIAL</th>\n",
       "      <td>1.392834</td>\n",
       "    </tr>\n",
       "    <tr>\n",
       "      <th>USU_ESTADO_ACTIVA</th>\n",
       "      <td>1.269982</td>\n",
       "    </tr>\n",
       "    <tr>\n",
       "      <th>1A_EMPCONSUL_SECTOR_SECUNDARIO</th>\n",
       "      <td>1.169747</td>\n",
       "    </tr>\n",
       "    <tr>\n",
       "      <th>USU_TIPO_NI</th>\n",
       "      <td>1.143033</td>\n",
       "    </tr>\n",
       "    <tr>\n",
       "      <th>IP_CONTINENTE_AMERICA_SUR</th>\n",
       "      <td>1.078385</td>\n",
       "    </tr>\n",
       "  </tbody>\n",
       "</table>\n",
       "</div>"
      ],
      "text/plain": [
       "                                   important\n",
       "USU_TIPO_EMPRESARIO INDIVIDUAL      6.643957\n",
       "1A_DESCGRUPOPROD_PERF_PROMO         6.407175\n",
       "USU_TAMANIO_MC                      5.950251\n",
       "CANAL_REGISTRO                      3.707598\n",
       "TIPOEMAIL_GOOHOTYAHMAIL             3.234385\n",
       "EMAIL_PERSONAL                      3.206965\n",
       "TIPO_TELF_NO_PUBLICO                2.849775\n",
       "USU_SECTOR_ECONOMICO_TERCIARIO      2.837348\n",
       "TIPO_TELF_EXTRANJERO                2.828057\n",
       "TIPOEMAIL_CORPORATIVO               2.715113\n",
       "TIPO_TELF_MOVIL                     2.672087\n",
       "USU_TAMANIO_GR                      2.335796\n",
       "IPCASOS                             2.284606\n",
       "USU_SECTOR_ECONOMICO_SECUNDARIO     2.131778\n",
       "USU_SECTOR_ECONOMICO_SD             2.119199\n",
       "USU_TAMANIO_PQ                      1.991783\n",
       "USU_ESTADO_INACTIVA                 1.979736\n",
       "FECHACONSUMO_MONTH                  1.952265\n",
       "USU_DEPART_IDH                      1.926701\n",
       "FECHA_REGISTRO_MONTH                1.901819\n",
       "1A_DESCGRUPOPROD_FICH_PROMO         1.886769\n",
       "USU_TAMANIO_SD                      1.821068\n",
       "TIPOEMAIL_SINCLASIFICAR             1.793884\n",
       "USU_DEPART_DEN_POB                  1.784729\n",
       "1A_EMPCONSUL_PROV_DENS              1.751018\n",
       "FECHA_REGISTRO_WEEKDAY              1.729919\n",
       "FECHACONSUMO_WEEKDAY                1.693460\n",
       "1A_EMPCONSUL_SECTOR_TERCIARIO       1.652454\n",
       "1A_EMPCONSUL_PROV_IDH               1.633309\n",
       "USU_TAMANIO_MD                      1.563278\n",
       "IP_COUNTRY_IDH_NUM                  1.555787\n",
       "USU_TIPO_SOC_COMERCIAL_INDUSTRIAL   1.392834\n",
       "USU_ESTADO_ACTIVA                   1.269982\n",
       "1A_EMPCONSUL_SECTOR_SECUNDARIO      1.169747\n",
       "USU_TIPO_NI                         1.143033\n",
       "IP_CONTINENTE_AMERICA_SUR           1.078385"
      ]
     },
     "execution_count": 97,
     "metadata": {},
     "output_type": "execute_result"
    }
   ],
   "source": [
    "feature_importances[feature_importances['important'] > 0.01]*100"
   ]
  },
  {
   "cell_type": "code",
   "execution_count": 98,
   "id": "99f2ce9c-dcb2-4cb0-b1ff-f3af5b2433d5",
   "metadata": {
    "tags": []
   },
   "outputs": [
    {
     "data": {
      "text/plain": [
       "(36, 1)"
      ]
     },
     "execution_count": 98,
     "metadata": {},
     "output_type": "execute_result"
    }
   ],
   "source": [
    "feature_importances[feature_importances['important'] > 0.01].shape"
   ]
  },
  {
   "cell_type": "markdown",
   "id": "3004e86b-0a1a-4a93-9d4e-72ec18999477",
   "metadata": {},
   "source": [
    "------"
   ]
  },
  {
   "cell_type": "markdown",
   "id": "73be0271-7f65-4c6b-b72f-60b401b121b8",
   "metadata": {},
   "source": [
    "**RUSBoostClassifier**"
   ]
  },
  {
   "cell_type": "code",
   "execution_count": 99,
   "id": "0ebea6c1-e392-4216-a778-992d7c018f1a",
   "metadata": {
    "tags": []
   },
   "outputs": [
    {
     "data": {
      "text/plain": [
       "RUSBoostClassifier(base_estimator=RandomForestClassifier(criterion='entropy',\n",
       "                                                         n_estimators=150,\n",
       "                                                         n_jobs=-1,\n",
       "                                                         random_state=123),\n",
       "                   n_estimators=20, random_state=123,\n",
       "                   sampling_strategy='majority')"
      ]
     },
     "execution_count": 99,
     "metadata": {},
     "output_type": "execute_result"
    }
   ],
   "source": [
    "RUS = RUSBoostClassifier(base_estimator = RandomForestClassifier(criterion = 'entropy', \n",
    "                                                                        n_estimators = 150, \n",
    "                                                                        max_features = 'auto', \n",
    "                                                                        max_depth = None, \n",
    "                                                                        n_jobs = -1,\n",
    "                                                                        random_state = 123),\n",
    "                                sampling_strategy = 'majority',\n",
    "                                n_estimators = 20,\n",
    "                                replacement = False,\n",
    "                                random_state = 123)\n",
    "\n",
    "RUS.fit(train_x, train_y)"
   ]
  },
  {
   "cell_type": "code",
   "execution_count": 100,
   "id": "b0b944e3-3b53-47e0-b941-74261d51dc4a",
   "metadata": {
    "tags": []
   },
   "outputs": [
    {
     "data": {
      "image/png": "[encoded data removed]",
      "text/plain": [
       "<Figure size 576x576 with 2 Axes>"
      ]
     },
     "metadata": {
      "needs_background": "light"
     },
     "output_type": "display_data"
    },
    {
     "name": "stdout",
     "output_type": "stream",
     "text": [
      "              precision    recall  f1-score   support\n",
      "\n",
      "           0       0.99      0.72      0.83     26912\n",
      "           1       0.04      0.71      0.07       392\n",
      "\n",
      "    accuracy                           0.72     27304\n",
      "   macro avg       0.51      0.71      0.45     27304\n",
      "weighted avg       0.98      0.72      0.82     27304\n",
      "\n"
     ]
    }
   ],
   "source": [
    "pred_y = RUS.predict(test_x)\n",
    "mostrar_resultados(test_y, pred_y)"
   ]
  },
  {
   "cell_type": "code",
   "execution_count": 101,
   "id": "e1d0cbd3-de01-44a1-887a-279c29b16086",
   "metadata": {},
   "outputs": [],
   "source": [
    "feature_importances = pd.DataFrame(rf.feature_importances_, index = train_x.columns, columns = ['important']).sort_values(['important'], ascending = 0)"
   ]
  },
  {
   "cell_type": "code",
   "execution_count": 102,
   "id": "9c934b57-92ae-4f57-a4e2-11aa22744810",
   "metadata": {
    "collapsed": true,
    "jupyter": {
     "outputs_hidden": true
    },
    "tags": []
   },
   "outputs": [
    {
     "data": {
      "text/html": [
       "<div>\n",
       "<style scoped>\n",
       "    .dataframe tbody tr th:only-of-type {\n",
       "        vertical-align: middle;\n",
       "    }\n",
       "\n",
       "    .dataframe tbody tr th {\n",
       "        vertical-align: top;\n",
       "    }\n",
       "\n",
       "    .dataframe thead th {\n",
       "        text-align: right;\n",
       "    }\n",
       "</style>\n",
       "<table border=\"1\" class=\"dataframe\">\n",
       "  <thead>\n",
       "    <tr style=\"text-align: right;\">\n",
       "      <th></th>\n",
       "      <th>important</th>\n",
       "    </tr>\n",
       "  </thead>\n",
       "  <tbody>\n",
       "    <tr>\n",
       "      <th>USU_TIPO_EMPRESARIO INDIVIDUAL</th>\n",
       "      <td>6.643957</td>\n",
       "    </tr>\n",
       "    <tr>\n",
       "      <th>1A_DESCGRUPOPROD_PERF_PROMO</th>\n",
       "      <td>6.407175</td>\n",
       "    </tr>\n",
       "    <tr>\n",
       "      <th>USU_TAMANIO_MC</th>\n",
       "      <td>5.950251</td>\n",
       "    </tr>\n",
       "    <tr>\n",
       "      <th>CANAL_REGISTRO</th>\n",
       "      <td>3.707598</td>\n",
       "    </tr>\n",
       "    <tr>\n",
       "      <th>TIPOEMAIL_GOOHOTYAHMAIL</th>\n",
       "      <td>3.234385</td>\n",
       "    </tr>\n",
       "    <tr>\n",
       "      <th>EMAIL_PERSONAL</th>\n",
       "      <td>3.206965</td>\n",
       "    </tr>\n",
       "    <tr>\n",
       "      <th>TIPO_TELF_NO_PUBLICO</th>\n",
       "      <td>2.849775</td>\n",
       "    </tr>\n",
       "    <tr>\n",
       "      <th>USU_SECTOR_ECONOMICO_TERCIARIO</th>\n",
       "      <td>2.837348</td>\n",
       "    </tr>\n",
       "    <tr>\n",
       "      <th>TIPO_TELF_EXTRANJERO</th>\n",
       "      <td>2.828057</td>\n",
       "    </tr>\n",
       "    <tr>\n",
       "      <th>TIPOEMAIL_CORPORATIVO</th>\n",
       "      <td>2.715113</td>\n",
       "    </tr>\n",
       "    <tr>\n",
       "      <th>TIPO_TELF_MOVIL</th>\n",
       "      <td>2.672087</td>\n",
       "    </tr>\n",
       "    <tr>\n",
       "      <th>USU_TAMANIO_GR</th>\n",
       "      <td>2.335796</td>\n",
       "    </tr>\n",
       "    <tr>\n",
       "      <th>IPCASOS</th>\n",
       "      <td>2.284606</td>\n",
       "    </tr>\n",
       "    <tr>\n",
       "      <th>USU_SECTOR_ECONOMICO_SECUNDARIO</th>\n",
       "      <td>2.131778</td>\n",
       "    </tr>\n",
       "    <tr>\n",
       "      <th>USU_SECTOR_ECONOMICO_SD</th>\n",
       "      <td>2.119199</td>\n",
       "    </tr>\n",
       "    <tr>\n",
       "      <th>USU_TAMANIO_PQ</th>\n",
       "      <td>1.991783</td>\n",
       "    </tr>\n",
       "    <tr>\n",
       "      <th>USU_ESTADO_INACTIVA</th>\n",
       "      <td>1.979736</td>\n",
       "    </tr>\n",
       "    <tr>\n",
       "      <th>FECHACONSUMO_MONTH</th>\n",
       "      <td>1.952265</td>\n",
       "    </tr>\n",
       "    <tr>\n",
       "      <th>USU_DEPART_IDH</th>\n",
       "      <td>1.926701</td>\n",
       "    </tr>\n",
       "    <tr>\n",
       "      <th>FECHA_REGISTRO_MONTH</th>\n",
       "      <td>1.901819</td>\n",
       "    </tr>\n",
       "    <tr>\n",
       "      <th>1A_DESCGRUPOPROD_FICH_PROMO</th>\n",
       "      <td>1.886769</td>\n",
       "    </tr>\n",
       "    <tr>\n",
       "      <th>USU_TAMANIO_SD</th>\n",
       "      <td>1.821068</td>\n",
       "    </tr>\n",
       "    <tr>\n",
       "      <th>TIPOEMAIL_SINCLASIFICAR</th>\n",
       "      <td>1.793884</td>\n",
       "    </tr>\n",
       "    <tr>\n",
       "      <th>USU_DEPART_DEN_POB</th>\n",
       "      <td>1.784729</td>\n",
       "    </tr>\n",
       "    <tr>\n",
       "      <th>1A_EMPCONSUL_PROV_DENS</th>\n",
       "      <td>1.751018</td>\n",
       "    </tr>\n",
       "    <tr>\n",
       "      <th>FECHA_REGISTRO_WEEKDAY</th>\n",
       "      <td>1.729919</td>\n",
       "    </tr>\n",
       "    <tr>\n",
       "      <th>FECHACONSUMO_WEEKDAY</th>\n",
       "      <td>1.693460</td>\n",
       "    </tr>\n",
       "    <tr>\n",
       "      <th>1A_EMPCONSUL_SECTOR_TERCIARIO</th>\n",
       "      <td>1.652454</td>\n",
       "    </tr>\n",
       "    <tr>\n",
       "      <th>1A_EMPCONSUL_PROV_IDH</th>\n",
       "      <td>1.633309</td>\n",
       "    </tr>\n",
       "    <tr>\n",
       "      <th>USU_TAMANIO_MD</th>\n",
       "      <td>1.563278</td>\n",
       "    </tr>\n",
       "    <tr>\n",
       "      <th>IP_COUNTRY_IDH_NUM</th>\n",
       "      <td>1.555787</td>\n",
       "    </tr>\n",
       "    <tr>\n",
       "      <th>USU_TIPO_SOC_COMERCIAL_INDUSTRIAL</th>\n",
       "      <td>1.392834</td>\n",
       "    </tr>\n",
       "    <tr>\n",
       "      <th>USU_ESTADO_ACTIVA</th>\n",
       "      <td>1.269982</td>\n",
       "    </tr>\n",
       "    <tr>\n",
       "      <th>1A_EMPCONSUL_SECTOR_SECUNDARIO</th>\n",
       "      <td>1.169747</td>\n",
       "    </tr>\n",
       "    <tr>\n",
       "      <th>USU_TIPO_NI</th>\n",
       "      <td>1.143033</td>\n",
       "    </tr>\n",
       "    <tr>\n",
       "      <th>IP_CONTINENTE_AMERICA_SUR</th>\n",
       "      <td>1.078385</td>\n",
       "    </tr>\n",
       "  </tbody>\n",
       "</table>\n",
       "</div>"
      ],
      "text/plain": [
       "                                   important\n",
       "USU_TIPO_EMPRESARIO INDIVIDUAL      6.643957\n",
       "1A_DESCGRUPOPROD_PERF_PROMO         6.407175\n",
       "USU_TAMANIO_MC                      5.950251\n",
       "CANAL_REGISTRO                      3.707598\n",
       "TIPOEMAIL_GOOHOTYAHMAIL             3.234385\n",
       "EMAIL_PERSONAL                      3.206965\n",
       "TIPO_TELF_NO_PUBLICO                2.849775\n",
       "USU_SECTOR_ECONOMICO_TERCIARIO      2.837348\n",
       "TIPO_TELF_EXTRANJERO                2.828057\n",
       "TIPOEMAIL_CORPORATIVO               2.715113\n",
       "TIPO_TELF_MOVIL                     2.672087\n",
       "USU_TAMANIO_GR                      2.335796\n",
       "IPCASOS                             2.284606\n",
       "USU_SECTOR_ECONOMICO_SECUNDARIO     2.131778\n",
       "USU_SECTOR_ECONOMICO_SD             2.119199\n",
       "USU_TAMANIO_PQ                      1.991783\n",
       "USU_ESTADO_INACTIVA                 1.979736\n",
       "FECHACONSUMO_MONTH                  1.952265\n",
       "USU_DEPART_IDH                      1.926701\n",
       "FECHA_REGISTRO_MONTH                1.901819\n",
       "1A_DESCGRUPOPROD_FICH_PROMO         1.886769\n",
       "USU_TAMANIO_SD                      1.821068\n",
       "TIPOEMAIL_SINCLASIFICAR             1.793884\n",
       "USU_DEPART_DEN_POB                  1.784729\n",
       "1A_EMPCONSUL_PROV_DENS              1.751018\n",
       "FECHA_REGISTRO_WEEKDAY              1.729919\n",
       "FECHACONSUMO_WEEKDAY                1.693460\n",
       "1A_EMPCONSUL_SECTOR_TERCIARIO       1.652454\n",
       "1A_EMPCONSUL_PROV_IDH               1.633309\n",
       "USU_TAMANIO_MD                      1.563278\n",
       "IP_COUNTRY_IDH_NUM                  1.555787\n",
       "USU_TIPO_SOC_COMERCIAL_INDUSTRIAL   1.392834\n",
       "USU_ESTADO_ACTIVA                   1.269982\n",
       "1A_EMPCONSUL_SECTOR_SECUNDARIO      1.169747\n",
       "USU_TIPO_NI                         1.143033\n",
       "IP_CONTINENTE_AMERICA_SUR           1.078385"
      ]
     },
     "execution_count": 102,
     "metadata": {},
     "output_type": "execute_result"
    }
   ],
   "source": [
    "feature_importances[feature_importances['important'] > 0.01]*100"
   ]
  },
  {
   "cell_type": "code",
   "execution_count": 103,
   "id": "37eabdf5-bda6-47f4-ba4d-e925b8e38269",
   "metadata": {
    "tags": []
   },
   "outputs": [
    {
     "data": {
      "text/plain": [
       "(36, 1)"
      ]
     },
     "execution_count": 103,
     "metadata": {},
     "output_type": "execute_result"
    }
   ],
   "source": [
    "feature_importances[feature_importances['important'] > 0.01].shape"
   ]
  },
  {
   "cell_type": "markdown",
   "id": "244bcf2f-3e61-443d-899e-85fc7cadf761",
   "metadata": {},
   "source": [
    "---------------"
   ]
  },
  {
   "cell_type": "markdown",
   "id": "46d7831d-aaac-46bc-9493-83e059e3bf5f",
   "metadata": {},
   "source": [
    "**EasyEnsembleClassifier**"
   ]
  },
  {
   "cell_type": "code",
   "execution_count": 104,
   "id": "0c348ea2-3ccc-4966-8161-c8b74d27eeee",
   "metadata": {
    "tags": []
   },
   "outputs": [
    {
     "data": {
      "text/plain": [
       "EasyEnsembleClassifier(n_estimators=150, random_state=123,\n",
       "                       sampling_strategy='majority')"
      ]
     },
     "execution_count": 104,
     "metadata": {},
     "output_type": "execute_result"
    }
   ],
   "source": [
    "Easy = EasyEnsembleClassifier(sampling_strategy = 'majority',\n",
    "                              n_estimators = 150,\n",
    "                              replacement = False,\n",
    "                              random_state = 123)\n",
    "\n",
    "Easy.fit(train_x, train_y)"
   ]
  },
  {
   "cell_type": "code",
   "execution_count": 105,
   "id": "0c874db9-a9dd-43d8-88cc-518dc6dccbc0",
   "metadata": {
    "tags": []
   },
   "outputs": [
    {
     "data": {
      "image/png": "[encoded data removed]",
      "text/plain": [
       "<Figure size 576x576 with 2 Axes>"
      ]
     },
     "metadata": {
      "needs_background": "light"
     },
     "output_type": "display_data"
    },
    {
     "name": "stdout",
     "output_type": "stream",
     "text": [
      "              precision    recall  f1-score   support\n",
      "\n",
      "           0       0.99      0.77      0.87     26912\n",
      "           1       0.04      0.71      0.08       392\n",
      "\n",
      "    accuracy                           0.77     27304\n",
      "   macro avg       0.52      0.74      0.47     27304\n",
      "weighted avg       0.98      0.77      0.86     27304\n",
      "\n"
     ]
    }
   ],
   "source": [
    "pred_y = Easy.predict(test_x)\n",
    "mostrar_resultados(test_y, pred_y)"
   ]
  },
  {
   "cell_type": "code",
   "execution_count": 106,
   "id": "d9964b8e-0b70-4968-94f3-9d37f1583696",
   "metadata": {},
   "outputs": [],
   "source": [
    "feature_importances = pd.DataFrame(rf.feature_importances_, index = train_x.columns, columns = ['important']).sort_values(['important'], ascending = 0)"
   ]
  },
  {
   "cell_type": "code",
   "execution_count": 107,
   "id": "f8eec23c-a892-442f-877c-0af1690d962a",
   "metadata": {
    "collapsed": true,
    "jupyter": {
     "outputs_hidden": true
    },
    "tags": []
   },
   "outputs": [
    {
     "data": {
      "text/html": [
       "<div>\n",
       "<style scoped>\n",
       "    .dataframe tbody tr th:only-of-type {\n",
       "        vertical-align: middle;\n",
       "    }\n",
       "\n",
       "    .dataframe tbody tr th {\n",
       "        vertical-align: top;\n",
       "    }\n",
       "\n",
       "    .dataframe thead th {\n",
       "        text-align: right;\n",
       "    }\n",
       "</style>\n",
       "<table border=\"1\" class=\"dataframe\">\n",
       "  <thead>\n",
       "    <tr style=\"text-align: right;\">\n",
       "      <th></th>\n",
       "      <th>important</th>\n",
       "    </tr>\n",
       "  </thead>\n",
       "  <tbody>\n",
       "    <tr>\n",
       "      <th>USU_TIPO_EMPRESARIO INDIVIDUAL</th>\n",
       "      <td>6.643957</td>\n",
       "    </tr>\n",
       "    <tr>\n",
       "      <th>1A_DESCGRUPOPROD_PERF_PROMO</th>\n",
       "      <td>6.407175</td>\n",
       "    </tr>\n",
       "    <tr>\n",
       "      <th>USU_TAMANIO_MC</th>\n",
       "      <td>5.950251</td>\n",
       "    </tr>\n",
       "    <tr>\n",
       "      <th>CANAL_REGISTRO</th>\n",
       "      <td>3.707598</td>\n",
       "    </tr>\n",
       "    <tr>\n",
       "      <th>TIPOEMAIL_GOOHOTYAHMAIL</th>\n",
       "      <td>3.234385</td>\n",
       "    </tr>\n",
       "    <tr>\n",
       "      <th>EMAIL_PERSONAL</th>\n",
       "      <td>3.206965</td>\n",
       "    </tr>\n",
       "    <tr>\n",
       "      <th>TIPO_TELF_NO_PUBLICO</th>\n",
       "      <td>2.849775</td>\n",
       "    </tr>\n",
       "    <tr>\n",
       "      <th>USU_SECTOR_ECONOMICO_TERCIARIO</th>\n",
       "      <td>2.837348</td>\n",
       "    </tr>\n",
       "    <tr>\n",
       "      <th>TIPO_TELF_EXTRANJERO</th>\n",
       "      <td>2.828057</td>\n",
       "    </tr>\n",
       "    <tr>\n",
       "      <th>TIPOEMAIL_CORPORATIVO</th>\n",
       "      <td>2.715113</td>\n",
       "    </tr>\n",
       "    <tr>\n",
       "      <th>TIPO_TELF_MOVIL</th>\n",
       "      <td>2.672087</td>\n",
       "    </tr>\n",
       "    <tr>\n",
       "      <th>USU_TAMANIO_GR</th>\n",
       "      <td>2.335796</td>\n",
       "    </tr>\n",
       "    <tr>\n",
       "      <th>IPCASOS</th>\n",
       "      <td>2.284606</td>\n",
       "    </tr>\n",
       "    <tr>\n",
       "      <th>USU_SECTOR_ECONOMICO_SECUNDARIO</th>\n",
       "      <td>2.131778</td>\n",
       "    </tr>\n",
       "    <tr>\n",
       "      <th>USU_SECTOR_ECONOMICO_SD</th>\n",
       "      <td>2.119199</td>\n",
       "    </tr>\n",
       "    <tr>\n",
       "      <th>USU_TAMANIO_PQ</th>\n",
       "      <td>1.991783</td>\n",
       "    </tr>\n",
       "    <tr>\n",
       "      <th>USU_ESTADO_INACTIVA</th>\n",
       "      <td>1.979736</td>\n",
       "    </tr>\n",
       "    <tr>\n",
       "      <th>FECHACONSUMO_MONTH</th>\n",
       "      <td>1.952265</td>\n",
       "    </tr>\n",
       "    <tr>\n",
       "      <th>USU_DEPART_IDH</th>\n",
       "      <td>1.926701</td>\n",
       "    </tr>\n",
       "    <tr>\n",
       "      <th>FECHA_REGISTRO_MONTH</th>\n",
       "      <td>1.901819</td>\n",
       "    </tr>\n",
       "    <tr>\n",
       "      <th>1A_DESCGRUPOPROD_FICH_PROMO</th>\n",
       "      <td>1.886769</td>\n",
       "    </tr>\n",
       "    <tr>\n",
       "      <th>USU_TAMANIO_SD</th>\n",
       "      <td>1.821068</td>\n",
       "    </tr>\n",
       "    <tr>\n",
       "      <th>TIPOEMAIL_SINCLASIFICAR</th>\n",
       "      <td>1.793884</td>\n",
       "    </tr>\n",
       "    <tr>\n",
       "      <th>USU_DEPART_DEN_POB</th>\n",
       "      <td>1.784729</td>\n",
       "    </tr>\n",
       "    <tr>\n",
       "      <th>1A_EMPCONSUL_PROV_DENS</th>\n",
       "      <td>1.751018</td>\n",
       "    </tr>\n",
       "    <tr>\n",
       "      <th>FECHA_REGISTRO_WEEKDAY</th>\n",
       "      <td>1.729919</td>\n",
       "    </tr>\n",
       "    <tr>\n",
       "      <th>FECHACONSUMO_WEEKDAY</th>\n",
       "      <td>1.693460</td>\n",
       "    </tr>\n",
       "    <tr>\n",
       "      <th>1A_EMPCONSUL_SECTOR_TERCIARIO</th>\n",
       "      <td>1.652454</td>\n",
       "    </tr>\n",
       "    <tr>\n",
       "      <th>1A_EMPCONSUL_PROV_IDH</th>\n",
       "      <td>1.633309</td>\n",
       "    </tr>\n",
       "    <tr>\n",
       "      <th>USU_TAMANIO_MD</th>\n",
       "      <td>1.563278</td>\n",
       "    </tr>\n",
       "    <tr>\n",
       "      <th>IP_COUNTRY_IDH_NUM</th>\n",
       "      <td>1.555787</td>\n",
       "    </tr>\n",
       "    <tr>\n",
       "      <th>USU_TIPO_SOC_COMERCIAL_INDUSTRIAL</th>\n",
       "      <td>1.392834</td>\n",
       "    </tr>\n",
       "    <tr>\n",
       "      <th>USU_ESTADO_ACTIVA</th>\n",
       "      <td>1.269982</td>\n",
       "    </tr>\n",
       "    <tr>\n",
       "      <th>1A_EMPCONSUL_SECTOR_SECUNDARIO</th>\n",
       "      <td>1.169747</td>\n",
       "    </tr>\n",
       "    <tr>\n",
       "      <th>USU_TIPO_NI</th>\n",
       "      <td>1.143033</td>\n",
       "    </tr>\n",
       "    <tr>\n",
       "      <th>IP_CONTINENTE_AMERICA_SUR</th>\n",
       "      <td>1.078385</td>\n",
       "    </tr>\n",
       "  </tbody>\n",
       "</table>\n",
       "</div>"
      ],
      "text/plain": [
       "                                   important\n",
       "USU_TIPO_EMPRESARIO INDIVIDUAL      6.643957\n",
       "1A_DESCGRUPOPROD_PERF_PROMO         6.407175\n",
       "USU_TAMANIO_MC                      5.950251\n",
       "CANAL_REGISTRO                      3.707598\n",
       "TIPOEMAIL_GOOHOTYAHMAIL             3.234385\n",
       "EMAIL_PERSONAL                      3.206965\n",
       "TIPO_TELF_NO_PUBLICO                2.849775\n",
       "USU_SECTOR_ECONOMICO_TERCIARIO      2.837348\n",
       "TIPO_TELF_EXTRANJERO                2.828057\n",
       "TIPOEMAIL_CORPORATIVO               2.715113\n",
       "TIPO_TELF_MOVIL                     2.672087\n",
       "USU_TAMANIO_GR                      2.335796\n",
       "IPCASOS                             2.284606\n",
       "USU_SECTOR_ECONOMICO_SECUNDARIO     2.131778\n",
       "USU_SECTOR_ECONOMICO_SD             2.119199\n",
       "USU_TAMANIO_PQ                      1.991783\n",
       "USU_ESTADO_INACTIVA                 1.979736\n",
       "FECHACONSUMO_MONTH                  1.952265\n",
       "USU_DEPART_IDH                      1.926701\n",
       "FECHA_REGISTRO_MONTH                1.901819\n",
       "1A_DESCGRUPOPROD_FICH_PROMO         1.886769\n",
       "USU_TAMANIO_SD                      1.821068\n",
       "TIPOEMAIL_SINCLASIFICAR             1.793884\n",
       "USU_DEPART_DEN_POB                  1.784729\n",
       "1A_EMPCONSUL_PROV_DENS              1.751018\n",
       "FECHA_REGISTRO_WEEKDAY              1.729919\n",
       "FECHACONSUMO_WEEKDAY                1.693460\n",
       "1A_EMPCONSUL_SECTOR_TERCIARIO       1.652454\n",
       "1A_EMPCONSUL_PROV_IDH               1.633309\n",
       "USU_TAMANIO_MD                      1.563278\n",
       "IP_COUNTRY_IDH_NUM                  1.555787\n",
       "USU_TIPO_SOC_COMERCIAL_INDUSTRIAL   1.392834\n",
       "USU_ESTADO_ACTIVA                   1.269982\n",
       "1A_EMPCONSUL_SECTOR_SECUNDARIO      1.169747\n",
       "USU_TIPO_NI                         1.143033\n",
       "IP_CONTINENTE_AMERICA_SUR           1.078385"
      ]
     },
     "execution_count": 107,
     "metadata": {},
     "output_type": "execute_result"
    }
   ],
   "source": [
    "feature_importances[feature_importances['important'] > 0.01]*100"
   ]
  },
  {
   "cell_type": "code",
   "execution_count": 108,
   "id": "4f56e0e0-dd26-4108-829e-fdffc5693a14",
   "metadata": {
    "tags": []
   },
   "outputs": [
    {
     "data": {
      "text/plain": [
       "(36, 1)"
      ]
     },
     "execution_count": 108,
     "metadata": {},
     "output_type": "execute_result"
    }
   ],
   "source": [
    "feature_importances[feature_importances['important'] > 0.01].shape"
   ]
  },
  {
   "cell_type": "markdown",
   "id": "26cb84ba-99fe-4df7-a6c7-a7e58cbc8da8",
   "metadata": {},
   "source": [
    "---------------"
   ]
  },
  {
   "cell_type": "markdown",
   "id": "45c2bb54-196a-49d8-965e-516ea73b7cbd",
   "metadata": {},
   "source": [
    "---------------"
   ]
  },
  {
   "cell_type": "markdown",
   "id": "c4b68b2c-defe-4183-b029-93b901885313",
   "metadata": {},
   "source": [
    "---------------"
   ]
  },
  {
   "cell_type": "markdown",
   "id": "ce039cd6-8487-470a-8817-172dff280e37",
   "metadata": {},
   "source": [
    "# CONCLUSIONES"
   ]
  },
  {
   "cell_type": "markdown",
   "id": "28b99afe-623e-4774-a329-f77f3a70738f",
   "metadata": {},
   "source": [
    "Realizaremos un modleo base sobre el que comparar los resultados. "
   ]
  },
  {
   "cell_type": "markdown",
   "id": "ebd7d7dd-00a0-4cad-a459-3251adb439bc",
   "metadata": {},
   "source": [
    "| Modelo | Accuracy  | NoClientes - Precision  | NoClientes - Recall  | Clientes - Precision | Clientes - Recall | # Variables utilizadas\n",
    "|---|:---:|:---:|:---:|:---:|:---:|:---:|\n",
    "| Baseline | 0.99 | 0.99 | 1.00 |  0.71 | 0.04 | 29 |"
   ]
  },
  {
   "cell_type": "markdown",
   "id": "6212bb3c-3a7f-455f-afde-360208caf9e1",
   "metadata": {},
   "source": [
    "### **Resultados** "
   ]
  },
  {
   "cell_type": "markdown",
   "id": "2d220373-7358-4e2c-b853-fa5b47c6529a",
   "metadata": {},
   "source": [
    "| Modelo |Tecnica |Algoritmo   | Accuracy  | NoClientes - Precision  | NoClientes - Recall  | Clientes - Precision | Clientes - Recall | # Variables utilizadas\n",
    "|---|:---:|:---:|:---:|:---:|:---:|:---:|:---:|:---:|\n",
    "| Modelo 1 | **Penalización para compensar** | | 0.99 | 0.99 | 1.00 | 0.70 | 0.04 | 28 |\n",
    "| Modelo 2 | **Subsampling en la clase mayoritaria** | RandomUnderSampler | 0.77 | 0.99 | 0.77 | 0.04 | 0.70 | 29 |\n",
    "| Modelo 3 | **Subsampling en la clase mayoritaria** | NearMiss| 0.16 | 0.99 | 0.15 | 0.01 | 0.86 | 25 |\n",
    "| Modelo 4 | **Oversampling en la clase minoritaria** | SMOTE| 0.99 | 0.99 | 1.00 | 0.46 | 0.03 | 34 |\n",
    "| Modelo 5 | **Oversampling en la clase minoritaria** | RandomOverSampler| 0.99 | 0.99 | 1.00 | 0.47 | 0.05 | 26 |\n",
    "| Modelo 6 | **Combinamos OverSampling con Subsampling** | SMOTE & RandomUnderSampler | 0.99 | 0.99 | 1.00 | 0.40 | 0.06 | 36 |\n",
    "| Modelo 7 | **Combinamos OverSampling con Subsampling** | SMOTE & NearMiss | 0.99 | 0.99 | 1.00 | 0.50 | 0.03 | 36 |\n",
    "| Modelo 8 | **Combinamos OverSampling con Subsampling** | SMOTE-Tomek| 0.99 | 0.99 | 1.00 | 0.52 | 0.03 | 36 |\n",
    "| Modelo 9 | **Ensamble de Modelos con Balanceo** | BalancedBaggingClassifier| 0.85 | 0.99 | 0.85 | 0.06 | 0.61 | 36 |\n",
    "| Modelo 10 | **Ensamble de Modelos con Balanceo** | BalancedRandomForestClassifier| 0.77 | 0.99 | 0.77 | 0.04 | 0.71 | 36 |\n",
    "| Modelo 11 | **Ensamble de Modelos con Balanceo** | RUSBoostClassifier| 0.72 | 0.99 | 0.72 | 0.04 | 0.71 | 36 |\n",
    "| Modelo 12 | **Ensamble de Modelos con Balanceo** | EasyEnsembleClassifier| 0.77 | 0.99 | 0.77 | 0.04 | 0.71 | 36 |"
   ]
  },
  {
   "cell_type": "markdown",
   "id": "23eda3e9-2b84-49b1-ae5f-a6d9ebfdccde",
   "metadata": {},
   "source": [
    "Tras los resultados obtenidos y expuestos, podemos concluir que la técnica que mejores resultados nos ha proporcionado es **El Ensamble de modelos con balanceo**, en concreto el algoritmo seleccionado hay 2 modelos que presentan resultados más aceptables como son **EasyEnsembleClassifier** y **BalancedRandomForestClassifier** que a pesar de ser un algoritmo con poco accuracy en comparación con el resto, tienen una **precision de la clase de clientes peor que otros casos**, lo que nos centramos es en la métrica de recall, tanto en la clase minoritaria como mayoritaria, ya que como podemos comprobar, la técnica **NearMis** Tiene un muy buen recall de la clase clientes pero pésima de la clase no clietnes.\n",
    "\n",
    "Las técnicas que más equilibrio presentan en la métrica de recall son las técnicas **BalancedRandomForestClassifier** y **EasyEnsembleClassifier**. "
   ]
  }
 ],
 "metadata": {
  "kernelspec": {
   "display_name": "Python 3",
   "language": "python",
   "name": "python3"
  },
  "language_info": {
   "codemirror_mode": {
    "name": "ipython",
    "version": 3
   },
   "file_extension": ".py",
   "mimetype": "text/x-python",
   "name": "python",
   "nbconvert_exporter": "python",
   "pygments_lexer": "ipython3",
   "version": "3.8.8"
  }
 },
 "nbformat": 4,
 "nbformat_minor": 5
}
