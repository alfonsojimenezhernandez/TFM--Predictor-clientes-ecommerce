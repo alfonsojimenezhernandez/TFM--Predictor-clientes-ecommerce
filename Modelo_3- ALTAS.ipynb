{
 "cells": [
  {
   "cell_type": "markdown",
   "id": "ethical-champagne",
   "metadata": {},
   "source": [
    "# TFM - Predicción potenciales compradores de un ecommerce"
   ]
  },
  {
   "cell_type": "markdown",
   "id": "4d28a3b7-1f0d-479d-8847-5cc51b9a4124",
   "metadata": {},
   "source": [
    "Evolución del notebook *Modelo_1.ipynb* unicamente aplicando a **Altas**"
   ]
  },
  {
   "cell_type": "markdown",
   "id": "guided-lender",
   "metadata": {},
   "source": [
    "------------------------------------"
   ]
  },
  {
   "cell_type": "markdown",
   "id": "f1d3da8f-3328-46b4-a429-d9db420305c6",
   "metadata": {},
   "source": [
    "------------------"
   ]
  },
  {
   "cell_type": "markdown",
   "id": "related-bruce",
   "metadata": {},
   "source": [
    "### 1.1 Librerias"
   ]
  },
  {
   "cell_type": "code",
   "execution_count": 28,
   "id": "educational-access",
   "metadata": {},
   "outputs": [],
   "source": [
    "import pandas as pd\n",
    "import matplotlib.pyplot as plt\n",
    "import seaborn as sns\n",
    "\n",
    "from sklearn.model_selection import train_test_split\n",
    "from sklearn.ensemble import RandomForestClassifier \n",
    "from sklearn.metrics import confusion_matrix\n",
    "from sklearn.metrics import classification_report\n",
    "from sklearn.metrics import roc_auc_score\n",
    "from sklearn.model_selection import ParameterGrid\n",
    "\n",
    "from imblearn.pipeline import Pipeline\n",
    "from imblearn.under_sampling import NearMiss, RandomUnderSampler\n",
    "from imblearn.over_sampling import RandomOverSampler, SMOTE\n",
    "from imblearn.combine import SMOTETomek\n",
    "from imblearn.ensemble import BalancedBaggingClassifier, BalancedRandomForestClassifier, RUSBoostClassifier, EasyEnsembleClassifier\n",
    "\n",
    "from collections import Counter\n",
    "\n",
    "pd.set_option('display.max_columns', 200)\n",
    "\n",
    "import warnings\n",
    "warnings.filterwarnings(\"ignore\")"
   ]
  },
  {
   "cell_type": "markdown",
   "id": "ee290e54-4d6f-4ef7-8aed-4d442185f44d",
   "metadata": {},
   "source": [
    "------------------"
   ]
  },
  {
   "cell_type": "markdown",
   "id": "interior-tucson",
   "metadata": {},
   "source": [
    "### 1.2 Variables globales"
   ]
  },
  {
   "cell_type": "code",
   "execution_count": 29,
   "id": "described-mainland",
   "metadata": {},
   "outputs": [],
   "source": [
    "LABELS = [\"No_Alta\",\"Alta\"]"
   ]
  },
  {
   "cell_type": "markdown",
   "id": "10003f48-7fb3-442b-929a-e132559df249",
   "metadata": {},
   "source": [
    "------------------"
   ]
  },
  {
   "cell_type": "markdown",
   "id": "operating-captain",
   "metadata": {},
   "source": [
    "### 1.3 Funciones"
   ]
  },
  {
   "cell_type": "code",
   "execution_count": 30,
   "id": "equal-confidentiality",
   "metadata": {},
   "outputs": [],
   "source": [
    "def mostrar_resultados(y_test, pred_y):\n",
    "    conf_matrix = confusion_matrix(y_test, pred_y)\n",
    "    plt.figure(figsize = (8, 8))\n",
    "    sns.heatmap(conf_matrix, xticklabels = LABELS, yticklabels = LABELS, annot = True, fmt = \"d\");\n",
    "    plt.title(\"Confusion matrix\")\n",
    "    plt.ylabel('True class')\n",
    "    plt.xlabel('Predicted class')\n",
    "    plt.show()\n",
    "    print (classification_report(y_test, pred_y))"
   ]
  },
  {
   "cell_type": "markdown",
   "id": "latter-plastic",
   "metadata": {},
   "source": [
    "------------------------------------"
   ]
  },
  {
   "cell_type": "markdown",
   "id": "e96cf1c9-e1ed-4157-936c-2101ae9b9fe5",
   "metadata": {},
   "source": [
    "------------------"
   ]
  },
  {
   "cell_type": "markdown",
   "id": "aquatic-cartoon",
   "metadata": {},
   "source": [
    "A continuación comenzamos leyendo los ficheros que hemos tratado, limpiado y analizado en los procesos anteriores.\n",
    "\n",
    "Se realizará un análisis sencillo de la estructura y una visualización de varias muestras. \n",
    "\n",
    "Además someteremos las variables categóricas a variables *dummies*, de forma que que podamos introducirlas ennuestro modelo."
   ]
  },
  {
   "cell_type": "markdown",
   "id": "popular-offering",
   "metadata": {},
   "source": [
    "### 2.1 Lectura de Fichero"
   ]
  },
  {
   "cell_type": "code",
   "execution_count": 31,
   "id": "missing-induction",
   "metadata": {},
   "outputs": [],
   "source": [
    "df = pd.read_csv('Data/dataset_model_corr.txt', sep = ';', encoding = 'ISO-8859-1')"
   ]
  },
  {
   "cell_type": "code",
   "execution_count": 32,
   "id": "convertible-brass",
   "metadata": {},
   "outputs": [
    {
     "data": {
      "text/plain": [
       "(406267, 26)"
      ]
     },
     "execution_count": 32,
     "metadata": {},
     "output_type": "execute_result"
    }
   ],
   "source": [
    "df.shape"
   ]
  },
  {
   "cell_type": "code",
   "execution_count": 33,
   "id": "metropolitan-melissa",
   "metadata": {},
   "outputs": [
    {
     "data": {
      "text/html": [
       "<div>\n",
       "<style scoped>\n",
       "    .dataframe tbody tr th:only-of-type {\n",
       "        vertical-align: middle;\n",
       "    }\n",
       "\n",
       "    .dataframe tbody tr th {\n",
       "        vertical-align: top;\n",
       "    }\n",
       "\n",
       "    .dataframe thead th {\n",
       "        text-align: right;\n",
       "    }\n",
       "</style>\n",
       "<table border=\"1\" class=\"dataframe\">\n",
       "  <thead>\n",
       "    <tr style=\"text-align: right;\">\n",
       "      <th></th>\n",
       "      <th>TIPOUSUARIO</th>\n",
       "      <th>FECHA_REGISTRO_WEEKDAY</th>\n",
       "      <th>FECHA_REGISTRO_MONTH</th>\n",
       "      <th>CANAL_REGISTRO</th>\n",
       "      <th>TIPOEMAIL</th>\n",
       "      <th>BONDAD_EMAIL</th>\n",
       "      <th>TIPO_TELF</th>\n",
       "      <th>IP_CONTINENTE</th>\n",
       "      <th>IP_COUNTRY_PIB</th>\n",
       "      <th>USU_TIPO</th>\n",
       "      <th>USU_TAMANIO</th>\n",
       "      <th>USU_ESTADO</th>\n",
       "      <th>USU_SECTOR_ECONOMICO</th>\n",
       "      <th>1A_DESCGRUPOPROD</th>\n",
       "      <th>1A_EMPCONSUL_EST</th>\n",
       "      <th>1A_EMPCONSUL_SECTOR</th>\n",
       "      <th>IPCASOS</th>\n",
       "      <th>IP_COUNTRY_IDH_NUM</th>\n",
       "      <th>USU_DEPART_DEN_POB</th>\n",
       "      <th>USU_DEPART_IDH</th>\n",
       "      <th>1A_EMPCONSUL_PROV_DENS</th>\n",
       "      <th>1A_EMPCONSUL_PROV_IDH</th>\n",
       "      <th>FICH_PROMO_TOT</th>\n",
       "      <th>PERF_PROMO_TOT</th>\n",
       "      <th>IND_ALTA</th>\n",
       "      <th>IND_CLIENTE</th>\n",
       "    </tr>\n",
       "  </thead>\n",
       "  <tbody>\n",
       "    <tr>\n",
       "      <th>0</th>\n",
       "      <td>PF</td>\n",
       "      <td>1</td>\n",
       "      <td>10</td>\n",
       "      <td>3</td>\n",
       "      <td>GOOHOTYAHMAIL</td>\n",
       "      <td>0</td>\n",
       "      <td>NO_PUBLICO</td>\n",
       "      <td>AMERICA_SUR</td>\n",
       "      <td>Ingreso mediano alto</td>\n",
       "      <td>NoApl</td>\n",
       "      <td>NoApl</td>\n",
       "      <td>NoApl</td>\n",
       "      <td>NoApl</td>\n",
       "      <td>PERF_PROMO</td>\n",
       "      <td>ACTIVA</td>\n",
       "      <td>TERCIARIO</td>\n",
       "      <td>1</td>\n",
       "      <td>0.767</td>\n",
       "      <td>-1.00</td>\n",
       "      <td>-1.000</td>\n",
       "      <td>47.92</td>\n",
       "      <td>0.782</td>\n",
       "      <td>0</td>\n",
       "      <td>1</td>\n",
       "      <td>0</td>\n",
       "      <td>0</td>\n",
       "    </tr>\n",
       "    <tr>\n",
       "      <th>1</th>\n",
       "      <td>PJ</td>\n",
       "      <td>1</td>\n",
       "      <td>5</td>\n",
       "      <td>3</td>\n",
       "      <td>GOOHOTYAHMAIL</td>\n",
       "      <td>1</td>\n",
       "      <td>NO_PUBLICO</td>\n",
       "      <td>AMERICA_SUR</td>\n",
       "      <td>Ingreso mediano alto</td>\n",
       "      <td>SOC_COMERCIAL_INDUSTRIAL</td>\n",
       "      <td>PQ</td>\n",
       "      <td>ACTIVA</td>\n",
       "      <td>TERCIARIO</td>\n",
       "      <td>PERF_PROMO</td>\n",
       "      <td>ACTIVA</td>\n",
       "      <td>SD</td>\n",
       "      <td>1</td>\n",
       "      <td>0.767</td>\n",
       "      <td>306.38</td>\n",
       "      <td>0.832</td>\n",
       "      <td>47.92</td>\n",
       "      <td>0.782</td>\n",
       "      <td>0</td>\n",
       "      <td>1</td>\n",
       "      <td>0</td>\n",
       "      <td>0</td>\n",
       "    </tr>\n",
       "    <tr>\n",
       "      <th>2</th>\n",
       "      <td>PJ</td>\n",
       "      <td>2</td>\n",
       "      <td>9</td>\n",
       "      <td>7</td>\n",
       "      <td>GOOHOTYAHMAIL</td>\n",
       "      <td>1</td>\n",
       "      <td>NO_PUBLICO</td>\n",
       "      <td>AMERICA_SUR</td>\n",
       "      <td>Ingreso mediano alto</td>\n",
       "      <td>SOC_COMERCIAL_INDUSTRIAL</td>\n",
       "      <td>MC</td>\n",
       "      <td>ACTIVA</td>\n",
       "      <td>TERCIARIO</td>\n",
       "      <td>PERF_PROMO</td>\n",
       "      <td>ACTIVA</td>\n",
       "      <td>TERCIARIO</td>\n",
       "      <td>1</td>\n",
       "      <td>0.767</td>\n",
       "      <td>815.17</td>\n",
       "      <td>0.835</td>\n",
       "      <td>4438.75</td>\n",
       "      <td>0.904</td>\n",
       "      <td>0</td>\n",
       "      <td>1</td>\n",
       "      <td>0</td>\n",
       "      <td>0</td>\n",
       "    </tr>\n",
       "  </tbody>\n",
       "</table>\n",
       "</div>"
      ],
      "text/plain": [
       "  TIPOUSUARIO  FECHA_REGISTRO_WEEKDAY  FECHA_REGISTRO_MONTH  CANAL_REGISTRO  \\\n",
       "0          PF                       1                    10               3   \n",
       "1          PJ                       1                     5               3   \n",
       "2          PJ                       2                     9               7   \n",
       "\n",
       "       TIPOEMAIL  BONDAD_EMAIL   TIPO_TELF IP_CONTINENTE  \\\n",
       "0  GOOHOTYAHMAIL             0  NO_PUBLICO   AMERICA_SUR   \n",
       "1  GOOHOTYAHMAIL             1  NO_PUBLICO   AMERICA_SUR   \n",
       "2  GOOHOTYAHMAIL             1  NO_PUBLICO   AMERICA_SUR   \n",
       "\n",
       "         IP_COUNTRY_PIB                  USU_TIPO USU_TAMANIO USU_ESTADO  \\\n",
       "0  Ingreso mediano alto                     NoApl       NoApl      NoApl   \n",
       "1  Ingreso mediano alto  SOC_COMERCIAL_INDUSTRIAL          PQ     ACTIVA   \n",
       "2  Ingreso mediano alto  SOC_COMERCIAL_INDUSTRIAL          MC     ACTIVA   \n",
       "\n",
       "  USU_SECTOR_ECONOMICO 1A_DESCGRUPOPROD 1A_EMPCONSUL_EST 1A_EMPCONSUL_SECTOR  \\\n",
       "0                NoApl       PERF_PROMO           ACTIVA           TERCIARIO   \n",
       "1            TERCIARIO       PERF_PROMO           ACTIVA                  SD   \n",
       "2            TERCIARIO       PERF_PROMO           ACTIVA           TERCIARIO   \n",
       "\n",
       "   IPCASOS  IP_COUNTRY_IDH_NUM  USU_DEPART_DEN_POB  USU_DEPART_IDH  \\\n",
       "0        1               0.767               -1.00          -1.000   \n",
       "1        1               0.767              306.38           0.832   \n",
       "2        1               0.767              815.17           0.835   \n",
       "\n",
       "   1A_EMPCONSUL_PROV_DENS  1A_EMPCONSUL_PROV_IDH  FICH_PROMO_TOT  \\\n",
       "0                   47.92                  0.782               0   \n",
       "1                   47.92                  0.782               0   \n",
       "2                 4438.75                  0.904               0   \n",
       "\n",
       "   PERF_PROMO_TOT  IND_ALTA  IND_CLIENTE  \n",
       "0               1         0            0  \n",
       "1               1         0            0  \n",
       "2               1         0            0  "
      ]
     },
     "execution_count": 33,
     "metadata": {},
     "output_type": "execute_result"
    }
   ],
   "source": [
    "df.head(3)"
   ]
  },
  {
   "cell_type": "markdown",
   "id": "8980cbe8-fdd7-4370-bba8-f7902787b1e5",
   "metadata": {},
   "source": [
    "------------------"
   ]
  },
  {
   "cell_type": "markdown",
   "id": "automotive-supervisor",
   "metadata": {},
   "source": [
    "### 2.2 Variables dummies"
   ]
  },
  {
   "cell_type": "code",
   "execution_count": 34,
   "id": "8f4e797e-2a7f-49bf-99e0-eac35670cabd",
   "metadata": {},
   "outputs": [],
   "source": [
    "ohe_columns = ['TIPOUSUARIO','FECHA_REGISTRO_WEEKDAY','FECHA_REGISTRO_MONTH','CANAL_REGISTRO','TIPOEMAIL','TIPO_TELF','IP_CONTINENTE','IP_COUNTRY_PIB','USU_TIPO',\n",
    "               'USU_TAMANIO','USU_ESTADO','USU_SECTOR_ECONOMICO','1A_DESCGRUPOPROD','1A_EMPCONSUL_EST','1A_EMPCONSUL_SECTOR']"
   ]
  },
  {
   "cell_type": "code",
   "execution_count": 35,
   "id": "comparable-english",
   "metadata": {},
   "outputs": [],
   "source": [
    "final_df = pd.get_dummies(df, columns = ohe_columns)"
   ]
  },
  {
   "cell_type": "markdown",
   "id": "approved-short",
   "metadata": {},
   "source": [
    "**Columnas para la predicción**"
   ]
  },
  {
   "cell_type": "code",
   "execution_count": 36,
   "id": "223246ca-7cec-4f8a-96d3-fb9f38ef13a1",
   "metadata": {},
   "outputs": [],
   "source": [
    "columnas = ['TIPOUSUARIO_PF','TIPOUSUARIO_PJ', 'FECHA_REGISTRO_WEEKDAY_0','FECHA_REGISTRO_WEEKDAY_1', 'FECHA_REGISTRO_WEEKDAY_2','FECHA_REGISTRO_WEEKDAY_3', \n",
    "            'FECHA_REGISTRO_WEEKDAY_4','FECHA_REGISTRO_WEEKDAY_5', 'FECHA_REGISTRO_WEEKDAY_6','FECHA_REGISTRO_MONTH_1', 'FECHA_REGISTRO_MONTH_2',\n",
    "            'FECHA_REGISTRO_MONTH_3', 'FECHA_REGISTRO_MONTH_4','FECHA_REGISTRO_MONTH_5', 'FECHA_REGISTRO_MONTH_6','FECHA_REGISTRO_MONTH_7', 'FECHA_REGISTRO_MONTH_8',\n",
    "            'FECHA_REGISTRO_MONTH_9', 'FECHA_REGISTRO_MONTH_10','FECHA_REGISTRO_MONTH_11', 'FECHA_REGISTRO_MONTH_12','CANAL_REGISTRO_1', 'CANAL_REGISTRO_2', 'CANAL_REGISTRO_3',\n",
    "            'CANAL_REGISTRO_4', 'CANAL_REGISTRO_5', 'CANAL_REGISTRO_6', 'CANAL_REGISTRO_7', 'CANAL_REGISTRO_8', 'CANAL_REGISTRO_9','TIPOEMAIL_ADMINISTRACION','TIPOEMAIL_CORPORATIVO',\n",
    "            'TIPOEMAIL_DOCENTE','TIPOEMAIL_GOOHOTYAHMAIL','TIPOEMAIL_SINCLASIFICAR','TIPOEMAIL_TEMPORAL','BONDAD_EMAIL','IPCASOS','TIPO_TELF_EXTRANJERO',\n",
    "            'TIPO_TELF_MOVIL', 'TIPO_TELF_NO_PUBLICO','IP_CONTINENTE_AFRICA','IP_CONTINENTE_AMERICA_NORTE','IP_CONTINENTE_AMERICA_SUR','IP_CONTINENTE_ASIA','IP_CONTINENTE_EUROPA',\n",
    "            'IP_CONTINENTE_NI','IP_CONTINENTE_OCEANNIA', 'IP_COUNTRY_PIB_Ingreso alto','IP_COUNTRY_PIB_Ingreso mediano alto','IP_COUNTRY_PIB_NI',\n",
    "            'IP_COUNTRY_PIB_Países de ingreso mediano bajo','IP_COUNTRY_IDH_NUM', 'USU_TIPO_EMPRESARIO INDIVIDUAL','USU_TIPO_ENTIDAD_HOLDING','USU_TIPO_NI','USU_TIPO_NoApl',\n",
    "            'USU_TIPO_SOC_COMERCIAL_INDUSTRIAL','USU_TIPO_SOC_NO_COMERCIAL','USU_TAMANIO_GR', 'USU_TAMANIO_MC','USU_TAMANIO_MD','USU_TAMANIO_NoApl','USU_TAMANIO_PQ',\n",
    "            'USU_TAMANIO_SD','USU_ESTADO_ACTIVA','USU_ESTADO_INACTIVA','USU_ESTADO_NoApl', 'USU_ESTADO_REESTRUCTURACION','USU_ESTADO_RELACION_CLINTON','USU_ESTADO_SD',\n",
    "            'USU_SECTOR_ECONOMICO_CUATERNARIO','USU_SECTOR_ECONOMICO_NoApl', 'USU_SECTOR_ECONOMICO_PRIMARIO','USU_SECTOR_ECONOMICO_QUINARIO','USU_SECTOR_ECONOMICO_SD',\n",
    "            'USU_SECTOR_ECONOMICO_SECUNDARIO','USU_SECTOR_ECONOMICO_TERCIARIO', 'USU_DEPART_DEN_POB','USU_DEPART_IDH','FICH_PROMO_TOT','PERF_PROMO_TOT','1A_EMPCONSUL_EST_ACTIVA', \n",
    "            '1A_EMPCONSUL_EST_INACTIVA', '1A_DESCGRUPOPROD_FICH_PROMO', '1A_DESCGRUPOPROD_PERF_PROMO', '1A_DESCGRUPOPROD_RES_PAGO', '1A_EMPCONSUL_EST_NI', \n",
    "            '1A_EMPCONSUL_EST_REESTRUCTURACION', '1A_EMPCONSUL_EST_RELACION_CLINTON', '1A_EMPCONSUL_SECTOR_CUATERNARIO', '1A_EMPCONSUL_SECTOR_PRIMARIO', '1A_EMPCONSUL_SECTOR_QUINARIO',\n",
    "            '1A_EMPCONSUL_SECTOR_SD', '1A_EMPCONSUL_SECTOR_SECUNDARIO', '1A_EMPCONSUL_SECTOR_TERCIARIO']"
   ]
  },
  {
   "cell_type": "markdown",
   "id": "noted-genetics",
   "metadata": {},
   "source": [
    "-----------------"
   ]
  },
  {
   "cell_type": "markdown",
   "id": "b53a6771-0046-48a6-871c-05a8a6cf2dc2",
   "metadata": {},
   "source": [
    "------------------"
   ]
  },
  {
   "cell_type": "markdown",
   "id": "correct-music",
   "metadata": {},
   "source": [
    "### 3.1 Analisis desbalanceo"
   ]
  },
  {
   "cell_type": "code",
   "execution_count": 37,
   "id": "impaired-liabilities",
   "metadata": {},
   "outputs": [
    {
     "data": {
      "text/plain": [
       "(406267, 100)"
      ]
     },
     "execution_count": 37,
     "metadata": {},
     "output_type": "execute_result"
    }
   ],
   "source": [
    "final_df.shape"
   ]
  },
  {
   "cell_type": "code",
   "execution_count": 38,
   "id": "modern-respect",
   "metadata": {},
   "outputs": [
    {
     "data": {
      "text/plain": [
       "0    393608\n",
       "1     12659\n",
       "Name: IND_ALTA, dtype: int64"
      ]
     },
     "execution_count": 38,
     "metadata": {},
     "output_type": "execute_result"
    }
   ],
   "source": [
    "pd.value_counts(final_df['IND_ALTA'], sort = True)"
   ]
  },
  {
   "cell_type": "code",
   "execution_count": 39,
   "id": "traditional-arthritis",
   "metadata": {},
   "outputs": [
    {
     "data": {
      "image/png": "[encoded data removed]",
      "text/plain": [
       "<Figure size 432x288 with 1 Axes>"
      ]
     },
     "metadata": {
      "needs_background": "light"
     },
     "output_type": "display_data"
    }
   ],
   "source": [
    "count_classes = pd.value_counts(final_df['IND_ALTA'], sort = True)\n",
    "count_classes.plot(kind = 'bar', rot = 0)\n",
    "plt.xticks(range(2), LABELS)\n",
    "plt.title(\"Frequency by observation number\")\n",
    "plt.xlabel(\"Target\")\n",
    "plt.ylabel(\"Observations\");"
   ]
  },
  {
   "cell_type": "code",
   "execution_count": 40,
   "id": "ancient-bernard",
   "metadata": {},
   "outputs": [
    {
     "name": "stdout",
     "output_type": "stream",
     "text": [
      "Los clientes suponen un % del total:  3.1159311487273147\n"
     ]
    }
   ],
   "source": [
    "print('Los clientes suponen un % del total: ', (12659/final_df.shape[0])*100)"
   ]
  },
  {
   "cell_type": "markdown",
   "id": "injured-charleston",
   "metadata": {},
   "source": [
    "**Podemos ver un claro desbalanceo donde los clientes no suponen más del 3% de las observaciones**"
   ]
  },
  {
   "cell_type": "markdown",
   "id": "outdoor-block",
   "metadata": {},
   "source": [
    "------------------"
   ]
  },
  {
   "cell_type": "markdown",
   "id": "fdd02bf4-e138-4042-a589-d306dc6779e0",
   "metadata": {},
   "source": [
    "------------------"
   ]
  },
  {
   "cell_type": "markdown",
   "id": "central-personality",
   "metadata": {},
   "source": [
    "### 4. Creación del Modelo"
   ]
  },
  {
   "cell_type": "markdown",
   "id": "otherwise-capability",
   "metadata": {},
   "source": [
    "#### 4.1 Dividimos el set entre features y label"
   ]
  },
  {
   "cell_type": "code",
   "execution_count": 41,
   "id": "integrated-substitute",
   "metadata": {},
   "outputs": [],
   "source": [
    "features = final_df[columnas]\n",
    "labels = final_df['IND_ALTA']"
   ]
  },
  {
   "cell_type": "code",
   "execution_count": 42,
   "id": "advance-germany",
   "metadata": {},
   "outputs": [
    {
     "data": {
      "text/plain": [
       "(406267, 96)"
      ]
     },
     "execution_count": 42,
     "metadata": {},
     "output_type": "execute_result"
    }
   ],
   "source": [
    "features.shape"
   ]
  },
  {
   "cell_type": "code",
   "execution_count": 43,
   "id": "lesser-spread",
   "metadata": {},
   "outputs": [
    {
     "data": {
      "text/plain": [
       "(406267,)"
      ]
     },
     "execution_count": 43,
     "metadata": {},
     "output_type": "execute_result"
    }
   ],
   "source": [
    "labels.shape"
   ]
  },
  {
   "cell_type": "markdown",
   "id": "3a931989-9ac6-423c-9670-35bb88a7ca36",
   "metadata": {},
   "source": [
    "------------------"
   ]
  },
  {
   "cell_type": "markdown",
   "id": "furnished-america",
   "metadata": {},
   "source": [
    "#### 4.2 Creamos set de entrenamiento y test"
   ]
  },
  {
   "cell_type": "code",
   "execution_count": 44,
   "id": "caring-thanks",
   "metadata": {},
   "outputs": [],
   "source": [
    "train_x, test_x, train_y, test_y = train_test_split(features, labels, test_size = 0.3, random_state = 123)"
   ]
  },
  {
   "cell_type": "code",
   "execution_count": 45,
   "id": "instructional-hamilton",
   "metadata": {},
   "outputs": [
    {
     "data": {
      "text/plain": [
       "(284386, 96)"
      ]
     },
     "execution_count": 45,
     "metadata": {},
     "output_type": "execute_result"
    }
   ],
   "source": [
    "train_x.shape"
   ]
  },
  {
   "cell_type": "code",
   "execution_count": 46,
   "id": "responsible-hometown",
   "metadata": {},
   "outputs": [
    {
     "data": {
      "text/plain": [
       "(121881, 96)"
      ]
     },
     "execution_count": 46,
     "metadata": {},
     "output_type": "execute_result"
    }
   ],
   "source": [
    "test_x.shape"
   ]
  },
  {
   "cell_type": "code",
   "execution_count": 47,
   "id": "funky-scientist",
   "metadata": {},
   "outputs": [
    {
     "data": {
      "text/plain": [
       "(284386,)"
      ]
     },
     "execution_count": 47,
     "metadata": {},
     "output_type": "execute_result"
    }
   ],
   "source": [
    "train_y.shape"
   ]
  },
  {
   "cell_type": "code",
   "execution_count": 48,
   "id": "regional-discretion",
   "metadata": {},
   "outputs": [
    {
     "data": {
      "text/plain": [
       "(121881,)"
      ]
     },
     "execution_count": 48,
     "metadata": {},
     "output_type": "execute_result"
    }
   ],
   "source": [
    "test_y.shape"
   ]
  },
  {
   "cell_type": "markdown",
   "id": "abbe61b9-fafe-4878-a370-acedd25dba68",
   "metadata": {},
   "source": [
    "------------------"
   ]
  },
  {
   "cell_type": "markdown",
   "id": "canadian-joining",
   "metadata": {},
   "source": [
    "#### 4.3 Selección Hiperparámetros"
   ]
  },
  {
   "cell_type": "markdown",
   "id": "vocational-adrian",
   "metadata": {},
   "source": [
    "Definimos una serie de hiperparámetros diferentes para comparar resultados"
   ]
  },
  {
   "cell_type": "code",
   "execution_count": 49,
   "id": "rising-lender",
   "metadata": {},
   "outputs": [],
   "source": [
    "param_grid = ParameterGrid({'n_estimators': [5, 20, 50, 100, 150],\n",
    "                            'max_features': [5, 'log2', 'auto', 'sqrt'],\n",
    "                            'max_depth'   : [None, 3, 5, 7, 10],\n",
    "                            'criterion'   : ['gini', 'entropy']\n",
    "                           })"
   ]
  },
  {
   "cell_type": "markdown",
   "id": "celtic-plaintiff",
   "metadata": {},
   "source": [
    "Loop para ajustar un modelo con cada combinación de hiperparámetros"
   ]
  },
  {
   "cell_type": "code",
   "execution_count": 50,
   "id": "alert-consideration",
   "metadata": {},
   "outputs": [],
   "source": [
    "resultados = {'params': [], 'oob_accuracy': []}"
   ]
  },
  {
   "cell_type": "code",
   "execution_count": 51,
   "id": "large-attitude",
   "metadata": {
    "tags": []
   },
   "outputs": [
    {
     "name": "stdout",
     "output_type": "stream",
     "text": [
      "Modelo: {'criterion': 'gini', 'max_depth': None, 'max_features': 5, 'n_estimators': 5} ✓\n",
      "Modelo: {'criterion': 'gini', 'max_depth': None, 'max_features': 5, 'n_estimators': 20} ✓\n",
      "Modelo: {'criterion': 'gini', 'max_depth': None, 'max_features': 5, 'n_estimators': 50} ✓\n",
      "Modelo: {'criterion': 'gini', 'max_depth': None, 'max_features': 5, 'n_estimators': 100} ✓\n",
      "Modelo: {'criterion': 'gini', 'max_depth': None, 'max_features': 5, 'n_estimators': 150} ✓\n",
      "Modelo: {'criterion': 'gini', 'max_depth': None, 'max_features': 'log2', 'n_estimators': 5} ✓\n",
      "Modelo: {'criterion': 'gini', 'max_depth': None, 'max_features': 'log2', 'n_estimators': 20} ✓\n",
      "Modelo: {'criterion': 'gini', 'max_depth': None, 'max_features': 'log2', 'n_estimators': 50} ✓\n",
      "Modelo: {'criterion': 'gini', 'max_depth': None, 'max_features': 'log2', 'n_estimators': 100} ✓\n",
      "Modelo: {'criterion': 'gini', 'max_depth': None, 'max_features': 'log2', 'n_estimators': 150} ✓\n",
      "Modelo: {'criterion': 'gini', 'max_depth': None, 'max_features': 'auto', 'n_estimators': 5} ✓\n",
      "Modelo: {'criterion': 'gini', 'max_depth': None, 'max_features': 'auto', 'n_estimators': 20} ✓\n",
      "Modelo: {'criterion': 'gini', 'max_depth': None, 'max_features': 'auto', 'n_estimators': 50} ✓\n",
      "Modelo: {'criterion': 'gini', 'max_depth': None, 'max_features': 'auto', 'n_estimators': 100} ✓\n",
      "Modelo: {'criterion': 'gini', 'max_depth': None, 'max_features': 'auto', 'n_estimators': 150} ✓\n",
      "Modelo: {'criterion': 'gini', 'max_depth': None, 'max_features': 'sqrt', 'n_estimators': 5} ✓\n",
      "Modelo: {'criterion': 'gini', 'max_depth': None, 'max_features': 'sqrt', 'n_estimators': 20} ✓\n",
      "Modelo: {'criterion': 'gini', 'max_depth': None, 'max_features': 'sqrt', 'n_estimators': 50} ✓\n",
      "Modelo: {'criterion': 'gini', 'max_depth': None, 'max_features': 'sqrt', 'n_estimators': 100} ✓\n",
      "Modelo: {'criterion': 'gini', 'max_depth': None, 'max_features': 'sqrt', 'n_estimators': 150} ✓\n",
      "Modelo: {'criterion': 'gini', 'max_depth': 3, 'max_features': 5, 'n_estimators': 5} ✓\n",
      "Modelo: {'criterion': 'gini', 'max_depth': 3, 'max_features': 5, 'n_estimators': 20} ✓\n",
      "Modelo: {'criterion': 'gini', 'max_depth': 3, 'max_features': 5, 'n_estimators': 50} ✓\n",
      "Modelo: {'criterion': 'gini', 'max_depth': 3, 'max_features': 5, 'n_estimators': 100} ✓\n",
      "Modelo: {'criterion': 'gini', 'max_depth': 3, 'max_features': 5, 'n_estimators': 150} ✓\n",
      "Modelo: {'criterion': 'gini', 'max_depth': 3, 'max_features': 'log2', 'n_estimators': 5} ✓\n",
      "Modelo: {'criterion': 'gini', 'max_depth': 3, 'max_features': 'log2', 'n_estimators': 20} ✓\n",
      "Modelo: {'criterion': 'gini', 'max_depth': 3, 'max_features': 'log2', 'n_estimators': 50} ✓\n",
      "Modelo: {'criterion': 'gini', 'max_depth': 3, 'max_features': 'log2', 'n_estimators': 100} ✓\n",
      "Modelo: {'criterion': 'gini', 'max_depth': 3, 'max_features': 'log2', 'n_estimators': 150} ✓\n",
      "Modelo: {'criterion': 'gini', 'max_depth': 3, 'max_features': 'auto', 'n_estimators': 5} ✓\n",
      "Modelo: {'criterion': 'gini', 'max_depth': 3, 'max_features': 'auto', 'n_estimators': 20} ✓\n",
      "Modelo: {'criterion': 'gini', 'max_depth': 3, 'max_features': 'auto', 'n_estimators': 50} ✓\n",
      "Modelo: {'criterion': 'gini', 'max_depth': 3, 'max_features': 'auto', 'n_estimators': 100} ✓\n",
      "Modelo: {'criterion': 'gini', 'max_depth': 3, 'max_features': 'auto', 'n_estimators': 150} ✓\n",
      "Modelo: {'criterion': 'gini', 'max_depth': 3, 'max_features': 'sqrt', 'n_estimators': 5} ✓\n",
      "Modelo: {'criterion': 'gini', 'max_depth': 3, 'max_features': 'sqrt', 'n_estimators': 20} ✓\n",
      "Modelo: {'criterion': 'gini', 'max_depth': 3, 'max_features': 'sqrt', 'n_estimators': 50} ✓\n",
      "Modelo: {'criterion': 'gini', 'max_depth': 3, 'max_features': 'sqrt', 'n_estimators': 100} ✓\n",
      "Modelo: {'criterion': 'gini', 'max_depth': 3, 'max_features': 'sqrt', 'n_estimators': 150} ✓\n",
      "Modelo: {'criterion': 'gini', 'max_depth': 5, 'max_features': 5, 'n_estimators': 5} ✓\n",
      "Modelo: {'criterion': 'gini', 'max_depth': 5, 'max_features': 5, 'n_estimators': 20} ✓\n",
      "Modelo: {'criterion': 'gini', 'max_depth': 5, 'max_features': 5, 'n_estimators': 50} ✓\n",
      "Modelo: {'criterion': 'gini', 'max_depth': 5, 'max_features': 5, 'n_estimators': 100} ✓\n",
      "Modelo: {'criterion': 'gini', 'max_depth': 5, 'max_features': 5, 'n_estimators': 150} ✓\n",
      "Modelo: {'criterion': 'gini', 'max_depth': 5, 'max_features': 'log2', 'n_estimators': 5} ✓\n",
      "Modelo: {'criterion': 'gini', 'max_depth': 5, 'max_features': 'log2', 'n_estimators': 20} ✓\n",
      "Modelo: {'criterion': 'gini', 'max_depth': 5, 'max_features': 'log2', 'n_estimators': 50} ✓\n",
      "Modelo: {'criterion': 'gini', 'max_depth': 5, 'max_features': 'log2', 'n_estimators': 100} ✓\n",
      "Modelo: {'criterion': 'gini', 'max_depth': 5, 'max_features': 'log2', 'n_estimators': 150} ✓\n",
      "Modelo: {'criterion': 'gini', 'max_depth': 5, 'max_features': 'auto', 'n_estimators': 5} ✓\n",
      "Modelo: {'criterion': 'gini', 'max_depth': 5, 'max_features': 'auto', 'n_estimators': 20} ✓\n",
      "Modelo: {'criterion': 'gini', 'max_depth': 5, 'max_features': 'auto', 'n_estimators': 50} ✓\n",
      "Modelo: {'criterion': 'gini', 'max_depth': 5, 'max_features': 'auto', 'n_estimators': 100} ✓\n",
      "Modelo: {'criterion': 'gini', 'max_depth': 5, 'max_features': 'auto', 'n_estimators': 150} ✓\n",
      "Modelo: {'criterion': 'gini', 'max_depth': 5, 'max_features': 'sqrt', 'n_estimators': 5} ✓\n",
      "Modelo: {'criterion': 'gini', 'max_depth': 5, 'max_features': 'sqrt', 'n_estimators': 20} ✓\n",
      "Modelo: {'criterion': 'gini', 'max_depth': 5, 'max_features': 'sqrt', 'n_estimators': 50} ✓\n",
      "Modelo: {'criterion': 'gini', 'max_depth': 5, 'max_features': 'sqrt', 'n_estimators': 100} ✓\n",
      "Modelo: {'criterion': 'gini', 'max_depth': 5, 'max_features': 'sqrt', 'n_estimators': 150} ✓\n",
      "Modelo: {'criterion': 'gini', 'max_depth': 7, 'max_features': 5, 'n_estimators': 5} ✓\n",
      "Modelo: {'criterion': 'gini', 'max_depth': 7, 'max_features': 5, 'n_estimators': 20} ✓\n",
      "Modelo: {'criterion': 'gini', 'max_depth': 7, 'max_features': 5, 'n_estimators': 50} ✓\n",
      "Modelo: {'criterion': 'gini', 'max_depth': 7, 'max_features': 5, 'n_estimators': 100} ✓\n",
      "Modelo: {'criterion': 'gini', 'max_depth': 7, 'max_features': 5, 'n_estimators': 150} ✓\n",
      "Modelo: {'criterion': 'gini', 'max_depth': 7, 'max_features': 'log2', 'n_estimators': 5} ✓\n",
      "Modelo: {'criterion': 'gini', 'max_depth': 7, 'max_features': 'log2', 'n_estimators': 20} ✓\n",
      "Modelo: {'criterion': 'gini', 'max_depth': 7, 'max_features': 'log2', 'n_estimators': 50} ✓\n",
      "Modelo: {'criterion': 'gini', 'max_depth': 7, 'max_features': 'log2', 'n_estimators': 100} ✓\n",
      "Modelo: {'criterion': 'gini', 'max_depth': 7, 'max_features': 'log2', 'n_estimators': 150} ✓\n",
      "Modelo: {'criterion': 'gini', 'max_depth': 7, 'max_features': 'auto', 'n_estimators': 5} ✓\n",
      "Modelo: {'criterion': 'gini', 'max_depth': 7, 'max_features': 'auto', 'n_estimators': 20} ✓\n",
      "Modelo: {'criterion': 'gini', 'max_depth': 7, 'max_features': 'auto', 'n_estimators': 50} ✓\n",
      "Modelo: {'criterion': 'gini', 'max_depth': 7, 'max_features': 'auto', 'n_estimators': 100} ✓\n",
      "Modelo: {'criterion': 'gini', 'max_depth': 7, 'max_features': 'auto', 'n_estimators': 150} ✓\n",
      "Modelo: {'criterion': 'gini', 'max_depth': 7, 'max_features': 'sqrt', 'n_estimators': 5} ✓\n",
      "Modelo: {'criterion': 'gini', 'max_depth': 7, 'max_features': 'sqrt', 'n_estimators': 20} ✓\n",
      "Modelo: {'criterion': 'gini', 'max_depth': 7, 'max_features': 'sqrt', 'n_estimators': 50} ✓\n",
      "Modelo: {'criterion': 'gini', 'max_depth': 7, 'max_features': 'sqrt', 'n_estimators': 100} ✓\n",
      "Modelo: {'criterion': 'gini', 'max_depth': 7, 'max_features': 'sqrt', 'n_estimators': 150} ✓\n",
      "Modelo: {'criterion': 'gini', 'max_depth': 10, 'max_features': 5, 'n_estimators': 5} ✓\n",
      "Modelo: {'criterion': 'gini', 'max_depth': 10, 'max_features': 5, 'n_estimators': 20} ✓\n",
      "Modelo: {'criterion': 'gini', 'max_depth': 10, 'max_features': 5, 'n_estimators': 50} ✓\n",
      "Modelo: {'criterion': 'gini', 'max_depth': 10, 'max_features': 5, 'n_estimators': 100} ✓\n",
      "Modelo: {'criterion': 'gini', 'max_depth': 10, 'max_features': 5, 'n_estimators': 150} ✓\n",
      "Modelo: {'criterion': 'gini', 'max_depth': 10, 'max_features': 'log2', 'n_estimators': 5} ✓\n",
      "Modelo: {'criterion': 'gini', 'max_depth': 10, 'max_features': 'log2', 'n_estimators': 20} ✓\n",
      "Modelo: {'criterion': 'gini', 'max_depth': 10, 'max_features': 'log2', 'n_estimators': 50} ✓\n",
      "Modelo: {'criterion': 'gini', 'max_depth': 10, 'max_features': 'log2', 'n_estimators': 100} ✓\n",
      "Modelo: {'criterion': 'gini', 'max_depth': 10, 'max_features': 'log2', 'n_estimators': 150} ✓\n",
      "Modelo: {'criterion': 'gini', 'max_depth': 10, 'max_features': 'auto', 'n_estimators': 5} ✓\n",
      "Modelo: {'criterion': 'gini', 'max_depth': 10, 'max_features': 'auto', 'n_estimators': 20} ✓\n",
      "Modelo: {'criterion': 'gini', 'max_depth': 10, 'max_features': 'auto', 'n_estimators': 50} ✓\n",
      "Modelo: {'criterion': 'gini', 'max_depth': 10, 'max_features': 'auto', 'n_estimators': 100} ✓\n",
      "Modelo: {'criterion': 'gini', 'max_depth': 10, 'max_features': 'auto', 'n_estimators': 150} ✓\n",
      "Modelo: {'criterion': 'gini', 'max_depth': 10, 'max_features': 'sqrt', 'n_estimators': 5} ✓\n",
      "Modelo: {'criterion': 'gini', 'max_depth': 10, 'max_features': 'sqrt', 'n_estimators': 20} ✓\n",
      "Modelo: {'criterion': 'gini', 'max_depth': 10, 'max_features': 'sqrt', 'n_estimators': 50} ✓\n",
      "Modelo: {'criterion': 'gini', 'max_depth': 10, 'max_features': 'sqrt', 'n_estimators': 100} ✓\n",
      "Modelo: {'criterion': 'gini', 'max_depth': 10, 'max_features': 'sqrt', 'n_estimators': 150} ✓\n",
      "Modelo: {'criterion': 'entropy', 'max_depth': None, 'max_features': 5, 'n_estimators': 5} ✓\n",
      "Modelo: {'criterion': 'entropy', 'max_depth': None, 'max_features': 5, 'n_estimators': 20} ✓\n",
      "Modelo: {'criterion': 'entropy', 'max_depth': None, 'max_features': 5, 'n_estimators': 50} ✓\n",
      "Modelo: {'criterion': 'entropy', 'max_depth': None, 'max_features': 5, 'n_estimators': 100} ✓\n",
      "Modelo: {'criterion': 'entropy', 'max_depth': None, 'max_features': 5, 'n_estimators': 150} ✓\n",
      "Modelo: {'criterion': 'entropy', 'max_depth': None, 'max_features': 'log2', 'n_estimators': 5} ✓\n",
      "Modelo: {'criterion': 'entropy', 'max_depth': None, 'max_features': 'log2', 'n_estimators': 20} ✓\n",
      "Modelo: {'criterion': 'entropy', 'max_depth': None, 'max_features': 'log2', 'n_estimators': 50} ✓\n",
      "Modelo: {'criterion': 'entropy', 'max_depth': None, 'max_features': 'log2', 'n_estimators': 100} ✓\n",
      "Modelo: {'criterion': 'entropy', 'max_depth': None, 'max_features': 'log2', 'n_estimators': 150} ✓\n",
      "Modelo: {'criterion': 'entropy', 'max_depth': None, 'max_features': 'auto', 'n_estimators': 5} ✓\n",
      "Modelo: {'criterion': 'entropy', 'max_depth': None, 'max_features': 'auto', 'n_estimators': 20} ✓\n",
      "Modelo: {'criterion': 'entropy', 'max_depth': None, 'max_features': 'auto', 'n_estimators': 50} ✓\n",
      "Modelo: {'criterion': 'entropy', 'max_depth': None, 'max_features': 'auto', 'n_estimators': 100} ✓\n",
      "Modelo: {'criterion': 'entropy', 'max_depth': None, 'max_features': 'auto', 'n_estimators': 150} ✓\n",
      "Modelo: {'criterion': 'entropy', 'max_depth': None, 'max_features': 'sqrt', 'n_estimators': 5} ✓\n",
      "Modelo: {'criterion': 'entropy', 'max_depth': None, 'max_features': 'sqrt', 'n_estimators': 20} ✓\n",
      "Modelo: {'criterion': 'entropy', 'max_depth': None, 'max_features': 'sqrt', 'n_estimators': 50} ✓\n",
      "Modelo: {'criterion': 'entropy', 'max_depth': None, 'max_features': 'sqrt', 'n_estimators': 100} ✓\n",
      "Modelo: {'criterion': 'entropy', 'max_depth': None, 'max_features': 'sqrt', 'n_estimators': 150} ✓\n",
      "Modelo: {'criterion': 'entropy', 'max_depth': 3, 'max_features': 5, 'n_estimators': 5} ✓\n",
      "Modelo: {'criterion': 'entropy', 'max_depth': 3, 'max_features': 5, 'n_estimators': 20} ✓\n",
      "Modelo: {'criterion': 'entropy', 'max_depth': 3, 'max_features': 5, 'n_estimators': 50} ✓\n",
      "Modelo: {'criterion': 'entropy', 'max_depth': 3, 'max_features': 5, 'n_estimators': 100} ✓\n",
      "Modelo: {'criterion': 'entropy', 'max_depth': 3, 'max_features': 5, 'n_estimators': 150} ✓\n",
      "Modelo: {'criterion': 'entropy', 'max_depth': 3, 'max_features': 'log2', 'n_estimators': 5} ✓\n",
      "Modelo: {'criterion': 'entropy', 'max_depth': 3, 'max_features': 'log2', 'n_estimators': 20} ✓\n",
      "Modelo: {'criterion': 'entropy', 'max_depth': 3, 'max_features': 'log2', 'n_estimators': 50} ✓\n",
      "Modelo: {'criterion': 'entropy', 'max_depth': 3, 'max_features': 'log2', 'n_estimators': 100} ✓\n",
      "Modelo: {'criterion': 'entropy', 'max_depth': 3, 'max_features': 'log2', 'n_estimators': 150} ✓\n",
      "Modelo: {'criterion': 'entropy', 'max_depth': 3, 'max_features': 'auto', 'n_estimators': 5} ✓\n",
      "Modelo: {'criterion': 'entropy', 'max_depth': 3, 'max_features': 'auto', 'n_estimators': 20} ✓\n",
      "Modelo: {'criterion': 'entropy', 'max_depth': 3, 'max_features': 'auto', 'n_estimators': 50} ✓\n",
      "Modelo: {'criterion': 'entropy', 'max_depth': 3, 'max_features': 'auto', 'n_estimators': 100} ✓\n",
      "Modelo: {'criterion': 'entropy', 'max_depth': 3, 'max_features': 'auto', 'n_estimators': 150} ✓\n",
      "Modelo: {'criterion': 'entropy', 'max_depth': 3, 'max_features': 'sqrt', 'n_estimators': 5} ✓\n",
      "Modelo: {'criterion': 'entropy', 'max_depth': 3, 'max_features': 'sqrt', 'n_estimators': 20} ✓\n",
      "Modelo: {'criterion': 'entropy', 'max_depth': 3, 'max_features': 'sqrt', 'n_estimators': 50} ✓\n",
      "Modelo: {'criterion': 'entropy', 'max_depth': 3, 'max_features': 'sqrt', 'n_estimators': 100} ✓\n",
      "Modelo: {'criterion': 'entropy', 'max_depth': 3, 'max_features': 'sqrt', 'n_estimators': 150} ✓\n",
      "Modelo: {'criterion': 'entropy', 'max_depth': 5, 'max_features': 5, 'n_estimators': 5} ✓\n",
      "Modelo: {'criterion': 'entropy', 'max_depth': 5, 'max_features': 5, 'n_estimators': 20} ✓\n",
      "Modelo: {'criterion': 'entropy', 'max_depth': 5, 'max_features': 5, 'n_estimators': 50} ✓\n",
      "Modelo: {'criterion': 'entropy', 'max_depth': 5, 'max_features': 5, 'n_estimators': 100} ✓\n",
      "Modelo: {'criterion': 'entropy', 'max_depth': 5, 'max_features': 5, 'n_estimators': 150} ✓\n",
      "Modelo: {'criterion': 'entropy', 'max_depth': 5, 'max_features': 'log2', 'n_estimators': 5} ✓\n",
      "Modelo: {'criterion': 'entropy', 'max_depth': 5, 'max_features': 'log2', 'n_estimators': 20} ✓\n",
      "Modelo: {'criterion': 'entropy', 'max_depth': 5, 'max_features': 'log2', 'n_estimators': 50} ✓\n",
      "Modelo: {'criterion': 'entropy', 'max_depth': 5, 'max_features': 'log2', 'n_estimators': 100} ✓\n",
      "Modelo: {'criterion': 'entropy', 'max_depth': 5, 'max_features': 'log2', 'n_estimators': 150} ✓\n",
      "Modelo: {'criterion': 'entropy', 'max_depth': 5, 'max_features': 'auto', 'n_estimators': 5} ✓\n",
      "Modelo: {'criterion': 'entropy', 'max_depth': 5, 'max_features': 'auto', 'n_estimators': 20} ✓\n",
      "Modelo: {'criterion': 'entropy', 'max_depth': 5, 'max_features': 'auto', 'n_estimators': 50} ✓\n",
      "Modelo: {'criterion': 'entropy', 'max_depth': 5, 'max_features': 'auto', 'n_estimators': 100} ✓\n",
      "Modelo: {'criterion': 'entropy', 'max_depth': 5, 'max_features': 'auto', 'n_estimators': 150} ✓\n",
      "Modelo: {'criterion': 'entropy', 'max_depth': 5, 'max_features': 'sqrt', 'n_estimators': 5} ✓\n",
      "Modelo: {'criterion': 'entropy', 'max_depth': 5, 'max_features': 'sqrt', 'n_estimators': 20} ✓\n",
      "Modelo: {'criterion': 'entropy', 'max_depth': 5, 'max_features': 'sqrt', 'n_estimators': 50} ✓\n",
      "Modelo: {'criterion': 'entropy', 'max_depth': 5, 'max_features': 'sqrt', 'n_estimators': 100} ✓\n",
      "Modelo: {'criterion': 'entropy', 'max_depth': 5, 'max_features': 'sqrt', 'n_estimators': 150} ✓\n",
      "Modelo: {'criterion': 'entropy', 'max_depth': 7, 'max_features': 5, 'n_estimators': 5} ✓\n",
      "Modelo: {'criterion': 'entropy', 'max_depth': 7, 'max_features': 5, 'n_estimators': 20} ✓\n",
      "Modelo: {'criterion': 'entropy', 'max_depth': 7, 'max_features': 5, 'n_estimators': 50} ✓\n",
      "Modelo: {'criterion': 'entropy', 'max_depth': 7, 'max_features': 5, 'n_estimators': 100} ✓\n",
      "Modelo: {'criterion': 'entropy', 'max_depth': 7, 'max_features': 5, 'n_estimators': 150} ✓\n",
      "Modelo: {'criterion': 'entropy', 'max_depth': 7, 'max_features': 'log2', 'n_estimators': 5} ✓\n",
      "Modelo: {'criterion': 'entropy', 'max_depth': 7, 'max_features': 'log2', 'n_estimators': 20} ✓\n",
      "Modelo: {'criterion': 'entropy', 'max_depth': 7, 'max_features': 'log2', 'n_estimators': 50} ✓\n",
      "Modelo: {'criterion': 'entropy', 'max_depth': 7, 'max_features': 'log2', 'n_estimators': 100} ✓\n",
      "Modelo: {'criterion': 'entropy', 'max_depth': 7, 'max_features': 'log2', 'n_estimators': 150} ✓\n",
      "Modelo: {'criterion': 'entropy', 'max_depth': 7, 'max_features': 'auto', 'n_estimators': 5} ✓\n",
      "Modelo: {'criterion': 'entropy', 'max_depth': 7, 'max_features': 'auto', 'n_estimators': 20} ✓\n",
      "Modelo: {'criterion': 'entropy', 'max_depth': 7, 'max_features': 'auto', 'n_estimators': 50} ✓\n",
      "Modelo: {'criterion': 'entropy', 'max_depth': 7, 'max_features': 'auto', 'n_estimators': 100} ✓\n",
      "Modelo: {'criterion': 'entropy', 'max_depth': 7, 'max_features': 'auto', 'n_estimators': 150} ✓\n",
      "Modelo: {'criterion': 'entropy', 'max_depth': 7, 'max_features': 'sqrt', 'n_estimators': 5} ✓\n",
      "Modelo: {'criterion': 'entropy', 'max_depth': 7, 'max_features': 'sqrt', 'n_estimators': 20} ✓\n",
      "Modelo: {'criterion': 'entropy', 'max_depth': 7, 'max_features': 'sqrt', 'n_estimators': 50} ✓\n",
      "Modelo: {'criterion': 'entropy', 'max_depth': 7, 'max_features': 'sqrt', 'n_estimators': 100} ✓\n",
      "Modelo: {'criterion': 'entropy', 'max_depth': 7, 'max_features': 'sqrt', 'n_estimators': 150} ✓\n",
      "Modelo: {'criterion': 'entropy', 'max_depth': 10, 'max_features': 5, 'n_estimators': 5} ✓\n",
      "Modelo: {'criterion': 'entropy', 'max_depth': 10, 'max_features': 5, 'n_estimators': 20} ✓\n",
      "Modelo: {'criterion': 'entropy', 'max_depth': 10, 'max_features': 5, 'n_estimators': 50} ✓\n",
      "Modelo: {'criterion': 'entropy', 'max_depth': 10, 'max_features': 5, 'n_estimators': 100} ✓\n",
      "Modelo: {'criterion': 'entropy', 'max_depth': 10, 'max_features': 5, 'n_estimators': 150} ✓\n",
      "Modelo: {'criterion': 'entropy', 'max_depth': 10, 'max_features': 'log2', 'n_estimators': 5} ✓\n",
      "Modelo: {'criterion': 'entropy', 'max_depth': 10, 'max_features': 'log2', 'n_estimators': 20} ✓\n",
      "Modelo: {'criterion': 'entropy', 'max_depth': 10, 'max_features': 'log2', 'n_estimators': 50} ✓\n",
      "Modelo: {'criterion': 'entropy', 'max_depth': 10, 'max_features': 'log2', 'n_estimators': 100} ✓\n",
      "Modelo: {'criterion': 'entropy', 'max_depth': 10, 'max_features': 'log2', 'n_estimators': 150} ✓\n",
      "Modelo: {'criterion': 'entropy', 'max_depth': 10, 'max_features': 'auto', 'n_estimators': 5} ✓\n",
      "Modelo: {'criterion': 'entropy', 'max_depth': 10, 'max_features': 'auto', 'n_estimators': 20} ✓\n",
      "Modelo: {'criterion': 'entropy', 'max_depth': 10, 'max_features': 'auto', 'n_estimators': 50} ✓\n",
      "Modelo: {'criterion': 'entropy', 'max_depth': 10, 'max_features': 'auto', 'n_estimators': 100} ✓\n",
      "Modelo: {'criterion': 'entropy', 'max_depth': 10, 'max_features': 'auto', 'n_estimators': 150} ✓\n",
      "Modelo: {'criterion': 'entropy', 'max_depth': 10, 'max_features': 'sqrt', 'n_estimators': 5} ✓\n",
      "Modelo: {'criterion': 'entropy', 'max_depth': 10, 'max_features': 'sqrt', 'n_estimators': 20} ✓\n",
      "Modelo: {'criterion': 'entropy', 'max_depth': 10, 'max_features': 'sqrt', 'n_estimators': 50} ✓\n",
      "Modelo: {'criterion': 'entropy', 'max_depth': 10, 'max_features': 'sqrt', 'n_estimators': 100} ✓\n",
      "Modelo: {'criterion': 'entropy', 'max_depth': 10, 'max_features': 'sqrt', 'n_estimators': 150} ✓\n"
     ]
    }
   ],
   "source": [
    "for params in param_grid:\n",
    "    \n",
    "    modelo = RandomForestClassifier(\n",
    "                oob_score    = True,\n",
    "                n_jobs       = -1,\n",
    "                random_state = 123,\n",
    "                ** params\n",
    "             )\n",
    "    \n",
    "    modelo.fit(train_x, train_y)\n",
    "    \n",
    "    resultados['params'].append(params)\n",
    "    resultados['oob_accuracy'].append(modelo.oob_score_)\n",
    "    print(f\"Modelo: {params} \\u2713\")"
   ]
  },
  {
   "cell_type": "code",
   "execution_count": 52,
   "id": "lonely-perception",
   "metadata": {},
   "outputs": [
    {
     "data": {
      "text/html": [
       "<div>\n",
       "<style scoped>\n",
       "    .dataframe tbody tr th:only-of-type {\n",
       "        vertical-align: middle;\n",
       "    }\n",
       "\n",
       "    .dataframe tbody tr th {\n",
       "        vertical-align: top;\n",
       "    }\n",
       "\n",
       "    .dataframe thead th {\n",
       "        text-align: right;\n",
       "    }\n",
       "</style>\n",
       "<table border=\"1\" class=\"dataframe\">\n",
       "  <thead>\n",
       "    <tr style=\"text-align: right;\">\n",
       "      <th></th>\n",
       "      <th>oob_accuracy</th>\n",
       "      <th>criterion</th>\n",
       "      <th>max_depth</th>\n",
       "      <th>max_features</th>\n",
       "      <th>n_estimators</th>\n",
       "    </tr>\n",
       "  </thead>\n",
       "  <tbody>\n",
       "    <tr>\n",
       "      <th>14</th>\n",
       "      <td>0.993600</td>\n",
       "      <td>gini</td>\n",
       "      <td>NaN</td>\n",
       "      <td>auto</td>\n",
       "      <td>150</td>\n",
       "    </tr>\n",
       "    <tr>\n",
       "      <th>19</th>\n",
       "      <td>0.993600</td>\n",
       "      <td>gini</td>\n",
       "      <td>NaN</td>\n",
       "      <td>sqrt</td>\n",
       "      <td>150</td>\n",
       "    </tr>\n",
       "    <tr>\n",
       "      <th>4</th>\n",
       "      <td>0.993558</td>\n",
       "      <td>gini</td>\n",
       "      <td>NaN</td>\n",
       "      <td>5</td>\n",
       "      <td>150</td>\n",
       "    </tr>\n",
       "    <tr>\n",
       "      <th>104</th>\n",
       "      <td>0.993555</td>\n",
       "      <td>entropy</td>\n",
       "      <td>NaN</td>\n",
       "      <td>5</td>\n",
       "      <td>150</td>\n",
       "    </tr>\n",
       "    <tr>\n",
       "      <th>119</th>\n",
       "      <td>0.993551</td>\n",
       "      <td>entropy</td>\n",
       "      <td>NaN</td>\n",
       "      <td>sqrt</td>\n",
       "      <td>150</td>\n",
       "    </tr>\n",
       "    <tr>\n",
       "      <th>114</th>\n",
       "      <td>0.993551</td>\n",
       "      <td>entropy</td>\n",
       "      <td>NaN</td>\n",
       "      <td>auto</td>\n",
       "      <td>150</td>\n",
       "    </tr>\n",
       "    <tr>\n",
       "      <th>109</th>\n",
       "      <td>0.993537</td>\n",
       "      <td>entropy</td>\n",
       "      <td>NaN</td>\n",
       "      <td>log2</td>\n",
       "      <td>150</td>\n",
       "    </tr>\n",
       "    <tr>\n",
       "      <th>9</th>\n",
       "      <td>0.993530</td>\n",
       "      <td>gini</td>\n",
       "      <td>NaN</td>\n",
       "      <td>log2</td>\n",
       "      <td>150</td>\n",
       "    </tr>\n",
       "    <tr>\n",
       "      <th>113</th>\n",
       "      <td>0.993495</td>\n",
       "      <td>entropy</td>\n",
       "      <td>NaN</td>\n",
       "      <td>auto</td>\n",
       "      <td>100</td>\n",
       "    </tr>\n",
       "    <tr>\n",
       "      <th>118</th>\n",
       "      <td>0.993495</td>\n",
       "      <td>entropy</td>\n",
       "      <td>NaN</td>\n",
       "      <td>sqrt</td>\n",
       "      <td>100</td>\n",
       "    </tr>\n",
       "  </tbody>\n",
       "</table>\n",
       "</div>"
      ],
      "text/plain": [
       "     oob_accuracy criterion  max_depth max_features  n_estimators\n",
       "14       0.993600      gini        NaN         auto           150\n",
       "19       0.993600      gini        NaN         sqrt           150\n",
       "4        0.993558      gini        NaN            5           150\n",
       "104      0.993555   entropy        NaN            5           150\n",
       "119      0.993551   entropy        NaN         sqrt           150\n",
       "114      0.993551   entropy        NaN         auto           150\n",
       "109      0.993537   entropy        NaN         log2           150\n",
       "9        0.993530      gini        NaN         log2           150\n",
       "113      0.993495   entropy        NaN         auto           100\n",
       "118      0.993495   entropy        NaN         sqrt           100"
      ]
     },
     "execution_count": 52,
     "metadata": {},
     "output_type": "execute_result"
    }
   ],
   "source": [
    "resultados = pd.DataFrame(resultados)\n",
    "resultados = pd.concat([resultados, resultados['params'].apply(pd.Series)], axis=1)\n",
    "resultados = resultados.drop(columns = 'params')\n",
    "resultados = resultados.sort_values('oob_accuracy', ascending=False)\n",
    "resultados.head(10)"
   ]
  },
  {
   "cell_type": "markdown",
   "id": "31669bd2-f71a-46f1-9e78-c0b596620939",
   "metadata": {},
   "source": [
    "**Seleccionamos los mejores hiperparámetros**"
   ]
  },
  {
   "cell_type": "code",
   "execution_count": 53,
   "id": "995db6cf-2e2d-4ad4-b2f9-ddf2583c2f67",
   "metadata": {},
   "outputs": [
    {
     "name": "stdout",
     "output_type": "stream",
     "text": [
      "Mejores hiperparámetros encontrados (oob-accuracy)\n",
      "--------------------------------------------------\n",
      "Estimators: \n",
      " oob_accuracy    0.9936\n",
      "criterion         gini\n",
      "max_depth          NaN\n",
      "max_features      auto\n",
      "n_estimators       150\n",
      "Name: 14, dtype: object accuracy\n"
     ]
    }
   ],
   "source": [
    "print(\"Mejores hiperparámetros encontrados (oob-accuracy)\")\n",
    "print('--------------------------------------------------')\n",
    "print(\"Estimators: \\n\", resultados.iloc[0,:], \"accuracy\")"
   ]
  },
  {
   "cell_type": "markdown",
   "id": "b464f98b-0919-4273-be3b-294a6af461a4",
   "metadata": {},
   "source": [
    "--------------"
   ]
  },
  {
   "cell_type": "markdown",
   "id": "c3d00647-8597-41e9-87ba-392768dafae8",
   "metadata": {},
   "source": [
    "--------------"
   ]
  },
  {
   "cell_type": "markdown",
   "id": "52564134-88e7-45ce-8cce-2bd313130de9",
   "metadata": {},
   "source": [
    "#### 4.4 Modelo 1 - Baseline"
   ]
  },
  {
   "cell_type": "markdown",
   "id": "cc1c45b7-f093-4da3-ae96-17a9e5aed5e7",
   "metadata": {},
   "source": [
    "Nuestro modelo Base, tendrá los parámetros obtenidos como mejores anteriormente."
   ]
  },
  {
   "cell_type": "markdown",
   "id": "658340b2-5b18-4c3c-9bf6-aa9110185835",
   "metadata": {},
   "source": [
    "**Aplicamos los mejores hiperparámetros obtenidos**"
   ]
  },
  {
   "cell_type": "code",
   "execution_count": 54,
   "id": "insured-combine",
   "metadata": {},
   "outputs": [
    {
     "data": {
      "text/plain": [
       "RandomForestClassifier(n_estimators=150, n_jobs=-1, random_state=123)"
      ]
     },
     "execution_count": 54,
     "metadata": {},
     "output_type": "execute_result"
    }
   ],
   "source": [
    "rf = RandomForestClassifier(criterion = 'gini', \n",
    "                            n_estimators = 150, \n",
    "                            max_features = 'auto', \n",
    "                            max_depth = None, \n",
    "                            n_jobs = -1,\n",
    "                            random_state = 123)\n",
    "\n",
    "rf.fit(train_x, train_y)"
   ]
  },
  {
   "cell_type": "markdown",
   "id": "2dbc7f8f-39ee-43df-9406-a0cc0f1e7dca",
   "metadata": {},
   "source": [
    "Observamos los resultados del modelo"
   ]
  },
  {
   "cell_type": "code",
   "execution_count": 55,
   "id": "99b3e8cf-d083-4675-bffd-fd9ef66a201d",
   "metadata": {},
   "outputs": [
    {
     "data": {
      "image/png": "[encoded data removed]",
      "text/plain": [
       "<Figure size 576x576 with 2 Axes>"
      ]
     },
     "metadata": {
      "needs_background": "light"
     },
     "output_type": "display_data"
    },
    {
     "name": "stdout",
     "output_type": "stream",
     "text": [
      "              precision    recall  f1-score   support\n",
      "\n",
      "           0       0.99      1.00      1.00    118082\n",
      "           1       0.98      0.81      0.88      3799\n",
      "\n",
      "    accuracy                           0.99    121881\n",
      "   macro avg       0.99      0.90      0.94    121881\n",
      "weighted avg       0.99      0.99      0.99    121881\n",
      "\n"
     ]
    }
   ],
   "source": [
    "pred_y = rf.predict(test_x)\n",
    "mostrar_resultados(test_y, pred_y)"
   ]
  },
  {
   "cell_type": "code",
   "execution_count": 56,
   "id": "demographic-means",
   "metadata": {},
   "outputs": [],
   "source": [
    "feature_importances = pd.DataFrame(rf.feature_importances_, index = train_x.columns, columns = ['important']).sort_values(['important'], ascending = 0)"
   ]
  },
  {
   "cell_type": "code",
   "execution_count": 57,
   "id": "unlikely-holder",
   "metadata": {
    "tags": []
   },
   "outputs": [
    {
     "data": {
      "text/html": [
       "<div>\n",
       "<style scoped>\n",
       "    .dataframe tbody tr th:only-of-type {\n",
       "        vertical-align: middle;\n",
       "    }\n",
       "\n",
       "    .dataframe tbody tr th {\n",
       "        vertical-align: top;\n",
       "    }\n",
       "\n",
       "    .dataframe thead th {\n",
       "        text-align: right;\n",
       "    }\n",
       "</style>\n",
       "<table border=\"1\" class=\"dataframe\">\n",
       "  <thead>\n",
       "    <tr style=\"text-align: right;\">\n",
       "      <th></th>\n",
       "      <th>important</th>\n",
       "    </tr>\n",
       "  </thead>\n",
       "  <tbody>\n",
       "    <tr>\n",
       "      <th>FICH_PROMO_TOT</th>\n",
       "      <td>24.919401</td>\n",
       "    </tr>\n",
       "    <tr>\n",
       "      <th>IPCASOS</th>\n",
       "      <td>8.057881</td>\n",
       "    </tr>\n",
       "    <tr>\n",
       "      <th>PERF_PROMO_TOT</th>\n",
       "      <td>3.773835</td>\n",
       "    </tr>\n",
       "    <tr>\n",
       "      <th>CANAL_REGISTRO_1</th>\n",
       "      <td>2.573828</td>\n",
       "    </tr>\n",
       "    <tr>\n",
       "      <th>USU_DEPART_DEN_POB</th>\n",
       "      <td>1.892018</td>\n",
       "    </tr>\n",
       "    <tr>\n",
       "      <th>USU_DEPART_IDH</th>\n",
       "      <td>1.880129</td>\n",
       "    </tr>\n",
       "    <tr>\n",
       "      <th>TIPOEMAIL_GOOHOTYAHMAIL</th>\n",
       "      <td>1.553897</td>\n",
       "    </tr>\n",
       "    <tr>\n",
       "      <th>1A_DESCGRUPOPROD_FICH_PROMO</th>\n",
       "      <td>1.511652</td>\n",
       "    </tr>\n",
       "    <tr>\n",
       "      <th>1A_EMPCONSUL_SECTOR_TERCIARIO</th>\n",
       "      <td>1.467466</td>\n",
       "    </tr>\n",
       "    <tr>\n",
       "      <th>1A_DESCGRUPOPROD_PERF_PROMO</th>\n",
       "      <td>1.464135</td>\n",
       "    </tr>\n",
       "    <tr>\n",
       "      <th>TIPO_TELF_MOVIL</th>\n",
       "      <td>1.433542</td>\n",
       "    </tr>\n",
       "    <tr>\n",
       "      <th>TIPOEMAIL_SINCLASIFICAR</th>\n",
       "      <td>1.387893</td>\n",
       "    </tr>\n",
       "    <tr>\n",
       "      <th>IP_COUNTRY_IDH_NUM</th>\n",
       "      <td>1.360121</td>\n",
       "    </tr>\n",
       "    <tr>\n",
       "      <th>TIPO_TELF_EXTRANJERO</th>\n",
       "      <td>1.354202</td>\n",
       "    </tr>\n",
       "    <tr>\n",
       "      <th>1A_EMPCONSUL_SECTOR_SECUNDARIO</th>\n",
       "      <td>1.341675</td>\n",
       "    </tr>\n",
       "    <tr>\n",
       "      <th>CANAL_REGISTRO_3</th>\n",
       "      <td>1.301824</td>\n",
       "    </tr>\n",
       "    <tr>\n",
       "      <th>FECHA_REGISTRO_WEEKDAY_1</th>\n",
       "      <td>1.297888</td>\n",
       "    </tr>\n",
       "    <tr>\n",
       "      <th>CANAL_REGISTRO_4</th>\n",
       "      <td>1.258992</td>\n",
       "    </tr>\n",
       "    <tr>\n",
       "      <th>FECHA_REGISTRO_WEEKDAY_2</th>\n",
       "      <td>1.246432</td>\n",
       "    </tr>\n",
       "    <tr>\n",
       "      <th>FECHA_REGISTRO_WEEKDAY_3</th>\n",
       "      <td>1.226516</td>\n",
       "    </tr>\n",
       "    <tr>\n",
       "      <th>FECHA_REGISTRO_WEEKDAY_4</th>\n",
       "      <td>1.149000</td>\n",
       "    </tr>\n",
       "    <tr>\n",
       "      <th>FECHA_REGISTRO_WEEKDAY_0</th>\n",
       "      <td>1.148646</td>\n",
       "    </tr>\n",
       "    <tr>\n",
       "      <th>BONDAD_EMAIL</th>\n",
       "      <td>1.132111</td>\n",
       "    </tr>\n",
       "    <tr>\n",
       "      <th>USU_TIPO_ENTIDAD_HOLDING</th>\n",
       "      <td>1.066220</td>\n",
       "    </tr>\n",
       "    <tr>\n",
       "      <th>CANAL_REGISTRO_2</th>\n",
       "      <td>1.043579</td>\n",
       "    </tr>\n",
       "    <tr>\n",
       "      <th>TIPOEMAIL_CORPORATIVO</th>\n",
       "      <td>1.024192</td>\n",
       "    </tr>\n",
       "  </tbody>\n",
       "</table>\n",
       "</div>"
      ],
      "text/plain": [
       "                                important\n",
       "FICH_PROMO_TOT                  24.919401\n",
       "IPCASOS                          8.057881\n",
       "PERF_PROMO_TOT                   3.773835\n",
       "CANAL_REGISTRO_1                 2.573828\n",
       "USU_DEPART_DEN_POB               1.892018\n",
       "USU_DEPART_IDH                   1.880129\n",
       "TIPOEMAIL_GOOHOTYAHMAIL          1.553897\n",
       "1A_DESCGRUPOPROD_FICH_PROMO      1.511652\n",
       "1A_EMPCONSUL_SECTOR_TERCIARIO    1.467466\n",
       "1A_DESCGRUPOPROD_PERF_PROMO      1.464135\n",
       "TIPO_TELF_MOVIL                  1.433542\n",
       "TIPOEMAIL_SINCLASIFICAR          1.387893\n",
       "IP_COUNTRY_IDH_NUM               1.360121\n",
       "TIPO_TELF_EXTRANJERO             1.354202\n",
       "1A_EMPCONSUL_SECTOR_SECUNDARIO   1.341675\n",
       "CANAL_REGISTRO_3                 1.301824\n",
       "FECHA_REGISTRO_WEEKDAY_1         1.297888\n",
       "CANAL_REGISTRO_4                 1.258992\n",
       "FECHA_REGISTRO_WEEKDAY_2         1.246432\n",
       "FECHA_REGISTRO_WEEKDAY_3         1.226516\n",
       "FECHA_REGISTRO_WEEKDAY_4         1.149000\n",
       "FECHA_REGISTRO_WEEKDAY_0         1.148646\n",
       "BONDAD_EMAIL                     1.132111\n",
       "USU_TIPO_ENTIDAD_HOLDING         1.066220\n",
       "CANAL_REGISTRO_2                 1.043579\n",
       "TIPOEMAIL_CORPORATIVO            1.024192"
      ]
     },
     "execution_count": 57,
     "metadata": {},
     "output_type": "execute_result"
    }
   ],
   "source": [
    "feature_importances[feature_importances['important'] > 0.01]*100"
   ]
  },
  {
   "cell_type": "code",
   "execution_count": 58,
   "id": "3daff4e8-5a98-4a0a-84e7-f63f59d3da77",
   "metadata": {},
   "outputs": [
    {
     "data": {
      "text/plain": [
       "(26, 1)"
      ]
     },
     "execution_count": 58,
     "metadata": {},
     "output_type": "execute_result"
    }
   ],
   "source": [
    "feature_importances[feature_importances['important'] > 0.01].shape"
   ]
  },
  {
   "cell_type": "markdown",
   "id": "cc4e389e-3f00-4e28-b6c9-fa04010869c8",
   "metadata": {},
   "source": [
    "------"
   ]
  },
  {
   "cell_type": "markdown",
   "id": "fa879172-3154-4fad-83fa-09146606af6c",
   "metadata": {},
   "source": [
    "------"
   ]
  },
  {
   "cell_type": "markdown",
   "id": "f6e60ac6-fa15-478e-8be0-3c9bff9c2ae9",
   "metadata": {},
   "source": [
    "------"
   ]
  },
  {
   "cell_type": "markdown",
   "id": "47f29614-b625-4eb1-83dc-528963d4c00d",
   "metadata": {},
   "source": [
    "#### 4.5 Modelo - Aplicando técnicas sobre el desbalanceo"
   ]
  },
  {
   "cell_type": "markdown",
   "id": "5fb1a513-7e01-444f-812b-6efd1d893277",
   "metadata": {},
   "source": [
    "**Estrategias para el manejo de Datos Desbalanceados**"
   ]
  },
  {
   "cell_type": "markdown",
   "id": "94c1c9aa-592c-49a1-a987-f34de8a6ca26",
   "metadata": {},
   "source": [
    "##### **4.5.1 Penalización para compensar**"
   ]
  },
  {
   "cell_type": "code",
   "execution_count": 59,
   "id": "68d9cb0f-71a0-4c56-8d1f-4b4e58225bb3",
   "metadata": {},
   "outputs": [
    {
     "data": {
      "text/plain": [
       "RandomForestClassifier(class_weight='balanced', n_estimators=150, n_jobs=-1,\n",
       "                       random_state=123)"
      ]
     },
     "execution_count": 59,
     "metadata": {},
     "output_type": "execute_result"
    }
   ],
   "source": [
    "rf = RandomForestClassifier(criterion = 'gini', \n",
    "                            n_estimators = 150, \n",
    "                            max_features = 'auto', \n",
    "                            max_depth = None,\n",
    "                            n_jobs = -1,\n",
    "                            random_state = 123,\n",
    "                            class_weight = 'balanced')\n",
    "\n",
    "rf.fit(train_x, train_y)"
   ]
  },
  {
   "cell_type": "markdown",
   "id": "772de399-3c9a-45e2-bb46-7b8879171905",
   "metadata": {},
   "source": [
    "Observamos los resultados del modelo"
   ]
  },
  {
   "cell_type": "code",
   "execution_count": 60,
   "id": "929e3a5f-4060-49bc-ad6e-773ee3eb2006",
   "metadata": {},
   "outputs": [
    {
     "data": {
      "image/png": "[encoded data removed]",
      "text/plain": [
       "<Figure size 576x576 with 2 Axes>"
      ]
     },
     "metadata": {
      "needs_background": "light"
     },
     "output_type": "display_data"
    },
    {
     "name": "stdout",
     "output_type": "stream",
     "text": [
      "              precision    recall  f1-score   support\n",
      "\n",
      "           0       0.99      1.00      1.00    118082\n",
      "           1       0.89      0.82      0.85      3799\n",
      "\n",
      "    accuracy                           0.99    121881\n",
      "   macro avg       0.94      0.91      0.92    121881\n",
      "weighted avg       0.99      0.99      0.99    121881\n",
      "\n"
     ]
    }
   ],
   "source": [
    "pred_y = rf.predict(test_x)\n",
    "mostrar_resultados(test_y, pred_y)"
   ]
  },
  {
   "cell_type": "code",
   "execution_count": 61,
   "id": "f033c9e1-80e2-4add-8a87-b55d71949991",
   "metadata": {},
   "outputs": [],
   "source": [
    "feature_importances = pd.DataFrame(rf.feature_importances_, index = train_x.columns, columns = ['important']).sort_values(['important'], ascending = 0)"
   ]
  },
  {
   "cell_type": "code",
   "execution_count": 62,
   "id": "dfaae28a-1da4-45b8-b89c-3f235d98a5bd",
   "metadata": {
    "tags": []
   },
   "outputs": [
    {
     "data": {
      "text/html": [
       "<div>\n",
       "<style scoped>\n",
       "    .dataframe tbody tr th:only-of-type {\n",
       "        vertical-align: middle;\n",
       "    }\n",
       "\n",
       "    .dataframe tbody tr th {\n",
       "        vertical-align: top;\n",
       "    }\n",
       "\n",
       "    .dataframe thead th {\n",
       "        text-align: right;\n",
       "    }\n",
       "</style>\n",
       "<table border=\"1\" class=\"dataframe\">\n",
       "  <thead>\n",
       "    <tr style=\"text-align: right;\">\n",
       "      <th></th>\n",
       "      <th>important</th>\n",
       "    </tr>\n",
       "  </thead>\n",
       "  <tbody>\n",
       "    <tr>\n",
       "      <th>FICH_PROMO_TOT</th>\n",
       "      <td>26.616307</td>\n",
       "    </tr>\n",
       "    <tr>\n",
       "      <th>IPCASOS</th>\n",
       "      <td>7.786963</td>\n",
       "    </tr>\n",
       "    <tr>\n",
       "      <th>PERF_PROMO_TOT</th>\n",
       "      <td>3.303452</td>\n",
       "    </tr>\n",
       "    <tr>\n",
       "      <th>BONDAD_EMAIL</th>\n",
       "      <td>3.062237</td>\n",
       "    </tr>\n",
       "    <tr>\n",
       "      <th>USU_DEPART_IDH</th>\n",
       "      <td>3.035183</td>\n",
       "    </tr>\n",
       "    <tr>\n",
       "      <th>USU_DEPART_DEN_POB</th>\n",
       "      <td>2.525485</td>\n",
       "    </tr>\n",
       "    <tr>\n",
       "      <th>CANAL_REGISTRO_1</th>\n",
       "      <td>1.666788</td>\n",
       "    </tr>\n",
       "    <tr>\n",
       "      <th>IP_COUNTRY_IDH_NUM</th>\n",
       "      <td>1.659378</td>\n",
       "    </tr>\n",
       "    <tr>\n",
       "      <th>IP_CONTINENTE_AMERICA_SUR</th>\n",
       "      <td>1.538582</td>\n",
       "    </tr>\n",
       "    <tr>\n",
       "      <th>1A_DESCGRUPOPROD_PERF_PROMO</th>\n",
       "      <td>1.335845</td>\n",
       "    </tr>\n",
       "    <tr>\n",
       "      <th>USU_TIPO_NoApl</th>\n",
       "      <td>1.302252</td>\n",
       "    </tr>\n",
       "    <tr>\n",
       "      <th>1A_DESCGRUPOPROD_FICH_PROMO</th>\n",
       "      <td>1.293752</td>\n",
       "    </tr>\n",
       "    <tr>\n",
       "      <th>CANAL_REGISTRO_3</th>\n",
       "      <td>1.293258</td>\n",
       "    </tr>\n",
       "    <tr>\n",
       "      <th>TIPO_TELF_MOVIL</th>\n",
       "      <td>1.260157</td>\n",
       "    </tr>\n",
       "    <tr>\n",
       "      <th>1A_EMPCONSUL_SECTOR_TERCIARIO</th>\n",
       "      <td>1.195976</td>\n",
       "    </tr>\n",
       "    <tr>\n",
       "      <th>USU_ESTADO_ACTIVA</th>\n",
       "      <td>1.143824</td>\n",
       "    </tr>\n",
       "    <tr>\n",
       "      <th>TIPOEMAIL_GOOHOTYAHMAIL</th>\n",
       "      <td>1.134012</td>\n",
       "    </tr>\n",
       "    <tr>\n",
       "      <th>CANAL_REGISTRO_2</th>\n",
       "      <td>1.102345</td>\n",
       "    </tr>\n",
       "    <tr>\n",
       "      <th>TIPO_TELF_EXTRANJERO</th>\n",
       "      <td>1.080263</td>\n",
       "    </tr>\n",
       "    <tr>\n",
       "      <th>USU_TIPO_SOC_COMERCIAL_INDUSTRIAL</th>\n",
       "      <td>1.061938</td>\n",
       "    </tr>\n",
       "    <tr>\n",
       "      <th>IP_COUNTRY_PIB_Ingreso mediano alto</th>\n",
       "      <td>1.060462</td>\n",
       "    </tr>\n",
       "    <tr>\n",
       "      <th>1A_EMPCONSUL_SECTOR_SECUNDARIO</th>\n",
       "      <td>1.057754</td>\n",
       "    </tr>\n",
       "    <tr>\n",
       "      <th>IP_CONTINENTE_NI</th>\n",
       "      <td>1.045607</td>\n",
       "    </tr>\n",
       "    <tr>\n",
       "      <th>USU_TIPO_EMPRESARIO INDIVIDUAL</th>\n",
       "      <td>1.027180</td>\n",
       "    </tr>\n",
       "  </tbody>\n",
       "</table>\n",
       "</div>"
      ],
      "text/plain": [
       "                                     important\n",
       "FICH_PROMO_TOT                       26.616307\n",
       "IPCASOS                               7.786963\n",
       "PERF_PROMO_TOT                        3.303452\n",
       "BONDAD_EMAIL                          3.062237\n",
       "USU_DEPART_IDH                        3.035183\n",
       "USU_DEPART_DEN_POB                    2.525485\n",
       "CANAL_REGISTRO_1                      1.666788\n",
       "IP_COUNTRY_IDH_NUM                    1.659378\n",
       "IP_CONTINENTE_AMERICA_SUR             1.538582\n",
       "1A_DESCGRUPOPROD_PERF_PROMO           1.335845\n",
       "USU_TIPO_NoApl                        1.302252\n",
       "1A_DESCGRUPOPROD_FICH_PROMO           1.293752\n",
       "CANAL_REGISTRO_3                      1.293258\n",
       "TIPO_TELF_MOVIL                       1.260157\n",
       "1A_EMPCONSUL_SECTOR_TERCIARIO         1.195976\n",
       "USU_ESTADO_ACTIVA                     1.143824\n",
       "TIPOEMAIL_GOOHOTYAHMAIL               1.134012\n",
       "CANAL_REGISTRO_2                      1.102345\n",
       "TIPO_TELF_EXTRANJERO                  1.080263\n",
       "USU_TIPO_SOC_COMERCIAL_INDUSTRIAL     1.061938\n",
       "IP_COUNTRY_PIB_Ingreso mediano alto   1.060462\n",
       "1A_EMPCONSUL_SECTOR_SECUNDARIO        1.057754\n",
       "IP_CONTINENTE_NI                      1.045607\n",
       "USU_TIPO_EMPRESARIO INDIVIDUAL        1.027180"
      ]
     },
     "execution_count": 62,
     "metadata": {},
     "output_type": "execute_result"
    }
   ],
   "source": [
    "feature_importances[feature_importances['important'] > 0.01]*100"
   ]
  },
  {
   "cell_type": "code",
   "execution_count": 63,
   "id": "77ccc5e5-7a49-4c17-8dc9-6756007ddbf9",
   "metadata": {},
   "outputs": [
    {
     "data": {
      "text/plain": [
       "(24, 1)"
      ]
     },
     "execution_count": 63,
     "metadata": {},
     "output_type": "execute_result"
    }
   ],
   "source": [
    "feature_importances[feature_importances['important'] > 0.01].shape"
   ]
  },
  {
   "cell_type": "markdown",
   "id": "78d65c14-bd9d-4554-bd3b-dd62095ad076",
   "metadata": {},
   "source": [
    "------"
   ]
  },
  {
   "cell_type": "markdown",
   "id": "635d50be-5a6f-4f3c-8178-1dfc9aa92628",
   "metadata": {},
   "source": [
    "##### **4.5.2 Subsampling en la clase mayoritaria**"
   ]
  },
  {
   "cell_type": "markdown",
   "id": "7947496a-2b29-4372-8e64-970988b98a30",
   "metadata": {},
   "source": [
    "**RandomUnderSampler**"
   ]
  },
  {
   "cell_type": "code",
   "execution_count": 64,
   "id": "d9ba49bd-9a5c-41d8-8b74-162b3f75d535",
   "metadata": {},
   "outputs": [
    {
     "name": "stdout",
     "output_type": "stream",
     "text": [
      "Distribution before resampling Counter({0: 275526, 1: 8860})\n",
      "Distribution after resampling Counter({0: 8860, 1: 8860})\n"
     ]
    }
   ],
   "source": [
    "us = RandomUnderSampler(sampling_strategy = 'majority', random_state = 123)\n",
    "X_train_res, y_train_res = us.fit_resample(train_x, train_y)\n",
    " \n",
    "print (\"Distribution before resampling {}\".format(Counter(train_y)))\n",
    "print (\"Distribution after resampling {}\".format(Counter(y_train_res)))"
   ]
  },
  {
   "cell_type": "code",
   "execution_count": 65,
   "id": "fe7011d0-a17f-4e5e-91ad-2f51edd38106",
   "metadata": {},
   "outputs": [
    {
     "data": {
      "text/plain": [
       "RandomForestClassifier(n_estimators=150, n_jobs=-1, random_state=123)"
      ]
     },
     "execution_count": 65,
     "metadata": {},
     "output_type": "execute_result"
    }
   ],
   "source": [
    "rf = RandomForestClassifier(criterion = 'gini', \n",
    "                            n_estimators = 150, \n",
    "                            max_features = 'auto', \n",
    "                            max_depth = None, \n",
    "                            n_jobs = -1,\n",
    "                            random_state = 123)\n",
    "\n",
    "rf.fit(X_train_res, y_train_res)"
   ]
  },
  {
   "cell_type": "code",
   "execution_count": 66,
   "id": "91fa0d29-fee4-403e-8b50-cc11637e9c9e",
   "metadata": {},
   "outputs": [
    {
     "data": {
      "image/png": "[encoded data removed]",
      "text/plain": [
       "<Figure size 576x576 with 2 Axes>"
      ]
     },
     "metadata": {
      "needs_background": "light"
     },
     "output_type": "display_data"
    },
    {
     "name": "stdout",
     "output_type": "stream",
     "text": [
      "              precision    recall  f1-score   support\n",
      "\n",
      "           0       1.00      0.91      0.95    118082\n",
      "           1       0.24      0.89      0.38      3799\n",
      "\n",
      "    accuracy                           0.91    121881\n",
      "   macro avg       0.62      0.90      0.67    121881\n",
      "weighted avg       0.97      0.91      0.93    121881\n",
      "\n"
     ]
    }
   ],
   "source": [
    "pred_y = rf.predict(test_x)\n",
    "mostrar_resultados(test_y, pred_y)"
   ]
  },
  {
   "cell_type": "code",
   "execution_count": 67,
   "id": "9df16aa7-75a0-4f91-a108-ff88cab0ef01",
   "metadata": {},
   "outputs": [],
   "source": [
    "feature_importances = pd.DataFrame(rf.feature_importances_, index = train_x.columns, columns = ['important']).sort_values(['important'], ascending = 0)"
   ]
  },
  {
   "cell_type": "code",
   "execution_count": 68,
   "id": "10c74f9a-f717-4440-9a03-2ded45c8c780",
   "metadata": {
    "tags": []
   },
   "outputs": [
    {
     "data": {
      "text/html": [
       "<div>\n",
       "<style scoped>\n",
       "    .dataframe tbody tr th:only-of-type {\n",
       "        vertical-align: middle;\n",
       "    }\n",
       "\n",
       "    .dataframe tbody tr th {\n",
       "        vertical-align: top;\n",
       "    }\n",
       "\n",
       "    .dataframe thead th {\n",
       "        text-align: right;\n",
       "    }\n",
       "</style>\n",
       "<table border=\"1\" class=\"dataframe\">\n",
       "  <thead>\n",
       "    <tr style=\"text-align: right;\">\n",
       "      <th></th>\n",
       "      <th>important</th>\n",
       "    </tr>\n",
       "  </thead>\n",
       "  <tbody>\n",
       "    <tr>\n",
       "      <th>FICH_PROMO_TOT</th>\n",
       "      <td>26.029359</td>\n",
       "    </tr>\n",
       "    <tr>\n",
       "      <th>IPCASOS</th>\n",
       "      <td>6.820612</td>\n",
       "    </tr>\n",
       "    <tr>\n",
       "      <th>PERF_PROMO_TOT</th>\n",
       "      <td>3.280370</td>\n",
       "    </tr>\n",
       "    <tr>\n",
       "      <th>BONDAD_EMAIL</th>\n",
       "      <td>3.138577</td>\n",
       "    </tr>\n",
       "    <tr>\n",
       "      <th>USU_DEPART_IDH</th>\n",
       "      <td>3.092194</td>\n",
       "    </tr>\n",
       "    <tr>\n",
       "      <th>USU_DEPART_DEN_POB</th>\n",
       "      <td>2.153162</td>\n",
       "    </tr>\n",
       "    <tr>\n",
       "      <th>IP_COUNTRY_PIB_Ingreso mediano alto</th>\n",
       "      <td>1.944913</td>\n",
       "    </tr>\n",
       "    <tr>\n",
       "      <th>IP_CONTINENTE_AMERICA_SUR</th>\n",
       "      <td>1.723226</td>\n",
       "    </tr>\n",
       "    <tr>\n",
       "      <th>IP_COUNTRY_IDH_NUM</th>\n",
       "      <td>1.614892</td>\n",
       "    </tr>\n",
       "    <tr>\n",
       "      <th>CANAL_REGISTRO_1</th>\n",
       "      <td>1.498246</td>\n",
       "    </tr>\n",
       "    <tr>\n",
       "      <th>IP_CONTINENTE_NI</th>\n",
       "      <td>1.421819</td>\n",
       "    </tr>\n",
       "    <tr>\n",
       "      <th>1A_DESCGRUPOPROD_PERF_PROMO</th>\n",
       "      <td>1.365848</td>\n",
       "    </tr>\n",
       "    <tr>\n",
       "      <th>1A_DESCGRUPOPROD_FICH_PROMO</th>\n",
       "      <td>1.339772</td>\n",
       "    </tr>\n",
       "    <tr>\n",
       "      <th>TIPO_TELF_MOVIL</th>\n",
       "      <td>1.303735</td>\n",
       "    </tr>\n",
       "    <tr>\n",
       "      <th>CANAL_REGISTRO_3</th>\n",
       "      <td>1.267023</td>\n",
       "    </tr>\n",
       "    <tr>\n",
       "      <th>USU_TIPO_NoApl</th>\n",
       "      <td>1.220944</td>\n",
       "    </tr>\n",
       "    <tr>\n",
       "      <th>USU_TIPO_SOC_COMERCIAL_INDUSTRIAL</th>\n",
       "      <td>1.215211</td>\n",
       "    </tr>\n",
       "    <tr>\n",
       "      <th>TIPO_TELF_EXTRANJERO</th>\n",
       "      <td>1.207743</td>\n",
       "    </tr>\n",
       "    <tr>\n",
       "      <th>TIPOEMAIL_GOOHOTYAHMAIL</th>\n",
       "      <td>1.200118</td>\n",
       "    </tr>\n",
       "    <tr>\n",
       "      <th>USU_ESTADO_ACTIVA</th>\n",
       "      <td>1.190017</td>\n",
       "    </tr>\n",
       "    <tr>\n",
       "      <th>1A_EMPCONSUL_SECTOR_TERCIARIO</th>\n",
       "      <td>1.169343</td>\n",
       "    </tr>\n",
       "    <tr>\n",
       "      <th>1A_EMPCONSUL_SECTOR_SECUNDARIO</th>\n",
       "      <td>1.070784</td>\n",
       "    </tr>\n",
       "    <tr>\n",
       "      <th>CANAL_REGISTRO_2</th>\n",
       "      <td>1.023381</td>\n",
       "    </tr>\n",
       "    <tr>\n",
       "      <th>USU_ESTADO_NoApl</th>\n",
       "      <td>1.018251</td>\n",
       "    </tr>\n",
       "  </tbody>\n",
       "</table>\n",
       "</div>"
      ],
      "text/plain": [
       "                                     important\n",
       "FICH_PROMO_TOT                       26.029359\n",
       "IPCASOS                               6.820612\n",
       "PERF_PROMO_TOT                        3.280370\n",
       "BONDAD_EMAIL                          3.138577\n",
       "USU_DEPART_IDH                        3.092194\n",
       "USU_DEPART_DEN_POB                    2.153162\n",
       "IP_COUNTRY_PIB_Ingreso mediano alto   1.944913\n",
       "IP_CONTINENTE_AMERICA_SUR             1.723226\n",
       "IP_COUNTRY_IDH_NUM                    1.614892\n",
       "CANAL_REGISTRO_1                      1.498246\n",
       "IP_CONTINENTE_NI                      1.421819\n",
       "1A_DESCGRUPOPROD_PERF_PROMO           1.365848\n",
       "1A_DESCGRUPOPROD_FICH_PROMO           1.339772\n",
       "TIPO_TELF_MOVIL                       1.303735\n",
       "CANAL_REGISTRO_3                      1.267023\n",
       "USU_TIPO_NoApl                        1.220944\n",
       "USU_TIPO_SOC_COMERCIAL_INDUSTRIAL     1.215211\n",
       "TIPO_TELF_EXTRANJERO                  1.207743\n",
       "TIPOEMAIL_GOOHOTYAHMAIL               1.200118\n",
       "USU_ESTADO_ACTIVA                     1.190017\n",
       "1A_EMPCONSUL_SECTOR_TERCIARIO         1.169343\n",
       "1A_EMPCONSUL_SECTOR_SECUNDARIO        1.070784\n",
       "CANAL_REGISTRO_2                      1.023381\n",
       "USU_ESTADO_NoApl                      1.018251"
      ]
     },
     "execution_count": 68,
     "metadata": {},
     "output_type": "execute_result"
    }
   ],
   "source": [
    "feature_importances[feature_importances['important'] > 0.01]*100"
   ]
  },
  {
   "cell_type": "code",
   "execution_count": 69,
   "id": "f2e9c99d-89f5-44f8-b9d1-3a61befbbb6f",
   "metadata": {
    "tags": []
   },
   "outputs": [
    {
     "data": {
      "text/plain": [
       "(24, 1)"
      ]
     },
     "execution_count": 69,
     "metadata": {},
     "output_type": "execute_result"
    }
   ],
   "source": [
    "feature_importances[feature_importances['important'] > 0.01].shape"
   ]
  },
  {
   "cell_type": "markdown",
   "id": "d8954011-0648-493e-987f-c51c38c368e2",
   "metadata": {},
   "source": [
    "------"
   ]
  },
  {
   "cell_type": "markdown",
   "id": "da7b6976-5b6e-48ea-a2dc-9060a1c9ad68",
   "metadata": {},
   "source": [
    "##### **4.5.3 Oversampling en la clase minoritaria**"
   ]
  },
  {
   "cell_type": "markdown",
   "id": "3d2c69e5-8cd7-404c-bb5f-781614e1c9ad",
   "metadata": {},
   "source": [
    "**SMOTE**"
   ]
  },
  {
   "cell_type": "code",
   "execution_count": 70,
   "id": "8607deb4-69e1-4eb3-8dd3-da005dffa7e0",
   "metadata": {},
   "outputs": [],
   "source": [
    "os =  SMOTE(sampling_strategy = 'minority')\n",
    "X_train_res, y_train_res = os.fit_resample(train_x, train_y)"
   ]
  },
  {
   "cell_type": "code",
   "execution_count": 71,
   "id": "dba0c0b4-4190-4541-b3dd-ca714958e8c0",
   "metadata": {},
   "outputs": [
    {
     "name": "stdout",
     "output_type": "stream",
     "text": [
      "Distribution before resampling Counter({0: 275526, 1: 8860})\n",
      "Distribution labels after resampling Counter({1: 275526, 0: 275526})\n"
     ]
    }
   ],
   "source": [
    "print (\"Distribution before resampling {}\".format(Counter(train_y)))\n",
    "print (\"Distribution labels after resampling {}\".format(Counter(y_train_res)))"
   ]
  },
  {
   "cell_type": "code",
   "execution_count": 72,
   "id": "5b7aeb43-4212-4304-ace4-41b9c19cd010",
   "metadata": {},
   "outputs": [
    {
     "data": {
      "text/plain": [
       "RandomForestClassifier(n_estimators=150, n_jobs=-1, random_state=123)"
      ]
     },
     "execution_count": 72,
     "metadata": {},
     "output_type": "execute_result"
    }
   ],
   "source": [
    "rf = RandomForestClassifier(criterion = 'gini', \n",
    "                            n_estimators = 150, \n",
    "                            max_features = 'auto', \n",
    "                            max_depth = None, \n",
    "                            n_jobs = -1,\n",
    "                            random_state = 123)\n",
    "\n",
    "rf.fit(X_train_res, y_train_res)"
   ]
  },
  {
   "cell_type": "code",
   "execution_count": 73,
   "id": "e36995de-7e0c-4a36-b7c8-67244f216137",
   "metadata": {},
   "outputs": [
    {
     "data": {
      "image/png": "[encoded data removed]",
      "text/plain": [
       "<Figure size 576x576 with 2 Axes>"
      ]
     },
     "metadata": {
      "needs_background": "light"
     },
     "output_type": "display_data"
    },
    {
     "name": "stdout",
     "output_type": "stream",
     "text": [
      "              precision    recall  f1-score   support\n",
      "\n",
      "           0       0.99      1.00      1.00    118082\n",
      "           1       0.92      0.81      0.86      3799\n",
      "\n",
      "    accuracy                           0.99    121881\n",
      "   macro avg       0.96      0.90      0.93    121881\n",
      "weighted avg       0.99      0.99      0.99    121881\n",
      "\n"
     ]
    }
   ],
   "source": [
    "pred_y = rf.predict(test_x)\n",
    "mostrar_resultados(test_y, pred_y)"
   ]
  },
  {
   "cell_type": "code",
   "execution_count": 74,
   "id": "55db0db9-9ac2-4782-8c77-db9fe9e25d34",
   "metadata": {},
   "outputs": [],
   "source": [
    "feature_importances = pd.DataFrame(rf.feature_importances_, index = train_x.columns, columns = ['important']).sort_values(['important'], ascending = 0)"
   ]
  },
  {
   "cell_type": "code",
   "execution_count": 75,
   "id": "86256e53-9331-462f-a2ea-7336f59ce701",
   "metadata": {
    "tags": []
   },
   "outputs": [
    {
     "data": {
      "text/html": [
       "<div>\n",
       "<style scoped>\n",
       "    .dataframe tbody tr th:only-of-type {\n",
       "        vertical-align: middle;\n",
       "    }\n",
       "\n",
       "    .dataframe tbody tr th {\n",
       "        vertical-align: top;\n",
       "    }\n",
       "\n",
       "    .dataframe thead th {\n",
       "        text-align: right;\n",
       "    }\n",
       "</style>\n",
       "<table border=\"1\" class=\"dataframe\">\n",
       "  <thead>\n",
       "    <tr style=\"text-align: right;\">\n",
       "      <th></th>\n",
       "      <th>important</th>\n",
       "    </tr>\n",
       "  </thead>\n",
       "  <tbody>\n",
       "    <tr>\n",
       "      <th>FICH_PROMO_TOT</th>\n",
       "      <td>23.686781</td>\n",
       "    </tr>\n",
       "    <tr>\n",
       "      <th>IPCASOS</th>\n",
       "      <td>6.878355</td>\n",
       "    </tr>\n",
       "    <tr>\n",
       "      <th>USU_DEPART_IDH</th>\n",
       "      <td>2.936908</td>\n",
       "    </tr>\n",
       "    <tr>\n",
       "      <th>USU_DEPART_DEN_POB</th>\n",
       "      <td>2.792830</td>\n",
       "    </tr>\n",
       "    <tr>\n",
       "      <th>PERF_PROMO_TOT</th>\n",
       "      <td>2.750953</td>\n",
       "    </tr>\n",
       "    <tr>\n",
       "      <th>CANAL_REGISTRO_3</th>\n",
       "      <td>2.404603</td>\n",
       "    </tr>\n",
       "    <tr>\n",
       "      <th>BONDAD_EMAIL</th>\n",
       "      <td>2.379730</td>\n",
       "    </tr>\n",
       "    <tr>\n",
       "      <th>IP_COUNTRY_IDH_NUM</th>\n",
       "      <td>2.042797</td>\n",
       "    </tr>\n",
       "    <tr>\n",
       "      <th>IP_CONTINENTE_AMERICA_SUR</th>\n",
       "      <td>1.671094</td>\n",
       "    </tr>\n",
       "    <tr>\n",
       "      <th>1A_DESCGRUPOPROD_PERF_PROMO</th>\n",
       "      <td>1.646327</td>\n",
       "    </tr>\n",
       "    <tr>\n",
       "      <th>TIPO_TELF_EXTRANJERO</th>\n",
       "      <td>1.573711</td>\n",
       "    </tr>\n",
       "    <tr>\n",
       "      <th>TIPO_TELF_MOVIL</th>\n",
       "      <td>1.557407</td>\n",
       "    </tr>\n",
       "    <tr>\n",
       "      <th>USU_TIPO_EMPRESARIO INDIVIDUAL</th>\n",
       "      <td>1.542094</td>\n",
       "    </tr>\n",
       "    <tr>\n",
       "      <th>CANAL_REGISTRO_2</th>\n",
       "      <td>1.512408</td>\n",
       "    </tr>\n",
       "    <tr>\n",
       "      <th>IP_COUNTRY_PIB_Ingreso mediano alto</th>\n",
       "      <td>1.495681</td>\n",
       "    </tr>\n",
       "    <tr>\n",
       "      <th>TIPOEMAIL_GOOHOTYAHMAIL</th>\n",
       "      <td>1.493169</td>\n",
       "    </tr>\n",
       "    <tr>\n",
       "      <th>CANAL_REGISTRO_8</th>\n",
       "      <td>1.375067</td>\n",
       "    </tr>\n",
       "    <tr>\n",
       "      <th>1A_DESCGRUPOPROD_FICH_PROMO</th>\n",
       "      <td>1.314439</td>\n",
       "    </tr>\n",
       "    <tr>\n",
       "      <th>USU_TIPO_NoApl</th>\n",
       "      <td>1.232309</td>\n",
       "    </tr>\n",
       "    <tr>\n",
       "      <th>1A_EMPCONSUL_SECTOR_TERCIARIO</th>\n",
       "      <td>1.205478</td>\n",
       "    </tr>\n",
       "    <tr>\n",
       "      <th>CANAL_REGISTRO_1</th>\n",
       "      <td>1.100331</td>\n",
       "    </tr>\n",
       "    <tr>\n",
       "      <th>USU_ESTADO_ACTIVA</th>\n",
       "      <td>1.073515</td>\n",
       "    </tr>\n",
       "    <tr>\n",
       "      <th>FECHA_REGISTRO_WEEKDAY_3</th>\n",
       "      <td>1.026838</td>\n",
       "    </tr>\n",
       "    <tr>\n",
       "      <th>TIPO_TELF_NO_PUBLICO</th>\n",
       "      <td>1.023428</td>\n",
       "    </tr>\n",
       "    <tr>\n",
       "      <th>1A_EMPCONSUL_SECTOR_SECUNDARIO</th>\n",
       "      <td>1.017800</td>\n",
       "    </tr>\n",
       "    <tr>\n",
       "      <th>FECHA_REGISTRO_WEEKDAY_2</th>\n",
       "      <td>1.003548</td>\n",
       "    </tr>\n",
       "  </tbody>\n",
       "</table>\n",
       "</div>"
      ],
      "text/plain": [
       "                                     important\n",
       "FICH_PROMO_TOT                       23.686781\n",
       "IPCASOS                               6.878355\n",
       "USU_DEPART_IDH                        2.936908\n",
       "USU_DEPART_DEN_POB                    2.792830\n",
       "PERF_PROMO_TOT                        2.750953\n",
       "CANAL_REGISTRO_3                      2.404603\n",
       "BONDAD_EMAIL                          2.379730\n",
       "IP_COUNTRY_IDH_NUM                    2.042797\n",
       "IP_CONTINENTE_AMERICA_SUR             1.671094\n",
       "1A_DESCGRUPOPROD_PERF_PROMO           1.646327\n",
       "TIPO_TELF_EXTRANJERO                  1.573711\n",
       "TIPO_TELF_MOVIL                       1.557407\n",
       "USU_TIPO_EMPRESARIO INDIVIDUAL        1.542094\n",
       "CANAL_REGISTRO_2                      1.512408\n",
       "IP_COUNTRY_PIB_Ingreso mediano alto   1.495681\n",
       "TIPOEMAIL_GOOHOTYAHMAIL               1.493169\n",
       "CANAL_REGISTRO_8                      1.375067\n",
       "1A_DESCGRUPOPROD_FICH_PROMO           1.314439\n",
       "USU_TIPO_NoApl                        1.232309\n",
       "1A_EMPCONSUL_SECTOR_TERCIARIO         1.205478\n",
       "CANAL_REGISTRO_1                      1.100331\n",
       "USU_ESTADO_ACTIVA                     1.073515\n",
       "FECHA_REGISTRO_WEEKDAY_3              1.026838\n",
       "TIPO_TELF_NO_PUBLICO                  1.023428\n",
       "1A_EMPCONSUL_SECTOR_SECUNDARIO        1.017800\n",
       "FECHA_REGISTRO_WEEKDAY_2              1.003548"
      ]
     },
     "execution_count": 75,
     "metadata": {},
     "output_type": "execute_result"
    }
   ],
   "source": [
    "feature_importances[feature_importances['important'] > 0.01]*100"
   ]
  },
  {
   "cell_type": "code",
   "execution_count": 76,
   "id": "21dcdc08-4074-45c6-b05a-9bb3fe7833bc",
   "metadata": {
    "tags": []
   },
   "outputs": [
    {
     "data": {
      "text/plain": [
       "(26, 1)"
      ]
     },
     "execution_count": 76,
     "metadata": {},
     "output_type": "execute_result"
    }
   ],
   "source": [
    "feature_importances[feature_importances['important'] > 0.01].shape"
   ]
  },
  {
   "cell_type": "markdown",
   "id": "fc00bf4f-7ccc-438c-8d1a-0bfaee763331",
   "metadata": {},
   "source": [
    "------"
   ]
  },
  {
   "cell_type": "markdown",
   "id": "c328f137-4f93-4754-8f4f-cbed67f02edb",
   "metadata": {},
   "source": [
    "##### **4.5.4 Combinamos OverSampling con Subsampling**"
   ]
  },
  {
   "cell_type": "markdown",
   "id": "3faef6bf-46b6-4d5a-9fbf-7f2176916431",
   "metadata": {},
   "source": [
    "**Combinando SMOTE & RandomUnderSampler**"
   ]
  },
  {
   "cell_type": "code",
   "execution_count": 77,
   "id": "8d0fcdfa-8edd-44b9-8455-f76f0a8b7701",
   "metadata": {},
   "outputs": [],
   "source": [
    "over = SMOTE(sampling_strategy = 0.3)\n",
    "under = RandomUnderSampler(sampling_strategy = 0.5)\n",
    "steps = [('over', over), ('under', under)]\n",
    "pipeline = Pipeline(steps = steps)"
   ]
  },
  {
   "cell_type": "code",
   "execution_count": 78,
   "id": "f850aa3e-0ecd-4707-8999-78aab444853b",
   "metadata": {},
   "outputs": [],
   "source": [
    "X_train_res, y_train_res = pipeline.fit_resample(train_x, train_y)"
   ]
  },
  {
   "cell_type": "code",
   "execution_count": 79,
   "id": "099f5646-ff5e-438f-a1cd-6a6d7ab82e2d",
   "metadata": {},
   "outputs": [
    {
     "name": "stdout",
     "output_type": "stream",
     "text": [
      "Distribution before resampling Counter({0: 275526, 1: 8860})\n",
      "Distribution after resampling Counter({0: 165314, 1: 82657})\n"
     ]
    }
   ],
   "source": [
    "print (\"Distribution before resampling {}\".format(Counter(train_y)))\n",
    "print (\"Distribution after resampling {}\".format(Counter(y_train_res)))"
   ]
  },
  {
   "cell_type": "code",
   "execution_count": 80,
   "id": "bb2b4046-67c9-4290-aaaa-1828c2d62204",
   "metadata": {},
   "outputs": [
    {
     "data": {
      "text/plain": [
       "RandomForestClassifier(n_estimators=150, n_jobs=-1, random_state=123)"
      ]
     },
     "execution_count": 80,
     "metadata": {},
     "output_type": "execute_result"
    }
   ],
   "source": [
    "rf = RandomForestClassifier(criterion = 'gini', \n",
    "                            n_estimators = 150, \n",
    "                            max_features = 'auto', \n",
    "                            max_depth = None,  \n",
    "                            n_jobs = -1,\n",
    "                            random_state = 123)\n",
    "\n",
    "rf.fit(X_train_res, y_train_res)"
   ]
  },
  {
   "cell_type": "code",
   "execution_count": 81,
   "id": "cb3df9f8-bad1-40fc-8445-fce02c46ebb9",
   "metadata": {},
   "outputs": [
    {
     "data": {
      "image/png": "[encoded data removed]",
      "text/plain": [
       "<Figure size 576x576 with 2 Axes>"
      ]
     },
     "metadata": {
      "needs_background": "light"
     },
     "output_type": "display_data"
    },
    {
     "name": "stdout",
     "output_type": "stream",
     "text": [
      "              precision    recall  f1-score   support\n",
      "\n",
      "           0       0.99      1.00      1.00    118082\n",
      "           1       0.90      0.81      0.86      3799\n",
      "\n",
      "    accuracy                           0.99    121881\n",
      "   macro avg       0.95      0.91      0.93    121881\n",
      "weighted avg       0.99      0.99      0.99    121881\n",
      "\n"
     ]
    }
   ],
   "source": [
    "pred_y = rf.predict(test_x)\n",
    "mostrar_resultados(test_y, pred_y)"
   ]
  },
  {
   "cell_type": "code",
   "execution_count": 82,
   "id": "a0e17ab1-05ac-40bf-a381-d34bf175e05e",
   "metadata": {},
   "outputs": [],
   "source": [
    "feature_importances = pd.DataFrame(rf.feature_importances_, index = train_x.columns, columns = ['important']).sort_values(['important'], ascending = 0)"
   ]
  },
  {
   "cell_type": "code",
   "execution_count": 83,
   "id": "cb62ff02-98fc-4366-922b-24da398d3f20",
   "metadata": {
    "tags": []
   },
   "outputs": [
    {
     "data": {
      "text/html": [
       "<div>\n",
       "<style scoped>\n",
       "    .dataframe tbody tr th:only-of-type {\n",
       "        vertical-align: middle;\n",
       "    }\n",
       "\n",
       "    .dataframe tbody tr th {\n",
       "        vertical-align: top;\n",
       "    }\n",
       "\n",
       "    .dataframe thead th {\n",
       "        text-align: right;\n",
       "    }\n",
       "</style>\n",
       "<table border=\"1\" class=\"dataframe\">\n",
       "  <thead>\n",
       "    <tr style=\"text-align: right;\">\n",
       "      <th></th>\n",
       "      <th>important</th>\n",
       "    </tr>\n",
       "  </thead>\n",
       "  <tbody>\n",
       "    <tr>\n",
       "      <th>FICH_PROMO_TOT</th>\n",
       "      <td>23.648104</td>\n",
       "    </tr>\n",
       "    <tr>\n",
       "      <th>IPCASOS</th>\n",
       "      <td>7.477456</td>\n",
       "    </tr>\n",
       "    <tr>\n",
       "      <th>PERF_PROMO_TOT</th>\n",
       "      <td>2.937111</td>\n",
       "    </tr>\n",
       "    <tr>\n",
       "      <th>USU_DEPART_IDH</th>\n",
       "      <td>2.676724</td>\n",
       "    </tr>\n",
       "    <tr>\n",
       "      <th>USU_DEPART_DEN_POB</th>\n",
       "      <td>2.576824</td>\n",
       "    </tr>\n",
       "    <tr>\n",
       "      <th>IP_COUNTRY_IDH_NUM</th>\n",
       "      <td>2.245454</td>\n",
       "    </tr>\n",
       "    <tr>\n",
       "      <th>BONDAD_EMAIL</th>\n",
       "      <td>2.142825</td>\n",
       "    </tr>\n",
       "    <tr>\n",
       "      <th>CANAL_REGISTRO_3</th>\n",
       "      <td>2.050141</td>\n",
       "    </tr>\n",
       "    <tr>\n",
       "      <th>1A_DESCGRUPOPROD_PERF_PROMO</th>\n",
       "      <td>1.686038</td>\n",
       "    </tr>\n",
       "    <tr>\n",
       "      <th>1A_DESCGRUPOPROD_FICH_PROMO</th>\n",
       "      <td>1.685866</td>\n",
       "    </tr>\n",
       "    <tr>\n",
       "      <th>IP_CONTINENTE_AMERICA_SUR</th>\n",
       "      <td>1.682166</td>\n",
       "    </tr>\n",
       "    <tr>\n",
       "      <th>TIPOEMAIL_GOOHOTYAHMAIL</th>\n",
       "      <td>1.635951</td>\n",
       "    </tr>\n",
       "    <tr>\n",
       "      <th>USU_TIPO_EMPRESARIO INDIVIDUAL</th>\n",
       "      <td>1.595194</td>\n",
       "    </tr>\n",
       "    <tr>\n",
       "      <th>TIPO_TELF_EXTRANJERO</th>\n",
       "      <td>1.541944</td>\n",
       "    </tr>\n",
       "    <tr>\n",
       "      <th>IP_COUNTRY_PIB_Ingreso mediano alto</th>\n",
       "      <td>1.527325</td>\n",
       "    </tr>\n",
       "    <tr>\n",
       "      <th>TIPO_TELF_MOVIL</th>\n",
       "      <td>1.461999</td>\n",
       "    </tr>\n",
       "    <tr>\n",
       "      <th>CANAL_REGISTRO_2</th>\n",
       "      <td>1.328852</td>\n",
       "    </tr>\n",
       "    <tr>\n",
       "      <th>CANAL_REGISTRO_1</th>\n",
       "      <td>1.327744</td>\n",
       "    </tr>\n",
       "    <tr>\n",
       "      <th>1A_EMPCONSUL_SECTOR_TERCIARIO</th>\n",
       "      <td>1.181367</td>\n",
       "    </tr>\n",
       "    <tr>\n",
       "      <th>CANAL_REGISTRO_8</th>\n",
       "      <td>1.140564</td>\n",
       "    </tr>\n",
       "    <tr>\n",
       "      <th>USU_TIPO_SOC_COMERCIAL_INDUSTRIAL</th>\n",
       "      <td>1.093498</td>\n",
       "    </tr>\n",
       "    <tr>\n",
       "      <th>IP_CONTINENTE_NI</th>\n",
       "      <td>1.082940</td>\n",
       "    </tr>\n",
       "    <tr>\n",
       "      <th>1A_EMPCONSUL_SECTOR_SECUNDARIO</th>\n",
       "      <td>1.007755</td>\n",
       "    </tr>\n",
       "  </tbody>\n",
       "</table>\n",
       "</div>"
      ],
      "text/plain": [
       "                                     important\n",
       "FICH_PROMO_TOT                       23.648104\n",
       "IPCASOS                               7.477456\n",
       "PERF_PROMO_TOT                        2.937111\n",
       "USU_DEPART_IDH                        2.676724\n",
       "USU_DEPART_DEN_POB                    2.576824\n",
       "IP_COUNTRY_IDH_NUM                    2.245454\n",
       "BONDAD_EMAIL                          2.142825\n",
       "CANAL_REGISTRO_3                      2.050141\n",
       "1A_DESCGRUPOPROD_PERF_PROMO           1.686038\n",
       "1A_DESCGRUPOPROD_FICH_PROMO           1.685866\n",
       "IP_CONTINENTE_AMERICA_SUR             1.682166\n",
       "TIPOEMAIL_GOOHOTYAHMAIL               1.635951\n",
       "USU_TIPO_EMPRESARIO INDIVIDUAL        1.595194\n",
       "TIPO_TELF_EXTRANJERO                  1.541944\n",
       "IP_COUNTRY_PIB_Ingreso mediano alto   1.527325\n",
       "TIPO_TELF_MOVIL                       1.461999\n",
       "CANAL_REGISTRO_2                      1.328852\n",
       "CANAL_REGISTRO_1                      1.327744\n",
       "1A_EMPCONSUL_SECTOR_TERCIARIO         1.181367\n",
       "CANAL_REGISTRO_8                      1.140564\n",
       "USU_TIPO_SOC_COMERCIAL_INDUSTRIAL     1.093498\n",
       "IP_CONTINENTE_NI                      1.082940\n",
       "1A_EMPCONSUL_SECTOR_SECUNDARIO        1.007755"
      ]
     },
     "execution_count": 83,
     "metadata": {},
     "output_type": "execute_result"
    }
   ],
   "source": [
    "feature_importances[feature_importances['important'] > 0.01] * 100"
   ]
  },
  {
   "cell_type": "code",
   "execution_count": 84,
   "id": "0732f4ec-674b-47c3-a810-2cce29f55bb9",
   "metadata": {
    "tags": []
   },
   "outputs": [
    {
     "data": {
      "text/plain": [
       "(23, 1)"
      ]
     },
     "execution_count": 84,
     "metadata": {},
     "output_type": "execute_result"
    }
   ],
   "source": [
    "feature_importances[feature_importances['important'] > 0.01].shape"
   ]
  },
  {
   "cell_type": "markdown",
   "id": "e0dce38a-2377-48a4-b8b1-b4730bc6841d",
   "metadata": {},
   "source": [
    "------"
   ]
  },
  {
   "cell_type": "markdown",
   "id": "c31bb7b7-3c3e-4473-a9f2-19d671c3f092",
   "metadata": {},
   "source": [
    "**SMOTETomek**"
   ]
  },
  {
   "cell_type": "code",
   "execution_count": 85,
   "id": "f56cffe9-7ca7-4fe9-90b0-c6c80d61d03d",
   "metadata": {},
   "outputs": [],
   "source": [
    "os_us = SMOTETomek(sampling_strategy = 'all')\n",
    "X_train_res, y_train_res = os_us.fit_resample(train_x, train_y)"
   ]
  },
  {
   "cell_type": "code",
   "execution_count": 86,
   "id": "a5b767a9-1101-4843-9c81-fdd47d8c89ac",
   "metadata": {},
   "outputs": [
    {
     "name": "stdout",
     "output_type": "stream",
     "text": [
      "Distribution before resampling Counter({0: 275526, 1: 8860})\n",
      "Distribution after resampling Counter({1: 275517, 0: 275517})\n"
     ]
    }
   ],
   "source": [
    "print (\"Distribution before resampling {}\".format(Counter(train_y)))\n",
    "print (\"Distribution after resampling {}\".format(Counter(y_train_res)))"
   ]
  },
  {
   "cell_type": "code",
   "execution_count": 87,
   "id": "60403618-2dcb-473f-9fc8-3632106b48b5",
   "metadata": {},
   "outputs": [
    {
     "data": {
      "text/plain": [
       "RandomForestClassifier(n_estimators=150, n_jobs=-1, random_state=123)"
      ]
     },
     "execution_count": 87,
     "metadata": {},
     "output_type": "execute_result"
    }
   ],
   "source": [
    "rf = RandomForestClassifier(criterion = 'gini', \n",
    "                            n_estimators = 150, \n",
    "                            max_features = 'auto', \n",
    "                            max_depth = None,  \n",
    "                            n_jobs = -1,\n",
    "                            random_state = 123)\n",
    "\n",
    "rf.fit(X_train_res, y_train_res)"
   ]
  },
  {
   "cell_type": "code",
   "execution_count": 88,
   "id": "db38623e-8aa7-463a-a54e-890ca62419a0",
   "metadata": {},
   "outputs": [
    {
     "data": {
      "image/png": "[encoded data removed]",
      "text/plain": [
       "<Figure size 576x576 with 2 Axes>"
      ]
     },
     "metadata": {
      "needs_background": "light"
     },
     "output_type": "display_data"
    },
    {
     "name": "stdout",
     "output_type": "stream",
     "text": [
      "              precision    recall  f1-score   support\n",
      "\n",
      "           0       0.99      1.00      1.00    118082\n",
      "           1       0.92      0.81      0.86      3799\n",
      "\n",
      "    accuracy                           0.99    121881\n",
      "   macro avg       0.96      0.90      0.93    121881\n",
      "weighted avg       0.99      0.99      0.99    121881\n",
      "\n"
     ]
    }
   ],
   "source": [
    "pred_y = rf.predict(test_x)\n",
    "mostrar_resultados(test_y, pred_y)"
   ]
  },
  {
   "cell_type": "code",
   "execution_count": 89,
   "id": "46c2fb04-763e-4965-add3-72506d1f6368",
   "metadata": {},
   "outputs": [],
   "source": [
    "feature_importances = pd.DataFrame(rf.feature_importances_, index = train_x.columns, columns = ['important']).sort_values(['important'], ascending = 0)"
   ]
  },
  {
   "cell_type": "code",
   "execution_count": 90,
   "id": "79325091-d68e-41ae-9c75-79d7a112fce0",
   "metadata": {
    "tags": []
   },
   "outputs": [
    {
     "data": {
      "text/html": [
       "<div>\n",
       "<style scoped>\n",
       "    .dataframe tbody tr th:only-of-type {\n",
       "        vertical-align: middle;\n",
       "    }\n",
       "\n",
       "    .dataframe tbody tr th {\n",
       "        vertical-align: top;\n",
       "    }\n",
       "\n",
       "    .dataframe thead th {\n",
       "        text-align: right;\n",
       "    }\n",
       "</style>\n",
       "<table border=\"1\" class=\"dataframe\">\n",
       "  <thead>\n",
       "    <tr style=\"text-align: right;\">\n",
       "      <th></th>\n",
       "      <th>important</th>\n",
       "    </tr>\n",
       "  </thead>\n",
       "  <tbody>\n",
       "    <tr>\n",
       "      <th>FICH_PROMO_TOT</th>\n",
       "      <td>23.576561</td>\n",
       "    </tr>\n",
       "    <tr>\n",
       "      <th>IPCASOS</th>\n",
       "      <td>6.889000</td>\n",
       "    </tr>\n",
       "    <tr>\n",
       "      <th>USU_DEPART_IDH</th>\n",
       "      <td>2.810625</td>\n",
       "    </tr>\n",
       "    <tr>\n",
       "      <th>USU_DEPART_DEN_POB</th>\n",
       "      <td>2.646802</td>\n",
       "    </tr>\n",
       "    <tr>\n",
       "      <th>PERF_PROMO_TOT</th>\n",
       "      <td>2.642730</td>\n",
       "    </tr>\n",
       "    <tr>\n",
       "      <th>CANAL_REGISTRO_3</th>\n",
       "      <td>2.351327</td>\n",
       "    </tr>\n",
       "    <tr>\n",
       "      <th>BONDAD_EMAIL</th>\n",
       "      <td>2.302365</td>\n",
       "    </tr>\n",
       "    <tr>\n",
       "      <th>IP_COUNTRY_IDH_NUM</th>\n",
       "      <td>1.800671</td>\n",
       "    </tr>\n",
       "    <tr>\n",
       "      <th>USU_TIPO_EMPRESARIO INDIVIDUAL</th>\n",
       "      <td>1.749064</td>\n",
       "    </tr>\n",
       "    <tr>\n",
       "      <th>IP_CONTINENTE_AMERICA_SUR</th>\n",
       "      <td>1.718592</td>\n",
       "    </tr>\n",
       "    <tr>\n",
       "      <th>IP_COUNTRY_PIB_Ingreso mediano alto</th>\n",
       "      <td>1.651283</td>\n",
       "    </tr>\n",
       "    <tr>\n",
       "      <th>TIPO_TELF_EXTRANJERO</th>\n",
       "      <td>1.593537</td>\n",
       "    </tr>\n",
       "    <tr>\n",
       "      <th>TIPO_TELF_MOVIL</th>\n",
       "      <td>1.587882</td>\n",
       "    </tr>\n",
       "    <tr>\n",
       "      <th>1A_DESCGRUPOPROD_PERF_PROMO</th>\n",
       "      <td>1.576423</td>\n",
       "    </tr>\n",
       "    <tr>\n",
       "      <th>CANAL_REGISTRO_2</th>\n",
       "      <td>1.553411</td>\n",
       "    </tr>\n",
       "    <tr>\n",
       "      <th>TIPOEMAIL_GOOHOTYAHMAIL</th>\n",
       "      <td>1.538543</td>\n",
       "    </tr>\n",
       "    <tr>\n",
       "      <th>CANAL_REGISTRO_8</th>\n",
       "      <td>1.416076</td>\n",
       "    </tr>\n",
       "    <tr>\n",
       "      <th>1A_DESCGRUPOPROD_FICH_PROMO</th>\n",
       "      <td>1.382472</td>\n",
       "    </tr>\n",
       "    <tr>\n",
       "      <th>1A_EMPCONSUL_SECTOR_TERCIARIO</th>\n",
       "      <td>1.213183</td>\n",
       "    </tr>\n",
       "    <tr>\n",
       "      <th>CANAL_REGISTRO_1</th>\n",
       "      <td>1.148591</td>\n",
       "    </tr>\n",
       "    <tr>\n",
       "      <th>USU_TIPO_NoApl</th>\n",
       "      <td>1.148188</td>\n",
       "    </tr>\n",
       "    <tr>\n",
       "      <th>USU_ESTADO_ACTIVA</th>\n",
       "      <td>1.087187</td>\n",
       "    </tr>\n",
       "    <tr>\n",
       "      <th>TIPO_TELF_NO_PUBLICO</th>\n",
       "      <td>1.038904</td>\n",
       "    </tr>\n",
       "    <tr>\n",
       "      <th>FECHA_REGISTRO_WEEKDAY_3</th>\n",
       "      <td>1.028396</td>\n",
       "    </tr>\n",
       "    <tr>\n",
       "      <th>1A_EMPCONSUL_SECTOR_SECUNDARIO</th>\n",
       "      <td>1.024758</td>\n",
       "    </tr>\n",
       "    <tr>\n",
       "      <th>USU_TIPO_SOC_COMERCIAL_INDUSTRIAL</th>\n",
       "      <td>1.013272</td>\n",
       "    </tr>\n",
       "    <tr>\n",
       "      <th>FECHA_REGISTRO_WEEKDAY_2</th>\n",
       "      <td>1.011794</td>\n",
       "    </tr>\n",
       "  </tbody>\n",
       "</table>\n",
       "</div>"
      ],
      "text/plain": [
       "                                     important\n",
       "FICH_PROMO_TOT                       23.576561\n",
       "IPCASOS                               6.889000\n",
       "USU_DEPART_IDH                        2.810625\n",
       "USU_DEPART_DEN_POB                    2.646802\n",
       "PERF_PROMO_TOT                        2.642730\n",
       "CANAL_REGISTRO_3                      2.351327\n",
       "BONDAD_EMAIL                          2.302365\n",
       "IP_COUNTRY_IDH_NUM                    1.800671\n",
       "USU_TIPO_EMPRESARIO INDIVIDUAL        1.749064\n",
       "IP_CONTINENTE_AMERICA_SUR             1.718592\n",
       "IP_COUNTRY_PIB_Ingreso mediano alto   1.651283\n",
       "TIPO_TELF_EXTRANJERO                  1.593537\n",
       "TIPO_TELF_MOVIL                       1.587882\n",
       "1A_DESCGRUPOPROD_PERF_PROMO           1.576423\n",
       "CANAL_REGISTRO_2                      1.553411\n",
       "TIPOEMAIL_GOOHOTYAHMAIL               1.538543\n",
       "CANAL_REGISTRO_8                      1.416076\n",
       "1A_DESCGRUPOPROD_FICH_PROMO           1.382472\n",
       "1A_EMPCONSUL_SECTOR_TERCIARIO         1.213183\n",
       "CANAL_REGISTRO_1                      1.148591\n",
       "USU_TIPO_NoApl                        1.148188\n",
       "USU_ESTADO_ACTIVA                     1.087187\n",
       "TIPO_TELF_NO_PUBLICO                  1.038904\n",
       "FECHA_REGISTRO_WEEKDAY_3              1.028396\n",
       "1A_EMPCONSUL_SECTOR_SECUNDARIO        1.024758\n",
       "USU_TIPO_SOC_COMERCIAL_INDUSTRIAL     1.013272\n",
       "FECHA_REGISTRO_WEEKDAY_2              1.011794"
      ]
     },
     "execution_count": 90,
     "metadata": {},
     "output_type": "execute_result"
    }
   ],
   "source": [
    "feature_importances[feature_importances['important'] > 0.01] * 100"
   ]
  },
  {
   "cell_type": "code",
   "execution_count": 91,
   "id": "ddbecffe-81a0-4479-871f-ad6f1560c176",
   "metadata": {
    "tags": []
   },
   "outputs": [
    {
     "data": {
      "text/plain": [
       "(27, 1)"
      ]
     },
     "execution_count": 91,
     "metadata": {},
     "output_type": "execute_result"
    }
   ],
   "source": [
    "feature_importances[feature_importances['important'] > 0.01].shape"
   ]
  },
  {
   "cell_type": "markdown",
   "id": "ba2b65e1-0d45-4613-9e6b-6867b5bdcffc",
   "metadata": {},
   "source": [
    "------"
   ]
  },
  {
   "cell_type": "markdown",
   "id": "b7c5f681-9632-4910-a3f6-0e735a66e13c",
   "metadata": {},
   "source": [
    "------"
   ]
  },
  {
   "cell_type": "markdown",
   "id": "6815d615-428c-4bb5-b247-a3bb50a9c691",
   "metadata": {},
   "source": [
    "##### **4.5.5 Ensamble de Modelos con Balanceo**"
   ]
  },
  {
   "cell_type": "markdown",
   "id": "cf2c9b55-8cd5-433f-b596-68b9e8c1e18d",
   "metadata": {},
   "source": [
    "Para esta estrategia usaremos un Clasificador de Ensamble que utiliza Bagging y el modelo será un RandomForest."
   ]
  },
  {
   "cell_type": "markdown",
   "id": "bef55740-5b59-4f81-9e47-a11978b08e64",
   "metadata": {},
   "source": [
    "**Bagging**"
   ]
  },
  {
   "cell_type": "code",
   "execution_count": 92,
   "id": "8b454650-ca06-4f2c-b11e-628ac751c07b",
   "metadata": {
    "tags": []
   },
   "outputs": [
    {
     "data": {
      "text/plain": [
       "BalancedBaggingClassifier(base_estimator=RandomForestClassifier(n_estimators=150,\n",
       "                                                                n_jobs=-1,\n",
       "                                                                random_state=123),\n",
       "                          n_estimators=20, random_state=123,\n",
       "                          sampling_strategy='all')"
      ]
     },
     "execution_count": 92,
     "metadata": {},
     "output_type": "execute_result"
    }
   ],
   "source": [
    "bbc = BalancedBaggingClassifier(base_estimator = RandomForestClassifier(criterion = 'gini', \n",
    "                                                                        n_estimators = 150, \n",
    "                                                                        max_features = 'auto', \n",
    "                                                                        max_depth = None, \n",
    "                                                                        n_jobs = -1,\n",
    "                                                                        random_state = 123),\n",
    "                                sampling_strategy = 'all',\n",
    "                                n_estimators = 20,\n",
    "                                replacement = False,\n",
    "                                random_state = 123)\n",
    "\n",
    "bbc.fit(train_x, train_y)"
   ]
  },
  {
   "cell_type": "code",
   "execution_count": 93,
   "id": "33ff2cad-2535-465f-a531-28dfceef6f71",
   "metadata": {
    "tags": []
   },
   "outputs": [
    {
     "data": {
      "image/png": "[encoded data removed]",
      "text/plain": [
       "<Figure size 576x576 with 2 Axes>"
      ]
     },
     "metadata": {
      "needs_background": "light"
     },
     "output_type": "display_data"
    },
    {
     "name": "stdout",
     "output_type": "stream",
     "text": [
      "              precision    recall  f1-score   support\n",
      "\n",
      "           0       1.00      0.94      0.97    118082\n",
      "           1       0.32      0.87      0.47      3799\n",
      "\n",
      "    accuracy                           0.94    121881\n",
      "   macro avg       0.66      0.91      0.72    121881\n",
      "weighted avg       0.97      0.94      0.95    121881\n",
      "\n"
     ]
    }
   ],
   "source": [
    "pred_y = bbc.predict(test_x)\n",
    "mostrar_resultados(test_y, pred_y)"
   ]
  },
  {
   "cell_type": "markdown",
   "id": "79ddccd4-f9a2-4978-8984-5adff88712ab",
   "metadata": {},
   "source": [
    "------"
   ]
  },
  {
   "cell_type": "markdown",
   "id": "3d02b43b-36a2-47f2-8efc-e63946ba52a8",
   "metadata": {},
   "source": [
    "**RUSBoostClassifier**"
   ]
  },
  {
   "cell_type": "code",
   "execution_count": 94,
   "id": "f6b257cd-edb3-487f-abb8-26ab10f5935f",
   "metadata": {
    "tags": []
   },
   "outputs": [
    {
     "data": {
      "text/plain": [
       "RUSBoostClassifier(base_estimator=RandomForestClassifier(n_estimators=150,\n",
       "                                                         n_jobs=-1,\n",
       "                                                         random_state=123),\n",
       "                   n_estimators=20, random_state=123,\n",
       "                   sampling_strategy='majority')"
      ]
     },
     "execution_count": 94,
     "metadata": {},
     "output_type": "execute_result"
    }
   ],
   "source": [
    "RUS = RUSBoostClassifier(base_estimator = RandomForestClassifier(criterion = 'gini', \n",
    "                                                                 n_estimators = 150, \n",
    "                                                                 max_features = 'auto', \n",
    "                                                                 max_depth = None,\n",
    "                                                                 n_jobs = -1,\n",
    "                                                                 random_state = 123),\n",
    "                                sampling_strategy = 'majority',\n",
    "                                n_estimators = 20,\n",
    "                                replacement = False,\n",
    "                                random_state = 123)\n",
    "\n",
    "RUS.fit(train_x, train_y)"
   ]
  },
  {
   "cell_type": "code",
   "execution_count": 95,
   "id": "71f309a2-5218-4fa3-92a7-8f76e6dae6f6",
   "metadata": {
    "tags": []
   },
   "outputs": [
    {
     "data": {
      "image/png": "[encoded data removed]",
      "text/plain": [
       "<Figure size 576x576 with 2 Axes>"
      ]
     },
     "metadata": {
      "needs_background": "light"
     },
     "output_type": "display_data"
    },
    {
     "name": "stdout",
     "output_type": "stream",
     "text": [
      "              precision    recall  f1-score   support\n",
      "\n",
      "           0       1.00      0.96      0.98    118082\n",
      "           1       0.43      0.86      0.58      3799\n",
      "\n",
      "    accuracy                           0.96    121881\n",
      "   macro avg       0.71      0.91      0.78    121881\n",
      "weighted avg       0.98      0.96      0.97    121881\n",
      "\n"
     ]
    }
   ],
   "source": [
    "pred_y = RUS.predict(test_x)\n",
    "mostrar_resultados(test_y, pred_y)"
   ]
  },
  {
   "cell_type": "markdown",
   "id": "1d4859fc-647f-4d93-b295-ea3e006bf961",
   "metadata": {},
   "source": [
    "---------------"
   ]
  },
  {
   "cell_type": "markdown",
   "id": "9dcdca36-38fd-4d39-98c9-9ce471ee5913",
   "metadata": {},
   "source": [
    "---------------"
   ]
  },
  {
   "cell_type": "markdown",
   "id": "81f2790f-6ea0-446b-88da-ec39d7758718",
   "metadata": {},
   "source": [
    "---------------"
   ]
  },
  {
   "cell_type": "markdown",
   "id": "034a2eec-d84c-4305-8de9-992c5b2da26b",
   "metadata": {},
   "source": [
    "# CONCLUSIONES"
   ]
  },
  {
   "cell_type": "markdown",
   "id": "77d3bb7d-92e4-4136-86da-093701e69a08",
   "metadata": {},
   "source": [
    "| Modelo | Accuracy  | NoAltas - Precision  | NoAltas - Recall  | NoAltas F1-score | Altas - Precision | Altas - Recall | Altas F1-score | # Variables utilizadas\n",
    "|---|:---:|:---:|:---:|:---:|:---:|:---:|:---:|:---:|\n",
    "| Baseline | 0.99 | 0.99 | 1.00 | **1.00** | 0.98 | 0.81 | **0.88** | 26 |  "
   ]
  },
  {
   "cell_type": "markdown",
   "id": "718d01d0-aeae-48b7-9fb3-cfc5c4c6dd0c",
   "metadata": {},
   "source": [
    "### **Resultados** "
   ]
  },
  {
   "cell_type": "markdown",
   "id": "78d2c9ec-39a0-40b2-8521-30c89a8a4763",
   "metadata": {},
   "source": [
    "| Modelo |Tecnica |Algoritmo   | Accuracy  | NoAltas - Precision  | NoAltas - Recall  | NoAltas F1-score | Altas - Precision | Altas - Recall | Altas F1-score | # Variables utilizadas\n",
    "|---|:---:|:---:|:---:|:---:|:---:|:---:|:---:|:---:|:---:|:---:|\n",
    "| Modelo 1 | **Penalización para compensar** | -- | 0.99 | 0.99 | 1.00 | **1.00** | 0.89 | 0.82 | **0.85** | 24 |\n",
    "| Modelo 2 | **Subsampling en la clase mayoritaria** | RandomUnderSampler | 0.91 | 1.00 | 0.91 | **0.95** | 0.24 | 0.89 | **0.38** | 24 |\n",
    "| Modelo 3 | **Oversampling en la clase minoritaria** | SMOTE| 0.99 | 0.99 | 1.00 | **1.00** | 0.92 | 0.81 | **0.86** | 26 |\n",
    "| Modelo 4 | **Combinamos OverSampling con Subsampling** | SMOTE & RandomUnderSampler | 0.99 | 0.99 | 1.00 | **1.00** | 0.9 | 0.81 | **0.86** | 23 |\n",
    "| Modelo 5 | **Combinamos OverSampling con Subsampling** | SMOTE-Tomek| 0.99 | 0.99 | 1.00 | **1.00** | 0.92 | 0.81 | **0.86** | 27 |\n",
    "| Modelo 6 | **Ensamble de Modelos con Balanceo** | BalancedBaggingClassifier| 0.94 | 1.00 | 0.94 | **0.97** | 0.32 | 0.87 | **0.47**  | -- |\n",
    "| Modelo 7 | **Ensamble de Modelos con Balanceo** | RUSBoostClassifier| 0.96 | 1.00 | 0.96 | **0.98** | 0.43 | 0.86 | **0.58** | -- |"
   ]
  },
  {
   "cell_type": "markdown",
   "id": "8bf717f5-f900-40d7-bfc8-32fb1a22be93",
   "metadata": {},
   "source": [
    "Tras los resultados obtenidos y expuestos, podemos concluir que las técnicas que mejores resultados nos han proporcionado estan entre **Penalización para compensar**, **Oversampling en la clase minoritaria** y **Combinamos OverSampling con Subsampling**, (SMOTE y SMOTE-Tomek respectivamente). Los resultados de las técnicas son muy parecidos al del modelo Base.\n",
    "\n",
    "Análizando las diferentes métricas obtenidas, en primer lugar nos fijamos que todos las diferentes técnicas tienen un F1-score de la clase No Clientes muy similar entre ellas, por lo que marcará la diferencias será la clase Clientes.\n",
    "\n",
    "Observando que el modelo base y las técnicas SMOTE y SMOTE-Tomek son los que mejor F1 en la clase clientes tienen, analizaremos en detalle la precisión y recall de cada uno.\n",
    "\n",
    "Entendiendo que el objetivo del negocio es poder desarrollar una estrategia en base a un determinado grupo, lo que premiaremos es el modelo que mejor recall tenga, ya que lo que interesa es detectar bien la clase clientes. El modelo que mejor responde a esto es el que utiliza la técnica **penalizar para compensar**."
   ]
  }
 ],
 "metadata": {
  "kernelspec": {
   "display_name": "Python 3",
   "language": "python",
   "name": "python3"
  },
  "language_info": {
   "codemirror_mode": {
    "name": "ipython",
    "version": 3
   },
   "file_extension": ".py",
   "mimetype": "text/x-python",
   "name": "python",
   "nbconvert_exporter": "python",
   "pygments_lexer": "ipython3",
   "version": "3.8.8"
  }
 },
 "nbformat": 4,
 "nbformat_minor": 5
}
