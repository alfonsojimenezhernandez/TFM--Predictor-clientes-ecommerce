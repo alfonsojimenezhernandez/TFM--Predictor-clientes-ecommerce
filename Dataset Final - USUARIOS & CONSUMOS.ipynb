{
 "cells": [
  {
   "cell_type": "markdown",
   "id": "emotional-venice",
   "metadata": {},
   "source": [
    "# TFM - Predicción potenciales compradores de un ecommerce"
   ]
  },
  {
   "cell_type": "markdown",
   "id": "incorporate-endorsement",
   "metadata": {},
   "source": [
    "Este trabajo, está principalmente enfocado a la creación de un modelo de predicción de potenciales compradores en un ecommerce real relacionado con el mundo empresarial.\n",
    "\n",
    "Se trata de realizar una clasificación de visitantes a una web de venta online en función de los datos que se han almacenado de ellos y establecer su nivel potencial de compra.\n",
    "\n",
    "Para ello se dispone de diferentes repositorios con datos históricos relativos a:\n",
    "* características básicas del registro/lead: fecha registro, procedencia, marca de comprador, cuando compró.\n",
    "* características identificativas anonimizadas de los mismos: email, ubicación geográfica, tipo de persona.\n",
    "* log de sus movimientos/navegación en la web.\n",
    "* información sobre los productos que ha comprado.\n",
    "\n",
    "**Información relevante del negocio**\n",
    "\n",
    "Los datos proceden de un ecommerce con sede en Colombia que se dedica a la venta de productos relacionados con la información de empresas del país: Informes Comerciales y módulos de información detallada sobre Datos Financieros, Prensa, Administradores, Incidencias, etc, Informes Sectoriales, Base de datos a medida, Productos de Marketing (mercadeo), Información de accionistas, Información de proveedores y clientes, etc.\n",
    "\n",
    "Los usuarios potenciales compradores (personas en su nombre o representando a una empresa u otra entidad), llegan a la web del ecommerce por diferentes canales: directorios propios, webs de terceros, desde buscadores por labores de SEO y de SEM, etc.  \n",
    "\n",
    "Dichos usuarios tienen acceso a diferentes productos de menor contenido a cambio de registrarse en un formulario del site, en el que cumplimentan datos personales, email, teléfono, profesión, etc. El usuario pasa a ser Registrado, y es lo que en el mundo del ecommerce se denomina “lead”.  \n",
    "\n",
    "Tras el registro se permite el acceso a información muy básica sobre las empresas buscadas (Ficha de empresa), y se otorga la posibilidad de consumir gratis 5 productos de información a los que llamamos perfiles de empresa.  \n",
    "\n",
    "La oferta caduca a los 30 días.  \n",
    "\n",
    "El Perfil de empresa es un producto con contenido básico y su objetivo es mostrar a los potenciales compradores el nivel del contenido de los productos que suministra el ecommerce.  \n",
    "\n",
    "Resumiendo, la dinámica es la siguiente:\n",
    "* Un usuario busca una empresa en internet o en la web.\n",
    "* Al seleccionar una de las listadas en la búsqueda, se presenta una Ficha (Identificación) y se crea un registro en el log. Se muestra los productos disponibles para consumir.  \n",
    "    * Productos Promocionales (Perfil de Empresa). Para usuarios Registrados, si el Usuario se registra.\n",
    "    * Resto de Productos son de Pago. Es necesario estar registrado y pagar.\n",
    "* El usuario consume un producto (registro en el log) o vuelve a buscar otra empresa.  \n",
    "\n",
    "Si el usuario Registrado está interesado en conocer más a fondo una empresa o un determinado producto de pago, se le ofrece la posibilidad de contratación:  \n",
    "* PPV: Compra puntual del producto\n",
    "* Bonos: compra de un conjunto de unidades o una cantidad de productos a cambio de un pago anticipado.\n",
    "* Suscripción: pagando una cantidad periodica permite el acceso y consumo de productos, limitado por el volumen de compra y por la fecha de caducidad de la suscripción\n",
    "\n",
    "Cuando se produce una de estas contrataciones el usuario “Registrado”, pasa a ser “Cliente”.\n",
    "\n",
    "El propietario del ecommerce tiene información del usuario de su plataforma de Google Analytics que utiliza para la captación en internet, uso de cookies, estrategias de SEO y SEM, acuerdos con portales.  \n",
    "\n",
    "Ahora desea dar un paso más y quiere conocer más sobre los usuarios registrados para determinar la probabilidad de conversión a cliente. Saber cuáles son potenciales compradores a partir de los datos de ese registro en sus sistemas, del hábito de consumo de productos, y del tipo de empresa buscada/consultada.  \n",
    "\n",
    "El conjunto de datos está muy desbalanceado por ello es muy importante determinar a qué usuarios registrados debe dirigir el ecommerce sus campañas de captación.  \n",
    "\n",
    "Por otra parte, pero relacionado con el mismo tema, desean saber que perfil tienen sus clientes y que variables son las mas influyentes/relevantes en la predicción de compra para modificar la estrategia de marketing y su posicionamiento en Internet.  \n"
   ]
  },
  {
   "cell_type": "markdown",
   "id": "controversial-region",
   "metadata": {},
   "source": [
    "------------------------------------"
   ]
  },
  {
   "cell_type": "markdown",
   "id": "respective-belarus",
   "metadata": {},
   "source": [
    "### Librerias"
   ]
  },
  {
   "cell_type": "code",
   "execution_count": 1,
   "id": "automatic-spanking",
   "metadata": {},
   "outputs": [],
   "source": [
    "import pandas as pd\n",
    "from datetime import datetime\n",
    "\n",
    "pd.set_option('display.max_columns', 200)\n",
    "pd.set_option('display.max_rows', 200)\n",
    "# pd.options.display.max_columns"
   ]
  },
  {
   "cell_type": "markdown",
   "id": "accepted-simple",
   "metadata": {},
   "source": [
    "------------------------------------"
   ]
  },
  {
   "cell_type": "markdown",
   "id": "passing-kentucky",
   "metadata": {},
   "source": [
    "### Lectura de Ficheros"
   ]
  },
  {
   "cell_type": "markdown",
   "id": "adult-prevention",
   "metadata": {},
   "source": [
    "A continuación comenzamos leyendo los ficheros que hemos tratado, limpiado y analizado en los procesos anteriores."
   ]
  },
  {
   "cell_type": "code",
   "execution_count": 2,
   "id": "wireless-former",
   "metadata": {},
   "outputs": [],
   "source": [
    "df_cons = pd.read_csv('Data/Consumos_Clean.txt', sep = ';', encoding = 'ISO-8859-1')"
   ]
  },
  {
   "cell_type": "code",
   "execution_count": 3,
   "id": "continental-edinburgh",
   "metadata": {},
   "outputs": [
    {
     "data": {
      "text/plain": [
       "(367707, 29)"
      ]
     },
     "execution_count": 3,
     "metadata": {},
     "output_type": "execute_result"
    }
   ],
   "source": [
    "df_cons.shape"
   ]
  },
  {
   "cell_type": "code",
   "execution_count": 4,
   "id": "numeric-imperial",
   "metadata": {},
   "outputs": [
    {
     "data": {
      "text/plain": [
       "ID_USUARIO                             int64\n",
       "1A_CONS_DESCPRODUCTO                  object\n",
       "1A_CONS_DESCGRUPOPROD                 object\n",
       "1A_CONS_FECHACONSUMO                  object\n",
       "1A_CONS_TIPO_CONSUMO                  object\n",
       "1A_CONS_EMPCONSUL_EST                 object\n",
       "1A_CONS_EMPCONSUL_SECCION_DESC        object\n",
       "1A_CONS_EMPCONSUL_SECTOR_ECONOMICO    object\n",
       "1A_CONS_EMPCONSUL_PROV                object\n",
       "PROD_CONSUM_TOT                        int64\n",
       "PROMOCION_TOT                          int64\n",
       "PAGO_TOT                               int64\n",
       "FICH_BASIC_PROMO_TOT                   int64\n",
       "FICH_AVANZADA_TOT                      int64\n",
       "PERFIL_TOT                             int64\n",
       "MODU_INFORM_TOT                        int64\n",
       "REPORTES_TOT                           int64\n",
       "OTROS_TOT                              int64\n",
       "EST_ACTIVA_TOT                         int64\n",
       "EST_INACTIVA_TOT                       int64\n",
       "EST_REESTRUCT_TOT                      int64\n",
       "EST_CLINTON_TOT                        int64\n",
       "EST_NI_TOT                             int64\n",
       "SECT_PRIM_TOT                          int64\n",
       "SECT_SECU_TOT                          int64\n",
       "SECT_TERC_TOT                          int64\n",
       "SECT_CUAT_TOT                          int64\n",
       "SECT_QUIN_TOT                          int64\n",
       "SECT_SD_TOT                            int64\n",
       "dtype: object"
      ]
     },
     "execution_count": 4,
     "metadata": {},
     "output_type": "execute_result"
    }
   ],
   "source": [
    "df_cons.dtypes"
   ]
  },
  {
   "cell_type": "code",
   "execution_count": 5,
   "id": "flush-suggestion",
   "metadata": {},
   "outputs": [],
   "source": [
    "df_user = pd.read_csv('Data/Usuarios_Clean.txt', sep = ';', encoding = 'ISO-8859-1')"
   ]
  },
  {
   "cell_type": "code",
   "execution_count": 6,
   "id": "verified-scratch",
   "metadata": {},
   "outputs": [
    {
     "data": {
      "text/plain": [
       "(367637, 25)"
      ]
     },
     "execution_count": 6,
     "metadata": {},
     "output_type": "execute_result"
    }
   ],
   "source": [
    "df_user.shape"
   ]
  },
  {
   "cell_type": "code",
   "execution_count": 7,
   "id": "normal-relay",
   "metadata": {},
   "outputs": [
    {
     "data": {
      "text/plain": [
       "ID_USUARIO               int64\n",
       "TIPOUSUARIO             object\n",
       "FECHA_REGISTRO          object\n",
       "CANAL_REGISTRO           int64\n",
       "FECHA_ALTA              object\n",
       "IND_ALTA                 int64\n",
       "FECHA_CLIENTE           object\n",
       "IND_CLIENTE              int64\n",
       "TIPOEMAIL               object\n",
       "BONDAD_EMAIL             int64\n",
       "TIPO_TELF               object\n",
       "IPCASOS                  int64\n",
       "IP_COUNTRY              object\n",
       "IP_REGION               object\n",
       "IP_COUNTRY_PIB          object\n",
       "IP_COUNTRY_IDH_NUM      object\n",
       "IP_COUNTRY_IDH_GROUP    object\n",
       "USU_TIPO                object\n",
       "USU_TAMANIO             object\n",
       "USU_ESTADO              object\n",
       "USU_SECCION_DESC        object\n",
       "USU_SECTOR_ECONOMICO    object\n",
       "USU_DEPARTAMENTO        object\n",
       "USU_DEPART_DEN_POB      object\n",
       "USU_DEPART_IDH          object\n",
       "dtype: object"
      ]
     },
     "execution_count": 7,
     "metadata": {},
     "output_type": "execute_result"
    }
   ],
   "source": [
    "df_user.dtypes"
   ]
  },
  {
   "cell_type": "markdown",
   "id": "fifth-chester",
   "metadata": {},
   "source": [
    "--------------------------"
   ]
  },
  {
   "cell_type": "markdown",
   "id": "rational-mainland",
   "metadata": {},
   "source": [
    "### Unificamos la información"
   ]
  },
  {
   "cell_type": "markdown",
   "id": "traditional-player",
   "metadata": {},
   "source": [
    "Añadimos a la iformación de cada cliente, su respectiva información de cosumo"
   ]
  },
  {
   "cell_type": "code",
   "execution_count": 8,
   "id": "employed-national",
   "metadata": {},
   "outputs": [],
   "source": [
    "df = pd.merge(left = df_user, right = df_cons, how = \"inner\", left_on = \"ID_USUARIO\", right_on = \"ID_USUARIO\")"
   ]
  },
  {
   "cell_type": "code",
   "execution_count": 9,
   "id": "faced-entrepreneur",
   "metadata": {},
   "outputs": [
    {
     "data": {
      "text/html": [
       "<div>\n",
       "<style scoped>\n",
       "    .dataframe tbody tr th:only-of-type {\n",
       "        vertical-align: middle;\n",
       "    }\n",
       "\n",
       "    .dataframe tbody tr th {\n",
       "        vertical-align: top;\n",
       "    }\n",
       "\n",
       "    .dataframe thead th {\n",
       "        text-align: right;\n",
       "    }\n",
       "</style>\n",
       "<table border=\"1\" class=\"dataframe\">\n",
       "  <thead>\n",
       "    <tr style=\"text-align: right;\">\n",
       "      <th></th>\n",
       "      <th>ID_USUARIO</th>\n",
       "      <th>TIPOUSUARIO</th>\n",
       "      <th>FECHA_REGISTRO</th>\n",
       "      <th>CANAL_REGISTRO</th>\n",
       "      <th>FECHA_ALTA</th>\n",
       "      <th>IND_ALTA</th>\n",
       "      <th>FECHA_CLIENTE</th>\n",
       "      <th>IND_CLIENTE</th>\n",
       "      <th>TIPOEMAIL</th>\n",
       "      <th>BONDAD_EMAIL</th>\n",
       "      <th>TIPO_TELF</th>\n",
       "      <th>IPCASOS</th>\n",
       "      <th>IP_COUNTRY</th>\n",
       "      <th>IP_REGION</th>\n",
       "      <th>IP_COUNTRY_PIB</th>\n",
       "      <th>IP_COUNTRY_IDH_NUM</th>\n",
       "      <th>IP_COUNTRY_IDH_GROUP</th>\n",
       "      <th>USU_TIPO</th>\n",
       "      <th>USU_TAMANIO</th>\n",
       "      <th>USU_ESTADO</th>\n",
       "      <th>USU_SECCION_DESC</th>\n",
       "      <th>USU_SECTOR_ECONOMICO</th>\n",
       "      <th>USU_DEPARTAMENTO</th>\n",
       "      <th>USU_DEPART_DEN_POB</th>\n",
       "      <th>USU_DEPART_IDH</th>\n",
       "      <th>1A_CONS_DESCPRODUCTO</th>\n",
       "      <th>1A_CONS_DESCGRUPOPROD</th>\n",
       "      <th>1A_CONS_FECHACONSUMO</th>\n",
       "      <th>1A_CONS_TIPO_CONSUMO</th>\n",
       "      <th>1A_CONS_EMPCONSUL_EST</th>\n",
       "      <th>1A_CONS_EMPCONSUL_SECCION_DESC</th>\n",
       "      <th>1A_CONS_EMPCONSUL_SECTOR_ECONOMICO</th>\n",
       "      <th>1A_CONS_EMPCONSUL_PROV</th>\n",
       "      <th>PROD_CONSUM_TOT</th>\n",
       "      <th>PROMOCION_TOT</th>\n",
       "      <th>PAGO_TOT</th>\n",
       "      <th>FICH_BASIC_PROMO_TOT</th>\n",
       "      <th>FICH_AVANZADA_TOT</th>\n",
       "      <th>PERFIL_TOT</th>\n",
       "      <th>MODU_INFORM_TOT</th>\n",
       "      <th>REPORTES_TOT</th>\n",
       "      <th>OTROS_TOT</th>\n",
       "      <th>EST_ACTIVA_TOT</th>\n",
       "      <th>EST_INACTIVA_TOT</th>\n",
       "      <th>EST_REESTRUCT_TOT</th>\n",
       "      <th>EST_CLINTON_TOT</th>\n",
       "      <th>EST_NI_TOT</th>\n",
       "      <th>SECT_PRIM_TOT</th>\n",
       "      <th>SECT_SECU_TOT</th>\n",
       "      <th>SECT_TERC_TOT</th>\n",
       "      <th>SECT_CUAT_TOT</th>\n",
       "      <th>SECT_QUIN_TOT</th>\n",
       "      <th>SECT_SD_TOT</th>\n",
       "    </tr>\n",
       "  </thead>\n",
       "  <tbody>\n",
       "    <tr>\n",
       "      <th>0</th>\n",
       "      <td>8107310</td>\n",
       "      <td>PF</td>\n",
       "      <td>2019-10-22</td>\n",
       "      <td>3</td>\n",
       "      <td>NoApl</td>\n",
       "      <td>0</td>\n",
       "      <td>NoApl</td>\n",
       "      <td>0</td>\n",
       "      <td>GOOHOTYAHMAIL</td>\n",
       "      <td>0</td>\n",
       "      <td>NO_PUBLICO</td>\n",
       "      <td>1</td>\n",
       "      <td>COLOMBIA</td>\n",
       "      <td>Valle del Cauca</td>\n",
       "      <td>Ingreso mediano alto</td>\n",
       "      <td>0.767</td>\n",
       "      <td>Alto</td>\n",
       "      <td>NoApl</td>\n",
       "      <td>NoApl</td>\n",
       "      <td>NoApl</td>\n",
       "      <td>NoApl</td>\n",
       "      <td>NoApl</td>\n",
       "      <td>NOAPL</td>\n",
       "      <td>NOAPL</td>\n",
       "      <td>NOAPL</td>\n",
       "      <td>PERFIL PROMOCIONAL</td>\n",
       "      <td>PERFIL</td>\n",
       "      <td>2019-10-22</td>\n",
       "      <td>Promocion</td>\n",
       "      <td>ACTIVA</td>\n",
       "      <td>COMERCIO AL POR MAYOR Y AL POR MENOR; REPARACI...</td>\n",
       "      <td>TERCIARIO</td>\n",
       "      <td>CAUCA</td>\n",
       "      <td>1</td>\n",
       "      <td>1</td>\n",
       "      <td>0</td>\n",
       "      <td>0</td>\n",
       "      <td>0</td>\n",
       "      <td>1</td>\n",
       "      <td>0</td>\n",
       "      <td>0</td>\n",
       "      <td>0</td>\n",
       "      <td>1</td>\n",
       "      <td>0</td>\n",
       "      <td>0</td>\n",
       "      <td>0</td>\n",
       "      <td>0</td>\n",
       "      <td>0</td>\n",
       "      <td>0</td>\n",
       "      <td>1</td>\n",
       "      <td>0</td>\n",
       "      <td>0</td>\n",
       "      <td>0</td>\n",
       "    </tr>\n",
       "    <tr>\n",
       "      <th>1</th>\n",
       "      <td>7784565</td>\n",
       "      <td>PJ</td>\n",
       "      <td>2019-05-14</td>\n",
       "      <td>3</td>\n",
       "      <td>NoApl</td>\n",
       "      <td>0</td>\n",
       "      <td>NoApl</td>\n",
       "      <td>0</td>\n",
       "      <td>GOOHOTYAHMAIL</td>\n",
       "      <td>1</td>\n",
       "      <td>NO_PUBLICO</td>\n",
       "      <td>1</td>\n",
       "      <td>COLOMBIA</td>\n",
       "      <td>Antioquia</td>\n",
       "      <td>Ingreso mediano alto</td>\n",
       "      <td>0.767</td>\n",
       "      <td>Alto</td>\n",
       "      <td>SOC_COMERCIAL_INDUSTRIAL</td>\n",
       "      <td>PQ</td>\n",
       "      <td>ACTIVA</td>\n",
       "      <td>ACTIVIDADES DE SERVICIOS ADMINISTRATIVOS Y DE ...</td>\n",
       "      <td>TERCIARIO</td>\n",
       "      <td>QUINDIO</td>\n",
       "      <td>306.38</td>\n",
       "      <td>0.832</td>\n",
       "      <td>PERFIL PROMOCIONAL</td>\n",
       "      <td>PERFIL</td>\n",
       "      <td>2019-05-14</td>\n",
       "      <td>Promocion</td>\n",
       "      <td>ACTIVA</td>\n",
       "      <td>SD</td>\n",
       "      <td>SD</td>\n",
       "      <td>CAUCA</td>\n",
       "      <td>1</td>\n",
       "      <td>1</td>\n",
       "      <td>0</td>\n",
       "      <td>0</td>\n",
       "      <td>0</td>\n",
       "      <td>1</td>\n",
       "      <td>0</td>\n",
       "      <td>0</td>\n",
       "      <td>0</td>\n",
       "      <td>1</td>\n",
       "      <td>0</td>\n",
       "      <td>0</td>\n",
       "      <td>0</td>\n",
       "      <td>0</td>\n",
       "      <td>0</td>\n",
       "      <td>0</td>\n",
       "      <td>0</td>\n",
       "      <td>0</td>\n",
       "      <td>0</td>\n",
       "      <td>1</td>\n",
       "    </tr>\n",
       "    <tr>\n",
       "      <th>2</th>\n",
       "      <td>7718778</td>\n",
       "      <td>PJ</td>\n",
       "      <td>2019-09-04</td>\n",
       "      <td>7</td>\n",
       "      <td>NoApl</td>\n",
       "      <td>0</td>\n",
       "      <td>NoApl</td>\n",
       "      <td>0</td>\n",
       "      <td>GOOHOTYAHMAIL</td>\n",
       "      <td>1</td>\n",
       "      <td>NO_PUBLICO</td>\n",
       "      <td>1</td>\n",
       "      <td>COLOMBIA</td>\n",
       "      <td>Bolivar</td>\n",
       "      <td>Ingreso mediano alto</td>\n",
       "      <td>0.767</td>\n",
       "      <td>Alto</td>\n",
       "      <td>SOC_COMERCIAL_INDUSTRIAL</td>\n",
       "      <td>MC</td>\n",
       "      <td>ACTIVA</td>\n",
       "      <td>COMERCIO AL POR MAYOR Y AL POR MENOR; REPARACI...</td>\n",
       "      <td>TERCIARIO</td>\n",
       "      <td>ATLANTICO</td>\n",
       "      <td>815.17</td>\n",
       "      <td>0.835</td>\n",
       "      <td>PERFIL PROMOCIONAL</td>\n",
       "      <td>PERFIL</td>\n",
       "      <td>2019-09-04</td>\n",
       "      <td>Promocion</td>\n",
       "      <td>ACTIVA</td>\n",
       "      <td>COMERCIO AL POR MAYOR Y AL POR MENOR; REPARACI...</td>\n",
       "      <td>TERCIARIO</td>\n",
       "      <td>BOGOTA</td>\n",
       "      <td>1</td>\n",
       "      <td>1</td>\n",
       "      <td>0</td>\n",
       "      <td>0</td>\n",
       "      <td>0</td>\n",
       "      <td>1</td>\n",
       "      <td>0</td>\n",
       "      <td>0</td>\n",
       "      <td>0</td>\n",
       "      <td>1</td>\n",
       "      <td>0</td>\n",
       "      <td>0</td>\n",
       "      <td>0</td>\n",
       "      <td>0</td>\n",
       "      <td>0</td>\n",
       "      <td>0</td>\n",
       "      <td>1</td>\n",
       "      <td>0</td>\n",
       "      <td>0</td>\n",
       "      <td>0</td>\n",
       "    </tr>\n",
       "    <tr>\n",
       "      <th>3</th>\n",
       "      <td>7952765</td>\n",
       "      <td>PF</td>\n",
       "      <td>2019-12-08</td>\n",
       "      <td>3</td>\n",
       "      <td>NoApl</td>\n",
       "      <td>0</td>\n",
       "      <td>NoApl</td>\n",
       "      <td>0</td>\n",
       "      <td>DOCENTE</td>\n",
       "      <td>1</td>\n",
       "      <td>NO_PUBLICO</td>\n",
       "      <td>1</td>\n",
       "      <td>COLOMBIA</td>\n",
       "      <td>Risaralda</td>\n",
       "      <td>Ingreso mediano alto</td>\n",
       "      <td>0.767</td>\n",
       "      <td>Alto</td>\n",
       "      <td>NoApl</td>\n",
       "      <td>NoApl</td>\n",
       "      <td>NoApl</td>\n",
       "      <td>NoApl</td>\n",
       "      <td>NoApl</td>\n",
       "      <td>NOAPL</td>\n",
       "      <td>NOAPL</td>\n",
       "      <td>NOAPL</td>\n",
       "      <td>PERFIL PROMOCIONAL</td>\n",
       "      <td>PERFIL</td>\n",
       "      <td>2019-12-08</td>\n",
       "      <td>Promocion</td>\n",
       "      <td>ACTIVA</td>\n",
       "      <td>ACTIVIDADES PROFESIONALES, CIENTÍFICAS Y TÉCNICAS</td>\n",
       "      <td>CUATERNARIO</td>\n",
       "      <td>RISARALDA</td>\n",
       "      <td>1</td>\n",
       "      <td>1</td>\n",
       "      <td>0</td>\n",
       "      <td>0</td>\n",
       "      <td>0</td>\n",
       "      <td>1</td>\n",
       "      <td>0</td>\n",
       "      <td>0</td>\n",
       "      <td>0</td>\n",
       "      <td>1</td>\n",
       "      <td>0</td>\n",
       "      <td>0</td>\n",
       "      <td>0</td>\n",
       "      <td>0</td>\n",
       "      <td>0</td>\n",
       "      <td>0</td>\n",
       "      <td>0</td>\n",
       "      <td>1</td>\n",
       "      <td>0</td>\n",
       "      <td>0</td>\n",
       "    </tr>\n",
       "    <tr>\n",
       "      <th>4</th>\n",
       "      <td>7855424</td>\n",
       "      <td>PJ</td>\n",
       "      <td>2019-06-21</td>\n",
       "      <td>7</td>\n",
       "      <td>NoApl</td>\n",
       "      <td>0</td>\n",
       "      <td>NoApl</td>\n",
       "      <td>0</td>\n",
       "      <td>GOOHOTYAHMAIL</td>\n",
       "      <td>1</td>\n",
       "      <td>NO_PUBLICO</td>\n",
       "      <td>1</td>\n",
       "      <td>COLOMBIA</td>\n",
       "      <td>Atlántico</td>\n",
       "      <td>Ingreso mediano alto</td>\n",
       "      <td>0.767</td>\n",
       "      <td>Alto</td>\n",
       "      <td>EMPRESARIO INDIVIDUAL</td>\n",
       "      <td>MC</td>\n",
       "      <td>INACTIVA</td>\n",
       "      <td>ACTIVIDADES DE SERVICIOS ADMINISTRATIVOS Y DE ...</td>\n",
       "      <td>TERCIARIO</td>\n",
       "      <td>ATLANTICO</td>\n",
       "      <td>815.17</td>\n",
       "      <td>0.835</td>\n",
       "      <td>PERFIL PROMOCIONAL</td>\n",
       "      <td>PERFIL</td>\n",
       "      <td>2019-06-21</td>\n",
       "      <td>Promocion</td>\n",
       "      <td>ACTIVA</td>\n",
       "      <td>INDUSTRIAS MANUFACTURERAS</td>\n",
       "      <td>SECUNDARIO</td>\n",
       "      <td>ATLANTICO</td>\n",
       "      <td>1</td>\n",
       "      <td>1</td>\n",
       "      <td>0</td>\n",
       "      <td>0</td>\n",
       "      <td>0</td>\n",
       "      <td>1</td>\n",
       "      <td>0</td>\n",
       "      <td>0</td>\n",
       "      <td>0</td>\n",
       "      <td>1</td>\n",
       "      <td>0</td>\n",
       "      <td>0</td>\n",
       "      <td>0</td>\n",
       "      <td>0</td>\n",
       "      <td>0</td>\n",
       "      <td>1</td>\n",
       "      <td>0</td>\n",
       "      <td>0</td>\n",
       "      <td>0</td>\n",
       "      <td>0</td>\n",
       "    </tr>\n",
       "  </tbody>\n",
       "</table>\n",
       "</div>"
      ],
      "text/plain": [
       "   ID_USUARIO TIPOUSUARIO FECHA_REGISTRO  CANAL_REGISTRO FECHA_ALTA  IND_ALTA  \\\n",
       "0     8107310          PF     2019-10-22               3      NoApl         0   \n",
       "1     7784565          PJ     2019-05-14               3      NoApl         0   \n",
       "2     7718778          PJ     2019-09-04               7      NoApl         0   \n",
       "3     7952765          PF     2019-12-08               3      NoApl         0   \n",
       "4     7855424          PJ     2019-06-21               7      NoApl         0   \n",
       "\n",
       "  FECHA_CLIENTE  IND_CLIENTE      TIPOEMAIL  BONDAD_EMAIL   TIPO_TELF  \\\n",
       "0         NoApl            0  GOOHOTYAHMAIL             0  NO_PUBLICO   \n",
       "1         NoApl            0  GOOHOTYAHMAIL             1  NO_PUBLICO   \n",
       "2         NoApl            0  GOOHOTYAHMAIL             1  NO_PUBLICO   \n",
       "3         NoApl            0        DOCENTE             1  NO_PUBLICO   \n",
       "4         NoApl            0  GOOHOTYAHMAIL             1  NO_PUBLICO   \n",
       "\n",
       "   IPCASOS IP_COUNTRY        IP_REGION        IP_COUNTRY_PIB  \\\n",
       "0        1   COLOMBIA  Valle del Cauca  Ingreso mediano alto   \n",
       "1        1   COLOMBIA        Antioquia  Ingreso mediano alto   \n",
       "2        1   COLOMBIA          Bolivar  Ingreso mediano alto   \n",
       "3        1   COLOMBIA        Risaralda  Ingreso mediano alto   \n",
       "4        1   COLOMBIA        Atlántico  Ingreso mediano alto   \n",
       "\n",
       "  IP_COUNTRY_IDH_NUM IP_COUNTRY_IDH_GROUP                  USU_TIPO  \\\n",
       "0              0.767                 Alto                     NoApl   \n",
       "1              0.767                 Alto  SOC_COMERCIAL_INDUSTRIAL   \n",
       "2              0.767                 Alto  SOC_COMERCIAL_INDUSTRIAL   \n",
       "3              0.767                 Alto                     NoApl   \n",
       "4              0.767                 Alto     EMPRESARIO INDIVIDUAL   \n",
       "\n",
       "  USU_TAMANIO USU_ESTADO                                   USU_SECCION_DESC  \\\n",
       "0       NoApl      NoApl                                              NoApl   \n",
       "1          PQ     ACTIVA  ACTIVIDADES DE SERVICIOS ADMINISTRATIVOS Y DE ...   \n",
       "2          MC     ACTIVA  COMERCIO AL POR MAYOR Y AL POR MENOR; REPARACI...   \n",
       "3       NoApl      NoApl                                              NoApl   \n",
       "4          MC   INACTIVA  ACTIVIDADES DE SERVICIOS ADMINISTRATIVOS Y DE ...   \n",
       "\n",
       "  USU_SECTOR_ECONOMICO USU_DEPARTAMENTO USU_DEPART_DEN_POB USU_DEPART_IDH  \\\n",
       "0                NoApl            NOAPL              NOAPL          NOAPL   \n",
       "1            TERCIARIO          QUINDIO             306.38          0.832   \n",
       "2            TERCIARIO        ATLANTICO             815.17          0.835   \n",
       "3                NoApl            NOAPL              NOAPL          NOAPL   \n",
       "4            TERCIARIO        ATLANTICO             815.17          0.835   \n",
       "\n",
       "  1A_CONS_DESCPRODUCTO 1A_CONS_DESCGRUPOPROD 1A_CONS_FECHACONSUMO  \\\n",
       "0   PERFIL PROMOCIONAL                PERFIL           2019-10-22   \n",
       "1   PERFIL PROMOCIONAL                PERFIL           2019-05-14   \n",
       "2   PERFIL PROMOCIONAL                PERFIL           2019-09-04   \n",
       "3   PERFIL PROMOCIONAL                PERFIL           2019-12-08   \n",
       "4   PERFIL PROMOCIONAL                PERFIL           2019-06-21   \n",
       "\n",
       "  1A_CONS_TIPO_CONSUMO 1A_CONS_EMPCONSUL_EST  \\\n",
       "0            Promocion                ACTIVA   \n",
       "1            Promocion                ACTIVA   \n",
       "2            Promocion                ACTIVA   \n",
       "3            Promocion                ACTIVA   \n",
       "4            Promocion                ACTIVA   \n",
       "\n",
       "                      1A_CONS_EMPCONSUL_SECCION_DESC  \\\n",
       "0  COMERCIO AL POR MAYOR Y AL POR MENOR; REPARACI...   \n",
       "1                                                 SD   \n",
       "2  COMERCIO AL POR MAYOR Y AL POR MENOR; REPARACI...   \n",
       "3  ACTIVIDADES PROFESIONALES, CIENTÍFICAS Y TÉCNICAS   \n",
       "4                          INDUSTRIAS MANUFACTURERAS   \n",
       "\n",
       "  1A_CONS_EMPCONSUL_SECTOR_ECONOMICO 1A_CONS_EMPCONSUL_PROV  PROD_CONSUM_TOT  \\\n",
       "0                          TERCIARIO                  CAUCA                1   \n",
       "1                                 SD                  CAUCA                1   \n",
       "2                          TERCIARIO                 BOGOTA                1   \n",
       "3                        CUATERNARIO              RISARALDA                1   \n",
       "4                         SECUNDARIO              ATLANTICO                1   \n",
       "\n",
       "   PROMOCION_TOT  PAGO_TOT  FICH_BASIC_PROMO_TOT  FICH_AVANZADA_TOT  \\\n",
       "0              1         0                     0                  0   \n",
       "1              1         0                     0                  0   \n",
       "2              1         0                     0                  0   \n",
       "3              1         0                     0                  0   \n",
       "4              1         0                     0                  0   \n",
       "\n",
       "   PERFIL_TOT  MODU_INFORM_TOT  REPORTES_TOT  OTROS_TOT  EST_ACTIVA_TOT  \\\n",
       "0           1                0             0          0               1   \n",
       "1           1                0             0          0               1   \n",
       "2           1                0             0          0               1   \n",
       "3           1                0             0          0               1   \n",
       "4           1                0             0          0               1   \n",
       "\n",
       "   EST_INACTIVA_TOT  EST_REESTRUCT_TOT  EST_CLINTON_TOT  EST_NI_TOT  \\\n",
       "0                 0                  0                0           0   \n",
       "1                 0                  0                0           0   \n",
       "2                 0                  0                0           0   \n",
       "3                 0                  0                0           0   \n",
       "4                 0                  0                0           0   \n",
       "\n",
       "   SECT_PRIM_TOT  SECT_SECU_TOT  SECT_TERC_TOT  SECT_CUAT_TOT  SECT_QUIN_TOT  \\\n",
       "0              0              0              1              0              0   \n",
       "1              0              0              0              0              0   \n",
       "2              0              0              1              0              0   \n",
       "3              0              0              0              1              0   \n",
       "4              0              1              0              0              0   \n",
       "\n",
       "   SECT_SD_TOT  \n",
       "0            0  \n",
       "1            1  \n",
       "2            0  \n",
       "3            0  \n",
       "4            0  "
      ]
     },
     "execution_count": 9,
     "metadata": {},
     "output_type": "execute_result"
    }
   ],
   "source": [
    "df.head(5)"
   ]
  },
  {
   "cell_type": "code",
   "execution_count": 10,
   "id": "matched-provision",
   "metadata": {},
   "outputs": [
    {
     "data": {
      "text/plain": [
       "ID_USUARIO                            0\n",
       "TIPOUSUARIO                           0\n",
       "FECHA_REGISTRO                        0\n",
       "CANAL_REGISTRO                        0\n",
       "FECHA_ALTA                            0\n",
       "IND_ALTA                              0\n",
       "FECHA_CLIENTE                         0\n",
       "IND_CLIENTE                           0\n",
       "TIPOEMAIL                             0\n",
       "BONDAD_EMAIL                          0\n",
       "TIPO_TELF                             0\n",
       "IPCASOS                               0\n",
       "IP_COUNTRY                            0\n",
       "IP_REGION                             0\n",
       "IP_COUNTRY_PIB                        0\n",
       "IP_COUNTRY_IDH_NUM                    0\n",
       "IP_COUNTRY_IDH_GROUP                  0\n",
       "USU_TIPO                              0\n",
       "USU_TAMANIO                           0\n",
       "USU_ESTADO                            0\n",
       "USU_SECCION_DESC                      0\n",
       "USU_SECTOR_ECONOMICO                  0\n",
       "USU_DEPARTAMENTO                      0\n",
       "USU_DEPART_DEN_POB                    0\n",
       "USU_DEPART_IDH                        0\n",
       "1A_CONS_DESCPRODUCTO                  0\n",
       "1A_CONS_DESCGRUPOPROD                 0\n",
       "1A_CONS_FECHACONSUMO                  0\n",
       "1A_CONS_TIPO_CONSUMO                  0\n",
       "1A_CONS_EMPCONSUL_EST                 0\n",
       "1A_CONS_EMPCONSUL_SECCION_DESC        0\n",
       "1A_CONS_EMPCONSUL_SECTOR_ECONOMICO    0\n",
       "1A_CONS_EMPCONSUL_PROV                0\n",
       "PROD_CONSUM_TOT                       0\n",
       "PROMOCION_TOT                         0\n",
       "PAGO_TOT                              0\n",
       "FICH_BASIC_PROMO_TOT                  0\n",
       "FICH_AVANZADA_TOT                     0\n",
       "PERFIL_TOT                            0\n",
       "MODU_INFORM_TOT                       0\n",
       "REPORTES_TOT                          0\n",
       "OTROS_TOT                             0\n",
       "EST_ACTIVA_TOT                        0\n",
       "EST_INACTIVA_TOT                      0\n",
       "EST_REESTRUCT_TOT                     0\n",
       "EST_CLINTON_TOT                       0\n",
       "EST_NI_TOT                            0\n",
       "SECT_PRIM_TOT                         0\n",
       "SECT_SECU_TOT                         0\n",
       "SECT_TERC_TOT                         0\n",
       "SECT_CUAT_TOT                         0\n",
       "SECT_QUIN_TOT                         0\n",
       "SECT_SD_TOT                           0\n",
       "dtype: int64"
      ]
     },
     "execution_count": 10,
     "metadata": {},
     "output_type": "execute_result"
    }
   ],
   "source": [
    "df.isna().sum()"
   ]
  },
  {
   "cell_type": "markdown",
   "id": "circular-publication",
   "metadata": {},
   "source": [
    "-------------------"
   ]
  },
  {
   "cell_type": "markdown",
   "id": "desirable-ireland",
   "metadata": {},
   "source": [
    "### Creación de nuevas variables"
   ]
  },
  {
   "cell_type": "markdown",
   "id": "passive-attendance",
   "metadata": {},
   "source": [
    "En este apartado trabajaremos con las variables del dataframe de forma que se tengan nuevas variables."
   ]
  },
  {
   "cell_type": "markdown",
   "id": "visible-association",
   "metadata": {},
   "source": [
    "**1. Extración de información sobre Fechas**"
   ]
  },
  {
   "cell_type": "markdown",
   "id": "manufactured-personal",
   "metadata": {},
   "source": [
    "Tenemos un total de hasta 4 Fechas en el dataset:\n",
    "* FECHA_REGISTRO\n",
    "* FECHA_ALTA\n",
    "* FECHA_CLIENTE\n",
    "* 1A_CONS_FECHACONSUMO\n",
    "\n",
    "De cada variable indicada se generará la siguiente información:\n",
    "- `business_day`: Si el día es laboral o no\n",
    "- `weekday`: Variable categórica con el día de la semana"
   ]
  },
  {
   "cell_type": "markdown",
   "id": "bottom-coverage",
   "metadata": {},
   "source": [
    "**Transformacion de business_day**"
   ]
  },
  {
   "cell_type": "code",
   "execution_count": 11,
   "id": "stopped-sherman",
   "metadata": {},
   "outputs": [],
   "source": [
    "def is_business_day(date):\n",
    "    try:\n",
    "        return bool(len(pd.bdate_range(date, date)))\n",
    "    except:\n",
    "        s = 1"
   ]
  },
  {
   "cell_type": "code",
   "execution_count": 12,
   "id": "behavioral-figure",
   "metadata": {},
   "outputs": [],
   "source": [
    "df['FECHA_REGISTRO_BUSINESS_DAY'] = df['FECHA_REGISTRO'].apply(is_business_day).fillna(-1)\n",
    "df['FECHA_REGISTRO_BUSINESS_DAY'] = df['FECHA_REGISTRO_BUSINESS_DAY'].astype(int)"
   ]
  },
  {
   "cell_type": "code",
   "execution_count": 13,
   "id": "considerable-reform",
   "metadata": {},
   "outputs": [],
   "source": [
    "df['FECHA_ALTA_BUSINESS_DAY'] = df['FECHA_ALTA'].apply(is_business_day).fillna(-1)\n",
    "df['FECHA_ALTA_BUSINESS_DAY'] = df['FECHA_ALTA_BUSINESS_DAY'].astype(int)"
   ]
  },
  {
   "cell_type": "code",
   "execution_count": 14,
   "id": "overall-dispatch",
   "metadata": {},
   "outputs": [],
   "source": [
    "df['FECHA_CLIENTE_BUSINESS_DAY'] = df['FECHA_CLIENTE'].apply(is_business_day).fillna(-1)\n",
    "df['FECHA_CLIENTE_BUSINESS_DAY'] = df['FECHA_CLIENTE_BUSINESS_DAY'].astype(int)"
   ]
  },
  {
   "cell_type": "code",
   "execution_count": 15,
   "id": "agricultural-forwarding",
   "metadata": {},
   "outputs": [],
   "source": [
    "df['FECHACONSUMO_BUSINESS_DAY'] = df['1A_CONS_FECHACONSUMO'].apply(is_business_day).fillna(-1)\n",
    "df['FECHACONSUMO_BUSINESS_DAY'] = df['FECHACONSUMO_BUSINESS_DAY'].astype(int)"
   ]
  },
  {
   "cell_type": "markdown",
   "id": "above-progressive",
   "metadata": {},
   "source": [
    "Comprobación"
   ]
  },
  {
   "cell_type": "code",
   "execution_count": 16,
   "id": "plain-membership",
   "metadata": {},
   "outputs": [
    {
     "data": {
      "text/plain": [
       "1    298034\n",
       "0     69598\n",
       "Name: FECHA_REGISTRO_BUSINESS_DAY, dtype: int64"
      ]
     },
     "execution_count": 16,
     "metadata": {},
     "output_type": "execute_result"
    }
   ],
   "source": [
    "df['FECHA_REGISTRO_BUSINESS_DAY'].value_counts()"
   ]
  },
  {
   "cell_type": "code",
   "execution_count": 17,
   "id": "silver-drawing",
   "metadata": {},
   "outputs": [
    {
     "data": {
      "text/plain": [
       "-1    363923\n",
       " 1      3073\n",
       " 0       636\n",
       "Name: FECHA_ALTA_BUSINESS_DAY, dtype: int64"
      ]
     },
     "execution_count": 17,
     "metadata": {},
     "output_type": "execute_result"
    }
   ],
   "source": [
    "df['FECHA_ALTA_BUSINESS_DAY'].value_counts()"
   ]
  },
  {
   "cell_type": "code",
   "execution_count": 18,
   "id": "academic-connectivity",
   "metadata": {},
   "outputs": [
    {
     "data": {
      "text/plain": [
       "-1    365018\n",
       " 1      2177\n",
       " 0       437\n",
       "Name: FECHA_CLIENTE_BUSINESS_DAY, dtype: int64"
      ]
     },
     "execution_count": 18,
     "metadata": {},
     "output_type": "execute_result"
    }
   ],
   "source": [
    "df['FECHA_CLIENTE_BUSINESS_DAY'].value_counts()"
   ]
  },
  {
   "cell_type": "code",
   "execution_count": 19,
   "id": "continued-kinase",
   "metadata": {},
   "outputs": [
    {
     "data": {
      "text/plain": [
       "1    297996\n",
       "0     69636\n",
       "Name: FECHACONSUMO_BUSINESS_DAY, dtype: int64"
      ]
     },
     "execution_count": 19,
     "metadata": {},
     "output_type": "execute_result"
    }
   ],
   "source": [
    "df['FECHACONSUMO_BUSINESS_DAY'].value_counts()"
   ]
  },
  {
   "cell_type": "markdown",
   "id": "oriented-italian",
   "metadata": {},
   "source": [
    "**Transformacion de weekday**"
   ]
  },
  {
   "cell_type": "code",
   "execution_count": 20,
   "id": "sitting-purpose",
   "metadata": {},
   "outputs": [],
   "source": [
    "df.loc[df['FECHA_REGISTRO'] == 'NoApl', 'FECHA_REGISTRO'] = None\n",
    "df['FECHA_REGISTRO'] = pd.to_datetime(df['FECHA_REGISTRO'])\n",
    "df['FECHA_REGISTRO_WEEKDAY'] = df['FECHA_REGISTRO'].dt.weekday\n",
    "df['FECHA_REGISTRO_WEEKDAY'] = df['FECHA_REGISTRO_WEEKDAY'].fillna(-1)\n",
    "df['FECHA_REGISTRO_WEEKDAY'] = df['FECHA_REGISTRO_WEEKDAY'].astype('int')"
   ]
  },
  {
   "cell_type": "code",
   "execution_count": 21,
   "id": "nonprofit-london",
   "metadata": {},
   "outputs": [
    {
     "data": {
      "text/plain": [
       "2    63276\n",
       "3    62309\n",
       "1    60793\n",
       "0    59505\n",
       "4    52151\n",
       "5    37780\n",
       "6    31818\n",
       "Name: FECHA_REGISTRO_WEEKDAY, dtype: int64"
      ]
     },
     "execution_count": 21,
     "metadata": {},
     "output_type": "execute_result"
    }
   ],
   "source": [
    "df['FECHA_REGISTRO_WEEKDAY'].value_counts()"
   ]
  },
  {
   "cell_type": "code",
   "execution_count": 22,
   "id": "metric-montana",
   "metadata": {},
   "outputs": [],
   "source": [
    "df.loc[df['FECHA_ALTA'] == 'NoApl', 'FECHA_ALTA'] = None\n",
    "df['FECHA_ALTA'] = pd.to_datetime(df['FECHA_ALTA'])\n",
    "df['FECHA_ALTA_WEEKDAY'] = df['FECHA_ALTA'].dt.weekday\n",
    "df['FECHA_ALTA_WEEKDAY'] = df['FECHA_ALTA_WEEKDAY'].fillna(-1)\n",
    "df['FECHA_ALTA_WEEKDAY'] = df['FECHA_ALTA_WEEKDAY'].astype('int')"
   ]
  },
  {
   "cell_type": "code",
   "execution_count": 23,
   "id": "superb-absolute",
   "metadata": {},
   "outputs": [
    {
     "data": {
      "text/plain": [
       "-1    363923\n",
       " 2       670\n",
       " 1       661\n",
       " 0       621\n",
       " 3       598\n",
       " 4       523\n",
       " 6       322\n",
       " 5       314\n",
       "Name: FECHA_ALTA_WEEKDAY, dtype: int64"
      ]
     },
     "execution_count": 23,
     "metadata": {},
     "output_type": "execute_result"
    }
   ],
   "source": [
    "df['FECHA_ALTA_WEEKDAY'].value_counts()"
   ]
  },
  {
   "cell_type": "code",
   "execution_count": 24,
   "id": "under-cause",
   "metadata": {},
   "outputs": [],
   "source": [
    "df.loc[df['FECHA_CLIENTE'] == 'NoApl', 'FECHA_CLIENTE'] = None\n",
    "df['FECHA_CLIENTE'] = pd.to_datetime(df['FECHA_CLIENTE'])\n",
    "df['FECHA_CLIENTE_WEEKDAY'] = df['FECHA_CLIENTE'].dt.weekday\n",
    "df['FECHA_CLIENTE_WEEKDAY'] = df['FECHA_CLIENTE_WEEKDAY'].fillna(-1)\n",
    "df['FECHA_CLIENTE_WEEKDAY'] = df['FECHA_CLIENTE_WEEKDAY'].astype('int')"
   ]
  },
  {
   "cell_type": "code",
   "execution_count": 25,
   "id": "transparent-growth",
   "metadata": {},
   "outputs": [
    {
     "data": {
      "text/plain": [
       "-1    365018\n",
       " 1       470\n",
       " 2       458\n",
       " 3       449\n",
       " 0       432\n",
       " 4       368\n",
       " 5       225\n",
       " 6       212\n",
       "Name: FECHA_CLIENTE_WEEKDAY, dtype: int64"
      ]
     },
     "execution_count": 25,
     "metadata": {},
     "output_type": "execute_result"
    }
   ],
   "source": [
    "df['FECHA_CLIENTE_WEEKDAY'].value_counts()"
   ]
  },
  {
   "cell_type": "code",
   "execution_count": 26,
   "id": "extra-stack",
   "metadata": {},
   "outputs": [],
   "source": [
    "df.loc[df['1A_CONS_FECHACONSUMO'] == 'NoApl', '1A_CONS_FECHACONSUMO'] = None\n",
    "df['1A_CONS_FECHACONSUMO'] = pd.to_datetime(df['1A_CONS_FECHACONSUMO'])\n",
    "df['FECHACONSUMO_WEEKDAY'] = df['1A_CONS_FECHACONSUMO'].dt.weekday\n",
    "df['FECHACONSUMO_WEEKDAY'] = df['FECHACONSUMO_WEEKDAY'].fillna(-1)\n",
    "df['FECHACONSUMO_WEEKDAY'] = df['FECHACONSUMO_WEEKDAY'].astype('int')"
   ]
  },
  {
   "cell_type": "code",
   "execution_count": 27,
   "id": "specialized-margin",
   "metadata": {},
   "outputs": [
    {
     "data": {
      "text/plain": [
       "2    63237\n",
       "3    62398\n",
       "1    60852\n",
       "0    59420\n",
       "4    52089\n",
       "5    37909\n",
       "6    31727\n",
       "Name: FECHACONSUMO_WEEKDAY, dtype: int64"
      ]
     },
     "execution_count": 27,
     "metadata": {},
     "output_type": "execute_result"
    }
   ],
   "source": [
    "df['FECHACONSUMO_WEEKDAY'].value_counts()"
   ]
  },
  {
   "cell_type": "markdown",
   "id": "internal-uniform",
   "metadata": {},
   "source": [
    "**2. IP_CONTINENTE**"
   ]
  },
  {
   "cell_type": "markdown",
   "id": "optical-footage",
   "metadata": {},
   "source": [
    "Se creará una variable que agrupe por continente cada uno de los paises de la variable IP_COUNTRY"
   ]
  },
  {
   "cell_type": "code",
   "execution_count": 28,
   "id": "recorded-adoption",
   "metadata": {},
   "outputs": [
    {
     "data": {
      "text/plain": [
       "array(['COLOMBIA', 'NI', 'ESTADOS UNIDOS', 'SUIZA', 'PERU', 'REINO UNIDO',\n",
       "       'VENEZUELA', 'CHILE', 'ECUADOR', 'JAPON', 'ARGENTINA', 'PANAMA',\n",
       "       'FRANCIA', 'CAMERUN', 'ESPAÑA', 'CANADA', 'BRASIL', 'ESLOVENIA',\n",
       "       'ALEMANIA', 'MEXICO', 'AUSTRIA', 'PAISES BAJOS', 'URUGUAY',\n",
       "       'AUSTRALIA', 'COSTA RICA', 'SUECIA', 'ITALIA', 'FINLANDIA',\n",
       "       'CHINA', 'RUSIA', 'BOLIVIA', 'GUATEMALA', 'PARAGUAY', 'POLONIA',\n",
       "       'MALTA', 'EMIRATOS ARABES UNIDOS', 'SINGAPUR', 'PUERTO RICO',\n",
       "       'INDIA', 'BELGICA', 'ARUBA', 'HONG KONG', 'ANDORRA',\n",
       "       'REPUBLICA DOMINICANA', 'NORUEGA', 'ISRAEL', 'BELICE', 'JERSEY',\n",
       "       'REPUBLICA CHECA', 'NICARAGUA', 'CURACAO', 'BONAIRE', 'TAIWAN',\n",
       "       'TURQUIA', 'COREA', 'VIETNAM', 'CUBA', 'ARABIA SAUDITA', 'KUWAIT',\n",
       "       'QATAR', 'GUINEA ECUATORIAL', 'NUEVA ZELANDA', 'DINAMARCA',\n",
       "       'RUMANIA', 'HONDURAS', 'PORTUGAL', 'ANGOLA', 'UCRANIA', 'NIGERIA',\n",
       "       'CROACIA', 'TAILANDIA', 'LUXEMBURGO', 'IRLANDA', 'GUADALUPE',\n",
       "       'EL SALVADOR', 'MOLDAVIA', 'BARBADOS', 'BAHREIN'], dtype=object)"
      ]
     },
     "execution_count": 28,
     "metadata": {},
     "output_type": "execute_result"
    }
   ],
   "source": [
    "df['IP_COUNTRY'].unique()"
   ]
  },
  {
   "cell_type": "code",
   "execution_count": 29,
   "id": "assigned-words",
   "metadata": {},
   "outputs": [],
   "source": [
    "df['IP_CONTINENTE'] = None"
   ]
  },
  {
   "cell_type": "code",
   "execution_count": 30,
   "id": "frozen-orleans",
   "metadata": {},
   "outputs": [],
   "source": [
    "# EUROPA\n",
    "df.loc[(df['IP_COUNTRY'].isin(['SUIZA','REINO UNIDO','FRANCIA','ESPAÑA','ESLOVENIA','ALEMANIA','AUSTRIA','PAISES BAJOS',\n",
    "                               'SUECIA','ITALIA','FINLANDIA','RUSIA','POLONIA','MALTA','BELGICA','ANDORRA','NORUEGA',\n",
    "                               'JERSEY','REPUBLICA CHECA','DINAMARCA','RUMANIA','PORTUGAL','UCRANIA','CROACIA','LUXEMBURGO', \n",
    "                               'IRLANDA','MOLDAVIA'])), 'IP_CONTINENTE'] = 'EUROPA'\n",
    "\n",
    "# ASIA\n",
    "df.loc[(df['IP_COUNTRY'].isin(['JAPON','CHINA','EMIRATOS ARABES UNIDOS','SINGAPUR','INDIA','HONG KONG','ISRAEL',\n",
    "                               'TAIWAN','BAHREIN','TAILANDIA','COREA','TURQUIA','VIETNAM','ARABIA SAUDITA', \n",
    "                               'KUWAIT','QATAR'])), 'IP_CONTINENTE'] = 'ASIA'\n",
    "\n",
    "# AFRICA\n",
    "df.loc[(df['IP_COUNTRY'].isin(['CAMERUN','GUINEA ECUATORIAL','ANGOLA','NIGERIA'])), 'IP_CONTINENTE'] = 'AFRICA'\n",
    "\n",
    "# OCEANNIA\n",
    "df.loc[(df['IP_COUNTRY'].isin(['AUSTRALIA','NUEVA ZELANDA'])), 'IP_CONTINENTE'] = 'OCEANNIA'\n",
    "\n",
    "# AMERICA DEL SUR\n",
    "df.loc[(df['IP_COUNTRY'].isin(['COLOMBIA','PERU','VENEZUELA','CHILE','ECUADOR','ARGENTINA','BRASIL','URUGUAY',\n",
    "                               'BOLIVIA','PARAGUAY','ARUBA','CURACAO','BONAIRE'])), 'IP_CONTINENTE'] = 'AMERICA_SUR'\n",
    "\n",
    "# AMERICA DEL NORTE\n",
    "df.loc[(df['IP_COUNTRY'].isin(['ESTADOS UNIDOS','PANAMA','CANADA','MEXICO','COSTA RICA','GUATEMALA','PUERTO RICO',\n",
    "                               'REPUBLICA DOMINICANA','BELICE','NICARAGUA','BARBADOS','CUBA','HONDURAS','GUADALUPE',\n",
    "                               'EL SALVADOR'])), 'IP_CONTINENTE'] = 'AMERICA_NORTE'\n",
    "\n",
    "# NO IDENTIFICADO\n",
    "df.loc[(df['IP_COUNTRY'].isin(['NI'])), 'IP_CONTINENTE'] = 'NI'"
   ]
  },
  {
   "cell_type": "code",
   "execution_count": 31,
   "id": "labeled-forum",
   "metadata": {},
   "outputs": [
    {
     "data": {
      "text/plain": [
       "AMERICA_SUR      341936\n",
       "NI                21759\n",
       "AMERICA_NORTE      3165\n",
       "EUROPA              612\n",
       "ASIA                122\n",
       "OCEANNIA             34\n",
       "AFRICA                4\n",
       "Name: IP_CONTINENTE, dtype: int64"
      ]
     },
     "execution_count": 31,
     "metadata": {},
     "output_type": "execute_result"
    }
   ],
   "source": [
    "df['IP_CONTINENTE'].value_counts()"
   ]
  },
  {
   "cell_type": "code",
   "execution_count": 32,
   "id": "intended-parliament",
   "metadata": {},
   "outputs": [
    {
     "data": {
      "text/plain": [
       "array(['AMERICA_SUR', 'NI', 'AMERICA_NORTE', 'EUROPA', 'ASIA', 'AFRICA',\n",
       "       'OCEANNIA'], dtype=object)"
      ]
     },
     "execution_count": 32,
     "metadata": {},
     "output_type": "execute_result"
    }
   ],
   "source": [
    "df['IP_CONTINENTE'].unique()"
   ]
  },
  {
   "cell_type": "markdown",
   "id": "lightweight-postcard",
   "metadata": {},
   "source": [
    "**3. IP_COLOMBIA**"
   ]
  },
  {
   "cell_type": "markdown",
   "id": "relevant-reply",
   "metadata": {},
   "source": [
    "La siguiente variable nos informa de si la ip del registro se realiza desde colombia (mismo lugar perteneciente al ecommerce) o no\n",
    "* 1: La IP es desde Colombia\n",
    "* 0: Caso Contrario"
   ]
  },
  {
   "cell_type": "code",
   "execution_count": 33,
   "id": "similar-virginia",
   "metadata": {},
   "outputs": [],
   "source": [
    "df['IP_COLOMBIA'] = None"
   ]
  },
  {
   "cell_type": "code",
   "execution_count": 34,
   "id": "missing-complement",
   "metadata": {},
   "outputs": [],
   "source": [
    "df.loc[(df['IP_COUNTRY'].isin(['COLOMBIA'])), 'IP_COLOMBIA'] = 1\n",
    "df.loc[(~df['IP_COUNTRY'].isin(['COLOMBIA'])), 'IP_COLOMBIA'] = 0"
   ]
  },
  {
   "cell_type": "code",
   "execution_count": 35,
   "id": "desirable-narrow",
   "metadata": {},
   "outputs": [
    {
     "data": {
      "text/plain": [
       "1    340300\n",
       "0     27332\n",
       "Name: IP_COLOMBIA, dtype: int64"
      ]
     },
     "execution_count": 35,
     "metadata": {},
     "output_type": "execute_result"
    }
   ],
   "source": [
    "df['IP_COLOMBIA'].value_counts()"
   ]
  },
  {
   "cell_type": "markdown",
   "id": "geographic-paintball",
   "metadata": {},
   "source": [
    "**4. EMAIL_PERSONAL**"
   ]
  },
  {
   "cell_type": "markdown",
   "id": "quick-hamburg",
   "metadata": {},
   "source": [
    "Con esta variable se pretende crear un indicador que informe si el correo electrónico es personal o no"
   ]
  },
  {
   "cell_type": "code",
   "execution_count": 36,
   "id": "competitive-terrace",
   "metadata": {},
   "outputs": [
    {
     "data": {
      "text/plain": [
       "array(['GOOHOTYAHMAIL', 'DOCENTE', 'CORPORATIVO', 'TEMPORAL',\n",
       "       'SINCLASIFICAR', 'ADMINISTRACION'], dtype=object)"
      ]
     },
     "execution_count": 36,
     "metadata": {},
     "output_type": "execute_result"
    }
   ],
   "source": [
    "df['TIPOEMAIL'].unique()"
   ]
  },
  {
   "cell_type": "code",
   "execution_count": 37,
   "id": "invalid-ordinary",
   "metadata": {},
   "outputs": [
    {
     "data": {
      "text/plain": [
       "GOOHOTYAHMAIL     289526\n",
       "CORPORATIVO        33859\n",
       "SINCLASIFICAR      20502\n",
       "DOCENTE            16362\n",
       "TEMPORAL            6943\n",
       "ADMINISTRACION       440\n",
       "Name: TIPOEMAIL, dtype: int64"
      ]
     },
     "execution_count": 37,
     "metadata": {},
     "output_type": "execute_result"
    }
   ],
   "source": [
    "df['TIPOEMAIL'].value_counts()"
   ]
  },
  {
   "cell_type": "code",
   "execution_count": 38,
   "id": "talented-programmer",
   "metadata": {},
   "outputs": [],
   "source": [
    "df['EMAIL_PERSONAL'] = None\n",
    "\n",
    "df.loc[(df['TIPOEMAIL'].isin(['GOOHOTYAHMAIL'])), 'EMAIL_PERSONAL'] = 1\n",
    "df.loc[(~df['TIPOEMAIL'].isin(['GOOHOTYAHMAIL'])), 'EMAIL_PERSONAL'] = 0"
   ]
  },
  {
   "cell_type": "code",
   "execution_count": 39,
   "id": "spectacular-victoria",
   "metadata": {},
   "outputs": [
    {
     "data": {
      "text/plain": [
       "1    289526\n",
       "0     78106\n",
       "Name: EMAIL_PERSONAL, dtype: int64"
      ]
     },
     "execution_count": 39,
     "metadata": {},
     "output_type": "execute_result"
    }
   ],
   "source": [
    "df['EMAIL_PERSONAL'].value_counts()"
   ]
  },
  {
   "cell_type": "markdown",
   "id": "auburn-sitting",
   "metadata": {},
   "source": [
    "**5. Indicador de fechas**"
   ]
  },
  {
   "cell_type": "markdown",
   "id": "listed-hawaii",
   "metadata": {},
   "source": [
    "Realizaremos indicadores de coincidencia de fechas"
   ]
  },
  {
   "cell_type": "markdown",
   "id": "authorized-graphic",
   "metadata": {},
   "source": [
    "**5.1** Fecha de registro == Fecha de Alta (cliente)\n",
    "\n",
    "* 1: Si\n",
    "* 0: No\n",
    "* -1: No aplica"
   ]
  },
  {
   "cell_type": "code",
   "execution_count": 40,
   "id": "arctic-fossil",
   "metadata": {},
   "outputs": [],
   "source": [
    "df['REGISTRO_ALTA'] = (df['FECHA_REGISTRO'] == df['FECHA_ALTA'])\n",
    "df['REGISTRO_ALTA'] = df['REGISTRO_ALTA'].apply(lambda x: int(x))\n",
    "df.loc[(df['FECHA_ALTA'].isna()), 'REGISTRO_ALTA'] = -1"
   ]
  },
  {
   "cell_type": "code",
   "execution_count": 41,
   "id": "serial-anniversary",
   "metadata": {},
   "outputs": [
    {
     "data": {
      "text/plain": [
       "-1    363923\n",
       " 1      2345\n",
       " 0      1364\n",
       "Name: REGISTRO_ALTA, dtype: int64"
      ]
     },
     "execution_count": 41,
     "metadata": {},
     "output_type": "execute_result"
    }
   ],
   "source": [
    "df['REGISTRO_ALTA'].value_counts()"
   ]
  },
  {
   "cell_type": "code",
   "execution_count": 42,
   "id": "occupied-fraction",
   "metadata": {},
   "outputs": [],
   "source": [
    "df['ALTA_CLIENTE'] = (df['FECHA_ALTA'] == df['FECHA_CLIENTE'])\n",
    "df['ALTA_CLIENTE'] = df['ALTA_CLIENTE'].apply(lambda x: int(x))\n",
    "df.loc[(df['FECHA_CLIENTE'].isna()), 'ALTA_CLIENTE'] = -1"
   ]
  },
  {
   "cell_type": "code",
   "execution_count": 43,
   "id": "cheap-thomas",
   "metadata": {},
   "outputs": [
    {
     "data": {
      "text/plain": [
       "-1    365018\n",
       " 1      2430\n",
       " 0       184\n",
       "Name: ALTA_CLIENTE, dtype: int64"
      ]
     },
     "execution_count": 43,
     "metadata": {},
     "output_type": "execute_result"
    }
   ],
   "source": [
    "df['ALTA_CLIENTE'].value_counts()"
   ]
  },
  {
   "cell_type": "code",
   "execution_count": 44,
   "id": "brilliant-henry",
   "metadata": {},
   "outputs": [],
   "source": [
    "df['CLIENTE_CONSUMO'] = (df['FECHA_CLIENTE'] == df['1A_CONS_FECHACONSUMO'])\n",
    "df['CLIENTE_CONSUMO'] = df['CLIENTE_CONSUMO'].apply(lambda x: int(x))\n",
    "df.loc[(df['FECHA_CLIENTE'].isna()), 'CLIENTE_CONSUMO'] = -1"
   ]
  },
  {
   "cell_type": "code",
   "execution_count": 45,
   "id": "multiple-census",
   "metadata": {},
   "outputs": [
    {
     "data": {
      "text/plain": [
       "-1    365018\n",
       " 0      1349\n",
       " 1      1265\n",
       "Name: CLIENTE_CONSUMO, dtype: int64"
      ]
     },
     "execution_count": 45,
     "metadata": {},
     "output_type": "execute_result"
    }
   ],
   "source": [
    "df['CLIENTE_CONSUMO'].value_counts()"
   ]
  },
  {
   "cell_type": "markdown",
   "id": "driving-directive",
   "metadata": {},
   "source": [
    "**6. meses de las fechas**"
   ]
  },
  {
   "cell_type": "code",
   "execution_count": 46,
   "id": "royal-marsh",
   "metadata": {},
   "outputs": [],
   "source": [
    "df.loc[df['FECHA_REGISTRO'] == 'NoApl', 'FECHA_REGISTRO'] = None\n",
    "df['FECHA_REGISTRO'] = pd.to_datetime(df['FECHA_REGISTRO'])\n",
    "df['FECHA_REGISTRO_MONTH'] = df['FECHA_REGISTRO'].dt.month\n",
    "df['FECHA_REGISTRO_MONTH'] = df['FECHA_REGISTRO_MONTH'].fillna(-1)\n",
    "df['FECHA_REGISTRO_MONTH'] = df['FECHA_REGISTRO_MONTH'].astype('int')"
   ]
  },
  {
   "cell_type": "code",
   "execution_count": 47,
   "id": "marked-reservoir",
   "metadata": {},
   "outputs": [
    {
     "data": {
      "text/plain": [
       "5     37687\n",
       "8     32403\n",
       "11    32106\n",
       "10    31948\n",
       "7     31585\n",
       "4     31532\n",
       "3     31481\n",
       "9     30927\n",
       "2     29900\n",
       "6     28172\n",
       "1     25343\n",
       "12    24548\n",
       "Name: FECHA_REGISTRO_MONTH, dtype: int64"
      ]
     },
     "execution_count": 47,
     "metadata": {},
     "output_type": "execute_result"
    }
   ],
   "source": [
    "df['FECHA_REGISTRO_MONTH'].value_counts()"
   ]
  },
  {
   "cell_type": "code",
   "execution_count": 48,
   "id": "excessive-canvas",
   "metadata": {},
   "outputs": [],
   "source": [
    "df.loc[df['FECHA_ALTA'] == 'NoApl', 'FECHA_ALTA'] = None\n",
    "df['FECHA_ALTA'] = pd.to_datetime(df['FECHA_ALTA'])\n",
    "df['FECHA_ALTA_MONTH'] = df['FECHA_ALTA'].dt.month\n",
    "df['FECHA_ALTA_MONTH'] = df['FECHA_ALTA_MONTH'].fillna(-1)\n",
    "df['FECHA_ALTA_MONTH'] = df['FECHA_ALTA_MONTH'].astype('int')"
   ]
  },
  {
   "cell_type": "code",
   "execution_count": 49,
   "id": "rental-freeware",
   "metadata": {},
   "outputs": [
    {
     "data": {
      "text/plain": [
       "-1     363923\n",
       " 11       374\n",
       " 7        369\n",
       " 8        340\n",
       " 10       338\n",
       " 5        337\n",
       " 9        328\n",
       " 4        297\n",
       " 6        278\n",
       " 1        275\n",
       " 2        265\n",
       " 3        255\n",
       " 12       253\n",
       "Name: FECHA_ALTA_MONTH, dtype: int64"
      ]
     },
     "execution_count": 49,
     "metadata": {},
     "output_type": "execute_result"
    }
   ],
   "source": [
    "df['FECHA_ALTA_MONTH'].value_counts()"
   ]
  },
  {
   "cell_type": "code",
   "execution_count": 50,
   "id": "italic-harassment",
   "metadata": {},
   "outputs": [],
   "source": [
    "df.loc[df['FECHA_CLIENTE'] == 'NoApl', 'FECHA_CLIENTE'] = None\n",
    "df['FECHA_CLIENTE'] = pd.to_datetime(df['FECHA_CLIENTE'])\n",
    "df['FECHA_CLIENTE_MONTH'] = df['FECHA_CLIENTE'].dt.month\n",
    "df['FECHA_CLIENTE_MONTH'] = df['FECHA_CLIENTE_MONTH'].fillna(-1)\n",
    "df['FECHA_CLIENTE_MONTH'] = df['FECHA_CLIENTE_MONTH'].astype('int')"
   ]
  },
  {
   "cell_type": "code",
   "execution_count": 51,
   "id": "dried-trailer",
   "metadata": {},
   "outputs": [
    {
     "data": {
      "text/plain": [
       "-1     365018\n",
       " 11       260\n",
       " 7        255\n",
       " 8        244\n",
       " 9        243\n",
       " 10       239\n",
       " 5        232\n",
       " 6        200\n",
       " 2        199\n",
       " 1        197\n",
       " 4        187\n",
       " 12       187\n",
       " 3        171\n",
       "Name: FECHA_CLIENTE_MONTH, dtype: int64"
      ]
     },
     "execution_count": 51,
     "metadata": {},
     "output_type": "execute_result"
    }
   ],
   "source": [
    "df['FECHA_CLIENTE_MONTH'].value_counts()"
   ]
  },
  {
   "cell_type": "code",
   "execution_count": 52,
   "id": "restricted-casting",
   "metadata": {},
   "outputs": [],
   "source": [
    "df.loc[df['1A_CONS_FECHACONSUMO'] == 'NoApl', '1A_CONS_FECHACONSUMO'] = None\n",
    "df['1A_CONS_FECHACONSUMO'] = pd.to_datetime(df['1A_CONS_FECHACONSUMO'])\n",
    "df['FECHACONSUMO_MONTH'] = df['1A_CONS_FECHACONSUMO'].dt.month\n",
    "df['FECHACONSUMO_MONTH'] = df['FECHACONSUMO_MONTH'].fillna(-1)\n",
    "df['FECHACONSUMO_MONTH'] = df['FECHACONSUMO_MONTH'].astype('int')"
   ]
  },
  {
   "cell_type": "code",
   "execution_count": 53,
   "id": "occupied-reggae",
   "metadata": {},
   "outputs": [
    {
     "data": {
      "text/plain": [
       "5     37886\n",
       "8     32161\n",
       "4     31837\n",
       "3     31819\n",
       "11    31636\n",
       "10    31568\n",
       "7     31472\n",
       "9     30630\n",
       "2     30446\n",
       "6     28258\n",
       "1     25989\n",
       "12    23930\n",
       "Name: FECHACONSUMO_MONTH, dtype: int64"
      ]
     },
     "execution_count": 53,
     "metadata": {},
     "output_type": "execute_result"
    }
   ],
   "source": [
    "df['FECHACONSUMO_MONTH'].value_counts()"
   ]
  },
  {
   "cell_type": "markdown",
   "id": "spiritual-beijing",
   "metadata": {},
   "source": [
    "------------"
   ]
  },
  {
   "cell_type": "markdown",
   "id": "wrong-tract",
   "metadata": {},
   "source": [
    "------------"
   ]
  },
  {
   "cell_type": "code",
   "execution_count": 54,
   "id": "individual-departure",
   "metadata": {},
   "outputs": [
    {
     "data": {
      "text/html": [
       "<div>\n",
       "<style scoped>\n",
       "    .dataframe tbody tr th:only-of-type {\n",
       "        vertical-align: middle;\n",
       "    }\n",
       "\n",
       "    .dataframe tbody tr th {\n",
       "        vertical-align: top;\n",
       "    }\n",
       "\n",
       "    .dataframe thead th {\n",
       "        text-align: right;\n",
       "    }\n",
       "</style>\n",
       "<table border=\"1\" class=\"dataframe\">\n",
       "  <thead>\n",
       "    <tr style=\"text-align: right;\">\n",
       "      <th></th>\n",
       "      <th>ID_USUARIO</th>\n",
       "      <th>TIPOUSUARIO</th>\n",
       "      <th>FECHA_REGISTRO</th>\n",
       "      <th>CANAL_REGISTRO</th>\n",
       "      <th>FECHA_ALTA</th>\n",
       "      <th>IND_ALTA</th>\n",
       "      <th>FECHA_CLIENTE</th>\n",
       "      <th>IND_CLIENTE</th>\n",
       "      <th>TIPOEMAIL</th>\n",
       "      <th>BONDAD_EMAIL</th>\n",
       "      <th>TIPO_TELF</th>\n",
       "      <th>IPCASOS</th>\n",
       "      <th>IP_COUNTRY</th>\n",
       "      <th>IP_REGION</th>\n",
       "      <th>IP_COUNTRY_PIB</th>\n",
       "      <th>IP_COUNTRY_IDH_NUM</th>\n",
       "      <th>IP_COUNTRY_IDH_GROUP</th>\n",
       "      <th>USU_TIPO</th>\n",
       "      <th>USU_TAMANIO</th>\n",
       "      <th>USU_ESTADO</th>\n",
       "      <th>USU_SECCION_DESC</th>\n",
       "      <th>USU_SECTOR_ECONOMICO</th>\n",
       "      <th>USU_DEPARTAMENTO</th>\n",
       "      <th>USU_DEPART_DEN_POB</th>\n",
       "      <th>USU_DEPART_IDH</th>\n",
       "      <th>1A_CONS_DESCPRODUCTO</th>\n",
       "      <th>1A_CONS_DESCGRUPOPROD</th>\n",
       "      <th>1A_CONS_FECHACONSUMO</th>\n",
       "      <th>1A_CONS_TIPO_CONSUMO</th>\n",
       "      <th>1A_CONS_EMPCONSUL_EST</th>\n",
       "      <th>1A_CONS_EMPCONSUL_SECCION_DESC</th>\n",
       "      <th>1A_CONS_EMPCONSUL_SECTOR_ECONOMICO</th>\n",
       "      <th>1A_CONS_EMPCONSUL_PROV</th>\n",
       "      <th>PROD_CONSUM_TOT</th>\n",
       "      <th>PROMOCION_TOT</th>\n",
       "      <th>PAGO_TOT</th>\n",
       "      <th>FICH_BASIC_PROMO_TOT</th>\n",
       "      <th>FICH_AVANZADA_TOT</th>\n",
       "      <th>PERFIL_TOT</th>\n",
       "      <th>MODU_INFORM_TOT</th>\n",
       "      <th>REPORTES_TOT</th>\n",
       "      <th>OTROS_TOT</th>\n",
       "      <th>EST_ACTIVA_TOT</th>\n",
       "      <th>EST_INACTIVA_TOT</th>\n",
       "      <th>EST_REESTRUCT_TOT</th>\n",
       "      <th>EST_CLINTON_TOT</th>\n",
       "      <th>EST_NI_TOT</th>\n",
       "      <th>SECT_PRIM_TOT</th>\n",
       "      <th>SECT_SECU_TOT</th>\n",
       "      <th>SECT_TERC_TOT</th>\n",
       "      <th>SECT_CUAT_TOT</th>\n",
       "      <th>SECT_QUIN_TOT</th>\n",
       "      <th>SECT_SD_TOT</th>\n",
       "      <th>FECHA_REGISTRO_BUSINESS_DAY</th>\n",
       "      <th>FECHA_ALTA_BUSINESS_DAY</th>\n",
       "      <th>FECHA_CLIENTE_BUSINESS_DAY</th>\n",
       "      <th>FECHACONSUMO_BUSINESS_DAY</th>\n",
       "      <th>FECHA_REGISTRO_WEEKDAY</th>\n",
       "      <th>FECHA_ALTA_WEEKDAY</th>\n",
       "      <th>FECHA_CLIENTE_WEEKDAY</th>\n",
       "      <th>FECHACONSUMO_WEEKDAY</th>\n",
       "      <th>IP_CONTINENTE</th>\n",
       "      <th>IP_COLOMBIA</th>\n",
       "      <th>EMAIL_PERSONAL</th>\n",
       "      <th>REGISTRO_ALTA</th>\n",
       "      <th>ALTA_CLIENTE</th>\n",
       "      <th>CLIENTE_CONSUMO</th>\n",
       "      <th>FECHA_REGISTRO_MONTH</th>\n",
       "      <th>FECHA_ALTA_MONTH</th>\n",
       "      <th>FECHA_CLIENTE_MONTH</th>\n",
       "      <th>FECHACONSUMO_MONTH</th>\n",
       "    </tr>\n",
       "  </thead>\n",
       "  <tbody>\n",
       "    <tr>\n",
       "      <th>0</th>\n",
       "      <td>8107310</td>\n",
       "      <td>PF</td>\n",
       "      <td>2019-10-22</td>\n",
       "      <td>3</td>\n",
       "      <td>NaT</td>\n",
       "      <td>0</td>\n",
       "      <td>NaT</td>\n",
       "      <td>0</td>\n",
       "      <td>GOOHOTYAHMAIL</td>\n",
       "      <td>0</td>\n",
       "      <td>NO_PUBLICO</td>\n",
       "      <td>1</td>\n",
       "      <td>COLOMBIA</td>\n",
       "      <td>Valle del Cauca</td>\n",
       "      <td>Ingreso mediano alto</td>\n",
       "      <td>0.767</td>\n",
       "      <td>Alto</td>\n",
       "      <td>NoApl</td>\n",
       "      <td>NoApl</td>\n",
       "      <td>NoApl</td>\n",
       "      <td>NoApl</td>\n",
       "      <td>NoApl</td>\n",
       "      <td>NOAPL</td>\n",
       "      <td>NOAPL</td>\n",
       "      <td>NOAPL</td>\n",
       "      <td>PERFIL PROMOCIONAL</td>\n",
       "      <td>PERFIL</td>\n",
       "      <td>2019-10-22</td>\n",
       "      <td>Promocion</td>\n",
       "      <td>ACTIVA</td>\n",
       "      <td>COMERCIO AL POR MAYOR Y AL POR MENOR; REPARACI...</td>\n",
       "      <td>TERCIARIO</td>\n",
       "      <td>CAUCA</td>\n",
       "      <td>1</td>\n",
       "      <td>1</td>\n",
       "      <td>0</td>\n",
       "      <td>0</td>\n",
       "      <td>0</td>\n",
       "      <td>1</td>\n",
       "      <td>0</td>\n",
       "      <td>0</td>\n",
       "      <td>0</td>\n",
       "      <td>1</td>\n",
       "      <td>0</td>\n",
       "      <td>0</td>\n",
       "      <td>0</td>\n",
       "      <td>0</td>\n",
       "      <td>0</td>\n",
       "      <td>0</td>\n",
       "      <td>1</td>\n",
       "      <td>0</td>\n",
       "      <td>0</td>\n",
       "      <td>0</td>\n",
       "      <td>1</td>\n",
       "      <td>-1</td>\n",
       "      <td>-1</td>\n",
       "      <td>1</td>\n",
       "      <td>1</td>\n",
       "      <td>-1</td>\n",
       "      <td>-1</td>\n",
       "      <td>1</td>\n",
       "      <td>AMERICA_SUR</td>\n",
       "      <td>1</td>\n",
       "      <td>1</td>\n",
       "      <td>-1</td>\n",
       "      <td>-1</td>\n",
       "      <td>-1</td>\n",
       "      <td>10</td>\n",
       "      <td>-1</td>\n",
       "      <td>-1</td>\n",
       "      <td>10</td>\n",
       "    </tr>\n",
       "    <tr>\n",
       "      <th>1</th>\n",
       "      <td>7784565</td>\n",
       "      <td>PJ</td>\n",
       "      <td>2019-05-14</td>\n",
       "      <td>3</td>\n",
       "      <td>NaT</td>\n",
       "      <td>0</td>\n",
       "      <td>NaT</td>\n",
       "      <td>0</td>\n",
       "      <td>GOOHOTYAHMAIL</td>\n",
       "      <td>1</td>\n",
       "      <td>NO_PUBLICO</td>\n",
       "      <td>1</td>\n",
       "      <td>COLOMBIA</td>\n",
       "      <td>Antioquia</td>\n",
       "      <td>Ingreso mediano alto</td>\n",
       "      <td>0.767</td>\n",
       "      <td>Alto</td>\n",
       "      <td>SOC_COMERCIAL_INDUSTRIAL</td>\n",
       "      <td>PQ</td>\n",
       "      <td>ACTIVA</td>\n",
       "      <td>ACTIVIDADES DE SERVICIOS ADMINISTRATIVOS Y DE ...</td>\n",
       "      <td>TERCIARIO</td>\n",
       "      <td>QUINDIO</td>\n",
       "      <td>306.38</td>\n",
       "      <td>0.832</td>\n",
       "      <td>PERFIL PROMOCIONAL</td>\n",
       "      <td>PERFIL</td>\n",
       "      <td>2019-05-14</td>\n",
       "      <td>Promocion</td>\n",
       "      <td>ACTIVA</td>\n",
       "      <td>SD</td>\n",
       "      <td>SD</td>\n",
       "      <td>CAUCA</td>\n",
       "      <td>1</td>\n",
       "      <td>1</td>\n",
       "      <td>0</td>\n",
       "      <td>0</td>\n",
       "      <td>0</td>\n",
       "      <td>1</td>\n",
       "      <td>0</td>\n",
       "      <td>0</td>\n",
       "      <td>0</td>\n",
       "      <td>1</td>\n",
       "      <td>0</td>\n",
       "      <td>0</td>\n",
       "      <td>0</td>\n",
       "      <td>0</td>\n",
       "      <td>0</td>\n",
       "      <td>0</td>\n",
       "      <td>0</td>\n",
       "      <td>0</td>\n",
       "      <td>0</td>\n",
       "      <td>1</td>\n",
       "      <td>1</td>\n",
       "      <td>-1</td>\n",
       "      <td>-1</td>\n",
       "      <td>1</td>\n",
       "      <td>1</td>\n",
       "      <td>-1</td>\n",
       "      <td>-1</td>\n",
       "      <td>1</td>\n",
       "      <td>AMERICA_SUR</td>\n",
       "      <td>1</td>\n",
       "      <td>1</td>\n",
       "      <td>-1</td>\n",
       "      <td>-1</td>\n",
       "      <td>-1</td>\n",
       "      <td>5</td>\n",
       "      <td>-1</td>\n",
       "      <td>-1</td>\n",
       "      <td>5</td>\n",
       "    </tr>\n",
       "    <tr>\n",
       "      <th>2</th>\n",
       "      <td>7718778</td>\n",
       "      <td>PJ</td>\n",
       "      <td>2019-09-04</td>\n",
       "      <td>7</td>\n",
       "      <td>NaT</td>\n",
       "      <td>0</td>\n",
       "      <td>NaT</td>\n",
       "      <td>0</td>\n",
       "      <td>GOOHOTYAHMAIL</td>\n",
       "      <td>1</td>\n",
       "      <td>NO_PUBLICO</td>\n",
       "      <td>1</td>\n",
       "      <td>COLOMBIA</td>\n",
       "      <td>Bolivar</td>\n",
       "      <td>Ingreso mediano alto</td>\n",
       "      <td>0.767</td>\n",
       "      <td>Alto</td>\n",
       "      <td>SOC_COMERCIAL_INDUSTRIAL</td>\n",
       "      <td>MC</td>\n",
       "      <td>ACTIVA</td>\n",
       "      <td>COMERCIO AL POR MAYOR Y AL POR MENOR; REPARACI...</td>\n",
       "      <td>TERCIARIO</td>\n",
       "      <td>ATLANTICO</td>\n",
       "      <td>815.17</td>\n",
       "      <td>0.835</td>\n",
       "      <td>PERFIL PROMOCIONAL</td>\n",
       "      <td>PERFIL</td>\n",
       "      <td>2019-09-04</td>\n",
       "      <td>Promocion</td>\n",
       "      <td>ACTIVA</td>\n",
       "      <td>COMERCIO AL POR MAYOR Y AL POR MENOR; REPARACI...</td>\n",
       "      <td>TERCIARIO</td>\n",
       "      <td>BOGOTA</td>\n",
       "      <td>1</td>\n",
       "      <td>1</td>\n",
       "      <td>0</td>\n",
       "      <td>0</td>\n",
       "      <td>0</td>\n",
       "      <td>1</td>\n",
       "      <td>0</td>\n",
       "      <td>0</td>\n",
       "      <td>0</td>\n",
       "      <td>1</td>\n",
       "      <td>0</td>\n",
       "      <td>0</td>\n",
       "      <td>0</td>\n",
       "      <td>0</td>\n",
       "      <td>0</td>\n",
       "      <td>0</td>\n",
       "      <td>1</td>\n",
       "      <td>0</td>\n",
       "      <td>0</td>\n",
       "      <td>0</td>\n",
       "      <td>1</td>\n",
       "      <td>-1</td>\n",
       "      <td>-1</td>\n",
       "      <td>1</td>\n",
       "      <td>2</td>\n",
       "      <td>-1</td>\n",
       "      <td>-1</td>\n",
       "      <td>2</td>\n",
       "      <td>AMERICA_SUR</td>\n",
       "      <td>1</td>\n",
       "      <td>1</td>\n",
       "      <td>-1</td>\n",
       "      <td>-1</td>\n",
       "      <td>-1</td>\n",
       "      <td>9</td>\n",
       "      <td>-1</td>\n",
       "      <td>-1</td>\n",
       "      <td>9</td>\n",
       "    </tr>\n",
       "    <tr>\n",
       "      <th>3</th>\n",
       "      <td>7952765</td>\n",
       "      <td>PF</td>\n",
       "      <td>2019-12-08</td>\n",
       "      <td>3</td>\n",
       "      <td>NaT</td>\n",
       "      <td>0</td>\n",
       "      <td>NaT</td>\n",
       "      <td>0</td>\n",
       "      <td>DOCENTE</td>\n",
       "      <td>1</td>\n",
       "      <td>NO_PUBLICO</td>\n",
       "      <td>1</td>\n",
       "      <td>COLOMBIA</td>\n",
       "      <td>Risaralda</td>\n",
       "      <td>Ingreso mediano alto</td>\n",
       "      <td>0.767</td>\n",
       "      <td>Alto</td>\n",
       "      <td>NoApl</td>\n",
       "      <td>NoApl</td>\n",
       "      <td>NoApl</td>\n",
       "      <td>NoApl</td>\n",
       "      <td>NoApl</td>\n",
       "      <td>NOAPL</td>\n",
       "      <td>NOAPL</td>\n",
       "      <td>NOAPL</td>\n",
       "      <td>PERFIL PROMOCIONAL</td>\n",
       "      <td>PERFIL</td>\n",
       "      <td>2019-12-08</td>\n",
       "      <td>Promocion</td>\n",
       "      <td>ACTIVA</td>\n",
       "      <td>ACTIVIDADES PROFESIONALES, CIENTÍFICAS Y TÉCNICAS</td>\n",
       "      <td>CUATERNARIO</td>\n",
       "      <td>RISARALDA</td>\n",
       "      <td>1</td>\n",
       "      <td>1</td>\n",
       "      <td>0</td>\n",
       "      <td>0</td>\n",
       "      <td>0</td>\n",
       "      <td>1</td>\n",
       "      <td>0</td>\n",
       "      <td>0</td>\n",
       "      <td>0</td>\n",
       "      <td>1</td>\n",
       "      <td>0</td>\n",
       "      <td>0</td>\n",
       "      <td>0</td>\n",
       "      <td>0</td>\n",
       "      <td>0</td>\n",
       "      <td>0</td>\n",
       "      <td>0</td>\n",
       "      <td>1</td>\n",
       "      <td>0</td>\n",
       "      <td>0</td>\n",
       "      <td>0</td>\n",
       "      <td>-1</td>\n",
       "      <td>-1</td>\n",
       "      <td>0</td>\n",
       "      <td>6</td>\n",
       "      <td>-1</td>\n",
       "      <td>-1</td>\n",
       "      <td>6</td>\n",
       "      <td>AMERICA_SUR</td>\n",
       "      <td>1</td>\n",
       "      <td>0</td>\n",
       "      <td>-1</td>\n",
       "      <td>-1</td>\n",
       "      <td>-1</td>\n",
       "      <td>12</td>\n",
       "      <td>-1</td>\n",
       "      <td>-1</td>\n",
       "      <td>12</td>\n",
       "    </tr>\n",
       "    <tr>\n",
       "      <th>4</th>\n",
       "      <td>7855424</td>\n",
       "      <td>PJ</td>\n",
       "      <td>2019-06-21</td>\n",
       "      <td>7</td>\n",
       "      <td>NaT</td>\n",
       "      <td>0</td>\n",
       "      <td>NaT</td>\n",
       "      <td>0</td>\n",
       "      <td>GOOHOTYAHMAIL</td>\n",
       "      <td>1</td>\n",
       "      <td>NO_PUBLICO</td>\n",
       "      <td>1</td>\n",
       "      <td>COLOMBIA</td>\n",
       "      <td>Atlántico</td>\n",
       "      <td>Ingreso mediano alto</td>\n",
       "      <td>0.767</td>\n",
       "      <td>Alto</td>\n",
       "      <td>EMPRESARIO INDIVIDUAL</td>\n",
       "      <td>MC</td>\n",
       "      <td>INACTIVA</td>\n",
       "      <td>ACTIVIDADES DE SERVICIOS ADMINISTRATIVOS Y DE ...</td>\n",
       "      <td>TERCIARIO</td>\n",
       "      <td>ATLANTICO</td>\n",
       "      <td>815.17</td>\n",
       "      <td>0.835</td>\n",
       "      <td>PERFIL PROMOCIONAL</td>\n",
       "      <td>PERFIL</td>\n",
       "      <td>2019-06-21</td>\n",
       "      <td>Promocion</td>\n",
       "      <td>ACTIVA</td>\n",
       "      <td>INDUSTRIAS MANUFACTURERAS</td>\n",
       "      <td>SECUNDARIO</td>\n",
       "      <td>ATLANTICO</td>\n",
       "      <td>1</td>\n",
       "      <td>1</td>\n",
       "      <td>0</td>\n",
       "      <td>0</td>\n",
       "      <td>0</td>\n",
       "      <td>1</td>\n",
       "      <td>0</td>\n",
       "      <td>0</td>\n",
       "      <td>0</td>\n",
       "      <td>1</td>\n",
       "      <td>0</td>\n",
       "      <td>0</td>\n",
       "      <td>0</td>\n",
       "      <td>0</td>\n",
       "      <td>0</td>\n",
       "      <td>1</td>\n",
       "      <td>0</td>\n",
       "      <td>0</td>\n",
       "      <td>0</td>\n",
       "      <td>0</td>\n",
       "      <td>1</td>\n",
       "      <td>-1</td>\n",
       "      <td>-1</td>\n",
       "      <td>1</td>\n",
       "      <td>4</td>\n",
       "      <td>-1</td>\n",
       "      <td>-1</td>\n",
       "      <td>4</td>\n",
       "      <td>AMERICA_SUR</td>\n",
       "      <td>1</td>\n",
       "      <td>1</td>\n",
       "      <td>-1</td>\n",
       "      <td>-1</td>\n",
       "      <td>-1</td>\n",
       "      <td>6</td>\n",
       "      <td>-1</td>\n",
       "      <td>-1</td>\n",
       "      <td>6</td>\n",
       "    </tr>\n",
       "  </tbody>\n",
       "</table>\n",
       "</div>"
      ],
      "text/plain": [
       "   ID_USUARIO TIPOUSUARIO FECHA_REGISTRO  CANAL_REGISTRO FECHA_ALTA  IND_ALTA  \\\n",
       "0     8107310          PF     2019-10-22               3        NaT         0   \n",
       "1     7784565          PJ     2019-05-14               3        NaT         0   \n",
       "2     7718778          PJ     2019-09-04               7        NaT         0   \n",
       "3     7952765          PF     2019-12-08               3        NaT         0   \n",
       "4     7855424          PJ     2019-06-21               7        NaT         0   \n",
       "\n",
       "  FECHA_CLIENTE  IND_CLIENTE      TIPOEMAIL  BONDAD_EMAIL   TIPO_TELF  \\\n",
       "0           NaT            0  GOOHOTYAHMAIL             0  NO_PUBLICO   \n",
       "1           NaT            0  GOOHOTYAHMAIL             1  NO_PUBLICO   \n",
       "2           NaT            0  GOOHOTYAHMAIL             1  NO_PUBLICO   \n",
       "3           NaT            0        DOCENTE             1  NO_PUBLICO   \n",
       "4           NaT            0  GOOHOTYAHMAIL             1  NO_PUBLICO   \n",
       "\n",
       "   IPCASOS IP_COUNTRY        IP_REGION        IP_COUNTRY_PIB  \\\n",
       "0        1   COLOMBIA  Valle del Cauca  Ingreso mediano alto   \n",
       "1        1   COLOMBIA        Antioquia  Ingreso mediano alto   \n",
       "2        1   COLOMBIA          Bolivar  Ingreso mediano alto   \n",
       "3        1   COLOMBIA        Risaralda  Ingreso mediano alto   \n",
       "4        1   COLOMBIA        Atlántico  Ingreso mediano alto   \n",
       "\n",
       "  IP_COUNTRY_IDH_NUM IP_COUNTRY_IDH_GROUP                  USU_TIPO  \\\n",
       "0              0.767                 Alto                     NoApl   \n",
       "1              0.767                 Alto  SOC_COMERCIAL_INDUSTRIAL   \n",
       "2              0.767                 Alto  SOC_COMERCIAL_INDUSTRIAL   \n",
       "3              0.767                 Alto                     NoApl   \n",
       "4              0.767                 Alto     EMPRESARIO INDIVIDUAL   \n",
       "\n",
       "  USU_TAMANIO USU_ESTADO                                   USU_SECCION_DESC  \\\n",
       "0       NoApl      NoApl                                              NoApl   \n",
       "1          PQ     ACTIVA  ACTIVIDADES DE SERVICIOS ADMINISTRATIVOS Y DE ...   \n",
       "2          MC     ACTIVA  COMERCIO AL POR MAYOR Y AL POR MENOR; REPARACI...   \n",
       "3       NoApl      NoApl                                              NoApl   \n",
       "4          MC   INACTIVA  ACTIVIDADES DE SERVICIOS ADMINISTRATIVOS Y DE ...   \n",
       "\n",
       "  USU_SECTOR_ECONOMICO USU_DEPARTAMENTO USU_DEPART_DEN_POB USU_DEPART_IDH  \\\n",
       "0                NoApl            NOAPL              NOAPL          NOAPL   \n",
       "1            TERCIARIO          QUINDIO             306.38          0.832   \n",
       "2            TERCIARIO        ATLANTICO             815.17          0.835   \n",
       "3                NoApl            NOAPL              NOAPL          NOAPL   \n",
       "4            TERCIARIO        ATLANTICO             815.17          0.835   \n",
       "\n",
       "  1A_CONS_DESCPRODUCTO 1A_CONS_DESCGRUPOPROD 1A_CONS_FECHACONSUMO  \\\n",
       "0   PERFIL PROMOCIONAL                PERFIL           2019-10-22   \n",
       "1   PERFIL PROMOCIONAL                PERFIL           2019-05-14   \n",
       "2   PERFIL PROMOCIONAL                PERFIL           2019-09-04   \n",
       "3   PERFIL PROMOCIONAL                PERFIL           2019-12-08   \n",
       "4   PERFIL PROMOCIONAL                PERFIL           2019-06-21   \n",
       "\n",
       "  1A_CONS_TIPO_CONSUMO 1A_CONS_EMPCONSUL_EST  \\\n",
       "0            Promocion                ACTIVA   \n",
       "1            Promocion                ACTIVA   \n",
       "2            Promocion                ACTIVA   \n",
       "3            Promocion                ACTIVA   \n",
       "4            Promocion                ACTIVA   \n",
       "\n",
       "                      1A_CONS_EMPCONSUL_SECCION_DESC  \\\n",
       "0  COMERCIO AL POR MAYOR Y AL POR MENOR; REPARACI...   \n",
       "1                                                 SD   \n",
       "2  COMERCIO AL POR MAYOR Y AL POR MENOR; REPARACI...   \n",
       "3  ACTIVIDADES PROFESIONALES, CIENTÍFICAS Y TÉCNICAS   \n",
       "4                          INDUSTRIAS MANUFACTURERAS   \n",
       "\n",
       "  1A_CONS_EMPCONSUL_SECTOR_ECONOMICO 1A_CONS_EMPCONSUL_PROV  PROD_CONSUM_TOT  \\\n",
       "0                          TERCIARIO                  CAUCA                1   \n",
       "1                                 SD                  CAUCA                1   \n",
       "2                          TERCIARIO                 BOGOTA                1   \n",
       "3                        CUATERNARIO              RISARALDA                1   \n",
       "4                         SECUNDARIO              ATLANTICO                1   \n",
       "\n",
       "   PROMOCION_TOT  PAGO_TOT  FICH_BASIC_PROMO_TOT  FICH_AVANZADA_TOT  \\\n",
       "0              1         0                     0                  0   \n",
       "1              1         0                     0                  0   \n",
       "2              1         0                     0                  0   \n",
       "3              1         0                     0                  0   \n",
       "4              1         0                     0                  0   \n",
       "\n",
       "   PERFIL_TOT  MODU_INFORM_TOT  REPORTES_TOT  OTROS_TOT  EST_ACTIVA_TOT  \\\n",
       "0           1                0             0          0               1   \n",
       "1           1                0             0          0               1   \n",
       "2           1                0             0          0               1   \n",
       "3           1                0             0          0               1   \n",
       "4           1                0             0          0               1   \n",
       "\n",
       "   EST_INACTIVA_TOT  EST_REESTRUCT_TOT  EST_CLINTON_TOT  EST_NI_TOT  \\\n",
       "0                 0                  0                0           0   \n",
       "1                 0                  0                0           0   \n",
       "2                 0                  0                0           0   \n",
       "3                 0                  0                0           0   \n",
       "4                 0                  0                0           0   \n",
       "\n",
       "   SECT_PRIM_TOT  SECT_SECU_TOT  SECT_TERC_TOT  SECT_CUAT_TOT  SECT_QUIN_TOT  \\\n",
       "0              0              0              1              0              0   \n",
       "1              0              0              0              0              0   \n",
       "2              0              0              1              0              0   \n",
       "3              0              0              0              1              0   \n",
       "4              0              1              0              0              0   \n",
       "\n",
       "   SECT_SD_TOT  FECHA_REGISTRO_BUSINESS_DAY  FECHA_ALTA_BUSINESS_DAY  \\\n",
       "0            0                            1                       -1   \n",
       "1            1                            1                       -1   \n",
       "2            0                            1                       -1   \n",
       "3            0                            0                       -1   \n",
       "4            0                            1                       -1   \n",
       "\n",
       "   FECHA_CLIENTE_BUSINESS_DAY  FECHACONSUMO_BUSINESS_DAY  \\\n",
       "0                          -1                          1   \n",
       "1                          -1                          1   \n",
       "2                          -1                          1   \n",
       "3                          -1                          0   \n",
       "4                          -1                          1   \n",
       "\n",
       "   FECHA_REGISTRO_WEEKDAY  FECHA_ALTA_WEEKDAY  FECHA_CLIENTE_WEEKDAY  \\\n",
       "0                       1                  -1                     -1   \n",
       "1                       1                  -1                     -1   \n",
       "2                       2                  -1                     -1   \n",
       "3                       6                  -1                     -1   \n",
       "4                       4                  -1                     -1   \n",
       "\n",
       "   FECHACONSUMO_WEEKDAY IP_CONTINENTE IP_COLOMBIA EMAIL_PERSONAL  \\\n",
       "0                     1   AMERICA_SUR           1              1   \n",
       "1                     1   AMERICA_SUR           1              1   \n",
       "2                     2   AMERICA_SUR           1              1   \n",
       "3                     6   AMERICA_SUR           1              0   \n",
       "4                     4   AMERICA_SUR           1              1   \n",
       "\n",
       "   REGISTRO_ALTA  ALTA_CLIENTE  CLIENTE_CONSUMO  FECHA_REGISTRO_MONTH  \\\n",
       "0             -1            -1               -1                    10   \n",
       "1             -1            -1               -1                     5   \n",
       "2             -1            -1               -1                     9   \n",
       "3             -1            -1               -1                    12   \n",
       "4             -1            -1               -1                     6   \n",
       "\n",
       "   FECHA_ALTA_MONTH  FECHA_CLIENTE_MONTH  FECHACONSUMO_MONTH  \n",
       "0                -1                   -1                  10  \n",
       "1                -1                   -1                   5  \n",
       "2                -1                   -1                   9  \n",
       "3                -1                   -1                  12  \n",
       "4                -1                   -1                   6  "
      ]
     },
     "execution_count": 54,
     "metadata": {},
     "output_type": "execute_result"
    }
   ],
   "source": [
    "df.head()"
   ]
  },
  {
   "cell_type": "markdown",
   "id": "modular-washington",
   "metadata": {},
   "source": [
    "### Reducción de dimensionalidad"
   ]
  },
  {
   "cell_type": "markdown",
   "id": "adjustable-algeria",
   "metadata": {},
   "source": [
    "Por último eliminamos columnas, renombramos y ordenamos al gusto"
   ]
  },
  {
   "cell_type": "code",
   "execution_count": 55,
   "id": "mediterranean-authentication",
   "metadata": {},
   "outputs": [],
   "source": [
    "df = df[['TIPOUSUARIO','FECHA_REGISTRO_BUSINESS_DAY','FECHA_REGISTRO_WEEKDAY','FECHA_REGISTRO_MONTH','CANAL_REGISTRO','FECHA_ALTA_BUSINESS_DAY','FECHA_ALTA_WEEKDAY','FECHA_ALTA_MONTH',\n",
    "         'REGISTRO_ALTA','IND_ALTA','FECHA_CLIENTE_BUSINESS_DAY','FECHA_CLIENTE_WEEKDAY','FECHA_CLIENTE_MONTH','ALTA_CLIENTE','IND_CLIENTE','TIPOEMAIL','EMAIL_PERSONAL','BONDAD_EMAIL',\n",
    "         'TIPO_TELF','IPCASOS','IP_COUNTRY','IP_CONTINENTE','IP_COLOMBIA','IP_REGION','IP_COUNTRY_PIB','IP_COUNTRY_IDH_NUM','IP_COUNTRY_IDH_GROUP','USU_TIPO','USU_TAMANIO','USU_ESTADO',\n",
    "         'USU_SECCION_DESC','USU_SECTOR_ECONOMICO','USU_DEPARTAMENTO','USU_DEPART_DEN_POB','USU_DEPART_IDH','1A_CONS_DESCPRODUCTO','1A_CONS_DESCGRUPOPROD','FECHACONSUMO_BUSINESS_DAY',\n",
    "         'FECHACONSUMO_WEEKDAY','FECHACONSUMO_MONTH','CLIENTE_CONSUMO','1A_CONS_TIPO_CONSUMO','1A_CONS_EMPCONSUL_EST','1A_CONS_EMPCONSUL_SECCION_DESC','1A_CONS_EMPCONSUL_SECTOR_ECONOMICO',\n",
    "         '1A_CONS_EMPCONSUL_PROV','PROD_CONSUM_TOT','PROMOCION_TOT','PAGO_TOT','FICH_BASIC_PROMO_TOT','FICH_AVANZADA_TOT','PERFIL_TOT','MODU_INFORM_TOT','REPORTES_TOT','OTROS_TOT',\n",
    "         'EST_ACTIVA_TOT','EST_INACTIVA_TOT','EST_REESTRUCT_TOT','EST_CLINTON_TOT','EST_NI_TOT','SECT_PRIM_TOT','SECT_SECU_TOT','SECT_TERC_TOT','SECT_CUAT_TOT','SECT_QUIN_TOT',\n",
    "         'SECT_SD_TOT']]"
   ]
  },
  {
   "cell_type": "code",
   "execution_count": 56,
   "id": "differential-example",
   "metadata": {},
   "outputs": [
    {
     "data": {
      "text/html": [
       "<div>\n",
       "<style scoped>\n",
       "    .dataframe tbody tr th:only-of-type {\n",
       "        vertical-align: middle;\n",
       "    }\n",
       "\n",
       "    .dataframe tbody tr th {\n",
       "        vertical-align: top;\n",
       "    }\n",
       "\n",
       "    .dataframe thead th {\n",
       "        text-align: right;\n",
       "    }\n",
       "</style>\n",
       "<table border=\"1\" class=\"dataframe\">\n",
       "  <thead>\n",
       "    <tr style=\"text-align: right;\">\n",
       "      <th></th>\n",
       "      <th>TIPOUSUARIO</th>\n",
       "      <th>FECHA_REGISTRO_BUSINESS_DAY</th>\n",
       "      <th>FECHA_REGISTRO_WEEKDAY</th>\n",
       "      <th>FECHA_REGISTRO_MONTH</th>\n",
       "      <th>CANAL_REGISTRO</th>\n",
       "      <th>FECHA_ALTA_BUSINESS_DAY</th>\n",
       "      <th>FECHA_ALTA_WEEKDAY</th>\n",
       "      <th>FECHA_ALTA_MONTH</th>\n",
       "      <th>REGISTRO_ALTA</th>\n",
       "      <th>IND_ALTA</th>\n",
       "      <th>FECHA_CLIENTE_BUSINESS_DAY</th>\n",
       "      <th>FECHA_CLIENTE_WEEKDAY</th>\n",
       "      <th>FECHA_CLIENTE_MONTH</th>\n",
       "      <th>ALTA_CLIENTE</th>\n",
       "      <th>IND_CLIENTE</th>\n",
       "      <th>TIPOEMAIL</th>\n",
       "      <th>EMAIL_PERSONAL</th>\n",
       "      <th>BONDAD_EMAIL</th>\n",
       "      <th>TIPO_TELF</th>\n",
       "      <th>IPCASOS</th>\n",
       "      <th>IP_COUNTRY</th>\n",
       "      <th>IP_CONTINENTE</th>\n",
       "      <th>IP_COLOMBIA</th>\n",
       "      <th>IP_REGION</th>\n",
       "      <th>IP_COUNTRY_PIB</th>\n",
       "      <th>IP_COUNTRY_IDH_NUM</th>\n",
       "      <th>IP_COUNTRY_IDH_GROUP</th>\n",
       "      <th>USU_TIPO</th>\n",
       "      <th>USU_TAMANIO</th>\n",
       "      <th>USU_ESTADO</th>\n",
       "      <th>USU_SECCION_DESC</th>\n",
       "      <th>USU_SECTOR_ECONOMICO</th>\n",
       "      <th>USU_DEPARTAMENTO</th>\n",
       "      <th>USU_DEPART_DEN_POB</th>\n",
       "      <th>USU_DEPART_IDH</th>\n",
       "      <th>1A_CONS_DESCPRODUCTO</th>\n",
       "      <th>1A_CONS_DESCGRUPOPROD</th>\n",
       "      <th>FECHACONSUMO_BUSINESS_DAY</th>\n",
       "      <th>FECHACONSUMO_WEEKDAY</th>\n",
       "      <th>FECHACONSUMO_MONTH</th>\n",
       "      <th>CLIENTE_CONSUMO</th>\n",
       "      <th>1A_CONS_TIPO_CONSUMO</th>\n",
       "      <th>1A_CONS_EMPCONSUL_EST</th>\n",
       "      <th>1A_CONS_EMPCONSUL_SECCION_DESC</th>\n",
       "      <th>1A_CONS_EMPCONSUL_SECTOR_ECONOMICO</th>\n",
       "      <th>1A_CONS_EMPCONSUL_PROV</th>\n",
       "      <th>PROD_CONSUM_TOT</th>\n",
       "      <th>PROMOCION_TOT</th>\n",
       "      <th>PAGO_TOT</th>\n",
       "      <th>FICH_BASIC_PROMO_TOT</th>\n",
       "      <th>FICH_AVANZADA_TOT</th>\n",
       "      <th>PERFIL_TOT</th>\n",
       "      <th>MODU_INFORM_TOT</th>\n",
       "      <th>REPORTES_TOT</th>\n",
       "      <th>OTROS_TOT</th>\n",
       "      <th>EST_ACTIVA_TOT</th>\n",
       "      <th>EST_INACTIVA_TOT</th>\n",
       "      <th>EST_REESTRUCT_TOT</th>\n",
       "      <th>EST_CLINTON_TOT</th>\n",
       "      <th>EST_NI_TOT</th>\n",
       "      <th>SECT_PRIM_TOT</th>\n",
       "      <th>SECT_SECU_TOT</th>\n",
       "      <th>SECT_TERC_TOT</th>\n",
       "      <th>SECT_CUAT_TOT</th>\n",
       "      <th>SECT_QUIN_TOT</th>\n",
       "      <th>SECT_SD_TOT</th>\n",
       "    </tr>\n",
       "  </thead>\n",
       "  <tbody>\n",
       "    <tr>\n",
       "      <th>0</th>\n",
       "      <td>PF</td>\n",
       "      <td>1</td>\n",
       "      <td>1</td>\n",
       "      <td>10</td>\n",
       "      <td>3</td>\n",
       "      <td>-1</td>\n",
       "      <td>-1</td>\n",
       "      <td>-1</td>\n",
       "      <td>-1</td>\n",
       "      <td>0</td>\n",
       "      <td>-1</td>\n",
       "      <td>-1</td>\n",
       "      <td>-1</td>\n",
       "      <td>-1</td>\n",
       "      <td>0</td>\n",
       "      <td>GOOHOTYAHMAIL</td>\n",
       "      <td>1</td>\n",
       "      <td>0</td>\n",
       "      <td>NO_PUBLICO</td>\n",
       "      <td>1</td>\n",
       "      <td>COLOMBIA</td>\n",
       "      <td>AMERICA_SUR</td>\n",
       "      <td>1</td>\n",
       "      <td>Valle del Cauca</td>\n",
       "      <td>Ingreso mediano alto</td>\n",
       "      <td>0.767</td>\n",
       "      <td>Alto</td>\n",
       "      <td>NoApl</td>\n",
       "      <td>NoApl</td>\n",
       "      <td>NoApl</td>\n",
       "      <td>NoApl</td>\n",
       "      <td>NoApl</td>\n",
       "      <td>NOAPL</td>\n",
       "      <td>NOAPL</td>\n",
       "      <td>NOAPL</td>\n",
       "      <td>PERFIL PROMOCIONAL</td>\n",
       "      <td>PERFIL</td>\n",
       "      <td>1</td>\n",
       "      <td>1</td>\n",
       "      <td>10</td>\n",
       "      <td>-1</td>\n",
       "      <td>Promocion</td>\n",
       "      <td>ACTIVA</td>\n",
       "      <td>COMERCIO AL POR MAYOR Y AL POR MENOR; REPARACI...</td>\n",
       "      <td>TERCIARIO</td>\n",
       "      <td>CAUCA</td>\n",
       "      <td>1</td>\n",
       "      <td>1</td>\n",
       "      <td>0</td>\n",
       "      <td>0</td>\n",
       "      <td>0</td>\n",
       "      <td>1</td>\n",
       "      <td>0</td>\n",
       "      <td>0</td>\n",
       "      <td>0</td>\n",
       "      <td>1</td>\n",
       "      <td>0</td>\n",
       "      <td>0</td>\n",
       "      <td>0</td>\n",
       "      <td>0</td>\n",
       "      <td>0</td>\n",
       "      <td>0</td>\n",
       "      <td>1</td>\n",
       "      <td>0</td>\n",
       "      <td>0</td>\n",
       "      <td>0</td>\n",
       "    </tr>\n",
       "    <tr>\n",
       "      <th>1</th>\n",
       "      <td>PJ</td>\n",
       "      <td>1</td>\n",
       "      <td>1</td>\n",
       "      <td>5</td>\n",
       "      <td>3</td>\n",
       "      <td>-1</td>\n",
       "      <td>-1</td>\n",
       "      <td>-1</td>\n",
       "      <td>-1</td>\n",
       "      <td>0</td>\n",
       "      <td>-1</td>\n",
       "      <td>-1</td>\n",
       "      <td>-1</td>\n",
       "      <td>-1</td>\n",
       "      <td>0</td>\n",
       "      <td>GOOHOTYAHMAIL</td>\n",
       "      <td>1</td>\n",
       "      <td>1</td>\n",
       "      <td>NO_PUBLICO</td>\n",
       "      <td>1</td>\n",
       "      <td>COLOMBIA</td>\n",
       "      <td>AMERICA_SUR</td>\n",
       "      <td>1</td>\n",
       "      <td>Antioquia</td>\n",
       "      <td>Ingreso mediano alto</td>\n",
       "      <td>0.767</td>\n",
       "      <td>Alto</td>\n",
       "      <td>SOC_COMERCIAL_INDUSTRIAL</td>\n",
       "      <td>PQ</td>\n",
       "      <td>ACTIVA</td>\n",
       "      <td>ACTIVIDADES DE SERVICIOS ADMINISTRATIVOS Y DE ...</td>\n",
       "      <td>TERCIARIO</td>\n",
       "      <td>QUINDIO</td>\n",
       "      <td>306.38</td>\n",
       "      <td>0.832</td>\n",
       "      <td>PERFIL PROMOCIONAL</td>\n",
       "      <td>PERFIL</td>\n",
       "      <td>1</td>\n",
       "      <td>1</td>\n",
       "      <td>5</td>\n",
       "      <td>-1</td>\n",
       "      <td>Promocion</td>\n",
       "      <td>ACTIVA</td>\n",
       "      <td>SD</td>\n",
       "      <td>SD</td>\n",
       "      <td>CAUCA</td>\n",
       "      <td>1</td>\n",
       "      <td>1</td>\n",
       "      <td>0</td>\n",
       "      <td>0</td>\n",
       "      <td>0</td>\n",
       "      <td>1</td>\n",
       "      <td>0</td>\n",
       "      <td>0</td>\n",
       "      <td>0</td>\n",
       "      <td>1</td>\n",
       "      <td>0</td>\n",
       "      <td>0</td>\n",
       "      <td>0</td>\n",
       "      <td>0</td>\n",
       "      <td>0</td>\n",
       "      <td>0</td>\n",
       "      <td>0</td>\n",
       "      <td>0</td>\n",
       "      <td>0</td>\n",
       "      <td>1</td>\n",
       "    </tr>\n",
       "    <tr>\n",
       "      <th>2</th>\n",
       "      <td>PJ</td>\n",
       "      <td>1</td>\n",
       "      <td>2</td>\n",
       "      <td>9</td>\n",
       "      <td>7</td>\n",
       "      <td>-1</td>\n",
       "      <td>-1</td>\n",
       "      <td>-1</td>\n",
       "      <td>-1</td>\n",
       "      <td>0</td>\n",
       "      <td>-1</td>\n",
       "      <td>-1</td>\n",
       "      <td>-1</td>\n",
       "      <td>-1</td>\n",
       "      <td>0</td>\n",
       "      <td>GOOHOTYAHMAIL</td>\n",
       "      <td>1</td>\n",
       "      <td>1</td>\n",
       "      <td>NO_PUBLICO</td>\n",
       "      <td>1</td>\n",
       "      <td>COLOMBIA</td>\n",
       "      <td>AMERICA_SUR</td>\n",
       "      <td>1</td>\n",
       "      <td>Bolivar</td>\n",
       "      <td>Ingreso mediano alto</td>\n",
       "      <td>0.767</td>\n",
       "      <td>Alto</td>\n",
       "      <td>SOC_COMERCIAL_INDUSTRIAL</td>\n",
       "      <td>MC</td>\n",
       "      <td>ACTIVA</td>\n",
       "      <td>COMERCIO AL POR MAYOR Y AL POR MENOR; REPARACI...</td>\n",
       "      <td>TERCIARIO</td>\n",
       "      <td>ATLANTICO</td>\n",
       "      <td>815.17</td>\n",
       "      <td>0.835</td>\n",
       "      <td>PERFIL PROMOCIONAL</td>\n",
       "      <td>PERFIL</td>\n",
       "      <td>1</td>\n",
       "      <td>2</td>\n",
       "      <td>9</td>\n",
       "      <td>-1</td>\n",
       "      <td>Promocion</td>\n",
       "      <td>ACTIVA</td>\n",
       "      <td>COMERCIO AL POR MAYOR Y AL POR MENOR; REPARACI...</td>\n",
       "      <td>TERCIARIO</td>\n",
       "      <td>BOGOTA</td>\n",
       "      <td>1</td>\n",
       "      <td>1</td>\n",
       "      <td>0</td>\n",
       "      <td>0</td>\n",
       "      <td>0</td>\n",
       "      <td>1</td>\n",
       "      <td>0</td>\n",
       "      <td>0</td>\n",
       "      <td>0</td>\n",
       "      <td>1</td>\n",
       "      <td>0</td>\n",
       "      <td>0</td>\n",
       "      <td>0</td>\n",
       "      <td>0</td>\n",
       "      <td>0</td>\n",
       "      <td>0</td>\n",
       "      <td>1</td>\n",
       "      <td>0</td>\n",
       "      <td>0</td>\n",
       "      <td>0</td>\n",
       "    </tr>\n",
       "  </tbody>\n",
       "</table>\n",
       "</div>"
      ],
      "text/plain": [
       "  TIPOUSUARIO  FECHA_REGISTRO_BUSINESS_DAY  FECHA_REGISTRO_WEEKDAY  \\\n",
       "0          PF                            1                       1   \n",
       "1          PJ                            1                       1   \n",
       "2          PJ                            1                       2   \n",
       "\n",
       "   FECHA_REGISTRO_MONTH  CANAL_REGISTRO  FECHA_ALTA_BUSINESS_DAY  \\\n",
       "0                    10               3                       -1   \n",
       "1                     5               3                       -1   \n",
       "2                     9               7                       -1   \n",
       "\n",
       "   FECHA_ALTA_WEEKDAY  FECHA_ALTA_MONTH  REGISTRO_ALTA  IND_ALTA  \\\n",
       "0                  -1                -1             -1         0   \n",
       "1                  -1                -1             -1         0   \n",
       "2                  -1                -1             -1         0   \n",
       "\n",
       "   FECHA_CLIENTE_BUSINESS_DAY  FECHA_CLIENTE_WEEKDAY  FECHA_CLIENTE_MONTH  \\\n",
       "0                          -1                     -1                   -1   \n",
       "1                          -1                     -1                   -1   \n",
       "2                          -1                     -1                   -1   \n",
       "\n",
       "   ALTA_CLIENTE  IND_CLIENTE      TIPOEMAIL EMAIL_PERSONAL  BONDAD_EMAIL  \\\n",
       "0            -1            0  GOOHOTYAHMAIL              1             0   \n",
       "1            -1            0  GOOHOTYAHMAIL              1             1   \n",
       "2            -1            0  GOOHOTYAHMAIL              1             1   \n",
       "\n",
       "    TIPO_TELF  IPCASOS IP_COUNTRY IP_CONTINENTE IP_COLOMBIA        IP_REGION  \\\n",
       "0  NO_PUBLICO        1   COLOMBIA   AMERICA_SUR           1  Valle del Cauca   \n",
       "1  NO_PUBLICO        1   COLOMBIA   AMERICA_SUR           1        Antioquia   \n",
       "2  NO_PUBLICO        1   COLOMBIA   AMERICA_SUR           1          Bolivar   \n",
       "\n",
       "         IP_COUNTRY_PIB IP_COUNTRY_IDH_NUM IP_COUNTRY_IDH_GROUP  \\\n",
       "0  Ingreso mediano alto              0.767                 Alto   \n",
       "1  Ingreso mediano alto              0.767                 Alto   \n",
       "2  Ingreso mediano alto              0.767                 Alto   \n",
       "\n",
       "                   USU_TIPO USU_TAMANIO USU_ESTADO  \\\n",
       "0                     NoApl       NoApl      NoApl   \n",
       "1  SOC_COMERCIAL_INDUSTRIAL          PQ     ACTIVA   \n",
       "2  SOC_COMERCIAL_INDUSTRIAL          MC     ACTIVA   \n",
       "\n",
       "                                    USU_SECCION_DESC USU_SECTOR_ECONOMICO  \\\n",
       "0                                              NoApl                NoApl   \n",
       "1  ACTIVIDADES DE SERVICIOS ADMINISTRATIVOS Y DE ...            TERCIARIO   \n",
       "2  COMERCIO AL POR MAYOR Y AL POR MENOR; REPARACI...            TERCIARIO   \n",
       "\n",
       "  USU_DEPARTAMENTO USU_DEPART_DEN_POB USU_DEPART_IDH 1A_CONS_DESCPRODUCTO  \\\n",
       "0            NOAPL              NOAPL          NOAPL   PERFIL PROMOCIONAL   \n",
       "1          QUINDIO             306.38          0.832   PERFIL PROMOCIONAL   \n",
       "2        ATLANTICO             815.17          0.835   PERFIL PROMOCIONAL   \n",
       "\n",
       "  1A_CONS_DESCGRUPOPROD  FECHACONSUMO_BUSINESS_DAY  FECHACONSUMO_WEEKDAY  \\\n",
       "0                PERFIL                          1                     1   \n",
       "1                PERFIL                          1                     1   \n",
       "2                PERFIL                          1                     2   \n",
       "\n",
       "   FECHACONSUMO_MONTH  CLIENTE_CONSUMO 1A_CONS_TIPO_CONSUMO  \\\n",
       "0                  10               -1            Promocion   \n",
       "1                   5               -1            Promocion   \n",
       "2                   9               -1            Promocion   \n",
       "\n",
       "  1A_CONS_EMPCONSUL_EST                     1A_CONS_EMPCONSUL_SECCION_DESC  \\\n",
       "0                ACTIVA  COMERCIO AL POR MAYOR Y AL POR MENOR; REPARACI...   \n",
       "1                ACTIVA                                                 SD   \n",
       "2                ACTIVA  COMERCIO AL POR MAYOR Y AL POR MENOR; REPARACI...   \n",
       "\n",
       "  1A_CONS_EMPCONSUL_SECTOR_ECONOMICO 1A_CONS_EMPCONSUL_PROV  PROD_CONSUM_TOT  \\\n",
       "0                          TERCIARIO                  CAUCA                1   \n",
       "1                                 SD                  CAUCA                1   \n",
       "2                          TERCIARIO                 BOGOTA                1   \n",
       "\n",
       "   PROMOCION_TOT  PAGO_TOT  FICH_BASIC_PROMO_TOT  FICH_AVANZADA_TOT  \\\n",
       "0              1         0                     0                  0   \n",
       "1              1         0                     0                  0   \n",
       "2              1         0                     0                  0   \n",
       "\n",
       "   PERFIL_TOT  MODU_INFORM_TOT  REPORTES_TOT  OTROS_TOT  EST_ACTIVA_TOT  \\\n",
       "0           1                0             0          0               1   \n",
       "1           1                0             0          0               1   \n",
       "2           1                0             0          0               1   \n",
       "\n",
       "   EST_INACTIVA_TOT  EST_REESTRUCT_TOT  EST_CLINTON_TOT  EST_NI_TOT  \\\n",
       "0                 0                  0                0           0   \n",
       "1                 0                  0                0           0   \n",
       "2                 0                  0                0           0   \n",
       "\n",
       "   SECT_PRIM_TOT  SECT_SECU_TOT  SECT_TERC_TOT  SECT_CUAT_TOT  SECT_QUIN_TOT  \\\n",
       "0              0              0              1              0              0   \n",
       "1              0              0              0              0              0   \n",
       "2              0              0              1              0              0   \n",
       "\n",
       "   SECT_SD_TOT  \n",
       "0            0  \n",
       "1            1  \n",
       "2            0  "
      ]
     },
     "execution_count": 56,
     "metadata": {},
     "output_type": "execute_result"
    }
   ],
   "source": [
    "df.head(3)"
   ]
  },
  {
   "cell_type": "code",
   "execution_count": 57,
   "id": "subject-norman",
   "metadata": {},
   "outputs": [
    {
     "data": {
      "text/plain": [
       "(367632, 66)"
      ]
     },
     "execution_count": 57,
     "metadata": {},
     "output_type": "execute_result"
    }
   ],
   "source": [
    "df.shape"
   ]
  },
  {
   "cell_type": "markdown",
   "id": "disciplinary-fleece",
   "metadata": {},
   "source": [
    "---------------"
   ]
  },
  {
   "cell_type": "markdown",
   "id": "damaged-hobby",
   "metadata": {},
   "source": [
    "---------------"
   ]
  },
  {
   "cell_type": "code",
   "execution_count": 58,
   "id": "divided-canvas",
   "metadata": {},
   "outputs": [
    {
     "data": {
      "text/plain": [
       "TIPOUSUARIO                           0\n",
       "FECHA_REGISTRO_BUSINESS_DAY           0\n",
       "FECHA_REGISTRO_WEEKDAY                0\n",
       "FECHA_REGISTRO_MONTH                  0\n",
       "CANAL_REGISTRO                        0\n",
       "FECHA_ALTA_BUSINESS_DAY               0\n",
       "FECHA_ALTA_WEEKDAY                    0\n",
       "FECHA_ALTA_MONTH                      0\n",
       "REGISTRO_ALTA                         0\n",
       "IND_ALTA                              0\n",
       "FECHA_CLIENTE_BUSINESS_DAY            0\n",
       "FECHA_CLIENTE_WEEKDAY                 0\n",
       "FECHA_CLIENTE_MONTH                   0\n",
       "ALTA_CLIENTE                          0\n",
       "IND_CLIENTE                           0\n",
       "TIPOEMAIL                             0\n",
       "EMAIL_PERSONAL                        0\n",
       "BONDAD_EMAIL                          0\n",
       "TIPO_TELF                             0\n",
       "IPCASOS                               0\n",
       "IP_COUNTRY                            0\n",
       "IP_CONTINENTE                         0\n",
       "IP_COLOMBIA                           0\n",
       "IP_REGION                             0\n",
       "IP_COUNTRY_PIB                        0\n",
       "IP_COUNTRY_IDH_NUM                    0\n",
       "IP_COUNTRY_IDH_GROUP                  0\n",
       "USU_TIPO                              0\n",
       "USU_TAMANIO                           0\n",
       "USU_ESTADO                            0\n",
       "USU_SECCION_DESC                      0\n",
       "USU_SECTOR_ECONOMICO                  0\n",
       "USU_DEPARTAMENTO                      0\n",
       "USU_DEPART_DEN_POB                    0\n",
       "USU_DEPART_IDH                        0\n",
       "1A_CONS_DESCPRODUCTO                  0\n",
       "1A_CONS_DESCGRUPOPROD                 0\n",
       "FECHACONSUMO_BUSINESS_DAY             0\n",
       "FECHACONSUMO_WEEKDAY                  0\n",
       "FECHACONSUMO_MONTH                    0\n",
       "CLIENTE_CONSUMO                       0\n",
       "1A_CONS_TIPO_CONSUMO                  0\n",
       "1A_CONS_EMPCONSUL_EST                 0\n",
       "1A_CONS_EMPCONSUL_SECCION_DESC        0\n",
       "1A_CONS_EMPCONSUL_SECTOR_ECONOMICO    0\n",
       "1A_CONS_EMPCONSUL_PROV                0\n",
       "PROD_CONSUM_TOT                       0\n",
       "PROMOCION_TOT                         0\n",
       "PAGO_TOT                              0\n",
       "FICH_BASIC_PROMO_TOT                  0\n",
       "FICH_AVANZADA_TOT                     0\n",
       "PERFIL_TOT                            0\n",
       "MODU_INFORM_TOT                       0\n",
       "REPORTES_TOT                          0\n",
       "OTROS_TOT                             0\n",
       "EST_ACTIVA_TOT                        0\n",
       "EST_INACTIVA_TOT                      0\n",
       "EST_REESTRUCT_TOT                     0\n",
       "EST_CLINTON_TOT                       0\n",
       "EST_NI_TOT                            0\n",
       "SECT_PRIM_TOT                         0\n",
       "SECT_SECU_TOT                         0\n",
       "SECT_TERC_TOT                         0\n",
       "SECT_CUAT_TOT                         0\n",
       "SECT_QUIN_TOT                         0\n",
       "SECT_SD_TOT                           0\n",
       "dtype: int64"
      ]
     },
     "execution_count": 58,
     "metadata": {},
     "output_type": "execute_result"
    }
   ],
   "source": [
    "df.isna().sum()"
   ]
  },
  {
   "cell_type": "markdown",
   "id": "secret-answer",
   "metadata": {},
   "source": [
    "### Escritura de Datos"
   ]
  },
  {
   "cell_type": "code",
   "execution_count": 59,
   "id": "surprised-portable",
   "metadata": {},
   "outputs": [],
   "source": [
    "df.to_csv('Data/dataset_model.txt', sep = ';', encoding = 'ISO-8859-1', index = False)"
   ]
  }
 ],
 "metadata": {
  "kernelspec": {
   "display_name": "Python 3",
   "language": "python",
   "name": "python3"
  },
  "language_info": {
   "codemirror_mode": {
    "name": "ipython",
    "version": 3
   },
   "file_extension": ".py",
   "mimetype": "text/x-python",
   "name": "python",
   "nbconvert_exporter": "python",
   "pygments_lexer": "ipython3",
   "version": "3.8.8"
  }
 },
 "nbformat": 4,
 "nbformat_minor": 5
}
