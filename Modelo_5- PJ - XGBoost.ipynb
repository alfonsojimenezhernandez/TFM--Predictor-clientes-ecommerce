{
 "cells": [
  {
   "cell_type": "markdown",
   "id": "ethical-champagne",
   "metadata": {},
   "source": [
    "# TFM - Predicción potenciales compradores de un ecommerce"
   ]
  },
  {
   "cell_type": "markdown",
   "id": "6877fd8c-2bfb-4941-a39c-b7b7f8b1ad85",
   "metadata": {},
   "source": [
    "Evolución del notebook *Modelo_4- XGBoost.ipynb* unicamente aplicando a **personas jurídicas**"
   ]
  },
  {
   "cell_type": "markdown",
   "id": "guided-lender",
   "metadata": {},
   "source": [
    "------------------------------------"
   ]
  },
  {
   "cell_type": "markdown",
   "id": "f1d3da8f-3328-46b4-a429-d9db420305c6",
   "metadata": {},
   "source": [
    "------------------"
   ]
  },
  {
   "cell_type": "markdown",
   "id": "related-bruce",
   "metadata": {},
   "source": [
    "### 1.1 Librerias"
   ]
  },
  {
   "cell_type": "code",
   "execution_count": 1,
   "id": "educational-access",
   "metadata": {},
   "outputs": [],
   "source": [
    "import pandas as pd\n",
    "import matplotlib.pyplot as plt\n",
    "import seaborn as sns\n",
    "\n",
    "from sklearn.model_selection import train_test_split\n",
    "from sklearn.ensemble import RandomForestClassifier\n",
    "from sklearn.metrics import confusion_matrix\n",
    "from sklearn.metrics import classification_report\n",
    "from sklearn.metrics import roc_auc_score\n",
    "from sklearn.model_selection import ParameterGrid\n",
    "\n",
    "from imblearn.pipeline import Pipeline\n",
    "from imblearn.under_sampling import NearMiss, RandomUnderSampler\n",
    "from imblearn.over_sampling import RandomOverSampler, SMOTE\n",
    "from imblearn.combine import SMOTETomek\n",
    "from imblearn.ensemble import BalancedBaggingClassifier, RUSBoostClassifier\n",
    "\n",
    "from xgboost import XGBClassifier\n",
    "\n",
    "from collections import Counter\n",
    "\n",
    "pd.set_option('display.max_columns', 200)\n",
    "\n",
    "import warnings\n",
    "warnings.filterwarnings(\"ignore\")"
   ]
  },
  {
   "cell_type": "markdown",
   "id": "ee290e54-4d6f-4ef7-8aed-4d442185f44d",
   "metadata": {},
   "source": [
    "------------------"
   ]
  },
  {
   "cell_type": "markdown",
   "id": "interior-tucson",
   "metadata": {},
   "source": [
    "### 1.2 Variables globales"
   ]
  },
  {
   "cell_type": "code",
   "execution_count": 2,
   "id": "described-mainland",
   "metadata": {},
   "outputs": [],
   "source": [
    "LABELS = [\"No_Cliente\",\"Cliente\"]"
   ]
  },
  {
   "cell_type": "markdown",
   "id": "10003f48-7fb3-442b-929a-e132559df249",
   "metadata": {},
   "source": [
    "------------------"
   ]
  },
  {
   "cell_type": "markdown",
   "id": "operating-captain",
   "metadata": {},
   "source": [
    "### 1.3 Funciones"
   ]
  },
  {
   "cell_type": "code",
   "execution_count": 3,
   "id": "equal-confidentiality",
   "metadata": {},
   "outputs": [],
   "source": [
    "def mostrar_resultados(y_test, pred_y):\n",
    "    conf_matrix = confusion_matrix(y_test, pred_y)\n",
    "    plt.figure(figsize = (8, 8))\n",
    "    sns.heatmap(conf_matrix, xticklabels = LABELS, yticklabels = LABELS, annot = True, fmt = \"d\");\n",
    "    plt.title(\"Confusion matrix\")\n",
    "    plt.ylabel('True class')\n",
    "    plt.xlabel('Predicted class')\n",
    "    plt.show()\n",
    "    print (classification_report(y_test, pred_y))"
   ]
  },
  {
   "cell_type": "markdown",
   "id": "latter-plastic",
   "metadata": {},
   "source": [
    "------------------------------------"
   ]
  },
  {
   "cell_type": "markdown",
   "id": "e96cf1c9-e1ed-4157-936c-2101ae9b9fe5",
   "metadata": {},
   "source": [
    "------------------"
   ]
  },
  {
   "cell_type": "markdown",
   "id": "aquatic-cartoon",
   "metadata": {},
   "source": [
    "A continuación comenzamos leyendo los ficheros que hemos tratado, limpiado y analizado en los procesos anteriores.\n",
    "\n",
    "Se realizará un análisis sencillo de la estructura y una visualización de varias muestras. \n",
    "\n",
    "Además someteremos las variables categóricas a variables *dummies*, de forma que que podamos introducirlas ennuestro modelo."
   ]
  },
  {
   "cell_type": "markdown",
   "id": "popular-offering",
   "metadata": {},
   "source": [
    "### 2.1 Lectura de Fichero"
   ]
  },
  {
   "cell_type": "code",
   "execution_count": 4,
   "id": "missing-induction",
   "metadata": {},
   "outputs": [],
   "source": [
    "df = pd.read_csv('Data/dataset_model_corr.txt', sep = ';', encoding = 'ISO-8859-1')"
   ]
  },
  {
   "cell_type": "code",
   "execution_count": 5,
   "id": "convertible-brass",
   "metadata": {},
   "outputs": [
    {
     "data": {
      "text/plain": [
       "(406267, 26)"
      ]
     },
     "execution_count": 5,
     "metadata": {},
     "output_type": "execute_result"
    }
   ],
   "source": [
    "df.shape"
   ]
  },
  {
   "cell_type": "code",
   "execution_count": 6,
   "id": "metropolitan-melissa",
   "metadata": {},
   "outputs": [
    {
     "data": {
      "text/html": [
       "<div>\n",
       "<style scoped>\n",
       "    .dataframe tbody tr th:only-of-type {\n",
       "        vertical-align: middle;\n",
       "    }\n",
       "\n",
       "    .dataframe tbody tr th {\n",
       "        vertical-align: top;\n",
       "    }\n",
       "\n",
       "    .dataframe thead th {\n",
       "        text-align: right;\n",
       "    }\n",
       "</style>\n",
       "<table border=\"1\" class=\"dataframe\">\n",
       "  <thead>\n",
       "    <tr style=\"text-align: right;\">\n",
       "      <th></th>\n",
       "      <th>TIPOUSUARIO</th>\n",
       "      <th>FECHA_REGISTRO_WEEKDAY</th>\n",
       "      <th>FECHA_REGISTRO_MONTH</th>\n",
       "      <th>CANAL_REGISTRO</th>\n",
       "      <th>TIPOEMAIL</th>\n",
       "      <th>BONDAD_EMAIL</th>\n",
       "      <th>TIPO_TELF</th>\n",
       "      <th>IP_CONTINENTE</th>\n",
       "      <th>IP_COUNTRY_PIB</th>\n",
       "      <th>USU_TIPO</th>\n",
       "      <th>USU_TAMANIO</th>\n",
       "      <th>USU_ESTADO</th>\n",
       "      <th>USU_SECTOR_ECONOMICO</th>\n",
       "      <th>1A_DESCGRUPOPROD</th>\n",
       "      <th>1A_EMPCONSUL_EST</th>\n",
       "      <th>1A_EMPCONSUL_SECTOR</th>\n",
       "      <th>IPCASOS</th>\n",
       "      <th>IP_COUNTRY_IDH_NUM</th>\n",
       "      <th>USU_DEPART_DEN_POB</th>\n",
       "      <th>USU_DEPART_IDH</th>\n",
       "      <th>1A_EMPCONSUL_PROV_DENS</th>\n",
       "      <th>1A_EMPCONSUL_PROV_IDH</th>\n",
       "      <th>FICH_PROMO_TOT</th>\n",
       "      <th>PERF_PROMO_TOT</th>\n",
       "      <th>IND_ALTA</th>\n",
       "      <th>IND_CLIENTE</th>\n",
       "    </tr>\n",
       "  </thead>\n",
       "  <tbody>\n",
       "    <tr>\n",
       "      <th>0</th>\n",
       "      <td>PF</td>\n",
       "      <td>1</td>\n",
       "      <td>10</td>\n",
       "      <td>3</td>\n",
       "      <td>GOOHOTYAHMAIL</td>\n",
       "      <td>0</td>\n",
       "      <td>NO_PUBLICO</td>\n",
       "      <td>AMERICA_SUR</td>\n",
       "      <td>Ingreso mediano alto</td>\n",
       "      <td>NoApl</td>\n",
       "      <td>NoApl</td>\n",
       "      <td>NoApl</td>\n",
       "      <td>NoApl</td>\n",
       "      <td>PERF_PROMO</td>\n",
       "      <td>ACTIVA</td>\n",
       "      <td>TERCIARIO</td>\n",
       "      <td>1</td>\n",
       "      <td>0.767</td>\n",
       "      <td>-1.00</td>\n",
       "      <td>-1.000</td>\n",
       "      <td>47.92</td>\n",
       "      <td>0.782</td>\n",
       "      <td>0</td>\n",
       "      <td>1</td>\n",
       "      <td>0</td>\n",
       "      <td>0</td>\n",
       "    </tr>\n",
       "    <tr>\n",
       "      <th>1</th>\n",
       "      <td>PJ</td>\n",
       "      <td>1</td>\n",
       "      <td>5</td>\n",
       "      <td>3</td>\n",
       "      <td>GOOHOTYAHMAIL</td>\n",
       "      <td>1</td>\n",
       "      <td>NO_PUBLICO</td>\n",
       "      <td>AMERICA_SUR</td>\n",
       "      <td>Ingreso mediano alto</td>\n",
       "      <td>SOC_COMERCIAL_INDUSTRIAL</td>\n",
       "      <td>PQ</td>\n",
       "      <td>ACTIVA</td>\n",
       "      <td>TERCIARIO</td>\n",
       "      <td>PERF_PROMO</td>\n",
       "      <td>ACTIVA</td>\n",
       "      <td>SD</td>\n",
       "      <td>1</td>\n",
       "      <td>0.767</td>\n",
       "      <td>306.38</td>\n",
       "      <td>0.832</td>\n",
       "      <td>47.92</td>\n",
       "      <td>0.782</td>\n",
       "      <td>0</td>\n",
       "      <td>1</td>\n",
       "      <td>0</td>\n",
       "      <td>0</td>\n",
       "    </tr>\n",
       "    <tr>\n",
       "      <th>2</th>\n",
       "      <td>PJ</td>\n",
       "      <td>2</td>\n",
       "      <td>9</td>\n",
       "      <td>7</td>\n",
       "      <td>GOOHOTYAHMAIL</td>\n",
       "      <td>1</td>\n",
       "      <td>NO_PUBLICO</td>\n",
       "      <td>AMERICA_SUR</td>\n",
       "      <td>Ingreso mediano alto</td>\n",
       "      <td>SOC_COMERCIAL_INDUSTRIAL</td>\n",
       "      <td>MC</td>\n",
       "      <td>ACTIVA</td>\n",
       "      <td>TERCIARIO</td>\n",
       "      <td>PERF_PROMO</td>\n",
       "      <td>ACTIVA</td>\n",
       "      <td>TERCIARIO</td>\n",
       "      <td>1</td>\n",
       "      <td>0.767</td>\n",
       "      <td>815.17</td>\n",
       "      <td>0.835</td>\n",
       "      <td>4438.75</td>\n",
       "      <td>0.904</td>\n",
       "      <td>0</td>\n",
       "      <td>1</td>\n",
       "      <td>0</td>\n",
       "      <td>0</td>\n",
       "    </tr>\n",
       "  </tbody>\n",
       "</table>\n",
       "</div>"
      ],
      "text/plain": [
       "  TIPOUSUARIO  FECHA_REGISTRO_WEEKDAY  FECHA_REGISTRO_MONTH  CANAL_REGISTRO  \\\n",
       "0          PF                       1                    10               3   \n",
       "1          PJ                       1                     5               3   \n",
       "2          PJ                       2                     9               7   \n",
       "\n",
       "       TIPOEMAIL  BONDAD_EMAIL   TIPO_TELF IP_CONTINENTE  \\\n",
       "0  GOOHOTYAHMAIL             0  NO_PUBLICO   AMERICA_SUR   \n",
       "1  GOOHOTYAHMAIL             1  NO_PUBLICO   AMERICA_SUR   \n",
       "2  GOOHOTYAHMAIL             1  NO_PUBLICO   AMERICA_SUR   \n",
       "\n",
       "         IP_COUNTRY_PIB                  USU_TIPO USU_TAMANIO USU_ESTADO  \\\n",
       "0  Ingreso mediano alto                     NoApl       NoApl      NoApl   \n",
       "1  Ingreso mediano alto  SOC_COMERCIAL_INDUSTRIAL          PQ     ACTIVA   \n",
       "2  Ingreso mediano alto  SOC_COMERCIAL_INDUSTRIAL          MC     ACTIVA   \n",
       "\n",
       "  USU_SECTOR_ECONOMICO 1A_DESCGRUPOPROD 1A_EMPCONSUL_EST 1A_EMPCONSUL_SECTOR  \\\n",
       "0                NoApl       PERF_PROMO           ACTIVA           TERCIARIO   \n",
       "1            TERCIARIO       PERF_PROMO           ACTIVA                  SD   \n",
       "2            TERCIARIO       PERF_PROMO           ACTIVA           TERCIARIO   \n",
       "\n",
       "   IPCASOS  IP_COUNTRY_IDH_NUM  USU_DEPART_DEN_POB  USU_DEPART_IDH  \\\n",
       "0        1               0.767               -1.00          -1.000   \n",
       "1        1               0.767              306.38           0.832   \n",
       "2        1               0.767              815.17           0.835   \n",
       "\n",
       "   1A_EMPCONSUL_PROV_DENS  1A_EMPCONSUL_PROV_IDH  FICH_PROMO_TOT  \\\n",
       "0                   47.92                  0.782               0   \n",
       "1                   47.92                  0.782               0   \n",
       "2                 4438.75                  0.904               0   \n",
       "\n",
       "   PERF_PROMO_TOT  IND_ALTA  IND_CLIENTE  \n",
       "0               1         0            0  \n",
       "1               1         0            0  \n",
       "2               1         0            0  "
      ]
     },
     "execution_count": 6,
     "metadata": {},
     "output_type": "execute_result"
    }
   ],
   "source": [
    "df.head(3)"
   ]
  },
  {
   "cell_type": "markdown",
   "id": "8980cbe8-fdd7-4370-bba8-f7902787b1e5",
   "metadata": {},
   "source": [
    "------------------"
   ]
  },
  {
   "cell_type": "markdown",
   "id": "automotive-supervisor",
   "metadata": {},
   "source": [
    "### 2.2 Variables dummies"
   ]
  },
  {
   "cell_type": "code",
   "execution_count": 7,
   "id": "8f4e797e-2a7f-49bf-99e0-eac35670cabd",
   "metadata": {},
   "outputs": [],
   "source": [
    "ohe_columns = ['TIPOUSUARIO','FECHA_REGISTRO_WEEKDAY','FECHA_REGISTRO_MONTH','CANAL_REGISTRO','TIPOEMAIL','TIPO_TELF','IP_CONTINENTE','IP_COUNTRY_PIB','USU_TIPO',\n",
    "               'USU_TAMANIO','USU_ESTADO','USU_SECTOR_ECONOMICO','1A_DESCGRUPOPROD','1A_EMPCONSUL_EST','1A_EMPCONSUL_SECTOR']"
   ]
  },
  {
   "cell_type": "code",
   "execution_count": 8,
   "id": "comparable-english",
   "metadata": {},
   "outputs": [],
   "source": [
    "final_df = pd.get_dummies(df, columns = ohe_columns)"
   ]
  },
  {
   "cell_type": "markdown",
   "id": "approved-short",
   "metadata": {},
   "source": [
    "**Columnas para la predicción**"
   ]
  },
  {
   "cell_type": "code",
   "execution_count": 10,
   "id": "779af15b-5ea6-4108-b9fb-031f1c7f8228",
   "metadata": {},
   "outputs": [],
   "source": [
    "columnas = ['TIPOUSUARIO_PJ', 'FECHA_REGISTRO_WEEKDAY_0','FECHA_REGISTRO_WEEKDAY_1', 'FECHA_REGISTRO_WEEKDAY_2','FECHA_REGISTRO_WEEKDAY_3', \n",
    "            'FECHA_REGISTRO_WEEKDAY_4','FECHA_REGISTRO_WEEKDAY_5', 'FECHA_REGISTRO_WEEKDAY_6','FECHA_REGISTRO_MONTH_1', 'FECHA_REGISTRO_MONTH_2',\n",
    "            'FECHA_REGISTRO_MONTH_3', 'FECHA_REGISTRO_MONTH_4','FECHA_REGISTRO_MONTH_5', 'FECHA_REGISTRO_MONTH_6','FECHA_REGISTRO_MONTH_7', 'FECHA_REGISTRO_MONTH_8',\n",
    "            'FECHA_REGISTRO_MONTH_9', 'FECHA_REGISTRO_MONTH_10','FECHA_REGISTRO_MONTH_11', 'FECHA_REGISTRO_MONTH_12','CANAL_REGISTRO_1', 'CANAL_REGISTRO_2', 'CANAL_REGISTRO_3',\n",
    "            'CANAL_REGISTRO_4', 'CANAL_REGISTRO_5', 'CANAL_REGISTRO_6', 'CANAL_REGISTRO_7', 'CANAL_REGISTRO_8', 'CANAL_REGISTRO_9','TIPOEMAIL_ADMINISTRACION','TIPOEMAIL_CORPORATIVO',\n",
    "            'TIPOEMAIL_DOCENTE','TIPOEMAIL_GOOHOTYAHMAIL','TIPOEMAIL_SINCLASIFICAR','TIPOEMAIL_TEMPORAL','BONDAD_EMAIL','IPCASOS','TIPO_TELF_EXTRANJERO',\n",
    "            'TIPO_TELF_MOVIL', 'TIPO_TELF_NO_PUBLICO','IP_CONTINENTE_AFRICA','IP_CONTINENTE_AMERICA_NORTE','IP_CONTINENTE_AMERICA_SUR','IP_CONTINENTE_ASIA','IP_CONTINENTE_EUROPA',\n",
    "            'IP_CONTINENTE_NI','IP_CONTINENTE_OCEANNIA', 'IP_COUNTRY_PIB_Ingreso alto','IP_COUNTRY_PIB_Ingreso mediano alto','IP_COUNTRY_PIB_NI',\n",
    "            'IP_COUNTRY_PIB_Países de ingreso mediano bajo','IP_COUNTRY_IDH_NUM', 'USU_TIPO_EMPRESARIO INDIVIDUAL','USU_TIPO_ENTIDAD_HOLDING','USU_TIPO_NI','USU_TIPO_NoApl',\n",
    "            'USU_TIPO_SOC_COMERCIAL_INDUSTRIAL','USU_TIPO_SOC_NO_COMERCIAL','USU_TAMANIO_GR', 'USU_TAMANIO_MC','USU_TAMANIO_MD','USU_TAMANIO_NoApl','USU_TAMANIO_PQ',\n",
    "            'USU_TAMANIO_SD','USU_ESTADO_ACTIVA','USU_ESTADO_INACTIVA','USU_ESTADO_NoApl', 'USU_ESTADO_REESTRUCTURACION','USU_ESTADO_RELACION_CLINTON','USU_ESTADO_SD',\n",
    "            'USU_SECTOR_ECONOMICO_CUATERNARIO','USU_SECTOR_ECONOMICO_NoApl', 'USU_SECTOR_ECONOMICO_PRIMARIO','USU_SECTOR_ECONOMICO_QUINARIO','USU_SECTOR_ECONOMICO_SD',\n",
    "            'USU_SECTOR_ECONOMICO_SECUNDARIO','USU_SECTOR_ECONOMICO_TERCIARIO', 'USU_DEPART_DEN_POB','USU_DEPART_IDH','FICH_PROMO_TOT','PERF_PROMO_TOT','1A_EMPCONSUL_EST_ACTIVA', \n",
    "            '1A_EMPCONSUL_EST_INACTIVA', '1A_DESCGRUPOPROD_FICH_PROMO', '1A_DESCGRUPOPROD_PERF_PROMO', '1A_DESCGRUPOPROD_RES_PAGO', '1A_EMPCONSUL_EST_NI', \n",
    "            '1A_EMPCONSUL_EST_REESTRUCTURACION', '1A_EMPCONSUL_EST_RELACION_CLINTON', '1A_EMPCONSUL_SECTOR_CUATERNARIO', '1A_EMPCONSUL_SECTOR_PRIMARIO', '1A_EMPCONSUL_SECTOR_QUINARIO',\n",
    "            '1A_EMPCONSUL_SECTOR_SD', '1A_EMPCONSUL_SECTOR_SECUNDARIO', '1A_EMPCONSUL_SECTOR_TERCIARIO']"
   ]
  },
  {
   "cell_type": "markdown",
   "id": "noted-genetics",
   "metadata": {},
   "source": [
    "-----------------"
   ]
  },
  {
   "cell_type": "markdown",
   "id": "b53a6771-0046-48a6-871c-05a8a6cf2dc2",
   "metadata": {},
   "source": [
    "------------------"
   ]
  },
  {
   "cell_type": "markdown",
   "id": "correct-music",
   "metadata": {},
   "source": [
    "### 3.1 Analisis desbalanceo"
   ]
  },
  {
   "cell_type": "code",
   "execution_count": 11,
   "id": "impaired-liabilities",
   "metadata": {},
   "outputs": [
    {
     "data": {
      "text/plain": [
       "(406267, 100)"
      ]
     },
     "execution_count": 11,
     "metadata": {},
     "output_type": "execute_result"
    }
   ],
   "source": [
    "final_df.shape"
   ]
  },
  {
   "cell_type": "code",
   "execution_count": 12,
   "id": "8b388088-a643-4ae2-8d30-c3c7404fc8e1",
   "metadata": {},
   "outputs": [
    {
     "data": {
      "text/plain": [
       "0    98489\n",
       "1     7009\n",
       "Name: IND_CLIENTE, dtype: int64"
      ]
     },
     "execution_count": 12,
     "metadata": {},
     "output_type": "execute_result"
    }
   ],
   "source": [
    "pd.value_counts(final_df.loc[final_df['TIPOUSUARIO_PJ'] == 1, 'IND_CLIENTE'], sort = True)"
   ]
  },
  {
   "cell_type": "code",
   "execution_count": 13,
   "id": "28fad46d-a0be-410b-a721-6f3c57e28330",
   "metadata": {},
   "outputs": [
    {
     "data": {
      "image/png": "[encoded data removed]",
      "text/plain": [
       "<Figure size 432x288 with 1 Axes>"
      ]
     },
     "metadata": {
      "needs_background": "light"
     },
     "output_type": "display_data"
    }
   ],
   "source": [
    "count_classes = pd.value_counts(final_df.loc[final_df['TIPOUSUARIO_PJ'] == 1, 'IND_CLIENTE'], sort = True)\n",
    "count_classes.plot(kind = 'bar', rot = 0)\n",
    "plt.xticks(range(2), LABELS)\n",
    "plt.title(\"Frequency by observation number\")\n",
    "plt.xlabel(\"Target\")\n",
    "plt.ylabel(\"Observations\");"
   ]
  },
  {
   "cell_type": "code",
   "execution_count": 14,
   "id": "48c97fc9-bbce-4db6-9493-b3929ad589c7",
   "metadata": {},
   "outputs": [
    {
     "name": "stdout",
     "output_type": "stream",
     "text": [
      "Los clientes suponen un % del total:  2.3303598442658653\n"
     ]
    }
   ],
   "source": [
    "print('Los clientes suponen un % del total: ', ((7009/(len(final_df.loc[final_df['TIPOUSUARIO_PF'] == 1])))*100))"
   ]
  },
  {
   "cell_type": "markdown",
   "id": "injured-charleston",
   "metadata": {},
   "source": [
    "**Podemos ver un claro desbalanceo donde los clientes no suponen más del 3% de las observaciones**"
   ]
  },
  {
   "cell_type": "markdown",
   "id": "outdoor-block",
   "metadata": {},
   "source": [
    "------------------"
   ]
  },
  {
   "cell_type": "markdown",
   "id": "fdd02bf4-e138-4042-a589-d306dc6779e0",
   "metadata": {},
   "source": [
    "------------------"
   ]
  },
  {
   "cell_type": "markdown",
   "id": "central-personality",
   "metadata": {},
   "source": [
    "### 4. Creación del Modelo"
   ]
  },
  {
   "cell_type": "markdown",
   "id": "otherwise-capability",
   "metadata": {},
   "source": [
    "#### 4.1 Dividimos el set entre features y label"
   ]
  },
  {
   "cell_type": "code",
   "execution_count": 15,
   "id": "9d6e874d-1b2c-4ef9-827a-2178bad8cb38",
   "metadata": {},
   "outputs": [],
   "source": [
    "final_df_PJ = final_df.loc[final_df['TIPOUSUARIO_PJ'] == 1]"
   ]
  },
  {
   "cell_type": "code",
   "execution_count": 16,
   "id": "f321f04a-2234-4765-8bb0-c4b21f55af01",
   "metadata": {},
   "outputs": [],
   "source": [
    "features = final_df_PJ[columnas]\n",
    "labels = final_df_PJ['IND_CLIENTE']"
   ]
  },
  {
   "cell_type": "code",
   "execution_count": 17,
   "id": "dfbf2f13-b44d-4c8a-ae0d-0236bcc82913",
   "metadata": {},
   "outputs": [
    {
     "data": {
      "text/plain": [
       "(105498, 95)"
      ]
     },
     "execution_count": 17,
     "metadata": {},
     "output_type": "execute_result"
    }
   ],
   "source": [
    "features.shape"
   ]
  },
  {
   "cell_type": "code",
   "execution_count": 18,
   "id": "f598ccb9-418c-4118-8b57-8fdb84ffe7f8",
   "metadata": {},
   "outputs": [
    {
     "data": {
      "text/plain": [
       "(105498,)"
      ]
     },
     "execution_count": 18,
     "metadata": {},
     "output_type": "execute_result"
    }
   ],
   "source": [
    "labels.shape"
   ]
  },
  {
   "cell_type": "markdown",
   "id": "3a931989-9ac6-423c-9670-35bb88a7ca36",
   "metadata": {},
   "source": [
    "------------------"
   ]
  },
  {
   "cell_type": "markdown",
   "id": "furnished-america",
   "metadata": {},
   "source": [
    "#### 4.2 Creamos set de entrenamiento y test"
   ]
  },
  {
   "cell_type": "code",
   "execution_count": 19,
   "id": "caring-thanks",
   "metadata": {},
   "outputs": [],
   "source": [
    "train_x, test_x, train_y, test_y = train_test_split(features, labels, test_size = 0.3, random_state = 123)"
   ]
  },
  {
   "cell_type": "code",
   "execution_count": 20,
   "id": "instructional-hamilton",
   "metadata": {},
   "outputs": [
    {
     "data": {
      "text/plain": [
       "(73848, 95)"
      ]
     },
     "execution_count": 20,
     "metadata": {},
     "output_type": "execute_result"
    }
   ],
   "source": [
    "train_x.shape"
   ]
  },
  {
   "cell_type": "code",
   "execution_count": 21,
   "id": "responsible-hometown",
   "metadata": {},
   "outputs": [
    {
     "data": {
      "text/plain": [
       "(31650, 95)"
      ]
     },
     "execution_count": 21,
     "metadata": {},
     "output_type": "execute_result"
    }
   ],
   "source": [
    "test_x.shape"
   ]
  },
  {
   "cell_type": "code",
   "execution_count": 22,
   "id": "funky-scientist",
   "metadata": {},
   "outputs": [
    {
     "data": {
      "text/plain": [
       "(73848,)"
      ]
     },
     "execution_count": 22,
     "metadata": {},
     "output_type": "execute_result"
    }
   ],
   "source": [
    "train_y.shape"
   ]
  },
  {
   "cell_type": "code",
   "execution_count": 23,
   "id": "regional-discretion",
   "metadata": {},
   "outputs": [
    {
     "data": {
      "text/plain": [
       "(31650,)"
      ]
     },
     "execution_count": 23,
     "metadata": {},
     "output_type": "execute_result"
    }
   ],
   "source": [
    "test_y.shape"
   ]
  },
  {
   "cell_type": "markdown",
   "id": "b464f98b-0919-4273-be3b-294a6af461a4",
   "metadata": {},
   "source": [
    "--------------"
   ]
  },
  {
   "cell_type": "markdown",
   "id": "c3d00647-8597-41e9-87ba-392768dafae8",
   "metadata": {},
   "source": [
    "--------------"
   ]
  },
  {
   "cell_type": "markdown",
   "id": "52564134-88e7-45ce-8cce-2bd313130de9",
   "metadata": {},
   "source": [
    "#### 4.3 Modelo 1 - Baseline"
   ]
  },
  {
   "cell_type": "markdown",
   "id": "cc1c45b7-f093-4da3-ae96-17a9e5aed5e7",
   "metadata": {},
   "source": [
    "Nuestro modelo Base, tendrá los parámetros obtenidos como mejores anteriormente."
   ]
  },
  {
   "cell_type": "markdown",
   "id": "658340b2-5b18-4c3c-9bf6-aa9110185835",
   "metadata": {},
   "source": [
    "**Aplicamos los mejores hiperparámetros obtenidos**"
   ]
  },
  {
   "cell_type": "code",
   "execution_count": 24,
   "id": "3c93d30f-37d9-4f30-b1be-cb851308f0ab",
   "metadata": {},
   "outputs": [],
   "source": [
    "clf = XGBClassifier(eval_metric = 'error', objective = 'binary:logistic', colsample_bytree = 0.6, learning_rate = 0.5, max_depth = 8, alpha = 0, n_estimators = 320, random_state = 123)"
   ]
  },
  {
   "cell_type": "code",
   "execution_count": 25,
   "id": "insured-combine",
   "metadata": {
    "tags": []
   },
   "outputs": [
    {
     "data": {
      "text/plain": [
       "XGBClassifier(alpha=0, base_score=0.5, booster='gbtree', colsample_bylevel=1,\n",
       "              colsample_bynode=1, colsample_bytree=0.6, eval_metric='error',\n",
       "              gamma=0, gpu_id=-1, importance_type='gain',\n",
       "              interaction_constraints='', learning_rate=0.5, max_delta_step=0,\n",
       "              max_depth=8, min_child_weight=1, missing=nan,\n",
       "              monotone_constraints='()', n_estimators=320, n_jobs=12,\n",
       "              num_parallel_tree=1, random_state=123, reg_alpha=0, reg_lambda=1,\n",
       "              scale_pos_weight=1, subsample=1, tree_method='exact',\n",
       "              validate_parameters=1, verbosity=None)"
      ]
     },
     "execution_count": 25,
     "metadata": {},
     "output_type": "execute_result"
    }
   ],
   "source": [
    "clf.fit(train_x, train_y)"
   ]
  },
  {
   "cell_type": "markdown",
   "id": "2dbc7f8f-39ee-43df-9406-a0cc0f1e7dca",
   "metadata": {},
   "source": [
    "Observamos los resultados del modelo"
   ]
  },
  {
   "cell_type": "code",
   "execution_count": 26,
   "id": "99b3e8cf-d083-4675-bffd-fd9ef66a201d",
   "metadata": {},
   "outputs": [
    {
     "data": {
      "image/png": "[encoded data removed]",
      "text/plain": [
       "<Figure size 576x576 with 2 Axes>"
      ]
     },
     "metadata": {
      "needs_background": "light"
     },
     "output_type": "display_data"
    },
    {
     "name": "stdout",
     "output_type": "stream",
     "text": [
      "              precision    recall  f1-score   support\n",
      "\n",
      "           0       0.99      1.00      1.00     29536\n",
      "           1       0.97      0.93      0.95      2114\n",
      "\n",
      "    accuracy                           0.99     31650\n",
      "   macro avg       0.98      0.96      0.97     31650\n",
      "weighted avg       0.99      0.99      0.99     31650\n",
      "\n"
     ]
    }
   ],
   "source": [
    "pred_y = clf.predict(test_x)\n",
    "mostrar_resultados(test_y, pred_y)"
   ]
  },
  {
   "cell_type": "code",
   "execution_count": 30,
   "id": "demographic-means",
   "metadata": {},
   "outputs": [],
   "source": [
    "feature_importances = pd.DataFrame(clf.feature_importances_, index = train_x.columns, columns = ['important']).sort_values(['important'], ascending = 0)"
   ]
  },
  {
   "cell_type": "code",
   "execution_count": 31,
   "id": "unlikely-holder",
   "metadata": {
    "tags": []
   },
   "outputs": [
    {
     "data": {
      "text/html": [
       "<div>\n",
       "<style scoped>\n",
       "    .dataframe tbody tr th:only-of-type {\n",
       "        vertical-align: middle;\n",
       "    }\n",
       "\n",
       "    .dataframe tbody tr th {\n",
       "        vertical-align: top;\n",
       "    }\n",
       "\n",
       "    .dataframe thead th {\n",
       "        text-align: right;\n",
       "    }\n",
       "</style>\n",
       "<table border=\"1\" class=\"dataframe\">\n",
       "  <thead>\n",
       "    <tr style=\"text-align: right;\">\n",
       "      <th></th>\n",
       "      <th>important</th>\n",
       "    </tr>\n",
       "  </thead>\n",
       "  <tbody>\n",
       "    <tr>\n",
       "      <th>FICH_PROMO_TOT</th>\n",
       "      <td>8.843495</td>\n",
       "    </tr>\n",
       "    <tr>\n",
       "      <th>1A_DESCGRUPOPROD_RES_PAGO</th>\n",
       "      <td>5.156056</td>\n",
       "    </tr>\n",
       "    <tr>\n",
       "      <th>TIPOEMAIL_TEMPORAL</th>\n",
       "      <td>4.309551</td>\n",
       "    </tr>\n",
       "    <tr>\n",
       "      <th>BONDAD_EMAIL</th>\n",
       "      <td>3.689777</td>\n",
       "    </tr>\n",
       "    <tr>\n",
       "      <th>CANAL_REGISTRO_4</th>\n",
       "      <td>3.010932</td>\n",
       "    </tr>\n",
       "    <tr>\n",
       "      <th>USU_TIPO_EMPRESARIO INDIVIDUAL</th>\n",
       "      <td>2.966421</td>\n",
       "    </tr>\n",
       "    <tr>\n",
       "      <th>USU_TIPO_NI</th>\n",
       "      <td>2.867246</td>\n",
       "    </tr>\n",
       "    <tr>\n",
       "      <th>IP_COUNTRY_PIB_NI</th>\n",
       "      <td>2.558399</td>\n",
       "    </tr>\n",
       "    <tr>\n",
       "      <th>1A_EMPCONSUL_EST_NI</th>\n",
       "      <td>2.471121</td>\n",
       "    </tr>\n",
       "    <tr>\n",
       "      <th>CANAL_REGISTRO_1</th>\n",
       "      <td>2.269356</td>\n",
       "    </tr>\n",
       "    <tr>\n",
       "      <th>USU_ESTADO_ACTIVA</th>\n",
       "      <td>2.138111</td>\n",
       "    </tr>\n",
       "    <tr>\n",
       "      <th>IP_CONTINENTE_EUROPA</th>\n",
       "      <td>2.054409</td>\n",
       "    </tr>\n",
       "    <tr>\n",
       "      <th>USU_ESTADO_REESTRUCTURACION</th>\n",
       "      <td>1.652376</td>\n",
       "    </tr>\n",
       "    <tr>\n",
       "      <th>TIPOEMAIL_GOOHOTYAHMAIL</th>\n",
       "      <td>1.606139</td>\n",
       "    </tr>\n",
       "    <tr>\n",
       "      <th>USU_TAMANIO_SD</th>\n",
       "      <td>1.334617</td>\n",
       "    </tr>\n",
       "    <tr>\n",
       "      <th>CANAL_REGISTRO_6</th>\n",
       "      <td>1.318321</td>\n",
       "    </tr>\n",
       "    <tr>\n",
       "      <th>TIPOEMAIL_SINCLASIFICAR</th>\n",
       "      <td>1.316160</td>\n",
       "    </tr>\n",
       "    <tr>\n",
       "      <th>1A_EMPCONSUL_EST_INACTIVA</th>\n",
       "      <td>1.271503</td>\n",
       "    </tr>\n",
       "    <tr>\n",
       "      <th>1A_DESCGRUPOPROD_FICH_PROMO</th>\n",
       "      <td>1.251149</td>\n",
       "    </tr>\n",
       "    <tr>\n",
       "      <th>IP_CONTINENTE_AMERICA_NORTE</th>\n",
       "      <td>1.239273</td>\n",
       "    </tr>\n",
       "    <tr>\n",
       "      <th>USU_TAMANIO_MD</th>\n",
       "      <td>1.239125</td>\n",
       "    </tr>\n",
       "    <tr>\n",
       "      <th>USU_TIPO_ENTIDAD_HOLDING</th>\n",
       "      <td>1.182886</td>\n",
       "    </tr>\n",
       "    <tr>\n",
       "      <th>CANAL_REGISTRO_9</th>\n",
       "      <td>1.178938</td>\n",
       "    </tr>\n",
       "    <tr>\n",
       "      <th>1A_EMPCONSUL_SECTOR_QUINARIO</th>\n",
       "      <td>1.118925</td>\n",
       "    </tr>\n",
       "    <tr>\n",
       "      <th>PERF_PROMO_TOT</th>\n",
       "      <td>1.083377</td>\n",
       "    </tr>\n",
       "  </tbody>\n",
       "</table>\n",
       "</div>"
      ],
      "text/plain": [
       "                                important\n",
       "FICH_PROMO_TOT                   8.843495\n",
       "1A_DESCGRUPOPROD_RES_PAGO        5.156056\n",
       "TIPOEMAIL_TEMPORAL               4.309551\n",
       "BONDAD_EMAIL                     3.689777\n",
       "CANAL_REGISTRO_4                 3.010932\n",
       "USU_TIPO_EMPRESARIO INDIVIDUAL   2.966421\n",
       "USU_TIPO_NI                      2.867246\n",
       "IP_COUNTRY_PIB_NI                2.558399\n",
       "1A_EMPCONSUL_EST_NI              2.471121\n",
       "CANAL_REGISTRO_1                 2.269356\n",
       "USU_ESTADO_ACTIVA                2.138111\n",
       "IP_CONTINENTE_EUROPA             2.054409\n",
       "USU_ESTADO_REESTRUCTURACION      1.652376\n",
       "TIPOEMAIL_GOOHOTYAHMAIL          1.606139\n",
       "USU_TAMANIO_SD                   1.334617\n",
       "CANAL_REGISTRO_6                 1.318321\n",
       "TIPOEMAIL_SINCLASIFICAR          1.316160\n",
       "1A_EMPCONSUL_EST_INACTIVA        1.271503\n",
       "1A_DESCGRUPOPROD_FICH_PROMO      1.251149\n",
       "IP_CONTINENTE_AMERICA_NORTE      1.239273\n",
       "USU_TAMANIO_MD                   1.239125\n",
       "USU_TIPO_ENTIDAD_HOLDING         1.182886\n",
       "CANAL_REGISTRO_9                 1.178938\n",
       "1A_EMPCONSUL_SECTOR_QUINARIO     1.118925\n",
       "PERF_PROMO_TOT                   1.083377"
      ]
     },
     "execution_count": 31,
     "metadata": {},
     "output_type": "execute_result"
    }
   ],
   "source": [
    "feature_importances[feature_importances['important'] > 0.01]*100"
   ]
  },
  {
   "cell_type": "code",
   "execution_count": 32,
   "id": "3daff4e8-5a98-4a0a-84e7-f63f59d3da77",
   "metadata": {},
   "outputs": [
    {
     "data": {
      "text/plain": [
       "(25, 1)"
      ]
     },
     "execution_count": 32,
     "metadata": {},
     "output_type": "execute_result"
    }
   ],
   "source": [
    "feature_importances[feature_importances['important'] > 0.01].shape"
   ]
  },
  {
   "cell_type": "markdown",
   "id": "cc4e389e-3f00-4e28-b6c9-fa04010869c8",
   "metadata": {},
   "source": [
    "------"
   ]
  },
  {
   "cell_type": "markdown",
   "id": "fa879172-3154-4fad-83fa-09146606af6c",
   "metadata": {},
   "source": [
    "------"
   ]
  },
  {
   "cell_type": "markdown",
   "id": "f6e60ac6-fa15-478e-8be0-3c9bff9c2ae9",
   "metadata": {},
   "source": [
    "------"
   ]
  },
  {
   "cell_type": "markdown",
   "id": "47f29614-b625-4eb1-83dc-528963d4c00d",
   "metadata": {},
   "source": [
    "#### 4.4 Modelo - Aplicando técnicas sobre el desbalanceo"
   ]
  },
  {
   "cell_type": "markdown",
   "id": "5fb1a513-7e01-444f-812b-6efd1d893277",
   "metadata": {},
   "source": [
    "**Estrategias para el manejo de Datos Desbalanceados**"
   ]
  },
  {
   "cell_type": "markdown",
   "id": "635d50be-5a6f-4f3c-8178-1dfc9aa92628",
   "metadata": {},
   "source": [
    "##### **4.4.1 Subsampling en la clase mayoritaria**"
   ]
  },
  {
   "cell_type": "markdown",
   "id": "7947496a-2b29-4372-8e64-970988b98a30",
   "metadata": {},
   "source": [
    "**RandomUnderSampler**"
   ]
  },
  {
   "cell_type": "code",
   "execution_count": 33,
   "id": "d9ba49bd-9a5c-41d8-8b74-162b3f75d535",
   "metadata": {},
   "outputs": [
    {
     "name": "stdout",
     "output_type": "stream",
     "text": [
      "Distribution before resampling Counter({0: 68953, 1: 4895})\n",
      "Distribution after resampling Counter({0: 4895, 1: 4895})\n"
     ]
    }
   ],
   "source": [
    "us = RandomUnderSampler(sampling_strategy = 'majority', random_state = 123)\n",
    "X_train_res, y_train_res = us.fit_resample(train_x, train_y)\n",
    " \n",
    "print (\"Distribution before resampling {}\".format(Counter(train_y)))\n",
    "print (\"Distribution after resampling {}\".format(Counter(y_train_res)))"
   ]
  },
  {
   "cell_type": "code",
   "execution_count": 34,
   "id": "b65a7df8-c9eb-42e2-b78e-d184aa577955",
   "metadata": {},
   "outputs": [],
   "source": [
    "clf = XGBClassifier(eval_metric = 'error', objective = 'binary:logistic', colsample_bytree = 0.6, learning_rate = 0.5, max_depth = 8, alpha = 0, n_estimators = 320, random_state = 123)"
   ]
  },
  {
   "cell_type": "code",
   "execution_count": 35,
   "id": "31474a6f-49b7-4253-8ec1-7c8e60b7c41a",
   "metadata": {
    "tags": []
   },
   "outputs": [
    {
     "data": {
      "text/plain": [
       "XGBClassifier(alpha=0, base_score=0.5, booster='gbtree', colsample_bylevel=1,\n",
       "              colsample_bynode=1, colsample_bytree=0.6, eval_metric='error',\n",
       "              gamma=0, gpu_id=-1, importance_type='gain',\n",
       "              interaction_constraints='', learning_rate=0.5, max_delta_step=0,\n",
       "              max_depth=8, min_child_weight=1, missing=nan,\n",
       "              monotone_constraints='()', n_estimators=320, n_jobs=12,\n",
       "              num_parallel_tree=1, random_state=123, reg_alpha=0, reg_lambda=1,\n",
       "              scale_pos_weight=1, subsample=1, tree_method='exact',\n",
       "              validate_parameters=1, verbosity=None)"
      ]
     },
     "execution_count": 35,
     "metadata": {},
     "output_type": "execute_result"
    }
   ],
   "source": [
    "clf.fit(X_train_res, y_train_res)"
   ]
  },
  {
   "cell_type": "code",
   "execution_count": 36,
   "id": "91fa0d29-fee4-403e-8b50-cc11637e9c9e",
   "metadata": {},
   "outputs": [
    {
     "data": {
      "image/png": "[encoded data removed]",
      "text/plain": [
       "<Figure size 576x576 with 2 Axes>"
      ]
     },
     "metadata": {
      "needs_background": "light"
     },
     "output_type": "display_data"
    },
    {
     "name": "stdout",
     "output_type": "stream",
     "text": [
      "              precision    recall  f1-score   support\n",
      "\n",
      "           0       1.00      0.94      0.97     29536\n",
      "           1       0.52      0.95      0.67      2114\n",
      "\n",
      "    accuracy                           0.94     31650\n",
      "   macro avg       0.76      0.94      0.82     31650\n",
      "weighted avg       0.96      0.94      0.95     31650\n",
      "\n"
     ]
    }
   ],
   "source": [
    "pred_y = clf.predict(test_x)\n",
    "mostrar_resultados(test_y, pred_y)"
   ]
  },
  {
   "cell_type": "code",
   "execution_count": 37,
   "id": "9df16aa7-75a0-4f91-a108-ff88cab0ef01",
   "metadata": {},
   "outputs": [],
   "source": [
    "feature_importances = pd.DataFrame(clf.feature_importances_, index = train_x.columns, columns = ['important']).sort_values(['important'], ascending = 0)"
   ]
  },
  {
   "cell_type": "code",
   "execution_count": 38,
   "id": "10c74f9a-f717-4440-9a03-2ded45c8c780",
   "metadata": {
    "tags": []
   },
   "outputs": [
    {
     "data": {
      "text/html": [
       "<div>\n",
       "<style scoped>\n",
       "    .dataframe tbody tr th:only-of-type {\n",
       "        vertical-align: middle;\n",
       "    }\n",
       "\n",
       "    .dataframe tbody tr th {\n",
       "        vertical-align: top;\n",
       "    }\n",
       "\n",
       "    .dataframe thead th {\n",
       "        text-align: right;\n",
       "    }\n",
       "</style>\n",
       "<table border=\"1\" class=\"dataframe\">\n",
       "  <thead>\n",
       "    <tr style=\"text-align: right;\">\n",
       "      <th></th>\n",
       "      <th>important</th>\n",
       "    </tr>\n",
       "  </thead>\n",
       "  <tbody>\n",
       "    <tr>\n",
       "      <th>FICH_PROMO_TOT</th>\n",
       "      <td>15.584089</td>\n",
       "    </tr>\n",
       "    <tr>\n",
       "      <th>BONDAD_EMAIL</th>\n",
       "      <td>3.984466</td>\n",
       "    </tr>\n",
       "    <tr>\n",
       "      <th>1A_DESCGRUPOPROD_PERF_PROMO</th>\n",
       "      <td>3.901761</td>\n",
       "    </tr>\n",
       "    <tr>\n",
       "      <th>1A_DESCGRUPOPROD_RES_PAGO</th>\n",
       "      <td>3.800205</td>\n",
       "    </tr>\n",
       "    <tr>\n",
       "      <th>IP_COUNTRY_PIB_Países de ingreso mediano bajo</th>\n",
       "      <td>3.540514</td>\n",
       "    </tr>\n",
       "    <tr>\n",
       "      <th>USU_ESTADO_SD</th>\n",
       "      <td>3.160745</td>\n",
       "    </tr>\n",
       "    <tr>\n",
       "      <th>TIPOEMAIL_TEMPORAL</th>\n",
       "      <td>2.589474</td>\n",
       "    </tr>\n",
       "    <tr>\n",
       "      <th>USU_TIPO_EMPRESARIO INDIVIDUAL</th>\n",
       "      <td>2.210239</td>\n",
       "    </tr>\n",
       "    <tr>\n",
       "      <th>USU_TAMANIO_SD</th>\n",
       "      <td>2.121827</td>\n",
       "    </tr>\n",
       "    <tr>\n",
       "      <th>CANAL_REGISTRO_4</th>\n",
       "      <td>2.044076</td>\n",
       "    </tr>\n",
       "    <tr>\n",
       "      <th>CANAL_REGISTRO_1</th>\n",
       "      <td>1.964731</td>\n",
       "    </tr>\n",
       "    <tr>\n",
       "      <th>TIPOEMAIL_SINCLASIFICAR</th>\n",
       "      <td>1.630015</td>\n",
       "    </tr>\n",
       "    <tr>\n",
       "      <th>PERF_PROMO_TOT</th>\n",
       "      <td>1.426124</td>\n",
       "    </tr>\n",
       "    <tr>\n",
       "      <th>USU_ESTADO_ACTIVA</th>\n",
       "      <td>1.206471</td>\n",
       "    </tr>\n",
       "    <tr>\n",
       "      <th>TIPOEMAIL_DOCENTE</th>\n",
       "      <td>1.181351</td>\n",
       "    </tr>\n",
       "    <tr>\n",
       "      <th>FECHA_REGISTRO_MONTH_1</th>\n",
       "      <td>1.169118</td>\n",
       "    </tr>\n",
       "    <tr>\n",
       "      <th>1A_EMPCONSUL_EST_INACTIVA</th>\n",
       "      <td>1.165732</td>\n",
       "    </tr>\n",
       "    <tr>\n",
       "      <th>CANAL_REGISTRO_9</th>\n",
       "      <td>1.147128</td>\n",
       "    </tr>\n",
       "    <tr>\n",
       "      <th>IP_COUNTRY_PIB_Ingreso alto</th>\n",
       "      <td>1.072047</td>\n",
       "    </tr>\n",
       "    <tr>\n",
       "      <th>FECHA_REGISTRO_MONTH_6</th>\n",
       "      <td>1.045051</td>\n",
       "    </tr>\n",
       "    <tr>\n",
       "      <th>USU_TIPO_ENTIDAD_HOLDING</th>\n",
       "      <td>1.028438</td>\n",
       "    </tr>\n",
       "    <tr>\n",
       "      <th>USU_TIPO_SOC_NO_COMERCIAL</th>\n",
       "      <td>1.025422</td>\n",
       "    </tr>\n",
       "    <tr>\n",
       "      <th>IPCASOS</th>\n",
       "      <td>1.019008</td>\n",
       "    </tr>\n",
       "    <tr>\n",
       "      <th>1A_EMPCONSUL_EST_ACTIVA</th>\n",
       "      <td>1.015574</td>\n",
       "    </tr>\n",
       "  </tbody>\n",
       "</table>\n",
       "</div>"
      ],
      "text/plain": [
       "                                               important\n",
       "FICH_PROMO_TOT                                 15.584089\n",
       "BONDAD_EMAIL                                    3.984466\n",
       "1A_DESCGRUPOPROD_PERF_PROMO                     3.901761\n",
       "1A_DESCGRUPOPROD_RES_PAGO                       3.800205\n",
       "IP_COUNTRY_PIB_Países de ingreso mediano bajo   3.540514\n",
       "USU_ESTADO_SD                                   3.160745\n",
       "TIPOEMAIL_TEMPORAL                              2.589474\n",
       "USU_TIPO_EMPRESARIO INDIVIDUAL                  2.210239\n",
       "USU_TAMANIO_SD                                  2.121827\n",
       "CANAL_REGISTRO_4                                2.044076\n",
       "CANAL_REGISTRO_1                                1.964731\n",
       "TIPOEMAIL_SINCLASIFICAR                         1.630015\n",
       "PERF_PROMO_TOT                                  1.426124\n",
       "USU_ESTADO_ACTIVA                               1.206471\n",
       "TIPOEMAIL_DOCENTE                               1.181351\n",
       "FECHA_REGISTRO_MONTH_1                          1.169118\n",
       "1A_EMPCONSUL_EST_INACTIVA                       1.165732\n",
       "CANAL_REGISTRO_9                                1.147128\n",
       "IP_COUNTRY_PIB_Ingreso alto                     1.072047\n",
       "FECHA_REGISTRO_MONTH_6                          1.045051\n",
       "USU_TIPO_ENTIDAD_HOLDING                        1.028438\n",
       "USU_TIPO_SOC_NO_COMERCIAL                       1.025422\n",
       "IPCASOS                                         1.019008\n",
       "1A_EMPCONSUL_EST_ACTIVA                         1.015574"
      ]
     },
     "execution_count": 38,
     "metadata": {},
     "output_type": "execute_result"
    }
   ],
   "source": [
    "feature_importances[feature_importances['important'] > 0.01]*100"
   ]
  },
  {
   "cell_type": "code",
   "execution_count": 39,
   "id": "f2e9c99d-89f5-44f8-b9d1-3a61befbbb6f",
   "metadata": {
    "tags": []
   },
   "outputs": [
    {
     "data": {
      "text/plain": [
       "(24, 1)"
      ]
     },
     "execution_count": 39,
     "metadata": {},
     "output_type": "execute_result"
    }
   ],
   "source": [
    "feature_importances[feature_importances['important'] > 0.01].shape"
   ]
  },
  {
   "cell_type": "markdown",
   "id": "d8954011-0648-493e-987f-c51c38c368e2",
   "metadata": {},
   "source": [
    "------"
   ]
  },
  {
   "cell_type": "markdown",
   "id": "da7b6976-5b6e-48ea-a2dc-9060a1c9ad68",
   "metadata": {},
   "source": [
    "##### **4.4.2 Oversampling en la clase minoritaria**"
   ]
  },
  {
   "cell_type": "markdown",
   "id": "3d2c69e5-8cd7-404c-bb5f-781614e1c9ad",
   "metadata": {},
   "source": [
    "**SMOTE**"
   ]
  },
  {
   "cell_type": "code",
   "execution_count": 40,
   "id": "8607deb4-69e1-4eb3-8dd3-da005dffa7e0",
   "metadata": {},
   "outputs": [],
   "source": [
    "os =  SMOTE(sampling_strategy = 'minority')\n",
    "X_train_res, y_train_res = os.fit_resample(train_x, train_y)"
   ]
  },
  {
   "cell_type": "code",
   "execution_count": 41,
   "id": "dba0c0b4-4190-4541-b3dd-ca714958e8c0",
   "metadata": {},
   "outputs": [
    {
     "name": "stdout",
     "output_type": "stream",
     "text": [
      "Distribution before resampling Counter({0: 68953, 1: 4895})\n",
      "Distribution labels after resampling Counter({0: 68953, 1: 68953})\n"
     ]
    }
   ],
   "source": [
    "print (\"Distribution before resampling {}\".format(Counter(train_y)))\n",
    "print (\"Distribution labels after resampling {}\".format(Counter(y_train_res)))"
   ]
  },
  {
   "cell_type": "code",
   "execution_count": 42,
   "id": "c7a36ad6-57f7-4e40-8501-fffe03d40fb8",
   "metadata": {},
   "outputs": [],
   "source": [
    "clf = XGBClassifier(eval_metric = 'error', objective = 'binary:logistic', colsample_bytree = 0.6, learning_rate = 0.5, max_depth = 8, alpha = 0, n_estimators = 320, random_state = 123)"
   ]
  },
  {
   "cell_type": "code",
   "execution_count": 43,
   "id": "c54ac201-1514-4200-ac6d-4b1077f6bd4e",
   "metadata": {
    "tags": []
   },
   "outputs": [
    {
     "data": {
      "text/plain": [
       "XGBClassifier(alpha=0, base_score=0.5, booster='gbtree', colsample_bylevel=1,\n",
       "              colsample_bynode=1, colsample_bytree=0.6, eval_metric='error',\n",
       "              gamma=0, gpu_id=-1, importance_type='gain',\n",
       "              interaction_constraints='', learning_rate=0.5, max_delta_step=0,\n",
       "              max_depth=8, min_child_weight=1, missing=nan,\n",
       "              monotone_constraints='()', n_estimators=320, n_jobs=12,\n",
       "              num_parallel_tree=1, random_state=123, reg_alpha=0, reg_lambda=1,\n",
       "              scale_pos_weight=1, subsample=1, tree_method='exact',\n",
       "              validate_parameters=1, verbosity=None)"
      ]
     },
     "execution_count": 43,
     "metadata": {},
     "output_type": "execute_result"
    }
   ],
   "source": [
    "clf.fit(X_train_res, y_train_res)"
   ]
  },
  {
   "cell_type": "code",
   "execution_count": 44,
   "id": "2230fbae-aa82-429a-923a-a7605b6e7c22",
   "metadata": {},
   "outputs": [
    {
     "data": {
      "image/png": "[encoded data removed]",
      "text/plain": [
       "<Figure size 576x576 with 2 Axes>"
      ]
     },
     "metadata": {
      "needs_background": "light"
     },
     "output_type": "display_data"
    },
    {
     "name": "stdout",
     "output_type": "stream",
     "text": [
      "              precision    recall  f1-score   support\n",
      "\n",
      "           0       0.99      1.00      1.00     29536\n",
      "           1       0.97      0.93      0.95      2114\n",
      "\n",
      "    accuracy                           0.99     31650\n",
      "   macro avg       0.98      0.96      0.97     31650\n",
      "weighted avg       0.99      0.99      0.99     31650\n",
      "\n"
     ]
    }
   ],
   "source": [
    "pred_y = clf.predict(test_x)\n",
    "mostrar_resultados(test_y, pred_y)"
   ]
  },
  {
   "cell_type": "code",
   "execution_count": 45,
   "id": "1eed02c1-3073-4fb3-bfea-4628485b5a8c",
   "metadata": {},
   "outputs": [],
   "source": [
    "feature_importances = pd.DataFrame(clf.feature_importances_, index = train_x.columns, columns = ['important']).sort_values(['important'], ascending = 0)"
   ]
  },
  {
   "cell_type": "code",
   "execution_count": 46,
   "id": "20c7fd3d-9ca4-423e-a6cd-e0d6e71de633",
   "metadata": {
    "tags": []
   },
   "outputs": [
    {
     "data": {
      "text/html": [
       "<div>\n",
       "<style scoped>\n",
       "    .dataframe tbody tr th:only-of-type {\n",
       "        vertical-align: middle;\n",
       "    }\n",
       "\n",
       "    .dataframe tbody tr th {\n",
       "        vertical-align: top;\n",
       "    }\n",
       "\n",
       "    .dataframe thead th {\n",
       "        text-align: right;\n",
       "    }\n",
       "</style>\n",
       "<table border=\"1\" class=\"dataframe\">\n",
       "  <thead>\n",
       "    <tr style=\"text-align: right;\">\n",
       "      <th></th>\n",
       "      <th>important</th>\n",
       "    </tr>\n",
       "  </thead>\n",
       "  <tbody>\n",
       "    <tr>\n",
       "      <th>USU_ESTADO_SD</th>\n",
       "      <td>11.148959</td>\n",
       "    </tr>\n",
       "    <tr>\n",
       "      <th>IP_COUNTRY_PIB_Países de ingreso mediano bajo</th>\n",
       "      <td>9.202162</td>\n",
       "    </tr>\n",
       "    <tr>\n",
       "      <th>FICH_PROMO_TOT</th>\n",
       "      <td>8.274719</td>\n",
       "    </tr>\n",
       "    <tr>\n",
       "      <th>TIPOEMAIL_TEMPORAL</th>\n",
       "      <td>6.696992</td>\n",
       "    </tr>\n",
       "    <tr>\n",
       "      <th>TIPOEMAIL_ADMINISTRACION</th>\n",
       "      <td>2.861535</td>\n",
       "    </tr>\n",
       "    <tr>\n",
       "      <th>USU_TIPO_EMPRESARIO INDIVIDUAL</th>\n",
       "      <td>2.622252</td>\n",
       "    </tr>\n",
       "    <tr>\n",
       "      <th>USU_TAMANIO_SD</th>\n",
       "      <td>2.529752</td>\n",
       "    </tr>\n",
       "    <tr>\n",
       "      <th>BONDAD_EMAIL</th>\n",
       "      <td>2.503955</td>\n",
       "    </tr>\n",
       "    <tr>\n",
       "      <th>1A_DESCGRUPOPROD_PERF_PROMO</th>\n",
       "      <td>2.404819</td>\n",
       "    </tr>\n",
       "    <tr>\n",
       "      <th>CANAL_REGISTRO_9</th>\n",
       "      <td>2.228061</td>\n",
       "    </tr>\n",
       "    <tr>\n",
       "      <th>FECHA_REGISTRO_WEEKDAY_6</th>\n",
       "      <td>1.873875</td>\n",
       "    </tr>\n",
       "    <tr>\n",
       "      <th>CANAL_REGISTRO_5</th>\n",
       "      <td>1.719034</td>\n",
       "    </tr>\n",
       "    <tr>\n",
       "      <th>1A_EMPCONSUL_EST_NI</th>\n",
       "      <td>1.653287</td>\n",
       "    </tr>\n",
       "    <tr>\n",
       "      <th>CANAL_REGISTRO_8</th>\n",
       "      <td>1.626537</td>\n",
       "    </tr>\n",
       "    <tr>\n",
       "      <th>FECHA_REGISTRO_WEEKDAY_5</th>\n",
       "      <td>1.306540</td>\n",
       "    </tr>\n",
       "    <tr>\n",
       "      <th>CANAL_REGISTRO_2</th>\n",
       "      <td>1.112970</td>\n",
       "    </tr>\n",
       "    <tr>\n",
       "      <th>1A_EMPCONSUL_SECTOR_QUINARIO</th>\n",
       "      <td>1.064809</td>\n",
       "    </tr>\n",
       "    <tr>\n",
       "      <th>1A_EMPCONSUL_EST_REESTRUCTURACION</th>\n",
       "      <td>1.046668</td>\n",
       "    </tr>\n",
       "  </tbody>\n",
       "</table>\n",
       "</div>"
      ],
      "text/plain": [
       "                                               important\n",
       "USU_ESTADO_SD                                  11.148959\n",
       "IP_COUNTRY_PIB_Países de ingreso mediano bajo   9.202162\n",
       "FICH_PROMO_TOT                                  8.274719\n",
       "TIPOEMAIL_TEMPORAL                              6.696992\n",
       "TIPOEMAIL_ADMINISTRACION                        2.861535\n",
       "USU_TIPO_EMPRESARIO INDIVIDUAL                  2.622252\n",
       "USU_TAMANIO_SD                                  2.529752\n",
       "BONDAD_EMAIL                                    2.503955\n",
       "1A_DESCGRUPOPROD_PERF_PROMO                     2.404819\n",
       "CANAL_REGISTRO_9                                2.228061\n",
       "FECHA_REGISTRO_WEEKDAY_6                        1.873875\n",
       "CANAL_REGISTRO_5                                1.719034\n",
       "1A_EMPCONSUL_EST_NI                             1.653287\n",
       "CANAL_REGISTRO_8                                1.626537\n",
       "FECHA_REGISTRO_WEEKDAY_5                        1.306540\n",
       "CANAL_REGISTRO_2                                1.112970\n",
       "1A_EMPCONSUL_SECTOR_QUINARIO                    1.064809\n",
       "1A_EMPCONSUL_EST_REESTRUCTURACION               1.046668"
      ]
     },
     "execution_count": 46,
     "metadata": {},
     "output_type": "execute_result"
    }
   ],
   "source": [
    "feature_importances[feature_importances['important'] > 0.01]*100"
   ]
  },
  {
   "cell_type": "code",
   "execution_count": 47,
   "id": "59bec269-54e3-4626-8182-7af3ee46d9d3",
   "metadata": {
    "tags": []
   },
   "outputs": [
    {
     "data": {
      "text/plain": [
       "(18, 1)"
      ]
     },
     "execution_count": 47,
     "metadata": {},
     "output_type": "execute_result"
    }
   ],
   "source": [
    "feature_importances[feature_importances['important'] > 0.01].shape"
   ]
  },
  {
   "cell_type": "markdown",
   "id": "fc00bf4f-7ccc-438c-8d1a-0bfaee763331",
   "metadata": {},
   "source": [
    "------"
   ]
  },
  {
   "cell_type": "markdown",
   "id": "c328f137-4f93-4754-8f4f-cbed67f02edb",
   "metadata": {},
   "source": [
    "##### **4.4.3 Combinamos OverSampling con Subsampling**"
   ]
  },
  {
   "cell_type": "markdown",
   "id": "3faef6bf-46b6-4d5a-9fbf-7f2176916431",
   "metadata": {},
   "source": [
    "**Combinando SMOTE & RandomUnderSampler**"
   ]
  },
  {
   "cell_type": "code",
   "execution_count": 48,
   "id": "8d0fcdfa-8edd-44b9-8455-f76f0a8b7701",
   "metadata": {},
   "outputs": [],
   "source": [
    "over = SMOTE(sampling_strategy = 0.3)\n",
    "under = RandomUnderSampler(sampling_strategy = 0.5)\n",
    "steps = [('over', over), ('under', under)]\n",
    "pipeline = Pipeline(steps = steps)"
   ]
  },
  {
   "cell_type": "code",
   "execution_count": 49,
   "id": "f850aa3e-0ecd-4707-8999-78aab444853b",
   "metadata": {},
   "outputs": [],
   "source": [
    "X_train_res, y_train_res = pipeline.fit_resample(train_x, train_y)"
   ]
  },
  {
   "cell_type": "code",
   "execution_count": 50,
   "id": "099f5646-ff5e-438f-a1cd-6a6d7ab82e2d",
   "metadata": {},
   "outputs": [
    {
     "name": "stdout",
     "output_type": "stream",
     "text": [
      "Distribution before resampling Counter({0: 68953, 1: 4895})\n",
      "Distribution after resampling Counter({0: 41370, 1: 20685})\n"
     ]
    }
   ],
   "source": [
    "print (\"Distribution before resampling {}\".format(Counter(train_y)))\n",
    "print (\"Distribution after resampling {}\".format(Counter(y_train_res)))"
   ]
  },
  {
   "cell_type": "code",
   "execution_count": 51,
   "id": "805abd16-64b8-4df6-ae7d-f26381984d4d",
   "metadata": {},
   "outputs": [],
   "source": [
    "clf = XGBClassifier(eval_metric = 'error', objective = 'binary:logistic', colsample_bytree = 0.6, learning_rate = 0.5, max_depth = 8, alpha = 0, n_estimators = 320, random_state = 123)"
   ]
  },
  {
   "cell_type": "code",
   "execution_count": 52,
   "id": "5c906065-2c6e-4629-8536-5424cda24c7e",
   "metadata": {
    "tags": []
   },
   "outputs": [
    {
     "data": {
      "text/plain": [
       "XGBClassifier(alpha=0, base_score=0.5, booster='gbtree', colsample_bylevel=1,\n",
       "              colsample_bynode=1, colsample_bytree=0.6, eval_metric='error',\n",
       "              gamma=0, gpu_id=-1, importance_type='gain',\n",
       "              interaction_constraints='', learning_rate=0.5, max_delta_step=0,\n",
       "              max_depth=8, min_child_weight=1, missing=nan,\n",
       "              monotone_constraints='()', n_estimators=320, n_jobs=12,\n",
       "              num_parallel_tree=1, random_state=123, reg_alpha=0, reg_lambda=1,\n",
       "              scale_pos_weight=1, subsample=1, tree_method='exact',\n",
       "              validate_parameters=1, verbosity=None)"
      ]
     },
     "execution_count": 52,
     "metadata": {},
     "output_type": "execute_result"
    }
   ],
   "source": [
    "clf.fit(X_train_res, y_train_res)"
   ]
  },
  {
   "cell_type": "code",
   "execution_count": 53,
   "id": "7cd44d9d-3bfb-4913-9004-899ab5a0c9ba",
   "metadata": {},
   "outputs": [
    {
     "data": {
      "image/png": "[encoded data removed]",
      "text/plain": [
       "<Figure size 576x576 with 2 Axes>"
      ]
     },
     "metadata": {
      "needs_background": "light"
     },
     "output_type": "display_data"
    },
    {
     "name": "stdout",
     "output_type": "stream",
     "text": [
      "              precision    recall  f1-score   support\n",
      "\n",
      "           0       0.99      1.00      1.00     29536\n",
      "           1       0.94      0.93      0.93      2114\n",
      "\n",
      "    accuracy                           0.99     31650\n",
      "   macro avg       0.97      0.96      0.96     31650\n",
      "weighted avg       0.99      0.99      0.99     31650\n",
      "\n"
     ]
    }
   ],
   "source": [
    "pred_y = clf.predict(test_x)\n",
    "mostrar_resultados(test_y, pred_y)"
   ]
  },
  {
   "cell_type": "code",
   "execution_count": 54,
   "id": "2ce25786-9f76-43e6-be81-f5f61c60bac8",
   "metadata": {},
   "outputs": [],
   "source": [
    "feature_importances = pd.DataFrame(clf.feature_importances_, index = train_x.columns, columns = ['important']).sort_values(['important'], ascending = 0)"
   ]
  },
  {
   "cell_type": "code",
   "execution_count": 55,
   "id": "1a235ba1-53cd-45c8-afea-b2029608940b",
   "metadata": {
    "tags": []
   },
   "outputs": [
    {
     "data": {
      "text/html": [
       "<div>\n",
       "<style scoped>\n",
       "    .dataframe tbody tr th:only-of-type {\n",
       "        vertical-align: middle;\n",
       "    }\n",
       "\n",
       "    .dataframe tbody tr th {\n",
       "        vertical-align: top;\n",
       "    }\n",
       "\n",
       "    .dataframe thead th {\n",
       "        text-align: right;\n",
       "    }\n",
       "</style>\n",
       "<table border=\"1\" class=\"dataframe\">\n",
       "  <thead>\n",
       "    <tr style=\"text-align: right;\">\n",
       "      <th></th>\n",
       "      <th>important</th>\n",
       "    </tr>\n",
       "  </thead>\n",
       "  <tbody>\n",
       "    <tr>\n",
       "      <th>USU_ESTADO_SD</th>\n",
       "      <td>12.320482</td>\n",
       "    </tr>\n",
       "    <tr>\n",
       "      <th>FICH_PROMO_TOT</th>\n",
       "      <td>10.530705</td>\n",
       "    </tr>\n",
       "    <tr>\n",
       "      <th>USU_TIPO_EMPRESARIO INDIVIDUAL</th>\n",
       "      <td>3.215239</td>\n",
       "    </tr>\n",
       "    <tr>\n",
       "      <th>BONDAD_EMAIL</th>\n",
       "      <td>3.154088</td>\n",
       "    </tr>\n",
       "    <tr>\n",
       "      <th>1A_DESCGRUPOPROD_PERF_PROMO</th>\n",
       "      <td>3.104232</td>\n",
       "    </tr>\n",
       "    <tr>\n",
       "      <th>USU_TAMANIO_SD</th>\n",
       "      <td>2.723844</td>\n",
       "    </tr>\n",
       "    <tr>\n",
       "      <th>TIPOEMAIL_TEMPORAL</th>\n",
       "      <td>2.709685</td>\n",
       "    </tr>\n",
       "    <tr>\n",
       "      <th>1A_EMPCONSUL_EST_NI</th>\n",
       "      <td>2.512658</td>\n",
       "    </tr>\n",
       "    <tr>\n",
       "      <th>1A_EMPCONSUL_SECTOR_QUINARIO</th>\n",
       "      <td>1.912997</td>\n",
       "    </tr>\n",
       "    <tr>\n",
       "      <th>CANAL_REGISTRO_9</th>\n",
       "      <td>1.789530</td>\n",
       "    </tr>\n",
       "    <tr>\n",
       "      <th>CANAL_REGISTRO_8</th>\n",
       "      <td>1.739074</td>\n",
       "    </tr>\n",
       "    <tr>\n",
       "      <th>TIPO_TELF_NO_PUBLICO</th>\n",
       "      <td>1.638741</td>\n",
       "    </tr>\n",
       "    <tr>\n",
       "      <th>CANAL_REGISTRO_5</th>\n",
       "      <td>1.601699</td>\n",
       "    </tr>\n",
       "    <tr>\n",
       "      <th>1A_DESCGRUPOPROD_FICH_PROMO</th>\n",
       "      <td>1.508438</td>\n",
       "    </tr>\n",
       "    <tr>\n",
       "      <th>TIPOEMAIL_DOCENTE</th>\n",
       "      <td>1.493387</td>\n",
       "    </tr>\n",
       "    <tr>\n",
       "      <th>1A_EMPCONSUL_EST_INACTIVA</th>\n",
       "      <td>1.404527</td>\n",
       "    </tr>\n",
       "    <tr>\n",
       "      <th>TIPOEMAIL_SINCLASIFICAR</th>\n",
       "      <td>1.367890</td>\n",
       "    </tr>\n",
       "    <tr>\n",
       "      <th>FECHA_REGISTRO_WEEKDAY_5</th>\n",
       "      <td>1.326147</td>\n",
       "    </tr>\n",
       "    <tr>\n",
       "      <th>CANAL_REGISTRO_2</th>\n",
       "      <td>1.200445</td>\n",
       "    </tr>\n",
       "    <tr>\n",
       "      <th>IP_COUNTRY_PIB_NI</th>\n",
       "      <td>1.129339</td>\n",
       "    </tr>\n",
       "    <tr>\n",
       "      <th>FECHA_REGISTRO_MONTH_12</th>\n",
       "      <td>1.088282</td>\n",
       "    </tr>\n",
       "    <tr>\n",
       "      <th>1A_EMPCONSUL_SECTOR_SD</th>\n",
       "      <td>1.008176</td>\n",
       "    </tr>\n",
       "    <tr>\n",
       "      <th>CANAL_REGISTRO_7</th>\n",
       "      <td>1.005841</td>\n",
       "    </tr>\n",
       "  </tbody>\n",
       "</table>\n",
       "</div>"
      ],
      "text/plain": [
       "                                important\n",
       "USU_ESTADO_SD                   12.320482\n",
       "FICH_PROMO_TOT                  10.530705\n",
       "USU_TIPO_EMPRESARIO INDIVIDUAL   3.215239\n",
       "BONDAD_EMAIL                     3.154088\n",
       "1A_DESCGRUPOPROD_PERF_PROMO      3.104232\n",
       "USU_TAMANIO_SD                   2.723844\n",
       "TIPOEMAIL_TEMPORAL               2.709685\n",
       "1A_EMPCONSUL_EST_NI              2.512658\n",
       "1A_EMPCONSUL_SECTOR_QUINARIO     1.912997\n",
       "CANAL_REGISTRO_9                 1.789530\n",
       "CANAL_REGISTRO_8                 1.739074\n",
       "TIPO_TELF_NO_PUBLICO             1.638741\n",
       "CANAL_REGISTRO_5                 1.601699\n",
       "1A_DESCGRUPOPROD_FICH_PROMO      1.508438\n",
       "TIPOEMAIL_DOCENTE                1.493387\n",
       "1A_EMPCONSUL_EST_INACTIVA        1.404527\n",
       "TIPOEMAIL_SINCLASIFICAR          1.367890\n",
       "FECHA_REGISTRO_WEEKDAY_5         1.326147\n",
       "CANAL_REGISTRO_2                 1.200445\n",
       "IP_COUNTRY_PIB_NI                1.129339\n",
       "FECHA_REGISTRO_MONTH_12          1.088282\n",
       "1A_EMPCONSUL_SECTOR_SD           1.008176\n",
       "CANAL_REGISTRO_7                 1.005841"
      ]
     },
     "execution_count": 55,
     "metadata": {},
     "output_type": "execute_result"
    }
   ],
   "source": [
    "feature_importances[feature_importances['important'] > 0.01]*100"
   ]
  },
  {
   "cell_type": "code",
   "execution_count": 56,
   "id": "cb7f4141-9c4e-4b2b-aefe-7808534970d4",
   "metadata": {
    "tags": []
   },
   "outputs": [
    {
     "data": {
      "text/plain": [
       "(23, 1)"
      ]
     },
     "execution_count": 56,
     "metadata": {},
     "output_type": "execute_result"
    }
   ],
   "source": [
    "feature_importances[feature_importances['important'] > 0.01].shape"
   ]
  },
  {
   "cell_type": "markdown",
   "id": "e0dce38a-2377-48a4-b8b1-b4730bc6841d",
   "metadata": {},
   "source": [
    "------"
   ]
  },
  {
   "cell_type": "markdown",
   "id": "c31bb7b7-3c3e-4473-a9f2-19d671c3f092",
   "metadata": {},
   "source": [
    "**SMOTETomek**"
   ]
  },
  {
   "cell_type": "code",
   "execution_count": 57,
   "id": "f56cffe9-7ca7-4fe9-90b0-c6c80d61d03d",
   "metadata": {},
   "outputs": [],
   "source": [
    "os_us = SMOTETomek(sampling_strategy = 'all')\n",
    "X_train_res, y_train_res = os_us.fit_resample(train_x, train_y)"
   ]
  },
  {
   "cell_type": "code",
   "execution_count": 58,
   "id": "a5b767a9-1101-4843-9c81-fdd47d8c89ac",
   "metadata": {},
   "outputs": [
    {
     "name": "stdout",
     "output_type": "stream",
     "text": [
      "Distribution before resampling Counter({0: 68953, 1: 4895})\n",
      "Distribution after resampling Counter({0: 68946, 1: 68946})\n"
     ]
    }
   ],
   "source": [
    "print (\"Distribution before resampling {}\".format(Counter(train_y)))\n",
    "print (\"Distribution after resampling {}\".format(Counter(y_train_res)))"
   ]
  },
  {
   "cell_type": "code",
   "execution_count": 59,
   "id": "4c1c688b-702b-4cf8-a3d2-ec2217d47ec3",
   "metadata": {},
   "outputs": [],
   "source": [
    "clf = XGBClassifier(eval_metric = 'error', objective = 'binary:logistic', colsample_bytree = 0.6, learning_rate = 0.5, max_depth = 8, alpha = 0, n_estimators = 320, random_state = 123)"
   ]
  },
  {
   "cell_type": "code",
   "execution_count": 60,
   "id": "2524dd81-ad26-44f9-a0b8-12e83d69fab2",
   "metadata": {
    "tags": []
   },
   "outputs": [
    {
     "data": {
      "text/plain": [
       "XGBClassifier(alpha=0, base_score=0.5, booster='gbtree', colsample_bylevel=1,\n",
       "              colsample_bynode=1, colsample_bytree=0.6, eval_metric='error',\n",
       "              gamma=0, gpu_id=-1, importance_type='gain',\n",
       "              interaction_constraints='', learning_rate=0.5, max_delta_step=0,\n",
       "              max_depth=8, min_child_weight=1, missing=nan,\n",
       "              monotone_constraints='()', n_estimators=320, n_jobs=12,\n",
       "              num_parallel_tree=1, random_state=123, reg_alpha=0, reg_lambda=1,\n",
       "              scale_pos_weight=1, subsample=1, tree_method='exact',\n",
       "              validate_parameters=1, verbosity=None)"
      ]
     },
     "execution_count": 60,
     "metadata": {},
     "output_type": "execute_result"
    }
   ],
   "source": [
    "clf.fit(X_train_res, y_train_res)"
   ]
  },
  {
   "cell_type": "code",
   "execution_count": 61,
   "id": "3eb25cef-e48e-4ba6-be30-735cacf95b0e",
   "metadata": {},
   "outputs": [
    {
     "data": {
      "image/png": "[encoded data removed]",
      "text/plain": [
       "<Figure size 576x576 with 2 Axes>"
      ]
     },
     "metadata": {
      "needs_background": "light"
     },
     "output_type": "display_data"
    },
    {
     "name": "stdout",
     "output_type": "stream",
     "text": [
      "              precision    recall  f1-score   support\n",
      "\n",
      "           0       0.99      1.00      1.00     29536\n",
      "           1       0.97      0.92      0.95      2114\n",
      "\n",
      "    accuracy                           0.99     31650\n",
      "   macro avg       0.98      0.96      0.97     31650\n",
      "weighted avg       0.99      0.99      0.99     31650\n",
      "\n"
     ]
    }
   ],
   "source": [
    "pred_y = clf.predict(test_x)\n",
    "mostrar_resultados(test_y, pred_y)"
   ]
  },
  {
   "cell_type": "code",
   "execution_count": 62,
   "id": "877d87d0-51d5-4d46-8e35-d6e7f0c42ea5",
   "metadata": {},
   "outputs": [],
   "source": [
    "feature_importances = pd.DataFrame(clf.feature_importances_, index = train_x.columns, columns = ['important']).sort_values(['important'], ascending = 0)"
   ]
  },
  {
   "cell_type": "code",
   "execution_count": 63,
   "id": "42d1af45-dcb4-402e-a0f6-ddce09f28555",
   "metadata": {
    "tags": []
   },
   "outputs": [
    {
     "data": {
      "text/html": [
       "<div>\n",
       "<style scoped>\n",
       "    .dataframe tbody tr th:only-of-type {\n",
       "        vertical-align: middle;\n",
       "    }\n",
       "\n",
       "    .dataframe tbody tr th {\n",
       "        vertical-align: top;\n",
       "    }\n",
       "\n",
       "    .dataframe thead th {\n",
       "        text-align: right;\n",
       "    }\n",
       "</style>\n",
       "<table border=\"1\" class=\"dataframe\">\n",
       "  <thead>\n",
       "    <tr style=\"text-align: right;\">\n",
       "      <th></th>\n",
       "      <th>important</th>\n",
       "    </tr>\n",
       "  </thead>\n",
       "  <tbody>\n",
       "    <tr>\n",
       "      <th>USU_ESTADO_SD</th>\n",
       "      <td>15.372697</td>\n",
       "    </tr>\n",
       "    <tr>\n",
       "      <th>IP_COUNTRY_PIB_Países de ingreso mediano bajo</th>\n",
       "      <td>8.433568</td>\n",
       "    </tr>\n",
       "    <tr>\n",
       "      <th>FICH_PROMO_TOT</th>\n",
       "      <td>7.681289</td>\n",
       "    </tr>\n",
       "    <tr>\n",
       "      <th>TIPOEMAIL_TEMPORAL</th>\n",
       "      <td>5.795952</td>\n",
       "    </tr>\n",
       "    <tr>\n",
       "      <th>TIPOEMAIL_ADMINISTRACION</th>\n",
       "      <td>3.945050</td>\n",
       "    </tr>\n",
       "    <tr>\n",
       "      <th>USU_TIPO_EMPRESARIO INDIVIDUAL</th>\n",
       "      <td>2.458753</td>\n",
       "    </tr>\n",
       "    <tr>\n",
       "      <th>CANAL_REGISTRO_5</th>\n",
       "      <td>2.401967</td>\n",
       "    </tr>\n",
       "    <tr>\n",
       "      <th>1A_DESCGRUPOPROD_PERF_PROMO</th>\n",
       "      <td>2.310825</td>\n",
       "    </tr>\n",
       "    <tr>\n",
       "      <th>BONDAD_EMAIL</th>\n",
       "      <td>2.181086</td>\n",
       "    </tr>\n",
       "    <tr>\n",
       "      <th>CANAL_REGISTRO_9</th>\n",
       "      <td>1.853176</td>\n",
       "    </tr>\n",
       "    <tr>\n",
       "      <th>USU_TAMANIO_SD</th>\n",
       "      <td>1.747198</td>\n",
       "    </tr>\n",
       "    <tr>\n",
       "      <th>CANAL_REGISTRO_8</th>\n",
       "      <td>1.682318</td>\n",
       "    </tr>\n",
       "    <tr>\n",
       "      <th>FECHA_REGISTRO_WEEKDAY_5</th>\n",
       "      <td>1.533361</td>\n",
       "    </tr>\n",
       "    <tr>\n",
       "      <th>USU_ESTADO_REESTRUCTURACION</th>\n",
       "      <td>1.434955</td>\n",
       "    </tr>\n",
       "    <tr>\n",
       "      <th>1A_EMPCONSUL_EST_NI</th>\n",
       "      <td>1.285227</td>\n",
       "    </tr>\n",
       "    <tr>\n",
       "      <th>1A_EMPCONSUL_SECTOR_QUINARIO</th>\n",
       "      <td>1.251879</td>\n",
       "    </tr>\n",
       "    <tr>\n",
       "      <th>CANAL_REGISTRO_2</th>\n",
       "      <td>1.128542</td>\n",
       "    </tr>\n",
       "    <tr>\n",
       "      <th>TIPOEMAIL_DOCENTE</th>\n",
       "      <td>1.093093</td>\n",
       "    </tr>\n",
       "    <tr>\n",
       "      <th>IP_CONTINENTE_EUROPA</th>\n",
       "      <td>1.053699</td>\n",
       "    </tr>\n",
       "  </tbody>\n",
       "</table>\n",
       "</div>"
      ],
      "text/plain": [
       "                                               important\n",
       "USU_ESTADO_SD                                  15.372697\n",
       "IP_COUNTRY_PIB_Países de ingreso mediano bajo   8.433568\n",
       "FICH_PROMO_TOT                                  7.681289\n",
       "TIPOEMAIL_TEMPORAL                              5.795952\n",
       "TIPOEMAIL_ADMINISTRACION                        3.945050\n",
       "USU_TIPO_EMPRESARIO INDIVIDUAL                  2.458753\n",
       "CANAL_REGISTRO_5                                2.401967\n",
       "1A_DESCGRUPOPROD_PERF_PROMO                     2.310825\n",
       "BONDAD_EMAIL                                    2.181086\n",
       "CANAL_REGISTRO_9                                1.853176\n",
       "USU_TAMANIO_SD                                  1.747198\n",
       "CANAL_REGISTRO_8                                1.682318\n",
       "FECHA_REGISTRO_WEEKDAY_5                        1.533361\n",
       "USU_ESTADO_REESTRUCTURACION                     1.434955\n",
       "1A_EMPCONSUL_EST_NI                             1.285227\n",
       "1A_EMPCONSUL_SECTOR_QUINARIO                    1.251879\n",
       "CANAL_REGISTRO_2                                1.128542\n",
       "TIPOEMAIL_DOCENTE                               1.093093\n",
       "IP_CONTINENTE_EUROPA                            1.053699"
      ]
     },
     "execution_count": 63,
     "metadata": {},
     "output_type": "execute_result"
    }
   ],
   "source": [
    "feature_importances[feature_importances['important'] > 0.01]*100"
   ]
  },
  {
   "cell_type": "code",
   "execution_count": 64,
   "id": "66520a87-8fe6-435c-83bb-4a41c1254aa2",
   "metadata": {
    "tags": []
   },
   "outputs": [
    {
     "data": {
      "text/plain": [
       "(19, 1)"
      ]
     },
     "execution_count": 64,
     "metadata": {},
     "output_type": "execute_result"
    }
   ],
   "source": [
    "feature_importances[feature_importances['important'] > 0.01].shape"
   ]
  }
 ],
 "metadata": {
  "kernelspec": {
   "display_name": "Python 3",
   "language": "python",
   "name": "python3"
  },
  "language_info": {
   "codemirror_mode": {
    "name": "ipython",
    "version": 3
   },
   "file_extension": ".py",
   "mimetype": "text/x-python",
   "name": "python",
   "nbconvert_exporter": "python",
   "pygments_lexer": "ipython3",
   "version": "3.8.8"
  }
 },
 "nbformat": 4,
 "nbformat_minor": 5
}
