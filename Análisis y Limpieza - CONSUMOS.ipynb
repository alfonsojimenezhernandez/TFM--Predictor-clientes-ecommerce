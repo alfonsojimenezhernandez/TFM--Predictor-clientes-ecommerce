{
 "cells": [
  {
   "cell_type": "markdown",
   "id": "approved-utility",
   "metadata": {},
   "source": [
    "# TFM - Predicción potenciales compradores de un ecommerce"
   ]
  },
  {
   "cell_type": "markdown",
   "id": "abstract-immune",
   "metadata": {},
   "source": [
    "Este trabajo, está principalmente enfocado a la creación de un modelo de predicción de potenciales compradores en un ecommerce real relacionado con el mundo empresarial.\n",
    "\n",
    "Se trata de realizar una clasificación de visitantes a una web de venta online en función de los datos que se han almacenado de ellos y establecer su nivel potencial de compra.\n",
    "\n",
    "Para ello se dispone de diferentes repositorios con datos históricos relativos a:\n",
    "* características básicas del registro/lead: fecha registro, procedencia, marca de comprador, cuando compró.\n",
    "* características identificativas anonimizadas de los mismos: email, ubicación geográfica, tipo de persona.\n",
    "* log de sus movimientos/navegación en la web.\n",
    "* información sobre los productos que ha comprado.\n",
    "\n",
    "**Información relevante del negocio**\n",
    "\n",
    "Los datos proceden de un ecommerce con sede en Colombia que se dedica a la venta de productos relacionados con la información de empresas del país: Informes Comerciales y módulos de información detallada sobre Datos Financieros, Prensa, Administradores, Incidencias, etc, Informes Sectoriales, Base de datos a medida, Productos de Marketing (mercadeo), Información de accionistas, Información de proveedores y clientes, etc.\n",
    "\n",
    "Los usuarios potenciales compradores (personas en su nombre o representando a una empresa u otra entidad), llegan a la web del ecommerce por diferentes canales: directorios propios, webs de terceros, desde buscadores por labores de SEO y de SEM, etc.  \n",
    "\n",
    "Dichos usuarios tienen acceso a diferentes productos de menor contenido a cambio de registrarse en un formulario del site, en el que cumplimentan datos personales, email, teléfono, profesión, etc. El usuario pasa a ser Registrado, y es lo que en el mundo del ecommerce se denomina “lead”.  \n",
    "\n",
    "Tras el registro se permite el acceso a información muy básica sobre las empresas buscadas (Ficha de empresa), y se otorga la posibilidad de consumir gratis 5 productos de información a los que llamamos perfiles de empresa.  \n",
    "\n",
    "La oferta caduca a los 30 días.  \n",
    "\n",
    "El Perfil de empresa es un producto con contenido básico y su objetivo es mostrar a los potenciales compradores el nivel del contenido de los productos que suministra el ecommerce.  \n",
    "\n",
    "Resumiendo, la dinámica es la siguiente:\n",
    "* Un usuario busca una empresa en internet o en la web.\n",
    "* Al seleccionar una de las listadas en la búsqueda, se presenta una Ficha (Identificación) y se crea un registro en el log. Se muestra los productos disponibles para consumir.  \n",
    "    * Productos Promocionales (Perfil de Empresa). Para usuarios Registrados, si el Usuario se registra.\n",
    "    * Resto de Productos son de Pago. Es necesario estar registrado y pagar.\n",
    "* El usuario consume un producto (registro en el log) o vuelve a buscar otra empresa.  \n",
    "\n",
    "Si el usuario Registrado está interesado en conocer más a fondo una empresa o un determinado producto de pago, se le ofrece la posibilidad de contratación:  \n",
    "* PPV: Compra puntual del producto\n",
    "* Bonos: compra de un conjunto de unidades o una cantidad de productos a cambio de un pago anticipado.\n",
    "* Suscripción: pagando una cantidad periodica permite el acceso y consumo de productos, limitado por el volumen de compra y por la fecha de caducidad de la suscripción\n",
    "\n",
    "Cuando se produce una de estas contrataciones el usuario “Registrado”, pasa a ser “Cliente”.\n",
    "\n",
    "El propietario del ecommerce tiene información del usuario de su plataforma de Google Analytics que utiliza para la captación en internet, uso de cookies, estrategias de SEO y SEM, acuerdos con portales.  \n",
    "\n",
    "Ahora desea dar un paso más y quiere conocer más sobre los usuarios registrados para determinar la probabilidad de conversión a cliente. Saber cuáles son potenciales compradores a partir de los datos de ese registro en sus sistemas, del hábito de consumo de productos, y del tipo de empresa buscada/consultada.  \n",
    "\n",
    "El conjunto de datos está muy desbalanceado por ello es muy importante determinar a qué usuarios registrados debe dirigir el ecommerce sus campañas de captación.  \n",
    "\n",
    "Por otra parte, pero relacionado con el mismo tema, desean saber que perfil tienen sus clientes y que variables son las mas influyentes/relevantes en la predicción de compra para modificar la estrategia de marketing y su posicionamiento en Internet.  \n"
   ]
  },
  {
   "cell_type": "markdown",
   "id": "colored-claim",
   "metadata": {},
   "source": [
    "---------------------"
   ]
  },
  {
   "cell_type": "markdown",
   "id": "serial-benefit",
   "metadata": {},
   "source": [
    "## Análisis y limpieza\n",
    "\n",
    "En el siguiente notebook se realizará un análisis exploratorio de la información, tanto el fichero de usuarios como el de consumos."
   ]
  },
  {
   "cell_type": "markdown",
   "id": "ordered-reminder",
   "metadata": {},
   "source": [
    "### Modelo de Datos - CONSUMOS"
   ]
  },
  {
   "cell_type": "markdown",
   "id": "hybrid-light",
   "metadata": {},
   "source": [
    "* **IDCONSUMO**: Identificador Único del Consumo (Ej: 40057306)\n",
    "* **ID_USUARIO**: Id Único de Usuario (Ej: 8107310)\n",
    "* **IDPRODUCTO**: Identificador de Producto, del producto consumido (Ej: 144920)\n",
    "* **DESCPRODUCTO**: Descripción del Producto consumido (Ej: Perfil Promocional)\n",
    "* **IDGRUPOPROD**: Identificador del Grupo de Productos al que pertenece el Producto consumido (Ej: 144920)\n",
    "* **DESCGRUPOPROD**: Descripción del Grupo de Productos al que pertenece el Producto consumido (Ej: Perfil Promocional)\n",
    "* **FECHACONSUMO**: Fecha del Consumo (Ej: 01/01/2018)\n",
    "* **EMPCONSUL_ID**: Id Único de la empresa asociada al producto consumido (Ej: 986515)\n",
    "* **EMPCONSUL_CIIU**: Código de Actividad CIIU de la empresa asociada al producto consumido (Ej: H4921)\n",
    "* **EMPCONSUL_PROV**: Departamento de la empresa asociada al producto consumido (Ej: ATLANTICO)\n",
    "* **EMPCONSUL_EST**: Estado de la empresa asociada al producto consumido (Ej: ACTIVA)"
   ]
  },
  {
   "cell_type": "markdown",
   "id": "durable-family",
   "metadata": {},
   "source": [
    "### Librerías"
   ]
  },
  {
   "cell_type": "code",
   "execution_count": 1,
   "id": "painted-climate",
   "metadata": {},
   "outputs": [],
   "source": [
    "import pandas as pd\n",
    "from pandas_profiling import ProfileReport\n",
    "\n",
    "import warnings\n",
    "warnings.filterwarnings(\"ignore\")\n",
    "\n",
    "pd.set_option('display.max_columns', 200)\n",
    "# pd.options.display.max_columns"
   ]
  },
  {
   "cell_type": "markdown",
   "id": "ready-typing",
   "metadata": {},
   "source": [
    "------------------"
   ]
  },
  {
   "cell_type": "markdown",
   "id": "guilty-chess",
   "metadata": {},
   "source": [
    "------------------"
   ]
  },
  {
   "cell_type": "markdown",
   "id": "expensive-debate",
   "metadata": {},
   "source": [
    "### Dataset - Usuarios\n",
    "\n",
    "Leemos la información"
   ]
  },
  {
   "cell_type": "code",
   "execution_count": 2,
   "id": "protective-albert",
   "metadata": {},
   "outputs": [],
   "source": [
    "df_cons = pd.read_csv('Data/Consumos.txt', sep = ';', encoding = 'ISO-8859-1')"
   ]
  },
  {
   "cell_type": "code",
   "execution_count": 3,
   "id": "absolute-tutorial",
   "metadata": {},
   "outputs": [
    {
     "data": {
      "text/html": [
       "<div>\n",
       "<style scoped>\n",
       "    .dataframe tbody tr th:only-of-type {\n",
       "        vertical-align: middle;\n",
       "    }\n",
       "\n",
       "    .dataframe tbody tr th {\n",
       "        vertical-align: top;\n",
       "    }\n",
       "\n",
       "    .dataframe thead th {\n",
       "        text-align: right;\n",
       "    }\n",
       "</style>\n",
       "<table border=\"1\" class=\"dataframe\">\n",
       "  <thead>\n",
       "    <tr style=\"text-align: right;\">\n",
       "      <th></th>\n",
       "      <th>IDCONSUMO</th>\n",
       "      <th>IDUSUARIO</th>\n",
       "      <th>IDPRODUCTO</th>\n",
       "      <th>DESCPRODUCTO</th>\n",
       "      <th>IDGRUPOPROD</th>\n",
       "      <th>DESCGRUPOPROD</th>\n",
       "      <th>FECHACONSUMO</th>\n",
       "      <th>EMPCONSUL_ID</th>\n",
       "      <th>EMPCONSUL_CIIU</th>\n",
       "      <th>EMPCONSUL_PROV</th>\n",
       "      <th>EMPCONSUL_EST</th>\n",
       "    </tr>\n",
       "  </thead>\n",
       "  <tbody>\n",
       "    <tr>\n",
       "      <th>0</th>\n",
       "      <td>40057306,00</td>\n",
       "      <td>6868835,00</td>\n",
       "      <td>144920,00</td>\n",
       "      <td>Perfil Promocional</td>\n",
       "      <td>144920</td>\n",
       "      <td>Perfil Promocional</td>\n",
       "      <td>1/1/2018 0:00:00</td>\n",
       "      <td>986515</td>\n",
       "      <td>H4921</td>\n",
       "      <td>ATLANTICO</td>\n",
       "      <td>ACTIVA</td>\n",
       "    </tr>\n",
       "    <tr>\n",
       "      <th>1</th>\n",
       "      <td>40057715,00</td>\n",
       "      <td>6868838,00</td>\n",
       "      <td>144920,00</td>\n",
       "      <td>Perfil Promocional</td>\n",
       "      <td>144920</td>\n",
       "      <td>Perfil Promocional</td>\n",
       "      <td>1/1/2018 0:00:00</td>\n",
       "      <td>102614</td>\n",
       "      <td>N8121</td>\n",
       "      <td>BOGOTA</td>\n",
       "      <td>ACTIVA</td>\n",
       "    </tr>\n",
       "    <tr>\n",
       "      <th>2</th>\n",
       "      <td>40057785,00</td>\n",
       "      <td>6868841,00</td>\n",
       "      <td>144917,00</td>\n",
       "      <td>Ficha Básica</td>\n",
       "      <td>144917</td>\n",
       "      <td>Ficha Básica Promocional</td>\n",
       "      <td>1/1/2018 0:00:00</td>\n",
       "      <td>1520173</td>\n",
       "      <td>K6412</td>\n",
       "      <td>BOGOTA</td>\n",
       "      <td>CANCELACIËN</td>\n",
       "    </tr>\n",
       "    <tr>\n",
       "      <th>3</th>\n",
       "      <td>40057786,00</td>\n",
       "      <td>6868841,00</td>\n",
       "      <td>144920,00</td>\n",
       "      <td>Perfil Promocional</td>\n",
       "      <td>144920</td>\n",
       "      <td>Perfil Promocional</td>\n",
       "      <td>1/1/2018 0:00:00</td>\n",
       "      <td>1520173</td>\n",
       "      <td>K6412</td>\n",
       "      <td>BOGOTA</td>\n",
       "      <td>CANCELACIËN</td>\n",
       "    </tr>\n",
       "    <tr>\n",
       "      <th>4</th>\n",
       "      <td>40057779,00</td>\n",
       "      <td>6868841,00</td>\n",
       "      <td>144920,00</td>\n",
       "      <td>Perfil Promocional</td>\n",
       "      <td>144920</td>\n",
       "      <td>Perfil Promocional</td>\n",
       "      <td>1/1/2018 0:00:00</td>\n",
       "      <td>2971771</td>\n",
       "      <td>P8544</td>\n",
       "      <td>BOGOTA</td>\n",
       "      <td>ACTIVA</td>\n",
       "    </tr>\n",
       "  </tbody>\n",
       "</table>\n",
       "</div>"
      ],
      "text/plain": [
       "     IDCONSUMO   IDUSUARIO IDPRODUCTO        DESCPRODUCTO  IDGRUPOPROD  \\\n",
       "0  40057306,00  6868835,00  144920,00  Perfil Promocional       144920   \n",
       "1  40057715,00  6868838,00  144920,00  Perfil Promocional       144920   \n",
       "2  40057785,00  6868841,00  144917,00        Ficha Básica       144917   \n",
       "3  40057786,00  6868841,00  144920,00  Perfil Promocional       144920   \n",
       "4  40057779,00  6868841,00  144920,00  Perfil Promocional       144920   \n",
       "\n",
       "              DESCGRUPOPROD      FECHACONSUMO  EMPCONSUL_ID EMPCONSUL_CIIU  \\\n",
       "0        Perfil Promocional  1/1/2018 0:00:00        986515          H4921   \n",
       "1        Perfil Promocional  1/1/2018 0:00:00        102614          N8121   \n",
       "2  Ficha Básica Promocional  1/1/2018 0:00:00       1520173          K6412   \n",
       "3        Perfil Promocional  1/1/2018 0:00:00       1520173          K6412   \n",
       "4        Perfil Promocional  1/1/2018 0:00:00       2971771          P8544   \n",
       "\n",
       "  EMPCONSUL_PROV EMPCONSUL_EST  \n",
       "0      ATLANTICO        ACTIVA  \n",
       "1         BOGOTA        ACTIVA  \n",
       "2         BOGOTA   CANCELACIËN  \n",
       "3         BOGOTA   CANCELACIËN  \n",
       "4         BOGOTA        ACTIVA  "
      ]
     },
     "execution_count": 3,
     "metadata": {},
     "output_type": "execute_result"
    }
   ],
   "source": [
    "df_cons.head()"
   ]
  },
  {
   "cell_type": "markdown",
   "id": "duplicate-present",
   "metadata": {},
   "source": [
    "Realizamos un informe conpandas profiling para obtener un análisis previo aproximado."
   ]
  },
  {
   "cell_type": "code",
   "execution_count": 4,
   "id": "respected-priest",
   "metadata": {},
   "outputs": [
    {
     "data": {
      "application/vnd.jupyter.widget-view+json": {
       "model_id": "39ad4b0d0f57416bb046532a512b2e8a",
       "version_major": 2,
       "version_minor": 0
      },
      "text/plain": [
       "Summarize dataset:   0%|          | 0/25 [00:00<?, ?it/s]"
      ]
     },
     "metadata": {},
     "output_type": "display_data"
    },
    {
     "data": {
      "application/vnd.jupyter.widget-view+json": {
       "model_id": "b7cb870973ea478f926081fb1c52a227",
       "version_major": 2,
       "version_minor": 0
      },
      "text/plain": [
       "Generate report structure:   0%|          | 0/1 [00:00<?, ?it/s]"
      ]
     },
     "metadata": {},
     "output_type": "display_data"
    },
    {
     "data": {
      "application/vnd.jupyter.widget-view+json": {
       "model_id": "9cc5e0a3802d403cb1fe4cbb50b7f666",
       "version_major": 2,
       "version_minor": 0
      },
      "text/plain": [
       "Render HTML:   0%|          | 0/1 [00:00<?, ?it/s]"
      ]
     },
     "metadata": {},
     "output_type": "display_data"
    },
    {
     "data": {
      "application/vnd.jupyter.widget-view+json": {
       "model_id": "1a2000fb9f0a4d68bf9aee61250f83ef",
       "version_major": 2,
       "version_minor": 0
      },
      "text/plain": [
       "Export report to file:   0%|          | 0/1 [00:00<?, ?it/s]"
      ]
     },
     "metadata": {},
     "output_type": "display_data"
    }
   ],
   "source": [
    "profile = ProfileReport(df_cons)\n",
    "profile.to_file('report_consumo.html')"
   ]
  },
  {
   "cell_type": "markdown",
   "id": "powered-token",
   "metadata": {},
   "source": [
    "------------------"
   ]
  },
  {
   "cell_type": "markdown",
   "id": "pleasant-illness",
   "metadata": {},
   "source": [
    "------------------"
   ]
  },
  {
   "cell_type": "markdown",
   "id": "documentary-motel",
   "metadata": {},
   "source": [
    "### Tipo de variables"
   ]
  },
  {
   "cell_type": "markdown",
   "id": "owned-split",
   "metadata": {},
   "source": [
    "Las primeras transformaciones que se realizarán, serán sobre los formatos de las variables. Se asignará el formato correcto a cada variable en función de la descripción que se tiene de cada variabable."
   ]
  },
  {
   "cell_type": "code",
   "execution_count": 5,
   "id": "close-compatibility",
   "metadata": {},
   "outputs": [
    {
     "data": {
      "text/plain": [
       "IDCONSUMO         object\n",
       "IDUSUARIO         object\n",
       "IDPRODUCTO        object\n",
       "DESCPRODUCTO      object\n",
       "IDGRUPOPROD        int64\n",
       "DESCGRUPOPROD     object\n",
       "FECHACONSUMO      object\n",
       "EMPCONSUL_ID       int64\n",
       "EMPCONSUL_CIIU    object\n",
       "EMPCONSUL_PROV    object\n",
       "EMPCONSUL_EST     object\n",
       "dtype: object"
      ]
     },
     "execution_count": 5,
     "metadata": {},
     "output_type": "execute_result"
    }
   ],
   "source": [
    "df_cons.dtypes"
   ]
  },
  {
   "cell_type": "markdown",
   "id": "regulation-poison",
   "metadata": {},
   "source": [
    "**Lo primero es cambiar las comas, de las columnas numericas, por puntos. Después se convierten a entero**"
   ]
  },
  {
   "cell_type": "code",
   "execution_count": 6,
   "id": "hispanic-bristol",
   "metadata": {},
   "outputs": [],
   "source": [
    "df_cons['IDUSUARIO'] = df_cons['IDUSUARIO'].str.replace(\",\",\".\")\n",
    "df_cons['IDCONSUMO'] = df_cons['IDCONSUMO'].str.replace(\",\",\".\")\n",
    "df_cons['IDPRODUCTO'] = df_cons['IDPRODUCTO'].str.replace(\",\",\".\")"
   ]
  },
  {
   "cell_type": "markdown",
   "id": "every-upper",
   "metadata": {},
   "source": [
    "**convertimos al tipo deseado cada variable**"
   ]
  },
  {
   "cell_type": "code",
   "execution_count": 7,
   "id": "domestic-execution",
   "metadata": {},
   "outputs": [],
   "source": [
    "df_cons['IDUSUARIO'] = df_cons['IDUSUARIO'].astype('float').astype('int')\n",
    "df_cons['IDCONSUMO'] = df_cons['IDCONSUMO'].astype('float').astype('int')\n",
    "df_cons['IDPRODUCTO'] = df_cons['IDPRODUCTO'].astype('float').astype('int')\n",
    "df_cons['FECHACONSUMO'] = pd.to_datetime(df_cons['FECHACONSUMO'])"
   ]
  },
  {
   "cell_type": "markdown",
   "id": "unique-point",
   "metadata": {},
   "source": [
    "Comprobación"
   ]
  },
  {
   "cell_type": "code",
   "execution_count": 8,
   "id": "robust-truth",
   "metadata": {},
   "outputs": [
    {
     "data": {
      "text/plain": [
       "IDCONSUMO                  int32\n",
       "IDUSUARIO                  int32\n",
       "IDPRODUCTO                 int32\n",
       "DESCPRODUCTO              object\n",
       "IDGRUPOPROD                int64\n",
       "DESCGRUPOPROD             object\n",
       "FECHACONSUMO      datetime64[ns]\n",
       "EMPCONSUL_ID               int64\n",
       "EMPCONSUL_CIIU            object\n",
       "EMPCONSUL_PROV            object\n",
       "EMPCONSUL_EST             object\n",
       "dtype: object"
      ]
     },
     "execution_count": 8,
     "metadata": {},
     "output_type": "execute_result"
    }
   ],
   "source": [
    "df_cons.dtypes"
   ]
  },
  {
   "cell_type": "markdown",
   "id": "alpine-standing",
   "metadata": {},
   "source": [
    "------------------"
   ]
  },
  {
   "cell_type": "markdown",
   "id": "continental-rates",
   "metadata": {},
   "source": [
    "------------------"
   ]
  },
  {
   "cell_type": "markdown",
   "id": "furnished-stomach",
   "metadata": {},
   "source": [
    "### Duplicidad de la información\n",
    "\n",
    "Este dataset tiene la información a nivel cliente. Cada usuario debe ser un registro único. "
   ]
  },
  {
   "cell_type": "code",
   "execution_count": 9,
   "id": "appreciated-eight",
   "metadata": {},
   "outputs": [
    {
     "data": {
      "text/plain": [
       "9764"
      ]
     },
     "execution_count": 9,
     "metadata": {},
     "output_type": "execute_result"
    }
   ],
   "source": [
    "df_cons.duplicated().sum()"
   ]
  },
  {
   "cell_type": "code",
   "execution_count": 10,
   "id": "continued-subscription",
   "metadata": {},
   "outputs": [
    {
     "data": {
      "text/plain": [
       "(938580, 11)"
      ]
     },
     "execution_count": 10,
     "metadata": {},
     "output_type": "execute_result"
    }
   ],
   "source": [
    "df_cons.shape"
   ]
  },
  {
   "cell_type": "code",
   "execution_count": 11,
   "id": "dependent-representation",
   "metadata": {},
   "outputs": [
    {
     "data": {
      "text/html": [
       "<div>\n",
       "<style scoped>\n",
       "    .dataframe tbody tr th:only-of-type {\n",
       "        vertical-align: middle;\n",
       "    }\n",
       "\n",
       "    .dataframe tbody tr th {\n",
       "        vertical-align: top;\n",
       "    }\n",
       "\n",
       "    .dataframe thead th {\n",
       "        text-align: right;\n",
       "    }\n",
       "</style>\n",
       "<table border=\"1\" class=\"dataframe\">\n",
       "  <thead>\n",
       "    <tr style=\"text-align: right;\">\n",
       "      <th></th>\n",
       "      <th>IDCONSUMO</th>\n",
       "      <th>IDUSUARIO</th>\n",
       "      <th>IDPRODUCTO</th>\n",
       "      <th>DESCPRODUCTO</th>\n",
       "      <th>IDGRUPOPROD</th>\n",
       "      <th>DESCGRUPOPROD</th>\n",
       "      <th>FECHACONSUMO</th>\n",
       "      <th>EMPCONSUL_ID</th>\n",
       "      <th>EMPCONSUL_CIIU</th>\n",
       "      <th>EMPCONSUL_PROV</th>\n",
       "      <th>EMPCONSUL_EST</th>\n",
       "    </tr>\n",
       "  </thead>\n",
       "  <tbody>\n",
       "    <tr>\n",
       "      <th>603</th>\n",
       "      <td>40072208</td>\n",
       "      <td>6870059</td>\n",
       "      <td>144917</td>\n",
       "      <td>Ficha Básica</td>\n",
       "      <td>144917</td>\n",
       "      <td>Ficha Básica Promocional</td>\n",
       "      <td>2018-02-01</td>\n",
       "      <td>1781296</td>\n",
       "      <td>G4729</td>\n",
       "      <td>BOGOTA</td>\n",
       "      <td>CANCELACIËN</td>\n",
       "    </tr>\n",
       "    <tr>\n",
       "      <th>604</th>\n",
       "      <td>40072310</td>\n",
       "      <td>6870059</td>\n",
       "      <td>144917</td>\n",
       "      <td>Ficha Básica</td>\n",
       "      <td>144917</td>\n",
       "      <td>Ficha Básica Promocional</td>\n",
       "      <td>2018-02-01</td>\n",
       "      <td>1781296</td>\n",
       "      <td>G4729</td>\n",
       "      <td>BOGOTA</td>\n",
       "      <td>CANCELACIËN</td>\n",
       "    </tr>\n",
       "    <tr>\n",
       "      <th>605</th>\n",
       "      <td>40072312</td>\n",
       "      <td>6870059</td>\n",
       "      <td>144917</td>\n",
       "      <td>Ficha Básica</td>\n",
       "      <td>144917</td>\n",
       "      <td>Ficha Básica Promocional</td>\n",
       "      <td>2018-02-01</td>\n",
       "      <td>1781296</td>\n",
       "      <td>G4729</td>\n",
       "      <td>BOGOTA</td>\n",
       "      <td>CANCELACIËN</td>\n",
       "    </tr>\n",
       "    <tr>\n",
       "      <th>606</th>\n",
       "      <td>40072224</td>\n",
       "      <td>6870059</td>\n",
       "      <td>144917</td>\n",
       "      <td>Ficha Básica</td>\n",
       "      <td>144917</td>\n",
       "      <td>Ficha Básica Promocional</td>\n",
       "      <td>2018-02-01</td>\n",
       "      <td>1781296</td>\n",
       "      <td>G4729</td>\n",
       "      <td>BOGOTA</td>\n",
       "      <td>CANCELACIËN</td>\n",
       "    </tr>\n",
       "    <tr>\n",
       "      <th>607</th>\n",
       "      <td>40072225</td>\n",
       "      <td>6870059</td>\n",
       "      <td>144920</td>\n",
       "      <td>Perfil Promocional</td>\n",
       "      <td>144920</td>\n",
       "      <td>Perfil Promocional</td>\n",
       "      <td>2018-02-01</td>\n",
       "      <td>1781296</td>\n",
       "      <td>G4729</td>\n",
       "      <td>BOGOTA</td>\n",
       "      <td>CANCELACIËN</td>\n",
       "    </tr>\n",
       "    <tr>\n",
       "      <th>608</th>\n",
       "      <td>40072275</td>\n",
       "      <td>6870059</td>\n",
       "      <td>144917</td>\n",
       "      <td>Ficha Básica</td>\n",
       "      <td>144917</td>\n",
       "      <td>Ficha Básica Promocional</td>\n",
       "      <td>2018-02-01</td>\n",
       "      <td>1781296</td>\n",
       "      <td>G4729</td>\n",
       "      <td>BOGOTA</td>\n",
       "      <td>CANCELACIËN</td>\n",
       "    </tr>\n",
       "    <tr>\n",
       "      <th>609</th>\n",
       "      <td>40072207</td>\n",
       "      <td>6870059</td>\n",
       "      <td>144917</td>\n",
       "      <td>Ficha Básica</td>\n",
       "      <td>144917</td>\n",
       "      <td>Ficha Básica Promocional</td>\n",
       "      <td>2018-02-01</td>\n",
       "      <td>1781296</td>\n",
       "      <td>G4729</td>\n",
       "      <td>BOGOTA</td>\n",
       "      <td>CANCELACIËN</td>\n",
       "    </tr>\n",
       "    <tr>\n",
       "      <th>610</th>\n",
       "      <td>40072214</td>\n",
       "      <td>6870059</td>\n",
       "      <td>144917</td>\n",
       "      <td>Ficha Básica</td>\n",
       "      <td>144917</td>\n",
       "      <td>Ficha Básica Promocional</td>\n",
       "      <td>2018-02-01</td>\n",
       "      <td>4417646</td>\n",
       "      <td>I5611</td>\n",
       "      <td>QUINDIO</td>\n",
       "      <td>ACTIVA</td>\n",
       "    </tr>\n",
       "    <tr>\n",
       "      <th>611</th>\n",
       "      <td>40072217</td>\n",
       "      <td>6870059</td>\n",
       "      <td>144917</td>\n",
       "      <td>Ficha Básica</td>\n",
       "      <td>144917</td>\n",
       "      <td>Ficha Básica Promocional</td>\n",
       "      <td>2018-02-01</td>\n",
       "      <td>4417646</td>\n",
       "      <td>I5611</td>\n",
       "      <td>QUINDIO</td>\n",
       "      <td>ACTIVA</td>\n",
       "    </tr>\n",
       "    <tr>\n",
       "      <th>612</th>\n",
       "      <td>40072216</td>\n",
       "      <td>6870059</td>\n",
       "      <td>144917</td>\n",
       "      <td>Ficha Básica</td>\n",
       "      <td>144917</td>\n",
       "      <td>Ficha Básica Promocional</td>\n",
       "      <td>2018-02-01</td>\n",
       "      <td>2711168</td>\n",
       "      <td>G4771</td>\n",
       "      <td>ANTIOQUIA</td>\n",
       "      <td>INACTIVA TEMPORAL</td>\n",
       "    </tr>\n",
       "  </tbody>\n",
       "</table>\n",
       "</div>"
      ],
      "text/plain": [
       "     IDCONSUMO  IDUSUARIO  IDPRODUCTO        DESCPRODUCTO  IDGRUPOPROD  \\\n",
       "603   40072208    6870059      144917        Ficha Básica       144917   \n",
       "604   40072310    6870059      144917        Ficha Básica       144917   \n",
       "605   40072312    6870059      144917        Ficha Básica       144917   \n",
       "606   40072224    6870059      144917        Ficha Básica       144917   \n",
       "607   40072225    6870059      144920  Perfil Promocional       144920   \n",
       "608   40072275    6870059      144917        Ficha Básica       144917   \n",
       "609   40072207    6870059      144917        Ficha Básica       144917   \n",
       "610   40072214    6870059      144917        Ficha Básica       144917   \n",
       "611   40072217    6870059      144917        Ficha Básica       144917   \n",
       "612   40072216    6870059      144917        Ficha Básica       144917   \n",
       "\n",
       "                DESCGRUPOPROD FECHACONSUMO  EMPCONSUL_ID EMPCONSUL_CIIU  \\\n",
       "603  Ficha Básica Promocional   2018-02-01       1781296          G4729   \n",
       "604  Ficha Básica Promocional   2018-02-01       1781296          G4729   \n",
       "605  Ficha Básica Promocional   2018-02-01       1781296          G4729   \n",
       "606  Ficha Básica Promocional   2018-02-01       1781296          G4729   \n",
       "607        Perfil Promocional   2018-02-01       1781296          G4729   \n",
       "608  Ficha Básica Promocional   2018-02-01       1781296          G4729   \n",
       "609  Ficha Básica Promocional   2018-02-01       1781296          G4729   \n",
       "610  Ficha Básica Promocional   2018-02-01       4417646          I5611   \n",
       "611  Ficha Básica Promocional   2018-02-01       4417646          I5611   \n",
       "612  Ficha Básica Promocional   2018-02-01       2711168          G4771   \n",
       "\n",
       "    EMPCONSUL_PROV      EMPCONSUL_EST  \n",
       "603         BOGOTA        CANCELACIËN  \n",
       "604         BOGOTA        CANCELACIËN  \n",
       "605         BOGOTA        CANCELACIËN  \n",
       "606         BOGOTA        CANCELACIËN  \n",
       "607         BOGOTA        CANCELACIËN  \n",
       "608         BOGOTA        CANCELACIËN  \n",
       "609         BOGOTA        CANCELACIËN  \n",
       "610        QUINDIO             ACTIVA  \n",
       "611        QUINDIO             ACTIVA  \n",
       "612      ANTIOQUIA  INACTIVA TEMPORAL  "
      ]
     },
     "execution_count": 11,
     "metadata": {},
     "output_type": "execute_result"
    }
   ],
   "source": [
    "df_cons[df_cons.duplicated(keep = False) == True].head(10)"
   ]
  },
  {
   "cell_type": "markdown",
   "id": "cross-european",
   "metadata": {},
   "source": [
    "Eliminamos los duplicados"
   ]
  },
  {
   "cell_type": "code",
   "execution_count": 12,
   "id": "rocky-raleigh",
   "metadata": {},
   "outputs": [],
   "source": [
    "df_cons.drop_duplicates(inplace = True, ignore_index = True)"
   ]
  },
  {
   "cell_type": "code",
   "execution_count": 13,
   "id": "environmental-relief",
   "metadata": {},
   "outputs": [
    {
     "data": {
      "text/plain": [
       "(928816, 11)"
      ]
     },
     "execution_count": 13,
     "metadata": {},
     "output_type": "execute_result"
    }
   ],
   "source": [
    "df_cons.shape"
   ]
  },
  {
   "cell_type": "code",
   "execution_count": 14,
   "id": "compact-manner",
   "metadata": {},
   "outputs": [
    {
     "data": {
      "text/plain": [
       "0"
      ]
     },
     "execution_count": 14,
     "metadata": {},
     "output_type": "execute_result"
    }
   ],
   "source": [
    "df_cons.duplicated().sum()"
   ]
  },
  {
   "cell_type": "markdown",
   "id": "centered-maryland",
   "metadata": {},
   "source": [
    "**Realizamos una última comprobación de duplicidad. Que el número total de registros sea el mismo que el total de IDCONSUMO unicos.**"
   ]
  },
  {
   "cell_type": "code",
   "execution_count": 15,
   "id": "secure-travel",
   "metadata": {},
   "outputs": [
    {
     "data": {
      "text/plain": [
       "928816"
      ]
     },
     "execution_count": 15,
     "metadata": {},
     "output_type": "execute_result"
    }
   ],
   "source": [
    "len(df_cons['IDCONSUMO'].unique())"
   ]
  },
  {
   "cell_type": "code",
   "execution_count": 16,
   "id": "continued-legislature",
   "metadata": {},
   "outputs": [
    {
     "data": {
      "text/plain": [
       "928816"
      ]
     },
     "execution_count": 16,
     "metadata": {},
     "output_type": "execute_result"
    }
   ],
   "source": [
    "df_cons.shape[0]"
   ]
  },
  {
   "cell_type": "markdown",
   "id": "upper-welcome",
   "metadata": {},
   "source": [
    "------------------"
   ]
  },
  {
   "cell_type": "markdown",
   "id": "sweet-period",
   "metadata": {},
   "source": [
    "------------------"
   ]
  },
  {
   "cell_type": "markdown",
   "id": "mineral-secondary",
   "metadata": {},
   "source": [
    "### Valores *Missings*"
   ]
  },
  {
   "cell_type": "markdown",
   "id": "hourly-potential",
   "metadata": {},
   "source": [
    "**A continuación se realiza un análisis de los valores missing en de cada variable y su respectivo tratamiento**"
   ]
  },
  {
   "cell_type": "code",
   "execution_count": 17,
   "id": "pharmaceutical-premium",
   "metadata": {},
   "outputs": [
    {
     "data": {
      "text/plain": [
       "IDCONSUMO            0\n",
       "IDUSUARIO            0\n",
       "IDPRODUCTO           0\n",
       "DESCPRODUCTO         0\n",
       "IDGRUPOPROD          0\n",
       "DESCGRUPOPROD        0\n",
       "FECHACONSUMO         0\n",
       "EMPCONSUL_ID         0\n",
       "EMPCONSUL_CIIU    3561\n",
       "EMPCONSUL_PROV    3561\n",
       "EMPCONSUL_EST     3561\n",
       "dtype: int64"
      ]
     },
     "execution_count": 17,
     "metadata": {},
     "output_type": "execute_result"
    }
   ],
   "source": [
    "df_cons.isna().sum()"
   ]
  },
  {
   "cell_type": "code",
   "execution_count": 18,
   "id": "elder-asset",
   "metadata": {},
   "outputs": [
    {
     "data": {
      "text/html": [
       "<div>\n",
       "<style scoped>\n",
       "    .dataframe tbody tr th:only-of-type {\n",
       "        vertical-align: middle;\n",
       "    }\n",
       "\n",
       "    .dataframe tbody tr th {\n",
       "        vertical-align: top;\n",
       "    }\n",
       "\n",
       "    .dataframe thead th {\n",
       "        text-align: right;\n",
       "    }\n",
       "</style>\n",
       "<table border=\"1\" class=\"dataframe\">\n",
       "  <thead>\n",
       "    <tr style=\"text-align: right;\">\n",
       "      <th></th>\n",
       "      <th>IDCONSUMO</th>\n",
       "      <th>IDUSUARIO</th>\n",
       "      <th>IDPRODUCTO</th>\n",
       "      <th>DESCPRODUCTO</th>\n",
       "      <th>IDGRUPOPROD</th>\n",
       "      <th>DESCGRUPOPROD</th>\n",
       "      <th>FECHACONSUMO</th>\n",
       "      <th>EMPCONSUL_ID</th>\n",
       "      <th>EMPCONSUL_CIIU</th>\n",
       "      <th>EMPCONSUL_PROV</th>\n",
       "      <th>EMPCONSUL_EST</th>\n",
       "    </tr>\n",
       "  </thead>\n",
       "  <tbody>\n",
       "    <tr>\n",
       "      <th>0</th>\n",
       "      <td>40057306</td>\n",
       "      <td>6868835</td>\n",
       "      <td>144920</td>\n",
       "      <td>Perfil Promocional</td>\n",
       "      <td>144920</td>\n",
       "      <td>Perfil Promocional</td>\n",
       "      <td>2018-01-01</td>\n",
       "      <td>986515</td>\n",
       "      <td>H4921</td>\n",
       "      <td>ATLANTICO</td>\n",
       "      <td>ACTIVA</td>\n",
       "    </tr>\n",
       "    <tr>\n",
       "      <th>1</th>\n",
       "      <td>40057715</td>\n",
       "      <td>6868838</td>\n",
       "      <td>144920</td>\n",
       "      <td>Perfil Promocional</td>\n",
       "      <td>144920</td>\n",
       "      <td>Perfil Promocional</td>\n",
       "      <td>2018-01-01</td>\n",
       "      <td>102614</td>\n",
       "      <td>N8121</td>\n",
       "      <td>BOGOTA</td>\n",
       "      <td>ACTIVA</td>\n",
       "    </tr>\n",
       "    <tr>\n",
       "      <th>2</th>\n",
       "      <td>40057785</td>\n",
       "      <td>6868841</td>\n",
       "      <td>144917</td>\n",
       "      <td>Ficha Básica</td>\n",
       "      <td>144917</td>\n",
       "      <td>Ficha Básica Promocional</td>\n",
       "      <td>2018-01-01</td>\n",
       "      <td>1520173</td>\n",
       "      <td>K6412</td>\n",
       "      <td>BOGOTA</td>\n",
       "      <td>CANCELACIËN</td>\n",
       "    </tr>\n",
       "    <tr>\n",
       "      <th>3</th>\n",
       "      <td>40057786</td>\n",
       "      <td>6868841</td>\n",
       "      <td>144920</td>\n",
       "      <td>Perfil Promocional</td>\n",
       "      <td>144920</td>\n",
       "      <td>Perfil Promocional</td>\n",
       "      <td>2018-01-01</td>\n",
       "      <td>1520173</td>\n",
       "      <td>K6412</td>\n",
       "      <td>BOGOTA</td>\n",
       "      <td>CANCELACIËN</td>\n",
       "    </tr>\n",
       "    <tr>\n",
       "      <th>4</th>\n",
       "      <td>40057779</td>\n",
       "      <td>6868841</td>\n",
       "      <td>144920</td>\n",
       "      <td>Perfil Promocional</td>\n",
       "      <td>144920</td>\n",
       "      <td>Perfil Promocional</td>\n",
       "      <td>2018-01-01</td>\n",
       "      <td>2971771</td>\n",
       "      <td>P8544</td>\n",
       "      <td>BOGOTA</td>\n",
       "      <td>ACTIVA</td>\n",
       "    </tr>\n",
       "  </tbody>\n",
       "</table>\n",
       "</div>"
      ],
      "text/plain": [
       "   IDCONSUMO  IDUSUARIO  IDPRODUCTO        DESCPRODUCTO  IDGRUPOPROD  \\\n",
       "0   40057306    6868835      144920  Perfil Promocional       144920   \n",
       "1   40057715    6868838      144920  Perfil Promocional       144920   \n",
       "2   40057785    6868841      144917        Ficha Básica       144917   \n",
       "3   40057786    6868841      144920  Perfil Promocional       144920   \n",
       "4   40057779    6868841      144920  Perfil Promocional       144920   \n",
       "\n",
       "              DESCGRUPOPROD FECHACONSUMO  EMPCONSUL_ID EMPCONSUL_CIIU  \\\n",
       "0        Perfil Promocional   2018-01-01        986515          H4921   \n",
       "1        Perfil Promocional   2018-01-01        102614          N8121   \n",
       "2  Ficha Básica Promocional   2018-01-01       1520173          K6412   \n",
       "3        Perfil Promocional   2018-01-01       1520173          K6412   \n",
       "4        Perfil Promocional   2018-01-01       2971771          P8544   \n",
       "\n",
       "  EMPCONSUL_PROV EMPCONSUL_EST  \n",
       "0      ATLANTICO        ACTIVA  \n",
       "1         BOGOTA        ACTIVA  \n",
       "2         BOGOTA   CANCELACIËN  \n",
       "3         BOGOTA   CANCELACIËN  \n",
       "4         BOGOTA        ACTIVA  "
      ]
     },
     "execution_count": 18,
     "metadata": {},
     "output_type": "execute_result"
    }
   ],
   "source": [
    "df_cons.head(5)"
   ]
  },
  {
   "cell_type": "markdown",
   "id": "wanted-practitioner",
   "metadata": {},
   "source": [
    "**1. EMPCONSUL_CIIU, EMPCONSUL_PROV y EMPCONSUL_EST**\n",
    "\n",
    "Recordamos:\n",
    "\n",
    "* **EMPCONSUL_CIIU**: Código de Actividad CIIU de la empresa asociada al producto consumido (Ej: H4921)\n",
    "* **EMPCONSUL_PROV**: Departamento de la empresa asociada al producto consumido (Ej: ATLANTICO)\n",
    "* **EMPCONSUL_EST**: Estado de la empresa asociada al producto consumido (Ej: ACTIVA) "
   ]
  },
  {
   "cell_type": "code",
   "execution_count": 19,
   "id": "approximate-resolution",
   "metadata": {},
   "outputs": [
    {
     "data": {
      "text/plain": [
       "EMPCONSUL_CIIU    3561\n",
       "EMPCONSUL_PROV    3561\n",
       "EMPCONSUL_EST     3561\n",
       "dtype: int64"
      ]
     },
     "execution_count": 19,
     "metadata": {},
     "output_type": "execute_result"
    }
   ],
   "source": [
    "df_cons[['EMPCONSUL_CIIU', 'EMPCONSUL_PROV', 'EMPCONSUL_EST']].isna().sum()"
   ]
  },
  {
   "cell_type": "markdown",
   "id": "sorted-active",
   "metadata": {},
   "source": [
    "Vemos que los registros con valores nulos en las 3 variables son comunes a las 3 variables."
   ]
  },
  {
   "cell_type": "code",
   "execution_count": 20,
   "id": "satisfactory-evanescence",
   "metadata": {},
   "outputs": [
    {
     "data": {
      "text/plain": [
       "3561"
      ]
     },
     "execution_count": 20,
     "metadata": {},
     "output_type": "execute_result"
    }
   ],
   "source": [
    "len(df_cons[(df_cons['EMPCONSUL_CIIU'].isna()) | (df_cons['EMPCONSUL_PROV'].isna()) | (df_cons['EMPCONSUL_EST'].isna())][['EMPCONSUL_CIIU', 'EMPCONSUL_PROV', 'EMPCONSUL_EST']])"
   ]
  },
  {
   "cell_type": "markdown",
   "id": "dangerous-housing",
   "metadata": {},
   "source": [
    "**Creamos una lista con los códigos de *EMPCONSUL_ID* que tengan a nulos los registros a tratar**"
   ]
  },
  {
   "cell_type": "code",
   "execution_count": 21,
   "id": "prescribed-pavilion",
   "metadata": {},
   "outputs": [],
   "source": [
    "lista = list(df_cons[(df_cons['EMPCONSUL_CIIU'].isna()) | (df_cons['EMPCONSUL_PROV'].isna()) | (df_cons['EMPCONSUL_EST'].isna())]['EMPCONSUL_ID'].unique())"
   ]
  },
  {
   "cell_type": "markdown",
   "id": "vulnerable-relative",
   "metadata": {},
   "source": [
    "**Podemos observar que los registros de dichos códigos, tienen registros con esos campos informados, por los que habria que computarlos**"
   ]
  },
  {
   "cell_type": "code",
   "execution_count": 22,
   "id": "cutting-vault",
   "metadata": {},
   "outputs": [
    {
     "data": {
      "text/html": [
       "<div>\n",
       "<style scoped>\n",
       "    .dataframe tbody tr th:only-of-type {\n",
       "        vertical-align: middle;\n",
       "    }\n",
       "\n",
       "    .dataframe tbody tr th {\n",
       "        vertical-align: top;\n",
       "    }\n",
       "\n",
       "    .dataframe thead th {\n",
       "        text-align: right;\n",
       "    }\n",
       "</style>\n",
       "<table border=\"1\" class=\"dataframe\">\n",
       "  <thead>\n",
       "    <tr style=\"text-align: right;\">\n",
       "      <th></th>\n",
       "      <th>IDCONSUMO</th>\n",
       "      <th>IDUSUARIO</th>\n",
       "      <th>IDPRODUCTO</th>\n",
       "      <th>DESCPRODUCTO</th>\n",
       "      <th>IDGRUPOPROD</th>\n",
       "      <th>DESCGRUPOPROD</th>\n",
       "      <th>FECHACONSUMO</th>\n",
       "      <th>EMPCONSUL_ID</th>\n",
       "      <th>EMPCONSUL_CIIU</th>\n",
       "      <th>EMPCONSUL_PROV</th>\n",
       "      <th>EMPCONSUL_EST</th>\n",
       "    </tr>\n",
       "  </thead>\n",
       "  <tbody>\n",
       "    <tr>\n",
       "      <th>43766</th>\n",
       "      <td>40904978</td>\n",
       "      <td>6942123</td>\n",
       "      <td>144920</td>\n",
       "      <td>Perfil Promocional</td>\n",
       "      <td>144920</td>\n",
       "      <td>Perfil Promocional</td>\n",
       "      <td>2018-02-20</td>\n",
       "      <td>92025</td>\n",
       "      <td>K6412</td>\n",
       "      <td>BOGOTA</td>\n",
       "      <td>ACTIVA</td>\n",
       "    </tr>\n",
       "    <tr>\n",
       "      <th>304817</th>\n",
       "      <td>45449840</td>\n",
       "      <td>7342771</td>\n",
       "      <td>144920</td>\n",
       "      <td>Perfil Promocional</td>\n",
       "      <td>144920</td>\n",
       "      <td>Perfil Promocional</td>\n",
       "      <td>2018-03-09</td>\n",
       "      <td>92025</td>\n",
       "      <td>K6412</td>\n",
       "      <td>BOGOTA</td>\n",
       "      <td>ACTIVA</td>\n",
       "    </tr>\n",
       "    <tr>\n",
       "      <th>61539</th>\n",
       "      <td>41229649</td>\n",
       "      <td>6971928</td>\n",
       "      <td>144917</td>\n",
       "      <td>Ficha Básica</td>\n",
       "      <td>144917</td>\n",
       "      <td>Ficha Básica Promocional</td>\n",
       "      <td>2018-05-03</td>\n",
       "      <td>92025</td>\n",
       "      <td>NaN</td>\n",
       "      <td>NaN</td>\n",
       "      <td>NaN</td>\n",
       "    </tr>\n",
       "    <tr>\n",
       "      <th>61538</th>\n",
       "      <td>41229648</td>\n",
       "      <td>6971928</td>\n",
       "      <td>144917</td>\n",
       "      <td>Ficha Básica</td>\n",
       "      <td>144917</td>\n",
       "      <td>Ficha Básica Promocional</td>\n",
       "      <td>2018-05-03</td>\n",
       "      <td>92025</td>\n",
       "      <td>NaN</td>\n",
       "      <td>NaN</td>\n",
       "      <td>NaN</td>\n",
       "    </tr>\n",
       "    <tr>\n",
       "      <th>417882</th>\n",
       "      <td>46380432</td>\n",
       "      <td>7427065</td>\n",
       "      <td>144917</td>\n",
       "      <td>Ficha Básica</td>\n",
       "      <td>144917</td>\n",
       "      <td>Ficha Básica Promocional</td>\n",
       "      <td>2018-10-22</td>\n",
       "      <td>92025</td>\n",
       "      <td>K6412</td>\n",
       "      <td>BOGOTA</td>\n",
       "      <td>ACTIVA</td>\n",
       "    </tr>\n",
       "    <tr>\n",
       "      <th>619985</th>\n",
       "      <td>49837624</td>\n",
       "      <td>7741097</td>\n",
       "      <td>144917</td>\n",
       "      <td>Ficha Básica</td>\n",
       "      <td>144917</td>\n",
       "      <td>Ficha Básica Promocional</td>\n",
       "      <td>2019-04-23</td>\n",
       "      <td>92025</td>\n",
       "      <td>K6412</td>\n",
       "      <td>BOGOTA</td>\n",
       "      <td>ACTIVA</td>\n",
       "    </tr>\n",
       "    <tr>\n",
       "      <th>619984</th>\n",
       "      <td>49837816</td>\n",
       "      <td>7741097</td>\n",
       "      <td>144917</td>\n",
       "      <td>Ficha Básica</td>\n",
       "      <td>144917</td>\n",
       "      <td>Ficha Básica Promocional</td>\n",
       "      <td>2019-04-23</td>\n",
       "      <td>92025</td>\n",
       "      <td>K6412</td>\n",
       "      <td>BOGOTA</td>\n",
       "      <td>ACTIVA</td>\n",
       "    </tr>\n",
       "    <tr>\n",
       "      <th>700398</th>\n",
       "      <td>51043909</td>\n",
       "      <td>7846951</td>\n",
       "      <td>144917</td>\n",
       "      <td>Ficha Básica</td>\n",
       "      <td>144917</td>\n",
       "      <td>Ficha Básica Promocional</td>\n",
       "      <td>2019-06-17</td>\n",
       "      <td>92025</td>\n",
       "      <td>K6412</td>\n",
       "      <td>BOGOTA</td>\n",
       "      <td>ACTIVA</td>\n",
       "    </tr>\n",
       "    <tr>\n",
       "      <th>831703</th>\n",
       "      <td>53217525</td>\n",
       "      <td>8070896</td>\n",
       "      <td>144917</td>\n",
       "      <td>Ficha Básica</td>\n",
       "      <td>144917</td>\n",
       "      <td>Ficha Básica Promocional</td>\n",
       "      <td>2019-07-10</td>\n",
       "      <td>92025</td>\n",
       "      <td>K6412</td>\n",
       "      <td>BOGOTA</td>\n",
       "      <td>ACTIVA</td>\n",
       "    </tr>\n",
       "    <tr>\n",
       "      <th>831704</th>\n",
       "      <td>53217532</td>\n",
       "      <td>8070896</td>\n",
       "      <td>144917</td>\n",
       "      <td>Ficha Básica</td>\n",
       "      <td>144917</td>\n",
       "      <td>Ficha Básica Promocional</td>\n",
       "      <td>2019-07-10</td>\n",
       "      <td>92025</td>\n",
       "      <td>K6412</td>\n",
       "      <td>BOGOTA</td>\n",
       "      <td>ACTIVA</td>\n",
       "    </tr>\n",
       "  </tbody>\n",
       "</table>\n",
       "</div>"
      ],
      "text/plain": [
       "        IDCONSUMO  IDUSUARIO  IDPRODUCTO        DESCPRODUCTO  IDGRUPOPROD  \\\n",
       "43766    40904978    6942123      144920  Perfil Promocional       144920   \n",
       "304817   45449840    7342771      144920  Perfil Promocional       144920   \n",
       "61539    41229649    6971928      144917        Ficha Básica       144917   \n",
       "61538    41229648    6971928      144917        Ficha Básica       144917   \n",
       "417882   46380432    7427065      144917        Ficha Básica       144917   \n",
       "619985   49837624    7741097      144917        Ficha Básica       144917   \n",
       "619984   49837816    7741097      144917        Ficha Básica       144917   \n",
       "700398   51043909    7846951      144917        Ficha Básica       144917   \n",
       "831703   53217525    8070896      144917        Ficha Básica       144917   \n",
       "831704   53217532    8070896      144917        Ficha Básica       144917   \n",
       "\n",
       "                   DESCGRUPOPROD FECHACONSUMO  EMPCONSUL_ID EMPCONSUL_CIIU  \\\n",
       "43766         Perfil Promocional   2018-02-20         92025          K6412   \n",
       "304817        Perfil Promocional   2018-03-09         92025          K6412   \n",
       "61539   Ficha Básica Promocional   2018-05-03         92025            NaN   \n",
       "61538   Ficha Básica Promocional   2018-05-03         92025            NaN   \n",
       "417882  Ficha Básica Promocional   2018-10-22         92025          K6412   \n",
       "619985  Ficha Básica Promocional   2019-04-23         92025          K6412   \n",
       "619984  Ficha Básica Promocional   2019-04-23         92025          K6412   \n",
       "700398  Ficha Básica Promocional   2019-06-17         92025          K6412   \n",
       "831703  Ficha Básica Promocional   2019-07-10         92025          K6412   \n",
       "831704  Ficha Básica Promocional   2019-07-10         92025          K6412   \n",
       "\n",
       "       EMPCONSUL_PROV EMPCONSUL_EST  \n",
       "43766          BOGOTA        ACTIVA  \n",
       "304817         BOGOTA        ACTIVA  \n",
       "61539             NaN           NaN  \n",
       "61538             NaN           NaN  \n",
       "417882         BOGOTA        ACTIVA  \n",
       "619985         BOGOTA        ACTIVA  \n",
       "619984         BOGOTA        ACTIVA  \n",
       "700398         BOGOTA        ACTIVA  \n",
       "831703         BOGOTA        ACTIVA  \n",
       "831704         BOGOTA        ACTIVA  "
      ]
     },
     "execution_count": 22,
     "metadata": {},
     "output_type": "execute_result"
    }
   ],
   "source": [
    "df_cons[df_cons['EMPCONSUL_ID'].isin(lista)].sort_values(by = ['EMPCONSUL_ID']).head(10)"
   ]
  },
  {
   "cell_type": "markdown",
   "id": "loaded-instrumentation",
   "metadata": {},
   "source": [
    "**Creamos un dataframe con los datos (no nulos) de los códigos de la lista creada**"
   ]
  },
  {
   "cell_type": "code",
   "execution_count": 23,
   "id": "eleven-soldier",
   "metadata": {},
   "outputs": [],
   "source": [
    "df_cons_imp = df_cons[df_cons['EMPCONSUL_ID'].isin(lista)].sort_values(by=['EMPCONSUL_ID'])[['EMPCONSUL_ID','EMPCONSUL_CIIU', 'EMPCONSUL_PROV', 'EMPCONSUL_EST']].dropna()"
   ]
  },
  {
   "cell_type": "code",
   "execution_count": 24,
   "id": "standing-identification",
   "metadata": {},
   "outputs": [],
   "source": [
    "df_cons_imp.drop_duplicates(inplace = True, ignore_index = True)"
   ]
  },
  {
   "cell_type": "markdown",
   "id": "stretch-brain",
   "metadata": {},
   "source": [
    "Comprobamos que se ha generado correctamente"
   ]
  },
  {
   "cell_type": "code",
   "execution_count": 25,
   "id": "marked-closer",
   "metadata": {},
   "outputs": [
    {
     "data": {
      "text/plain": [
       "361"
      ]
     },
     "execution_count": 25,
     "metadata": {},
     "output_type": "execute_result"
    }
   ],
   "source": [
    "len(df_cons_imp['EMPCONSUL_ID'].unique())"
   ]
  },
  {
   "cell_type": "code",
   "execution_count": 26,
   "id": "divided-currency",
   "metadata": {},
   "outputs": [
    {
     "data": {
      "text/plain": [
       "361"
      ]
     },
     "execution_count": 26,
     "metadata": {},
     "output_type": "execute_result"
    }
   ],
   "source": [
    "len(df_cons_imp)"
   ]
  },
  {
   "cell_type": "code",
   "execution_count": 27,
   "id": "olympic-graphics",
   "metadata": {},
   "outputs": [
    {
     "data": {
      "text/plain": [
       "EMPCONSUL_ID      0\n",
       "EMPCONSUL_CIIU    0\n",
       "EMPCONSUL_PROV    0\n",
       "EMPCONSUL_EST     0\n",
       "dtype: int64"
      ]
     },
     "execution_count": 27,
     "metadata": {},
     "output_type": "execute_result"
    }
   ],
   "source": [
    "df_cons_imp.isna().sum()"
   ]
  },
  {
   "cell_type": "markdown",
   "id": "worst-quarterly",
   "metadata": {},
   "source": [
    "**Realizamos un cruce de información**"
   ]
  },
  {
   "cell_type": "markdown",
   "id": "durable-college",
   "metadata": {},
   "source": [
    "Antes de nada, renombramos las columnas para evitar el conflicto"
   ]
  },
  {
   "cell_type": "code",
   "execution_count": 28,
   "id": "sorted-growing",
   "metadata": {},
   "outputs": [],
   "source": [
    "df_cons_imp.rename(columns = {'EMPCONSUL_CIIU': 'EMPCONSUL_CIIU_2', 'EMPCONSUL_PROV': 'EMPCONSUL_PROV_2', 'EMPCONSUL_EST': 'EMPCONSUL_EST_2'}, inplace = True)"
   ]
  },
  {
   "cell_type": "code",
   "execution_count": 29,
   "id": "fundamental-freedom",
   "metadata": {},
   "outputs": [],
   "source": [
    "df_cons = pd.merge(left = df_cons, right = df_cons_imp, how = 'left', left_on = 'EMPCONSUL_ID', right_on = 'EMPCONSUL_ID')    "
   ]
  },
  {
   "cell_type": "markdown",
   "id": "veterinary-sudan",
   "metadata": {},
   "source": [
    "Comprobación"
   ]
  },
  {
   "cell_type": "code",
   "execution_count": 30,
   "id": "increased-designer",
   "metadata": {},
   "outputs": [
    {
     "data": {
      "text/html": [
       "<div>\n",
       "<style scoped>\n",
       "    .dataframe tbody tr th:only-of-type {\n",
       "        vertical-align: middle;\n",
       "    }\n",
       "\n",
       "    .dataframe tbody tr th {\n",
       "        vertical-align: top;\n",
       "    }\n",
       "\n",
       "    .dataframe thead th {\n",
       "        text-align: right;\n",
       "    }\n",
       "</style>\n",
       "<table border=\"1\" class=\"dataframe\">\n",
       "  <thead>\n",
       "    <tr style=\"text-align: right;\">\n",
       "      <th></th>\n",
       "      <th>IDCONSUMO</th>\n",
       "      <th>IDUSUARIO</th>\n",
       "      <th>IDPRODUCTO</th>\n",
       "      <th>DESCPRODUCTO</th>\n",
       "      <th>IDGRUPOPROD</th>\n",
       "      <th>DESCGRUPOPROD</th>\n",
       "      <th>FECHACONSUMO</th>\n",
       "      <th>EMPCONSUL_ID</th>\n",
       "      <th>EMPCONSUL_CIIU</th>\n",
       "      <th>EMPCONSUL_PROV</th>\n",
       "      <th>EMPCONSUL_EST</th>\n",
       "      <th>EMPCONSUL_CIIU_2</th>\n",
       "      <th>EMPCONSUL_PROV_2</th>\n",
       "      <th>EMPCONSUL_EST_2</th>\n",
       "    </tr>\n",
       "  </thead>\n",
       "  <tbody>\n",
       "    <tr>\n",
       "      <th>166</th>\n",
       "      <td>40061337</td>\n",
       "      <td>6869111</td>\n",
       "      <td>144917</td>\n",
       "      <td>Ficha Básica</td>\n",
       "      <td>144917</td>\n",
       "      <td>Ficha Básica Promocional</td>\n",
       "      <td>2018-02-01</td>\n",
       "      <td>102800</td>\n",
       "      <td>NaN</td>\n",
       "      <td>NaN</td>\n",
       "      <td>NaN</td>\n",
       "      <td>C2930</td>\n",
       "      <td>BOGOTA</td>\n",
       "      <td>ACTIVA</td>\n",
       "    </tr>\n",
       "    <tr>\n",
       "      <th>456</th>\n",
       "      <td>40068908</td>\n",
       "      <td>6869786</td>\n",
       "      <td>144917</td>\n",
       "      <td>Ficha Básica</td>\n",
       "      <td>144917</td>\n",
       "      <td>Ficha Básica Promocional</td>\n",
       "      <td>2018-02-01</td>\n",
       "      <td>631006</td>\n",
       "      <td>NaN</td>\n",
       "      <td>NaN</td>\n",
       "      <td>NaN</td>\n",
       "      <td>NaN</td>\n",
       "      <td>NaN</td>\n",
       "      <td>NaN</td>\n",
       "    </tr>\n",
       "    <tr>\n",
       "      <th>457</th>\n",
       "      <td>40068871</td>\n",
       "      <td>6869786</td>\n",
       "      <td>144920</td>\n",
       "      <td>Perfil Promocional</td>\n",
       "      <td>144920</td>\n",
       "      <td>Perfil Promocional</td>\n",
       "      <td>2018-02-01</td>\n",
       "      <td>631006</td>\n",
       "      <td>NaN</td>\n",
       "      <td>NaN</td>\n",
       "      <td>NaN</td>\n",
       "      <td>NaN</td>\n",
       "      <td>NaN</td>\n",
       "      <td>NaN</td>\n",
       "    </tr>\n",
       "    <tr>\n",
       "      <th>538</th>\n",
       "      <td>49777875</td>\n",
       "      <td>6869968</td>\n",
       "      <td>144917</td>\n",
       "      <td>Ficha Básica</td>\n",
       "      <td>144917</td>\n",
       "      <td>Ficha Básica Promocional</td>\n",
       "      <td>2019-04-17</td>\n",
       "      <td>2971738</td>\n",
       "      <td>NaN</td>\n",
       "      <td>NaN</td>\n",
       "      <td>NaN</td>\n",
       "      <td>NaN</td>\n",
       "      <td>NaN</td>\n",
       "      <td>NaN</td>\n",
       "    </tr>\n",
       "    <tr>\n",
       "      <th>539</th>\n",
       "      <td>49777872</td>\n",
       "      <td>6869968</td>\n",
       "      <td>144917</td>\n",
       "      <td>Ficha Básica</td>\n",
       "      <td>144917</td>\n",
       "      <td>Ficha Básica Promocional</td>\n",
       "      <td>2019-04-17</td>\n",
       "      <td>2971738</td>\n",
       "      <td>NaN</td>\n",
       "      <td>NaN</td>\n",
       "      <td>NaN</td>\n",
       "      <td>NaN</td>\n",
       "      <td>NaN</td>\n",
       "      <td>NaN</td>\n",
       "    </tr>\n",
       "  </tbody>\n",
       "</table>\n",
       "</div>"
      ],
      "text/plain": [
       "     IDCONSUMO  IDUSUARIO  IDPRODUCTO        DESCPRODUCTO  IDGRUPOPROD  \\\n",
       "166   40061337    6869111      144917        Ficha Básica       144917   \n",
       "456   40068908    6869786      144917        Ficha Básica       144917   \n",
       "457   40068871    6869786      144920  Perfil Promocional       144920   \n",
       "538   49777875    6869968      144917        Ficha Básica       144917   \n",
       "539   49777872    6869968      144917        Ficha Básica       144917   \n",
       "\n",
       "                DESCGRUPOPROD FECHACONSUMO  EMPCONSUL_ID EMPCONSUL_CIIU  \\\n",
       "166  Ficha Básica Promocional   2018-02-01        102800            NaN   \n",
       "456  Ficha Básica Promocional   2018-02-01        631006            NaN   \n",
       "457        Perfil Promocional   2018-02-01        631006            NaN   \n",
       "538  Ficha Básica Promocional   2019-04-17       2971738            NaN   \n",
       "539  Ficha Básica Promocional   2019-04-17       2971738            NaN   \n",
       "\n",
       "    EMPCONSUL_PROV EMPCONSUL_EST EMPCONSUL_CIIU_2 EMPCONSUL_PROV_2  \\\n",
       "166            NaN           NaN            C2930           BOGOTA   \n",
       "456            NaN           NaN              NaN              NaN   \n",
       "457            NaN           NaN              NaN              NaN   \n",
       "538            NaN           NaN              NaN              NaN   \n",
       "539            NaN           NaN              NaN              NaN   \n",
       "\n",
       "    EMPCONSUL_EST_2  \n",
       "166          ACTIVA  \n",
       "456             NaN  \n",
       "457             NaN  \n",
       "538             NaN  \n",
       "539             NaN  "
      ]
     },
     "execution_count": 30,
     "metadata": {},
     "output_type": "execute_result"
    }
   ],
   "source": [
    "df_cons[(df_cons['EMPCONSUL_CIIU'].isna()) | (df_cons['EMPCONSUL_PROV'].isna()) | (df_cons['EMPCONSUL_EST'].isna())].head()"
   ]
  },
  {
   "cell_type": "markdown",
   "id": "acknowledged-october",
   "metadata": {},
   "source": [
    "Realizamos la transformación"
   ]
  },
  {
   "cell_type": "code",
   "execution_count": 31,
   "id": "pressed-change",
   "metadata": {},
   "outputs": [],
   "source": [
    "df_cons.loc[df_cons['EMPCONSUL_CIIU'].isna(), 'EMPCONSUL_CIIU'] = df_cons['EMPCONSUL_CIIU_2']\n",
    "df_cons.loc[df_cons['EMPCONSUL_PROV'].isna(), 'EMPCONSUL_PROV'] = df_cons['EMPCONSUL_PROV_2']\n",
    "df_cons.loc[df_cons['EMPCONSUL_EST'].isna(), 'EMPCONSUL_EST'] = df_cons['EMPCONSUL_EST_2']"
   ]
  },
  {
   "cell_type": "markdown",
   "id": "funny-criminal",
   "metadata": {},
   "source": [
    "Comprobación"
   ]
  },
  {
   "cell_type": "code",
   "execution_count": 32,
   "id": "focal-growth",
   "metadata": {},
   "outputs": [
    {
     "data": {
      "text/html": [
       "<div>\n",
       "<style scoped>\n",
       "    .dataframe tbody tr th:only-of-type {\n",
       "        vertical-align: middle;\n",
       "    }\n",
       "\n",
       "    .dataframe tbody tr th {\n",
       "        vertical-align: top;\n",
       "    }\n",
       "\n",
       "    .dataframe thead th {\n",
       "        text-align: right;\n",
       "    }\n",
       "</style>\n",
       "<table border=\"1\" class=\"dataframe\">\n",
       "  <thead>\n",
       "    <tr style=\"text-align: right;\">\n",
       "      <th></th>\n",
       "      <th>IDCONSUMO</th>\n",
       "      <th>IDUSUARIO</th>\n",
       "      <th>IDPRODUCTO</th>\n",
       "      <th>DESCPRODUCTO</th>\n",
       "      <th>IDGRUPOPROD</th>\n",
       "      <th>DESCGRUPOPROD</th>\n",
       "      <th>FECHACONSUMO</th>\n",
       "      <th>EMPCONSUL_ID</th>\n",
       "      <th>EMPCONSUL_CIIU</th>\n",
       "      <th>EMPCONSUL_PROV</th>\n",
       "      <th>EMPCONSUL_EST</th>\n",
       "      <th>EMPCONSUL_CIIU_2</th>\n",
       "      <th>EMPCONSUL_PROV_2</th>\n",
       "      <th>EMPCONSUL_EST_2</th>\n",
       "    </tr>\n",
       "  </thead>\n",
       "  <tbody>\n",
       "    <tr>\n",
       "      <th>166</th>\n",
       "      <td>40061337</td>\n",
       "      <td>6869111</td>\n",
       "      <td>144917</td>\n",
       "      <td>Ficha Básica</td>\n",
       "      <td>144917</td>\n",
       "      <td>Ficha Básica Promocional</td>\n",
       "      <td>2018-02-01</td>\n",
       "      <td>102800</td>\n",
       "      <td>C2930</td>\n",
       "      <td>BOGOTA</td>\n",
       "      <td>ACTIVA</td>\n",
       "      <td>C2930</td>\n",
       "      <td>BOGOTA</td>\n",
       "      <td>ACTIVA</td>\n",
       "    </tr>\n",
       "  </tbody>\n",
       "</table>\n",
       "</div>"
      ],
      "text/plain": [
       "     IDCONSUMO  IDUSUARIO  IDPRODUCTO  DESCPRODUCTO  IDGRUPOPROD  \\\n",
       "166   40061337    6869111      144917  Ficha Básica       144917   \n",
       "\n",
       "                DESCGRUPOPROD FECHACONSUMO  EMPCONSUL_ID EMPCONSUL_CIIU  \\\n",
       "166  Ficha Básica Promocional   2018-02-01        102800          C2930   \n",
       "\n",
       "    EMPCONSUL_PROV EMPCONSUL_EST EMPCONSUL_CIIU_2 EMPCONSUL_PROV_2  \\\n",
       "166         BOGOTA        ACTIVA            C2930           BOGOTA   \n",
       "\n",
       "    EMPCONSUL_EST_2  \n",
       "166          ACTIVA  "
      ]
     },
     "execution_count": 32,
     "metadata": {},
     "output_type": "execute_result"
    }
   ],
   "source": [
    "df_cons[df_cons.index == 166]"
   ]
  },
  {
   "cell_type": "code",
   "execution_count": 33,
   "id": "sixth-kitty",
   "metadata": {},
   "outputs": [
    {
     "data": {
      "text/html": [
       "<div>\n",
       "<style scoped>\n",
       "    .dataframe tbody tr th:only-of-type {\n",
       "        vertical-align: middle;\n",
       "    }\n",
       "\n",
       "    .dataframe tbody tr th {\n",
       "        vertical-align: top;\n",
       "    }\n",
       "\n",
       "    .dataframe thead th {\n",
       "        text-align: right;\n",
       "    }\n",
       "</style>\n",
       "<table border=\"1\" class=\"dataframe\">\n",
       "  <thead>\n",
       "    <tr style=\"text-align: right;\">\n",
       "      <th></th>\n",
       "      <th>IDCONSUMO</th>\n",
       "      <th>IDUSUARIO</th>\n",
       "      <th>IDPRODUCTO</th>\n",
       "      <th>DESCPRODUCTO</th>\n",
       "      <th>IDGRUPOPROD</th>\n",
       "      <th>DESCGRUPOPROD</th>\n",
       "      <th>FECHACONSUMO</th>\n",
       "      <th>EMPCONSUL_ID</th>\n",
       "      <th>EMPCONSUL_CIIU</th>\n",
       "      <th>EMPCONSUL_PROV</th>\n",
       "      <th>EMPCONSUL_EST</th>\n",
       "      <th>EMPCONSUL_CIIU_2</th>\n",
       "      <th>EMPCONSUL_PROV_2</th>\n",
       "      <th>EMPCONSUL_EST_2</th>\n",
       "    </tr>\n",
       "  </thead>\n",
       "  <tbody>\n",
       "    <tr>\n",
       "      <th>456</th>\n",
       "      <td>40068908</td>\n",
       "      <td>6869786</td>\n",
       "      <td>144917</td>\n",
       "      <td>Ficha Básica</td>\n",
       "      <td>144917</td>\n",
       "      <td>Ficha Básica Promocional</td>\n",
       "      <td>2018-02-01</td>\n",
       "      <td>631006</td>\n",
       "      <td>NaN</td>\n",
       "      <td>NaN</td>\n",
       "      <td>NaN</td>\n",
       "      <td>NaN</td>\n",
       "      <td>NaN</td>\n",
       "      <td>NaN</td>\n",
       "    </tr>\n",
       "  </tbody>\n",
       "</table>\n",
       "</div>"
      ],
      "text/plain": [
       "     IDCONSUMO  IDUSUARIO  IDPRODUCTO  DESCPRODUCTO  IDGRUPOPROD  \\\n",
       "456   40068908    6869786      144917  Ficha Básica       144917   \n",
       "\n",
       "                DESCGRUPOPROD FECHACONSUMO  EMPCONSUL_ID EMPCONSUL_CIIU  \\\n",
       "456  Ficha Básica Promocional   2018-02-01        631006            NaN   \n",
       "\n",
       "    EMPCONSUL_PROV EMPCONSUL_EST EMPCONSUL_CIIU_2 EMPCONSUL_PROV_2  \\\n",
       "456            NaN           NaN              NaN              NaN   \n",
       "\n",
       "    EMPCONSUL_EST_2  \n",
       "456             NaN  "
      ]
     },
     "execution_count": 33,
     "metadata": {},
     "output_type": "execute_result"
    }
   ],
   "source": [
    "df_cons[df_cons.index == 456]"
   ]
  },
  {
   "cell_type": "markdown",
   "id": "studied-excitement",
   "metadata": {},
   "source": [
    "**Eliminamos los campos sobrantes**"
   ]
  },
  {
   "cell_type": "code",
   "execution_count": 34,
   "id": "scientific-bloom",
   "metadata": {},
   "outputs": [],
   "source": [
    "df_cons.drop(['EMPCONSUL_CIIU_2','EMPCONSUL_PROV_2','EMPCONSUL_EST_2'], axis = 1, inplace = True)"
   ]
  },
  {
   "cell_type": "code",
   "execution_count": 35,
   "id": "likely-climb",
   "metadata": {},
   "outputs": [
    {
     "data": {
      "text/html": [
       "<div>\n",
       "<style scoped>\n",
       "    .dataframe tbody tr th:only-of-type {\n",
       "        vertical-align: middle;\n",
       "    }\n",
       "\n",
       "    .dataframe tbody tr th {\n",
       "        vertical-align: top;\n",
       "    }\n",
       "\n",
       "    .dataframe thead th {\n",
       "        text-align: right;\n",
       "    }\n",
       "</style>\n",
       "<table border=\"1\" class=\"dataframe\">\n",
       "  <thead>\n",
       "    <tr style=\"text-align: right;\">\n",
       "      <th></th>\n",
       "      <th>IDCONSUMO</th>\n",
       "      <th>IDUSUARIO</th>\n",
       "      <th>IDPRODUCTO</th>\n",
       "      <th>DESCPRODUCTO</th>\n",
       "      <th>IDGRUPOPROD</th>\n",
       "      <th>DESCGRUPOPROD</th>\n",
       "      <th>FECHACONSUMO</th>\n",
       "      <th>EMPCONSUL_ID</th>\n",
       "      <th>EMPCONSUL_CIIU</th>\n",
       "      <th>EMPCONSUL_PROV</th>\n",
       "      <th>EMPCONSUL_EST</th>\n",
       "    </tr>\n",
       "  </thead>\n",
       "  <tbody>\n",
       "    <tr>\n",
       "      <th>0</th>\n",
       "      <td>40057306</td>\n",
       "      <td>6868835</td>\n",
       "      <td>144920</td>\n",
       "      <td>Perfil Promocional</td>\n",
       "      <td>144920</td>\n",
       "      <td>Perfil Promocional</td>\n",
       "      <td>2018-01-01</td>\n",
       "      <td>986515</td>\n",
       "      <td>H4921</td>\n",
       "      <td>ATLANTICO</td>\n",
       "      <td>ACTIVA</td>\n",
       "    </tr>\n",
       "    <tr>\n",
       "      <th>1</th>\n",
       "      <td>40057715</td>\n",
       "      <td>6868838</td>\n",
       "      <td>144920</td>\n",
       "      <td>Perfil Promocional</td>\n",
       "      <td>144920</td>\n",
       "      <td>Perfil Promocional</td>\n",
       "      <td>2018-01-01</td>\n",
       "      <td>102614</td>\n",
       "      <td>N8121</td>\n",
       "      <td>BOGOTA</td>\n",
       "      <td>ACTIVA</td>\n",
       "    </tr>\n",
       "    <tr>\n",
       "      <th>2</th>\n",
       "      <td>40057785</td>\n",
       "      <td>6868841</td>\n",
       "      <td>144917</td>\n",
       "      <td>Ficha Básica</td>\n",
       "      <td>144917</td>\n",
       "      <td>Ficha Básica Promocional</td>\n",
       "      <td>2018-01-01</td>\n",
       "      <td>1520173</td>\n",
       "      <td>K6412</td>\n",
       "      <td>BOGOTA</td>\n",
       "      <td>CANCELACIËN</td>\n",
       "    </tr>\n",
       "    <tr>\n",
       "      <th>3</th>\n",
       "      <td>40057786</td>\n",
       "      <td>6868841</td>\n",
       "      <td>144920</td>\n",
       "      <td>Perfil Promocional</td>\n",
       "      <td>144920</td>\n",
       "      <td>Perfil Promocional</td>\n",
       "      <td>2018-01-01</td>\n",
       "      <td>1520173</td>\n",
       "      <td>K6412</td>\n",
       "      <td>BOGOTA</td>\n",
       "      <td>CANCELACIËN</td>\n",
       "    </tr>\n",
       "    <tr>\n",
       "      <th>4</th>\n",
       "      <td>40057779</td>\n",
       "      <td>6868841</td>\n",
       "      <td>144920</td>\n",
       "      <td>Perfil Promocional</td>\n",
       "      <td>144920</td>\n",
       "      <td>Perfil Promocional</td>\n",
       "      <td>2018-01-01</td>\n",
       "      <td>2971771</td>\n",
       "      <td>P8544</td>\n",
       "      <td>BOGOTA</td>\n",
       "      <td>ACTIVA</td>\n",
       "    </tr>\n",
       "  </tbody>\n",
       "</table>\n",
       "</div>"
      ],
      "text/plain": [
       "   IDCONSUMO  IDUSUARIO  IDPRODUCTO        DESCPRODUCTO  IDGRUPOPROD  \\\n",
       "0   40057306    6868835      144920  Perfil Promocional       144920   \n",
       "1   40057715    6868838      144920  Perfil Promocional       144920   \n",
       "2   40057785    6868841      144917        Ficha Básica       144917   \n",
       "3   40057786    6868841      144920  Perfil Promocional       144920   \n",
       "4   40057779    6868841      144920  Perfil Promocional       144920   \n",
       "\n",
       "              DESCGRUPOPROD FECHACONSUMO  EMPCONSUL_ID EMPCONSUL_CIIU  \\\n",
       "0        Perfil Promocional   2018-01-01        986515          H4921   \n",
       "1        Perfil Promocional   2018-01-01        102614          N8121   \n",
       "2  Ficha Básica Promocional   2018-01-01       1520173          K6412   \n",
       "3        Perfil Promocional   2018-01-01       1520173          K6412   \n",
       "4        Perfil Promocional   2018-01-01       2971771          P8544   \n",
       "\n",
       "  EMPCONSUL_PROV EMPCONSUL_EST  \n",
       "0      ATLANTICO        ACTIVA  \n",
       "1         BOGOTA        ACTIVA  \n",
       "2         BOGOTA   CANCELACIËN  \n",
       "3         BOGOTA   CANCELACIËN  \n",
       "4         BOGOTA        ACTIVA  "
      ]
     },
     "execution_count": 35,
     "metadata": {},
     "output_type": "execute_result"
    }
   ],
   "source": [
    "df_cons.head(5)"
   ]
  },
  {
   "cell_type": "markdown",
   "id": "spectacular-partnership",
   "metadata": {},
   "source": [
    "Comprobamos cuantos quedan missing"
   ]
  },
  {
   "cell_type": "code",
   "execution_count": 36,
   "id": "lightweight-section",
   "metadata": {},
   "outputs": [
    {
     "data": {
      "text/plain": [
       "IDCONSUMO            0\n",
       "IDUSUARIO            0\n",
       "IDPRODUCTO           0\n",
       "DESCPRODUCTO         0\n",
       "IDGRUPOPROD          0\n",
       "DESCGRUPOPROD        0\n",
       "FECHACONSUMO         0\n",
       "EMPCONSUL_ID         0\n",
       "EMPCONSUL_CIIU    2849\n",
       "EMPCONSUL_PROV    2849\n",
       "EMPCONSUL_EST     2849\n",
       "dtype: int64"
      ]
     },
     "execution_count": 36,
     "metadata": {},
     "output_type": "execute_result"
    }
   ],
   "source": [
    "df_cons.isna().sum()"
   ]
  },
  {
   "cell_type": "markdown",
   "id": "abandoned-grave",
   "metadata": {},
   "source": [
    "**Analizamos la información de cuantas empresas nos falta**"
   ]
  },
  {
   "cell_type": "code",
   "execution_count": 37,
   "id": "joint-sphere",
   "metadata": {},
   "outputs": [],
   "source": [
    "lista = list(df_cons[(df_cons['EMPCONSUL_CIIU'].isna()) | (df_cons['EMPCONSUL_PROV'].isna()) | (df_cons['EMPCONSUL_EST'].isna())]['EMPCONSUL_ID'].unique())"
   ]
  },
  {
   "cell_type": "code",
   "execution_count": 38,
   "id": "medical-thumbnail",
   "metadata": {},
   "outputs": [],
   "source": [
    "df_cons_imp = df_cons[df_cons['EMPCONSUL_ID'].isin(lista)].sort_values(by=['EMPCONSUL_ID'])[['EMPCONSUL_ID','EMPCONSUL_CIIU', 'EMPCONSUL_PROV', 'EMPCONSUL_EST']].drop_duplicates()"
   ]
  },
  {
   "cell_type": "code",
   "execution_count": 39,
   "id": "incoming-security",
   "metadata": {},
   "outputs": [
    {
     "data": {
      "text/plain": [
       "1275"
      ]
     },
     "execution_count": 39,
     "metadata": {},
     "output_type": "execute_result"
    }
   ],
   "source": [
    "df_cons_imp.groupby('EMPCONSUL_ID')['EMPCONSUL_ID'].count().shape[0]"
   ]
  },
  {
   "cell_type": "code",
   "execution_count": 40,
   "id": "expanded-frontier",
   "metadata": {},
   "outputs": [
    {
     "data": {
      "text/plain": [
       "1275"
      ]
     },
     "execution_count": 40,
     "metadata": {},
     "output_type": "execute_result"
    }
   ],
   "source": [
    "df_cons_imp.shape[0]"
   ]
  },
  {
   "cell_type": "markdown",
   "id": "invalid-chemistry",
   "metadata": {},
   "source": [
    "**Observamos que falta información de 1.275 empresas, al ver que son demasiadas, a pesar que son pocas consultas, imputaremos los valores como NI (No Identificado)**"
   ]
  },
  {
   "cell_type": "code",
   "execution_count": 41,
   "id": "lined-emergency",
   "metadata": {},
   "outputs": [],
   "source": [
    "df_cons.loc[(df_cons['EMPCONSUL_CIIU'].isna()) & (df_cons['EMPCONSUL_PROV'].isna()) & (df_cons['EMPCONSUL_EST'].isna()), ['EMPCONSUL_CIIU','EMPCONSUL_PROV','EMPCONSUL_EST']] = 'NI'"
   ]
  },
  {
   "cell_type": "markdown",
   "id": "right-gabriel",
   "metadata": {},
   "source": [
    "Comprobación"
   ]
  },
  {
   "cell_type": "code",
   "execution_count": 42,
   "id": "palestinian-complement",
   "metadata": {},
   "outputs": [
    {
     "data": {
      "text/plain": [
       "IDCONSUMO         0\n",
       "IDUSUARIO         0\n",
       "IDPRODUCTO        0\n",
       "DESCPRODUCTO      0\n",
       "IDGRUPOPROD       0\n",
       "DESCGRUPOPROD     0\n",
       "FECHACONSUMO      0\n",
       "EMPCONSUL_ID      0\n",
       "EMPCONSUL_CIIU    0\n",
       "EMPCONSUL_PROV    0\n",
       "EMPCONSUL_EST     0\n",
       "dtype: int64"
      ]
     },
     "execution_count": 42,
     "metadata": {},
     "output_type": "execute_result"
    }
   ],
   "source": [
    "df_cons.isna().sum()"
   ]
  },
  {
   "cell_type": "markdown",
   "id": "photographic-length",
   "metadata": {},
   "source": [
    "------------------"
   ]
  },
  {
   "cell_type": "markdown",
   "id": "outer-calcium",
   "metadata": {},
   "source": [
    "------------------"
   ]
  },
  {
   "cell_type": "markdown",
   "id": "african-termination",
   "metadata": {},
   "source": [
    "### Distribuciones y valores"
   ]
  },
  {
   "cell_type": "code",
   "execution_count": 43,
   "id": "sexual-sphere",
   "metadata": {},
   "outputs": [],
   "source": [
    "import seaborn as sns\n",
    "import matplotlib.pyplot as plt\n",
    "%matplotlib inline\n",
    "import numpy as np"
   ]
  },
  {
   "cell_type": "markdown",
   "id": "western-fundamental",
   "metadata": {},
   "source": [
    "**En este apartado se realizará una visualización sencilla de las distribuciones de cada variable e histogramas, y lo más importante se revisará la lógica y los posibles valores a aplicar en cada variable según los registros**"
   ]
  },
  {
   "cell_type": "code",
   "execution_count": 44,
   "id": "mature-gross",
   "metadata": {},
   "outputs": [
    {
     "data": {
      "text/html": [
       "<div>\n",
       "<style scoped>\n",
       "    .dataframe tbody tr th:only-of-type {\n",
       "        vertical-align: middle;\n",
       "    }\n",
       "\n",
       "    .dataframe tbody tr th {\n",
       "        vertical-align: top;\n",
       "    }\n",
       "\n",
       "    .dataframe thead th {\n",
       "        text-align: right;\n",
       "    }\n",
       "</style>\n",
       "<table border=\"1\" class=\"dataframe\">\n",
       "  <thead>\n",
       "    <tr style=\"text-align: right;\">\n",
       "      <th></th>\n",
       "      <th>IDCONSUMO</th>\n",
       "      <th>IDUSUARIO</th>\n",
       "      <th>IDPRODUCTO</th>\n",
       "      <th>DESCPRODUCTO</th>\n",
       "      <th>IDGRUPOPROD</th>\n",
       "      <th>DESCGRUPOPROD</th>\n",
       "      <th>FECHACONSUMO</th>\n",
       "      <th>EMPCONSUL_ID</th>\n",
       "      <th>EMPCONSUL_CIIU</th>\n",
       "      <th>EMPCONSUL_PROV</th>\n",
       "      <th>EMPCONSUL_EST</th>\n",
       "    </tr>\n",
       "  </thead>\n",
       "  <tbody>\n",
       "    <tr>\n",
       "      <th>0</th>\n",
       "      <td>40057306</td>\n",
       "      <td>6868835</td>\n",
       "      <td>144920</td>\n",
       "      <td>Perfil Promocional</td>\n",
       "      <td>144920</td>\n",
       "      <td>Perfil Promocional</td>\n",
       "      <td>2018-01-01</td>\n",
       "      <td>986515</td>\n",
       "      <td>H4921</td>\n",
       "      <td>ATLANTICO</td>\n",
       "      <td>ACTIVA</td>\n",
       "    </tr>\n",
       "    <tr>\n",
       "      <th>1</th>\n",
       "      <td>40057715</td>\n",
       "      <td>6868838</td>\n",
       "      <td>144920</td>\n",
       "      <td>Perfil Promocional</td>\n",
       "      <td>144920</td>\n",
       "      <td>Perfil Promocional</td>\n",
       "      <td>2018-01-01</td>\n",
       "      <td>102614</td>\n",
       "      <td>N8121</td>\n",
       "      <td>BOGOTA</td>\n",
       "      <td>ACTIVA</td>\n",
       "    </tr>\n",
       "    <tr>\n",
       "      <th>2</th>\n",
       "      <td>40057785</td>\n",
       "      <td>6868841</td>\n",
       "      <td>144917</td>\n",
       "      <td>Ficha Básica</td>\n",
       "      <td>144917</td>\n",
       "      <td>Ficha Básica Promocional</td>\n",
       "      <td>2018-01-01</td>\n",
       "      <td>1520173</td>\n",
       "      <td>K6412</td>\n",
       "      <td>BOGOTA</td>\n",
       "      <td>CANCELACIËN</td>\n",
       "    </tr>\n",
       "    <tr>\n",
       "      <th>3</th>\n",
       "      <td>40057786</td>\n",
       "      <td>6868841</td>\n",
       "      <td>144920</td>\n",
       "      <td>Perfil Promocional</td>\n",
       "      <td>144920</td>\n",
       "      <td>Perfil Promocional</td>\n",
       "      <td>2018-01-01</td>\n",
       "      <td>1520173</td>\n",
       "      <td>K6412</td>\n",
       "      <td>BOGOTA</td>\n",
       "      <td>CANCELACIËN</td>\n",
       "    </tr>\n",
       "    <tr>\n",
       "      <th>4</th>\n",
       "      <td>40057779</td>\n",
       "      <td>6868841</td>\n",
       "      <td>144920</td>\n",
       "      <td>Perfil Promocional</td>\n",
       "      <td>144920</td>\n",
       "      <td>Perfil Promocional</td>\n",
       "      <td>2018-01-01</td>\n",
       "      <td>2971771</td>\n",
       "      <td>P8544</td>\n",
       "      <td>BOGOTA</td>\n",
       "      <td>ACTIVA</td>\n",
       "    </tr>\n",
       "  </tbody>\n",
       "</table>\n",
       "</div>"
      ],
      "text/plain": [
       "   IDCONSUMO  IDUSUARIO  IDPRODUCTO        DESCPRODUCTO  IDGRUPOPROD  \\\n",
       "0   40057306    6868835      144920  Perfil Promocional       144920   \n",
       "1   40057715    6868838      144920  Perfil Promocional       144920   \n",
       "2   40057785    6868841      144917        Ficha Básica       144917   \n",
       "3   40057786    6868841      144920  Perfil Promocional       144920   \n",
       "4   40057779    6868841      144920  Perfil Promocional       144920   \n",
       "\n",
       "              DESCGRUPOPROD FECHACONSUMO  EMPCONSUL_ID EMPCONSUL_CIIU  \\\n",
       "0        Perfil Promocional   2018-01-01        986515          H4921   \n",
       "1        Perfil Promocional   2018-01-01        102614          N8121   \n",
       "2  Ficha Básica Promocional   2018-01-01       1520173          K6412   \n",
       "3        Perfil Promocional   2018-01-01       1520173          K6412   \n",
       "4        Perfil Promocional   2018-01-01       2971771          P8544   \n",
       "\n",
       "  EMPCONSUL_PROV EMPCONSUL_EST  \n",
       "0      ATLANTICO        ACTIVA  \n",
       "1         BOGOTA        ACTIVA  \n",
       "2         BOGOTA   CANCELACIËN  \n",
       "3         BOGOTA   CANCELACIËN  \n",
       "4         BOGOTA        ACTIVA  "
      ]
     },
     "execution_count": 44,
     "metadata": {},
     "output_type": "execute_result"
    }
   ],
   "source": [
    "df_cons.head(5)"
   ]
  },
  {
   "cell_type": "markdown",
   "id": "focused-series",
   "metadata": {},
   "source": [
    "**1. IDPRODUCTO, DESCPRODUCTO, IDGRUPOPROD y DESCGRUPOPROD**\n",
    "\n",
    "Se comprobarán los diferentes códigos de producto y su respectivo valor delcatálogo."
   ]
  },
  {
   "cell_type": "code",
   "execution_count": 45,
   "id": "developmental-david",
   "metadata": {},
   "outputs": [],
   "source": [
    "df_catalog_prod = pd.read_excel('data/Catalogo_Producto.xlsx')"
   ]
  },
  {
   "cell_type": "code",
   "execution_count": 46,
   "id": "operational-graph",
   "metadata": {},
   "outputs": [
    {
     "data": {
      "text/html": [
       "<div>\n",
       "<style scoped>\n",
       "    .dataframe tbody tr th:only-of-type {\n",
       "        vertical-align: middle;\n",
       "    }\n",
       "\n",
       "    .dataframe tbody tr th {\n",
       "        vertical-align: top;\n",
       "    }\n",
       "\n",
       "    .dataframe thead th {\n",
       "        text-align: right;\n",
       "    }\n",
       "</style>\n",
       "<table border=\"1\" class=\"dataframe\">\n",
       "  <thead>\n",
       "    <tr style=\"text-align: right;\">\n",
       "      <th></th>\n",
       "      <th>TIPO</th>\n",
       "      <th>IDGRUPOPROD</th>\n",
       "      <th>DESCGRUPOPROD</th>\n",
       "      <th>IDPRODUCTO</th>\n",
       "      <th>DESCPRODUCTO</th>\n",
       "    </tr>\n",
       "  </thead>\n",
       "  <tbody>\n",
       "    <tr>\n",
       "      <th>0</th>\n",
       "      <td>Promocion</td>\n",
       "      <td>144917</td>\n",
       "      <td>Ficha Básica Promocional</td>\n",
       "      <td>144917</td>\n",
       "      <td>Ficha Básica</td>\n",
       "    </tr>\n",
       "    <tr>\n",
       "      <th>1</th>\n",
       "      <td>Pago</td>\n",
       "      <td>144918</td>\n",
       "      <td>Ficha Avanzada</td>\n",
       "      <td>144918</td>\n",
       "      <td>Ficha Avanzada</td>\n",
       "    </tr>\n",
       "    <tr>\n",
       "      <th>2</th>\n",
       "      <td>Pago</td>\n",
       "      <td>144919</td>\n",
       "      <td>Perfil</td>\n",
       "      <td>144919</td>\n",
       "      <td>Perfil</td>\n",
       "    </tr>\n",
       "    <tr>\n",
       "      <th>3</th>\n",
       "      <td>Promocion</td>\n",
       "      <td>144920</td>\n",
       "      <td>Perfil Promocional</td>\n",
       "      <td>144920</td>\n",
       "      <td>Perfil Promocional</td>\n",
       "    </tr>\n",
       "    <tr>\n",
       "      <th>4</th>\n",
       "      <td>Pago</td>\n",
       "      <td>200000</td>\n",
       "      <td>Modulo de Información</td>\n",
       "      <td>144921</td>\n",
       "      <td>Evaluacion</td>\n",
       "    </tr>\n",
       "    <tr>\n",
       "      <th>5</th>\n",
       "      <td>Pago</td>\n",
       "      <td>200000</td>\n",
       "      <td>Modulo de Información</td>\n",
       "      <td>144922</td>\n",
       "      <td>Balance y Cuenta de Resultados</td>\n",
       "    </tr>\n",
       "    <tr>\n",
       "      <th>6</th>\n",
       "      <td>Pago</td>\n",
       "      <td>200000</td>\n",
       "      <td>Modulo de Información</td>\n",
       "      <td>144934</td>\n",
       "      <td>Balance y Cuenta de Resultados</td>\n",
       "    </tr>\n",
       "    <tr>\n",
       "      <th>7</th>\n",
       "      <td>Pago</td>\n",
       "      <td>200000</td>\n",
       "      <td>Modulo de Información</td>\n",
       "      <td>148765</td>\n",
       "      <td>Solvencia</td>\n",
       "    </tr>\n",
       "    <tr>\n",
       "      <th>8</th>\n",
       "      <td>Pago</td>\n",
       "      <td>200000</td>\n",
       "      <td>Modulo de Información</td>\n",
       "      <td>222666</td>\n",
       "      <td>Vinculaciones Empresariales</td>\n",
       "    </tr>\n",
       "    <tr>\n",
       "      <th>9</th>\n",
       "      <td>Pago</td>\n",
       "      <td>200001</td>\n",
       "      <td>Reportes</td>\n",
       "      <td>144923</td>\n",
       "      <td>Report 1</td>\n",
       "    </tr>\n",
       "    <tr>\n",
       "      <th>10</th>\n",
       "      <td>Pago</td>\n",
       "      <td>200001</td>\n",
       "      <td>Reportes</td>\n",
       "      <td>144924</td>\n",
       "      <td>Report 2</td>\n",
       "    </tr>\n",
       "    <tr>\n",
       "      <th>11</th>\n",
       "      <td>Pago</td>\n",
       "      <td>200001</td>\n",
       "      <td>Reportes</td>\n",
       "      <td>144925</td>\n",
       "      <td>Report 3</td>\n",
       "    </tr>\n",
       "    <tr>\n",
       "      <th>12</th>\n",
       "      <td>Pago</td>\n",
       "      <td>200001</td>\n",
       "      <td>Reportes</td>\n",
       "      <td>144927</td>\n",
       "      <td>Report 4</td>\n",
       "    </tr>\n",
       "    <tr>\n",
       "      <th>13</th>\n",
       "      <td>Pago</td>\n",
       "      <td>200001</td>\n",
       "      <td>Reportes</td>\n",
       "      <td>146648</td>\n",
       "      <td>Report 5</td>\n",
       "    </tr>\n",
       "    <tr>\n",
       "      <th>14</th>\n",
       "      <td>Pago</td>\n",
       "      <td>200001</td>\n",
       "      <td>Reportes</td>\n",
       "      <td>146649</td>\n",
       "      <td>Report 6</td>\n",
       "    </tr>\n",
       "    <tr>\n",
       "      <th>15</th>\n",
       "      <td>Pago</td>\n",
       "      <td>200002</td>\n",
       "      <td>Otros</td>\n",
       "      <td>146650</td>\n",
       "      <td>Oferta 1</td>\n",
       "    </tr>\n",
       "    <tr>\n",
       "      <th>16</th>\n",
       "      <td>Pago</td>\n",
       "      <td>200002</td>\n",
       "      <td>Otros</td>\n",
       "      <td>166661</td>\n",
       "      <td>Oferta 2</td>\n",
       "    </tr>\n",
       "    <tr>\n",
       "      <th>17</th>\n",
       "      <td>Pago</td>\n",
       "      <td>200003</td>\n",
       "      <td>Mercadeo</td>\n",
       "      <td>144948</td>\n",
       "      <td>Mercadeo 1</td>\n",
       "    </tr>\n",
       "    <tr>\n",
       "      <th>18</th>\n",
       "      <td>Pago</td>\n",
       "      <td>200003</td>\n",
       "      <td>Mercadeo</td>\n",
       "      <td>144950</td>\n",
       "      <td>Mercadeo 2</td>\n",
       "    </tr>\n",
       "    <tr>\n",
       "      <th>19</th>\n",
       "      <td>Pago</td>\n",
       "      <td>200003</td>\n",
       "      <td>Mercadeo</td>\n",
       "      <td>144951</td>\n",
       "      <td>Mercadeo 3</td>\n",
       "    </tr>\n",
       "    <tr>\n",
       "      <th>20</th>\n",
       "      <td>Pago</td>\n",
       "      <td>200003</td>\n",
       "      <td>Mercadeo</td>\n",
       "      <td>170663</td>\n",
       "      <td>Mercadeo 4</td>\n",
       "    </tr>\n",
       "    <tr>\n",
       "      <th>21</th>\n",
       "      <td>Pago</td>\n",
       "      <td>200003</td>\n",
       "      <td>Mercadeo</td>\n",
       "      <td>170664</td>\n",
       "      <td>Mercadeo 5</td>\n",
       "    </tr>\n",
       "    <tr>\n",
       "      <th>22</th>\n",
       "      <td>Pago</td>\n",
       "      <td>200003</td>\n",
       "      <td>Mercadeo</td>\n",
       "      <td>170665</td>\n",
       "      <td>Mercadeo 6</td>\n",
       "    </tr>\n",
       "  </tbody>\n",
       "</table>\n",
       "</div>"
      ],
      "text/plain": [
       "         TIPO  IDGRUPOPROD             DESCGRUPOPROD  IDPRODUCTO  \\\n",
       "0   Promocion       144917  Ficha Básica Promocional      144917   \n",
       "1        Pago       144918            Ficha Avanzada      144918   \n",
       "2        Pago       144919                    Perfil      144919   \n",
       "3   Promocion       144920        Perfil Promocional      144920   \n",
       "4        Pago       200000     Modulo de Información      144921   \n",
       "5        Pago       200000     Modulo de Información      144922   \n",
       "6        Pago       200000     Modulo de Información      144934   \n",
       "7        Pago       200000     Modulo de Información      148765   \n",
       "8        Pago       200000     Modulo de Información      222666   \n",
       "9        Pago       200001                  Reportes      144923   \n",
       "10       Pago       200001                  Reportes      144924   \n",
       "11       Pago       200001                  Reportes      144925   \n",
       "12       Pago       200001                  Reportes      144927   \n",
       "13       Pago       200001                  Reportes      146648   \n",
       "14       Pago       200001                  Reportes      146649   \n",
       "15       Pago       200002                     Otros      146650   \n",
       "16       Pago       200002                     Otros      166661   \n",
       "17       Pago       200003                  Mercadeo      144948   \n",
       "18       Pago       200003                  Mercadeo      144950   \n",
       "19       Pago       200003                  Mercadeo      144951   \n",
       "20       Pago       200003                  Mercadeo      170663   \n",
       "21       Pago       200003                  Mercadeo      170664   \n",
       "22       Pago       200003                  Mercadeo      170665   \n",
       "\n",
       "                      DESCPRODUCTO  \n",
       "0                     Ficha Básica  \n",
       "1                   Ficha Avanzada  \n",
       "2                           Perfil  \n",
       "3               Perfil Promocional  \n",
       "4                       Evaluacion  \n",
       "5   Balance y Cuenta de Resultados  \n",
       "6   Balance y Cuenta de Resultados  \n",
       "7                        Solvencia  \n",
       "8      Vinculaciones Empresariales  \n",
       "9                         Report 1  \n",
       "10                        Report 2  \n",
       "11                        Report 3  \n",
       "12                        Report 4  \n",
       "13                        Report 5  \n",
       "14                        Report 6  \n",
       "15                        Oferta 1  \n",
       "16                        Oferta 2  \n",
       "17                      Mercadeo 1  \n",
       "18                      Mercadeo 2  \n",
       "19                      Mercadeo 3  \n",
       "20                      Mercadeo 4  \n",
       "21                      Mercadeo 5  \n",
       "22                      Mercadeo 6  "
      ]
     },
     "execution_count": 46,
     "metadata": {},
     "output_type": "execute_result"
    }
   ],
   "source": [
    "df_catalog_prod.head(25)"
   ]
  },
  {
   "cell_type": "markdown",
   "id": "continuous-country",
   "metadata": {},
   "source": [
    "**DESCPRODUCTO**"
   ]
  },
  {
   "cell_type": "code",
   "execution_count": 47,
   "id": "adolescent-falls",
   "metadata": {},
   "outputs": [
    {
     "data": {
      "text/plain": [
       "array(['Perfil Promocional', 'Ficha Básica', 'Perfil',\n",
       "       'Balance y Cuenta de Resultados', 'Report 1', 'Evaluacion',\n",
       "       'Report 3', 'Report 2', 'Solvencia', 'Ficha Avanzada', 'Report 6',\n",
       "       'Report 4', 'Report 5', 'Oferta 2', 'Vinculaciones Empresariales'],\n",
       "      dtype=object)"
      ]
     },
     "execution_count": 47,
     "metadata": {},
     "output_type": "execute_result"
    }
   ],
   "source": [
    "df_cons['DESCPRODUCTO'].unique()"
   ]
  },
  {
   "cell_type": "code",
   "execution_count": 48,
   "id": "incorrect-relative",
   "metadata": {},
   "outputs": [
    {
     "data": {
      "text/plain": [
       "15"
      ]
     },
     "execution_count": 48,
     "metadata": {},
     "output_type": "execute_result"
    }
   ],
   "source": [
    "len(df_cons['DESCPRODUCTO'].unique())"
   ]
  },
  {
   "cell_type": "markdown",
   "id": "macro-watershed",
   "metadata": {},
   "source": [
    "**IDPRODUCTO**"
   ]
  },
  {
   "cell_type": "code",
   "execution_count": 49,
   "id": "substantial-registration",
   "metadata": {},
   "outputs": [
    {
     "data": {
      "text/plain": [
       "array([144920, 144917, 144919, 144922, 144923, 144921, 144925, 144924,\n",
       "       148765, 144918, 146649, 144927, 146648, 166661, 222666])"
      ]
     },
     "execution_count": 49,
     "metadata": {},
     "output_type": "execute_result"
    }
   ],
   "source": [
    "df_cons['IDPRODUCTO'].unique()"
   ]
  },
  {
   "cell_type": "code",
   "execution_count": 50,
   "id": "catholic-glossary",
   "metadata": {},
   "outputs": [
    {
     "data": {
      "text/plain": [
       "15"
      ]
     },
     "execution_count": 50,
     "metadata": {},
     "output_type": "execute_result"
    }
   ],
   "source": [
    "len(df_cons['IDPRODUCTO'].unique())"
   ]
  },
  {
   "cell_type": "markdown",
   "id": "departmental-franchise",
   "metadata": {},
   "source": [
    "**DESCGRUPOPROD**"
   ]
  },
  {
   "cell_type": "code",
   "execution_count": 51,
   "id": "diverse-treasury",
   "metadata": {},
   "outputs": [
    {
     "data": {
      "text/plain": [
       "array(['Perfil Promocional', 'Ficha Básica Promocional', 'Perfil',\n",
       "       'Modulo de Información', 'Reportes', 'Ficha Avanzada', 'Otros'],\n",
       "      dtype=object)"
      ]
     },
     "execution_count": 51,
     "metadata": {},
     "output_type": "execute_result"
    }
   ],
   "source": [
    "df_cons['DESCGRUPOPROD'].unique()"
   ]
  },
  {
   "cell_type": "code",
   "execution_count": 52,
   "id": "native-salon",
   "metadata": {},
   "outputs": [
    {
     "data": {
      "text/plain": [
       "7"
      ]
     },
     "execution_count": 52,
     "metadata": {},
     "output_type": "execute_result"
    }
   ],
   "source": [
    "len(df_cons['DESCGRUPOPROD'].unique())"
   ]
  },
  {
   "cell_type": "markdown",
   "id": "piano-influence",
   "metadata": {},
   "source": [
    "**IDGRUPOPROD**"
   ]
  },
  {
   "cell_type": "code",
   "execution_count": 53,
   "id": "indoor-central",
   "metadata": {},
   "outputs": [
    {
     "data": {
      "text/plain": [
       "array([144920, 144917, 144919, 200000, 200001, 144918, 200002],\n",
       "      dtype=int64)"
      ]
     },
     "execution_count": 53,
     "metadata": {},
     "output_type": "execute_result"
    }
   ],
   "source": [
    "df_cons['IDGRUPOPROD'].unique()"
   ]
  },
  {
   "cell_type": "code",
   "execution_count": 54,
   "id": "indirect-enough",
   "metadata": {},
   "outputs": [
    {
     "data": {
      "text/plain": [
       "7"
      ]
     },
     "execution_count": 54,
     "metadata": {},
     "output_type": "execute_result"
    }
   ],
   "source": [
    "len(df_cons['IDGRUPOPROD'].unique())"
   ]
  },
  {
   "cell_type": "markdown",
   "id": "corrected-indonesia",
   "metadata": {},
   "source": [
    "agrupamos"
   ]
  },
  {
   "cell_type": "code",
   "execution_count": 55,
   "id": "sunrise-architecture",
   "metadata": {},
   "outputs": [],
   "source": [
    "df_cons_agg = df_cons.groupby(['IDPRODUCTO','DESCPRODUCTO','IDGRUPOPROD','DESCGRUPOPROD'], as_index = False)['IDCONSUMO'].count()"
   ]
  },
  {
   "cell_type": "code",
   "execution_count": 56,
   "id": "brazilian-stack",
   "metadata": {},
   "outputs": [
    {
     "data": {
      "text/html": [
       "<div>\n",
       "<style scoped>\n",
       "    .dataframe tbody tr th:only-of-type {\n",
       "        vertical-align: middle;\n",
       "    }\n",
       "\n",
       "    .dataframe tbody tr th {\n",
       "        vertical-align: top;\n",
       "    }\n",
       "\n",
       "    .dataframe thead th {\n",
       "        text-align: right;\n",
       "    }\n",
       "</style>\n",
       "<table border=\"1\" class=\"dataframe\">\n",
       "  <thead>\n",
       "    <tr style=\"text-align: right;\">\n",
       "      <th></th>\n",
       "      <th>IDPRODUCTO</th>\n",
       "      <th>DESCPRODUCTO</th>\n",
       "      <th>IDGRUPOPROD</th>\n",
       "      <th>DESCGRUPOPROD</th>\n",
       "      <th>IDCONSUMO</th>\n",
       "    </tr>\n",
       "  </thead>\n",
       "  <tbody>\n",
       "    <tr>\n",
       "      <th>0</th>\n",
       "      <td>144917</td>\n",
       "      <td>Ficha Básica</td>\n",
       "      <td>144917</td>\n",
       "      <td>Ficha Básica Promocional</td>\n",
       "      <td>440229</td>\n",
       "    </tr>\n",
       "    <tr>\n",
       "      <th>1</th>\n",
       "      <td>144918</td>\n",
       "      <td>Ficha Avanzada</td>\n",
       "      <td>144918</td>\n",
       "      <td>Ficha Avanzada</td>\n",
       "      <td>53474</td>\n",
       "    </tr>\n",
       "    <tr>\n",
       "      <th>2</th>\n",
       "      <td>144919</td>\n",
       "      <td>Perfil</td>\n",
       "      <td>144919</td>\n",
       "      <td>Perfil</td>\n",
       "      <td>3190</td>\n",
       "    </tr>\n",
       "    <tr>\n",
       "      <th>3</th>\n",
       "      <td>144920</td>\n",
       "      <td>Perfil Promocional</td>\n",
       "      <td>144920</td>\n",
       "      <td>Perfil Promocional</td>\n",
       "      <td>424446</td>\n",
       "    </tr>\n",
       "    <tr>\n",
       "      <th>4</th>\n",
       "      <td>144921</td>\n",
       "      <td>Evaluacion</td>\n",
       "      <td>200000</td>\n",
       "      <td>Modulo de Información</td>\n",
       "      <td>1498</td>\n",
       "    </tr>\n",
       "    <tr>\n",
       "      <th>5</th>\n",
       "      <td>144922</td>\n",
       "      <td>Balance y Cuenta de Resultados</td>\n",
       "      <td>200000</td>\n",
       "      <td>Modulo de Información</td>\n",
       "      <td>2212</td>\n",
       "    </tr>\n",
       "    <tr>\n",
       "      <th>6</th>\n",
       "      <td>144923</td>\n",
       "      <td>Report 1</td>\n",
       "      <td>200001</td>\n",
       "      <td>Reportes</td>\n",
       "      <td>1096</td>\n",
       "    </tr>\n",
       "    <tr>\n",
       "      <th>7</th>\n",
       "      <td>144924</td>\n",
       "      <td>Report 2</td>\n",
       "      <td>200001</td>\n",
       "      <td>Reportes</td>\n",
       "      <td>2139</td>\n",
       "    </tr>\n",
       "    <tr>\n",
       "      <th>8</th>\n",
       "      <td>144925</td>\n",
       "      <td>Report 3</td>\n",
       "      <td>200001</td>\n",
       "      <td>Reportes</td>\n",
       "      <td>262</td>\n",
       "    </tr>\n",
       "    <tr>\n",
       "      <th>9</th>\n",
       "      <td>144927</td>\n",
       "      <td>Report 4</td>\n",
       "      <td>200001</td>\n",
       "      <td>Reportes</td>\n",
       "      <td>132</td>\n",
       "    </tr>\n",
       "    <tr>\n",
       "      <th>10</th>\n",
       "      <td>146648</td>\n",
       "      <td>Report 5</td>\n",
       "      <td>200001</td>\n",
       "      <td>Reportes</td>\n",
       "      <td>38</td>\n",
       "    </tr>\n",
       "    <tr>\n",
       "      <th>11</th>\n",
       "      <td>146649</td>\n",
       "      <td>Report 6</td>\n",
       "      <td>200001</td>\n",
       "      <td>Reportes</td>\n",
       "      <td>10</td>\n",
       "    </tr>\n",
       "    <tr>\n",
       "      <th>12</th>\n",
       "      <td>148765</td>\n",
       "      <td>Solvencia</td>\n",
       "      <td>200000</td>\n",
       "      <td>Modulo de Información</td>\n",
       "      <td>85</td>\n",
       "    </tr>\n",
       "    <tr>\n",
       "      <th>13</th>\n",
       "      <td>166661</td>\n",
       "      <td>Oferta 2</td>\n",
       "      <td>200002</td>\n",
       "      <td>Otros</td>\n",
       "      <td>3</td>\n",
       "    </tr>\n",
       "    <tr>\n",
       "      <th>14</th>\n",
       "      <td>222666</td>\n",
       "      <td>Vinculaciones Empresariales</td>\n",
       "      <td>200000</td>\n",
       "      <td>Modulo de Información</td>\n",
       "      <td>2</td>\n",
       "    </tr>\n",
       "  </tbody>\n",
       "</table>\n",
       "</div>"
      ],
      "text/plain": [
       "    IDPRODUCTO                    DESCPRODUCTO  IDGRUPOPROD  \\\n",
       "0       144917                    Ficha Básica       144917   \n",
       "1       144918                  Ficha Avanzada       144918   \n",
       "2       144919                          Perfil       144919   \n",
       "3       144920              Perfil Promocional       144920   \n",
       "4       144921                      Evaluacion       200000   \n",
       "5       144922  Balance y Cuenta de Resultados       200000   \n",
       "6       144923                        Report 1       200001   \n",
       "7       144924                        Report 2       200001   \n",
       "8       144925                        Report 3       200001   \n",
       "9       144927                        Report 4       200001   \n",
       "10      146648                        Report 5       200001   \n",
       "11      146649                        Report 6       200001   \n",
       "12      148765                       Solvencia       200000   \n",
       "13      166661                        Oferta 2       200002   \n",
       "14      222666     Vinculaciones Empresariales       200000   \n",
       "\n",
       "               DESCGRUPOPROD  IDCONSUMO  \n",
       "0   Ficha Básica Promocional     440229  \n",
       "1             Ficha Avanzada      53474  \n",
       "2                     Perfil       3190  \n",
       "3         Perfil Promocional     424446  \n",
       "4      Modulo de Información       1498  \n",
       "5      Modulo de Información       2212  \n",
       "6                   Reportes       1096  \n",
       "7                   Reportes       2139  \n",
       "8                   Reportes        262  \n",
       "9                   Reportes        132  \n",
       "10                  Reportes         38  \n",
       "11                  Reportes         10  \n",
       "12     Modulo de Información         85  \n",
       "13                     Otros          3  \n",
       "14     Modulo de Información          2  "
      ]
     },
     "execution_count": 56,
     "metadata": {},
     "output_type": "execute_result"
    }
   ],
   "source": [
    "df_cons_agg.head(25)"
   ]
  },
  {
   "cell_type": "code",
   "execution_count": 57,
   "id": "narrow-republican",
   "metadata": {},
   "outputs": [],
   "source": [
    "lista_id_prod = list(df_cons_agg['IDPRODUCTO'])"
   ]
  },
  {
   "cell_type": "markdown",
   "id": "departmental-bishop",
   "metadata": {},
   "source": [
    "**Comprobamos contra el catálogo que todos estén bien asignados**"
   ]
  },
  {
   "cell_type": "code",
   "execution_count": 58,
   "id": "collected-agriculture",
   "metadata": {},
   "outputs": [
    {
     "name": "stdout",
     "output_type": "stream",
     "text": [
      "Comprobación del producto  144917  del dataset en el catálogo:\n",
      "----------------------------------\n",
      " \n",
      "DESC_PRODUCTO\n",
      "     Valor descripción en catálogo: 0    Ficha Básica\n",
      "Name: DESCPRODUCTO, dtype: object\n",
      "     Valor descripción en el dataset: 0    Ficha Básica\n",
      "Name: DESCPRODUCTO, dtype: object\n",
      " \n",
      "----------------------------------\n",
      " \n",
      "ID_GRUPO_PRODUCTO\n",
      "     Valor código en catálogo: 0    144917\n",
      "Name: IDGRUPOPROD, dtype: int64\n",
      "     Valor código en el dataset: 0    144917\n",
      "Name: IDGRUPOPROD, dtype: int64\n",
      " \n",
      "----------------------------------\n",
      " \n",
      "DESC_GRUPO_PRODUCTO\n",
      "     Valor descripción en catálogo: 0    Ficha Básica Promocional\n",
      "Name: DESCGRUPOPROD, dtype: object\n",
      "     Valor descripción en el dataset: 0    Ficha Básica Promocional\n",
      "Name: DESCGRUPOPROD, dtype: object\n",
      " \n",
      "**********************************\n",
      " \n",
      "Comprobación del producto  144918  del dataset en el catálogo:\n",
      "----------------------------------\n",
      " \n",
      "DESC_PRODUCTO\n",
      "     Valor descripción en catálogo: 1    Ficha Avanzada\n",
      "Name: DESCPRODUCTO, dtype: object\n",
      "     Valor descripción en el dataset: 1    Ficha Avanzada\n",
      "Name: DESCPRODUCTO, dtype: object\n",
      " \n",
      "----------------------------------\n",
      " \n",
      "ID_GRUPO_PRODUCTO\n",
      "     Valor código en catálogo: 1    144918\n",
      "Name: IDGRUPOPROD, dtype: int64\n",
      "     Valor código en el dataset: 1    144918\n",
      "Name: IDGRUPOPROD, dtype: int64\n",
      " \n",
      "----------------------------------\n",
      " \n",
      "DESC_GRUPO_PRODUCTO\n",
      "     Valor descripción en catálogo: 1    Ficha Avanzada\n",
      "Name: DESCGRUPOPROD, dtype: object\n",
      "     Valor descripción en el dataset: 1    Ficha Avanzada\n",
      "Name: DESCGRUPOPROD, dtype: object\n",
      " \n",
      "**********************************\n",
      " \n",
      "Comprobación del producto  144919  del dataset en el catálogo:\n",
      "----------------------------------\n",
      " \n",
      "DESC_PRODUCTO\n",
      "     Valor descripción en catálogo: 2    Perfil\n",
      "Name: DESCPRODUCTO, dtype: object\n",
      "     Valor descripción en el dataset: 2    Perfil\n",
      "Name: DESCPRODUCTO, dtype: object\n",
      " \n",
      "----------------------------------\n",
      " \n",
      "ID_GRUPO_PRODUCTO\n",
      "     Valor código en catálogo: 2    144919\n",
      "Name: IDGRUPOPROD, dtype: int64\n",
      "     Valor código en el dataset: 2    144919\n",
      "Name: IDGRUPOPROD, dtype: int64\n",
      " \n",
      "----------------------------------\n",
      " \n",
      "DESC_GRUPO_PRODUCTO\n",
      "     Valor descripción en catálogo: 2    Perfil\n",
      "Name: DESCGRUPOPROD, dtype: object\n",
      "     Valor descripción en el dataset: 2    Perfil\n",
      "Name: DESCGRUPOPROD, dtype: object\n",
      " \n",
      "**********************************\n",
      " \n",
      "Comprobación del producto  144920  del dataset en el catálogo:\n",
      "----------------------------------\n",
      " \n",
      "DESC_PRODUCTO\n",
      "     Valor descripción en catálogo: 3    Perfil Promocional\n",
      "Name: DESCPRODUCTO, dtype: object\n",
      "     Valor descripción en el dataset: 3    Perfil Promocional\n",
      "Name: DESCPRODUCTO, dtype: object\n",
      " \n",
      "----------------------------------\n",
      " \n",
      "ID_GRUPO_PRODUCTO\n",
      "     Valor código en catálogo: 3    144920\n",
      "Name: IDGRUPOPROD, dtype: int64\n",
      "     Valor código en el dataset: 3    144920\n",
      "Name: IDGRUPOPROD, dtype: int64\n",
      " \n",
      "----------------------------------\n",
      " \n",
      "DESC_GRUPO_PRODUCTO\n",
      "     Valor descripción en catálogo: 3    Perfil Promocional\n",
      "Name: DESCGRUPOPROD, dtype: object\n",
      "     Valor descripción en el dataset: 3    Perfil Promocional\n",
      "Name: DESCGRUPOPROD, dtype: object\n",
      " \n",
      "**********************************\n",
      " \n",
      "Comprobación del producto  144921  del dataset en el catálogo:\n",
      "----------------------------------\n",
      " \n",
      "DESC_PRODUCTO\n",
      "     Valor descripción en catálogo: 4    Evaluacion\n",
      "Name: DESCPRODUCTO, dtype: object\n",
      "     Valor descripción en el dataset: 4    Evaluacion\n",
      "Name: DESCPRODUCTO, dtype: object\n",
      " \n",
      "----------------------------------\n",
      " \n",
      "ID_GRUPO_PRODUCTO\n",
      "     Valor código en catálogo: 4    200000\n",
      "Name: IDGRUPOPROD, dtype: int64\n",
      "     Valor código en el dataset: 4    200000\n",
      "Name: IDGRUPOPROD, dtype: int64\n",
      " \n",
      "----------------------------------\n",
      " \n",
      "DESC_GRUPO_PRODUCTO\n",
      "     Valor descripción en catálogo: 4    Modulo de Información\n",
      "Name: DESCGRUPOPROD, dtype: object\n",
      "     Valor descripción en el dataset: 4    Modulo de Información\n",
      "Name: DESCGRUPOPROD, dtype: object\n",
      " \n",
      "**********************************\n",
      " \n",
      "Comprobación del producto  144922  del dataset en el catálogo:\n",
      "----------------------------------\n",
      " \n",
      "DESC_PRODUCTO\n",
      "     Valor descripción en catálogo: 5    Balance y Cuenta de Resultados\n",
      "Name: DESCPRODUCTO, dtype: object\n",
      "     Valor descripción en el dataset: 5    Balance y Cuenta de Resultados\n",
      "Name: DESCPRODUCTO, dtype: object\n",
      " \n",
      "----------------------------------\n",
      " \n",
      "ID_GRUPO_PRODUCTO\n",
      "     Valor código en catálogo: 5    200000\n",
      "Name: IDGRUPOPROD, dtype: int64\n",
      "     Valor código en el dataset: 5    200000\n",
      "Name: IDGRUPOPROD, dtype: int64\n",
      " \n",
      "----------------------------------\n",
      " \n",
      "DESC_GRUPO_PRODUCTO\n",
      "     Valor descripción en catálogo: 5    Modulo de Información\n",
      "Name: DESCGRUPOPROD, dtype: object\n",
      "     Valor descripción en el dataset: 5    Modulo de Información\n",
      "Name: DESCGRUPOPROD, dtype: object\n",
      " \n",
      "**********************************\n",
      " \n",
      "Comprobación del producto  144923  del dataset en el catálogo:\n",
      "----------------------------------\n",
      " \n",
      "DESC_PRODUCTO\n",
      "     Valor descripción en catálogo: 9    Report 1\n",
      "Name: DESCPRODUCTO, dtype: object\n",
      "     Valor descripción en el dataset: 6    Report 1\n",
      "Name: DESCPRODUCTO, dtype: object\n",
      " \n",
      "----------------------------------\n",
      " \n",
      "ID_GRUPO_PRODUCTO\n",
      "     Valor código en catálogo: 9    200001\n",
      "Name: IDGRUPOPROD, dtype: int64\n",
      "     Valor código en el dataset: 6    200001\n",
      "Name: IDGRUPOPROD, dtype: int64\n",
      " \n",
      "----------------------------------\n",
      " \n",
      "DESC_GRUPO_PRODUCTO\n",
      "     Valor descripción en catálogo: 9    Reportes\n",
      "Name: DESCGRUPOPROD, dtype: object\n",
      "     Valor descripción en el dataset: 6    Reportes\n",
      "Name: DESCGRUPOPROD, dtype: object\n",
      " \n",
      "**********************************\n",
      " \n",
      "Comprobación del producto  144924  del dataset en el catálogo:\n",
      "----------------------------------\n",
      " \n",
      "DESC_PRODUCTO\n",
      "     Valor descripción en catálogo: 10    Report 2\n",
      "Name: DESCPRODUCTO, dtype: object\n",
      "     Valor descripción en el dataset: 7    Report 2\n",
      "Name: DESCPRODUCTO, dtype: object\n",
      " \n",
      "----------------------------------\n",
      " \n",
      "ID_GRUPO_PRODUCTO\n",
      "     Valor código en catálogo: 10    200001\n",
      "Name: IDGRUPOPROD, dtype: int64\n",
      "     Valor código en el dataset: 7    200001\n",
      "Name: IDGRUPOPROD, dtype: int64\n",
      " \n",
      "----------------------------------\n",
      " \n",
      "DESC_GRUPO_PRODUCTO\n",
      "     Valor descripción en catálogo: 10    Reportes\n",
      "Name: DESCGRUPOPROD, dtype: object\n",
      "     Valor descripción en el dataset: 7    Reportes\n",
      "Name: DESCGRUPOPROD, dtype: object\n",
      " \n",
      "**********************************\n",
      " \n",
      "Comprobación del producto  144925  del dataset en el catálogo:\n",
      "----------------------------------\n",
      " \n",
      "DESC_PRODUCTO\n",
      "     Valor descripción en catálogo: 11    Report 3\n",
      "Name: DESCPRODUCTO, dtype: object\n",
      "     Valor descripción en el dataset: 8    Report 3\n",
      "Name: DESCPRODUCTO, dtype: object\n",
      " \n",
      "----------------------------------\n",
      " \n",
      "ID_GRUPO_PRODUCTO\n",
      "     Valor código en catálogo: 11    200001\n",
      "Name: IDGRUPOPROD, dtype: int64\n",
      "     Valor código en el dataset: 8    200001\n",
      "Name: IDGRUPOPROD, dtype: int64\n",
      " \n",
      "----------------------------------\n",
      " \n",
      "DESC_GRUPO_PRODUCTO\n",
      "     Valor descripción en catálogo: 11    Reportes\n",
      "Name: DESCGRUPOPROD, dtype: object\n",
      "     Valor descripción en el dataset: 8    Reportes\n",
      "Name: DESCGRUPOPROD, dtype: object\n",
      " \n",
      "**********************************\n",
      " \n",
      "Comprobación del producto  144927  del dataset en el catálogo:\n",
      "----------------------------------\n",
      " \n",
      "DESC_PRODUCTO\n",
      "     Valor descripción en catálogo: 12    Report 4\n",
      "Name: DESCPRODUCTO, dtype: object\n",
      "     Valor descripción en el dataset: 9    Report 4\n",
      "Name: DESCPRODUCTO, dtype: object\n",
      " \n",
      "----------------------------------\n",
      " \n",
      "ID_GRUPO_PRODUCTO\n",
      "     Valor código en catálogo: 12    200001\n",
      "Name: IDGRUPOPROD, dtype: int64\n",
      "     Valor código en el dataset: 9    200001\n",
      "Name: IDGRUPOPROD, dtype: int64\n",
      " \n",
      "----------------------------------\n",
      " \n",
      "DESC_GRUPO_PRODUCTO\n",
      "     Valor descripción en catálogo: 12    Reportes\n",
      "Name: DESCGRUPOPROD, dtype: object\n",
      "     Valor descripción en el dataset: 9    Reportes\n",
      "Name: DESCGRUPOPROD, dtype: object\n",
      " \n",
      "**********************************\n",
      " \n",
      "Comprobación del producto  146648  del dataset en el catálogo:\n",
      "----------------------------------\n",
      " \n",
      "DESC_PRODUCTO\n",
      "     Valor descripción en catálogo: 13    Report 5\n",
      "Name: DESCPRODUCTO, dtype: object\n",
      "     Valor descripción en el dataset: 10    Report 5\n",
      "Name: DESCPRODUCTO, dtype: object\n",
      " \n",
      "----------------------------------\n",
      " \n",
      "ID_GRUPO_PRODUCTO\n",
      "     Valor código en catálogo: 13    200001\n",
      "Name: IDGRUPOPROD, dtype: int64\n",
      "     Valor código en el dataset: 10    200001\n",
      "Name: IDGRUPOPROD, dtype: int64\n",
      " \n",
      "----------------------------------\n",
      " \n",
      "DESC_GRUPO_PRODUCTO\n",
      "     Valor descripción en catálogo: 13    Reportes\n",
      "Name: DESCGRUPOPROD, dtype: object\n",
      "     Valor descripción en el dataset: 10    Reportes\n",
      "Name: DESCGRUPOPROD, dtype: object\n",
      " \n",
      "**********************************\n",
      " \n",
      "Comprobación del producto  146649  del dataset en el catálogo:\n",
      "----------------------------------\n",
      " \n",
      "DESC_PRODUCTO\n",
      "     Valor descripción en catálogo: 14    Report 6\n",
      "Name: DESCPRODUCTO, dtype: object\n",
      "     Valor descripción en el dataset: 11    Report 6\n",
      "Name: DESCPRODUCTO, dtype: object\n",
      " \n",
      "----------------------------------\n",
      " \n",
      "ID_GRUPO_PRODUCTO\n",
      "     Valor código en catálogo: 14    200001\n",
      "Name: IDGRUPOPROD, dtype: int64\n",
      "     Valor código en el dataset: 11    200001\n",
      "Name: IDGRUPOPROD, dtype: int64\n",
      " \n",
      "----------------------------------\n",
      " \n",
      "DESC_GRUPO_PRODUCTO\n",
      "     Valor descripción en catálogo: 14    Reportes\n",
      "Name: DESCGRUPOPROD, dtype: object\n",
      "     Valor descripción en el dataset: 11    Reportes\n",
      "Name: DESCGRUPOPROD, dtype: object\n",
      " \n",
      "**********************************\n",
      " \n",
      "Comprobación del producto  148765  del dataset en el catálogo:\n",
      "----------------------------------\n",
      " \n",
      "DESC_PRODUCTO\n",
      "     Valor descripción en catálogo: 7    Solvencia\n",
      "Name: DESCPRODUCTO, dtype: object\n",
      "     Valor descripción en el dataset: 12    Solvencia\n",
      "Name: DESCPRODUCTO, dtype: object\n",
      " \n",
      "----------------------------------\n",
      " \n",
      "ID_GRUPO_PRODUCTO\n",
      "     Valor código en catálogo: 7    200000\n",
      "Name: IDGRUPOPROD, dtype: int64\n",
      "     Valor código en el dataset: 12    200000\n",
      "Name: IDGRUPOPROD, dtype: int64\n",
      " \n",
      "----------------------------------\n",
      " \n",
      "DESC_GRUPO_PRODUCTO\n",
      "     Valor descripción en catálogo: 7    Modulo de Información\n",
      "Name: DESCGRUPOPROD, dtype: object\n",
      "     Valor descripción en el dataset: 12    Modulo de Información\n",
      "Name: DESCGRUPOPROD, dtype: object\n",
      " \n",
      "**********************************\n",
      " \n",
      "Comprobación del producto  166661  del dataset en el catálogo:\n",
      "----------------------------------\n",
      " \n",
      "DESC_PRODUCTO\n",
      "     Valor descripción en catálogo: 16    Oferta 2\n",
      "Name: DESCPRODUCTO, dtype: object\n",
      "     Valor descripción en el dataset: 13    Oferta 2\n",
      "Name: DESCPRODUCTO, dtype: object\n",
      " \n",
      "----------------------------------\n",
      " \n",
      "ID_GRUPO_PRODUCTO\n",
      "     Valor código en catálogo: 16    200002\n",
      "Name: IDGRUPOPROD, dtype: int64\n",
      "     Valor código en el dataset: 13    200002\n",
      "Name: IDGRUPOPROD, dtype: int64\n",
      " \n",
      "----------------------------------\n",
      " \n",
      "DESC_GRUPO_PRODUCTO\n",
      "     Valor descripción en catálogo: 16    Otros\n",
      "Name: DESCGRUPOPROD, dtype: object\n",
      "     Valor descripción en el dataset: 13    Otros\n",
      "Name: DESCGRUPOPROD, dtype: object\n",
      " \n",
      "**********************************\n",
      " \n",
      "Comprobación del producto  222666  del dataset en el catálogo:\n",
      "----------------------------------\n",
      " \n",
      "DESC_PRODUCTO\n",
      "     Valor descripción en catálogo: 8    Vinculaciones Empresariales\n",
      "Name: DESCPRODUCTO, dtype: object\n",
      "     Valor descripción en el dataset: 14    Vinculaciones Empresariales\n",
      "Name: DESCPRODUCTO, dtype: object\n",
      " \n",
      "----------------------------------\n",
      " \n",
      "ID_GRUPO_PRODUCTO\n",
      "     Valor código en catálogo: 8    200000\n",
      "Name: IDGRUPOPROD, dtype: int64\n",
      "     Valor código en el dataset: 14    200000\n",
      "Name: IDGRUPOPROD, dtype: int64\n",
      " \n",
      "----------------------------------\n",
      " \n",
      "DESC_GRUPO_PRODUCTO\n",
      "     Valor descripción en catálogo: 8    Modulo de Información\n",
      "Name: DESCGRUPOPROD, dtype: object\n",
      "     Valor descripción en el dataset: 14    Modulo de Información\n",
      "Name: DESCGRUPOPROD, dtype: object\n",
      " \n",
      "**********************************\n",
      " \n"
     ]
    }
   ],
   "source": [
    "for i in lista_id_prod:\n",
    "    print('Comprobación del producto ', i, ' del dataset en el catálogo:')\n",
    "    print('----------------------------------')\n",
    "    print(' ')\n",
    "    print('DESC_PRODUCTO')\n",
    "    print('     Valor descripción en catálogo:', df_catalog_prod[df_catalog_prod['IDPRODUCTO'] == i]['DESCPRODUCTO'])\n",
    "    print('     Valor descripción en el dataset:', df_cons_agg[df_cons_agg['IDPRODUCTO'] == i]['DESCPRODUCTO'])\n",
    "    print(' ')\n",
    "    print('----------------------------------')\n",
    "    print(' ')\n",
    "    print('ID_GRUPO_PRODUCTO')\n",
    "    print('     Valor código en catálogo:', df_catalog_prod[df_catalog_prod['IDPRODUCTO'] == i]['IDGRUPOPROD'])\n",
    "    print('     Valor código en el dataset:', df_cons_agg[df_cons_agg['IDPRODUCTO'] == i]['IDGRUPOPROD'])\n",
    "    print(' ')\n",
    "    print('----------------------------------')\n",
    "    print(' ')\n",
    "    print('DESC_GRUPO_PRODUCTO')\n",
    "    print('     Valor descripción en catálogo:', df_catalog_prod[df_catalog_prod['IDPRODUCTO'] == i]['DESCGRUPOPROD'])\n",
    "    print('     Valor descripción en el dataset:', df_cons_agg[df_cons_agg['IDPRODUCTO'] == i]['DESCGRUPOPROD'])\n",
    "    print(' ')\n",
    "    print('**********************************')\n",
    "    print(' ')"
   ]
  },
  {
   "cell_type": "markdown",
   "id": "corrected-champion",
   "metadata": {},
   "source": [
    "**Por último cambiaremos los valores de forma que eliminemos las tildes y ponemos en mayusculas**"
   ]
  },
  {
   "cell_type": "code",
   "execution_count": 59,
   "id": "proud-oregon",
   "metadata": {},
   "outputs": [],
   "source": [
    "def quitar_signo(s):\n",
    "    replacements = (\n",
    "        (\"á\", \"a\"),\n",
    "        (\"é\", \"e\"),\n",
    "        (\"í\", \"i\"),\n",
    "        (\"ó\", \"o\"),\n",
    "        (\"ú\", \"u\"),\n",
    "    )\n",
    "    for a, b in replacements:\n",
    "        s = s.replace(a, b).replace(a.upper(), b.upper())\n",
    "        \n",
    "    return s"
   ]
  },
  {
   "cell_type": "code",
   "execution_count": 60,
   "id": "hungarian-eugene",
   "metadata": {},
   "outputs": [],
   "source": [
    "df_cons['DESCPRODUCTO'] = df_cons['DESCPRODUCTO'].apply(lambda x: quitar_signo(x)).str.upper()\n",
    "df_cons['DESCGRUPOPROD'] = df_cons['DESCGRUPOPROD'].apply(lambda x: quitar_signo(x)).str.upper()"
   ]
  },
  {
   "cell_type": "code",
   "execution_count": 61,
   "id": "homeless-distance",
   "metadata": {},
   "outputs": [
    {
     "data": {
      "text/html": [
       "<div>\n",
       "<style scoped>\n",
       "    .dataframe tbody tr th:only-of-type {\n",
       "        vertical-align: middle;\n",
       "    }\n",
       "\n",
       "    .dataframe tbody tr th {\n",
       "        vertical-align: top;\n",
       "    }\n",
       "\n",
       "    .dataframe thead th {\n",
       "        text-align: right;\n",
       "    }\n",
       "</style>\n",
       "<table border=\"1\" class=\"dataframe\">\n",
       "  <thead>\n",
       "    <tr style=\"text-align: right;\">\n",
       "      <th></th>\n",
       "      <th>IDCONSUMO</th>\n",
       "      <th>IDUSUARIO</th>\n",
       "      <th>IDPRODUCTO</th>\n",
       "      <th>DESCPRODUCTO</th>\n",
       "      <th>IDGRUPOPROD</th>\n",
       "      <th>DESCGRUPOPROD</th>\n",
       "      <th>FECHACONSUMO</th>\n",
       "      <th>EMPCONSUL_ID</th>\n",
       "      <th>EMPCONSUL_CIIU</th>\n",
       "      <th>EMPCONSUL_PROV</th>\n",
       "      <th>EMPCONSUL_EST</th>\n",
       "    </tr>\n",
       "  </thead>\n",
       "  <tbody>\n",
       "    <tr>\n",
       "      <th>0</th>\n",
       "      <td>40057306</td>\n",
       "      <td>6868835</td>\n",
       "      <td>144920</td>\n",
       "      <td>PERFIL PROMOCIONAL</td>\n",
       "      <td>144920</td>\n",
       "      <td>PERFIL PROMOCIONAL</td>\n",
       "      <td>2018-01-01</td>\n",
       "      <td>986515</td>\n",
       "      <td>H4921</td>\n",
       "      <td>ATLANTICO</td>\n",
       "      <td>ACTIVA</td>\n",
       "    </tr>\n",
       "    <tr>\n",
       "      <th>1</th>\n",
       "      <td>40057715</td>\n",
       "      <td>6868838</td>\n",
       "      <td>144920</td>\n",
       "      <td>PERFIL PROMOCIONAL</td>\n",
       "      <td>144920</td>\n",
       "      <td>PERFIL PROMOCIONAL</td>\n",
       "      <td>2018-01-01</td>\n",
       "      <td>102614</td>\n",
       "      <td>N8121</td>\n",
       "      <td>BOGOTA</td>\n",
       "      <td>ACTIVA</td>\n",
       "    </tr>\n",
       "    <tr>\n",
       "      <th>2</th>\n",
       "      <td>40057785</td>\n",
       "      <td>6868841</td>\n",
       "      <td>144917</td>\n",
       "      <td>FICHA BASICA</td>\n",
       "      <td>144917</td>\n",
       "      <td>FICHA BASICA PROMOCIONAL</td>\n",
       "      <td>2018-01-01</td>\n",
       "      <td>1520173</td>\n",
       "      <td>K6412</td>\n",
       "      <td>BOGOTA</td>\n",
       "      <td>CANCELACIËN</td>\n",
       "    </tr>\n",
       "    <tr>\n",
       "      <th>3</th>\n",
       "      <td>40057786</td>\n",
       "      <td>6868841</td>\n",
       "      <td>144920</td>\n",
       "      <td>PERFIL PROMOCIONAL</td>\n",
       "      <td>144920</td>\n",
       "      <td>PERFIL PROMOCIONAL</td>\n",
       "      <td>2018-01-01</td>\n",
       "      <td>1520173</td>\n",
       "      <td>K6412</td>\n",
       "      <td>BOGOTA</td>\n",
       "      <td>CANCELACIËN</td>\n",
       "    </tr>\n",
       "    <tr>\n",
       "      <th>4</th>\n",
       "      <td>40057779</td>\n",
       "      <td>6868841</td>\n",
       "      <td>144920</td>\n",
       "      <td>PERFIL PROMOCIONAL</td>\n",
       "      <td>144920</td>\n",
       "      <td>PERFIL PROMOCIONAL</td>\n",
       "      <td>2018-01-01</td>\n",
       "      <td>2971771</td>\n",
       "      <td>P8544</td>\n",
       "      <td>BOGOTA</td>\n",
       "      <td>ACTIVA</td>\n",
       "    </tr>\n",
       "  </tbody>\n",
       "</table>\n",
       "</div>"
      ],
      "text/plain": [
       "   IDCONSUMO  IDUSUARIO  IDPRODUCTO        DESCPRODUCTO  IDGRUPOPROD  \\\n",
       "0   40057306    6868835      144920  PERFIL PROMOCIONAL       144920   \n",
       "1   40057715    6868838      144920  PERFIL PROMOCIONAL       144920   \n",
       "2   40057785    6868841      144917        FICHA BASICA       144917   \n",
       "3   40057786    6868841      144920  PERFIL PROMOCIONAL       144920   \n",
       "4   40057779    6868841      144920  PERFIL PROMOCIONAL       144920   \n",
       "\n",
       "              DESCGRUPOPROD FECHACONSUMO  EMPCONSUL_ID EMPCONSUL_CIIU  \\\n",
       "0        PERFIL PROMOCIONAL   2018-01-01        986515          H4921   \n",
       "1        PERFIL PROMOCIONAL   2018-01-01        102614          N8121   \n",
       "2  FICHA BASICA PROMOCIONAL   2018-01-01       1520173          K6412   \n",
       "3        PERFIL PROMOCIONAL   2018-01-01       1520173          K6412   \n",
       "4        PERFIL PROMOCIONAL   2018-01-01       2971771          P8544   \n",
       "\n",
       "  EMPCONSUL_PROV EMPCONSUL_EST  \n",
       "0      ATLANTICO        ACTIVA  \n",
       "1         BOGOTA        ACTIVA  \n",
       "2         BOGOTA   CANCELACIËN  \n",
       "3         BOGOTA   CANCELACIËN  \n",
       "4         BOGOTA        ACTIVA  "
      ]
     },
     "execution_count": 61,
     "metadata": {},
     "output_type": "execute_result"
    }
   ],
   "source": [
    "df_cons.head(5)"
   ]
  },
  {
   "cell_type": "markdown",
   "id": "administrative-afghanistan",
   "metadata": {},
   "source": [
    "**Distribución**"
   ]
  },
  {
   "cell_type": "code",
   "execution_count": 62,
   "id": "reliable-analyst",
   "metadata": {},
   "outputs": [
    {
     "data": {
      "image/png": "[encoded data removed]",
      "text/plain": [
       "<Figure size 432x288 with 1 Axes>"
      ]
     },
     "metadata": {
      "needs_background": "light"
     },
     "output_type": "display_data"
    }
   ],
   "source": [
    "df_cons['DESCPRODUCTO'].value_counts().plot(kind = 'bar')\n",
    "plt.title('Distribución Registros por Tipo de Producto')    \n",
    "plt.grid()\n",
    "plt.show()"
   ]
  },
  {
   "cell_type": "code",
   "execution_count": 63,
   "id": "pacific-blackberry",
   "metadata": {},
   "outputs": [
    {
     "data": {
      "image/png": "[encoded data removed]",
      "text/plain": [
       "<Figure size 432x288 with 1 Axes>"
      ]
     },
     "metadata": {
      "needs_background": "light"
     },
     "output_type": "display_data"
    }
   ],
   "source": [
    "df_cons['DESCGRUPOPROD'].value_counts().plot(kind = 'bar')\n",
    "plt.title('Distribución Registros por Tipo de Producto')    \n",
    "plt.grid()\n",
    "plt.show()"
   ]
  },
  {
   "cell_type": "markdown",
   "id": "continuous-petite",
   "metadata": {},
   "source": [
    "**Aprovechando la información del catálogo añadimos el tipo de producto, cruzando por id producto**"
   ]
  },
  {
   "cell_type": "code",
   "execution_count": 64,
   "id": "infinite-adolescent",
   "metadata": {},
   "outputs": [
    {
     "data": {
      "text/html": [
       "<div>\n",
       "<style scoped>\n",
       "    .dataframe tbody tr th:only-of-type {\n",
       "        vertical-align: middle;\n",
       "    }\n",
       "\n",
       "    .dataframe tbody tr th {\n",
       "        vertical-align: top;\n",
       "    }\n",
       "\n",
       "    .dataframe thead th {\n",
       "        text-align: right;\n",
       "    }\n",
       "</style>\n",
       "<table border=\"1\" class=\"dataframe\">\n",
       "  <thead>\n",
       "    <tr style=\"text-align: right;\">\n",
       "      <th></th>\n",
       "      <th>TIPO</th>\n",
       "      <th>IDGRUPOPROD</th>\n",
       "      <th>DESCGRUPOPROD</th>\n",
       "      <th>IDPRODUCTO</th>\n",
       "      <th>DESCPRODUCTO</th>\n",
       "    </tr>\n",
       "  </thead>\n",
       "  <tbody>\n",
       "    <tr>\n",
       "      <th>0</th>\n",
       "      <td>Promocion</td>\n",
       "      <td>144917</td>\n",
       "      <td>Ficha Básica Promocional</td>\n",
       "      <td>144917</td>\n",
       "      <td>Ficha Básica</td>\n",
       "    </tr>\n",
       "    <tr>\n",
       "      <th>1</th>\n",
       "      <td>Pago</td>\n",
       "      <td>144918</td>\n",
       "      <td>Ficha Avanzada</td>\n",
       "      <td>144918</td>\n",
       "      <td>Ficha Avanzada</td>\n",
       "    </tr>\n",
       "    <tr>\n",
       "      <th>2</th>\n",
       "      <td>Pago</td>\n",
       "      <td>144919</td>\n",
       "      <td>Perfil</td>\n",
       "      <td>144919</td>\n",
       "      <td>Perfil</td>\n",
       "    </tr>\n",
       "    <tr>\n",
       "      <th>3</th>\n",
       "      <td>Promocion</td>\n",
       "      <td>144920</td>\n",
       "      <td>Perfil Promocional</td>\n",
       "      <td>144920</td>\n",
       "      <td>Perfil Promocional</td>\n",
       "    </tr>\n",
       "    <tr>\n",
       "      <th>4</th>\n",
       "      <td>Pago</td>\n",
       "      <td>200000</td>\n",
       "      <td>Modulo de Información</td>\n",
       "      <td>144921</td>\n",
       "      <td>Evaluacion</td>\n",
       "    </tr>\n",
       "  </tbody>\n",
       "</table>\n",
       "</div>"
      ],
      "text/plain": [
       "        TIPO  IDGRUPOPROD             DESCGRUPOPROD  IDPRODUCTO  \\\n",
       "0  Promocion       144917  Ficha Básica Promocional      144917   \n",
       "1       Pago       144918            Ficha Avanzada      144918   \n",
       "2       Pago       144919                    Perfil      144919   \n",
       "3  Promocion       144920        Perfil Promocional      144920   \n",
       "4       Pago       200000     Modulo de Información      144921   \n",
       "\n",
       "         DESCPRODUCTO  \n",
       "0        Ficha Básica  \n",
       "1      Ficha Avanzada  \n",
       "2              Perfil  \n",
       "3  Perfil Promocional  \n",
       "4          Evaluacion  "
      ]
     },
     "execution_count": 64,
     "metadata": {},
     "output_type": "execute_result"
    }
   ],
   "source": [
    "df_catalog_prod.head()"
   ]
  },
  {
   "cell_type": "code",
   "execution_count": 65,
   "id": "useful-construction",
   "metadata": {},
   "outputs": [],
   "source": [
    "df_catalog_prod_tipo = df_catalog_prod[['IDGRUPOPROD','TIPO']]"
   ]
  },
  {
   "cell_type": "code",
   "execution_count": 66,
   "id": "amended-weather",
   "metadata": {},
   "outputs": [],
   "source": [
    "df_cons = pd.merge(left = df_cons, right = df_catalog_prod_tipo, how = 'left', left_on = 'IDGRUPOPROD', right_on = 'IDGRUPOPROD')  "
   ]
  },
  {
   "cell_type": "code",
   "execution_count": 67,
   "id": "certified-first",
   "metadata": {},
   "outputs": [
    {
     "data": {
      "text/plain": [
       "IDCONSUMO         0\n",
       "IDUSUARIO         0\n",
       "IDPRODUCTO        0\n",
       "DESCPRODUCTO      0\n",
       "IDGRUPOPROD       0\n",
       "DESCGRUPOPROD     0\n",
       "FECHACONSUMO      0\n",
       "EMPCONSUL_ID      0\n",
       "EMPCONSUL_CIIU    0\n",
       "EMPCONSUL_PROV    0\n",
       "EMPCONSUL_EST     0\n",
       "TIPO              0\n",
       "dtype: int64"
      ]
     },
     "execution_count": 67,
     "metadata": {},
     "output_type": "execute_result"
    }
   ],
   "source": [
    "df_cons.isna().sum()"
   ]
  },
  {
   "cell_type": "code",
   "execution_count": 68,
   "id": "careful-resistance",
   "metadata": {},
   "outputs": [
    {
     "data": {
      "image/png": "[encoded data removed]",
      "text/plain": [
       "<Figure size 432x288 with 1 Axes>"
      ]
     },
     "metadata": {
      "needs_background": "light"
     },
     "output_type": "display_data"
    }
   ],
   "source": [
    "df_cons['TIPO'].value_counts().plot(kind = 'bar')\n",
    "plt.title('Distribución Registros por Tipo de Producto Promocional/Pago')    \n",
    "plt.grid()\n",
    "plt.show()"
   ]
  },
  {
   "cell_type": "markdown",
   "id": "adequate-script",
   "metadata": {},
   "source": [
    "Observamos la distribución"
   ]
  },
  {
   "cell_type": "code",
   "execution_count": 69,
   "id": "sublime-powell",
   "metadata": {},
   "outputs": [
    {
     "data": {
      "image/png": "[encoded data removed]",
      "text/plain": [
       "<Figure size 432x288 with 1 Axes>"
      ]
     },
     "metadata": {
      "needs_background": "light"
     },
     "output_type": "display_data"
    }
   ],
   "source": [
    "df_cons['DESCGRUPOPROD'].value_counts().plot(kind = 'bar')\n",
    "plt.title('Distribución Registros por Tipo de Producto')    \n",
    "plt.grid()\n",
    "plt.show()"
   ]
  },
  {
   "cell_type": "markdown",
   "id": "proper-battery",
   "metadata": {},
   "source": [
    "**Analizando la información sobre el funcionamiento del e-commerce, entendemos que se debe diferenciar entre 3 tipos de producto**\n",
    "\n",
    "* PERFIL PROMOCIONAL\n",
    "* FICHAS BASICAS PROMOCIONALES\n",
    "* RESTOS PRODUCTOS DE PAGO"
   ]
  },
  {
   "cell_type": "code",
   "execution_count": 70,
   "id": "stuck-pacific",
   "metadata": {},
   "outputs": [],
   "source": [
    "df_cons.loc[(df_cons['DESCGRUPOPROD'] == 'PERFIL PROMOCIONAL'), ['DESCGRUPOPROD']] = 'PERF_PROMO'\n",
    "df_cons.loc[(df_cons['DESCGRUPOPROD'] == 'FICHA BASICA PROMOCIONAL'), ['DESCGRUPOPROD']] = 'FICH_PROMO'\n",
    "df_cons.loc[(~df_cons['DESCGRUPOPROD'].isin(['PERF_PROMO','FICH_PROMO'])), ['DESCGRUPOPROD']] = 'RES_PAGO'"
   ]
  },
  {
   "cell_type": "code",
   "execution_count": 71,
   "id": "separate-final",
   "metadata": {},
   "outputs": [
    {
     "data": {
      "image/png": "[encoded data removed]",
      "text/plain": [
       "<Figure size 432x288 with 1 Axes>"
      ]
     },
     "metadata": {
      "needs_background": "light"
     },
     "output_type": "display_data"
    }
   ],
   "source": [
    "df_cons['DESCGRUPOPROD'].value_counts().plot(kind = 'bar')\n",
    "plt.title('Distribución Registros por Tipo de Producto')    \n",
    "plt.grid()\n",
    "plt.show()"
   ]
  },
  {
   "cell_type": "markdown",
   "id": "soviet-north",
   "metadata": {},
   "source": [
    "-------------------------------------------------"
   ]
  },
  {
   "cell_type": "markdown",
   "id": "genuine-auckland",
   "metadata": {},
   "source": [
    "**2. EMPCONSUL_CIIU**"
   ]
  },
  {
   "cell_type": "markdown",
   "id": "single-moscow",
   "metadata": {},
   "source": [
    "A continuación analizaremos si se puede o no obtener información de esta variable, que nos aporte variabilidad a nuestro modelo.\n",
    "\n",
    "Para ello se utilizará un catálogo extraído de la página del DANE."
   ]
  },
  {
   "cell_type": "code",
   "execution_count": 72,
   "id": "following-lease",
   "metadata": {},
   "outputs": [],
   "source": [
    "df_catalog = pd.read_excel('Data/Estructura_detallada_organizacion_economica.xlsx')"
   ]
  },
  {
   "cell_type": "code",
   "execution_count": 73,
   "id": "offensive-estimate",
   "metadata": {},
   "outputs": [
    {
     "data": {
      "text/html": [
       "<div>\n",
       "<style scoped>\n",
       "    .dataframe tbody tr th:only-of-type {\n",
       "        vertical-align: middle;\n",
       "    }\n",
       "\n",
       "    .dataframe tbody tr th {\n",
       "        vertical-align: top;\n",
       "    }\n",
       "\n",
       "    .dataframe thead th {\n",
       "        text-align: right;\n",
       "    }\n",
       "</style>\n",
       "<table border=\"1\" class=\"dataframe\">\n",
       "  <thead>\n",
       "    <tr style=\"text-align: right;\">\n",
       "      <th></th>\n",
       "      <th>SECCION</th>\n",
       "      <th>SECCION_DESC</th>\n",
       "      <th>DIVISION</th>\n",
       "      <th>DIVISION_DESC</th>\n",
       "      <th>GRUPO</th>\n",
       "      <th>GRUPO_DESC</th>\n",
       "      <th>CLASE</th>\n",
       "      <th>CLASE_DESC</th>\n",
       "    </tr>\n",
       "  </thead>\n",
       "  <tbody>\n",
       "    <tr>\n",
       "      <th>0</th>\n",
       "      <td>A</td>\n",
       "      <td>AGRICULTURA, GANADERÍA, CAZA, SILVICULTURA Y P...</td>\n",
       "      <td>1</td>\n",
       "      <td>Agricultura, ganadería, caza y actividades de ...</td>\n",
       "      <td>11</td>\n",
       "      <td>Cultivos agrícolas transitorios</td>\n",
       "      <td>111</td>\n",
       "      <td>Cultivo de cereales (excepto arroz), legumbres...</td>\n",
       "    </tr>\n",
       "    <tr>\n",
       "      <th>1</th>\n",
       "      <td>A</td>\n",
       "      <td>AGRICULTURA, GANADERÍA, CAZA, SILVICULTURA Y P...</td>\n",
       "      <td>1</td>\n",
       "      <td>Agricultura, ganadería, caza y actividades de ...</td>\n",
       "      <td>11</td>\n",
       "      <td>Cultivos agrícolas transitorios</td>\n",
       "      <td>112</td>\n",
       "      <td>Cultivo de arroz</td>\n",
       "    </tr>\n",
       "    <tr>\n",
       "      <th>2</th>\n",
       "      <td>A</td>\n",
       "      <td>AGRICULTURA, GANADERÍA, CAZA, SILVICULTURA Y P...</td>\n",
       "      <td>1</td>\n",
       "      <td>Agricultura, ganadería, caza y actividades de ...</td>\n",
       "      <td>11</td>\n",
       "      <td>Cultivos agrícolas transitorios</td>\n",
       "      <td>113</td>\n",
       "      <td>Cultivo de hortalizas, raíces y tubérculos</td>\n",
       "    </tr>\n",
       "  </tbody>\n",
       "</table>\n",
       "</div>"
      ],
      "text/plain": [
       "  SECCION                                       SECCION_DESC  DIVISION  \\\n",
       "0       A  AGRICULTURA, GANADERÍA, CAZA, SILVICULTURA Y P...         1   \n",
       "1       A  AGRICULTURA, GANADERÍA, CAZA, SILVICULTURA Y P...         1   \n",
       "2       A  AGRICULTURA, GANADERÍA, CAZA, SILVICULTURA Y P...         1   \n",
       "\n",
       "                                       DIVISION_DESC  GRUPO  \\\n",
       "0  Agricultura, ganadería, caza y actividades de ...     11   \n",
       "1  Agricultura, ganadería, caza y actividades de ...     11   \n",
       "2  Agricultura, ganadería, caza y actividades de ...     11   \n",
       "\n",
       "                        GRUPO_DESC  CLASE  \\\n",
       "0  Cultivos agrícolas transitorios    111   \n",
       "1  Cultivos agrícolas transitorios    112   \n",
       "2  Cultivos agrícolas transitorios    113   \n",
       "\n",
       "                                          CLASE_DESC  \n",
       "0  Cultivo de cereales (excepto arroz), legumbres...  \n",
       "1                                   Cultivo de arroz  \n",
       "2         Cultivo de hortalizas, raíces y tubérculos  "
      ]
     },
     "execution_count": 73,
     "metadata": {},
     "output_type": "execute_result"
    }
   ],
   "source": [
    "df_catalog.head(3)"
   ]
  },
  {
   "cell_type": "code",
   "execution_count": 74,
   "id": "ultimate-astronomy",
   "metadata": {},
   "outputs": [],
   "source": [
    "df_catalog['CLASE'] = df_catalog['CLASE'].astype('str').apply(lambda x: x.zfill(4))"
   ]
  },
  {
   "cell_type": "markdown",
   "id": "adjacent-marathon",
   "metadata": {},
   "source": [
    "**Únicamente nos interesa conocer la sección, division y grupo de actividad económica. Ya que la clase aporta demasiada información, que podría llegara generar ruido**"
   ]
  },
  {
   "cell_type": "code",
   "execution_count": 75,
   "id": "pleasant-manchester",
   "metadata": {},
   "outputs": [],
   "source": [
    "df_catalog = df_catalog[['CLASE','SECCION_DESC']]"
   ]
  },
  {
   "cell_type": "code",
   "execution_count": 76,
   "id": "conventional-preview",
   "metadata": {},
   "outputs": [
    {
     "data": {
      "text/html": [
       "<div>\n",
       "<style scoped>\n",
       "    .dataframe tbody tr th:only-of-type {\n",
       "        vertical-align: middle;\n",
       "    }\n",
       "\n",
       "    .dataframe tbody tr th {\n",
       "        vertical-align: top;\n",
       "    }\n",
       "\n",
       "    .dataframe thead th {\n",
       "        text-align: right;\n",
       "    }\n",
       "</style>\n",
       "<table border=\"1\" class=\"dataframe\">\n",
       "  <thead>\n",
       "    <tr style=\"text-align: right;\">\n",
       "      <th></th>\n",
       "      <th>CLASE</th>\n",
       "      <th>SECCION_DESC</th>\n",
       "    </tr>\n",
       "  </thead>\n",
       "  <tbody>\n",
       "    <tr>\n",
       "      <th>0</th>\n",
       "      <td>0111</td>\n",
       "      <td>AGRICULTURA, GANADERÍA, CAZA, SILVICULTURA Y P...</td>\n",
       "    </tr>\n",
       "    <tr>\n",
       "      <th>1</th>\n",
       "      <td>0112</td>\n",
       "      <td>AGRICULTURA, GANADERÍA, CAZA, SILVICULTURA Y P...</td>\n",
       "    </tr>\n",
       "    <tr>\n",
       "      <th>2</th>\n",
       "      <td>0113</td>\n",
       "      <td>AGRICULTURA, GANADERÍA, CAZA, SILVICULTURA Y P...</td>\n",
       "    </tr>\n",
       "  </tbody>\n",
       "</table>\n",
       "</div>"
      ],
      "text/plain": [
       "  CLASE                                       SECCION_DESC\n",
       "0  0111  AGRICULTURA, GANADERÍA, CAZA, SILVICULTURA Y P...\n",
       "1  0112  AGRICULTURA, GANADERÍA, CAZA, SILVICULTURA Y P...\n",
       "2  0113  AGRICULTURA, GANADERÍA, CAZA, SILVICULTURA Y P..."
      ]
     },
     "execution_count": 76,
     "metadata": {},
     "output_type": "execute_result"
    }
   ],
   "source": [
    "df_catalog.head(3)"
   ]
  },
  {
   "cell_type": "markdown",
   "id": "effective-authority",
   "metadata": {},
   "source": [
    "**Generamos la variable por la que cruzar, a partir de EMPCONSUL_CIIU**"
   ]
  },
  {
   "cell_type": "code",
   "execution_count": 77,
   "id": "improved-ukraine",
   "metadata": {},
   "outputs": [],
   "source": [
    "df_cons['EMPCONSUL_CIIU_CLASE'] = df_cons['EMPCONSUL_CIIU'].str[-4:]"
   ]
  },
  {
   "cell_type": "markdown",
   "id": "drawn-alpha",
   "metadata": {},
   "source": [
    "**Agregamos la información del catálogo**"
   ]
  },
  {
   "cell_type": "code",
   "execution_count": 78,
   "id": "variable-consent",
   "metadata": {},
   "outputs": [],
   "source": [
    "df_cons = pd.merge(left = df_cons, right = df_catalog, how = \"left\", left_on = \"EMPCONSUL_CIIU_CLASE\", right_on = \"CLASE\")"
   ]
  },
  {
   "cell_type": "markdown",
   "id": "qualified-technical",
   "metadata": {},
   "source": [
    "**Comprobamos que todos los que han cruzado correctamente, y que los que no han cruzado, sea porque no aplican**"
   ]
  },
  {
   "cell_type": "code",
   "execution_count": 79,
   "id": "periodic-twins",
   "metadata": {},
   "outputs": [
    {
     "data": {
      "text/html": [
       "<div>\n",
       "<style scoped>\n",
       "    .dataframe tbody tr th:only-of-type {\n",
       "        vertical-align: middle;\n",
       "    }\n",
       "\n",
       "    .dataframe tbody tr th {\n",
       "        vertical-align: top;\n",
       "    }\n",
       "\n",
       "    .dataframe thead th {\n",
       "        text-align: right;\n",
       "    }\n",
       "</style>\n",
       "<table border=\"1\" class=\"dataframe\">\n",
       "  <thead>\n",
       "    <tr style=\"text-align: right;\">\n",
       "      <th></th>\n",
       "      <th>IDCONSUMO</th>\n",
       "      <th>IDUSUARIO</th>\n",
       "      <th>IDPRODUCTO</th>\n",
       "      <th>DESCPRODUCTO</th>\n",
       "      <th>IDGRUPOPROD</th>\n",
       "      <th>DESCGRUPOPROD</th>\n",
       "      <th>FECHACONSUMO</th>\n",
       "      <th>EMPCONSUL_ID</th>\n",
       "      <th>EMPCONSUL_CIIU</th>\n",
       "      <th>EMPCONSUL_PROV</th>\n",
       "      <th>EMPCONSUL_EST</th>\n",
       "      <th>TIPO</th>\n",
       "      <th>EMPCONSUL_CIIU_CLASE</th>\n",
       "      <th>CLASE</th>\n",
       "      <th>SECCION_DESC</th>\n",
       "    </tr>\n",
       "  </thead>\n",
       "  <tbody>\n",
       "    <tr>\n",
       "      <th>0</th>\n",
       "      <td>40057306</td>\n",
       "      <td>6868835</td>\n",
       "      <td>144920</td>\n",
       "      <td>PERFIL PROMOCIONAL</td>\n",
       "      <td>144920</td>\n",
       "      <td>PERF_PROMO</td>\n",
       "      <td>2018-01-01</td>\n",
       "      <td>986515</td>\n",
       "      <td>H4921</td>\n",
       "      <td>ATLANTICO</td>\n",
       "      <td>ACTIVA</td>\n",
       "      <td>Promocion</td>\n",
       "      <td>4921</td>\n",
       "      <td>4921</td>\n",
       "      <td>TRANSPORTE Y ALMACENAMIENTO</td>\n",
       "    </tr>\n",
       "    <tr>\n",
       "      <th>1</th>\n",
       "      <td>40057715</td>\n",
       "      <td>6868838</td>\n",
       "      <td>144920</td>\n",
       "      <td>PERFIL PROMOCIONAL</td>\n",
       "      <td>144920</td>\n",
       "      <td>PERF_PROMO</td>\n",
       "      <td>2018-01-01</td>\n",
       "      <td>102614</td>\n",
       "      <td>N8121</td>\n",
       "      <td>BOGOTA</td>\n",
       "      <td>ACTIVA</td>\n",
       "      <td>Promocion</td>\n",
       "      <td>8121</td>\n",
       "      <td>8121</td>\n",
       "      <td>ACTIVIDADES DE SERVICIOS ADMINISTRATIVOS Y DE ...</td>\n",
       "    </tr>\n",
       "    <tr>\n",
       "      <th>2</th>\n",
       "      <td>40057785</td>\n",
       "      <td>6868841</td>\n",
       "      <td>144917</td>\n",
       "      <td>FICHA BASICA</td>\n",
       "      <td>144917</td>\n",
       "      <td>FICH_PROMO</td>\n",
       "      <td>2018-01-01</td>\n",
       "      <td>1520173</td>\n",
       "      <td>K6412</td>\n",
       "      <td>BOGOTA</td>\n",
       "      <td>CANCELACIËN</td>\n",
       "      <td>Promocion</td>\n",
       "      <td>6412</td>\n",
       "      <td>6412</td>\n",
       "      <td>ACTIVIDADES FINANCIERAS Y DE SEGUROS</td>\n",
       "    </tr>\n",
       "  </tbody>\n",
       "</table>\n",
       "</div>"
      ],
      "text/plain": [
       "   IDCONSUMO  IDUSUARIO  IDPRODUCTO        DESCPRODUCTO  IDGRUPOPROD  \\\n",
       "0   40057306    6868835      144920  PERFIL PROMOCIONAL       144920   \n",
       "1   40057715    6868838      144920  PERFIL PROMOCIONAL       144920   \n",
       "2   40057785    6868841      144917        FICHA BASICA       144917   \n",
       "\n",
       "  DESCGRUPOPROD FECHACONSUMO  EMPCONSUL_ID EMPCONSUL_CIIU EMPCONSUL_PROV  \\\n",
       "0    PERF_PROMO   2018-01-01        986515          H4921      ATLANTICO   \n",
       "1    PERF_PROMO   2018-01-01        102614          N8121         BOGOTA   \n",
       "2    FICH_PROMO   2018-01-01       1520173          K6412         BOGOTA   \n",
       "\n",
       "  EMPCONSUL_EST       TIPO EMPCONSUL_CIIU_CLASE CLASE  \\\n",
       "0        ACTIVA  Promocion                 4921  4921   \n",
       "1        ACTIVA  Promocion                 8121  8121   \n",
       "2   CANCELACIËN  Promocion                 6412  6412   \n",
       "\n",
       "                                        SECCION_DESC  \n",
       "0                        TRANSPORTE Y ALMACENAMIENTO  \n",
       "1  ACTIVIDADES DE SERVICIOS ADMINISTRATIVOS Y DE ...  \n",
       "2               ACTIVIDADES FINANCIERAS Y DE SEGUROS  "
      ]
     },
     "execution_count": 79,
     "metadata": {},
     "output_type": "execute_result"
    }
   ],
   "source": [
    "df_cons.head(3)"
   ]
  },
  {
   "cell_type": "code",
   "execution_count": 80,
   "id": "electronic-equipment",
   "metadata": {},
   "outputs": [
    {
     "data": {
      "text/plain": [
       "IDCONSUMO                   0\n",
       "IDUSUARIO                   0\n",
       "IDPRODUCTO                  0\n",
       "DESCPRODUCTO                0\n",
       "IDGRUPOPROD                 0\n",
       "DESCGRUPOPROD               0\n",
       "FECHACONSUMO                0\n",
       "EMPCONSUL_ID                0\n",
       "EMPCONSUL_CIIU              0\n",
       "EMPCONSUL_PROV              0\n",
       "EMPCONSUL_EST               0\n",
       "TIPO                        0\n",
       "EMPCONSUL_CIIU_CLASE        0\n",
       "CLASE                   42521\n",
       "SECCION_DESC            42521\n",
       "dtype: int64"
      ]
     },
     "execution_count": 80,
     "metadata": {},
     "output_type": "execute_result"
    }
   ],
   "source": [
    "df_cons.isna().sum()"
   ]
  },
  {
   "cell_type": "markdown",
   "id": "floral-excerpt",
   "metadata": {},
   "source": [
    "**Los restantes se considerarán como sin identificar (SD)**"
   ]
  },
  {
   "cell_type": "code",
   "execution_count": 81,
   "id": "enclosed-computer",
   "metadata": {},
   "outputs": [],
   "source": [
    "df_cons.drop(['CLASE','EMPCONSUL_CIIU_CLASE'], axis = 1, inplace = True)"
   ]
  },
  {
   "cell_type": "code",
   "execution_count": 82,
   "id": "conditional-greensboro",
   "metadata": {},
   "outputs": [],
   "source": [
    "df_cons.loc[(df_cons['SECCION_DESC'].isna()), 'SECCION_DESC'] = 'SD'"
   ]
  },
  {
   "cell_type": "markdown",
   "id": "embedded-arabic",
   "metadata": {},
   "source": [
    "Comprobacion"
   ]
  },
  {
   "cell_type": "code",
   "execution_count": 83,
   "id": "overhead-funds",
   "metadata": {},
   "outputs": [
    {
     "data": {
      "text/plain": [
       "IDCONSUMO         0\n",
       "IDUSUARIO         0\n",
       "IDPRODUCTO        0\n",
       "DESCPRODUCTO      0\n",
       "IDGRUPOPROD       0\n",
       "DESCGRUPOPROD     0\n",
       "FECHACONSUMO      0\n",
       "EMPCONSUL_ID      0\n",
       "EMPCONSUL_CIIU    0\n",
       "EMPCONSUL_PROV    0\n",
       "EMPCONSUL_EST     0\n",
       "TIPO              0\n",
       "SECCION_DESC      0\n",
       "dtype: int64"
      ]
     },
     "execution_count": 83,
     "metadata": {},
     "output_type": "execute_result"
    }
   ],
   "source": [
    "df_cons.isna().sum()"
   ]
  },
  {
   "cell_type": "markdown",
   "id": "loaded-medicare",
   "metadata": {},
   "source": [
    "**Simplificaremos los valores del campo añadido reduciendo las descripciones, segun los sectores económicos a los que pertenecen**:\n",
    "* **Sector primario**: el que obtiene productos directamente de la naturaleza, materias primas, creaciones, etc.\n",
    "* **Sector secundario**: el que transforma materias primas en productos terminados o semielaborados.\n",
    "* **Sector terciario**: es considerado como sector de servicios ya que no produce bienes, sino servicios.\n",
    "* **Sector cuaternario**: produce servicios relacionados con la información y el conocimiento tales como investigación, desarrollo, e innovación.\n",
    "* **Sector quinario**: actividades que no suelen medirse en términos monetarios, pero son una contribución fundamental a la economía.  Incluye los servicios sanitarios, la seguridad, los servicios de emergencia (bomberos, paramédicos), la educación, la cultura, la investigación y otros servicios sociales; si bien muchas de estas actividades se incluyen usualmente en el sector terciario y cuaternario. El sector quinario también incluye actividades domésticas "
   ]
  },
  {
   "cell_type": "code",
   "execution_count": 84,
   "id": "starting-liabilities",
   "metadata": {},
   "outputs": [],
   "source": [
    "df_cons['EMPCONSUL_SECTOR_ECONOMICO'] = None"
   ]
  },
  {
   "cell_type": "code",
   "execution_count": 85,
   "id": "productive-fellow",
   "metadata": {},
   "outputs": [],
   "source": [
    "# PRIMARIO\n",
    "df_cons.loc[(df_cons['SECCION_DESC'].isin(['AGRICULTURA, GANADERÍA, CAZA, SILVICULTURA Y PESCA',\n",
    "                                           'EXPLOTACIÓN DE MINAS Y CANTERAS'])), 'EMPCONSUL_SECTOR_ECONOMICO'] = 'PRIMARIO'\n",
    "# SECUNDARIO\n",
    "df_cons.loc[(df_cons['SECCION_DESC'].isin(['INDUSTRIAS MANUFACTURERAS',\n",
    "                                           'CONSTRUCCIÓN',\n",
    "                                           'SUMINISTRO DE ELECTRICIDAD, GAS, VAPOR Y AIRE ACONDICIONADO',\n",
    "                                           'DISTRIBUCIÓN DE AGUA; EVACUACIÓN Y TRATAMIENTO DE AGUAS RESIDUALES, GESTIÓN DE DESECHOS Y ACTIVIDADES DE SANEAMIENTO AMBIENTAL'])), 'EMPCONSUL_SECTOR_ECONOMICO'] = 'SECUNDARIO'\n",
    "# TERCIARIO\n",
    "df_cons.loc[(df_cons['SECCION_DESC'].isin(['TRANSPORTE Y ALMACENAMIENTO',\n",
    "                                           'ACTIVIDADES DE SERVICIOS ADMINISTRATIVOS Y DE APOYO',\n",
    "                                           'ACTIVIDADES FINANCIERAS Y DE SEGUROS',\n",
    "                                           'OTRAS ACTIVIDADES DE SERVICIOS',\n",
    "                                           'COMERCIO AL POR MAYOR Y AL POR MENOR; REPARACIÓN DE VEHÍCULOS AUTOMOTORES Y MOTOCICLETAS',\n",
    "                                           'INFORMACIÓN Y COMUNICACIONES',\n",
    "                                           'ALOJAMIENTO Y SERVICIOS DE COMIDA',\n",
    "                                           'ACTIVIDADES INMOBILIARIAS',\n",
    "                                           'ACTIVIDADES DE ORGANIZACIONES Y ENTIDADES EXTRATERRITORIALES',\n",
    "                                           'ACTIVIDADES ARTÍSTICAS, DE ENTRETENIMIENTO Y RECREACIÓN'])), 'EMPCONSUL_SECTOR_ECONOMICO'] = 'TERCIARIO'\n",
    "# CUATERNARIO\n",
    "df_cons.loc[(df_cons['SECCION_DESC'].isin(['ACTIVIDADES PROFESIONALES, CIENTÍFICAS Y TÉCNICAS'])), 'EMPCONSUL_SECTOR_ECONOMICO'] = 'CUATERNARIO'\n",
    "# QUINARIO\n",
    "df_cons.loc[(df_cons['SECCION_DESC'].isin(['EDUCACIÓN',\n",
    "                                           'ACTIVIDADES DE ATENCIÓN DE LA SALUD HUMANA Y DE ASISTENCIA SOCIAL',\n",
    "                                           'ADMINISTRACIÓN PÚBLICA Y DEFENSA; PLANES DE SEGURIDAD SOCIAL DE AFILIACIÓN OBLIGATORIA',\n",
    "                                           'ACTIVIDADES DE LOS HOGARES INDIVIDUALES EN CALIDAD DE EMPLEADORES; ACTIVIDADES NO DIFERENCIADAS DE LOS HOGARES INDIVIDUALES COMO PRODUCTORES DE BIENES Y SERVICIOS PARA USO PROPIO'])), 'EMPCONSUL_SECTOR_ECONOMICO'] = 'QUINARIO'\n",
    "# SIN DEFINIR\n",
    "df_cons.loc[(df_cons['SECCION_DESC'].isin(['SD'])), 'EMPCONSUL_SECTOR_ECONOMICO'] = 'SD'"
   ]
  },
  {
   "cell_type": "markdown",
   "id": "challenging-nation",
   "metadata": {},
   "source": [
    "Comprobacion"
   ]
  },
  {
   "cell_type": "code",
   "execution_count": 86,
   "id": "hundred-practitioner",
   "metadata": {},
   "outputs": [
    {
     "data": {
      "image/png": "[encoded data removed]",
      "text/plain": [
       "<Figure size 432x288 with 1 Axes>"
      ]
     },
     "metadata": {
      "needs_background": "light"
     },
     "output_type": "display_data"
    }
   ],
   "source": [
    "df_cons['EMPCONSUL_SECTOR_ECONOMICO'].value_counts().plot(kind = 'bar')\n",
    "plt.title('Distribución Registros por Sector económico')    \n",
    "plt.grid()\n",
    "plt.show()"
   ]
  },
  {
   "cell_type": "code",
   "execution_count": 87,
   "id": "private-athletics",
   "metadata": {},
   "outputs": [],
   "source": [
    "df_cons.drop(['SECCION_DESC'], axis = 1, inplace = True)"
   ]
  },
  {
   "cell_type": "markdown",
   "id": "nonprofit-finish",
   "metadata": {},
   "source": [
    "-------------------------------------------------"
   ]
  },
  {
   "cell_type": "markdown",
   "id": "renewable-solid",
   "metadata": {},
   "source": [
    "**3. EMPCONSUL_EST**"
   ]
  },
  {
   "cell_type": "markdown",
   "id": "forced-lightning",
   "metadata": {},
   "source": [
    "Analizaremos los posibles valores de la variable EMPCONSUL_EST, con el objetivo de realizar agrupaciones"
   ]
  },
  {
   "cell_type": "code",
   "execution_count": 88,
   "id": "american-canon",
   "metadata": {},
   "outputs": [
    {
     "data": {
      "text/plain": [
       "array(['ACTIVA', 'CANCELACIËN', 'LIQUIDACION',\n",
       "       'LEY DE INSOLVENCIA (REORGANIZACION EMPRESARIAL)', 'EXTINGUIDA',\n",
       "       'INTERVENIDA', 'NI', 'INACTIVA TEMPORAL',\n",
       "       'REESTRUCTURACION O CONCORDATO',\n",
       "       'COINCIDENCIA HOMOGRAFA LISTA CLINTON (SDNT OFAC)',\n",
       "       'ANULACIËN LIQUIDACIËN', 'ABSORBIDA', 'SALIDA CLINTON (SDNT OFAC)',\n",
       "       'DISUELTA'], dtype=object)"
      ]
     },
     "execution_count": 88,
     "metadata": {},
     "output_type": "execute_result"
    }
   ],
   "source": [
    "df_cons['EMPCONSUL_EST'].unique()"
   ]
  },
  {
   "cell_type": "markdown",
   "id": "eastern-imagination",
   "metadata": {},
   "source": [
    "**En primer lugar reemplazamos los caracteres raros**"
   ]
  },
  {
   "cell_type": "code",
   "execution_count": 89,
   "id": "divine-rover",
   "metadata": {},
   "outputs": [],
   "source": [
    "df_cons['EMPCONSUL_EST'] = df_cons['EMPCONSUL_EST'].apply(lambda x: x.replace('Ë','O'))"
   ]
  },
  {
   "cell_type": "markdown",
   "id": "hispanic-aruba",
   "metadata": {},
   "source": [
    "Comprobacion"
   ]
  },
  {
   "cell_type": "code",
   "execution_count": 90,
   "id": "canadian-booking",
   "metadata": {},
   "outputs": [
    {
     "data": {
      "text/plain": [
       "array(['ACTIVA', 'CANCELACION', 'LIQUIDACION',\n",
       "       'LEY DE INSOLVENCIA (REORGANIZACION EMPRESARIAL)', 'EXTINGUIDA',\n",
       "       'INTERVENIDA', 'NI', 'INACTIVA TEMPORAL',\n",
       "       'REESTRUCTURACION O CONCORDATO',\n",
       "       'COINCIDENCIA HOMOGRAFA LISTA CLINTON (SDNT OFAC)',\n",
       "       'ANULACION LIQUIDACION', 'ABSORBIDA', 'SALIDA CLINTON (SDNT OFAC)',\n",
       "       'DISUELTA'], dtype=object)"
      ]
     },
     "execution_count": 90,
     "metadata": {},
     "output_type": "execute_result"
    }
   ],
   "source": [
    "df_cons['EMPCONSUL_EST'].unique()"
   ]
  },
  {
   "cell_type": "code",
   "execution_count": 91,
   "id": "tutorial-fisher",
   "metadata": {},
   "outputs": [
    {
     "data": {
      "text/plain": [
       "ACTIVA                                              788140\n",
       "CANCELACION                                         107632\n",
       "LIQUIDACION                                          39987\n",
       "LEY DE INSOLVENCIA (REORGANIZACION EMPRESARIAL)      11096\n",
       "EXTINGUIDA                                            7275\n",
       "INACTIVA TEMPORAL                                     4179\n",
       "NI                                                    2875\n",
       "REESTRUCTURACION O CONCORDATO                          588\n",
       "INTERVENIDA                                            463\n",
       "COINCIDENCIA HOMOGRAFA LISTA CLINTON (SDNT OFAC)       110\n",
       "ABSORBIDA                                               19\n",
       "ANULACION LIQUIDACION                                   18\n",
       "SALIDA CLINTON (SDNT OFAC)                               7\n",
       "DISUELTA                                                 3\n",
       "Name: EMPCONSUL_EST, dtype: int64"
      ]
     },
     "execution_count": 91,
     "metadata": {},
     "output_type": "execute_result"
    }
   ],
   "source": [
    "df_cons['EMPCONSUL_EST'].value_counts()"
   ]
  },
  {
   "cell_type": "code",
   "execution_count": 92,
   "id": "public-logging",
   "metadata": {},
   "outputs": [
    {
     "data": {
      "image/png": "[encoded data removed]",
      "text/plain": [
       "<Figure size 432x288 with 1 Axes>"
      ]
     },
     "metadata": {
      "needs_background": "light"
     },
     "output_type": "display_data"
    }
   ],
   "source": [
    "df_cons['EMPCONSUL_EST'].value_counts()[1:].plot(kind = 'bar')\n",
    "plt.title('Distribución Registros por Tipo Estado')    \n",
    "plt.grid()\n",
    "plt.show()"
   ]
  },
  {
   "cell_type": "markdown",
   "id": "vertical-fraction",
   "metadata": {},
   "source": [
    "**Realizamos las transformaciones**\n",
    "\n",
    "Agruparemos por conceptos similares."
   ]
  },
  {
   "cell_type": "code",
   "execution_count": 93,
   "id": "pharmaceutical-macedonia",
   "metadata": {},
   "outputs": [],
   "source": [
    "# Agrupamos: CANCELACIÓN, LIQUIDACION, EXTINGUIDA y INACTIVA TEMPORAL\n",
    "df_cons.loc[(df_cons['EMPCONSUL_EST'].isin(['CANCELACION', 'LIQUIDACION', 'EXTINGUIDA', 'INACTIVA TEMPORAL','ABSORBIDA','DISUELTA'])), 'EMPCONSUL_EST'] = 'INACTIVA'"
   ]
  },
  {
   "cell_type": "code",
   "execution_count": 94,
   "id": "assisted-dakota",
   "metadata": {},
   "outputs": [],
   "source": [
    "# Agrupamos: ANULACIÓN LIQUIDACIÓN y ACTIVA\n",
    "df_cons.loc[(df_cons['EMPCONSUL_EST'].isin(['ANULACION LIQUIDACION'])), 'EMPCONSUL_EST'] = 'ACTIVA'"
   ]
  },
  {
   "cell_type": "code",
   "execution_count": 95,
   "id": "extended-amino",
   "metadata": {},
   "outputs": [],
   "source": [
    "# Agrupamos: REESTRUCTURACION O CONCORDATO, INTERVENIDA y LEY DE INSOLVENCIA (REORGANIZACION EMPRESARIAL)\n",
    "df_cons.loc[(df_cons['EMPCONSUL_EST'].isin(['REESTRUCTURACION O CONCORDATO','LEY DE INSOLVENCIA (REORGANIZACION EMPRESARIAL)','INTERVENIDA'])), 'EMPCONSUL_EST'] = 'REESTRUCTURACION'"
   ]
  },
  {
   "cell_type": "code",
   "execution_count": 96,
   "id": "super-significance",
   "metadata": {},
   "outputs": [],
   "source": [
    "# Agrupamos: COINCIDENCIA HOMOGRAFA LISTA CLINTON (SDNT OFAC) y SALIDA CLINTON (SDNT OFAC)\n",
    "df_cons.loc[(df_cons['EMPCONSUL_EST'].isin(['COINCIDENCIA HOMOGRAFA LISTA CLINTON (SDNT OFAC)','SALIDA CLINTON (SDNT OFAC)'])), 'EMPCONSUL_EST'] = 'RELACION_CLINTON'"
   ]
  },
  {
   "cell_type": "markdown",
   "id": "general-capability",
   "metadata": {},
   "source": [
    "**Comprobación**"
   ]
  },
  {
   "cell_type": "code",
   "execution_count": 97,
   "id": "fatty-inclusion",
   "metadata": {},
   "outputs": [
    {
     "data": {
      "text/plain": [
       "array(['ACTIVA', 'INACTIVA', 'REESTRUCTURACION', 'NI', 'RELACION_CLINTON'],\n",
       "      dtype=object)"
      ]
     },
     "execution_count": 97,
     "metadata": {},
     "output_type": "execute_result"
    }
   ],
   "source": [
    "df_cons['EMPCONSUL_EST'].unique()"
   ]
  },
  {
   "cell_type": "code",
   "execution_count": 98,
   "id": "phantom-prague",
   "metadata": {},
   "outputs": [
    {
     "data": {
      "text/plain": [
       "ACTIVA              788158\n",
       "INACTIVA            159095\n",
       "REESTRUCTURACION     12147\n",
       "NI                    2875\n",
       "RELACION_CLINTON       117\n",
       "Name: EMPCONSUL_EST, dtype: int64"
      ]
     },
     "execution_count": 98,
     "metadata": {},
     "output_type": "execute_result"
    }
   ],
   "source": [
    "df_cons['EMPCONSUL_EST'].value_counts()"
   ]
  },
  {
   "cell_type": "code",
   "execution_count": 99,
   "id": "romantic-cause",
   "metadata": {},
   "outputs": [
    {
     "data": {
      "text/plain": [
       "ACTIVA              788158\n",
       "INACTIVA            159095\n",
       "REESTRUCTURACION     12147\n",
       "NI                    2875\n",
       "RELACION_CLINTON       117\n",
       "Name: EMPCONSUL_EST, dtype: int64"
      ]
     },
     "execution_count": 99,
     "metadata": {},
     "output_type": "execute_result"
    }
   ],
   "source": [
    "df_cons['EMPCONSUL_EST'].value_counts()"
   ]
  },
  {
   "cell_type": "code",
   "execution_count": 100,
   "id": "descending-mixer",
   "metadata": {},
   "outputs": [
    {
     "data": {
      "image/png": "[encoded data removed]",
      "text/plain": [
       "<Figure size 432x288 with 1 Axes>"
      ]
     },
     "metadata": {
      "needs_background": "light"
     },
     "output_type": "display_data"
    }
   ],
   "source": [
    "df_cons['EMPCONSUL_EST'].value_counts().plot(kind = 'bar')\n",
    "plt.title('Distribución Registros por Tipo de Estados')    \n",
    "plt.grid()\n",
    "plt.show()"
   ]
  },
  {
   "cell_type": "markdown",
   "id": "about-cigarette",
   "metadata": {},
   "source": [
    "-------------------------------------------------"
   ]
  },
  {
   "cell_type": "markdown",
   "id": "quiet-workplace",
   "metadata": {},
   "source": [
    "-------------------------------------------------"
   ]
  },
  {
   "cell_type": "markdown",
   "id": "different-remedy",
   "metadata": {},
   "source": [
    "### Revisión Duplicidad"
   ]
  },
  {
   "cell_type": "markdown",
   "id": "greatest-relaxation",
   "metadata": {},
   "source": [
    "Tras la limpieza y adecuación de la información, realizaremos una revisión de la duplicidad de la información, pero esta vez entendiendo que en un mismo día no puede haber un consumo de un mismo producto 2 veces igual.\n",
    "\n",
    "En este caso debemos tener en cuenta el tipo de PRODUCTO, FECHACOSNUMO y EMPRESA CONSULTADA."
   ]
  },
  {
   "cell_type": "code",
   "execution_count": 101,
   "id": "preliminary-smoke",
   "metadata": {},
   "outputs": [
    {
     "data": {
      "text/plain": [
       "110156"
      ]
     },
     "execution_count": 101,
     "metadata": {},
     "output_type": "execute_result"
    }
   ],
   "source": [
    "df_cons.loc[:, df_cons.columns != 'IDCONSUMO'].duplicated().sum()"
   ]
  },
  {
   "cell_type": "markdown",
   "id": "nervous-cartridge",
   "metadata": {},
   "source": [
    "En este caso entendemos que existe una incidencia con el IDCONSUMO, de forma que eliminaremos la información duplicada."
   ]
  },
  {
   "cell_type": "code",
   "execution_count": 102,
   "id": "chubby-double",
   "metadata": {},
   "outputs": [
    {
     "data": {
      "text/plain": [
       "(962392, 13)"
      ]
     },
     "execution_count": 102,
     "metadata": {},
     "output_type": "execute_result"
    }
   ],
   "source": [
    "df_cons.shape"
   ]
  },
  {
   "cell_type": "code",
   "execution_count": 103,
   "id": "transsexual-official",
   "metadata": {},
   "outputs": [],
   "source": [
    "df_cons.drop_duplicates(subset = ['IDUSUARIO', 'IDPRODUCTO', 'DESCPRODUCTO', 'IDGRUPOPROD','DESCGRUPOPROD', 'FECHACONSUMO', 'EMPCONSUL_ID', 'EMPCONSUL_CIIU',\n",
    "                                  'EMPCONSUL_PROV', 'EMPCONSUL_EST', 'TIPO','EMPCONSUL_SECTOR_ECONOMICO'], inplace = True, ignore_index = True)"
   ]
  },
  {
   "cell_type": "code",
   "execution_count": 104,
   "id": "incorporated-reality",
   "metadata": {},
   "outputs": [
    {
     "data": {
      "text/plain": [
       "(852236, 13)"
      ]
     },
     "execution_count": 104,
     "metadata": {},
     "output_type": "execute_result"
    }
   ],
   "source": [
    "df_cons.shape"
   ]
  },
  {
   "cell_type": "code",
   "execution_count": 105,
   "id": "victorian-zealand",
   "metadata": {},
   "outputs": [
    {
     "data": {
      "text/plain": [
       "0"
      ]
     },
     "execution_count": 105,
     "metadata": {},
     "output_type": "execute_result"
    }
   ],
   "source": [
    "df_cons.loc[:, df_cons.columns != 'IDCONSUMO'].duplicated().sum()"
   ]
  },
  {
   "cell_type": "markdown",
   "id": "employed-tobacco",
   "metadata": {},
   "source": [
    "-------------------------------------------------"
   ]
  },
  {
   "cell_type": "markdown",
   "id": "excellent-viewer",
   "metadata": {},
   "source": [
    "-------------------------------------------------"
   ]
  },
  {
   "cell_type": "markdown",
   "id": "speaking-lancaster",
   "metadata": {},
   "source": [
    "### Renombramos y ordenamos columnas"
   ]
  },
  {
   "cell_type": "code",
   "execution_count": 106,
   "id": "acting-renaissance",
   "metadata": {},
   "outputs": [],
   "source": [
    "df_cons.rename(columns = {'TIPO': 'TIPO_CONSUMO'}, inplace = True)"
   ]
  },
  {
   "cell_type": "code",
   "execution_count": 107,
   "id": "impressed-postcard",
   "metadata": {},
   "outputs": [
    {
     "data": {
      "text/html": [
       "<div>\n",
       "<style scoped>\n",
       "    .dataframe tbody tr th:only-of-type {\n",
       "        vertical-align: middle;\n",
       "    }\n",
       "\n",
       "    .dataframe tbody tr th {\n",
       "        vertical-align: top;\n",
       "    }\n",
       "\n",
       "    .dataframe thead th {\n",
       "        text-align: right;\n",
       "    }\n",
       "</style>\n",
       "<table border=\"1\" class=\"dataframe\">\n",
       "  <thead>\n",
       "    <tr style=\"text-align: right;\">\n",
       "      <th></th>\n",
       "      <th>IDCONSUMO</th>\n",
       "      <th>IDUSUARIO</th>\n",
       "      <th>IDPRODUCTO</th>\n",
       "      <th>DESCPRODUCTO</th>\n",
       "      <th>IDGRUPOPROD</th>\n",
       "      <th>DESCGRUPOPROD</th>\n",
       "      <th>FECHACONSUMO</th>\n",
       "      <th>EMPCONSUL_ID</th>\n",
       "      <th>EMPCONSUL_CIIU</th>\n",
       "      <th>EMPCONSUL_PROV</th>\n",
       "      <th>EMPCONSUL_EST</th>\n",
       "      <th>TIPO_CONSUMO</th>\n",
       "      <th>EMPCONSUL_SECTOR_ECONOMICO</th>\n",
       "    </tr>\n",
       "  </thead>\n",
       "  <tbody>\n",
       "    <tr>\n",
       "      <th>0</th>\n",
       "      <td>40057306</td>\n",
       "      <td>6868835</td>\n",
       "      <td>144920</td>\n",
       "      <td>PERFIL PROMOCIONAL</td>\n",
       "      <td>144920</td>\n",
       "      <td>PERF_PROMO</td>\n",
       "      <td>2018-01-01</td>\n",
       "      <td>986515</td>\n",
       "      <td>H4921</td>\n",
       "      <td>ATLANTICO</td>\n",
       "      <td>ACTIVA</td>\n",
       "      <td>Promocion</td>\n",
       "      <td>TERCIARIO</td>\n",
       "    </tr>\n",
       "    <tr>\n",
       "      <th>1</th>\n",
       "      <td>40057715</td>\n",
       "      <td>6868838</td>\n",
       "      <td>144920</td>\n",
       "      <td>PERFIL PROMOCIONAL</td>\n",
       "      <td>144920</td>\n",
       "      <td>PERF_PROMO</td>\n",
       "      <td>2018-01-01</td>\n",
       "      <td>102614</td>\n",
       "      <td>N8121</td>\n",
       "      <td>BOGOTA</td>\n",
       "      <td>ACTIVA</td>\n",
       "      <td>Promocion</td>\n",
       "      <td>TERCIARIO</td>\n",
       "    </tr>\n",
       "    <tr>\n",
       "      <th>2</th>\n",
       "      <td>40057785</td>\n",
       "      <td>6868841</td>\n",
       "      <td>144917</td>\n",
       "      <td>FICHA BASICA</td>\n",
       "      <td>144917</td>\n",
       "      <td>FICH_PROMO</td>\n",
       "      <td>2018-01-01</td>\n",
       "      <td>1520173</td>\n",
       "      <td>K6412</td>\n",
       "      <td>BOGOTA</td>\n",
       "      <td>INACTIVA</td>\n",
       "      <td>Promocion</td>\n",
       "      <td>TERCIARIO</td>\n",
       "    </tr>\n",
       "  </tbody>\n",
       "</table>\n",
       "</div>"
      ],
      "text/plain": [
       "   IDCONSUMO  IDUSUARIO  IDPRODUCTO        DESCPRODUCTO  IDGRUPOPROD  \\\n",
       "0   40057306    6868835      144920  PERFIL PROMOCIONAL       144920   \n",
       "1   40057715    6868838      144920  PERFIL PROMOCIONAL       144920   \n",
       "2   40057785    6868841      144917        FICHA BASICA       144917   \n",
       "\n",
       "  DESCGRUPOPROD FECHACONSUMO  EMPCONSUL_ID EMPCONSUL_CIIU EMPCONSUL_PROV  \\\n",
       "0    PERF_PROMO   2018-01-01        986515          H4921      ATLANTICO   \n",
       "1    PERF_PROMO   2018-01-01        102614          N8121         BOGOTA   \n",
       "2    FICH_PROMO   2018-01-01       1520173          K6412         BOGOTA   \n",
       "\n",
       "  EMPCONSUL_EST TIPO_CONSUMO EMPCONSUL_SECTOR_ECONOMICO  \n",
       "0        ACTIVA    Promocion                  TERCIARIO  \n",
       "1        ACTIVA    Promocion                  TERCIARIO  \n",
       "2      INACTIVA    Promocion                  TERCIARIO  "
      ]
     },
     "execution_count": 107,
     "metadata": {},
     "output_type": "execute_result"
    }
   ],
   "source": [
    "df_cons.head(3)"
   ]
  },
  {
   "cell_type": "markdown",
   "id": "liked-white",
   "metadata": {},
   "source": [
    "**Ordenamos columnas**"
   ]
  },
  {
   "cell_type": "code",
   "execution_count": 108,
   "id": "adolescent-validation",
   "metadata": {},
   "outputs": [
    {
     "data": {
      "text/plain": [
       "Index(['IDCONSUMO', 'IDUSUARIO', 'IDPRODUCTO', 'DESCPRODUCTO', 'IDGRUPOPROD',\n",
       "       'DESCGRUPOPROD', 'FECHACONSUMO', 'EMPCONSUL_ID', 'EMPCONSUL_CIIU',\n",
       "       'EMPCONSUL_PROV', 'EMPCONSUL_EST', 'TIPO_CONSUMO',\n",
       "       'EMPCONSUL_SECTOR_ECONOMICO'],\n",
       "      dtype='object')"
      ]
     },
     "execution_count": 108,
     "metadata": {},
     "output_type": "execute_result"
    }
   ],
   "source": [
    "df_cons.columns"
   ]
  },
  {
   "cell_type": "code",
   "execution_count": 109,
   "id": "competent-greenhouse",
   "metadata": {},
   "outputs": [
    {
     "data": {
      "text/plain": [
       "13"
      ]
     },
     "execution_count": 109,
     "metadata": {},
     "output_type": "execute_result"
    }
   ],
   "source": [
    "len(df_cons.columns)"
   ]
  },
  {
   "cell_type": "code",
   "execution_count": 110,
   "id": "humanitarian-experience",
   "metadata": {},
   "outputs": [],
   "source": [
    "df_cons = df_cons[['IDCONSUMO','IDUSUARIO','IDPRODUCTO','DESCPRODUCTO','IDGRUPOPROD','DESCGRUPOPROD','FECHACONSUMO',\n",
    "                   'TIPO_CONSUMO','EMPCONSUL_ID','EMPCONSUL_EST','EMPCONSUL_SECTOR_ECONOMICO','EMPCONSUL_PROV']]"
   ]
  },
  {
   "cell_type": "markdown",
   "id": "heated-edgar",
   "metadata": {},
   "source": [
    "Comprobacion"
   ]
  },
  {
   "cell_type": "code",
   "execution_count": 111,
   "id": "listed-overview",
   "metadata": {},
   "outputs": [
    {
     "data": {
      "text/html": [
       "<div>\n",
       "<style scoped>\n",
       "    .dataframe tbody tr th:only-of-type {\n",
       "        vertical-align: middle;\n",
       "    }\n",
       "\n",
       "    .dataframe tbody tr th {\n",
       "        vertical-align: top;\n",
       "    }\n",
       "\n",
       "    .dataframe thead th {\n",
       "        text-align: right;\n",
       "    }\n",
       "</style>\n",
       "<table border=\"1\" class=\"dataframe\">\n",
       "  <thead>\n",
       "    <tr style=\"text-align: right;\">\n",
       "      <th></th>\n",
       "      <th>IDCONSUMO</th>\n",
       "      <th>IDUSUARIO</th>\n",
       "      <th>IDPRODUCTO</th>\n",
       "      <th>DESCPRODUCTO</th>\n",
       "      <th>IDGRUPOPROD</th>\n",
       "      <th>DESCGRUPOPROD</th>\n",
       "      <th>FECHACONSUMO</th>\n",
       "      <th>TIPO_CONSUMO</th>\n",
       "      <th>EMPCONSUL_ID</th>\n",
       "      <th>EMPCONSUL_EST</th>\n",
       "      <th>EMPCONSUL_SECTOR_ECONOMICO</th>\n",
       "      <th>EMPCONSUL_PROV</th>\n",
       "    </tr>\n",
       "  </thead>\n",
       "  <tbody>\n",
       "    <tr>\n",
       "      <th>0</th>\n",
       "      <td>40057306</td>\n",
       "      <td>6868835</td>\n",
       "      <td>144920</td>\n",
       "      <td>PERFIL PROMOCIONAL</td>\n",
       "      <td>144920</td>\n",
       "      <td>PERF_PROMO</td>\n",
       "      <td>2018-01-01</td>\n",
       "      <td>Promocion</td>\n",
       "      <td>986515</td>\n",
       "      <td>ACTIVA</td>\n",
       "      <td>TERCIARIO</td>\n",
       "      <td>ATLANTICO</td>\n",
       "    </tr>\n",
       "    <tr>\n",
       "      <th>1</th>\n",
       "      <td>40057715</td>\n",
       "      <td>6868838</td>\n",
       "      <td>144920</td>\n",
       "      <td>PERFIL PROMOCIONAL</td>\n",
       "      <td>144920</td>\n",
       "      <td>PERF_PROMO</td>\n",
       "      <td>2018-01-01</td>\n",
       "      <td>Promocion</td>\n",
       "      <td>102614</td>\n",
       "      <td>ACTIVA</td>\n",
       "      <td>TERCIARIO</td>\n",
       "      <td>BOGOTA</td>\n",
       "    </tr>\n",
       "    <tr>\n",
       "      <th>2</th>\n",
       "      <td>40057785</td>\n",
       "      <td>6868841</td>\n",
       "      <td>144917</td>\n",
       "      <td>FICHA BASICA</td>\n",
       "      <td>144917</td>\n",
       "      <td>FICH_PROMO</td>\n",
       "      <td>2018-01-01</td>\n",
       "      <td>Promocion</td>\n",
       "      <td>1520173</td>\n",
       "      <td>INACTIVA</td>\n",
       "      <td>TERCIARIO</td>\n",
       "      <td>BOGOTA</td>\n",
       "    </tr>\n",
       "  </tbody>\n",
       "</table>\n",
       "</div>"
      ],
      "text/plain": [
       "   IDCONSUMO  IDUSUARIO  IDPRODUCTO        DESCPRODUCTO  IDGRUPOPROD  \\\n",
       "0   40057306    6868835      144920  PERFIL PROMOCIONAL       144920   \n",
       "1   40057715    6868838      144920  PERFIL PROMOCIONAL       144920   \n",
       "2   40057785    6868841      144917        FICHA BASICA       144917   \n",
       "\n",
       "  DESCGRUPOPROD FECHACONSUMO TIPO_CONSUMO  EMPCONSUL_ID EMPCONSUL_EST  \\\n",
       "0    PERF_PROMO   2018-01-01    Promocion        986515        ACTIVA   \n",
       "1    PERF_PROMO   2018-01-01    Promocion        102614        ACTIVA   \n",
       "2    FICH_PROMO   2018-01-01    Promocion       1520173      INACTIVA   \n",
       "\n",
       "  EMPCONSUL_SECTOR_ECONOMICO EMPCONSUL_PROV  \n",
       "0                  TERCIARIO      ATLANTICO  \n",
       "1                  TERCIARIO         BOGOTA  \n",
       "2                  TERCIARIO         BOGOTA  "
      ]
     },
     "execution_count": 111,
     "metadata": {},
     "output_type": "execute_result"
    }
   ],
   "source": [
    "df_cons.head(3)"
   ]
  },
  {
   "cell_type": "markdown",
   "id": "boring-walnut",
   "metadata": {},
   "source": [
    "-------------------------------------------------"
   ]
  },
  {
   "cell_type": "markdown",
   "id": "clean-confidence",
   "metadata": {},
   "source": [
    "-------------------------------------------------"
   ]
  },
  {
   "cell_type": "markdown",
   "id": "technological-graham",
   "metadata": {},
   "source": [
    "### Análisis Final"
   ]
  },
  {
   "cell_type": "code",
   "execution_count": 112,
   "id": "understanding-lyric",
   "metadata": {},
   "outputs": [
    {
     "data": {
      "application/vnd.jupyter.widget-view+json": {
       "model_id": "3847aebb5cbb47b9b80484fefcd32846",
       "version_major": 2,
       "version_minor": 0
      },
      "text/plain": [
       "Summarize dataset:   0%|          | 0/26 [00:00<?, ?it/s]"
      ]
     },
     "metadata": {},
     "output_type": "display_data"
    },
    {
     "data": {
      "application/vnd.jupyter.widget-view+json": {
       "model_id": "be41eebabc024df5bd5864ed2a827bdc",
       "version_major": 2,
       "version_minor": 0
      },
      "text/plain": [
       "Generate report structure:   0%|          | 0/1 [00:00<?, ?it/s]"
      ]
     },
     "metadata": {},
     "output_type": "display_data"
    },
    {
     "data": {
      "application/vnd.jupyter.widget-view+json": {
       "model_id": "d5ea2bf5c80741e88fc275b612d708ea",
       "version_major": 2,
       "version_minor": 0
      },
      "text/plain": [
       "Render HTML:   0%|          | 0/1 [00:00<?, ?it/s]"
      ]
     },
     "metadata": {},
     "output_type": "display_data"
    },
    {
     "data": {
      "application/vnd.jupyter.widget-view+json": {
       "model_id": "21d3caa995234108a3d9d66ec528eb8b",
       "version_major": 2,
       "version_minor": 0
      },
      "text/plain": [
       "Export report to file:   0%|          | 0/1 [00:00<?, ?it/s]"
      ]
     },
     "metadata": {},
     "output_type": "display_data"
    }
   ],
   "source": [
    "profile = ProfileReport(df_cons)\n",
    "profile.to_file('report_cons_clean.html')"
   ]
  },
  {
   "cell_type": "markdown",
   "id": "studied-colony",
   "metadata": {},
   "source": [
    "-------------------------------------------------"
   ]
  },
  {
   "cell_type": "markdown",
   "id": "chicken-variance",
   "metadata": {},
   "source": [
    "-------------------------------------------------"
   ]
  },
  {
   "cell_type": "markdown",
   "id": "limiting-matthew",
   "metadata": {},
   "source": [
    "### Reducción de dimensionabilidad"
   ]
  },
  {
   "cell_type": "markdown",
   "id": "crude-mustang",
   "metadata": {},
   "source": [
    "En este apartado simplificaremos el número de filas de nuestro dataset, reduciendo el número de filas al número de clientes diferentes sin perder a información que se tiene.\n",
    "\n",
    "Para ello lo que realizaremos es lo siguiente:\n",
    "\n",
    "Creamos una serie de variables:\n",
    "\n",
    "* El número total de consumos por grupo de producto consumidos por usuario en la fecha del primer consumo\n",
    "* El número total de consumos por usuario en la primera fecha de consummo\n",
    "* El numero de consumos por estado de empresa consultada por usuario en la fecha del primer consumo\n",
    "* El numero de consumos por sector economico de empresas a consultar por usuario en la fecha del primer consumo\n",
    "\n",
    "Además se eliminarán las columnas que no son consideradas necesarias."
   ]
  },
  {
   "cell_type": "markdown",
   "id": "alike-analysis",
   "metadata": {},
   "source": [
    "**A continuación se realizará una base sobre la que se trabajará el resto de variables**\n",
    "\n",
    "Para ello se debe marcar los registros de cada cliente en la fehca de su primer consumos, ya que lo que nos interesa es la información en primer lugar sobre losproductos consumidos en la primera fecha de consumicion"
   ]
  },
  {
   "cell_type": "code",
   "execution_count": 113,
   "id": "significant-remark",
   "metadata": {},
   "outputs": [],
   "source": [
    "df_cons_1a_cons = df_cons.sort_values(by = ['IDUSUARIO','FECHACONSUMO']).groupby(['IDUSUARIO'])[[\"IDUSUARIO\",\"FECHACONSUMO\"]].head(1)"
   ]
  },
  {
   "cell_type": "code",
   "execution_count": 114,
   "id": "scenic-destination",
   "metadata": {},
   "outputs": [],
   "source": [
    "df_cons_1a_cons['primer_con'] = 1"
   ]
  },
  {
   "cell_type": "markdown",
   "id": "artificial-viking",
   "metadata": {},
   "source": [
    "Marcamos la información"
   ]
  },
  {
   "cell_type": "code",
   "execution_count": 115,
   "id": "published-translator",
   "metadata": {},
   "outputs": [],
   "source": [
    "df_cons_base = pd.merge(left = df_cons, right = df_cons_1a_cons, how = \"left\", left_on = [\"IDUSUARIO\",\"FECHACONSUMO\"], right_on = [\"IDUSUARIO\",\"FECHACONSUMO\"])"
   ]
  },
  {
   "cell_type": "code",
   "execution_count": 116,
   "id": "skilled-hughes",
   "metadata": {},
   "outputs": [],
   "source": [
    "df_cons_base['primer_con'] = df_cons_base['primer_con'].fillna(0)"
   ]
  },
  {
   "cell_type": "code",
   "execution_count": 117,
   "id": "italian-sussex",
   "metadata": {},
   "outputs": [
    {
     "data": {
      "text/plain": [
       "1.0    661216\n",
       "0.0    191020\n",
       "Name: primer_con, dtype: int64"
      ]
     },
     "execution_count": 117,
     "metadata": {},
     "output_type": "execute_result"
    }
   ],
   "source": [
    "pd.value_counts(df_cons_base['primer_con'], sort = True)"
   ]
  },
  {
   "cell_type": "markdown",
   "id": "round-switch",
   "metadata": {},
   "source": [
    "Nos quedamos unicamente los consumos de la primera fecha de consumo de cada usuario"
   ]
  },
  {
   "cell_type": "code",
   "execution_count": 118,
   "id": "august-cursor",
   "metadata": {},
   "outputs": [],
   "source": [
    "df_cons_base = df_cons_base[df_cons_base['primer_con'] == 1]\n",
    "df_cons_base.drop(['primer_con'], axis = 1, inplace = True)"
   ]
  },
  {
   "cell_type": "code",
   "execution_count": 119,
   "id": "biblical-conservative",
   "metadata": {},
   "outputs": [
    {
     "data": {
      "text/html": [
       "<div>\n",
       "<style scoped>\n",
       "    .dataframe tbody tr th:only-of-type {\n",
       "        vertical-align: middle;\n",
       "    }\n",
       "\n",
       "    .dataframe tbody tr th {\n",
       "        vertical-align: top;\n",
       "    }\n",
       "\n",
       "    .dataframe thead th {\n",
       "        text-align: right;\n",
       "    }\n",
       "</style>\n",
       "<table border=\"1\" class=\"dataframe\">\n",
       "  <thead>\n",
       "    <tr style=\"text-align: right;\">\n",
       "      <th></th>\n",
       "      <th>IDCONSUMO</th>\n",
       "      <th>IDUSUARIO</th>\n",
       "      <th>IDPRODUCTO</th>\n",
       "      <th>DESCPRODUCTO</th>\n",
       "      <th>IDGRUPOPROD</th>\n",
       "      <th>DESCGRUPOPROD</th>\n",
       "      <th>FECHACONSUMO</th>\n",
       "      <th>TIPO_CONSUMO</th>\n",
       "      <th>EMPCONSUL_ID</th>\n",
       "      <th>EMPCONSUL_EST</th>\n",
       "      <th>EMPCONSUL_SECTOR_ECONOMICO</th>\n",
       "      <th>EMPCONSUL_PROV</th>\n",
       "    </tr>\n",
       "  </thead>\n",
       "  <tbody>\n",
       "    <tr>\n",
       "      <th>0</th>\n",
       "      <td>40057306</td>\n",
       "      <td>6868835</td>\n",
       "      <td>144920</td>\n",
       "      <td>PERFIL PROMOCIONAL</td>\n",
       "      <td>144920</td>\n",
       "      <td>PERF_PROMO</td>\n",
       "      <td>2018-01-01</td>\n",
       "      <td>Promocion</td>\n",
       "      <td>986515</td>\n",
       "      <td>ACTIVA</td>\n",
       "      <td>TERCIARIO</td>\n",
       "      <td>ATLANTICO</td>\n",
       "    </tr>\n",
       "    <tr>\n",
       "      <th>1</th>\n",
       "      <td>40057715</td>\n",
       "      <td>6868838</td>\n",
       "      <td>144920</td>\n",
       "      <td>PERFIL PROMOCIONAL</td>\n",
       "      <td>144920</td>\n",
       "      <td>PERF_PROMO</td>\n",
       "      <td>2018-01-01</td>\n",
       "      <td>Promocion</td>\n",
       "      <td>102614</td>\n",
       "      <td>ACTIVA</td>\n",
       "      <td>TERCIARIO</td>\n",
       "      <td>BOGOTA</td>\n",
       "    </tr>\n",
       "    <tr>\n",
       "      <th>2</th>\n",
       "      <td>40057785</td>\n",
       "      <td>6868841</td>\n",
       "      <td>144917</td>\n",
       "      <td>FICHA BASICA</td>\n",
       "      <td>144917</td>\n",
       "      <td>FICH_PROMO</td>\n",
       "      <td>2018-01-01</td>\n",
       "      <td>Promocion</td>\n",
       "      <td>1520173</td>\n",
       "      <td>INACTIVA</td>\n",
       "      <td>TERCIARIO</td>\n",
       "      <td>BOGOTA</td>\n",
       "    </tr>\n",
       "    <tr>\n",
       "      <th>3</th>\n",
       "      <td>40057786</td>\n",
       "      <td>6868841</td>\n",
       "      <td>144920</td>\n",
       "      <td>PERFIL PROMOCIONAL</td>\n",
       "      <td>144920</td>\n",
       "      <td>PERF_PROMO</td>\n",
       "      <td>2018-01-01</td>\n",
       "      <td>Promocion</td>\n",
       "      <td>1520173</td>\n",
       "      <td>INACTIVA</td>\n",
       "      <td>TERCIARIO</td>\n",
       "      <td>BOGOTA</td>\n",
       "    </tr>\n",
       "    <tr>\n",
       "      <th>4</th>\n",
       "      <td>40057779</td>\n",
       "      <td>6868841</td>\n",
       "      <td>144920</td>\n",
       "      <td>PERFIL PROMOCIONAL</td>\n",
       "      <td>144920</td>\n",
       "      <td>PERF_PROMO</td>\n",
       "      <td>2018-01-01</td>\n",
       "      <td>Promocion</td>\n",
       "      <td>2971771</td>\n",
       "      <td>ACTIVA</td>\n",
       "      <td>QUINARIO</td>\n",
       "      <td>BOGOTA</td>\n",
       "    </tr>\n",
       "  </tbody>\n",
       "</table>\n",
       "</div>"
      ],
      "text/plain": [
       "   IDCONSUMO  IDUSUARIO  IDPRODUCTO        DESCPRODUCTO  IDGRUPOPROD  \\\n",
       "0   40057306    6868835      144920  PERFIL PROMOCIONAL       144920   \n",
       "1   40057715    6868838      144920  PERFIL PROMOCIONAL       144920   \n",
       "2   40057785    6868841      144917        FICHA BASICA       144917   \n",
       "3   40057786    6868841      144920  PERFIL PROMOCIONAL       144920   \n",
       "4   40057779    6868841      144920  PERFIL PROMOCIONAL       144920   \n",
       "\n",
       "  DESCGRUPOPROD FECHACONSUMO TIPO_CONSUMO  EMPCONSUL_ID EMPCONSUL_EST  \\\n",
       "0    PERF_PROMO   2018-01-01    Promocion        986515        ACTIVA   \n",
       "1    PERF_PROMO   2018-01-01    Promocion        102614        ACTIVA   \n",
       "2    FICH_PROMO   2018-01-01    Promocion       1520173      INACTIVA   \n",
       "3    PERF_PROMO   2018-01-01    Promocion       1520173      INACTIVA   \n",
       "4    PERF_PROMO   2018-01-01    Promocion       2971771        ACTIVA   \n",
       "\n",
       "  EMPCONSUL_SECTOR_ECONOMICO EMPCONSUL_PROV  \n",
       "0                  TERCIARIO      ATLANTICO  \n",
       "1                  TERCIARIO         BOGOTA  \n",
       "2                  TERCIARIO         BOGOTA  \n",
       "3                  TERCIARIO         BOGOTA  \n",
       "4                   QUINARIO         BOGOTA  "
      ]
     },
     "execution_count": 119,
     "metadata": {},
     "output_type": "execute_result"
    }
   ],
   "source": [
    "df_cons_base.head(5)"
   ]
  },
  {
   "cell_type": "markdown",
   "id": "spread-domain",
   "metadata": {},
   "source": [
    "**1. El numero de consumos por grupo de producto en la primera consumicion**"
   ]
  },
  {
   "cell_type": "code",
   "execution_count": 120,
   "id": "level-program",
   "metadata": {},
   "outputs": [],
   "source": [
    "df_cons_base['unit_tmp'] = 1"
   ]
  },
  {
   "cell_type": "code",
   "execution_count": 121,
   "id": "least-india",
   "metadata": {},
   "outputs": [],
   "source": [
    "table = pd.pivot_table(df_cons_base, values = 'unit_tmp', index = ['IDUSUARIO'], columns = ['DESCGRUPOPROD'], aggfunc = np.sum, fill_value = 0)"
   ]
  },
  {
   "cell_type": "code",
   "execution_count": 122,
   "id": "according-ambassador",
   "metadata": {},
   "outputs": [],
   "source": [
    "table.reset_index(drop = False, inplace = True)"
   ]
  },
  {
   "cell_type": "code",
   "execution_count": 123,
   "id": "lesser-flood",
   "metadata": {},
   "outputs": [
    {
     "data": {
      "text/html": [
       "<div>\n",
       "<style scoped>\n",
       "    .dataframe tbody tr th:only-of-type {\n",
       "        vertical-align: middle;\n",
       "    }\n",
       "\n",
       "    .dataframe tbody tr th {\n",
       "        vertical-align: top;\n",
       "    }\n",
       "\n",
       "    .dataframe thead th {\n",
       "        text-align: right;\n",
       "    }\n",
       "</style>\n",
       "<table border=\"1\" class=\"dataframe\">\n",
       "  <thead>\n",
       "    <tr style=\"text-align: right;\">\n",
       "      <th>DESCGRUPOPROD</th>\n",
       "      <th>IDUSUARIO</th>\n",
       "      <th>FICH_PROMO</th>\n",
       "      <th>PERF_PROMO</th>\n",
       "      <th>RES_PAGO</th>\n",
       "    </tr>\n",
       "  </thead>\n",
       "  <tbody>\n",
       "    <tr>\n",
       "      <th>151292</th>\n",
       "      <td>7421908</td>\n",
       "      <td>6</td>\n",
       "      <td>5</td>\n",
       "      <td>0</td>\n",
       "    </tr>\n",
       "    <tr>\n",
       "      <th>8499</th>\n",
       "      <td>6901819</td>\n",
       "      <td>6</td>\n",
       "      <td>5</td>\n",
       "      <td>0</td>\n",
       "    </tr>\n",
       "    <tr>\n",
       "      <th>240496</th>\n",
       "      <td>7778939</td>\n",
       "      <td>5</td>\n",
       "      <td>5</td>\n",
       "      <td>0</td>\n",
       "    </tr>\n",
       "  </tbody>\n",
       "</table>\n",
       "</div>"
      ],
      "text/plain": [
       "DESCGRUPOPROD  IDUSUARIO  FICH_PROMO  PERF_PROMO  RES_PAGO\n",
       "151292           7421908           6           5         0\n",
       "8499             6901819           6           5         0\n",
       "240496           7778939           5           5         0"
      ]
     },
     "execution_count": 123,
     "metadata": {},
     "output_type": "execute_result"
    }
   ],
   "source": [
    "table.sort_values(['PERF_PROMO'], ascending = False).head(3)"
   ]
  },
  {
   "cell_type": "code",
   "execution_count": 124,
   "id": "classical-terror",
   "metadata": {},
   "outputs": [
    {
     "data": {
      "text/html": [
       "<div>\n",
       "<style scoped>\n",
       "    .dataframe tbody tr th:only-of-type {\n",
       "        vertical-align: middle;\n",
       "    }\n",
       "\n",
       "    .dataframe tbody tr th {\n",
       "        vertical-align: top;\n",
       "    }\n",
       "\n",
       "    .dataframe thead th {\n",
       "        text-align: right;\n",
       "    }\n",
       "</style>\n",
       "<table border=\"1\" class=\"dataframe\">\n",
       "  <thead>\n",
       "    <tr style=\"text-align: right;\">\n",
       "      <th>DESCGRUPOPROD</th>\n",
       "      <th>IDUSUARIO</th>\n",
       "      <th>FICH_PROMO</th>\n",
       "      <th>PERF_PROMO</th>\n",
       "      <th>RES_PAGO</th>\n",
       "    </tr>\n",
       "  </thead>\n",
       "  <tbody>\n",
       "    <tr>\n",
       "      <th>233355</th>\n",
       "      <td>7752829</td>\n",
       "      <td>209</td>\n",
       "      <td>0</td>\n",
       "      <td>209</td>\n",
       "    </tr>\n",
       "    <tr>\n",
       "      <th>140651</th>\n",
       "      <td>7378323</td>\n",
       "      <td>163</td>\n",
       "      <td>0</td>\n",
       "      <td>163</td>\n",
       "    </tr>\n",
       "    <tr>\n",
       "      <th>126623</th>\n",
       "      <td>7323571</td>\n",
       "      <td>138</td>\n",
       "      <td>0</td>\n",
       "      <td>138</td>\n",
       "    </tr>\n",
       "  </tbody>\n",
       "</table>\n",
       "</div>"
      ],
      "text/plain": [
       "DESCGRUPOPROD  IDUSUARIO  FICH_PROMO  PERF_PROMO  RES_PAGO\n",
       "233355           7752829         209           0       209\n",
       "140651           7378323         163           0       163\n",
       "126623           7323571         138           0       138"
      ]
     },
     "execution_count": 124,
     "metadata": {},
     "output_type": "execute_result"
    }
   ],
   "source": [
    "table.sort_values(['RES_PAGO'], ascending = False).head(3)"
   ]
  },
  {
   "cell_type": "markdown",
   "id": "dynamic-commonwealth",
   "metadata": {},
   "source": [
    "Añadimos la información"
   ]
  },
  {
   "cell_type": "code",
   "execution_count": 125,
   "id": "antique-richmond",
   "metadata": {},
   "outputs": [],
   "source": [
    "df_cons_base = pd.merge(left = df_cons_base, right = table, how = \"left\", left_on = \"IDUSUARIO\", right_on = \"IDUSUARIO\")"
   ]
  },
  {
   "cell_type": "markdown",
   "id": "filled-north",
   "metadata": {},
   "source": [
    "**2. El número de consumos por usuario en la fecha del primer consumo**"
   ]
  },
  {
   "cell_type": "code",
   "execution_count": 126,
   "id": "imposed-parts",
   "metadata": {},
   "outputs": [],
   "source": [
    "df_cons_base['PROD_CONSUM'] = df_cons_base['FICH_PROMO'] + df_cons_base['PERF_PROMO'] + df_cons_base['RES_PAGO'] "
   ]
  },
  {
   "cell_type": "markdown",
   "id": "split-presentation",
   "metadata": {},
   "source": [
    "**3. El numero de consumos por producto en la primera consumicion**"
   ]
  },
  {
   "cell_type": "code",
   "execution_count": 127,
   "id": "japanese-cable",
   "metadata": {},
   "outputs": [],
   "source": [
    "table = pd.pivot_table(df_cons_base, values = 'unit_tmp', index = ['IDUSUARIO'], columns = ['DESCPRODUCTO'], aggfunc = np.sum, fill_value = 0)"
   ]
  },
  {
   "cell_type": "code",
   "execution_count": 128,
   "id": "designing-enemy",
   "metadata": {},
   "outputs": [],
   "source": [
    "table.reset_index(drop = False, inplace = True)"
   ]
  },
  {
   "cell_type": "code",
   "execution_count": 129,
   "id": "correct-senegal",
   "metadata": {},
   "outputs": [
    {
     "data": {
      "text/html": [
       "<div>\n",
       "<style scoped>\n",
       "    .dataframe tbody tr th:only-of-type {\n",
       "        vertical-align: middle;\n",
       "    }\n",
       "\n",
       "    .dataframe tbody tr th {\n",
       "        vertical-align: top;\n",
       "    }\n",
       "\n",
       "    .dataframe thead th {\n",
       "        text-align: right;\n",
       "    }\n",
       "</style>\n",
       "<table border=\"1\" class=\"dataframe\">\n",
       "  <thead>\n",
       "    <tr style=\"text-align: right;\">\n",
       "      <th>DESCPRODUCTO</th>\n",
       "      <th>IDUSUARIO</th>\n",
       "      <th>BALANCE Y CUENTA DE RESULTADOS</th>\n",
       "      <th>EVALUACION</th>\n",
       "      <th>FICHA AVANZADA</th>\n",
       "      <th>FICHA BASICA</th>\n",
       "      <th>OFERTA 2</th>\n",
       "      <th>PERFIL</th>\n",
       "      <th>PERFIL PROMOCIONAL</th>\n",
       "      <th>REPORT 1</th>\n",
       "      <th>REPORT 2</th>\n",
       "      <th>REPORT 3</th>\n",
       "      <th>REPORT 4</th>\n",
       "      <th>REPORT 5</th>\n",
       "      <th>REPORT 6</th>\n",
       "      <th>SOLVENCIA</th>\n",
       "    </tr>\n",
       "  </thead>\n",
       "  <tbody>\n",
       "    <tr>\n",
       "      <th>165921</th>\n",
       "      <td>7475813</td>\n",
       "      <td>0</td>\n",
       "      <td>6</td>\n",
       "      <td>0</td>\n",
       "      <td>8</td>\n",
       "      <td>0</td>\n",
       "      <td>0</td>\n",
       "      <td>3</td>\n",
       "      <td>0</td>\n",
       "      <td>0</td>\n",
       "      <td>0</td>\n",
       "      <td>0</td>\n",
       "      <td>0</td>\n",
       "      <td>0</td>\n",
       "      <td>0</td>\n",
       "    </tr>\n",
       "    <tr>\n",
       "      <th>4945</th>\n",
       "      <td>6889066</td>\n",
       "      <td>3</td>\n",
       "      <td>4</td>\n",
       "      <td>4</td>\n",
       "      <td>4</td>\n",
       "      <td>0</td>\n",
       "      <td>1</td>\n",
       "      <td>3</td>\n",
       "      <td>0</td>\n",
       "      <td>1</td>\n",
       "      <td>0</td>\n",
       "      <td>0</td>\n",
       "      <td>0</td>\n",
       "      <td>0</td>\n",
       "      <td>0</td>\n",
       "    </tr>\n",
       "    <tr>\n",
       "      <th>352487</th>\n",
       "      <td>8193283</td>\n",
       "      <td>0</td>\n",
       "      <td>3</td>\n",
       "      <td>0</td>\n",
       "      <td>3</td>\n",
       "      <td>0</td>\n",
       "      <td>0</td>\n",
       "      <td>1</td>\n",
       "      <td>0</td>\n",
       "      <td>0</td>\n",
       "      <td>0</td>\n",
       "      <td>0</td>\n",
       "      <td>0</td>\n",
       "      <td>0</td>\n",
       "      <td>0</td>\n",
       "    </tr>\n",
       "  </tbody>\n",
       "</table>\n",
       "</div>"
      ],
      "text/plain": [
       "DESCPRODUCTO  IDUSUARIO  BALANCE Y CUENTA DE RESULTADOS  EVALUACION  \\\n",
       "165921          7475813                               0           6   \n",
       "4945            6889066                               3           4   \n",
       "352487          8193283                               0           3   \n",
       "\n",
       "DESCPRODUCTO  FICHA AVANZADA  FICHA BASICA  OFERTA 2  PERFIL  \\\n",
       "165921                     0             8         0       0   \n",
       "4945                       4             4         0       1   \n",
       "352487                     0             3         0       0   \n",
       "\n",
       "DESCPRODUCTO  PERFIL PROMOCIONAL  REPORT 1  REPORT 2  REPORT 3  REPORT 4  \\\n",
       "165921                         3         0         0         0         0   \n",
       "4945                           3         0         1         0         0   \n",
       "352487                         1         0         0         0         0   \n",
       "\n",
       "DESCPRODUCTO  REPORT 5  REPORT 6  SOLVENCIA  \n",
       "165921               0         0          0  \n",
       "4945                 0         0          0  \n",
       "352487               0         0          0  "
      ]
     },
     "execution_count": 129,
     "metadata": {},
     "output_type": "execute_result"
    }
   ],
   "source": [
    "table.sort_values(['EVALUACION'], ascending = False).head(3)"
   ]
  },
  {
   "cell_type": "markdown",
   "id": "controversial-flashing",
   "metadata": {},
   "source": [
    "Añadimos la información"
   ]
  },
  {
   "cell_type": "code",
   "execution_count": 130,
   "id": "changed-smoke",
   "metadata": {},
   "outputs": [],
   "source": [
    "df_cons_base = pd.merge(left = df_cons_base, right = table, how = \"left\", left_on = \"IDUSUARIO\", right_on = \"IDUSUARIO\")"
   ]
  },
  {
   "cell_type": "markdown",
   "id": "fifty-respondent",
   "metadata": {},
   "source": [
    "**4. El numero de consumos por estado de empresa consultada**"
   ]
  },
  {
   "cell_type": "code",
   "execution_count": 131,
   "id": "dutch-dayton",
   "metadata": {},
   "outputs": [],
   "source": [
    "table = pd.pivot_table(df_cons_base, values = 'unit_tmp', index = ['IDUSUARIO'], columns = ['EMPCONSUL_EST'], aggfunc = np.sum, fill_value = 0)"
   ]
  },
  {
   "cell_type": "code",
   "execution_count": 132,
   "id": "illegal-unknown",
   "metadata": {},
   "outputs": [],
   "source": [
    "table.reset_index(drop = False, inplace = True)"
   ]
  },
  {
   "cell_type": "code",
   "execution_count": 133,
   "id": "novel-decimal",
   "metadata": {},
   "outputs": [
    {
     "data": {
      "text/html": [
       "<div>\n",
       "<style scoped>\n",
       "    .dataframe tbody tr th:only-of-type {\n",
       "        vertical-align: middle;\n",
       "    }\n",
       "\n",
       "    .dataframe tbody tr th {\n",
       "        vertical-align: top;\n",
       "    }\n",
       "\n",
       "    .dataframe thead th {\n",
       "        text-align: right;\n",
       "    }\n",
       "</style>\n",
       "<table border=\"1\" class=\"dataframe\">\n",
       "  <thead>\n",
       "    <tr style=\"text-align: right;\">\n",
       "      <th>EMPCONSUL_EST</th>\n",
       "      <th>IDUSUARIO</th>\n",
       "      <th>ACTIVA</th>\n",
       "      <th>INACTIVA</th>\n",
       "      <th>NI</th>\n",
       "      <th>REESTRUCTURACION</th>\n",
       "      <th>RELACION_CLINTON</th>\n",
       "    </tr>\n",
       "  </thead>\n",
       "  <tbody>\n",
       "    <tr>\n",
       "      <th>0</th>\n",
       "      <td>6868835</td>\n",
       "      <td>1</td>\n",
       "      <td>0</td>\n",
       "      <td>0</td>\n",
       "      <td>0</td>\n",
       "      <td>0</td>\n",
       "    </tr>\n",
       "    <tr>\n",
       "      <th>1</th>\n",
       "      <td>6868838</td>\n",
       "      <td>1</td>\n",
       "      <td>0</td>\n",
       "      <td>0</td>\n",
       "      <td>0</td>\n",
       "      <td>0</td>\n",
       "    </tr>\n",
       "    <tr>\n",
       "      <th>2</th>\n",
       "      <td>6868841</td>\n",
       "      <td>4</td>\n",
       "      <td>2</td>\n",
       "      <td>0</td>\n",
       "      <td>0</td>\n",
       "      <td>0</td>\n",
       "    </tr>\n",
       "  </tbody>\n",
       "</table>\n",
       "</div>"
      ],
      "text/plain": [
       "EMPCONSUL_EST  IDUSUARIO  ACTIVA  INACTIVA  NI  REESTRUCTURACION  \\\n",
       "0                6868835       1         0   0                 0   \n",
       "1                6868838       1         0   0                 0   \n",
       "2                6868841       4         2   0                 0   \n",
       "\n",
       "EMPCONSUL_EST  RELACION_CLINTON  \n",
       "0                             0  \n",
       "1                             0  \n",
       "2                             0  "
      ]
     },
     "execution_count": 133,
     "metadata": {},
     "output_type": "execute_result"
    }
   ],
   "source": [
    "table.head(3)"
   ]
  },
  {
   "cell_type": "markdown",
   "id": "regulation-workshop",
   "metadata": {},
   "source": [
    "Añadimos la información"
   ]
  },
  {
   "cell_type": "code",
   "execution_count": 134,
   "id": "protected-choice",
   "metadata": {},
   "outputs": [],
   "source": [
    "df_cons_base = pd.merge(left = df_cons_base, right = table, how = \"left\", left_on = \"IDUSUARIO\", right_on = \"IDUSUARIO\")"
   ]
  },
  {
   "cell_type": "markdown",
   "id": "decreased-china",
   "metadata": {},
   "source": [
    "**5. El numero de consumos por sector economico de empresas a consultar**"
   ]
  },
  {
   "cell_type": "code",
   "execution_count": 135,
   "id": "mineral-appraisal",
   "metadata": {},
   "outputs": [],
   "source": [
    "table = pd.pivot_table(df_cons_base, values = 'unit_tmp', index = ['IDUSUARIO'], columns = ['EMPCONSUL_SECTOR_ECONOMICO'], aggfunc = np.sum, fill_value = 0)"
   ]
  },
  {
   "cell_type": "code",
   "execution_count": 136,
   "id": "exclusive-cooperative",
   "metadata": {},
   "outputs": [],
   "source": [
    "table.reset_index(drop = False, inplace = True)"
   ]
  },
  {
   "cell_type": "code",
   "execution_count": 137,
   "id": "static-senior",
   "metadata": {},
   "outputs": [
    {
     "data": {
      "text/html": [
       "<div>\n",
       "<style scoped>\n",
       "    .dataframe tbody tr th:only-of-type {\n",
       "        vertical-align: middle;\n",
       "    }\n",
       "\n",
       "    .dataframe tbody tr th {\n",
       "        vertical-align: top;\n",
       "    }\n",
       "\n",
       "    .dataframe thead th {\n",
       "        text-align: right;\n",
       "    }\n",
       "</style>\n",
       "<table border=\"1\" class=\"dataframe\">\n",
       "  <thead>\n",
       "    <tr style=\"text-align: right;\">\n",
       "      <th>EMPCONSUL_SECTOR_ECONOMICO</th>\n",
       "      <th>IDUSUARIO</th>\n",
       "      <th>CUATERNARIO</th>\n",
       "      <th>PRIMARIO</th>\n",
       "      <th>QUINARIO</th>\n",
       "      <th>SD</th>\n",
       "      <th>SECUNDARIO</th>\n",
       "      <th>TERCIARIO</th>\n",
       "    </tr>\n",
       "  </thead>\n",
       "  <tbody>\n",
       "    <tr>\n",
       "      <th>0</th>\n",
       "      <td>6868835</td>\n",
       "      <td>0</td>\n",
       "      <td>0</td>\n",
       "      <td>0</td>\n",
       "      <td>0</td>\n",
       "      <td>0</td>\n",
       "      <td>1</td>\n",
       "    </tr>\n",
       "    <tr>\n",
       "      <th>1</th>\n",
       "      <td>6868838</td>\n",
       "      <td>0</td>\n",
       "      <td>0</td>\n",
       "      <td>0</td>\n",
       "      <td>0</td>\n",
       "      <td>0</td>\n",
       "      <td>1</td>\n",
       "    </tr>\n",
       "    <tr>\n",
       "      <th>2</th>\n",
       "      <td>6868841</td>\n",
       "      <td>0</td>\n",
       "      <td>0</td>\n",
       "      <td>2</td>\n",
       "      <td>1</td>\n",
       "      <td>0</td>\n",
       "      <td>3</td>\n",
       "    </tr>\n",
       "  </tbody>\n",
       "</table>\n",
       "</div>"
      ],
      "text/plain": [
       "EMPCONSUL_SECTOR_ECONOMICO  IDUSUARIO  CUATERNARIO  PRIMARIO  QUINARIO  SD  \\\n",
       "0                             6868835            0         0         0   0   \n",
       "1                             6868838            0         0         0   0   \n",
       "2                             6868841            0         0         2   1   \n",
       "\n",
       "EMPCONSUL_SECTOR_ECONOMICO  SECUNDARIO  TERCIARIO  \n",
       "0                                    0          1  \n",
       "1                                    0          1  \n",
       "2                                    0          3  "
      ]
     },
     "execution_count": 137,
     "metadata": {},
     "output_type": "execute_result"
    }
   ],
   "source": [
    "table.head(3)"
   ]
  },
  {
   "cell_type": "markdown",
   "id": "impossible-homeless",
   "metadata": {},
   "source": [
    "Añadimos la información"
   ]
  },
  {
   "cell_type": "code",
   "execution_count": 138,
   "id": "alternate-railway",
   "metadata": {},
   "outputs": [],
   "source": [
    "df_cons_base = pd.merge(left = df_cons_base, right = table, how = \"left\", left_on = \"IDUSUARIO\", right_on = \"IDUSUARIO\")"
   ]
  },
  {
   "cell_type": "markdown",
   "id": "abstract-rolling",
   "metadata": {},
   "source": [
    "**6. Añadimos la información de la primera consulta que realiza el usuario**\n",
    "\n",
    "Por lo general deberá ser una Ficha promocional. Para ello utilizaremos el ID de Consumo suponiendo que van correlacionado con la fecha de consumo, es decir ordenando por IDCONSUMO podemos obtener el primer consumo del usuario."
   ]
  },
  {
   "cell_type": "code",
   "execution_count": 139,
   "id": "collective-error",
   "metadata": {},
   "outputs": [],
   "source": [
    "df_cons_1a_cons = df_cons.sort_values(by = ['IDUSUARIO','IDCONSUMO']).groupby(['IDUSUARIO']).head(1)"
   ]
  },
  {
   "cell_type": "code",
   "execution_count": 140,
   "id": "advance-precipitation",
   "metadata": {},
   "outputs": [
    {
     "data": {
      "text/html": [
       "<div>\n",
       "<style scoped>\n",
       "    .dataframe tbody tr th:only-of-type {\n",
       "        vertical-align: middle;\n",
       "    }\n",
       "\n",
       "    .dataframe tbody tr th {\n",
       "        vertical-align: top;\n",
       "    }\n",
       "\n",
       "    .dataframe thead th {\n",
       "        text-align: right;\n",
       "    }\n",
       "</style>\n",
       "<table border=\"1\" class=\"dataframe\">\n",
       "  <thead>\n",
       "    <tr style=\"text-align: right;\">\n",
       "      <th></th>\n",
       "      <th>IDCONSUMO</th>\n",
       "      <th>IDUSUARIO</th>\n",
       "      <th>IDPRODUCTO</th>\n",
       "      <th>DESCPRODUCTO</th>\n",
       "      <th>IDGRUPOPROD</th>\n",
       "      <th>DESCGRUPOPROD</th>\n",
       "      <th>FECHACONSUMO</th>\n",
       "      <th>TIPO_CONSUMO</th>\n",
       "      <th>EMPCONSUL_ID</th>\n",
       "      <th>EMPCONSUL_EST</th>\n",
       "      <th>EMPCONSUL_SECTOR_ECONOMICO</th>\n",
       "      <th>EMPCONSUL_PROV</th>\n",
       "    </tr>\n",
       "  </thead>\n",
       "  <tbody>\n",
       "    <tr>\n",
       "      <th>0</th>\n",
       "      <td>40057306</td>\n",
       "      <td>6868835</td>\n",
       "      <td>144920</td>\n",
       "      <td>PERFIL PROMOCIONAL</td>\n",
       "      <td>144920</td>\n",
       "      <td>PERF_PROMO</td>\n",
       "      <td>2018-01-01</td>\n",
       "      <td>Promocion</td>\n",
       "      <td>986515</td>\n",
       "      <td>ACTIVA</td>\n",
       "      <td>TERCIARIO</td>\n",
       "      <td>ATLANTICO</td>\n",
       "    </tr>\n",
       "    <tr>\n",
       "      <th>1</th>\n",
       "      <td>40057715</td>\n",
       "      <td>6868838</td>\n",
       "      <td>144920</td>\n",
       "      <td>PERFIL PROMOCIONAL</td>\n",
       "      <td>144920</td>\n",
       "      <td>PERF_PROMO</td>\n",
       "      <td>2018-01-01</td>\n",
       "      <td>Promocion</td>\n",
       "      <td>102614</td>\n",
       "      <td>ACTIVA</td>\n",
       "      <td>TERCIARIO</td>\n",
       "      <td>BOGOTA</td>\n",
       "    </tr>\n",
       "  </tbody>\n",
       "</table>\n",
       "</div>"
      ],
      "text/plain": [
       "   IDCONSUMO  IDUSUARIO  IDPRODUCTO        DESCPRODUCTO  IDGRUPOPROD  \\\n",
       "0   40057306    6868835      144920  PERFIL PROMOCIONAL       144920   \n",
       "1   40057715    6868838      144920  PERFIL PROMOCIONAL       144920   \n",
       "\n",
       "  DESCGRUPOPROD FECHACONSUMO TIPO_CONSUMO  EMPCONSUL_ID EMPCONSUL_EST  \\\n",
       "0    PERF_PROMO   2018-01-01    Promocion        986515        ACTIVA   \n",
       "1    PERF_PROMO   2018-01-01    Promocion        102614        ACTIVA   \n",
       "\n",
       "  EMPCONSUL_SECTOR_ECONOMICO EMPCONSUL_PROV  \n",
       "0                  TERCIARIO      ATLANTICO  \n",
       "1                  TERCIARIO         BOGOTA  "
      ]
     },
     "execution_count": 140,
     "metadata": {},
     "output_type": "execute_result"
    }
   ],
   "source": [
    "df_cons_1a_cons.head(2)"
   ]
  },
  {
   "cell_type": "markdown",
   "id": "requested-listing",
   "metadata": {},
   "source": [
    "Añadimos la información del primer consumo:\n",
    "* DESCGRUPOPROD\n",
    "* EMPCONSUL_EST\n",
    "* EMPCONSUL_SECTOR_ECONOMICO\n",
    "* EMPCONSUL_PROV (Añadiremos ifo de IDH y Densidad de poblacion)"
   ]
  },
  {
   "cell_type": "markdown",
   "id": "resistant-joyce",
   "metadata": {},
   "source": [
    "**A continuación realizaremos la transformación sobre el departamento extraeremos la información que nos puede aportar utilizando un catálogo.**"
   ]
  },
  {
   "cell_type": "code",
   "execution_count": 141,
   "id": "authentic-plasma",
   "metadata": {},
   "outputs": [],
   "source": [
    "df_catalog = pd.read_excel('Data/Departamentos_Colombia.xlsx')"
   ]
  },
  {
   "cell_type": "markdown",
   "id": "operating-launch",
   "metadata": {},
   "source": [
    "Cambiaremos los valores de forma que eliminemos las tildes y ponemos en mayusculas"
   ]
  },
  {
   "cell_type": "code",
   "execution_count": 142,
   "id": "assured-command",
   "metadata": {},
   "outputs": [],
   "source": [
    "def quitar_signo(s):\n",
    "    replacements = (\n",
    "        (\"á\", \"a\"),\n",
    "        (\"é\", \"e\"),\n",
    "        (\"í\", \"i\"),\n",
    "        (\"ó\", \"o\"),\n",
    "        (\"ú\", \"u\"),\n",
    "    )\n",
    "    for a, b in replacements:\n",
    "        s = s.replace(a, b).replace(a.upper(), b.upper())\n",
    "        \n",
    "    return s"
   ]
  },
  {
   "cell_type": "code",
   "execution_count": 143,
   "id": "chemical-transsexual",
   "metadata": {},
   "outputs": [],
   "source": [
    "df_catalog['Departamento'] = df_catalog['Departamento'].apply(lambda x: quitar_signo(x)).str.upper()\n",
    "df_cons_1a_cons['EMPCONSUL_PROV'] = df_cons_1a_cons['EMPCONSUL_PROV'].apply(lambda x: quitar_signo(x)).str.upper()"
   ]
  },
  {
   "cell_type": "code",
   "execution_count": 144,
   "id": "bridal-baking",
   "metadata": {},
   "outputs": [
    {
     "data": {
      "text/html": [
       "<div>\n",
       "<style scoped>\n",
       "    .dataframe tbody tr th:only-of-type {\n",
       "        vertical-align: middle;\n",
       "    }\n",
       "\n",
       "    .dataframe tbody tr th {\n",
       "        vertical-align: top;\n",
       "    }\n",
       "\n",
       "    .dataframe thead th {\n",
       "        text-align: right;\n",
       "    }\n",
       "</style>\n",
       "<table border=\"1\" class=\"dataframe\">\n",
       "  <thead>\n",
       "    <tr style=\"text-align: right;\">\n",
       "      <th></th>\n",
       "      <th>Departamento</th>\n",
       "      <th>Municipios</th>\n",
       "      <th>Capital</th>\n",
       "      <th>Superficie_Km2</th>\n",
       "      <th>Poblacion</th>\n",
       "      <th>Densidad_Poblacion</th>\n",
       "      <th>IDH</th>\n",
       "    </tr>\n",
       "  </thead>\n",
       "  <tbody>\n",
       "    <tr>\n",
       "      <th>0</th>\n",
       "      <td>AMAZONAS</td>\n",
       "      <td>2</td>\n",
       "      <td>Leticia</td>\n",
       "      <td>109665</td>\n",
       "      <td>74541</td>\n",
       "      <td>0.68</td>\n",
       "      <td>0.768</td>\n",
       "    </tr>\n",
       "    <tr>\n",
       "      <th>1</th>\n",
       "      <td>ANTIOQUIA</td>\n",
       "      <td>125</td>\n",
       "      <td>Medellín</td>\n",
       "      <td>63612</td>\n",
       "      <td>6456207</td>\n",
       "      <td>101.49</td>\n",
       "      <td>0.849</td>\n",
       "    </tr>\n",
       "    <tr>\n",
       "      <th>2</th>\n",
       "      <td>ARAUCA</td>\n",
       "      <td>7</td>\n",
       "      <td>Arauca</td>\n",
       "      <td>23818</td>\n",
       "      <td>262315</td>\n",
       "      <td>11.01</td>\n",
       "      <td>0.804</td>\n",
       "    </tr>\n",
       "    <tr>\n",
       "      <th>3</th>\n",
       "      <td>ATLANTICO</td>\n",
       "      <td>23</td>\n",
       "      <td>Barranquilla</td>\n",
       "      <td>3019</td>\n",
       "      <td>2461001</td>\n",
       "      <td>815.17</td>\n",
       "      <td>0.835</td>\n",
       "    </tr>\n",
       "    <tr>\n",
       "      <th>4</th>\n",
       "      <td>BOGOTA</td>\n",
       "      <td>1</td>\n",
       "      <td>Bogotá</td>\n",
       "      <td>1775</td>\n",
       "      <td>7878783</td>\n",
       "      <td>4438.75</td>\n",
       "      <td>0.904</td>\n",
       "    </tr>\n",
       "  </tbody>\n",
       "</table>\n",
       "</div>"
      ],
      "text/plain": [
       "  Departamento  Municipios       Capital  Superficie_Km2  Poblacion  \\\n",
       "0     AMAZONAS           2       Leticia          109665      74541   \n",
       "1    ANTIOQUIA         125      Medellín           63612    6456207   \n",
       "2       ARAUCA           7        Arauca           23818     262315   \n",
       "3    ATLANTICO          23  Barranquilla            3019    2461001   \n",
       "4       BOGOTA           1        Bogotá            1775    7878783   \n",
       "\n",
       "   Densidad_Poblacion    IDH  \n",
       "0                0.68  0.768  \n",
       "1              101.49  0.849  \n",
       "2               11.01  0.804  \n",
       "3              815.17  0.835  \n",
       "4             4438.75  0.904  "
      ]
     },
     "execution_count": 144,
     "metadata": {},
     "output_type": "execute_result"
    }
   ],
   "source": [
    "df_catalog.head(5)"
   ]
  },
  {
   "cell_type": "markdown",
   "id": "honey-works",
   "metadata": {},
   "source": [
    "**Agregamos la información**"
   ]
  },
  {
   "cell_type": "code",
   "execution_count": 145,
   "id": "visible-compromise",
   "metadata": {},
   "outputs": [],
   "source": [
    "df_catalog = df_catalog[['Departamento','Densidad_Poblacion','IDH']]"
   ]
  },
  {
   "cell_type": "code",
   "execution_count": 146,
   "id": "married-conditioning",
   "metadata": {},
   "outputs": [],
   "source": [
    "df_cons_1a_cons = pd.merge(left = df_cons_1a_cons, right = df_catalog, how = 'left', left_on = 'EMPCONSUL_PROV', right_on = 'Departamento')"
   ]
  },
  {
   "cell_type": "code",
   "execution_count": 147,
   "id": "smooth-mistake",
   "metadata": {},
   "outputs": [],
   "source": [
    "df_cons_1a_cons.drop(['Departamento'], axis = 1, inplace = True)"
   ]
  },
  {
   "cell_type": "code",
   "execution_count": 148,
   "id": "offensive-presentation",
   "metadata": {},
   "outputs": [],
   "source": [
    "df_cons_1a_cons.loc[df_cons_1a_cons['EMPCONSUL_PROV'] == 'NI', ['Densidad_Poblacion','IDH']] = 0"
   ]
  },
  {
   "cell_type": "code",
   "execution_count": 149,
   "id": "familiar-montana",
   "metadata": {},
   "outputs": [],
   "source": [
    "df_cons_1a_cons['Densidad_Poblacion'] = df_cons_1a_cons['Densidad_Poblacion'].astype('float')\n",
    "df_cons_1a_cons['IDH'] = df_cons_1a_cons['IDH'].astype('float')"
   ]
  },
  {
   "cell_type": "markdown",
   "id": "friendly-neighbor",
   "metadata": {},
   "source": [
    "Seleccionamos lo que queremos añadir"
   ]
  },
  {
   "cell_type": "code",
   "execution_count": 150,
   "id": "novel-silly",
   "metadata": {},
   "outputs": [],
   "source": [
    "df_cons_1a_cons = df_cons_1a_cons[['IDUSUARIO','DESCGRUPOPROD','EMPCONSUL_EST','EMPCONSUL_SECTOR_ECONOMICO','Densidad_Poblacion','IDH']]"
   ]
  },
  {
   "cell_type": "code",
   "execution_count": 151,
   "id": "assisted-table",
   "metadata": {},
   "outputs": [],
   "source": [
    "df_cons_1a_cons.rename(columns = {'DESCGRUPOPROD': '1A_DESCGRUPOPROD',\n",
    "                                  'EMPCONSUL_EST': '1A_EMPCONSUL_EST',\n",
    "                                   'EMPCONSUL_SECTOR_ECONOMICO': '1A_EMPCONSUL_SECTOR',\n",
    "                                   'Densidad_Poblacion': '1A_EMPCONSUL_PROV_DENS',\n",
    "                                   'IDH': '1A_EMPCONSUL_PROV_IDH'}, inplace = True)"
   ]
  },
  {
   "cell_type": "markdown",
   "id": "sublime-invalid",
   "metadata": {},
   "source": [
    "**Añadimos la información al set principal**"
   ]
  },
  {
   "cell_type": "code",
   "execution_count": 152,
   "id": "desirable-mediterranean",
   "metadata": {},
   "outputs": [],
   "source": [
    "df_cons_base = pd.merge(left = df_cons_base, right = df_cons_1a_cons, how = 'left', left_on = 'IDUSUARIO', right_on = 'IDUSUARIO')"
   ]
  },
  {
   "cell_type": "code",
   "execution_count": 153,
   "id": "thirty-declaration",
   "metadata": {},
   "outputs": [
    {
     "data": {
      "text/html": [
       "<div>\n",
       "<style scoped>\n",
       "    .dataframe tbody tr th:only-of-type {\n",
       "        vertical-align: middle;\n",
       "    }\n",
       "\n",
       "    .dataframe tbody tr th {\n",
       "        vertical-align: top;\n",
       "    }\n",
       "\n",
       "    .dataframe thead th {\n",
       "        text-align: right;\n",
       "    }\n",
       "</style>\n",
       "<table border=\"1\" class=\"dataframe\">\n",
       "  <thead>\n",
       "    <tr style=\"text-align: right;\">\n",
       "      <th></th>\n",
       "      <th>IDCONSUMO</th>\n",
       "      <th>IDUSUARIO</th>\n",
       "      <th>IDPRODUCTO</th>\n",
       "      <th>DESCPRODUCTO</th>\n",
       "      <th>IDGRUPOPROD</th>\n",
       "      <th>DESCGRUPOPROD</th>\n",
       "      <th>FECHACONSUMO</th>\n",
       "      <th>TIPO_CONSUMO</th>\n",
       "      <th>EMPCONSUL_ID</th>\n",
       "      <th>EMPCONSUL_EST</th>\n",
       "      <th>EMPCONSUL_SECTOR_ECONOMICO</th>\n",
       "      <th>EMPCONSUL_PROV</th>\n",
       "      <th>unit_tmp</th>\n",
       "      <th>FICH_PROMO</th>\n",
       "      <th>PERF_PROMO</th>\n",
       "      <th>RES_PAGO</th>\n",
       "      <th>PROD_CONSUM</th>\n",
       "      <th>BALANCE Y CUENTA DE RESULTADOS</th>\n",
       "      <th>EVALUACION</th>\n",
       "      <th>FICHA AVANZADA</th>\n",
       "      <th>FICHA BASICA</th>\n",
       "      <th>OFERTA 2</th>\n",
       "      <th>PERFIL</th>\n",
       "      <th>PERFIL PROMOCIONAL</th>\n",
       "      <th>REPORT 1</th>\n",
       "      <th>REPORT 2</th>\n",
       "      <th>REPORT 3</th>\n",
       "      <th>REPORT 4</th>\n",
       "      <th>REPORT 5</th>\n",
       "      <th>REPORT 6</th>\n",
       "      <th>SOLVENCIA</th>\n",
       "      <th>ACTIVA</th>\n",
       "      <th>INACTIVA</th>\n",
       "      <th>NI</th>\n",
       "      <th>REESTRUCTURACION</th>\n",
       "      <th>RELACION_CLINTON</th>\n",
       "      <th>CUATERNARIO</th>\n",
       "      <th>PRIMARIO</th>\n",
       "      <th>QUINARIO</th>\n",
       "      <th>SD</th>\n",
       "      <th>SECUNDARIO</th>\n",
       "      <th>TERCIARIO</th>\n",
       "      <th>1A_DESCGRUPOPROD</th>\n",
       "      <th>1A_EMPCONSUL_EST</th>\n",
       "      <th>1A_EMPCONSUL_SECTOR</th>\n",
       "      <th>1A_EMPCONSUL_PROV_DENS</th>\n",
       "      <th>1A_EMPCONSUL_PROV_IDH</th>\n",
       "    </tr>\n",
       "  </thead>\n",
       "  <tbody>\n",
       "    <tr>\n",
       "      <th>0</th>\n",
       "      <td>40057306</td>\n",
       "      <td>6868835</td>\n",
       "      <td>144920</td>\n",
       "      <td>PERFIL PROMOCIONAL</td>\n",
       "      <td>144920</td>\n",
       "      <td>PERF_PROMO</td>\n",
       "      <td>2018-01-01</td>\n",
       "      <td>Promocion</td>\n",
       "      <td>986515</td>\n",
       "      <td>ACTIVA</td>\n",
       "      <td>TERCIARIO</td>\n",
       "      <td>ATLANTICO</td>\n",
       "      <td>1</td>\n",
       "      <td>0</td>\n",
       "      <td>1</td>\n",
       "      <td>0</td>\n",
       "      <td>1</td>\n",
       "      <td>0</td>\n",
       "      <td>0</td>\n",
       "      <td>0</td>\n",
       "      <td>0</td>\n",
       "      <td>0</td>\n",
       "      <td>0</td>\n",
       "      <td>1</td>\n",
       "      <td>0</td>\n",
       "      <td>0</td>\n",
       "      <td>0</td>\n",
       "      <td>0</td>\n",
       "      <td>0</td>\n",
       "      <td>0</td>\n",
       "      <td>0</td>\n",
       "      <td>1</td>\n",
       "      <td>0</td>\n",
       "      <td>0</td>\n",
       "      <td>0</td>\n",
       "      <td>0</td>\n",
       "      <td>0</td>\n",
       "      <td>0</td>\n",
       "      <td>0</td>\n",
       "      <td>0</td>\n",
       "      <td>0</td>\n",
       "      <td>1</td>\n",
       "      <td>PERF_PROMO</td>\n",
       "      <td>ACTIVA</td>\n",
       "      <td>TERCIARIO</td>\n",
       "      <td>815.17</td>\n",
       "      <td>0.835</td>\n",
       "    </tr>\n",
       "    <tr>\n",
       "      <th>1</th>\n",
       "      <td>40057715</td>\n",
       "      <td>6868838</td>\n",
       "      <td>144920</td>\n",
       "      <td>PERFIL PROMOCIONAL</td>\n",
       "      <td>144920</td>\n",
       "      <td>PERF_PROMO</td>\n",
       "      <td>2018-01-01</td>\n",
       "      <td>Promocion</td>\n",
       "      <td>102614</td>\n",
       "      <td>ACTIVA</td>\n",
       "      <td>TERCIARIO</td>\n",
       "      <td>BOGOTA</td>\n",
       "      <td>1</td>\n",
       "      <td>0</td>\n",
       "      <td>1</td>\n",
       "      <td>0</td>\n",
       "      <td>1</td>\n",
       "      <td>0</td>\n",
       "      <td>0</td>\n",
       "      <td>0</td>\n",
       "      <td>0</td>\n",
       "      <td>0</td>\n",
       "      <td>0</td>\n",
       "      <td>1</td>\n",
       "      <td>0</td>\n",
       "      <td>0</td>\n",
       "      <td>0</td>\n",
       "      <td>0</td>\n",
       "      <td>0</td>\n",
       "      <td>0</td>\n",
       "      <td>0</td>\n",
       "      <td>1</td>\n",
       "      <td>0</td>\n",
       "      <td>0</td>\n",
       "      <td>0</td>\n",
       "      <td>0</td>\n",
       "      <td>0</td>\n",
       "      <td>0</td>\n",
       "      <td>0</td>\n",
       "      <td>0</td>\n",
       "      <td>0</td>\n",
       "      <td>1</td>\n",
       "      <td>PERF_PROMO</td>\n",
       "      <td>ACTIVA</td>\n",
       "      <td>TERCIARIO</td>\n",
       "      <td>4438.75</td>\n",
       "      <td>0.904</td>\n",
       "    </tr>\n",
       "    <tr>\n",
       "      <th>2</th>\n",
       "      <td>40057785</td>\n",
       "      <td>6868841</td>\n",
       "      <td>144917</td>\n",
       "      <td>FICHA BASICA</td>\n",
       "      <td>144917</td>\n",
       "      <td>FICH_PROMO</td>\n",
       "      <td>2018-01-01</td>\n",
       "      <td>Promocion</td>\n",
       "      <td>1520173</td>\n",
       "      <td>INACTIVA</td>\n",
       "      <td>TERCIARIO</td>\n",
       "      <td>BOGOTA</td>\n",
       "      <td>1</td>\n",
       "      <td>3</td>\n",
       "      <td>3</td>\n",
       "      <td>0</td>\n",
       "      <td>6</td>\n",
       "      <td>0</td>\n",
       "      <td>0</td>\n",
       "      <td>0</td>\n",
       "      <td>3</td>\n",
       "      <td>0</td>\n",
       "      <td>0</td>\n",
       "      <td>3</td>\n",
       "      <td>0</td>\n",
       "      <td>0</td>\n",
       "      <td>0</td>\n",
       "      <td>0</td>\n",
       "      <td>0</td>\n",
       "      <td>0</td>\n",
       "      <td>0</td>\n",
       "      <td>4</td>\n",
       "      <td>2</td>\n",
       "      <td>0</td>\n",
       "      <td>0</td>\n",
       "      <td>0</td>\n",
       "      <td>0</td>\n",
       "      <td>0</td>\n",
       "      <td>2</td>\n",
       "      <td>1</td>\n",
       "      <td>0</td>\n",
       "      <td>3</td>\n",
       "      <td>PERF_PROMO</td>\n",
       "      <td>ACTIVA</td>\n",
       "      <td>TERCIARIO</td>\n",
       "      <td>4438.75</td>\n",
       "      <td>0.904</td>\n",
       "    </tr>\n",
       "    <tr>\n",
       "      <th>3</th>\n",
       "      <td>40057786</td>\n",
       "      <td>6868841</td>\n",
       "      <td>144920</td>\n",
       "      <td>PERFIL PROMOCIONAL</td>\n",
       "      <td>144920</td>\n",
       "      <td>PERF_PROMO</td>\n",
       "      <td>2018-01-01</td>\n",
       "      <td>Promocion</td>\n",
       "      <td>1520173</td>\n",
       "      <td>INACTIVA</td>\n",
       "      <td>TERCIARIO</td>\n",
       "      <td>BOGOTA</td>\n",
       "      <td>1</td>\n",
       "      <td>3</td>\n",
       "      <td>3</td>\n",
       "      <td>0</td>\n",
       "      <td>6</td>\n",
       "      <td>0</td>\n",
       "      <td>0</td>\n",
       "      <td>0</td>\n",
       "      <td>3</td>\n",
       "      <td>0</td>\n",
       "      <td>0</td>\n",
       "      <td>3</td>\n",
       "      <td>0</td>\n",
       "      <td>0</td>\n",
       "      <td>0</td>\n",
       "      <td>0</td>\n",
       "      <td>0</td>\n",
       "      <td>0</td>\n",
       "      <td>0</td>\n",
       "      <td>4</td>\n",
       "      <td>2</td>\n",
       "      <td>0</td>\n",
       "      <td>0</td>\n",
       "      <td>0</td>\n",
       "      <td>0</td>\n",
       "      <td>0</td>\n",
       "      <td>2</td>\n",
       "      <td>1</td>\n",
       "      <td>0</td>\n",
       "      <td>3</td>\n",
       "      <td>PERF_PROMO</td>\n",
       "      <td>ACTIVA</td>\n",
       "      <td>TERCIARIO</td>\n",
       "      <td>4438.75</td>\n",
       "      <td>0.904</td>\n",
       "    </tr>\n",
       "    <tr>\n",
       "      <th>4</th>\n",
       "      <td>40057779</td>\n",
       "      <td>6868841</td>\n",
       "      <td>144920</td>\n",
       "      <td>PERFIL PROMOCIONAL</td>\n",
       "      <td>144920</td>\n",
       "      <td>PERF_PROMO</td>\n",
       "      <td>2018-01-01</td>\n",
       "      <td>Promocion</td>\n",
       "      <td>2971771</td>\n",
       "      <td>ACTIVA</td>\n",
       "      <td>QUINARIO</td>\n",
       "      <td>BOGOTA</td>\n",
       "      <td>1</td>\n",
       "      <td>3</td>\n",
       "      <td>3</td>\n",
       "      <td>0</td>\n",
       "      <td>6</td>\n",
       "      <td>0</td>\n",
       "      <td>0</td>\n",
       "      <td>0</td>\n",
       "      <td>3</td>\n",
       "      <td>0</td>\n",
       "      <td>0</td>\n",
       "      <td>3</td>\n",
       "      <td>0</td>\n",
       "      <td>0</td>\n",
       "      <td>0</td>\n",
       "      <td>0</td>\n",
       "      <td>0</td>\n",
       "      <td>0</td>\n",
       "      <td>0</td>\n",
       "      <td>4</td>\n",
       "      <td>2</td>\n",
       "      <td>0</td>\n",
       "      <td>0</td>\n",
       "      <td>0</td>\n",
       "      <td>0</td>\n",
       "      <td>0</td>\n",
       "      <td>2</td>\n",
       "      <td>1</td>\n",
       "      <td>0</td>\n",
       "      <td>3</td>\n",
       "      <td>PERF_PROMO</td>\n",
       "      <td>ACTIVA</td>\n",
       "      <td>TERCIARIO</td>\n",
       "      <td>4438.75</td>\n",
       "      <td>0.904</td>\n",
       "    </tr>\n",
       "  </tbody>\n",
       "</table>\n",
       "</div>"
      ],
      "text/plain": [
       "   IDCONSUMO  IDUSUARIO  IDPRODUCTO        DESCPRODUCTO  IDGRUPOPROD  \\\n",
       "0   40057306    6868835      144920  PERFIL PROMOCIONAL       144920   \n",
       "1   40057715    6868838      144920  PERFIL PROMOCIONAL       144920   \n",
       "2   40057785    6868841      144917        FICHA BASICA       144917   \n",
       "3   40057786    6868841      144920  PERFIL PROMOCIONAL       144920   \n",
       "4   40057779    6868841      144920  PERFIL PROMOCIONAL       144920   \n",
       "\n",
       "  DESCGRUPOPROD FECHACONSUMO TIPO_CONSUMO  EMPCONSUL_ID EMPCONSUL_EST  \\\n",
       "0    PERF_PROMO   2018-01-01    Promocion        986515        ACTIVA   \n",
       "1    PERF_PROMO   2018-01-01    Promocion        102614        ACTIVA   \n",
       "2    FICH_PROMO   2018-01-01    Promocion       1520173      INACTIVA   \n",
       "3    PERF_PROMO   2018-01-01    Promocion       1520173      INACTIVA   \n",
       "4    PERF_PROMO   2018-01-01    Promocion       2971771        ACTIVA   \n",
       "\n",
       "  EMPCONSUL_SECTOR_ECONOMICO EMPCONSUL_PROV  unit_tmp  FICH_PROMO  PERF_PROMO  \\\n",
       "0                  TERCIARIO      ATLANTICO         1           0           1   \n",
       "1                  TERCIARIO         BOGOTA         1           0           1   \n",
       "2                  TERCIARIO         BOGOTA         1           3           3   \n",
       "3                  TERCIARIO         BOGOTA         1           3           3   \n",
       "4                   QUINARIO         BOGOTA         1           3           3   \n",
       "\n",
       "   RES_PAGO  PROD_CONSUM  BALANCE Y CUENTA DE RESULTADOS  EVALUACION  \\\n",
       "0         0            1                               0           0   \n",
       "1         0            1                               0           0   \n",
       "2         0            6                               0           0   \n",
       "3         0            6                               0           0   \n",
       "4         0            6                               0           0   \n",
       "\n",
       "   FICHA AVANZADA  FICHA BASICA  OFERTA 2  PERFIL  PERFIL PROMOCIONAL  \\\n",
       "0               0             0         0       0                   1   \n",
       "1               0             0         0       0                   1   \n",
       "2               0             3         0       0                   3   \n",
       "3               0             3         0       0                   3   \n",
       "4               0             3         0       0                   3   \n",
       "\n",
       "   REPORT 1  REPORT 2  REPORT 3  REPORT 4  REPORT 5  REPORT 6  SOLVENCIA  \\\n",
       "0         0         0         0         0         0         0          0   \n",
       "1         0         0         0         0         0         0          0   \n",
       "2         0         0         0         0         0         0          0   \n",
       "3         0         0         0         0         0         0          0   \n",
       "4         0         0         0         0         0         0          0   \n",
       "\n",
       "   ACTIVA  INACTIVA  NI  REESTRUCTURACION  RELACION_CLINTON  CUATERNARIO  \\\n",
       "0       1         0   0                 0                 0            0   \n",
       "1       1         0   0                 0                 0            0   \n",
       "2       4         2   0                 0                 0            0   \n",
       "3       4         2   0                 0                 0            0   \n",
       "4       4         2   0                 0                 0            0   \n",
       "\n",
       "   PRIMARIO  QUINARIO  SD  SECUNDARIO  TERCIARIO 1A_DESCGRUPOPROD  \\\n",
       "0         0         0   0           0          1       PERF_PROMO   \n",
       "1         0         0   0           0          1       PERF_PROMO   \n",
       "2         0         2   1           0          3       PERF_PROMO   \n",
       "3         0         2   1           0          3       PERF_PROMO   \n",
       "4         0         2   1           0          3       PERF_PROMO   \n",
       "\n",
       "  1A_EMPCONSUL_EST 1A_EMPCONSUL_SECTOR  1A_EMPCONSUL_PROV_DENS  \\\n",
       "0           ACTIVA           TERCIARIO                  815.17   \n",
       "1           ACTIVA           TERCIARIO                 4438.75   \n",
       "2           ACTIVA           TERCIARIO                 4438.75   \n",
       "3           ACTIVA           TERCIARIO                 4438.75   \n",
       "4           ACTIVA           TERCIARIO                 4438.75   \n",
       "\n",
       "   1A_EMPCONSUL_PROV_IDH  \n",
       "0                  0.835  \n",
       "1                  0.904  \n",
       "2                  0.904  \n",
       "3                  0.904  \n",
       "4                  0.904  "
      ]
     },
     "execution_count": 153,
     "metadata": {},
     "output_type": "execute_result"
    }
   ],
   "source": [
    "df_cons_base.head(5)"
   ]
  },
  {
   "cell_type": "markdown",
   "id": "detected-gibson",
   "metadata": {},
   "source": [
    "**Terminamos agregando el set con la información a nivel cliente, con la selección de las columnas que deseamos**"
   ]
  },
  {
   "cell_type": "code",
   "execution_count": 154,
   "id": "moving-aging",
   "metadata": {},
   "outputs": [],
   "source": [
    "columnas = ['IDUSUARIO','FECHACONSUMO','PROD_CONSUM','FICH_PROMO','PERF_PROMO','RES_PAGO','BALANCE Y CUENTA DE RESULTADOS','EVALUACION','FICHA AVANZADA',\n",
    "            'FICHA BASICA','OFERTA 2','PERFIL','PERFIL PROMOCIONAL','REPORT 1','REPORT 2','REPORT 3','REPORT 4','REPORT 5','REPORT 6','SOLVENCIA',\n",
    "            'ACTIVA','INACTIVA','REESTRUCTURACION','RELACION_CLINTON','NI','PRIMARIO','SECUNDARIO','TERCIARIO','CUATERNARIO','QUINARIO','SD','1A_DESCGRUPOPROD',\n",
    "            '1A_EMPCONSUL_EST','1A_EMPCONSUL_SECTOR','1A_EMPCONSUL_PROV_DENS','1A_EMPCONSUL_PROV_IDH']"
   ]
  },
  {
   "cell_type": "code",
   "execution_count": 155,
   "id": "adopted-bulletin",
   "metadata": {},
   "outputs": [],
   "source": [
    "df_cons_base = (df_cons_base.groupby(by = columnas)[columnas].head(1))"
   ]
  },
  {
   "cell_type": "code",
   "execution_count": 156,
   "id": "domestic-arnold",
   "metadata": {},
   "outputs": [],
   "source": [
    "df_cons_base.reset_index(drop = True, inplace = True)"
   ]
  },
  {
   "cell_type": "code",
   "execution_count": 157,
   "id": "selective-brook",
   "metadata": {},
   "outputs": [
    {
     "data": {
      "text/html": [
       "<div>\n",
       "<style scoped>\n",
       "    .dataframe tbody tr th:only-of-type {\n",
       "        vertical-align: middle;\n",
       "    }\n",
       "\n",
       "    .dataframe tbody tr th {\n",
       "        vertical-align: top;\n",
       "    }\n",
       "\n",
       "    .dataframe thead th {\n",
       "        text-align: right;\n",
       "    }\n",
       "</style>\n",
       "<table border=\"1\" class=\"dataframe\">\n",
       "  <thead>\n",
       "    <tr style=\"text-align: right;\">\n",
       "      <th></th>\n",
       "      <th>IDUSUARIO</th>\n",
       "      <th>FECHACONSUMO</th>\n",
       "      <th>PROD_CONSUM</th>\n",
       "      <th>FICH_PROMO</th>\n",
       "      <th>PERF_PROMO</th>\n",
       "      <th>RES_PAGO</th>\n",
       "      <th>BALANCE Y CUENTA DE RESULTADOS</th>\n",
       "      <th>EVALUACION</th>\n",
       "      <th>FICHA AVANZADA</th>\n",
       "      <th>FICHA BASICA</th>\n",
       "      <th>OFERTA 2</th>\n",
       "      <th>PERFIL</th>\n",
       "      <th>PERFIL PROMOCIONAL</th>\n",
       "      <th>REPORT 1</th>\n",
       "      <th>REPORT 2</th>\n",
       "      <th>REPORT 3</th>\n",
       "      <th>REPORT 4</th>\n",
       "      <th>REPORT 5</th>\n",
       "      <th>REPORT 6</th>\n",
       "      <th>SOLVENCIA</th>\n",
       "      <th>ACTIVA</th>\n",
       "      <th>INACTIVA</th>\n",
       "      <th>REESTRUCTURACION</th>\n",
       "      <th>RELACION_CLINTON</th>\n",
       "      <th>NI</th>\n",
       "      <th>PRIMARIO</th>\n",
       "      <th>SECUNDARIO</th>\n",
       "      <th>TERCIARIO</th>\n",
       "      <th>CUATERNARIO</th>\n",
       "      <th>QUINARIO</th>\n",
       "      <th>SD</th>\n",
       "      <th>1A_DESCGRUPOPROD</th>\n",
       "      <th>1A_EMPCONSUL_EST</th>\n",
       "      <th>1A_EMPCONSUL_SECTOR</th>\n",
       "      <th>1A_EMPCONSUL_PROV_DENS</th>\n",
       "      <th>1A_EMPCONSUL_PROV_IDH</th>\n",
       "    </tr>\n",
       "  </thead>\n",
       "  <tbody>\n",
       "    <tr>\n",
       "      <th>0</th>\n",
       "      <td>6868835</td>\n",
       "      <td>2018-01-01</td>\n",
       "      <td>1</td>\n",
       "      <td>0</td>\n",
       "      <td>1</td>\n",
       "      <td>0</td>\n",
       "      <td>0</td>\n",
       "      <td>0</td>\n",
       "      <td>0</td>\n",
       "      <td>0</td>\n",
       "      <td>0</td>\n",
       "      <td>0</td>\n",
       "      <td>1</td>\n",
       "      <td>0</td>\n",
       "      <td>0</td>\n",
       "      <td>0</td>\n",
       "      <td>0</td>\n",
       "      <td>0</td>\n",
       "      <td>0</td>\n",
       "      <td>0</td>\n",
       "      <td>1</td>\n",
       "      <td>0</td>\n",
       "      <td>0</td>\n",
       "      <td>0</td>\n",
       "      <td>0</td>\n",
       "      <td>0</td>\n",
       "      <td>0</td>\n",
       "      <td>1</td>\n",
       "      <td>0</td>\n",
       "      <td>0</td>\n",
       "      <td>0</td>\n",
       "      <td>PERF_PROMO</td>\n",
       "      <td>ACTIVA</td>\n",
       "      <td>TERCIARIO</td>\n",
       "      <td>815.17</td>\n",
       "      <td>0.835</td>\n",
       "    </tr>\n",
       "    <tr>\n",
       "      <th>1</th>\n",
       "      <td>6868838</td>\n",
       "      <td>2018-01-01</td>\n",
       "      <td>1</td>\n",
       "      <td>0</td>\n",
       "      <td>1</td>\n",
       "      <td>0</td>\n",
       "      <td>0</td>\n",
       "      <td>0</td>\n",
       "      <td>0</td>\n",
       "      <td>0</td>\n",
       "      <td>0</td>\n",
       "      <td>0</td>\n",
       "      <td>1</td>\n",
       "      <td>0</td>\n",
       "      <td>0</td>\n",
       "      <td>0</td>\n",
       "      <td>0</td>\n",
       "      <td>0</td>\n",
       "      <td>0</td>\n",
       "      <td>0</td>\n",
       "      <td>1</td>\n",
       "      <td>0</td>\n",
       "      <td>0</td>\n",
       "      <td>0</td>\n",
       "      <td>0</td>\n",
       "      <td>0</td>\n",
       "      <td>0</td>\n",
       "      <td>1</td>\n",
       "      <td>0</td>\n",
       "      <td>0</td>\n",
       "      <td>0</td>\n",
       "      <td>PERF_PROMO</td>\n",
       "      <td>ACTIVA</td>\n",
       "      <td>TERCIARIO</td>\n",
       "      <td>4438.75</td>\n",
       "      <td>0.904</td>\n",
       "    </tr>\n",
       "    <tr>\n",
       "      <th>2</th>\n",
       "      <td>6868841</td>\n",
       "      <td>2018-01-01</td>\n",
       "      <td>6</td>\n",
       "      <td>3</td>\n",
       "      <td>3</td>\n",
       "      <td>0</td>\n",
       "      <td>0</td>\n",
       "      <td>0</td>\n",
       "      <td>0</td>\n",
       "      <td>3</td>\n",
       "      <td>0</td>\n",
       "      <td>0</td>\n",
       "      <td>3</td>\n",
       "      <td>0</td>\n",
       "      <td>0</td>\n",
       "      <td>0</td>\n",
       "      <td>0</td>\n",
       "      <td>0</td>\n",
       "      <td>0</td>\n",
       "      <td>0</td>\n",
       "      <td>4</td>\n",
       "      <td>2</td>\n",
       "      <td>0</td>\n",
       "      <td>0</td>\n",
       "      <td>0</td>\n",
       "      <td>0</td>\n",
       "      <td>0</td>\n",
       "      <td>3</td>\n",
       "      <td>0</td>\n",
       "      <td>2</td>\n",
       "      <td>1</td>\n",
       "      <td>PERF_PROMO</td>\n",
       "      <td>ACTIVA</td>\n",
       "      <td>TERCIARIO</td>\n",
       "      <td>4438.75</td>\n",
       "      <td>0.904</td>\n",
       "    </tr>\n",
       "    <tr>\n",
       "      <th>3</th>\n",
       "      <td>6868844</td>\n",
       "      <td>2018-01-01</td>\n",
       "      <td>1</td>\n",
       "      <td>0</td>\n",
       "      <td>1</td>\n",
       "      <td>0</td>\n",
       "      <td>0</td>\n",
       "      <td>0</td>\n",
       "      <td>0</td>\n",
       "      <td>0</td>\n",
       "      <td>0</td>\n",
       "      <td>0</td>\n",
       "      <td>1</td>\n",
       "      <td>0</td>\n",
       "      <td>0</td>\n",
       "      <td>0</td>\n",
       "      <td>0</td>\n",
       "      <td>0</td>\n",
       "      <td>0</td>\n",
       "      <td>0</td>\n",
       "      <td>1</td>\n",
       "      <td>0</td>\n",
       "      <td>0</td>\n",
       "      <td>0</td>\n",
       "      <td>0</td>\n",
       "      <td>0</td>\n",
       "      <td>0</td>\n",
       "      <td>1</td>\n",
       "      <td>0</td>\n",
       "      <td>0</td>\n",
       "      <td>0</td>\n",
       "      <td>PERF_PROMO</td>\n",
       "      <td>ACTIVA</td>\n",
       "      <td>TERCIARIO</td>\n",
       "      <td>4438.75</td>\n",
       "      <td>0.904</td>\n",
       "    </tr>\n",
       "    <tr>\n",
       "      <th>4</th>\n",
       "      <td>6868847</td>\n",
       "      <td>2018-01-01</td>\n",
       "      <td>1</td>\n",
       "      <td>0</td>\n",
       "      <td>1</td>\n",
       "      <td>0</td>\n",
       "      <td>0</td>\n",
       "      <td>0</td>\n",
       "      <td>0</td>\n",
       "      <td>0</td>\n",
       "      <td>0</td>\n",
       "      <td>0</td>\n",
       "      <td>1</td>\n",
       "      <td>0</td>\n",
       "      <td>0</td>\n",
       "      <td>0</td>\n",
       "      <td>0</td>\n",
       "      <td>0</td>\n",
       "      <td>0</td>\n",
       "      <td>0</td>\n",
       "      <td>1</td>\n",
       "      <td>0</td>\n",
       "      <td>0</td>\n",
       "      <td>0</td>\n",
       "      <td>0</td>\n",
       "      <td>0</td>\n",
       "      <td>1</td>\n",
       "      <td>0</td>\n",
       "      <td>0</td>\n",
       "      <td>0</td>\n",
       "      <td>0</td>\n",
       "      <td>PERF_PROMO</td>\n",
       "      <td>ACTIVA</td>\n",
       "      <td>SECUNDARIO</td>\n",
       "      <td>101.49</td>\n",
       "      <td>0.849</td>\n",
       "    </tr>\n",
       "  </tbody>\n",
       "</table>\n",
       "</div>"
      ],
      "text/plain": [
       "   IDUSUARIO FECHACONSUMO  PROD_CONSUM  FICH_PROMO  PERF_PROMO  RES_PAGO  \\\n",
       "0    6868835   2018-01-01            1           0           1         0   \n",
       "1    6868838   2018-01-01            1           0           1         0   \n",
       "2    6868841   2018-01-01            6           3           3         0   \n",
       "3    6868844   2018-01-01            1           0           1         0   \n",
       "4    6868847   2018-01-01            1           0           1         0   \n",
       "\n",
       "   BALANCE Y CUENTA DE RESULTADOS  EVALUACION  FICHA AVANZADA  FICHA BASICA  \\\n",
       "0                               0           0               0             0   \n",
       "1                               0           0               0             0   \n",
       "2                               0           0               0             3   \n",
       "3                               0           0               0             0   \n",
       "4                               0           0               0             0   \n",
       "\n",
       "   OFERTA 2  PERFIL  PERFIL PROMOCIONAL  REPORT 1  REPORT 2  REPORT 3  \\\n",
       "0         0       0                   1         0         0         0   \n",
       "1         0       0                   1         0         0         0   \n",
       "2         0       0                   3         0         0         0   \n",
       "3         0       0                   1         0         0         0   \n",
       "4         0       0                   1         0         0         0   \n",
       "\n",
       "   REPORT 4  REPORT 5  REPORT 6  SOLVENCIA  ACTIVA  INACTIVA  \\\n",
       "0         0         0         0          0       1         0   \n",
       "1         0         0         0          0       1         0   \n",
       "2         0         0         0          0       4         2   \n",
       "3         0         0         0          0       1         0   \n",
       "4         0         0         0          0       1         0   \n",
       "\n",
       "   REESTRUCTURACION  RELACION_CLINTON  NI  PRIMARIO  SECUNDARIO  TERCIARIO  \\\n",
       "0                 0                 0   0         0           0          1   \n",
       "1                 0                 0   0         0           0          1   \n",
       "2                 0                 0   0         0           0          3   \n",
       "3                 0                 0   0         0           0          1   \n",
       "4                 0                 0   0         0           1          0   \n",
       "\n",
       "   CUATERNARIO  QUINARIO  SD 1A_DESCGRUPOPROD 1A_EMPCONSUL_EST  \\\n",
       "0            0         0   0       PERF_PROMO           ACTIVA   \n",
       "1            0         0   0       PERF_PROMO           ACTIVA   \n",
       "2            0         2   1       PERF_PROMO           ACTIVA   \n",
       "3            0         0   0       PERF_PROMO           ACTIVA   \n",
       "4            0         0   0       PERF_PROMO           ACTIVA   \n",
       "\n",
       "  1A_EMPCONSUL_SECTOR  1A_EMPCONSUL_PROV_DENS  1A_EMPCONSUL_PROV_IDH  \n",
       "0           TERCIARIO                  815.17                  0.835  \n",
       "1           TERCIARIO                 4438.75                  0.904  \n",
       "2           TERCIARIO                 4438.75                  0.904  \n",
       "3           TERCIARIO                 4438.75                  0.904  \n",
       "4          SECUNDARIO                  101.49                  0.849  "
      ]
     },
     "execution_count": 157,
     "metadata": {},
     "output_type": "execute_result"
    }
   ],
   "source": [
    "df_cons_base.head(5)"
   ]
  },
  {
   "cell_type": "code",
   "execution_count": 162,
   "id": "secondary-surgeon",
   "metadata": {},
   "outputs": [
    {
     "data": {
      "text/plain": [
       "(367707, 36)"
      ]
     },
     "execution_count": 162,
     "metadata": {},
     "output_type": "execute_result"
    }
   ],
   "source": [
    "df_cons_base.shape"
   ]
  },
  {
   "cell_type": "markdown",
   "id": "assigned-salad",
   "metadata": {},
   "source": [
    "**Por último renombramos al gusto**"
   ]
  },
  {
   "cell_type": "code",
   "execution_count": 159,
   "id": "leading-color",
   "metadata": {},
   "outputs": [],
   "source": [
    "df_cons_base.rename(columns = {'IDUSUARIO': 'ID_USUARIO',\n",
    "                               'FECHACONSUMO': 'CONS_FECHACONSUMO',\n",
    "                               'PROD_CONSUM': 'CONSUM_TOT',\n",
    "                               'ACTIVA': 'EST_ACTIVA_TOT',\n",
    "                               'INACTIVA': 'EST_INACTIVA_TOT',\n",
    "                               'REESTRUCTURACION': 'EST_REESTRUCT_TOT',\n",
    "                               'RELACION_CLINTON': 'EST_CLINTON_TOT',\n",
    "                               'NI': 'EST_NI_TOT',\n",
    "                               'PRIMARIO': 'SECT_PRIM_TOT',\n",
    "                               'SECUNDARIO': 'SECT_SECU_TOT',\n",
    "                               'TERCIARIO': 'SECT_TERC_TOT',\n",
    "                               'CUATERNARIO': 'SECT_CUAT_TOT',\n",
    "                               'QUINARIO': 'SECT_QUIN_TOT',\n",
    "                               'SD': 'SECT_SD_TOT'}, inplace = True)"
   ]
  },
  {
   "cell_type": "code",
   "execution_count": 160,
   "id": "suitable-accountability",
   "metadata": {},
   "outputs": [
    {
     "data": {
      "text/html": [
       "<div>\n",
       "<style scoped>\n",
       "    .dataframe tbody tr th:only-of-type {\n",
       "        vertical-align: middle;\n",
       "    }\n",
       "\n",
       "    .dataframe tbody tr th {\n",
       "        vertical-align: top;\n",
       "    }\n",
       "\n",
       "    .dataframe thead th {\n",
       "        text-align: right;\n",
       "    }\n",
       "</style>\n",
       "<table border=\"1\" class=\"dataframe\">\n",
       "  <thead>\n",
       "    <tr style=\"text-align: right;\">\n",
       "      <th></th>\n",
       "      <th>ID_USUARIO</th>\n",
       "      <th>CONS_FECHACONSUMO</th>\n",
       "      <th>CONSUM_TOT</th>\n",
       "      <th>FICH_PROMO</th>\n",
       "      <th>PERF_PROMO</th>\n",
       "      <th>RES_PAGO</th>\n",
       "      <th>BALANCE Y CUENTA DE RESULTADOS</th>\n",
       "      <th>EVALUACION</th>\n",
       "      <th>FICHA AVANZADA</th>\n",
       "      <th>FICHA BASICA</th>\n",
       "      <th>OFERTA 2</th>\n",
       "      <th>PERFIL</th>\n",
       "      <th>PERFIL PROMOCIONAL</th>\n",
       "      <th>REPORT 1</th>\n",
       "      <th>REPORT 2</th>\n",
       "      <th>REPORT 3</th>\n",
       "      <th>REPORT 4</th>\n",
       "      <th>REPORT 5</th>\n",
       "      <th>REPORT 6</th>\n",
       "      <th>SOLVENCIA</th>\n",
       "      <th>EST_ACTIVA_TOT</th>\n",
       "      <th>EST_INACTIVA_TOT</th>\n",
       "      <th>EST_REESTRUCT_TOT</th>\n",
       "      <th>EST_CLINTON_TOT</th>\n",
       "      <th>EST_NI_TOT</th>\n",
       "      <th>SECT_PRIM_TOT</th>\n",
       "      <th>SECT_SECU_TOT</th>\n",
       "      <th>SECT_TERC_TOT</th>\n",
       "      <th>SECT_CUAT_TOT</th>\n",
       "      <th>SECT_QUIN_TOT</th>\n",
       "      <th>SECT_SD_TOT</th>\n",
       "      <th>1A_DESCGRUPOPROD</th>\n",
       "      <th>1A_EMPCONSUL_EST</th>\n",
       "      <th>1A_EMPCONSUL_SECTOR</th>\n",
       "      <th>1A_EMPCONSUL_PROV_DENS</th>\n",
       "      <th>1A_EMPCONSUL_PROV_IDH</th>\n",
       "    </tr>\n",
       "  </thead>\n",
       "  <tbody>\n",
       "    <tr>\n",
       "      <th>0</th>\n",
       "      <td>6868835</td>\n",
       "      <td>2018-01-01</td>\n",
       "      <td>1</td>\n",
       "      <td>0</td>\n",
       "      <td>1</td>\n",
       "      <td>0</td>\n",
       "      <td>0</td>\n",
       "      <td>0</td>\n",
       "      <td>0</td>\n",
       "      <td>0</td>\n",
       "      <td>0</td>\n",
       "      <td>0</td>\n",
       "      <td>1</td>\n",
       "      <td>0</td>\n",
       "      <td>0</td>\n",
       "      <td>0</td>\n",
       "      <td>0</td>\n",
       "      <td>0</td>\n",
       "      <td>0</td>\n",
       "      <td>0</td>\n",
       "      <td>1</td>\n",
       "      <td>0</td>\n",
       "      <td>0</td>\n",
       "      <td>0</td>\n",
       "      <td>0</td>\n",
       "      <td>0</td>\n",
       "      <td>0</td>\n",
       "      <td>1</td>\n",
       "      <td>0</td>\n",
       "      <td>0</td>\n",
       "      <td>0</td>\n",
       "      <td>PERF_PROMO</td>\n",
       "      <td>ACTIVA</td>\n",
       "      <td>TERCIARIO</td>\n",
       "      <td>815.17</td>\n",
       "      <td>0.835</td>\n",
       "    </tr>\n",
       "    <tr>\n",
       "      <th>1</th>\n",
       "      <td>6868838</td>\n",
       "      <td>2018-01-01</td>\n",
       "      <td>1</td>\n",
       "      <td>0</td>\n",
       "      <td>1</td>\n",
       "      <td>0</td>\n",
       "      <td>0</td>\n",
       "      <td>0</td>\n",
       "      <td>0</td>\n",
       "      <td>0</td>\n",
       "      <td>0</td>\n",
       "      <td>0</td>\n",
       "      <td>1</td>\n",
       "      <td>0</td>\n",
       "      <td>0</td>\n",
       "      <td>0</td>\n",
       "      <td>0</td>\n",
       "      <td>0</td>\n",
       "      <td>0</td>\n",
       "      <td>0</td>\n",
       "      <td>1</td>\n",
       "      <td>0</td>\n",
       "      <td>0</td>\n",
       "      <td>0</td>\n",
       "      <td>0</td>\n",
       "      <td>0</td>\n",
       "      <td>0</td>\n",
       "      <td>1</td>\n",
       "      <td>0</td>\n",
       "      <td>0</td>\n",
       "      <td>0</td>\n",
       "      <td>PERF_PROMO</td>\n",
       "      <td>ACTIVA</td>\n",
       "      <td>TERCIARIO</td>\n",
       "      <td>4438.75</td>\n",
       "      <td>0.904</td>\n",
       "    </tr>\n",
       "    <tr>\n",
       "      <th>2</th>\n",
       "      <td>6868841</td>\n",
       "      <td>2018-01-01</td>\n",
       "      <td>6</td>\n",
       "      <td>3</td>\n",
       "      <td>3</td>\n",
       "      <td>0</td>\n",
       "      <td>0</td>\n",
       "      <td>0</td>\n",
       "      <td>0</td>\n",
       "      <td>3</td>\n",
       "      <td>0</td>\n",
       "      <td>0</td>\n",
       "      <td>3</td>\n",
       "      <td>0</td>\n",
       "      <td>0</td>\n",
       "      <td>0</td>\n",
       "      <td>0</td>\n",
       "      <td>0</td>\n",
       "      <td>0</td>\n",
       "      <td>0</td>\n",
       "      <td>4</td>\n",
       "      <td>2</td>\n",
       "      <td>0</td>\n",
       "      <td>0</td>\n",
       "      <td>0</td>\n",
       "      <td>0</td>\n",
       "      <td>0</td>\n",
       "      <td>3</td>\n",
       "      <td>0</td>\n",
       "      <td>2</td>\n",
       "      <td>1</td>\n",
       "      <td>PERF_PROMO</td>\n",
       "      <td>ACTIVA</td>\n",
       "      <td>TERCIARIO</td>\n",
       "      <td>4438.75</td>\n",
       "      <td>0.904</td>\n",
       "    </tr>\n",
       "    <tr>\n",
       "      <th>3</th>\n",
       "      <td>6868844</td>\n",
       "      <td>2018-01-01</td>\n",
       "      <td>1</td>\n",
       "      <td>0</td>\n",
       "      <td>1</td>\n",
       "      <td>0</td>\n",
       "      <td>0</td>\n",
       "      <td>0</td>\n",
       "      <td>0</td>\n",
       "      <td>0</td>\n",
       "      <td>0</td>\n",
       "      <td>0</td>\n",
       "      <td>1</td>\n",
       "      <td>0</td>\n",
       "      <td>0</td>\n",
       "      <td>0</td>\n",
       "      <td>0</td>\n",
       "      <td>0</td>\n",
       "      <td>0</td>\n",
       "      <td>0</td>\n",
       "      <td>1</td>\n",
       "      <td>0</td>\n",
       "      <td>0</td>\n",
       "      <td>0</td>\n",
       "      <td>0</td>\n",
       "      <td>0</td>\n",
       "      <td>0</td>\n",
       "      <td>1</td>\n",
       "      <td>0</td>\n",
       "      <td>0</td>\n",
       "      <td>0</td>\n",
       "      <td>PERF_PROMO</td>\n",
       "      <td>ACTIVA</td>\n",
       "      <td>TERCIARIO</td>\n",
       "      <td>4438.75</td>\n",
       "      <td>0.904</td>\n",
       "    </tr>\n",
       "    <tr>\n",
       "      <th>4</th>\n",
       "      <td>6868847</td>\n",
       "      <td>2018-01-01</td>\n",
       "      <td>1</td>\n",
       "      <td>0</td>\n",
       "      <td>1</td>\n",
       "      <td>0</td>\n",
       "      <td>0</td>\n",
       "      <td>0</td>\n",
       "      <td>0</td>\n",
       "      <td>0</td>\n",
       "      <td>0</td>\n",
       "      <td>0</td>\n",
       "      <td>1</td>\n",
       "      <td>0</td>\n",
       "      <td>0</td>\n",
       "      <td>0</td>\n",
       "      <td>0</td>\n",
       "      <td>0</td>\n",
       "      <td>0</td>\n",
       "      <td>0</td>\n",
       "      <td>1</td>\n",
       "      <td>0</td>\n",
       "      <td>0</td>\n",
       "      <td>0</td>\n",
       "      <td>0</td>\n",
       "      <td>0</td>\n",
       "      <td>1</td>\n",
       "      <td>0</td>\n",
       "      <td>0</td>\n",
       "      <td>0</td>\n",
       "      <td>0</td>\n",
       "      <td>PERF_PROMO</td>\n",
       "      <td>ACTIVA</td>\n",
       "      <td>SECUNDARIO</td>\n",
       "      <td>101.49</td>\n",
       "      <td>0.849</td>\n",
       "    </tr>\n",
       "  </tbody>\n",
       "</table>\n",
       "</div>"
      ],
      "text/plain": [
       "   ID_USUARIO CONS_FECHACONSUMO  CONSUM_TOT  FICH_PROMO  PERF_PROMO  RES_PAGO  \\\n",
       "0     6868835        2018-01-01           1           0           1         0   \n",
       "1     6868838        2018-01-01           1           0           1         0   \n",
       "2     6868841        2018-01-01           6           3           3         0   \n",
       "3     6868844        2018-01-01           1           0           1         0   \n",
       "4     6868847        2018-01-01           1           0           1         0   \n",
       "\n",
       "   BALANCE Y CUENTA DE RESULTADOS  EVALUACION  FICHA AVANZADA  FICHA BASICA  \\\n",
       "0                               0           0               0             0   \n",
       "1                               0           0               0             0   \n",
       "2                               0           0               0             3   \n",
       "3                               0           0               0             0   \n",
       "4                               0           0               0             0   \n",
       "\n",
       "   OFERTA 2  PERFIL  PERFIL PROMOCIONAL  REPORT 1  REPORT 2  REPORT 3  \\\n",
       "0         0       0                   1         0         0         0   \n",
       "1         0       0                   1         0         0         0   \n",
       "2         0       0                   3         0         0         0   \n",
       "3         0       0                   1         0         0         0   \n",
       "4         0       0                   1         0         0         0   \n",
       "\n",
       "   REPORT 4  REPORT 5  REPORT 6  SOLVENCIA  EST_ACTIVA_TOT  EST_INACTIVA_TOT  \\\n",
       "0         0         0         0          0               1                 0   \n",
       "1         0         0         0          0               1                 0   \n",
       "2         0         0         0          0               4                 2   \n",
       "3         0         0         0          0               1                 0   \n",
       "4         0         0         0          0               1                 0   \n",
       "\n",
       "   EST_REESTRUCT_TOT  EST_CLINTON_TOT  EST_NI_TOT  SECT_PRIM_TOT  \\\n",
       "0                  0                0           0              0   \n",
       "1                  0                0           0              0   \n",
       "2                  0                0           0              0   \n",
       "3                  0                0           0              0   \n",
       "4                  0                0           0              0   \n",
       "\n",
       "   SECT_SECU_TOT  SECT_TERC_TOT  SECT_CUAT_TOT  SECT_QUIN_TOT  SECT_SD_TOT  \\\n",
       "0              0              1              0              0            0   \n",
       "1              0              1              0              0            0   \n",
       "2              0              3              0              2            1   \n",
       "3              0              1              0              0            0   \n",
       "4              1              0              0              0            0   \n",
       "\n",
       "  1A_DESCGRUPOPROD 1A_EMPCONSUL_EST 1A_EMPCONSUL_SECTOR  \\\n",
       "0       PERF_PROMO           ACTIVA           TERCIARIO   \n",
       "1       PERF_PROMO           ACTIVA           TERCIARIO   \n",
       "2       PERF_PROMO           ACTIVA           TERCIARIO   \n",
       "3       PERF_PROMO           ACTIVA           TERCIARIO   \n",
       "4       PERF_PROMO           ACTIVA          SECUNDARIO   \n",
       "\n",
       "   1A_EMPCONSUL_PROV_DENS  1A_EMPCONSUL_PROV_IDH  \n",
       "0                  815.17                  0.835  \n",
       "1                 4438.75                  0.904  \n",
       "2                 4438.75                  0.904  \n",
       "3                 4438.75                  0.904  \n",
       "4                  101.49                  0.849  "
      ]
     },
     "execution_count": 160,
     "metadata": {},
     "output_type": "execute_result"
    }
   ],
   "source": [
    "df_cons_base.head(5)"
   ]
  },
  {
   "cell_type": "markdown",
   "id": "every-battery",
   "metadata": {},
   "source": [
    "-------------------------------------------------"
   ]
  },
  {
   "cell_type": "markdown",
   "id": "painful-authorization",
   "metadata": {},
   "source": [
    "-------------------------------------------------"
   ]
  },
  {
   "cell_type": "markdown",
   "id": "distinguished-train",
   "metadata": {},
   "source": [
    "### Escritura de Datos"
   ]
  },
  {
   "cell_type": "code",
   "execution_count": 161,
   "id": "sticky-given",
   "metadata": {},
   "outputs": [],
   "source": [
    "df_cons_base.to_csv('Data/Consumos_Clean.txt', sep = ';', encoding = 'ISO-8859-1', index = False)"
   ]
  }
 ],
 "metadata": {
  "kernelspec": {
   "display_name": "Python 3",
   "language": "python",
   "name": "python3"
  },
  "language_info": {
   "codemirror_mode": {
    "name": "ipython",
    "version": 3
   },
   "file_extension": ".py",
   "mimetype": "text/x-python",
   "name": "python",
   "nbconvert_exporter": "python",
   "pygments_lexer": "ipython3",
   "version": "3.8.8"
  }
 },
 "nbformat": 4,
 "nbformat_minor": 5
}
