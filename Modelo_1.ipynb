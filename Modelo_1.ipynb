{
 "cells": [
  {
   "cell_type": "markdown",
   "id": "ethical-champagne",
   "metadata": {},
   "source": [
    "# TFM - Predicción potenciales compradores de un ecommerce"
   ]
  },
  {
   "cell_type": "markdown",
   "id": "unnecessary-video",
   "metadata": {},
   "source": [
    "Este trabajo, está principalmente enfocado a la creación de un modelo de predicción de potenciales compradores en un ecommerce real relacionado con el mundo empresarial.\n",
    "\n",
    "Se trata de realizar una clasificación de visitantes a una web de venta online en función de los datos que se han almacenado de ellos y establecer su nivel potencial de compra.\n",
    "\n",
    "Para ello se dispone de diferentes repositorios con datos históricos relativos a:\n",
    "* características básicas del registro/lead: fecha registro, procedencia, marca de comprador, cuando compró.\n",
    "* características identificativas anonimizadas de los mismos: email, ubicación geográfica, tipo de persona.\n",
    "* log de sus movimientos/navegación en la web.\n",
    "* información sobre los productos que ha comprado.\n",
    "\n",
    "**Información relevante del negocio**\n",
    "\n",
    "Los datos proceden de un ecommerce con sede en Colombia que se dedica a la venta de productos relacionados con la información de empresas del país: Informes Comerciales y módulos de información detallada sobre Datos Financieros, Prensa, Administradores, Incidencias, etc, Informes Sectoriales, Base de datos a medida, Productos de Marketing (mercadeo), Información de accionistas, Información de proveedores y clientes, etc.\n",
    "\n",
    "Los usuarios potenciales compradores (personas en su nombre o representando a una empresa u otra entidad), llegan a la web del ecommerce por diferentes canales: directorios propios, webs de terceros, desde buscadores por labores de SEO y de SEM, etc.  \n",
    "\n",
    "Dichos usuarios tienen acceso a diferentes productos de menor contenido a cambio de registrarse en un formulario del site, en el que cumplimentan datos personales, email, teléfono, profesión, etc. El usuario pasa a ser Registrado, y es lo que en el mundo del ecommerce se denomina “lead”.  \n",
    "\n",
    "Tras el registro se permite el acceso a información muy básica sobre las empresas buscadas (Ficha de empresa), y se otorga la posibilidad de consumir gratis 5 productos de información a los que llamamos perfiles de empresa.  \n",
    "\n",
    "La oferta caduca a los 30 días.  \n",
    "\n",
    "El Perfil de empresa es un producto con contenido básico y su objetivo es mostrar a los potenciales compradores el nivel del contenido de los productos que suministra el ecommerce.  \n",
    "\n",
    "Resumiendo, la dinámica es la siguiente:\n",
    "* Un usuario busca una empresa en internet o en la web.\n",
    "* Al seleccionar una de las listadas en la búsqueda, se presenta una Ficha (Identificación) y se crea un registro en el log. Se muestra los productos disponibles para consumir.  \n",
    "    * Productos Promocionales (Perfil de Empresa). Para usuarios Registrados, si el Usuario se registra.\n",
    "    * Resto de Productos son de Pago. Es necesario estar registrado y pagar.\n",
    "* El usuario consume un producto (registro en el log) o vuelve a buscar otra empresa.  \n",
    "\n",
    "Si el usuario Registrado está interesado en conocer más a fondo una empresa o un determinado producto de pago, se le ofrece la posibilidad de contratación:  \n",
    "* PPV: Compra puntual del producto\n",
    "* Bonos: compra de un conjunto de unidades o una cantidad de productos a cambio de un pago anticipado.\n",
    "* Suscripción: pagando una cantidad periodica permite el acceso y consumo de productos, limitado por el volumen de compra y por la fecha de caducidad de la suscripción\n",
    "\n",
    "Cuando se produce una de estas contrataciones el usuario “Registrado”, pasa a ser “Cliente”.\n",
    "\n",
    "El propietario del ecommerce tiene información del usuario de su plataforma de Google Analytics que utiliza para la captación en internet, uso de cookies, estrategias de SEO y SEM, acuerdos con portales.  \n",
    "\n",
    "Ahora desea dar un paso más y quiere conocer más sobre los usuarios registrados para determinar la probabilidad de conversión a cliente. Saber cuáles son potenciales compradores a partir de los datos de ese registro en sus sistemas, del hábito de consumo de productos, y del tipo de empresa buscada/consultada.  \n",
    "\n",
    "El conjunto de datos está muy desbalanceado por ello es muy importante determinar a qué usuarios registrados debe dirigir el ecommerce sus campañas de captación.  \n",
    "\n",
    "Por otra parte, pero relacionado con el mismo tema, desean saber que perfil tienen sus clientes y que variables son las mas influyentes/relevantes en la predicción de compra para modificar la estrategia de marketing y su posicionamiento en Internet.  \n"
   ]
  },
  {
   "cell_type": "markdown",
   "id": "guided-lender",
   "metadata": {},
   "source": [
    "------------------------------------"
   ]
  },
  {
   "cell_type": "markdown",
   "id": "f1d3da8f-3328-46b4-a429-d9db420305c6",
   "metadata": {},
   "source": [
    "------------------"
   ]
  },
  {
   "cell_type": "markdown",
   "id": "related-bruce",
   "metadata": {},
   "source": [
    "### 1.1 Librerias"
   ]
  },
  {
   "cell_type": "code",
   "execution_count": 236,
   "id": "educational-access",
   "metadata": {},
   "outputs": [],
   "source": [
    "import pandas as pd\n",
    "import matplotlib.pyplot as plt\n",
    "import seaborn as sns\n",
    "\n",
    "from sklearn.model_selection import train_test_split\n",
    "from sklearn.ensemble import RandomForestClassifier \n",
    "from sklearn.metrics import confusion_matrix\n",
    "from sklearn.metrics import classification_report\n",
    "from sklearn.metrics import roc_auc_score\n",
    "from sklearn.model_selection import ParameterGrid\n",
    "\n",
    "from imblearn.pipeline import Pipeline\n",
    "from imblearn.under_sampling import NearMiss, RandomUnderSampler\n",
    "from imblearn.over_sampling import RandomOverSampler, SMOTE\n",
    "from imblearn.combine import SMOTETomek\n",
    "from imblearn.ensemble import BalancedBaggingClassifier, BalancedRandomForestClassifier, RUSBoostClassifier, EasyEnsembleClassifier\n",
    "\n",
    "from collections import Counter\n",
    "\n",
    "pd.set_option('display.max_columns', 200)\n",
    "\n",
    "import warnings\n",
    "warnings.filterwarnings(\"ignore\")"
   ]
  },
  {
   "cell_type": "markdown",
   "id": "ee290e54-4d6f-4ef7-8aed-4d442185f44d",
   "metadata": {},
   "source": [
    "------------------"
   ]
  },
  {
   "cell_type": "markdown",
   "id": "interior-tucson",
   "metadata": {},
   "source": [
    "### 1.2 Variables globales"
   ]
  },
  {
   "cell_type": "code",
   "execution_count": 2,
   "id": "described-mainland",
   "metadata": {},
   "outputs": [],
   "source": [
    "LABELS = [\"No_Cliente\",\"Cliente\"]"
   ]
  },
  {
   "cell_type": "markdown",
   "id": "10003f48-7fb3-442b-929a-e132559df249",
   "metadata": {},
   "source": [
    "------------------"
   ]
  },
  {
   "cell_type": "markdown",
   "id": "operating-captain",
   "metadata": {},
   "source": [
    "### 1.3 Funciones"
   ]
  },
  {
   "cell_type": "code",
   "execution_count": 3,
   "id": "equal-confidentiality",
   "metadata": {},
   "outputs": [],
   "source": [
    "def mostrar_resultados(y_test, pred_y):\n",
    "    conf_matrix = confusion_matrix(y_test, pred_y)\n",
    "    plt.figure(figsize = (8, 8))\n",
    "    sns.heatmap(conf_matrix, xticklabels = LABELS, yticklabels = LABELS, annot = True, fmt = \"d\");\n",
    "    plt.title(\"Confusion matrix\")\n",
    "    plt.ylabel('True class')\n",
    "    plt.xlabel('Predicted class')\n",
    "    plt.show()\n",
    "    print (classification_report(y_test, pred_y))"
   ]
  },
  {
   "cell_type": "markdown",
   "id": "latter-plastic",
   "metadata": {},
   "source": [
    "------------------------------------"
   ]
  },
  {
   "cell_type": "markdown",
   "id": "e96cf1c9-e1ed-4157-936c-2101ae9b9fe5",
   "metadata": {},
   "source": [
    "------------------"
   ]
  },
  {
   "cell_type": "markdown",
   "id": "aquatic-cartoon",
   "metadata": {},
   "source": [
    "A continuación comenzamos leyendo los ficheros que hemos tratado, limpiado y analizado en los procesos anteriores.\n",
    "\n",
    "Se realizará un análisis sencillo de la estructura y una visualización de varias muestras. \n",
    "\n",
    "Además someteremos las variables categóricas a variables *dummies*, de forma que que podamos introducirlas ennuestro modelo."
   ]
  },
  {
   "cell_type": "markdown",
   "id": "popular-offering",
   "metadata": {},
   "source": [
    "### 2.1 Lectura de Fichero"
   ]
  },
  {
   "cell_type": "code",
   "execution_count": 4,
   "id": "missing-induction",
   "metadata": {},
   "outputs": [],
   "source": [
    "df = pd.read_csv('Data/dataset_model.txt', sep = ';', encoding = 'ISO-8859-1')"
   ]
  },
  {
   "cell_type": "code",
   "execution_count": 5,
   "id": "convertible-brass",
   "metadata": {},
   "outputs": [
    {
     "data": {
      "text/plain": [
       "(367632, 55)"
      ]
     },
     "execution_count": 5,
     "metadata": {},
     "output_type": "execute_result"
    }
   ],
   "source": [
    "df.shape"
   ]
  },
  {
   "cell_type": "code",
   "execution_count": 6,
   "id": "metropolitan-melissa",
   "metadata": {},
   "outputs": [
    {
     "data": {
      "text/html": [
       "<div>\n",
       "<style scoped>\n",
       "    .dataframe tbody tr th:only-of-type {\n",
       "        vertical-align: middle;\n",
       "    }\n",
       "\n",
       "    .dataframe tbody tr th {\n",
       "        vertical-align: top;\n",
       "    }\n",
       "\n",
       "    .dataframe thead th {\n",
       "        text-align: right;\n",
       "    }\n",
       "</style>\n",
       "<table border=\"1\" class=\"dataframe\">\n",
       "  <thead>\n",
       "    <tr style=\"text-align: right;\">\n",
       "      <th></th>\n",
       "      <th>TIPOUSUARIO</th>\n",
       "      <th>FECHA_REGISTRO_BUSINESS_DAY</th>\n",
       "      <th>FECHA_REGISTRO_WEEKDAY</th>\n",
       "      <th>FECHA_REGISTRO_MONTH</th>\n",
       "      <th>CANAL_REGISTRO</th>\n",
       "      <th>FECHA_ALTA_BUSINESS_DAY</th>\n",
       "      <th>FECHA_ALTA_WEEKDAY</th>\n",
       "      <th>FECHA_ALTA_MONTH</th>\n",
       "      <th>REGISTRO_ALTA</th>\n",
       "      <th>IND_ALTA</th>\n",
       "      <th>FECHA_CLIENTE_BUSINESS_DAY</th>\n",
       "      <th>FECHA_CLIENTE_WEEKDAY</th>\n",
       "      <th>FECHA_CLIENTE_MONTH</th>\n",
       "      <th>IND_CLIENTE</th>\n",
       "      <th>TIPOEMAIL</th>\n",
       "      <th>EMAIL_PERSONAL</th>\n",
       "      <th>BONDAD_EMAIL</th>\n",
       "      <th>TIPO_TELF</th>\n",
       "      <th>IPCASOS</th>\n",
       "      <th>IP_CONTINENTE</th>\n",
       "      <th>IP_COLOMBIA</th>\n",
       "      <th>IP_COUNTRY_PIB</th>\n",
       "      <th>IP_COUNTRY_IDH_NUM</th>\n",
       "      <th>IP_COUNTRY_IDH_GROUP</th>\n",
       "      <th>USU_TIPO</th>\n",
       "      <th>USU_TAMANIO</th>\n",
       "      <th>USU_ESTADO</th>\n",
       "      <th>USU_SECTOR_ECONOMICO</th>\n",
       "      <th>USU_DEPART_DEN_POB</th>\n",
       "      <th>USU_DEPART_IDH</th>\n",
       "      <th>FECHACONSUMO_BUSINESS_DAY</th>\n",
       "      <th>FECHACONSUMO_WEEKDAY</th>\n",
       "      <th>FECHACONSUMO_MONTH</th>\n",
       "      <th>ALTA_CONSUMO</th>\n",
       "      <th>CLIENTE_CONSUMO</th>\n",
       "      <th>1A_DESCGRUPOPROD</th>\n",
       "      <th>1A_EMPCONSUL_EST</th>\n",
       "      <th>1A_EMPCONSUL_SECTOR</th>\n",
       "      <th>1A_EMPCONSUL_PROV_DENS</th>\n",
       "      <th>1A_EMPCONSUL_PROV_IDH</th>\n",
       "      <th>CONSUM_TOT</th>\n",
       "      <th>FICH_PROMO_TOT</th>\n",
       "      <th>PERF_PROMO_TOT</th>\n",
       "      <th>RES_PAGO_TOT</th>\n",
       "      <th>EST_ACTIVA_TOT</th>\n",
       "      <th>EST_INACTIVA_TOT</th>\n",
       "      <th>EST_REESTRUCT_TOT</th>\n",
       "      <th>EST_CLINTON_TOT</th>\n",
       "      <th>EST_NI_TOT</th>\n",
       "      <th>SECT_PRIM_TOT</th>\n",
       "      <th>SECT_SECU_TOT</th>\n",
       "      <th>SECT_TERC_TOT</th>\n",
       "      <th>SECT_CUAT_TOT</th>\n",
       "      <th>SECT_QUIN_TOT</th>\n",
       "      <th>SECT_SD_TOT</th>\n",
       "    </tr>\n",
       "  </thead>\n",
       "  <tbody>\n",
       "    <tr>\n",
       "      <th>0</th>\n",
       "      <td>PF</td>\n",
       "      <td>1</td>\n",
       "      <td>1</td>\n",
       "      <td>10</td>\n",
       "      <td>3</td>\n",
       "      <td>-1</td>\n",
       "      <td>-1</td>\n",
       "      <td>-1</td>\n",
       "      <td>-1</td>\n",
       "      <td>0</td>\n",
       "      <td>-1</td>\n",
       "      <td>-1</td>\n",
       "      <td>-1</td>\n",
       "      <td>0</td>\n",
       "      <td>GOOHOTYAHMAIL</td>\n",
       "      <td>1</td>\n",
       "      <td>0</td>\n",
       "      <td>NO_PUBLICO</td>\n",
       "      <td>1</td>\n",
       "      <td>AMERICA_SUR</td>\n",
       "      <td>1</td>\n",
       "      <td>Ingreso mediano alto</td>\n",
       "      <td>0.767</td>\n",
       "      <td>Alto</td>\n",
       "      <td>NoApl</td>\n",
       "      <td>NoApl</td>\n",
       "      <td>NoApl</td>\n",
       "      <td>NoApl</td>\n",
       "      <td>-1.00</td>\n",
       "      <td>-1.000</td>\n",
       "      <td>1</td>\n",
       "      <td>1</td>\n",
       "      <td>10</td>\n",
       "      <td>-1</td>\n",
       "      <td>-1</td>\n",
       "      <td>PERF_PROMO</td>\n",
       "      <td>ACTIVA</td>\n",
       "      <td>TERCIARIO</td>\n",
       "      <td>47.92</td>\n",
       "      <td>0.782</td>\n",
       "      <td>1</td>\n",
       "      <td>0</td>\n",
       "      <td>1</td>\n",
       "      <td>0</td>\n",
       "      <td>1</td>\n",
       "      <td>0</td>\n",
       "      <td>0</td>\n",
       "      <td>0</td>\n",
       "      <td>0</td>\n",
       "      <td>0</td>\n",
       "      <td>0</td>\n",
       "      <td>1</td>\n",
       "      <td>0</td>\n",
       "      <td>0</td>\n",
       "      <td>0</td>\n",
       "    </tr>\n",
       "    <tr>\n",
       "      <th>1</th>\n",
       "      <td>PJ</td>\n",
       "      <td>1</td>\n",
       "      <td>1</td>\n",
       "      <td>5</td>\n",
       "      <td>3</td>\n",
       "      <td>-1</td>\n",
       "      <td>-1</td>\n",
       "      <td>-1</td>\n",
       "      <td>-1</td>\n",
       "      <td>0</td>\n",
       "      <td>-1</td>\n",
       "      <td>-1</td>\n",
       "      <td>-1</td>\n",
       "      <td>0</td>\n",
       "      <td>GOOHOTYAHMAIL</td>\n",
       "      <td>1</td>\n",
       "      <td>1</td>\n",
       "      <td>NO_PUBLICO</td>\n",
       "      <td>1</td>\n",
       "      <td>AMERICA_SUR</td>\n",
       "      <td>1</td>\n",
       "      <td>Ingreso mediano alto</td>\n",
       "      <td>0.767</td>\n",
       "      <td>Alto</td>\n",
       "      <td>SOC_COMERCIAL_INDUSTRIAL</td>\n",
       "      <td>PQ</td>\n",
       "      <td>ACTIVA</td>\n",
       "      <td>TERCIARIO</td>\n",
       "      <td>306.38</td>\n",
       "      <td>0.832</td>\n",
       "      <td>1</td>\n",
       "      <td>1</td>\n",
       "      <td>5</td>\n",
       "      <td>-1</td>\n",
       "      <td>-1</td>\n",
       "      <td>PERF_PROMO</td>\n",
       "      <td>ACTIVA</td>\n",
       "      <td>SD</td>\n",
       "      <td>47.92</td>\n",
       "      <td>0.782</td>\n",
       "      <td>1</td>\n",
       "      <td>0</td>\n",
       "      <td>1</td>\n",
       "      <td>0</td>\n",
       "      <td>1</td>\n",
       "      <td>0</td>\n",
       "      <td>0</td>\n",
       "      <td>0</td>\n",
       "      <td>0</td>\n",
       "      <td>0</td>\n",
       "      <td>0</td>\n",
       "      <td>0</td>\n",
       "      <td>0</td>\n",
       "      <td>0</td>\n",
       "      <td>1</td>\n",
       "    </tr>\n",
       "    <tr>\n",
       "      <th>2</th>\n",
       "      <td>PJ</td>\n",
       "      <td>1</td>\n",
       "      <td>2</td>\n",
       "      <td>9</td>\n",
       "      <td>7</td>\n",
       "      <td>-1</td>\n",
       "      <td>-1</td>\n",
       "      <td>-1</td>\n",
       "      <td>-1</td>\n",
       "      <td>0</td>\n",
       "      <td>-1</td>\n",
       "      <td>-1</td>\n",
       "      <td>-1</td>\n",
       "      <td>0</td>\n",
       "      <td>GOOHOTYAHMAIL</td>\n",
       "      <td>1</td>\n",
       "      <td>1</td>\n",
       "      <td>NO_PUBLICO</td>\n",
       "      <td>1</td>\n",
       "      <td>AMERICA_SUR</td>\n",
       "      <td>1</td>\n",
       "      <td>Ingreso mediano alto</td>\n",
       "      <td>0.767</td>\n",
       "      <td>Alto</td>\n",
       "      <td>SOC_COMERCIAL_INDUSTRIAL</td>\n",
       "      <td>MC</td>\n",
       "      <td>ACTIVA</td>\n",
       "      <td>TERCIARIO</td>\n",
       "      <td>815.17</td>\n",
       "      <td>0.835</td>\n",
       "      <td>1</td>\n",
       "      <td>2</td>\n",
       "      <td>9</td>\n",
       "      <td>-1</td>\n",
       "      <td>-1</td>\n",
       "      <td>PERF_PROMO</td>\n",
       "      <td>ACTIVA</td>\n",
       "      <td>TERCIARIO</td>\n",
       "      <td>4438.75</td>\n",
       "      <td>0.904</td>\n",
       "      <td>1</td>\n",
       "      <td>0</td>\n",
       "      <td>1</td>\n",
       "      <td>0</td>\n",
       "      <td>1</td>\n",
       "      <td>0</td>\n",
       "      <td>0</td>\n",
       "      <td>0</td>\n",
       "      <td>0</td>\n",
       "      <td>0</td>\n",
       "      <td>0</td>\n",
       "      <td>1</td>\n",
       "      <td>0</td>\n",
       "      <td>0</td>\n",
       "      <td>0</td>\n",
       "    </tr>\n",
       "  </tbody>\n",
       "</table>\n",
       "</div>"
      ],
      "text/plain": [
       "  TIPOUSUARIO  FECHA_REGISTRO_BUSINESS_DAY  FECHA_REGISTRO_WEEKDAY  \\\n",
       "0          PF                            1                       1   \n",
       "1          PJ                            1                       1   \n",
       "2          PJ                            1                       2   \n",
       "\n",
       "   FECHA_REGISTRO_MONTH  CANAL_REGISTRO  FECHA_ALTA_BUSINESS_DAY  \\\n",
       "0                    10               3                       -1   \n",
       "1                     5               3                       -1   \n",
       "2                     9               7                       -1   \n",
       "\n",
       "   FECHA_ALTA_WEEKDAY  FECHA_ALTA_MONTH  REGISTRO_ALTA  IND_ALTA  \\\n",
       "0                  -1                -1             -1         0   \n",
       "1                  -1                -1             -1         0   \n",
       "2                  -1                -1             -1         0   \n",
       "\n",
       "   FECHA_CLIENTE_BUSINESS_DAY  FECHA_CLIENTE_WEEKDAY  FECHA_CLIENTE_MONTH  \\\n",
       "0                          -1                     -1                   -1   \n",
       "1                          -1                     -1                   -1   \n",
       "2                          -1                     -1                   -1   \n",
       "\n",
       "   IND_CLIENTE      TIPOEMAIL  EMAIL_PERSONAL  BONDAD_EMAIL   TIPO_TELF  \\\n",
       "0            0  GOOHOTYAHMAIL               1             0  NO_PUBLICO   \n",
       "1            0  GOOHOTYAHMAIL               1             1  NO_PUBLICO   \n",
       "2            0  GOOHOTYAHMAIL               1             1  NO_PUBLICO   \n",
       "\n",
       "   IPCASOS IP_CONTINENTE  IP_COLOMBIA        IP_COUNTRY_PIB  \\\n",
       "0        1   AMERICA_SUR            1  Ingreso mediano alto   \n",
       "1        1   AMERICA_SUR            1  Ingreso mediano alto   \n",
       "2        1   AMERICA_SUR            1  Ingreso mediano alto   \n",
       "\n",
       "   IP_COUNTRY_IDH_NUM IP_COUNTRY_IDH_GROUP                  USU_TIPO  \\\n",
       "0               0.767                 Alto                     NoApl   \n",
       "1               0.767                 Alto  SOC_COMERCIAL_INDUSTRIAL   \n",
       "2               0.767                 Alto  SOC_COMERCIAL_INDUSTRIAL   \n",
       "\n",
       "  USU_TAMANIO USU_ESTADO USU_SECTOR_ECONOMICO  USU_DEPART_DEN_POB  \\\n",
       "0       NoApl      NoApl                NoApl               -1.00   \n",
       "1          PQ     ACTIVA            TERCIARIO              306.38   \n",
       "2          MC     ACTIVA            TERCIARIO              815.17   \n",
       "\n",
       "   USU_DEPART_IDH  FECHACONSUMO_BUSINESS_DAY  FECHACONSUMO_WEEKDAY  \\\n",
       "0          -1.000                          1                     1   \n",
       "1           0.832                          1                     1   \n",
       "2           0.835                          1                     2   \n",
       "\n",
       "   FECHACONSUMO_MONTH  ALTA_CONSUMO  CLIENTE_CONSUMO 1A_DESCGRUPOPROD  \\\n",
       "0                  10            -1               -1       PERF_PROMO   \n",
       "1                   5            -1               -1       PERF_PROMO   \n",
       "2                   9            -1               -1       PERF_PROMO   \n",
       "\n",
       "  1A_EMPCONSUL_EST 1A_EMPCONSUL_SECTOR  1A_EMPCONSUL_PROV_DENS  \\\n",
       "0           ACTIVA           TERCIARIO                   47.92   \n",
       "1           ACTIVA                  SD                   47.92   \n",
       "2           ACTIVA           TERCIARIO                 4438.75   \n",
       "\n",
       "   1A_EMPCONSUL_PROV_IDH  CONSUM_TOT  FICH_PROMO_TOT  PERF_PROMO_TOT  \\\n",
       "0                  0.782           1               0               1   \n",
       "1                  0.782           1               0               1   \n",
       "2                  0.904           1               0               1   \n",
       "\n",
       "   RES_PAGO_TOT  EST_ACTIVA_TOT  EST_INACTIVA_TOT  EST_REESTRUCT_TOT  \\\n",
       "0             0               1                 0                  0   \n",
       "1             0               1                 0                  0   \n",
       "2             0               1                 0                  0   \n",
       "\n",
       "   EST_CLINTON_TOT  EST_NI_TOT  SECT_PRIM_TOT  SECT_SECU_TOT  SECT_TERC_TOT  \\\n",
       "0                0           0              0              0              1   \n",
       "1                0           0              0              0              0   \n",
       "2                0           0              0              0              1   \n",
       "\n",
       "   SECT_CUAT_TOT  SECT_QUIN_TOT  SECT_SD_TOT  \n",
       "0              0              0            0  \n",
       "1              0              0            1  \n",
       "2              0              0            0  "
      ]
     },
     "execution_count": 6,
     "metadata": {},
     "output_type": "execute_result"
    }
   ],
   "source": [
    "df.head(3)"
   ]
  },
  {
   "cell_type": "markdown",
   "id": "8980cbe8-fdd7-4370-bba8-f7902787b1e5",
   "metadata": {},
   "source": [
    "------------------"
   ]
  },
  {
   "cell_type": "markdown",
   "id": "automotive-supervisor",
   "metadata": {},
   "source": [
    "### 2.2 Variables dummies"
   ]
  },
  {
   "cell_type": "code",
   "execution_count": 7,
   "id": "terminal-rotation",
   "metadata": {},
   "outputs": [],
   "source": [
    "ohe_columns = ['TIPOUSUARIO','TIPOEMAIL','TIPO_TELF','IP_CONTINENTE','IP_COUNTRY_PIB','IP_COUNTRY_IDH_GROUP','USU_TIPO','USU_TAMANIO','USU_ESTADO','USU_SECTOR_ECONOMICO',\n",
    "               '1A_DESCGRUPOPROD','1A_EMPCONSUL_EST','1A_EMPCONSUL_SECTOR']"
   ]
  },
  {
   "cell_type": "code",
   "execution_count": 8,
   "id": "comparable-english",
   "metadata": {},
   "outputs": [],
   "source": [
    "final_df = pd.get_dummies(df, columns = ohe_columns)"
   ]
  },
  {
   "cell_type": "markdown",
   "id": "approved-short",
   "metadata": {},
   "source": [
    "**Columnas para la predicción**"
   ]
  },
  {
   "cell_type": "code",
   "execution_count": 11,
   "id": "visible-sweet",
   "metadata": {},
   "outputs": [],
   "source": [
    "columnas = ['TIPOUSUARIO_PF','TIPOUSUARIO_PJ','FECHA_REGISTRO_BUSINESS_DAY','FECHA_REGISTRO_WEEKDAY','FECHA_REGISTRO_MONTH','CANAL_REGISTRO','TIPOEMAIL_ADMINISTRACION','TIPOEMAIL_CORPORATIVO','TIPOEMAIL_DOCENTE',\n",
    "            'TIPOEMAIL_GOOHOTYAHMAIL','TIPOEMAIL_SINCLASIFICAR','TIPOEMAIL_TEMPORAL','EMAIL_PERSONAL','BONDAD_EMAIL','TIPO_TELF_EXTRANJERO','TIPO_TELF_MOVIL','TIPO_TELF_NO_PUBLICO','IPCASOS','IP_CONTINENTE_AFRICA',\n",
    "            'IP_CONTINENTE_AMERICA_NORTE','IP_CONTINENTE_AMERICA_SUR','IP_CONTINENTE_ASIA','IP_CONTINENTE_EUROPA','IP_CONTINENTE_NI','IP_CONTINENTE_OCEANNIA','IP_COLOMBIA','IP_COUNTRY_PIB_Ingreso alto',\n",
    "            'IP_COUNTRY_PIB_Ingreso mediano alto','IP_COUNTRY_PIB_NI','IP_COUNTRY_PIB_Países de ingreso mediano bajo','IP_COUNTRY_IDH_NUM','USU_TIPO_EMPRESARIO INDIVIDUAL','USU_TIPO_ENTIDAD_HOLDING',\n",
    "            'USU_TIPO_NI','USU_TIPO_NoApl','USU_TIPO_SOC_COMERCIAL_INDUSTRIAL','USU_TIPO_SOC_NO_COMERCIAL','USU_TAMANIO_GR','USU_TAMANIO_MC','USU_TAMANIO_MD','USU_TAMANIO_NoApl','USU_TAMANIO_PQ','USU_TAMANIO_SD',\n",
    "            'USU_ESTADO_ACTIVA','USU_ESTADO_INACTIVA','USU_ESTADO_NoApl','USU_ESTADO_REESTRUCTURACION','USU_ESTADO_RELACION_CLINTON','USU_ESTADO_SD','USU_SECTOR_ECONOMICO_CUATERNARIO','USU_SECTOR_ECONOMICO_NoApl',\n",
    "            'USU_SECTOR_ECONOMICO_PRIMARIO','USU_SECTOR_ECONOMICO_QUINARIO','USU_SECTOR_ECONOMICO_SD','USU_SECTOR_ECONOMICO_SECUNDARIO','USU_SECTOR_ECONOMICO_TERCIARIO','USU_DEPART_DEN_POB','USU_DEPART_IDH',\n",
    "            'FECHACONSUMO_BUSINESS_DAY','FECHACONSUMO_WEEKDAY','FECHACONSUMO_MONTH','1A_DESCGRUPOPROD_FICH_PROMO','1A_DESCGRUPOPROD_PERF_PROMO','1A_DESCGRUPOPROD_RES_PAGO','1A_EMPCONSUL_EST_ACTIVA',\n",
    "            '1A_EMPCONSUL_EST_INACTIVA','1A_EMPCONSUL_EST_NI','1A_EMPCONSUL_EST_REESTRUCTURACION','1A_EMPCONSUL_EST_RELACION_CLINTON','1A_EMPCONSUL_SECTOR_CUATERNARIO','1A_EMPCONSUL_SECTOR_PRIMARIO',\n",
    "            '1A_EMPCONSUL_SECTOR_QUINARIO','1A_EMPCONSUL_SECTOR_SD','1A_EMPCONSUL_SECTOR_SECUNDARIO','1A_EMPCONSUL_SECTOR_TERCIARIO','1A_EMPCONSUL_PROV_DENS','1A_EMPCONSUL_PROV_IDH']"
   ]
  },
  {
   "cell_type": "markdown",
   "id": "noted-genetics",
   "metadata": {},
   "source": [
    "-----------------"
   ]
  },
  {
   "cell_type": "markdown",
   "id": "b53a6771-0046-48a6-871c-05a8a6cf2dc2",
   "metadata": {},
   "source": [
    "------------------"
   ]
  },
  {
   "cell_type": "markdown",
   "id": "correct-music",
   "metadata": {},
   "source": [
    "### 3.1 Analisis desbalanceo"
   ]
  },
  {
   "cell_type": "code",
   "execution_count": 12,
   "id": "impaired-liabilities",
   "metadata": {},
   "outputs": [
    {
     "data": {
      "text/plain": [
       "(367632, 108)"
      ]
     },
     "execution_count": 12,
     "metadata": {},
     "output_type": "execute_result"
    }
   ],
   "source": [
    "final_df.shape"
   ]
  },
  {
   "cell_type": "code",
   "execution_count": 13,
   "id": "modern-respect",
   "metadata": {},
   "outputs": [
    {
     "data": {
      "text/plain": [
       "0    365018\n",
       "1      2614\n",
       "Name: IND_CLIENTE, dtype: int64"
      ]
     },
     "execution_count": 13,
     "metadata": {},
     "output_type": "execute_result"
    }
   ],
   "source": [
    "pd.value_counts(final_df['IND_CLIENTE'], sort = True)"
   ]
  },
  {
   "cell_type": "code",
   "execution_count": 14,
   "id": "traditional-arthritis",
   "metadata": {},
   "outputs": [
    {
     "data": {
      "image/png": "[encoded data removed]",
      "text/plain": [
       "<Figure size 432x288 with 1 Axes>"
      ]
     },
     "metadata": {
      "needs_background": "light"
     },
     "output_type": "display_data"
    }
   ],
   "source": [
    "count_classes = pd.value_counts(final_df['IND_CLIENTE'], sort = True)\n",
    "count_classes.plot(kind = 'bar', rot = 0)\n",
    "plt.xticks(range(2), LABELS)\n",
    "plt.title(\"Frequency by observation number\")\n",
    "plt.xlabel(\"Target\")\n",
    "plt.ylabel(\"Observations\");"
   ]
  },
  {
   "cell_type": "code",
   "execution_count": 15,
   "id": "ancient-bernard",
   "metadata": {},
   "outputs": [
    {
     "name": "stdout",
     "output_type": "stream",
     "text": [
      "Los clientes suponen un % del total:  0.7110371240806024\n"
     ]
    }
   ],
   "source": [
    "print('Los clientes suponen un % del total: ', (2614/final_df.shape[0])*100)"
   ]
  },
  {
   "cell_type": "markdown",
   "id": "injured-charleston",
   "metadata": {},
   "source": [
    "**Podemos ver un claro desbalanceo donde los clientes no suponen más del 1% de las observaciones**"
   ]
  },
  {
   "cell_type": "markdown",
   "id": "outdoor-block",
   "metadata": {},
   "source": [
    "------------------"
   ]
  },
  {
   "cell_type": "markdown",
   "id": "fdd02bf4-e138-4042-a589-d306dc6779e0",
   "metadata": {},
   "source": [
    "------------------"
   ]
  },
  {
   "cell_type": "markdown",
   "id": "central-personality",
   "metadata": {},
   "source": [
    "### 4. Creación del Modelo"
   ]
  },
  {
   "cell_type": "markdown",
   "id": "otherwise-capability",
   "metadata": {},
   "source": [
    "#### 4.1 Dividimos el set entre features y label"
   ]
  },
  {
   "cell_type": "code",
   "execution_count": 16,
   "id": "integrated-substitute",
   "metadata": {},
   "outputs": [],
   "source": [
    "features = final_df[columnas]\n",
    "labels = final_df['IND_CLIENTE']"
   ]
  },
  {
   "cell_type": "code",
   "execution_count": 17,
   "id": "advance-germany",
   "metadata": {},
   "outputs": [
    {
     "data": {
      "text/plain": [
       "(367632, 77)"
      ]
     },
     "execution_count": 17,
     "metadata": {},
     "output_type": "execute_result"
    }
   ],
   "source": [
    "features.shape"
   ]
  },
  {
   "cell_type": "code",
   "execution_count": 18,
   "id": "lesser-spread",
   "metadata": {},
   "outputs": [
    {
     "data": {
      "text/plain": [
       "(367632,)"
      ]
     },
     "execution_count": 18,
     "metadata": {},
     "output_type": "execute_result"
    }
   ],
   "source": [
    "labels.shape"
   ]
  },
  {
   "cell_type": "markdown",
   "id": "3a931989-9ac6-423c-9670-35bb88a7ca36",
   "metadata": {},
   "source": [
    "------------------"
   ]
  },
  {
   "cell_type": "markdown",
   "id": "furnished-america",
   "metadata": {},
   "source": [
    "#### 4.2 Creamos set de entrenamiento y test"
   ]
  },
  {
   "cell_type": "code",
   "execution_count": 19,
   "id": "caring-thanks",
   "metadata": {},
   "outputs": [],
   "source": [
    "train_x, test_x, train_y, test_y = train_test_split(features, labels, test_size = 0.3, random_state = 123)"
   ]
  },
  {
   "cell_type": "code",
   "execution_count": 20,
   "id": "4ccf14d5-df4c-4b83-8629-712007f5b67e",
   "metadata": {},
   "outputs": [],
   "source": [
    "#train_x, test_x, train_y, test_y = train_test_split(features, labels, test_size = 0.3, random_state = 123, stratify = labels)"
   ]
  },
  {
   "cell_type": "code",
   "execution_count": 21,
   "id": "instructional-hamilton",
   "metadata": {},
   "outputs": [
    {
     "data": {
      "text/plain": [
       "(257342, 77)"
      ]
     },
     "execution_count": 21,
     "metadata": {},
     "output_type": "execute_result"
    }
   ],
   "source": [
    "train_x.shape"
   ]
  },
  {
   "cell_type": "code",
   "execution_count": 22,
   "id": "responsible-hometown",
   "metadata": {},
   "outputs": [
    {
     "data": {
      "text/plain": [
       "(110290, 77)"
      ]
     },
     "execution_count": 22,
     "metadata": {},
     "output_type": "execute_result"
    }
   ],
   "source": [
    "test_x.shape"
   ]
  },
  {
   "cell_type": "code",
   "execution_count": 23,
   "id": "funky-scientist",
   "metadata": {},
   "outputs": [
    {
     "data": {
      "text/plain": [
       "(257342,)"
      ]
     },
     "execution_count": 23,
     "metadata": {},
     "output_type": "execute_result"
    }
   ],
   "source": [
    "train_y.shape"
   ]
  },
  {
   "cell_type": "code",
   "execution_count": 24,
   "id": "regional-discretion",
   "metadata": {},
   "outputs": [
    {
     "data": {
      "text/plain": [
       "(110290,)"
      ]
     },
     "execution_count": 24,
     "metadata": {},
     "output_type": "execute_result"
    }
   ],
   "source": [
    "test_y.shape"
   ]
  },
  {
   "cell_type": "markdown",
   "id": "abbe61b9-fafe-4878-a370-acedd25dba68",
   "metadata": {},
   "source": [
    "------------------"
   ]
  },
  {
   "cell_type": "markdown",
   "id": "canadian-joining",
   "metadata": {},
   "source": [
    "#### 4.3 Selección Hiperparámetros"
   ]
  },
  {
   "cell_type": "markdown",
   "id": "vocational-adrian",
   "metadata": {},
   "source": [
    "Definimos una serie de hiperparámetros diferentes para comparar resultados"
   ]
  },
  {
   "cell_type": "code",
   "execution_count": 25,
   "id": "rising-lender",
   "metadata": {},
   "outputs": [],
   "source": [
    "param_grid = ParameterGrid({'n_estimators': [5, 20, 50, 100, 150],\n",
    "                            'max_features': [5, 'log2', 'auto', 'sqrt'],\n",
    "                            'max_depth'   : [None, 3, 5, 7, 10],\n",
    "                            'criterion'   : ['gini', 'entropy'],\n",
    "                            'class_weight': ['balanced']\n",
    "                           })"
   ]
  },
  {
   "cell_type": "markdown",
   "id": "celtic-plaintiff",
   "metadata": {},
   "source": [
    "Loop para ajustar un modelo con cada combinación de hiperparámetros"
   ]
  },
  {
   "cell_type": "code",
   "execution_count": 26,
   "id": "alert-consideration",
   "metadata": {},
   "outputs": [],
   "source": [
    "resultados = {'params': [], 'oob_accuracy': []}"
   ]
  },
  {
   "cell_type": "code",
   "execution_count": 27,
   "id": "large-attitude",
   "metadata": {
    "collapsed": true,
    "jupyter": {
     "outputs_hidden": true
    },
    "tags": []
   },
   "outputs": [
    {
     "name": "stdout",
     "output_type": "stream",
     "text": [
      "Modelo: {'class_weight': 'balanced', 'criterion': 'gini', 'max_depth': None, 'max_features': 5, 'n_estimators': 5} ✓\n",
      "Modelo: {'class_weight': 'balanced', 'criterion': 'gini', 'max_depth': None, 'max_features': 5, 'n_estimators': 20} ✓\n",
      "Modelo: {'class_weight': 'balanced', 'criterion': 'gini', 'max_depth': None, 'max_features': 5, 'n_estimators': 50} ✓\n",
      "Modelo: {'class_weight': 'balanced', 'criterion': 'gini', 'max_depth': None, 'max_features': 5, 'n_estimators': 100} ✓\n",
      "Modelo: {'class_weight': 'balanced', 'criterion': 'gini', 'max_depth': None, 'max_features': 5, 'n_estimators': 150} ✓\n",
      "Modelo: {'class_weight': 'balanced', 'criterion': 'gini', 'max_depth': None, 'max_features': 'log2', 'n_estimators': 5} ✓\n",
      "Modelo: {'class_weight': 'balanced', 'criterion': 'gini', 'max_depth': None, 'max_features': 'log2', 'n_estimators': 20} ✓\n",
      "Modelo: {'class_weight': 'balanced', 'criterion': 'gini', 'max_depth': None, 'max_features': 'log2', 'n_estimators': 50} ✓\n",
      "Modelo: {'class_weight': 'balanced', 'criterion': 'gini', 'max_depth': None, 'max_features': 'log2', 'n_estimators': 100} ✓\n",
      "Modelo: {'class_weight': 'balanced', 'criterion': 'gini', 'max_depth': None, 'max_features': 'log2', 'n_estimators': 150} ✓\n",
      "Modelo: {'class_weight': 'balanced', 'criterion': 'gini', 'max_depth': None, 'max_features': 'auto', 'n_estimators': 5} ✓\n",
      "Modelo: {'class_weight': 'balanced', 'criterion': 'gini', 'max_depth': None, 'max_features': 'auto', 'n_estimators': 20} ✓\n",
      "Modelo: {'class_weight': 'balanced', 'criterion': 'gini', 'max_depth': None, 'max_features': 'auto', 'n_estimators': 50} ✓\n",
      "Modelo: {'class_weight': 'balanced', 'criterion': 'gini', 'max_depth': None, 'max_features': 'auto', 'n_estimators': 100} ✓\n",
      "Modelo: {'class_weight': 'balanced', 'criterion': 'gini', 'max_depth': None, 'max_features': 'auto', 'n_estimators': 150} ✓\n",
      "Modelo: {'class_weight': 'balanced', 'criterion': 'gini', 'max_depth': None, 'max_features': 'sqrt', 'n_estimators': 5} ✓\n",
      "Modelo: {'class_weight': 'balanced', 'criterion': 'gini', 'max_depth': None, 'max_features': 'sqrt', 'n_estimators': 20} ✓\n",
      "Modelo: {'class_weight': 'balanced', 'criterion': 'gini', 'max_depth': None, 'max_features': 'sqrt', 'n_estimators': 50} ✓\n",
      "Modelo: {'class_weight': 'balanced', 'criterion': 'gini', 'max_depth': None, 'max_features': 'sqrt', 'n_estimators': 100} ✓\n",
      "Modelo: {'class_weight': 'balanced', 'criterion': 'gini', 'max_depth': None, 'max_features': 'sqrt', 'n_estimators': 150} ✓\n",
      "Modelo: {'class_weight': 'balanced', 'criterion': 'gini', 'max_depth': 3, 'max_features': 5, 'n_estimators': 5} ✓\n",
      "Modelo: {'class_weight': 'balanced', 'criterion': 'gini', 'max_depth': 3, 'max_features': 5, 'n_estimators': 20} ✓\n",
      "Modelo: {'class_weight': 'balanced', 'criterion': 'gini', 'max_depth': 3, 'max_features': 5, 'n_estimators': 50} ✓\n",
      "Modelo: {'class_weight': 'balanced', 'criterion': 'gini', 'max_depth': 3, 'max_features': 5, 'n_estimators': 100} ✓\n",
      "Modelo: {'class_weight': 'balanced', 'criterion': 'gini', 'max_depth': 3, 'max_features': 5, 'n_estimators': 150} ✓\n",
      "Modelo: {'class_weight': 'balanced', 'criterion': 'gini', 'max_depth': 3, 'max_features': 'log2', 'n_estimators': 5} ✓\n",
      "Modelo: {'class_weight': 'balanced', 'criterion': 'gini', 'max_depth': 3, 'max_features': 'log2', 'n_estimators': 20} ✓\n",
      "Modelo: {'class_weight': 'balanced', 'criterion': 'gini', 'max_depth': 3, 'max_features': 'log2', 'n_estimators': 50} ✓\n",
      "Modelo: {'class_weight': 'balanced', 'criterion': 'gini', 'max_depth': 3, 'max_features': 'log2', 'n_estimators': 100} ✓\n",
      "Modelo: {'class_weight': 'balanced', 'criterion': 'gini', 'max_depth': 3, 'max_features': 'log2', 'n_estimators': 150} ✓\n",
      "Modelo: {'class_weight': 'balanced', 'criterion': 'gini', 'max_depth': 3, 'max_features': 'auto', 'n_estimators': 5} ✓\n",
      "Modelo: {'class_weight': 'balanced', 'criterion': 'gini', 'max_depth': 3, 'max_features': 'auto', 'n_estimators': 20} ✓\n",
      "Modelo: {'class_weight': 'balanced', 'criterion': 'gini', 'max_depth': 3, 'max_features': 'auto', 'n_estimators': 50} ✓\n",
      "Modelo: {'class_weight': 'balanced', 'criterion': 'gini', 'max_depth': 3, 'max_features': 'auto', 'n_estimators': 100} ✓\n",
      "Modelo: {'class_weight': 'balanced', 'criterion': 'gini', 'max_depth': 3, 'max_features': 'auto', 'n_estimators': 150} ✓\n",
      "Modelo: {'class_weight': 'balanced', 'criterion': 'gini', 'max_depth': 3, 'max_features': 'sqrt', 'n_estimators': 5} ✓\n",
      "Modelo: {'class_weight': 'balanced', 'criterion': 'gini', 'max_depth': 3, 'max_features': 'sqrt', 'n_estimators': 20} ✓\n",
      "Modelo: {'class_weight': 'balanced', 'criterion': 'gini', 'max_depth': 3, 'max_features': 'sqrt', 'n_estimators': 50} ✓\n",
      "Modelo: {'class_weight': 'balanced', 'criterion': 'gini', 'max_depth': 3, 'max_features': 'sqrt', 'n_estimators': 100} ✓\n",
      "Modelo: {'class_weight': 'balanced', 'criterion': 'gini', 'max_depth': 3, 'max_features': 'sqrt', 'n_estimators': 150} ✓\n",
      "Modelo: {'class_weight': 'balanced', 'criterion': 'gini', 'max_depth': 5, 'max_features': 5, 'n_estimators': 5} ✓\n",
      "Modelo: {'class_weight': 'balanced', 'criterion': 'gini', 'max_depth': 5, 'max_features': 5, 'n_estimators': 20} ✓\n",
      "Modelo: {'class_weight': 'balanced', 'criterion': 'gini', 'max_depth': 5, 'max_features': 5, 'n_estimators': 50} ✓\n",
      "Modelo: {'class_weight': 'balanced', 'criterion': 'gini', 'max_depth': 5, 'max_features': 5, 'n_estimators': 100} ✓\n",
      "Modelo: {'class_weight': 'balanced', 'criterion': 'gini', 'max_depth': 5, 'max_features': 5, 'n_estimators': 150} ✓\n",
      "Modelo: {'class_weight': 'balanced', 'criterion': 'gini', 'max_depth': 5, 'max_features': 'log2', 'n_estimators': 5} ✓\n",
      "Modelo: {'class_weight': 'balanced', 'criterion': 'gini', 'max_depth': 5, 'max_features': 'log2', 'n_estimators': 20} ✓\n",
      "Modelo: {'class_weight': 'balanced', 'criterion': 'gini', 'max_depth': 5, 'max_features': 'log2', 'n_estimators': 50} ✓\n",
      "Modelo: {'class_weight': 'balanced', 'criterion': 'gini', 'max_depth': 5, 'max_features': 'log2', 'n_estimators': 100} ✓\n",
      "Modelo: {'class_weight': 'balanced', 'criterion': 'gini', 'max_depth': 5, 'max_features': 'log2', 'n_estimators': 150} ✓\n",
      "Modelo: {'class_weight': 'balanced', 'criterion': 'gini', 'max_depth': 5, 'max_features': 'auto', 'n_estimators': 5} ✓\n",
      "Modelo: {'class_weight': 'balanced', 'criterion': 'gini', 'max_depth': 5, 'max_features': 'auto', 'n_estimators': 20} ✓\n",
      "Modelo: {'class_weight': 'balanced', 'criterion': 'gini', 'max_depth': 5, 'max_features': 'auto', 'n_estimators': 50} ✓\n",
      "Modelo: {'class_weight': 'balanced', 'criterion': 'gini', 'max_depth': 5, 'max_features': 'auto', 'n_estimators': 100} ✓\n",
      "Modelo: {'class_weight': 'balanced', 'criterion': 'gini', 'max_depth': 5, 'max_features': 'auto', 'n_estimators': 150} ✓\n",
      "Modelo: {'class_weight': 'balanced', 'criterion': 'gini', 'max_depth': 5, 'max_features': 'sqrt', 'n_estimators': 5} ✓\n",
      "Modelo: {'class_weight': 'balanced', 'criterion': 'gini', 'max_depth': 5, 'max_features': 'sqrt', 'n_estimators': 20} ✓\n",
      "Modelo: {'class_weight': 'balanced', 'criterion': 'gini', 'max_depth': 5, 'max_features': 'sqrt', 'n_estimators': 50} ✓\n",
      "Modelo: {'class_weight': 'balanced', 'criterion': 'gini', 'max_depth': 5, 'max_features': 'sqrt', 'n_estimators': 100} ✓\n",
      "Modelo: {'class_weight': 'balanced', 'criterion': 'gini', 'max_depth': 5, 'max_features': 'sqrt', 'n_estimators': 150} ✓\n",
      "Modelo: {'class_weight': 'balanced', 'criterion': 'gini', 'max_depth': 7, 'max_features': 5, 'n_estimators': 5} ✓\n",
      "Modelo: {'class_weight': 'balanced', 'criterion': 'gini', 'max_depth': 7, 'max_features': 5, 'n_estimators': 20} ✓\n",
      "Modelo: {'class_weight': 'balanced', 'criterion': 'gini', 'max_depth': 7, 'max_features': 5, 'n_estimators': 50} ✓\n",
      "Modelo: {'class_weight': 'balanced', 'criterion': 'gini', 'max_depth': 7, 'max_features': 5, 'n_estimators': 100} ✓\n",
      "Modelo: {'class_weight': 'balanced', 'criterion': 'gini', 'max_depth': 7, 'max_features': 5, 'n_estimators': 150} ✓\n",
      "Modelo: {'class_weight': 'balanced', 'criterion': 'gini', 'max_depth': 7, 'max_features': 'log2', 'n_estimators': 5} ✓\n",
      "Modelo: {'class_weight': 'balanced', 'criterion': 'gini', 'max_depth': 7, 'max_features': 'log2', 'n_estimators': 20} ✓\n",
      "Modelo: {'class_weight': 'balanced', 'criterion': 'gini', 'max_depth': 7, 'max_features': 'log2', 'n_estimators': 50} ✓\n",
      "Modelo: {'class_weight': 'balanced', 'criterion': 'gini', 'max_depth': 7, 'max_features': 'log2', 'n_estimators': 100} ✓\n",
      "Modelo: {'class_weight': 'balanced', 'criterion': 'gini', 'max_depth': 7, 'max_features': 'log2', 'n_estimators': 150} ✓\n",
      "Modelo: {'class_weight': 'balanced', 'criterion': 'gini', 'max_depth': 7, 'max_features': 'auto', 'n_estimators': 5} ✓\n",
      "Modelo: {'class_weight': 'balanced', 'criterion': 'gini', 'max_depth': 7, 'max_features': 'auto', 'n_estimators': 20} ✓\n",
      "Modelo: {'class_weight': 'balanced', 'criterion': 'gini', 'max_depth': 7, 'max_features': 'auto', 'n_estimators': 50} ✓\n",
      "Modelo: {'class_weight': 'balanced', 'criterion': 'gini', 'max_depth': 7, 'max_features': 'auto', 'n_estimators': 100} ✓\n",
      "Modelo: {'class_weight': 'balanced', 'criterion': 'gini', 'max_depth': 7, 'max_features': 'auto', 'n_estimators': 150} ✓\n",
      "Modelo: {'class_weight': 'balanced', 'criterion': 'gini', 'max_depth': 7, 'max_features': 'sqrt', 'n_estimators': 5} ✓\n",
      "Modelo: {'class_weight': 'balanced', 'criterion': 'gini', 'max_depth': 7, 'max_features': 'sqrt', 'n_estimators': 20} ✓\n",
      "Modelo: {'class_weight': 'balanced', 'criterion': 'gini', 'max_depth': 7, 'max_features': 'sqrt', 'n_estimators': 50} ✓\n",
      "Modelo: {'class_weight': 'balanced', 'criterion': 'gini', 'max_depth': 7, 'max_features': 'sqrt', 'n_estimators': 100} ✓\n",
      "Modelo: {'class_weight': 'balanced', 'criterion': 'gini', 'max_depth': 7, 'max_features': 'sqrt', 'n_estimators': 150} ✓\n",
      "Modelo: {'class_weight': 'balanced', 'criterion': 'gini', 'max_depth': 10, 'max_features': 5, 'n_estimators': 5} ✓\n",
      "Modelo: {'class_weight': 'balanced', 'criterion': 'gini', 'max_depth': 10, 'max_features': 5, 'n_estimators': 20} ✓\n",
      "Modelo: {'class_weight': 'balanced', 'criterion': 'gini', 'max_depth': 10, 'max_features': 5, 'n_estimators': 50} ✓\n",
      "Modelo: {'class_weight': 'balanced', 'criterion': 'gini', 'max_depth': 10, 'max_features': 5, 'n_estimators': 100} ✓\n",
      "Modelo: {'class_weight': 'balanced', 'criterion': 'gini', 'max_depth': 10, 'max_features': 5, 'n_estimators': 150} ✓\n",
      "Modelo: {'class_weight': 'balanced', 'criterion': 'gini', 'max_depth': 10, 'max_features': 'log2', 'n_estimators': 5} ✓\n",
      "Modelo: {'class_weight': 'balanced', 'criterion': 'gini', 'max_depth': 10, 'max_features': 'log2', 'n_estimators': 20} ✓\n",
      "Modelo: {'class_weight': 'balanced', 'criterion': 'gini', 'max_depth': 10, 'max_features': 'log2', 'n_estimators': 50} ✓\n",
      "Modelo: {'class_weight': 'balanced', 'criterion': 'gini', 'max_depth': 10, 'max_features': 'log2', 'n_estimators': 100} ✓\n",
      "Modelo: {'class_weight': 'balanced', 'criterion': 'gini', 'max_depth': 10, 'max_features': 'log2', 'n_estimators': 150} ✓\n",
      "Modelo: {'class_weight': 'balanced', 'criterion': 'gini', 'max_depth': 10, 'max_features': 'auto', 'n_estimators': 5} ✓\n",
      "Modelo: {'class_weight': 'balanced', 'criterion': 'gini', 'max_depth': 10, 'max_features': 'auto', 'n_estimators': 20} ✓\n",
      "Modelo: {'class_weight': 'balanced', 'criterion': 'gini', 'max_depth': 10, 'max_features': 'auto', 'n_estimators': 50} ✓\n",
      "Modelo: {'class_weight': 'balanced', 'criterion': 'gini', 'max_depth': 10, 'max_features': 'auto', 'n_estimators': 100} ✓\n",
      "Modelo: {'class_weight': 'balanced', 'criterion': 'gini', 'max_depth': 10, 'max_features': 'auto', 'n_estimators': 150} ✓\n",
      "Modelo: {'class_weight': 'balanced', 'criterion': 'gini', 'max_depth': 10, 'max_features': 'sqrt', 'n_estimators': 5} ✓\n",
      "Modelo: {'class_weight': 'balanced', 'criterion': 'gini', 'max_depth': 10, 'max_features': 'sqrt', 'n_estimators': 20} ✓\n",
      "Modelo: {'class_weight': 'balanced', 'criterion': 'gini', 'max_depth': 10, 'max_features': 'sqrt', 'n_estimators': 50} ✓\n",
      "Modelo: {'class_weight': 'balanced', 'criterion': 'gini', 'max_depth': 10, 'max_features': 'sqrt', 'n_estimators': 100} ✓\n",
      "Modelo: {'class_weight': 'balanced', 'criterion': 'gini', 'max_depth': 10, 'max_features': 'sqrt', 'n_estimators': 150} ✓\n",
      "Modelo: {'class_weight': 'balanced', 'criterion': 'entropy', 'max_depth': None, 'max_features': 5, 'n_estimators': 5} ✓\n",
      "Modelo: {'class_weight': 'balanced', 'criterion': 'entropy', 'max_depth': None, 'max_features': 5, 'n_estimators': 20} ✓\n",
      "Modelo: {'class_weight': 'balanced', 'criterion': 'entropy', 'max_depth': None, 'max_features': 5, 'n_estimators': 50} ✓\n",
      "Modelo: {'class_weight': 'balanced', 'criterion': 'entropy', 'max_depth': None, 'max_features': 5, 'n_estimators': 100} ✓\n",
      "Modelo: {'class_weight': 'balanced', 'criterion': 'entropy', 'max_depth': None, 'max_features': 5, 'n_estimators': 150} ✓\n",
      "Modelo: {'class_weight': 'balanced', 'criterion': 'entropy', 'max_depth': None, 'max_features': 'log2', 'n_estimators': 5} ✓\n",
      "Modelo: {'class_weight': 'balanced', 'criterion': 'entropy', 'max_depth': None, 'max_features': 'log2', 'n_estimators': 20} ✓\n",
      "Modelo: {'class_weight': 'balanced', 'criterion': 'entropy', 'max_depth': None, 'max_features': 'log2', 'n_estimators': 50} ✓\n",
      "Modelo: {'class_weight': 'balanced', 'criterion': 'entropy', 'max_depth': None, 'max_features': 'log2', 'n_estimators': 100} ✓\n",
      "Modelo: {'class_weight': 'balanced', 'criterion': 'entropy', 'max_depth': None, 'max_features': 'log2', 'n_estimators': 150} ✓\n",
      "Modelo: {'class_weight': 'balanced', 'criterion': 'entropy', 'max_depth': None, 'max_features': 'auto', 'n_estimators': 5} ✓\n",
      "Modelo: {'class_weight': 'balanced', 'criterion': 'entropy', 'max_depth': None, 'max_features': 'auto', 'n_estimators': 20} ✓\n",
      "Modelo: {'class_weight': 'balanced', 'criterion': 'entropy', 'max_depth': None, 'max_features': 'auto', 'n_estimators': 50} ✓\n",
      "Modelo: {'class_weight': 'balanced', 'criterion': 'entropy', 'max_depth': None, 'max_features': 'auto', 'n_estimators': 100} ✓\n",
      "Modelo: {'class_weight': 'balanced', 'criterion': 'entropy', 'max_depth': None, 'max_features': 'auto', 'n_estimators': 150} ✓\n",
      "Modelo: {'class_weight': 'balanced', 'criterion': 'entropy', 'max_depth': None, 'max_features': 'sqrt', 'n_estimators': 5} ✓\n",
      "Modelo: {'class_weight': 'balanced', 'criterion': 'entropy', 'max_depth': None, 'max_features': 'sqrt', 'n_estimators': 20} ✓\n",
      "Modelo: {'class_weight': 'balanced', 'criterion': 'entropy', 'max_depth': None, 'max_features': 'sqrt', 'n_estimators': 50} ✓\n",
      "Modelo: {'class_weight': 'balanced', 'criterion': 'entropy', 'max_depth': None, 'max_features': 'sqrt', 'n_estimators': 100} ✓\n",
      "Modelo: {'class_weight': 'balanced', 'criterion': 'entropy', 'max_depth': None, 'max_features': 'sqrt', 'n_estimators': 150} ✓\n",
      "Modelo: {'class_weight': 'balanced', 'criterion': 'entropy', 'max_depth': 3, 'max_features': 5, 'n_estimators': 5} ✓\n",
      "Modelo: {'class_weight': 'balanced', 'criterion': 'entropy', 'max_depth': 3, 'max_features': 5, 'n_estimators': 20} ✓\n",
      "Modelo: {'class_weight': 'balanced', 'criterion': 'entropy', 'max_depth': 3, 'max_features': 5, 'n_estimators': 50} ✓\n",
      "Modelo: {'class_weight': 'balanced', 'criterion': 'entropy', 'max_depth': 3, 'max_features': 5, 'n_estimators': 100} ✓\n",
      "Modelo: {'class_weight': 'balanced', 'criterion': 'entropy', 'max_depth': 3, 'max_features': 5, 'n_estimators': 150} ✓\n",
      "Modelo: {'class_weight': 'balanced', 'criterion': 'entropy', 'max_depth': 3, 'max_features': 'log2', 'n_estimators': 5} ✓\n",
      "Modelo: {'class_weight': 'balanced', 'criterion': 'entropy', 'max_depth': 3, 'max_features': 'log2', 'n_estimators': 20} ✓\n",
      "Modelo: {'class_weight': 'balanced', 'criterion': 'entropy', 'max_depth': 3, 'max_features': 'log2', 'n_estimators': 50} ✓\n",
      "Modelo: {'class_weight': 'balanced', 'criterion': 'entropy', 'max_depth': 3, 'max_features': 'log2', 'n_estimators': 100} ✓\n",
      "Modelo: {'class_weight': 'balanced', 'criterion': 'entropy', 'max_depth': 3, 'max_features': 'log2', 'n_estimators': 150} ✓\n",
      "Modelo: {'class_weight': 'balanced', 'criterion': 'entropy', 'max_depth': 3, 'max_features': 'auto', 'n_estimators': 5} ✓\n",
      "Modelo: {'class_weight': 'balanced', 'criterion': 'entropy', 'max_depth': 3, 'max_features': 'auto', 'n_estimators': 20} ✓\n",
      "Modelo: {'class_weight': 'balanced', 'criterion': 'entropy', 'max_depth': 3, 'max_features': 'auto', 'n_estimators': 50} ✓\n",
      "Modelo: {'class_weight': 'balanced', 'criterion': 'entropy', 'max_depth': 3, 'max_features': 'auto', 'n_estimators': 100} ✓\n",
      "Modelo: {'class_weight': 'balanced', 'criterion': 'entropy', 'max_depth': 3, 'max_features': 'auto', 'n_estimators': 150} ✓\n",
      "Modelo: {'class_weight': 'balanced', 'criterion': 'entropy', 'max_depth': 3, 'max_features': 'sqrt', 'n_estimators': 5} ✓\n",
      "Modelo: {'class_weight': 'balanced', 'criterion': 'entropy', 'max_depth': 3, 'max_features': 'sqrt', 'n_estimators': 20} ✓\n",
      "Modelo: {'class_weight': 'balanced', 'criterion': 'entropy', 'max_depth': 3, 'max_features': 'sqrt', 'n_estimators': 50} ✓\n",
      "Modelo: {'class_weight': 'balanced', 'criterion': 'entropy', 'max_depth': 3, 'max_features': 'sqrt', 'n_estimators': 100} ✓\n",
      "Modelo: {'class_weight': 'balanced', 'criterion': 'entropy', 'max_depth': 3, 'max_features': 'sqrt', 'n_estimators': 150} ✓\n",
      "Modelo: {'class_weight': 'balanced', 'criterion': 'entropy', 'max_depth': 5, 'max_features': 5, 'n_estimators': 5} ✓\n",
      "Modelo: {'class_weight': 'balanced', 'criterion': 'entropy', 'max_depth': 5, 'max_features': 5, 'n_estimators': 20} ✓\n",
      "Modelo: {'class_weight': 'balanced', 'criterion': 'entropy', 'max_depth': 5, 'max_features': 5, 'n_estimators': 50} ✓\n",
      "Modelo: {'class_weight': 'balanced', 'criterion': 'entropy', 'max_depth': 5, 'max_features': 5, 'n_estimators': 100} ✓\n",
      "Modelo: {'class_weight': 'balanced', 'criterion': 'entropy', 'max_depth': 5, 'max_features': 5, 'n_estimators': 150} ✓\n",
      "Modelo: {'class_weight': 'balanced', 'criterion': 'entropy', 'max_depth': 5, 'max_features': 'log2', 'n_estimators': 5} ✓\n",
      "Modelo: {'class_weight': 'balanced', 'criterion': 'entropy', 'max_depth': 5, 'max_features': 'log2', 'n_estimators': 20} ✓\n",
      "Modelo: {'class_weight': 'balanced', 'criterion': 'entropy', 'max_depth': 5, 'max_features': 'log2', 'n_estimators': 50} ✓\n",
      "Modelo: {'class_weight': 'balanced', 'criterion': 'entropy', 'max_depth': 5, 'max_features': 'log2', 'n_estimators': 100} ✓\n",
      "Modelo: {'class_weight': 'balanced', 'criterion': 'entropy', 'max_depth': 5, 'max_features': 'log2', 'n_estimators': 150} ✓\n",
      "Modelo: {'class_weight': 'balanced', 'criterion': 'entropy', 'max_depth': 5, 'max_features': 'auto', 'n_estimators': 5} ✓\n",
      "Modelo: {'class_weight': 'balanced', 'criterion': 'entropy', 'max_depth': 5, 'max_features': 'auto', 'n_estimators': 20} ✓\n",
      "Modelo: {'class_weight': 'balanced', 'criterion': 'entropy', 'max_depth': 5, 'max_features': 'auto', 'n_estimators': 50} ✓\n",
      "Modelo: {'class_weight': 'balanced', 'criterion': 'entropy', 'max_depth': 5, 'max_features': 'auto', 'n_estimators': 100} ✓\n",
      "Modelo: {'class_weight': 'balanced', 'criterion': 'entropy', 'max_depth': 5, 'max_features': 'auto', 'n_estimators': 150} ✓\n",
      "Modelo: {'class_weight': 'balanced', 'criterion': 'entropy', 'max_depth': 5, 'max_features': 'sqrt', 'n_estimators': 5} ✓\n",
      "Modelo: {'class_weight': 'balanced', 'criterion': 'entropy', 'max_depth': 5, 'max_features': 'sqrt', 'n_estimators': 20} ✓\n",
      "Modelo: {'class_weight': 'balanced', 'criterion': 'entropy', 'max_depth': 5, 'max_features': 'sqrt', 'n_estimators': 50} ✓\n",
      "Modelo: {'class_weight': 'balanced', 'criterion': 'entropy', 'max_depth': 5, 'max_features': 'sqrt', 'n_estimators': 100} ✓\n",
      "Modelo: {'class_weight': 'balanced', 'criterion': 'entropy', 'max_depth': 5, 'max_features': 'sqrt', 'n_estimators': 150} ✓\n",
      "Modelo: {'class_weight': 'balanced', 'criterion': 'entropy', 'max_depth': 7, 'max_features': 5, 'n_estimators': 5} ✓\n",
      "Modelo: {'class_weight': 'balanced', 'criterion': 'entropy', 'max_depth': 7, 'max_features': 5, 'n_estimators': 20} ✓\n",
      "Modelo: {'class_weight': 'balanced', 'criterion': 'entropy', 'max_depth': 7, 'max_features': 5, 'n_estimators': 50} ✓\n",
      "Modelo: {'class_weight': 'balanced', 'criterion': 'entropy', 'max_depth': 7, 'max_features': 5, 'n_estimators': 100} ✓\n",
      "Modelo: {'class_weight': 'balanced', 'criterion': 'entropy', 'max_depth': 7, 'max_features': 5, 'n_estimators': 150} ✓\n",
      "Modelo: {'class_weight': 'balanced', 'criterion': 'entropy', 'max_depth': 7, 'max_features': 'log2', 'n_estimators': 5} ✓\n",
      "Modelo: {'class_weight': 'balanced', 'criterion': 'entropy', 'max_depth': 7, 'max_features': 'log2', 'n_estimators': 20} ✓\n",
      "Modelo: {'class_weight': 'balanced', 'criterion': 'entropy', 'max_depth': 7, 'max_features': 'log2', 'n_estimators': 50} ✓\n",
      "Modelo: {'class_weight': 'balanced', 'criterion': 'entropy', 'max_depth': 7, 'max_features': 'log2', 'n_estimators': 100} ✓\n",
      "Modelo: {'class_weight': 'balanced', 'criterion': 'entropy', 'max_depth': 7, 'max_features': 'log2', 'n_estimators': 150} ✓\n",
      "Modelo: {'class_weight': 'balanced', 'criterion': 'entropy', 'max_depth': 7, 'max_features': 'auto', 'n_estimators': 5} ✓\n",
      "Modelo: {'class_weight': 'balanced', 'criterion': 'entropy', 'max_depth': 7, 'max_features': 'auto', 'n_estimators': 20} ✓\n",
      "Modelo: {'class_weight': 'balanced', 'criterion': 'entropy', 'max_depth': 7, 'max_features': 'auto', 'n_estimators': 50} ✓\n",
      "Modelo: {'class_weight': 'balanced', 'criterion': 'entropy', 'max_depth': 7, 'max_features': 'auto', 'n_estimators': 100} ✓\n",
      "Modelo: {'class_weight': 'balanced', 'criterion': 'entropy', 'max_depth': 7, 'max_features': 'auto', 'n_estimators': 150} ✓\n",
      "Modelo: {'class_weight': 'balanced', 'criterion': 'entropy', 'max_depth': 7, 'max_features': 'sqrt', 'n_estimators': 5} ✓\n",
      "Modelo: {'class_weight': 'balanced', 'criterion': 'entropy', 'max_depth': 7, 'max_features': 'sqrt', 'n_estimators': 20} ✓\n",
      "Modelo: {'class_weight': 'balanced', 'criterion': 'entropy', 'max_depth': 7, 'max_features': 'sqrt', 'n_estimators': 50} ✓\n",
      "Modelo: {'class_weight': 'balanced', 'criterion': 'entropy', 'max_depth': 7, 'max_features': 'sqrt', 'n_estimators': 100} ✓\n",
      "Modelo: {'class_weight': 'balanced', 'criterion': 'entropy', 'max_depth': 7, 'max_features': 'sqrt', 'n_estimators': 150} ✓\n",
      "Modelo: {'class_weight': 'balanced', 'criterion': 'entropy', 'max_depth': 10, 'max_features': 5, 'n_estimators': 5} ✓\n",
      "Modelo: {'class_weight': 'balanced', 'criterion': 'entropy', 'max_depth': 10, 'max_features': 5, 'n_estimators': 20} ✓\n",
      "Modelo: {'class_weight': 'balanced', 'criterion': 'entropy', 'max_depth': 10, 'max_features': 5, 'n_estimators': 50} ✓\n",
      "Modelo: {'class_weight': 'balanced', 'criterion': 'entropy', 'max_depth': 10, 'max_features': 5, 'n_estimators': 100} ✓\n",
      "Modelo: {'class_weight': 'balanced', 'criterion': 'entropy', 'max_depth': 10, 'max_features': 5, 'n_estimators': 150} ✓\n",
      "Modelo: {'class_weight': 'balanced', 'criterion': 'entropy', 'max_depth': 10, 'max_features': 'log2', 'n_estimators': 5} ✓\n",
      "Modelo: {'class_weight': 'balanced', 'criterion': 'entropy', 'max_depth': 10, 'max_features': 'log2', 'n_estimators': 20} ✓\n",
      "Modelo: {'class_weight': 'balanced', 'criterion': 'entropy', 'max_depth': 10, 'max_features': 'log2', 'n_estimators': 50} ✓\n",
      "Modelo: {'class_weight': 'balanced', 'criterion': 'entropy', 'max_depth': 10, 'max_features': 'log2', 'n_estimators': 100} ✓\n",
      "Modelo: {'class_weight': 'balanced', 'criterion': 'entropy', 'max_depth': 10, 'max_features': 'log2', 'n_estimators': 150} ✓\n",
      "Modelo: {'class_weight': 'balanced', 'criterion': 'entropy', 'max_depth': 10, 'max_features': 'auto', 'n_estimators': 5} ✓\n",
      "Modelo: {'class_weight': 'balanced', 'criterion': 'entropy', 'max_depth': 10, 'max_features': 'auto', 'n_estimators': 20} ✓\n",
      "Modelo: {'class_weight': 'balanced', 'criterion': 'entropy', 'max_depth': 10, 'max_features': 'auto', 'n_estimators': 50} ✓\n",
      "Modelo: {'class_weight': 'balanced', 'criterion': 'entropy', 'max_depth': 10, 'max_features': 'auto', 'n_estimators': 100} ✓\n",
      "Modelo: {'class_weight': 'balanced', 'criterion': 'entropy', 'max_depth': 10, 'max_features': 'auto', 'n_estimators': 150} ✓\n",
      "Modelo: {'class_weight': 'balanced', 'criterion': 'entropy', 'max_depth': 10, 'max_features': 'sqrt', 'n_estimators': 5} ✓\n",
      "Modelo: {'class_weight': 'balanced', 'criterion': 'entropy', 'max_depth': 10, 'max_features': 'sqrt', 'n_estimators': 20} ✓\n",
      "Modelo: {'class_weight': 'balanced', 'criterion': 'entropy', 'max_depth': 10, 'max_features': 'sqrt', 'n_estimators': 50} ✓\n",
      "Modelo: {'class_weight': 'balanced', 'criterion': 'entropy', 'max_depth': 10, 'max_features': 'sqrt', 'n_estimators': 100} ✓\n",
      "Modelo: {'class_weight': 'balanced', 'criterion': 'entropy', 'max_depth': 10, 'max_features': 'sqrt', 'n_estimators': 150} ✓\n"
     ]
    }
   ],
   "source": [
    "for params in param_grid:\n",
    "    \n",
    "    modelo = RandomForestClassifier(\n",
    "                oob_score    = True,\n",
    "                n_jobs       = -1,\n",
    "                random_state = 123,\n",
    "                ** params\n",
    "             )\n",
    "    \n",
    "    modelo.fit(train_x, train_y)\n",
    "    \n",
    "    resultados['params'].append(params)\n",
    "    resultados['oob_accuracy'].append(modelo.oob_score_)\n",
    "    print(f\"Modelo: {params} \\u2713\")"
   ]
  },
  {
   "cell_type": "code",
   "execution_count": 28,
   "id": "lonely-perception",
   "metadata": {},
   "outputs": [
    {
     "data": {
      "text/html": [
       "<div>\n",
       "<style scoped>\n",
       "    .dataframe tbody tr th:only-of-type {\n",
       "        vertical-align: middle;\n",
       "    }\n",
       "\n",
       "    .dataframe tbody tr th {\n",
       "        vertical-align: top;\n",
       "    }\n",
       "\n",
       "    .dataframe thead th {\n",
       "        text-align: right;\n",
       "    }\n",
       "</style>\n",
       "<table border=\"1\" class=\"dataframe\">\n",
       "  <thead>\n",
       "    <tr style=\"text-align: right;\">\n",
       "      <th></th>\n",
       "      <th>oob_accuracy</th>\n",
       "      <th>class_weight</th>\n",
       "      <th>criterion</th>\n",
       "      <th>max_depth</th>\n",
       "      <th>max_features</th>\n",
       "      <th>n_estimators</th>\n",
       "    </tr>\n",
       "  </thead>\n",
       "  <tbody>\n",
       "    <tr>\n",
       "      <th>111</th>\n",
       "      <td>0.990829</td>\n",
       "      <td>balanced</td>\n",
       "      <td>entropy</td>\n",
       "      <td>NaN</td>\n",
       "      <td>auto</td>\n",
       "      <td>20</td>\n",
       "    </tr>\n",
       "    <tr>\n",
       "      <th>116</th>\n",
       "      <td>0.990829</td>\n",
       "      <td>balanced</td>\n",
       "      <td>entropy</td>\n",
       "      <td>NaN</td>\n",
       "      <td>sqrt</td>\n",
       "      <td>20</td>\n",
       "    </tr>\n",
       "    <tr>\n",
       "      <th>6</th>\n",
       "      <td>0.990744</td>\n",
       "      <td>balanced</td>\n",
       "      <td>gini</td>\n",
       "      <td>NaN</td>\n",
       "      <td>log2</td>\n",
       "      <td>20</td>\n",
       "    </tr>\n",
       "    <tr>\n",
       "      <th>1</th>\n",
       "      <td>0.990744</td>\n",
       "      <td>balanced</td>\n",
       "      <td>gini</td>\n",
       "      <td>NaN</td>\n",
       "      <td>5</td>\n",
       "      <td>20</td>\n",
       "    </tr>\n",
       "    <tr>\n",
       "      <th>106</th>\n",
       "      <td>0.990744</td>\n",
       "      <td>balanced</td>\n",
       "      <td>entropy</td>\n",
       "      <td>NaN</td>\n",
       "      <td>log2</td>\n",
       "      <td>20</td>\n",
       "    </tr>\n",
       "    <tr>\n",
       "      <th>101</th>\n",
       "      <td>0.990736</td>\n",
       "      <td>balanced</td>\n",
       "      <td>entropy</td>\n",
       "      <td>NaN</td>\n",
       "      <td>5</td>\n",
       "      <td>20</td>\n",
       "    </tr>\n",
       "    <tr>\n",
       "      <th>11</th>\n",
       "      <td>0.990724</td>\n",
       "      <td>balanced</td>\n",
       "      <td>gini</td>\n",
       "      <td>NaN</td>\n",
       "      <td>auto</td>\n",
       "      <td>20</td>\n",
       "    </tr>\n",
       "    <tr>\n",
       "      <th>16</th>\n",
       "      <td>0.990724</td>\n",
       "      <td>balanced</td>\n",
       "      <td>gini</td>\n",
       "      <td>NaN</td>\n",
       "      <td>sqrt</td>\n",
       "      <td>20</td>\n",
       "    </tr>\n",
       "    <tr>\n",
       "      <th>112</th>\n",
       "      <td>0.990449</td>\n",
       "      <td>balanced</td>\n",
       "      <td>entropy</td>\n",
       "      <td>NaN</td>\n",
       "      <td>auto</td>\n",
       "      <td>50</td>\n",
       "    </tr>\n",
       "    <tr>\n",
       "      <th>117</th>\n",
       "      <td>0.990449</td>\n",
       "      <td>balanced</td>\n",
       "      <td>entropy</td>\n",
       "      <td>NaN</td>\n",
       "      <td>sqrt</td>\n",
       "      <td>50</td>\n",
       "    </tr>\n",
       "  </tbody>\n",
       "</table>\n",
       "</div>"
      ],
      "text/plain": [
       "     oob_accuracy class_weight criterion  max_depth max_features  n_estimators\n",
       "111      0.990829     balanced   entropy        NaN         auto            20\n",
       "116      0.990829     balanced   entropy        NaN         sqrt            20\n",
       "6        0.990744     balanced      gini        NaN         log2            20\n",
       "1        0.990744     balanced      gini        NaN            5            20\n",
       "106      0.990744     balanced   entropy        NaN         log2            20\n",
       "101      0.990736     balanced   entropy        NaN            5            20\n",
       "11       0.990724     balanced      gini        NaN         auto            20\n",
       "16       0.990724     balanced      gini        NaN         sqrt            20\n",
       "112      0.990449     balanced   entropy        NaN         auto            50\n",
       "117      0.990449     balanced   entropy        NaN         sqrt            50"
      ]
     },
     "execution_count": 28,
     "metadata": {},
     "output_type": "execute_result"
    }
   ],
   "source": [
    "resultados = pd.DataFrame(resultados)\n",
    "resultados = pd.concat([resultados, resultados['params'].apply(pd.Series)], axis=1)\n",
    "resultados = resultados.drop(columns = 'params')\n",
    "resultados = resultados.sort_values('oob_accuracy', ascending=False)\n",
    "resultados.head(10)"
   ]
  },
  {
   "cell_type": "markdown",
   "id": "31669bd2-f71a-46f1-9e78-c0b596620939",
   "metadata": {},
   "source": [
    "**Seleccionamos los mejores hiperparámetros**"
   ]
  },
  {
   "cell_type": "code",
   "execution_count": 29,
   "id": "995db6cf-2e2d-4ad4-b2f9-ddf2583c2f67",
   "metadata": {},
   "outputs": [
    {
     "name": "stdout",
     "output_type": "stream",
     "text": [
      "Mejores hiperparámetros encontrados (oob-accuracy)\n",
      "--------------------------------------------------\n",
      "Estimators: \n",
      " oob_accuracy    0.990829\n",
      "class_weight    balanced\n",
      "criterion        entropy\n",
      "max_depth            NaN\n",
      "max_features        auto\n",
      "n_estimators          20\n",
      "Name: 111, dtype: object accuracy\n"
     ]
    }
   ],
   "source": [
    "print(\"Mejores hiperparámetros encontrados (oob-accuracy)\")\n",
    "print('--------------------------------------------------')\n",
    "print(\"Estimators: \\n\", resultados.iloc[0,:], \"accuracy\")"
   ]
  },
  {
   "cell_type": "markdown",
   "id": "b464f98b-0919-4273-be3b-294a6af461a4",
   "metadata": {},
   "source": [
    "--------------"
   ]
  },
  {
   "cell_type": "markdown",
   "id": "c3d00647-8597-41e9-87ba-392768dafae8",
   "metadata": {},
   "source": [
    "--------------"
   ]
  },
  {
   "cell_type": "markdown",
   "id": "52564134-88e7-45ce-8cce-2bd313130de9",
   "metadata": {},
   "source": [
    "#### 4.4 Modelo 1 - Baseline"
   ]
  },
  {
   "cell_type": "markdown",
   "id": "cc1c45b7-f093-4da3-ae96-17a9e5aed5e7",
   "metadata": {},
   "source": [
    "Nuestro modelo Base, tendrá los parámetros obtenidos como mejores anteriormente."
   ]
  },
  {
   "cell_type": "markdown",
   "id": "658340b2-5b18-4c3c-9bf6-aa9110185835",
   "metadata": {},
   "source": [
    "**Aplicamos los mejores hiperparámetros obtenidos**"
   ]
  },
  {
   "cell_type": "code",
   "execution_count": 96,
   "id": "insured-combine",
   "metadata": {},
   "outputs": [
    {
     "data": {
      "text/plain": [
       "RandomForestClassifier(criterion='entropy', n_estimators=20, n_jobs=-1,\n",
       "                       random_state=123)"
      ]
     },
     "execution_count": 96,
     "metadata": {},
     "output_type": "execute_result"
    }
   ],
   "source": [
    "rf = RandomForestClassifier(criterion = 'entropy', \n",
    "                            n_estimators = 20, \n",
    "                            max_features = 'auto', \n",
    "                            max_depth = None, \n",
    "                            n_jobs = -1,\n",
    "                            random_state = 123)\n",
    "\n",
    "rf.fit(train_x, train_y)"
   ]
  },
  {
   "cell_type": "markdown",
   "id": "2dbc7f8f-39ee-43df-9406-a0cc0f1e7dca",
   "metadata": {},
   "source": [
    "Observamos los resultados del modelo"
   ]
  },
  {
   "cell_type": "code",
   "execution_count": 97,
   "id": "99b3e8cf-d083-4675-bffd-fd9ef66a201d",
   "metadata": {},
   "outputs": [
    {
     "data": {
      "image/png": "[encoded data removed]",
      "text/plain": [
       "<Figure size 576x576 with 2 Axes>"
      ]
     },
     "metadata": {
      "needs_background": "light"
     },
     "output_type": "display_data"
    },
    {
     "name": "stdout",
     "output_type": "stream",
     "text": [
      "              precision    recall  f1-score   support\n",
      "\n",
      "           0       0.99      1.00      1.00    109507\n",
      "           1       0.36      0.03      0.06       783\n",
      "\n",
      "    accuracy                           0.99    110290\n",
      "   macro avg       0.68      0.52      0.53    110290\n",
      "weighted avg       0.99      0.99      0.99    110290\n",
      "\n"
     ]
    }
   ],
   "source": [
    "pred_y = rf.predict(test_x)\n",
    "mostrar_resultados(test_y, pred_y)"
   ]
  },
  {
   "cell_type": "code",
   "execution_count": 98,
   "id": "demographic-means",
   "metadata": {},
   "outputs": [],
   "source": [
    "feature_importances = pd.DataFrame(rf.feature_importances_, index = train_x.columns, columns = ['important']).sort_values(['important'], ascending = 0)"
   ]
  },
  {
   "cell_type": "code",
   "execution_count": 99,
   "id": "unlikely-holder",
   "metadata": {
    "collapsed": true,
    "jupyter": {
     "outputs_hidden": true
    },
    "tags": []
   },
   "outputs": [
    {
     "data": {
      "text/html": [
       "<div>\n",
       "<style scoped>\n",
       "    .dataframe tbody tr th:only-of-type {\n",
       "        vertical-align: middle;\n",
       "    }\n",
       "\n",
       "    .dataframe tbody tr th {\n",
       "        vertical-align: top;\n",
       "    }\n",
       "\n",
       "    .dataframe thead th {\n",
       "        text-align: right;\n",
       "    }\n",
       "</style>\n",
       "<table border=\"1\" class=\"dataframe\">\n",
       "  <thead>\n",
       "    <tr style=\"text-align: right;\">\n",
       "      <th></th>\n",
       "      <th>important</th>\n",
       "    </tr>\n",
       "  </thead>\n",
       "  <tbody>\n",
       "    <tr>\n",
       "      <th>IPCASOS</th>\n",
       "      <td>10.316478</td>\n",
       "    </tr>\n",
       "    <tr>\n",
       "      <th>CANAL_REGISTRO</th>\n",
       "      <td>10.004300</td>\n",
       "    </tr>\n",
       "    <tr>\n",
       "      <th>FECHA_REGISTRO_MONTH</th>\n",
       "      <td>8.338443</td>\n",
       "    </tr>\n",
       "    <tr>\n",
       "      <th>FECHACONSUMO_MONTH</th>\n",
       "      <td>8.023859</td>\n",
       "    </tr>\n",
       "    <tr>\n",
       "      <th>FECHACONSUMO_WEEKDAY</th>\n",
       "      <td>5.898071</td>\n",
       "    </tr>\n",
       "    <tr>\n",
       "      <th>FECHA_REGISTRO_WEEKDAY</th>\n",
       "      <td>5.685137</td>\n",
       "    </tr>\n",
       "    <tr>\n",
       "      <th>1A_EMPCONSUL_PROV_DENS</th>\n",
       "      <td>4.927124</td>\n",
       "    </tr>\n",
       "    <tr>\n",
       "      <th>1A_EMPCONSUL_PROV_IDH</th>\n",
       "      <td>4.811856</td>\n",
       "    </tr>\n",
       "    <tr>\n",
       "      <th>USU_DEPART_DEN_POB</th>\n",
       "      <td>2.275303</td>\n",
       "    </tr>\n",
       "    <tr>\n",
       "      <th>USU_DEPART_IDH</th>\n",
       "      <td>2.093676</td>\n",
       "    </tr>\n",
       "    <tr>\n",
       "      <th>BONDAD_EMAIL</th>\n",
       "      <td>2.023346</td>\n",
       "    </tr>\n",
       "    <tr>\n",
       "      <th>1A_EMPCONSUL_SECTOR_TERCIARIO</th>\n",
       "      <td>1.848394</td>\n",
       "    </tr>\n",
       "    <tr>\n",
       "      <th>TIPO_TELF_MOVIL</th>\n",
       "      <td>1.775803</td>\n",
       "    </tr>\n",
       "    <tr>\n",
       "      <th>1A_EMPCONSUL_SECTOR_SECUNDARIO</th>\n",
       "      <td>1.711238</td>\n",
       "    </tr>\n",
       "    <tr>\n",
       "      <th>TIPO_TELF_EXTRANJERO</th>\n",
       "      <td>1.640585</td>\n",
       "    </tr>\n",
       "    <tr>\n",
       "      <th>USU_TIPO_SOC_COMERCIAL_INDUSTRIAL</th>\n",
       "      <td>1.538310</td>\n",
       "    </tr>\n",
       "    <tr>\n",
       "      <th>1A_DESCGRUPOPROD_PERF_PROMO</th>\n",
       "      <td>1.533335</td>\n",
       "    </tr>\n",
       "    <tr>\n",
       "      <th>1A_DESCGRUPOPROD_FICH_PROMO</th>\n",
       "      <td>1.405817</td>\n",
       "    </tr>\n",
       "    <tr>\n",
       "      <th>TIPO_TELF_NO_PUBLICO</th>\n",
       "      <td>1.162795</td>\n",
       "    </tr>\n",
       "    <tr>\n",
       "      <th>USU_ESTADO_ACTIVA</th>\n",
       "      <td>1.106805</td>\n",
       "    </tr>\n",
       "    <tr>\n",
       "      <th>FECHA_REGISTRO_BUSINESS_DAY</th>\n",
       "      <td>1.032592</td>\n",
       "    </tr>\n",
       "  </tbody>\n",
       "</table>\n",
       "</div>"
      ],
      "text/plain": [
       "                                   important\n",
       "IPCASOS                            10.316478\n",
       "CANAL_REGISTRO                     10.004300\n",
       "FECHA_REGISTRO_MONTH                8.338443\n",
       "FECHACONSUMO_MONTH                  8.023859\n",
       "FECHACONSUMO_WEEKDAY                5.898071\n",
       "FECHA_REGISTRO_WEEKDAY              5.685137\n",
       "1A_EMPCONSUL_PROV_DENS              4.927124\n",
       "1A_EMPCONSUL_PROV_IDH               4.811856\n",
       "USU_DEPART_DEN_POB                  2.275303\n",
       "USU_DEPART_IDH                      2.093676\n",
       "BONDAD_EMAIL                        2.023346\n",
       "1A_EMPCONSUL_SECTOR_TERCIARIO       1.848394\n",
       "TIPO_TELF_MOVIL                     1.775803\n",
       "1A_EMPCONSUL_SECTOR_SECUNDARIO      1.711238\n",
       "TIPO_TELF_EXTRANJERO                1.640585\n",
       "USU_TIPO_SOC_COMERCIAL_INDUSTRIAL   1.538310\n",
       "1A_DESCGRUPOPROD_PERF_PROMO         1.533335\n",
       "1A_DESCGRUPOPROD_FICH_PROMO         1.405817\n",
       "TIPO_TELF_NO_PUBLICO                1.162795\n",
       "USU_ESTADO_ACTIVA                   1.106805\n",
       "FECHA_REGISTRO_BUSINESS_DAY         1.032592"
      ]
     },
     "execution_count": 99,
     "metadata": {},
     "output_type": "execute_result"
    }
   ],
   "source": [
    "feature_importances[feature_importances['important'] > 0.01]*100"
   ]
  },
  {
   "cell_type": "code",
   "execution_count": 100,
   "id": "3daff4e8-5a98-4a0a-84e7-f63f59d3da77",
   "metadata": {},
   "outputs": [
    {
     "data": {
      "text/plain": [
       "(21, 1)"
      ]
     },
     "execution_count": 100,
     "metadata": {},
     "output_type": "execute_result"
    }
   ],
   "source": [
    "feature_importances[feature_importances['important'] > 0.01].shape"
   ]
  },
  {
   "cell_type": "markdown",
   "id": "cc4e389e-3f00-4e28-b6c9-fa04010869c8",
   "metadata": {},
   "source": [
    "------"
   ]
  },
  {
   "cell_type": "markdown",
   "id": "fa879172-3154-4fad-83fa-09146606af6c",
   "metadata": {},
   "source": [
    "------"
   ]
  },
  {
   "cell_type": "markdown",
   "id": "f6e60ac6-fa15-478e-8be0-3c9bff9c2ae9",
   "metadata": {},
   "source": [
    "------"
   ]
  },
  {
   "cell_type": "markdown",
   "id": "47f29614-b625-4eb1-83dc-528963d4c00d",
   "metadata": {},
   "source": [
    "#### 4.5 Modelo - Aplicando técnicas sobre el desbalanceo"
   ]
  },
  {
   "cell_type": "markdown",
   "id": "5fb1a513-7e01-444f-812b-6efd1d893277",
   "metadata": {},
   "source": [
    "**Estrategias para el manejo de Datos Desbalanceados**"
   ]
  },
  {
   "cell_type": "markdown",
   "id": "94c1c9aa-592c-49a1-a987-f34de8a6ca26",
   "metadata": {},
   "source": [
    "##### **4.5.1 Penalización para compensar**"
   ]
  },
  {
   "cell_type": "code",
   "execution_count": 101,
   "id": "68d9cb0f-71a0-4c56-8d1f-4b4e58225bb3",
   "metadata": {},
   "outputs": [
    {
     "data": {
      "text/plain": [
       "RandomForestClassifier(class_weight='balanced', criterion='entropy',\n",
       "                       n_estimators=20, n_jobs=-1, random_state=123)"
      ]
     },
     "execution_count": 101,
     "metadata": {},
     "output_type": "execute_result"
    }
   ],
   "source": [
    "rf = RandomForestClassifier(criterion = 'entropy', \n",
    "                            n_estimators = 20, \n",
    "                            max_features = 'auto', \n",
    "                            max_depth = None, \n",
    "                            n_jobs = -1,\n",
    "                            random_state = 123,\n",
    "                            class_weight = 'balanced')\n",
    "\n",
    "rf.fit(train_x, train_y)"
   ]
  },
  {
   "cell_type": "markdown",
   "id": "772de399-3c9a-45e2-bb46-7b8879171905",
   "metadata": {},
   "source": [
    "Observamos los resultados del modelo"
   ]
  },
  {
   "cell_type": "code",
   "execution_count": 102,
   "id": "929e3a5f-4060-49bc-ad6e-773ee3eb2006",
   "metadata": {},
   "outputs": [
    {
     "data": {
      "image/png": "[encoded data removed]",
      "text/plain": [
       "<Figure size 576x576 with 2 Axes>"
      ]
     },
     "metadata": {
      "needs_background": "light"
     },
     "output_type": "display_data"
    },
    {
     "name": "stdout",
     "output_type": "stream",
     "text": [
      "              precision    recall  f1-score   support\n",
      "\n",
      "           0       0.99      1.00      1.00    109507\n",
      "           1       0.08      0.03      0.04       783\n",
      "\n",
      "    accuracy                           0.99    110290\n",
      "   macro avg       0.53      0.51      0.52    110290\n",
      "weighted avg       0.99      0.99      0.99    110290\n",
      "\n"
     ]
    }
   ],
   "source": [
    "pred_y = rf.predict(test_x)\n",
    "mostrar_resultados(test_y, pred_y)"
   ]
  },
  {
   "cell_type": "code",
   "execution_count": 103,
   "id": "f033c9e1-80e2-4add-8a87-b55d71949991",
   "metadata": {},
   "outputs": [],
   "source": [
    "feature_importances = pd.DataFrame(rf.feature_importances_, index = train_x.columns, columns = ['important']).sort_values(['important'], ascending = 0)"
   ]
  },
  {
   "cell_type": "code",
   "execution_count": 104,
   "id": "dfaae28a-1da4-45b8-b89c-3f235d98a5bd",
   "metadata": {
    "collapsed": true,
    "jupyter": {
     "outputs_hidden": true
    },
    "tags": []
   },
   "outputs": [
    {
     "data": {
      "text/html": [
       "<div>\n",
       "<style scoped>\n",
       "    .dataframe tbody tr th:only-of-type {\n",
       "        vertical-align: middle;\n",
       "    }\n",
       "\n",
       "    .dataframe tbody tr th {\n",
       "        vertical-align: top;\n",
       "    }\n",
       "\n",
       "    .dataframe thead th {\n",
       "        text-align: right;\n",
       "    }\n",
       "</style>\n",
       "<table border=\"1\" class=\"dataframe\">\n",
       "  <thead>\n",
       "    <tr style=\"text-align: right;\">\n",
       "      <th></th>\n",
       "      <th>important</th>\n",
       "    </tr>\n",
       "  </thead>\n",
       "  <tbody>\n",
       "    <tr>\n",
       "      <th>CANAL_REGISTRO</th>\n",
       "      <td>9.385567</td>\n",
       "    </tr>\n",
       "    <tr>\n",
       "      <th>IPCASOS</th>\n",
       "      <td>9.305174</td>\n",
       "    </tr>\n",
       "    <tr>\n",
       "      <th>FECHACONSUMO_MONTH</th>\n",
       "      <td>7.703462</td>\n",
       "    </tr>\n",
       "    <tr>\n",
       "      <th>FECHA_REGISTRO_MONTH</th>\n",
       "      <td>7.565660</td>\n",
       "    </tr>\n",
       "    <tr>\n",
       "      <th>FECHA_REGISTRO_WEEKDAY</th>\n",
       "      <td>5.335743</td>\n",
       "    </tr>\n",
       "    <tr>\n",
       "      <th>1A_EMPCONSUL_PROV_DENS</th>\n",
       "      <td>5.284665</td>\n",
       "    </tr>\n",
       "    <tr>\n",
       "      <th>1A_EMPCONSUL_PROV_IDH</th>\n",
       "      <td>5.243062</td>\n",
       "    </tr>\n",
       "    <tr>\n",
       "      <th>FECHACONSUMO_WEEKDAY</th>\n",
       "      <td>5.063359</td>\n",
       "    </tr>\n",
       "    <tr>\n",
       "      <th>BONDAD_EMAIL</th>\n",
       "      <td>3.652810</td>\n",
       "    </tr>\n",
       "    <tr>\n",
       "      <th>USU_DEPART_DEN_POB</th>\n",
       "      <td>2.708140</td>\n",
       "    </tr>\n",
       "    <tr>\n",
       "      <th>USU_TIPO_SOC_COMERCIAL_INDUSTRIAL</th>\n",
       "      <td>2.516045</td>\n",
       "    </tr>\n",
       "    <tr>\n",
       "      <th>USU_ESTADO_ACTIVA</th>\n",
       "      <td>2.298015</td>\n",
       "    </tr>\n",
       "    <tr>\n",
       "      <th>1A_EMPCONSUL_SECTOR_TERCIARIO</th>\n",
       "      <td>1.780936</td>\n",
       "    </tr>\n",
       "    <tr>\n",
       "      <th>TIPO_TELF_MOVIL</th>\n",
       "      <td>1.737773</td>\n",
       "    </tr>\n",
       "    <tr>\n",
       "      <th>TIPO_TELF_EXTRANJERO</th>\n",
       "      <td>1.723105</td>\n",
       "    </tr>\n",
       "    <tr>\n",
       "      <th>USU_DEPART_IDH</th>\n",
       "      <td>1.662036</td>\n",
       "    </tr>\n",
       "    <tr>\n",
       "      <th>1A_EMPCONSUL_SECTOR_SECUNDARIO</th>\n",
       "      <td>1.648035</td>\n",
       "    </tr>\n",
       "    <tr>\n",
       "      <th>1A_DESCGRUPOPROD_FICH_PROMO</th>\n",
       "      <td>1.582599</td>\n",
       "    </tr>\n",
       "    <tr>\n",
       "      <th>1A_DESCGRUPOPROD_PERF_PROMO</th>\n",
       "      <td>1.380268</td>\n",
       "    </tr>\n",
       "    <tr>\n",
       "      <th>TIPO_TELF_NO_PUBLICO</th>\n",
       "      <td>1.224091</td>\n",
       "    </tr>\n",
       "  </tbody>\n",
       "</table>\n",
       "</div>"
      ],
      "text/plain": [
       "                                   important\n",
       "CANAL_REGISTRO                      9.385567\n",
       "IPCASOS                             9.305174\n",
       "FECHACONSUMO_MONTH                  7.703462\n",
       "FECHA_REGISTRO_MONTH                7.565660\n",
       "FECHA_REGISTRO_WEEKDAY              5.335743\n",
       "1A_EMPCONSUL_PROV_DENS              5.284665\n",
       "1A_EMPCONSUL_PROV_IDH               5.243062\n",
       "FECHACONSUMO_WEEKDAY                5.063359\n",
       "BONDAD_EMAIL                        3.652810\n",
       "USU_DEPART_DEN_POB                  2.708140\n",
       "USU_TIPO_SOC_COMERCIAL_INDUSTRIAL   2.516045\n",
       "USU_ESTADO_ACTIVA                   2.298015\n",
       "1A_EMPCONSUL_SECTOR_TERCIARIO       1.780936\n",
       "TIPO_TELF_MOVIL                     1.737773\n",
       "TIPO_TELF_EXTRANJERO                1.723105\n",
       "USU_DEPART_IDH                      1.662036\n",
       "1A_EMPCONSUL_SECTOR_SECUNDARIO      1.648035\n",
       "1A_DESCGRUPOPROD_FICH_PROMO         1.582599\n",
       "1A_DESCGRUPOPROD_PERF_PROMO         1.380268\n",
       "TIPO_TELF_NO_PUBLICO                1.224091"
      ]
     },
     "execution_count": 104,
     "metadata": {},
     "output_type": "execute_result"
    }
   ],
   "source": [
    "feature_importances[feature_importances['important'] > 0.01]*100"
   ]
  },
  {
   "cell_type": "code",
   "execution_count": 105,
   "id": "77ccc5e5-7a49-4c17-8dc9-6756007ddbf9",
   "metadata": {},
   "outputs": [
    {
     "data": {
      "text/plain": [
       "(20, 1)"
      ]
     },
     "execution_count": 105,
     "metadata": {},
     "output_type": "execute_result"
    }
   ],
   "source": [
    "feature_importances[feature_importances['important'] > 0.01].shape"
   ]
  },
  {
   "cell_type": "markdown",
   "id": "78d65c14-bd9d-4554-bd3b-dd62095ad076",
   "metadata": {},
   "source": [
    "------"
   ]
  },
  {
   "cell_type": "markdown",
   "id": "635d50be-5a6f-4f3c-8178-1dfc9aa92628",
   "metadata": {},
   "source": [
    "##### **4.5.2 Subsampling en la clase mayoritaria**"
   ]
  },
  {
   "cell_type": "markdown",
   "id": "7947496a-2b29-4372-8e64-970988b98a30",
   "metadata": {},
   "source": [
    "**RandomUnderSampler**"
   ]
  },
  {
   "cell_type": "code",
   "execution_count": 106,
   "id": "d9ba49bd-9a5c-41d8-8b74-162b3f75d535",
   "metadata": {},
   "outputs": [
    {
     "name": "stdout",
     "output_type": "stream",
     "text": [
      "Distribution before resampling Counter({0: 255511, 1: 1831})\n",
      "Distribution after resampling Counter({0: 1831, 1: 1831})\n"
     ]
    }
   ],
   "source": [
    "us = RandomUnderSampler(sampling_strategy = 'majority', random_state = 123)\n",
    "X_train_res, y_train_res = us.fit_resample(train_x, train_y)\n",
    " \n",
    "print (\"Distribution before resampling {}\".format(Counter(train_y)))\n",
    "print (\"Distribution after resampling {}\".format(Counter(y_train_res)))"
   ]
  },
  {
   "cell_type": "code",
   "execution_count": 107,
   "id": "fe7011d0-a17f-4e5e-91ad-2f51edd38106",
   "metadata": {},
   "outputs": [
    {
     "data": {
      "text/plain": [
       "RandomForestClassifier(criterion='entropy', n_estimators=20, n_jobs=-1,\n",
       "                       random_state=123)"
      ]
     },
     "execution_count": 107,
     "metadata": {},
     "output_type": "execute_result"
    }
   ],
   "source": [
    "rf = RandomForestClassifier(criterion = 'entropy', \n",
    "                            n_estimators = 20, \n",
    "                            max_features = 'auto', \n",
    "                            max_depth = None, \n",
    "                            n_jobs = -1,\n",
    "                            random_state = 123)\n",
    "\n",
    "rf.fit(X_train_res, y_train_res)"
   ]
  },
  {
   "cell_type": "code",
   "execution_count": 109,
   "id": "91fa0d29-fee4-403e-8b50-cc11637e9c9e",
   "metadata": {},
   "outputs": [
    {
     "data": {
      "image/png": "[encoded data removed]",
      "text/plain": [
       "<Figure size 576x576 with 2 Axes>"
      ]
     },
     "metadata": {
      "needs_background": "light"
     },
     "output_type": "display_data"
    },
    {
     "name": "stdout",
     "output_type": "stream",
     "text": [
      "              precision    recall  f1-score   support\n",
      "\n",
      "           0       1.00      0.75      0.86    109507\n",
      "           1       0.02      0.71      0.04       783\n",
      "\n",
      "    accuracy                           0.75    110290\n",
      "   macro avg       0.51      0.73      0.45    110290\n",
      "weighted avg       0.99      0.75      0.85    110290\n",
      "\n"
     ]
    }
   ],
   "source": [
    "pred_y = rf.predict(test_x)\n",
    "mostrar_resultados(test_y, pred_y)"
   ]
  },
  {
   "cell_type": "code",
   "execution_count": 110,
   "id": "9df16aa7-75a0-4f91-a108-ff88cab0ef01",
   "metadata": {},
   "outputs": [],
   "source": [
    "feature_importances = pd.DataFrame(rf.feature_importances_, index = train_x.columns, columns = ['important']).sort_values(['important'], ascending = 0)"
   ]
  },
  {
   "cell_type": "code",
   "execution_count": 111,
   "id": "10c74f9a-f717-4440-9a03-2ded45c8c780",
   "metadata": {
    "collapsed": true,
    "jupyter": {
     "outputs_hidden": true
    },
    "tags": []
   },
   "outputs": [
    {
     "data": {
      "text/html": [
       "<div>\n",
       "<style scoped>\n",
       "    .dataframe tbody tr th:only-of-type {\n",
       "        vertical-align: middle;\n",
       "    }\n",
       "\n",
       "    .dataframe tbody tr th {\n",
       "        vertical-align: top;\n",
       "    }\n",
       "\n",
       "    .dataframe thead th {\n",
       "        text-align: right;\n",
       "    }\n",
       "</style>\n",
       "<table border=\"1\" class=\"dataframe\">\n",
       "  <thead>\n",
       "    <tr style=\"text-align: right;\">\n",
       "      <th></th>\n",
       "      <th>important</th>\n",
       "    </tr>\n",
       "  </thead>\n",
       "  <tbody>\n",
       "    <tr>\n",
       "      <th>CANAL_REGISTRO</th>\n",
       "      <td>8.732007</td>\n",
       "    </tr>\n",
       "    <tr>\n",
       "      <th>IPCASOS</th>\n",
       "      <td>7.926386</td>\n",
       "    </tr>\n",
       "    <tr>\n",
       "      <th>FECHACONSUMO_MONTH</th>\n",
       "      <td>7.147612</td>\n",
       "    </tr>\n",
       "    <tr>\n",
       "      <th>FECHA_REGISTRO_MONTH</th>\n",
       "      <td>7.132177</td>\n",
       "    </tr>\n",
       "    <tr>\n",
       "      <th>1A_EMPCONSUL_PROV_DENS</th>\n",
       "      <td>5.447017</td>\n",
       "    </tr>\n",
       "    <tr>\n",
       "      <th>FECHA_REGISTRO_WEEKDAY</th>\n",
       "      <td>5.159442</td>\n",
       "    </tr>\n",
       "    <tr>\n",
       "      <th>1A_EMPCONSUL_PROV_IDH</th>\n",
       "      <td>5.073301</td>\n",
       "    </tr>\n",
       "    <tr>\n",
       "      <th>FECHACONSUMO_WEEKDAY</th>\n",
       "      <td>5.008765</td>\n",
       "    </tr>\n",
       "    <tr>\n",
       "      <th>BONDAD_EMAIL</th>\n",
       "      <td>3.550058</td>\n",
       "    </tr>\n",
       "    <tr>\n",
       "      <th>USU_TIPO_SOC_COMERCIAL_INDUSTRIAL</th>\n",
       "      <td>2.639251</td>\n",
       "    </tr>\n",
       "    <tr>\n",
       "      <th>USU_DEPART_IDH</th>\n",
       "      <td>2.628034</td>\n",
       "    </tr>\n",
       "    <tr>\n",
       "      <th>USU_DEPART_DEN_POB</th>\n",
       "      <td>2.131788</td>\n",
       "    </tr>\n",
       "    <tr>\n",
       "      <th>1A_EMPCONSUL_SECTOR_TERCIARIO</th>\n",
       "      <td>2.029009</td>\n",
       "    </tr>\n",
       "    <tr>\n",
       "      <th>TIPO_TELF_EXTRANJERO</th>\n",
       "      <td>1.925965</td>\n",
       "    </tr>\n",
       "    <tr>\n",
       "      <th>USU_ESTADO_ACTIVA</th>\n",
       "      <td>1.860187</td>\n",
       "    </tr>\n",
       "    <tr>\n",
       "      <th>TIPO_TELF_MOVIL</th>\n",
       "      <td>1.814967</td>\n",
       "    </tr>\n",
       "    <tr>\n",
       "      <th>1A_EMPCONSUL_SECTOR_SECUNDARIO</th>\n",
       "      <td>1.633228</td>\n",
       "    </tr>\n",
       "    <tr>\n",
       "      <th>1A_DESCGRUPOPROD_PERF_PROMO</th>\n",
       "      <td>1.277142</td>\n",
       "    </tr>\n",
       "    <tr>\n",
       "      <th>TIPO_TELF_NO_PUBLICO</th>\n",
       "      <td>1.145017</td>\n",
       "    </tr>\n",
       "    <tr>\n",
       "      <th>1A_DESCGRUPOPROD_FICH_PROMO</th>\n",
       "      <td>1.093260</td>\n",
       "    </tr>\n",
       "    <tr>\n",
       "      <th>TIPOEMAIL_CORPORATIVO</th>\n",
       "      <td>1.077523</td>\n",
       "    </tr>\n",
       "    <tr>\n",
       "      <th>EMAIL_PERSONAL</th>\n",
       "      <td>1.060519</td>\n",
       "    </tr>\n",
       "    <tr>\n",
       "      <th>TIPOEMAIL_GOOHOTYAHMAIL</th>\n",
       "      <td>1.024362</td>\n",
       "    </tr>\n",
       "    <tr>\n",
       "      <th>1A_EMPCONSUL_EST_ACTIVA</th>\n",
       "      <td>1.012241</td>\n",
       "    </tr>\n",
       "  </tbody>\n",
       "</table>\n",
       "</div>"
      ],
      "text/plain": [
       "                                   important\n",
       "CANAL_REGISTRO                      8.732007\n",
       "IPCASOS                             7.926386\n",
       "FECHACONSUMO_MONTH                  7.147612\n",
       "FECHA_REGISTRO_MONTH                7.132177\n",
       "1A_EMPCONSUL_PROV_DENS              5.447017\n",
       "FECHA_REGISTRO_WEEKDAY              5.159442\n",
       "1A_EMPCONSUL_PROV_IDH               5.073301\n",
       "FECHACONSUMO_WEEKDAY                5.008765\n",
       "BONDAD_EMAIL                        3.550058\n",
       "USU_TIPO_SOC_COMERCIAL_INDUSTRIAL   2.639251\n",
       "USU_DEPART_IDH                      2.628034\n",
       "USU_DEPART_DEN_POB                  2.131788\n",
       "1A_EMPCONSUL_SECTOR_TERCIARIO       2.029009\n",
       "TIPO_TELF_EXTRANJERO                1.925965\n",
       "USU_ESTADO_ACTIVA                   1.860187\n",
       "TIPO_TELF_MOVIL                     1.814967\n",
       "1A_EMPCONSUL_SECTOR_SECUNDARIO      1.633228\n",
       "1A_DESCGRUPOPROD_PERF_PROMO         1.277142\n",
       "TIPO_TELF_NO_PUBLICO                1.145017\n",
       "1A_DESCGRUPOPROD_FICH_PROMO         1.093260\n",
       "TIPOEMAIL_CORPORATIVO               1.077523\n",
       "EMAIL_PERSONAL                      1.060519\n",
       "TIPOEMAIL_GOOHOTYAHMAIL             1.024362\n",
       "1A_EMPCONSUL_EST_ACTIVA             1.012241"
      ]
     },
     "execution_count": 111,
     "metadata": {},
     "output_type": "execute_result"
    }
   ],
   "source": [
    "feature_importances[feature_importances['important'] > 0.01]*100"
   ]
  },
  {
   "cell_type": "code",
   "execution_count": 112,
   "id": "f2e9c99d-89f5-44f8-b9d1-3a61befbbb6f",
   "metadata": {
    "tags": []
   },
   "outputs": [
    {
     "data": {
      "text/plain": [
       "(24, 1)"
      ]
     },
     "execution_count": 112,
     "metadata": {},
     "output_type": "execute_result"
    }
   ],
   "source": [
    "feature_importances[feature_importances['important'] > 0.01].shape"
   ]
  },
  {
   "cell_type": "markdown",
   "id": "44fd9bfc-c974-43b3-b66a-407a8a7bf10f",
   "metadata": {},
   "source": [
    "------"
   ]
  },
  {
   "cell_type": "markdown",
   "id": "9ec9fca8-00dc-450f-a5e1-ed4415fcde88",
   "metadata": {},
   "source": [
    "**NearMiss**"
   ]
  },
  {
   "cell_type": "code",
   "execution_count": 113,
   "id": "f0f661de-801c-4803-97d8-b7600294fcea",
   "metadata": {
    "tags": []
   },
   "outputs": [
    {
     "name": "stdout",
     "output_type": "stream",
     "text": [
      "Distribution before resampling Counter({0: 255511, 1: 1831})\n",
      "Distribution after resampling Counter({0: 1831, 1: 1831})\n"
     ]
    }
   ],
   "source": [
    "us = NearMiss(sampling_strategy = 'majority', n_neighbors = 2, n_jobs = -1)\n",
    "X_train_res, y_train_res = us.fit_resample(train_x, train_y)\n",
    " \n",
    "print (\"Distribution before resampling {}\".format(Counter(train_y)))\n",
    "print (\"Distribution after resampling {}\".format(Counter(y_train_res)))"
   ]
  },
  {
   "cell_type": "code",
   "execution_count": 114,
   "id": "d6a23601-5a7b-4fce-8a22-e1929e765884",
   "metadata": {},
   "outputs": [
    {
     "data": {
      "text/plain": [
       "RandomForestClassifier(criterion='entropy', n_estimators=20, n_jobs=-1,\n",
       "                       random_state=123)"
      ]
     },
     "execution_count": 114,
     "metadata": {},
     "output_type": "execute_result"
    }
   ],
   "source": [
    "rf = RandomForestClassifier(criterion = 'entropy', \n",
    "                            n_estimators = 20, \n",
    "                            max_features = 'auto', \n",
    "                            max_depth = None, \n",
    "                            n_jobs = -1,\n",
    "                            random_state = 123)\n",
    "\n",
    "rf.fit(X_train_res, y_train_res)"
   ]
  },
  {
   "cell_type": "code",
   "execution_count": 116,
   "id": "9b54c358-7c6e-4837-aadf-4cd106ee76c6",
   "metadata": {},
   "outputs": [
    {
     "data": {
      "image/png": "[encoded data removed]",
      "text/plain": [
       "<Figure size 576x576 with 2 Axes>"
      ]
     },
     "metadata": {
      "needs_background": "light"
     },
     "output_type": "display_data"
    },
    {
     "name": "stdout",
     "output_type": "stream",
     "text": [
      "              precision    recall  f1-score   support\n",
      "\n",
      "           0       1.00      0.14      0.24    109507\n",
      "           1       0.01      0.93      0.02       783\n",
      "\n",
      "    accuracy                           0.14    110290\n",
      "   macro avg       0.50      0.53      0.13    110290\n",
      "weighted avg       0.99      0.14      0.24    110290\n",
      "\n"
     ]
    }
   ],
   "source": [
    "pred_y = rf.predict(test_x)\n",
    "mostrar_resultados(test_y, pred_y)"
   ]
  },
  {
   "cell_type": "code",
   "execution_count": 117,
   "id": "94c15fed-62f9-4735-9323-155e0d9bd0ce",
   "metadata": {},
   "outputs": [],
   "source": [
    "feature_importances = pd.DataFrame(rf.feature_importances_, index = train_x.columns, columns = ['important']).sort_values(['important'], ascending = 0)"
   ]
  },
  {
   "cell_type": "code",
   "execution_count": 118,
   "id": "5762f835-b6f6-4690-b753-a34eb87edded",
   "metadata": {
    "collapsed": true,
    "jupyter": {
     "outputs_hidden": true
    },
    "tags": []
   },
   "outputs": [
    {
     "data": {
      "text/html": [
       "<div>\n",
       "<style scoped>\n",
       "    .dataframe tbody tr th:only-of-type {\n",
       "        vertical-align: middle;\n",
       "    }\n",
       "\n",
       "    .dataframe tbody tr th {\n",
       "        vertical-align: top;\n",
       "    }\n",
       "\n",
       "    .dataframe thead th {\n",
       "        text-align: right;\n",
       "    }\n",
       "</style>\n",
       "<table border=\"1\" class=\"dataframe\">\n",
       "  <thead>\n",
       "    <tr style=\"text-align: right;\">\n",
       "      <th></th>\n",
       "      <th>important</th>\n",
       "    </tr>\n",
       "  </thead>\n",
       "  <tbody>\n",
       "    <tr>\n",
       "      <th>IPCASOS</th>\n",
       "      <td>10.049015</td>\n",
       "    </tr>\n",
       "    <tr>\n",
       "      <th>USU_SECTOR_ECONOMICO_NoApl</th>\n",
       "      <td>6.512062</td>\n",
       "    </tr>\n",
       "    <tr>\n",
       "      <th>CANAL_REGISTRO</th>\n",
       "      <td>6.394648</td>\n",
       "    </tr>\n",
       "    <tr>\n",
       "      <th>TIPOEMAIL_GOOHOTYAHMAIL</th>\n",
       "      <td>5.589139</td>\n",
       "    </tr>\n",
       "    <tr>\n",
       "      <th>1A_EMPCONSUL_PROV_DENS</th>\n",
       "      <td>5.474172</td>\n",
       "    </tr>\n",
       "    <tr>\n",
       "      <th>USU_ESTADO_NoApl</th>\n",
       "      <td>4.991298</td>\n",
       "    </tr>\n",
       "    <tr>\n",
       "      <th>FECHA_REGISTRO_MONTH</th>\n",
       "      <td>4.024226</td>\n",
       "    </tr>\n",
       "    <tr>\n",
       "      <th>FECHACONSUMO_MONTH</th>\n",
       "      <td>3.885518</td>\n",
       "    </tr>\n",
       "    <tr>\n",
       "      <th>USU_TIPO_NoApl</th>\n",
       "      <td>3.756616</td>\n",
       "    </tr>\n",
       "    <tr>\n",
       "      <th>1A_EMPCONSUL_PROV_IDH</th>\n",
       "      <td>3.260456</td>\n",
       "    </tr>\n",
       "    <tr>\n",
       "      <th>USU_TIPO_SOC_COMERCIAL_INDUSTRIAL</th>\n",
       "      <td>2.931715</td>\n",
       "    </tr>\n",
       "    <tr>\n",
       "      <th>FECHA_REGISTRO_WEEKDAY</th>\n",
       "      <td>2.930416</td>\n",
       "    </tr>\n",
       "    <tr>\n",
       "      <th>1A_DESCGRUPOPROD_PERF_PROMO</th>\n",
       "      <td>2.747406</td>\n",
       "    </tr>\n",
       "    <tr>\n",
       "      <th>IP_COLOMBIA</th>\n",
       "      <td>2.649701</td>\n",
       "    </tr>\n",
       "    <tr>\n",
       "      <th>FECHACONSUMO_WEEKDAY</th>\n",
       "      <td>2.612068</td>\n",
       "    </tr>\n",
       "    <tr>\n",
       "      <th>IP_CONTINENTE_AMERICA_SUR</th>\n",
       "      <td>2.591588</td>\n",
       "    </tr>\n",
       "    <tr>\n",
       "      <th>1A_EMPCONSUL_SECTOR_TERCIARIO</th>\n",
       "      <td>2.536937</td>\n",
       "    </tr>\n",
       "    <tr>\n",
       "      <th>TIPOUSUARIO_PJ</th>\n",
       "      <td>2.363996</td>\n",
       "    </tr>\n",
       "    <tr>\n",
       "      <th>USU_DEPART_DEN_POB</th>\n",
       "      <td>2.140401</td>\n",
       "    </tr>\n",
       "    <tr>\n",
       "      <th>USU_TAMANIO_NoApl</th>\n",
       "      <td>1.868539</td>\n",
       "    </tr>\n",
       "    <tr>\n",
       "      <th>USU_SECTOR_ECONOMICO_TERCIARIO</th>\n",
       "      <td>1.624074</td>\n",
       "    </tr>\n",
       "    <tr>\n",
       "      <th>TIPOEMAIL_CORPORATIVO</th>\n",
       "      <td>1.518996</td>\n",
       "    </tr>\n",
       "    <tr>\n",
       "      <th>USU_ESTADO_ACTIVA</th>\n",
       "      <td>1.443697</td>\n",
       "    </tr>\n",
       "    <tr>\n",
       "      <th>USU_DEPART_IDH</th>\n",
       "      <td>1.415012</td>\n",
       "    </tr>\n",
       "    <tr>\n",
       "      <th>EMAIL_PERSONAL</th>\n",
       "      <td>1.287592</td>\n",
       "    </tr>\n",
       "    <tr>\n",
       "      <th>1A_DESCGRUPOPROD_FICH_PROMO</th>\n",
       "      <td>1.156599</td>\n",
       "    </tr>\n",
       "    <tr>\n",
       "      <th>1A_EMPCONSUL_SECTOR_PRIMARIO</th>\n",
       "      <td>1.153230</td>\n",
       "    </tr>\n",
       "  </tbody>\n",
       "</table>\n",
       "</div>"
      ],
      "text/plain": [
       "                                   important\n",
       "IPCASOS                            10.049015\n",
       "USU_SECTOR_ECONOMICO_NoApl          6.512062\n",
       "CANAL_REGISTRO                      6.394648\n",
       "TIPOEMAIL_GOOHOTYAHMAIL             5.589139\n",
       "1A_EMPCONSUL_PROV_DENS              5.474172\n",
       "USU_ESTADO_NoApl                    4.991298\n",
       "FECHA_REGISTRO_MONTH                4.024226\n",
       "FECHACONSUMO_MONTH                  3.885518\n",
       "USU_TIPO_NoApl                      3.756616\n",
       "1A_EMPCONSUL_PROV_IDH               3.260456\n",
       "USU_TIPO_SOC_COMERCIAL_INDUSTRIAL   2.931715\n",
       "FECHA_REGISTRO_WEEKDAY              2.930416\n",
       "1A_DESCGRUPOPROD_PERF_PROMO         2.747406\n",
       "IP_COLOMBIA                         2.649701\n",
       "FECHACONSUMO_WEEKDAY                2.612068\n",
       "IP_CONTINENTE_AMERICA_SUR           2.591588\n",
       "1A_EMPCONSUL_SECTOR_TERCIARIO       2.536937\n",
       "TIPOUSUARIO_PJ                      2.363996\n",
       "USU_DEPART_DEN_POB                  2.140401\n",
       "USU_TAMANIO_NoApl                   1.868539\n",
       "USU_SECTOR_ECONOMICO_TERCIARIO      1.624074\n",
       "TIPOEMAIL_CORPORATIVO               1.518996\n",
       "USU_ESTADO_ACTIVA                   1.443697\n",
       "USU_DEPART_IDH                      1.415012\n",
       "EMAIL_PERSONAL                      1.287592\n",
       "1A_DESCGRUPOPROD_FICH_PROMO         1.156599\n",
       "1A_EMPCONSUL_SECTOR_PRIMARIO        1.153230"
      ]
     },
     "execution_count": 118,
     "metadata": {},
     "output_type": "execute_result"
    }
   ],
   "source": [
    "feature_importances[feature_importances['important'] > 0.01]*100"
   ]
  },
  {
   "cell_type": "code",
   "execution_count": 119,
   "id": "809bd7b2-cb4f-4f1c-85f6-8a3d98537960",
   "metadata": {
    "tags": []
   },
   "outputs": [
    {
     "data": {
      "text/plain": [
       "(27, 1)"
      ]
     },
     "execution_count": 119,
     "metadata": {},
     "output_type": "execute_result"
    }
   ],
   "source": [
    "feature_importances[feature_importances['important'] > 0.01].shape"
   ]
  },
  {
   "cell_type": "markdown",
   "id": "7c4523a0-f752-43cb-9788-a4fc2d2b8226",
   "metadata": {},
   "source": [
    "------"
   ]
  },
  {
   "cell_type": "markdown",
   "id": "d8954011-0648-493e-987f-c51c38c368e2",
   "metadata": {},
   "source": [
    "------"
   ]
  },
  {
   "cell_type": "markdown",
   "id": "da7b6976-5b6e-48ea-a2dc-9060a1c9ad68",
   "metadata": {},
   "source": [
    "##### **4.5.3 Oversampling en la clase minoritaria**"
   ]
  },
  {
   "cell_type": "markdown",
   "id": "3d2c69e5-8cd7-404c-bb5f-781614e1c9ad",
   "metadata": {},
   "source": [
    "**SMOTE**"
   ]
  },
  {
   "cell_type": "code",
   "execution_count": 120,
   "id": "8607deb4-69e1-4eb3-8dd3-da005dffa7e0",
   "metadata": {},
   "outputs": [],
   "source": [
    "os =  SMOTE(sampling_strategy = 'minority')\n",
    "X_train_res, y_train_res = os.fit_resample(train_x, train_y)"
   ]
  },
  {
   "cell_type": "code",
   "execution_count": 121,
   "id": "dba0c0b4-4190-4541-b3dd-ca714958e8c0",
   "metadata": {},
   "outputs": [
    {
     "name": "stdout",
     "output_type": "stream",
     "text": [
      "Distribution before resampling Counter({0: 255511, 1: 1831})\n",
      "Distribution labels after resampling Counter({0: 255511, 1: 255511})\n"
     ]
    }
   ],
   "source": [
    "print (\"Distribution before resampling {}\".format(Counter(train_y)))\n",
    "print (\"Distribution labels after resampling {}\".format(Counter(y_train_res)))"
   ]
  },
  {
   "cell_type": "code",
   "execution_count": 122,
   "id": "5b7aeb43-4212-4304-ace4-41b9c19cd010",
   "metadata": {},
   "outputs": [
    {
     "data": {
      "text/plain": [
       "RandomForestClassifier(criterion='entropy', n_estimators=20, n_jobs=-1,\n",
       "                       random_state=123)"
      ]
     },
     "execution_count": 122,
     "metadata": {},
     "output_type": "execute_result"
    }
   ],
   "source": [
    "rf = RandomForestClassifier(criterion = 'entropy', \n",
    "                            n_estimators = 20, \n",
    "                            max_features = 'auto', \n",
    "                            max_depth = None, \n",
    "                            n_jobs = -1,\n",
    "                            random_state = 123)\n",
    "\n",
    "rf.fit(X_train_res, y_train_res)"
   ]
  },
  {
   "cell_type": "code",
   "execution_count": 123,
   "id": "e36995de-7e0c-4a36-b7c8-67244f216137",
   "metadata": {},
   "outputs": [
    {
     "data": {
      "image/png": "[encoded data removed]",
      "text/plain": [
       "<Figure size 576x576 with 2 Axes>"
      ]
     },
     "metadata": {
      "needs_background": "light"
     },
     "output_type": "display_data"
    },
    {
     "name": "stdout",
     "output_type": "stream",
     "text": [
      "              precision    recall  f1-score   support\n",
      "\n",
      "           0       0.99      1.00      1.00    109507\n",
      "           1       0.09      0.03      0.05       783\n",
      "\n",
      "    accuracy                           0.99    110290\n",
      "   macro avg       0.54      0.51      0.52    110290\n",
      "weighted avg       0.99      0.99      0.99    110290\n",
      "\n"
     ]
    }
   ],
   "source": [
    "pred_y = rf.predict(test_x)\n",
    "mostrar_resultados(test_y, pred_y)"
   ]
  },
  {
   "cell_type": "code",
   "execution_count": 124,
   "id": "55db0db9-9ac2-4782-8c77-db9fe9e25d34",
   "metadata": {},
   "outputs": [],
   "source": [
    "feature_importances = pd.DataFrame(rf.feature_importances_, index = train_x.columns, columns = ['important']).sort_values(['important'], ascending = 0)"
   ]
  },
  {
   "cell_type": "code",
   "execution_count": 125,
   "id": "86256e53-9331-462f-a2ea-7336f59ce701",
   "metadata": {
    "collapsed": true,
    "jupyter": {
     "outputs_hidden": true
    },
    "tags": []
   },
   "outputs": [
    {
     "data": {
      "text/html": [
       "<div>\n",
       "<style scoped>\n",
       "    .dataframe tbody tr th:only-of-type {\n",
       "        vertical-align: middle;\n",
       "    }\n",
       "\n",
       "    .dataframe tbody tr th {\n",
       "        vertical-align: top;\n",
       "    }\n",
       "\n",
       "    .dataframe thead th {\n",
       "        text-align: right;\n",
       "    }\n",
       "</style>\n",
       "<table border=\"1\" class=\"dataframe\">\n",
       "  <thead>\n",
       "    <tr style=\"text-align: right;\">\n",
       "      <th></th>\n",
       "      <th>important</th>\n",
       "    </tr>\n",
       "  </thead>\n",
       "  <tbody>\n",
       "    <tr>\n",
       "      <th>CANAL_REGISTRO</th>\n",
       "      <td>5.639600</td>\n",
       "    </tr>\n",
       "    <tr>\n",
       "      <th>TIPO_TELF_EXTRANJERO</th>\n",
       "      <td>5.506718</td>\n",
       "    </tr>\n",
       "    <tr>\n",
       "      <th>IPCASOS</th>\n",
       "      <td>4.721543</td>\n",
       "    </tr>\n",
       "    <tr>\n",
       "      <th>TIPO_TELF_MOVIL</th>\n",
       "      <td>4.429872</td>\n",
       "    </tr>\n",
       "    <tr>\n",
       "      <th>TIPO_TELF_NO_PUBLICO</th>\n",
       "      <td>4.293127</td>\n",
       "    </tr>\n",
       "    <tr>\n",
       "      <th>1A_DESCGRUPOPROD_PERF_PROMO</th>\n",
       "      <td>3.817670</td>\n",
       "    </tr>\n",
       "    <tr>\n",
       "      <th>1A_EMPCONSUL_SECTOR_TERCIARIO</th>\n",
       "      <td>3.355032</td>\n",
       "    </tr>\n",
       "    <tr>\n",
       "      <th>FECHACONSUMO_MONTH</th>\n",
       "      <td>3.018501</td>\n",
       "    </tr>\n",
       "    <tr>\n",
       "      <th>FECHA_REGISTRO_MONTH</th>\n",
       "      <td>2.842393</td>\n",
       "    </tr>\n",
       "    <tr>\n",
       "      <th>TIPOEMAIL_GOOHOTYAHMAIL</th>\n",
       "      <td>2.830475</td>\n",
       "    </tr>\n",
       "    <tr>\n",
       "      <th>1A_EMPCONSUL_PROV_DENS</th>\n",
       "      <td>2.790872</td>\n",
       "    </tr>\n",
       "    <tr>\n",
       "      <th>1A_EMPCONSUL_SECTOR_SECUNDARIO</th>\n",
       "      <td>2.787878</td>\n",
       "    </tr>\n",
       "    <tr>\n",
       "      <th>1A_DESCGRUPOPROD_FICH_PROMO</th>\n",
       "      <td>2.720030</td>\n",
       "    </tr>\n",
       "    <tr>\n",
       "      <th>1A_EMPCONSUL_PROV_IDH</th>\n",
       "      <td>2.649477</td>\n",
       "    </tr>\n",
       "    <tr>\n",
       "      <th>IP_COLOMBIA</th>\n",
       "      <td>2.346115</td>\n",
       "    </tr>\n",
       "    <tr>\n",
       "      <th>FECHA_REGISTRO_WEEKDAY</th>\n",
       "      <td>2.345299</td>\n",
       "    </tr>\n",
       "    <tr>\n",
       "      <th>FECHACONSUMO_WEEKDAY</th>\n",
       "      <td>2.330417</td>\n",
       "    </tr>\n",
       "    <tr>\n",
       "      <th>USU_TIPO_EMPRESARIO INDIVIDUAL</th>\n",
       "      <td>2.094831</td>\n",
       "    </tr>\n",
       "    <tr>\n",
       "      <th>USU_DEPART_DEN_POB</th>\n",
       "      <td>2.055463</td>\n",
       "    </tr>\n",
       "    <tr>\n",
       "      <th>EMAIL_PERSONAL</th>\n",
       "      <td>2.042140</td>\n",
       "    </tr>\n",
       "    <tr>\n",
       "      <th>1A_EMPCONSUL_SECTOR_QUINARIO</th>\n",
       "      <td>1.977831</td>\n",
       "    </tr>\n",
       "    <tr>\n",
       "      <th>TIPOEMAIL_CORPORATIVO</th>\n",
       "      <td>1.901627</td>\n",
       "    </tr>\n",
       "    <tr>\n",
       "      <th>TIPOEMAIL_DOCENTE</th>\n",
       "      <td>1.806996</td>\n",
       "    </tr>\n",
       "    <tr>\n",
       "      <th>TIPOEMAIL_SINCLASIFICAR</th>\n",
       "      <td>1.665673</td>\n",
       "    </tr>\n",
       "    <tr>\n",
       "      <th>BONDAD_EMAIL</th>\n",
       "      <td>1.643182</td>\n",
       "    </tr>\n",
       "    <tr>\n",
       "      <th>IP_COUNTRY_PIB_Ingreso mediano alto</th>\n",
       "      <td>1.603362</td>\n",
       "    </tr>\n",
       "    <tr>\n",
       "      <th>IP_COUNTRY_IDH_NUM</th>\n",
       "      <td>1.537008</td>\n",
       "    </tr>\n",
       "    <tr>\n",
       "      <th>1A_EMPCONSUL_SECTOR_CUATERNARIO</th>\n",
       "      <td>1.326216</td>\n",
       "    </tr>\n",
       "    <tr>\n",
       "      <th>1A_EMPCONSUL_EST_INACTIVA</th>\n",
       "      <td>1.278850</td>\n",
       "    </tr>\n",
       "    <tr>\n",
       "      <th>IP_CONTINENTE_AMERICA_SUR</th>\n",
       "      <td>1.143126</td>\n",
       "    </tr>\n",
       "    <tr>\n",
       "      <th>1A_EMPCONSUL_SECTOR_PRIMARIO</th>\n",
       "      <td>1.123162</td>\n",
       "    </tr>\n",
       "    <tr>\n",
       "      <th>USU_ESTADO_ACTIVA</th>\n",
       "      <td>1.120992</td>\n",
       "    </tr>\n",
       "  </tbody>\n",
       "</table>\n",
       "</div>"
      ],
      "text/plain": [
       "                                     important\n",
       "CANAL_REGISTRO                        5.639600\n",
       "TIPO_TELF_EXTRANJERO                  5.506718\n",
       "IPCASOS                               4.721543\n",
       "TIPO_TELF_MOVIL                       4.429872\n",
       "TIPO_TELF_NO_PUBLICO                  4.293127\n",
       "1A_DESCGRUPOPROD_PERF_PROMO           3.817670\n",
       "1A_EMPCONSUL_SECTOR_TERCIARIO         3.355032\n",
       "FECHACONSUMO_MONTH                    3.018501\n",
       "FECHA_REGISTRO_MONTH                  2.842393\n",
       "TIPOEMAIL_GOOHOTYAHMAIL               2.830475\n",
       "1A_EMPCONSUL_PROV_DENS                2.790872\n",
       "1A_EMPCONSUL_SECTOR_SECUNDARIO        2.787878\n",
       "1A_DESCGRUPOPROD_FICH_PROMO           2.720030\n",
       "1A_EMPCONSUL_PROV_IDH                 2.649477\n",
       "IP_COLOMBIA                           2.346115\n",
       "FECHA_REGISTRO_WEEKDAY                2.345299\n",
       "FECHACONSUMO_WEEKDAY                  2.330417\n",
       "USU_TIPO_EMPRESARIO INDIVIDUAL        2.094831\n",
       "USU_DEPART_DEN_POB                    2.055463\n",
       "EMAIL_PERSONAL                        2.042140\n",
       "1A_EMPCONSUL_SECTOR_QUINARIO          1.977831\n",
       "TIPOEMAIL_CORPORATIVO                 1.901627\n",
       "TIPOEMAIL_DOCENTE                     1.806996\n",
       "TIPOEMAIL_SINCLASIFICAR               1.665673\n",
       "BONDAD_EMAIL                          1.643182\n",
       "IP_COUNTRY_PIB_Ingreso mediano alto   1.603362\n",
       "IP_COUNTRY_IDH_NUM                    1.537008\n",
       "1A_EMPCONSUL_SECTOR_CUATERNARIO       1.326216\n",
       "1A_EMPCONSUL_EST_INACTIVA             1.278850\n",
       "IP_CONTINENTE_AMERICA_SUR             1.143126\n",
       "1A_EMPCONSUL_SECTOR_PRIMARIO          1.123162\n",
       "USU_ESTADO_ACTIVA                     1.120992"
      ]
     },
     "execution_count": 125,
     "metadata": {},
     "output_type": "execute_result"
    }
   ],
   "source": [
    "feature_importances[feature_importances['important'] > 0.01]*100"
   ]
  },
  {
   "cell_type": "code",
   "execution_count": 126,
   "id": "21dcdc08-4074-45c6-b05a-9bb3fe7833bc",
   "metadata": {
    "tags": []
   },
   "outputs": [
    {
     "data": {
      "text/plain": [
       "(32, 1)"
      ]
     },
     "execution_count": 126,
     "metadata": {},
     "output_type": "execute_result"
    }
   ],
   "source": [
    "feature_importances[feature_importances['important'] > 0.01].shape"
   ]
  },
  {
   "cell_type": "markdown",
   "id": "8ff98e96-eed7-4233-af3b-3b5472d83216",
   "metadata": {},
   "source": [
    "------"
   ]
  },
  {
   "cell_type": "markdown",
   "id": "96149eaf-c4b9-4ea0-bd74-07736d5db7cc",
   "metadata": {},
   "source": [
    "**RandomOverSampler**"
   ]
  },
  {
   "cell_type": "code",
   "execution_count": 127,
   "id": "4df09c1f-8bbf-4362-8651-2e0948a25267",
   "metadata": {},
   "outputs": [],
   "source": [
    "os =  RandomOverSampler(sampling_strategy = 'minority')\n",
    "X_train_res, y_train_res = os.fit_resample(train_x, train_y)"
   ]
  },
  {
   "cell_type": "code",
   "execution_count": 128,
   "id": "ed3f9694-3f74-445e-834f-4f83bed2e7ec",
   "metadata": {},
   "outputs": [
    {
     "name": "stdout",
     "output_type": "stream",
     "text": [
      "Distribution before resampling Counter({0: 255511, 1: 1831})\n",
      "Distribution labels after resampling Counter({0: 255511, 1: 255511})\n"
     ]
    }
   ],
   "source": [
    "print (\"Distribution before resampling {}\".format(Counter(train_y)))\n",
    "print (\"Distribution labels after resampling {}\".format(Counter(y_train_res)))"
   ]
  },
  {
   "cell_type": "code",
   "execution_count": 129,
   "id": "dd20a8f1-1930-43fb-a60a-3da11464736e",
   "metadata": {},
   "outputs": [
    {
     "data": {
      "text/plain": [
       "RandomForestClassifier(criterion='entropy', n_estimators=20, n_jobs=-1,\n",
       "                       random_state=123)"
      ]
     },
     "execution_count": 129,
     "metadata": {},
     "output_type": "execute_result"
    }
   ],
   "source": [
    "rf = RandomForestClassifier(criterion = 'entropy', \n",
    "                            n_estimators = 20, \n",
    "                            max_features = 'auto', \n",
    "                            max_depth = None, \n",
    "                            n_jobs = -1,\n",
    "                            random_state = 123)\n",
    "\n",
    "rf.fit(X_train_res, y_train_res)"
   ]
  },
  {
   "cell_type": "code",
   "execution_count": 130,
   "id": "acc209ab-0cee-4f6e-9751-66ab63f273e0",
   "metadata": {},
   "outputs": [
    {
     "data": {
      "image/png": "[encoded data removed]",
      "text/plain": [
       "<Figure size 576x576 with 2 Axes>"
      ]
     },
     "metadata": {
      "needs_background": "light"
     },
     "output_type": "display_data"
    },
    {
     "name": "stdout",
     "output_type": "stream",
     "text": [
      "              precision    recall  f1-score   support\n",
      "\n",
      "           0       0.99      1.00      0.99    109507\n",
      "           1       0.08      0.05      0.06       783\n",
      "\n",
      "    accuracy                           0.99    110290\n",
      "   macro avg       0.54      0.52      0.53    110290\n",
      "weighted avg       0.99      0.99      0.99    110290\n",
      "\n"
     ]
    }
   ],
   "source": [
    "pred_y = rf.predict(test_x)\n",
    "mostrar_resultados(test_y, pred_y)"
   ]
  },
  {
   "cell_type": "code",
   "execution_count": 131,
   "id": "4c0d9e17-12ac-448a-813c-f6a70aa1e706",
   "metadata": {},
   "outputs": [],
   "source": [
    "feature_importances = pd.DataFrame(rf.feature_importances_, index = train_x.columns, columns = ['important']).sort_values(['important'], ascending = 0)"
   ]
  },
  {
   "cell_type": "code",
   "execution_count": 132,
   "id": "fe3c04b4-c973-4aaf-8a47-125153589cfa",
   "metadata": {
    "collapsed": true,
    "jupyter": {
     "outputs_hidden": true
    },
    "tags": []
   },
   "outputs": [
    {
     "data": {
      "text/html": [
       "<div>\n",
       "<style scoped>\n",
       "    .dataframe tbody tr th:only-of-type {\n",
       "        vertical-align: middle;\n",
       "    }\n",
       "\n",
       "    .dataframe tbody tr th {\n",
       "        vertical-align: top;\n",
       "    }\n",
       "\n",
       "    .dataframe thead th {\n",
       "        text-align: right;\n",
       "    }\n",
       "</style>\n",
       "<table border=\"1\" class=\"dataframe\">\n",
       "  <thead>\n",
       "    <tr style=\"text-align: right;\">\n",
       "      <th></th>\n",
       "      <th>important</th>\n",
       "    </tr>\n",
       "  </thead>\n",
       "  <tbody>\n",
       "    <tr>\n",
       "      <th>CANAL_REGISTRO</th>\n",
       "      <td>9.735813</td>\n",
       "    </tr>\n",
       "    <tr>\n",
       "      <th>IPCASOS</th>\n",
       "      <td>9.634561</td>\n",
       "    </tr>\n",
       "    <tr>\n",
       "      <th>FECHACONSUMO_MONTH</th>\n",
       "      <td>7.820195</td>\n",
       "    </tr>\n",
       "    <tr>\n",
       "      <th>FECHA_REGISTRO_MONTH</th>\n",
       "      <td>7.480591</td>\n",
       "    </tr>\n",
       "    <tr>\n",
       "      <th>1A_EMPCONSUL_PROV_DENS</th>\n",
       "      <td>5.477933</td>\n",
       "    </tr>\n",
       "    <tr>\n",
       "      <th>1A_EMPCONSUL_PROV_IDH</th>\n",
       "      <td>5.446866</td>\n",
       "    </tr>\n",
       "    <tr>\n",
       "      <th>FECHA_REGISTRO_WEEKDAY</th>\n",
       "      <td>5.287993</td>\n",
       "    </tr>\n",
       "    <tr>\n",
       "      <th>FECHACONSUMO_WEEKDAY</th>\n",
       "      <td>5.221337</td>\n",
       "    </tr>\n",
       "    <tr>\n",
       "      <th>BONDAD_EMAIL</th>\n",
       "      <td>3.927700</td>\n",
       "    </tr>\n",
       "    <tr>\n",
       "      <th>USU_DEPART_DEN_POB</th>\n",
       "      <td>3.146923</td>\n",
       "    </tr>\n",
       "    <tr>\n",
       "      <th>USU_TIPO_SOC_COMERCIAL_INDUSTRIAL</th>\n",
       "      <td>2.185129</td>\n",
       "    </tr>\n",
       "    <tr>\n",
       "      <th>USU_ESTADO_ACTIVA</th>\n",
       "      <td>1.995438</td>\n",
       "    </tr>\n",
       "    <tr>\n",
       "      <th>TIPO_TELF_EXTRANJERO</th>\n",
       "      <td>1.767928</td>\n",
       "    </tr>\n",
       "    <tr>\n",
       "      <th>USU_DEPART_IDH</th>\n",
       "      <td>1.664598</td>\n",
       "    </tr>\n",
       "    <tr>\n",
       "      <th>TIPO_TELF_MOVIL</th>\n",
       "      <td>1.599088</td>\n",
       "    </tr>\n",
       "    <tr>\n",
       "      <th>1A_EMPCONSUL_SECTOR_TERCIARIO</th>\n",
       "      <td>1.563591</td>\n",
       "    </tr>\n",
       "    <tr>\n",
       "      <th>1A_EMPCONSUL_SECTOR_SECUNDARIO</th>\n",
       "      <td>1.409834</td>\n",
       "    </tr>\n",
       "    <tr>\n",
       "      <th>1A_DESCGRUPOPROD_FICH_PROMO</th>\n",
       "      <td>1.300314</td>\n",
       "    </tr>\n",
       "    <tr>\n",
       "      <th>1A_DESCGRUPOPROD_PERF_PROMO</th>\n",
       "      <td>1.283067</td>\n",
       "    </tr>\n",
       "    <tr>\n",
       "      <th>IP_COUNTRY_PIB_Ingreso mediano alto</th>\n",
       "      <td>1.203792</td>\n",
       "    </tr>\n",
       "    <tr>\n",
       "      <th>TIPO_TELF_NO_PUBLICO</th>\n",
       "      <td>1.087167</td>\n",
       "    </tr>\n",
       "    <tr>\n",
       "      <th>FECHA_REGISTRO_BUSINESS_DAY</th>\n",
       "      <td>1.007780</td>\n",
       "    </tr>\n",
       "  </tbody>\n",
       "</table>\n",
       "</div>"
      ],
      "text/plain": [
       "                                     important\n",
       "CANAL_REGISTRO                        9.735813\n",
       "IPCASOS                               9.634561\n",
       "FECHACONSUMO_MONTH                    7.820195\n",
       "FECHA_REGISTRO_MONTH                  7.480591\n",
       "1A_EMPCONSUL_PROV_DENS                5.477933\n",
       "1A_EMPCONSUL_PROV_IDH                 5.446866\n",
       "FECHA_REGISTRO_WEEKDAY                5.287993\n",
       "FECHACONSUMO_WEEKDAY                  5.221337\n",
       "BONDAD_EMAIL                          3.927700\n",
       "USU_DEPART_DEN_POB                    3.146923\n",
       "USU_TIPO_SOC_COMERCIAL_INDUSTRIAL     2.185129\n",
       "USU_ESTADO_ACTIVA                     1.995438\n",
       "TIPO_TELF_EXTRANJERO                  1.767928\n",
       "USU_DEPART_IDH                        1.664598\n",
       "TIPO_TELF_MOVIL                       1.599088\n",
       "1A_EMPCONSUL_SECTOR_TERCIARIO         1.563591\n",
       "1A_EMPCONSUL_SECTOR_SECUNDARIO        1.409834\n",
       "1A_DESCGRUPOPROD_FICH_PROMO           1.300314\n",
       "1A_DESCGRUPOPROD_PERF_PROMO           1.283067\n",
       "IP_COUNTRY_PIB_Ingreso mediano alto   1.203792\n",
       "TIPO_TELF_NO_PUBLICO                  1.087167\n",
       "FECHA_REGISTRO_BUSINESS_DAY           1.007780"
      ]
     },
     "execution_count": 132,
     "metadata": {},
     "output_type": "execute_result"
    }
   ],
   "source": [
    "feature_importances[feature_importances['important'] > 0.01]*100"
   ]
  },
  {
   "cell_type": "code",
   "execution_count": 133,
   "id": "eb889856-91f4-4145-b928-75c248b27858",
   "metadata": {
    "tags": []
   },
   "outputs": [
    {
     "data": {
      "text/plain": [
       "(22, 1)"
      ]
     },
     "execution_count": 133,
     "metadata": {},
     "output_type": "execute_result"
    }
   ],
   "source": [
    "feature_importances[feature_importances['important'] > 0.01].shape"
   ]
  },
  {
   "cell_type": "markdown",
   "id": "44090071-243b-4b14-baf7-2943229fc90e",
   "metadata": {},
   "source": [
    "------"
   ]
  },
  {
   "cell_type": "markdown",
   "id": "fc00bf4f-7ccc-438c-8d1a-0bfaee763331",
   "metadata": {},
   "source": [
    "------"
   ]
  },
  {
   "cell_type": "markdown",
   "id": "c328f137-4f93-4754-8f4f-cbed67f02edb",
   "metadata": {},
   "source": [
    "##### **4.5.4 Combinamos OverSampling con Subsampling**"
   ]
  },
  {
   "cell_type": "markdown",
   "id": "3faef6bf-46b6-4d5a-9fbf-7f2176916431",
   "metadata": {},
   "source": [
    "**Combinando SMOTE & RandomUnderSampler**"
   ]
  },
  {
   "cell_type": "code",
   "execution_count": 157,
   "id": "8d0fcdfa-8edd-44b9-8455-f76f0a8b7701",
   "metadata": {},
   "outputs": [],
   "source": [
    "over = SMOTE(sampling_strategy = 0.3)\n",
    "under = RandomUnderSampler(sampling_strategy = 0.5)\n",
    "steps = [('over', over), ('under', under)]\n",
    "pipeline = Pipeline(steps = steps)"
   ]
  },
  {
   "cell_type": "code",
   "execution_count": 158,
   "id": "f850aa3e-0ecd-4707-8999-78aab444853b",
   "metadata": {},
   "outputs": [],
   "source": [
    "X_train_res, y_train_res = pipeline.fit_resample(train_x, train_y)"
   ]
  },
  {
   "cell_type": "code",
   "execution_count": 159,
   "id": "099f5646-ff5e-438f-a1cd-6a6d7ab82e2d",
   "metadata": {},
   "outputs": [
    {
     "name": "stdout",
     "output_type": "stream",
     "text": [
      "Distribution before resampling Counter({0: 255511, 1: 1831})\n",
      "Distribution after resampling Counter({0: 153306, 1: 76653})\n"
     ]
    }
   ],
   "source": [
    "print (\"Distribution before resampling {}\".format(Counter(train_y)))\n",
    "print (\"Distribution after resampling {}\".format(Counter(y_train_res)))"
   ]
  },
  {
   "cell_type": "code",
   "execution_count": 160,
   "id": "bb2b4046-67c9-4290-aaaa-1828c2d62204",
   "metadata": {},
   "outputs": [
    {
     "data": {
      "text/plain": [
       "RandomForestClassifier(criterion='entropy', n_estimators=20, n_jobs=-1,\n",
       "                       random_state=123)"
      ]
     },
     "execution_count": 160,
     "metadata": {},
     "output_type": "execute_result"
    }
   ],
   "source": [
    "rf = RandomForestClassifier(criterion = 'entropy', \n",
    "                            n_estimators = 20, \n",
    "                            max_features = 'auto', \n",
    "                            max_depth = None, \n",
    "                            n_jobs = -1,\n",
    "                            random_state = 123)\n",
    "\n",
    "rf.fit(X_train_res, y_train_res)"
   ]
  },
  {
   "cell_type": "code",
   "execution_count": 161,
   "id": "cb3df9f8-bad1-40fc-8445-fce02c46ebb9",
   "metadata": {},
   "outputs": [
    {
     "data": {
      "image/png": "[encoded data removed]",
      "text/plain": [
       "<Figure size 576x576 with 2 Axes>"
      ]
     },
     "metadata": {
      "needs_background": "light"
     },
     "output_type": "display_data"
    },
    {
     "name": "stdout",
     "output_type": "stream",
     "text": [
      "              precision    recall  f1-score   support\n",
      "\n",
      "           0       0.99      1.00      1.00    109507\n",
      "           1       0.16      0.07      0.09       783\n",
      "\n",
      "    accuracy                           0.99    110290\n",
      "   macro avg       0.58      0.53      0.54    110290\n",
      "weighted avg       0.99      0.99      0.99    110290\n",
      "\n"
     ]
    }
   ],
   "source": [
    "pred_y = rf.predict(test_x)\n",
    "mostrar_resultados(test_y, pred_y)"
   ]
  },
  {
   "cell_type": "code",
   "execution_count": 162,
   "id": "a0e17ab1-05ac-40bf-a381-d34bf175e05e",
   "metadata": {},
   "outputs": [],
   "source": [
    "feature_importances = pd.DataFrame(rf.feature_importances_, index = train_x.columns, columns = ['important']).sort_values(['important'], ascending = 0)"
   ]
  },
  {
   "cell_type": "code",
   "execution_count": 163,
   "id": "cb62ff02-98fc-4366-922b-24da398d3f20",
   "metadata": {
    "collapsed": true,
    "jupyter": {
     "outputs_hidden": true
    },
    "tags": []
   },
   "outputs": [
    {
     "data": {
      "text/html": [
       "<div>\n",
       "<style scoped>\n",
       "    .dataframe tbody tr th:only-of-type {\n",
       "        vertical-align: middle;\n",
       "    }\n",
       "\n",
       "    .dataframe tbody tr th {\n",
       "        vertical-align: top;\n",
       "    }\n",
       "\n",
       "    .dataframe thead th {\n",
       "        text-align: right;\n",
       "    }\n",
       "</style>\n",
       "<table border=\"1\" class=\"dataframe\">\n",
       "  <thead>\n",
       "    <tr style=\"text-align: right;\">\n",
       "      <th></th>\n",
       "      <th>important</th>\n",
       "    </tr>\n",
       "  </thead>\n",
       "  <tbody>\n",
       "    <tr>\n",
       "      <th>CANAL_REGISTRO</th>\n",
       "      <td>5.754275</td>\n",
       "    </tr>\n",
       "    <tr>\n",
       "      <th>IPCASOS</th>\n",
       "      <td>5.172991</td>\n",
       "    </tr>\n",
       "    <tr>\n",
       "      <th>TIPO_TELF_EXTRANJERO</th>\n",
       "      <td>5.025309</td>\n",
       "    </tr>\n",
       "    <tr>\n",
       "      <th>1A_DESCGRUPOPROD_PERF_PROMO</th>\n",
       "      <td>4.491553</td>\n",
       "    </tr>\n",
       "    <tr>\n",
       "      <th>TIPO_TELF_MOVIL</th>\n",
       "      <td>4.184476</td>\n",
       "    </tr>\n",
       "    <tr>\n",
       "      <th>TIPO_TELF_NO_PUBLICO</th>\n",
       "      <td>3.858445</td>\n",
       "    </tr>\n",
       "    <tr>\n",
       "      <th>1A_EMPCONSUL_SECTOR_SECUNDARIO</th>\n",
       "      <td>3.467692</td>\n",
       "    </tr>\n",
       "    <tr>\n",
       "      <th>1A_DESCGRUPOPROD_FICH_PROMO</th>\n",
       "      <td>3.411338</td>\n",
       "    </tr>\n",
       "    <tr>\n",
       "      <th>1A_EMPCONSUL_SECTOR_TERCIARIO</th>\n",
       "      <td>3.354710</td>\n",
       "    </tr>\n",
       "    <tr>\n",
       "      <th>FECHACONSUMO_MONTH</th>\n",
       "      <td>3.030370</td>\n",
       "    </tr>\n",
       "    <tr>\n",
       "      <th>FECHA_REGISTRO_MONTH</th>\n",
       "      <td>2.798779</td>\n",
       "    </tr>\n",
       "    <tr>\n",
       "      <th>TIPOEMAIL_GOOHOTYAHMAIL</th>\n",
       "      <td>2.797091</td>\n",
       "    </tr>\n",
       "    <tr>\n",
       "      <th>1A_EMPCONSUL_PROV_IDH</th>\n",
       "      <td>2.553578</td>\n",
       "    </tr>\n",
       "    <tr>\n",
       "      <th>1A_EMPCONSUL_PROV_DENS</th>\n",
       "      <td>2.410380</td>\n",
       "    </tr>\n",
       "    <tr>\n",
       "      <th>FECHA_REGISTRO_WEEKDAY</th>\n",
       "      <td>2.316359</td>\n",
       "    </tr>\n",
       "    <tr>\n",
       "      <th>1A_EMPCONSUL_SECTOR_QUINARIO</th>\n",
       "      <td>2.252789</td>\n",
       "    </tr>\n",
       "    <tr>\n",
       "      <th>IP_COLOMBIA</th>\n",
       "      <td>2.218666</td>\n",
       "    </tr>\n",
       "    <tr>\n",
       "      <th>FECHACONSUMO_WEEKDAY</th>\n",
       "      <td>2.172858</td>\n",
       "    </tr>\n",
       "    <tr>\n",
       "      <th>TIPOEMAIL_CORPORATIVO</th>\n",
       "      <td>1.868611</td>\n",
       "    </tr>\n",
       "    <tr>\n",
       "      <th>1A_EMPCONSUL_SECTOR_CUATERNARIO</th>\n",
       "      <td>1.842002</td>\n",
       "    </tr>\n",
       "    <tr>\n",
       "      <th>TIPOEMAIL_SINCLASIFICAR</th>\n",
       "      <td>1.835955</td>\n",
       "    </tr>\n",
       "    <tr>\n",
       "      <th>USU_DEPART_DEN_POB</th>\n",
       "      <td>1.825312</td>\n",
       "    </tr>\n",
       "    <tr>\n",
       "      <th>EMAIL_PERSONAL</th>\n",
       "      <td>1.655664</td>\n",
       "    </tr>\n",
       "    <tr>\n",
       "      <th>TIPOEMAIL_DOCENTE</th>\n",
       "      <td>1.651893</td>\n",
       "    </tr>\n",
       "    <tr>\n",
       "      <th>BONDAD_EMAIL</th>\n",
       "      <td>1.647870</td>\n",
       "    </tr>\n",
       "    <tr>\n",
       "      <th>IP_COUNTRY_PIB_Ingreso mediano alto</th>\n",
       "      <td>1.603898</td>\n",
       "    </tr>\n",
       "    <tr>\n",
       "      <th>USU_TIPO_EMPRESARIO INDIVIDUAL</th>\n",
       "      <td>1.567650</td>\n",
       "    </tr>\n",
       "    <tr>\n",
       "      <th>1A_EMPCONSUL_SECTOR_PRIMARIO</th>\n",
       "      <td>1.562805</td>\n",
       "    </tr>\n",
       "    <tr>\n",
       "      <th>IP_COUNTRY_IDH_NUM</th>\n",
       "      <td>1.417582</td>\n",
       "    </tr>\n",
       "    <tr>\n",
       "      <th>USU_DEPART_IDH</th>\n",
       "      <td>1.413413</td>\n",
       "    </tr>\n",
       "    <tr>\n",
       "      <th>USU_TAMANIO_MC</th>\n",
       "      <td>1.394042</td>\n",
       "    </tr>\n",
       "    <tr>\n",
       "      <th>1A_EMPCONSUL_SECTOR_SD</th>\n",
       "      <td>1.223300</td>\n",
       "    </tr>\n",
       "    <tr>\n",
       "      <th>1A_EMPCONSUL_EST_INACTIVA</th>\n",
       "      <td>1.020105</td>\n",
       "    </tr>\n",
       "  </tbody>\n",
       "</table>\n",
       "</div>"
      ],
      "text/plain": [
       "                                     important\n",
       "CANAL_REGISTRO                        5.754275\n",
       "IPCASOS                               5.172991\n",
       "TIPO_TELF_EXTRANJERO                  5.025309\n",
       "1A_DESCGRUPOPROD_PERF_PROMO           4.491553\n",
       "TIPO_TELF_MOVIL                       4.184476\n",
       "TIPO_TELF_NO_PUBLICO                  3.858445\n",
       "1A_EMPCONSUL_SECTOR_SECUNDARIO        3.467692\n",
       "1A_DESCGRUPOPROD_FICH_PROMO           3.411338\n",
       "1A_EMPCONSUL_SECTOR_TERCIARIO         3.354710\n",
       "FECHACONSUMO_MONTH                    3.030370\n",
       "FECHA_REGISTRO_MONTH                  2.798779\n",
       "TIPOEMAIL_GOOHOTYAHMAIL               2.797091\n",
       "1A_EMPCONSUL_PROV_IDH                 2.553578\n",
       "1A_EMPCONSUL_PROV_DENS                2.410380\n",
       "FECHA_REGISTRO_WEEKDAY                2.316359\n",
       "1A_EMPCONSUL_SECTOR_QUINARIO          2.252789\n",
       "IP_COLOMBIA                           2.218666\n",
       "FECHACONSUMO_WEEKDAY                  2.172858\n",
       "TIPOEMAIL_CORPORATIVO                 1.868611\n",
       "1A_EMPCONSUL_SECTOR_CUATERNARIO       1.842002\n",
       "TIPOEMAIL_SINCLASIFICAR               1.835955\n",
       "USU_DEPART_DEN_POB                    1.825312\n",
       "EMAIL_PERSONAL                        1.655664\n",
       "TIPOEMAIL_DOCENTE                     1.651893\n",
       "BONDAD_EMAIL                          1.647870\n",
       "IP_COUNTRY_PIB_Ingreso mediano alto   1.603898\n",
       "USU_TIPO_EMPRESARIO INDIVIDUAL        1.567650\n",
       "1A_EMPCONSUL_SECTOR_PRIMARIO          1.562805\n",
       "IP_COUNTRY_IDH_NUM                    1.417582\n",
       "USU_DEPART_IDH                        1.413413\n",
       "USU_TAMANIO_MC                        1.394042\n",
       "1A_EMPCONSUL_SECTOR_SD                1.223300\n",
       "1A_EMPCONSUL_EST_INACTIVA             1.020105"
      ]
     },
     "execution_count": 163,
     "metadata": {},
     "output_type": "execute_result"
    }
   ],
   "source": [
    "feature_importances[feature_importances['important'] > 0.01] * 100"
   ]
  },
  {
   "cell_type": "code",
   "execution_count": 164,
   "id": "0732f4ec-674b-47c3-a810-2cce29f55bb9",
   "metadata": {
    "tags": []
   },
   "outputs": [
    {
     "data": {
      "text/plain": [
       "(33, 1)"
      ]
     },
     "execution_count": 164,
     "metadata": {},
     "output_type": "execute_result"
    }
   ],
   "source": [
    "feature_importances[feature_importances['important'] > 0.01].shape"
   ]
  },
  {
   "cell_type": "markdown",
   "id": "6382e07b-ad5a-42aa-9f55-a8fd3c40ca5d",
   "metadata": {},
   "source": [
    "------"
   ]
  },
  {
   "cell_type": "markdown",
   "id": "bcb6433b-9f02-4656-8389-9b76f3aea225",
   "metadata": {
    "tags": []
   },
   "source": [
    "**Combinando SMOTE & NearMiss**"
   ]
  },
  {
   "cell_type": "code",
   "execution_count": 227,
   "id": "1d59282b-7187-445e-90e3-e175e58b5e77",
   "metadata": {},
   "outputs": [],
   "source": [
    "over = SMOTE(sampling_strategy = 'all')\n",
    "under = NearMiss(sampling_strategy = 'majority', n_neighbors = 2, n_jobs = -1)\n",
    "steps = [('over', over), ('under', under)]\n",
    "pipeline = Pipeline(steps = steps)"
   ]
  },
  {
   "cell_type": "code",
   "execution_count": 228,
   "id": "1305267e-4414-42d0-bf08-1457a0d3c866",
   "metadata": {},
   "outputs": [],
   "source": [
    "X_train_res, y_train_res = pipeline.fit_resample(train_x, train_y)"
   ]
  },
  {
   "cell_type": "code",
   "execution_count": 229,
   "id": "498f4809-3597-4437-8199-682dfc632082",
   "metadata": {},
   "outputs": [
    {
     "name": "stdout",
     "output_type": "stream",
     "text": [
      "Distribution before resampling Counter({0: 255511, 1: 1831})\n",
      "Distribution after resampling Counter({0: 255511, 1: 255511})\n"
     ]
    }
   ],
   "source": [
    "print (\"Distribution before resampling {}\".format(Counter(train_y)))\n",
    "print (\"Distribution after resampling {}\".format(Counter(y_train_res)))"
   ]
  },
  {
   "cell_type": "code",
   "execution_count": 230,
   "id": "5750a561-2b25-4f23-8b49-ba13d0b650d2",
   "metadata": {},
   "outputs": [
    {
     "data": {
      "text/plain": [
       "RandomForestClassifier(criterion='entropy', n_estimators=20, n_jobs=-1,\n",
       "                       random_state=123)"
      ]
     },
     "execution_count": 230,
     "metadata": {},
     "output_type": "execute_result"
    }
   ],
   "source": [
    "rf = RandomForestClassifier(criterion = 'entropy', \n",
    "                            n_estimators = 20, \n",
    "                            max_features = 'auto', \n",
    "                            max_depth = None, \n",
    "                            n_jobs = -1,\n",
    "                            random_state = 123)\n",
    "\n",
    "rf.fit(X_train_res, y_train_res)"
   ]
  },
  {
   "cell_type": "code",
   "execution_count": 231,
   "id": "7854e9ba-8132-49b0-a0a4-780f2638d1ee",
   "metadata": {},
   "outputs": [
    {
     "data": {
      "image/png": "[encoded data removed]",
      "text/plain": [
       "<Figure size 576x576 with 2 Axes>"
      ]
     },
     "metadata": {
      "needs_background": "light"
     },
     "output_type": "display_data"
    },
    {
     "name": "stdout",
     "output_type": "stream",
     "text": [
      "              precision    recall  f1-score   support\n",
      "\n",
      "           0       0.99      1.00      1.00    109507\n",
      "           1       0.13      0.05      0.07       783\n",
      "\n",
      "    accuracy                           0.99    110290\n",
      "   macro avg       0.56      0.52      0.53    110290\n",
      "weighted avg       0.99      0.99      0.99    110290\n",
      "\n"
     ]
    }
   ],
   "source": [
    "pred_y = rf.predict(test_x)\n",
    "mostrar_resultados(test_y, pred_y)"
   ]
  },
  {
   "cell_type": "code",
   "execution_count": 232,
   "id": "9e17dd77-281f-4aca-8db7-c3f09380d6ff",
   "metadata": {},
   "outputs": [],
   "source": [
    "feature_importances = pd.DataFrame(rf.feature_importances_, index = train_x.columns, columns = ['important']).sort_values(['important'], ascending = 0)"
   ]
  },
  {
   "cell_type": "code",
   "execution_count": 233,
   "id": "e18f61d6-834d-4a94-b4de-fd94a403d9e5",
   "metadata": {
    "collapsed": true,
    "jupyter": {
     "outputs_hidden": true
    },
    "tags": []
   },
   "outputs": [
    {
     "data": {
      "text/html": [
       "<div>\n",
       "<style scoped>\n",
       "    .dataframe tbody tr th:only-of-type {\n",
       "        vertical-align: middle;\n",
       "    }\n",
       "\n",
       "    .dataframe tbody tr th {\n",
       "        vertical-align: top;\n",
       "    }\n",
       "\n",
       "    .dataframe thead th {\n",
       "        text-align: right;\n",
       "    }\n",
       "</style>\n",
       "<table border=\"1\" class=\"dataframe\">\n",
       "  <thead>\n",
       "    <tr style=\"text-align: right;\">\n",
       "      <th></th>\n",
       "      <th>important</th>\n",
       "    </tr>\n",
       "  </thead>\n",
       "  <tbody>\n",
       "    <tr>\n",
       "      <th>TIPO_TELF_EXTRANJERO</th>\n",
       "      <td>5.933464</td>\n",
       "    </tr>\n",
       "    <tr>\n",
       "      <th>CANAL_REGISTRO</th>\n",
       "      <td>5.394562</td>\n",
       "    </tr>\n",
       "    <tr>\n",
       "      <th>IPCASOS</th>\n",
       "      <td>4.848905</td>\n",
       "    </tr>\n",
       "    <tr>\n",
       "      <th>TIPO_TELF_NO_PUBLICO</th>\n",
       "      <td>3.901182</td>\n",
       "    </tr>\n",
       "    <tr>\n",
       "      <th>TIPO_TELF_MOVIL</th>\n",
       "      <td>3.732873</td>\n",
       "    </tr>\n",
       "    <tr>\n",
       "      <th>1A_DESCGRUPOPROD_PERF_PROMO</th>\n",
       "      <td>3.545674</td>\n",
       "    </tr>\n",
       "    <tr>\n",
       "      <th>1A_EMPCONSUL_SECTOR_TERCIARIO</th>\n",
       "      <td>3.531911</td>\n",
       "    </tr>\n",
       "    <tr>\n",
       "      <th>1A_EMPCONSUL_SECTOR_SECUNDARIO</th>\n",
       "      <td>3.333407</td>\n",
       "    </tr>\n",
       "    <tr>\n",
       "      <th>FECHACONSUMO_MONTH</th>\n",
       "      <td>3.040901</td>\n",
       "    </tr>\n",
       "    <tr>\n",
       "      <th>TIPOEMAIL_GOOHOTYAHMAIL</th>\n",
       "      <td>3.031273</td>\n",
       "    </tr>\n",
       "    <tr>\n",
       "      <th>1A_DESCGRUPOPROD_FICH_PROMO</th>\n",
       "      <td>2.927222</td>\n",
       "    </tr>\n",
       "    <tr>\n",
       "      <th>FECHA_REGISTRO_MONTH</th>\n",
       "      <td>2.791393</td>\n",
       "    </tr>\n",
       "    <tr>\n",
       "      <th>1A_EMPCONSUL_PROV_DENS</th>\n",
       "      <td>2.597955</td>\n",
       "    </tr>\n",
       "    <tr>\n",
       "      <th>1A_EMPCONSUL_PROV_IDH</th>\n",
       "      <td>2.594715</td>\n",
       "    </tr>\n",
       "    <tr>\n",
       "      <th>1A_EMPCONSUL_SECTOR_QUINARIO</th>\n",
       "      <td>2.592218</td>\n",
       "    </tr>\n",
       "    <tr>\n",
       "      <th>FECHACONSUMO_WEEKDAY</th>\n",
       "      <td>2.408673</td>\n",
       "    </tr>\n",
       "    <tr>\n",
       "      <th>FECHA_REGISTRO_WEEKDAY</th>\n",
       "      <td>2.362744</td>\n",
       "    </tr>\n",
       "    <tr>\n",
       "      <th>IP_COLOMBIA</th>\n",
       "      <td>2.255362</td>\n",
       "    </tr>\n",
       "    <tr>\n",
       "      <th>USU_DEPART_DEN_POB</th>\n",
       "      <td>2.036080</td>\n",
       "    </tr>\n",
       "    <tr>\n",
       "      <th>USU_TIPO_EMPRESARIO INDIVIDUAL</th>\n",
       "      <td>1.913314</td>\n",
       "    </tr>\n",
       "    <tr>\n",
       "      <th>TIPOEMAIL_CORPORATIVO</th>\n",
       "      <td>1.884743</td>\n",
       "    </tr>\n",
       "    <tr>\n",
       "      <th>TIPOEMAIL_DOCENTE</th>\n",
       "      <td>1.819528</td>\n",
       "    </tr>\n",
       "    <tr>\n",
       "      <th>BONDAD_EMAIL</th>\n",
       "      <td>1.675287</td>\n",
       "    </tr>\n",
       "    <tr>\n",
       "      <th>1A_EMPCONSUL_SECTOR_CUATERNARIO</th>\n",
       "      <td>1.666383</td>\n",
       "    </tr>\n",
       "    <tr>\n",
       "      <th>TIPOEMAIL_SINCLASIFICAR</th>\n",
       "      <td>1.549048</td>\n",
       "    </tr>\n",
       "    <tr>\n",
       "      <th>IP_COUNTRY_PIB_Ingreso mediano alto</th>\n",
       "      <td>1.548300</td>\n",
       "    </tr>\n",
       "    <tr>\n",
       "      <th>IP_COUNTRY_IDH_NUM</th>\n",
       "      <td>1.493934</td>\n",
       "    </tr>\n",
       "    <tr>\n",
       "      <th>USU_DEPART_IDH</th>\n",
       "      <td>1.444441</td>\n",
       "    </tr>\n",
       "    <tr>\n",
       "      <th>1A_EMPCONSUL_EST_INACTIVA</th>\n",
       "      <td>1.440866</td>\n",
       "    </tr>\n",
       "    <tr>\n",
       "      <th>EMAIL_PERSONAL</th>\n",
       "      <td>1.376554</td>\n",
       "    </tr>\n",
       "    <tr>\n",
       "      <th>USU_TAMANIO_MC</th>\n",
       "      <td>1.373380</td>\n",
       "    </tr>\n",
       "    <tr>\n",
       "      <th>1A_EMPCONSUL_SECTOR_PRIMARIO</th>\n",
       "      <td>1.307309</td>\n",
       "    </tr>\n",
       "    <tr>\n",
       "      <th>1A_EMPCONSUL_SECTOR_SD</th>\n",
       "      <td>1.292936</td>\n",
       "    </tr>\n",
       "  </tbody>\n",
       "</table>\n",
       "</div>"
      ],
      "text/plain": [
       "                                     important\n",
       "TIPO_TELF_EXTRANJERO                  5.933464\n",
       "CANAL_REGISTRO                        5.394562\n",
       "IPCASOS                               4.848905\n",
       "TIPO_TELF_NO_PUBLICO                  3.901182\n",
       "TIPO_TELF_MOVIL                       3.732873\n",
       "1A_DESCGRUPOPROD_PERF_PROMO           3.545674\n",
       "1A_EMPCONSUL_SECTOR_TERCIARIO         3.531911\n",
       "1A_EMPCONSUL_SECTOR_SECUNDARIO        3.333407\n",
       "FECHACONSUMO_MONTH                    3.040901\n",
       "TIPOEMAIL_GOOHOTYAHMAIL               3.031273\n",
       "1A_DESCGRUPOPROD_FICH_PROMO           2.927222\n",
       "FECHA_REGISTRO_MONTH                  2.791393\n",
       "1A_EMPCONSUL_PROV_DENS                2.597955\n",
       "1A_EMPCONSUL_PROV_IDH                 2.594715\n",
       "1A_EMPCONSUL_SECTOR_QUINARIO          2.592218\n",
       "FECHACONSUMO_WEEKDAY                  2.408673\n",
       "FECHA_REGISTRO_WEEKDAY                2.362744\n",
       "IP_COLOMBIA                           2.255362\n",
       "USU_DEPART_DEN_POB                    2.036080\n",
       "USU_TIPO_EMPRESARIO INDIVIDUAL        1.913314\n",
       "TIPOEMAIL_CORPORATIVO                 1.884743\n",
       "TIPOEMAIL_DOCENTE                     1.819528\n",
       "BONDAD_EMAIL                          1.675287\n",
       "1A_EMPCONSUL_SECTOR_CUATERNARIO       1.666383\n",
       "TIPOEMAIL_SINCLASIFICAR               1.549048\n",
       "IP_COUNTRY_PIB_Ingreso mediano alto   1.548300\n",
       "IP_COUNTRY_IDH_NUM                    1.493934\n",
       "USU_DEPART_IDH                        1.444441\n",
       "1A_EMPCONSUL_EST_INACTIVA             1.440866\n",
       "EMAIL_PERSONAL                        1.376554\n",
       "USU_TAMANIO_MC                        1.373380\n",
       "1A_EMPCONSUL_SECTOR_PRIMARIO          1.307309\n",
       "1A_EMPCONSUL_SECTOR_SD                1.292936"
      ]
     },
     "execution_count": 233,
     "metadata": {},
     "output_type": "execute_result"
    }
   ],
   "source": [
    "feature_importances[feature_importances['important'] > 0.01] * 100"
   ]
  },
  {
   "cell_type": "code",
   "execution_count": 234,
   "id": "76bd33cd-a1e7-4845-85fe-41484829b79f",
   "metadata": {
    "tags": []
   },
   "outputs": [
    {
     "data": {
      "text/plain": [
       "(33, 1)"
      ]
     },
     "execution_count": 234,
     "metadata": {},
     "output_type": "execute_result"
    }
   ],
   "source": [
    "feature_importances[feature_importances['important'] > 0.01].shape"
   ]
  },
  {
   "cell_type": "markdown",
   "id": "e0dce38a-2377-48a4-b8b1-b4730bc6841d",
   "metadata": {},
   "source": [
    "------"
   ]
  },
  {
   "cell_type": "markdown",
   "id": "c31bb7b7-3c3e-4473-a9f2-19d671c3f092",
   "metadata": {},
   "source": [
    "**SMOTETomek**"
   ]
  },
  {
   "cell_type": "code",
   "execution_count": 144,
   "id": "f56cffe9-7ca7-4fe9-90b0-c6c80d61d03d",
   "metadata": {},
   "outputs": [],
   "source": [
    "os_us = SMOTETomek(sampling_strategy = 'all')\n",
    "X_train_res, y_train_res = os_us.fit_resample(train_x, train_y)"
   ]
  },
  {
   "cell_type": "code",
   "execution_count": 145,
   "id": "a5b767a9-1101-4843-9c81-fdd47d8c89ac",
   "metadata": {},
   "outputs": [
    {
     "name": "stdout",
     "output_type": "stream",
     "text": [
      "Distribution before resampling Counter({0: 255511, 1: 1831})\n",
      "Distribution after resampling Counter({0: 255466, 1: 255466})\n"
     ]
    }
   ],
   "source": [
    "print (\"Distribution before resampling {}\".format(Counter(train_y)))\n",
    "print (\"Distribution after resampling {}\".format(Counter(y_train_res)))"
   ]
  },
  {
   "cell_type": "code",
   "execution_count": 146,
   "id": "60403618-2dcb-473f-9fc8-3632106b48b5",
   "metadata": {},
   "outputs": [
    {
     "data": {
      "text/plain": [
       "RandomForestClassifier(criterion='entropy', n_estimators=20, n_jobs=-1,\n",
       "                       random_state=123)"
      ]
     },
     "execution_count": 146,
     "metadata": {},
     "output_type": "execute_result"
    }
   ],
   "source": [
    "rf = RandomForestClassifier(criterion = 'entropy', \n",
    "                            n_estimators = 20, \n",
    "                            max_features = 'auto', \n",
    "                            max_depth = None, \n",
    "                            n_jobs = -1,\n",
    "                            random_state = 123)\n",
    "\n",
    "rf.fit(X_train_res, y_train_res)"
   ]
  },
  {
   "cell_type": "code",
   "execution_count": 147,
   "id": "db38623e-8aa7-463a-a54e-890ca62419a0",
   "metadata": {},
   "outputs": [
    {
     "data": {
      "image/png": "[encoded data removed]",
      "text/plain": [
       "<Figure size 576x576 with 2 Axes>"
      ]
     },
     "metadata": {
      "needs_background": "light"
     },
     "output_type": "display_data"
    },
    {
     "name": "stdout",
     "output_type": "stream",
     "text": [
      "              precision    recall  f1-score   support\n",
      "\n",
      "           0       0.99      1.00      1.00    109507\n",
      "           1       0.11      0.04      0.06       783\n",
      "\n",
      "    accuracy                           0.99    110290\n",
      "   macro avg       0.55      0.52      0.53    110290\n",
      "weighted avg       0.99      0.99      0.99    110290\n",
      "\n"
     ]
    }
   ],
   "source": [
    "pred_y = rf.predict(test_x)\n",
    "mostrar_resultados(test_y, pred_y)"
   ]
  },
  {
   "cell_type": "code",
   "execution_count": 148,
   "id": "46c2fb04-763e-4965-add3-72506d1f6368",
   "metadata": {},
   "outputs": [],
   "source": [
    "feature_importances = pd.DataFrame(rf.feature_importances_, index = train_x.columns, columns = ['important']).sort_values(['important'], ascending = 0)"
   ]
  },
  {
   "cell_type": "code",
   "execution_count": 149,
   "id": "79325091-d68e-41ae-9c75-79d7a112fce0",
   "metadata": {
    "collapsed": true,
    "jupyter": {
     "outputs_hidden": true
    },
    "tags": []
   },
   "outputs": [
    {
     "data": {
      "text/html": [
       "<div>\n",
       "<style scoped>\n",
       "    .dataframe tbody tr th:only-of-type {\n",
       "        vertical-align: middle;\n",
       "    }\n",
       "\n",
       "    .dataframe tbody tr th {\n",
       "        vertical-align: top;\n",
       "    }\n",
       "\n",
       "    .dataframe thead th {\n",
       "        text-align: right;\n",
       "    }\n",
       "</style>\n",
       "<table border=\"1\" class=\"dataframe\">\n",
       "  <thead>\n",
       "    <tr style=\"text-align: right;\">\n",
       "      <th></th>\n",
       "      <th>important</th>\n",
       "    </tr>\n",
       "  </thead>\n",
       "  <tbody>\n",
       "    <tr>\n",
       "      <th>CANAL_REGISTRO</th>\n",
       "      <td>5.898463</td>\n",
       "    </tr>\n",
       "    <tr>\n",
       "      <th>IPCASOS</th>\n",
       "      <td>5.201001</td>\n",
       "    </tr>\n",
       "    <tr>\n",
       "      <th>TIPO_TELF_EXTRANJERO</th>\n",
       "      <td>5.108556</td>\n",
       "    </tr>\n",
       "    <tr>\n",
       "      <th>1A_DESCGRUPOPROD_PERF_PROMO</th>\n",
       "      <td>4.520254</td>\n",
       "    </tr>\n",
       "    <tr>\n",
       "      <th>TIPO_TELF_MOVIL</th>\n",
       "      <td>4.319260</td>\n",
       "    </tr>\n",
       "    <tr>\n",
       "      <th>TIPO_TELF_NO_PUBLICO</th>\n",
       "      <td>4.088141</td>\n",
       "    </tr>\n",
       "    <tr>\n",
       "      <th>1A_EMPCONSUL_SECTOR_TERCIARIO</th>\n",
       "      <td>3.668038</td>\n",
       "    </tr>\n",
       "    <tr>\n",
       "      <th>TIPOEMAIL_GOOHOTYAHMAIL</th>\n",
       "      <td>3.105666</td>\n",
       "    </tr>\n",
       "    <tr>\n",
       "      <th>1A_EMPCONSUL_SECTOR_SECUNDARIO</th>\n",
       "      <td>3.033932</td>\n",
       "    </tr>\n",
       "    <tr>\n",
       "      <th>FECHACONSUMO_MONTH</th>\n",
       "      <td>3.024217</td>\n",
       "    </tr>\n",
       "    <tr>\n",
       "      <th>FECHA_REGISTRO_MONTH</th>\n",
       "      <td>2.838920</td>\n",
       "    </tr>\n",
       "    <tr>\n",
       "      <th>1A_EMPCONSUL_PROV_IDH</th>\n",
       "      <td>2.758609</td>\n",
       "    </tr>\n",
       "    <tr>\n",
       "      <th>1A_EMPCONSUL_PROV_DENS</th>\n",
       "      <td>2.602407</td>\n",
       "    </tr>\n",
       "    <tr>\n",
       "      <th>1A_DESCGRUPOPROD_FICH_PROMO</th>\n",
       "      <td>2.554581</td>\n",
       "    </tr>\n",
       "    <tr>\n",
       "      <th>FECHA_REGISTRO_WEEKDAY</th>\n",
       "      <td>2.340342</td>\n",
       "    </tr>\n",
       "    <tr>\n",
       "      <th>FECHACONSUMO_WEEKDAY</th>\n",
       "      <td>2.212660</td>\n",
       "    </tr>\n",
       "    <tr>\n",
       "      <th>IP_COLOMBIA</th>\n",
       "      <td>2.085189</td>\n",
       "    </tr>\n",
       "    <tr>\n",
       "      <th>TIPOEMAIL_CORPORATIVO</th>\n",
       "      <td>2.069721</td>\n",
       "    </tr>\n",
       "    <tr>\n",
       "      <th>1A_EMPCONSUL_SECTOR_QUINARIO</th>\n",
       "      <td>1.991385</td>\n",
       "    </tr>\n",
       "    <tr>\n",
       "      <th>USU_DEPART_DEN_POB</th>\n",
       "      <td>1.969842</td>\n",
       "    </tr>\n",
       "    <tr>\n",
       "      <th>IP_COUNTRY_IDH_NUM</th>\n",
       "      <td>1.959607</td>\n",
       "    </tr>\n",
       "    <tr>\n",
       "      <th>USU_TIPO_EMPRESARIO INDIVIDUAL</th>\n",
       "      <td>1.761992</td>\n",
       "    </tr>\n",
       "    <tr>\n",
       "      <th>TIPOEMAIL_SINCLASIFICAR</th>\n",
       "      <td>1.734996</td>\n",
       "    </tr>\n",
       "    <tr>\n",
       "      <th>IP_COUNTRY_PIB_Ingreso mediano alto</th>\n",
       "      <td>1.715667</td>\n",
       "    </tr>\n",
       "    <tr>\n",
       "      <th>TIPOEMAIL_DOCENTE</th>\n",
       "      <td>1.670041</td>\n",
       "    </tr>\n",
       "    <tr>\n",
       "      <th>BONDAD_EMAIL</th>\n",
       "      <td>1.615429</td>\n",
       "    </tr>\n",
       "    <tr>\n",
       "      <th>1A_EMPCONSUL_SECTOR_CUATERNARIO</th>\n",
       "      <td>1.513017</td>\n",
       "    </tr>\n",
       "    <tr>\n",
       "      <th>1A_EMPCONSUL_EST_INACTIVA</th>\n",
       "      <td>1.461723</td>\n",
       "    </tr>\n",
       "    <tr>\n",
       "      <th>EMAIL_PERSONAL</th>\n",
       "      <td>1.436339</td>\n",
       "    </tr>\n",
       "    <tr>\n",
       "      <th>USU_DEPART_IDH</th>\n",
       "      <td>1.241408</td>\n",
       "    </tr>\n",
       "    <tr>\n",
       "      <th>1A_EMPCONSUL_SECTOR_PRIMARIO</th>\n",
       "      <td>1.193047</td>\n",
       "    </tr>\n",
       "    <tr>\n",
       "      <th>1A_EMPCONSUL_SECTOR_SD</th>\n",
       "      <td>1.171100</td>\n",
       "    </tr>\n",
       "  </tbody>\n",
       "</table>\n",
       "</div>"
      ],
      "text/plain": [
       "                                     important\n",
       "CANAL_REGISTRO                        5.898463\n",
       "IPCASOS                               5.201001\n",
       "TIPO_TELF_EXTRANJERO                  5.108556\n",
       "1A_DESCGRUPOPROD_PERF_PROMO           4.520254\n",
       "TIPO_TELF_MOVIL                       4.319260\n",
       "TIPO_TELF_NO_PUBLICO                  4.088141\n",
       "1A_EMPCONSUL_SECTOR_TERCIARIO         3.668038\n",
       "TIPOEMAIL_GOOHOTYAHMAIL               3.105666\n",
       "1A_EMPCONSUL_SECTOR_SECUNDARIO        3.033932\n",
       "FECHACONSUMO_MONTH                    3.024217\n",
       "FECHA_REGISTRO_MONTH                  2.838920\n",
       "1A_EMPCONSUL_PROV_IDH                 2.758609\n",
       "1A_EMPCONSUL_PROV_DENS                2.602407\n",
       "1A_DESCGRUPOPROD_FICH_PROMO           2.554581\n",
       "FECHA_REGISTRO_WEEKDAY                2.340342\n",
       "FECHACONSUMO_WEEKDAY                  2.212660\n",
       "IP_COLOMBIA                           2.085189\n",
       "TIPOEMAIL_CORPORATIVO                 2.069721\n",
       "1A_EMPCONSUL_SECTOR_QUINARIO          1.991385\n",
       "USU_DEPART_DEN_POB                    1.969842\n",
       "IP_COUNTRY_IDH_NUM                    1.959607\n",
       "USU_TIPO_EMPRESARIO INDIVIDUAL        1.761992\n",
       "TIPOEMAIL_SINCLASIFICAR               1.734996\n",
       "IP_COUNTRY_PIB_Ingreso mediano alto   1.715667\n",
       "TIPOEMAIL_DOCENTE                     1.670041\n",
       "BONDAD_EMAIL                          1.615429\n",
       "1A_EMPCONSUL_SECTOR_CUATERNARIO       1.513017\n",
       "1A_EMPCONSUL_EST_INACTIVA             1.461723\n",
       "EMAIL_PERSONAL                        1.436339\n",
       "USU_DEPART_IDH                        1.241408\n",
       "1A_EMPCONSUL_SECTOR_PRIMARIO          1.193047\n",
       "1A_EMPCONSUL_SECTOR_SD                1.171100"
      ]
     },
     "execution_count": 149,
     "metadata": {},
     "output_type": "execute_result"
    }
   ],
   "source": [
    "feature_importances[feature_importances['important'] > 0.01] * 100"
   ]
  },
  {
   "cell_type": "code",
   "execution_count": 150,
   "id": "ddbecffe-81a0-4479-871f-ad6f1560c176",
   "metadata": {
    "tags": []
   },
   "outputs": [
    {
     "data": {
      "text/plain": [
       "(32, 1)"
      ]
     },
     "execution_count": 150,
     "metadata": {},
     "output_type": "execute_result"
    }
   ],
   "source": [
    "feature_importances[feature_importances['important'] > 0.01].shape"
   ]
  },
  {
   "cell_type": "markdown",
   "id": "ba2b65e1-0d45-4613-9e6b-6867b5bdcffc",
   "metadata": {},
   "source": [
    "------"
   ]
  },
  {
   "cell_type": "markdown",
   "id": "b7c5f681-9632-4910-a3f6-0e735a66e13c",
   "metadata": {},
   "source": [
    "------"
   ]
  },
  {
   "cell_type": "markdown",
   "id": "6815d615-428c-4bb5-b247-a3bb50a9c691",
   "metadata": {},
   "source": [
    "##### **4.5.5 Ensamble de Modelos con Balanceo**"
   ]
  },
  {
   "cell_type": "markdown",
   "id": "cf2c9b55-8cd5-433f-b596-68b9e8c1e18d",
   "metadata": {},
   "source": [
    "Para esta estrategia usaremos un Clasificador de Ensamble que utiliza Bagging y el modelo será un RandomForest."
   ]
  },
  {
   "cell_type": "markdown",
   "id": "bef55740-5b59-4f81-9e47-a11978b08e64",
   "metadata": {},
   "source": [
    "**Bagging**"
   ]
  },
  {
   "cell_type": "code",
   "execution_count": 151,
   "id": "8b454650-ca06-4f2c-b11e-628ac751c07b",
   "metadata": {
    "tags": []
   },
   "outputs": [
    {
     "data": {
      "text/plain": [
       "BalancedBaggingClassifier(base_estimator=RandomForestClassifier(criterion='entropy',\n",
       "                                                                n_estimators=20,\n",
       "                                                                n_jobs=-1,\n",
       "                                                                random_state=123),\n",
       "                          n_estimators=20, random_state=123,\n",
       "                          sampling_strategy='all')"
      ]
     },
     "execution_count": 151,
     "metadata": {},
     "output_type": "execute_result"
    }
   ],
   "source": [
    "bbc = BalancedBaggingClassifier(base_estimator = RandomForestClassifier(criterion = 'entropy', \n",
    "                                                                        n_estimators = 20, \n",
    "                                                                        max_features = 'auto', \n",
    "                                                                        max_depth = None, \n",
    "                                                                        n_jobs = -1,\n",
    "                                                                        random_state = 123),\n",
    "                                sampling_strategy = 'all',\n",
    "                                n_estimators = 20,\n",
    "                                replacement = False,\n",
    "                                random_state = 123)\n",
    "\n",
    "bbc.fit(train_x, train_y)"
   ]
  },
  {
   "cell_type": "code",
   "execution_count": 152,
   "id": "33ff2cad-2535-465f-a531-28dfceef6f71",
   "metadata": {
    "tags": []
   },
   "outputs": [
    {
     "data": {
      "image/png": "[encoded data removed]",
      "text/plain": [
       "<Figure size 576x576 with 2 Axes>"
      ]
     },
     "metadata": {
      "needs_background": "light"
     },
     "output_type": "display_data"
    },
    {
     "name": "stdout",
     "output_type": "stream",
     "text": [
      "              precision    recall  f1-score   support\n",
      "\n",
      "           0       1.00      0.83      0.90    109507\n",
      "           1       0.03      0.65      0.05       783\n",
      "\n",
      "    accuracy                           0.82    110290\n",
      "   macro avg       0.51      0.74      0.48    110290\n",
      "weighted avg       0.99      0.82      0.90    110290\n",
      "\n"
     ]
    }
   ],
   "source": [
    "pred_y = bbc.predict(test_x)\n",
    "mostrar_resultados(test_y, pred_y)"
   ]
  },
  {
   "cell_type": "code",
   "execution_count": 153,
   "id": "f45596bd-e389-46cd-b9f1-e32ed0346171",
   "metadata": {},
   "outputs": [],
   "source": [
    "feature_importances = pd.DataFrame(rf.feature_importances_, index = train_x.columns, columns = ['important']).sort_values(['important'], ascending = 0)"
   ]
  },
  {
   "cell_type": "code",
   "execution_count": 154,
   "id": "bece0c5a-8640-4ee6-83d0-76394d451717",
   "metadata": {
    "collapsed": true,
    "jupyter": {
     "outputs_hidden": true
    },
    "tags": []
   },
   "outputs": [
    {
     "data": {
      "text/html": [
       "<div>\n",
       "<style scoped>\n",
       "    .dataframe tbody tr th:only-of-type {\n",
       "        vertical-align: middle;\n",
       "    }\n",
       "\n",
       "    .dataframe tbody tr th {\n",
       "        vertical-align: top;\n",
       "    }\n",
       "\n",
       "    .dataframe thead th {\n",
       "        text-align: right;\n",
       "    }\n",
       "</style>\n",
       "<table border=\"1\" class=\"dataframe\">\n",
       "  <thead>\n",
       "    <tr style=\"text-align: right;\">\n",
       "      <th></th>\n",
       "      <th>important</th>\n",
       "    </tr>\n",
       "  </thead>\n",
       "  <tbody>\n",
       "    <tr>\n",
       "      <th>CANAL_REGISTRO</th>\n",
       "      <td>5.898463</td>\n",
       "    </tr>\n",
       "    <tr>\n",
       "      <th>IPCASOS</th>\n",
       "      <td>5.201001</td>\n",
       "    </tr>\n",
       "    <tr>\n",
       "      <th>TIPO_TELF_EXTRANJERO</th>\n",
       "      <td>5.108556</td>\n",
       "    </tr>\n",
       "    <tr>\n",
       "      <th>1A_DESCGRUPOPROD_PERF_PROMO</th>\n",
       "      <td>4.520254</td>\n",
       "    </tr>\n",
       "    <tr>\n",
       "      <th>TIPO_TELF_MOVIL</th>\n",
       "      <td>4.319260</td>\n",
       "    </tr>\n",
       "    <tr>\n",
       "      <th>TIPO_TELF_NO_PUBLICO</th>\n",
       "      <td>4.088141</td>\n",
       "    </tr>\n",
       "    <tr>\n",
       "      <th>1A_EMPCONSUL_SECTOR_TERCIARIO</th>\n",
       "      <td>3.668038</td>\n",
       "    </tr>\n",
       "    <tr>\n",
       "      <th>TIPOEMAIL_GOOHOTYAHMAIL</th>\n",
       "      <td>3.105666</td>\n",
       "    </tr>\n",
       "    <tr>\n",
       "      <th>1A_EMPCONSUL_SECTOR_SECUNDARIO</th>\n",
       "      <td>3.033932</td>\n",
       "    </tr>\n",
       "    <tr>\n",
       "      <th>FECHACONSUMO_MONTH</th>\n",
       "      <td>3.024217</td>\n",
       "    </tr>\n",
       "    <tr>\n",
       "      <th>FECHA_REGISTRO_MONTH</th>\n",
       "      <td>2.838920</td>\n",
       "    </tr>\n",
       "    <tr>\n",
       "      <th>1A_EMPCONSUL_PROV_IDH</th>\n",
       "      <td>2.758609</td>\n",
       "    </tr>\n",
       "    <tr>\n",
       "      <th>1A_EMPCONSUL_PROV_DENS</th>\n",
       "      <td>2.602407</td>\n",
       "    </tr>\n",
       "    <tr>\n",
       "      <th>1A_DESCGRUPOPROD_FICH_PROMO</th>\n",
       "      <td>2.554581</td>\n",
       "    </tr>\n",
       "    <tr>\n",
       "      <th>FECHA_REGISTRO_WEEKDAY</th>\n",
       "      <td>2.340342</td>\n",
       "    </tr>\n",
       "    <tr>\n",
       "      <th>FECHACONSUMO_WEEKDAY</th>\n",
       "      <td>2.212660</td>\n",
       "    </tr>\n",
       "    <tr>\n",
       "      <th>IP_COLOMBIA</th>\n",
       "      <td>2.085189</td>\n",
       "    </tr>\n",
       "    <tr>\n",
       "      <th>TIPOEMAIL_CORPORATIVO</th>\n",
       "      <td>2.069721</td>\n",
       "    </tr>\n",
       "    <tr>\n",
       "      <th>1A_EMPCONSUL_SECTOR_QUINARIO</th>\n",
       "      <td>1.991385</td>\n",
       "    </tr>\n",
       "    <tr>\n",
       "      <th>USU_DEPART_DEN_POB</th>\n",
       "      <td>1.969842</td>\n",
       "    </tr>\n",
       "    <tr>\n",
       "      <th>IP_COUNTRY_IDH_NUM</th>\n",
       "      <td>1.959607</td>\n",
       "    </tr>\n",
       "    <tr>\n",
       "      <th>USU_TIPO_EMPRESARIO INDIVIDUAL</th>\n",
       "      <td>1.761992</td>\n",
       "    </tr>\n",
       "    <tr>\n",
       "      <th>TIPOEMAIL_SINCLASIFICAR</th>\n",
       "      <td>1.734996</td>\n",
       "    </tr>\n",
       "    <tr>\n",
       "      <th>IP_COUNTRY_PIB_Ingreso mediano alto</th>\n",
       "      <td>1.715667</td>\n",
       "    </tr>\n",
       "    <tr>\n",
       "      <th>TIPOEMAIL_DOCENTE</th>\n",
       "      <td>1.670041</td>\n",
       "    </tr>\n",
       "    <tr>\n",
       "      <th>BONDAD_EMAIL</th>\n",
       "      <td>1.615429</td>\n",
       "    </tr>\n",
       "    <tr>\n",
       "      <th>1A_EMPCONSUL_SECTOR_CUATERNARIO</th>\n",
       "      <td>1.513017</td>\n",
       "    </tr>\n",
       "    <tr>\n",
       "      <th>1A_EMPCONSUL_EST_INACTIVA</th>\n",
       "      <td>1.461723</td>\n",
       "    </tr>\n",
       "    <tr>\n",
       "      <th>EMAIL_PERSONAL</th>\n",
       "      <td>1.436339</td>\n",
       "    </tr>\n",
       "    <tr>\n",
       "      <th>USU_DEPART_IDH</th>\n",
       "      <td>1.241408</td>\n",
       "    </tr>\n",
       "    <tr>\n",
       "      <th>1A_EMPCONSUL_SECTOR_PRIMARIO</th>\n",
       "      <td>1.193047</td>\n",
       "    </tr>\n",
       "    <tr>\n",
       "      <th>1A_EMPCONSUL_SECTOR_SD</th>\n",
       "      <td>1.171100</td>\n",
       "    </tr>\n",
       "  </tbody>\n",
       "</table>\n",
       "</div>"
      ],
      "text/plain": [
       "                                     important\n",
       "CANAL_REGISTRO                        5.898463\n",
       "IPCASOS                               5.201001\n",
       "TIPO_TELF_EXTRANJERO                  5.108556\n",
       "1A_DESCGRUPOPROD_PERF_PROMO           4.520254\n",
       "TIPO_TELF_MOVIL                       4.319260\n",
       "TIPO_TELF_NO_PUBLICO                  4.088141\n",
       "1A_EMPCONSUL_SECTOR_TERCIARIO         3.668038\n",
       "TIPOEMAIL_GOOHOTYAHMAIL               3.105666\n",
       "1A_EMPCONSUL_SECTOR_SECUNDARIO        3.033932\n",
       "FECHACONSUMO_MONTH                    3.024217\n",
       "FECHA_REGISTRO_MONTH                  2.838920\n",
       "1A_EMPCONSUL_PROV_IDH                 2.758609\n",
       "1A_EMPCONSUL_PROV_DENS                2.602407\n",
       "1A_DESCGRUPOPROD_FICH_PROMO           2.554581\n",
       "FECHA_REGISTRO_WEEKDAY                2.340342\n",
       "FECHACONSUMO_WEEKDAY                  2.212660\n",
       "IP_COLOMBIA                           2.085189\n",
       "TIPOEMAIL_CORPORATIVO                 2.069721\n",
       "1A_EMPCONSUL_SECTOR_QUINARIO          1.991385\n",
       "USU_DEPART_DEN_POB                    1.969842\n",
       "IP_COUNTRY_IDH_NUM                    1.959607\n",
       "USU_TIPO_EMPRESARIO INDIVIDUAL        1.761992\n",
       "TIPOEMAIL_SINCLASIFICAR               1.734996\n",
       "IP_COUNTRY_PIB_Ingreso mediano alto   1.715667\n",
       "TIPOEMAIL_DOCENTE                     1.670041\n",
       "BONDAD_EMAIL                          1.615429\n",
       "1A_EMPCONSUL_SECTOR_CUATERNARIO       1.513017\n",
       "1A_EMPCONSUL_EST_INACTIVA             1.461723\n",
       "EMAIL_PERSONAL                        1.436339\n",
       "USU_DEPART_IDH                        1.241408\n",
       "1A_EMPCONSUL_SECTOR_PRIMARIO          1.193047\n",
       "1A_EMPCONSUL_SECTOR_SD                1.171100"
      ]
     },
     "execution_count": 154,
     "metadata": {},
     "output_type": "execute_result"
    }
   ],
   "source": [
    "feature_importances[feature_importances['important'] > 0.01]*100"
   ]
  },
  {
   "cell_type": "code",
   "execution_count": 155,
   "id": "5de19193-9591-429b-b5ac-7a0c5bfe8f92",
   "metadata": {
    "tags": []
   },
   "outputs": [
    {
     "data": {
      "text/plain": [
       "(32, 1)"
      ]
     },
     "execution_count": 155,
     "metadata": {},
     "output_type": "execute_result"
    }
   ],
   "source": [
    "feature_importances[feature_importances['important'] > 0.01].shape"
   ]
  },
  {
   "cell_type": "markdown",
   "id": "9f7cdbbf-e1f8-4f04-9bc8-6bde0f287ab3",
   "metadata": {},
   "source": [
    "------"
   ]
  },
  {
   "cell_type": "markdown",
   "id": "d41d1480-f9ec-44f7-8212-d704e7779d83",
   "metadata": {},
   "source": [
    "**BalancedRandomForestClassifier**"
   ]
  },
  {
   "cell_type": "code",
   "execution_count": 187,
   "id": "c70a798a-f84c-45b3-a97b-366220111b3f",
   "metadata": {
    "tags": []
   },
   "outputs": [
    {
     "data": {
      "text/plain": [
       "BalancedRandomForestClassifier(criterion='entropy', n_estimators=20, n_jobs=-1,\n",
       "                               random_state=123)"
      ]
     },
     "execution_count": 187,
     "metadata": {},
     "output_type": "execute_result"
    }
   ],
   "source": [
    "brfc = BalancedRandomForestClassifier(criterion = 'entropy', \n",
    "                                    n_estimators = 20, \n",
    "                                    max_features = 'auto', \n",
    "                                    max_depth = None, \n",
    "                                    sampling_strategy = 'auto',\n",
    "                                    n_jobs = -1,\n",
    "                                    random_state = 123)\n",
    "\n",
    "brfc.fit(train_x, train_y)"
   ]
  },
  {
   "cell_type": "code",
   "execution_count": 188,
   "id": "8892b64f-7529-4c3b-93b2-3b45d7e3bbac",
   "metadata": {
    "tags": []
   },
   "outputs": [
    {
     "data": {
      "image/png": "[encoded data removed]",
      "text/plain": [
       "<Figure size 576x576 with 2 Axes>"
      ]
     },
     "metadata": {
      "needs_background": "light"
     },
     "output_type": "display_data"
    },
    {
     "name": "stdout",
     "output_type": "stream",
     "text": [
      "              precision    recall  f1-score   support\n",
      "\n",
      "           0       1.00      0.76      0.86    109507\n",
      "           1       0.02      0.70      0.04       783\n",
      "\n",
      "    accuracy                           0.76    110290\n",
      "   macro avg       0.51      0.73      0.45    110290\n",
      "weighted avg       0.99      0.76      0.86    110290\n",
      "\n"
     ]
    }
   ],
   "source": [
    "pred_y = brfc.predict(test_x)\n",
    "mostrar_resultados(test_y, pred_y)"
   ]
  },
  {
   "cell_type": "code",
   "execution_count": 189,
   "id": "355ff91c-fb4c-46c4-aae8-26aa1240a823",
   "metadata": {},
   "outputs": [],
   "source": [
    "feature_importances = pd.DataFrame(rf.feature_importances_, index = train_x.columns, columns = ['important']).sort_values(['important'], ascending = 0)"
   ]
  },
  {
   "cell_type": "code",
   "execution_count": 190,
   "id": "e2f45be4-6823-446e-86d1-7597ede6226d",
   "metadata": {
    "collapsed": true,
    "jupyter": {
     "outputs_hidden": true
    },
    "tags": []
   },
   "outputs": [
    {
     "data": {
      "text/html": [
       "<div>\n",
       "<style scoped>\n",
       "    .dataframe tbody tr th:only-of-type {\n",
       "        vertical-align: middle;\n",
       "    }\n",
       "\n",
       "    .dataframe tbody tr th {\n",
       "        vertical-align: top;\n",
       "    }\n",
       "\n",
       "    .dataframe thead th {\n",
       "        text-align: right;\n",
       "    }\n",
       "</style>\n",
       "<table border=\"1\" class=\"dataframe\">\n",
       "  <thead>\n",
       "    <tr style=\"text-align: right;\">\n",
       "      <th></th>\n",
       "      <th>important</th>\n",
       "    </tr>\n",
       "  </thead>\n",
       "  <tbody>\n",
       "    <tr>\n",
       "      <th>CANAL_REGISTRO</th>\n",
       "      <td>5.754275</td>\n",
       "    </tr>\n",
       "    <tr>\n",
       "      <th>IPCASOS</th>\n",
       "      <td>5.172991</td>\n",
       "    </tr>\n",
       "    <tr>\n",
       "      <th>TIPO_TELF_EXTRANJERO</th>\n",
       "      <td>5.025309</td>\n",
       "    </tr>\n",
       "    <tr>\n",
       "      <th>1A_DESCGRUPOPROD_PERF_PROMO</th>\n",
       "      <td>4.491553</td>\n",
       "    </tr>\n",
       "    <tr>\n",
       "      <th>TIPO_TELF_MOVIL</th>\n",
       "      <td>4.184476</td>\n",
       "    </tr>\n",
       "    <tr>\n",
       "      <th>TIPO_TELF_NO_PUBLICO</th>\n",
       "      <td>3.858445</td>\n",
       "    </tr>\n",
       "    <tr>\n",
       "      <th>1A_EMPCONSUL_SECTOR_SECUNDARIO</th>\n",
       "      <td>3.467692</td>\n",
       "    </tr>\n",
       "    <tr>\n",
       "      <th>1A_DESCGRUPOPROD_FICH_PROMO</th>\n",
       "      <td>3.411338</td>\n",
       "    </tr>\n",
       "    <tr>\n",
       "      <th>1A_EMPCONSUL_SECTOR_TERCIARIO</th>\n",
       "      <td>3.354710</td>\n",
       "    </tr>\n",
       "    <tr>\n",
       "      <th>FECHACONSUMO_MONTH</th>\n",
       "      <td>3.030370</td>\n",
       "    </tr>\n",
       "    <tr>\n",
       "      <th>FECHA_REGISTRO_MONTH</th>\n",
       "      <td>2.798779</td>\n",
       "    </tr>\n",
       "    <tr>\n",
       "      <th>TIPOEMAIL_GOOHOTYAHMAIL</th>\n",
       "      <td>2.797091</td>\n",
       "    </tr>\n",
       "    <tr>\n",
       "      <th>1A_EMPCONSUL_PROV_IDH</th>\n",
       "      <td>2.553578</td>\n",
       "    </tr>\n",
       "    <tr>\n",
       "      <th>1A_EMPCONSUL_PROV_DENS</th>\n",
       "      <td>2.410380</td>\n",
       "    </tr>\n",
       "    <tr>\n",
       "      <th>FECHA_REGISTRO_WEEKDAY</th>\n",
       "      <td>2.316359</td>\n",
       "    </tr>\n",
       "    <tr>\n",
       "      <th>1A_EMPCONSUL_SECTOR_QUINARIO</th>\n",
       "      <td>2.252789</td>\n",
       "    </tr>\n",
       "    <tr>\n",
       "      <th>IP_COLOMBIA</th>\n",
       "      <td>2.218666</td>\n",
       "    </tr>\n",
       "    <tr>\n",
       "      <th>FECHACONSUMO_WEEKDAY</th>\n",
       "      <td>2.172858</td>\n",
       "    </tr>\n",
       "    <tr>\n",
       "      <th>TIPOEMAIL_CORPORATIVO</th>\n",
       "      <td>1.868611</td>\n",
       "    </tr>\n",
       "    <tr>\n",
       "      <th>1A_EMPCONSUL_SECTOR_CUATERNARIO</th>\n",
       "      <td>1.842002</td>\n",
       "    </tr>\n",
       "    <tr>\n",
       "      <th>TIPOEMAIL_SINCLASIFICAR</th>\n",
       "      <td>1.835955</td>\n",
       "    </tr>\n",
       "    <tr>\n",
       "      <th>USU_DEPART_DEN_POB</th>\n",
       "      <td>1.825312</td>\n",
       "    </tr>\n",
       "    <tr>\n",
       "      <th>EMAIL_PERSONAL</th>\n",
       "      <td>1.655664</td>\n",
       "    </tr>\n",
       "    <tr>\n",
       "      <th>TIPOEMAIL_DOCENTE</th>\n",
       "      <td>1.651893</td>\n",
       "    </tr>\n",
       "    <tr>\n",
       "      <th>BONDAD_EMAIL</th>\n",
       "      <td>1.647870</td>\n",
       "    </tr>\n",
       "    <tr>\n",
       "      <th>IP_COUNTRY_PIB_Ingreso mediano alto</th>\n",
       "      <td>1.603898</td>\n",
       "    </tr>\n",
       "    <tr>\n",
       "      <th>USU_TIPO_EMPRESARIO INDIVIDUAL</th>\n",
       "      <td>1.567650</td>\n",
       "    </tr>\n",
       "    <tr>\n",
       "      <th>1A_EMPCONSUL_SECTOR_PRIMARIO</th>\n",
       "      <td>1.562805</td>\n",
       "    </tr>\n",
       "    <tr>\n",
       "      <th>IP_COUNTRY_IDH_NUM</th>\n",
       "      <td>1.417582</td>\n",
       "    </tr>\n",
       "    <tr>\n",
       "      <th>USU_DEPART_IDH</th>\n",
       "      <td>1.413413</td>\n",
       "    </tr>\n",
       "    <tr>\n",
       "      <th>USU_TAMANIO_MC</th>\n",
       "      <td>1.394042</td>\n",
       "    </tr>\n",
       "    <tr>\n",
       "      <th>1A_EMPCONSUL_SECTOR_SD</th>\n",
       "      <td>1.223300</td>\n",
       "    </tr>\n",
       "    <tr>\n",
       "      <th>1A_EMPCONSUL_EST_INACTIVA</th>\n",
       "      <td>1.020105</td>\n",
       "    </tr>\n",
       "  </tbody>\n",
       "</table>\n",
       "</div>"
      ],
      "text/plain": [
       "                                     important\n",
       "CANAL_REGISTRO                        5.754275\n",
       "IPCASOS                               5.172991\n",
       "TIPO_TELF_EXTRANJERO                  5.025309\n",
       "1A_DESCGRUPOPROD_PERF_PROMO           4.491553\n",
       "TIPO_TELF_MOVIL                       4.184476\n",
       "TIPO_TELF_NO_PUBLICO                  3.858445\n",
       "1A_EMPCONSUL_SECTOR_SECUNDARIO        3.467692\n",
       "1A_DESCGRUPOPROD_FICH_PROMO           3.411338\n",
       "1A_EMPCONSUL_SECTOR_TERCIARIO         3.354710\n",
       "FECHACONSUMO_MONTH                    3.030370\n",
       "FECHA_REGISTRO_MONTH                  2.798779\n",
       "TIPOEMAIL_GOOHOTYAHMAIL               2.797091\n",
       "1A_EMPCONSUL_PROV_IDH                 2.553578\n",
       "1A_EMPCONSUL_PROV_DENS                2.410380\n",
       "FECHA_REGISTRO_WEEKDAY                2.316359\n",
       "1A_EMPCONSUL_SECTOR_QUINARIO          2.252789\n",
       "IP_COLOMBIA                           2.218666\n",
       "FECHACONSUMO_WEEKDAY                  2.172858\n",
       "TIPOEMAIL_CORPORATIVO                 1.868611\n",
       "1A_EMPCONSUL_SECTOR_CUATERNARIO       1.842002\n",
       "TIPOEMAIL_SINCLASIFICAR               1.835955\n",
       "USU_DEPART_DEN_POB                    1.825312\n",
       "EMAIL_PERSONAL                        1.655664\n",
       "TIPOEMAIL_DOCENTE                     1.651893\n",
       "BONDAD_EMAIL                          1.647870\n",
       "IP_COUNTRY_PIB_Ingreso mediano alto   1.603898\n",
       "USU_TIPO_EMPRESARIO INDIVIDUAL        1.567650\n",
       "1A_EMPCONSUL_SECTOR_PRIMARIO          1.562805\n",
       "IP_COUNTRY_IDH_NUM                    1.417582\n",
       "USU_DEPART_IDH                        1.413413\n",
       "USU_TAMANIO_MC                        1.394042\n",
       "1A_EMPCONSUL_SECTOR_SD                1.223300\n",
       "1A_EMPCONSUL_EST_INACTIVA             1.020105"
      ]
     },
     "execution_count": 190,
     "metadata": {},
     "output_type": "execute_result"
    }
   ],
   "source": [
    "feature_importances[feature_importances['important'] > 0.01]*100"
   ]
  },
  {
   "cell_type": "code",
   "execution_count": 191,
   "id": "5b3ea2b3-7aab-4c6c-b6d6-2be1b0683013",
   "metadata": {
    "tags": []
   },
   "outputs": [
    {
     "data": {
      "text/plain": [
       "(33, 1)"
      ]
     },
     "execution_count": 191,
     "metadata": {},
     "output_type": "execute_result"
    }
   ],
   "source": [
    "feature_importances[feature_importances['important'] > 0.01].shape"
   ]
  },
  {
   "cell_type": "markdown",
   "id": "79ddccd4-f9a2-4978-8984-5adff88712ab",
   "metadata": {},
   "source": [
    "------"
   ]
  },
  {
   "cell_type": "markdown",
   "id": "3d02b43b-36a2-47f2-8efc-e63946ba52a8",
   "metadata": {},
   "source": [
    "**RUSBoostClassifier**"
   ]
  },
  {
   "cell_type": "code",
   "execution_count": 198,
   "id": "f6b257cd-edb3-487f-abb8-26ab10f5935f",
   "metadata": {
    "tags": []
   },
   "outputs": [
    {
     "data": {
      "text/plain": [
       "RUSBoostClassifier(base_estimator=RandomForestClassifier(criterion='entropy',\n",
       "                                                         n_estimators=20,\n",
       "                                                         n_jobs=-1,\n",
       "                                                         random_state=123),\n",
       "                   n_estimators=20, random_state=123,\n",
       "                   sampling_strategy='majority')"
      ]
     },
     "execution_count": 198,
     "metadata": {},
     "output_type": "execute_result"
    }
   ],
   "source": [
    "RUS = RUSBoostClassifier(base_estimator = RandomForestClassifier(criterion = 'entropy', \n",
    "                                                                        n_estimators = 20, \n",
    "                                                                        max_features = 'auto', \n",
    "                                                                        max_depth = None, \n",
    "                                                                        n_jobs = -1,\n",
    "                                                                        random_state = 123),\n",
    "                                sampling_strategy = 'majority',\n",
    "                                n_estimators = 20,\n",
    "                                replacement = False,\n",
    "                                random_state = 123)\n",
    "\n",
    "RUS.fit(train_x, train_y)"
   ]
  },
  {
   "cell_type": "code",
   "execution_count": 199,
   "id": "71f309a2-5218-4fa3-92a7-8f76e6dae6f6",
   "metadata": {
    "tags": []
   },
   "outputs": [
    {
     "data": {
      "image/png": "[encoded data removed]",
      "text/plain": [
       "<Figure size 576x576 with 2 Axes>"
      ]
     },
     "metadata": {
      "needs_background": "light"
     },
     "output_type": "display_data"
    },
    {
     "name": "stdout",
     "output_type": "stream",
     "text": [
      "              precision    recall  f1-score   support\n",
      "\n",
      "           0       1.00      0.77      0.87    109507\n",
      "           1       0.02      0.69      0.04       783\n",
      "\n",
      "    accuracy                           0.77    110290\n",
      "   macro avg       0.51      0.73      0.46    110290\n",
      "weighted avg       0.99      0.77      0.86    110290\n",
      "\n"
     ]
    }
   ],
   "source": [
    "pred_y = RUS.predict(test_x)\n",
    "mostrar_resultados(test_y, pred_y)"
   ]
  },
  {
   "cell_type": "code",
   "execution_count": 200,
   "id": "690f65c3-25e8-45bc-b6d2-89fd212c7063",
   "metadata": {},
   "outputs": [],
   "source": [
    "feature_importances = pd.DataFrame(rf.feature_importances_, index = train_x.columns, columns = ['important']).sort_values(['important'], ascending = 0)"
   ]
  },
  {
   "cell_type": "code",
   "execution_count": 201,
   "id": "ee08b442-0eb4-439a-8ad3-f1247bb22e79",
   "metadata": {
    "collapsed": true,
    "jupyter": {
     "outputs_hidden": true
    },
    "tags": []
   },
   "outputs": [
    {
     "data": {
      "text/html": [
       "<div>\n",
       "<style scoped>\n",
       "    .dataframe tbody tr th:only-of-type {\n",
       "        vertical-align: middle;\n",
       "    }\n",
       "\n",
       "    .dataframe tbody tr th {\n",
       "        vertical-align: top;\n",
       "    }\n",
       "\n",
       "    .dataframe thead th {\n",
       "        text-align: right;\n",
       "    }\n",
       "</style>\n",
       "<table border=\"1\" class=\"dataframe\">\n",
       "  <thead>\n",
       "    <tr style=\"text-align: right;\">\n",
       "      <th></th>\n",
       "      <th>important</th>\n",
       "    </tr>\n",
       "  </thead>\n",
       "  <tbody>\n",
       "    <tr>\n",
       "      <th>CANAL_REGISTRO</th>\n",
       "      <td>5.754275</td>\n",
       "    </tr>\n",
       "    <tr>\n",
       "      <th>IPCASOS</th>\n",
       "      <td>5.172991</td>\n",
       "    </tr>\n",
       "    <tr>\n",
       "      <th>TIPO_TELF_EXTRANJERO</th>\n",
       "      <td>5.025309</td>\n",
       "    </tr>\n",
       "    <tr>\n",
       "      <th>1A_DESCGRUPOPROD_PERF_PROMO</th>\n",
       "      <td>4.491553</td>\n",
       "    </tr>\n",
       "    <tr>\n",
       "      <th>TIPO_TELF_MOVIL</th>\n",
       "      <td>4.184476</td>\n",
       "    </tr>\n",
       "    <tr>\n",
       "      <th>TIPO_TELF_NO_PUBLICO</th>\n",
       "      <td>3.858445</td>\n",
       "    </tr>\n",
       "    <tr>\n",
       "      <th>1A_EMPCONSUL_SECTOR_SECUNDARIO</th>\n",
       "      <td>3.467692</td>\n",
       "    </tr>\n",
       "    <tr>\n",
       "      <th>1A_DESCGRUPOPROD_FICH_PROMO</th>\n",
       "      <td>3.411338</td>\n",
       "    </tr>\n",
       "    <tr>\n",
       "      <th>1A_EMPCONSUL_SECTOR_TERCIARIO</th>\n",
       "      <td>3.354710</td>\n",
       "    </tr>\n",
       "    <tr>\n",
       "      <th>FECHACONSUMO_MONTH</th>\n",
       "      <td>3.030370</td>\n",
       "    </tr>\n",
       "    <tr>\n",
       "      <th>FECHA_REGISTRO_MONTH</th>\n",
       "      <td>2.798779</td>\n",
       "    </tr>\n",
       "    <tr>\n",
       "      <th>TIPOEMAIL_GOOHOTYAHMAIL</th>\n",
       "      <td>2.797091</td>\n",
       "    </tr>\n",
       "    <tr>\n",
       "      <th>1A_EMPCONSUL_PROV_IDH</th>\n",
       "      <td>2.553578</td>\n",
       "    </tr>\n",
       "    <tr>\n",
       "      <th>1A_EMPCONSUL_PROV_DENS</th>\n",
       "      <td>2.410380</td>\n",
       "    </tr>\n",
       "    <tr>\n",
       "      <th>FECHA_REGISTRO_WEEKDAY</th>\n",
       "      <td>2.316359</td>\n",
       "    </tr>\n",
       "    <tr>\n",
       "      <th>1A_EMPCONSUL_SECTOR_QUINARIO</th>\n",
       "      <td>2.252789</td>\n",
       "    </tr>\n",
       "    <tr>\n",
       "      <th>IP_COLOMBIA</th>\n",
       "      <td>2.218666</td>\n",
       "    </tr>\n",
       "    <tr>\n",
       "      <th>FECHACONSUMO_WEEKDAY</th>\n",
       "      <td>2.172858</td>\n",
       "    </tr>\n",
       "    <tr>\n",
       "      <th>TIPOEMAIL_CORPORATIVO</th>\n",
       "      <td>1.868611</td>\n",
       "    </tr>\n",
       "    <tr>\n",
       "      <th>1A_EMPCONSUL_SECTOR_CUATERNARIO</th>\n",
       "      <td>1.842002</td>\n",
       "    </tr>\n",
       "    <tr>\n",
       "      <th>TIPOEMAIL_SINCLASIFICAR</th>\n",
       "      <td>1.835955</td>\n",
       "    </tr>\n",
       "    <tr>\n",
       "      <th>USU_DEPART_DEN_POB</th>\n",
       "      <td>1.825312</td>\n",
       "    </tr>\n",
       "    <tr>\n",
       "      <th>EMAIL_PERSONAL</th>\n",
       "      <td>1.655664</td>\n",
       "    </tr>\n",
       "    <tr>\n",
       "      <th>TIPOEMAIL_DOCENTE</th>\n",
       "      <td>1.651893</td>\n",
       "    </tr>\n",
       "    <tr>\n",
       "      <th>BONDAD_EMAIL</th>\n",
       "      <td>1.647870</td>\n",
       "    </tr>\n",
       "    <tr>\n",
       "      <th>IP_COUNTRY_PIB_Ingreso mediano alto</th>\n",
       "      <td>1.603898</td>\n",
       "    </tr>\n",
       "    <tr>\n",
       "      <th>USU_TIPO_EMPRESARIO INDIVIDUAL</th>\n",
       "      <td>1.567650</td>\n",
       "    </tr>\n",
       "    <tr>\n",
       "      <th>1A_EMPCONSUL_SECTOR_PRIMARIO</th>\n",
       "      <td>1.562805</td>\n",
       "    </tr>\n",
       "    <tr>\n",
       "      <th>IP_COUNTRY_IDH_NUM</th>\n",
       "      <td>1.417582</td>\n",
       "    </tr>\n",
       "    <tr>\n",
       "      <th>USU_DEPART_IDH</th>\n",
       "      <td>1.413413</td>\n",
       "    </tr>\n",
       "    <tr>\n",
       "      <th>USU_TAMANIO_MC</th>\n",
       "      <td>1.394042</td>\n",
       "    </tr>\n",
       "    <tr>\n",
       "      <th>1A_EMPCONSUL_SECTOR_SD</th>\n",
       "      <td>1.223300</td>\n",
       "    </tr>\n",
       "    <tr>\n",
       "      <th>1A_EMPCONSUL_EST_INACTIVA</th>\n",
       "      <td>1.020105</td>\n",
       "    </tr>\n",
       "  </tbody>\n",
       "</table>\n",
       "</div>"
      ],
      "text/plain": [
       "                                     important\n",
       "CANAL_REGISTRO                        5.754275\n",
       "IPCASOS                               5.172991\n",
       "TIPO_TELF_EXTRANJERO                  5.025309\n",
       "1A_DESCGRUPOPROD_PERF_PROMO           4.491553\n",
       "TIPO_TELF_MOVIL                       4.184476\n",
       "TIPO_TELF_NO_PUBLICO                  3.858445\n",
       "1A_EMPCONSUL_SECTOR_SECUNDARIO        3.467692\n",
       "1A_DESCGRUPOPROD_FICH_PROMO           3.411338\n",
       "1A_EMPCONSUL_SECTOR_TERCIARIO         3.354710\n",
       "FECHACONSUMO_MONTH                    3.030370\n",
       "FECHA_REGISTRO_MONTH                  2.798779\n",
       "TIPOEMAIL_GOOHOTYAHMAIL               2.797091\n",
       "1A_EMPCONSUL_PROV_IDH                 2.553578\n",
       "1A_EMPCONSUL_PROV_DENS                2.410380\n",
       "FECHA_REGISTRO_WEEKDAY                2.316359\n",
       "1A_EMPCONSUL_SECTOR_QUINARIO          2.252789\n",
       "IP_COLOMBIA                           2.218666\n",
       "FECHACONSUMO_WEEKDAY                  2.172858\n",
       "TIPOEMAIL_CORPORATIVO                 1.868611\n",
       "1A_EMPCONSUL_SECTOR_CUATERNARIO       1.842002\n",
       "TIPOEMAIL_SINCLASIFICAR               1.835955\n",
       "USU_DEPART_DEN_POB                    1.825312\n",
       "EMAIL_PERSONAL                        1.655664\n",
       "TIPOEMAIL_DOCENTE                     1.651893\n",
       "BONDAD_EMAIL                          1.647870\n",
       "IP_COUNTRY_PIB_Ingreso mediano alto   1.603898\n",
       "USU_TIPO_EMPRESARIO INDIVIDUAL        1.567650\n",
       "1A_EMPCONSUL_SECTOR_PRIMARIO          1.562805\n",
       "IP_COUNTRY_IDH_NUM                    1.417582\n",
       "USU_DEPART_IDH                        1.413413\n",
       "USU_TAMANIO_MC                        1.394042\n",
       "1A_EMPCONSUL_SECTOR_SD                1.223300\n",
       "1A_EMPCONSUL_EST_INACTIVA             1.020105"
      ]
     },
     "execution_count": 201,
     "metadata": {},
     "output_type": "execute_result"
    }
   ],
   "source": [
    "feature_importances[feature_importances['important'] > 0.01]*100"
   ]
  },
  {
   "cell_type": "code",
   "execution_count": 202,
   "id": "e35d8902-5d15-4a53-9572-c3cb331a9b5f",
   "metadata": {
    "tags": []
   },
   "outputs": [
    {
     "data": {
      "text/plain": [
       "(33, 1)"
      ]
     },
     "execution_count": 202,
     "metadata": {},
     "output_type": "execute_result"
    }
   ],
   "source": [
    "feature_importances[feature_importances['important'] > 0.01].shape"
   ]
  },
  {
   "cell_type": "markdown",
   "id": "d40a801f-467c-4de4-9a61-a26e8b63f359",
   "metadata": {},
   "source": [
    "---------------"
   ]
  },
  {
   "cell_type": "markdown",
   "id": "6940c09b-d3af-4613-bf83-a5fc0b4dd142",
   "metadata": {},
   "source": [
    "**EasyEnsembleClassifier**"
   ]
  },
  {
   "cell_type": "code",
   "execution_count": 237,
   "id": "95708da6-9200-464b-8a15-b3c903dbc5af",
   "metadata": {
    "tags": []
   },
   "outputs": [
    {
     "data": {
      "text/plain": [
       "EasyEnsembleClassifier(n_estimators=20, random_state=123,\n",
       "                       sampling_strategy='majority')"
      ]
     },
     "execution_count": 237,
     "metadata": {},
     "output_type": "execute_result"
    }
   ],
   "source": [
    "Easy = EasyEnsembleClassifier(sampling_strategy = 'majority',\n",
    "                              n_estimators = 20,\n",
    "                              replacement = False,\n",
    "                              random_state = 123)\n",
    "\n",
    "Easy.fit(train_x, train_y)"
   ]
  },
  {
   "cell_type": "code",
   "execution_count": 238,
   "id": "dff639f8-7407-42dc-a4db-5a2dafd8a59e",
   "metadata": {
    "tags": []
   },
   "outputs": [
    {
     "data": {
      "image/png": "[encoded data removed]",
      "text/plain": [
       "<Figure size 576x576 with 2 Axes>"
      ]
     },
     "metadata": {
      "needs_background": "light"
     },
     "output_type": "display_data"
    },
    {
     "name": "stdout",
     "output_type": "stream",
     "text": [
      "              precision    recall  f1-score   support\n",
      "\n",
      "           0       1.00      0.78      0.87    109507\n",
      "           1       0.02      0.73      0.04       783\n",
      "\n",
      "    accuracy                           0.78    110290\n",
      "   macro avg       0.51      0.75      0.46    110290\n",
      "weighted avg       0.99      0.78      0.87    110290\n",
      "\n"
     ]
    }
   ],
   "source": [
    "pred_y = Easy.predict(test_x)\n",
    "mostrar_resultados(test_y, pred_y)"
   ]
  },
  {
   "cell_type": "code",
   "execution_count": 239,
   "id": "3b7079f5-b181-4562-bea0-342cc2958243",
   "metadata": {},
   "outputs": [],
   "source": [
    "feature_importances = pd.DataFrame(rf.feature_importances_, index = train_x.columns, columns = ['important']).sort_values(['important'], ascending = 0)"
   ]
  },
  {
   "cell_type": "code",
   "execution_count": 240,
   "id": "84958839-0d91-4ccf-9674-1f3a72c4d5da",
   "metadata": {
    "collapsed": true,
    "jupyter": {
     "outputs_hidden": true
    },
    "tags": []
   },
   "outputs": [
    {
     "data": {
      "text/html": [
       "<div>\n",
       "<style scoped>\n",
       "    .dataframe tbody tr th:only-of-type {\n",
       "        vertical-align: middle;\n",
       "    }\n",
       "\n",
       "    .dataframe tbody tr th {\n",
       "        vertical-align: top;\n",
       "    }\n",
       "\n",
       "    .dataframe thead th {\n",
       "        text-align: right;\n",
       "    }\n",
       "</style>\n",
       "<table border=\"1\" class=\"dataframe\">\n",
       "  <thead>\n",
       "    <tr style=\"text-align: right;\">\n",
       "      <th></th>\n",
       "      <th>important</th>\n",
       "    </tr>\n",
       "  </thead>\n",
       "  <tbody>\n",
       "    <tr>\n",
       "      <th>TIPO_TELF_EXTRANJERO</th>\n",
       "      <td>5.933464</td>\n",
       "    </tr>\n",
       "    <tr>\n",
       "      <th>CANAL_REGISTRO</th>\n",
       "      <td>5.394562</td>\n",
       "    </tr>\n",
       "    <tr>\n",
       "      <th>IPCASOS</th>\n",
       "      <td>4.848905</td>\n",
       "    </tr>\n",
       "    <tr>\n",
       "      <th>TIPO_TELF_NO_PUBLICO</th>\n",
       "      <td>3.901182</td>\n",
       "    </tr>\n",
       "    <tr>\n",
       "      <th>TIPO_TELF_MOVIL</th>\n",
       "      <td>3.732873</td>\n",
       "    </tr>\n",
       "    <tr>\n",
       "      <th>1A_DESCGRUPOPROD_PERF_PROMO</th>\n",
       "      <td>3.545674</td>\n",
       "    </tr>\n",
       "    <tr>\n",
       "      <th>1A_EMPCONSUL_SECTOR_TERCIARIO</th>\n",
       "      <td>3.531911</td>\n",
       "    </tr>\n",
       "    <tr>\n",
       "      <th>1A_EMPCONSUL_SECTOR_SECUNDARIO</th>\n",
       "      <td>3.333407</td>\n",
       "    </tr>\n",
       "    <tr>\n",
       "      <th>FECHACONSUMO_MONTH</th>\n",
       "      <td>3.040901</td>\n",
       "    </tr>\n",
       "    <tr>\n",
       "      <th>TIPOEMAIL_GOOHOTYAHMAIL</th>\n",
       "      <td>3.031273</td>\n",
       "    </tr>\n",
       "    <tr>\n",
       "      <th>1A_DESCGRUPOPROD_FICH_PROMO</th>\n",
       "      <td>2.927222</td>\n",
       "    </tr>\n",
       "    <tr>\n",
       "      <th>FECHA_REGISTRO_MONTH</th>\n",
       "      <td>2.791393</td>\n",
       "    </tr>\n",
       "    <tr>\n",
       "      <th>1A_EMPCONSUL_PROV_DENS</th>\n",
       "      <td>2.597955</td>\n",
       "    </tr>\n",
       "    <tr>\n",
       "      <th>1A_EMPCONSUL_PROV_IDH</th>\n",
       "      <td>2.594715</td>\n",
       "    </tr>\n",
       "    <tr>\n",
       "      <th>1A_EMPCONSUL_SECTOR_QUINARIO</th>\n",
       "      <td>2.592218</td>\n",
       "    </tr>\n",
       "    <tr>\n",
       "      <th>FECHACONSUMO_WEEKDAY</th>\n",
       "      <td>2.408673</td>\n",
       "    </tr>\n",
       "    <tr>\n",
       "      <th>FECHA_REGISTRO_WEEKDAY</th>\n",
       "      <td>2.362744</td>\n",
       "    </tr>\n",
       "    <tr>\n",
       "      <th>IP_COLOMBIA</th>\n",
       "      <td>2.255362</td>\n",
       "    </tr>\n",
       "    <tr>\n",
       "      <th>USU_DEPART_DEN_POB</th>\n",
       "      <td>2.036080</td>\n",
       "    </tr>\n",
       "    <tr>\n",
       "      <th>USU_TIPO_EMPRESARIO INDIVIDUAL</th>\n",
       "      <td>1.913314</td>\n",
       "    </tr>\n",
       "    <tr>\n",
       "      <th>TIPOEMAIL_CORPORATIVO</th>\n",
       "      <td>1.884743</td>\n",
       "    </tr>\n",
       "    <tr>\n",
       "      <th>TIPOEMAIL_DOCENTE</th>\n",
       "      <td>1.819528</td>\n",
       "    </tr>\n",
       "    <tr>\n",
       "      <th>BONDAD_EMAIL</th>\n",
       "      <td>1.675287</td>\n",
       "    </tr>\n",
       "    <tr>\n",
       "      <th>1A_EMPCONSUL_SECTOR_CUATERNARIO</th>\n",
       "      <td>1.666383</td>\n",
       "    </tr>\n",
       "    <tr>\n",
       "      <th>TIPOEMAIL_SINCLASIFICAR</th>\n",
       "      <td>1.549048</td>\n",
       "    </tr>\n",
       "    <tr>\n",
       "      <th>IP_COUNTRY_PIB_Ingreso mediano alto</th>\n",
       "      <td>1.548300</td>\n",
       "    </tr>\n",
       "    <tr>\n",
       "      <th>IP_COUNTRY_IDH_NUM</th>\n",
       "      <td>1.493934</td>\n",
       "    </tr>\n",
       "    <tr>\n",
       "      <th>USU_DEPART_IDH</th>\n",
       "      <td>1.444441</td>\n",
       "    </tr>\n",
       "    <tr>\n",
       "      <th>1A_EMPCONSUL_EST_INACTIVA</th>\n",
       "      <td>1.440866</td>\n",
       "    </tr>\n",
       "    <tr>\n",
       "      <th>EMAIL_PERSONAL</th>\n",
       "      <td>1.376554</td>\n",
       "    </tr>\n",
       "    <tr>\n",
       "      <th>USU_TAMANIO_MC</th>\n",
       "      <td>1.373380</td>\n",
       "    </tr>\n",
       "    <tr>\n",
       "      <th>1A_EMPCONSUL_SECTOR_PRIMARIO</th>\n",
       "      <td>1.307309</td>\n",
       "    </tr>\n",
       "    <tr>\n",
       "      <th>1A_EMPCONSUL_SECTOR_SD</th>\n",
       "      <td>1.292936</td>\n",
       "    </tr>\n",
       "  </tbody>\n",
       "</table>\n",
       "</div>"
      ],
      "text/plain": [
       "                                     important\n",
       "TIPO_TELF_EXTRANJERO                  5.933464\n",
       "CANAL_REGISTRO                        5.394562\n",
       "IPCASOS                               4.848905\n",
       "TIPO_TELF_NO_PUBLICO                  3.901182\n",
       "TIPO_TELF_MOVIL                       3.732873\n",
       "1A_DESCGRUPOPROD_PERF_PROMO           3.545674\n",
       "1A_EMPCONSUL_SECTOR_TERCIARIO         3.531911\n",
       "1A_EMPCONSUL_SECTOR_SECUNDARIO        3.333407\n",
       "FECHACONSUMO_MONTH                    3.040901\n",
       "TIPOEMAIL_GOOHOTYAHMAIL               3.031273\n",
       "1A_DESCGRUPOPROD_FICH_PROMO           2.927222\n",
       "FECHA_REGISTRO_MONTH                  2.791393\n",
       "1A_EMPCONSUL_PROV_DENS                2.597955\n",
       "1A_EMPCONSUL_PROV_IDH                 2.594715\n",
       "1A_EMPCONSUL_SECTOR_QUINARIO          2.592218\n",
       "FECHACONSUMO_WEEKDAY                  2.408673\n",
       "FECHA_REGISTRO_WEEKDAY                2.362744\n",
       "IP_COLOMBIA                           2.255362\n",
       "USU_DEPART_DEN_POB                    2.036080\n",
       "USU_TIPO_EMPRESARIO INDIVIDUAL        1.913314\n",
       "TIPOEMAIL_CORPORATIVO                 1.884743\n",
       "TIPOEMAIL_DOCENTE                     1.819528\n",
       "BONDAD_EMAIL                          1.675287\n",
       "1A_EMPCONSUL_SECTOR_CUATERNARIO       1.666383\n",
       "TIPOEMAIL_SINCLASIFICAR               1.549048\n",
       "IP_COUNTRY_PIB_Ingreso mediano alto   1.548300\n",
       "IP_COUNTRY_IDH_NUM                    1.493934\n",
       "USU_DEPART_IDH                        1.444441\n",
       "1A_EMPCONSUL_EST_INACTIVA             1.440866\n",
       "EMAIL_PERSONAL                        1.376554\n",
       "USU_TAMANIO_MC                        1.373380\n",
       "1A_EMPCONSUL_SECTOR_PRIMARIO          1.307309\n",
       "1A_EMPCONSUL_SECTOR_SD                1.292936"
      ]
     },
     "execution_count": 240,
     "metadata": {},
     "output_type": "execute_result"
    }
   ],
   "source": [
    "feature_importances[feature_importances['important'] > 0.01]*100"
   ]
  },
  {
   "cell_type": "code",
   "execution_count": 241,
   "id": "2ec52d92-863e-4b75-b05a-e4e418c53250",
   "metadata": {
    "tags": []
   },
   "outputs": [
    {
     "data": {
      "text/plain": [
       "(33, 1)"
      ]
     },
     "execution_count": 241,
     "metadata": {},
     "output_type": "execute_result"
    }
   ],
   "source": [
    "feature_importances[feature_importances['important'] > 0.01].shape"
   ]
  },
  {
   "cell_type": "markdown",
   "id": "1d4859fc-647f-4d93-b295-ea3e006bf961",
   "metadata": {},
   "source": [
    "---------------"
   ]
  },
  {
   "cell_type": "markdown",
   "id": "9dcdca36-38fd-4d39-98c9-9ce471ee5913",
   "metadata": {},
   "source": [
    "---------------"
   ]
  },
  {
   "cell_type": "markdown",
   "id": "81f2790f-6ea0-446b-88da-ec39d7758718",
   "metadata": {},
   "source": [
    "---------------"
   ]
  },
  {
   "cell_type": "markdown",
   "id": "034a2eec-d84c-4305-8de9-992c5b2da26b",
   "metadata": {},
   "source": [
    "# CONCLUSIONES"
   ]
  },
  {
   "cell_type": "markdown",
   "id": "e51b330a-de75-40a8-8275-f81fdb8432cf",
   "metadata": {},
   "source": [
    "Hemos podido ver claramente que tenemos **un dataset muy desbalanceado** no llegando la clase objetivo ni al 1% del total. Al fin y al cabo esto es más común de lo que suele parecer.\n",
    "\n",
    "Como bien hemos comentado y se ha visto a lo largo del proceso de desarrollo, la métrica de accuracy no nos es suficientemente útil, ya que el **Accuracy del modelo es básicamente el numero total de predicciones correctas dividido por el número total de predicciones**. Esto hace que al tener una clase muy desbalanceada, la clase que deseamos y que tenemos interés en clasificar, que será la minoritaria, no se clasifique correctamente a pesar de tener un accuracy muy bueno.  \n",
    "\n",
    "Por ello no nos centraremos en la métrica comentada, será necesario entender las métricas **precision y recall**.  \n",
    "* **Precision**. La Precisión de una clase define cuan confiable es un modelo en responder si un punto pertenece a esa clase.  \n",
    "* **Recall**. El Recall de una clase expresa cuan bien puede el modelo detectar a esa clase.  \n",
    "\n",
    "Con estas 2 métricas podemos tener varias combinaciones en función de sus valores que nos perimitirán escoger entre los diferentes resultados.\n",
    "* **Alta precision y alto recall**: el modelo maneja perfectamente esa clase.\n",
    "* **Alta precision y bajo recall**: el modelo no detecta la clase muy bien, pero cuando lo hace es altamente confiable.\n",
    "* **Baja precisión y alto recall**: La clase detecta bien la clase pero también incluye muestras de otras clases.\n",
    "* **Baja precisión y bajo recall**: El modelo no logra clasificar la clase correctamente.\n",
    "\n",
    "Una vez conocidas las metricas que utilizaremos, definiremos el algoritmo que utilizaremos en primera instancia. Utilizaremos el algoritmo RandomForest (RF). **El Random Forest es un algoritmo de clasificación supervisado**. Este algoritmo crea un conjunto de árboles de decisión y a partir de los resultados individuales de cada uno de ellos, se realiza una predicción del comportamiento de un individuo.\n",
    "\n",
    "**Random Forest funciona así:**\n",
    "\n",
    "1. Seleccionamos k features (columnas) de las m totales (siendo k menor a m) y creamos un árbol de decisión con esas k características.\n",
    "2. Creamos n árboles variando siempre la cantidad de k features y también podríamos variar la cantidad de muestras que pasamos a esos árboles (esto es conocido como “bootstrap sample”)\n",
    "3. Tomamos cada uno de los n árboles y le pedimos que hagan una misma clasificación. Guardamos el resultado de cada árbol obteniendo n salidas.\n",
    "4. Calculamos los votos obtenidos para cada “clase” seleccionada y consideraremos a la más votada como la clasificación final de nuestro “bosque”.\n",
    "\n",
    "Debido a la problemática que tenemos del dataset debemos combinar el algoritmo seleccionado con diferentes técnicas que permitan miticar la problemática del desbalanceo. A continuación se explicarán las diferentes técnicas utilizadas en el desarrollo:\n",
    "* **Ajuste de Parámetros del modelo**: Consiste en ajustar parametros ó metricas del propio algoritmo para intentar equilibrar a la clase minoritaria penalizando a la clase mayoritaria durante el entrenamiento. Ejemplos on ajuste de peso en árboles, también en logisticregression tenemos el parámetro class_weight= “balanced” que utilizaremos en este ejemplo. No todos los algoritmos tienen estas posibilidades. En redes neuronales por ejemplo podríamos ajustar la métrica de Loss para que penalice a las clases mayoritarias.\n",
    "* **Modificar el Dataset**: podemos eliminar muestras de la clase mayoritaria para reducirlo e intentar equilibrar la situación. Tiene como “peligroso” que podemos prescindir de muestras importantes, que brindan información y por lo tanto empeorar el modelo. Entonces para seleccionar qué muestras eliminar, deberíamos seguir algún criterio. También podríamos agregar nuevas filas con los mismos valores de las clases minoritarias, por ejemplo cuadriplicar nuestras 492 filas. Pero esto no sirve demasiado y podemos llevar al modelo a caer en overfitting.  \n",
    "* **Muestras artificiales**: podemos intentar crear muestras sintéticas (no idénticas) utilizando diversos algoritmos que intentan seguir la tendencia del grupo minoritario. Según el método, podemos mejorar los resultados. Lo peligroso de crear muestras sintéticas es que podemos alterar la distribución “natural” de esa clase y confundir al modelo en su clasificación.\n",
    "* **Balanced Ensemble Methods**: Utiliza las ventajas de hacer ensamble de métodos, es decir, entrenar diversos modelos y entre todos obtener el resultado final (por ejemplo “votando”) pero se asegura de tomar muestras de entrenamiento equilibradas.\n",
    "\n",
    "Realizaremos un modleo base sobre el que comparar los resultados. "
   ]
  },
  {
   "cell_type": "markdown",
   "id": "77d3bb7d-92e4-4136-86da-093701e69a08",
   "metadata": {},
   "source": [
    "| Modelo | Accuracy  | NoClientes - Precision  | NoClientes - Recall  | Clientes - Precision | Clientes - Recall | # Variables utilizadas\n",
    "|---|:---:|:---:|:---:|:---:|:---:|:---:|\n",
    "| Baseline | 0.99 | 0.99 | 1.00 |  0.36 | 0.03 | 21 |"
   ]
  },
  {
   "cell_type": "markdown",
   "id": "364d9cd7-7254-4d2a-8b59-cd79361079bf",
   "metadata": {},
   "source": [
    "Dentro de las diferentes técnicas para el tratamiento de datos desbalanceados, existen distintos algoritmos. En concreto se explicarán los utilizados en las tecnicas de **Muestras artificiales** y **Balanced Ensemble Methods**:\n",
    "\n",
    "1. **Muestras artificiales**:\n",
    "  * **Subsampling en la clase mayoritaria**.\n",
    "    * **RandomUnderSampler**: Submuestrear la(s) clase(s) mayoritaria(s) seleccionando muestras al azar con o sin reemplazo\n",
    "    * **NearMiss**: Clase para realizar submuestreo basado en métodos NearMiss.\n",
    "  * **Oversampling en la clase minoritaria**.\n",
    "    * **SMOTE**: Este objeto es una implementación de SMOTE - Técnica de sobremuestreo de minorías sintéticas.\n",
    "    * **RandomOverSampler**: Objetar la sobremuestra de la(s) clase(s) minoritaria(s) eligiendo muestras al azar con reemplazo. El bootstrap se puede generar de forma suavizada.\n",
    "  * **Combinamos OverSampling con Subsampling**.\n",
    "    * **SMOTE & RandomUnderSampler**\n",
    "    * **SMOTE & NearMiss**\n",
    "    * **SMOTE-Tomek**: Sobremuestreo usando SMOTE y limpieza usando enlaces Tomek. Combina sobremuestreo y submuestreo utilizando enlaces SMOTE y Tomek.\n",
    "    \n",
    "2. **Balanced Ensemble Methods**:\n",
    "  * **Ensamble de Modelos con Balanceo**\n",
    "    * **BalancedBaggingClassifier**: Un clasificador de ensacado con balanceo adicional. Esta implementación de Bagging es similar a la implementación de scikit-learn. Incluye un paso adicional para equilibrar el conjunto de entrenamiento en el momento de ajuste utilizando un muestreador determinado.\n",
    "    * **BalancedRandomForestClassifier**: Un clasificador de bosques aleatorio equilibrado. \n",
    "    * **RUSBoostClassifier**: Submuestreo aleatorio integrado en el aprendizaje de AdaBoost. Durante el aprendizaje, el problema del equilibrio de clases se alivia mediante un submuestreo aleatorio de la muestra en cada iteración del algoritmo de refuerzo.\n",
    "    * **EasyEnsembleClassifier**: El clasificador es un conjunto de alumnos de AdaBoost capacitados en diferentes muestras de boostrap equilibradas. El equilibrio se logra mediante submuestreo aleatorio."
   ]
  },
  {
   "cell_type": "markdown",
   "id": "718d01d0-aeae-48b7-9fb3-cfc5c4c6dd0c",
   "metadata": {},
   "source": [
    "### **Resultados** "
   ]
  },
  {
   "cell_type": "markdown",
   "id": "78d2c9ec-39a0-40b2-8521-30c89a8a4763",
   "metadata": {},
   "source": [
    "| Modelo |Tecnica |Algoritmo   | Accuracy  | NoClientes - Precision  | NoClientes - Recall  | Clientes - Precision | Clientes - Recall | # Variables utilizadas\n",
    "|---|:---:|:---:|:---:|:---:|:---:|:---:|:---:|:---:|\n",
    "| Modelo 1 | **Penalización para compensar** | | 0.99 | 0.99 | 1.00 | 0.08 | 0.03| 20 |\n",
    "| Modelo 2 | **Subsampling en la clase mayoritaria** | RandomUnderSampler | 0.75 | 1.00 | 0.75 | 0.02 | 0.71 | 24 |\n",
    "| Modelo 3 | **Subsampling en la clase mayoritaria** | NearMiss| 0.14 | 1.00 | 0.14 | 0.01 | 0.93 | 27 |\n",
    "| Modelo 4 | **Oversampling en la clase minoritaria** | SMOTE| 0.99 | 0.99 | 1.00 | 0.09 | 0.03 | 32 |\n",
    "| Modelo 5 | **Oversampling en la clase minoritaria** | RandomOverSampler| 0.99 | 0.99 | 1.00 | 0.08 | 0.05 | 22 |\n",
    "| Modelo 6 | **Combinamos OverSampling con Subsampling** | SMOTE & RandomUnderSampler | 0.99 | 0.99 | 1.00 | 0.16 | 0.07 | 33 |\n",
    "| Modelo 7 | **Combinamos OverSampling con Subsampling** | SMOTE & NearMiss | 0.99 | 0.99 | 1.00 | 0.13 | 0.05 | 33 |\n",
    "| Modelo 8 | **Combinamos OverSampling con Subsampling** | SMOTE-Tomek| 0.99 | 0.99 | 1.00 | 0.11 | 0.04 | 32 |\n",
    "| Modelo 9 | **Ensamble de Modelos con Balanceo** | BalancedBaggingClassifier| 0.82 | 1.00 | 0.83 | 0.03 | 0.65 | 32 |\n",
    "| Modelo 10 | **Ensamble de Modelos con Balanceo** | BalancedRandomForestClassifier| 0.76 | 1.00 | 0.76 | 0.02 | 0.76 | 33 |\n",
    "| Modelo 11 | **Ensamble de Modelos con Balanceo** | RUSBoostClassifier| 0.77 | 1.00 | 0.77 | 0.02 | 0.69 | 33 |\n",
    "| Modelo 12 | **Ensamble de Modelos con Balanceo** | EasyEnsembleClassifier| 0.78 | 1.00 | 0.78 | 0.02 | 0.72 | 33 |"
   ]
  },
  {
   "cell_type": "markdown",
   "id": "8bf717f5-f900-40d7-bfc8-32fb1a22be93",
   "metadata": {},
   "source": [
    "Tras los resultados obtenidos y expuestos, podemos concluir que la técnica que mejores resultados nos ha proporcionado es **El Ensamblre de modelos con balanceo**, en concreto el algoritmo seleccionado para nuestro modelo es **BalancedRandomForestClassifier** que a pesar de ser el algoritmo con menor accuracy de los cuatro algoritmos utilizados dentro de la técnica.\n",
    "\n",
    "Partiendo de la base que las tecnicas utilizadas tienen una **precision de la clase de clientes mala**, lo que nos centramos es en la métrica de recall, tanto en la clase minoritaria como mayoritaria, ya que como podemos comprobar, la técnica **NearMis** Tiene un muy buen recall de la clase clientes pero pésima de la clase no clietnes.\n",
    "\n",
    "La técnica que más equilibrio presenta en la métrica de recall es la técnica **BalancedRandomForestClassifier**. "
   ]
  }
 ],
 "metadata": {
  "kernelspec": {
   "display_name": "Python 3",
   "language": "python",
   "name": "python3"
  },
  "language_info": {
   "codemirror_mode": {
    "name": "ipython",
    "version": 3
   },
   "file_extension": ".py",
   "mimetype": "text/x-python",
   "name": "python",
   "nbconvert_exporter": "python",
   "pygments_lexer": "ipython3",
   "version": "3.8.8"
  }
 },
 "nbformat": 4,
 "nbformat_minor": 5
}
